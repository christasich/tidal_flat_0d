{
 "cells": [
  {
   "cell_type": "code",
   "execution_count": 1,
   "metadata": {},
   "outputs": [],
   "source": [
    "import pandas as pd\n",
    "import numpy as np\n",
    "from scipy.interpolate import InterpolatedUnivariateSpline\n",
    "from scipy.integrate import solve_ivp\n",
    "from matplotlib import pyplot as plt"
   ]
  },
  {
   "cell_type": "code",
   "execution_count": 245,
   "metadata": {},
   "outputs": [],
   "source": [
    "def below_platform(t, y, *args):\n",
    "    depth = tide_spline(t) - (y[1] + depth_cutoff)\n",
    "    return depth\n",
    "\n",
    "below_platform.terminal = True\n",
    "below_platform.direction = -1\n",
    "\n",
    "def solve_ode(t, y, *args):\n",
    "\n",
    "    # set initial values for concentration and elevation\n",
    "    init_conc = y[0]\n",
    "    init_elev = y[1]\n",
    "\n",
    "    # use spline function for tide height to set current water_height\n",
    "    water_height = tide_spline(t)\n",
    "    depth = water_height - init_elev #calculate current depth\n",
    "\n",
    "    # use derivative of tide spline to get current gradient and set H\n",
    "    dhdt = tide_spline_deriv(t)\n",
    "\n",
    "    if dhdt > 0:\n",
    "        H = 1\n",
    "    else:\n",
    "        H = 0\n",
    "\n",
    "    delta_conc = - (settle_rate * init_conc) / depth - H / depth * (init_conc - bound_conc) * dhdt\n",
    "    delta_elev = settle_rate * (init_conc + delta_conc) / bulk_dens\n",
    "\n",
    "    return [delta_conc, delta_elev]"
   ]
  },
  {
   "cell_type": "code",
   "execution_count": 260,
   "metadata": {},
   "outputs": [],
   "source": [
    "dt = 60\n",
    "length = 12.27 * 60 * 60\n",
    "amp = 2.0\n",
    "freq = 2 * np.pi / length\n",
    "t = np.arange(0, length, dt)\n",
    "h = amp * np.sin(freq * t)"
   ]
  },
  {
   "cell_type": "code",
   "execution_count": 261,
   "metadata": {},
   "outputs": [],
   "source": [
    "h_subset = h[h > 0]\n",
    "t_subset = t[h > 0]\n",
    "#t_subset = np.arange(0, len(h_subset))\n",
    "tide_spline = InterpolatedUnivariateSpline(t_subset, h_subset)\n",
    "tide_spline_deriv = tide_spline.derivative()"
   ]
  },
  {
   "cell_type": "code",
   "execution_count": 262,
   "metadata": {},
   "outputs": [],
   "source": [
    "settle_rate = 0.0011\n",
    "bound_conc = 0.8\n",
    "bulk_dens = 1100\n",
    "depth_cutoff = 0.001"
   ]
  },
  {
   "cell_type": "code",
   "execution_count": 263,
   "metadata": {},
   "outputs": [],
   "source": [
    "t_span = [t_subset[0], t_subset[-1]]\n",
    "init_vals = [0, 0]\n",
    "result = solve_ivp(fun=solve_ode, t_span=t_span, y0=init_vals, events=below_platform, args=(bound_conc, settle_rate, bulk_dens, depth_cutoff, dt))"
   ]
  },
  {
   "cell_type": "code",
   "execution_count": 264,
   "metadata": {},
   "outputs": [
    {
     "data": {
      "text/plain": [
       "[<matplotlib.lines.Line2D at 0x7f34bb7f45b0>]"
      ]
     },
     "execution_count": 264,
     "metadata": {},
     "output_type": "execute_result"
    },
    {
     "data": {
      "image/png": "[encoded data removed]",
      "text/plain": [
       "<Figure size 432x288 with 1 Axes>"
      ]
     },
     "metadata": {
      "needs_background": "light"
     },
     "output_type": "display_data"
    }
   ],
   "source": [
    "plt.plot(result.t, result.y[0])"
   ]
  },
  {
   "cell_type": "code",
   "execution_count": null,
   "metadata": {},
   "outputs": [],
   "source": []
  }
 ],
 "metadata": {
  "kernelspec": {
   "display_name": "Python 3",
   "language": "python",
   "name": "python3"
  },
  "language_info": {
   "codemirror_mode": {
    "name": "ipython",
    "version": 3
   },
   "file_extension": ".py",
   "mimetype": "text/x-python",
   "name": "python",
   "nbconvert_exporter": "python",
   "pygments_lexer": "ipython3",
   "version": "3.8.5"
  }
 },
 "nbformat": 4,
 "nbformat_minor": 4
}
