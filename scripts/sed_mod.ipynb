{
 "cells": [
  {
   "cell_type": "code",
   "execution_count": 1,
   "metadata": {},
   "outputs": [],
   "source": [
    "import pandas as pd\n",
    "import numpy as np\n",
    "import os\n",
    "import sys\n",
    "import subprocess\n",
    "import feather\n",
    "from tqdm.notebook import tqdm\n",
    "import multiprocessing as mp\n",
    "import itertools\n",
    "import inspect\n",
    "import shutil"
   ]
  },
  {
   "cell_type": "code",
   "execution_count": 2,
   "metadata": {},
   "outputs": [],
   "source": [
    "if sys.platform == 'linux':\n",
    "    os.chdir('/home/chris/projects/tidal_flat_0d/')"
   ]
  },
  {
   "cell_type": "code",
   "execution_count": 3,
   "metadata": {},
   "outputs": [],
   "source": [
    "def read_data(file, start, end, dt):\n",
    "    def parser(x):\n",
    "        return pd.datetime.strptime(x, '%d-%b-%Y %H:%M:%S')\n",
    "    df = pd.read_csv(file, parse_dates=[\n",
    "        'datetime'], date_parser=parser, index_col='datetime')\n",
    "    df1 = df[(df.index >= start) & (df.index < end)]\n",
    "    resample_df = df1.resample(dt).first()\n",
    "    return resample_df['pressure'] - np.mean(resample_df['pressure'])\n",
    "\n",
    "def rep_series(df, start, end):\n",
    "    freq = df.index.freq\n",
    "    index = pd.DatetimeIndex(start=start, end=rep_end, freq=freq)\n",
    "    values = np.tile(df.values, rep + 1)[:len(index)]\n",
    "    return pd.Series(data=values, index=index)\n",
    "\n",
    "def make_tides(run_length, dt, slr):\n",
    "    if not os.path.isfile('./data/interim/tides/tides-yr_{0}-dt_{1}-slr_{2}.feather'.format(run_length, int(pd.to_timedelta(dt).total_seconds()/60/60), '%.4f' % slr)):\n",
    "        Rscript = \"Rscript\"\n",
    "        path = os.path.join(os.getcwd(),'scripts/make_tides.R')\n",
    "        subprocess.run([Rscript, path, str(run_length), str(dt), '%.4f' % slr, os.getcwd()])\n",
    "    \n",
    "    tides = feather.read_dataframe('./data/interim/tides/tides-yr_{0}-dt_{1}-slr_{2}.feather'.format(run_length, int(pd.to_timedelta(dt).total_seconds()/60/60), '%.4f' % slr))\n",
    "    tides = tides.set_index('Datetime')\n",
    "    \n",
    "    return tides\n",
    "\n",
    "def calc_c0(h, dh, z, A, timestamp):\n",
    "    global ssc_by_week\n",
    "    week = timestamp.week\n",
    "    ssc = ssc_by_week.loc[week].values[0]\n",
    "    if (h > z and dh > 0):\n",
    "        return A * ssc\n",
    "    else:\n",
    "        return 0\n",
    "    \n",
    "def calc_c(c0, h, h_min_1, dh, c_min_1, z, ws, dt):\n",
    "    if (h > z and dh > 0):\n",
    "        return (c0 * (h-h_min_1) + c_min_1 * (h - z)) / (2 * h - h_min_1 - z + ws / dt)\n",
    "    elif (h > z and dh < 0):\n",
    "        return (c_min_1 * (h - z)) / (h - z + ws / dt)\n",
    "    else:\n",
    "        return 0\n",
    "    \n",
    "def calc_dz(c, ws, rho, dt):\n",
    "    return (ws * c / rho) * dt\n",
    "\n",
    "\n",
    "def calc_z(z_min_1, dz_min_1, dO, dP):\n",
    "    return z_min_1 + dz_min_1 + dO - dP"
   ]
  },
  {
   "cell_type": "code",
   "execution_count": 4,
   "metadata": {},
   "outputs": [],
   "source": [
    "def run_model(tides, gs, rho, dP, dO, dM, A, z0, n=None):\n",
    "    global ssc_by_week, num_runs\n",
    "    dt = tides.index[1] - tides.index[0]\n",
    "    dt_sec = dt.total_seconds()\n",
    "    ws = ((gs / 1000) ** 2 * 1650 * 9.8) / 0.018\n",
    "    columns = ['h', 'dh', 'C0', 'C', 'dz', 'z']\n",
    "    index = tides.index\n",
    "    df = pd.DataFrame(index=index, columns=columns)\n",
    "    df[:] = 0\n",
    "    df.iloc[:, 5][0:2] = z0\n",
    "    df.loc[:, 'h'] = tides.pressure\n",
    "    df.loc[:, 'dh'] = df.loc[:, 'h'].diff() / dt_sec\n",
    "    df.loc[:, 'inundated'] = 0\n",
    "    df.loc[:, 'inundation_depth'] = 0\n",
    "\n",
    "    for t in tqdm(tides.index[1:], \n",
    "                  desc='Run {0} of {1} [PID: {2}]'.format(n, num_runs, os.getpid()), \n",
    "                  total=len(tides.index[1:]), \n",
    "                  unit='steps'):\n",
    "        t_min_1 = t - dt\n",
    "        df.loc[t, 'z'] = calc_z(df.at[t_min_1, 'z'], df.at[t_min_1, 'dz'], 0, 0)\n",
    "        df.loc[t, 'C0'] = calc_c0(df.at[t, 'h'], df.at[t, 'dh'], df.at[t, 'z'], A, t)\n",
    "        df.loc[t, 'C'] = calc_c(df.at[t, 'C0'], df.at[t, 'h'], df.at[t_min_1, 'h'],\n",
    "                                df.at[t, 'dh'], df.at[t_min_1, 'C'], df.at[t, 'z'], ws, dt_sec)\n",
    "        df.loc[t, 'dz'] = calc_dz(df.at[t, 'C'], ws, rho, dt_sec)\n",
    "        if df.at[t, 'h'] - df.at[t, 'z'] >= 0:\n",
    "            df.loc[t, 'inundation_depth'] = df.at[t, 'h'] - df.at[t, 'z']\n",
    "        if df.loc[t, 'C0'] != 0:\n",
    "            df.loc[t, 'inundated'] = 1\n",
    "        \n",
    "    hours_inundated = (np.sum(df['inundated']) * dt).astype('timedelta64[h]').astype(int)\n",
    "    final_elevation = df.iloc[[-1]].z.values[0]\n",
    "        \n",
    "    return df, hours_inundated, final_elevation"
   ]
  },
  {
   "cell_type": "code",
   "execution_count": 5,
   "metadata": {},
   "outputs": [],
   "source": [
    "def make_combos(run_length, dt, slr, ssc_factor, gs, rho, dP, dO, dM, A, z0):\n",
    "    args = inspect.getfullargspec(make_combos).args\n",
    "    multi_args = []\n",
    "    n = 0\n",
    "    for arg in args:\n",
    "        if isinstance(eval(arg), (list, tuple, np.ndarray)):\n",
    "            multi_args.append(arg)\n",
    "    single_args = list(set(args) - set(multi_args))\n",
    "    dict1 = [{'{0}'.format(j) : eval(j)} for j in single_args]\n",
    "    dict2 = [dict(zip(multi_args, i)) for i in itertools.product(*[eval(x) for x in multi_args])]\n",
    "    for entry2 in dict2:\n",
    "        for entry1 in dict1:\n",
    "            entry2.update(entry1)\n",
    "        entry2.update({'n' : n})\n",
    "        n = n + 1\n",
    "\n",
    "    return dict2\n",
    "\n",
    "def parallel_parser(in_data):\n",
    "    global ssc_by_week\n",
    "\n",
    "    n = in_data['n']\n",
    "    \n",
    "    # make tides\n",
    "    run_length = in_data['run_length']\n",
    "    dt = in_data['dt']\n",
    "    slr = in_data['slr']\n",
    "    \n",
    "    tides = make_tides(run_length, dt, slr)\n",
    "    \n",
    "    # Load weeksly ssc\n",
    "    ssc_factor = in_data['ssc_factor']\n",
    "    \n",
    "    ssc_file = './data/processed/ssc_by_week.csv'\n",
    "    ssc_by_week = pd.read_csv(ssc_file, index_col=0) * ssc_factor\n",
    "    \n",
    "    # run model\n",
    "    \n",
    "    gs = in_data['gs']\n",
    "    rho = in_data['rho']\n",
    "    dP = in_data['dP']\n",
    "    dO = in_data['dO']\n",
    "    dM = in_data['dM']\n",
    "    A = in_data['A']\n",
    "    z0 = in_data['z0']\n",
    "    \n",
    "    df, hours_inundated, final_elevation = run_model(tides, gs, rho, dP, dO, dM, A, z0, n=n)\n",
    "    out_name = 'yr_{0}-slr_{1}-gs_{2}-rho_{3}-sscfactor_{4}-dP_{5}-dM_{6}-A_{7}-z0_{8}.feather'.format(run_length, slr, gs, rho, ssc_factor, dP, dM, A, z0)\n",
    "    feather.write_dataframe(df.reset_index(), './data/interim/results/{0}'.format(out_name))\n",
    "\n",
    "    return n"
   ]
  },
  {
   "cell_type": "code",
   "execution_count": 6,
   "metadata": {},
   "outputs": [],
   "source": [
    "parallel = False\n",
    "run_length = 20\n",
    "dt = '1 hour'\n",
    "slr = 0.002\n",
    "ssc_factor = 1\n",
    "gs = 0.035\n",
    "rho = 1400\n",
    "dP = 0\n",
    "dO = 0\n",
    "dM = 0.003\n",
    "A = 0.7\n",
    "z0 = 2\n",
    "if parallel == True:\n",
    "    poolsize = 65\n",
    "    chunksize = 1\n",
    "    slr = np.round(np.arange(0, 0.0325, 0.0025), 4)\n",
    "    ssc_factor = np.round(np.arange(0.25, 3.25, 0.25), 2)\n",
    "    #x = np.arange(0, 21, 1)\n",
    "    #ssc_factor = 0.1 * np.exp( np.log(3.0 / 0.1) * x)"
   ]
  },
  {
   "cell_type": "code",
   "execution_count": 7,
   "metadata": {},
   "outputs": [
    {
     "data": {
      "application/vnd.jupyter.widget-view+json": {
       "model_id": "36436ebb2c754a9987736309ceabf969",
       "version_major": 2,
       "version_minor": 0
      },
      "text/plain": [
       "HBox(children=(FloatProgress(value=0.0, description='Run 1 of 1 [PID: 14360]', max=175320.0, style=ProgressSty…"
      ]
     },
     "metadata": {},
     "output_type": "display_data"
    },
    {
     "name": "stdout",
     "output_type": "stream",
     "text": [
      "\n"
     ]
    }
   ],
   "source": [
    "if parallel == True:\n",
    "    \n",
    "    model_runs = make_combos(run_length, dt, slr, ssc_factor, gs, rho, dP, dO, dM, A, z0)\n",
    "    num_runs = len(model_runs)\n",
    "    \n",
    "    with mp.Pool(poolsize) as pool:\n",
    "        for result in pool.imap_unordered(parallel_parser, model_runs, chunksize=chunksize):\n",
    "            pass\n",
    "        \n",
    "else:\n",
    "    tides = make_tides(run_length, dt, slr)\n",
    "    ssc_file = './data/processed/ssc_by_week.csv'\n",
    "    ssc_by_week = pd.read_csv(ssc_file, index_col=0) * ssc_factor\n",
    "    num_runs = 1\n",
    "\n",
    "    df, hours_inundated, final_elevation = run_model(tides, gs, rho, dP, dO, dM, A, z0, n=1)\n",
    "    out_name = 'yr_{0}-slr_{1}-gs_{2}-rho_{3}-sscfactor_{4}-dP_{5}-dM_{6}-A_{7}-z0_{8}.feather'.format(run_length, slr, gs, rho, ssc_factor, dP, dM, A, z0)\n",
    "    feather.write_dataframe(df.reset_index(), './data/interim/results/{0}'.format(out_name))"
   ]
  }
 ],
 "metadata": {
  "kernelspec": {
   "display_name": "Python (default)",
   "language": "python",
   "name": "python3"
  },
  "language_info": {
   "codemirror_mode": {
    "name": "ipython",
    "version": 3
   },
   "file_extension": ".py",
   "mimetype": "text/x-python",
   "name": "python",
   "nbconvert_exporter": "python",
   "pygments_lexer": "ipython3",
   "version": "3.7.6"
  },
  "widgets": {
   "application/vnd.jupyter.widget-state+json": {
    "state": {
     "00135a3da133452abba730c8ba17d2de": {
      "model_module": "@jupyter-widgets/controls",
      "model_module_version": "1.5.0",
      "model_name": "ProgressStyleModel",
      "state": {
       "description_width": "initial"
      }
     },
     "0058755ec4314dd68ac064c71bea6912": {
      "model_module": "@jupyter-widgets/controls",
      "model_module_version": "1.5.0",
      "model_name": "DescriptionStyleModel",
      "state": {
       "description_width": ""
      }
     },
     "005d656d43314ad486f556811ff368fe": {
      "model_module": "@jupyter-widgets/controls",
      "model_module_version": "1.5.0",
      "model_name": "DescriptionStyleModel",
      "state": {
       "description_width": ""
      }
     },
     "0075626aefee4e5f88db65093790205b": {
      "model_module": "@jupyter-widgets/controls",
      "model_module_version": "1.5.0",
      "model_name": "ProgressStyleModel",
      "state": {
       "description_width": "initial"
      }
     },
     "008b2885272a470aa2776911f7d94cd0": {
      "model_module": "@jupyter-widgets/controls",
      "model_module_version": "1.5.0",
      "model_name": "HBoxModel",
      "state": {
       "children": [
        "IPY_MODEL_e21a618c2f3f4829a97ad79d3b3192f7",
        "IPY_MODEL_38eb8de1df914d1ea09b319e3a3e0039"
       ],
       "layout": "IPY_MODEL_27ac92ba1b1b4b71a2962d29022cb245"
      }
     },
     "0093451a7cd04ecd8491a73d01685eda": {
      "model_module": "@jupyter-widgets/controls",
      "model_module_version": "1.5.0",
      "model_name": "ProgressStyleModel",
      "state": {
       "description_width": "initial"
      }
     },
     "00c244cec8ff44a3bf01b790c4de9d4f": {
      "model_module": "@jupyter-widgets/base",
      "model_module_version": "1.2.0",
      "model_name": "LayoutModel",
      "state": {}
     },
     "00cdb0862ed642458673b0831ab856fa": {
      "model_module": "@jupyter-widgets/base",
      "model_module_version": "1.2.0",
      "model_name": "LayoutModel",
      "state": {}
     },
     "00da85a8490e4a8fbb6b0b69754eea60": {
      "model_module": "@jupyter-widgets/base",
      "model_module_version": "1.2.0",
      "model_name": "LayoutModel",
      "state": {}
     },
     "010e25fc19954d2580db50ca41b3a621": {
      "model_module": "@jupyter-widgets/controls",
      "model_module_version": "1.5.0",
      "model_name": "DescriptionStyleModel",
      "state": {
       "description_width": ""
      }
     },
     "0157d4ce1c034647aef30699585e7d31": {
      "model_module": "@jupyter-widgets/controls",
      "model_module_version": "1.5.0",
      "model_name": "HTMLModel",
      "state": {
       "layout": "IPY_MODEL_89bf87c4a60d42f5904c2aa2e190a96f",
       "style": "IPY_MODEL_8e09570fde6649b6a266314b9d15ce5b",
       "value": " 8760/8760 [00:30&lt;00:00, 290.93steps/s]"
      }
     },
     "018a48e8dec348b697371e031fe8ad0b": {
      "model_module": "@jupyter-widgets/base",
      "model_module_version": "1.2.0",
      "model_name": "LayoutModel",
      "state": {}
     },
     "018c40a80f4b40eaa09cb2230d2c6f38": {
      "model_module": "@jupyter-widgets/base",
      "model_module_version": "1.2.0",
      "model_name": "LayoutModel",
      "state": {}
     },
     "0190a2edbb574fd3ae70ac9b9804ead4": {
      "model_module": "@jupyter-widgets/base",
      "model_module_version": "1.2.0",
      "model_name": "LayoutModel",
      "state": {}
     },
     "01cdf13599b54811b46788ac95dc4ddc": {
      "model_module": "@jupyter-widgets/base",
      "model_module_version": "1.2.0",
      "model_name": "LayoutModel",
      "state": {}
     },
     "01cf7c68f8da486b9c10b44f80042cac": {
      "model_module": "@jupyter-widgets/base",
      "model_module_version": "1.2.0",
      "model_name": "LayoutModel",
      "state": {}
     },
     "01d6812bfe7345bd90e1aa5b4485ae41": {
      "model_module": "@jupyter-widgets/controls",
      "model_module_version": "1.5.0",
      "model_name": "DescriptionStyleModel",
      "state": {
       "description_width": ""
      }
     },
     "01d6feadf3834d2ea6b423fd897331e3": {
      "model_module": "@jupyter-widgets/base",
      "model_module_version": "1.2.0",
      "model_name": "LayoutModel",
      "state": {}
     },
     "01de28db83424b3bbeb0238dc213434d": {
      "model_module": "@jupyter-widgets/controls",
      "model_module_version": "1.5.0",
      "model_name": "HBoxModel",
      "state": {
       "children": [
        "IPY_MODEL_ac8d95d296084a5a893b96848493a059",
        "IPY_MODEL_7ab7ea59d0aa4693bf3d0e932cc61b4e"
       ],
       "layout": "IPY_MODEL_937cf79dee364482ac7c77cc2d358b5f"
      }
     },
     "01f562e2cc29430ba10261f0dff4a016": {
      "model_module": "@jupyter-widgets/controls",
      "model_module_version": "1.5.0",
      "model_name": "HTMLModel",
      "state": {
       "layout": "IPY_MODEL_c25942daad2648c3b9fd44b4702dfdd3",
       "style": "IPY_MODEL_4ed42fb537a64425ac2ce5503d13a860",
       "value": " 7020/8760 [00:23&lt;00:06, 289.94steps/s]"
      }
     },
     "0223d3cc3e5c45afa3c245c5c396f071": {
      "model_module": "@jupyter-widgets/controls",
      "model_module_version": "1.5.0",
      "model_name": "HTMLModel",
      "state": {
       "layout": "IPY_MODEL_4e6a91863aa9488d80a3bb509e24ab7c",
       "style": "IPY_MODEL_9eb05dd7104e479b8119deace5c3c796",
       "value": " 72309/175320 [3:18:18&lt;5:23:03,  5.31steps/s]"
      }
     },
     "023dc159e9764c5e92282eceaab9cab9": {
      "model_module": "@jupyter-widgets/controls",
      "model_module_version": "1.5.0",
      "model_name": "HTMLModel",
      "state": {
       "layout": "IPY_MODEL_2b0b044d3b0649f4986101a07a9ecbad",
       "style": "IPY_MODEL_81edd6dce1ba44779e294bb3d4fae0b6",
       "value": " 8760/8760 [00:30&lt;00:00, 290.98steps/s]"
      }
     },
     "0242cd78453d4625a1109f5ed7398120": {
      "model_module": "@jupyter-widgets/controls",
      "model_module_version": "1.5.0",
      "model_name": "HTMLModel",
      "state": {
       "layout": "IPY_MODEL_ed8eb5efada849739caef8c41ce43e93",
       "style": "IPY_MODEL_8dda8fb668f9495ebad6b4ddc8b32393",
       "value": " 8760/8760 [00:31&lt;00:00, 277.91steps/s]"
      }
     },
     "026a636dd8a047d0992b12cc32a8334e": {
      "model_module": "@jupyter-widgets/controls",
      "model_module_version": "1.5.0",
      "model_name": "FloatProgressModel",
      "state": {
       "bar_style": "success",
       "description": "Run 13 of 156 [PID: 45690]: 100%",
       "layout": "IPY_MODEL_c606073ba99f40119c0fc53cbdace2c5",
       "max": 8760,
       "style": "IPY_MODEL_f7bd880d31e248278e17e09942ad0ee5",
       "value": 8760
      }
     },
     "0277d21610da4dee813f7924b19c9485": {
      "model_module": "@jupyter-widgets/base",
      "model_module_version": "1.2.0",
      "model_name": "LayoutModel",
      "state": {}
     },
     "02a1cddeb3e249ba9c90926781abd196": {
      "model_module": "@jupyter-widgets/base",
      "model_module_version": "1.2.0",
      "model_name": "LayoutModel",
      "state": {}
     },
     "02af441380df47719b3081f939899e73": {
      "model_module": "@jupyter-widgets/controls",
      "model_module_version": "1.5.0",
      "model_name": "DescriptionStyleModel",
      "state": {
       "description_width": ""
      }
     },
     "02f7d7a039634c6db7e9d196fdd76d2e": {
      "model_module": "@jupyter-widgets/base",
      "model_module_version": "1.2.0",
      "model_name": "LayoutModel",
      "state": {}
     },
     "02fe88f7e27e4b16a861281396368e16": {
      "model_module": "@jupyter-widgets/controls",
      "model_module_version": "1.5.0",
      "model_name": "ProgressStyleModel",
      "state": {
       "description_width": "initial"
      }
     },
     "0314f054869844d390515c5f4203cbc0": {
      "model_module": "@jupyter-widgets/base",
      "model_module_version": "1.2.0",
      "model_name": "LayoutModel",
      "state": {}
     },
     "031e969bc54e446c9f0db88ca13026ec": {
      "model_module": "@jupyter-widgets/controls",
      "model_module_version": "1.5.0",
      "model_name": "ProgressStyleModel",
      "state": {
       "description_width": "initial"
      }
     },
     "036c3ed80a2f4af0aa2fd45f0a435fa5": {
      "model_module": "@jupyter-widgets/controls",
      "model_module_version": "1.5.0",
      "model_name": "DescriptionStyleModel",
      "state": {
       "description_width": ""
      }
     },
     "037f536eaa0d42028f1d1adda80922e1": {
      "model_module": "@jupyter-widgets/base",
      "model_module_version": "1.2.0",
      "model_name": "LayoutModel",
      "state": {}
     },
     "0391300d71e9468cae35c58f7fc3d138": {
      "model_module": "@jupyter-widgets/controls",
      "model_module_version": "1.5.0",
      "model_name": "HBoxModel",
      "state": {
       "children": [
        "IPY_MODEL_ab6fa72468a84e579eeea48fbb5fbdfb",
        "IPY_MODEL_8a18d4ee95554a7399c56e0517980c66"
       ],
       "layout": "IPY_MODEL_cf28871d44ce4bb8a76793560fe3ec05"
      }
     },
     "039ede4c93ed465f8165262876346234": {
      "model_module": "@jupyter-widgets/controls",
      "model_module_version": "1.5.0",
      "model_name": "HBoxModel",
      "state": {
       "children": [
        "IPY_MODEL_a04874f129bd43efb92454cb4c7a675e",
        "IPY_MODEL_3b5a1259c67d4a549c291bec9f6027db"
       ],
       "layout": "IPY_MODEL_47cff5b9d3a9444cb7cb203a2961e710"
      }
     },
     "039faaef435e40f1810ed3f9c25eea0b": {
      "model_module": "@jupyter-widgets/base",
      "model_module_version": "1.2.0",
      "model_name": "LayoutModel",
      "state": {}
     },
     "03b1086954e24258b0695754a7d1a45c": {
      "model_module": "@jupyter-widgets/controls",
      "model_module_version": "1.5.0",
      "model_name": "ProgressStyleModel",
      "state": {
       "description_width": "initial"
      }
     },
     "03d77665f7bb41ab82d8b164759324d6": {
      "model_module": "@jupyter-widgets/base",
      "model_module_version": "1.2.0",
      "model_name": "LayoutModel",
      "state": {}
     },
     "03e12490e01b4c99ad7c6c0410535e9c": {
      "model_module": "@jupyter-widgets/controls",
      "model_module_version": "1.5.0",
      "model_name": "DescriptionStyleModel",
      "state": {
       "description_width": ""
      }
     },
     "03f221b63dd2481aad903384e9f069ab": {
      "model_module": "@jupyter-widgets/controls",
      "model_module_version": "1.5.0",
      "model_name": "HBoxModel",
      "state": {
       "children": [
        "IPY_MODEL_7204c4fd077b4238af614853ddb27b05",
        "IPY_MODEL_23273e432f8346d791a0af7d056b7fa1"
       ],
       "layout": "IPY_MODEL_333d254f51cc46e588c876b83449b433"
      }
     },
     "03fac8e35c6e4d3cb9132b30428bdca9": {
      "model_module": "@jupyter-widgets/base",
      "model_module_version": "1.2.0",
      "model_name": "LayoutModel",
      "state": {}
     },
     "040012f183a845d3b1af8ecf94e19b3f": {
      "model_module": "@jupyter-widgets/base",
      "model_module_version": "1.2.0",
      "model_name": "LayoutModel",
      "state": {}
     },
     "040b7f7b6e7f4db68d559495349a5c72": {
      "model_module": "@jupyter-widgets/base",
      "model_module_version": "1.2.0",
      "model_name": "LayoutModel",
      "state": {}
     },
     "043a7d74ff514d96951073cb849c31d4": {
      "model_module": "@jupyter-widgets/base",
      "model_module_version": "1.2.0",
      "model_name": "LayoutModel",
      "state": {}
     },
     "043a8b7908254c2a9d42f0e82ba3982a": {
      "model_module": "@jupyter-widgets/base",
      "model_module_version": "1.2.0",
      "model_name": "LayoutModel",
      "state": {}
     },
     "0473a194493f4560a11559d3b7f94865": {
      "model_module": "@jupyter-widgets/controls",
      "model_module_version": "1.5.0",
      "model_name": "DescriptionStyleModel",
      "state": {
       "description_width": ""
      }
     },
     "0490a9f7930d44588e73891f6de9c950": {
      "model_module": "@jupyter-widgets/controls",
      "model_module_version": "1.5.0",
      "model_name": "ProgressStyleModel",
      "state": {
       "description_width": "initial"
      }
     },
     "049913ec6fb14d3686848cd18d447704": {
      "model_module": "@jupyter-widgets/base",
      "model_module_version": "1.2.0",
      "model_name": "LayoutModel",
      "state": {}
     },
     "04b9e21b2b294929be9e5a4e34502115": {
      "model_module": "@jupyter-widgets/controls",
      "model_module_version": "1.5.0",
      "model_name": "HBoxModel",
      "state": {
       "children": [
        "IPY_MODEL_0960725088a14787939655ad9f1e7a19",
        "IPY_MODEL_e13c7b8ac63d437ea942fac1d62805dc"
       ],
       "layout": "IPY_MODEL_b11fbdbc0f384d03ab5d10fcc327e69d"
      }
     },
     "04c125ea36e04e4eaecd9ea9ba588083": {
      "model_module": "@jupyter-widgets/controls",
      "model_module_version": "1.5.0",
      "model_name": "FloatProgressModel",
      "state": {
       "bar_style": "success",
       "description": "100%",
       "layout": "IPY_MODEL_b0bcbfbb830442828892fd36d31ae86f",
       "max": 8760,
       "style": "IPY_MODEL_4a1b53f5fe9b4e8690e8fe9ed95e379e",
       "value": 8760
      }
     },
     "04db9af1ab0c4654afd8b38e93581196": {
      "model_module": "@jupyter-widgets/controls",
      "model_module_version": "1.5.0",
      "model_name": "ProgressStyleModel",
      "state": {
       "description_width": "initial"
      }
     },
     "04df5345aa3c465faba0d35e61850c67": {
      "model_module": "@jupyter-widgets/controls",
      "model_module_version": "1.5.0",
      "model_name": "DescriptionStyleModel",
      "state": {
       "description_width": ""
      }
     },
     "04ebe57e81854853ab8090aa2beb86a5": {
      "model_module": "@jupyter-widgets/base",
      "model_module_version": "1.2.0",
      "model_name": "LayoutModel",
      "state": {}
     },
     "04f2147c94ce4fe9a4e9466d89e2fa11": {
      "model_module": "@jupyter-widgets/base",
      "model_module_version": "1.2.0",
      "model_name": "LayoutModel",
      "state": {}
     },
     "04fdbc9393714e8bbb38c820277b5247": {
      "model_module": "@jupyter-widgets/controls",
      "model_module_version": "1.5.0",
      "model_name": "HTMLModel",
      "state": {
       "layout": "IPY_MODEL_6f421e575b084edd860145614494d825",
       "style": "IPY_MODEL_5bb49d3e5a5a471ca3154d3f81dfb5bb",
       "value": " 8760/8760 [00:30&lt;00:00, 282.81steps/s]"
      }
     },
     "050bf9a497ad4c3cb6921beefab29e75": {
      "model_module": "@jupyter-widgets/controls",
      "model_module_version": "1.5.0",
      "model_name": "ProgressStyleModel",
      "state": {
       "description_width": "initial"
      }
     },
     "050ccd4b2e1d46fdb6ac5e4d879d34f6": {
      "model_module": "@jupyter-widgets/base",
      "model_module_version": "1.2.0",
      "model_name": "LayoutModel",
      "state": {}
     },
     "050e7e95b6b74bcd91d5c5f430d1963b": {
      "model_module": "@jupyter-widgets/controls",
      "model_module_version": "1.5.0",
      "model_name": "HTMLModel",
      "state": {
       "layout": "IPY_MODEL_7e218634537e4061955acaf907051b16",
       "style": "IPY_MODEL_40e9a979324f444a8f27e3bedba3d33e",
       "value": " 8760/8760 [00:29&lt;00:00, 294.97steps/s]"
      }
     },
     "0561b676a48b49c4a4920168bbc07257": {
      "model_module": "@jupyter-widgets/base",
      "model_module_version": "1.2.0",
      "model_name": "LayoutModel",
      "state": {}
     },
     "05ab38f0b3984aaabdfab691cee1125e": {
      "model_module": "@jupyter-widgets/controls",
      "model_module_version": "1.5.0",
      "model_name": "HBoxModel",
      "state": {
       "children": [
        "IPY_MODEL_078acdd92f0348d3ae42087322a10203",
        "IPY_MODEL_e2d935fe6d4a4a4a92f05d10bf9820b9"
       ],
       "layout": "IPY_MODEL_dd0394dd264d4466b471fffb1dce1986"
      }
     },
     "05b3758bddab4ab6a5189bbe0bf8ef40": {
      "model_module": "@jupyter-widgets/base",
      "model_module_version": "1.2.0",
      "model_name": "LayoutModel",
      "state": {}
     },
     "05df2231dc1747b1a799c45780495f8e": {
      "model_module": "@jupyter-widgets/controls",
      "model_module_version": "1.5.0",
      "model_name": "HTMLModel",
      "state": {
       "layout": "IPY_MODEL_8d54d7ebb60044a9a6545ae890f85c04",
       "style": "IPY_MODEL_3e5892da05c24f73ab475bf6fdeed91c",
       "value": " 8760/8760 [03:33&lt;00:00, 40.95steps/s]"
      }
     },
     "05f6b75c743e4e7cb41f7ae341bebde4": {
      "model_module": "@jupyter-widgets/base",
      "model_module_version": "1.2.0",
      "model_name": "LayoutModel",
      "state": {}
     },
     "0603d552c2aa4e809ea20b1270ef0841": {
      "model_module": "@jupyter-widgets/controls",
      "model_module_version": "1.5.0",
      "model_name": "FloatProgressModel",
      "state": {
       "bar_style": "danger",
       "description": "Run 25 of 156 [PID: 45690]:  25%",
       "layout": "IPY_MODEL_f7b087f3bbe74696b85a888bfb23efa4",
       "max": 8760,
       "style": "IPY_MODEL_064690d44b1b4b44b379ccc56585dbd6",
       "value": 2193
      }
     },
     "060bf68235aa46ee8d8eb344908d77f7": {
      "model_module": "@jupyter-widgets/controls",
      "model_module_version": "1.5.0",
      "model_name": "ProgressStyleModel",
      "state": {
       "description_width": "initial"
      }
     },
     "0615175bb8944493b60f44f0b1edf203": {
      "model_module": "@jupyter-widgets/controls",
      "model_module_version": "1.5.0",
      "model_name": "FloatProgressModel",
      "state": {
       "bar_style": "danger",
       "description": "poop:  12%",
       "layout": "IPY_MODEL_702ae23329d742bd81ab712dadfedef2",
       "max": 8760,
       "style": "IPY_MODEL_2926c75b01a844bd8e7b5f1e39717a84",
       "value": 1077
      }
     },
     "064690d44b1b4b44b379ccc56585dbd6": {
      "model_module": "@jupyter-widgets/controls",
      "model_module_version": "1.5.0",
      "model_name": "ProgressStyleModel",
      "state": {
       "description_width": "initial"
      }
     },
     "0657f0ff172944f7abf2968ef8818b3d": {
      "model_module": "@jupyter-widgets/base",
      "model_module_version": "1.2.0",
      "model_name": "LayoutModel",
      "state": {}
     },
     "065b2f4ea30b40a1a20803be659f53fb": {
      "model_module": "@jupyter-widgets/controls",
      "model_module_version": "1.5.0",
      "model_name": "ProgressStyleModel",
      "state": {
       "description_width": "initial"
      }
     },
     "066fa22d46524cea991f2c0760454696": {
      "model_module": "@jupyter-widgets/controls",
      "model_module_version": "1.5.0",
      "model_name": "HTMLModel",
      "state": {
       "layout": "IPY_MODEL_674f5f062da04482930258355bfd9115",
       "style": "IPY_MODEL_f55c34b6ec6c4c4b82d718da5a5cf05f",
       "value": " 8760/8760 [00:30&lt;00:00, 287.71steps/s]"
      }
     },
     "0670cfefc24940dcbcd6295b6dbfa8bc": {
      "model_module": "@jupyter-widgets/base",
      "model_module_version": "1.2.0",
      "model_name": "LayoutModel",
      "state": {}
     },
     "067c6f9147e54d1c83ef3b933974f43e": {
      "model_module": "@jupyter-widgets/base",
      "model_module_version": "1.2.0",
      "model_name": "LayoutModel",
      "state": {}
     },
     "06bd8e5d50c4480c9e6172dc7817737c": {
      "model_module": "@jupyter-widgets/controls",
      "model_module_version": "1.5.0",
      "model_name": "ProgressStyleModel",
      "state": {
       "description_width": "initial"
      }
     },
     "06cf3b768cad4ce3811f7ea47087870f": {
      "model_module": "@jupyter-widgets/controls",
      "model_module_version": "1.5.0",
      "model_name": "DescriptionStyleModel",
      "state": {
       "description_width": ""
      }
     },
     "06d4e0a2145c49229b500fd07fdd39aa": {
      "model_module": "@jupyter-widgets/controls",
      "model_module_version": "1.5.0",
      "model_name": "DescriptionStyleModel",
      "state": {
       "description_width": ""
      }
     },
     "06df9a2486ba4125bb89dc941746a3b5": {
      "model_module": "@jupyter-widgets/base",
      "model_module_version": "1.2.0",
      "model_name": "LayoutModel",
      "state": {}
     },
     "06f017c93b304d0aab8ae0d1467a94bf": {
      "model_module": "@jupyter-widgets/controls",
      "model_module_version": "1.5.0",
      "model_name": "HTMLModel",
      "state": {
       "layout": "IPY_MODEL_dae4c7650c1c458fb390de35e5818c9a",
       "style": "IPY_MODEL_ea70293f2b9d40539451dedf62dec3c0",
       "value": " 79649/175320 [3:20:44&lt;6:13:56,  4.26steps/s]"
      }
     },
     "06f50a6f292f4be19b8e70bceb499065": {
      "model_module": "@jupyter-widgets/base",
      "model_module_version": "1.2.0",
      "model_name": "LayoutModel",
      "state": {}
     },
     "072676659872427993f0319eb0169d0b": {
      "model_module": "@jupyter-widgets/base",
      "model_module_version": "1.2.0",
      "model_name": "LayoutModel",
      "state": {}
     },
     "0729d0e80d204e8ba47a3106fb49002c": {
      "model_module": "@jupyter-widgets/controls",
      "model_module_version": "1.5.0",
      "model_name": "DescriptionStyleModel",
      "state": {
       "description_width": ""
      }
     },
     "072e68f80c7e4c6583861560d6c28f7c": {
      "model_module": "@jupyter-widgets/controls",
      "model_module_version": "1.5.0",
      "model_name": "FloatProgressModel",
      "state": {
       "bar_style": "success",
       "description": "poop: 100%",
       "layout": "IPY_MODEL_da15adbb39a04526a1773ff4eee531da",
       "max": 8760,
       "style": "IPY_MODEL_710bdbe426ce487095f35b0eca596787",
       "value": 8760
      }
     },
     "072f8e334d2644c6bef6a1e5d6ce3367": {
      "model_module": "@jupyter-widgets/controls",
      "model_module_version": "1.5.0",
      "model_name": "HTMLModel",
      "state": {
       "layout": "IPY_MODEL_65a991fb26f44d819bc7ef3786f6af61",
       "style": "IPY_MODEL_7c08b75aefb14066bce541bdcde8d9f9",
       "value": " 1524/8760 [00:05&lt;00:25, 283.39steps/s]"
      }
     },
     "07477b7eb75843cdb231626e6068fa09": {
      "model_module": "@jupyter-widgets/controls",
      "model_module_version": "1.5.0",
      "model_name": "FloatProgressModel",
      "state": {
       "bar_style": "success",
       "description": "Run 12 of 156 [PID: 45694]: 100%",
       "layout": "IPY_MODEL_533f100915134d04ab8c6e0de4b57514",
       "max": 8760,
       "style": "IPY_MODEL_c59c2b231cee4641b1b5c2be92abd46f",
       "value": 8760
      }
     },
     "077ed77e9b7d45878bd907306b906863": {
      "model_module": "@jupyter-widgets/controls",
      "model_module_version": "1.5.0",
      "model_name": "DescriptionStyleModel",
      "state": {
       "description_width": ""
      }
     },
     "078acdd92f0348d3ae42087322a10203": {
      "model_module": "@jupyter-widgets/controls",
      "model_module_version": "1.5.0",
      "model_name": "FloatProgressModel",
      "state": {
       "description": "Run 90 of 156 [PID: 72840]:  51%",
       "layout": "IPY_MODEL_73803571b9014e778ebc73e95b75d6a8",
       "max": 175320,
       "style": "IPY_MODEL_b0638b4ace204633843011486e070d8f",
       "value": 88699
      }
     },
     "079c8a9ec2eb4f7caa3c0ea74289dcf8": {
      "model_module": "@jupyter-widgets/base",
      "model_module_version": "1.2.0",
      "model_name": "LayoutModel",
      "state": {}
     },
     "07aa4c72db7d48efbc46f5f653d9b20f": {
      "model_module": "@jupyter-widgets/controls",
      "model_module_version": "1.5.0",
      "model_name": "HBoxModel",
      "state": {
       "children": [
        "IPY_MODEL_c229f58883484b11b4ffcca4a8ef7a25",
        "IPY_MODEL_ab655826bdec4836873ed8cd953e2c4c"
       ],
       "layout": "IPY_MODEL_396b933fe81247f9b772ed1bf0a38369"
      }
     },
     "07c59dd70e3b4ae8a9a136271c808976": {
      "model_module": "@jupyter-widgets/base",
      "model_module_version": "1.2.0",
      "model_name": "LayoutModel",
      "state": {}
     },
     "07d67c96faf941019513113bcb30fa59": {
      "model_module": "@jupyter-widgets/controls",
      "model_module_version": "1.5.0",
      "model_name": "ProgressStyleModel",
      "state": {
       "description_width": "initial"
      }
     },
     "07eb037267264ec681a2d2f57c14a185": {
      "model_module": "@jupyter-widgets/controls",
      "model_module_version": "1.5.0",
      "model_name": "FloatProgressModel",
      "state": {
       "bar_style": "danger",
       "description": "Run 34 of 156 [PID: 45688]:  18%",
       "layout": "IPY_MODEL_c5423a98940d4408a7a74e405af99bd8",
       "max": 8760,
       "style": "IPY_MODEL_9ec982f652e540f28e51c0250b2a6e97",
       "value": 1608
      }
     },
     "0803709e95544cce908493ecc0f8c112": {
      "model_module": "@jupyter-widgets/base",
      "model_module_version": "1.2.0",
      "model_name": "LayoutModel",
      "state": {}
     },
     "0814d385a6694f56bfaeb9c38e1dd3af": {
      "model_module": "@jupyter-widgets/controls",
      "model_module_version": "1.5.0",
      "model_name": "HTMLModel",
      "state": {
       "layout": "IPY_MODEL_09809e261b264036a38b7f2ab32a0eb1",
       "style": "IPY_MODEL_2628b2a44eff44d18795e431b4c06155",
       "value": " 8760/8760 [00:30&lt;00:00, 291.59steps/s]"
      }
     },
     "0816dc5b5e5a4e46b47788c559ab92d8": {
      "model_module": "@jupyter-widgets/controls",
      "model_module_version": "1.5.0",
      "model_name": "HBoxModel",
      "state": {
       "children": [
        "IPY_MODEL_4a538ede07b14481a79dffcd04964163",
        "IPY_MODEL_9e737b11fa994d9bac8837a7a3346115"
       ],
       "layout": "IPY_MODEL_9f18de6823344c48a85ef4509eb4ee55"
      }
     },
     "081e06e5bde14686a915e3fb60a3b539": {
      "model_module": "@jupyter-widgets/base",
      "model_module_version": "1.2.0",
      "model_name": "LayoutModel",
      "state": {}
     },
     "0848b338656f46cbad0d314dabddb43f": {
      "model_module": "@jupyter-widgets/controls",
      "model_module_version": "1.5.0",
      "model_name": "DescriptionStyleModel",
      "state": {
       "description_width": ""
      }
     },
     "0875cc648a7e490983d9dc0465920166": {
      "model_module": "@jupyter-widgets/controls",
      "model_module_version": "1.5.0",
      "model_name": "DescriptionStyleModel",
      "state": {
       "description_width": ""
      }
     },
     "0877e30c2aa7420db16f629d24383a73": {
      "model_module": "@jupyter-widgets/controls",
      "model_module_version": "1.5.0",
      "model_name": "FloatProgressModel",
      "state": {
       "bar_style": "success",
       "description": "100%",
       "layout": "IPY_MODEL_412f821bff2b42deb8c4ab7db5b13961",
       "max": 8760,
       "style": "IPY_MODEL_1d97b411ec2745edbd5d9fb9bded52a9",
       "value": 8760
      }
     },
     "088d7255b72c4f928e33e73491611b68": {
      "model_module": "@jupyter-widgets/base",
      "model_module_version": "1.2.0",
      "model_name": "LayoutModel",
      "state": {}
     },
     "08a9ddd2951347e2a734f94fd41d11aa": {
      "model_module": "@jupyter-widgets/controls",
      "model_module_version": "1.5.0",
      "model_name": "HTMLModel",
      "state": {
       "layout": "IPY_MODEL_b7e5abad04314396a989d20ae01d3ea0",
       "style": "IPY_MODEL_6857c8916f0840198316cc5b0a8b64c7",
       "value": " 8760/8760 [02:31&lt;00:00, 57.80steps/s]"
      }
     },
     "08c4bc2289f344d88a4757e582c5dcd2": {
      "model_module": "@jupyter-widgets/base",
      "model_module_version": "1.2.0",
      "model_name": "LayoutModel",
      "state": {}
     },
     "08d89f75c6b54043af2653a6735bfdd5": {
      "model_module": "@jupyter-widgets/controls",
      "model_module_version": "1.5.0",
      "model_name": "ProgressStyleModel",
      "state": {
       "description_width": "initial"
      }
     },
     "08f40716d49744368cd6bc12a0fab6b1": {
      "model_module": "@jupyter-widgets/controls",
      "model_module_version": "1.5.0",
      "model_name": "HTMLModel",
      "state": {
       "layout": "IPY_MODEL_4caf33cdb5784129b7c559677fd96d05",
       "style": "IPY_MODEL_ef2081420e0647ffa76c36edae56260f",
       "value": " 8760/8760 [00:30&lt;00:00, 287.44steps/s]"
      }
     },
     "09202bc80d2740899193be215ab699af": {
      "model_module": "@jupyter-widgets/controls",
      "model_module_version": "1.5.0",
      "model_name": "HBoxModel",
      "state": {
       "children": [
        "IPY_MODEL_11d68b32720f46089c9318e7a9844fe8",
        "IPY_MODEL_4e4ea3f6e5c1442c81b21b85a83740e0"
       ],
       "layout": "IPY_MODEL_c0583c46f38a4ec0aa60292b64d2670e"
      }
     },
     "092d957bb8744774bbe32c7ad18daaeb": {
      "model_module": "@jupyter-widgets/controls",
      "model_module_version": "1.5.0",
      "model_name": "HTMLModel",
      "state": {
       "layout": "IPY_MODEL_c9d020e6785d4b01b5681c03fc1de569",
       "style": "IPY_MODEL_216b9a1598ce41a789340c2ec6c227bd",
       "value": " 8760/8760 [00:30&lt;00:00, 284.03steps/s]"
      }
     },
     "09491b18d807480f9294ba1e0183e361": {
      "model_module": "@jupyter-widgets/controls",
      "model_module_version": "1.5.0",
      "model_name": "HTMLModel",
      "state": {
       "layout": "IPY_MODEL_fbfa2459871642d39eb2a168acd84421",
       "style": "IPY_MODEL_d78e38b39c124d59aee83e60c0623077",
       "value": " 8760/8760 [00:29&lt;00:00, 298.20steps/s]"
      }
     },
     "0960725088a14787939655ad9f1e7a19": {
      "model_module": "@jupyter-widgets/controls",
      "model_module_version": "1.5.0",
      "model_name": "FloatProgressModel",
      "state": {
       "bar_style": "success",
       "description": "Run 27 of 156 [PID: 21985]: 100%",
       "layout": "IPY_MODEL_9f24903088264b7aa68895b73fbc957e",
       "max": 8760,
       "style": "IPY_MODEL_e9a5cf9749e942b4804a72239c1eb00f",
       "value": 8760
      }
     },
     "09809e261b264036a38b7f2ab32a0eb1": {
      "model_module": "@jupyter-widgets/base",
      "model_module_version": "1.2.0",
      "model_name": "LayoutModel",
      "state": {}
     },
     "098112d1f2214a94b5cc67c5b1f82cb7": {
      "model_module": "@jupyter-widgets/base",
      "model_module_version": "1.2.0",
      "model_name": "LayoutModel",
      "state": {}
     },
     "098d515c6822490ba35b57d657eece3a": {
      "model_module": "@jupyter-widgets/controls",
      "model_module_version": "1.5.0",
      "model_name": "FloatProgressModel",
      "state": {
       "description": "Run 68 of 156 [PID: 72851]:  57%",
       "layout": "IPY_MODEL_e5b397d500b84777b8f64fd8e86077f9",
       "max": 175320,
       "style": "IPY_MODEL_282fe2e072f949d79020def33c98c4aa",
       "value": 100650
      }
     },
     "098e0c57a5a540c9bf42df7b194e23ac": {
      "model_module": "@jupyter-widgets/base",
      "model_module_version": "1.2.0",
      "model_name": "LayoutModel",
      "state": {}
     },
     "09b9296d71be4236acc2eb9f1b331b6f": {
      "model_module": "@jupyter-widgets/controls",
      "model_module_version": "1.5.0",
      "model_name": "FloatProgressModel",
      "state": {
       "bar_style": "success",
       "description": "Run 54 of 156 [PID: 21988]: 100%",
       "layout": "IPY_MODEL_b57a9a5f32e243fb86e446fcc2ce6973",
       "max": 8760,
       "style": "IPY_MODEL_9fccf03150b94a9f89dec958580c97c8",
       "value": 8760
      }
     },
     "09d4cdaafce34da184c2bff994f29d66": {
      "model_module": "@jupyter-widgets/base",
      "model_module_version": "1.2.0",
      "model_name": "LayoutModel",
      "state": {}
     },
     "09eb490ba50244e88bf986a0a9ce4ccc": {
      "model_module": "@jupyter-widgets/base",
      "model_module_version": "1.2.0",
      "model_name": "LayoutModel",
      "state": {}
     },
     "0a1d52afa74f440f8871e82b1b04fb63": {
      "model_module": "@jupyter-widgets/base",
      "model_module_version": "1.2.0",
      "model_name": "LayoutModel",
      "state": {}
     },
     "0a374914f0b042f5ade0660015d9b689": {
      "model_module": "@jupyter-widgets/base",
      "model_module_version": "1.2.0",
      "model_name": "LayoutModel",
      "state": {}
     },
     "0a3a0b5886274dfba2946d4d4e8856bf": {
      "model_module": "@jupyter-widgets/base",
      "model_module_version": "1.2.0",
      "model_name": "LayoutModel",
      "state": {}
     },
     "0a580d177ce84578bd971ba22156a8df": {
      "model_module": "@jupyter-widgets/controls",
      "model_module_version": "1.5.0",
      "model_name": "DescriptionStyleModel",
      "state": {
       "description_width": ""
      }
     },
     "0a72eb0af87e45669e69cbb3bf2951c3": {
      "model_module": "@jupyter-widgets/controls",
      "model_module_version": "1.5.0",
      "model_name": "ProgressStyleModel",
      "state": {
       "description_width": "initial"
      }
     },
     "0ab6a069a0bd4dd4907cdd0444c217fa": {
      "model_module": "@jupyter-widgets/base",
      "model_module_version": "1.2.0",
      "model_name": "LayoutModel",
      "state": {}
     },
     "0ad1d9c075f14ba4a72cbba732418509": {
      "model_module": "@jupyter-widgets/base",
      "model_module_version": "1.2.0",
      "model_name": "LayoutModel",
      "state": {}
     },
     "0ae08a59bd53406898db15e46f76b098": {
      "model_module": "@jupyter-widgets/controls",
      "model_module_version": "1.5.0",
      "model_name": "HTMLModel",
      "state": {
       "layout": "IPY_MODEL_6c592fd4d1044427ac8d08866df51f23",
       "style": "IPY_MODEL_0d749582ed8a472eabc5a4049e81c28e",
       "value": " 8760/8760 [00:31&lt;00:00, 274.31steps/s]"
      }
     },
     "0ae8f76ee97c4f34b3aaebbc8dc0cd74": {
      "model_module": "@jupyter-widgets/base",
      "model_module_version": "1.2.0",
      "model_name": "LayoutModel",
      "state": {}
     },
     "0b1cb611287b412f9a0d4572e033350f": {
      "model_module": "@jupyter-widgets/controls",
      "model_module_version": "1.5.0",
      "model_name": "DescriptionStyleModel",
      "state": {
       "description_width": ""
      }
     },
     "0b3353681e3548ceb6358e62aa006adb": {
      "model_module": "@jupyter-widgets/controls",
      "model_module_version": "1.5.0",
      "model_name": "HBoxModel",
      "state": {
       "children": [
        "IPY_MODEL_c1907e1f804e48378273fc4e77c0bbc6",
        "IPY_MODEL_f277be64a04043608f54983490531c4e"
       ],
       "layout": "IPY_MODEL_3887c361ed9840e8890e1f4da363c8b1"
      }
     },
     "0b437a68d58a421098579ff932ca04af": {
      "model_module": "@jupyter-widgets/controls",
      "model_module_version": "1.5.0",
      "model_name": "HBoxModel",
      "state": {
       "children": [
        "IPY_MODEL_e56a0b4a92c44714b7b712c0f19802e9",
        "IPY_MODEL_89be8b863f234c89877d9c4d9d9bf1a0"
       ],
       "layout": "IPY_MODEL_0c3c0b09c8a7491fad42288aa1a02f62"
      }
     },
     "0b72a154601b4c1aa0de23c04a400ae5": {
      "model_module": "@jupyter-widgets/controls",
      "model_module_version": "1.5.0",
      "model_name": "HTMLModel",
      "state": {
       "layout": "IPY_MODEL_fc127e78c71d431681c78125f5a59b87",
       "style": "IPY_MODEL_8ba2aa40919947e2805ab504b3e177b6",
       "value": " 88074/175320 [3:31:39&lt;4:45:34,  5.09steps/s]"
      }
     },
     "0bbb3e38c80f45c893ade0e522a9cbde": {
      "model_module": "@jupyter-widgets/base",
      "model_module_version": "1.2.0",
      "model_name": "LayoutModel",
      "state": {}
     },
     "0bc195704b0741aca9c9876ca3b238a9": {
      "model_module": "@jupyter-widgets/base",
      "model_module_version": "1.2.0",
      "model_name": "LayoutModel",
      "state": {}
     },
     "0be753b2af704846b62dc380a778fecb": {
      "model_module": "@jupyter-widgets/controls",
      "model_module_version": "1.5.0",
      "model_name": "HTMLModel",
      "state": {
       "layout": "IPY_MODEL_4f523389f0c04398b619f342ff86e6f2",
       "style": "IPY_MODEL_42a7d4eaa6d84fe4aee99d5356246416",
       "value": " 8760/8760 [00:31&lt;00:00, 280.19steps/s]"
      }
     },
     "0be9fa62258f4f13beed7fbfab71f197": {
      "model_module": "@jupyter-widgets/controls",
      "model_module_version": "1.5.0",
      "model_name": "ProgressStyleModel",
      "state": {
       "description_width": "initial"
      }
     },
     "0c1e8cc92f304ab790e1b87f1215e73e": {
      "model_module": "@jupyter-widgets/controls",
      "model_module_version": "1.5.0",
      "model_name": "FloatProgressModel",
      "state": {
       "bar_style": "success",
       "description": "poop: 100%",
       "layout": "IPY_MODEL_05b3758bddab4ab6a5189bbe0bf8ef40",
       "max": 8760,
       "style": "IPY_MODEL_88d1aca10a2d4c798e0423a018e3fe36",
       "value": 8760
      }
     },
     "0c3c0b09c8a7491fad42288aa1a02f62": {
      "model_module": "@jupyter-widgets/base",
      "model_module_version": "1.2.0",
      "model_name": "LayoutModel",
      "state": {}
     },
     "0c613d4d18ff443fa77b67efdf8f255c": {
      "model_module": "@jupyter-widgets/base",
      "model_module_version": "1.2.0",
      "model_name": "LayoutModel",
      "state": {}
     },
     "0c7b361b6f5244cf9aacb9899cd4d6cb": {
      "model_module": "@jupyter-widgets/controls",
      "model_module_version": "1.5.0",
      "model_name": "FloatProgressModel",
      "state": {
       "bar_style": "success",
       "description": "Run 22 of 156 [PID: 45688]: 100%",
       "layout": "IPY_MODEL_635221813c674a2d935df990b23d0f98",
       "max": 8760,
       "style": "IPY_MODEL_601a5117026e4e5fbc8db9182f9847c5",
       "value": 8760
      }
     },
     "0c84fe05b9044463b8cf8404c504d209": {
      "model_module": "@jupyter-widgets/controls",
      "model_module_version": "1.5.0",
      "model_name": "HTMLModel",
      "state": {
       "layout": "IPY_MODEL_7cdb5fde3edc447eb98adb01c3e4fb78",
       "style": "IPY_MODEL_f926a5829c1e4827b8c60f78c6417300",
       "value": " 1592/8760 [00:06&lt;00:26, 267.93steps/s]"
      }
     },
     "0c8734a5e00048ff944fd08bd4f89694": {
      "model_module": "@jupyter-widgets/base",
      "model_module_version": "1.2.0",
      "model_name": "LayoutModel",
      "state": {}
     },
     "0c91411b8ccd459e86e8c3571571135e": {
      "model_module": "@jupyter-widgets/base",
      "model_module_version": "1.2.0",
      "model_name": "LayoutModel",
      "state": {}
     },
     "0ca26e2a549640368e8dafb2c5220759": {
      "model_module": "@jupyter-widgets/controls",
      "model_module_version": "1.5.0",
      "model_name": "HTMLModel",
      "state": {
       "layout": "IPY_MODEL_5bb2aa37fec34e18895a74dd96318748",
       "style": "IPY_MODEL_077ed77e9b7d45878bd907306b906863",
       "value": " 8760/8760 [00:30&lt;00:00, 285.44steps/s]"
      }
     },
     "0cb0792ce9f947f18135c3933c035b3c": {
      "model_module": "@jupyter-widgets/controls",
      "model_module_version": "1.5.0",
      "model_name": "ProgressStyleModel",
      "state": {
       "description_width": "initial"
      }
     },
     "0ccd707d71714ad89b02ced0e10d6160": {
      "model_module": "@jupyter-widgets/base",
      "model_module_version": "1.2.0",
      "model_name": "LayoutModel",
      "state": {}
     },
     "0cec3966956a4db4b79af4b1c9ad9c5d": {
      "model_module": "@jupyter-widgets/controls",
      "model_module_version": "1.5.0",
      "model_name": "HTMLModel",
      "state": {
       "layout": "IPY_MODEL_57c52f197791433d9b6e46b30c12e125",
       "style": "IPY_MODEL_33ee1d05e9694301a935ca6ccc84ab28",
       "value": " 2123/8760 [00:07&lt;00:23, 279.28steps/s]"
      }
     },
     "0cefabb71af840d2bda64f7343ba5407": {
      "model_module": "@jupyter-widgets/controls",
      "model_module_version": "1.5.0",
      "model_name": "HBoxModel",
      "state": {
       "children": [
        "IPY_MODEL_cf6d4acb562e4922848542b175d7431b",
        "IPY_MODEL_5cecea69cb1e4d48ada802f5baaedfd2"
       ],
       "layout": "IPY_MODEL_11422faaacc24f018f1de6582b9539c7"
      }
     },
     "0cfa88e086544544a86588edf2e17ae6": {
      "model_module": "@jupyter-widgets/controls",
      "model_module_version": "1.5.0",
      "model_name": "ProgressStyleModel",
      "state": {
       "description_width": "initial"
      }
     },
     "0d0615e6e862434d8325d2f872d13ead": {
      "model_module": "@jupyter-widgets/base",
      "model_module_version": "1.2.0",
      "model_name": "LayoutModel",
      "state": {}
     },
     "0d0e6ee6540a47959ecc67fc3b2ac349": {
      "model_module": "@jupyter-widgets/base",
      "model_module_version": "1.2.0",
      "model_name": "LayoutModel",
      "state": {}
     },
     "0d28fa0b8e8c4eb1b970938cd23eb351": {
      "model_module": "@jupyter-widgets/controls",
      "model_module_version": "1.5.0",
      "model_name": "ProgressStyleModel",
      "state": {
       "description_width": "initial"
      }
     },
     "0d459c7c1b1146ec9d4ea349978b2d6f": {
      "model_module": "@jupyter-widgets/controls",
      "model_module_version": "1.5.0",
      "model_name": "HBoxModel",
      "state": {
       "children": [
        "IPY_MODEL_04c125ea36e04e4eaecd9ea9ba588083",
        "IPY_MODEL_f5e3301d269144279b77a25cde03a7b1"
       ],
       "layout": "IPY_MODEL_221b28b08a3b4b8f884f1b2dd6d29901"
      }
     },
     "0d68c1a2c79c4ccf8500f45e0fe2345e": {
      "model_module": "@jupyter-widgets/controls",
      "model_module_version": "1.5.0",
      "model_name": "ProgressStyleModel",
      "state": {
       "description_width": "initial"
      }
     },
     "0d749582ed8a472eabc5a4049e81c28e": {
      "model_module": "@jupyter-widgets/controls",
      "model_module_version": "1.5.0",
      "model_name": "DescriptionStyleModel",
      "state": {
       "description_width": ""
      }
     },
     "0d7f63e6c1e049fe8417f2f8a944bb59": {
      "model_module": "@jupyter-widgets/controls",
      "model_module_version": "1.5.0",
      "model_name": "HTMLModel",
      "state": {
       "layout": "IPY_MODEL_42565bd1257c4b9f9fdaefe327b0779b",
       "style": "IPY_MODEL_593ccb395a9145eab041ae690e31d97e",
       "value": " 767/8760 [00:02&lt;00:29, 270.18steps/s]"
      }
     },
     "0db3692f367e43ee91b3dfb59b493cca": {
      "model_module": "@jupyter-widgets/base",
      "model_module_version": "1.2.0",
      "model_name": "LayoutModel",
      "state": {}
     },
     "0dc61851bc3f4659a5bb0c130eb30ae1": {
      "model_module": "@jupyter-widgets/controls",
      "model_module_version": "1.5.0",
      "model_name": "ProgressStyleModel",
      "state": {
       "description_width": "initial"
      }
     },
     "0ddd125b040d4b65b388f918016aa876": {
      "model_module": "@jupyter-widgets/base",
      "model_module_version": "1.2.0",
      "model_name": "LayoutModel",
      "state": {}
     },
     "0de82da5eba3432e8560f2c4ee16ff31": {
      "model_module": "@jupyter-widgets/controls",
      "model_module_version": "1.5.0",
      "model_name": "ProgressStyleModel",
      "state": {
       "description_width": "initial"
      }
     },
     "0df4f9a58ea4482fa567b570bb07ed52": {
      "model_module": "@jupyter-widgets/base",
      "model_module_version": "1.2.0",
      "model_name": "LayoutModel",
      "state": {}
     },
     "0dfb2b8ab9b0442ab7c2946e1119a2f1": {
      "model_module": "@jupyter-widgets/base",
      "model_module_version": "1.2.0",
      "model_name": "LayoutModel",
      "state": {}
     },
     "0e0d6369747d43e6aa080db8b38ba41d": {
      "model_module": "@jupyter-widgets/base",
      "model_module_version": "1.2.0",
      "model_name": "LayoutModel",
      "state": {}
     },
     "0e1925aaac924f419088b977a2e596f7": {
      "model_module": "@jupyter-widgets/base",
      "model_module_version": "1.2.0",
      "model_name": "LayoutModel",
      "state": {}
     },
     "0e4f8a2d09654dc7ae9003509474f0b9": {
      "model_module": "@jupyter-widgets/controls",
      "model_module_version": "1.5.0",
      "model_name": "HBoxModel",
      "state": {
       "children": [
        "IPY_MODEL_f52e4b78f28542248fee85e80fdfc389",
        "IPY_MODEL_6996412660664155ab6a2360186a73cf"
       ],
       "layout": "IPY_MODEL_9e3f44591d85496ab1c95b9d60ba6d54"
      }
     },
     "0e5fc94b04704ca3818bca976b57cba7": {
      "model_module": "@jupyter-widgets/controls",
      "model_module_version": "1.5.0",
      "model_name": "DescriptionStyleModel",
      "state": {
       "description_width": ""
      }
     },
     "0e61de53d06f41bea6857929a6656825": {
      "model_module": "@jupyter-widgets/base",
      "model_module_version": "1.2.0",
      "model_name": "LayoutModel",
      "state": {}
     },
     "0e7c938932e5483eb6649ea8c8fa4a20": {
      "model_module": "@jupyter-widgets/base",
      "model_module_version": "1.2.0",
      "model_name": "LayoutModel",
      "state": {}
     },
     "0e81f9d22ac1455bbb755b7b47db98d3": {
      "model_module": "@jupyter-widgets/controls",
      "model_module_version": "1.5.0",
      "model_name": "HBoxModel",
      "state": {
       "children": [
        "IPY_MODEL_d11eab1148ff43b380557351a706410f",
        "IPY_MODEL_066fa22d46524cea991f2c0760454696"
       ],
       "layout": "IPY_MODEL_df6d4429e97a40baa9c3aa4420d21b76"
      }
     },
     "0ed85cae4f844035b0fc3daffd9768da": {
      "model_module": "@jupyter-widgets/controls",
      "model_module_version": "1.5.0",
      "model_name": "HTMLModel",
      "state": {
       "layout": "IPY_MODEL_d78c012efdc24127a00aacb4cd71f105",
       "style": "IPY_MODEL_03e12490e01b4c99ad7c6c0410535e9c",
       "value": " 8760/8760 [00:30&lt;00:00, 283.05steps/s]"
      }
     },
     "0edbd4b099ed43f49a2c16f2d5717267": {
      "model_module": "@jupyter-widgets/controls",
      "model_module_version": "1.5.0",
      "model_name": "ProgressStyleModel",
      "state": {
       "description_width": "initial"
      }
     },
     "0eedc6fabbea42a1b067d4207d4ab63d": {
      "model_module": "@jupyter-widgets/controls",
      "model_module_version": "1.5.0",
      "model_name": "ProgressStyleModel",
      "state": {
       "description_width": "initial"
      }
     },
     "0ef27c476f6842dfbcc6bda4a5e1bcfa": {
      "model_module": "@jupyter-widgets/controls",
      "model_module_version": "1.5.0",
      "model_name": "FloatProgressModel",
      "state": {
       "bar_style": "danger",
       "description": "Run 26 of 390 [PID: 2310]:   6%",
       "layout": "IPY_MODEL_17a22ce3e7d1496dbc10c642cdac0232",
       "max": 8760,
       "style": "IPY_MODEL_d98b73f279af4f619ac702f7ab620e86",
       "value": 499
      }
     },
     "0ef603647320450d89238a0d627551e1": {
      "model_module": "@jupyter-widgets/base",
      "model_module_version": "1.2.0",
      "model_name": "LayoutModel",
      "state": {}
     },
     "0efe7e56a6264b179b9701a21a44b994": {
      "model_module": "@jupyter-widgets/controls",
      "model_module_version": "1.5.0",
      "model_name": "FloatProgressModel",
      "state": {
       "bar_style": "success",
       "description": "Run 14 of 156 [PID: 21992]: 100%",
       "layout": "IPY_MODEL_9391ec9bf9d948a9af231cf3d7ae7a1e",
       "max": 8760,
       "style": "IPY_MODEL_d7359933bb6f453c8a685553b44ae0dd",
       "value": 8760
      }
     },
     "0f02007fc82349938c862b4d8ade103f": {
      "model_module": "@jupyter-widgets/base",
      "model_module_version": "1.2.0",
      "model_name": "LayoutModel",
      "state": {}
     },
     "0f04974587b3427b9c1df4ba341e2ec6": {
      "model_module": "@jupyter-widgets/controls",
      "model_module_version": "1.5.0",
      "model_name": "HBoxModel",
      "state": {
       "children": [
        "IPY_MODEL_37a3a7250f2747d088f7935e937e7ef4",
        "IPY_MODEL_2451aa8bb4c949b48da2e45594fdd29c"
       ],
       "layout": "IPY_MODEL_43a5d30b48da45749f1fc1ff73c9ba24"
      }
     },
     "0f1b9950854e46de9828e910d78c0772": {
      "model_module": "@jupyter-widgets/controls",
      "model_module_version": "1.5.0",
      "model_name": "HTMLModel",
      "state": {
       "layout": "IPY_MODEL_19a452cdeb9049f5ad6c4b4f914a8486",
       "style": "IPY_MODEL_9352912f383443a49462c0bc1f56948c",
       "value": " 81462/175320 [3:23:42&lt;4:46:23,  5.46steps/s]"
      }
     },
     "0f48e0c2885040e1a78787c695f59621": {
      "model_module": "@jupyter-widgets/controls",
      "model_module_version": "1.5.0",
      "model_name": "DescriptionStyleModel",
      "state": {
       "description_width": ""
      }
     },
     "0f622ed82e1843759412c6921e4d14b2": {
      "model_module": "@jupyter-widgets/base",
      "model_module_version": "1.2.0",
      "model_name": "LayoutModel",
      "state": {}
     },
     "0f723bec78844bf8844aa784e61695c4": {
      "model_module": "@jupyter-widgets/base",
      "model_module_version": "1.2.0",
      "model_name": "LayoutModel",
      "state": {}
     },
     "0f74ecd67ce5456f96ae421897ab9005": {
      "model_module": "@jupyter-widgets/base",
      "model_module_version": "1.2.0",
      "model_name": "LayoutModel",
      "state": {}
     },
     "0f90af6ad5514c8d9e8638582c66730d": {
      "model_module": "@jupyter-widgets/controls",
      "model_module_version": "1.5.0",
      "model_name": "DescriptionStyleModel",
      "state": {
       "description_width": ""
      }
     },
     "0f90fa0dd7544eb39a6ec2af5d6d78f8": {
      "model_module": "@jupyter-widgets/controls",
      "model_module_version": "1.5.0",
      "model_name": "HBoxModel",
      "state": {
       "children": [
        "IPY_MODEL_3c2b879017494d1bacd71292e2b12155",
        "IPY_MODEL_e6c95c7ca91146a7b680333794096b35"
       ],
       "layout": "IPY_MODEL_eb093ba0fec8476b9480f306bd20d7fe"
      }
     },
     "0fa00e3da8004b538ff970067a8726c6": {
      "model_module": "@jupyter-widgets/controls",
      "model_module_version": "1.5.0",
      "model_name": "ProgressStyleModel",
      "state": {
       "description_width": "initial"
      }
     },
     "0fbbf3786c0b484f96d31cfcce4d4890": {
      "model_module": "@jupyter-widgets/controls",
      "model_module_version": "1.5.0",
      "model_name": "DescriptionStyleModel",
      "state": {
       "description_width": ""
      }
     },
     "0fe636c5057047b6b2da1a4f835194fe": {
      "model_module": "@jupyter-widgets/controls",
      "model_module_version": "1.5.0",
      "model_name": "HTMLModel",
      "state": {
       "layout": "IPY_MODEL_bc61d812759643e7aadb5b471b6894c6",
       "style": "IPY_MODEL_412b7d631dc34d43ba8a9f7669952554",
       "value": " 8760/8760 [00:30&lt;00:00, 286.14steps/s]"
      }
     },
     "0fe790fc3f6b44daaf3f7b088ef1b84f": {
      "model_module": "@jupyter-widgets/controls",
      "model_module_version": "1.5.0",
      "model_name": "HBoxModel",
      "state": {
       "children": [
        "IPY_MODEL_8135902fd5fe42da82f173874557a7d0",
        "IPY_MODEL_2a1d82230cde4fdfb5fd9ab40a79d120"
       ],
       "layout": "IPY_MODEL_77184a640bdc49cdb7fac17fc0f04cc5"
      }
     },
     "103c6a0d9e17400988795f36c1f526c8": {
      "model_module": "@jupyter-widgets/base",
      "model_module_version": "1.2.0",
      "model_name": "LayoutModel",
      "state": {}
     },
     "1052d070732e412b9231feaa0803433a": {
      "model_module": "@jupyter-widgets/base",
      "model_module_version": "1.2.0",
      "model_name": "LayoutModel",
      "state": {}
     },
     "1098a3b994ab4288ae4c50b3d887d285": {
      "model_module": "@jupyter-widgets/controls",
      "model_module_version": "1.5.0",
      "model_name": "HBoxModel",
      "state": {
       "children": [
        "IPY_MODEL_45e5bdca0a3c417c9b742a1612409885",
        "IPY_MODEL_1c65cb7c1a3b42309238ccdb6e6cea36"
       ],
       "layout": "IPY_MODEL_69074fa1f656494798d415608797ac79"
      }
     },
     "110007ea7f374383b9f638a4ba72b709": {
      "model_module": "@jupyter-widgets/controls",
      "model_module_version": "1.5.0",
      "model_name": "HTMLModel",
      "state": {
       "layout": "IPY_MODEL_7260f2689e2641ed8b4588c923a7e7a1",
       "style": "IPY_MODEL_941e762684fe403795710de147001c65",
       "value": " 8185/8760 [00:29&lt;00:01, 288.06steps/s]"
      }
     },
     "110a057a60f5429ca2e17e9d9373c6c7": {
      "model_module": "@jupyter-widgets/controls",
      "model_module_version": "1.5.0",
      "model_name": "HTMLModel",
      "state": {
       "layout": "IPY_MODEL_4d32905d43e4406cb5ea6d58f6ebdc69",
       "style": "IPY_MODEL_1c0b31d7e8e24bc4bf03458bc1fa4045",
       "value": " 8760/8760 [00:30&lt;00:00, 284.14steps/s]"
      }
     },
     "110f05a44ea64d91a68847e3ad1f311f": {
      "model_module": "@jupyter-widgets/base",
      "model_module_version": "1.2.0",
      "model_name": "LayoutModel",
      "state": {}
     },
     "112359a1f81f4b889dc003f2fc02ffc0": {
      "model_module": "@jupyter-widgets/controls",
      "model_module_version": "1.5.0",
      "model_name": "HTMLModel",
      "state": {
       "layout": "IPY_MODEL_475d282ea75c4f858af1912e1470b1db",
       "style": "IPY_MODEL_180bfca3d7174e5b916066bf1347513b",
       "value": " 8760/8760 [00:31&lt;00:00, 278.44steps/s]"
      }
     },
     "11318b3ed35142a3b467357f5be46fb9": {
      "model_module": "@jupyter-widgets/base",
      "model_module_version": "1.2.0",
      "model_name": "LayoutModel",
      "state": {}
     },
     "1141d059ce2f4733bfbc4ff24256886b": {
      "model_module": "@jupyter-widgets/controls",
      "model_module_version": "1.5.0",
      "model_name": "FloatProgressModel",
      "state": {
       "bar_style": "success",
       "description": "Run 30 of 156 [PID: 21990]: 100%",
       "layout": "IPY_MODEL_2bdc0b1988f14a4b9e2f56a49c1d97bc",
       "max": 8760,
       "style": "IPY_MODEL_eba663fb378e4b349571265325feeaff",
       "value": 8760
      }
     },
     "11422faaacc24f018f1de6582b9539c7": {
      "model_module": "@jupyter-widgets/base",
      "model_module_version": "1.2.0",
      "model_name": "LayoutModel",
      "state": {}
     },
     "1143b7c158bd4582beb6b92d74a96ea8": {
      "model_module": "@jupyter-widgets/base",
      "model_module_version": "1.2.0",
      "model_name": "LayoutModel",
      "state": {}
     },
     "114b761e22fc4cba83b2b0034f332643": {
      "model_module": "@jupyter-widgets/base",
      "model_module_version": "1.2.0",
      "model_name": "LayoutModel",
      "state": {}
     },
     "118320d5ba5f4894960497caacde143c": {
      "model_module": "@jupyter-widgets/controls",
      "model_module_version": "1.5.0",
      "model_name": "HBoxModel",
      "state": {
       "children": [
        "IPY_MODEL_26f198d2b4874f38af2f6c8cc2fe1cc8",
        "IPY_MODEL_7b9afbfa3fc34005b918623189a63cda"
       ],
       "layout": "IPY_MODEL_e2da2ee5973642928126d11b45f3ee93"
      }
     },
     "11a5d3ed4c8b4f4b8e81a6ff1f16757a": {
      "model_module": "@jupyter-widgets/controls",
      "model_module_version": "1.5.0",
      "model_name": "HTMLModel",
      "state": {
       "layout": "IPY_MODEL_fb064c63a4ad4086912e930c17105875",
       "style": "IPY_MODEL_4efba53d13174b6bb9ddec794c37ed20",
       "value": " 8760/8760 [00:31&lt;00:00, 278.91steps/s]"
      }
     },
     "11a7062338b341659fb618bba981ef5d": {
      "model_module": "@jupyter-widgets/controls",
      "model_module_version": "1.5.0",
      "model_name": "HTMLModel",
      "state": {
       "layout": "IPY_MODEL_f37db0e89f58444a9ddc67d4e37dfac4",
       "style": "IPY_MODEL_3b4039fa72ca41fd9c06e3556b04bae5",
       "value": " 8694/8760 [00:30&lt;00:00, 293.72steps/s]"
      }
     },
     "11d68b32720f46089c9318e7a9844fe8": {
      "model_module": "@jupyter-widgets/controls",
      "model_module_version": "1.5.0",
      "model_name": "FloatProgressModel",
      "state": {
       "bar_style": "success",
       "description": "poop: 100%",
       "layout": "IPY_MODEL_4ed573ede72e486590aa76ead8ebcbcc",
       "max": 8760,
       "style": "IPY_MODEL_3b256ecb81e74a4081feb3ea0d4c242c",
       "value": 8760
      }
     },
     "11df72758eeb4d16892f40ccd1a608dd": {
      "model_module": "@jupyter-widgets/base",
      "model_module_version": "1.2.0",
      "model_name": "LayoutModel",
      "state": {}
     },
     "11efd29bf1ed4643b093ed309f4457ee": {
      "model_module": "@jupyter-widgets/base",
      "model_module_version": "1.2.0",
      "model_name": "LayoutModel",
      "state": {}
     },
     "11f51fd980954bfdb024f90ae3ff34eb": {
      "model_module": "@jupyter-widgets/controls",
      "model_module_version": "1.5.0",
      "model_name": "DescriptionStyleModel",
      "state": {
       "description_width": ""
      }
     },
     "1200cd224c134dc78ba886c14485cdbb": {
      "model_module": "@jupyter-widgets/controls",
      "model_module_version": "1.5.0",
      "model_name": "ProgressStyleModel",
      "state": {
       "description_width": "initial"
      }
     },
     "122f10623e614195b3695adceec98ee9": {
      "model_module": "@jupyter-widgets/controls",
      "model_module_version": "1.5.0",
      "model_name": "ProgressStyleModel",
      "state": {
       "description_width": "initial"
      }
     },
     "12341901a8b7475788141e75db435087": {
      "model_module": "@jupyter-widgets/controls",
      "model_module_version": "1.5.0",
      "model_name": "FloatProgressModel",
      "state": {
       "bar_style": "danger",
       "description": "poop:  11%",
       "layout": "IPY_MODEL_cc861b99fbc543e5a9a942a13616371a",
       "max": 8760,
       "style": "IPY_MODEL_0be9fa62258f4f13beed7fbfab71f197",
       "value": 930
      }
     },
     "129dccf650a3420a9bd0709acbb4274c": {
      "model_module": "@jupyter-widgets/controls",
      "model_module_version": "1.5.0",
      "model_name": "ProgressStyleModel",
      "state": {
       "description_width": "initial"
      }
     },
     "12abc82f6cd341fc809d45d674a5f575": {
      "model_module": "@jupyter-widgets/controls",
      "model_module_version": "1.5.0",
      "model_name": "HBoxModel",
      "state": {
       "children": [
        "IPY_MODEL_d15938d5cdaf45b380183ea01f5c7508",
        "IPY_MODEL_0c84fe05b9044463b8cf8404c504d209"
       ],
       "layout": "IPY_MODEL_92a7edb5e1e64f29a0efbc3640fa073d"
      }
     },
     "12bb4508da47478fb5721c3d9c1ef7d1": {
      "model_module": "@jupyter-widgets/controls",
      "model_module_version": "1.5.0",
      "model_name": "HTMLModel",
      "state": {
       "layout": "IPY_MODEL_ed8ec2eb5a5f4962b2bed20370c10f34",
       "style": "IPY_MODEL_9db1c10f74f84e8e853ef7a8c1dfb0c1",
       "value": " 8760/8760 [00:29&lt;00:00, 292.98steps/s]"
      }
     },
     "12bc5c1f7a3a4b779cbe7d65642d8e1f": {
      "model_module": "@jupyter-widgets/base",
      "model_module_version": "1.2.0",
      "model_name": "LayoutModel",
      "state": {}
     },
     "12bf88894b0046669c606d66dc831221": {
      "model_module": "@jupyter-widgets/base",
      "model_module_version": "1.2.0",
      "model_name": "LayoutModel",
      "state": {}
     },
     "12c49a9b1ea54adaa8bd657b9c115b62": {
      "model_module": "@jupyter-widgets/base",
      "model_module_version": "1.2.0",
      "model_name": "LayoutModel",
      "state": {}
     },
     "12d3c7dc4dbd47208de8727c9ca7563d": {
      "model_module": "@jupyter-widgets/controls",
      "model_module_version": "1.5.0",
      "model_name": "ProgressStyleModel",
      "state": {
       "description_width": "initial"
      }
     },
     "12d44e65d98643bb912c1a2edb85936d": {
      "model_module": "@jupyter-widgets/base",
      "model_module_version": "1.2.0",
      "model_name": "LayoutModel",
      "state": {}
     },
     "12e6b906db3f441ca41e9fc1a4f4f1ac": {
      "model_module": "@jupyter-widgets/controls",
      "model_module_version": "1.5.0",
      "model_name": "HTMLModel",
      "state": {
       "layout": "IPY_MODEL_b6d3af80a582405ebf73ed4ed20eedcd",
       "style": "IPY_MODEL_e6704424d4264345965a7b9b3fedcaa7",
       "value": " 8760/8760 [02:33&lt;00:00, 57.05steps/s]"
      }
     },
     "12faa5d322be4c99b6353b2e26ff745a": {
      "model_module": "@jupyter-widgets/controls",
      "model_module_version": "1.5.0",
      "model_name": "HTMLModel",
      "state": {
       "layout": "IPY_MODEL_0561b676a48b49c4a4920168bbc07257",
       "style": "IPY_MODEL_2fdecff96eef4e2eb5ff9ab8c8325333",
       "value": " 100650/175320 [3:51:30&lt;4:36:13,  4.51steps/s]"
      }
     },
     "13025cdbdf94406f88fcb3a115422ac2": {
      "model_module": "@jupyter-widgets/controls",
      "model_module_version": "1.5.0",
      "model_name": "DescriptionStyleModel",
      "state": {
       "description_width": ""
      }
     },
     "1326e43672554a72b4254c4e1e101fcd": {
      "model_module": "@jupyter-widgets/controls",
      "model_module_version": "1.5.0",
      "model_name": "ProgressStyleModel",
      "state": {
       "description_width": "initial"
      }
     },
     "1327fd3288a444fcb828c03313cb5ce6": {
      "model_module": "@jupyter-widgets/base",
      "model_module_version": "1.2.0",
      "model_name": "LayoutModel",
      "state": {}
     },
     "133270efe310427493dfda3f6ecc181c": {
      "model_module": "@jupyter-widgets/base",
      "model_module_version": "1.2.0",
      "model_name": "LayoutModel",
      "state": {}
     },
     "133a2f128687451bb7a79eaf1a7cbe9d": {
      "model_module": "@jupyter-widgets/controls",
      "model_module_version": "1.5.0",
      "model_name": "ProgressStyleModel",
      "state": {
       "description_width": "initial"
      }
     },
     "134159ae749e4b10bb971754144ec1e7": {
      "model_module": "@jupyter-widgets/base",
      "model_module_version": "1.2.0",
      "model_name": "LayoutModel",
      "state": {}
     },
     "1359412064d44e63b2e0f69c38db8f01": {
      "model_module": "@jupyter-widgets/base",
      "model_module_version": "1.2.0",
      "model_name": "LayoutModel",
      "state": {}
     },
     "13693d3382b34e06aa6087eaff961140": {
      "model_module": "@jupyter-widgets/controls",
      "model_module_version": "1.5.0",
      "model_name": "FloatProgressModel",
      "state": {
       "bar_style": "success",
       "description": "100%",
       "layout": "IPY_MODEL_32db2174c7d84400aaf424504e93a897",
       "max": 8760,
       "style": "IPY_MODEL_b56e728594854baa8ce925ec83d594a9",
       "value": 8760
      }
     },
     "1375dea0b838430bab3786a6a6d74e4c": {
      "model_module": "@jupyter-widgets/controls",
      "model_module_version": "1.5.0",
      "model_name": "FloatProgressModel",
      "state": {
       "bar_style": "success",
       "description": "poop: 100%",
       "layout": "IPY_MODEL_62ab427b9c494bdb9c20b0036a268eca",
       "max": 8760,
       "style": "IPY_MODEL_7ebd1a2ef0c94422a5c5d1816d0c5cdf",
       "value": 8760
      }
     },
     "139900b0e64447e5bb79ce1231bf9d0e": {
      "model_module": "@jupyter-widgets/controls",
      "model_module_version": "1.5.0",
      "model_name": "HTMLModel",
      "state": {
       "layout": "IPY_MODEL_9e3b3c66aa214630b0569f7fe7a456c6",
       "style": "IPY_MODEL_9ffb21bdba4a416fb2abb199522c86f7",
       "value": " 8760/8760 [00:30&lt;00:00, 286.57steps/s]"
      }
     },
     "13abad1859d54c17ba3b9748ce5b6713": {
      "model_module": "@jupyter-widgets/controls",
      "model_module_version": "1.5.0",
      "model_name": "FloatProgressModel",
      "state": {
       "bar_style": "success",
       "description": "Run 53 of 156 [PID: 21996]: 100%",
       "layout": "IPY_MODEL_fe8823502443452fb90c5b4e8565f828",
       "max": 8760,
       "style": "IPY_MODEL_e2614cb57cf646ef94304f5ad38ae638",
       "value": 8760
      }
     },
     "13ca6ea15c2c4e79b108c900bc9133bf": {
      "model_module": "@jupyter-widgets/controls",
      "model_module_version": "1.5.0",
      "model_name": "FloatProgressModel",
      "state": {
       "bar_style": "success",
       "description": "Run 55 of 156 [PID: 21989]: 100%",
       "layout": "IPY_MODEL_b876b458f62d4197babbeb7641428ad0",
       "max": 8760,
       "style": "IPY_MODEL_ee6c19fcfedb4c949a5961878f5bb3ee",
       "value": 8760
      }
     },
     "140902bf8d7348adb131f109595c2107": {
      "model_module": "@jupyter-widgets/base",
      "model_module_version": "1.2.0",
      "model_name": "LayoutModel",
      "state": {}
     },
     "1416bea21c984ae587dd99bbefa01563": {
      "model_module": "@jupyter-widgets/base",
      "model_module_version": "1.2.0",
      "model_name": "LayoutModel",
      "state": {}
     },
     "141fea4101eb474dab5c16ffe6488f59": {
      "model_module": "@jupyter-widgets/base",
      "model_module_version": "1.2.0",
      "model_name": "LayoutModel",
      "state": {}
     },
     "142488d6d9b04bbcaa94e7ce879ffb73": {
      "model_module": "@jupyter-widgets/controls",
      "model_module_version": "1.5.0",
      "model_name": "DescriptionStyleModel",
      "state": {
       "description_width": ""
      }
     },
     "143e69726d164234b9f31caea300d737": {
      "model_module": "@jupyter-widgets/base",
      "model_module_version": "1.2.0",
      "model_name": "LayoutModel",
      "state": {}
     },
     "145603de49f9400fbce1117976608586": {
      "model_module": "@jupyter-widgets/controls",
      "model_module_version": "1.5.0",
      "model_name": "HTMLModel",
      "state": {
       "layout": "IPY_MODEL_38d962106f7f425d9d5354459f80cdf4",
       "style": "IPY_MODEL_a7a2f230fcfe4a33a56588a5367aaf7b",
       "value": " 8760/8760 [00:30&lt;00:00, 287.55steps/s]"
      }
     },
     "1461b0151ea84d2d847cdb929aa32503": {
      "model_module": "@jupyter-widgets/base",
      "model_module_version": "1.2.0",
      "model_name": "LayoutModel",
      "state": {}
     },
     "14624b0127544dcabeacda383665ab0e": {
      "model_module": "@jupyter-widgets/controls",
      "model_module_version": "1.5.0",
      "model_name": "DescriptionStyleModel",
      "state": {
       "description_width": ""
      }
     },
     "146fee7d3a934d5e808bce194506cad9": {
      "model_module": "@jupyter-widgets/base",
      "model_module_version": "1.2.0",
      "model_name": "LayoutModel",
      "state": {}
     },
     "148d22fe592640c18dc010e93d21d29f": {
      "model_module": "@jupyter-widgets/controls",
      "model_module_version": "1.5.0",
      "model_name": "FloatProgressModel",
      "state": {
       "bar_style": "danger",
       "description": "poop:  17%",
       "layout": "IPY_MODEL_428330da299e4474b9965296c7178518",
       "max": 8760,
       "style": "IPY_MODEL_f02e644035774efbbadda38994782bec",
       "value": 1524
      }
     },
     "14fb4695404f485ca8d5211d5b14eed0": {
      "model_module": "@jupyter-widgets/controls",
      "model_module_version": "1.5.0",
      "model_name": "DescriptionStyleModel",
      "state": {
       "description_width": ""
      }
     },
     "150ca8da62634dd4be503c7a5c615c74": {
      "model_module": "@jupyter-widgets/controls",
      "model_module_version": "1.5.0",
      "model_name": "HTMLModel",
      "state": {
       "layout": "IPY_MODEL_598598f344da4105b170e4b8d5aa4a21",
       "style": "IPY_MODEL_0a580d177ce84578bd971ba22156a8df",
       "value": " 8760/8760 [00:30&lt;00:00, 288.43steps/s]"
      }
     },
     "151d617423154651bc1b194ade9617c5": {
      "model_module": "@jupyter-widgets/controls",
      "model_module_version": "1.5.0",
      "model_name": "HBoxModel",
      "state": {
       "children": [
        "IPY_MODEL_43e12bdf912b4d038a5d43e35b7c1278",
        "IPY_MODEL_a78700a3d0064b8f9553239de720dd16"
       ],
       "layout": "IPY_MODEL_47ab83c43d3245eea2c9b6dff75860eb"
      }
     },
     "15462bba5a5449e8840e172ac1b80ac0": {
      "model_module": "@jupyter-widgets/controls",
      "model_module_version": "1.5.0",
      "model_name": "ProgressStyleModel",
      "state": {
       "description_width": "initial"
      }
     },
     "155a8759d37d48cfb62b45054f3de6de": {
      "model_module": "@jupyter-widgets/controls",
      "model_module_version": "1.5.0",
      "model_name": "HTMLModel",
      "state": {
       "layout": "IPY_MODEL_3f6b0a1ad9ed4adca65adc037d390ad5",
       "style": "IPY_MODEL_2837849344fe489fbec8dd5ffe5978ff",
       "value": " 3101/8760 [00:11&lt;00:20, 282.76steps/s]"
      }
     },
     "157e005f6b3549a9935ea0035a813077": {
      "model_module": "@jupyter-widgets/controls",
      "model_module_version": "1.5.0",
      "model_name": "HBoxModel",
      "state": {
       "children": [
        "IPY_MODEL_4078195033b94fc58ba1d78f2ebafb9f",
        "IPY_MODEL_8495db5fc95d45fc93b8529b088d9bc2"
       ],
       "layout": "IPY_MODEL_bf7f58216e864840a8cbb940948dd0dc"
      }
     },
     "159c511dced2461cb076d976bd0ca13b": {
      "model_module": "@jupyter-widgets/controls",
      "model_module_version": "1.5.0",
      "model_name": "DescriptionStyleModel",
      "state": {
       "description_width": ""
      }
     },
     "15a255d04b6040028edcad02c8a95d48": {
      "model_module": "@jupyter-widgets/controls",
      "model_module_version": "1.5.0",
      "model_name": "ProgressStyleModel",
      "state": {
       "description_width": "initial"
      }
     },
     "15a824ed5e0c4ceb9db760a5952867ae": {
      "model_module": "@jupyter-widgets/controls",
      "model_module_version": "1.5.0",
      "model_name": "HBoxModel",
      "state": {
       "children": [
        "IPY_MODEL_b61f0f48b2414fc2beac4c5e34757355",
        "IPY_MODEL_78744dc323db4c70b808dfc6f69cf6cb"
       ],
       "layout": "IPY_MODEL_2ffa4ab4b04049b78d008bd2d9e63283"
      }
     },
     "15b713db8bd34b0496e704c5382ff814": {
      "model_module": "@jupyter-widgets/controls",
      "model_module_version": "1.5.0",
      "model_name": "HBoxModel",
      "state": {
       "children": [
        "IPY_MODEL_de17fe616a414e1086393e73a57097ef",
        "IPY_MODEL_c39e26ec527b4b25b9e8b8d6a8540ecd"
       ],
       "layout": "IPY_MODEL_11df72758eeb4d16892f40ccd1a608dd"
      }
     },
     "15cb86bebec544c5a9a1382fa3215e7a": {
      "model_module": "@jupyter-widgets/base",
      "model_module_version": "1.2.0",
      "model_name": "LayoutModel",
      "state": {}
     },
     "15ceebc4504f4eb2a4a4448be6b62a1f": {
      "model_module": "@jupyter-widgets/controls",
      "model_module_version": "1.5.0",
      "model_name": "FloatProgressModel",
      "state": {
       "description": "Run 113 of 156 [PID: 72833]:  47%",
       "layout": "IPY_MODEL_9aa653d6a87b4cddb65cd72f528bcac9",
       "max": 175320,
       "style": "IPY_MODEL_ab50bbdaa90a4b72ae7a610f03310e27",
       "value": 82810
      }
     },
     "15df9590fbdd426595eeeef34ea38742": {
      "model_module": "@jupyter-widgets/controls",
      "model_module_version": "1.5.0",
      "model_name": "FloatProgressModel",
      "state": {
       "bar_style": "success",
       "description": "100%",
       "layout": "IPY_MODEL_d17681233e7f4c68bb723eb203533edc",
       "max": 8760,
       "style": "IPY_MODEL_27fd1c0b4f724aba823637e854ce50d5",
       "value": 8760
      }
     },
     "160bf03e118c4230bc962e663db0a748": {
      "model_module": "@jupyter-widgets/controls",
      "model_module_version": "1.5.0",
      "model_name": "HBoxModel",
      "state": {
       "children": [
        "IPY_MODEL_3113ef2f251b4befad9c7cb115fb91d5",
        "IPY_MODEL_835e3df7d69b449891fd76f6c1506a0a"
       ],
       "layout": "IPY_MODEL_66d80b685a9d45cfb3109901611ba26c"
      }
     },
     "160c0bc113934c758374f504d085a575": {
      "model_module": "@jupyter-widgets/controls",
      "model_module_version": "1.5.0",
      "model_name": "ProgressStyleModel",
      "state": {
       "description_width": "initial"
      }
     },
     "160d3db148a6401993b0d66291723a54": {
      "model_module": "@jupyter-widgets/base",
      "model_module_version": "1.2.0",
      "model_name": "LayoutModel",
      "state": {}
     },
     "1611beeca84648d7a7b9cfa9cdd6552a": {
      "model_module": "@jupyter-widgets/controls",
      "model_module_version": "1.5.0",
      "model_name": "ProgressStyleModel",
      "state": {
       "description_width": "initial"
      }
     },
     "16121c058e3f4e16ac14a509e91999a4": {
      "model_module": "@jupyter-widgets/controls",
      "model_module_version": "1.5.0",
      "model_name": "FloatProgressModel",
      "state": {
       "description": "Run 109 of 156 [PID: 72813]:  43%",
       "layout": "IPY_MODEL_939b91a4bb1749eb98852a63aec4139f",
       "max": 175320,
       "style": "IPY_MODEL_a9e0abfeec7a4807a44659705ed419d3",
       "value": 75417
      }
     },
     "16185ef901cc4b5687bbae9c12eef132": {
      "model_module": "@jupyter-widgets/controls",
      "model_module_version": "1.5.0",
      "model_name": "DescriptionStyleModel",
      "state": {
       "description_width": ""
      }
     },
     "163b9681014546a29fb615cfc02bb70a": {
      "model_module": "@jupyter-widgets/controls",
      "model_module_version": "1.5.0",
      "model_name": "FloatProgressModel",
      "state": {
       "bar_style": "success",
       "description": "poop: 100%",
       "layout": "IPY_MODEL_6408cad4ccca47eab5081215c9e4c6b4",
       "max": 8760,
       "style": "IPY_MODEL_e5f2193c4a0d4b6a969507a73d81ab4c",
       "value": 8760
      }
     },
     "1673c4bd131947ea841e5ed86e58fbc6": {
      "model_module": "@jupyter-widgets/base",
      "model_module_version": "1.2.0",
      "model_name": "LayoutModel",
      "state": {}
     },
     "16ad5ba182fe4ed8a59bac6591d0b5d4": {
      "model_module": "@jupyter-widgets/controls",
      "model_module_version": "1.5.0",
      "model_name": "HBoxModel",
      "state": {
       "children": [
        "IPY_MODEL_d0237cf996794604aeeb998f910da511",
        "IPY_MODEL_eec8c299d85f4c30aec65704fede3981"
       ],
       "layout": "IPY_MODEL_52b73d1d16fe4137a54bac56495e60c0"
      }
     },
     "16d4706cd93247fd8e434c61aa389a84": {
      "model_module": "@jupyter-widgets/controls",
      "model_module_version": "1.5.0",
      "model_name": "HBoxModel",
      "state": {
       "children": [
        "IPY_MODEL_318faa1b6dc64438aab2bc7e409ddc1b",
        "IPY_MODEL_0d7f63e6c1e049fe8417f2f8a944bb59"
       ],
       "layout": "IPY_MODEL_072676659872427993f0319eb0169d0b"
      }
     },
     "17011919589642dc9ad2dac203e1ca30": {
      "model_module": "@jupyter-widgets/base",
      "model_module_version": "1.2.0",
      "model_name": "LayoutModel",
      "state": {}
     },
     "1705c06670b74c4f9e861095056c519c": {
      "model_module": "@jupyter-widgets/controls",
      "model_module_version": "1.5.0",
      "model_name": "HBoxModel",
      "state": {
       "children": [
        "IPY_MODEL_48b3327046cd480b8e0e4f2030776eb9",
        "IPY_MODEL_f655da6f621a4f5483e1ba4e6f02404d"
       ],
       "layout": "IPY_MODEL_f0a7b4b8ee3d4ac0bfde2cda4028917f"
      }
     },
     "170ebe32c4854f3f9f774af83679d7a8": {
      "model_module": "@jupyter-widgets/base",
      "model_module_version": "1.2.0",
      "model_name": "LayoutModel",
      "state": {}
     },
     "1741060db4c74e2eb4ba5ee1b74bf6e5": {
      "model_module": "@jupyter-widgets/controls",
      "model_module_version": "1.5.0",
      "model_name": "HTMLModel",
      "state": {
       "layout": "IPY_MODEL_19fe41fdaa50493d8e2fae0c583656bc",
       "style": "IPY_MODEL_8ba6795df4444b568e2eef91d056427b",
       "value": " 84137/175320 [3:26:01&lt;6:00:27,  4.22steps/s]"
      }
     },
     "1744a9bbee094a16a3b12203c37082e7": {
      "model_module": "@jupyter-widgets/controls",
      "model_module_version": "1.5.0",
      "model_name": "FloatProgressModel",
      "state": {
       "bar_style": "success",
       "description": "Run 12 of 156 [PID: 21990]: 100%",
       "layout": "IPY_MODEL_d710fc9b8ab44ebe8190c1c317d3e26a",
       "max": 8760,
       "style": "IPY_MODEL_e0ee5a2b866e45c7acb48152b4655a34",
       "value": 8760
      }
     },
     "174b83fa103c44229c6f847ec641a2f6": {
      "model_module": "@jupyter-widgets/controls",
      "model_module_version": "1.5.0",
      "model_name": "ProgressStyleModel",
      "state": {
       "description_width": "initial"
      }
     },
     "17544dbdfced40059dc6a0ae6667ff10": {
      "model_module": "@jupyter-widgets/controls",
      "model_module_version": "1.5.0",
      "model_name": "DescriptionStyleModel",
      "state": {
       "description_width": ""
      }
     },
     "175b53f7918048e5b1657a525efc998f": {
      "model_module": "@jupyter-widgets/controls",
      "model_module_version": "1.5.0",
      "model_name": "FloatProgressModel",
      "state": {
       "description": "Run 122 of 156 [PID: 72845]:  45%",
       "layout": "IPY_MODEL_c7a1dc6ddbdd433696991beacc0a950d",
       "max": 175320,
       "style": "IPY_MODEL_1f578a28300b41e89f0c0c45e963c1c4",
       "value": 78623
      }
     },
     "177d6470b28f442bbe2e7a05cc07ea54": {
      "model_module": "@jupyter-widgets/controls",
      "model_module_version": "1.5.0",
      "model_name": "HBoxModel",
      "state": {
       "children": [
        "IPY_MODEL_6242c8c4e74a48c08098d2a9be5bfac7",
        "IPY_MODEL_4f28591591854e79b0f481a7f8730fd5"
       ],
       "layout": "IPY_MODEL_cf023af2e87c45cc963dcd4102f79561"
      }
     },
     "1782375cebcc4168931cd378358c9dad": {
      "model_module": "@jupyter-widgets/controls",
      "model_module_version": "1.5.0",
      "model_name": "FloatProgressModel",
      "state": {
       "bar_style": "danger",
       "description": "Run 35 of 156 [PID: 45686]:  15%",
       "layout": "IPY_MODEL_c34a6f4d3b3a4702a51ddf848a8d1303",
       "max": 8760,
       "style": "IPY_MODEL_02fe88f7e27e4b16a861281396368e16",
       "value": 1328
      }
     },
     "17a22ce3e7d1496dbc10c642cdac0232": {
      "model_module": "@jupyter-widgets/base",
      "model_module_version": "1.2.0",
      "model_name": "LayoutModel",
      "state": {}
     },
     "17aa2e71d66e43319ef37279401c5be1": {
      "model_module": "@jupyter-widgets/base",
      "model_module_version": "1.2.0",
      "model_name": "LayoutModel",
      "state": {}
     },
     "17e43b984d4348df80912102cf6c585f": {
      "model_module": "@jupyter-widgets/controls",
      "model_module_version": "1.5.0",
      "model_name": "FloatProgressModel",
      "state": {
       "bar_style": "danger",
       "description": "poop:   3%",
       "layout": "IPY_MODEL_8959baadd30e44049a1efcfc9cb7b516",
       "max": 8760,
       "style": "IPY_MODEL_3c3b317324d3451fbf30707b0f844252",
       "value": 242
      }
     },
     "17e8b994382f4aa4bcf32c8f2be11ab5": {
      "model_module": "@jupyter-widgets/controls",
      "model_module_version": "1.5.0",
      "model_name": "HTMLModel",
      "state": {
       "layout": "IPY_MODEL_2300bc5af9d94e6892b64142b00eb2f7",
       "style": "IPY_MODEL_7abfca67902e41309ec29411adf7a79b",
       "value": " 8760/8760 [00:31&lt;00:00, 281.26steps/s]"
      }
     },
     "17f8e715f43b4be7a5d15236a4ee9394": {
      "model_module": "@jupyter-widgets/base",
      "model_module_version": "1.2.0",
      "model_name": "LayoutModel",
      "state": {}
     },
     "180bfca3d7174e5b916066bf1347513b": {
      "model_module": "@jupyter-widgets/controls",
      "model_module_version": "1.5.0",
      "model_name": "DescriptionStyleModel",
      "state": {
       "description_width": ""
      }
     },
     "182f93c1baef43c490b5142ddb451a97": {
      "model_module": "@jupyter-widgets/controls",
      "model_module_version": "1.5.0",
      "model_name": "HTMLModel",
      "state": {
       "layout": "IPY_MODEL_5a27e4dfcb8b4feead21d2b043206219",
       "style": "IPY_MODEL_9fd111c614ca4008acfa55e03fdc3e50",
       "value": " 991/8760 [00:03&lt;00:27, 281.26steps/s]"
      }
     },
     "1851aef9a1e74897af5d6644aca9b29d": {
      "model_module": "@jupyter-widgets/base",
      "model_module_version": "1.2.0",
      "model_name": "LayoutModel",
      "state": {}
     },
     "185717637293425a91019bb9c8fe2117": {
      "model_module": "@jupyter-widgets/controls",
      "model_module_version": "1.5.0",
      "model_name": "FloatProgressModel",
      "state": {
       "bar_style": "danger",
       "description": "poop:   5%",
       "layout": "IPY_MODEL_acb36de515594c61a470e35e598d404e",
       "max": 8760,
       "style": "IPY_MODEL_6dc41113b85445009260fd5a979c974d",
       "value": 433
      }
     },
     "18572dacef9c4686a396bba214506231": {
      "model_module": "@jupyter-widgets/base",
      "model_module_version": "1.2.0",
      "model_name": "LayoutModel",
      "state": {}
     },
     "1858167e077142a29a6b2db23e5eb4b9": {
      "model_module": "@jupyter-widgets/controls",
      "model_module_version": "1.5.0",
      "model_name": "ProgressStyleModel",
      "state": {
       "description_width": "initial"
      }
     },
     "185b5899870145afb03f664edce4cfec": {
      "model_module": "@jupyter-widgets/controls",
      "model_module_version": "1.5.0",
      "model_name": "HTMLModel",
      "state": {
       "layout": "IPY_MODEL_f932b77bc2dc4754a5f58393f0e1e414",
       "style": "IPY_MODEL_29774b15bd8243a78546f0b9c6f80ccd",
       "value": " 4/8760 [00:11&lt;6:53:13,  2.83s/steps]"
      }
     },
     "185d7255d576473180c6a578ff8a4803": {
      "model_module": "@jupyter-widgets/controls",
      "model_module_version": "1.5.0",
      "model_name": "HTMLModel",
      "state": {
       "layout": "IPY_MODEL_21a4772d40ea4555bda7b5793e08d7f6",
       "style": "IPY_MODEL_d9a588a41ed14b7081caab3a6c2ee888",
       "value": " 8760/8760 [00:30&lt;00:00, 289.42steps/s]"
      }
     },
     "186a8a1c7781435ea968956c71921931": {
      "model_module": "@jupyter-widgets/controls",
      "model_module_version": "1.5.0",
      "model_name": "HBoxModel",
      "state": {
       "children": [
        "IPY_MODEL_38ac605bebb747e7af086260c4bfd581",
        "IPY_MODEL_08a9ddd2951347e2a734f94fd41d11aa"
       ],
       "layout": "IPY_MODEL_dace1343d928456292fa88b123cdf96d"
      }
     },
     "188328f2ed034e30ae9af123ed7630a9": {
      "model_module": "@jupyter-widgets/base",
      "model_module_version": "1.2.0",
      "model_name": "LayoutModel",
      "state": {}
     },
     "1890892ff5fe4fa887f8e6f4feb240d3": {
      "model_module": "@jupyter-widgets/base",
      "model_module_version": "1.2.0",
      "model_name": "LayoutModel",
      "state": {}
     },
     "1890ca687f8d4179a7cd67c6ca4afe22": {
      "model_module": "@jupyter-widgets/base",
      "model_module_version": "1.2.0",
      "model_name": "LayoutModel",
      "state": {}
     },
     "1899fadd77d344fdb9a10e3de5bfe92e": {
      "model_module": "@jupyter-widgets/base",
      "model_module_version": "1.2.0",
      "model_name": "LayoutModel",
      "state": {}
     },
     "189a03c4c5ae4c25aeb272c31cff5edf": {
      "model_module": "@jupyter-widgets/controls",
      "model_module_version": "1.5.0",
      "model_name": "DescriptionStyleModel",
      "state": {
       "description_width": ""
      }
     },
     "189e20151d9e4aed97629f311d697e85": {
      "model_module": "@jupyter-widgets/controls",
      "model_module_version": "1.5.0",
      "model_name": "HTMLModel",
      "state": {
       "layout": "IPY_MODEL_aaab00ea8d8b42698d5aae727c8cedb1",
       "style": "IPY_MODEL_0473a194493f4560a11559d3b7f94865",
       "value": " 8760/8760 [00:30&lt;00:00, 288.48steps/s]"
      }
     },
     "18ab83d0825c40c2a14e42ac181d7ccb": {
      "model_module": "@jupyter-widgets/controls",
      "model_module_version": "1.5.0",
      "model_name": "ProgressStyleModel",
      "state": {
       "description_width": "initial"
      }
     },
     "18b886f3c61741fda13e22b6843b1daf": {
      "model_module": "@jupyter-widgets/base",
      "model_module_version": "1.2.0",
      "model_name": "LayoutModel",
      "state": {}
     },
     "18f4c80e0fe646039b687ef74e25fff9": {
      "model_module": "@jupyter-widgets/controls",
      "model_module_version": "1.5.0",
      "model_name": "FloatProgressModel",
      "state": {
       "bar_style": "success",
       "description": "poop: 100%",
       "layout": "IPY_MODEL_2e7af3b798df4a0e8cf18b74e42289a7",
       "max": 8760,
       "style": "IPY_MODEL_0eedc6fabbea42a1b067d4207d4ab63d",
       "value": 8760
      }
     },
     "19200a0f504b40e8b07c54cff5bf9969": {
      "model_module": "@jupyter-widgets/controls",
      "model_module_version": "1.5.0",
      "model_name": "HTMLModel",
      "state": {
       "layout": "IPY_MODEL_00c244cec8ff44a3bf01b790c4de9d4f",
       "style": "IPY_MODEL_608453504d7441d2bd3f4362edb05952",
       "value": " 8760/8760 [00:30&lt;00:00, 290.00steps/s]"
      }
     },
     "1922323076424b48a10c38d05f87e986": {
      "model_module": "@jupyter-widgets/controls",
      "model_module_version": "1.5.0",
      "model_name": "HTMLModel",
      "state": {
       "layout": "IPY_MODEL_489ca75f766048db825bf8f7b3c52560",
       "style": "IPY_MODEL_0e5fc94b04704ca3818bca976b57cba7",
       "value": " 93832/175320 [3:39:43&lt;6:28:27,  3.50steps/s]"
      }
     },
     "1946b46b9b064352988dbbf16b852904": {
      "model_module": "@jupyter-widgets/controls",
      "model_module_version": "1.5.0",
      "model_name": "HTMLModel",
      "state": {
       "layout": "IPY_MODEL_8213d7ded8734bdbbde6ecc512e601a6",
       "style": "IPY_MODEL_ec438ef6bc1348ff89e91031803a43f3",
       "value": " 8760/8760 [00:31&lt;00:00, 275.88steps/s]"
      }
     },
     "194dfa06cdcf442dbcfdfa2c99cb80a6": {
      "model_module": "@jupyter-widgets/controls",
      "model_module_version": "1.5.0",
      "model_name": "ProgressStyleModel",
      "state": {
       "description_width": "initial"
      }
     },
     "197d3cf23e4642e78a5f5746c64ef38d": {
      "model_module": "@jupyter-widgets/controls",
      "model_module_version": "1.5.0",
      "model_name": "ProgressStyleModel",
      "state": {
       "description_width": "initial"
      }
     },
     "198b2a6c6308450e8b95e584ce1006eb": {
      "model_module": "@jupyter-widgets/controls",
      "model_module_version": "1.5.0",
      "model_name": "FloatProgressModel",
      "state": {
       "bar_style": "success",
       "description": "poop: 100%",
       "layout": "IPY_MODEL_355f6c4da0bc47d8997df8ba22c58c94",
       "max": 8760,
       "style": "IPY_MODEL_1200cd224c134dc78ba886c14485cdbb",
       "value": 8760
      }
     },
     "19a452cdeb9049f5ad6c4b4f914a8486": {
      "model_module": "@jupyter-widgets/base",
      "model_module_version": "1.2.0",
      "model_name": "LayoutModel",
      "state": {}
     },
     "19c806d314c2485d81546fdc55186ca0": {
      "model_module": "@jupyter-widgets/base",
      "model_module_version": "1.2.0",
      "model_name": "LayoutModel",
      "state": {}
     },
     "19f7dfebc3364701af22fa2dcf15db75": {
      "model_module": "@jupyter-widgets/base",
      "model_module_version": "1.2.0",
      "model_name": "LayoutModel",
      "state": {}
     },
     "19fe41fdaa50493d8e2fae0c583656bc": {
      "model_module": "@jupyter-widgets/base",
      "model_module_version": "1.2.0",
      "model_name": "LayoutModel",
      "state": {}
     },
     "1a10ba5d210b4452aef0efa6af9efc60": {
      "model_module": "@jupyter-widgets/controls",
      "model_module_version": "1.5.0",
      "model_name": "HBoxModel",
      "state": {
       "children": [
        "IPY_MODEL_ed6de4cfa039451f91ab69af10dc2e02",
        "IPY_MODEL_182f93c1baef43c490b5142ddb451a97"
       ],
       "layout": "IPY_MODEL_d39da8e287e146cb83959420a9b47019"
      }
     },
     "1a17ff63469d43b5a88440c5e44516f1": {
      "model_module": "@jupyter-widgets/controls",
      "model_module_version": "1.5.0",
      "model_name": "HBoxModel",
      "state": {
       "children": [
        "IPY_MODEL_54fa5c96d21e4236beabae020df9e64e",
        "IPY_MODEL_c4629720078e4aa79b43fe657c527563"
       ],
       "layout": "IPY_MODEL_ed06f3908e384be185e03d149f5f7e23"
      }
     },
     "1a4bd92119a54f91826908cf53367a68": {
      "model_module": "@jupyter-widgets/base",
      "model_module_version": "1.2.0",
      "model_name": "LayoutModel",
      "state": {}
     },
     "1a4efc18090d4ad3a44e8cfc4c8ef053": {
      "model_module": "@jupyter-widgets/base",
      "model_module_version": "1.2.0",
      "model_name": "LayoutModel",
      "state": {}
     },
     "1a817fc27eaf4712a19f59a226fa1f65": {
      "model_module": "@jupyter-widgets/controls",
      "model_module_version": "1.5.0",
      "model_name": "HBoxModel",
      "state": {
       "children": [
        "IPY_MODEL_2c7c9b148e034914a8269234d329599a",
        "IPY_MODEL_7456c5ce40f34d16aaa0b6d154e612fe"
       ],
       "layout": "IPY_MODEL_8abbe50c608345f584aaceecd350664d"
      }
     },
     "1a8dd3dd00154b05820285a1a7339317": {
      "model_module": "@jupyter-widgets/controls",
      "model_module_version": "1.5.0",
      "model_name": "DescriptionStyleModel",
      "state": {
       "description_width": ""
      }
     },
     "1ad1579fa5c944a898785acb5e61074e": {
      "model_module": "@jupyter-widgets/base",
      "model_module_version": "1.2.0",
      "model_name": "LayoutModel",
      "state": {}
     },
     "1ade337e1eec448185eb7d088f361048": {
      "model_module": "@jupyter-widgets/controls",
      "model_module_version": "1.5.0",
      "model_name": "HBoxModel",
      "state": {
       "children": [
        "IPY_MODEL_8d15beff447d46feb2acb9120e550dad",
        "IPY_MODEL_1dc6c30da36a44eba488a4dbf2896070"
       ],
       "layout": "IPY_MODEL_610f5205127d46bd8c30484259720177"
      }
     },
     "1afecae5557c45269c81e25f3a320147": {
      "model_module": "@jupyter-widgets/controls",
      "model_module_version": "1.5.0",
      "model_name": "FloatProgressModel",
      "state": {
       "bar_style": "success",
       "description": "Run 15 of 390 [PID: 2308]: 100%",
       "layout": "IPY_MODEL_988fd88fc7de40378d02ee368600000f",
       "max": 8760,
       "style": "IPY_MODEL_194dfa06cdcf442dbcfdfa2c99cb80a6",
       "value": 8760
      }
     },
     "1b20ff3d5d6845f5b4b3b1cd680ee06e": {
      "model_module": "@jupyter-widgets/base",
      "model_module_version": "1.2.0",
      "model_name": "LayoutModel",
      "state": {}
     },
     "1b349b0d89a241c0a69e43040e1c2065": {
      "model_module": "@jupyter-widgets/base",
      "model_module_version": "1.2.0",
      "model_name": "LayoutModel",
      "state": {}
     },
     "1b3bff6aec7a4918b1ac5166076d843b": {
      "model_module": "@jupyter-widgets/controls",
      "model_module_version": "1.5.0",
      "model_name": "DescriptionStyleModel",
      "state": {
       "description_width": ""
      }
     },
     "1b3e5bb511464d02afebc2fc2a8ed4c8": {
      "model_module": "@jupyter-widgets/controls",
      "model_module_version": "1.5.0",
      "model_name": "HBoxModel",
      "state": {
       "children": [
        "IPY_MODEL_91b83fd0a3d14a2a84fdc06f6f021b3b",
        "IPY_MODEL_11a7062338b341659fb618bba981ef5d"
       ],
       "layout": "IPY_MODEL_9b5ee73744664b1da61876e56d8214b8"
      }
     },
     "1b50f53176d84dad84e54bdbc2243e65": {
      "model_module": "@jupyter-widgets/base",
      "model_module_version": "1.2.0",
      "model_name": "LayoutModel",
      "state": {}
     },
     "1b81d8a5e0d94565a8fd214af5a390f9": {
      "model_module": "@jupyter-widgets/controls",
      "model_module_version": "1.5.0",
      "model_name": "HTMLModel",
      "state": {
       "layout": "IPY_MODEL_b90cf179c4724b6083a8793b1d141c46",
       "style": "IPY_MODEL_289e156dd60945fe8d2c6374cf0a0660",
       "value": " 82810/175320 [3:23:48&lt;7:20:44,  3.50steps/s]"
      }
     },
     "1b8c5c934873475980c08e30ee07639e": {
      "model_module": "@jupyter-widgets/controls",
      "model_module_version": "1.5.0",
      "model_name": "FloatProgressModel",
      "state": {
       "bar_style": "success",
       "description": "Run 20 of 156 [PID: 21993]: 100%",
       "layout": "IPY_MODEL_252d008250504bdd967b74a568b90d6b",
       "max": 8760,
       "style": "IPY_MODEL_2a4b8f70dddf483d8dab928e0397c869",
       "value": 8760
      }
     },
     "1bb71d894f5d476f9ca1a4880875e627": {
      "model_module": "@jupyter-widgets/controls",
      "model_module_version": "1.5.0",
      "model_name": "FloatProgressModel",
      "state": {
       "bar_style": "success",
       "description": "100%",
       "layout": "IPY_MODEL_460f79c87f4c4c0180029b635cb53d8f",
       "max": 8760,
       "style": "IPY_MODEL_2f173d54ec2e45189cb4e3e308d5a83f",
       "value": 8760
      }
     },
     "1bbeae5f07184510935a11062d444f99": {
      "model_module": "@jupyter-widgets/controls",
      "model_module_version": "1.5.0",
      "model_name": "FloatProgressModel",
      "state": {
       "bar_style": "success",
       "description": "poop: 100%",
       "layout": "IPY_MODEL_0803709e95544cce908493ecc0f8c112",
       "max": 8760,
       "style": "IPY_MODEL_c90d48b91958468486ac0ce5e1c7ed1e",
       "value": 8760
      }
     },
     "1bd02ddb40b040949bbf227adc3d7a41": {
      "model_module": "@jupyter-widgets/base",
      "model_module_version": "1.2.0",
      "model_name": "LayoutModel",
      "state": {}
     },
     "1bd70d5864d34bd19e84d3d30bb6c86a": {
      "model_module": "@jupyter-widgets/controls",
      "model_module_version": "1.5.0",
      "model_name": "FloatProgressModel",
      "state": {
       "bar_style": "danger",
       "description": "  7%",
       "layout": "IPY_MODEL_eeb1aec19f944baaa1cafc232bdd7bfb",
       "max": 8760,
       "style": "IPY_MODEL_9e9f2eace7014f96abe57f9af615c689",
       "value": 649
      }
     },
     "1bd7110ce7264721a1cf571d8efbe46c": {
      "model_module": "@jupyter-widgets/base",
      "model_module_version": "1.2.0",
      "model_name": "LayoutModel",
      "state": {}
     },
     "1bdf3833a8264254939420f6421d3f8a": {
      "model_module": "@jupyter-widgets/base",
      "model_module_version": "1.2.0",
      "model_name": "LayoutModel",
      "state": {}
     },
     "1be447b5fe8947e1a92b2a2dc26c9db3": {
      "model_module": "@jupyter-widgets/base",
      "model_module_version": "1.2.0",
      "model_name": "LayoutModel",
      "state": {}
     },
     "1c0b31d7e8e24bc4bf03458bc1fa4045": {
      "model_module": "@jupyter-widgets/controls",
      "model_module_version": "1.5.0",
      "model_name": "DescriptionStyleModel",
      "state": {
       "description_width": ""
      }
     },
     "1c11d21cb830493281a2c246ee9a4a7f": {
      "model_module": "@jupyter-widgets/base",
      "model_module_version": "1.2.0",
      "model_name": "LayoutModel",
      "state": {}
     },
     "1c27d158708844ab820955ce6e4716d5": {
      "model_module": "@jupyter-widgets/controls",
      "model_module_version": "1.5.0",
      "model_name": "ProgressStyleModel",
      "state": {
       "description_width": "initial"
      }
     },
     "1c3a126f7f444d80a770796b02725c20": {
      "model_module": "@jupyter-widgets/controls",
      "model_module_version": "1.5.0",
      "model_name": "HTMLModel",
      "state": {
       "layout": "IPY_MODEL_310f59c2a8f64955a9ab91defde4bebb",
       "style": "IPY_MODEL_dccb46799cd949548b9acc77c6fc75fb",
       "value": " 2759/8760 [00:09&lt;00:20, 291.31steps/s]"
      }
     },
     "1c3a7c056dbf4a5ca4f25306ed08ca89": {
      "model_module": "@jupyter-widgets/controls",
      "model_module_version": "1.5.0",
      "model_name": "HTMLModel",
      "state": {
       "layout": "IPY_MODEL_0ae8f76ee97c4f34b3aaebbc8dc0cd74",
       "style": "IPY_MODEL_2e6ce16476b34275b82d264b626bd0a2",
       "value": " 83407/175320 [3:24:06&lt;3:43:04,  6.87steps/s]"
      }
     },
     "1c451459532541bf974fe527ed57816a": {
      "model_module": "@jupyter-widgets/controls",
      "model_module_version": "1.5.0",
      "model_name": "ProgressStyleModel",
      "state": {
       "description_width": "initial"
      }
     },
     "1c457728de14467cb57d8f18ab0a7be2": {
      "model_module": "@jupyter-widgets/base",
      "model_module_version": "1.2.0",
      "model_name": "LayoutModel",
      "state": {}
     },
     "1c65cb7c1a3b42309238ccdb6e6cea36": {
      "model_module": "@jupyter-widgets/controls",
      "model_module_version": "1.5.0",
      "model_name": "HTMLModel",
      "state": {
       "layout": "IPY_MODEL_d5d8c2f2526d422087236f91146c7cb7",
       "style": "IPY_MODEL_52028ae2be144e048bd3c211d0ce54aa",
       "value": " 83719/175320 [3:28:07&lt;5:02:39,  5.04steps/s]"
      }
     },
     "1c67cccfd0f5471ab0834eaf46906582": {
      "model_module": "@jupyter-widgets/controls",
      "model_module_version": "1.5.0",
      "model_name": "ProgressStyleModel",
      "state": {
       "description_width": "initial"
      }
     },
     "1c8f47684c8f422786df46d39c03441a": {
      "model_module": "@jupyter-widgets/base",
      "model_module_version": "1.2.0",
      "model_name": "LayoutModel",
      "state": {}
     },
     "1c9ac151c5da4c33acf5886bf9094557": {
      "model_module": "@jupyter-widgets/controls",
      "model_module_version": "1.5.0",
      "model_name": "HTMLModel",
      "state": {
       "layout": "IPY_MODEL_f2d1da96bf6a4073b4dc36ddff3b5bb1",
       "style": "IPY_MODEL_23e9c1d94d3a46959997601645ac670e",
       "value": " 8760/8760 [00:31&lt;00:00, 281.01steps/s]"
      }
     },
     "1c9c703c1719474d8a1e68d9ae1ca7b5": {
      "model_module": "@jupyter-widgets/controls",
      "model_module_version": "1.5.0",
      "model_name": "ProgressStyleModel",
      "state": {
       "description_width": "initial"
      }
     },
     "1ce4b02215274638944f1eb385492799": {
      "model_module": "@jupyter-widgets/controls",
      "model_module_version": "1.5.0",
      "model_name": "FloatProgressModel",
      "state": {
       "bar_style": "success",
       "description": "100%",
       "layout": "IPY_MODEL_ffb509345e234bc9be8fcd66a7068753",
       "max": 8760,
       "style": "IPY_MODEL_7aa6a00875104848804065d33751eeb6",
       "value": 8760
      }
     },
     "1cf996db3d4542c98757c4574dba7d60": {
      "model_module": "@jupyter-widgets/controls",
      "model_module_version": "1.5.0",
      "model_name": "HBoxModel",
      "state": {
       "children": [
        "IPY_MODEL_a775ce1ef0d44775997a27f04746367e",
        "IPY_MODEL_82d247c280d24000900cb8a8b77cb67b"
       ],
       "layout": "IPY_MODEL_a17f1057c01c43aba56f3f67991a7a1d"
      }
     },
     "1d05e4eae6644edcb7d94fbaede33f83": {
      "model_module": "@jupyter-widgets/base",
      "model_module_version": "1.2.0",
      "model_name": "LayoutModel",
      "state": {}
     },
     "1d454d1809c74bc6855feac7a4e90382": {
      "model_module": "@jupyter-widgets/base",
      "model_module_version": "1.2.0",
      "model_name": "LayoutModel",
      "state": {}
     },
     "1d45e0ea877348768acc55b3b5a5af7f": {
      "model_module": "@jupyter-widgets/base",
      "model_module_version": "1.2.0",
      "model_name": "LayoutModel",
      "state": {}
     },
     "1d79c90e99504a6387540afd52504304": {
      "model_module": "@jupyter-widgets/controls",
      "model_module_version": "1.5.0",
      "model_name": "FloatProgressModel",
      "state": {
       "bar_style": "success",
       "description": "poop: 100%",
       "layout": "IPY_MODEL_b3a181056ea648f5936d8f541406b63a",
       "max": 8760,
       "style": "IPY_MODEL_c8c9ecf8b5614ae38436133d76952031",
       "value": 8760
      }
     },
     "1d97b411ec2745edbd5d9fb9bded52a9": {
      "model_module": "@jupyter-widgets/controls",
      "model_module_version": "1.5.0",
      "model_name": "ProgressStyleModel",
      "state": {
       "description_width": "initial"
      }
     },
     "1da0f69eed0846e8a003a98b7f7d260f": {
      "model_module": "@jupyter-widgets/controls",
      "model_module_version": "1.5.0",
      "model_name": "ProgressStyleModel",
      "state": {
       "description_width": "initial"
      }
     },
     "1dbe43826f8a45f890fa17bbb6bdae68": {
      "model_module": "@jupyter-widgets/controls",
      "model_module_version": "1.5.0",
      "model_name": "HTMLModel",
      "state": {
       "layout": "IPY_MODEL_da06037e7fbe4bc99859c51d07d427f5",
       "style": "IPY_MODEL_cb40f30bdc834a5fac5537d3ac9c2438",
       "value": " 8760/8760 [00:31&lt;00:00, 279.52steps/s]"
      }
     },
     "1dc027e56bec429490d2e2f412bd5350": {
      "model_module": "@jupyter-widgets/controls",
      "model_module_version": "1.5.0",
      "model_name": "DescriptionStyleModel",
      "state": {
       "description_width": ""
      }
     },
     "1dc6c30da36a44eba488a4dbf2896070": {
      "model_module": "@jupyter-widgets/controls",
      "model_module_version": "1.5.0",
      "model_name": "HTMLModel",
      "state": {
       "layout": "IPY_MODEL_b849e884c844441b9e74dc3a825241de",
       "style": "IPY_MODEL_dde43cc29f2c44b7b101c298f44eba91",
       "value": " 8760/8760 [00:30&lt;00:00, 284.03steps/s]"
      }
     },
     "1dced08020674ccdb734bf9b58f1e6f0": {
      "model_module": "@jupyter-widgets/base",
      "model_module_version": "1.2.0",
      "model_name": "LayoutModel",
      "state": {}
     },
     "1de7d11dd1f14694ae61ef0897612c39": {
      "model_module": "@jupyter-widgets/controls",
      "model_module_version": "1.5.0",
      "model_name": "ProgressStyleModel",
      "state": {
       "description_width": "initial"
      }
     },
     "1df4373763274602895e8610ae2c507c": {
      "model_module": "@jupyter-widgets/controls",
      "model_module_version": "1.5.0",
      "model_name": "HBoxModel",
      "state": {
       "children": [
        "IPY_MODEL_bbec716e2b964abdbbba6ad304bce85f",
        "IPY_MODEL_f19f65dc347f441495adb1b7c4dd06e4"
       ],
       "layout": "IPY_MODEL_34682cc4106543e98b1f849a20e2eee9"
      }
     },
     "1e4c77a0577c46a3aa9b4487dda6a983": {
      "model_module": "@jupyter-widgets/base",
      "model_module_version": "1.2.0",
      "model_name": "LayoutModel",
      "state": {}
     },
     "1e599e8e7be14f099be5aafd3294b9a9": {
      "model_module": "@jupyter-widgets/base",
      "model_module_version": "1.2.0",
      "model_name": "LayoutModel",
      "state": {}
     },
     "1e89a8db86174a2ab44ecd81933f2f82": {
      "model_module": "@jupyter-widgets/base",
      "model_module_version": "1.2.0",
      "model_name": "LayoutModel",
      "state": {}
     },
     "1ea84ee2d9ec4ba5b455bd3e50d63333": {
      "model_module": "@jupyter-widgets/controls",
      "model_module_version": "1.5.0",
      "model_name": "ProgressStyleModel",
      "state": {
       "description_width": "initial"
      }
     },
     "1ea981380949460fa9d0f37cb4901ca8": {
      "model_module": "@jupyter-widgets/controls",
      "model_module_version": "1.5.0",
      "model_name": "ProgressStyleModel",
      "state": {
       "description_width": "initial"
      }
     },
     "1ebe6f2bf27f4d4a92f6b3a965a90b89": {
      "model_module": "@jupyter-widgets/controls",
      "model_module_version": "1.5.0",
      "model_name": "DescriptionStyleModel",
      "state": {
       "description_width": ""
      }
     },
     "1ec8430781584f968f667edbf9e8e2fd": {
      "model_module": "@jupyter-widgets/controls",
      "model_module_version": "1.5.0",
      "model_name": "HBoxModel",
      "state": {
       "children": [
        "IPY_MODEL_5063e1cd694e481184e5684d7da97c81",
        "IPY_MODEL_d4355c8b4db74abd900c304ef05f13c4"
       ],
       "layout": "IPY_MODEL_512f71146e6a43d6b0f1b281374b71af"
      }
     },
     "1ef5ee4795d640948fa6fefb2a6583e1": {
      "model_module": "@jupyter-widgets/base",
      "model_module_version": "1.2.0",
      "model_name": "LayoutModel",
      "state": {}
     },
     "1ef678597789407686588d60d920463f": {
      "model_module": "@jupyter-widgets/controls",
      "model_module_version": "1.5.0",
      "model_name": "DescriptionStyleModel",
      "state": {
       "description_width": ""
      }
     },
     "1f1079626b8247409e2a00fc4aa4eb26": {
      "model_module": "@jupyter-widgets/base",
      "model_module_version": "1.2.0",
      "model_name": "LayoutModel",
      "state": {}
     },
     "1f1668d33b644fc09b99f6c3f732b90f": {
      "model_module": "@jupyter-widgets/controls",
      "model_module_version": "1.5.0",
      "model_name": "FloatProgressModel",
      "state": {
       "description": "Run 87 of 156 [PID: 72829]:  49%",
       "layout": "IPY_MODEL_133270efe310427493dfda3f6ecc181c",
       "max": 175320,
       "style": "IPY_MODEL_98a883baf2804e70ba38e4793042aea5",
       "value": 85284
      }
     },
     "1f1881e6759e443482bd860a0e196fd5": {
      "model_module": "@jupyter-widgets/controls",
      "model_module_version": "1.5.0",
      "model_name": "HTMLModel",
      "state": {
       "layout": "IPY_MODEL_e917509d66d6400fb2fa4fa348e8940b",
       "style": "IPY_MODEL_c8c44a94364a4ba0a2324ca54cd3b1fa",
       "value": " 8760/8760 [00:30&lt;00:00, 283.33steps/s]"
      }
     },
     "1f1c4f0705014cf1a738499b0011feed": {
      "model_module": "@jupyter-widgets/base",
      "model_module_version": "1.2.0",
      "model_name": "LayoutModel",
      "state": {}
     },
     "1f2784b74d5f4390ab1dc70a0dbb4286": {
      "model_module": "@jupyter-widgets/base",
      "model_module_version": "1.2.0",
      "model_name": "LayoutModel",
      "state": {}
     },
     "1f3063afd56346a9aa1819317a7b198b": {
      "model_module": "@jupyter-widgets/controls",
      "model_module_version": "1.5.0",
      "model_name": "HTMLModel",
      "state": {
       "layout": "IPY_MODEL_b43a5089595b4dabad79243d461cbeb9",
       "style": "IPY_MODEL_781b2f704d4c462d82e390d330daf752",
       "value": " 8760/8760 [00:30&lt;00:00, 290.50steps/s]"
      }
     },
     "1f316a49d8f448888461d6125cd1bd0e": {
      "model_module": "@jupyter-widgets/controls",
      "model_module_version": "1.5.0",
      "model_name": "HTMLModel",
      "state": {
       "layout": "IPY_MODEL_6dac9ef64124436688e93330aa349408",
       "style": "IPY_MODEL_8aa02370b56f415cb85e414466425f2c",
       "value": " 85797/175320 [3:27:17&lt;4:44:25,  5.25steps/s]"
      }
     },
     "1f31928e72254c0e861bd469ab644a37": {
      "model_module": "@jupyter-widgets/controls",
      "model_module_version": "1.5.0",
      "model_name": "HTMLModel",
      "state": {
       "layout": "IPY_MODEL_38bfba5a8840438498d2bfdf9ee87604",
       "style": "IPY_MODEL_b07270fa844946a6bdcbf142201eed0d",
       "value": " 8760/8760 [00:30&lt;00:00, 289.42steps/s]"
      }
     },
     "1f31f022085c42818ae671f8f957779e": {
      "model_module": "@jupyter-widgets/base",
      "model_module_version": "1.2.0",
      "model_name": "LayoutModel",
      "state": {}
     },
     "1f35d13e09914e4bafe3f559f8654864": {
      "model_module": "@jupyter-widgets/controls",
      "model_module_version": "1.5.0",
      "model_name": "ProgressStyleModel",
      "state": {
       "description_width": "initial"
      }
     },
     "1f578a28300b41e89f0c0c45e963c1c4": {
      "model_module": "@jupyter-widgets/controls",
      "model_module_version": "1.5.0",
      "model_name": "ProgressStyleModel",
      "state": {
       "description_width": "initial"
      }
     },
     "1f79247a73994b3ea143590a647339ee": {
      "model_module": "@jupyter-widgets/base",
      "model_module_version": "1.2.0",
      "model_name": "LayoutModel",
      "state": {}
     },
     "1f923a7b32ba4f6bb1db9c1a25247ecb": {
      "model_module": "@jupyter-widgets/controls",
      "model_module_version": "1.5.0",
      "model_name": "DescriptionStyleModel",
      "state": {
       "description_width": ""
      }
     },
     "1fb7769a9f904df0824d835d5f5e2f7f": {
      "model_module": "@jupyter-widgets/controls",
      "model_module_version": "1.5.0",
      "model_name": "HBoxModel",
      "state": {
       "children": [
        "IPY_MODEL_026a636dd8a047d0992b12cc32a8334e",
        "IPY_MODEL_2cb84eff8b834ece918564e475a01543"
       ],
       "layout": "IPY_MODEL_350bbb5a2bcb4c89845677529ca22a57"
      }
     },
     "1fdade381ac24a3cbc156d7dd46902f7": {
      "model_module": "@jupyter-widgets/base",
      "model_module_version": "1.2.0",
      "model_name": "LayoutModel",
      "state": {}
     },
     "1fdb5c1699c04dfc9e510b505335e5d2": {
      "model_module": "@jupyter-widgets/base",
      "model_module_version": "1.2.0",
      "model_name": "LayoutModel",
      "state": {}
     },
     "200afef92f594b9484ab04a58f8c0b76": {
      "model_module": "@jupyter-widgets/controls",
      "model_module_version": "1.5.0",
      "model_name": "ProgressStyleModel",
      "state": {
       "description_width": "initial"
      }
     },
     "202ba59e6b334db88882ebd3a938588b": {
      "model_module": "@jupyter-widgets/controls",
      "model_module_version": "1.5.0",
      "model_name": "ProgressStyleModel",
      "state": {
       "description_width": "initial"
      }
     },
     "202c6f0a17b340c28a843ada36d85cf9": {
      "model_module": "@jupyter-widgets/controls",
      "model_module_version": "1.5.0",
      "model_name": "FloatProgressModel",
      "state": {
       "bar_style": "danger",
       "description": "Run 32 of 156 [PID: 45696]:  21%",
       "layout": "IPY_MODEL_103c6a0d9e17400988795f36c1f526c8",
       "max": 8760,
       "style": "IPY_MODEL_ec2be64f252f48869898b826bdc055b0",
       "value": 1819
      }
     },
     "2040ee1b79dc42849937647a2a6542ae": {
      "model_module": "@jupyter-widgets/controls",
      "model_module_version": "1.5.0",
      "model_name": "FloatProgressModel",
      "state": {
       "bar_style": "success",
       "description": "100%",
       "layout": "IPY_MODEL_50ec6c426e0841cf9628d897e1012c75",
       "max": 8760,
       "style": "IPY_MODEL_c68b0211752c441aa05e9f842b6855ae",
       "value": 8760
      }
     },
     "205306126e9d4b518d44aad79bd5e19c": {
      "model_module": "@jupyter-widgets/base",
      "model_module_version": "1.2.0",
      "model_name": "LayoutModel",
      "state": {}
     },
     "209bba36a2214fc584e7e83e66c4dea0": {
      "model_module": "@jupyter-widgets/base",
      "model_module_version": "1.2.0",
      "model_name": "LayoutModel",
      "state": {}
     },
     "20d2f1b4950d4468af69f3fe61ba566f": {
      "model_module": "@jupyter-widgets/controls",
      "model_module_version": "1.5.0",
      "model_name": "HTMLModel",
      "state": {
       "layout": "IPY_MODEL_efab0dae8b244441a65774a820ba2308",
       "style": "IPY_MODEL_8fa844c3d8a946178280cb93c1bcca0d",
       "value": " 8760/8760 [00:30&lt;00:00, 288.82steps/s]"
      }
     },
     "210be625867f4c16864cd36d9e9e7c71": {
      "model_module": "@jupyter-widgets/controls",
      "model_module_version": "1.5.0",
      "model_name": "FloatProgressModel",
      "state": {
       "bar_style": "success",
       "description": "poop: 100%",
       "layout": "IPY_MODEL_8bed12b281964ba19507778c24b9944c",
       "max": 8760,
       "style": "IPY_MODEL_ff057d0ae5994b6d807ac41e8142e106",
       "value": 8760
      }
     },
     "21106427ea8e48338fb749708be1e852": {
      "model_module": "@jupyter-widgets/controls",
      "model_module_version": "1.5.0",
      "model_name": "FloatProgressModel",
      "state": {
       "bar_style": "success",
       "description": "Run 21 of 156 [PID: 45687]: 100%",
       "layout": "IPY_MODEL_f1f1c867d843464f8ee5865c7b521a54",
       "max": 8760,
       "style": "IPY_MODEL_3419005e772140bf866230fe1bbafcea",
       "value": 8760
      }
     },
     "211295140fe64742b9000e01df207cec": {
      "model_module": "@jupyter-widgets/base",
      "model_module_version": "1.2.0",
      "model_name": "LayoutModel",
      "state": {}
     },
     "21396ddb87af48e392a531750f994f4b": {
      "model_module": "@jupyter-widgets/controls",
      "model_module_version": "1.5.0",
      "model_name": "ProgressStyleModel",
      "state": {
       "description_width": "initial"
      }
     },
     "21611a6c7b8647ee82ac424b9565bf06": {
      "model_module": "@jupyter-widgets/controls",
      "model_module_version": "1.5.0",
      "model_name": "HTMLModel",
      "state": {
       "layout": "IPY_MODEL_6d3e8c8fab674e60b8ac7a6a3834f463",
       "style": "IPY_MODEL_990bcde3773f46399d5ca2266b501639",
       "value": " 5773/8760 [00:20&lt;00:11, 269.65steps/s]"
      }
     },
     "216b9a1598ce41a789340c2ec6c227bd": {
      "model_module": "@jupyter-widgets/controls",
      "model_module_version": "1.5.0",
      "model_name": "DescriptionStyleModel",
      "state": {
       "description_width": ""
      }
     },
     "216d35c5f4f242ce9a8fe65611e6877b": {
      "model_module": "@jupyter-widgets/controls",
      "model_module_version": "1.5.0",
      "model_name": "FloatProgressModel",
      "state": {
       "bar_style": "success",
       "description": "Run 33 of 156 [PID: 21987]: 100%",
       "layout": "IPY_MODEL_6122b300144349a5bc214dd2c3c93a77",
       "max": 8760,
       "style": "IPY_MODEL_c7a9c0b8c5a1498fb686d840899cdd56",
       "value": 8760
      }
     },
     "21a4772d40ea4555bda7b5793e08d7f6": {
      "model_module": "@jupyter-widgets/base",
      "model_module_version": "1.2.0",
      "model_name": "LayoutModel",
      "state": {}
     },
     "221b28b08a3b4b8f884f1b2dd6d29901": {
      "model_module": "@jupyter-widgets/base",
      "model_module_version": "1.2.0",
      "model_name": "LayoutModel",
      "state": {}
     },
     "221c73a2913a4bd6aa3feac8e073b7bf": {
      "model_module": "@jupyter-widgets/base",
      "model_module_version": "1.2.0",
      "model_name": "LayoutModel",
      "state": {}
     },
     "221d2095ea984525992f1fe3de9e03df": {
      "model_module": "@jupyter-widgets/controls",
      "model_module_version": "1.5.0",
      "model_name": "DescriptionStyleModel",
      "state": {
       "description_width": ""
      }
     },
     "22933f0dc5c44d90b3d08c05a6e98c16": {
      "model_module": "@jupyter-widgets/base",
      "model_module_version": "1.2.0",
      "model_name": "LayoutModel",
      "state": {}
     },
     "22b95829472f4da5988fa8c1f1652df2": {
      "model_module": "@jupyter-widgets/controls",
      "model_module_version": "1.5.0",
      "model_name": "FloatProgressModel",
      "state": {
       "bar_style": "success",
       "description": "100%",
       "layout": "IPY_MODEL_2b6eea12da044ffebf361298d86ec063",
       "max": 8760,
       "style": "IPY_MODEL_34c59fdfaf1e4d439c2e43517bf868f9",
       "value": 8760
      }
     },
     "22e65472b75a4de5aeb498662669e0d8": {
      "model_module": "@jupyter-widgets/controls",
      "model_module_version": "1.5.0",
      "model_name": "FloatProgressModel",
      "state": {
       "bar_style": "success",
       "description": "Run 71 of 156 [PID: 21986]: 100%",
       "layout": "IPY_MODEL_ee92eee7cd204f20a213cd5b127cb915",
       "max": 8760,
       "style": "IPY_MODEL_ad99594ef01046f8b015d5256df60b0c",
       "value": 8760
      }
     },
     "22fdf1a3bae4432e9542f1f1a03f391d": {
      "model_module": "@jupyter-widgets/controls",
      "model_module_version": "1.5.0",
      "model_name": "DescriptionStyleModel",
      "state": {
       "description_width": ""
      }
     },
     "2300bc5af9d94e6892b64142b00eb2f7": {
      "model_module": "@jupyter-widgets/base",
      "model_module_version": "1.2.0",
      "model_name": "LayoutModel",
      "state": {}
     },
     "2304bed4fd0c4041afa279dc4f2f926f": {
      "model_module": "@jupyter-widgets/base",
      "model_module_version": "1.2.0",
      "model_name": "LayoutModel",
      "state": {}
     },
     "23273e432f8346d791a0af7d056b7fa1": {
      "model_module": "@jupyter-widgets/controls",
      "model_module_version": "1.5.0",
      "model_name": "HTMLModel",
      "state": {
       "layout": "IPY_MODEL_fdcbaf47b8624c81bd20363ce7a02454",
       "style": "IPY_MODEL_23b26285a86649e782074bae84468e22",
       "value": " 8760/8760 [00:30&lt;00:00, 291.71steps/s]"
      }
     },
     "232ab578537643229e313bd2231afdaa": {
      "model_module": "@jupyter-widgets/base",
      "model_module_version": "1.2.0",
      "model_name": "LayoutModel",
      "state": {}
     },
     "23437d5efe17456fb7583a9c37e4d17a": {
      "model_module": "@jupyter-widgets/controls",
      "model_module_version": "1.5.0",
      "model_name": "DescriptionStyleModel",
      "state": {
       "description_width": ""
      }
     },
     "234475597c8c43258f1260868fd27908": {
      "model_module": "@jupyter-widgets/base",
      "model_module_version": "1.2.0",
      "model_name": "LayoutModel",
      "state": {}
     },
     "23469c2752194fbe8619c862c400fdab": {
      "model_module": "@jupyter-widgets/controls",
      "model_module_version": "1.5.0",
      "model_name": "FloatProgressModel",
      "state": {
       "description": "Run 69 of 156 [PID: 72831]:  57%",
       "layout": "IPY_MODEL_6c0a072ca61e4162ae863536266405b1",
       "max": 175320,
       "style": "IPY_MODEL_12d3c7dc4dbd47208de8727c9ca7563d",
       "value": 99511
      }
     },
     "2346fe47ed85481faa0353c17a48e904": {
      "model_module": "@jupyter-widgets/controls",
      "model_module_version": "1.5.0",
      "model_name": "HTMLModel",
      "state": {
       "layout": "IPY_MODEL_48285df3b23d447a888950e4ea213b37",
       "style": "IPY_MODEL_4003898b2a72455dbde59618d2e0ae8a",
       "value": " 8760/8760 [00:30&lt;00:00, 283.64steps/s]"
      }
     },
     "2354f66db5324eaf8e7e36bb5981bdbb": {
      "model_module": "@jupyter-widgets/base",
      "model_module_version": "1.2.0",
      "model_name": "LayoutModel",
      "state": {}
     },
     "2361e832f3864bf38157e1b1ab4c681f": {
      "model_module": "@jupyter-widgets/controls",
      "model_module_version": "1.5.0",
      "model_name": "HBoxModel",
      "state": {
       "children": [
        "IPY_MODEL_c65a4916b58249afb6ec1c50284959bc",
        "IPY_MODEL_3073217a25974cf88ece50ae0ece799e"
       ],
       "layout": "IPY_MODEL_d825df38a4c747048e2476a1ce958781"
      }
     },
     "23941638df0e4443a06c0c6879ad4b35": {
      "model_module": "@jupyter-widgets/controls",
      "model_module_version": "1.5.0",
      "model_name": "HBoxModel",
      "state": {
       "children": [
        "IPY_MODEL_347d4d1f157641a386972f7334a35acc",
        "IPY_MODEL_f0590954f3f74f53b78916b2ac8772f3"
       ],
       "layout": "IPY_MODEL_946eabd8851145f4833cd9f7db843b1c"
      }
     },
     "239bd51371254572a85997e6d963f107": {
      "model_module": "@jupyter-widgets/base",
      "model_module_version": "1.2.0",
      "model_name": "LayoutModel",
      "state": {}
     },
     "23b26285a86649e782074bae84468e22": {
      "model_module": "@jupyter-widgets/controls",
      "model_module_version": "1.5.0",
      "model_name": "DescriptionStyleModel",
      "state": {
       "description_width": ""
      }
     },
     "23d4d358e68a47b19cd16dddd45086a3": {
      "model_module": "@jupyter-widgets/base",
      "model_module_version": "1.2.0",
      "model_name": "LayoutModel",
      "state": {}
     },
     "23e9c1d94d3a46959997601645ac670e": {
      "model_module": "@jupyter-widgets/controls",
      "model_module_version": "1.5.0",
      "model_name": "DescriptionStyleModel",
      "state": {
       "description_width": ""
      }
     },
     "24327f74cf2b4549afc7a1907242f019": {
      "model_module": "@jupyter-widgets/controls",
      "model_module_version": "1.5.0",
      "model_name": "FloatProgressModel",
      "state": {
       "bar_style": "danger",
       "description": "poop:  13%",
       "layout": "IPY_MODEL_3adbf2b09a2440929aa1594b877f63c1",
       "max": 8760,
       "style": "IPY_MODEL_aaea56d862e34771b8e3f0d5c29df8e5",
       "value": 1101
      }
     },
     "243a3caef6ac46268548ed5fef432fc6": {
      "model_module": "@jupyter-widgets/base",
      "model_module_version": "1.2.0",
      "model_name": "LayoutModel",
      "state": {}
     },
     "2451aa8bb4c949b48da2e45594fdd29c": {
      "model_module": "@jupyter-widgets/controls",
      "model_module_version": "1.5.0",
      "model_name": "HTMLModel",
      "state": {
       "layout": "IPY_MODEL_134159ae749e4b10bb971754144ec1e7",
       "style": "IPY_MODEL_640a36668cb541c882db6ebc31476a20",
       "value": " 8760/8760 [00:31&lt;00:00, 277.20steps/s]"
      }
     },
     "246b61bd22f24479ae7795dbabf4cdfe": {
      "model_module": "@jupyter-widgets/controls",
      "model_module_version": "1.5.0",
      "model_name": "HTMLModel",
      "state": {
       "layout": "IPY_MODEL_0657f0ff172944f7abf2968ef8818b3d",
       "style": "IPY_MODEL_719f8e7e990b453c8bf44868abf97444",
       "value": " 8760/8760 [00:31&lt;00:00, 275.57steps/s]"
      }
     },
     "24730975830448b99fcc456c00332c66": {
      "model_module": "@jupyter-widgets/base",
      "model_module_version": "1.2.0",
      "model_name": "LayoutModel",
      "state": {}
     },
     "2480223dde63434481e455ca6729ae01": {
      "model_module": "@jupyter-widgets/base",
      "model_module_version": "1.2.0",
      "model_name": "LayoutModel",
      "state": {}
     },
     "24817c4c7d804c07abb0c79e27c3b506": {
      "model_module": "@jupyter-widgets/base",
      "model_module_version": "1.2.0",
      "model_name": "LayoutModel",
      "state": {}
     },
     "24938d1ae59a41928910e5212915ee5b": {
      "model_module": "@jupyter-widgets/base",
      "model_module_version": "1.2.0",
      "model_name": "LayoutModel",
      "state": {}
     },
     "24bbea2d793849b784bec7aadbc37d95": {
      "model_module": "@jupyter-widgets/base",
      "model_module_version": "1.2.0",
      "model_name": "LayoutModel",
      "state": {}
     },
     "24db79186c2b482d89eac887e2d99e18": {
      "model_module": "@jupyter-widgets/controls",
      "model_module_version": "1.5.0",
      "model_name": "HTMLModel",
      "state": {
       "layout": "IPY_MODEL_146fee7d3a934d5e808bce194506cad9",
       "style": "IPY_MODEL_3615abb3838e412a98012e03ee642490",
       "value": " 8760/8760 [00:30&lt;00:00, 286.06steps/s]"
      }
     },
     "250e8580b2d846388d57b1daca40ef99": {
      "model_module": "@jupyter-widgets/base",
      "model_module_version": "1.2.0",
      "model_name": "LayoutModel",
      "state": {}
     },
     "251ba3db6a154a65a97411297f47f587": {
      "model_module": "@jupyter-widgets/controls",
      "model_module_version": "1.5.0",
      "model_name": "HTMLModel",
      "state": {
       "layout": "IPY_MODEL_4775a1ca83d4463b89c147c13c2bfbb8",
       "style": "IPY_MODEL_502e6980b14949d98845417c8837c28d",
       "value": " 6971/8760 [00:23&lt;00:06, 291.06steps/s]"
      }
     },
     "252d008250504bdd967b74a568b90d6b": {
      "model_module": "@jupyter-widgets/base",
      "model_module_version": "1.2.0",
      "model_name": "LayoutModel",
      "state": {}
     },
     "25381689c1514b4ba94f36e367a9accd": {
      "model_module": "@jupyter-widgets/base",
      "model_module_version": "1.2.0",
      "model_name": "LayoutModel",
      "state": {}
     },
     "254c1a117fa04bc7bcd7e94842a3ceae": {
      "model_module": "@jupyter-widgets/base",
      "model_module_version": "1.2.0",
      "model_name": "LayoutModel",
      "state": {}
     },
     "2569063bdba541b6b13719dde828f3d4": {
      "model_module": "@jupyter-widgets/controls",
      "model_module_version": "1.5.0",
      "model_name": "HTMLModel",
      "state": {
       "layout": "IPY_MODEL_64f366b68b0c409e94303cf2b37ab017",
       "style": "IPY_MODEL_005d656d43314ad486f556811ff368fe",
       "value": " 82344/175320 [3:24:39&lt;7:41:29,  3.36steps/s]"
      }
     },
     "257144d88786451787199ae9ebff9395": {
      "model_module": "@jupyter-widgets/controls",
      "model_module_version": "1.5.0",
      "model_name": "HTMLModel",
      "state": {
       "layout": "IPY_MODEL_7f7046e6eb554e9ba75c30e111b13116",
       "style": "IPY_MODEL_295a00fb8c79488992cc12a2eb5a5d6d",
       "value": " 8760/8760 [00:31&lt;00:00, 282.02steps/s]"
      }
     },
     "2573a536c5114abbb566ddedf0edc92f": {
      "model_module": "@jupyter-widgets/base",
      "model_module_version": "1.2.0",
      "model_name": "LayoutModel",
      "state": {}
     },
     "2575a8ced9dc47d38b6f2bed4e260590": {
      "model_module": "@jupyter-widgets/base",
      "model_module_version": "1.2.0",
      "model_name": "LayoutModel",
      "state": {}
     },
     "25776991fc5d42e59a54acdded9d8009": {
      "model_module": "@jupyter-widgets/controls",
      "model_module_version": "1.5.0",
      "model_name": "ProgressStyleModel",
      "state": {
       "description_width": "initial"
      }
     },
     "25a2d4c9672b4f16a67034ce16e4d93e": {
      "model_module": "@jupyter-widgets/base",
      "model_module_version": "1.2.0",
      "model_name": "LayoutModel",
      "state": {}
     },
     "25d2a11f54cc466f8dd1697417d94cf0": {
      "model_module": "@jupyter-widgets/controls",
      "model_module_version": "1.5.0",
      "model_name": "HBoxModel",
      "state": {
       "children": [
        "IPY_MODEL_2040ee1b79dc42849937647a2a6542ae",
        "IPY_MODEL_c19b4469932047c9ab975f4b9692b8e4"
       ],
       "layout": "IPY_MODEL_5596565ba04446edb7a3d08e8cef31e3"
      }
     },
     "25e5d4aa2a4c494984a8f56fd85b9f68": {
      "model_module": "@jupyter-widgets/controls",
      "model_module_version": "1.5.0",
      "model_name": "HTMLModel",
      "state": {
       "layout": "IPY_MODEL_0e61de53d06f41bea6857929a6656825",
       "style": "IPY_MODEL_06cf3b768cad4ce3811f7ea47087870f",
       "value": " 8760/8760 [00:32&lt;00:00, 267.67steps/s]"
      }
     },
     "25ebfc2981ea4503bbc1208ae824ec4e": {
      "model_module": "@jupyter-widgets/base",
      "model_module_version": "1.2.0",
      "model_name": "LayoutModel",
      "state": {}
     },
     "25ef2ac44a4f4323987f9ba37eb161b9": {
      "model_module": "@jupyter-widgets/controls",
      "model_module_version": "1.5.0",
      "model_name": "FloatProgressModel",
      "state": {
       "bar_style": "success",
       "description": "poop: 100%",
       "layout": "IPY_MODEL_84b0bff1196541bfa00ac080bc6f6f7b",
       "max": 8760,
       "style": "IPY_MODEL_fc9011a31290433190e6b10c8945cc9d",
       "value": 8760
      }
     },
     "2609a3a5d4de43ec9c78c8d9d011388e": {
      "model_module": "@jupyter-widgets/base",
      "model_module_version": "1.2.0",
      "model_name": "LayoutModel",
      "state": {}
     },
     "26209824aebb41938eb2f46881e98017": {
      "model_module": "@jupyter-widgets/controls",
      "model_module_version": "1.5.0",
      "model_name": "FloatProgressModel",
      "state": {
       "bar_style": "success",
       "description": "poop: 100%",
       "layout": "IPY_MODEL_9bb53f28c73144e8b1f34b9834f9ff1b",
       "max": 8760,
       "style": "IPY_MODEL_549cf3aafa9343dea2d321cce3e5bfc3",
       "value": 8760
      }
     },
     "262544c214d74903bca204e48ce3779b": {
      "model_module": "@jupyter-widgets/controls",
      "model_module_version": "1.5.0",
      "model_name": "HBoxModel",
      "state": {
       "children": [
        "IPY_MODEL_202c6f0a17b340c28a843ada36d85cf9",
        "IPY_MODEL_cae0b75cf78342688cb298b3868e4219"
       ],
       "layout": "IPY_MODEL_3aa7855e94674161a69ea503bf18f0dc"
      }
     },
     "2628b2a44eff44d18795e431b4c06155": {
      "model_module": "@jupyter-widgets/controls",
      "model_module_version": "1.5.0",
      "model_name": "DescriptionStyleModel",
      "state": {
       "description_width": ""
      }
     },
     "262c3b28d932468db6bac9f49131f949": {
      "model_module": "@jupyter-widgets/base",
      "model_module_version": "1.2.0",
      "model_name": "LayoutModel",
      "state": {}
     },
     "264fc5464a1c4ad385fec4a236f1860d": {
      "model_module": "@jupyter-widgets/controls",
      "model_module_version": "1.5.0",
      "model_name": "ProgressStyleModel",
      "state": {
       "description_width": "initial"
      }
     },
     "2653a3eba2bb42499887973bed739a09": {
      "model_module": "@jupyter-widgets/base",
      "model_module_version": "1.2.0",
      "model_name": "LayoutModel",
      "state": {}
     },
     "2662d8335dff4c56b62c80da7acfad9f": {
      "model_module": "@jupyter-widgets/controls",
      "model_module_version": "1.5.0",
      "model_name": "ProgressStyleModel",
      "state": {
       "description_width": "initial"
      }
     },
     "26756c77300b428ca41235907b481c04": {
      "model_module": "@jupyter-widgets/base",
      "model_module_version": "1.2.0",
      "model_name": "LayoutModel",
      "state": {}
     },
     "267bedbde232433e92f9407dcc6cbc15": {
      "model_module": "@jupyter-widgets/controls",
      "model_module_version": "1.5.0",
      "model_name": "HBoxModel",
      "state": {
       "children": [
        "IPY_MODEL_8e2bbfbac03a4d61b8d06851a56b6064",
        "IPY_MODEL_958c498877944af496a3dfc1a6fea85a"
       ],
       "layout": "IPY_MODEL_89e5d744ef144097a1a09db8e2a50a8d"
      }
     },
     "267c635503d147319d581e4a4c5cdb36": {
      "model_module": "@jupyter-widgets/controls",
      "model_module_version": "1.5.0",
      "model_name": "HTMLModel",
      "state": {
       "layout": "IPY_MODEL_11318b3ed35142a3b467357f5be46fb9",
       "style": "IPY_MODEL_3eb545acd56e455a8b678098a79bf1b2",
       "value": " 8760/8760 [00:31&lt;00:00, 279.45steps/s]"
      }
     },
     "26ca996fb3ba497cbe4bf4eb15aa6ebc": {
      "model_module": "@jupyter-widgets/controls",
      "model_module_version": "1.5.0",
      "model_name": "ProgressStyleModel",
      "state": {
       "description_width": "initial"
      }
     },
     "26dd18fcbe99429c903835280ec9a2e0": {
      "model_module": "@jupyter-widgets/controls",
      "model_module_version": "1.5.0",
      "model_name": "DescriptionStyleModel",
      "state": {
       "description_width": ""
      }
     },
     "26f198d2b4874f38af2f6c8cc2fe1cc8": {
      "model_module": "@jupyter-widgets/controls",
      "model_module_version": "1.5.0",
      "model_name": "FloatProgressModel",
      "state": {
       "bar_style": "success",
       "description": "Run 19 of 390 [PID: 2314]: 100%",
       "layout": "IPY_MODEL_36182fb7905344249d95dc7eaac1020f",
       "max": 8760,
       "style": "IPY_MODEL_6bba6d50279f4245a950447cae0446e2",
       "value": 8760
      }
     },
     "270b3a428435429f87a60d747b730857": {
      "model_module": "@jupyter-widgets/base",
      "model_module_version": "1.2.0",
      "model_name": "LayoutModel",
      "state": {}
     },
     "27275f04e3f64b33a9dc916aff858b45": {
      "model_module": "@jupyter-widgets/controls",
      "model_module_version": "1.5.0",
      "model_name": "ProgressStyleModel",
      "state": {
       "description_width": "initial"
      }
     },
     "2736c4d1d2dc4296865c0ecb145a8279": {
      "model_module": "@jupyter-widgets/controls",
      "model_module_version": "1.5.0",
      "model_name": "FloatProgressModel",
      "state": {
       "description": "Run 95 of 156 [PID: 72811]:  50%",
       "layout": "IPY_MODEL_eb02634ded38478ea70a8579ec173d10",
       "max": 175320,
       "style": "IPY_MODEL_eeb468575b4d454993edbf056b3be050",
       "value": 87499
      }
     },
     "27644356aa7244c2b7c9510b50af8626": {
      "model_module": "@jupyter-widgets/base",
      "model_module_version": "1.2.0",
      "model_name": "LayoutModel",
      "state": {}
     },
     "27740a191a17495e9994d5a4363e2d78": {
      "model_module": "@jupyter-widgets/controls",
      "model_module_version": "1.5.0",
      "model_name": "ProgressStyleModel",
      "state": {
       "description_width": "initial"
      }
     },
     "27804b621e9748bd9137760a3535a4e3": {
      "model_module": "@jupyter-widgets/controls",
      "model_module_version": "1.5.0",
      "model_name": "FloatProgressModel",
      "state": {
       "bar_style": "success",
       "description": "100%",
       "layout": "IPY_MODEL_49e489e4e470422fb1008595bbab77d9",
       "max": 8760,
       "style": "IPY_MODEL_84a0c5c28c614a8389ac0b72f7927f0d",
       "value": 8760
      }
     },
     "27a2e205d2ff4ec590bcc0dc6443931b": {
      "model_module": "@jupyter-widgets/base",
      "model_module_version": "1.2.0",
      "model_name": "LayoutModel",
      "state": {}
     },
     "27ac92ba1b1b4b71a2962d29022cb245": {
      "model_module": "@jupyter-widgets/base",
      "model_module_version": "1.2.0",
      "model_name": "LayoutModel",
      "state": {}
     },
     "27afa90834d8411c8862ce76a35ad41a": {
      "model_module": "@jupyter-widgets/controls",
      "model_module_version": "1.5.0",
      "model_name": "HTMLModel",
      "state": {
       "layout": "IPY_MODEL_c14ced93454a448786da8369ae1cfb49",
       "style": "IPY_MODEL_4818ef11f56a43009859f60a9d80c9ac",
       "value": " 8760/8760 [01:31&lt;00:00, 95.84steps/s]"
      }
     },
     "27c528556a1c4dff8cf40fb1d02f220b": {
      "model_module": "@jupyter-widgets/controls",
      "model_module_version": "1.5.0",
      "model_name": "HBoxModel",
      "state": {
       "children": [
        "IPY_MODEL_b7301733ad514d24a69d46074659f6db",
        "IPY_MODEL_b65b9dcd9ea546ad8c8e76d5ef09dc58"
       ],
       "layout": "IPY_MODEL_bf69353559684a7c86c9418fda6f5bec"
      }
     },
     "27c65fe76ca14333972b858cf9cc7e34": {
      "model_module": "@jupyter-widgets/controls",
      "model_module_version": "1.5.0",
      "model_name": "HBoxModel",
      "state": {
       "children": [
        "IPY_MODEL_459ebf3d222b4bbbad01d82932c2be4d",
        "IPY_MODEL_5a59dda581ac42a8bcb3a20a04b3ef2e"
       ],
       "layout": "IPY_MODEL_b75115fef8dc422ea7f640be947caeeb"
      }
     },
     "27f5b8c46d254702962bfb426b501ca1": {
      "model_module": "@jupyter-widgets/controls",
      "model_module_version": "1.5.0",
      "model_name": "HBoxModel",
      "state": {
       "children": [
        "IPY_MODEL_be28761a2cc9452b82b6db9132ccaa32",
        "IPY_MODEL_b5e07bb0b9db4598adac97f1632e2dd6"
       ],
       "layout": "IPY_MODEL_5803d0397f174bfa810c82f7c212f919"
      }
     },
     "27f5bab7ad574cbe888fa24f3e507337": {
      "model_module": "@jupyter-widgets/controls",
      "model_module_version": "1.5.0",
      "model_name": "HBoxModel",
      "state": {
       "children": [
        "IPY_MODEL_596accd3bf1941a8bffe3b9beaf1a453",
        "IPY_MODEL_81969f8da2824588a14b805691b4c5f4"
       ],
       "layout": "IPY_MODEL_0ddd125b040d4b65b388f918016aa876"
      }
     },
     "27fd1c0b4f724aba823637e854ce50d5": {
      "model_module": "@jupyter-widgets/controls",
      "model_module_version": "1.5.0",
      "model_name": "ProgressStyleModel",
      "state": {
       "description_width": "initial"
      }
     },
     "282fe2e072f949d79020def33c98c4aa": {
      "model_module": "@jupyter-widgets/controls",
      "model_module_version": "1.5.0",
      "model_name": "ProgressStyleModel",
      "state": {
       "description_width": "initial"
      }
     },
     "2837849344fe489fbec8dd5ffe5978ff": {
      "model_module": "@jupyter-widgets/controls",
      "model_module_version": "1.5.0",
      "model_name": "DescriptionStyleModel",
      "state": {
       "description_width": ""
      }
     },
     "2841fc81d47c458985c5b8d098c558c6": {
      "model_module": "@jupyter-widgets/controls",
      "model_module_version": "1.5.0",
      "model_name": "HBoxModel",
      "state": {
       "children": [
        "IPY_MODEL_b785a243fd8e42f5a70615a24476d2c1",
        "IPY_MODEL_09491b18d807480f9294ba1e0183e361"
       ],
       "layout": "IPY_MODEL_9c8fa0c1bb9e4b37a2448b277603edc8"
      }
     },
     "2876ec67ecb742aebb77a4f58aa4548d": {
      "model_module": "@jupyter-widgets/controls",
      "model_module_version": "1.5.0",
      "model_name": "HTMLModel",
      "state": {
       "layout": "IPY_MODEL_ec49f0c47bec40229aece00e66895eb3",
       "style": "IPY_MODEL_7d4ec7a1e8bb490ab2e5cad6a5948098",
       "value": " 1077/8760 [00:04&lt;00:28, 268.81steps/s]"
      }
     },
     "287dec75479b4a189889d664fdb5fa86": {
      "model_module": "@jupyter-widgets/base",
      "model_module_version": "1.2.0",
      "model_name": "LayoutModel",
      "state": {}
     },
     "289e156dd60945fe8d2c6374cf0a0660": {
      "model_module": "@jupyter-widgets/controls",
      "model_module_version": "1.5.0",
      "model_name": "DescriptionStyleModel",
      "state": {
       "description_width": ""
      }
     },
     "28a097f20f87496daf7dad717d3175d8": {
      "model_module": "@jupyter-widgets/base",
      "model_module_version": "1.2.0",
      "model_name": "LayoutModel",
      "state": {}
     },
     "28b9c4675ee54222bac9cb80f287b693": {
      "model_module": "@jupyter-widgets/base",
      "model_module_version": "1.2.0",
      "model_name": "LayoutModel",
      "state": {}
     },
     "28d7f19decb348cea3838a3fc105df38": {
      "model_module": "@jupyter-widgets/base",
      "model_module_version": "1.2.0",
      "model_name": "LayoutModel",
      "state": {}
     },
     "292008b147304eb59325d11f6dd53371": {
      "model_module": "@jupyter-widgets/controls",
      "model_module_version": "1.5.0",
      "model_name": "DescriptionStyleModel",
      "state": {
       "description_width": ""
      }
     },
     "2926c75b01a844bd8e7b5f1e39717a84": {
      "model_module": "@jupyter-widgets/controls",
      "model_module_version": "1.5.0",
      "model_name": "ProgressStyleModel",
      "state": {
       "description_width": "initial"
      }
     },
     "293f7ed80a094f4a841b965d24419138": {
      "model_module": "@jupyter-widgets/controls",
      "model_module_version": "1.5.0",
      "model_name": "HTMLModel",
      "state": {
       "layout": "IPY_MODEL_081e06e5bde14686a915e3fb60a3b539",
       "style": "IPY_MODEL_f93c3a60359d455abedc1b390d26cb66",
       "value": " 415/8760 [00:01&lt;00:29, 280.94steps/s]"
      }
     },
     "29579e3947c74723af514e1d1651c9d5": {
      "model_module": "@jupyter-widgets/controls",
      "model_module_version": "1.5.0",
      "model_name": "DescriptionStyleModel",
      "state": {
       "description_width": ""
      }
     },
     "295a00fb8c79488992cc12a2eb5a5d6d": {
      "model_module": "@jupyter-widgets/controls",
      "model_module_version": "1.5.0",
      "model_name": "DescriptionStyleModel",
      "state": {
       "description_width": ""
      }
     },
     "295d15075f944174a8fd3ecaab09a8e6": {
      "model_module": "@jupyter-widgets/controls",
      "model_module_version": "1.5.0",
      "model_name": "DescriptionStyleModel",
      "state": {
       "description_width": ""
      }
     },
     "296cbb60b41f406c8291094a6d21fa94": {
      "model_module": "@jupyter-widgets/controls",
      "model_module_version": "1.5.0",
      "model_name": "FloatProgressModel",
      "state": {
       "bar_style": "success",
       "description": "poop: 100%",
       "layout": "IPY_MODEL_f824f1999bce491c8559ce47c6e976b8",
       "max": 8760,
       "style": "IPY_MODEL_0dc61851bc3f4659a5bb0c130eb30ae1",
       "value": 8760
      }
     },
     "29774b15bd8243a78546f0b9c6f80ccd": {
      "model_module": "@jupyter-widgets/controls",
      "model_module_version": "1.5.0",
      "model_name": "DescriptionStyleModel",
      "state": {
       "description_width": ""
      }
     },
     "297e8eaf7bd94e0287600df412c987c1": {
      "model_module": "@jupyter-widgets/controls",
      "model_module_version": "1.5.0",
      "model_name": "HTMLModel",
      "state": {
       "layout": "IPY_MODEL_19c806d314c2485d81546fdc55186ca0",
       "style": "IPY_MODEL_724f372143944a2eab30149b31b58bc2",
       "value": " 8760/8760 [00:29&lt;00:00, 293.12steps/s]"
      }
     },
     "29a2cf1b776d46108045347c52d69292": {
      "model_module": "@jupyter-widgets/controls",
      "model_module_version": "1.5.0",
      "model_name": "HBoxModel",
      "state": {
       "children": [
        "IPY_MODEL_a804d7c0c4bd41e680d45d307e4c1598",
        "IPY_MODEL_6adfb1c389bf4a0f9be4a6e66f569cf6"
       ],
       "layout": "IPY_MODEL_6ceddca85a7a4a1986f307180ee418ae"
      }
     },
     "29beefe8cdb140ab89c5ce20f5670942": {
      "model_module": "@jupyter-widgets/base",
      "model_module_version": "1.2.0",
      "model_name": "LayoutModel",
      "state": {}
     },
     "29bf8bf7f56d448d9d288215cf951880": {
      "model_module": "@jupyter-widgets/controls",
      "model_module_version": "1.5.0",
      "model_name": "HBoxModel",
      "state": {
       "children": [
        "IPY_MODEL_772f6b6d6fe141ea99fe7297516d41c5",
        "IPY_MODEL_0223d3cc3e5c45afa3c245c5c396f071"
       ],
       "layout": "IPY_MODEL_dd13bf9933fd41a8ac5bfdda01f8200b"
      }
     },
     "29c786c88303427bbdb78957360154db": {
      "model_module": "@jupyter-widgets/controls",
      "model_module_version": "1.5.0",
      "model_name": "DescriptionStyleModel",
      "state": {
       "description_width": ""
      }
     },
     "29e3f92c973c4b4daa3a59b561058ec3": {
      "model_module": "@jupyter-widgets/base",
      "model_module_version": "1.2.0",
      "model_name": "LayoutModel",
      "state": {}
     },
     "2a07f6bd0f4843cf87b0ecb71db36f75": {
      "model_module": "@jupyter-widgets/controls",
      "model_module_version": "1.5.0",
      "model_name": "HBoxModel",
      "state": {
       "children": [
        "IPY_MODEL_c6fad28b707642b08a89513b753e9ecf",
        "IPY_MODEL_08f40716d49744368cd6bc12a0fab6b1"
       ],
       "layout": "IPY_MODEL_a36d96df4e664088a4f022132bc015c5"
      }
     },
     "2a1881fa0d74437da43b46c574529639": {
      "model_module": "@jupyter-widgets/base",
      "model_module_version": "1.2.0",
      "model_name": "LayoutModel",
      "state": {}
     },
     "2a18a52edc06479cac4d2572a9c90f17": {
      "model_module": "@jupyter-widgets/controls",
      "model_module_version": "1.5.0",
      "model_name": "DescriptionStyleModel",
      "state": {
       "description_width": ""
      }
     },
     "2a1d82230cde4fdfb5fd9ab40a79d120": {
      "model_module": "@jupyter-widgets/controls",
      "model_module_version": "1.5.0",
      "model_name": "HTMLModel",
      "state": {
       "layout": "IPY_MODEL_acf848d57341404b8bc9c7c63ee14df1",
       "style": "IPY_MODEL_6bf962a87a174658acb883290d99e5a4",
       "value": " 8558/8760 [00:30&lt;00:00, 282.12steps/s]"
      }
     },
     "2a26c0395e684fbd816995fdad8ba4f3": {
      "model_module": "@jupyter-widgets/controls",
      "model_module_version": "1.5.0",
      "model_name": "FloatProgressModel",
      "state": {
       "bar_style": "success",
       "description": "poop: 100%",
       "layout": "IPY_MODEL_18b886f3c61741fda13e22b6843b1daf",
       "max": 8760,
       "style": "IPY_MODEL_827b63f9c0fd44ce889699d1c083c308",
       "value": 8760
      }
     },
     "2a4b8f70dddf483d8dab928e0397c869": {
      "model_module": "@jupyter-widgets/controls",
      "model_module_version": "1.5.0",
      "model_name": "ProgressStyleModel",
      "state": {
       "description_width": "initial"
      }
     },
     "2a888223f7df43b0b4c081b259260a2f": {
      "model_module": "@jupyter-widgets/controls",
      "model_module_version": "1.5.0",
      "model_name": "HBoxModel",
      "state": {
       "children": [
        "IPY_MODEL_7ee4748ac2054aaf803633b9d44b81eb",
        "IPY_MODEL_695527876f874d8d88df6e3846784530"
       ],
       "layout": "IPY_MODEL_a28fa4c7e2cf40ca9bcbd3e80d815c61"
      }
     },
     "2ae47596f3a6455eb93d2acdd6167c49": {
      "model_module": "@jupyter-widgets/controls",
      "model_module_version": "1.5.0",
      "model_name": "HTMLModel",
      "state": {
       "layout": "IPY_MODEL_ce706193b7634857bc2da303bed06b07",
       "style": "IPY_MODEL_580f0e2d31ff44e7a7f87b57f44acd51",
       "value": " 8760/8760 [00:31&lt;00:00, 281.69steps/s]"
      }
     },
     "2aef59f3d99f439e96353969c44b2235": {
      "model_module": "@jupyter-widgets/base",
      "model_module_version": "1.2.0",
      "model_name": "LayoutModel",
      "state": {}
     },
     "2af4ae0e013947b78a355d60a6e97e4e": {
      "model_module": "@jupyter-widgets/controls",
      "model_module_version": "1.5.0",
      "model_name": "FloatProgressModel",
      "state": {
       "bar_style": "success",
       "description": "Run 21 of 156 [PID: 21989]: 100%",
       "layout": "IPY_MODEL_722efc11667f4cfdbaf012a638119215",
       "max": 8760,
       "style": "IPY_MODEL_b85c6af6196e4854bc1357ea48079fab",
       "value": 8760
      }
     },
     "2b07a9346e1b4e2c8adbfc9932e599bc": {
      "model_module": "@jupyter-widgets/base",
      "model_module_version": "1.2.0",
      "model_name": "LayoutModel",
      "state": {}
     },
     "2b0b044d3b0649f4986101a07a9ecbad": {
      "model_module": "@jupyter-widgets/base",
      "model_module_version": "1.2.0",
      "model_name": "LayoutModel",
      "state": {}
     },
     "2b28c4041fe4480bbf71d44d53e0abd2": {
      "model_module": "@jupyter-widgets/controls",
      "model_module_version": "1.5.0",
      "model_name": "HTMLModel",
      "state": {
       "layout": "IPY_MODEL_1327fd3288a444fcb828c03313cb5ce6",
       "style": "IPY_MODEL_e14734e22854426eb76df0e64920945e",
       "value": " 3089/8760 [00:10&lt;00:19, 295.26steps/s]"
      }
     },
     "2b6eea12da044ffebf361298d86ec063": {
      "model_module": "@jupyter-widgets/base",
      "model_module_version": "1.2.0",
      "model_name": "LayoutModel",
      "state": {}
     },
     "2bc7e836a76f4ddb8e0f9490887331e2": {
      "model_module": "@jupyter-widgets/base",
      "model_module_version": "1.2.0",
      "model_name": "LayoutModel",
      "state": {}
     },
     "2bdc0b1988f14a4b9e2f56a49c1d97bc": {
      "model_module": "@jupyter-widgets/base",
      "model_module_version": "1.2.0",
      "model_name": "LayoutModel",
      "state": {}
     },
     "2c19a07142634b6aa1830331b8022b62": {
      "model_module": "@jupyter-widgets/controls",
      "model_module_version": "1.5.0",
      "model_name": "HBoxModel",
      "state": {
       "children": [
        "IPY_MODEL_aec408ab9a1b453f8902e8f466aeea76",
        "IPY_MODEL_34e2f436a60d4462bee4abb27e8f1f50"
       ],
       "layout": "IPY_MODEL_8e54852812704784a24be9eec29af946"
      }
     },
     "2c214a09bfa149e68d16b42bcb34d0b6": {
      "model_module": "@jupyter-widgets/controls",
      "model_module_version": "1.5.0",
      "model_name": "HBoxModel",
      "state": {
       "children": [
        "IPY_MODEL_163b9681014546a29fb615cfc02bb70a",
        "IPY_MODEL_762f7705aad14f38918d3c755d5e43a6"
       ],
       "layout": "IPY_MODEL_0f02007fc82349938c862b4d8ade103f"
      }
     },
     "2c29564b70684d73bb5649bf4320aa8e": {
      "model_module": "@jupyter-widgets/controls",
      "model_module_version": "1.5.0",
      "model_name": "HBoxModel",
      "state": {
       "children": [
        "IPY_MODEL_e6d22185a1184ce1b94a28bf4c5c253c",
        "IPY_MODEL_710598d75fca44f38dcd3c3eee50659b"
       ],
       "layout": "IPY_MODEL_7feadcfa1eb24e4883060650056e3160"
      }
     },
     "2c43bb007c2e4c909d4a771164975ad1": {
      "model_module": "@jupyter-widgets/controls",
      "model_module_version": "1.5.0",
      "model_name": "DescriptionStyleModel",
      "state": {
       "description_width": ""
      }
     },
     "2c5b9f1c6bc94249ba446d5aaedf94ff": {
      "model_module": "@jupyter-widgets/controls",
      "model_module_version": "1.5.0",
      "model_name": "HBoxModel",
      "state": {
       "children": [
        "IPY_MODEL_79ebcabc372441d494efd0e5ce7af8a2",
        "IPY_MODEL_0b72a154601b4c1aa0de23c04a400ae5"
       ],
       "layout": "IPY_MODEL_7e0ae51a34b94832b1db04b6e3dc2b65"
      }
     },
     "2c698c66b8ec4286bad0e05bb1b8ef65": {
      "model_module": "@jupyter-widgets/base",
      "model_module_version": "1.2.0",
      "model_name": "LayoutModel",
      "state": {}
     },
     "2c774e5d94694676b71808d6a0aefd88": {
      "model_module": "@jupyter-widgets/controls",
      "model_module_version": "1.5.0",
      "model_name": "ProgressStyleModel",
      "state": {
       "description_width": "initial"
      }
     },
     "2c7c9b148e034914a8269234d329599a": {
      "model_module": "@jupyter-widgets/controls",
      "model_module_version": "1.5.0",
      "model_name": "FloatProgressModel",
      "state": {
       "bar_style": "success",
       "description": "Run 36 of 156 [PID: 21991]: 100%",
       "layout": "IPY_MODEL_7658ffc2b7ab4580b214395de5a351da",
       "max": 8760,
       "style": "IPY_MODEL_38c72bcb31b047cda9b688024b6d4cda",
       "value": 8760
      }
     },
     "2c8b9f98a1294f969cc089f867cac95a": {
      "model_module": "@jupyter-widgets/controls",
      "model_module_version": "1.5.0",
      "model_name": "DescriptionStyleModel",
      "state": {
       "description_width": ""
      }
     },
     "2c9b87245ac542a999b2307b150feaad": {
      "model_module": "@jupyter-widgets/controls",
      "model_module_version": "1.5.0",
      "model_name": "FloatProgressModel",
      "state": {
       "description": "Run 115 of 156 [PID: 72821]:  48%",
       "layout": "IPY_MODEL_862c470de25c4708a9cfceb5bf209a70",
       "max": 175320,
       "style": "IPY_MODEL_aaa95dae9b4b468b8af77f49c5a4304d",
       "value": 83801
      }
     },
     "2ca1427b7b5e40b7b423a7d9f6efa4d7": {
      "model_module": "@jupyter-widgets/base",
      "model_module_version": "1.2.0",
      "model_name": "LayoutModel",
      "state": {}
     },
     "2ca5999ce9fe4936bd699885f14a7268": {
      "model_module": "@jupyter-widgets/controls",
      "model_module_version": "1.5.0",
      "model_name": "DescriptionStyleModel",
      "state": {
       "description_width": ""
      }
     },
     "2ca6a9789939442784f45ed0e022a3d5": {
      "model_module": "@jupyter-widgets/controls",
      "model_module_version": "1.5.0",
      "model_name": "HTMLModel",
      "state": {
       "layout": "IPY_MODEL_d71b36b2595647d8943db75f9a30b580",
       "style": "IPY_MODEL_3593cc8453ec480fadeb799343b3b872",
       "value": " 2225/8760 [00:08&lt;00:23, 278.28steps/s]"
      }
     },
     "2cb84eff8b834ece918564e475a01543": {
      "model_module": "@jupyter-widgets/controls",
      "model_module_version": "1.5.0",
      "model_name": "HTMLModel",
      "state": {
       "layout": "IPY_MODEL_0a374914f0b042f5ade0660015d9b689",
       "style": "IPY_MODEL_ea21b6e2b95940f0a5c0af2c576246e8",
       "value": " 8760/8760 [00:31&lt;00:00, 281.58steps/s]"
      }
     },
     "2cdb9976540d4bd4b5375c59b17e3532": {
      "model_module": "@jupyter-widgets/controls",
      "model_module_version": "1.5.0",
      "model_name": "HBoxModel",
      "state": {
       "children": [
        "IPY_MODEL_4e5f918d04234d16ae7e2966d9c152f9",
        "IPY_MODEL_9bfafb03fb0e4e84809d971da18c68c2"
       ],
       "layout": "IPY_MODEL_6d4f08ca76554e4e8bc633d07161f188"
      }
     },
     "2ce08305954a422f8f2bade513c17402": {
      "model_module": "@jupyter-widgets/controls",
      "model_module_version": "1.5.0",
      "model_name": "FloatProgressModel",
      "state": {
       "bar_style": "success",
       "description": "poop: 100%",
       "layout": "IPY_MODEL_09eb490ba50244e88bf986a0a9ce4ccc",
       "max": 8760,
       "style": "IPY_MODEL_798de96d501844f2a883beadb754e8a8",
       "value": 8760
      }
     },
     "2ce11c136a2e4bdbbee44ccea8b319df": {
      "model_module": "@jupyter-widgets/controls",
      "model_module_version": "1.5.0",
      "model_name": "HBoxModel",
      "state": {
       "children": [
        "IPY_MODEL_b1fb177a7701496ba6fab4b965751575",
        "IPY_MODEL_06f017c93b304d0aab8ae0d1467a94bf"
       ],
       "layout": "IPY_MODEL_c5e2cfaf56654b6c9bca8bd1abdd6f29"
      }
     },
     "2d0e7479da2f447b8a5bcbb7af0ba13e": {
      "model_module": "@jupyter-widgets/base",
      "model_module_version": "1.2.0",
      "model_name": "LayoutModel",
      "state": {}
     },
     "2d13e7f70a3d4167a42948f579e2c64d": {
      "model_module": "@jupyter-widgets/controls",
      "model_module_version": "1.5.0",
      "model_name": "HBoxModel",
      "state": {
       "children": [
        "IPY_MODEL_0efe7e56a6264b179b9701a21a44b994",
        "IPY_MODEL_a89f3ca1a66f4bdb9c84f86f29c46c6e"
       ],
       "layout": "IPY_MODEL_27644356aa7244c2b7c9510b50af8626"
      }
     },
     "2d2feb65b5f24956ab6cac3b3524168e": {
      "model_module": "@jupyter-widgets/controls",
      "model_module_version": "1.5.0",
      "model_name": "DescriptionStyleModel",
      "state": {
       "description_width": ""
      }
     },
     "2d31f21307ab446fa600b98ca8a6de48": {
      "model_module": "@jupyter-widgets/controls",
      "model_module_version": "1.5.0",
      "model_name": "HBoxModel",
      "state": {
       "children": [
        "IPY_MODEL_e02b955e4b90480cbddf61684bb2885c",
        "IPY_MODEL_6b15932e526e4bedbf88a8d9be004b03"
       ],
       "layout": "IPY_MODEL_bc9098caed414ccb84da46abbe87389c"
      }
     },
     "2d4571f015bb49af805ee4eb6f7001d5": {
      "model_module": "@jupyter-widgets/controls",
      "model_module_version": "1.5.0",
      "model_name": "ProgressStyleModel",
      "state": {
       "description_width": "initial"
      }
     },
     "2d4f91cbb07f4875af872e14c44f1e10": {
      "model_module": "@jupyter-widgets/controls",
      "model_module_version": "1.5.0",
      "model_name": "FloatProgressModel",
      "state": {
       "bar_style": "success",
       "description": "100%",
       "layout": "IPY_MODEL_7012fa70c9e7429a909e2602a2043e2c",
       "max": 8760,
       "style": "IPY_MODEL_dd80eeb3a9044b95bf0a3bb340df2da3",
       "value": 8760
      }
     },
     "2d56b89971e441429ab1881b0484e2bd": {
      "model_module": "@jupyter-widgets/controls",
      "model_module_version": "1.5.0",
      "model_name": "HBoxModel",
      "state": {
       "children": [
        "IPY_MODEL_82d6726584434490a2e473cdc9acceee",
        "IPY_MODEL_f90d62bdff884f8a94f60bc5b4ed48fe"
       ],
       "layout": "IPY_MODEL_8ab9300e4507455c9ea28617cfc2eabf"
      }
     },
     "2db1d42234074b54a343570c465ba84e": {
      "model_module": "@jupyter-widgets/controls",
      "model_module_version": "1.5.0",
      "model_name": "DescriptionStyleModel",
      "state": {
       "description_width": ""
      }
     },
     "2e6ce16476b34275b82d264b626bd0a2": {
      "model_module": "@jupyter-widgets/controls",
      "model_module_version": "1.5.0",
      "model_name": "DescriptionStyleModel",
      "state": {
       "description_width": ""
      }
     },
     "2e7745167fca4120bb7bd4d8a59736b3": {
      "model_module": "@jupyter-widgets/controls",
      "model_module_version": "1.5.0",
      "model_name": "HTMLModel",
      "state": {
       "layout": "IPY_MODEL_689a227196974e8eb38bec96fdea6ea8",
       "style": "IPY_MODEL_45d0908d3dbe4e54b0236aa400222676",
       "value": " 740/8760 [00:02&lt;00:28, 278.92steps/s]"
      }
     },
     "2e7af3b798df4a0e8cf18b74e42289a7": {
      "model_module": "@jupyter-widgets/base",
      "model_module_version": "1.2.0",
      "model_name": "LayoutModel",
      "state": {}
     },
     "2e7f5ca77afe470aa092c295ed4e6df3": {
      "model_module": "@jupyter-widgets/controls",
      "model_module_version": "1.5.0",
      "model_name": "HTMLModel",
      "state": {
       "layout": "IPY_MODEL_cece34264ce6452dbd8d1e068a0c7e1d",
       "style": "IPY_MODEL_5c42c95092cb4af19cff4f15eed9b127",
       "value": " 8760/8760 [00:31&lt;00:00, 281.34steps/s]"
      }
     },
     "2e9a1e4c07f94bc8ba68df3f8404380f": {
      "model_module": "@jupyter-widgets/controls",
      "model_module_version": "1.5.0",
      "model_name": "DescriptionStyleModel",
      "state": {
       "description_width": ""
      }
     },
     "2e9eb5be55834d3fb5d7bf4b637ecb0b": {
      "model_module": "@jupyter-widgets/base",
      "model_module_version": "1.2.0",
      "model_name": "LayoutModel",
      "state": {}
     },
     "2ec03bee9c7a4aafbe5f21aab92c77ac": {
      "model_module": "@jupyter-widgets/controls",
      "model_module_version": "1.5.0",
      "model_name": "HTMLModel",
      "state": {
       "layout": "IPY_MODEL_85aec21ee6ff4bf88a4caa709363d9f3",
       "style": "IPY_MODEL_fbe241e038be40e398ddedc7c2050de9",
       "value": " 5541/8760 [00:19&lt;00:11, 289.14steps/s]"
      }
     },
     "2ec2dabe8eb844478be0e9c6dbcaadf2": {
      "model_module": "@jupyter-widgets/base",
      "model_module_version": "1.2.0",
      "model_name": "LayoutModel",
      "state": {}
     },
     "2ecde0fb86eb468091c7778d1bb37693": {
      "model_module": "@jupyter-widgets/controls",
      "model_module_version": "1.5.0",
      "model_name": "ProgressStyleModel",
      "state": {
       "description_width": "initial"
      }
     },
     "2eefa32d1c2a416ba196de704299ed62": {
      "model_module": "@jupyter-widgets/controls",
      "model_module_version": "1.5.0",
      "model_name": "HTMLModel",
      "state": {
       "layout": "IPY_MODEL_cd52866a8de24ffd9bf1c401a554a9a5",
       "style": "IPY_MODEL_7792b491925d4ff5880c4f9564c36de1",
       "value": " 8760/8760 [00:30&lt;00:00, 286.12steps/s]"
      }
     },
     "2f027ea0bb494330957e66322efce218": {
      "model_module": "@jupyter-widgets/controls",
      "model_module_version": "1.5.0",
      "model_name": "DescriptionStyleModel",
      "state": {
       "description_width": ""
      }
     },
     "2f173d54ec2e45189cb4e3e308d5a83f": {
      "model_module": "@jupyter-widgets/controls",
      "model_module_version": "1.5.0",
      "model_name": "ProgressStyleModel",
      "state": {
       "description_width": "initial"
      }
     },
     "2f4615f884e943dfa579916269adeaef": {
      "model_module": "@jupyter-widgets/controls",
      "model_module_version": "1.5.0",
      "model_name": "ProgressStyleModel",
      "state": {
       "description_width": "initial"
      }
     },
     "2f58d20c92624ed79ed66b0709cf1d32": {
      "model_module": "@jupyter-widgets/controls",
      "model_module_version": "1.5.0",
      "model_name": "FloatProgressModel",
      "state": {
       "bar_style": "success",
       "description": "poop: 100%",
       "layout": "IPY_MODEL_719581af2ed24e289b0823c8a9ecf2fd",
       "max": 8760,
       "style": "IPY_MODEL_06bd8e5d50c4480c9e6172dc7817737c",
       "value": 8760
      }
     },
     "2fad8028d6cb412f9c74b576725d2a6a": {
      "model_module": "@jupyter-widgets/controls",
      "model_module_version": "1.5.0",
      "model_name": "FloatProgressModel",
      "state": {
       "bar_style": "success",
       "description": "poop: 100%",
       "layout": "IPY_MODEL_467144a0fa9d496d8b814f331191987a",
       "max": 8760,
       "style": "IPY_MODEL_6175eeb62d6c4b54a3b224c6adc594e7",
       "value": 8760
      }
     },
     "2fd6cb91e09948caa887104a23f3582c": {
      "model_module": "@jupyter-widgets/base",
      "model_module_version": "1.2.0",
      "model_name": "LayoutModel",
      "state": {}
     },
     "2fdd99a0c0424fc292a8f38bdc717333": {
      "model_module": "@jupyter-widgets/controls",
      "model_module_version": "1.5.0",
      "model_name": "DescriptionStyleModel",
      "state": {
       "description_width": ""
      }
     },
     "2fdecff96eef4e2eb5ff9ab8c8325333": {
      "model_module": "@jupyter-widgets/controls",
      "model_module_version": "1.5.0",
      "model_name": "DescriptionStyleModel",
      "state": {
       "description_width": ""
      }
     },
     "2fe6572a96ff4217b67f52188cff7c85": {
      "model_module": "@jupyter-widgets/base",
      "model_module_version": "1.2.0",
      "model_name": "LayoutModel",
      "state": {}
     },
     "2ffa4ab4b04049b78d008bd2d9e63283": {
      "model_module": "@jupyter-widgets/base",
      "model_module_version": "1.2.0",
      "model_name": "LayoutModel",
      "state": {}
     },
     "2ffc029412cd46dcbaa5992bfbca117f": {
      "model_module": "@jupyter-widgets/controls",
      "model_module_version": "1.5.0",
      "model_name": "HBoxModel",
      "state": {
       "children": [
        "IPY_MODEL_494aea14273b448fbe18cbdd9a01c6f9",
        "IPY_MODEL_110007ea7f374383b9f638a4ba72b709"
       ],
       "layout": "IPY_MODEL_6ada41b0215b4e759a2b478a7b9faf58"
      }
     },
     "2ffde8d2bb994be28f4af8c87accbb32": {
      "model_module": "@jupyter-widgets/base",
      "model_module_version": "1.2.0",
      "model_name": "LayoutModel",
      "state": {}
     },
     "301217f659d540e7b18d5995804ffbd8": {
      "model_module": "@jupyter-widgets/controls",
      "model_module_version": "1.5.0",
      "model_name": "FloatProgressModel",
      "state": {
       "bar_style": "success",
       "description": "poop: 100%",
       "layout": "IPY_MODEL_3f18f0621e334ae9b5be7afc4f6201d4",
       "max": 8760,
       "style": "IPY_MODEL_4b590e1604f14ab2be77fa9e0b8e743e",
       "value": 8760
      }
     },
     "3035538331124280aed3637cefb6998f": {
      "model_module": "@jupyter-widgets/controls",
      "model_module_version": "1.5.0",
      "model_name": "FloatProgressModel",
      "state": {
       "bar_style": "danger",
       "description": "poop:  10%",
       "layout": "IPY_MODEL_de05fc0f0bdb4661977fcb41a85fa334",
       "max": 8760,
       "style": "IPY_MODEL_d22db0c9b01140a1bc084d1612b19f68",
       "value": 873
      }
     },
     "303776ed09dc434a9297540cf8c55a16": {
      "model_module": "@jupyter-widgets/controls",
      "model_module_version": "1.5.0",
      "model_name": "HBoxModel",
      "state": {
       "children": [
        "IPY_MODEL_c15784af2050425e8574bdc66d69eb2b",
        "IPY_MODEL_982d4de72ae74e0eb69cbae8aaddb3c3"
       ],
       "layout": "IPY_MODEL_c9d7f67ebb224aeabed2e9c521cf4202"
      }
     },
     "3073217a25974cf88ece50ae0ece799e": {
      "model_module": "@jupyter-widgets/controls",
      "model_module_version": "1.5.0",
      "model_name": "HTMLModel",
      "state": {
       "layout": "IPY_MODEL_e636054dc0bf4c7ba460050740af1497",
       "style": "IPY_MODEL_5d08d99db7de43a1ae238032feadae31",
       "value": " 5761/8760 [00:21&lt;00:11, 263.20steps/s]"
      }
     },
     "30880a546b4b474e8029492e611c9a16": {
      "model_module": "@jupyter-widgets/base",
      "model_module_version": "1.2.0",
      "model_name": "LayoutModel",
      "state": {}
     },
     "30a104e4bafb4e09921ddb63c09fba8a": {
      "model_module": "@jupyter-widgets/base",
      "model_module_version": "1.2.0",
      "model_name": "LayoutModel",
      "state": {}
     },
     "30a528cef7604795a7f81ce3d6b486bc": {
      "model_module": "@jupyter-widgets/base",
      "model_module_version": "1.2.0",
      "model_name": "LayoutModel",
      "state": {}
     },
     "30b13f34e9f54e5fb5b754293d4fc24f": {
      "model_module": "@jupyter-widgets/controls",
      "model_module_version": "1.5.0",
      "model_name": "HBoxModel",
      "state": {
       "children": [
        "IPY_MODEL_5e6029b6b05449bbaebf3ba4a6c437d1",
        "IPY_MODEL_32b98547340642999e42ffc7dfa6740e"
       ],
       "layout": "IPY_MODEL_221c73a2913a4bd6aa3feac8e073b7bf"
      }
     },
     "30bea124e5ee41bcb4ffba550e571e0b": {
      "model_module": "@jupyter-widgets/controls",
      "model_module_version": "1.5.0",
      "model_name": "DescriptionStyleModel",
      "state": {
       "description_width": ""
      }
     },
     "30de587c27174637ba8afb64728f8ed6": {
      "model_module": "@jupyter-widgets/controls",
      "model_module_version": "1.5.0",
      "model_name": "HTMLModel",
      "state": {
       "layout": "IPY_MODEL_7969dd4f30d244d59cbc1a5f9f2172f0",
       "style": "IPY_MODEL_a6ea20b94b9f420bb6bdd769cdbc1b08",
       "value": " 8760/8760 [00:31&lt;00:00, 281.31steps/s]"
      }
     },
     "31020c1078a340e988af3eb71aa59f87": {
      "model_module": "@jupyter-widgets/controls",
      "model_module_version": "1.5.0",
      "model_name": "ProgressStyleModel",
      "state": {
       "description_width": "initial"
      }
     },
     "310f59c2a8f64955a9ab91defde4bebb": {
      "model_module": "@jupyter-widgets/base",
      "model_module_version": "1.2.0",
      "model_name": "LayoutModel",
      "state": {}
     },
     "3113ef2f251b4befad9c7cb115fb91d5": {
      "model_module": "@jupyter-widgets/controls",
      "model_module_version": "1.5.0",
      "model_name": "FloatProgressModel",
      "state": {
       "bar_style": "danger",
       "description": "  2%",
       "layout": "IPY_MODEL_fdd25fda342445f89d3621c8f2bdb636",
       "max": 8760,
       "style": "IPY_MODEL_122f10623e614195b3695adceec98ee9",
       "value": 162
      }
     },
     "3113efd02d5b411f8572bbbe16150175": {
      "model_module": "@jupyter-widgets/controls",
      "model_module_version": "1.5.0",
      "model_name": "HBoxModel",
      "state": {
       "children": [
        "IPY_MODEL_f62b13ea996e4d808469c5909bb59743",
        "IPY_MODEL_4ed7eea8dacd4250a799f43ce4c79aa0"
       ],
       "layout": "IPY_MODEL_ef60e5e564f74cc29e44205a8bd1b8c0"
      }
     },
     "311f4d2788a54c78bbb90f2295fbdd4d": {
      "model_module": "@jupyter-widgets/controls",
      "model_module_version": "1.5.0",
      "model_name": "FloatProgressModel",
      "state": {
       "bar_style": "success",
       "description": "Run 18 of 156 [PID: 21991]: 100%",
       "layout": "IPY_MODEL_92025f1107e848a591dc45d714446d6d",
       "max": 8760,
       "style": "IPY_MODEL_74dafb631c764200a847266669751ee5",
       "value": 8760
      }
     },
     "31217d849f4f4da88228b3fa1c52bf00": {
      "model_module": "@jupyter-widgets/controls",
      "model_module_version": "1.5.0",
      "model_name": "DescriptionStyleModel",
      "state": {
       "description_width": ""
      }
     },
     "313f4309248a444a9b4038f804233af7": {
      "model_module": "@jupyter-widgets/controls",
      "model_module_version": "1.5.0",
      "model_name": "ProgressStyleModel",
      "state": {
       "description_width": "initial"
      }
     },
     "317a4ac850284a9cb58dba13220c39d9": {
      "model_module": "@jupyter-widgets/controls",
      "model_module_version": "1.5.0",
      "model_name": "DescriptionStyleModel",
      "state": {
       "description_width": ""
      }
     },
     "318167ff6761483eae9cba64a19eb758": {
      "model_module": "@jupyter-widgets/controls",
      "model_module_version": "1.5.0",
      "model_name": "HBoxModel",
      "state": {
       "children": [
        "IPY_MODEL_6350fe1ef8cc47e4b4e1fbb9330a9e77",
        "IPY_MODEL_67951b7acf4141f0af852ff76dc64564"
       ],
       "layout": "IPY_MODEL_a73c8dbcfab24d88a358a385981d59a4"
      }
     },
     "318faa1b6dc64438aab2bc7e409ddc1b": {
      "model_module": "@jupyter-widgets/controls",
      "model_module_version": "1.5.0",
      "model_name": "FloatProgressModel",
      "state": {
       "bar_style": "danger",
       "description": "poop:   9%",
       "layout": "IPY_MODEL_f37c94727ac04c3686ff7552830b697d",
       "max": 8760,
       "style": "IPY_MODEL_03b1086954e24258b0695754a7d1a45c",
       "value": 767
      }
     },
     "31acfb37cede42fda50216768877177d": {
      "model_module": "@jupyter-widgets/controls",
      "model_module_version": "1.5.0",
      "model_name": "HBoxModel",
      "state": {
       "children": [
        "IPY_MODEL_4e21354901a3457f8991702a65ebf5bd",
        "IPY_MODEL_0be753b2af704846b62dc380a778fecb"
       ],
       "layout": "IPY_MODEL_bbc90a73e33446cfade712657f3f84c9"
      }
     },
     "31adf98536014db68004269c64c15c96": {
      "model_module": "@jupyter-widgets/controls",
      "model_module_version": "1.5.0",
      "model_name": "ProgressStyleModel",
      "state": {
       "description_width": "initial"
      }
     },
     "32041da9ea6445ce9724baeb2b281004": {
      "model_module": "@jupyter-widgets/controls",
      "model_module_version": "1.5.0",
      "model_name": "ProgressStyleModel",
      "state": {
       "description_width": "initial"
      }
     },
     "32055b03e50d4bc3a8e7fe4492377a42": {
      "model_module": "@jupyter-widgets/base",
      "model_module_version": "1.2.0",
      "model_name": "LayoutModel",
      "state": {}
     },
     "321bb8de0ecc485e9cadfc8d37c22d8a": {
      "model_module": "@jupyter-widgets/controls",
      "model_module_version": "1.5.0",
      "model_name": "HTMLModel",
      "state": {
       "layout": "IPY_MODEL_be42e2282bfd46548c0b7595032065d3",
       "style": "IPY_MODEL_17544dbdfced40059dc6a0ae6667ff10",
       "value": " 8760/8760 [00:30&lt;00:00, 283.67steps/s]"
      }
     },
     "3272c29b0a2c490899f859a63d3516af": {
      "model_module": "@jupyter-widgets/base",
      "model_module_version": "1.2.0",
      "model_name": "LayoutModel",
      "state": {}
     },
     "32a8449187fd4df29f6a0c57df187a41": {
      "model_module": "@jupyter-widgets/controls",
      "model_module_version": "1.5.0",
      "model_name": "HBoxModel",
      "state": {
       "children": [
        "IPY_MODEL_3531e0c7719841b7962cdd1c3daf8ccf",
        "IPY_MODEL_63d5bf8e1dc847f48f42786f43e530b4"
       ],
       "layout": "IPY_MODEL_5eafef1ee6a54eb7b2b23ee3fcbf3d0f"
      }
     },
     "32b98547340642999e42ffc7dfa6740e": {
      "model_module": "@jupyter-widgets/controls",
      "model_module_version": "1.5.0",
      "model_name": "HTMLModel",
      "state": {
       "layout": "IPY_MODEL_1bdf3833a8264254939420f6421d3f8a",
       "style": "IPY_MODEL_9f9975684f21405690efcc571782b853",
       "value": " 8760/8760 [00:30&lt;00:00, 289.94steps/s]"
      }
     },
     "32c4eb8ecb80415a9ee1c46c85ce27d8": {
      "model_module": "@jupyter-widgets/controls",
      "model_module_version": "1.5.0",
      "model_name": "HTMLModel",
      "state": {
       "layout": "IPY_MODEL_5c68f291ed2c461e8cdd4075911d0d38",
       "style": "IPY_MODEL_6cdcf82fa8574361acd2c54d2e0567a0",
       "value": " 8760/8760 [00:30&lt;00:00, 285.84steps/s]"
      }
     },
     "32d9d3198ab545bc8a22d054b7d8b446": {
      "model_module": "@jupyter-widgets/base",
      "model_module_version": "1.2.0",
      "model_name": "LayoutModel",
      "state": {}
     },
     "32db2174c7d84400aaf424504e93a897": {
      "model_module": "@jupyter-widgets/base",
      "model_module_version": "1.2.0",
      "model_name": "LayoutModel",
      "state": {}
     },
     "32ef7d70822e49bf80844a2b5cb3414c": {
      "model_module": "@jupyter-widgets/base",
      "model_module_version": "1.2.0",
      "model_name": "LayoutModel",
      "state": {}
     },
     "32f26e87b0474eed92c94cb973751df9": {
      "model_module": "@jupyter-widgets/controls",
      "model_module_version": "1.5.0",
      "model_name": "ProgressStyleModel",
      "state": {
       "description_width": "initial"
      }
     },
     "333d254f51cc46e588c876b83449b433": {
      "model_module": "@jupyter-widgets/base",
      "model_module_version": "1.2.0",
      "model_name": "LayoutModel",
      "state": {}
     },
     "339157552bf34e6baa70cee7fa580714": {
      "model_module": "@jupyter-widgets/controls",
      "model_module_version": "1.5.0",
      "model_name": "HBoxModel",
      "state": {
       "children": [
        "IPY_MODEL_60d52bf64f63462a8589451374bafce7",
        "IPY_MODEL_71a59fa4606142dfabdc2c3760bb87ff"
       ],
       "layout": "IPY_MODEL_503e7aceefdb41c4856ae2d054ea0a06"
      }
     },
     "33a18f5e5e874e2eaba62bd33de0bb3f": {
      "model_module": "@jupyter-widgets/base",
      "model_module_version": "1.2.0",
      "model_name": "LayoutModel",
      "state": {}
     },
     "33c751fe3bab4e34bf372f11c1c3f6a8": {
      "model_module": "@jupyter-widgets/base",
      "model_module_version": "1.2.0",
      "model_name": "LayoutModel",
      "state": {}
     },
     "33ca49b4224943b4b102869a4fcd4143": {
      "model_module": "@jupyter-widgets/controls",
      "model_module_version": "1.5.0",
      "model_name": "ProgressStyleModel",
      "state": {
       "description_width": "initial"
      }
     },
     "33d22f982b1d4c1ba45cab07deed4fb1": {
      "model_module": "@jupyter-widgets/base",
      "model_module_version": "1.2.0",
      "model_name": "LayoutModel",
      "state": {}
     },
     "33ee1d05e9694301a935ca6ccc84ab28": {
      "model_module": "@jupyter-widgets/controls",
      "model_module_version": "1.5.0",
      "model_name": "DescriptionStyleModel",
      "state": {
       "description_width": ""
      }
     },
     "3419005e772140bf866230fe1bbafcea": {
      "model_module": "@jupyter-widgets/controls",
      "model_module_version": "1.5.0",
      "model_name": "ProgressStyleModel",
      "state": {
       "description_width": "initial"
      }
     },
     "341c3b3d17fa4962b486a072bd2a6dbe": {
      "model_module": "@jupyter-widgets/controls",
      "model_module_version": "1.5.0",
      "model_name": "FloatProgressModel",
      "state": {
       "bar_style": "success",
       "description": "Run 58 of 156 [PID: 21992]: 100%",
       "layout": "IPY_MODEL_d2fc3a3e41524a35aeb58f4cde9cfe7b",
       "max": 8760,
       "style": "IPY_MODEL_fe5282aec0224241833bfddfff6fc025",
       "value": 8760
      }
     },
     "34432b3f9e8a4204847eedfc7ee1b549": {
      "model_module": "@jupyter-widgets/controls",
      "model_module_version": "1.5.0",
      "model_name": "FloatProgressModel",
      "state": {
       "description": "Run 82 of 156 [PID: 72835]:  52%",
       "layout": "IPY_MODEL_01d6feadf3834d2ea6b423fd897331e3",
       "max": 175320,
       "style": "IPY_MODEL_18ab83d0825c40c2a14e42ac181d7ccb",
       "value": 92002
      }
     },
     "344542847bfc40fda91ad344076b6898": {
      "model_module": "@jupyter-widgets/controls",
      "model_module_version": "1.5.0",
      "model_name": "HBoxModel",
      "state": {
       "children": [
        "IPY_MODEL_296cbb60b41f406c8291094a6d21fa94",
        "IPY_MODEL_3c2e7af3421541ad9ded10399871da1a"
       ],
       "layout": "IPY_MODEL_fec6989f74aa4738a75da0674370e812"
      }
     },
     "34479e4d694346689c961e26bcacabe5": {
      "model_module": "@jupyter-widgets/controls",
      "model_module_version": "1.5.0",
      "model_name": "DescriptionStyleModel",
      "state": {
       "description_width": ""
      }
     },
     "344c2d95efe44577999f347c0e9d8983": {
      "model_module": "@jupyter-widgets/base",
      "model_module_version": "1.2.0",
      "model_name": "LayoutModel",
      "state": {}
     },
     "345bdfdc5bce4ea09bc3f348655c2471": {
      "model_module": "@jupyter-widgets/base",
      "model_module_version": "1.2.0",
      "model_name": "LayoutModel",
      "state": {}
     },
     "34682cc4106543e98b1f849a20e2eee9": {
      "model_module": "@jupyter-widgets/base",
      "model_module_version": "1.2.0",
      "model_name": "LayoutModel",
      "state": {}
     },
     "347d4d1f157641a386972f7334a35acc": {
      "model_module": "@jupyter-widgets/controls",
      "model_module_version": "1.5.0",
      "model_name": "FloatProgressModel",
      "state": {
       "bar_style": "success",
       "description": "poop: 100%",
       "layout": "IPY_MODEL_880ef4ec840f4f178e04fefa82c9542d",
       "max": 8760,
       "style": "IPY_MODEL_1de7d11dd1f14694ae61ef0897612c39",
       "value": 8760
      }
     },
     "3497e84e4bc24e13b2bd6c1b0dc56e24": {
      "model_module": "@jupyter-widgets/base",
      "model_module_version": "1.2.0",
      "model_name": "LayoutModel",
      "state": {}
     },
     "34a14d873d524f7e8cf624ad8eec214e": {
      "model_module": "@jupyter-widgets/base",
      "model_module_version": "1.2.0",
      "model_name": "LayoutModel",
      "state": {}
     },
     "34b8599acbaa4be098998e7f4cd3b491": {
      "model_module": "@jupyter-widgets/base",
      "model_module_version": "1.2.0",
      "model_name": "LayoutModel",
      "state": {}
     },
     "34c1a1d28f5e42e8a262b3a83dba65e9": {
      "model_module": "@jupyter-widgets/base",
      "model_module_version": "1.2.0",
      "model_name": "LayoutModel",
      "state": {}
     },
     "34c55e8317e44c768f1d74df315084c2": {
      "model_module": "@jupyter-widgets/controls",
      "model_module_version": "1.5.0",
      "model_name": "ProgressStyleModel",
      "state": {
       "description_width": "initial"
      }
     },
     "34c59fdfaf1e4d439c2e43517bf868f9": {
      "model_module": "@jupyter-widgets/controls",
      "model_module_version": "1.5.0",
      "model_name": "ProgressStyleModel",
      "state": {
       "description_width": "initial"
      }
     },
     "34e2f436a60d4462bee4abb27e8f1f50": {
      "model_module": "@jupyter-widgets/controls",
      "model_module_version": "1.5.0",
      "model_name": "HTMLModel",
      "state": {
       "layout": "IPY_MODEL_995690dffe414175a2c818dabac6881b",
       "style": "IPY_MODEL_c036d8adf7054a6f8981e3b10b3e4a8a",
       "value": " 8317/8760 [00:28&lt;00:01, 299.28steps/s]"
      }
     },
     "35047555e7dd416f85ddf1e92f86d014": {
      "model_module": "@jupyter-widgets/base",
      "model_module_version": "1.2.0",
      "model_name": "LayoutModel",
      "state": {}
     },
     "3508dcaac01541fead273064370ff37a": {
      "model_module": "@jupyter-widgets/controls",
      "model_module_version": "1.5.0",
      "model_name": "DescriptionStyleModel",
      "state": {
       "description_width": ""
      }
     },
     "350bbb5a2bcb4c89845677529ca22a57": {
      "model_module": "@jupyter-widgets/base",
      "model_module_version": "1.2.0",
      "model_name": "LayoutModel",
      "state": {}
     },
     "3531e0c7719841b7962cdd1c3daf8ccf": {
      "model_module": "@jupyter-widgets/controls",
      "model_module_version": "1.5.0",
      "model_name": "FloatProgressModel",
      "state": {
       "bar_style": "success",
       "description": "100%",
       "layout": "IPY_MODEL_a7ac9e61a5774437b47f705c5b5eb951",
       "max": 8760,
       "style": "IPY_MODEL_1c67cccfd0f5471ab0834eaf46906582",
       "value": 8760
      }
     },
     "353dfe4eceed4cfa80dc2b1953154340": {
      "model_module": "@jupyter-widgets/controls",
      "model_module_version": "1.5.0",
      "model_name": "HTMLModel",
      "state": {
       "layout": "IPY_MODEL_cbca5b952b7f4812965547ca4c7629c6",
       "style": "IPY_MODEL_d87b4bdaf4e34ea69930ad87ecda920c",
       "value": " 2211/8760 [00:08&lt;00:24, 267.61steps/s]"
      }
     },
     "355f6c4da0bc47d8997df8ba22c58c94": {
      "model_module": "@jupyter-widgets/base",
      "model_module_version": "1.2.0",
      "model_name": "LayoutModel",
      "state": {}
     },
     "35858106b4204598a74813dc7ec98820": {
      "model_module": "@jupyter-widgets/controls",
      "model_module_version": "1.5.0",
      "model_name": "ProgressStyleModel",
      "state": {
       "description_width": "initial"
      }
     },
     "3586f54d2bc34ddf8bb6b424a7c29d71": {
      "model_module": "@jupyter-widgets/controls",
      "model_module_version": "1.5.0",
      "model_name": "HBoxModel",
      "state": {
       "children": [
        "IPY_MODEL_46565863ea614ff7886e19279e747c5d",
        "IPY_MODEL_9e39f4acd2a942ecb8413ca58c95d3a1"
       ],
       "layout": "IPY_MODEL_fb1611b32feb45359e311c92f652dfe4"
      }
     },
     "3593cc8453ec480fadeb799343b3b872": {
      "model_module": "@jupyter-widgets/controls",
      "model_module_version": "1.5.0",
      "model_name": "DescriptionStyleModel",
      "state": {
       "description_width": ""
      }
     },
     "35acf7daa87c415e91f16034c65c2c44": {
      "model_module": "@jupyter-widgets/base",
      "model_module_version": "1.2.0",
      "model_name": "LayoutModel",
      "state": {}
     },
     "35d1169b4c70434c9c30dfe8374ed0bd": {
      "model_module": "@jupyter-widgets/base",
      "model_module_version": "1.2.0",
      "model_name": "LayoutModel",
      "state": {}
     },
     "35df6954fea14b4ca067302e5ecd54e0": {
      "model_module": "@jupyter-widgets/controls",
      "model_module_version": "1.5.0",
      "model_name": "DescriptionStyleModel",
      "state": {
       "description_width": ""
      }
     },
     "35fcdcf2ef8d4971a61e1617300cd970": {
      "model_module": "@jupyter-widgets/controls",
      "model_module_version": "1.5.0",
      "model_name": "ProgressStyleModel",
      "state": {
       "description_width": "initial"
      }
     },
     "36005121ff0d43968c9872f7292f4561": {
      "model_module": "@jupyter-widgets/base",
      "model_module_version": "1.2.0",
      "model_name": "LayoutModel",
      "state": {}
     },
     "3615abb3838e412a98012e03ee642490": {
      "model_module": "@jupyter-widgets/controls",
      "model_module_version": "1.5.0",
      "model_name": "DescriptionStyleModel",
      "state": {
       "description_width": ""
      }
     },
     "36182fb7905344249d95dc7eaac1020f": {
      "model_module": "@jupyter-widgets/base",
      "model_module_version": "1.2.0",
      "model_name": "LayoutModel",
      "state": {}
     },
     "362aefc6cb95419ca46ad15775ce5b1f": {
      "model_module": "@jupyter-widgets/controls",
      "model_module_version": "1.5.0",
      "model_name": "HTMLModel",
      "state": {
       "layout": "IPY_MODEL_cd7aa344feb1462fb2baa885d82e0946",
       "style": "IPY_MODEL_4699de84a64a4f17b595b8d2f99fc407",
       "value": " 8760/8760 [00:30&lt;00:00, 283.61steps/s]"
      }
     },
     "366db34a979f45efae6fad94ade87398": {
      "model_module": "@jupyter-widgets/controls",
      "model_module_version": "1.5.0",
      "model_name": "ProgressStyleModel",
      "state": {
       "description_width": "initial"
      }
     },
     "3670feae7d8e4f0db869f1b2d1891fe8": {
      "model_module": "@jupyter-widgets/base",
      "model_module_version": "1.2.0",
      "model_name": "LayoutModel",
      "state": {}
     },
     "367b66553d4e47d7b333086afc28aeed": {
      "model_module": "@jupyter-widgets/base",
      "model_module_version": "1.2.0",
      "model_name": "LayoutModel",
      "state": {}
     },
     "368830b1fc264d05b0e18efa9a7ae687": {
      "model_module": "@jupyter-widgets/controls",
      "model_module_version": "1.5.0",
      "model_name": "HBoxModel",
      "state": {
       "children": [
        "IPY_MODEL_38adb45f17b441b4bb93f96f1f01222a",
        "IPY_MODEL_c7846a8e10a640c69f7f58ae4b72cb5d"
       ],
       "layout": "IPY_MODEL_a5a75aaa430a4f66925e7d29fdddcdba"
      }
     },
     "36bd339c19fe4d34816da9196fc7ec72": {
      "model_module": "@jupyter-widgets/controls",
      "model_module_version": "1.5.0",
      "model_name": "HTMLModel",
      "state": {
       "layout": "IPY_MODEL_81ca84d3f8934789bcc6fecbf179609e",
       "style": "IPY_MODEL_755b2641cc5746e595e734c42200aa79",
       "value": " 3353/8760 [00:11&lt;00:18, 295.59steps/s]"
      }
     },
     "36f206ba12cd4168a73eb75a5baca6ba": {
      "model_module": "@jupyter-widgets/controls",
      "model_module_version": "1.5.0",
      "model_name": "HTMLModel",
      "state": {
       "layout": "IPY_MODEL_7b2fae99c42245039fbebd60ffa7c7ba",
       "style": "IPY_MODEL_7b081a558eee4417b9543126cc37bc80",
       "value": " 8151/8760 [00:28&lt;00:02, 295.26steps/s]"
      }
     },
     "36fc7d0343644bb6811216b186df7144": {
      "model_module": "@jupyter-widgets/base",
      "model_module_version": "1.2.0",
      "model_name": "LayoutModel",
      "state": {}
     },
     "370b2f8bb01c49faa489b792d49f16f6": {
      "model_module": "@jupyter-widgets/controls",
      "model_module_version": "1.5.0",
      "model_name": "FloatProgressModel",
      "state": {
       "bar_style": "success",
       "description": "poop: 100%",
       "layout": "IPY_MODEL_cac9ccdc97dd46a5aad4dd89957e3d98",
       "max": 8760,
       "style": "IPY_MODEL_d010b8ddd61748e1bb672d13035aeb3d",
       "value": 8760
      }
     },
     "3713382a09e54b26bdf6dc45313eabad": {
      "model_module": "@jupyter-widgets/base",
      "model_module_version": "1.2.0",
      "model_name": "LayoutModel",
      "state": {}
     },
     "37645d872d3c4bd1addbe7e3d08e97c4": {
      "model_module": "@jupyter-widgets/base",
      "model_module_version": "1.2.0",
      "model_name": "LayoutModel",
      "state": {}
     },
     "376eba0f2a4448b6bdad9006c96967d7": {
      "model_module": "@jupyter-widgets/base",
      "model_module_version": "1.2.0",
      "model_name": "LayoutModel",
      "state": {}
     },
     "376f0ab9bd7348fbaa9b9e8912e3cef8": {
      "model_module": "@jupyter-widgets/controls",
      "model_module_version": "1.5.0",
      "model_name": "HTMLModel",
      "state": {
       "layout": "IPY_MODEL_3e8a8828c60247bdb87c37566920772b",
       "style": "IPY_MODEL_6318321e2cba4f1f94abb6c2839af40a",
       "value": " 8760/8760 [00:31&lt;00:00, 281.01steps/s]"
      }
     },
     "379a24871a354633a278314fd0948743": {
      "model_module": "@jupyter-widgets/controls",
      "model_module_version": "1.5.0",
      "model_name": "HTMLModel",
      "state": {
       "layout": "IPY_MODEL_cd73694948ca42a3b9d02f52ab9d30bb",
       "style": "IPY_MODEL_2e9a1e4c07f94bc8ba68df3f8404380f",
       "value": " 8760/8760 [00:30&lt;00:00, 283.22steps/s]"
      }
     },
     "379c759b8eee4d86b703aa31227a1a6f": {
      "model_module": "@jupyter-widgets/controls",
      "model_module_version": "1.5.0",
      "model_name": "FloatProgressModel",
      "state": {
       "bar_style": "success",
       "description": "Run 45 of 156 [PID: 21995]: 100%",
       "layout": "IPY_MODEL_8815a0df211c419794f3155a0883cedc",
       "max": 8760,
       "style": "IPY_MODEL_a4a604279d3c4d12ad141ce7dc7ab086",
       "value": 8760
      }
     },
     "37a3a7250f2747d088f7935e937e7ef4": {
      "model_module": "@jupyter-widgets/controls",
      "model_module_version": "1.5.0",
      "model_name": "FloatProgressModel",
      "state": {
       "bar_style": "success",
       "description": "Run 48 of 156 [PID: 21994]: 100%",
       "layout": "IPY_MODEL_e424fdaa7a284b45bcc0ca07c47fa8a7",
       "max": 8760,
       "style": "IPY_MODEL_ee0a4858ad0d4535930ac9070b911b13",
       "value": 8760
      }
     },
     "37aad5af3a174e19a5f3977b1c531122": {
      "model_module": "@jupyter-widgets/controls",
      "model_module_version": "1.5.0",
      "model_name": "ProgressStyleModel",
      "state": {
       "description_width": "initial"
      }
     },
     "37feaacdb47143d68958d8db332ee030": {
      "model_module": "@jupyter-widgets/controls",
      "model_module_version": "1.5.0",
      "model_name": "HBoxModel",
      "state": {
       "children": [
        "IPY_MODEL_5eeedc84ea77434aa0a924a79ec00896",
        "IPY_MODEL_01f562e2cc29430ba10261f0dff4a016"
       ],
       "layout": "IPY_MODEL_e3a201907c254418b45b25f48aaafcd3"
      }
     },
     "381786ec43684c789312b52a31eb963e": {
      "model_module": "@jupyter-widgets/base",
      "model_module_version": "1.2.0",
      "model_name": "LayoutModel",
      "state": {}
     },
     "3832055ef08e4629bd199c17570a09f4": {
      "model_module": "@jupyter-widgets/base",
      "model_module_version": "1.2.0",
      "model_name": "LayoutModel",
      "state": {}
     },
     "383ef23fbf47467c9b8b7ec476da05de": {
      "model_module": "@jupyter-widgets/base",
      "model_module_version": "1.2.0",
      "model_name": "LayoutModel",
      "state": {}
     },
     "3850244447a3403ea0219d1c108aeb34": {
      "model_module": "@jupyter-widgets/controls",
      "model_module_version": "1.5.0",
      "model_name": "HBoxModel",
      "state": {
       "children": [
        "IPY_MODEL_0603d552c2aa4e809ea20b1270ef0841",
        "IPY_MODEL_d848b671de204a53a165e11d69a3d33a"
       ],
       "layout": "IPY_MODEL_c619a27bbb974ceb90bd698bd19bc8e4"
      }
     },
     "385061aa749046bfacc835af47b5f407": {
      "model_module": "@jupyter-widgets/controls",
      "model_module_version": "1.5.0",
      "model_name": "HBoxModel",
      "state": {
       "children": [
        "IPY_MODEL_d1091da1b30b4adb81beca771829737d",
        "IPY_MODEL_a929fdbbfbbb4e3fad7f8095524c7063"
       ],
       "layout": "IPY_MODEL_cfce6cf7952f42cb8e92b7b258f962da"
      }
     },
     "387edbf0ade64dd69f00d1f442e8c246": {
      "model_module": "@jupyter-widgets/controls",
      "model_module_version": "1.5.0",
      "model_name": "HBoxModel",
      "state": {
       "children": [
        "IPY_MODEL_ee1dc1d2b2d341c4b08efd9fa2340633",
        "IPY_MODEL_023dc159e9764c5e92282eceaab9cab9"
       ],
       "layout": "IPY_MODEL_af5dbc2d7623462f8eea21117504900a"
      }
     },
     "3887c361ed9840e8890e1f4da363c8b1": {
      "model_module": "@jupyter-widgets/base",
      "model_module_version": "1.2.0",
      "model_name": "LayoutModel",
      "state": {}
     },
     "38a7d674199345df877e9fbc1b4021a9": {
      "model_module": "@jupyter-widgets/controls",
      "model_module_version": "1.5.0",
      "model_name": "FloatProgressModel",
      "state": {
       "description": "Run 1 of 156 [PID: 40982]:   0%",
       "layout": "IPY_MODEL_e4793fe0b57f4d7b9525ec3e9e80d17a",
       "max": 8760,
       "style": "IPY_MODEL_b366ca5164ad47de954bfae4228f02e1",
       "value": 4
      }
     },
     "38ac605bebb747e7af086260c4bfd581": {
      "model_module": "@jupyter-widgets/controls",
      "model_module_version": "1.5.0",
      "model_name": "FloatProgressModel",
      "state": {
       "bar_style": "success",
       "description": "poop: 100%",
       "layout": "IPY_MODEL_db8a364027f84b0e8a81bd18e653f91f",
       "max": 8760,
       "style": "IPY_MODEL_a0d7c4cc10ab4b89a5352308a06c4eb5",
       "value": 8760
      }
     },
     "38adb45f17b441b4bb93f96f1f01222a": {
      "model_module": "@jupyter-widgets/controls",
      "model_module_version": "1.5.0",
      "model_name": "FloatProgressModel",
      "state": {
       "bar_style": "success",
       "description": "poop: 100%",
       "layout": "IPY_MODEL_4bcf2a58c43045f6b861360bb9decf21",
       "max": 8760,
       "style": "IPY_MODEL_bb07cbbe69c444ae8112c054efc48a68",
       "value": 8760
      }
     },
     "38b5e0d92e8d473db7722cc1cf4a3e2d": {
      "model_module": "@jupyter-widgets/base",
      "model_module_version": "1.2.0",
      "model_name": "LayoutModel",
      "state": {}
     },
     "38bfba5a8840438498d2bfdf9ee87604": {
      "model_module": "@jupyter-widgets/base",
      "model_module_version": "1.2.0",
      "model_name": "LayoutModel",
      "state": {}
     },
     "38c72bcb31b047cda9b688024b6d4cda": {
      "model_module": "@jupyter-widgets/controls",
      "model_module_version": "1.5.0",
      "model_name": "ProgressStyleModel",
      "state": {
       "description_width": "initial"
      }
     },
     "38d962106f7f425d9d5354459f80cdf4": {
      "model_module": "@jupyter-widgets/base",
      "model_module_version": "1.2.0",
      "model_name": "LayoutModel",
      "state": {}
     },
     "38e9011f75d049ccb54e5bc66e0a23c4": {
      "model_module": "@jupyter-widgets/controls",
      "model_module_version": "1.5.0",
      "model_name": "ProgressStyleModel",
      "state": {
       "description_width": "initial"
      }
     },
     "38eb8de1df914d1ea09b319e3a3e0039": {
      "model_module": "@jupyter-widgets/controls",
      "model_module_version": "1.5.0",
      "model_name": "HTMLModel",
      "state": {
       "layout": "IPY_MODEL_830d3568b7b5466d981d81b9f912a3fa",
       "style": "IPY_MODEL_85efb20ebe9b4d3c971bd2795b141cc1",
       "value": " 8760/8760 [00:30&lt;00:00, 288.70steps/s]"
      }
     },
     "39300ab96185427a8478118ae28b6757": {
      "model_module": "@jupyter-widgets/controls",
      "model_module_version": "1.5.0",
      "model_name": "FloatProgressModel",
      "state": {
       "bar_style": "success",
       "description": "Run 50 of 156 [PID: 21995]: 100%",
       "layout": "IPY_MODEL_625e17df81044d1ebe1644f39c57b566",
       "max": 8760,
       "style": "IPY_MODEL_bf0a2619747a4b98988ad6c87b9bf41e",
       "value": 8760
      }
     },
     "3945618f750848fc87199c8677cde94d": {
      "model_module": "@jupyter-widgets/base",
      "model_module_version": "1.2.0",
      "model_name": "LayoutModel",
      "state": {}
     },
     "396b933fe81247f9b772ed1bf0a38369": {
      "model_module": "@jupyter-widgets/base",
      "model_module_version": "1.2.0",
      "model_name": "LayoutModel",
      "state": {}
     },
     "39b89eba9511494eab6b706d72b38cb8": {
      "model_module": "@jupyter-widgets/controls",
      "model_module_version": "1.5.0",
      "model_name": "DescriptionStyleModel",
      "state": {
       "description_width": ""
      }
     },
     "39f96861bbac4d1cad3f173be8821c00": {
      "model_module": "@jupyter-widgets/controls",
      "model_module_version": "1.5.0",
      "model_name": "ProgressStyleModel",
      "state": {
       "description_width": "initial"
      }
     },
     "3a2e317a5ab64aa1917871a451fcd997": {
      "model_module": "@jupyter-widgets/controls",
      "model_module_version": "1.5.0",
      "model_name": "FloatProgressModel",
      "state": {
       "bar_style": "success",
       "description": "Run 16 of 390 [PID: 2317]: 100%",
       "layout": "IPY_MODEL_da355f30ddc84a7da08ffd453547cc8a",
       "max": 8760,
       "style": "IPY_MODEL_d8c70dd24b9f43199b342d7368d47ebb",
       "value": 8760
      }
     },
     "3a33fe20f31b4ca4a81b2985c8a72efb": {
      "model_module": "@jupyter-widgets/base",
      "model_module_version": "1.2.0",
      "model_name": "LayoutModel",
      "state": {}
     },
     "3a3789640dfe4e9ca6cd21ddc5d9a5fa": {
      "model_module": "@jupyter-widgets/controls",
      "model_module_version": "1.5.0",
      "model_name": "HTMLModel",
      "state": {
       "layout": "IPY_MODEL_d3c0f0d4c7c44637922e1bc8e8a0824c",
       "style": "IPY_MODEL_b5a882e68e7a419fba866b25d4331d24",
       "value": " 8760/8760 [01:31&lt;00:00, 95.76steps/s]"
      }
     },
     "3a3fbc546e0c4abfaa3d2408e9db5820": {
      "model_module": "@jupyter-widgets/base",
      "model_module_version": "1.2.0",
      "model_name": "LayoutModel",
      "state": {}
     },
     "3a78458e81a14918bc5d731256e18b3e": {
      "model_module": "@jupyter-widgets/controls",
      "model_module_version": "1.5.0",
      "model_name": "HBoxModel",
      "state": {
       "children": [
        "IPY_MODEL_96904915a7414e22a36b54861d256286",
        "IPY_MODEL_297e8eaf7bd94e0287600df412c987c1"
       ],
       "layout": "IPY_MODEL_f51cb0242f16448a8c6739460ec856a0"
      }
     },
     "3a978ca212624d1caf3e279555b99f11": {
      "model_module": "@jupyter-widgets/controls",
      "model_module_version": "1.5.0",
      "model_name": "FloatProgressModel",
      "state": {
       "bar_style": "success",
       "description": "poop: 100%",
       "layout": "IPY_MODEL_53ac062cef6a4b988c6f3efc54010d8c",
       "max": 8760,
       "style": "IPY_MODEL_fd60994f581c4a8b8df853d117e499b5",
       "value": 8760
      }
     },
     "3aa7855e94674161a69ea503bf18f0dc": {
      "model_module": "@jupyter-widgets/base",
      "model_module_version": "1.2.0",
      "model_name": "LayoutModel",
      "state": {}
     },
     "3aab8b52d928485ab7751bc801576ea5": {
      "model_module": "@jupyter-widgets/controls",
      "model_module_version": "1.5.0",
      "model_name": "HBoxModel",
      "state": {
       "children": [
        "IPY_MODEL_17e43b984d4348df80912102cf6c585f",
        "IPY_MODEL_d2020ce4b83340c483fec5efaf62a8ac"
       ],
       "layout": "IPY_MODEL_28d7f19decb348cea3838a3fc105df38"
      }
     },
     "3aaf6075a31f4f12a452c56e8fccac53": {
      "model_module": "@jupyter-widgets/base",
      "model_module_version": "1.2.0",
      "model_name": "LayoutModel",
      "state": {}
     },
     "3ac6a8799223423691c3cf5e7838e4db": {
      "model_module": "@jupyter-widgets/controls",
      "model_module_version": "1.5.0",
      "model_name": "HBoxModel",
      "state": {
       "children": [
        "IPY_MODEL_531a72ca4e0041ca8c172fe7ff35a0aa",
        "IPY_MODEL_6da04122b92141138fcb77584b3d7109"
       ],
       "layout": "IPY_MODEL_4b44062c5e844b0f817492d8f3cf100b"
      }
     },
     "3adbf2b09a2440929aa1594b877f63c1": {
      "model_module": "@jupyter-widgets/base",
      "model_module_version": "1.2.0",
      "model_name": "LayoutModel",
      "state": {}
     },
     "3ae8335091104e07a6c5640c0244c9d9": {
      "model_module": "@jupyter-widgets/base",
      "model_module_version": "1.2.0",
      "model_name": "LayoutModel",
      "state": {}
     },
     "3b1d71a1db3548e7a81986a05c3bf8df": {
      "model_module": "@jupyter-widgets/base",
      "model_module_version": "1.2.0",
      "model_name": "LayoutModel",
      "state": {}
     },
     "3b256ecb81e74a4081feb3ea0d4c242c": {
      "model_module": "@jupyter-widgets/controls",
      "model_module_version": "1.5.0",
      "model_name": "ProgressStyleModel",
      "state": {
       "description_width": "initial"
      }
     },
     "3b4039fa72ca41fd9c06e3556b04bae5": {
      "model_module": "@jupyter-widgets/controls",
      "model_module_version": "1.5.0",
      "model_name": "DescriptionStyleModel",
      "state": {
       "description_width": ""
      }
     },
     "3b433d526cb5475f8a1da7d0df905bfb": {
      "model_module": "@jupyter-widgets/controls",
      "model_module_version": "1.5.0",
      "model_name": "ProgressStyleModel",
      "state": {
       "description_width": "initial"
      }
     },
     "3b583885b06d4b4ebec2a0ba0bec4e43": {
      "model_module": "@jupyter-widgets/base",
      "model_module_version": "1.2.0",
      "model_name": "LayoutModel",
      "state": {}
     },
     "3b5a1259c67d4a549c291bec9f6027db": {
      "model_module": "@jupyter-widgets/controls",
      "model_module_version": "1.5.0",
      "model_name": "HTMLModel",
      "state": {
       "layout": "IPY_MODEL_fbec9b9d7af24aaba28d1e21b3a7e424",
       "style": "IPY_MODEL_35df6954fea14b4ca067302e5ecd54e0",
       "value": " 81309/175320 [3:24:37&lt;4:52:00,  5.37steps/s]"
      }
     },
     "3b628549dfd644d7a064ca68a17c80bc": {
      "model_module": "@jupyter-widgets/controls",
      "model_module_version": "1.5.0",
      "model_name": "HBoxModel",
      "state": {
       "children": [
        "IPY_MODEL_de361ee889ee4022b1fa0b66ddc99e1f",
        "IPY_MODEL_139900b0e64447e5bb79ce1231bf9d0e"
       ],
       "layout": "IPY_MODEL_46bd22d291fa44d19ac2c411aea798d9"
      }
     },
     "3bd12a46ff924d9a8532e5e1d93064f4": {
      "model_module": "@jupyter-widgets/controls",
      "model_module_version": "1.5.0",
      "model_name": "HTMLModel",
      "state": {
       "layout": "IPY_MODEL_e14fe3db5e984999a87b57fc32fab041",
       "style": "IPY_MODEL_f2c7eee904064dff906591b4e67a9e5c",
       "value": " 351/8760 [00:01&lt;00:30, 271.56steps/s]"
      }
     },
     "3bfae08c2f7c458b920c7747a30b6d1b": {
      "model_module": "@jupyter-widgets/base",
      "model_module_version": "1.2.0",
      "model_name": "LayoutModel",
      "state": {}
     },
     "3c25abb32fd247298a7cfd6eb9055d2f": {
      "model_module": "@jupyter-widgets/controls",
      "model_module_version": "1.5.0",
      "model_name": "HTMLModel",
      "state": {
       "layout": "IPY_MODEL_c2d9243427bd4ee89b38afb7a26321f0",
       "style": "IPY_MODEL_729e9e657dd94b93a097fe8c8c8213a9",
       "value": " 100100/175320 [3:50:53&lt;3:31:55,  5.92steps/s]"
      }
     },
     "3c2b879017494d1bacd71292e2b12155": {
      "model_module": "@jupyter-widgets/controls",
      "model_module_version": "1.5.0",
      "model_name": "FloatProgressModel",
      "state": {
       "bar_style": "success",
       "description": "poop: 100%",
       "layout": "IPY_MODEL_80413ce711f541de85f8090df3226a69",
       "max": 8760,
       "style": "IPY_MODEL_baba3628afb64fdfbd764a3f60453cea",
       "value": 8760
      }
     },
     "3c2e7af3421541ad9ded10399871da1a": {
      "model_module": "@jupyter-widgets/controls",
      "model_module_version": "1.5.0",
      "model_name": "HTMLModel",
      "state": {
       "layout": "IPY_MODEL_957d021d75484066b9d6cf8e23c221b1",
       "style": "IPY_MODEL_d6a6a65678634e3a89d8512b49cad321",
       "value": " 8760/8760 [00:30&lt;00:00, 291.71steps/s]"
      }
     },
     "3c3b317324d3451fbf30707b0f844252": {
      "model_module": "@jupyter-widgets/controls",
      "model_module_version": "1.5.0",
      "model_name": "ProgressStyleModel",
      "state": {
       "description_width": "initial"
      }
     },
     "3c729b6233d142ccbf5f447e1ad6dbd0": {
      "model_module": "@jupyter-widgets/base",
      "model_module_version": "1.2.0",
      "model_name": "LayoutModel",
      "state": {}
     },
     "3c931177135142119b62fea27ecc9d7a": {
      "model_module": "@jupyter-widgets/base",
      "model_module_version": "1.2.0",
      "model_name": "LayoutModel",
      "state": {}
     },
     "3ca24bb8348d443cb15e64f337708e93": {
      "model_module": "@jupyter-widgets/controls",
      "model_module_version": "1.5.0",
      "model_name": "FloatProgressModel",
      "state": {
       "bar_style": "success",
       "description": "poop: 100%",
       "layout": "IPY_MODEL_400c102ef5e042d88b87a8bffad60942",
       "max": 8760,
       "style": "IPY_MODEL_31020c1078a340e988af3eb71aa59f87",
       "value": 8760
      }
     },
     "3ca3e22fbdf34996b3b335765fc8be0a": {
      "model_module": "@jupyter-widgets/base",
      "model_module_version": "1.2.0",
      "model_name": "LayoutModel",
      "state": {}
     },
     "3cc99339499846dc87cbe52db5399bc0": {
      "model_module": "@jupyter-widgets/base",
      "model_module_version": "1.2.0",
      "model_name": "LayoutModel",
      "state": {}
     },
     "3ccd65d9f2134b25838d27451aae2c08": {
      "model_module": "@jupyter-widgets/controls",
      "model_module_version": "1.5.0",
      "model_name": "HBoxModel",
      "state": {
       "children": [
        "IPY_MODEL_cb138bf01a294408b91a5e4cb5afc162",
        "IPY_MODEL_756fa284ff3e4426b1ab73bf88975991"
       ],
       "layout": "IPY_MODEL_f80a74304df148acabafd08ad30cd1f9"
      }
     },
     "3ceaddc4ea854e9fbfb72511361da0f7": {
      "model_module": "@jupyter-widgets/controls",
      "model_module_version": "1.5.0",
      "model_name": "HBoxModel",
      "state": {
       "children": [
        "IPY_MODEL_07eb037267264ec681a2d2f57c14a185",
        "IPY_MODEL_9c7510d4718a4c438befd9f7863acc79"
       ],
       "layout": "IPY_MODEL_caba8ba26a734ca8ac64d6aa2645ba24"
      }
     },
     "3d11835310f044c88329d59a68d24308": {
      "model_module": "@jupyter-widgets/controls",
      "model_module_version": "1.5.0",
      "model_name": "DescriptionStyleModel",
      "state": {
       "description_width": ""
      }
     },
     "3d157f972bc042109c7d825d029d0c68": {
      "model_module": "@jupyter-widgets/controls",
      "model_module_version": "1.5.0",
      "model_name": "HBoxModel",
      "state": {
       "children": [
        "IPY_MODEL_cbf3cff8c2af43998fa1dede6f68c081",
        "IPY_MODEL_e2dac1adff5a48dd811f6c28e2081ece"
       ],
       "layout": "IPY_MODEL_5b96a68bc5ee41da95bc4da28395a96b"
      }
     },
     "3d22160dd02046b09b6886da73387978": {
      "model_module": "@jupyter-widgets/controls",
      "model_module_version": "1.5.0",
      "model_name": "DescriptionStyleModel",
      "state": {
       "description_width": ""
      }
     },
     "3d3fa841d63544afbfd7aecf35f48846": {
      "model_module": "@jupyter-widgets/controls",
      "model_module_version": "1.5.0",
      "model_name": "DescriptionStyleModel",
      "state": {
       "description_width": ""
      }
     },
     "3d6904142d014782b636328c53036754": {
      "model_module": "@jupyter-widgets/base",
      "model_module_version": "1.2.0",
      "model_name": "LayoutModel",
      "state": {}
     },
     "3da6e4cf1b2a4cf6ba17d36b05b8f8d4": {
      "model_module": "@jupyter-widgets/controls",
      "model_module_version": "1.5.0",
      "model_name": "DescriptionStyleModel",
      "state": {
       "description_width": ""
      }
     },
     "3daac709f38e4dfca6c3fee2ad02dc6c": {
      "model_module": "@jupyter-widgets/base",
      "model_module_version": "1.2.0",
      "model_name": "LayoutModel",
      "state": {}
     },
     "3de0ee3a860e400294f7945f22d37de1": {
      "model_module": "@jupyter-widgets/base",
      "model_module_version": "1.2.0",
      "model_name": "LayoutModel",
      "state": {}
     },
     "3dee1ee18b5245a5a5df413f9e8449fa": {
      "model_module": "@jupyter-widgets/base",
      "model_module_version": "1.2.0",
      "model_name": "LayoutModel",
      "state": {}
     },
     "3e05b929f8af435fadfda2888edddc54": {
      "model_module": "@jupyter-widgets/controls",
      "model_module_version": "1.5.0",
      "model_name": "DescriptionStyleModel",
      "state": {
       "description_width": ""
      }
     },
     "3e5892da05c24f73ab475bf6fdeed91c": {
      "model_module": "@jupyter-widgets/controls",
      "model_module_version": "1.5.0",
      "model_name": "DescriptionStyleModel",
      "state": {
       "description_width": ""
      }
     },
     "3e60dff2977c4dcc9ac80b2986be2821": {
      "model_module": "@jupyter-widgets/controls",
      "model_module_version": "1.5.0",
      "model_name": "DescriptionStyleModel",
      "state": {
       "description_width": ""
      }
     },
     "3e6429522d8a4a349d44a8a205146acb": {
      "model_module": "@jupyter-widgets/base",
      "model_module_version": "1.2.0",
      "model_name": "LayoutModel",
      "state": {}
     },
     "3e8a8828c60247bdb87c37566920772b": {
      "model_module": "@jupyter-widgets/base",
      "model_module_version": "1.2.0",
      "model_name": "LayoutModel",
      "state": {}
     },
     "3eb545acd56e455a8b678098a79bf1b2": {
      "model_module": "@jupyter-widgets/controls",
      "model_module_version": "1.5.0",
      "model_name": "DescriptionStyleModel",
      "state": {
       "description_width": ""
      }
     },
     "3ebb1b30f5e24af89ba9291837b0323d": {
      "model_module": "@jupyter-widgets/base",
      "model_module_version": "1.2.0",
      "model_name": "LayoutModel",
      "state": {}
     },
     "3f11c313a5f9440fbe6f4f6a9305b36c": {
      "model_module": "@jupyter-widgets/controls",
      "model_module_version": "1.5.0",
      "model_name": "HTMLModel",
      "state": {
       "layout": "IPY_MODEL_5ad69cee543e4eb3aed034629ec6ed4f",
       "style": "IPY_MODEL_4e8d1fa2d97e40e5a7c770303a12fed8",
       "value": " 2027/8760 [00:07&lt;00:24, 275.88steps/s]"
      }
     },
     "3f18f0621e334ae9b5be7afc4f6201d4": {
      "model_module": "@jupyter-widgets/base",
      "model_module_version": "1.2.0",
      "model_name": "LayoutModel",
      "state": {}
     },
     "3f2264e16cae4b80bad0c8a37f3e5dc5": {
      "model_module": "@jupyter-widgets/base",
      "model_module_version": "1.2.0",
      "model_name": "LayoutModel",
      "state": {}
     },
     "3f22b1671efe44a19a7454b080a3efd1": {
      "model_module": "@jupyter-widgets/controls",
      "model_module_version": "1.5.0",
      "model_name": "FloatProgressModel",
      "state": {
       "bar_style": "danger",
       "description": "Run 26 of 156 [PID: 45689]:  25%",
       "layout": "IPY_MODEL_a217c57fc0684a92bcce88e653bac718",
       "max": 8760,
       "style": "IPY_MODEL_b181554ae8474fbcb45459112f747473",
       "value": 2166
      }
     },
     "3f4ab15951e14da5a48d7a38c9bc5f33": {
      "model_module": "@jupyter-widgets/controls",
      "model_module_version": "1.5.0",
      "model_name": "HBoxModel",
      "state": {
       "children": [
        "IPY_MODEL_b2b387368bbe46a08782e6fc28d52546",
        "IPY_MODEL_d632eeffd9e747cb9ec7bc2556e4c8b5"
       ],
       "layout": "IPY_MODEL_6a3023f2e6994366a4903ade25edb466"
      }
     },
     "3f6ae54674d14ede98a51be802f391c6": {
      "model_module": "@jupyter-widgets/controls",
      "model_module_version": "1.5.0",
      "model_name": "DescriptionStyleModel",
      "state": {
       "description_width": ""
      }
     },
     "3f6b0a1ad9ed4adca65adc037d390ad5": {
      "model_module": "@jupyter-widgets/base",
      "model_module_version": "1.2.0",
      "model_name": "LayoutModel",
      "state": {}
     },
     "3f960f77aab641f2be3c848aaea5574e": {
      "model_module": "@jupyter-widgets/base",
      "model_module_version": "1.2.0",
      "model_name": "LayoutModel",
      "state": {}
     },
     "3fa25f9fef7644bdb6f624d7ddb2b34e": {
      "model_module": "@jupyter-widgets/controls",
      "model_module_version": "1.5.0",
      "model_name": "FloatProgressModel",
      "state": {
       "bar_style": "danger",
       "description": " 19%",
       "layout": "IPY_MODEL_5882ff3681de408c83726e28a67ecffb",
       "max": 8760,
       "style": "IPY_MODEL_45b95978acfb41e2a0d86c25e259f5e2",
       "value": 1675
      }
     },
     "3fa4355a6f934ec8a7a3925efedf1620": {
      "model_module": "@jupyter-widgets/controls",
      "model_module_version": "1.5.0",
      "model_name": "HBoxModel",
      "state": {
       "children": [
        "IPY_MODEL_2fad8028d6cb412f9c74b576725d2a6a",
        "IPY_MODEL_b1f61df53f44440d8439b588376c5639"
       ],
       "layout": "IPY_MODEL_5dc98943466a47ccbe44068f9181d36c"
      }
     },
     "3fac0f4a881b40edbf436ee426d6856c": {
      "model_module": "@jupyter-widgets/controls",
      "model_module_version": "1.5.0",
      "model_name": "HTMLModel",
      "state": {
       "layout": "IPY_MODEL_25381689c1514b4ba94f36e367a9accd",
       "style": "IPY_MODEL_3e05b929f8af435fadfda2888edddc54",
       "value": " 8230/8760 [00:28&lt;00:01, 286.71steps/s]"
      }
     },
     "3fcfaefa9fc64b6fb1dd29fe61c04a94": {
      "model_module": "@jupyter-widgets/controls",
      "model_module_version": "1.5.0",
      "model_name": "DescriptionStyleModel",
      "state": {
       "description_width": ""
      }
     },
     "3fd5f1c68ae2450e8818c7a8f84ac5ed": {
      "model_module": "@jupyter-widgets/controls",
      "model_module_version": "1.5.0",
      "model_name": "ProgressStyleModel",
      "state": {
       "description_width": "initial"
      }
     },
     "3ff1dbf6ceca4603b2e6f6483a38450a": {
      "model_module": "@jupyter-widgets/controls",
      "model_module_version": "1.5.0",
      "model_name": "FloatProgressModel",
      "state": {
       "bar_style": "danger",
       "description": "PID: 67934:  25%",
       "layout": "IPY_MODEL_26756c77300b428ca41235907b481c04",
       "max": 8760,
       "style": "IPY_MODEL_59ab34bf589c438f8f4b71347de299ef",
       "value": 2211
      }
     },
     "4003898b2a72455dbde59618d2e0ae8a": {
      "model_module": "@jupyter-widgets/controls",
      "model_module_version": "1.5.0",
      "model_name": "DescriptionStyleModel",
      "state": {
       "description_width": ""
      }
     },
     "400c102ef5e042d88b87a8bffad60942": {
      "model_module": "@jupyter-widgets/base",
      "model_module_version": "1.2.0",
      "model_name": "LayoutModel",
      "state": {}
     },
     "40201c855b2d41758378f54938b6a0e6": {
      "model_module": "@jupyter-widgets/controls",
      "model_module_version": "1.5.0",
      "model_name": "FloatProgressModel",
      "state": {
       "description": "Run 107 of 156 [PID: 72803]:  48%",
       "layout": "IPY_MODEL_8aefca30a1b1404f80b72e21489db76f",
       "max": 175320,
       "style": "IPY_MODEL_1c9c703c1719474d8a1e68d9ae1ca7b5",
       "value": 84137
      }
     },
     "4020484fda78455782ded88a481d08e1": {
      "model_module": "@jupyter-widgets/controls",
      "model_module_version": "1.5.0",
      "model_name": "ProgressStyleModel",
      "state": {
       "description_width": "initial"
      }
     },
     "403e85ffa2fa4dfe9ead4a02632054de": {
      "model_module": "@jupyter-widgets/controls",
      "model_module_version": "1.5.0",
      "model_name": "HTMLModel",
      "state": {
       "layout": "IPY_MODEL_e064f273bab346e8aed45b3d6a431258",
       "style": "IPY_MODEL_7b66d75320b840048b968bd22b9b6af0",
       "value": " 8760/8760 [00:30&lt;00:00, 285.29steps/s]"
      }
     },
     "40496f077bf5416492ea9bb864fa8524": {
      "model_module": "@jupyter-widgets/controls",
      "model_module_version": "1.5.0",
      "model_name": "ProgressStyleModel",
      "state": {
       "description_width": "initial"
      }
     },
     "407401a76aa348679b23b336110f6e86": {
      "model_module": "@jupyter-widgets/base",
      "model_module_version": "1.2.0",
      "model_name": "LayoutModel",
      "state": {}
     },
     "4078195033b94fc58ba1d78f2ebafb9f": {
      "model_module": "@jupyter-widgets/controls",
      "model_module_version": "1.5.0",
      "model_name": "FloatProgressModel",
      "state": {
       "description": "Run 91 of 156 [PID: 72828]:  50%",
       "layout": "IPY_MODEL_cac7152bb07f430d8a3855113b9118a4",
       "max": 175320,
       "style": "IPY_MODEL_e6976a2ebf274ee8a283c0985747fa04",
       "value": 88365
      }
     },
     "409110530db24e7081d6e84398db1d16": {
      "model_module": "@jupyter-widgets/controls",
      "model_module_version": "1.5.0",
      "model_name": "HTMLModel",
      "state": {
       "layout": "IPY_MODEL_44f95c37beb847518d578fde9828bb85",
       "style": "IPY_MODEL_b3287568b72f4774b1ab36a2c784dcbc",
       "value": " 8760/8760 [00:31&lt;00:00, 274.38steps/s]"
      }
     },
     "4099348f970b4b2d85fd2b409139fd8c": {
      "model_module": "@jupyter-widgets/controls",
      "model_module_version": "1.5.0",
      "model_name": "DescriptionStyleModel",
      "state": {
       "description_width": ""
      }
     },
     "40ad849930254e0da4d7aa385a6107e2": {
      "model_module": "@jupyter-widgets/base",
      "model_module_version": "1.2.0",
      "model_name": "LayoutModel",
      "state": {}
     },
     "40d02963062f444cb940c3731cfad552": {
      "model_module": "@jupyter-widgets/controls",
      "model_module_version": "1.5.0",
      "model_name": "FloatProgressModel",
      "state": {
       "bar_style": "success",
       "description": "100%",
       "layout": "IPY_MODEL_b513fd82226942ec98476970abb97ef6",
       "max": 8760,
       "style": "IPY_MODEL_81f015136d884559a6a972310dcd94ac",
       "value": 8760
      }
     },
     "40e136e273c740099aee2c33d1f6a1a3": {
      "model_module": "@jupyter-widgets/controls",
      "model_module_version": "1.5.0",
      "model_name": "FloatProgressModel",
      "state": {
       "description": "Run 88 of 156 [PID: 72850]:  50%",
       "layout": "IPY_MODEL_bb7a7edf86bc4d03b80245457a719910",
       "max": 175320,
       "style": "IPY_MODEL_649053432f53476a83fdc36028159fb8",
       "value": 87049
      }
     },
     "40e9a979324f444a8f27e3bedba3d33e": {
      "model_module": "@jupyter-widgets/controls",
      "model_module_version": "1.5.0",
      "model_name": "DescriptionStyleModel",
      "state": {
       "description_width": ""
      }
     },
     "4105105e23044a79a734f8efd0ab16b7": {
      "model_module": "@jupyter-widgets/controls",
      "model_module_version": "1.5.0",
      "model_name": "FloatProgressModel",
      "state": {
       "bar_style": "success",
       "description": "poop: 100%",
       "layout": "IPY_MODEL_a9bc72f3f1d0474db64448a73aab49b2",
       "max": 8760,
       "style": "IPY_MODEL_f33f79a0e1a043f78900bf6a36f3d8b3",
       "value": 8760
      }
     },
     "412b7d631dc34d43ba8a9f7669952554": {
      "model_module": "@jupyter-widgets/controls",
      "model_module_version": "1.5.0",
      "model_name": "DescriptionStyleModel",
      "state": {
       "description_width": ""
      }
     },
     "412cd374dd9d440d90a36be1eabd9cf4": {
      "model_module": "@jupyter-widgets/controls",
      "model_module_version": "1.5.0",
      "model_name": "HBoxModel",
      "state": {
       "children": [
        "IPY_MODEL_f21cf51ce2e546efb614d7e347272347",
        "IPY_MODEL_4d2582e797714079b7526452d69f2426"
       ],
       "layout": "IPY_MODEL_a5132beb06e843b3b5926a506fc555c9"
      }
     },
     "412ef500c4d24484b96947509966d9d2": {
      "model_module": "@jupyter-widgets/controls",
      "model_module_version": "1.5.0",
      "model_name": "ProgressStyleModel",
      "state": {
       "description_width": "initial"
      }
     },
     "412f821bff2b42deb8c4ab7db5b13961": {
      "model_module": "@jupyter-widgets/base",
      "model_module_version": "1.2.0",
      "model_name": "LayoutModel",
      "state": {}
     },
     "4130d38ac6614216a9fea4e09d7262b4": {
      "model_module": "@jupyter-widgets/base",
      "model_module_version": "1.2.0",
      "model_name": "LayoutModel",
      "state": {}
     },
     "4131fec247c0490f86157d9b0ab27c99": {
      "model_module": "@jupyter-widgets/controls",
      "model_module_version": "1.5.0",
      "model_name": "ProgressStyleModel",
      "state": {
       "description_width": "initial"
      }
     },
     "414671b0449d420889df3d0ccec4b5aa": {
      "model_module": "@jupyter-widgets/base",
      "model_module_version": "1.2.0",
      "model_name": "LayoutModel",
      "state": {}
     },
     "417dfdd9ae78468c83cdb97795f1a9b6": {
      "model_module": "@jupyter-widgets/base",
      "model_module_version": "1.2.0",
      "model_name": "LayoutModel",
      "state": {}
     },
     "41866b9c4c0840de9c1982d90a17b032": {
      "model_module": "@jupyter-widgets/controls",
      "model_module_version": "1.5.0",
      "model_name": "ProgressStyleModel",
      "state": {
       "description_width": "initial"
      }
     },
     "41a3d47650e74d93bbcc672e3781fa47": {
      "model_module": "@jupyter-widgets/controls",
      "model_module_version": "1.5.0",
      "model_name": "HBoxModel",
      "state": {
       "children": [
        "IPY_MODEL_6870d76121ef4978a4ab19addabddc75",
        "IPY_MODEL_81fa1a9db8ca4134a943ebb91f3ec75f"
       ],
       "layout": "IPY_MODEL_0e7c938932e5483eb6649ea8c8fa4a20"
      }
     },
     "41b174aa6f3945da863150ff6e3d5421": {
      "model_module": "@jupyter-widgets/base",
      "model_module_version": "1.2.0",
      "model_name": "LayoutModel",
      "state": {}
     },
     "41c6c96c7e4f402a818927a3fa80c70a": {
      "model_module": "@jupyter-widgets/base",
      "model_module_version": "1.2.0",
      "model_name": "LayoutModel",
      "state": {}
     },
     "42289d8e92304d9a89ba87556d605d8d": {
      "model_module": "@jupyter-widgets/controls",
      "model_module_version": "1.5.0",
      "model_name": "HBoxModel",
      "state": {
       "children": [
        "IPY_MODEL_3fa25f9fef7644bdb6f624d7ddb2b34e",
        "IPY_MODEL_937a0cccb33241738fc91204533cd5ee"
       ],
       "layout": "IPY_MODEL_00da85a8490e4a8fbb6b0b69754eea60"
      }
     },
     "4243ae860b3043268c9d1f44dc490f3f": {
      "model_module": "@jupyter-widgets/controls",
      "model_module_version": "1.5.0",
      "model_name": "ProgressStyleModel",
      "state": {
       "description_width": "initial"
      }
     },
     "42565bd1257c4b9f9fdaefe327b0779b": {
      "model_module": "@jupyter-widgets/base",
      "model_module_version": "1.2.0",
      "model_name": "LayoutModel",
      "state": {}
     },
     "427504929eec4f6b9467905a4f79672e": {
      "model_module": "@jupyter-widgets/controls",
      "model_module_version": "1.5.0",
      "model_name": "DescriptionStyleModel",
      "state": {
       "description_width": ""
      }
     },
     "4279f1f0d7d7436db819b3a29b2b11f3": {
      "model_module": "@jupyter-widgets/base",
      "model_module_version": "1.2.0",
      "model_name": "LayoutModel",
      "state": {}
     },
     "4281e11ad5474d658fe2f17acd4b265e": {
      "model_module": "@jupyter-widgets/controls",
      "model_module_version": "1.5.0",
      "model_name": "FloatProgressModel",
      "state": {
       "bar_style": "success",
       "description": "100%",
       "layout": "IPY_MODEL_1f1c4f0705014cf1a738499b0011feed",
       "max": 8760,
       "style": "IPY_MODEL_5c293d796ef84d49a916fcd66bc3409b",
       "value": 8760
      }
     },
     "428330da299e4474b9965296c7178518": {
      "model_module": "@jupyter-widgets/base",
      "model_module_version": "1.2.0",
      "model_name": "LayoutModel",
      "state": {}
     },
     "428eb8bbe30f424bad63499e97d52ab8": {
      "model_module": "@jupyter-widgets/controls",
      "model_module_version": "1.5.0",
      "model_name": "ProgressStyleModel",
      "state": {
       "description_width": "initial"
      }
     },
     "428f69da71024ebd8e6c066d4ce9b445": {
      "model_module": "@jupyter-widgets/controls",
      "model_module_version": "1.5.0",
      "model_name": "HBoxModel",
      "state": {
       "children": [
        "IPY_MODEL_51171ce4013d4f5c9b2c007a9e6556c1",
        "IPY_MODEL_2e7745167fca4120bb7bd4d8a59736b3"
       ],
       "layout": "IPY_MODEL_0bbb3e38c80f45c893ade0e522a9cbde"
      }
     },
     "42a7d4eaa6d84fe4aee99d5356246416": {
      "model_module": "@jupyter-widgets/controls",
      "model_module_version": "1.5.0",
      "model_name": "DescriptionStyleModel",
      "state": {
       "description_width": ""
      }
     },
     "42bb9001f1fc4f95a53a8f9e7ba77e34": {
      "model_module": "@jupyter-widgets/controls",
      "model_module_version": "1.5.0",
      "model_name": "HBoxModel",
      "state": {
       "children": [
        "IPY_MODEL_0c7b361b6f5244cf9aacb9899cd4d6cb",
        "IPY_MODEL_362aefc6cb95419ca46ad15775ce5b1f"
       ],
       "layout": "IPY_MODEL_e6c9340df8324b88b51c9c119792cc9e"
      }
     },
     "42bef2a0da254a45a5d913e0a7f15c5e": {
      "model_module": "@jupyter-widgets/base",
      "model_module_version": "1.2.0",
      "model_name": "LayoutModel",
      "state": {}
     },
     "42c464dae94c4998821103efc09d14c8": {
      "model_module": "@jupyter-widgets/base",
      "model_module_version": "1.2.0",
      "model_name": "LayoutModel",
      "state": {}
     },
     "42e6ac0d6484423eb76d19e9ced76c51": {
      "model_module": "@jupyter-widgets/base",
      "model_module_version": "1.2.0",
      "model_name": "LayoutModel",
      "state": {}
     },
     "42f3972e6311473eb3e54d434d2a5875": {
      "model_module": "@jupyter-widgets/controls",
      "model_module_version": "1.5.0",
      "model_name": "HBoxModel",
      "state": {
       "children": [
        "IPY_MODEL_13ca6ea15c2c4e79b108c900bc9133bf",
        "IPY_MODEL_b886f825daa1405ba3e2040b9867a05d"
       ],
       "layout": "IPY_MODEL_1f79247a73994b3ea143590a647339ee"
      }
     },
     "42fdff9f985f4eff85fb1d949e9a6d79": {
      "model_module": "@jupyter-widgets/base",
      "model_module_version": "1.2.0",
      "model_name": "LayoutModel",
      "state": {}
     },
     "4337de264dbf450a9a909f03d57e0859": {
      "model_module": "@jupyter-widgets/controls",
      "model_module_version": "1.5.0",
      "model_name": "ProgressStyleModel",
      "state": {
       "description_width": "initial"
      }
     },
     "4339d986876d46b48545020506b6f157": {
      "model_module": "@jupyter-widgets/controls",
      "model_module_version": "1.5.0",
      "model_name": "FloatProgressModel",
      "state": {
       "description": "Run 71 of 156 [PID: 72839]:  56%",
       "layout": "IPY_MODEL_b715c7db52464baaa9fbe61bd50640b6",
       "max": 175320,
       "style": "IPY_MODEL_264fc5464a1c4ad385fec4a236f1860d",
       "value": 98807
      }
     },
     "434bcf6c9ace48d6849d9314dc3bb6ea": {
      "model_module": "@jupyter-widgets/controls",
      "model_module_version": "1.5.0",
      "model_name": "ProgressStyleModel",
      "state": {
       "description_width": "initial"
      }
     },
     "435705b2fb5e4e13bac3007ad5930439": {
      "model_module": "@jupyter-widgets/base",
      "model_module_version": "1.2.0",
      "model_name": "LayoutModel",
      "state": {}
     },
     "43994676fe2e43deb975742e2a9e58a3": {
      "model_module": "@jupyter-widgets/controls",
      "model_module_version": "1.5.0",
      "model_name": "HBoxModel",
      "state": {
       "children": [
        "IPY_MODEL_773174878a79426da92f3c1b83b37c1b",
        "IPY_MODEL_a267126e561841c3a2bc3428c425709b"
       ],
       "layout": "IPY_MODEL_a86ab8b7fc7245769f6fc2d11232134e"
      }
     },
     "43a5d30b48da45749f1fc1ff73c9ba24": {
      "model_module": "@jupyter-widgets/base",
      "model_module_version": "1.2.0",
      "model_name": "LayoutModel",
      "state": {}
     },
     "43bb1422220941ccab12682fd4022c0e": {
      "model_module": "@jupyter-widgets/controls",
      "model_module_version": "1.5.0",
      "model_name": "ProgressStyleModel",
      "state": {
       "description_width": "initial"
      }
     },
     "43e12bdf912b4d038a5d43e35b7c1278": {
      "model_module": "@jupyter-widgets/controls",
      "model_module_version": "1.5.0",
      "model_name": "FloatProgressModel",
      "state": {
       "bar_style": "success",
       "description": "100%",
       "layout": "IPY_MODEL_bef6eac04ec349c6a2340fd779c5ac82",
       "max": 8760,
       "style": "IPY_MODEL_b2b87b3e038b437c9fc79448b6b6a6b6",
       "value": 8760
      }
     },
     "440704530f8d4cb597083b54d64dcd32": {
      "model_module": "@jupyter-widgets/controls",
      "model_module_version": "1.5.0",
      "model_name": "HBoxModel",
      "state": {
       "children": [
        "IPY_MODEL_5c69c75547ec496785f004df1305e2cf",
        "IPY_MODEL_1f1881e6759e443482bd860a0e196fd5"
       ],
       "layout": "IPY_MODEL_3a33fe20f31b4ca4a81b2985c8a72efb"
      }
     },
     "44412929f52747b6b953c7076b7e9dba": {
      "model_module": "@jupyter-widgets/base",
      "model_module_version": "1.2.0",
      "model_name": "LayoutModel",
      "state": {}
     },
     "444748e28344474daeee76283833db50": {
      "model_module": "@jupyter-widgets/base",
      "model_module_version": "1.2.0",
      "model_name": "LayoutModel",
      "state": {}
     },
     "445bf00418be4a02b48588b68fa21925": {
      "model_module": "@jupyter-widgets/controls",
      "model_module_version": "1.5.0",
      "model_name": "FloatProgressModel",
      "state": {
       "bar_style": "success",
       "description": "poop: 100%",
       "layout": "IPY_MODEL_b7bab4a7932841f4bdb88721c3927d1d",
       "max": 8760,
       "style": "IPY_MODEL_c01e57eade4443379ebf770369914a60",
       "value": 8760
      }
     },
     "445d25f48e014d5db389bb9080125992": {
      "model_module": "@jupyter-widgets/controls",
      "model_module_version": "1.5.0",
      "model_name": "ProgressStyleModel",
      "state": {
       "description_width": "initial"
      }
     },
     "448f6fc95e8541ad95fc1db590baf551": {
      "model_module": "@jupyter-widgets/controls",
      "model_module_version": "1.5.0",
      "model_name": "DescriptionStyleModel",
      "state": {
       "description_width": ""
      }
     },
     "44b2ba11b9df4a12acb760d0a756292a": {
      "model_module": "@jupyter-widgets/controls",
      "model_module_version": "1.5.0",
      "model_name": "FloatProgressModel",
      "state": {
       "bar_style": "success",
       "description": "Run 16 of 156 [PID: 21994]: 100%",
       "layout": "IPY_MODEL_bb0648c0bfdb436b9d1996215f5d5b7e",
       "max": 8760,
       "style": "IPY_MODEL_0d68c1a2c79c4ccf8500f45e0fe2345e",
       "value": 8760
      }
     },
     "44f95c37beb847518d578fde9828bb85": {
      "model_module": "@jupyter-widgets/base",
      "model_module_version": "1.2.0",
      "model_name": "LayoutModel",
      "state": {}
     },
     "44f9c4b0c7e34be58af84bbf06c43e40": {
      "model_module": "@jupyter-widgets/controls",
      "model_module_version": "1.5.0",
      "model_name": "FloatProgressModel",
      "state": {
       "bar_style": "success",
       "description": "100%",
       "layout": "IPY_MODEL_cdf3b22367ad426ab6c314b6a271e837",
       "max": 8760,
       "style": "IPY_MODEL_38e9011f75d049ccb54e5bc66e0a23c4",
       "value": 8760
      }
     },
     "451f18849cf74ef7a449f477e6798e18": {
      "model_module": "@jupyter-widgets/base",
      "model_module_version": "1.2.0",
      "model_name": "LayoutModel",
      "state": {}
     },
     "4526e45a40754cbbae3243bf47d756a1": {
      "model_module": "@jupyter-widgets/controls",
      "model_module_version": "1.5.0",
      "model_name": "HBoxModel",
      "state": {
       "children": [
        "IPY_MODEL_c320a852dc4343d8b50a88b8fcdc8103",
        "IPY_MODEL_cfcd8dc0bc764b108ceb25d0376f69e1"
       ],
       "layout": "IPY_MODEL_6023dbf78aee47c292c5801a44c3bf2d"
      }
     },
     "454ecd48fa574b72b8e2502ec081f8ba": {
      "model_module": "@jupyter-widgets/controls",
      "model_module_version": "1.5.0",
      "model_name": "HBoxModel",
      "state": {
       "children": [
        "IPY_MODEL_91253451a74349ee9f05dec1e7317930",
        "IPY_MODEL_a7053def70234c6f8ec8c5e058aefe7d"
       ],
       "layout": "IPY_MODEL_85e17ad9a50f4e6a909b2b1b555595bf"
      }
     },
     "4563bcdc13d14921a2f136380ec823a6": {
      "model_module": "@jupyter-widgets/controls",
      "model_module_version": "1.5.0",
      "model_name": "HTMLModel",
      "state": {
       "layout": "IPY_MODEL_1b20ff3d5d6845f5b4b3b1cd680ee06e",
       "style": "IPY_MODEL_e296d9b530f0461b9434e5aa217598d6",
       "value": " 1790/8760 [00:06&lt;00:24, 288.03steps/s]"
      }
     },
     "4570ad0205d84fc2a3242095d843af1a": {
      "model_module": "@jupyter-widgets/controls",
      "model_module_version": "1.5.0",
      "model_name": "HBoxModel",
      "state": {
       "children": [
        "IPY_MODEL_49b132b5b6274e0481d55ab9c40b70ea",
        "IPY_MODEL_eeb6641863bb4fd2b45b99482f17838b"
       ],
       "layout": "IPY_MODEL_3f2264e16cae4b80bad0c8a37f3e5dc5"
      }
     },
     "457acf1cf7ae43e185309b71e567a65d": {
      "model_module": "@jupyter-widgets/base",
      "model_module_version": "1.2.0",
      "model_name": "LayoutModel",
      "state": {}
     },
     "4589ebe07511429ab4e3676f60d8f52a": {
      "model_module": "@jupyter-widgets/controls",
      "model_module_version": "1.5.0",
      "model_name": "FloatProgressModel",
      "state": {
       "description": "Run 127 of 156 [PID: 72796]:  43%",
       "layout": "IPY_MODEL_42fdff9f985f4eff85fb1d949e9a6d79",
       "max": 175320,
       "style": "IPY_MODEL_5d65b97ca78a4a99972688585d437538",
       "value": 76118
      }
     },
     "459ebf3d222b4bbbad01d82932c2be4d": {
      "model_module": "@jupyter-widgets/controls",
      "model_module_version": "1.5.0",
      "model_name": "FloatProgressModel",
      "state": {
       "bar_style": "success",
       "description": "poop: 100%",
       "layout": "IPY_MODEL_684c84e6f7e44aceb32c2e8fc865d63f",
       "max": 8760,
       "style": "IPY_MODEL_6b847e7a0114469396a693cbf0612291",
       "value": 8760
      }
     },
     "45b95978acfb41e2a0d86c25e259f5e2": {
      "model_module": "@jupyter-widgets/controls",
      "model_module_version": "1.5.0",
      "model_name": "ProgressStyleModel",
      "state": {
       "description_width": "initial"
      }
     },
     "45d0908d3dbe4e54b0236aa400222676": {
      "model_module": "@jupyter-widgets/controls",
      "model_module_version": "1.5.0",
      "model_name": "DescriptionStyleModel",
      "state": {
       "description_width": ""
      }
     },
     "45e092022bc445bcb1a7982bc2a7da8b": {
      "model_module": "@jupyter-widgets/controls",
      "model_module_version": "1.5.0",
      "model_name": "HTMLModel",
      "state": {
       "layout": "IPY_MODEL_0f74ecd67ce5456f96ae421897ab9005",
       "style": "IPY_MODEL_b6657552ba4847e0ad45f36ba8761399",
       "value": " 8760/8760 [02:02&lt;00:00, 71.42steps/s]"
      }
     },
     "45e5bdca0a3c417c9b742a1612409885": {
      "model_module": "@jupyter-widgets/controls",
      "model_module_version": "1.5.0",
      "model_name": "FloatProgressModel",
      "state": {
       "description": "Run 102 of 156 [PID: 72805]:  48%",
       "layout": "IPY_MODEL_f7bb1935471d4a529fadbbd43c288bb9",
       "max": 175320,
       "style": "IPY_MODEL_08d89f75c6b54043af2653a6735bfdd5",
       "value": 83719
      }
     },
     "460f79c87f4c4c0180029b635cb53d8f": {
      "model_module": "@jupyter-widgets/base",
      "model_module_version": "1.2.0",
      "model_name": "LayoutModel",
      "state": {}
     },
     "4626bed121f842c8a71d8ff7143b158d": {
      "model_module": "@jupyter-widgets/controls",
      "model_module_version": "1.5.0",
      "model_name": "DescriptionStyleModel",
      "state": {
       "description_width": ""
      }
     },
     "465348044df7471596d27c81eea5d0ba": {
      "model_module": "@jupyter-widgets/controls",
      "model_module_version": "1.5.0",
      "model_name": "HBoxModel",
      "state": {
       "children": [
        "IPY_MODEL_25ef2ac44a4f4323987f9ba37eb161b9",
        "IPY_MODEL_78bda9b9f35441a485d73dff852310e9"
       ],
       "layout": "IPY_MODEL_68f8ceedfa4a4396a5cf3a15ed9eb32e"
      }
     },
     "46565863ea614ff7886e19279e747c5d": {
      "model_module": "@jupyter-widgets/controls",
      "model_module_version": "1.5.0",
      "model_name": "FloatProgressModel",
      "state": {
       "bar_style": "success",
       "description": "100%",
       "layout": "IPY_MODEL_03d77665f7bb41ab82d8b164759324d6",
       "max": 8760,
       "style": "IPY_MODEL_e544176e65da41bd8a224863c5a7d49f",
       "value": 8760
      }
     },
     "4663d41687d34776a67ce847adf97779": {
      "model_module": "@jupyter-widgets/controls",
      "model_module_version": "1.5.0",
      "model_name": "DescriptionStyleModel",
      "state": {
       "description_width": ""
      }
     },
     "467144a0fa9d496d8b814f331191987a": {
      "model_module": "@jupyter-widgets/base",
      "model_module_version": "1.2.0",
      "model_name": "LayoutModel",
      "state": {}
     },
     "46984f2f10f84e2bb43987a65c9ff372": {
      "model_module": "@jupyter-widgets/controls",
      "model_module_version": "1.5.0",
      "model_name": "FloatProgressModel",
      "state": {
       "bar_style": "success",
       "description": "100%",
       "layout": "IPY_MODEL_25a2d4c9672b4f16a67034ce16e4d93e",
       "max": 8760,
       "style": "IPY_MODEL_972aef2347c24242a507c15cbed0a87a",
       "value": 8760
      }
     },
     "4699de84a64a4f17b595b8d2f99fc407": {
      "model_module": "@jupyter-widgets/controls",
      "model_module_version": "1.5.0",
      "model_name": "DescriptionStyleModel",
      "state": {
       "description_width": ""
      }
     },
     "46ab264d76184c11ac0360cfebbfacd0": {
      "model_module": "@jupyter-widgets/controls",
      "model_module_version": "1.5.0",
      "model_name": "HBoxModel",
      "state": {
       "children": [
        "IPY_MODEL_9d32ea2b30c84913b62753b41885836b",
        "IPY_MODEL_f40afd4e7a0b40828172428963bdc781"
       ],
       "layout": "IPY_MODEL_e5fd5c2c223f407182c0f3c7390224b9"
      }
     },
     "46ab8dc1f15640f387d5be07ab080fc5": {
      "model_module": "@jupyter-widgets/controls",
      "model_module_version": "1.5.0",
      "model_name": "HTMLModel",
      "state": {
       "layout": "IPY_MODEL_250e8580b2d846388d57b1daca40ef99",
       "style": "IPY_MODEL_5e59da720eda4a60ade441348d34b4fd",
       "value": " 8760/8760 [00:30&lt;00:00, 286.09steps/s]"
      }
     },
     "46bd22d291fa44d19ac2c411aea798d9": {
      "model_module": "@jupyter-widgets/base",
      "model_module_version": "1.2.0",
      "model_name": "LayoutModel",
      "state": {}
     },
     "46f338d79e7042a28774b4140921d186": {
      "model_module": "@jupyter-widgets/controls",
      "model_module_version": "1.5.0",
      "model_name": "FloatProgressModel",
      "state": {
       "bar_style": "success",
       "description": "poop: 100%",
       "layout": "IPY_MODEL_9a5279f1fcd94c5ba33e8efb41a5c867",
       "max": 8760,
       "style": "IPY_MODEL_0cb0792ce9f947f18135c3933c035b3c",
       "value": 8760
      }
     },
     "4713ca891d254f1e9b4da9fced6fb09e": {
      "model_module": "@jupyter-widgets/base",
      "model_module_version": "1.2.0",
      "model_name": "LayoutModel",
      "state": {}
     },
     "47222dd7914644328f56e8ffcd1ba971": {
      "model_module": "@jupyter-widgets/base",
      "model_module_version": "1.2.0",
      "model_name": "LayoutModel",
      "state": {}
     },
     "4723bbff23774896b4c7f037c01187ce": {
      "model_module": "@jupyter-widgets/controls",
      "model_module_version": "1.5.0",
      "model_name": "HBoxModel",
      "state": {
       "children": [
        "IPY_MODEL_801cafc8cb6842fa8f3ef42465e8dfe2",
        "IPY_MODEL_d77383bbdb8e4d8daa9c58e055a91fb1"
       ],
       "layout": "IPY_MODEL_b4c42c6b71674ec188a556062c8f5110"
      }
     },
     "474aa6b865f44c5ba2269f3c9203963a": {
      "model_module": "@jupyter-widgets/controls",
      "model_module_version": "1.5.0",
      "model_name": "DescriptionStyleModel",
      "state": {
       "description_width": ""
      }
     },
     "475d282ea75c4f858af1912e1470b1db": {
      "model_module": "@jupyter-widgets/base",
      "model_module_version": "1.2.0",
      "model_name": "LayoutModel",
      "state": {}
     },
     "4775a1ca83d4463b89c147c13c2bfbb8": {
      "model_module": "@jupyter-widgets/base",
      "model_module_version": "1.2.0",
      "model_name": "LayoutModel",
      "state": {}
     },
     "47903cb50485402ea4de87b513517d21": {
      "model_module": "@jupyter-widgets/base",
      "model_module_version": "1.2.0",
      "model_name": "LayoutModel",
      "state": {}
     },
     "47a872a38dc7467f84a4cace0c916d3b": {
      "model_module": "@jupyter-widgets/base",
      "model_module_version": "1.2.0",
      "model_name": "LayoutModel",
      "state": {}
     },
     "47ab83c43d3245eea2c9b6dff75860eb": {
      "model_module": "@jupyter-widgets/base",
      "model_module_version": "1.2.0",
      "model_name": "LayoutModel",
      "state": {}
     },
     "47ccf873468a4e36be183e160c2ead01": {
      "model_module": "@jupyter-widgets/controls",
      "model_module_version": "1.5.0",
      "model_name": "ProgressStyleModel",
      "state": {
       "description_width": "initial"
      }
     },
     "47cfdc4723864a8880e97f1d9c37aace": {
      "model_module": "@jupyter-widgets/base",
      "model_module_version": "1.2.0",
      "model_name": "LayoutModel",
      "state": {}
     },
     "47cff5b9d3a9444cb7cb203a2961e710": {
      "model_module": "@jupyter-widgets/base",
      "model_module_version": "1.2.0",
      "model_name": "LayoutModel",
      "state": {}
     },
     "47e37bf2825c460cbc328ae48e3ae64c": {
      "model_module": "@jupyter-widgets/controls",
      "model_module_version": "1.5.0",
      "model_name": "FloatProgressModel",
      "state": {
       "description": "Run 128 of 156 [PID: 72856]:  48%",
       "layout": "IPY_MODEL_642af78d9b73488d8bfff03e49bb2be7",
       "max": 175320,
       "style": "IPY_MODEL_6cd2b96a0def4cec840317f409ff55c1",
       "value": 83599
      }
     },
     "4818ef11f56a43009859f60a9d80c9ac": {
      "model_module": "@jupyter-widgets/controls",
      "model_module_version": "1.5.0",
      "model_name": "DescriptionStyleModel",
      "state": {
       "description_width": ""
      }
     },
     "48285df3b23d447a888950e4ea213b37": {
      "model_module": "@jupyter-widgets/base",
      "model_module_version": "1.2.0",
      "model_name": "LayoutModel",
      "state": {}
     },
     "4854d6165dde4c3f8da7389b2945d9bb": {
      "model_module": "@jupyter-widgets/controls",
      "model_module_version": "1.5.0",
      "model_name": "HBoxModel",
      "state": {
       "children": [
        "IPY_MODEL_98e38041991f46cfa827a930d3284229",
        "IPY_MODEL_27afa90834d8411c8862ce76a35ad41a"
       ],
       "layout": "IPY_MODEL_492dedd21b8240cf82a892b31d0411b4"
      }
     },
     "488425f4e25a40539a0be319dbb2e9c5": {
      "model_module": "@jupyter-widgets/base",
      "model_module_version": "1.2.0",
      "model_name": "LayoutModel",
      "state": {}
     },
     "488a640c8f3941788b86b92ffd4c83ed": {
      "model_module": "@jupyter-widgets/base",
      "model_module_version": "1.2.0",
      "model_name": "LayoutModel",
      "state": {}
     },
     "489ca75f766048db825bf8f7b3c52560": {
      "model_module": "@jupyter-widgets/base",
      "model_module_version": "1.2.0",
      "model_name": "LayoutModel",
      "state": {}
     },
     "489d7c45ebe54346bc6dbbbd2cc075ea": {
      "model_module": "@jupyter-widgets/controls",
      "model_module_version": "1.5.0",
      "model_name": "HTMLModel",
      "state": {
       "layout": "IPY_MODEL_742b6e2eeab242e28f4791f443ea1357",
       "style": "IPY_MODEL_bc7d5ee7a1164bbcabb9443f20e73d50",
       "value": " 5325/8760 [00:19&lt;00:12, 279.33steps/s]"
      }
     },
     "48b3327046cd480b8e0e4f2030776eb9": {
      "model_module": "@jupyter-widgets/controls",
      "model_module_version": "1.5.0",
      "model_name": "FloatProgressModel",
      "state": {
       "bar_style": "danger",
       "description": "poop:  98%",
       "layout": "IPY_MODEL_2fd6cb91e09948caa887104a23f3582c",
       "max": 8760,
       "style": "IPY_MODEL_5930336b6bff4a06835e33042b96fd81",
       "value": 8544
      }
     },
     "48bb2485588a4d49b09b7c97f8ed2f65": {
      "model_module": "@jupyter-widgets/controls",
      "model_module_version": "1.5.0",
      "model_name": "FloatProgressModel",
      "state": {
       "bar_style": "danger",
       "description": "PID: 67939:  35%",
       "layout": "IPY_MODEL_a0b52a9fa9024deea3b458e66c317303",
       "max": 8760,
       "style": "IPY_MODEL_050bf9a497ad4c3cb6921beefab29e75",
       "value": 3089
      }
     },
     "48bc11465a9e4bac84e7f8e6f6ec6be2": {
      "model_module": "@jupyter-widgets/base",
      "model_module_version": "1.2.0",
      "model_name": "LayoutModel",
      "state": {}
     },
     "48c9aac814054e3f86c48a0e4e0f8243": {
      "model_module": "@jupyter-widgets/controls",
      "model_module_version": "1.5.0",
      "model_name": "HBoxModel",
      "state": {
       "children": [
        "IPY_MODEL_80d006c2c630426ba11807694689d781",
        "IPY_MODEL_0ca26e2a549640368e8dafb2c5220759"
       ],
       "layout": "IPY_MODEL_6244f0e4b97646a5bc4d804c97b25100"
      }
     },
     "4926dafb1d2a4f7b9f6a31fca675ce07": {
      "model_module": "@jupyter-widgets/controls",
      "model_module_version": "1.5.0",
      "model_name": "FloatProgressModel",
      "state": {
       "bar_style": "success",
       "description": "poop: 100%",
       "layout": "IPY_MODEL_0bc195704b0741aca9c9876ca3b238a9",
       "max": 8760,
       "style": "IPY_MODEL_313f4309248a444a9b4038f804233af7",
       "value": 8760
      }
     },
     "4927060255e742deb8a56c3917986614": {
      "model_module": "@jupyter-widgets/base",
      "model_module_version": "1.2.0",
      "model_name": "LayoutModel",
      "state": {}
     },
     "492dedd21b8240cf82a892b31d0411b4": {
      "model_module": "@jupyter-widgets/base",
      "model_module_version": "1.2.0",
      "model_name": "LayoutModel",
      "state": {}
     },
     "49358ffd006a4ed78ccc0d4f405f93c0": {
      "model_module": "@jupyter-widgets/controls",
      "model_module_version": "1.5.0",
      "model_name": "HBoxModel",
      "state": {
       "children": [
        "IPY_MODEL_79dbbd0f49b845aca458923cda92a006",
        "IPY_MODEL_c6e7cd4c9f054c9393557295999f51fd"
       ],
       "layout": "IPY_MODEL_2575a8ced9dc47d38b6f2bed4e260590"
      }
     },
     "494aea14273b448fbe18cbdd9a01c6f9": {
      "model_module": "@jupyter-widgets/controls",
      "model_module_version": "1.5.0",
      "model_name": "FloatProgressModel",
      "state": {
       "bar_style": "danger",
       "description": " 93%",
       "layout": "IPY_MODEL_41c6c96c7e4f402a818927a3fa80c70a",
       "max": 8760,
       "style": "IPY_MODEL_0d28fa0b8e8c4eb1b970938cd23eb351",
       "value": 8185
      }
     },
     "495d4e83f17f4cfb93b167decb201230": {
      "model_module": "@jupyter-widgets/controls",
      "model_module_version": "1.5.0",
      "model_name": "HTMLModel",
      "state": {
       "layout": "IPY_MODEL_8735a3452a0543c98c4c0910a7ef0327",
       "style": "IPY_MODEL_fcf0f7109bae4573bd2991c97f55e29e",
       "value": " 87499/175320 [3:31:11&lt;5:10:09,  4.72steps/s]"
      }
     },
     "49780d5e33fe421e86d4e755affee8d3": {
      "model_module": "@jupyter-widgets/controls",
      "model_module_version": "1.5.0",
      "model_name": "HBoxModel",
      "state": {
       "children": [
        "IPY_MODEL_d17359d4b19a4dcdb579c59b13e2ca6a",
        "IPY_MODEL_5748c653db294899a7ffc56238e7debe"
       ],
       "layout": "IPY_MODEL_aca56a6c90fc41eeb055c6ce402af141"
      }
     },
     "49917446e59c403b8a51ab50e2cb12c4": {
      "model_module": "@jupyter-widgets/controls",
      "model_module_version": "1.5.0",
      "model_name": "HBoxModel",
      "state": {
       "children": [
        "IPY_MODEL_b93a48cfcd3e494ba11c8ddc1c48e74a",
        "IPY_MODEL_febbeb31ffa044b993dc0ce38dd3509a"
       ],
       "layout": "IPY_MODEL_35047555e7dd416f85ddf1e92f86d014"
      }
     },
     "4997de653e37432daae4fc475ee21334": {
      "model_module": "@jupyter-widgets/controls",
      "model_module_version": "1.5.0",
      "model_name": "DescriptionStyleModel",
      "state": {
       "description_width": ""
      }
     },
     "49a89121c2294a4fa6946501c7ef5f86": {
      "model_module": "@jupyter-widgets/controls",
      "model_module_version": "1.5.0",
      "model_name": "FloatProgressModel",
      "state": {
       "bar_style": "danger",
       "description": "poop:  66%",
       "layout": "IPY_MODEL_d9ad493ff27443a7afa28a9d2e6d4141",
       "max": 8760,
       "style": "IPY_MODEL_bae303858811469496550a298d3c3a63",
       "value": 5750
      }
     },
     "49b132b5b6274e0481d55ab9c40b70ea": {
      "model_module": "@jupyter-widgets/controls",
      "model_module_version": "1.5.0",
      "model_name": "FloatProgressModel",
      "state": {
       "bar_style": "success",
       "description": "Run 20 of 390 [PID: 2316]: 100%",
       "layout": "IPY_MODEL_f52c05080a4546269920b23267afa30a",
       "max": 8760,
       "style": "IPY_MODEL_0de82da5eba3432e8560f2c4ee16ff31",
       "value": 8760
      }
     },
     "49e489e4e470422fb1008595bbab77d9": {
      "model_module": "@jupyter-widgets/base",
      "model_module_version": "1.2.0",
      "model_name": "LayoutModel",
      "state": {}
     },
     "49f1131808dc45859ba0036369455a97": {
      "model_module": "@jupyter-widgets/base",
      "model_module_version": "1.2.0",
      "model_name": "LayoutModel",
      "state": {}
     },
     "49f224c7d98f4c37b61ed16a13e8d4ff": {
      "model_module": "@jupyter-widgets/base",
      "model_module_version": "1.2.0",
      "model_name": "LayoutModel",
      "state": {}
     },
     "49f94bbaac6d48619413ddd95e6bf052": {
      "model_module": "@jupyter-widgets/base",
      "model_module_version": "1.2.0",
      "model_name": "LayoutModel",
      "state": {}
     },
     "4a1b53f5fe9b4e8690e8fe9ed95e379e": {
      "model_module": "@jupyter-widgets/controls",
      "model_module_version": "1.5.0",
      "model_name": "ProgressStyleModel",
      "state": {
       "description_width": "initial"
      }
     },
     "4a2928c491c6425182052109ab2ca5f2": {
      "model_module": "@jupyter-widgets/controls",
      "model_module_version": "1.5.0",
      "model_name": "FloatProgressModel",
      "state": {
       "bar_style": "success",
       "description": "poop: 100%",
       "layout": "IPY_MODEL_5a11b27b44c24f23a04a52e56deaaaa1",
       "max": 8760,
       "style": "IPY_MODEL_6cf9e2b6c8ba454b893d77c9765f9ba0",
       "value": 8760
      }
     },
     "4a351cdb51fd49899b4c5ed9eda6355d": {
      "model_module": "@jupyter-widgets/controls",
      "model_module_version": "1.5.0",
      "model_name": "ProgressStyleModel",
      "state": {
       "description_width": "initial"
      }
     },
     "4a3fbe4c753a46dbb0f8ef8d491d3158": {
      "model_module": "@jupyter-widgets/controls",
      "model_module_version": "1.5.0",
      "model_name": "HBoxModel",
      "state": {
       "children": [
        "IPY_MODEL_861dd1a8861b43308d155dd47995394b",
        "IPY_MODEL_55341ac68bf2470a88aca8e5bb69af87"
       ],
       "layout": "IPY_MODEL_9559dca24624497e88f47a9672e01ce3"
      }
     },
     "4a48ad7196cd428da6539ed70ce0dd32": {
      "model_module": "@jupyter-widgets/base",
      "model_module_version": "1.2.0",
      "model_name": "LayoutModel",
      "state": {}
     },
     "4a538ede07b14481a79dffcd04964163": {
      "model_module": "@jupyter-widgets/controls",
      "model_module_version": "1.5.0",
      "model_name": "FloatProgressModel",
      "state": {
       "bar_style": "success",
       "description": "poop: 100%",
       "layout": "IPY_MODEL_eddeb0c3fe884a008d341b465d19a8b6",
       "max": 8760,
       "style": "IPY_MODEL_99402332f7544edc846cf6d34f2efa58",
       "value": 8760
      }
     },
     "4a5522f311fb4bf3bbc245453503ab3b": {
      "model_module": "@jupyter-widgets/base",
      "model_module_version": "1.2.0",
      "model_name": "LayoutModel",
      "state": {}
     },
     "4a6d1233cd444371bf03f3c94698fb55": {
      "model_module": "@jupyter-widgets/controls",
      "model_module_version": "1.5.0",
      "model_name": "FloatProgressModel",
      "state": {
       "bar_style": "danger",
       "description": "poop:  66%",
       "layout": "IPY_MODEL_5547f47e9bb343058f2aac7049e8ec71",
       "max": 8760,
       "style": "IPY_MODEL_a91fff81137e40f79027be0b831f32f1",
       "value": 5816
      }
     },
     "4a700d02294a453db7407d05efb720ae": {
      "model_module": "@jupyter-widgets/controls",
      "model_module_version": "1.5.0",
      "model_name": "ProgressStyleModel",
      "state": {
       "description_width": "initial"
      }
     },
     "4a77ab402262469f8aed2c7a366b503b": {
      "model_module": "@jupyter-widgets/base",
      "model_module_version": "1.2.0",
      "model_name": "LayoutModel",
      "state": {}
     },
     "4a80d84574db47e9a734d74488d637c5": {
      "model_module": "@jupyter-widgets/base",
      "model_module_version": "1.2.0",
      "model_name": "LayoutModel",
      "state": {}
     },
     "4aea1dac7d1842bcbbd58e1b1be895b6": {
      "model_module": "@jupyter-widgets/controls",
      "model_module_version": "1.5.0",
      "model_name": "HTMLModel",
      "state": {
       "layout": "IPY_MODEL_beed571fdc0c48a4bb3478f7655ee022",
       "style": "IPY_MODEL_4edf70d67491443881b72708d6be69b9",
       "value": " 8760/8760 [00:30&lt;00:00, 286.95steps/s]"
      }
     },
     "4aebf1a6189848a6b71006b07f01b0fb": {
      "model_module": "@jupyter-widgets/controls",
      "model_module_version": "1.5.0",
      "model_name": "HBoxModel",
      "state": {
       "children": [
        "IPY_MODEL_e624092487044bd4818d6e42de2b53c8",
        "IPY_MODEL_880f0280bf0e40d08a2937d18d5deb74"
       ],
       "layout": "IPY_MODEL_763d854674854fb0ac08f8a569741593"
      }
     },
     "4b0c99207f1844a4a634561192ab53e7": {
      "model_module": "@jupyter-widgets/controls",
      "model_module_version": "1.5.0",
      "model_name": "HTMLModel",
      "state": {
       "layout": "IPY_MODEL_5410ff6a584240518f94f68ad1ac4465",
       "style": "IPY_MODEL_c698fa56f376474393adc10d3dd68407",
       "value": " 91940/175320 [3:36:38&lt;5:13:19,  4.44steps/s]"
      }
     },
     "4b44062c5e844b0f817492d8f3cf100b": {
      "model_module": "@jupyter-widgets/base",
      "model_module_version": "1.2.0",
      "model_name": "LayoutModel",
      "state": {}
     },
     "4b55151fb7a349e382c57381df704ae7": {
      "model_module": "@jupyter-widgets/controls",
      "model_module_version": "1.5.0",
      "model_name": "HTMLModel",
      "state": {
       "layout": "IPY_MODEL_35d1169b4c70434c9c30dfe8374ed0bd",
       "style": "IPY_MODEL_64d70ddcf2dd419cb0cfbce31e8a3c40",
       "value": " 8760/8760 [00:32&lt;00:00, 268.60steps/s]"
      }
     },
     "4b590e1604f14ab2be77fa9e0b8e743e": {
      "model_module": "@jupyter-widgets/controls",
      "model_module_version": "1.5.0",
      "model_name": "ProgressStyleModel",
      "state": {
       "description_width": "initial"
      }
     },
     "4b98f4d96a444517ad598dc34199f12d": {
      "model_module": "@jupyter-widgets/base",
      "model_module_version": "1.2.0",
      "model_name": "LayoutModel",
      "state": {}
     },
     "4b9d02dcd74a4a53b937e698af30eba2": {
      "model_module": "@jupyter-widgets/controls",
      "model_module_version": "1.5.0",
      "model_name": "HBoxModel",
      "state": {
       "children": [
        "IPY_MODEL_9f1dd8d16a934096ac5dc44dbe30d5b3",
        "IPY_MODEL_5dbde9ed54724aea9eb804269efd9864"
       ],
       "layout": "IPY_MODEL_12d44e65d98643bb912c1a2edb85936d"
      }
     },
     "4bce54ad1d86455eb18d5b608fac232d": {
      "model_module": "@jupyter-widgets/base",
      "model_module_version": "1.2.0",
      "model_name": "LayoutModel",
      "state": {}
     },
     "4bcf2a58c43045f6b861360bb9decf21": {
      "model_module": "@jupyter-widgets/base",
      "model_module_version": "1.2.0",
      "model_name": "LayoutModel",
      "state": {}
     },
     "4bd4c2ccb1c641e182a1908f1ccd59f8": {
      "model_module": "@jupyter-widgets/base",
      "model_module_version": "1.2.0",
      "model_name": "LayoutModel",
      "state": {}
     },
     "4bda5481feeb4cd19de88eaf570f4799": {
      "model_module": "@jupyter-widgets/base",
      "model_module_version": "1.2.0",
      "model_name": "LayoutModel",
      "state": {}
     },
     "4be48a06af8743f7a006c6fb4247ef42": {
      "model_module": "@jupyter-widgets/base",
      "model_module_version": "1.2.0",
      "model_name": "LayoutModel",
      "state": {}
     },
     "4bfd5ac01d1b4a37a0f3023d12580f37": {
      "model_module": "@jupyter-widgets/controls",
      "model_module_version": "1.5.0",
      "model_name": "ProgressStyleModel",
      "state": {
       "description_width": "initial"
      }
     },
     "4c12531e29b14e75acb414e106ca636f": {
      "model_module": "@jupyter-widgets/controls",
      "model_module_version": "1.5.0",
      "model_name": "HBoxModel",
      "state": {
       "children": [
        "IPY_MODEL_caf514f34dc4493da96584868a02a62e",
        "IPY_MODEL_ff483ae5ed3c4790b008fbe4256d4816"
       ],
       "layout": "IPY_MODEL_af143e3712e24cad905668468345305a"
      }
     },
     "4c371c8c86c14f048a12875a8d6c2c6c": {
      "model_module": "@jupyter-widgets/controls",
      "model_module_version": "1.5.0",
      "model_name": "HTMLModel",
      "state": {
       "layout": "IPY_MODEL_e9c8cf80ee1b46c4956b723b437961b1",
       "style": "IPY_MODEL_0f90af6ad5514c8d9e8638582c66730d",
       "value": " 8138/8760 [00:28&lt;00:02, 286.52steps/s]"
      }
     },
     "4c6c5ba0d5a44386bc1d6a28d60e6ed9": {
      "model_module": "@jupyter-widgets/controls",
      "model_module_version": "1.5.0",
      "model_name": "ProgressStyleModel",
      "state": {
       "description_width": "initial"
      }
     },
     "4c6f6294fcaa4a3c9acf062c2c210aa4": {
      "model_module": "@jupyter-widgets/controls",
      "model_module_version": "1.5.0",
      "model_name": "DescriptionStyleModel",
      "state": {
       "description_width": ""
      }
     },
     "4c7c2cb3ff2b413b91b2c618925f6e8b": {
      "model_module": "@jupyter-widgets/base",
      "model_module_version": "1.2.0",
      "model_name": "LayoutModel",
      "state": {}
     },
     "4caf21814bc041c7b64d14ed3ae6e00c": {
      "model_module": "@jupyter-widgets/controls",
      "model_module_version": "1.5.0",
      "model_name": "FloatProgressModel",
      "state": {
       "bar_style": "success",
       "description": "Run 62 of 156 [PID: 21990]: 100%",
       "layout": "IPY_MODEL_e9f6535cffb049ce9326e44819589d96",
       "max": 8760,
       "style": "IPY_MODEL_7b47f2b8184b4a4090dd935eb73de376",
       "value": 8760
      }
     },
     "4caf33cdb5784129b7c559677fd96d05": {
      "model_module": "@jupyter-widgets/base",
      "model_module_version": "1.2.0",
      "model_name": "LayoutModel",
      "state": {}
     },
     "4cbacaab6c3045c58566b1127c192ea4": {
      "model_module": "@jupyter-widgets/controls",
      "model_module_version": "1.5.0",
      "model_name": "FloatProgressModel",
      "state": {
       "bar_style": "danger",
       "description": "poop:  94%",
       "layout": "IPY_MODEL_58f705d3352a41dab8b5e1ed57aa0644",
       "max": 8760,
       "style": "IPY_MODEL_031e969bc54e446c9f0db88ca13026ec",
       "value": 8230
      }
     },
     "4cc769f0f4bf4e77bcd7a8f9c33e2fcf": {
      "model_module": "@jupyter-widgets/controls",
      "model_module_version": "1.5.0",
      "model_name": "ProgressStyleModel",
      "state": {
       "description_width": "initial"
      }
     },
     "4ce401b516944a4e9a4aa14c37cb7936": {
      "model_module": "@jupyter-widgets/controls",
      "model_module_version": "1.5.0",
      "model_name": "FloatProgressModel",
      "state": {
       "bar_style": "danger",
       "description": "Run 27 of 156 [PID: 45687]:  25%",
       "layout": "IPY_MODEL_0c8734a5e00048ff944fd08bd4f89694",
       "max": 8760,
       "style": "IPY_MODEL_88edaaddf0e8456aadc77aaa9250d783",
       "value": 2149
      }
     },
     "4cee74d1fc694141a05c9f1d751d76d9": {
      "model_module": "@jupyter-widgets/controls",
      "model_module_version": "1.5.0",
      "model_name": "ProgressStyleModel",
      "state": {
       "description_width": "initial"
      }
     },
     "4d10922a444e4a1c8f6b97e70da5f1c5": {
      "model_module": "@jupyter-widgets/base",
      "model_module_version": "1.2.0",
      "model_name": "LayoutModel",
      "state": {}
     },
     "4d13b4366fd34518992b67fce3ad1928": {
      "model_module": "@jupyter-widgets/controls",
      "model_module_version": "1.5.0",
      "model_name": "HBoxModel",
      "state": {
       "children": [
        "IPY_MODEL_f6a79be1d63647c780521e355d732c79",
        "IPY_MODEL_82b0fdff4bf34360acb9bf7a751fc894"
       ],
       "layout": "IPY_MODEL_28a097f20f87496daf7dad717d3175d8"
      }
     },
     "4d2582e797714079b7526452d69f2426": {
      "model_module": "@jupyter-widgets/controls",
      "model_module_version": "1.5.0",
      "model_name": "HTMLModel",
      "state": {
       "layout": "IPY_MODEL_fc308dc1555f417e8def414910c8d973",
       "style": "IPY_MODEL_63d3d518dd6d4fe79973a6f741a6dde9",
       "value": " 8760/8760 [00:29&lt;00:00, 297.73steps/s]"
      }
     },
     "4d32905d43e4406cb5ea6d58f6ebdc69": {
      "model_module": "@jupyter-widgets/base",
      "model_module_version": "1.2.0",
      "model_name": "LayoutModel",
      "state": {}
     },
     "4d6029ec2c60405f8fab84994252dd12": {
      "model_module": "@jupyter-widgets/controls",
      "model_module_version": "1.5.0",
      "model_name": "FloatProgressModel",
      "state": {
       "bar_style": "success",
       "description": "poop: 100%",
       "layout": "IPY_MODEL_110f05a44ea64d91a68847e3ad1f311f",
       "max": 8760,
       "style": "IPY_MODEL_bad53728d3f3407e9a7e0a696b1a2640",
       "value": 8760
      }
     },
     "4d7f3f98407f4f2cb46dc5f6ae1a753c": {
      "model_module": "@jupyter-widgets/controls",
      "model_module_version": "1.5.0",
      "model_name": "HBoxModel",
      "state": {
       "children": [
        "IPY_MODEL_979117a0d67149d0a544f2615c301316",
        "IPY_MODEL_e6317fbff26240c592ac8bcba74484fe"
       ],
       "layout": "IPY_MODEL_23d4d358e68a47b19cd16dddd45086a3"
      }
     },
     "4d8ba6690ad5439c8a226651524320d9": {
      "model_module": "@jupyter-widgets/controls",
      "model_module_version": "1.5.0",
      "model_name": "HBoxModel",
      "state": {
       "children": [
        "IPY_MODEL_989b14a605434742bdae13f8df77e120",
        "IPY_MODEL_f13b34d6460a4093936602f59ae2befd"
       ],
       "layout": "IPY_MODEL_9d31ccafafd24f2fb0c1826e99d2c1d0"
      }
     },
     "4dce5ba32fe241999e25ce39f8af107b": {
      "model_module": "@jupyter-widgets/controls",
      "model_module_version": "1.5.0",
      "model_name": "HBoxModel",
      "state": {
       "children": [
        "IPY_MODEL_aed54433515946218492be8745204d7b",
        "IPY_MODEL_21611a6c7b8647ee82ac424b9565bf06"
       ],
       "layout": "IPY_MODEL_5e713fd5099f4753b77439b1a8acd0f6"
      }
     },
     "4de717d643f142db99563648e524c9ba": {
      "model_module": "@jupyter-widgets/controls",
      "model_module_version": "1.5.0",
      "model_name": "HBoxModel",
      "state": {
       "children": [
        "IPY_MODEL_c266aee33932454081efc455c7591dea",
        "IPY_MODEL_3bd12a46ff924d9a8532e5e1d93064f4"
       ],
       "layout": "IPY_MODEL_73846c0dcb544ea18c5d0057e17e2cee"
      }
     },
     "4e20c061a3054d72b08065f613bbadbb": {
      "model_module": "@jupyter-widgets/base",
      "model_module_version": "1.2.0",
      "model_name": "LayoutModel",
      "state": {}
     },
     "4e21354901a3457f8991702a65ebf5bd": {
      "model_module": "@jupyter-widgets/controls",
      "model_module_version": "1.5.0",
      "model_name": "FloatProgressModel",
      "state": {
       "bar_style": "success",
       "description": "Run 32 of 156 [PID: 21993]: 100%",
       "layout": "IPY_MODEL_f868879302a949aa9be33335629bbbb2",
       "max": 8760,
       "style": "IPY_MODEL_40496f077bf5416492ea9bb864fa8524",
       "value": 8760
      }
     },
     "4e23c8d772af4826abf6606b5a627653": {
      "model_module": "@jupyter-widgets/base",
      "model_module_version": "1.2.0",
      "model_name": "LayoutModel",
      "state": {}
     },
     "4e25b660a9ad4bdf99a195c51f016638": {
      "model_module": "@jupyter-widgets/controls",
      "model_module_version": "1.5.0",
      "model_name": "HBoxModel",
      "state": {
       "children": [
        "IPY_MODEL_f88846875dba4411b9ae4bef6022e106",
        "IPY_MODEL_64e9f9922dba47da815b7012d05973fe"
       ],
       "layout": "IPY_MODEL_fbd931b7214540b382daf8de3a7530f1"
      }
     },
     "4e313723bdbb4ccdb584d2ade882b4f9": {
      "model_module": "@jupyter-widgets/base",
      "model_module_version": "1.2.0",
      "model_name": "LayoutModel",
      "state": {}
     },
     "4e473d8fcf7a47a29191c0def923d504": {
      "model_module": "@jupyter-widgets/controls",
      "model_module_version": "1.5.0",
      "model_name": "DescriptionStyleModel",
      "state": {
       "description_width": ""
      }
     },
     "4e4ea3f6e5c1442c81b21b85a83740e0": {
      "model_module": "@jupyter-widgets/controls",
      "model_module_version": "1.5.0",
      "model_name": "HTMLModel",
      "state": {
       "layout": "IPY_MODEL_502e0634230a4e77a8ae30972aa9670c",
       "style": "IPY_MODEL_5123fca76c2749a1bd98b5a04b5284bb",
       "value": " 8760/8760 [00:30&lt;00:00, 287.68steps/s]"
      }
     },
     "4e5f918d04234d16ae7e2966d9c152f9": {
      "model_module": "@jupyter-widgets/controls",
      "model_module_version": "1.5.0",
      "model_name": "FloatProgressModel",
      "state": {
       "bar_style": "success",
       "description": "poop: 100%",
       "layout": "IPY_MODEL_2aef59f3d99f439e96353969c44b2235",
       "max": 8760,
       "style": "IPY_MODEL_4a700d02294a453db7407d05efb720ae",
       "value": 8760
      }
     },
     "4e616c9363684303ada65aab0b7a12c6": {
      "model_module": "@jupyter-widgets/controls",
      "model_module_version": "1.5.0",
      "model_name": "HTMLModel",
      "state": {
       "layout": "IPY_MODEL_7f1796c83cbf4ea295075f4274a38143",
       "style": "IPY_MODEL_5e1b956e2b19435999217578ea3009d3",
       "value": " 8760/8760 [00:30&lt;00:00, 283.75steps/s]"
      }
     },
     "4e6a91863aa9488d80a3bb509e24ab7c": {
      "model_module": "@jupyter-widgets/base",
      "model_module_version": "1.2.0",
      "model_name": "LayoutModel",
      "state": {}
     },
     "4e8d1fa2d97e40e5a7c770303a12fed8": {
      "model_module": "@jupyter-widgets/controls",
      "model_module_version": "1.5.0",
      "model_name": "DescriptionStyleModel",
      "state": {
       "description_width": ""
      }
     },
     "4ea284b956124ffebde0b56367b22919": {
      "model_module": "@jupyter-widgets/controls",
      "model_module_version": "1.5.0",
      "model_name": "DescriptionStyleModel",
      "state": {
       "description_width": ""
      }
     },
     "4eb7c210b4a14ddd9f93cb3bae17e27e": {
      "model_module": "@jupyter-widgets/controls",
      "model_module_version": "1.5.0",
      "model_name": "HBoxModel",
      "state": {
       "children": [
        "IPY_MODEL_210be625867f4c16864cd36d9e9e7c71",
        "IPY_MODEL_d4928a9a31a94a829889ff9a6692854b"
       ],
       "layout": "IPY_MODEL_b8674b8e9dc3435eb2e5f7fdc6150bee"
      }
     },
     "4ec9b9caa4b8401a90ca01eac363cf70": {
      "model_module": "@jupyter-widgets/controls",
      "model_module_version": "1.5.0",
      "model_name": "HBoxModel",
      "state": {
       "children": [
        "IPY_MODEL_07477b7eb75843cdb231626e6068fa09",
        "IPY_MODEL_87a4b431727c4b47b511fe0a9b49ad20"
       ],
       "layout": "IPY_MODEL_ee23d5763b8642ad9e717ab983b7d90a"
      }
     },
     "4ed42fb537a64425ac2ce5503d13a860": {
      "model_module": "@jupyter-widgets/controls",
      "model_module_version": "1.5.0",
      "model_name": "DescriptionStyleModel",
      "state": {
       "description_width": ""
      }
     },
     "4ed573ede72e486590aa76ead8ebcbcc": {
      "model_module": "@jupyter-widgets/base",
      "model_module_version": "1.2.0",
      "model_name": "LayoutModel",
      "state": {}
     },
     "4ed7eea8dacd4250a799f43ce4c79aa0": {
      "model_module": "@jupyter-widgets/controls",
      "model_module_version": "1.5.0",
      "model_name": "HTMLModel",
      "state": {
       "layout": "IPY_MODEL_eb42ab8cc7d84c218ee7e4418b365d35",
       "style": "IPY_MODEL_16185ef901cc4b5687bbae9c12eef132",
       "value": " 8760/8760 [00:29&lt;00:00, 296.12steps/s]"
      }
     },
     "4edf70d67491443881b72708d6be69b9": {
      "model_module": "@jupyter-widgets/controls",
      "model_module_version": "1.5.0",
      "model_name": "DescriptionStyleModel",
      "state": {
       "description_width": ""
      }
     },
     "4edf7e7b6e864de49f3a3f968e0cc590": {
      "model_module": "@jupyter-widgets/controls",
      "model_module_version": "1.5.0",
      "model_name": "HBoxModel",
      "state": {
       "children": [
        "IPY_MODEL_9d550c41a0f84ee8819546f977aeb8d8",
        "IPY_MODEL_cc784fd0d33143088403ea67bbb0ddf3"
       ],
       "layout": "IPY_MODEL_db06fa53e3914f9c83c6b9bfcb86cd52"
      }
     },
     "4ef2eddf11a3437c80646c85a2ef5708": {
      "model_module": "@jupyter-widgets/controls",
      "model_module_version": "1.5.0",
      "model_name": "DescriptionStyleModel",
      "state": {
       "description_width": ""
      }
     },
     "4efba53d13174b6bb9ddec794c37ed20": {
      "model_module": "@jupyter-widgets/controls",
      "model_module_version": "1.5.0",
      "model_name": "DescriptionStyleModel",
      "state": {
       "description_width": ""
      }
     },
     "4f28591591854e79b0f481a7f8730fd5": {
      "model_module": "@jupyter-widgets/controls",
      "model_module_version": "1.5.0",
      "model_name": "HTMLModel",
      "state": {
       "layout": "IPY_MODEL_a875ebd114b94d34969eb4a7899c636b",
       "style": "IPY_MODEL_142488d6d9b04bbcaa94e7ce879ffb73",
       "value": " 78953/175320 [3:17:21&lt;5:05:15,  5.26steps/s]"
      }
     },
     "4f523389f0c04398b619f342ff86e6f2": {
      "model_module": "@jupyter-widgets/base",
      "model_module_version": "1.2.0",
      "model_name": "LayoutModel",
      "state": {}
     },
     "4f7d13b27a64454c8b8a7c74682152b6": {
      "model_module": "@jupyter-widgets/controls",
      "model_module_version": "1.5.0",
      "model_name": "ProgressStyleModel",
      "state": {
       "description_width": "initial"
      }
     },
     "4fce826ec86f4251a8b792b5a816d2a5": {
      "model_module": "@jupyter-widgets/controls",
      "model_module_version": "1.5.0",
      "model_name": "ProgressStyleModel",
      "state": {
       "description_width": "initial"
      }
     },
     "4fcfd92d07e14624b937cb00d310c841": {
      "model_module": "@jupyter-widgets/controls",
      "model_module_version": "1.5.0",
      "model_name": "HBoxModel",
      "state": {
       "children": [
        "IPY_MODEL_968fd919959e40c4b0a28b0f91a88f66",
        "IPY_MODEL_c578ee6e8f9b4ff1a3926b7ab75bf291"
       ],
       "layout": "IPY_MODEL_bf0f40db620c4f5e98d909623a2de8cf"
      }
     },
     "4fefdbdee1da44478de5e2093a1a597d": {
      "model_module": "@jupyter-widgets/base",
      "model_module_version": "1.2.0",
      "model_name": "LayoutModel",
      "state": {}
     },
     "5005ea43b832422eaae07f3acfee6ab0": {
      "model_module": "@jupyter-widgets/controls",
      "model_module_version": "1.5.0",
      "model_name": "HBoxModel",
      "state": {
       "children": [
        "IPY_MODEL_6de4d814981c45d19c50e8eea6ea6a5e",
        "IPY_MODEL_91b36ab1564f490185737d64167c8bb0"
       ],
       "layout": "IPY_MODEL_3f960f77aab641f2be3c848aaea5574e"
      }
     },
     "502e0634230a4e77a8ae30972aa9670c": {
      "model_module": "@jupyter-widgets/base",
      "model_module_version": "1.2.0",
      "model_name": "LayoutModel",
      "state": {}
     },
     "502e6980b14949d98845417c8837c28d": {
      "model_module": "@jupyter-widgets/controls",
      "model_module_version": "1.5.0",
      "model_name": "DescriptionStyleModel",
      "state": {
       "description_width": ""
      }
     },
     "503e7aceefdb41c4856ae2d054ea0a06": {
      "model_module": "@jupyter-widgets/base",
      "model_module_version": "1.2.0",
      "model_name": "LayoutModel",
      "state": {}
     },
     "5045b70c74794961a3287f932f59073d": {
      "model_module": "@jupyter-widgets/controls",
      "model_module_version": "1.5.0",
      "model_name": "DescriptionStyleModel",
      "state": {
       "description_width": ""
      }
     },
     "505b4d1ed07c443ca0dff70a4dc4cfe9": {
      "model_module": "@jupyter-widgets/controls",
      "model_module_version": "1.5.0",
      "model_name": "HTMLModel",
      "state": {
       "layout": "IPY_MODEL_eb54308be2d547719a256bb6bd1cb67b",
       "style": "IPY_MODEL_8981f0e9fb024cb0a955ef38e1dbdf72",
       "value": " 8760/8760 [00:31&lt;00:00, 275.95steps/s]"
      }
     },
     "5063e1cd694e481184e5684d7da97c81": {
      "model_module": "@jupyter-widgets/controls",
      "model_module_version": "1.5.0",
      "model_name": "FloatProgressModel",
      "state": {
       "bar_style": "success",
       "description": "poop: 100%",
       "layout": "IPY_MODEL_1dced08020674ccdb734bf9b58f1e6f0",
       "max": 8760,
       "style": "IPY_MODEL_c32b82e009814c76b8d5254ed998e163",
       "value": 8760
      }
     },
     "50885b9ba6684886ba69895c32da8da2": {
      "model_module": "@jupyter-widgets/base",
      "model_module_version": "1.2.0",
      "model_name": "LayoutModel",
      "state": {}
     },
     "50a5019a4ee94166bd99b410a9c7992f": {
      "model_module": "@jupyter-widgets/controls",
      "model_module_version": "1.5.0",
      "model_name": "FloatProgressModel",
      "state": {
       "description": "Run 85 of 156 [PID: 72812]:  46%",
       "layout": "IPY_MODEL_78367343682e4f31906a1e821eb16971",
       "max": 175320,
       "style": "IPY_MODEL_197d3cf23e4642e78a5f5746c64ef38d",
       "value": 80151
      }
     },
     "50c8ff297b5d4ba3ac395de7323f8a32": {
      "model_module": "@jupyter-widgets/controls",
      "model_module_version": "1.5.0",
      "model_name": "HTMLModel",
      "state": {
       "layout": "IPY_MODEL_f3fe8a19ff884e6bb0eda722dbf58d63",
       "style": "IPY_MODEL_14fb4695404f485ca8d5211d5b14eed0",
       "value": " 2166/8760 [00:07&lt;00:24, 274.65steps/s]"
      }
     },
     "50ec6c426e0841cf9628d897e1012c75": {
      "model_module": "@jupyter-widgets/base",
      "model_module_version": "1.2.0",
      "model_name": "LayoutModel",
      "state": {}
     },
     "510260f05c2a4bffad65d64fd2e94de1": {
      "model_module": "@jupyter-widgets/controls",
      "model_module_version": "1.5.0",
      "model_name": "HBoxModel",
      "state": {
       "children": [
        "IPY_MODEL_2c9b87245ac542a999b2307b150feaad",
        "IPY_MODEL_c466c2dd89df4200b0888f81b2fbc194"
       ],
       "layout": "IPY_MODEL_c1ed82251fcd44249c77159bb2d8d201"
      }
     },
     "51171ce4013d4f5c9b2c007a9e6556c1": {
      "model_module": "@jupyter-widgets/controls",
      "model_module_version": "1.5.0",
      "model_name": "FloatProgressModel",
      "state": {
       "bar_style": "danger",
       "description": "Run 24 of 390 [PID: 2318]:   8%",
       "layout": "IPY_MODEL_70c5ceb6c7904f908fa1713c5a9feca7",
       "max": 8760,
       "style": "IPY_MODEL_2f4615f884e943dfa579916269adeaef",
       "value": 740
      }
     },
     "5123fca76c2749a1bd98b5a04b5284bb": {
      "model_module": "@jupyter-widgets/controls",
      "model_module_version": "1.5.0",
      "model_name": "DescriptionStyleModel",
      "state": {
       "description_width": ""
      }
     },
     "5125933aa55247d9a2813969845d0565": {
      "model_module": "@jupyter-widgets/base",
      "model_module_version": "1.2.0",
      "model_name": "LayoutModel",
      "state": {}
     },
     "512f71146e6a43d6b0f1b281374b71af": {
      "model_module": "@jupyter-widgets/base",
      "model_module_version": "1.2.0",
      "model_name": "LayoutModel",
      "state": {}
     },
     "512f7592496b4be9a56fc2f48e40ecfe": {
      "model_module": "@jupyter-widgets/controls",
      "model_module_version": "1.5.0",
      "model_name": "DescriptionStyleModel",
      "state": {
       "description_width": ""
      }
     },
     "513a02c025fc457ab2070704e73b8d3b": {
      "model_module": "@jupyter-widgets/controls",
      "model_module_version": "1.5.0",
      "model_name": "HBoxModel",
      "state": {
       "children": [
        "IPY_MODEL_a3c71285b5044b39bf6f29890c8428dc",
        "IPY_MODEL_8fe20fdbbb7744f5b6888c864f51c98d"
       ],
       "layout": "IPY_MODEL_5ade155567b44a66978988b798b71dae"
      }
     },
     "514678de812f4ae3bcbff5f026573fe1": {
      "model_module": "@jupyter-widgets/controls",
      "model_module_version": "1.5.0",
      "model_name": "HBoxModel",
      "state": {
       "children": [
        "IPY_MODEL_185717637293425a91019bb9c8fe2117",
        "IPY_MODEL_832e4178627e4eb98a5c6ff83625a24b"
       ],
       "layout": "IPY_MODEL_899aa9f8e3fc45d5ba558d2eb1b8f571"
      }
     },
     "51686f7d98054684a3840da20251298c": {
      "model_module": "@jupyter-widgets/base",
      "model_module_version": "1.2.0",
      "model_name": "LayoutModel",
      "state": {}
     },
     "517d410b19b1442aaf58d39d2e9e27b7": {
      "model_module": "@jupyter-widgets/controls",
      "model_module_version": "1.5.0",
      "model_name": "HBoxModel",
      "state": {
       "children": [
        "IPY_MODEL_74f28a6cfbd041ea8e3bc2871d754b98",
        "IPY_MODEL_c4ac1c2e25b043f78f2ad1c073839266"
       ],
       "layout": "IPY_MODEL_55d2bb1fe5e54a9286d712a3d935b821"
      }
     },
     "517faadda6db47bfbda7291c735c8583": {
      "model_module": "@jupyter-widgets/controls",
      "model_module_version": "1.5.0",
      "model_name": "FloatProgressModel",
      "state": {
       "bar_style": "success",
       "description": "Run 13 of 156 [PID: 21987]: 100%",
       "layout": "IPY_MODEL_efefa8794df04b8eb15ad47e2387ce87",
       "max": 8760,
       "style": "IPY_MODEL_2c774e5d94694676b71808d6a0aefd88",
       "value": 8760
      }
     },
     "51a99f7db4c14c1d96455b049eb7b520": {
      "model_module": "@jupyter-widgets/controls",
      "model_module_version": "1.5.0",
      "model_name": "ProgressStyleModel",
      "state": {
       "description_width": "initial"
      }
     },
     "51c40c65157847d8ac32c219aed55a0b": {
      "model_module": "@jupyter-widgets/controls",
      "model_module_version": "1.5.0",
      "model_name": "HBoxModel",
      "state": {
       "children": [
        "IPY_MODEL_4caf21814bc041c7b64d14ed3ae6e00c",
        "IPY_MODEL_678b53657f6540f2a02ad2d886cf2bf1"
       ],
       "layout": "IPY_MODEL_c88c2e3f540a464e80527e122bd0ba92"
      }
     },
     "51d47feb36ff4e11b1025e91062f9146": {
      "model_module": "@jupyter-widgets/controls",
      "model_module_version": "1.5.0",
      "model_name": "FloatProgressModel",
      "state": {
       "bar_style": "danger",
       "description": "poop:  61%",
       "layout": "IPY_MODEL_33a18f5e5e874e2eaba62bd33de0bb3f",
       "max": 8760,
       "style": "IPY_MODEL_fe26fe7a48194d9385fca1aa7445af0c",
       "value": 5312
      }
     },
     "51d5a546192f4f2a9184b774c8eea809": {
      "model_module": "@jupyter-widgets/controls",
      "model_module_version": "1.5.0",
      "model_name": "HBoxModel",
      "state": {
       "children": [
        "IPY_MODEL_68ac71b52dfd44be91cbaa9eae2c27af",
        "IPY_MODEL_1922323076424b48a10c38d05f87e986"
       ],
       "layout": "IPY_MODEL_1851aef9a1e74897af5d6644aca9b29d"
      }
     },
     "52028ae2be144e048bd3c211d0ce54aa": {
      "model_module": "@jupyter-widgets/controls",
      "model_module_version": "1.5.0",
      "model_name": "DescriptionStyleModel",
      "state": {
       "description_width": ""
      }
     },
     "52060e55c2f64283847d612d2e061640": {
      "model_module": "@jupyter-widgets/controls",
      "model_module_version": "1.5.0",
      "model_name": "DescriptionStyleModel",
      "state": {
       "description_width": ""
      }
     },
     "5231f7f420e1439d802116bf58137dc9": {
      "model_module": "@jupyter-widgets/controls",
      "model_module_version": "1.5.0",
      "model_name": "ProgressStyleModel",
      "state": {
       "description_width": "initial"
      }
     },
     "523a674aa3d447a486e06e58b46429d0": {
      "model_module": "@jupyter-widgets/controls",
      "model_module_version": "1.5.0",
      "model_name": "HTMLModel",
      "state": {
       "layout": "IPY_MODEL_1890ca687f8d4179a7cd67c6ca4afe22",
       "style": "IPY_MODEL_7852ef9bbdee41bf850bc16a98b4ca67",
       "value": " 8760/8760 [00:32&lt;00:00, 272.36steps/s]"
      }
     },
     "523b6e0a2a7149bd8ce864933a97fd2d": {
      "model_module": "@jupyter-widgets/controls",
      "model_module_version": "1.5.0",
      "model_name": "HTMLModel",
      "state": {
       "layout": "IPY_MODEL_ea9ccfab6a814f07bdda5f1b9d353178",
       "style": "IPY_MODEL_9a07cbcce92c453f997542da6e14f6f9",
       "value": " 8760/8760 [00:30&lt;00:00, 285.85steps/s]"
      }
     },
     "523eff31f44c4628935e5ccee9a25fa8": {
      "model_module": "@jupyter-widgets/controls",
      "model_module_version": "1.5.0",
      "model_name": "HTMLModel",
      "state": {
       "layout": "IPY_MODEL_188328f2ed034e30ae9af123ed7630a9",
       "style": "IPY_MODEL_9ae7be6ce57044aab6b1a3b145c94eb6",
       "value": " 8760/8760 [00:32&lt;00:00, 268.27steps/s]"
      }
     },
     "52595ea1f18149e68c6ca8b8078de9d7": {
      "model_module": "@jupyter-widgets/controls",
      "model_module_version": "1.5.0",
      "model_name": "ProgressStyleModel",
      "state": {
       "description_width": "initial"
      }
     },
     "527d62f81f8047e1a81ac9bd623b793b": {
      "model_module": "@jupyter-widgets/controls",
      "model_module_version": "1.5.0",
      "model_name": "HBoxModel",
      "state": {
       "children": [
        "IPY_MODEL_a9a4a65e1edc4342bcd54f2dc19fe405",
        "IPY_MODEL_fbfd6c36bd1e42109fd76973cc87cf84"
       ],
       "layout": "IPY_MODEL_1fdade381ac24a3cbc156d7dd46902f7"
      }
     },
     "52b73d1d16fe4137a54bac56495e60c0": {
      "model_module": "@jupyter-widgets/base",
      "model_module_version": "1.2.0",
      "model_name": "LayoutModel",
      "state": {}
     },
     "52ba61ed1d704efeb3a3459de1265869": {
      "model_module": "@jupyter-widgets/base",
      "model_module_version": "1.2.0",
      "model_name": "LayoutModel",
      "state": {}
     },
     "52ca4bce9bcc43029b898ba9770e5d56": {
      "model_module": "@jupyter-widgets/controls",
      "model_module_version": "1.5.0",
      "model_name": "ProgressStyleModel",
      "state": {
       "description_width": "initial"
      }
     },
     "52d43cf3c7674bedb55695aeca23ecc9": {
      "model_module": "@jupyter-widgets/base",
      "model_module_version": "1.2.0",
      "model_name": "LayoutModel",
      "state": {}
     },
     "52dad67463b84169aa02d9a0f16e4182": {
      "model_module": "@jupyter-widgets/base",
      "model_module_version": "1.2.0",
      "model_name": "LayoutModel",
      "state": {}
     },
     "52dbefd9a4f34073aac3eaad29bda60f": {
      "model_module": "@jupyter-widgets/controls",
      "model_module_version": "1.5.0",
      "model_name": "ProgressStyleModel",
      "state": {
       "description_width": "initial"
      }
     },
     "52ddf501064f4ece80ef976ffa03ff2a": {
      "model_module": "@jupyter-widgets/controls",
      "model_module_version": "1.5.0",
      "model_name": "DescriptionStyleModel",
      "state": {
       "description_width": ""
      }
     },
     "530ae6b323174051bc5303082baecc3e": {
      "model_module": "@jupyter-widgets/controls",
      "model_module_version": "1.5.0",
      "model_name": "DescriptionStyleModel",
      "state": {
       "description_width": ""
      }
     },
     "531a72ca4e0041ca8c172fe7ff35a0aa": {
      "model_module": "@jupyter-widgets/controls",
      "model_module_version": "1.5.0",
      "model_name": "FloatProgressModel",
      "state": {
       "description": "Run 120 of 156 [PID: 72799]:  40%",
       "layout": "IPY_MODEL_15cb86bebec544c5a9a1382fa3215e7a",
       "max": 175320,
       "style": "IPY_MODEL_8d2ae4955f1648e7a7187aab28c54f75",
       "value": 69941
      }
     },
     "5320dcbb052e438d935a6077e2527062": {
      "model_module": "@jupyter-widgets/base",
      "model_module_version": "1.2.0",
      "model_name": "LayoutModel",
      "state": {}
     },
     "533f100915134d04ab8c6e0de4b57514": {
      "model_module": "@jupyter-widgets/base",
      "model_module_version": "1.2.0",
      "model_name": "LayoutModel",
      "state": {}
     },
     "533f2b4067b548f7a43c4ec13c5668bd": {
      "model_module": "@jupyter-widgets/controls",
      "model_module_version": "1.5.0",
      "model_name": "HTMLModel",
      "state": {
       "layout": "IPY_MODEL_f305168c41a9417a80c242e9c6ded191",
       "style": "IPY_MODEL_90db41b103f74b7081595b83ea8b8f30",
       "value": " 8760/8760 [00:30&lt;00:00, 288.38steps/s]"
      }
     },
     "53596e53d29f41faa8cac0bdb04db5c9": {
      "model_module": "@jupyter-widgets/base",
      "model_module_version": "1.2.0",
      "model_name": "LayoutModel",
      "state": {}
     },
     "5378e40d05b64fc2bb93edcd69c32945": {
      "model_module": "@jupyter-widgets/base",
      "model_module_version": "1.2.0",
      "model_name": "LayoutModel",
      "state": {}
     },
     "53ac062cef6a4b988c6f3efc54010d8c": {
      "model_module": "@jupyter-widgets/base",
      "model_module_version": "1.2.0",
      "model_name": "LayoutModel",
      "state": {}
     },
     "540c240b59b6498eb98bf26fe666a6ed": {
      "model_module": "@jupyter-widgets/controls",
      "model_module_version": "1.5.0",
      "model_name": "ProgressStyleModel",
      "state": {
       "description_width": "initial"
      }
     },
     "5410ff6a584240518f94f68ad1ac4465": {
      "model_module": "@jupyter-widgets/base",
      "model_module_version": "1.2.0",
      "model_name": "LayoutModel",
      "state": {}
     },
     "5434309618a64da88504cb5c758ad959": {
      "model_module": "@jupyter-widgets/controls",
      "model_module_version": "1.5.0",
      "model_name": "HTMLModel",
      "state": {
       "layout": "IPY_MODEL_ad33eeb5293c439aa49e0e678bd42767",
       "style": "IPY_MODEL_6a59edfb9c034865ae3f566f037f5198",
       "value": " 8760/8760 [00:30&lt;00:00, 285.42steps/s]"
      }
     },
     "545be0149e8b494b8d2473db22d21590": {
      "model_module": "@jupyter-widgets/controls",
      "model_module_version": "1.5.0",
      "model_name": "DescriptionStyleModel",
      "state": {
       "description_width": ""
      }
     },
     "549cf3aafa9343dea2d321cce3e5bfc3": {
      "model_module": "@jupyter-widgets/controls",
      "model_module_version": "1.5.0",
      "model_name": "ProgressStyleModel",
      "state": {
       "description_width": "initial"
      }
     },
     "54aeda280aee487f80599b2b53921e24": {
      "model_module": "@jupyter-widgets/controls",
      "model_module_version": "1.5.0",
      "model_name": "HTMLModel",
      "state": {
       "layout": "IPY_MODEL_7e2820679b3b4922b0825518330747a2",
       "style": "IPY_MODEL_de662dade3164aacb5257a89820f7b4e",
       "value": " 5750/8760 [00:21&lt;00:11, 260.81steps/s]"
      }
     },
     "54db4b6606b94903b69f264537fb1785": {
      "model_module": "@jupyter-widgets/controls",
      "model_module_version": "1.5.0",
      "model_name": "FloatProgressModel",
      "state": {
       "bar_style": "success",
       "description": "100%",
       "layout": "IPY_MODEL_a13399d164fc466f983e2a0011b4dc4d",
       "max": 8760,
       "style": "IPY_MODEL_f2ae50d5513846aa8c903eae0c6cf774",
       "value": 8760
      }
     },
     "54f7e93c5b824b1dae1c60cefb05fc5b": {
      "model_module": "@jupyter-widgets/controls",
      "model_module_version": "1.5.0",
      "model_name": "HTMLModel",
      "state": {
       "layout": "IPY_MODEL_4e23c8d772af4826abf6606b5a627653",
       "style": "IPY_MODEL_7e602fabee5043f896916ab0bd4826ea",
       "value": " 8760/8760 [00:31&lt;00:00, 275.57steps/s]"
      }
     },
     "54fa5c96d21e4236beabae020df9e64e": {
      "model_module": "@jupyter-widgets/controls",
      "model_module_version": "1.5.0",
      "model_name": "FloatProgressModel",
      "state": {
       "bar_style": "success",
       "description": "poop: 100%",
       "layout": "IPY_MODEL_730f82aabfa34a028187b415affb943e",
       "max": 8760,
       "style": "IPY_MODEL_9c7bc5e47fbf473184dccf085670a01f",
       "value": 8760
      }
     },
     "5526519c65904adcbec6a5baeddab6b6": {
      "model_module": "@jupyter-widgets/base",
      "model_module_version": "1.2.0",
      "model_name": "LayoutModel",
      "state": {}
     },
     "55341ac68bf2470a88aca8e5bb69af87": {
      "model_module": "@jupyter-widgets/controls",
      "model_module_version": "1.5.0",
      "model_name": "HTMLModel",
      "state": {
       "layout": "IPY_MODEL_b456208c930b427d8ba1e58b117626b5",
       "style": "IPY_MODEL_221d2095ea984525992f1fe3de9e03df",
       "value": " 78548/175320 [3:17:13&lt;3:40:48,  7.30steps/s]"
      }
     },
     "5547f47e9bb343058f2aac7049e8ec71": {
      "model_module": "@jupyter-widgets/base",
      "model_module_version": "1.2.0",
      "model_name": "LayoutModel",
      "state": {}
     },
     "556962b85e9541c8b0591427a445730e": {
      "model_module": "@jupyter-widgets/controls",
      "model_module_version": "1.5.0",
      "model_name": "FloatProgressModel",
      "state": {
       "bar_style": "danger",
       "description": "poop:  66%",
       "layout": "IPY_MODEL_988f54e4bc944957b7b62093292166c8",
       "max": 8760,
       "style": "IPY_MODEL_a01a89084f1748e4bd66378c0d8e33b8",
       "value": 5768
      }
     },
     "5596565ba04446edb7a3d08e8cef31e3": {
      "model_module": "@jupyter-widgets/base",
      "model_module_version": "1.2.0",
      "model_name": "LayoutModel",
      "state": {}
     },
     "55af48c0847841afbb2bcdfec40e3b10": {
      "model_module": "@jupyter-widgets/controls",
      "model_module_version": "1.5.0",
      "model_name": "FloatProgressModel",
      "state": {
       "bar_style": "success",
       "description": "100%",
       "layout": "IPY_MODEL_867328d5abc6428fb44af7d5c2d35f91",
       "max": 8760,
       "style": "IPY_MODEL_ca894de5ec954627805e9f0942347a37",
       "value": 8760
      }
     },
     "55bdd25ae5cd46bda9b799e742d51668": {
      "model_module": "@jupyter-widgets/controls",
      "model_module_version": "1.5.0",
      "model_name": "HTMLModel",
      "state": {
       "layout": "IPY_MODEL_0e0d6369747d43e6aa080db8b38ba41d",
       "style": "IPY_MODEL_cd9657165b954c359f2b114ccff36880",
       "value": " 8760/8760 [00:31&lt;00:00, 280.32steps/s]"
      }
     },
     "55d2bb1fe5e54a9286d712a3d935b821": {
      "model_module": "@jupyter-widgets/base",
      "model_module_version": "1.2.0",
      "model_name": "LayoutModel",
      "state": {}
     },
     "55d6886e1c68498c940e25c6d71c0c37": {
      "model_module": "@jupyter-widgets/controls",
      "model_module_version": "1.5.0",
      "model_name": "HBoxModel",
      "state": {
       "children": [
        "IPY_MODEL_47e37bf2825c460cbc328ae48e3ae64c",
        "IPY_MODEL_b6d25b9c0df6483f86764dc19f966a66"
       ],
       "layout": "IPY_MODEL_32055b03e50d4bc3a8e7fe4492377a42"
      }
     },
     "55d6a406c814479c9011ce9a6a421365": {
      "model_module": "@jupyter-widgets/base",
      "model_module_version": "1.2.0",
      "model_name": "LayoutModel",
      "state": {}
     },
     "5627d9994dd34768b41c6ef74b3ae535": {
      "model_module": "@jupyter-widgets/controls",
      "model_module_version": "1.5.0",
      "model_name": "DescriptionStyleModel",
      "state": {
       "description_width": ""
      }
     },
     "5656e8e6a57740acbf2a407bc092a154": {
      "model_module": "@jupyter-widgets/base",
      "model_module_version": "1.2.0",
      "model_name": "LayoutModel",
      "state": {}
     },
     "5659922a27854dd4968098848ae89b09": {
      "model_module": "@jupyter-widgets/base",
      "model_module_version": "1.2.0",
      "model_name": "LayoutModel",
      "state": {}
     },
     "567c95bf96c44da09819a273a30d7668": {
      "model_module": "@jupyter-widgets/controls",
      "model_module_version": "1.5.0",
      "model_name": "HTMLModel",
      "state": {
       "layout": "IPY_MODEL_83dd3c0175364fae9e374db3fc2bb38b",
       "style": "IPY_MODEL_23437d5efe17456fb7583a9c37e4d17a",
       "value": " 8760/8760 [00:31&lt;00:00, 281.26steps/s]"
      }
     },
     "56976fc9f9544d5c924370b6d3070afa": {
      "model_module": "@jupyter-widgets/base",
      "model_module_version": "1.2.0",
      "model_name": "LayoutModel",
      "state": {}
     },
     "56a459806f814682a5959f83f313455b": {
      "model_module": "@jupyter-widgets/base",
      "model_module_version": "1.2.0",
      "model_name": "LayoutModel",
      "state": {}
     },
     "56af0afbfcce415c9eb3353e73d98346": {
      "model_module": "@jupyter-widgets/controls",
      "model_module_version": "1.5.0",
      "model_name": "ProgressStyleModel",
      "state": {
       "description_width": "initial"
      }
     },
     "56c0b720399b445f99f88ef7872c2e90": {
      "model_module": "@jupyter-widgets/base",
      "model_module_version": "1.2.0",
      "model_name": "LayoutModel",
      "state": {}
     },
     "56dc9a804b5946648d3d1d9c5dbe17ea": {
      "model_module": "@jupyter-widgets/controls",
      "model_module_version": "1.5.0",
      "model_name": "ProgressStyleModel",
      "state": {
       "description_width": "initial"
      }
     },
     "56e399ca43864c48a906bc1deb16c011": {
      "model_module": "@jupyter-widgets/base",
      "model_module_version": "1.2.0",
      "model_name": "LayoutModel",
      "state": {}
     },
     "56f6990c42c3464a90fc5b621b2d9114": {
      "model_module": "@jupyter-widgets/base",
      "model_module_version": "1.2.0",
      "model_name": "LayoutModel",
      "state": {}
     },
     "571ae18d44704c768499b776d01097ba": {
      "model_module": "@jupyter-widgets/controls",
      "model_module_version": "1.5.0",
      "model_name": "HTMLModel",
      "state": {
       "layout": "IPY_MODEL_f96f6c00649e4981a4a098381351f38f",
       "style": "IPY_MODEL_e688de5184f9462e82559d4e0328cb3a",
       "value": " 78645/175320 [3:16:48&lt;8:03:28,  3.33steps/s]"
      }
     },
     "572d0fc4bd674f729d424e2e0d890888": {
      "model_module": "@jupyter-widgets/base",
      "model_module_version": "1.2.0",
      "model_name": "LayoutModel",
      "state": {}
     },
     "573a0a20e7504a9d864c7f66a5820050": {
      "model_module": "@jupyter-widgets/controls",
      "model_module_version": "1.5.0",
      "model_name": "ProgressStyleModel",
      "state": {
       "description_width": "initial"
      }
     },
     "5741d7a6c45a4ec08007eb54e0c5a187": {
      "model_module": "@jupyter-widgets/base",
      "model_module_version": "1.2.0",
      "model_name": "LayoutModel",
      "state": {}
     },
     "5741ea83df9342b1a42eb4758ea6550b": {
      "model_module": "@jupyter-widgets/controls",
      "model_module_version": "1.5.0",
      "model_name": "HBoxModel",
      "state": {
       "children": [
        "IPY_MODEL_e388d85869bf407fa4ee70b5d6dc1b62",
        "IPY_MODEL_d0138b47aef64c5b8ec2018202bc5d91"
       ],
       "layout": "IPY_MODEL_b9a3f85b0915469996c012e873ddabdf"
      }
     },
     "5748c653db294899a7ffc56238e7debe": {
      "model_module": "@jupyter-widgets/controls",
      "model_module_version": "1.5.0",
      "model_name": "HTMLModel",
      "state": {
       "layout": "IPY_MODEL_d23a7dd3d4d84e43ab1ed460bc18731a",
       "style": "IPY_MODEL_b60f34be015b4bc38db8d0af8b5c1d7b",
       "value": " 78895/175320 [3:29:15&lt;7:38:43,  3.50steps/s]"
      }
     },
     "5758dfaebc3c46688025e5370e406ffa": {
      "model_module": "@jupyter-widgets/controls",
      "model_module_version": "1.5.0",
      "model_name": "ProgressStyleModel",
      "state": {
       "description_width": "initial"
      }
     },
     "5785540f79ea476f840247291733c1c3": {
      "model_module": "@jupyter-widgets/controls",
      "model_module_version": "1.5.0",
      "model_name": "ProgressStyleModel",
      "state": {
       "description_width": "initial"
      }
     },
     "57be337afb914e6a8d1066fb563e0ed4": {
      "model_module": "@jupyter-widgets/controls",
      "model_module_version": "1.5.0",
      "model_name": "HBoxModel",
      "state": {
       "children": [
        "IPY_MODEL_517faadda6db47bfbda7291c735c8583",
        "IPY_MODEL_fcb915571f5344ab9753f0de6f509899"
       ],
       "layout": "IPY_MODEL_b05f2fd93dc5488cbaa5f1735b306e5b"
      }
     },
     "57c52f197791433d9b6e46b30c12e125": {
      "model_module": "@jupyter-widgets/base",
      "model_module_version": "1.2.0",
      "model_name": "LayoutModel",
      "state": {}
     },
     "57d94371f00a45ffb249819ab27e60c9": {
      "model_module": "@jupyter-widgets/base",
      "model_module_version": "1.2.0",
      "model_name": "LayoutModel",
      "state": {}
     },
     "57e61637f16c4781a707656ec57b3139": {
      "model_module": "@jupyter-widgets/base",
      "model_module_version": "1.2.0",
      "model_name": "LayoutModel",
      "state": {}
     },
     "5803d0397f174bfa810c82f7c212f919": {
      "model_module": "@jupyter-widgets/base",
      "model_module_version": "1.2.0",
      "model_name": "LayoutModel",
      "state": {}
     },
     "580f0e2d31ff44e7a7f87b57f44acd51": {
      "model_module": "@jupyter-widgets/controls",
      "model_module_version": "1.5.0",
      "model_name": "DescriptionStyleModel",
      "state": {
       "description_width": ""
      }
     },
     "581a0a4514bc4b6e991fe06e1aea1301": {
      "model_module": "@jupyter-widgets/controls",
      "model_module_version": "1.5.0",
      "model_name": "HBoxModel",
      "state": {
       "children": [
        "IPY_MODEL_5e50e6c0d0b6491d852e808736cbafa4",
        "IPY_MODEL_0814d385a6694f56bfaeb9c38e1dd3af"
       ],
       "layout": "IPY_MODEL_3713382a09e54b26bdf6dc45313eabad"
      }
     },
     "5845d42eefa549429d3dc45ae66c3e16": {
      "model_module": "@jupyter-widgets/controls",
      "model_module_version": "1.5.0",
      "model_name": "DescriptionStyleModel",
      "state": {
       "description_width": ""
      }
     },
     "584c00e1b75544e79fa29a2baff091ea": {
      "model_module": "@jupyter-widgets/controls",
      "model_module_version": "1.5.0",
      "model_name": "FloatProgressModel",
      "state": {
       "bar_style": "danger",
       "description": "poop:  73%",
       "layout": "IPY_MODEL_70d8bd8026bd4f9b896ee46824fd4884",
       "max": 8760,
       "style": "IPY_MODEL_07d67c96faf941019513113bcb30fa59",
       "value": 6384
      }
     },
     "586d209de9e94c59b8d76d960ef62020": {
      "model_module": "@jupyter-widgets/base",
      "model_module_version": "1.2.0",
      "model_name": "LayoutModel",
      "state": {}
     },
     "5881804a32a742d986ffed78a9ccddbe": {
      "model_module": "@jupyter-widgets/controls",
      "model_module_version": "1.5.0",
      "model_name": "ProgressStyleModel",
      "state": {
       "description_width": "initial"
      }
     },
     "5882ff3681de408c83726e28a67ecffb": {
      "model_module": "@jupyter-widgets/base",
      "model_module_version": "1.2.0",
      "model_name": "LayoutModel",
      "state": {}
     },
     "5885d11632ba47318d648a24ac981ec4": {
      "model_module": "@jupyter-widgets/base",
      "model_module_version": "1.2.0",
      "model_name": "LayoutModel",
      "state": {}
     },
     "58898e13e4b64930a66f0e12c5151593": {
      "model_module": "@jupyter-widgets/controls",
      "model_module_version": "1.5.0",
      "model_name": "ProgressStyleModel",
      "state": {
       "description_width": "initial"
      }
     },
     "58b99d444f6d449290e2dc285bdf721f": {
      "model_module": "@jupyter-widgets/base",
      "model_module_version": "1.2.0",
      "model_name": "LayoutModel",
      "state": {}
     },
     "58f705d3352a41dab8b5e1ed57aa0644": {
      "model_module": "@jupyter-widgets/base",
      "model_module_version": "1.2.0",
      "model_name": "LayoutModel",
      "state": {}
     },
     "58f7752e42ff47a58dd2120abc8a673d": {
      "model_module": "@jupyter-widgets/base",
      "model_module_version": "1.2.0",
      "model_name": "LayoutModel",
      "state": {}
     },
     "590df27cd71a4ad4bb11e6a6f38f846c": {
      "model_module": "@jupyter-widgets/base",
      "model_module_version": "1.2.0",
      "model_name": "LayoutModel",
      "state": {}
     },
     "5930336b6bff4a06835e33042b96fd81": {
      "model_module": "@jupyter-widgets/controls",
      "model_module_version": "1.5.0",
      "model_name": "ProgressStyleModel",
      "state": {
       "description_width": "initial"
      }
     },
     "593ccb395a9145eab041ae690e31d97e": {
      "model_module": "@jupyter-widgets/controls",
      "model_module_version": "1.5.0",
      "model_name": "DescriptionStyleModel",
      "state": {
       "description_width": ""
      }
     },
     "594c906bae774f3ba32e937cf7ab552f": {
      "model_module": "@jupyter-widgets/base",
      "model_module_version": "1.2.0",
      "model_name": "LayoutModel",
      "state": {}
     },
     "596accd3bf1941a8bffe3b9beaf1a453": {
      "model_module": "@jupyter-widgets/controls",
      "model_module_version": "1.5.0",
      "model_name": "FloatProgressModel",
      "state": {
       "bar_style": "danger",
       "description": "  8%",
       "layout": "IPY_MODEL_51686f7d98054684a3840da20251298c",
       "max": 8760,
       "style": "IPY_MODEL_25776991fc5d42e59a54acdded9d8009",
       "value": 668
      }
     },
     "598598f344da4105b170e4b8d5aa4a21": {
      "model_module": "@jupyter-widgets/base",
      "model_module_version": "1.2.0",
      "model_name": "LayoutModel",
      "state": {}
     },
     "59a6d7cc5de849a583fe3e6ff219323a": {
      "model_module": "@jupyter-widgets/base",
      "model_module_version": "1.2.0",
      "model_name": "LayoutModel",
      "state": {}
     },
     "59ab34bf589c438f8f4b71347de299ef": {
      "model_module": "@jupyter-widgets/controls",
      "model_module_version": "1.5.0",
      "model_name": "ProgressStyleModel",
      "state": {
       "description_width": "initial"
      }
     },
     "59b2e37aa760422aa8ba4685777539bb": {
      "model_module": "@jupyter-widgets/base",
      "model_module_version": "1.2.0",
      "model_name": "LayoutModel",
      "state": {}
     },
     "59b33633a27e427a9465a893065ba86e": {
      "model_module": "@jupyter-widgets/controls",
      "model_module_version": "1.5.0",
      "model_name": "HBoxModel",
      "state": {
       "children": [
        "IPY_MODEL_67af87aff6a445e8a0959e2d55eca14d",
        "IPY_MODEL_b37ad6a42344410b815384d19f02d107"
       ],
       "layout": "IPY_MODEL_2354f66db5324eaf8e7e36bb5981bdbb"
      }
     },
     "59c391c98bc64493815af91b80d3989d": {
      "model_module": "@jupyter-widgets/controls",
      "model_module_version": "1.5.0",
      "model_name": "FloatProgressModel",
      "state": {
       "bar_style": "success",
       "description": "Run 61 of 156 [PID: 21994]: 100%",
       "layout": "IPY_MODEL_e145aa0ca407467bb9ffe6b8b871c003",
       "max": 8760,
       "style": "IPY_MODEL_4020484fda78455782ded88a481d08e1",
       "value": 8760
      }
     },
     "59f1da95ef71445787cbefbf578e6301": {
      "model_module": "@jupyter-widgets/controls",
      "model_module_version": "1.5.0",
      "model_name": "ProgressStyleModel",
      "state": {
       "description_width": "initial"
      }
     },
     "59f8fd6d4f00425bbf2fabe0f5ab8f71": {
      "model_module": "@jupyter-widgets/controls",
      "model_module_version": "1.5.0",
      "model_name": "FloatProgressModel",
      "state": {
       "bar_style": "success",
       "description": "Run 46 of 156 [PID: 21993]: 100%",
       "layout": "IPY_MODEL_e2b4235050c74918aa041244f4c70a09",
       "max": 8760,
       "style": "IPY_MODEL_f9818697d290467abb9ba67846981334",
       "value": 8760
      }
     },
     "5a0b64600a6449fb804172042d7ef57b": {
      "model_module": "@jupyter-widgets/controls",
      "model_module_version": "1.5.0",
      "model_name": "HBoxModel",
      "state": {
       "children": [
        "IPY_MODEL_a11c24ed79f542bf8e77d52c59dcf558",
        "IPY_MODEL_8011ffdbf8a444339d2f9fe7bd747e6a"
       ],
       "layout": "IPY_MODEL_c30d09affd904f5f816fd81da06dadfd"
      }
     },
     "5a11b27b44c24f23a04a52e56deaaaa1": {
      "model_module": "@jupyter-widgets/base",
      "model_module_version": "1.2.0",
      "model_name": "LayoutModel",
      "state": {}
     },
     "5a1859b50b754d708773a7e52259e26a": {
      "model_module": "@jupyter-widgets/controls",
      "model_module_version": "1.5.0",
      "model_name": "FloatProgressModel",
      "state": {
       "bar_style": "success",
       "description": "poop: 100%",
       "layout": "IPY_MODEL_24730975830448b99fcc456c00332c66",
       "max": 8760,
       "style": "IPY_MODEL_80c78d8413d34662ac55043e0606f05f",
       "value": 8760
      }
     },
     "5a27e4dfcb8b4feead21d2b043206219": {
      "model_module": "@jupyter-widgets/base",
      "model_module_version": "1.2.0",
      "model_name": "LayoutModel",
      "state": {}
     },
     "5a297e4474944102a55dc4c43688ee61": {
      "model_module": "@jupyter-widgets/controls",
      "model_module_version": "1.5.0",
      "model_name": "HBoxModel",
      "state": {
       "children": [
        "IPY_MODEL_f5aef56d28da46b5bd40d21674e5818f",
        "IPY_MODEL_a8792ef71342489499ffac9a7c56b82e"
       ],
       "layout": "IPY_MODEL_a1a484b7b6ac4a599df6952fc5f21dff"
      }
     },
     "5a34e50fe9774095848185ea18a486cc": {
      "model_module": "@jupyter-widgets/controls",
      "model_module_version": "1.5.0",
      "model_name": "ProgressStyleModel",
      "state": {
       "description_width": "initial"
      }
     },
     "5a59dda581ac42a8bcb3a20a04b3ef2e": {
      "model_module": "@jupyter-widgets/controls",
      "model_module_version": "1.5.0",
      "model_name": "HTMLModel",
      "state": {
       "layout": "IPY_MODEL_998088a36a16485b9893ac9032f96f74",
       "style": "IPY_MODEL_ff6af7ad7ca74130b4f93dc57919de6b",
       "value": " 8760/8760 [00:31&lt;00:00, 282.24steps/s]"
      }
     },
     "5a622ae50a514f6f8b536accb04a0ee5": {
      "model_module": "@jupyter-widgets/base",
      "model_module_version": "1.2.0",
      "model_name": "LayoutModel",
      "state": {}
     },
     "5a9044666a6f46dc9cdf24a8aa1ca62f": {
      "model_module": "@jupyter-widgets/base",
      "model_module_version": "1.2.0",
      "model_name": "LayoutModel",
      "state": {}
     },
     "5a904ea944174af1bda6a77b58892a28": {
      "model_module": "@jupyter-widgets/base",
      "model_module_version": "1.2.0",
      "model_name": "LayoutModel",
      "state": {}
     },
     "5ac5973bab4f434990cd375e1d534b2a": {
      "model_module": "@jupyter-widgets/controls",
      "model_module_version": "1.5.0",
      "model_name": "ProgressStyleModel",
      "state": {
       "description_width": "initial"
      }
     },
     "5ad69cee543e4eb3aed034629ec6ed4f": {
      "model_module": "@jupyter-widgets/base",
      "model_module_version": "1.2.0",
      "model_name": "LayoutModel",
      "state": {}
     },
     "5ade155567b44a66978988b798b71dae": {
      "model_module": "@jupyter-widgets/base",
      "model_module_version": "1.2.0",
      "model_name": "LayoutModel",
      "state": {}
     },
     "5ae580ab9d6248aa8f0ff006df5a9a7e": {
      "model_module": "@jupyter-widgets/base",
      "model_module_version": "1.2.0",
      "model_name": "LayoutModel",
      "state": {}
     },
     "5ae602806a1541f0a0e8922ba3565a13": {
      "model_module": "@jupyter-widgets/base",
      "model_module_version": "1.2.0",
      "model_name": "LayoutModel",
      "state": {}
     },
     "5ae7397d9b7a49ef8cf8e7d5288620d5": {
      "model_module": "@jupyter-widgets/base",
      "model_module_version": "1.2.0",
      "model_name": "LayoutModel",
      "state": {}
     },
     "5b0cc5e5ae98419394016b599f4ff516": {
      "model_module": "@jupyter-widgets/controls",
      "model_module_version": "1.5.0",
      "model_name": "DescriptionStyleModel",
      "state": {
       "description_width": ""
      }
     },
     "5b20bf57089e42b684cda63867b827af": {
      "model_module": "@jupyter-widgets/controls",
      "model_module_version": "1.5.0",
      "model_name": "DescriptionStyleModel",
      "state": {
       "description_width": ""
      }
     },
     "5b5a4befa39a46588d7b45f294d0510d": {
      "model_module": "@jupyter-widgets/controls",
      "model_module_version": "1.5.0",
      "model_name": "HTMLModel",
      "state": {
       "layout": "IPY_MODEL_d89ed72531f34638b2b53027e5737025",
       "style": "IPY_MODEL_cc637a6c8cbb4812ad4b23fd4d9f6a56",
       "value": " 8760/8760 [00:29&lt;00:00, 293.34steps/s]"
      }
     },
     "5b7dd2ed6a444939851a7188c7d55e97": {
      "model_module": "@jupyter-widgets/controls",
      "model_module_version": "1.5.0",
      "model_name": "DescriptionStyleModel",
      "state": {
       "description_width": ""
      }
     },
     "5b858f757ff847c8a6a47a3ecf3a05f2": {
      "model_module": "@jupyter-widgets/base",
      "model_module_version": "1.2.0",
      "model_name": "LayoutModel",
      "state": {}
     },
     "5b96a68bc5ee41da95bc4da28395a96b": {
      "model_module": "@jupyter-widgets/base",
      "model_module_version": "1.2.0",
      "model_name": "LayoutModel",
      "state": {}
     },
     "5bb2aa37fec34e18895a74dd96318748": {
      "model_module": "@jupyter-widgets/base",
      "model_module_version": "1.2.0",
      "model_name": "LayoutModel",
      "state": {}
     },
     "5bb49d3e5a5a471ca3154d3f81dfb5bb": {
      "model_module": "@jupyter-widgets/controls",
      "model_module_version": "1.5.0",
      "model_name": "DescriptionStyleModel",
      "state": {
       "description_width": ""
      }
     },
     "5bf13a7d5c4d43b2958cd07ea6200a3a": {
      "model_module": "@jupyter-widgets/controls",
      "model_module_version": "1.5.0",
      "model_name": "HTMLModel",
      "state": {
       "layout": "IPY_MODEL_5a904ea944174af1bda6a77b58892a28",
       "style": "IPY_MODEL_a3168cef05b24cefa446511774e3c293",
       "value": " 101381/175320 [3:57:00&lt;3:59:23,  5.15steps/s]"
      }
     },
     "5c293d796ef84d49a916fcd66bc3409b": {
      "model_module": "@jupyter-widgets/controls",
      "model_module_version": "1.5.0",
      "model_name": "ProgressStyleModel",
      "state": {
       "description_width": "initial"
      }
     },
     "5c313951b38e46cdb8dc74db3f820de1": {
      "model_module": "@jupyter-widgets/controls",
      "model_module_version": "1.5.0",
      "model_name": "HBoxModel",
      "state": {
       "children": [
        "IPY_MODEL_fef857c41b154459ad10ba85b448f2fd",
        "IPY_MODEL_489d7c45ebe54346bc6dbbbd2cc075ea"
       ],
       "layout": "IPY_MODEL_c935f023c54240088c18dc011a9067cd"
      }
     },
     "5c42c95092cb4af19cff4f15eed9b127": {
      "model_module": "@jupyter-widgets/controls",
      "model_module_version": "1.5.0",
      "model_name": "DescriptionStyleModel",
      "state": {
       "description_width": ""
      }
     },
     "5c48fad8a6e54450b242a68533bd2e8d": {
      "model_module": "@jupyter-widgets/controls",
      "model_module_version": "1.5.0",
      "model_name": "FloatProgressModel",
      "state": {
       "description": "Run 80 of 156 [PID: 72836]:  53%",
       "layout": "IPY_MODEL_fb4319a3bef64e0ea56727db71517903",
       "max": 175320,
       "style": "IPY_MODEL_db8636a5e90a459aa1e290a40a77a362",
       "value": 93203
      }
     },
     "5c68f291ed2c461e8cdd4075911d0d38": {
      "model_module": "@jupyter-widgets/base",
      "model_module_version": "1.2.0",
      "model_name": "LayoutModel",
      "state": {}
     },
     "5c69c75547ec496785f004df1305e2cf": {
      "model_module": "@jupyter-widgets/controls",
      "model_module_version": "1.5.0",
      "model_name": "FloatProgressModel",
      "state": {
       "bar_style": "success",
       "description": "Run 16 of 156 [PID: 45692]: 100%",
       "layout": "IPY_MODEL_e6cedee2f9064f11935affd3f0dd0ca8",
       "max": 8760,
       "style": "IPY_MODEL_b10c2ff80abe44a6ab789da7e34baf67",
       "value": 8760
      }
     },
     "5c8a62aa2a0c4b29a4a9da9c72e82976": {
      "model_module": "@jupyter-widgets/base",
      "model_module_version": "1.2.0",
      "model_name": "LayoutModel",
      "state": {}
     },
     "5cabf3d054e54956b3db5f8a87444b91": {
      "model_module": "@jupyter-widgets/controls",
      "model_module_version": "1.5.0",
      "model_name": "FloatProgressModel",
      "state": {
       "bar_style": "danger",
       "description": "Run 29 of 156 [PID: 45694]:  23%",
       "layout": "IPY_MODEL_141fea4101eb474dab5c16ffe6488f59",
       "max": 8760,
       "style": "IPY_MODEL_2d4571f015bb49af805ee4eb6f7001d5",
       "value": 2034
      }
     },
     "5cce75c0b9ce44de8ce87332f3e15756": {
      "model_module": "@jupyter-widgets/controls",
      "model_module_version": "1.5.0",
      "model_name": "FloatProgressModel",
      "state": {
       "bar_style": "success",
       "description": "Run 21 of 390 [PID: 2315]: 100%",
       "layout": "IPY_MODEL_a10e4a8399bc46e5b8cfcac652cba5ed",
       "max": 8760,
       "style": "IPY_MODEL_743cad399ca846beb73d091fb5311ded",
       "value": 8760
      }
     },
     "5cecea69cb1e4d48ada802f5baaedfd2": {
      "model_module": "@jupyter-widgets/controls",
      "model_module_version": "1.5.0",
      "model_name": "HTMLModel",
      "state": {
       "layout": "IPY_MODEL_043a7d74ff514d96951073cb849c31d4",
       "style": "IPY_MODEL_22fdf1a3bae4432e9542f1f1a03f391d",
       "value": " 8760/8760 [00:30&lt;00:00, 283.69steps/s]"
      }
     },
     "5cf5076e2a6d479f9ba31be0ca68bb89": {
      "model_module": "@jupyter-widgets/base",
      "model_module_version": "1.2.0",
      "model_name": "LayoutModel",
      "state": {}
     },
     "5cf5d31c08f44f1e946619c683809ffc": {
      "model_module": "@jupyter-widgets/controls",
      "model_module_version": "1.5.0",
      "model_name": "DescriptionStyleModel",
      "state": {
       "description_width": ""
      }
     },
     "5cfb667ca28348e4ba81334ce7479d8e": {
      "model_module": "@jupyter-widgets/base",
      "model_module_version": "1.2.0",
      "model_name": "LayoutModel",
      "state": {}
     },
     "5d0719756db3419b89fb805d24057250": {
      "model_module": "@jupyter-widgets/controls",
      "model_module_version": "1.5.0",
      "model_name": "HTMLModel",
      "state": {
       "layout": "IPY_MODEL_e11900bfa1dd46c18c29159c594e3abe",
       "style": "IPY_MODEL_f3bc48ffc1cc44559f7728fe9d7e5d2d",
       "value": " 8760/8760 [00:31&lt;00:00, 280.16steps/s]"
      }
     },
     "5d08d99db7de43a1ae238032feadae31": {
      "model_module": "@jupyter-widgets/controls",
      "model_module_version": "1.5.0",
      "model_name": "DescriptionStyleModel",
      "state": {
       "description_width": ""
      }
     },
     "5d12dff6514242b6a2c14b9b0691c850": {
      "model_module": "@jupyter-widgets/controls",
      "model_module_version": "1.5.0",
      "model_name": "DescriptionStyleModel",
      "state": {
       "description_width": ""
      }
     },
     "5d28d671582b48999ac35398bfb3edd0": {
      "model_module": "@jupyter-widgets/controls",
      "model_module_version": "1.5.0",
      "model_name": "FloatProgressModel",
      "state": {
       "bar_style": "success",
       "description": "poop: 100%",
       "layout": "IPY_MODEL_03fac8e35c6e4d3cb9132b30428bdca9",
       "max": 8760,
       "style": "IPY_MODEL_cd2f5cee46144ac68dfc75b8c71a2beb",
       "value": 8760
      }
     },
     "5d4ed321e84f4fb4afa089435b4c1ce6": {
      "model_module": "@jupyter-widgets/controls",
      "model_module_version": "1.5.0",
      "model_name": "HBoxModel",
      "state": {
       "children": [
        "IPY_MODEL_76be498362064ce4be2bba3060bb1666",
        "IPY_MODEL_c962a22b0755453fbd03a0f9eb786b11"
       ],
       "layout": "IPY_MODEL_488a640c8f3941788b86b92ffd4c83ed"
      }
     },
     "5d5ab96b10f4492f8e3d55cb1833aa7e": {
      "model_module": "@jupyter-widgets/base",
      "model_module_version": "1.2.0",
      "model_name": "LayoutModel",
      "state": {}
     },
     "5d65b97ca78a4a99972688585d437538": {
      "model_module": "@jupyter-widgets/controls",
      "model_module_version": "1.5.0",
      "model_name": "ProgressStyleModel",
      "state": {
       "description_width": "initial"
      }
     },
     "5d6a526e1e534182b99a5e0ff4a32892": {
      "model_module": "@jupyter-widgets/controls",
      "model_module_version": "1.5.0",
      "model_name": "FloatProgressModel",
      "state": {
       "bar_style": "danger",
       "description": "PID: 67936:  31%",
       "layout": "IPY_MODEL_64a79b259b87435aa02c270a3f775e1b",
       "max": 8760,
       "style": "IPY_MODEL_beb19e723774441698b8ac67340005ac",
       "value": 2692
      }
     },
     "5d7138ee981c462ea6cb95456311ad38": {
      "model_module": "@jupyter-widgets/base",
      "model_module_version": "1.2.0",
      "model_name": "LayoutModel",
      "state": {}
     },
     "5d8cfd12a03745b094fb550030c8df18": {
      "model_module": "@jupyter-widgets/base",
      "model_module_version": "1.2.0",
      "model_name": "LayoutModel",
      "state": {}
     },
     "5dbde9ed54724aea9eb804269efd9864": {
      "model_module": "@jupyter-widgets/controls",
      "model_module_version": "1.5.0",
      "model_name": "HTMLModel",
      "state": {
       "layout": "IPY_MODEL_140902bf8d7348adb131f109595c2107",
       "style": "IPY_MODEL_f34e8284eec9452998634c2d249e348c",
       "value": " 83706/175320 [3:45:15&lt;6:19:06,  4.03steps/s]"
      }
     },
     "5dc98943466a47ccbe44068f9181d36c": {
      "model_module": "@jupyter-widgets/base",
      "model_module_version": "1.2.0",
      "model_name": "LayoutModel",
      "state": {}
     },
     "5dd03aa5a02840bdb231cba0e3ac4715": {
      "model_module": "@jupyter-widgets/controls",
      "model_module_version": "1.5.0",
      "model_name": "HTMLModel",
      "state": {
       "layout": "IPY_MODEL_b3cbdaae61914d818de64f3d1ce6967e",
       "style": "IPY_MODEL_629ec84f377d44e991f8b43ad7b0695c",
       "value": " 8760/8760 [00:30&lt;00:00, 291.90steps/s]"
      }
     },
     "5ddfd337178f450b91f5077523a4dbaf": {
      "model_module": "@jupyter-widgets/controls",
      "model_module_version": "1.5.0",
      "model_name": "HTMLModel",
      "state": {
       "layout": "IPY_MODEL_af99dd6b75004d5ab2f44174c69421c9",
       "style": "IPY_MODEL_474aa6b865f44c5ba2269f3c9203963a",
       "value": " 80150/175320 [3:33:40&lt;6:18:00,  4.20steps/s]"
      }
     },
     "5de1937c20404205acc4af24d2be10cd": {
      "model_module": "@jupyter-widgets/controls",
      "model_module_version": "1.5.0",
      "model_name": "ProgressStyleModel",
      "state": {
       "description_width": "initial"
      }
     },
     "5df848cf8e9341d8a956ee14223549c5": {
      "model_module": "@jupyter-widgets/base",
      "model_module_version": "1.2.0",
      "model_name": "LayoutModel",
      "state": {}
     },
     "5e1b956e2b19435999217578ea3009d3": {
      "model_module": "@jupyter-widgets/controls",
      "model_module_version": "1.5.0",
      "model_name": "DescriptionStyleModel",
      "state": {
       "description_width": ""
      }
     },
     "5e1ba53073fc4501b9148938e4c622c6": {
      "model_module": "@jupyter-widgets/controls",
      "model_module_version": "1.5.0",
      "model_name": "HBoxModel",
      "state": {
       "children": [
        "IPY_MODEL_2736c4d1d2dc4296865c0ecb145a8279",
        "IPY_MODEL_495d4e83f17f4cfb93b167decb201230"
       ],
       "layout": "IPY_MODEL_c3f291b612dc4849afc2bf15114541ac"
      }
     },
     "5e50e6c0d0b6491d852e808736cbafa4": {
      "model_module": "@jupyter-widgets/controls",
      "model_module_version": "1.5.0",
      "model_name": "FloatProgressModel",
      "state": {
       "bar_style": "success",
       "description": "Run 17 of 390 [PID: 2310]: 100%",
       "layout": "IPY_MODEL_8e486b33db0143b89b56e4b0d5c52690",
       "max": 8760,
       "style": "IPY_MODEL_839477dbc8564a7ab379b5210dff9cba",
       "value": 8760
      }
     },
     "5e59da720eda4a60ade441348d34b4fd": {
      "model_module": "@jupyter-widgets/controls",
      "model_module_version": "1.5.0",
      "model_name": "DescriptionStyleModel",
      "state": {
       "description_width": ""
      }
     },
     "5e6029b6b05449bbaebf3ba4a6c437d1": {
      "model_module": "@jupyter-widgets/controls",
      "model_module_version": "1.5.0",
      "model_name": "FloatProgressModel",
      "state": {
       "bar_style": "success",
       "description": "Run 18 of 156 [PID: 45689]: 100%",
       "layout": "IPY_MODEL_bab3e86c04a84f9c990b653b11269240",
       "max": 8760,
       "style": "IPY_MODEL_70aac5bf9fa24416afb198ac693e4878",
       "value": 8760
      }
     },
     "5e6d5ff4341d4d41b3ad6983c093a7a6": {
      "model_module": "@jupyter-widgets/controls",
      "model_module_version": "1.5.0",
      "model_name": "HTMLModel",
      "state": {
       "layout": "IPY_MODEL_60d810861e3049b183d991e093f8534a",
       "style": "IPY_MODEL_fc489bfa05404e5faaa6c886c30f2b7f",
       "value": " 8760/8760 [00:30&lt;00:00, 290.26steps/s]"
      }
     },
     "5e713fd5099f4753b77439b1a8acd0f6": {
      "model_module": "@jupyter-widgets/base",
      "model_module_version": "1.2.0",
      "model_name": "LayoutModel",
      "state": {}
     },
     "5e71a4e463a14dee9b0905ea6ec0e7ac": {
      "model_module": "@jupyter-widgets/base",
      "model_module_version": "1.2.0",
      "model_name": "LayoutModel",
      "state": {}
     },
     "5e8c535eb0cf4660929af4c374433a26": {
      "model_module": "@jupyter-widgets/base",
      "model_module_version": "1.2.0",
      "model_name": "LayoutModel",
      "state": {}
     },
     "5ea2423e292d4c8d8f1543f896d03771": {
      "model_module": "@jupyter-widgets/base",
      "model_module_version": "1.2.0",
      "model_name": "LayoutModel",
      "state": {}
     },
     "5eafef1ee6a54eb7b2b23ee3fcbf3d0f": {
      "model_module": "@jupyter-widgets/base",
      "model_module_version": "1.2.0",
      "model_name": "LayoutModel",
      "state": {}
     },
     "5ebb0e5f61194229965dd3a0f2c80747": {
      "model_module": "@jupyter-widgets/controls",
      "model_module_version": "1.5.0",
      "model_name": "DescriptionStyleModel",
      "state": {
       "description_width": ""
      }
     },
     "5ebcaa200cb04ae6aac09672f52d534e": {
      "model_module": "@jupyter-widgets/controls",
      "model_module_version": "1.5.0",
      "model_name": "ProgressStyleModel",
      "state": {
       "description_width": "initial"
      }
     },
     "5ec71e146d254b64ae03bfac604eb055": {
      "model_module": "@jupyter-widgets/controls",
      "model_module_version": "1.5.0",
      "model_name": "ProgressStyleModel",
      "state": {
       "description_width": "initial"
      }
     },
     "5eeedc84ea77434aa0a924a79ec00896": {
      "model_module": "@jupyter-widgets/controls",
      "model_module_version": "1.5.0",
      "model_name": "FloatProgressModel",
      "state": {
       "bar_style": "danger",
       "description": "poop:  80%",
       "layout": "IPY_MODEL_7be666ed3f3a4049bbe7144ed4dfee7d",
       "max": 8760,
       "style": "IPY_MODEL_0cfa88e086544544a86588edf2e17ae6",
       "value": 7020
      }
     },
     "5f41d289c8b949f895ff1d4069ad0ea7": {
      "model_module": "@jupyter-widgets/controls",
      "model_module_version": "1.5.0",
      "model_name": "DescriptionStyleModel",
      "state": {
       "description_width": ""
      }
     },
     "5f5c642ab9804e7a8c91a3d5ff5b9fb9": {
      "model_module": "@jupyter-widgets/base",
      "model_module_version": "1.2.0",
      "model_name": "LayoutModel",
      "state": {}
     },
     "5f652989a6084e74baf6858d0168ec4c": {
      "model_module": "@jupyter-widgets/controls",
      "model_module_version": "1.5.0",
      "model_name": "ProgressStyleModel",
      "state": {
       "description_width": "initial"
      }
     },
     "5f958946e80f403e9a5b0b4b1d4abcd2": {
      "model_module": "@jupyter-widgets/base",
      "model_module_version": "1.2.0",
      "model_name": "LayoutModel",
      "state": {}
     },
     "5fb6aecb7bd1402a8f1332138d9dc0de": {
      "model_module": "@jupyter-widgets/controls",
      "model_module_version": "1.5.0",
      "model_name": "HBoxModel",
      "state": {
       "children": [
        "IPY_MODEL_51d47feb36ff4e11b1025e91062f9146",
        "IPY_MODEL_ac14cbb302354db2b77ce04fc2304cb1"
       ],
       "layout": "IPY_MODEL_a3b8380e4b3d4199a8553022bcc47127"
      }
     },
     "5ffd1c544d81409baa744a281cff70d1": {
      "model_module": "@jupyter-widgets/controls",
      "model_module_version": "1.5.0",
      "model_name": "HTMLModel",
      "state": {
       "layout": "IPY_MODEL_170ebe32c4854f3f9f774af83679d7a8",
       "style": "IPY_MODEL_83a7ba2a771b4a6489bbd610c85d25af",
       "value": " 76118/175320 [3:15:51&lt;5:33:37,  4.96steps/s]"
      }
     },
     "601a5117026e4e5fbc8db9182f9847c5": {
      "model_module": "@jupyter-widgets/controls",
      "model_module_version": "1.5.0",
      "model_name": "ProgressStyleModel",
      "state": {
       "description_width": "initial"
      }
     },
     "6023dbf78aee47c292c5801a44c3bf2d": {
      "model_module": "@jupyter-widgets/base",
      "model_module_version": "1.2.0",
      "model_name": "LayoutModel",
      "state": {}
     },
     "60265cc6bb374ff9b909ef70140821d8": {
      "model_module": "@jupyter-widgets/controls",
      "model_module_version": "1.5.0",
      "model_name": "ProgressStyleModel",
      "state": {
       "description_width": "initial"
      }
     },
     "603904f1c83449c89e5f4d18765fc334": {
      "model_module": "@jupyter-widgets/base",
      "model_module_version": "1.2.0",
      "model_name": "LayoutModel",
      "state": {}
     },
     "6070e7fc355c4049833603d3410161e9": {
      "model_module": "@jupyter-widgets/base",
      "model_module_version": "1.2.0",
      "model_name": "LayoutModel",
      "state": {}
     },
     "608453504d7441d2bd3f4362edb05952": {
      "model_module": "@jupyter-widgets/controls",
      "model_module_version": "1.5.0",
      "model_name": "DescriptionStyleModel",
      "state": {
       "description_width": ""
      }
     },
     "60893335496c4c21aa7762473a031fd6": {
      "model_module": "@jupyter-widgets/controls",
      "model_module_version": "1.5.0",
      "model_name": "ProgressStyleModel",
      "state": {
       "description_width": "initial"
      }
     },
     "6094850243464d92b708b07f176c5dc0": {
      "model_module": "@jupyter-widgets/controls",
      "model_module_version": "1.5.0",
      "model_name": "HTMLModel",
      "state": {
       "layout": "IPY_MODEL_8c5f23af74b54807ac77f52a061295ce",
       "style": "IPY_MODEL_e0019f15fbaa40de88b8cf5ed3ea2676",
       "value": " 8760/8760 [00:31&lt;00:00, 273.99steps/s]"
      }
     },
     "60a10b866c28447e89bd58f6504c6f0c": {
      "model_module": "@jupyter-widgets/controls",
      "model_module_version": "1.5.0",
      "model_name": "HBoxModel",
      "state": {
       "children": [
        "IPY_MODEL_d178d29625c94e84b52d9dac3972a507",
        "IPY_MODEL_24db79186c2b482d89eac887e2d99e18"
       ],
       "layout": "IPY_MODEL_b1048169e2a4450f8ec2b776c92fc970"
      }
     },
     "60a21fa0b7a5464b85e11680b4f43124": {
      "model_module": "@jupyter-widgets/base",
      "model_module_version": "1.2.0",
      "model_name": "LayoutModel",
      "state": {}
     },
     "60b21bf85d75493fb538b1a64db4553f": {
      "model_module": "@jupyter-widgets/base",
      "model_module_version": "1.2.0",
      "model_name": "LayoutModel",
      "state": {}
     },
     "60d52bf64f63462a8589451374bafce7": {
      "model_module": "@jupyter-widgets/controls",
      "model_module_version": "1.5.0",
      "model_name": "FloatProgressModel",
      "state": {
       "bar_style": "success",
       "description": "poop: 100%",
       "layout": "IPY_MODEL_44412929f52747b6b953c7076b7e9dba",
       "max": 8760,
       "style": "IPY_MODEL_e2f81dd5b1f34defb0d76c64088460d8",
       "value": 8760
      }
     },
     "60d810861e3049b183d991e093f8534a": {
      "model_module": "@jupyter-widgets/base",
      "model_module_version": "1.2.0",
      "model_name": "LayoutModel",
      "state": {}
     },
     "60ff23e725ef44d7bb843a99819d2d2d": {
      "model_module": "@jupyter-widgets/controls",
      "model_module_version": "1.5.0",
      "model_name": "HBoxModel",
      "state": {
       "children": [
        "IPY_MODEL_d7e38e0842eb432fb56c1992feb63754",
        "IPY_MODEL_e70a0dad8a344b78b7af2b49af670587"
       ],
       "layout": "IPY_MODEL_9b1255a65cce4a3bae9ff51405b1cf02"
      }
     },
     "610f5205127d46bd8c30484259720177": {
      "model_module": "@jupyter-widgets/base",
      "model_module_version": "1.2.0",
      "model_name": "LayoutModel",
      "state": {}
     },
     "611bf85b131e46daa3d79149bdff0c15": {
      "model_module": "@jupyter-widgets/controls",
      "model_module_version": "1.5.0",
      "model_name": "HTMLModel",
      "state": {
       "layout": "IPY_MODEL_fd082a4360494f828b0d2fbe04cb5984",
       "style": "IPY_MODEL_cda954e406bf4597b581d560499ca629",
       "value": " 8760/8760 [00:29&lt;00:00, 295.68steps/s]"
      }
     },
     "6122b300144349a5bc214dd2c3c93a77": {
      "model_module": "@jupyter-widgets/base",
      "model_module_version": "1.2.0",
      "model_name": "LayoutModel",
      "state": {}
     },
     "613f11cefa4b49d49f2dfb3df3dbc15e": {
      "model_module": "@jupyter-widgets/base",
      "model_module_version": "1.2.0",
      "model_name": "LayoutModel",
      "state": {}
     },
     "61441b15892f460c9755c520da34ed65": {
      "model_module": "@jupyter-widgets/controls",
      "model_module_version": "1.5.0",
      "model_name": "HBoxModel",
      "state": {
       "children": [
        "IPY_MODEL_556962b85e9541c8b0591427a445730e",
        "IPY_MODEL_fc172fce5d2d43228e7ed1edb6ec977e"
       ],
       "layout": "IPY_MODEL_811cbcaa7d624001bca035840038fd88"
      }
     },
     "6175eeb62d6c4b54a3b224c6adc594e7": {
      "model_module": "@jupyter-widgets/controls",
      "model_module_version": "1.5.0",
      "model_name": "ProgressStyleModel",
      "state": {
       "description_width": "initial"
      }
     },
     "61a07f32b2954bc2ade680ee88583225": {
      "model_module": "@jupyter-widgets/base",
      "model_module_version": "1.2.0",
      "model_name": "LayoutModel",
      "state": {}
     },
     "61a818f2ebe549ac8493edb1a19e32ed": {
      "model_module": "@jupyter-widgets/controls",
      "model_module_version": "1.5.0",
      "model_name": "FloatProgressModel",
      "state": {
       "bar_style": "danger",
       "description": "PID: 67933:  38%",
       "layout": "IPY_MODEL_aaac7847bb0f471394af76a8b3fbe0c0",
       "max": 8760,
       "style": "IPY_MODEL_ff20f8d77c8d44bc97abf76fc7f288fc",
       "value": 3353
      }
     },
     "61ae179a6b1d4c6d9b46225bc8c0ad89": {
      "model_module": "@jupyter-widgets/base",
      "model_module_version": "1.2.0",
      "model_name": "LayoutModel",
      "state": {}
     },
     "61c49b372b9e4c299374ff944bf4fe10": {
      "model_module": "@jupyter-widgets/controls",
      "model_module_version": "1.5.0",
      "model_name": "DescriptionStyleModel",
      "state": {
       "description_width": ""
      }
     },
     "61e19ec25ee54dd5944ca52d66109681": {
      "model_module": "@jupyter-widgets/base",
      "model_module_version": "1.2.0",
      "model_name": "LayoutModel",
      "state": {}
     },
     "61f36175013c4f238446803ee1adb462": {
      "model_module": "@jupyter-widgets/controls",
      "model_module_version": "1.5.0",
      "model_name": "HTMLModel",
      "state": {
       "layout": "IPY_MODEL_eccc914d23ac4eb490a4bd9266ff8601",
       "style": "IPY_MODEL_aa6ae90a29254ab8a096931f1dd2775a",
       "value": " 8760/8760 [00:29&lt;00:00, 299.54steps/s]"
      }
     },
     "623c62c99ffc45d589d08aeffd33162e": {
      "model_module": "@jupyter-widgets/controls",
      "model_module_version": "1.5.0",
      "model_name": "DescriptionStyleModel",
      "state": {
       "description_width": ""
      }
     },
     "6242c8c4e74a48c08098d2a9be5bfac7": {
      "model_module": "@jupyter-widgets/controls",
      "model_module_version": "1.5.0",
      "model_name": "FloatProgressModel",
      "state": {
       "description": "Run 123 of 156 [PID: 72832]:  45%",
       "layout": "IPY_MODEL_a5c189dd276b4587bc54ac3e2e4e801e",
       "max": 175320,
       "style": "IPY_MODEL_540c240b59b6498eb98bf26fe666a6ed",
       "value": 78953
      }
     },
     "6244f0e4b97646a5bc4d804c97b25100": {
      "model_module": "@jupyter-widgets/base",
      "model_module_version": "1.2.0",
      "model_name": "LayoutModel",
      "state": {}
     },
     "6251da12e6c04cba9475d535f8a5d44a": {
      "model_module": "@jupyter-widgets/controls",
      "model_module_version": "1.5.0",
      "model_name": "HBoxModel",
      "state": {
       "children": [
        "IPY_MODEL_e581165f57914f1087bb24e243c4ef96",
        "IPY_MODEL_5bf13a7d5c4d43b2958cd07ea6200a3a"
       ],
       "layout": "IPY_MODEL_ada7c304bea04fa98083f2992beaed37"
      }
     },
     "625e17df81044d1ebe1644f39c57b566": {
      "model_module": "@jupyter-widgets/base",
      "model_module_version": "1.2.0",
      "model_name": "LayoutModel",
      "state": {}
     },
     "6264cea9e8df4733a4eaf0471e2cda60": {
      "model_module": "@jupyter-widgets/controls",
      "model_module_version": "1.5.0",
      "model_name": "DescriptionStyleModel",
      "state": {
       "description_width": ""
      }
     },
     "6289f0e14a304898b551bab57e70c60f": {
      "model_module": "@jupyter-widgets/controls",
      "model_module_version": "1.5.0",
      "model_name": "ProgressStyleModel",
      "state": {
       "description_width": "initial"
      }
     },
     "6290e4da9262402d837e7b387f8f7c71": {
      "model_module": "@jupyter-widgets/base",
      "model_module_version": "1.2.0",
      "model_name": "LayoutModel",
      "state": {}
     },
     "62951eea8f6740d39c0cb60ba9e80709": {
      "model_module": "@jupyter-widgets/controls",
      "model_module_version": "1.5.0",
      "model_name": "FloatProgressModel",
      "state": {
       "bar_style": "success",
       "description": "Run 22 of 156 [PID: 21988]: 100%",
       "layout": "IPY_MODEL_e3245ccde9aa4655a2acb4e1986e72fe",
       "max": 8760,
       "style": "IPY_MODEL_aac825c11abb482c9503bc1fac6d3eb0",
       "value": 8760
      }
     },
     "629ec84f377d44e991f8b43ad7b0695c": {
      "model_module": "@jupyter-widgets/controls",
      "model_module_version": "1.5.0",
      "model_name": "DescriptionStyleModel",
      "state": {
       "description_width": ""
      }
     },
     "62a5f6a7479c47a293bab8326ec62839": {
      "model_module": "@jupyter-widgets/controls",
      "model_module_version": "1.5.0",
      "model_name": "DescriptionStyleModel",
      "state": {
       "description_width": ""
      }
     },
     "62ab427b9c494bdb9c20b0036a268eca": {
      "model_module": "@jupyter-widgets/base",
      "model_module_version": "1.2.0",
      "model_name": "LayoutModel",
      "state": {}
     },
     "62cc5238af8d4583ba54813efa2fe146": {
      "model_module": "@jupyter-widgets/controls",
      "model_module_version": "1.5.0",
      "model_name": "DescriptionStyleModel",
      "state": {
       "description_width": ""
      }
     },
     "62e04d08e9324535990d70a59f3ada83": {
      "model_module": "@jupyter-widgets/controls",
      "model_module_version": "1.5.0",
      "model_name": "HBoxModel",
      "state": {
       "children": [
        "IPY_MODEL_ae680c584e5e4c17bc8a14e09e184381",
        "IPY_MODEL_6094850243464d92b708b07f176c5dc0"
       ],
       "layout": "IPY_MODEL_4a5522f311fb4bf3bbc245453503ab3b"
      }
     },
     "62f65f4d4c5f42fca64c63d933b2aab7": {
      "model_module": "@jupyter-widgets/controls",
      "model_module_version": "1.5.0",
      "model_name": "ProgressStyleModel",
      "state": {
       "description_width": "initial"
      }
     },
     "6309604ffc2d4499a6ca7007cdf4e7ab": {
      "model_module": "@jupyter-widgets/controls",
      "model_module_version": "1.5.0",
      "model_name": "HBoxModel",
      "state": {
       "children": [
        "IPY_MODEL_ed9340d7b4a84b1581daa8f073161590",
        "IPY_MODEL_aae222a0f884456589425d37593b61b2"
       ],
       "layout": "IPY_MODEL_8a836b6f2d5c47e8878966445bfe968b"
      }
     },
     "6318321e2cba4f1f94abb6c2839af40a": {
      "model_module": "@jupyter-widgets/controls",
      "model_module_version": "1.5.0",
      "model_name": "DescriptionStyleModel",
      "state": {
       "description_width": ""
      }
     },
     "633b4ac92f284f4ab98dda83d4956dfc": {
      "model_module": "@jupyter-widgets/controls",
      "model_module_version": "1.5.0",
      "model_name": "FloatProgressModel",
      "state": {
       "bar_style": "success",
       "description": "Run 44 of 156 [PID: 21988]: 100%",
       "layout": "IPY_MODEL_a549debcb0734ff9bda6f3aff223b5d7",
       "max": 8760,
       "style": "IPY_MODEL_31adf98536014db68004269c64c15c96",
       "value": 8760
      }
     },
     "6350fe1ef8cc47e4b4e1fbb9330a9e77": {
      "model_module": "@jupyter-widgets/controls",
      "model_module_version": "1.5.0",
      "model_name": "FloatProgressModel",
      "state": {
       "description": "Run 74 of 156 [PID: 72860]:  53%",
       "layout": "IPY_MODEL_24938d1ae59a41928910e5212915ee5b",
       "max": 175320,
       "style": "IPY_MODEL_7bf24c8d89dd447a9220d995c3d14ff6",
       "value": 92133
      }
     },
     "635221813c674a2d935df990b23d0f98": {
      "model_module": "@jupyter-widgets/base",
      "model_module_version": "1.2.0",
      "model_name": "LayoutModel",
      "state": {}
     },
     "637d2095afd344928f83db6457ec1fb8": {
      "model_module": "@jupyter-widgets/controls",
      "model_module_version": "1.5.0",
      "model_name": "ProgressStyleModel",
      "state": {
       "description_width": "initial"
      }
     },
     "63d082bf3dfb432dbb4523b538672df2": {
      "model_module": "@jupyter-widgets/base",
      "model_module_version": "1.2.0",
      "model_name": "LayoutModel",
      "state": {}
     },
     "63d3d518dd6d4fe79973a6f741a6dde9": {
      "model_module": "@jupyter-widgets/controls",
      "model_module_version": "1.5.0",
      "model_name": "DescriptionStyleModel",
      "state": {
       "description_width": ""
      }
     },
     "63d5bf8e1dc847f48f42786f43e530b4": {
      "model_module": "@jupyter-widgets/controls",
      "model_module_version": "1.5.0",
      "model_name": "HTMLModel",
      "state": {
       "layout": "IPY_MODEL_586d209de9e94c59b8d76d960ef62020",
       "style": "IPY_MODEL_b6fdd563552346348306bd49e0475330",
       "value": " 8760/8760 [00:29&lt;00:00, 297.98steps/s]"
      }
     },
     "63f236d751ab4beab8c0155f7d53dab9": {
      "model_module": "@jupyter-widgets/controls",
      "model_module_version": "1.5.0",
      "model_name": "FloatProgressModel",
      "state": {
       "description": "Run 84 of 156 [PID: 72842]:  45%",
       "layout": "IPY_MODEL_fbb1c767c0ed41af829e7aa0a44c44be",
       "max": 175320,
       "style": "IPY_MODEL_d3aacc14d5ab460c9cc0a687516f0928",
       "value": 79083
      }
     },
     "63f583ee84fa4460917ebb996b50abdb": {
      "model_module": "@jupyter-widgets/controls",
      "model_module_version": "1.5.0",
      "model_name": "DescriptionStyleModel",
      "state": {
       "description_width": ""
      }
     },
     "6408cad4ccca47eab5081215c9e4c6b4": {
      "model_module": "@jupyter-widgets/base",
      "model_module_version": "1.2.0",
      "model_name": "LayoutModel",
      "state": {}
     },
     "640a36668cb541c882db6ebc31476a20": {
      "model_module": "@jupyter-widgets/controls",
      "model_module_version": "1.5.0",
      "model_name": "DescriptionStyleModel",
      "state": {
       "description_width": ""
      }
     },
     "642af78d9b73488d8bfff03e49bb2be7": {
      "model_module": "@jupyter-widgets/base",
      "model_module_version": "1.2.0",
      "model_name": "LayoutModel",
      "state": {}
     },
     "64309fc0aebb42039c9deebb3aeb3315": {
      "model_module": "@jupyter-widgets/controls",
      "model_module_version": "1.5.0",
      "model_name": "ProgressStyleModel",
      "state": {
       "description_width": "initial"
      }
     },
     "645a2bd0d4b24dba972763a541ef497c": {
      "model_module": "@jupyter-widgets/controls",
      "model_module_version": "1.5.0",
      "model_name": "HTMLModel",
      "state": {
       "layout": "IPY_MODEL_e505964305b045c8b78cfe4bdef33598",
       "style": "IPY_MODEL_0f48e0c2885040e1a78787c695f59621",
       "value": " 590/8760 [00:02&lt;00:29, 278.09steps/s]"
      }
     },
     "646dc4ca0604460485c6ec1239e3406f": {
      "model_module": "@jupyter-widgets/controls",
      "model_module_version": "1.5.0",
      "model_name": "FloatProgressModel",
      "state": {
       "description": "Run 112 of 156 [PID: 72847]:  48%",
       "layout": "IPY_MODEL_ce6997ab75d945aa8ff449484b662ee0",
       "max": 175320,
       "style": "IPY_MODEL_b4453451797a486d84b6fbc2b4ef27c2",
       "value": 83407
      }
     },
     "646fdefcf8de49d9b3ab417f2621fd73": {
      "model_module": "@jupyter-widgets/controls",
      "model_module_version": "1.5.0",
      "model_name": "ProgressStyleModel",
      "state": {
       "description_width": "initial"
      }
     },
     "6475c8d0107e4c33b8ced0710e28b79e": {
      "model_module": "@jupyter-widgets/base",
      "model_module_version": "1.2.0",
      "model_name": "LayoutModel",
      "state": {}
     },
     "64796c1bebab4b6986fa808d98e68263": {
      "model_module": "@jupyter-widgets/base",
      "model_module_version": "1.2.0",
      "model_name": "LayoutModel",
      "state": {}
     },
     "649053432f53476a83fdc36028159fb8": {
      "model_module": "@jupyter-widgets/controls",
      "model_module_version": "1.5.0",
      "model_name": "ProgressStyleModel",
      "state": {
       "description_width": "initial"
      }
     },
     "64a79b259b87435aa02c270a3f775e1b": {
      "model_module": "@jupyter-widgets/base",
      "model_module_version": "1.2.0",
      "model_name": "LayoutModel",
      "state": {}
     },
     "64b06a1456a8403ba3a430b3b3b2ce1b": {
      "model_module": "@jupyter-widgets/base",
      "model_module_version": "1.2.0",
      "model_name": "LayoutModel",
      "state": {}
     },
     "64b1c6e58b3b458c8d2921c753a3d393": {
      "model_module": "@jupyter-widgets/controls",
      "model_module_version": "1.5.0",
      "model_name": "ProgressStyleModel",
      "state": {
       "description_width": "initial"
      }
     },
     "64c1a8d242804991988a421168e8c826": {
      "model_module": "@jupyter-widgets/base",
      "model_module_version": "1.2.0",
      "model_name": "LayoutModel",
      "state": {}
     },
     "64d70ddcf2dd419cb0cfbce31e8a3c40": {
      "model_module": "@jupyter-widgets/controls",
      "model_module_version": "1.5.0",
      "model_name": "DescriptionStyleModel",
      "state": {
       "description_width": ""
      }
     },
     "64dff86c54b94cf996c0c6c27769e007": {
      "model_module": "@jupyter-widgets/base",
      "model_module_version": "1.2.0",
      "model_name": "LayoutModel",
      "state": {}
     },
     "64e47b7b6681453da8eebc8e4e49117a": {
      "model_module": "@jupyter-widgets/controls",
      "model_module_version": "1.5.0",
      "model_name": "HBoxModel",
      "state": {
       "children": [
        "IPY_MODEL_2d4f91cbb07f4875af872e14c44f1e10",
        "IPY_MODEL_20d2f1b4950d4468af69f3fe61ba566f"
       ],
       "layout": "IPY_MODEL_205306126e9d4b518d44aad79bd5e19c"
      }
     },
     "64e9f9922dba47da815b7012d05973fe": {
      "model_module": "@jupyter-widgets/controls",
      "model_module_version": "1.5.0",
      "model_name": "HTMLModel",
      "state": {
       "layout": "IPY_MODEL_70cc2dddaa0b47f98dbb3d0c04d7f6cb",
       "style": "IPY_MODEL_0875cc648a7e490983d9dc0465920166",
       "value": " 101199/175320 [3:53:58&lt;4:39:01,  4.43steps/s]"
      }
     },
     "64ee31750d4243d5a311a869abb0c131": {
      "model_module": "@jupyter-widgets/base",
      "model_module_version": "1.2.0",
      "model_name": "LayoutModel",
      "state": {}
     },
     "64f366b68b0c409e94303cf2b37ab017": {
      "model_module": "@jupyter-widgets/base",
      "model_module_version": "1.2.0",
      "model_name": "LayoutModel",
      "state": {}
     },
     "6513b8db354e4288a41d534cb695bb5d": {
      "model_module": "@jupyter-widgets/base",
      "model_module_version": "1.2.0",
      "model_name": "LayoutModel",
      "state": {}
     },
     "6563aabed3d449efa1d42475bbbba8a8": {
      "model_module": "@jupyter-widgets/controls",
      "model_module_version": "1.5.0",
      "model_name": "ProgressStyleModel",
      "state": {
       "description_width": "initial"
      }
     },
     "6568d4a47d3f47f29ec1862fa4e3b567": {
      "model_module": "@jupyter-widgets/controls",
      "model_module_version": "1.5.0",
      "model_name": "HBoxModel",
      "state": {
       "children": [
        "IPY_MODEL_13693d3382b34e06aa6087eaff961140",
        "IPY_MODEL_ed03213e2fa8466298848a09ef7de7f0"
       ],
       "layout": "IPY_MODEL_98d22a2a7da9470dae958e973e20c61d"
      }
     },
     "65a991fb26f44d819bc7ef3786f6af61": {
      "model_module": "@jupyter-widgets/base",
      "model_module_version": "1.2.0",
      "model_name": "LayoutModel",
      "state": {}
     },
     "65d8f20cec9943cfa6553874e1770ba8": {
      "model_module": "@jupyter-widgets/base",
      "model_module_version": "1.2.0",
      "model_name": "LayoutModel",
      "state": {}
     },
     "65e0f1e7f9894f6eab57c2289abb1662": {
      "model_module": "@jupyter-widgets/controls",
      "model_module_version": "1.5.0",
      "model_name": "DescriptionStyleModel",
      "state": {
       "description_width": ""
      }
     },
     "65e89034913e4b078a25dd6f6f4d39b3": {
      "model_module": "@jupyter-widgets/controls",
      "model_module_version": "1.5.0",
      "model_name": "FloatProgressModel",
      "state": {
       "bar_style": "success",
       "description": "100%",
       "layout": "IPY_MODEL_7867d9c5acd34f8c9d530b20e5db8d0a",
       "max": 8760,
       "style": "IPY_MODEL_d8c5d48db2e14b0d9c09de5170e191c0",
       "value": 8760
      }
     },
     "65f8cdec934c4581b959246949fbc96f": {
      "model_module": "@jupyter-widgets/base",
      "model_module_version": "1.2.0",
      "model_name": "LayoutModel",
      "state": {}
     },
     "6608a3e4c4a343cbba819c092db78960": {
      "model_module": "@jupyter-widgets/base",
      "model_module_version": "1.2.0",
      "model_name": "LayoutModel",
      "state": {}
     },
     "660ea934d071413a95c2bfc187bb5bc6": {
      "model_module": "@jupyter-widgets/base",
      "model_module_version": "1.2.0",
      "model_name": "LayoutModel",
      "state": {}
     },
     "6615c244c5284557a8d098512a40eeed": {
      "model_module": "@jupyter-widgets/base",
      "model_module_version": "1.2.0",
      "model_name": "LayoutModel",
      "state": {}
     },
     "66613eadcac645f080058ff4053dd710": {
      "model_module": "@jupyter-widgets/controls",
      "model_module_version": "1.5.0",
      "model_name": "DescriptionStyleModel",
      "state": {
       "description_width": ""
      }
     },
     "66965ebe6c7e4005b3769af9ee3bb6a6": {
      "model_module": "@jupyter-widgets/controls",
      "model_module_version": "1.5.0",
      "model_name": "HTMLModel",
      "state": {
       "layout": "IPY_MODEL_079c8a9ec2eb4f7caa3c0ea74289dcf8",
       "style": "IPY_MODEL_f7e848e79895452fa4a3e6e3edcbfdbd",
       "value": " 8760/8760 [00:29&lt;00:00, 292.18steps/s]"
      }
     },
     "66d6ed2033414cadac3644caffbdfe2b": {
      "model_module": "@jupyter-widgets/controls",
      "model_module_version": "1.5.0",
      "model_name": "ProgressStyleModel",
      "state": {
       "description_width": "initial"
      }
     },
     "66d80b685a9d45cfb3109901611ba26c": {
      "model_module": "@jupyter-widgets/base",
      "model_module_version": "1.2.0",
      "model_name": "LayoutModel",
      "state": {}
     },
     "66dfcea7c3014988a19c9284b9703ef1": {
      "model_module": "@jupyter-widgets/controls",
      "model_module_version": "1.5.0",
      "model_name": "DescriptionStyleModel",
      "state": {
       "description_width": ""
      }
     },
     "66e897f2f617493fb0b986beb7269720": {
      "model_module": "@jupyter-widgets/base",
      "model_module_version": "1.2.0",
      "model_name": "LayoutModel",
      "state": {}
     },
     "66e92ebceb274afbbe86d8b2949ba095": {
      "model_module": "@jupyter-widgets/base",
      "model_module_version": "1.2.0",
      "model_name": "LayoutModel",
      "state": {}
     },
     "671f3b62ae734b10a4e1c58df01461a8": {
      "model_module": "@jupyter-widgets/base",
      "model_module_version": "1.2.0",
      "model_name": "LayoutModel",
      "state": {}
     },
     "674f5f062da04482930258355bfd9115": {
      "model_module": "@jupyter-widgets/base",
      "model_module_version": "1.2.0",
      "model_name": "LayoutModel",
      "state": {}
     },
     "6757653415d9465eb131e1aedf45be8f": {
      "model_module": "@jupyter-widgets/base",
      "model_module_version": "1.2.0",
      "model_name": "LayoutModel",
      "state": {}
     },
     "678b53657f6540f2a02ad2d886cf2bf1": {
      "model_module": "@jupyter-widgets/controls",
      "model_module_version": "1.5.0",
      "model_name": "HTMLModel",
      "state": {
       "layout": "IPY_MODEL_a4761f1dfb6e4eb0ab86e856034a87a7",
       "style": "IPY_MODEL_036c3ed80a2f4af0aa2fd45f0a435fa5",
       "value": " 8760/8760 [00:31&lt;00:00, 278.83steps/s]"
      }
     },
     "67951b7acf4141f0af852ff76dc64564": {
      "model_module": "@jupyter-widgets/controls",
      "model_module_version": "1.5.0",
      "model_name": "HTMLModel",
      "state": {
       "layout": "IPY_MODEL_69a5be77f252439db8b6dbef3f084c05",
       "style": "IPY_MODEL_2c8b9f98a1294f969cc089f867cac95a",
       "value": " 92133/175320 [3:45:00&lt;5:16:57,  4.37steps/s]"
      }
     },
     "67a38db0d7f04fdf85b29919cc7979fd": {
      "model_module": "@jupyter-widgets/base",
      "model_module_version": "1.2.0",
      "model_name": "LayoutModel",
      "state": {}
     },
     "67af87aff6a445e8a0959e2d55eca14d": {
      "model_module": "@jupyter-widgets/controls",
      "model_module_version": "1.5.0",
      "model_name": "FloatProgressModel",
      "state": {
       "bar_style": "danger",
       "description": "poop:  11%",
       "layout": "IPY_MODEL_d7dada78367a4c788fe5734fa4d7fc55",
       "max": 8760,
       "style": "IPY_MODEL_975924443dec41e4915369096ba3921e",
       "value": 982
      }
     },
     "67d7434c0d2d42f2bb1c81a118abf254": {
      "model_module": "@jupyter-widgets/base",
      "model_module_version": "1.2.0",
      "model_name": "LayoutModel",
      "state": {}
     },
     "6827ed01da3c40238f65770d0a5efef7": {
      "model_module": "@jupyter-widgets/controls",
      "model_module_version": "1.5.0",
      "model_name": "DescriptionStyleModel",
      "state": {
       "description_width": ""
      }
     },
     "684c84e6f7e44aceb32c2e8fc865d63f": {
      "model_module": "@jupyter-widgets/base",
      "model_module_version": "1.2.0",
      "model_name": "LayoutModel",
      "state": {}
     },
     "6857c8916f0840198316cc5b0a8b64c7": {
      "model_module": "@jupyter-widgets/controls",
      "model_module_version": "1.5.0",
      "model_name": "DescriptionStyleModel",
      "state": {
       "description_width": ""
      }
     },
     "6870d76121ef4978a4ab19addabddc75": {
      "model_module": "@jupyter-widgets/controls",
      "model_module_version": "1.5.0",
      "model_name": "FloatProgressModel",
      "state": {
       "bar_style": "danger",
       "description": "poop:  66%",
       "layout": "IPY_MODEL_ed1ce41cb5bb4ed2a842784fdfc89f68",
       "max": 8760,
       "style": "IPY_MODEL_81fa1b83f60345ee8d6391a9fe0ed9c1",
       "value": 5764
      }
     },
     "68763acd59f1426c9f4779fe296eea54": {
      "model_module": "@jupyter-widgets/base",
      "model_module_version": "1.2.0",
      "model_name": "LayoutModel",
      "state": {}
     },
     "689a227196974e8eb38bec96fdea6ea8": {
      "model_module": "@jupyter-widgets/base",
      "model_module_version": "1.2.0",
      "model_name": "LayoutModel",
      "state": {}
     },
     "68ac71b52dfd44be91cbaa9eae2c27af": {
      "model_module": "@jupyter-widgets/controls",
      "model_module_version": "1.5.0",
      "model_name": "FloatProgressModel",
      "state": {
       "description": "Run 79 of 156 [PID: 72855]:  54%",
       "layout": "IPY_MODEL_b370b3fab61e4a8eab82c5cfacba5e97",
       "max": 175320,
       "style": "IPY_MODEL_34c55e8317e44c768f1d74df315084c2",
       "value": 93832
      }
     },
     "68b7a6dea8714b8a97e4bc0049384c15": {
      "model_module": "@jupyter-widgets/base",
      "model_module_version": "1.2.0",
      "model_name": "LayoutModel",
      "state": {}
     },
     "68da3e6f41f94a899a79ec38c91b20a4": {
      "model_module": "@jupyter-widgets/controls",
      "model_module_version": "1.5.0",
      "model_name": "FloatProgressModel",
      "state": {
       "bar_style": "success",
       "description": "poop: 100%",
       "layout": "IPY_MODEL_93d60a1193e5405b991949ccf5c63fdf",
       "max": 8760,
       "style": "IPY_MODEL_aaa0855d35e64dab91a5b9103f78f3f5",
       "value": 8760
      }
     },
     "68df8bf811a347908a50b7b8cad99535": {
      "model_module": "@jupyter-widgets/base",
      "model_module_version": "1.2.0",
      "model_name": "LayoutModel",
      "state": {}
     },
     "68dfeb67cdf543c8925b1032ff068012": {
      "model_module": "@jupyter-widgets/controls",
      "model_module_version": "1.5.0",
      "model_name": "HTMLModel",
      "state": {
       "layout": "IPY_MODEL_b3bd334d7842489982de29ff61fe7243",
       "style": "IPY_MODEL_e4e39207b38047a0bcf6784f299b27f6",
       "value": " 90748/175320 [3:41:09&lt;6:54:21,  3.40steps/s]"
      }
     },
     "68f8ceedfa4a4396a5cf3a15ed9eb32e": {
      "model_module": "@jupyter-widgets/base",
      "model_module_version": "1.2.0",
      "model_name": "LayoutModel",
      "state": {}
     },
     "69074fa1f656494798d415608797ac79": {
      "model_module": "@jupyter-widgets/base",
      "model_module_version": "1.2.0",
      "model_name": "LayoutModel",
      "state": {}
     },
     "690a126d68774866b2e1eadbdbc1f08a": {
      "model_module": "@jupyter-widgets/base",
      "model_module_version": "1.2.0",
      "model_name": "LayoutModel",
      "state": {}
     },
     "69219d80299f4c1ba8b67596a83a9da0": {
      "model_module": "@jupyter-widgets/controls",
      "model_module_version": "1.5.0",
      "model_name": "ProgressStyleModel",
      "state": {
       "description_width": "initial"
      }
     },
     "6940d328307e47d1950a3c8ee82e82a4": {
      "model_module": "@jupyter-widgets/controls",
      "model_module_version": "1.5.0",
      "model_name": "HBoxModel",
      "state": {
       "children": [
        "IPY_MODEL_1bb71d894f5d476f9ca1a4880875e627",
        "IPY_MODEL_ceb01c9219884776a9350413233d3e6e"
       ],
       "layout": "IPY_MODEL_5a622ae50a514f6f8b536accb04a0ee5"
      }
     },
     "695527876f874d8d88df6e3846784530": {
      "model_module": "@jupyter-widgets/controls",
      "model_module_version": "1.5.0",
      "model_name": "HTMLModel",
      "state": {
       "layout": "IPY_MODEL_48bc11465a9e4bac84e7f8e6f6ec6be2",
       "style": "IPY_MODEL_77abf782e816450ba7c8a3e18070fa88",
       "value": " 907/8760 [00:03&lt;00:27, 281.64steps/s]"
      }
     },
     "6976f1f398c84b9d8796cf2005c2b734": {
      "model_module": "@jupyter-widgets/controls",
      "model_module_version": "1.5.0",
      "model_name": "ProgressStyleModel",
      "state": {
       "description_width": "initial"
      }
     },
     "698d6c5d92404349bdc1565d8603d3d7": {
      "model_module": "@jupyter-widgets/controls",
      "model_module_version": "1.5.0",
      "model_name": "HBoxModel",
      "state": {
       "children": [
        "IPY_MODEL_68da3e6f41f94a899a79ec38c91b20a4",
        "IPY_MODEL_5dd03aa5a02840bdb231cba0e3ac4715"
       ],
       "layout": "IPY_MODEL_d2d4987556704b03b1389ea24d3f0340"
      }
     },
     "6996412660664155ab6a2360186a73cf": {
      "model_module": "@jupyter-widgets/controls",
      "model_module_version": "1.5.0",
      "model_name": "HTMLModel",
      "state": {
       "layout": "IPY_MODEL_ae5713f96c3b401f93656a980482bab5",
       "style": "IPY_MODEL_1a8dd3dd00154b05820285a1a7339317",
       "value": " 8760/8760 [03:04&lt;00:00, 47.59steps/s]"
      }
     },
     "69a5be77f252439db8b6dbef3f084c05": {
      "model_module": "@jupyter-widgets/base",
      "model_module_version": "1.2.0",
      "model_name": "LayoutModel",
      "state": {}
     },
     "69ad1e4f40834d6da8d926820ce18f51": {
      "model_module": "@jupyter-widgets/controls",
      "model_module_version": "1.5.0",
      "model_name": "DescriptionStyleModel",
      "state": {
       "description_width": ""
      }
     },
     "69c095a9061b410d95f4240016b30fd2": {
      "model_module": "@jupyter-widgets/controls",
      "model_module_version": "1.5.0",
      "model_name": "HBoxModel",
      "state": {
       "children": [
        "IPY_MODEL_46f338d79e7042a28774b4140921d186",
        "IPY_MODEL_b9055a7b29b34bb4a5784161bad4b33b"
       ],
       "layout": "IPY_MODEL_b3bcf167897e45f3897aef8b204b5275"
      }
     },
     "69c9dcc445ec404294024173e161afa3": {
      "model_module": "@jupyter-widgets/controls",
      "model_module_version": "1.5.0",
      "model_name": "ProgressStyleModel",
      "state": {
       "description_width": "initial"
      }
     },
     "69d3f9801b8d4f85bcf9f6a19ec1ed6a": {
      "model_module": "@jupyter-widgets/base",
      "model_module_version": "1.2.0",
      "model_name": "LayoutModel",
      "state": {}
     },
     "6a228ba277a941dab1bdf0e8ff765b4e": {
      "model_module": "@jupyter-widgets/base",
      "model_module_version": "1.2.0",
      "model_name": "LayoutModel",
      "state": {}
     },
     "6a3023f2e6994366a4903ade25edb466": {
      "model_module": "@jupyter-widgets/base",
      "model_module_version": "1.2.0",
      "model_name": "LayoutModel",
      "state": {}
     },
     "6a4a34bb35014df68cb6173e65a7b22b": {
      "model_module": "@jupyter-widgets/controls",
      "model_module_version": "1.5.0",
      "model_name": "HBoxModel",
      "state": {
       "children": [
        "IPY_MODEL_21106427ea8e48338fb749708be1e852",
        "IPY_MODEL_ccac101058b948d19dc4e37a022c852d"
       ],
       "layout": "IPY_MODEL_1ad1579fa5c944a898785acb5e61074e"
      }
     },
     "6a53f72efed2440ebc17beda62495968": {
      "model_module": "@jupyter-widgets/controls",
      "model_module_version": "1.5.0",
      "model_name": "HBoxModel",
      "state": {
       "children": [
        "IPY_MODEL_ad0a0e501d97456d971ebdfa4703269d",
        "IPY_MODEL_4b55151fb7a349e382c57381df704ae7"
       ],
       "layout": "IPY_MODEL_59b2e37aa760422aa8ba4685777539bb"
      }
     },
     "6a59edfb9c034865ae3f566f037f5198": {
      "model_module": "@jupyter-widgets/controls",
      "model_module_version": "1.5.0",
      "model_name": "DescriptionStyleModel",
      "state": {
       "description_width": ""
      }
     },
     "6a5de93b8adc4b97a577f3505e57dd4f": {
      "model_module": "@jupyter-widgets/controls",
      "model_module_version": "1.5.0",
      "model_name": "ProgressStyleModel",
      "state": {
       "description_width": "initial"
      }
     },
     "6a7b779f94e84e9ebb490f869cc54c1d": {
      "model_module": "@jupyter-widgets/controls",
      "model_module_version": "1.5.0",
      "model_name": "HTMLModel",
      "state": {
       "layout": "IPY_MODEL_a358159d4db44ed0bcef8ee646472896",
       "style": "IPY_MODEL_26dd18fcbe99429c903835280ec9a2e0",
       "value": " 5783/8760 [00:20&lt;00:11, 260.08steps/s]"
      }
     },
     "6a993e0ffba44c3e96e6a4d38a157c85": {
      "model_module": "@jupyter-widgets/base",
      "model_module_version": "1.2.0",
      "model_name": "LayoutModel",
      "state": {}
     },
     "6aa530c446424bd68229bcc5dd770cd5": {
      "model_module": "@jupyter-widgets/controls",
      "model_module_version": "1.5.0",
      "model_name": "ProgressStyleModel",
      "state": {
       "description_width": "initial"
      }
     },
     "6aad24b1bdf94b159a7a24f9b673257d": {
      "model_module": "@jupyter-widgets/controls",
      "model_module_version": "1.5.0",
      "model_name": "HTMLModel",
      "state": {
       "layout": "IPY_MODEL_c4c143fb5d624442b6aa4167a1d5411c",
       "style": "IPY_MODEL_5f41d289c8b949f895ff1d4069ad0ea7",
       "value": " 8760/8760 [00:30&lt;00:00, 286.87steps/s]"
      }
     },
     "6aad80a8164a4509b1fa72f5829d6c26": {
      "model_module": "@jupyter-widgets/controls",
      "model_module_version": "1.5.0",
      "model_name": "HBoxModel",
      "state": {
       "children": [
        "IPY_MODEL_d5146cb0efcc4a68aaead177eb4f9970",
        "IPY_MODEL_571ae18d44704c768499b776d01097ba"
       ],
       "layout": "IPY_MODEL_a22d941e75134eaaa0177a142f8e331d"
      }
     },
     "6ac33a6f9cb84919ac73249de7ec0180": {
      "model_module": "@jupyter-widgets/base",
      "model_module_version": "1.2.0",
      "model_name": "LayoutModel",
      "state": {}
     },
     "6ada41b0215b4e759a2b478a7b9faf58": {
      "model_module": "@jupyter-widgets/base",
      "model_module_version": "1.2.0",
      "model_name": "LayoutModel",
      "state": {}
     },
     "6adfb1c389bf4a0f9be4a6e66f569cf6": {
      "model_module": "@jupyter-widgets/controls",
      "model_module_version": "1.5.0",
      "model_name": "HTMLModel",
      "state": {
       "layout": "IPY_MODEL_6b66c152a4a74c1a9e291ccb45535412",
       "style": "IPY_MODEL_5d12dff6514242b6a2c14b9b0691c850",
       "value": " 1540/8760 [00:05&lt;00:25, 278.72steps/s]"
      }
     },
     "6b15932e526e4bedbf88a8d9be004b03": {
      "model_module": "@jupyter-widgets/controls",
      "model_module_version": "1.5.0",
      "model_name": "HTMLModel",
      "state": {
       "layout": "IPY_MODEL_65d8f20cec9943cfa6553874e1770ba8",
       "style": "IPY_MODEL_2ca5999ce9fe4936bd699885f14a7268",
       "value": " 8760/8760 [00:30&lt;00:00, 286.90steps/s]"
      }
     },
     "6b3ea33d339b4bb693869ab55231c250": {
      "model_module": "@jupyter-widgets/controls",
      "model_module_version": "1.5.0",
      "model_name": "HTMLModel",
      "state": {
       "layout": "IPY_MODEL_b41bca3a4a5749789617811cdc787b4d",
       "style": "IPY_MODEL_29c786c88303427bbdb78957360154db",
       "value": " 8760/8760 [00:30&lt;00:00, 284.32steps/s]"
      }
     },
     "6b5c725938c242019c5c8c436e269fba": {
      "model_module": "@jupyter-widgets/controls",
      "model_module_version": "1.5.0",
      "model_name": "ProgressStyleModel",
      "state": {
       "description_width": "initial"
      }
     },
     "6b66c152a4a74c1a9e291ccb45535412": {
      "model_module": "@jupyter-widgets/base",
      "model_module_version": "1.2.0",
      "model_name": "LayoutModel",
      "state": {}
     },
     "6b847e7a0114469396a693cbf0612291": {
      "model_module": "@jupyter-widgets/controls",
      "model_module_version": "1.5.0",
      "model_name": "ProgressStyleModel",
      "state": {
       "description_width": "initial"
      }
     },
     "6ba1bab897e844e1a46a53af44a2655b": {
      "model_module": "@jupyter-widgets/controls",
      "model_module_version": "1.5.0",
      "model_name": "FloatProgressModel",
      "state": {
       "bar_style": "danger",
       "description": "Run 25 of 390 [PID: 2308]:   7%",
       "layout": "IPY_MODEL_5ae580ab9d6248aa8f0ff006df5a9a7e",
       "max": 8760,
       "style": "IPY_MODEL_5758dfaebc3c46688025e5370e406ffa",
       "value": 590
      }
     },
     "6bba6d50279f4245a950447cae0446e2": {
      "model_module": "@jupyter-widgets/controls",
      "model_module_version": "1.5.0",
      "model_name": "ProgressStyleModel",
      "state": {
       "description_width": "initial"
      }
     },
     "6bd2c179ba774cb69d2f0c30ef1f47c8": {
      "model_module": "@jupyter-widgets/base",
      "model_module_version": "1.2.0",
      "model_name": "LayoutModel",
      "state": {}
     },
     "6bea2f3637b64d4dbff6b2d1e4844522": {
      "model_module": "@jupyter-widgets/base",
      "model_module_version": "1.2.0",
      "model_name": "LayoutModel",
      "state": {}
     },
     "6bf962a87a174658acb883290d99e5a4": {
      "model_module": "@jupyter-widgets/controls",
      "model_module_version": "1.5.0",
      "model_name": "DescriptionStyleModel",
      "state": {
       "description_width": ""
      }
     },
     "6c0a072ca61e4162ae863536266405b1": {
      "model_module": "@jupyter-widgets/base",
      "model_module_version": "1.2.0",
      "model_name": "LayoutModel",
      "state": {}
     },
     "6c1bdbe672f940e88ab483a493bebc27": {
      "model_module": "@jupyter-widgets/base",
      "model_module_version": "1.2.0",
      "model_name": "LayoutModel",
      "state": {}
     },
     "6c52527e961348bea02a75717b6e1f9b": {
      "model_module": "@jupyter-widgets/controls",
      "model_module_version": "1.5.0",
      "model_name": "ProgressStyleModel",
      "state": {
       "description_width": "initial"
      }
     },
     "6c592fd4d1044427ac8d08866df51f23": {
      "model_module": "@jupyter-widgets/base",
      "model_module_version": "1.2.0",
      "model_name": "LayoutModel",
      "state": {}
     },
     "6c6268b1f5d94ea7a61db35c2c25b8a5": {
      "model_module": "@jupyter-widgets/controls",
      "model_module_version": "1.5.0",
      "model_name": "HTMLModel",
      "state": {
       "layout": "IPY_MODEL_040012f183a845d3b1af8ecf94e19b3f",
       "style": "IPY_MODEL_8ce993477dff4adcb3d6b80eb2c41f65",
       "value": " 8760/8760 [00:29&lt;00:00, 292.18steps/s]"
      }
     },
     "6c65cd18e66c4eee82795dc233a8b3a4": {
      "model_module": "@jupyter-widgets/controls",
      "model_module_version": "1.5.0",
      "model_name": "ProgressStyleModel",
      "state": {
       "description_width": "initial"
      }
     },
     "6c663de7f4d345e98b3ad589167a9182": {
      "model_module": "@jupyter-widgets/controls",
      "model_module_version": "1.5.0",
      "model_name": "HBoxModel",
      "state": {
       "children": [
        "IPY_MODEL_0ef27c476f6842dfbcc6bda4a5e1bcfa",
        "IPY_MODEL_77095a024ab545758913adcbe706a165"
       ],
       "layout": "IPY_MODEL_796267226a944a419518f3cecbe4df57"
      }
     },
     "6c6aaee208cf42a289bf28c3d21da55e": {
      "model_module": "@jupyter-widgets/controls",
      "model_module_version": "1.5.0",
      "model_name": "FloatProgressModel",
      "state": {
       "bar_style": "danger",
       "description": "PID: 67940:  30%",
       "layout": "IPY_MODEL_1673c4bd131947ea841e5ed86e58fbc6",
       "max": 8760,
       "style": "IPY_MODEL_7724c53e50b54f07bfd247a844f0ccc9",
       "value": 2599
      }
     },
     "6cd2b96a0def4cec840317f409ff55c1": {
      "model_module": "@jupyter-widgets/controls",
      "model_module_version": "1.5.0",
      "model_name": "ProgressStyleModel",
      "state": {
       "description_width": "initial"
      }
     },
     "6cdcf82fa8574361acd2c54d2e0567a0": {
      "model_module": "@jupyter-widgets/controls",
      "model_module_version": "1.5.0",
      "model_name": "DescriptionStyleModel",
      "state": {
       "description_width": ""
      }
     },
     "6ce8f87cae92487980e0974b9eb8a2b2": {
      "model_module": "@jupyter-widgets/controls",
      "model_module_version": "1.5.0",
      "model_name": "DescriptionStyleModel",
      "state": {
       "description_width": ""
      }
     },
     "6ceddca85a7a4a1986f307180ee418ae": {
      "model_module": "@jupyter-widgets/base",
      "model_module_version": "1.2.0",
      "model_name": "LayoutModel",
      "state": {}
     },
     "6cf9e2b6c8ba454b893d77c9765f9ba0": {
      "model_module": "@jupyter-widgets/controls",
      "model_module_version": "1.5.0",
      "model_name": "ProgressStyleModel",
      "state": {
       "description_width": "initial"
      }
     },
     "6d0b2894223a4d5cafec78b6144ecd59": {
      "model_module": "@jupyter-widgets/controls",
      "model_module_version": "1.5.0",
      "model_name": "FloatProgressModel",
      "state": {
       "bar_style": "success",
       "description": "100%",
       "layout": "IPY_MODEL_1e89a8db86174a2ab44ecd81933f2f82",
       "max": 8760,
       "style": "IPY_MODEL_7f417e4d95ae42eb8709cfd2fd18ff84",
       "value": 8760
      }
     },
     "6d2bb2f9f6544b49817cce41696231c7": {
      "model_module": "@jupyter-widgets/controls",
      "model_module_version": "1.5.0",
      "model_name": "FloatProgressModel",
      "state": {
       "description": "Run 86 of 156 [PID: 72801]:  46%",
       "layout": "IPY_MODEL_924496ddcb6f4205873512c522125103",
       "max": 175320,
       "style": "IPY_MODEL_69c9dcc445ec404294024173e161afa3",
       "value": 81487
      }
     },
     "6d3e8c8fab674e60b8ac7a6a3834f463": {
      "model_module": "@jupyter-widgets/base",
      "model_module_version": "1.2.0",
      "model_name": "LayoutModel",
      "state": {}
     },
     "6d4f08ca76554e4e8bc633d07161f188": {
      "model_module": "@jupyter-widgets/base",
      "model_module_version": "1.2.0",
      "model_name": "LayoutModel",
      "state": {}
     },
     "6d706f2fca4940369adc36e84f3ef84a": {
      "model_module": "@jupyter-widgets/base",
      "model_module_version": "1.2.0",
      "model_name": "LayoutModel",
      "state": {}
     },
     "6d9e4e574eeb44c0a96da306fb5547b7": {
      "model_module": "@jupyter-widgets/base",
      "model_module_version": "1.2.0",
      "model_name": "LayoutModel",
      "state": {}
     },
     "6da04122b92141138fcb77584b3d7109": {
      "model_module": "@jupyter-widgets/controls",
      "model_module_version": "1.5.0",
      "model_name": "HTMLModel",
      "state": {
       "layout": "IPY_MODEL_040b7f7b6e7f4db68d559495349a5c72",
       "style": "IPY_MODEL_e4e44464d506490f81c0b0b7d71223b7",
       "value": " 69941/175320 [3:19:58&lt;7:11:15,  4.07steps/s]"
      }
     },
     "6dac9ef64124436688e93330aa349408": {
      "model_module": "@jupyter-widgets/base",
      "model_module_version": "1.2.0",
      "model_name": "LayoutModel",
      "state": {}
     },
     "6dbccf254657478aa82523fe89b0ee8e": {
      "model_module": "@jupyter-widgets/controls",
      "model_module_version": "1.5.0",
      "model_name": "HTMLModel",
      "state": {
       "layout": "IPY_MODEL_61ae179a6b1d4c6d9b46225bc8c0ad89",
       "style": "IPY_MODEL_77502e829842404db7c1feb8edbd52ac",
       "value": " 75417/175320 [3:24:57&lt;5:02:48,  5.50steps/s]"
      }
     },
     "6dc41113b85445009260fd5a979c974d": {
      "model_module": "@jupyter-widgets/controls",
      "model_module_version": "1.5.0",
      "model_name": "ProgressStyleModel",
      "state": {
       "description_width": "initial"
      }
     },
     "6dd84ff411ff452dafd4f41337484f48": {
      "model_module": "@jupyter-widgets/controls",
      "model_module_version": "1.5.0",
      "model_name": "ProgressStyleModel",
      "state": {
       "description_width": "initial"
      }
     },
     "6de4d814981c45d19c50e8eea6ea6a5e": {
      "model_module": "@jupyter-widgets/controls",
      "model_module_version": "1.5.0",
      "model_name": "FloatProgressModel",
      "state": {
       "bar_style": "success",
       "description": "100%",
       "layout": "IPY_MODEL_57d94371f00a45ffb249819ab27e60c9",
       "max": 8760,
       "style": "IPY_MODEL_00135a3da133452abba730c8ba17d2de",
       "value": 8760
      }
     },
     "6dfc0342a74e4bc58243765f11b7a714": {
      "model_module": "@jupyter-widgets/controls",
      "model_module_version": "1.5.0",
      "model_name": "HTMLModel",
      "state": {
       "layout": "IPY_MODEL_b0bc7afc95f14e29ae3f46a2cfb9e895",
       "style": "IPY_MODEL_7b79d3efe16e436e90ef0a2f76254e59",
       "value": " 8760/8760 [00:30&lt;00:00, 288.43steps/s]"
      }
     },
     "6e0c108e037947358cd882ec30a95a13": {
      "model_module": "@jupyter-widgets/controls",
      "model_module_version": "1.5.0",
      "model_name": "HBoxModel",
      "state": {
       "children": [
        "IPY_MODEL_afc8720587054eab92a873b26fd3d50f",
        "IPY_MODEL_3f11c313a5f9440fbe6f4f6a9305b36c"
       ],
       "layout": "IPY_MODEL_0314f054869844d390515c5f4203cbc0"
      }
     },
     "6e58dfc4059746d6809e9fe3c022502e": {
      "model_module": "@jupyter-widgets/base",
      "model_module_version": "1.2.0",
      "model_name": "LayoutModel",
      "state": {}
     },
     "6e8aab2e4586461da3e17f43da902a5e": {
      "model_module": "@jupyter-widgets/base",
      "model_module_version": "1.2.0",
      "model_name": "LayoutModel",
      "state": {}
     },
     "6e8f5ca9b81e454db89052c33e93ffad": {
      "model_module": "@jupyter-widgets/controls",
      "model_module_version": "1.5.0",
      "model_name": "FloatProgressModel",
      "state": {
       "bar_style": "success",
       "description": "100%",
       "layout": "IPY_MODEL_ef07f70a0647433fa980450daa97c1f2",
       "max": 8760,
       "style": "IPY_MODEL_412ef500c4d24484b96947509966d9d2",
       "value": 8760
      }
     },
     "6ea19926ead64b24b31d3175405e1931": {
      "model_module": "@jupyter-widgets/controls",
      "model_module_version": "1.5.0",
      "model_name": "FloatProgressModel",
      "state": {
       "bar_style": "success",
       "description": "Run 15 of 156 [PID: 21986]: 100%",
       "layout": "IPY_MODEL_88627f38a042463ba758ec066f53bfcb",
       "max": 8760,
       "style": "IPY_MODEL_4131fec247c0490f86157d9b0ab27c99",
       "value": 8760
      }
     },
     "6eaf15c0ba684d15af8698cad0416d50": {
      "model_module": "@jupyter-widgets/controls",
      "model_module_version": "1.5.0",
      "model_name": "HBoxModel",
      "state": {
       "children": [
        "IPY_MODEL_44b2ba11b9df4a12acb760d0a756292a",
        "IPY_MODEL_fc7ee6a2c4694c8e80e905533aa201d6"
       ],
       "layout": "IPY_MODEL_c9d3d1cb00a8423a9f1c94c1dbc5e8c6"
      }
     },
     "6eceb24708a2457bbe8da7546da4cceb": {
      "model_module": "@jupyter-widgets/base",
      "model_module_version": "1.2.0",
      "model_name": "LayoutModel",
      "state": {}
     },
     "6f421e575b084edd860145614494d825": {
      "model_module": "@jupyter-widgets/base",
      "model_module_version": "1.2.0",
      "model_name": "LayoutModel",
      "state": {}
     },
     "6f872c199a984129a5ff43f9b93e76a1": {
      "model_module": "@jupyter-widgets/base",
      "model_module_version": "1.2.0",
      "model_name": "LayoutModel",
      "state": {}
     },
     "6faa3919bb26496ab6402eed0d851eae": {
      "model_module": "@jupyter-widgets/base",
      "model_module_version": "1.2.0",
      "model_name": "LayoutModel",
      "state": {}
     },
     "6fb4b640f3074c9c9fc8ea95c9a2df34": {
      "model_module": "@jupyter-widgets/controls",
      "model_module_version": "1.5.0",
      "model_name": "HTMLModel",
      "state": {
       "layout": "IPY_MODEL_8df754afbfca415f88a381569bc7b53e",
       "style": "IPY_MODEL_4c6f6294fcaa4a3c9acf062c2c210aa4",
       "value": " 8760/8760 [00:31&lt;00:00, 277.47steps/s]"
      }
     },
     "6fbe21ca94c540e2bbafd66e7bedf5cc": {
      "model_module": "@jupyter-widgets/controls",
      "model_module_version": "1.5.0",
      "model_name": "HBoxModel",
      "state": {
       "children": [
        "IPY_MODEL_e03706d35a154f968aacb0473f9af1b5",
        "IPY_MODEL_df5c41721727419c9f0f4abf02da1559"
       ],
       "layout": "IPY_MODEL_b5bc0b526d68498c822f5daddbfdeb83"
      }
     },
     "6fdc85b843cf4fe7a0226b4a01100e9d": {
      "model_module": "@jupyter-widgets/controls",
      "model_module_version": "1.5.0",
      "model_name": "ProgressStyleModel",
      "state": {
       "description_width": "initial"
      }
     },
     "6fde9a6539754929a092536e7699fadb": {
      "model_module": "@jupyter-widgets/controls",
      "model_module_version": "1.5.0",
      "model_name": "HTMLModel",
      "state": {
       "layout": "IPY_MODEL_c4d56d842de3479eb61365d81a95d5eb",
       "style": "IPY_MODEL_aea74d660b354fb8aac42580af24c493",
       "value": " 8760/8760 [00:31&lt;00:00, 280.02steps/s]"
      }
     },
     "6fe847df9c4e4db19659e9160299d6e0": {
      "model_module": "@jupyter-widgets/controls",
      "model_module_version": "1.5.0",
      "model_name": "HBoxModel",
      "state": {
       "children": [
        "IPY_MODEL_a04658df956c4cfd86e2283f5e62555d",
        "IPY_MODEL_155a8759d37d48cfb62b45054f3de6de"
       ],
       "layout": "IPY_MODEL_e088a5adc3864570a68d05fbd160e96f"
      }
     },
     "6ffa55e699964a4190aae43f5b766c16": {
      "model_module": "@jupyter-widgets/controls",
      "model_module_version": "1.5.0",
      "model_name": "ProgressStyleModel",
      "state": {
       "description_width": "initial"
      }
     },
     "7012fa70c9e7429a909e2602a2043e2c": {
      "model_module": "@jupyter-widgets/base",
      "model_module_version": "1.2.0",
      "model_name": "LayoutModel",
      "state": {}
     },
     "702ae23329d742bd81ab712dadfedef2": {
      "model_module": "@jupyter-widgets/base",
      "model_module_version": "1.2.0",
      "model_name": "LayoutModel",
      "state": {}
     },
     "702be2a75fd74bb78edcf6cfac94f10c": {
      "model_module": "@jupyter-widgets/base",
      "model_module_version": "1.2.0",
      "model_name": "LayoutModel",
      "state": {}
     },
     "709465340a6241dd8e3796854bbcf7ab": {
      "model_module": "@jupyter-widgets/controls",
      "model_module_version": "1.5.0",
      "model_name": "DescriptionStyleModel",
      "state": {
       "description_width": ""
      }
     },
     "70aac5bf9fa24416afb198ac693e4878": {
      "model_module": "@jupyter-widgets/controls",
      "model_module_version": "1.5.0",
      "model_name": "ProgressStyleModel",
      "state": {
       "description_width": "initial"
      }
     },
     "70aadda4c68d45c780c8541318af0b50": {
      "model_module": "@jupyter-widgets/base",
      "model_module_version": "1.2.0",
      "model_name": "LayoutModel",
      "state": {}
     },
     "70c3f2bf0a9547aca998f7bb6ce05c18": {
      "model_module": "@jupyter-widgets/controls",
      "model_module_version": "1.5.0",
      "model_name": "DescriptionStyleModel",
      "state": {
       "description_width": ""
      }
     },
     "70c5ceb6c7904f908fa1713c5a9feca7": {
      "model_module": "@jupyter-widgets/base",
      "model_module_version": "1.2.0",
      "model_name": "LayoutModel",
      "state": {}
     },
     "70cc2dddaa0b47f98dbb3d0c04d7f6cb": {
      "model_module": "@jupyter-widgets/base",
      "model_module_version": "1.2.0",
      "model_name": "LayoutModel",
      "state": {}
     },
     "70d8bd8026bd4f9b896ee46824fd4884": {
      "model_module": "@jupyter-widgets/base",
      "model_module_version": "1.2.0",
      "model_name": "LayoutModel",
      "state": {}
     },
     "70e68040a3e14fc3bf09683fd25a8db4": {
      "model_module": "@jupyter-widgets/controls",
      "model_module_version": "1.5.0",
      "model_name": "DescriptionStyleModel",
      "state": {
       "description_width": ""
      }
     },
     "70e9f3b04a3840b7a2c0d4c5e7208f89": {
      "model_module": "@jupyter-widgets/controls",
      "model_module_version": "1.5.0",
      "model_name": "DescriptionStyleModel",
      "state": {
       "description_width": ""
      }
     },
     "70ee958365b944d8928fc054b2b3d758": {
      "model_module": "@jupyter-widgets/controls",
      "model_module_version": "1.5.0",
      "model_name": "FloatProgressModel",
      "state": {
       "bar_style": "success",
       "description": "poop: 100%",
       "layout": "IPY_MODEL_e7698c8cafe041de86d9441d22de381a",
       "max": 8760,
       "style": "IPY_MODEL_8caea9b942324818b25e41adb4514756",
       "value": 8760
      }
     },
     "710598d75fca44f38dcd3c3eee50659b": {
      "model_module": "@jupyter-widgets/controls",
      "model_module_version": "1.5.0",
      "model_name": "HTMLModel",
      "state": {
       "layout": "IPY_MODEL_34b8599acbaa4be098998e7f4cd3b491",
       "style": "IPY_MODEL_f1ed1dc389d8400799a3e3959d4a9bdb",
       "value": " 8760/8760 [00:31&lt;00:00, 281.30steps/s]"
      }
     },
     "710bdbe426ce487095f35b0eca596787": {
      "model_module": "@jupyter-widgets/controls",
      "model_module_version": "1.5.0",
      "model_name": "ProgressStyleModel",
      "state": {
       "description_width": "initial"
      }
     },
     "713d6c5391df4111929b0636a1967efb": {
      "model_module": "@jupyter-widgets/controls",
      "model_module_version": "1.5.0",
      "model_name": "FloatProgressModel",
      "state": {
       "description": "Run 70 of 156 [PID: 72830]:  57%",
       "layout": "IPY_MODEL_834c8e9508b54f28a465922c289bd14e",
       "max": 175320,
       "style": "IPY_MODEL_e5be245e9884461498f9a1f9d28dab08",
       "value": 100100
      }
     },
     "71719755eee6408b99863bdfbe03734d": {
      "model_module": "@jupyter-widgets/controls",
      "model_module_version": "1.5.0",
      "model_name": "DescriptionStyleModel",
      "state": {
       "description_width": ""
      }
     },
     "7181d922c2354d6d95de6b4327a02ce9": {
      "model_module": "@jupyter-widgets/controls",
      "model_module_version": "1.5.0",
      "model_name": "FloatProgressModel",
      "state": {
       "description": "Run 89 of 156 [PID: 72846]:  51%",
       "layout": "IPY_MODEL_920f702fb2ed4d6aa926044669abd276",
       "max": 175320,
       "style": "IPY_MODEL_5881804a32a742d986ffed78a9ccddbe",
       "value": 88614
      }
     },
     "719581af2ed24e289b0823c8a9ecf2fd": {
      "model_module": "@jupyter-widgets/base",
      "model_module_version": "1.2.0",
      "model_name": "LayoutModel",
      "state": {}
     },
     "719f8e7e990b453c8bf44868abf97444": {
      "model_module": "@jupyter-widgets/controls",
      "model_module_version": "1.5.0",
      "model_name": "DescriptionStyleModel",
      "state": {
       "description_width": ""
      }
     },
     "71a59fa4606142dfabdc2c3760bb87ff": {
      "model_module": "@jupyter-widgets/controls",
      "model_module_version": "1.5.0",
      "model_name": "HTMLModel",
      "state": {
       "layout": "IPY_MODEL_f1161ad6802c40b9acd76440628f22f7",
       "style": "IPY_MODEL_f28271f6e6db4027a0af0901f4fba053",
       "value": " 8760/8760 [00:30&lt;00:00, 289.96steps/s]"
      }
     },
     "71b99735445a469d904c0f3319f0dbd9": {
      "model_module": "@jupyter-widgets/base",
      "model_module_version": "1.2.0",
      "model_name": "LayoutModel",
      "state": {}
     },
     "71bf5e9877ae4c8084a41487fb4d7318": {
      "model_module": "@jupyter-widgets/controls",
      "model_module_version": "1.5.0",
      "model_name": "HBoxModel",
      "state": {
       "children": [
        "IPY_MODEL_c6e800e4d6b94508bdc7f3ca589f9bcd",
        "IPY_MODEL_1c3a126f7f444d80a770796b02725c20"
       ],
       "layout": "IPY_MODEL_b77e67c348ee4b8090ed562b6a988e4c"
      }
     },
     "71cd8901ebc4482dbd49a1fc59a6dc67": {
      "model_module": "@jupyter-widgets/controls",
      "model_module_version": "1.5.0",
      "model_name": "HBoxModel",
      "state": {
       "children": [
        "IPY_MODEL_f23c019411894842b7eef4306ccbdb0c",
        "IPY_MODEL_71f2e42d35ea4a85939190fd573a91a9"
       ],
       "layout": "IPY_MODEL_a90e763d52644a148cf40f67c04db4bb"
      }
     },
     "71edb9b79bec4468b452249d3e0d276f": {
      "model_module": "@jupyter-widgets/controls",
      "model_module_version": "1.5.0",
      "model_name": "HBoxModel",
      "state": {
       "children": [
        "IPY_MODEL_8e2f285d522b4cb187750f83adaa0007",
        "IPY_MODEL_775260dadfbf4901baf951dd5d7f3a07"
       ],
       "layout": "IPY_MODEL_a75f5ba31c2d47ea9fbcb3ba5073d1e0"
      }
     },
     "71f2e42d35ea4a85939190fd573a91a9": {
      "model_module": "@jupyter-widgets/controls",
      "model_module_version": "1.5.0",
      "model_name": "HTMLModel",
      "state": {
       "layout": "IPY_MODEL_db7489fffbdc4876b6d3cfea5c4f01a5",
       "style": "IPY_MODEL_5b7dd2ed6a444939851a7188c7d55e97",
       "value": " 7031/8760 [00:24&lt;00:06, 280.69steps/s]"
      }
     },
     "7204c4fd077b4238af614853ddb27b05": {
      "model_module": "@jupyter-widgets/controls",
      "model_module_version": "1.5.0",
      "model_name": "FloatProgressModel",
      "state": {
       "bar_style": "success",
       "description": "Run 20 of 156 [PID: 45691]: 100%",
       "layout": "IPY_MODEL_42c464dae94c4998821103efc09d14c8",
       "max": 8760,
       "style": "IPY_MODEL_ed48469ca5cc4aa49a7aecc19c81f732",
       "value": 8760
      }
     },
     "722efc11667f4cfdbaf012a638119215": {
      "model_module": "@jupyter-widgets/base",
      "model_module_version": "1.2.0",
      "model_name": "LayoutModel",
      "state": {}
     },
     "723d873ea8e748fa81b3aeb9949fe20e": {
      "model_module": "@jupyter-widgets/base",
      "model_module_version": "1.2.0",
      "model_name": "LayoutModel",
      "state": {}
     },
     "724f372143944a2eab30149b31b58bc2": {
      "model_module": "@jupyter-widgets/controls",
      "model_module_version": "1.5.0",
      "model_name": "DescriptionStyleModel",
      "state": {
       "description_width": ""
      }
     },
     "7260f2689e2641ed8b4588c923a7e7a1": {
      "model_module": "@jupyter-widgets/base",
      "model_module_version": "1.2.0",
      "model_name": "LayoutModel",
      "state": {}
     },
     "72829bf368b3420cb740ba24037e2d34": {
      "model_module": "@jupyter-widgets/base",
      "model_module_version": "1.2.0",
      "model_name": "LayoutModel",
      "state": {}
     },
     "729e9e657dd94b93a097fe8c8c8213a9": {
      "model_module": "@jupyter-widgets/controls",
      "model_module_version": "1.5.0",
      "model_name": "DescriptionStyleModel",
      "state": {
       "description_width": ""
      }
     },
     "72feb35d29fc4182b4a59c4a2f9c3159": {
      "model_module": "@jupyter-widgets/controls",
      "model_module_version": "1.5.0",
      "model_name": "HBoxModel",
      "state": {
       "children": [
        "IPY_MODEL_a92b89dc15b74115b72bd1b8ba1b0d32",
        "IPY_MODEL_5d0719756db3419b89fb805d24057250"
       ],
       "layout": "IPY_MODEL_037f536eaa0d42028f1d1adda80922e1"
      }
     },
     "730f82aabfa34a028187b415affb943e": {
      "model_module": "@jupyter-widgets/base",
      "model_module_version": "1.2.0",
      "model_name": "LayoutModel",
      "state": {}
     },
     "735886fba27b42b4b5a5ac7fb654703c": {
      "model_module": "@jupyter-widgets/base",
      "model_module_version": "1.2.0",
      "model_name": "LayoutModel",
      "state": {}
     },
     "73673eea8f264d2294cd5e8a3c950e1e": {
      "model_module": "@jupyter-widgets/controls",
      "model_module_version": "1.5.0",
      "model_name": "HTMLModel",
      "state": {
       "layout": "IPY_MODEL_6f872c199a984129a5ff43f9b93e76a1",
       "style": "IPY_MODEL_8d5310ac03354e7ba6fba8424d0e0e45",
       "value": " 2599/8760 [00:09&lt;00:22, 278.16steps/s]"
      }
     },
     "73803571b9014e778ebc73e95b75d6a8": {
      "model_module": "@jupyter-widgets/base",
      "model_module_version": "1.2.0",
      "model_name": "LayoutModel",
      "state": {}
     },
     "73846c0dcb544ea18c5d0057e17e2cee": {
      "model_module": "@jupyter-widgets/base",
      "model_module_version": "1.2.0",
      "model_name": "LayoutModel",
      "state": {}
     },
     "73869079b088493eab3e274b61c94e9b": {
      "model_module": "@jupyter-widgets/controls",
      "model_module_version": "1.5.0",
      "model_name": "DescriptionStyleModel",
      "state": {
       "description_width": ""
      }
     },
     "738774f3f50b45339f2c397b9dd29148": {
      "model_module": "@jupyter-widgets/base",
      "model_module_version": "1.2.0",
      "model_name": "LayoutModel",
      "state": {}
     },
     "738ffb1d1ab24c0ea8ba9fef16ba79f4": {
      "model_module": "@jupyter-widgets/base",
      "model_module_version": "1.2.0",
      "model_name": "LayoutModel",
      "state": {}
     },
     "739ec135228c493babc5fcc2d75a29bf": {
      "model_module": "@jupyter-widgets/controls",
      "model_module_version": "1.5.0",
      "model_name": "HBoxModel",
      "state": {
       "children": [
        "IPY_MODEL_968f5ec5b2db45c7aaba77e736e01784",
        "IPY_MODEL_2ec03bee9c7a4aafbe5f21aab92c77ac"
       ],
       "layout": "IPY_MODEL_ba3842b7b9c84c849de785dcffaf171a"
      }
     },
     "73a5414c0f214f629cd4b2a680ad035c": {
      "model_module": "@jupyter-widgets/controls",
      "model_module_version": "1.5.0",
      "model_name": "HBoxModel",
      "state": {
       "children": [
        "IPY_MODEL_f4d257cae47249258d185d6085f18950",
        "IPY_MODEL_4563bcdc13d14921a2f136380ec823a6"
       ],
       "layout": "IPY_MODEL_3d6904142d014782b636328c53036754"
      }
     },
     "73eb520d12a3402aa2f64786945a405e": {
      "model_module": "@jupyter-widgets/base",
      "model_module_version": "1.2.0",
      "model_name": "LayoutModel",
      "state": {}
     },
     "741834aa94674c7389deb6ea2960810a": {
      "model_module": "@jupyter-widgets/controls",
      "model_module_version": "1.5.0",
      "model_name": "HBoxModel",
      "state": {
       "children": [
        "IPY_MODEL_bd0186d5d7a7422ab7f1c2f413bf88fc",
        "IPY_MODEL_8fe11c0b119a4768ae07da7585d8ec68"
       ],
       "layout": "IPY_MODEL_32ef7d70822e49bf80844a2b5cb3414c"
      }
     },
     "742b6e2eeab242e28f4791f443ea1357": {
      "model_module": "@jupyter-widgets/base",
      "model_module_version": "1.2.0",
      "model_name": "LayoutModel",
      "state": {}
     },
     "74317a655eb74e3a82f9d62024d836f5": {
      "model_module": "@jupyter-widgets/base",
      "model_module_version": "1.2.0",
      "model_name": "LayoutModel",
      "state": {}
     },
     "743cad399ca846beb73d091fb5311ded": {
      "model_module": "@jupyter-widgets/controls",
      "model_module_version": "1.5.0",
      "model_name": "ProgressStyleModel",
      "state": {
       "description_width": "initial"
      }
     },
     "743fead54dd148d9a5d92f94ca81a84c": {
      "model_module": "@jupyter-widgets/base",
      "model_module_version": "1.2.0",
      "model_name": "LayoutModel",
      "state": {}
     },
     "74427077d4c84b10b4a7b54a1d9ecfd7": {
      "model_module": "@jupyter-widgets/controls",
      "model_module_version": "1.5.0",
      "model_name": "HBoxModel",
      "state": {
       "children": [
        "IPY_MODEL_fa791e2f6fcb4514bf4667b26d96cb7b",
        "IPY_MODEL_4b0c99207f1844a4a634561192ab53e7"
       ],
       "layout": "IPY_MODEL_745b2f03b9be4d62b51bbdc005f2bc08"
      }
     },
     "7456c5ce40f34d16aaa0b6d154e612fe": {
      "model_module": "@jupyter-widgets/controls",
      "model_module_version": "1.5.0",
      "model_name": "HTMLModel",
      "state": {
       "layout": "IPY_MODEL_262c3b28d932468db6bac9f49131f949",
       "style": "IPY_MODEL_70e9f3b04a3840b7a2c0d4c5e7208f89",
       "value": " 8760/8760 [00:31&lt;00:00, 275.25steps/s]"
      }
     },
     "745b2f03b9be4d62b51bbdc005f2bc08": {
      "model_module": "@jupyter-widgets/base",
      "model_module_version": "1.2.0",
      "model_name": "LayoutModel",
      "state": {}
     },
     "745e34720cb24a33b90c4049a05f231a": {
      "model_module": "@jupyter-widgets/controls",
      "model_module_version": "1.5.0",
      "model_name": "DescriptionStyleModel",
      "state": {
       "description_width": ""
      }
     },
     "74c74a594a6440b8922c1a51aee71e22": {
      "model_module": "@jupyter-widgets/controls",
      "model_module_version": "1.5.0",
      "model_name": "ProgressStyleModel",
      "state": {
       "description_width": "initial"
      }
     },
     "74c8cb58d91a4e3eae667ddd0f97ec70": {
      "model_module": "@jupyter-widgets/base",
      "model_module_version": "1.2.0",
      "model_name": "LayoutModel",
      "state": {}
     },
     "74d86d49e63a4b299ab9af6d4f87c97e": {
      "model_module": "@jupyter-widgets/base",
      "model_module_version": "1.2.0",
      "model_name": "LayoutModel",
      "state": {}
     },
     "74dafb631c764200a847266669751ee5": {
      "model_module": "@jupyter-widgets/controls",
      "model_module_version": "1.5.0",
      "model_name": "ProgressStyleModel",
      "state": {
       "description_width": "initial"
      }
     },
     "74f28a6cfbd041ea8e3bc2871d754b98": {
      "model_module": "@jupyter-widgets/controls",
      "model_module_version": "1.5.0",
      "model_name": "FloatProgressModel",
      "state": {
       "bar_style": "success",
       "description": "Run 34 of 156 [PID: 21988]: 100%",
       "layout": "IPY_MODEL_dada5c729d0d480b9c5baa31ef6a9dae",
       "max": 8760,
       "style": "IPY_MODEL_6ffa55e699964a4190aae43f5b766c16",
       "value": 8760
      }
     },
     "74fed0f9874e4ffbb7370441ea3e0f37": {
      "model_module": "@jupyter-widgets/base",
      "model_module_version": "1.2.0",
      "model_name": "LayoutModel",
      "state": {}
     },
     "750e5909d631405f97f5636bb3d030d3": {
      "model_module": "@jupyter-widgets/base",
      "model_module_version": "1.2.0",
      "model_name": "LayoutModel",
      "state": {}
     },
     "75143588e56f4d998ef57c18692c4908": {
      "model_module": "@jupyter-widgets/controls",
      "model_module_version": "1.5.0",
      "model_name": "DescriptionStyleModel",
      "state": {
       "description_width": ""
      }
     },
     "75207dadd26242b5b2102e2bbd635174": {
      "model_module": "@jupyter-widgets/controls",
      "model_module_version": "1.5.0",
      "model_name": "HBoxModel",
      "state": {
       "children": [
        "IPY_MODEL_6d2bb2f9f6544b49817cce41696231c7",
        "IPY_MODEL_a876811635614bbc86e613e57cc0d28f"
       ],
       "layout": "IPY_MODEL_5320dcbb052e438d935a6077e2527062"
      }
     },
     "755b2641cc5746e595e734c42200aa79": {
      "model_module": "@jupyter-widgets/controls",
      "model_module_version": "1.5.0",
      "model_name": "DescriptionStyleModel",
      "state": {
       "description_width": ""
      }
     },
     "756fa284ff3e4426b1ab73bf88975991": {
      "model_module": "@jupyter-widgets/controls",
      "model_module_version": "1.5.0",
      "model_name": "HTMLModel",
      "state": {
       "layout": "IPY_MODEL_fdbe3b84f67b4c99b1e951462f34a1f3",
       "style": "IPY_MODEL_b7b807b3fedd4d65ab9f2d4959ed907a",
       "value": " 8760/8760 [00:30&lt;00:00, 285.28steps/s]"
      }
     },
     "758b646a7da9472dbecade08c55a028e": {
      "model_module": "@jupyter-widgets/controls",
      "model_module_version": "1.5.0",
      "model_name": "HBoxModel",
      "state": {
       "children": [
        "IPY_MODEL_22b95829472f4da5988fa8c1f1652df2",
        "IPY_MODEL_0157d4ce1c034647aef30699585e7d31"
       ],
       "layout": "IPY_MODEL_52ba61ed1d704efeb3a3459de1265869"
      }
     },
     "762cc385eaf54dd4bbbe7a07eeed61b2": {
      "model_module": "@jupyter-widgets/controls",
      "model_module_version": "1.5.0",
      "model_name": "HBoxModel",
      "state": {
       "children": [
        "IPY_MODEL_4105105e23044a79a734f8efd0ab16b7",
        "IPY_MODEL_092d957bb8744774bbe32c7ad18daaeb"
       ],
       "layout": "IPY_MODEL_e9b1fad95b49423aa1bac0eee5ed3525"
      }
     },
     "762f7705aad14f38918d3c755d5e43a6": {
      "model_module": "@jupyter-widgets/controls",
      "model_module_version": "1.5.0",
      "model_name": "HTMLModel",
      "state": {
       "layout": "IPY_MODEL_1c11d21cb830493281a2c246ee9a4a7f",
       "style": "IPY_MODEL_bea9889fa79b41daa75a9fe2e70f689a",
       "value": " 8760/8760 [00:30&lt;00:00, 284.19steps/s]"
      }
     },
     "763cfcb1f2244aa295e1dd3e1ae75e9b": {
      "model_module": "@jupyter-widgets/base",
      "model_module_version": "1.2.0",
      "model_name": "LayoutModel",
      "state": {}
     },
     "763d854674854fb0ac08f8a569741593": {
      "model_module": "@jupyter-widgets/base",
      "model_module_version": "1.2.0",
      "model_name": "LayoutModel",
      "state": {}
     },
     "7658ffc2b7ab4580b214395de5a351da": {
      "model_module": "@jupyter-widgets/base",
      "model_module_version": "1.2.0",
      "model_name": "LayoutModel",
      "state": {}
     },
     "76594a377cfc449d873314c8e996b7b6": {
      "model_module": "@jupyter-widgets/controls",
      "model_module_version": "1.5.0",
      "model_name": "HBoxModel",
      "state": {
       "children": [
        "IPY_MODEL_eff43ca1346047bc9405f6e39eafd17f",
        "IPY_MODEL_bdc011fd710b4b09937ba7260c424598"
       ],
       "layout": "IPY_MODEL_56976fc9f9544d5c924370b6d3070afa"
      }
     },
     "76730bcb55e0461e85e7de5a0cae015f": {
      "model_module": "@jupyter-widgets/controls",
      "model_module_version": "1.5.0",
      "model_name": "ProgressStyleModel",
      "state": {
       "description_width": "initial"
      }
     },
     "768c0c54bf9b4efdb7b2611f7d37be7f": {
      "model_module": "@jupyter-widgets/controls",
      "model_module_version": "1.5.0",
      "model_name": "HTMLModel",
      "state": {
       "layout": "IPY_MODEL_9ae78d6f1c25465faac56a805bdbd3d8",
       "style": "IPY_MODEL_871b29b5edcd4f2b962a3fdd63d11ec2",
       "value": " 8760/8760 [03:01&lt;00:00, 48.20steps/s]"
      }
     },
     "768d0f3715f648caac1866f5d4fe823a": {
      "model_module": "@jupyter-widgets/base",
      "model_module_version": "1.2.0",
      "model_name": "LayoutModel",
      "state": {}
     },
     "76be498362064ce4be2bba3060bb1666": {
      "model_module": "@jupyter-widgets/controls",
      "model_module_version": "1.5.0",
      "model_name": "FloatProgressModel",
      "state": {
       "bar_style": "success",
       "description": "Run 25 of 156 [PID: 21994]: 100%",
       "layout": "IPY_MODEL_12bf88894b0046669c606d66dc831221",
       "max": 8760,
       "style": "IPY_MODEL_b90b9c1276244498881828771b0798bf",
       "value": 8760
      }
     },
     "76cf3b8307024105a660d09c1f5d3c32": {
      "model_module": "@jupyter-widgets/controls",
      "model_module_version": "1.5.0",
      "model_name": "HBoxModel",
      "state": {
       "children": [
        "IPY_MODEL_4926dafb1d2a4f7b9f6a31fca675ce07",
        "IPY_MODEL_6fb4b640f3074c9c9fc8ea95c9a2df34"
       ],
       "layout": "IPY_MODEL_68df8bf811a347908a50b7b8cad99535"
      }
     },
     "76fb495cf1884165b6c7f027759aecdc": {
      "model_module": "@jupyter-widgets/controls",
      "model_module_version": "1.5.0",
      "model_name": "ProgressStyleModel",
      "state": {
       "description_width": "initial"
      }
     },
     "77095a024ab545758913adcbe706a165": {
      "model_module": "@jupyter-widgets/controls",
      "model_module_version": "1.5.0",
      "model_name": "HTMLModel",
      "state": {
       "layout": "IPY_MODEL_29beefe8cdb140ab89c5ce20f5670942",
       "style": "IPY_MODEL_e28b7835abc3414eb7569e28f9e141f1",
       "value": " 499/8760 [00:01&lt;00:29, 284.41steps/s]"
      }
     },
     "77184a640bdc49cdb7fac17fc0f04cc5": {
      "model_module": "@jupyter-widgets/base",
      "model_module_version": "1.2.0",
      "model_name": "LayoutModel",
      "state": {}
     },
     "7724c53e50b54f07bfd247a844f0ccc9": {
      "model_module": "@jupyter-widgets/controls",
      "model_module_version": "1.5.0",
      "model_name": "ProgressStyleModel",
      "state": {
       "description_width": "initial"
      }
     },
     "772f6b6d6fe141ea99fe7297516d41c5": {
      "model_module": "@jupyter-widgets/controls",
      "model_module_version": "1.5.0",
      "model_name": "FloatProgressModel",
      "state": {
       "description": "Run 121 of 156 [PID: 72798]:  41%",
       "layout": "IPY_MODEL_49f224c7d98f4c37b61ed16a13e8d4ff",
       "max": 175320,
       "style": "IPY_MODEL_1c27d158708844ab820955ce6e4716d5",
       "value": 72309
      }
     },
     "773174878a79426da92f3c1b83b37c1b": {
      "model_module": "@jupyter-widgets/controls",
      "model_module_version": "1.5.0",
      "model_name": "FloatProgressModel",
      "state": {
       "bar_style": "success",
       "description": "poop: 100%",
       "layout": "IPY_MODEL_fec68a2aa1be47789531b3306420126b",
       "max": 8760,
       "style": "IPY_MODEL_926de36c625349c09393c23134a99f18",
       "value": 8760
      }
     },
     "77502e829842404db7c1feb8edbd52ac": {
      "model_module": "@jupyter-widgets/controls",
      "model_module_version": "1.5.0",
      "model_name": "DescriptionStyleModel",
      "state": {
       "description_width": ""
      }
     },
     "775260dadfbf4901baf951dd5d7f3a07": {
      "model_module": "@jupyter-widgets/controls",
      "model_module_version": "1.5.0",
      "model_name": "HTMLModel",
      "state": {
       "layout": "IPY_MODEL_fcdbcdb0774049289230f2a562bc8094",
       "style": "IPY_MODEL_2f027ea0bb494330957e66322efce218",
       "value": " 86453/175320 [3:21:43&lt;5:17:31,  4.66steps/s]"
      }
     },
     "7754743ff99a401180f25677172632e6": {
      "model_module": "@jupyter-widgets/controls",
      "model_module_version": "1.5.0",
      "model_name": "HBoxModel",
      "state": {
       "children": [
        "IPY_MODEL_4281e11ad5474d658fe2f17acd4b265e",
        "IPY_MODEL_899e734f89b64956aecd05139799139e"
       ],
       "layout": "IPY_MODEL_7809ca2ab801496686af04f44744d376"
      }
     },
     "77683539bd494c5bb0a12e3b9580a1da": {
      "model_module": "@jupyter-widgets/base",
      "model_module_version": "1.2.0",
      "model_name": "LayoutModel",
      "state": {}
     },
     "77736faa06fd498baf9405de1cb6951c": {
      "model_module": "@jupyter-widgets/base",
      "model_module_version": "1.2.0",
      "model_name": "LayoutModel",
      "state": {}
     },
     "7792b491925d4ff5880c4f9564c36de1": {
      "model_module": "@jupyter-widgets/controls",
      "model_module_version": "1.5.0",
      "model_name": "DescriptionStyleModel",
      "state": {
       "description_width": ""
      }
     },
     "77aa73560d23486f8387de515387d8f0": {
      "model_module": "@jupyter-widgets/base",
      "model_module_version": "1.2.0",
      "model_name": "LayoutModel",
      "state": {}
     },
     "77abf782e816450ba7c8a3e18070fa88": {
      "model_module": "@jupyter-widgets/controls",
      "model_module_version": "1.5.0",
      "model_name": "DescriptionStyleModel",
      "state": {
       "description_width": ""
      }
     },
     "77b7434a37114551bec891a22ad3d966": {
      "model_module": "@jupyter-widgets/controls",
      "model_module_version": "1.5.0",
      "model_name": "FloatProgressModel",
      "state": {
       "description": "Run 98 of 156 [PID: 72849]:  47%",
       "layout": "IPY_MODEL_f823234dfb964b6ca404d39eed0fc7f4",
       "max": 175320,
       "style": "IPY_MODEL_b89e90d1eba94010b50b2c13309b6995",
       "value": 82932
      }
     },
     "77b7da93622f4671a8027a04b423dacc": {
      "model_module": "@jupyter-widgets/base",
      "model_module_version": "1.2.0",
      "model_name": "LayoutModel",
      "state": {}
     },
     "7809ca2ab801496686af04f44744d376": {
      "model_module": "@jupyter-widgets/base",
      "model_module_version": "1.2.0",
      "model_name": "LayoutModel",
      "state": {}
     },
     "781b2f704d4c462d82e390d330daf752": {
      "model_module": "@jupyter-widgets/controls",
      "model_module_version": "1.5.0",
      "model_name": "DescriptionStyleModel",
      "state": {
       "description_width": ""
      }
     },
     "781e60ad5aa24b9d84042a7354fc7db8": {
      "model_module": "@jupyter-widgets/controls",
      "model_module_version": "1.5.0",
      "model_name": "HBoxModel",
      "state": {
       "children": [
        "IPY_MODEL_9ffa9472518243bca065ea5632e18668",
        "IPY_MODEL_3a3789640dfe4e9ca6cd21ddc5d9a5fa"
       ],
       "layout": "IPY_MODEL_9b53496120014245b194313135e78571"
      }
     },
     "78350401213a40b4a31cefdd5a314ee2": {
      "model_module": "@jupyter-widgets/controls",
      "model_module_version": "1.5.0",
      "model_name": "HTMLModel",
      "state": {
       "layout": "IPY_MODEL_050ccd4b2e1d46fdb6ac5e4d879d34f6",
       "style": "IPY_MODEL_7c02a366b4214fd38d25e0b2e1c4ede6",
       "value": " 3112/8760 [00:11&lt;00:20, 277.92steps/s]"
      }
     },
     "78367343682e4f31906a1e821eb16971": {
      "model_module": "@jupyter-widgets/base",
      "model_module_version": "1.2.0",
      "model_name": "LayoutModel",
      "state": {}
     },
     "7852ef9bbdee41bf850bc16a98b4ca67": {
      "model_module": "@jupyter-widgets/controls",
      "model_module_version": "1.5.0",
      "model_name": "DescriptionStyleModel",
      "state": {
       "description_width": ""
      }
     },
     "7867d9c5acd34f8c9d530b20e5db8d0a": {
      "model_module": "@jupyter-widgets/base",
      "model_module_version": "1.2.0",
      "model_name": "LayoutModel",
      "state": {}
     },
     "78744dc323db4c70b808dfc6f69cf6cb": {
      "model_module": "@jupyter-widgets/controls",
      "model_module_version": "1.5.0",
      "model_name": "HTMLModel",
      "state": {
       "layout": "IPY_MODEL_eb6ea55fc8574d7ea48120f791c586f0",
       "style": "IPY_MODEL_f2f12bd0c99440b98b79388940cc4738",
       "value": " 8760/8760 [00:31&lt;00:00, 278.85steps/s]"
      }
     },
     "7880d03e21974baea3345b616c44a006": {
      "model_module": "@jupyter-widgets/controls",
      "model_module_version": "1.5.0",
      "model_name": "HBoxModel",
      "state": {
       "children": [
        "IPY_MODEL_8b5d9d74bd3b425e84d88214a3b31cd4",
        "IPY_MODEL_2569063bdba541b6b13719dde828f3d4"
       ],
       "layout": "IPY_MODEL_fc99e847a8d14ca69466680512111dd9"
      }
     },
     "78bda9b9f35441a485d73dff852310e9": {
      "model_module": "@jupyter-widgets/controls",
      "model_module_version": "1.5.0",
      "model_name": "HTMLModel",
      "state": {
       "layout": "IPY_MODEL_bba13decf019429f8720fd105662f5c9",
       "style": "IPY_MODEL_d70e835f77f54d83a0d72b826a3dc41d",
       "value": " 8760/8760 [00:30&lt;00:00, 289.96steps/s]"
      }
     },
     "78d193d7669648638d9b140dc08650eb": {
      "model_module": "@jupyter-widgets/controls",
      "model_module_version": "1.5.0",
      "model_name": "HTMLModel",
      "state": {
       "layout": "IPY_MODEL_34c1a1d28f5e42e8a262b3a83dba65e9",
       "style": "IPY_MODEL_6ce8f87cae92487980e0974b9eb8a2b2",
       "value": " 8760/8760 [00:31&lt;00:00, 278.59steps/s]"
      }
     },
     "7901d1dd30564dad9341be482d5121ee": {
      "model_module": "@jupyter-widgets/controls",
      "model_module_version": "1.5.0",
      "model_name": "HBoxModel",
      "state": {
       "children": [
        "IPY_MODEL_49a89121c2294a4fa6946501c7ef5f86",
        "IPY_MODEL_54aeda280aee487f80599b2b53921e24"
       ],
       "layout": "IPY_MODEL_660ea934d071413a95c2bfc187bb5bc6"
      }
     },
     "794e3ca612144e35ab779f00380ab6b0": {
      "model_module": "@jupyter-widgets/controls",
      "model_module_version": "1.5.0",
      "model_name": "DescriptionStyleModel",
      "state": {
       "description_width": ""
      }
     },
     "796267226a944a419518f3cecbe4df57": {
      "model_module": "@jupyter-widgets/base",
      "model_module_version": "1.2.0",
      "model_name": "LayoutModel",
      "state": {}
     },
     "7969dd4f30d244d59cbc1a5f9f2172f0": {
      "model_module": "@jupyter-widgets/base",
      "model_module_version": "1.2.0",
      "model_name": "LayoutModel",
      "state": {}
     },
     "796b6180c729457ab7379705e840b73c": {
      "model_module": "@jupyter-widgets/base",
      "model_module_version": "1.2.0",
      "model_name": "LayoutModel",
      "state": {}
     },
     "7989786bd2914674acbe1948ba715ffa": {
      "model_module": "@jupyter-widgets/base",
      "model_module_version": "1.2.0",
      "model_name": "LayoutModel",
      "state": {}
     },
     "798de96d501844f2a883beadb754e8a8": {
      "model_module": "@jupyter-widgets/controls",
      "model_module_version": "1.5.0",
      "model_name": "ProgressStyleModel",
      "state": {
       "description_width": "initial"
      }
     },
     "79cd7926aeee41e9b728405cd43c4469": {
      "model_module": "@jupyter-widgets/controls",
      "model_module_version": "1.5.0",
      "model_name": "HTMLModel",
      "state": {
       "layout": "IPY_MODEL_8a81caf436c84332a8d7b9e59c1852e2",
       "style": "IPY_MODEL_a8ff37b0393641c3926ca1cff4f82917",
       "value": " 8760/8760 [00:29&lt;00:00, 295.31steps/s]"
      }
     },
     "79dbbd0f49b845aca458923cda92a006": {
      "model_module": "@jupyter-widgets/controls",
      "model_module_version": "1.5.0",
      "model_name": "FloatProgressModel",
      "state": {
       "bar_style": "success",
       "description": "poop: 100%",
       "layout": "IPY_MODEL_5656e8e6a57740acbf2a407bc092a154",
       "max": 8760,
       "style": "IPY_MODEL_974670e48b25467888aded079be72f28",
       "value": 8760
      }
     },
     "79ebcabc372441d494efd0e5ce7af8a2": {
      "model_module": "@jupyter-widgets/controls",
      "model_module_version": "1.5.0",
      "model_name": "FloatProgressModel",
      "state": {
       "description": "Run 92 of 156 [PID: 72818]:  50%",
       "layout": "IPY_MODEL_42e6ac0d6484423eb76d19e9ced76c51",
       "max": 175320,
       "style": "IPY_MODEL_fc8a9fc84b8d426d916de446db408e6c",
       "value": 88074
      }
     },
     "79f65022ae264006ae121e76cf3c3f5e": {
      "model_module": "@jupyter-widgets/controls",
      "model_module_version": "1.5.0",
      "model_name": "ProgressStyleModel",
      "state": {
       "description_width": "initial"
      }
     },
     "7aa3660a158344859bae7dd73610390f": {
      "model_module": "@jupyter-widgets/controls",
      "model_module_version": "1.5.0",
      "model_name": "DescriptionStyleModel",
      "state": {
       "description_width": ""
      }
     },
     "7aa6a00875104848804065d33751eeb6": {
      "model_module": "@jupyter-widgets/controls",
      "model_module_version": "1.5.0",
      "model_name": "ProgressStyleModel",
      "state": {
       "description_width": "initial"
      }
     },
     "7ab7ea59d0aa4693bf3d0e932cc61b4e": {
      "model_module": "@jupyter-widgets/controls",
      "model_module_version": "1.5.0",
      "model_name": "HTMLModel",
      "state": {
       "layout": "IPY_MODEL_aa60a0de1dab473ca55cf7f11d520239",
       "style": "IPY_MODEL_5b20bf57089e42b684cda63867b827af",
       "value": " 3154/8760 [00:11&lt;00:20, 278.12steps/s]"
      }
     },
     "7abfca67902e41309ec29411adf7a79b": {
      "model_module": "@jupyter-widgets/controls",
      "model_module_version": "1.5.0",
      "model_name": "DescriptionStyleModel",
      "state": {
       "description_width": ""
      }
     },
     "7af0fc52e6ea4959b454c36d2c81be99": {
      "model_module": "@jupyter-widgets/base",
      "model_module_version": "1.2.0",
      "model_name": "LayoutModel",
      "state": {}
     },
     "7b081a558eee4417b9543126cc37bc80": {
      "model_module": "@jupyter-widgets/controls",
      "model_module_version": "1.5.0",
      "model_name": "DescriptionStyleModel",
      "state": {
       "description_width": ""
      }
     },
     "7b08dfb2cb6442e2a87bbe7acb06a0d5": {
      "model_module": "@jupyter-widgets/controls",
      "model_module_version": "1.5.0",
      "model_name": "DescriptionStyleModel",
      "state": {
       "description_width": ""
      }
     },
     "7b1c78fb1ecf48b0bb98e48811537396": {
      "model_module": "@jupyter-widgets/controls",
      "model_module_version": "1.5.0",
      "model_name": "HBoxModel",
      "state": {
       "children": [
        "IPY_MODEL_3ff1dbf6ceca4603b2e6f6483a38450a",
        "IPY_MODEL_353dfe4eceed4cfa80dc2b1953154340"
       ],
       "layout": "IPY_MODEL_97bf24b1efb44abdb6e58af57ce43897"
      }
     },
     "7b238e8330f74153a17c024b99329828": {
      "model_module": "@jupyter-widgets/base",
      "model_module_version": "1.2.0",
      "model_name": "LayoutModel",
      "state": {}
     },
     "7b2a8b0a536640a79615761490a38b2d": {
      "model_module": "@jupyter-widgets/base",
      "model_module_version": "1.2.0",
      "model_name": "LayoutModel",
      "state": {}
     },
     "7b2fae99c42245039fbebd60ffa7c7ba": {
      "model_module": "@jupyter-widgets/base",
      "model_module_version": "1.2.0",
      "model_name": "LayoutModel",
      "state": {}
     },
     "7b47b23c713c4db4a186e45766af5273": {
      "model_module": "@jupyter-widgets/controls",
      "model_module_version": "1.5.0",
      "model_name": "DescriptionStyleModel",
      "state": {
       "description_width": ""
      }
     },
     "7b47f2b8184b4a4090dd935eb73de376": {
      "model_module": "@jupyter-widgets/controls",
      "model_module_version": "1.5.0",
      "model_name": "ProgressStyleModel",
      "state": {
       "description_width": "initial"
      }
     },
     "7b65ff84a26241fd8b1d5a75af0467d2": {
      "model_module": "@jupyter-widgets/controls",
      "model_module_version": "1.5.0",
      "model_name": "HTMLModel",
      "state": {
       "layout": "IPY_MODEL_74d86d49e63a4b299ab9af6d4f87c97e",
       "style": "IPY_MODEL_a64107d71c734963bad72761ab75a1d3",
       "value": " 8760/8760 [02:33&lt;00:00, 57.24steps/s]"
      }
     },
     "7b66d75320b840048b968bd22b9b6af0": {
      "model_module": "@jupyter-widgets/controls",
      "model_module_version": "1.5.0",
      "model_name": "DescriptionStyleModel",
      "state": {
       "description_width": ""
      }
     },
     "7b79d3efe16e436e90ef0a2f76254e59": {
      "model_module": "@jupyter-widgets/controls",
      "model_module_version": "1.5.0",
      "model_name": "DescriptionStyleModel",
      "state": {
       "description_width": ""
      }
     },
     "7b9afbfa3fc34005b918623189a63cda": {
      "model_module": "@jupyter-widgets/controls",
      "model_module_version": "1.5.0",
      "model_name": "HTMLModel",
      "state": {
       "layout": "IPY_MODEL_d47fade4c3ac4f3ab064499b06787200",
       "style": "IPY_MODEL_a30d7257ac954f3192512fe889d4dfa5",
       "value": " 8760/8760 [00:30&lt;00:00, 284.14steps/s]"
      }
     },
     "7bb0da9c7c474767b50d2bd13f973743": {
      "model_module": "@jupyter-widgets/controls",
      "model_module_version": "1.5.0",
      "model_name": "HBoxModel",
      "state": {
       "children": [
        "IPY_MODEL_fbc93fdd93fe4d46bc68a98c106682d7",
        "IPY_MODEL_d8a5bb44353041daa1af4c59f669599b"
       ],
       "layout": "IPY_MODEL_e8553fafe6da4362af969218e0740d45"
      }
     },
     "7bb411ab5b8946ed8e29760b00231f4a": {
      "model_module": "@jupyter-widgets/base",
      "model_module_version": "1.2.0",
      "model_name": "LayoutModel",
      "state": {}
     },
     "7bc0ec85f3e64aa39443eefde7898d84": {
      "model_module": "@jupyter-widgets/controls",
      "model_module_version": "1.5.0",
      "model_name": "DescriptionStyleModel",
      "state": {
       "description_width": ""
      }
     },
     "7be666ed3f3a4049bbe7144ed4dfee7d": {
      "model_module": "@jupyter-widgets/base",
      "model_module_version": "1.2.0",
      "model_name": "LayoutModel",
      "state": {}
     },
     "7bf24c8d89dd447a9220d995c3d14ff6": {
      "model_module": "@jupyter-widgets/controls",
      "model_module_version": "1.5.0",
      "model_name": "ProgressStyleModel",
      "state": {
       "description_width": "initial"
      }
     },
     "7c02a366b4214fd38d25e0b2e1c4ede6": {
      "model_module": "@jupyter-widgets/controls",
      "model_module_version": "1.5.0",
      "model_name": "DescriptionStyleModel",
      "state": {
       "description_width": ""
      }
     },
     "7c08b75aefb14066bce541bdcde8d9f9": {
      "model_module": "@jupyter-widgets/controls",
      "model_module_version": "1.5.0",
      "model_name": "DescriptionStyleModel",
      "state": {
       "description_width": ""
      }
     },
     "7c6bbef7b6e44c339eee275281d435ed": {
      "model_module": "@jupyter-widgets/controls",
      "model_module_version": "1.5.0",
      "model_name": "DescriptionStyleModel",
      "state": {
       "description_width": ""
      }
     },
     "7c70c5c744ed4cab96917814d57b5aaf": {
      "model_module": "@jupyter-widgets/controls",
      "model_module_version": "1.5.0",
      "model_name": "DescriptionStyleModel",
      "state": {
       "description_width": ""
      }
     },
     "7c7ec5088b7842e6b87aef4652c62242": {
      "model_module": "@jupyter-widgets/controls",
      "model_module_version": "1.5.0",
      "model_name": "HBoxModel",
      "state": {
       "children": [
        "IPY_MODEL_b34551806f5e4544a5b3ea0ad78893a1",
        "IPY_MODEL_0f1b9950854e46de9828e910d78c0772"
       ],
       "layout": "IPY_MODEL_12c49a9b1ea54adaa8bd657b9c115b62"
      }
     },
     "7c877753d9cb44f09d69a3a25cc6d0d9": {
      "model_module": "@jupyter-widgets/controls",
      "model_module_version": "1.5.0",
      "model_name": "FloatProgressModel",
      "state": {
       "bar_style": "success",
       "description": "100%",
       "layout": "IPY_MODEL_05f6b75c743e4e7cb41f7ae341bebde4",
       "max": 8760,
       "style": "IPY_MODEL_4f7d13b27a64454c8b8a7c74682152b6",
       "value": 8760
      }
     },
     "7ca224a9af11445c80bda2559150cc7b": {
      "model_module": "@jupyter-widgets/controls",
      "model_module_version": "1.5.0",
      "model_name": "HTMLModel",
      "state": {
       "layout": "IPY_MODEL_b0120ce052e04f8f9792138ad9eef8fe",
       "style": "IPY_MODEL_66613eadcac645f080058ff4053dd710",
       "value": " 79082/175320 [3:33:59&lt;10:53:35,  2.45steps/s]"
      }
     },
     "7cdb5fde3edc447eb98adb01c3e4fb78": {
      "model_module": "@jupyter-widgets/base",
      "model_module_version": "1.2.0",
      "model_name": "LayoutModel",
      "state": {}
     },
     "7cec19f61c814f4391779ebb7f99f54f": {
      "model_module": "@jupyter-widgets/controls",
      "model_module_version": "1.5.0",
      "model_name": "DescriptionStyleModel",
      "state": {
       "description_width": ""
      }
     },
     "7d09dfcbc18b490790404cf3b82e5be6": {
      "model_module": "@jupyter-widgets/controls",
      "model_module_version": "1.5.0",
      "model_name": "HBoxModel",
      "state": {
       "children": [
        "IPY_MODEL_2ce08305954a422f8f2bade513c17402",
        "IPY_MODEL_d628ca83f442497fb629632f82bf3818"
       ],
       "layout": "IPY_MODEL_5125933aa55247d9a2813969845d0565"
      }
     },
     "7d4ec7a1e8bb490ab2e5cad6a5948098": {
      "model_module": "@jupyter-widgets/controls",
      "model_module_version": "1.5.0",
      "model_name": "DescriptionStyleModel",
      "state": {
       "description_width": ""
      }
     },
     "7d61c2e469674ad0ad95e80e375b1a2d": {
      "model_module": "@jupyter-widgets/controls",
      "model_module_version": "1.5.0",
      "model_name": "HTMLModel",
      "state": {
       "layout": "IPY_MODEL_fc6eb694fcb24003a71c1b751da2c05a",
       "style": "IPY_MODEL_8c472f9f9968441699c36288ecbb8c6d",
       "value": " 92002/175320 [3:35:39&lt;6:37:52,  3.49steps/s]"
      }
     },
     "7d73c4e0c7494fcca011eb345c9d025b": {
      "model_module": "@jupyter-widgets/base",
      "model_module_version": "1.2.0",
      "model_name": "LayoutModel",
      "state": {}
     },
     "7db6f911d057453c8eeb42fe13ffacd6": {
      "model_module": "@jupyter-widgets/controls",
      "model_module_version": "1.5.0",
      "model_name": "FloatProgressModel",
      "state": {
       "bar_style": "success",
       "description": "Run 19 of 156 [PID: 21985]: 100%",
       "layout": "IPY_MODEL_e450d3dcdcc74317b3ada0317e7749e2",
       "max": 8760,
       "style": "IPY_MODEL_9b191523b98c474e8cfe8c8990a6334f",
       "value": 8760
      }
     },
     "7de00de22cc6412a8c780b657a530207": {
      "model_module": "@jupyter-widgets/base",
      "model_module_version": "1.2.0",
      "model_name": "LayoutModel",
      "state": {}
     },
     "7de723ffd9584bf4be086c3ad768fa31": {
      "model_module": "@jupyter-widgets/controls",
      "model_module_version": "1.5.0",
      "model_name": "FloatProgressModel",
      "state": {
       "bar_style": "success",
       "description": "100%",
       "layout": "IPY_MODEL_0ccd707d71714ad89b02ced0e10d6160",
       "max": 8760,
       "style": "IPY_MODEL_26ca996fb3ba497cbe4bf4eb15aa6ebc",
       "value": 8760
      }
     },
     "7e0ae51a34b94832b1db04b6e3dc2b65": {
      "model_module": "@jupyter-widgets/base",
      "model_module_version": "1.2.0",
      "model_name": "LayoutModel",
      "state": {}
     },
     "7e218634537e4061955acaf907051b16": {
      "model_module": "@jupyter-widgets/base",
      "model_module_version": "1.2.0",
      "model_name": "LayoutModel",
      "state": {}
     },
     "7e259b6a82b746da9f13fa50532119ce": {
      "model_module": "@jupyter-widgets/controls",
      "model_module_version": "1.5.0",
      "model_name": "FloatProgressModel",
      "state": {
       "bar_style": "success",
       "description": "100%",
       "layout": "IPY_MODEL_0a3a0b5886274dfba2946d4d4e8856bf",
       "max": 8760,
       "style": "IPY_MODEL_b511361b49914048a2137bcc1c4a165e",
       "value": 8760
      }
     },
     "7e2820679b3b4922b0825518330747a2": {
      "model_module": "@jupyter-widgets/base",
      "model_module_version": "1.2.0",
      "model_name": "LayoutModel",
      "state": {}
     },
     "7e2d2bede7e640479a940a6cccb3a05e": {
      "model_module": "@jupyter-widgets/base",
      "model_module_version": "1.2.0",
      "model_name": "LayoutModel",
      "state": {}
     },
     "7e602fabee5043f896916ab0bd4826ea": {
      "model_module": "@jupyter-widgets/controls",
      "model_module_version": "1.5.0",
      "model_name": "DescriptionStyleModel",
      "state": {
       "description_width": ""
      }
     },
     "7ebd1a2ef0c94422a5c5d1816d0c5cdf": {
      "model_module": "@jupyter-widgets/controls",
      "model_module_version": "1.5.0",
      "model_name": "ProgressStyleModel",
      "state": {
       "description_width": "initial"
      }
     },
     "7ec39043e7cc4954ad1df06ad4090a8f": {
      "model_module": "@jupyter-widgets/controls",
      "model_module_version": "1.5.0",
      "model_name": "HBoxModel",
      "state": {
       "children": [
        "IPY_MODEL_fdbd38e1400b485ca7ddcfd8f5a6c7b2",
        "IPY_MODEL_af2ee42b50f24de1851cdbb6cbff0b74"
       ],
       "layout": "IPY_MODEL_1890892ff5fe4fa887f8e6f4feb240d3"
      }
     },
     "7ec8a5a3f50b497f8248a809211583a3": {
      "model_module": "@jupyter-widgets/controls",
      "model_module_version": "1.5.0",
      "model_name": "ProgressStyleModel",
      "state": {
       "description_width": "initial"
      }
     },
     "7ee3957ede194c5eabeb29361d7aadcc": {
      "model_module": "@jupyter-widgets/controls",
      "model_module_version": "1.5.0",
      "model_name": "HBoxModel",
      "state": {
       "children": [
        "IPY_MODEL_b4f97923924c4e2ebbdf82f71ca796d2",
        "IPY_MODEL_e25b01b001304a0e936d725c372ec23a"
       ],
       "layout": "IPY_MODEL_e370cddea6134be3944208bf66e5058c"
      }
     },
     "7ee4748ac2054aaf803633b9d44b81eb": {
      "model_module": "@jupyter-widgets/controls",
      "model_module_version": "1.5.0",
      "model_name": "FloatProgressModel",
      "state": {
       "bar_style": "danger",
       "description": "poop:  10%",
       "layout": "IPY_MODEL_114b761e22fc4cba83b2b0034f332643",
       "max": 8760,
       "style": "IPY_MODEL_1ea981380949460fa9d0f37cb4901ca8",
       "value": 907
      }
     },
     "7f05d63a70dd4d0b804137f1dc9bc09e": {
      "model_module": "@jupyter-widgets/controls",
      "model_module_version": "1.5.0",
      "model_name": "ProgressStyleModel",
      "state": {
       "description_width": "initial"
      }
     },
     "7f1796c83cbf4ea295075f4274a38143": {
      "model_module": "@jupyter-widgets/base",
      "model_module_version": "1.2.0",
      "model_name": "LayoutModel",
      "state": {}
     },
     "7f1a4fad4f2d4a83ad2f3fef959a40b8": {
      "model_module": "@jupyter-widgets/controls",
      "model_module_version": "1.5.0",
      "model_name": "HTMLModel",
      "state": {
       "layout": "IPY_MODEL_82f2144216994bfbbff10c5d0cbb0727",
       "style": "IPY_MODEL_db09cf54518e425eb6d2ff8af49a43f7",
       "value": " 1849/8760 [00:06&lt;00:23, 288.91steps/s]"
      }
     },
     "7f2810b157a249afb7a2e6fde4ba8677": {
      "model_module": "@jupyter-widgets/controls",
      "model_module_version": "1.5.0",
      "model_name": "HBoxModel",
      "state": {
       "children": [
        "IPY_MODEL_148d22fe592640c18dc010e93d21d29f",
        "IPY_MODEL_072f8e334d2644c6bef6a1e5d6ce3367"
       ],
       "layout": "IPY_MODEL_77736faa06fd498baf9405de1cb6951c"
      }
     },
     "7f417e4d95ae42eb8709cfd2fd18ff84": {
      "model_module": "@jupyter-widgets/controls",
      "model_module_version": "1.5.0",
      "model_name": "ProgressStyleModel",
      "state": {
       "description_width": "initial"
      }
     },
     "7f53a40fa6f7442aaf74fdbc3191cff6": {
      "model_module": "@jupyter-widgets/controls",
      "model_module_version": "1.5.0",
      "model_name": "HBoxModel",
      "state": {
       "children": [
        "IPY_MODEL_370b2f8bb01c49faa489b792d49f16f6",
        "IPY_MODEL_768c0c54bf9b4efdb7b2611f7d37be7f"
       ],
       "layout": "IPY_MODEL_414671b0449d420889df3d0ccec4b5aa"
      }
     },
     "7f5a81e4c9c046918180c77d2f3601e8": {
      "model_module": "@jupyter-widgets/controls",
      "model_module_version": "1.5.0",
      "model_name": "ProgressStyleModel",
      "state": {
       "description_width": "initial"
      }
     },
     "7f7046e6eb554e9ba75c30e111b13116": {
      "model_module": "@jupyter-widgets/base",
      "model_module_version": "1.2.0",
      "model_name": "LayoutModel",
      "state": {}
     },
     "7f9705cb0f8b4ed7b169959e60e5e9f2": {
      "model_module": "@jupyter-widgets/controls",
      "model_module_version": "1.5.0",
      "model_name": "HTMLModel",
      "state": {
       "layout": "IPY_MODEL_a3224d43787645deb86cbacef10c2545",
       "style": "IPY_MODEL_c6635bc675f74e0e908aaad644a981f3",
       "value": " 8760/8760 [00:31&lt;00:00, 281.86steps/s]"
      }
     },
     "7fcf4da1d46b4ba8aecd4be3edc5d48e": {
      "model_module": "@jupyter-widgets/base",
      "model_module_version": "1.2.0",
      "model_name": "LayoutModel",
      "state": {}
     },
     "7feadcfa1eb24e4883060650056e3160": {
      "model_module": "@jupyter-widgets/base",
      "model_module_version": "1.2.0",
      "model_name": "LayoutModel",
      "state": {}
     },
     "7ff6f1cafc23439ca6a05cc722e3612a": {
      "model_module": "@jupyter-widgets/base",
      "model_module_version": "1.2.0",
      "model_name": "LayoutModel",
      "state": {}
     },
     "8011ffdbf8a444339d2f9fe7bd747e6a": {
      "model_module": "@jupyter-widgets/controls",
      "model_module_version": "1.5.0",
      "model_name": "HTMLModel",
      "state": {
       "layout": "IPY_MODEL_4b98f4d96a444517ad598dc34199f12d",
       "style": "IPY_MODEL_873814c91aca4bf69d3ea49911b9289b",
       "value": " 8760/8760 [00:30&lt;00:00, 286.07steps/s]"
      }
     },
     "801cafc8cb6842fa8f3ef42465e8dfe2": {
      "model_module": "@jupyter-widgets/controls",
      "model_module_version": "1.5.0",
      "model_name": "FloatProgressModel",
      "state": {
       "bar_style": "danger",
       "description": "PID: 67938:  31%",
       "layout": "IPY_MODEL_098112d1f2214a94b5cc67c5b1f82cb7",
       "max": 8760,
       "style": "IPY_MODEL_6976f1f398c84b9d8796cf2005c2b734",
       "value": 2716
      }
     },
     "80413ce711f541de85f8090df3226a69": {
      "model_module": "@jupyter-widgets/base",
      "model_module_version": "1.2.0",
      "model_name": "LayoutModel",
      "state": {}
     },
     "80c78d8413d34662ac55043e0606f05f": {
      "model_module": "@jupyter-widgets/controls",
      "model_module_version": "1.5.0",
      "model_name": "ProgressStyleModel",
      "state": {
       "description_width": "initial"
      }
     },
     "80ca4134e0d0473a8258accf9f41c2c5": {
      "model_module": "@jupyter-widgets/controls",
      "model_module_version": "1.5.0",
      "model_name": "HTMLModel",
      "state": {
       "layout": "IPY_MODEL_d88b4bd230e04cd9b5d4e366a9de81df",
       "style": "IPY_MODEL_11f51fd980954bfdb024f90ae3ff34eb",
       "value": " 5816/8760 [00:21&lt;00:11, 263.61steps/s]"
      }
     },
     "80d006c2c630426ba11807694689d781": {
      "model_module": "@jupyter-widgets/controls",
      "model_module_version": "1.5.0",
      "model_name": "FloatProgressModel",
      "state": {
       "bar_style": "success",
       "description": "Run 14 of 156 [PID: 45695]: 100%",
       "layout": "IPY_MODEL_098e0c57a5a540c9bf42df7b194e23ac",
       "max": 8760,
       "style": "IPY_MODEL_065b2f4ea30b40a1a20803be659f53fb",
       "value": 8760
      }
     },
     "810b43e6a50546a8b33b6b7206ebfa2e": {
      "model_module": "@jupyter-widgets/controls",
      "model_module_version": "1.5.0",
      "model_name": "ProgressStyleModel",
      "state": {
       "description_width": "initial"
      }
     },
     "811cbcaa7d624001bca035840038fd88": {
      "model_module": "@jupyter-widgets/base",
      "model_module_version": "1.2.0",
      "model_name": "LayoutModel",
      "state": {}
     },
     "8134febab9774982bf025bc981921aa5": {
      "model_module": "@jupyter-widgets/controls",
      "model_module_version": "1.5.0",
      "model_name": "HBoxModel",
      "state": {
       "children": [
        "IPY_MODEL_341c3b3d17fa4962b486a072bd2a6dbe",
        "IPY_MODEL_379a24871a354633a278314fd0948743"
       ],
       "layout": "IPY_MODEL_52dad67463b84169aa02d9a0f16e4182"
      }
     },
     "8135902fd5fe42da82f173874557a7d0": {
      "model_module": "@jupyter-widgets/controls",
      "model_module_version": "1.5.0",
      "model_name": "FloatProgressModel",
      "state": {
       "bar_style": "danger",
       "description": "Run 23 of 390 [PID: 2313]:  98%",
       "layout": "IPY_MODEL_3832055ef08e4629bd199c17570a09f4",
       "max": 8760,
       "style": "IPY_MODEL_1858167e077142a29a6b2db23e5eb4b9",
       "value": 8558
      }
     },
     "815a8dbf80a941a9b8ea491c8da14d66": {
      "model_module": "@jupyter-widgets/controls",
      "model_module_version": "1.5.0",
      "model_name": "HBoxModel",
      "state": {
       "children": [
        "IPY_MODEL_4d6029ec2c60405f8fab84994252dd12",
        "IPY_MODEL_523eff31f44c4628935e5ccee9a25fa8"
       ],
       "layout": "IPY_MODEL_994f7c07e9b645aaa36f312ce5548d8e"
      }
     },
     "81969f8da2824588a14b805691b4c5f4": {
      "model_module": "@jupyter-widgets/controls",
      "model_module_version": "1.5.0",
      "model_name": "HTMLModel",
      "state": {
       "layout": "IPY_MODEL_5885d11632ba47318d648a24ac981ec4",
       "style": "IPY_MODEL_06d4e0a2145c49229b500fd07fdd39aa",
       "value": " 668/8760 [00:02&lt;00:29, 272.20steps/s]"
      }
     },
     "81c1b89a02414239a455ea1a5847bb95": {
      "model_module": "@jupyter-widgets/controls",
      "model_module_version": "1.5.0",
      "model_name": "HBoxModel",
      "state": {
       "children": [
        "IPY_MODEL_646dc4ca0604460485c6ec1239e3406f",
        "IPY_MODEL_1c3a7c056dbf4a5ca4f25306ed08ca89"
       ],
       "layout": "IPY_MODEL_209bba36a2214fc584e7e83e66c4dea0"
      }
     },
     "81ca84d3f8934789bcc6fecbf179609e": {
      "model_module": "@jupyter-widgets/base",
      "model_module_version": "1.2.0",
      "model_name": "LayoutModel",
      "state": {}
     },
     "81edd6dce1ba44779e294bb3d4fae0b6": {
      "model_module": "@jupyter-widgets/controls",
      "model_module_version": "1.5.0",
      "model_name": "DescriptionStyleModel",
      "state": {
       "description_width": ""
      }
     },
     "81f015136d884559a6a972310dcd94ac": {
      "model_module": "@jupyter-widgets/controls",
      "model_module_version": "1.5.0",
      "model_name": "ProgressStyleModel",
      "state": {
       "description_width": "initial"
      }
     },
     "81fa1a9db8ca4134a943ebb91f3ec75f": {
      "model_module": "@jupyter-widgets/controls",
      "model_module_version": "1.5.0",
      "model_name": "HTMLModel",
      "state": {
       "layout": "IPY_MODEL_ef511af2b8854d5cba80dad3ca7c7f81",
       "style": "IPY_MODEL_9896eaa5209b4ca8b8c05b6f32b0da83",
       "value": " 5764/8760 [00:20&lt;00:11, 263.45steps/s]"
      }
     },
     "81fa1b83f60345ee8d6391a9fe0ed9c1": {
      "model_module": "@jupyter-widgets/controls",
      "model_module_version": "1.5.0",
      "model_name": "ProgressStyleModel",
      "state": {
       "description_width": "initial"
      }
     },
     "8213d7ded8734bdbbde6ecc512e601a6": {
      "model_module": "@jupyter-widgets/base",
      "model_module_version": "1.2.0",
      "model_name": "LayoutModel",
      "state": {}
     },
     "8250b22028cc4f0c8b2ff7fdb4e18f1f": {
      "model_module": "@jupyter-widgets/controls",
      "model_module_version": "1.5.0",
      "model_name": "HBoxModel",
      "state": {
       "children": [
        "IPY_MODEL_e612f5d60ab1458a9584cc1a13a54122",
        "IPY_MODEL_2eefa32d1c2a416ba196de704299ed62"
       ],
       "layout": "IPY_MODEL_86081329451d41679e6df7fcb6e01c88"
      }
     },
     "827a31d12aa24a02ba3651dd97081425": {
      "model_module": "@jupyter-widgets/controls",
      "model_module_version": "1.5.0",
      "model_name": "HBoxModel",
      "state": {
       "children": [
        "IPY_MODEL_50a5019a4ee94166bd99b410a9c7992f",
        "IPY_MODEL_5ddfd337178f450b91f5077523a4dbaf"
       ],
       "layout": "IPY_MODEL_64796c1bebab4b6986fa808d98e68263"
      }
     },
     "827b63f9c0fd44ce889699d1c083c308": {
      "model_module": "@jupyter-widgets/controls",
      "model_module_version": "1.5.0",
      "model_name": "ProgressStyleModel",
      "state": {
       "description_width": "initial"
      }
     },
     "82b0fdff4bf34360acb9bf7a751fc894": {
      "model_module": "@jupyter-widgets/controls",
      "model_module_version": "1.5.0",
      "model_name": "HTMLModel",
      "state": {
       "layout": "IPY_MODEL_c8e94ab1d2ea478a855f64e0b58ee7da",
       "style": "IPY_MODEL_988f0ff91d22418a99ccdeddcdff7bd0",
       "value": " 75708/175320 [3:25:08&lt;8:16:32,  3.34steps/s]"
      }
     },
     "82d247c280d24000900cb8a8b77cb67b": {
      "model_module": "@jupyter-widgets/controls",
      "model_module_version": "1.5.0",
      "model_name": "HTMLModel",
      "state": {
       "layout": "IPY_MODEL_5e8c535eb0cf4660929af4c374433a26",
       "style": "IPY_MODEL_0848b338656f46cbad0d314dabddb43f",
       "value": " 86478/175320 [3:31:29&lt;6:02:50,  4.08steps/s]"
      }
     },
     "82d6726584434490a2e473cdc9acceee": {
      "model_module": "@jupyter-widgets/controls",
      "model_module_version": "1.5.0",
      "model_name": "FloatProgressModel",
      "state": {
       "description": "Run 119 of 156 [PID: 72834]:  49%",
       "layout": "IPY_MODEL_eb8df05d7b084c26b3ee00db64e13430",
       "max": 175320,
       "style": "IPY_MODEL_89c7527a98cb479ea690cec80fa7cfaa",
       "value": 85431
      }
     },
     "82d784b19898456a86dee8c564ca8b81": {
      "model_module": "@jupyter-widgets/controls",
      "model_module_version": "1.5.0",
      "model_name": "FloatProgressModel",
      "state": {
       "bar_style": "success",
       "description": "poop: 100%",
       "layout": "IPY_MODEL_f9ae64c1e7f445499361b92688fb796a",
       "max": 8760,
       "style": "IPY_MODEL_0093451a7cd04ecd8491a73d01685eda",
       "value": 8760
      }
     },
     "82f2144216994bfbbff10c5d0cbb0727": {
      "model_module": "@jupyter-widgets/base",
      "model_module_version": "1.2.0",
      "model_name": "LayoutModel",
      "state": {}
     },
     "830d3568b7b5466d981d81b9f912a3fa": {
      "model_module": "@jupyter-widgets/base",
      "model_module_version": "1.2.0",
      "model_name": "LayoutModel",
      "state": {}
     },
     "83164121f0ce4f518fb1b859116febda": {
      "model_module": "@jupyter-widgets/controls",
      "model_module_version": "1.5.0",
      "model_name": "FloatProgressModel",
      "state": {
       "bar_style": "success",
       "description": "100%",
       "layout": "IPY_MODEL_6faa3919bb26496ab6402eed0d851eae",
       "max": 8760,
       "style": "IPY_MODEL_ed9665ebebe4483ba3748195468f3a43",
       "value": 8760
      }
     },
     "8321822d434847ab964af6ddeab457e6": {
      "model_module": "@jupyter-widgets/controls",
      "model_module_version": "1.5.0",
      "model_name": "DescriptionStyleModel",
      "state": {
       "description_width": ""
      }
     },
     "832e4178627e4eb98a5c6ff83625a24b": {
      "model_module": "@jupyter-widgets/controls",
      "model_module_version": "1.5.0",
      "model_name": "HTMLModel",
      "state": {
       "layout": "IPY_MODEL_a33973b174264e6dba7dc709e9b6b95d",
       "style": "IPY_MODEL_a60e1b9beb404b30977bc98067fdfb09",
       "value": " 433/8760 [00:01&lt;00:30, 272.04steps/s]"
      }
     },
     "834c8e9508b54f28a465922c289bd14e": {
      "model_module": "@jupyter-widgets/base",
      "model_module_version": "1.2.0",
      "model_name": "LayoutModel",
      "state": {}
     },
     "835e3df7d69b449891fd76f6c1506a0a": {
      "model_module": "@jupyter-widgets/controls",
      "model_module_version": "1.5.0",
      "model_name": "HTMLModel",
      "state": {
       "layout": "IPY_MODEL_b0fd7d02693e46b0903889cbd17fec9c",
       "style": "IPY_MODEL_010e25fc19954d2580db50ca41b3a621",
       "value": " 162/8760 [00:00&lt;00:33, 253.81steps/s]"
      }
     },
     "839477dbc8564a7ab379b5210dff9cba": {
      "model_module": "@jupyter-widgets/controls",
      "model_module_version": "1.5.0",
      "model_name": "ProgressStyleModel",
      "state": {
       "description_width": "initial"
      }
     },
     "839488b4d8bf4c62a6d2e84d49a46975": {
      "model_module": "@jupyter-widgets/base",
      "model_module_version": "1.2.0",
      "model_name": "LayoutModel",
      "state": {}
     },
     "839773eaf54d49b99dd27bcc6bdc3778": {
      "model_module": "@jupyter-widgets/controls",
      "model_module_version": "1.5.0",
      "model_name": "HTMLModel",
      "state": {
       "layout": "IPY_MODEL_d09f9a1aef6e43feb577fac5724bfcff",
       "style": "IPY_MODEL_d78eaa3064044ac7898e896402130bd8",
       "value": " 1328/8760 [00:05&lt;00:27, 274.09steps/s]"
      }
     },
     "839853f5e2ab4882aa8d9f801b03a618": {
      "model_module": "@jupyter-widgets/controls",
      "model_module_version": "1.5.0",
      "model_name": "DescriptionStyleModel",
      "state": {
       "description_width": ""
      }
     },
     "83a7ba2a771b4a6489bbd610c85d25af": {
      "model_module": "@jupyter-widgets/controls",
      "model_module_version": "1.5.0",
      "model_name": "DescriptionStyleModel",
      "state": {
       "description_width": ""
      }
     },
     "83b20cf6645a41bf90165343edbaa90b": {
      "model_module": "@jupyter-widgets/controls",
      "model_module_version": "1.5.0",
      "model_name": "HBoxModel",
      "state": {
       "children": [
        "IPY_MODEL_dbac23c2584d4b7ab94f7f028e9cbb07",
        "IPY_MODEL_a50dd9d5e0d644cfabbeb84678b4c2ee"
       ],
       "layout": "IPY_MODEL_af873bca735349c5a1adcd1ef5d4b72a"
      }
     },
     "83b7372a87a84b4f8798d9789290fa8e": {
      "model_module": "@jupyter-widgets/controls",
      "model_module_version": "1.5.0",
      "model_name": "ProgressStyleModel",
      "state": {
       "description_width": "initial"
      }
     },
     "83c26ec7cb4f4a1f954038703a2b8853": {
      "model_module": "@jupyter-widgets/base",
      "model_module_version": "1.2.0",
      "model_name": "LayoutModel",
      "state": {}
     },
     "83dafcbaeac246dca012a618e1d188fa": {
      "model_module": "@jupyter-widgets/base",
      "model_module_version": "1.2.0",
      "model_name": "LayoutModel",
      "state": {}
     },
     "83dd3c0175364fae9e374db3fc2bb38b": {
      "model_module": "@jupyter-widgets/base",
      "model_module_version": "1.2.0",
      "model_name": "LayoutModel",
      "state": {}
     },
     "83fba289842946339bdb8d8c8741bdf4": {
      "model_module": "@jupyter-widgets/base",
      "model_module_version": "1.2.0",
      "model_name": "LayoutModel",
      "state": {}
     },
     "84120fa79b3b481ca0b95e348083f8c2": {
      "model_module": "@jupyter-widgets/base",
      "model_module_version": "1.2.0",
      "model_name": "LayoutModel",
      "state": {}
     },
     "8447f3a0d4174314bca953a804f8f7d6": {
      "model_module": "@jupyter-widgets/controls",
      "model_module_version": "1.5.0",
      "model_name": "HTMLModel",
      "state": {
       "layout": "IPY_MODEL_981a06ee57ce40008767f368ecfac705",
       "style": "IPY_MODEL_daaea4d8e1bb45c5a9fe63d186a66333",
       "value": " 82932/175320 [3:29:17&lt;6:00:24,  4.27steps/s]"
      }
     },
     "845d2a1851b94cb686c35058c98ba7b9": {
      "model_module": "@jupyter-widgets/base",
      "model_module_version": "1.2.0",
      "model_name": "LayoutModel",
      "state": {}
     },
     "8495db5fc95d45fc93b8529b088d9bc2": {
      "model_module": "@jupyter-widgets/controls",
      "model_module_version": "1.5.0",
      "model_name": "HTMLModel",
      "state": {
       "layout": "IPY_MODEL_049913ec6fb14d3686848cd18d447704",
       "style": "IPY_MODEL_e371620e5d0347c9bba24efa0ca6e912",
       "value": " 88365/175320 [3:31:50&lt;5:14:40,  4.61steps/s]"
      }
     },
     "84a0c5c28c614a8389ac0b72f7927f0d": {
      "model_module": "@jupyter-widgets/controls",
      "model_module_version": "1.5.0",
      "model_name": "ProgressStyleModel",
      "state": {
       "description_width": "initial"
      }
     },
     "84b0bff1196541bfa00ac080bc6f6f7b": {
      "model_module": "@jupyter-widgets/base",
      "model_module_version": "1.2.0",
      "model_name": "LayoutModel",
      "state": {}
     },
     "84b63aac655f4bc9a643172b1b553b7a": {
      "model_module": "@jupyter-widgets/controls",
      "model_module_version": "1.5.0",
      "model_name": "FloatProgressModel",
      "state": {
       "bar_style": "danger",
       "description": "Run 28 of 390 [PID: 2312]:   5%",
       "layout": "IPY_MODEL_1359412064d44e63b2e0f69c38db8f01",
       "max": 8760,
       "style": "IPY_MODEL_32f26e87b0474eed92c94cb973751df9",
       "value": 415
      }
     },
     "84f34d9409e041849c7d523f7a2b59da": {
      "model_module": "@jupyter-widgets/controls",
      "model_module_version": "1.5.0",
      "model_name": "FloatProgressModel",
      "state": {
       "bar_style": "success",
       "description": "poop: 100%",
       "layout": "IPY_MODEL_8e8f3e601355452598134e12a3f0dc62",
       "max": 8760,
       "style": "IPY_MODEL_c125b3688ebf4d0f862b3772578ffdcc",
       "value": 8760
      }
     },
     "84ffb85d68014ca3af2e592d7c381b46": {
      "model_module": "@jupyter-widgets/controls",
      "model_module_version": "1.5.0",
      "model_name": "DescriptionStyleModel",
      "state": {
       "description_width": ""
      }
     },
     "85021016d0d34d578c44f89478d90552": {
      "model_module": "@jupyter-widgets/controls",
      "model_module_version": "1.5.0",
      "model_name": "HTMLModel",
      "state": {
       "layout": "IPY_MODEL_bb7504233764458292f7d01e447947f8",
       "style": "IPY_MODEL_92f3cc59f01f45fcbee7dfb7f6324e69",
       "value": " 8760/8760 [03:31&lt;00:00, 41.50steps/s]"
      }
     },
     "850939bac1694536900009515b7a89f7": {
      "model_module": "@jupyter-widgets/controls",
      "model_module_version": "1.5.0",
      "model_name": "DescriptionStyleModel",
      "state": {
       "description_width": ""
      }
     },
     "857cb46fc4c44141927817d52ee712c1": {
      "model_module": "@jupyter-widgets/controls",
      "model_module_version": "1.5.0",
      "model_name": "HTMLModel",
      "state": {
       "layout": "IPY_MODEL_66e897f2f617493fb0b986beb7269720",
       "style": "IPY_MODEL_ab875263cfaf4e65b1be3931a3f482e1",
       "value": " 8760/8760 [00:32&lt;00:00, 271.84steps/s]"
      }
     },
     "85996d9fbabd4ba9b39ec121e8ad2869": {
      "model_module": "@jupyter-widgets/controls",
      "model_module_version": "1.5.0",
      "model_name": "DescriptionStyleModel",
      "state": {
       "description_width": ""
      }
     },
     "859d6b51a29e4f36b4954e645d0a8669": {
      "model_module": "@jupyter-widgets/base",
      "model_module_version": "1.2.0",
      "model_name": "LayoutModel",
      "state": {}
     },
     "85a2929742bb4ea7a50bb0086c8954cc": {
      "model_module": "@jupyter-widgets/controls",
      "model_module_version": "1.5.0",
      "model_name": "HBoxModel",
      "state": {
       "children": [
        "IPY_MODEL_eb6b49af58fc4161b9086c2da9edeca0",
        "IPY_MODEL_85021016d0d34d578c44f89478d90552"
       ],
       "layout": "IPY_MODEL_0d0615e6e862434d8325d2f872d13ead"
      }
     },
     "85aec21ee6ff4bf88a4caa709363d9f3": {
      "model_module": "@jupyter-widgets/base",
      "model_module_version": "1.2.0",
      "model_name": "LayoutModel",
      "state": {}
     },
     "85d4bad7bc114b7fabef9330c58adbfc": {
      "model_module": "@jupyter-widgets/controls",
      "model_module_version": "1.5.0",
      "model_name": "ProgressStyleModel",
      "state": {
       "description_width": "initial"
      }
     },
     "85d95343c5d4419db83a4add48b2a771": {
      "model_module": "@jupyter-widgets/controls",
      "model_module_version": "1.5.0",
      "model_name": "HTMLModel",
      "state": {
       "layout": "IPY_MODEL_6bea2f3637b64d4dbff6b2d1e4844522",
       "style": "IPY_MODEL_52ddf501064f4ece80ef976ffa03ff2a",
       "value": " 8760/8760 [00:29&lt;00:00, 293.05steps/s]"
      }
     },
     "85e17ad9a50f4e6a909b2b1b555595bf": {
      "model_module": "@jupyter-widgets/base",
      "model_module_version": "1.2.0",
      "model_name": "LayoutModel",
      "state": {}
     },
     "85efb20ebe9b4d3c971bd2795b141cc1": {
      "model_module": "@jupyter-widgets/controls",
      "model_module_version": "1.5.0",
      "model_name": "DescriptionStyleModel",
      "state": {
       "description_width": ""
      }
     },
     "85f2b351d4a44f23ac9cb4043748070f": {
      "model_module": "@jupyter-widgets/base",
      "model_module_version": "1.2.0",
      "model_name": "LayoutModel",
      "state": {}
     },
     "8604243fd8624e058183fb2a9bb9a7b2": {
      "model_module": "@jupyter-widgets/base",
      "model_module_version": "1.2.0",
      "model_name": "LayoutModel",
      "state": {}
     },
     "86081329451d41679e6df7fcb6e01c88": {
      "model_module": "@jupyter-widgets/base",
      "model_module_version": "1.2.0",
      "model_name": "LayoutModel",
      "state": {}
     },
     "861dd1a8861b43308d155dd47995394b": {
      "model_module": "@jupyter-widgets/controls",
      "model_module_version": "1.5.0",
      "model_name": "FloatProgressModel",
      "state": {
       "description": "Run 124 of 156 [PID: 72809]:  45%",
       "layout": "IPY_MODEL_407401a76aa348679b23b336110f6e86",
       "max": 175320,
       "style": "IPY_MODEL_d34f9fe1806241cf9af9c2acc35f979f",
       "value": 78548
      }
     },
     "862c470de25c4708a9cfceb5bf209a70": {
      "model_module": "@jupyter-widgets/base",
      "model_module_version": "1.2.0",
      "model_name": "LayoutModel",
      "state": {}
     },
     "867328d5abc6428fb44af7d5c2d35f91": {
      "model_module": "@jupyter-widgets/base",
      "model_module_version": "1.2.0",
      "model_name": "LayoutModel",
      "state": {}
     },
     "86866731ce1d4be8a403799f3829b98d": {
      "model_module": "@jupyter-widgets/controls",
      "model_module_version": "1.5.0",
      "model_name": "HTMLModel",
      "state": {
       "layout": "IPY_MODEL_376eba0f2a4448b6bdad9006c96967d7",
       "style": "IPY_MODEL_a0a2138f035e4a69a42303109e1cf963",
       "value": " 8760/8760 [00:30&lt;00:00, 285.26steps/s]"
      }
     },
     "86cc507047c44b2cb625a4ac9c79a407": {
      "model_module": "@jupyter-widgets/base",
      "model_module_version": "1.2.0",
      "model_name": "LayoutModel",
      "state": {}
     },
     "86f20d3b407a4d52b22dc1258a96937d": {
      "model_module": "@jupyter-widgets/controls",
      "model_module_version": "1.5.0",
      "model_name": "ProgressStyleModel",
      "state": {
       "description_width": "initial"
      }
     },
     "86f82e446eaf4cadb5d4cd3237108300": {
      "model_module": "@jupyter-widgets/base",
      "model_module_version": "1.2.0",
      "model_name": "LayoutModel",
      "state": {}
     },
     "871b29b5edcd4f2b962a3fdd63d11ec2": {
      "model_module": "@jupyter-widgets/controls",
      "model_module_version": "1.5.0",
      "model_name": "DescriptionStyleModel",
      "state": {
       "description_width": ""
      }
     },
     "8735a3452a0543c98c4c0910a7ef0327": {
      "model_module": "@jupyter-widgets/base",
      "model_module_version": "1.2.0",
      "model_name": "LayoutModel",
      "state": {}
     },
     "873814c91aca4bf69d3ea49911b9289b": {
      "model_module": "@jupyter-widgets/controls",
      "model_module_version": "1.5.0",
      "model_name": "DescriptionStyleModel",
      "state": {
       "description_width": ""
      }
     },
     "8765c174c8ae408684c74265329d6181": {
      "model_module": "@jupyter-widgets/controls",
      "model_module_version": "1.5.0",
      "model_name": "ProgressStyleModel",
      "state": {
       "description_width": "initial"
      }
     },
     "876955b7a4a4427a9414b8bd0bcecc64": {
      "model_module": "@jupyter-widgets/controls",
      "model_module_version": "1.5.0",
      "model_name": "DescriptionStyleModel",
      "state": {
       "description_width": ""
      }
     },
     "876eb4160702473887c3463d9e532e99": {
      "model_module": "@jupyter-widgets/controls",
      "model_module_version": "1.5.0",
      "model_name": "HBoxModel",
      "state": {
       "children": [
        "IPY_MODEL_12341901a8b7475788141e75db435087",
        "IPY_MODEL_9e6ffe77d0654816895adc85ece69008"
       ],
       "layout": "IPY_MODEL_04ebe57e81854853ab8090aa2beb86a5"
      }
     },
     "878ff03005cc484781e6a5e60c6f5a01": {
      "model_module": "@jupyter-widgets/base",
      "model_module_version": "1.2.0",
      "model_name": "LayoutModel",
      "state": {}
     },
     "87a0ffec95334a91bcbc339ea2119aab": {
      "model_module": "@jupyter-widgets/controls",
      "model_module_version": "1.5.0",
      "model_name": "ProgressStyleModel",
      "state": {
       "description_width": "initial"
      }
     },
     "87a4b431727c4b47b511fe0a9b49ad20": {
      "model_module": "@jupyter-widgets/controls",
      "model_module_version": "1.5.0",
      "model_name": "HTMLModel",
      "state": {
       "layout": "IPY_MODEL_b00c6e450bae4194a3d97e4c5f07bd22",
       "style": "IPY_MODEL_f78e857de27d4cdfaaa6a630402ab4e8",
       "value": " 8760/8760 [00:31&lt;00:00, 274.55steps/s]"
      }
     },
     "87bcc0e98b8f42b1b1266d057b4e6afa": {
      "model_module": "@jupyter-widgets/controls",
      "model_module_version": "1.5.0",
      "model_name": "FloatProgressModel",
      "state": {
       "bar_style": "success",
       "description": "Run 24 of 156 [PID: 21992]: 100%",
       "layout": "IPY_MODEL_c2776751dff3417fb578e454234301f0",
       "max": 8760,
       "style": "IPY_MODEL_c1f5aba4800e45ed945519a3df94d5e2",
       "value": 8760
      }
     },
     "87e37a24b41d4ac5a8be419ef2ab7915": {
      "model_module": "@jupyter-widgets/controls",
      "model_module_version": "1.5.0",
      "model_name": "HBoxModel",
      "state": {
       "children": [
        "IPY_MODEL_13abad1859d54c17ba3b9748ce5b6713",
        "IPY_MODEL_1c9ac151c5da4c33acf5886bf9094557"
       ],
       "layout": "IPY_MODEL_60b21bf85d75493fb538b1a64db4553f"
      }
     },
     "87edbe1baeb34c8c85da11378de1ca3e": {
      "model_module": "@jupyter-widgets/controls",
      "model_module_version": "1.5.0",
      "model_name": "FloatProgressModel",
      "state": {
       "bar_style": "danger",
       "description": "poop:  80%",
       "layout": "IPY_MODEL_d1d3c682e08e415f902b9f2ec9a121e4",
       "max": 8760,
       "style": "IPY_MODEL_dd82db1516ee4594996b4ff23fcd10d0",
       "value": 6971
      }
     },
     "87f8c68e78204651a90ce4402e86e949": {
      "model_module": "@jupyter-widgets/controls",
      "model_module_version": "1.5.0",
      "model_name": "FloatProgressModel",
      "state": {
       "bar_style": "success",
       "description": "Run 65 of 156 [PID: 21988]: 100%",
       "layout": "IPY_MODEL_039faaef435e40f1810ed3f9c25eea0b",
       "max": 8760,
       "style": "IPY_MODEL_b29040db17ef4739b31ae8fea8f44877",
       "value": 8760
      }
     },
     "880ef4ec840f4f178e04fefa82c9542d": {
      "model_module": "@jupyter-widgets/base",
      "model_module_version": "1.2.0",
      "model_name": "LayoutModel",
      "state": {}
     },
     "880f0280bf0e40d08a2937d18d5deb74": {
      "model_module": "@jupyter-widgets/controls",
      "model_module_version": "1.5.0",
      "model_name": "HTMLModel",
      "state": {
       "layout": "IPY_MODEL_84120fa79b3b481ca0b95e348083f8c2",
       "style": "IPY_MODEL_4099348f970b4b2d85fd2b409139fd8c",
       "value": " 0/8760 [00:00&lt;?, ?steps/s]"
      }
     },
     "8815a0df211c419794f3155a0883cedc": {
      "model_module": "@jupyter-widgets/base",
      "model_module_version": "1.2.0",
      "model_name": "LayoutModel",
      "state": {}
     },
     "8815e5920ae947e9a15643bf991341af": {
      "model_module": "@jupyter-widgets/base",
      "model_module_version": "1.2.0",
      "model_name": "LayoutModel",
      "state": {}
     },
     "8842da6bcd9a4b02b78f9b52002f626f": {
      "model_module": "@jupyter-widgets/controls",
      "model_module_version": "1.5.0",
      "model_name": "FloatProgressModel",
      "state": {
       "bar_style": "success",
       "description": "Run 63 of 156 [PID: 21995]: 100%",
       "layout": "IPY_MODEL_0ad1d9c075f14ba4a72cbba732418509",
       "max": 8760,
       "style": "IPY_MODEL_32041da9ea6445ce9724baeb2b281004",
       "value": 8760
      }
     },
     "885248113ecd44cfa6e0bcfcc6d39b26": {
      "model_module": "@jupyter-widgets/controls",
      "model_module_version": "1.5.0",
      "model_name": "HBoxModel",
      "state": {
       "children": [
        "IPY_MODEL_fa1d5763884a41529d00c834be60e8e1",
        "IPY_MODEL_ce4380f4520e408b8643ad4a9ab10dff"
       ],
       "layout": "IPY_MODEL_56c0b720399b445f99f88ef7872c2e90"
      }
     },
     "88627f38a042463ba758ec066f53bfcb": {
      "model_module": "@jupyter-widgets/base",
      "model_module_version": "1.2.0",
      "model_name": "LayoutModel",
      "state": {}
     },
     "886c97824bcd4316856b7b82894f2fd8": {
      "model_module": "@jupyter-widgets/controls",
      "model_module_version": "1.5.0",
      "model_name": "FloatProgressModel",
      "state": {
       "bar_style": "danger",
       "description": "Run 24 of 156 [PID: 45695]:  25%",
       "layout": "IPY_MODEL_6e58dfc4059746d6809e9fe3c022502e",
       "max": 8760,
       "style": "IPY_MODEL_85d4bad7bc114b7fabef9330c58adbfc",
       "value": 2225
      }
     },
     "886ce1990641459f9ba20929d3a37aa4": {
      "model_module": "@jupyter-widgets/controls",
      "model_module_version": "1.5.0",
      "model_name": "HTMLModel",
      "state": {
       "layout": "IPY_MODEL_a7148a6e73c742dbbba30c83dff10f22",
       "style": "IPY_MODEL_d94202a5af9a437f95e432171c044575",
       "value": " 649/8760 [00:02&lt;00:28, 284.41steps/s]"
      }
     },
     "8889ebcb357146f68ae4d00a0025a833": {
      "model_module": "@jupyter-widgets/controls",
      "model_module_version": "1.5.0",
      "model_name": "FloatProgressModel",
      "state": {
       "bar_style": "success",
       "description": "Run 26 of 156 [PID: 21991]: 100%",
       "layout": "IPY_MODEL_5f5c642ab9804e7a8c91a3d5ff5b9fb9",
       "max": 8760,
       "style": "IPY_MODEL_15a255d04b6040028edcad02c8a95d48",
       "value": 8760
      }
     },
     "88d1aca10a2d4c798e0423a018e3fe36": {
      "model_module": "@jupyter-widgets/controls",
      "model_module_version": "1.5.0",
      "model_name": "ProgressStyleModel",
      "state": {
       "description_width": "initial"
      }
     },
     "88e0cf0435ec43a68f4dbfa7889cfdc1": {
      "model_module": "@jupyter-widgets/controls",
      "model_module_version": "1.5.0",
      "model_name": "ProgressStyleModel",
      "state": {
       "description_width": "initial"
      }
     },
     "88edaaddf0e8456aadc77aaa9250d783": {
      "model_module": "@jupyter-widgets/controls",
      "model_module_version": "1.5.0",
      "model_name": "ProgressStyleModel",
      "state": {
       "description_width": "initial"
      }
     },
     "89451af547224ed6bb0816dd3a08a46f": {
      "model_module": "@jupyter-widgets/controls",
      "model_module_version": "1.5.0",
      "model_name": "HBoxModel",
      "state": {
       "children": [
        "IPY_MODEL_c744cc90984d4e18bb5399933389b6e8",
        "IPY_MODEL_1f31928e72254c0e861bd469ab644a37"
       ],
       "layout": "IPY_MODEL_7de00de22cc6412a8c780b657a530207"
      }
     },
     "8959baadd30e44049a1efcfc9cb7b516": {
      "model_module": "@jupyter-widgets/base",
      "model_module_version": "1.2.0",
      "model_name": "LayoutModel",
      "state": {}
     },
     "8981f0e9fb024cb0a955ef38e1dbdf72": {
      "model_module": "@jupyter-widgets/controls",
      "model_module_version": "1.5.0",
      "model_name": "DescriptionStyleModel",
      "state": {
       "description_width": ""
      }
     },
     "899aa9f8e3fc45d5ba558d2eb1b8f571": {
      "model_module": "@jupyter-widgets/base",
      "model_module_version": "1.2.0",
      "model_name": "LayoutModel",
      "state": {}
     },
     "899ae0d5178c474ba2699f24c1decd10": {
      "model_module": "@jupyter-widgets/controls",
      "model_module_version": "1.5.0",
      "model_name": "DescriptionStyleModel",
      "state": {
       "description_width": ""
      }
     },
     "899e734f89b64956aecd05139799139e": {
      "model_module": "@jupyter-widgets/controls",
      "model_module_version": "1.5.0",
      "model_name": "HTMLModel",
      "state": {
       "layout": "IPY_MODEL_4130d38ac6614216a9fea4e09d7262b4",
       "style": "IPY_MODEL_14624b0127544dcabeacda383665ab0e",
       "value": " 8760/8760 [00:31&lt;00:00, 281.81steps/s]"
      }
     },
     "89be8b863f234c89877d9c4d9d9bf1a0": {
      "model_module": "@jupyter-widgets/controls",
      "model_module_version": "1.5.0",
      "model_name": "HTMLModel",
      "state": {
       "layout": "IPY_MODEL_c5d48883818b49d196a519320dae0dd0",
       "style": "IPY_MODEL_62a5f6a7479c47a293bab8326ec62839",
       "value": " 8760/8760 [00:31&lt;00:00, 278.81steps/s]"
      }
     },
     "89bf87c4a60d42f5904c2aa2e190a96f": {
      "model_module": "@jupyter-widgets/base",
      "model_module_version": "1.2.0",
      "model_name": "LayoutModel",
      "state": {}
     },
     "89c7527a98cb479ea690cec80fa7cfaa": {
      "model_module": "@jupyter-widgets/controls",
      "model_module_version": "1.5.0",
      "model_name": "ProgressStyleModel",
      "state": {
       "description_width": "initial"
      }
     },
     "89cff4244f0242b082946a096eb5900b": {
      "model_module": "@jupyter-widgets/base",
      "model_module_version": "1.2.0",
      "model_name": "LayoutModel",
      "state": {}
     },
     "89d6a9c07b5b4e0d96b66a63ebae0e1d": {
      "model_module": "@jupyter-widgets/base",
      "model_module_version": "1.2.0",
      "model_name": "LayoutModel",
      "state": {}
     },
     "89dc597deb144cb8b4cf8195a6f4a989": {
      "model_module": "@jupyter-widgets/base",
      "model_module_version": "1.2.0",
      "model_name": "LayoutModel",
      "state": {}
     },
     "89e5d744ef144097a1a09db8e2a50a8d": {
      "model_module": "@jupyter-widgets/base",
      "model_module_version": "1.2.0",
      "model_name": "LayoutModel",
      "state": {}
     },
     "89ea43dd83d8432da5d59e79754198af": {
      "model_module": "@jupyter-widgets/controls",
      "model_module_version": "1.5.0",
      "model_name": "HBoxModel",
      "state": {
       "children": [
        "IPY_MODEL_1afecae5557c45269c81e25f3a320147",
        "IPY_MODEL_f27facf9ca3a4c63b72722ee9afea670"
       ],
       "layout": "IPY_MODEL_64dff86c54b94cf996c0c6c27769e007"
      }
     },
     "89f406533cc3415fac30b62697f6c275": {
      "model_module": "@jupyter-widgets/base",
      "model_module_version": "1.2.0",
      "model_name": "LayoutModel",
      "state": {}
     },
     "8a097070dbfc485bbf2ff3376e3b2a70": {
      "model_module": "@jupyter-widgets/base",
      "model_module_version": "1.2.0",
      "model_name": "LayoutModel",
      "state": {}
     },
     "8a18d4ee95554a7399c56e0517980c66": {
      "model_module": "@jupyter-widgets/controls",
      "model_module_version": "1.5.0",
      "model_name": "HTMLModel",
      "state": {
       "layout": "IPY_MODEL_02a1cddeb3e249ba9c90926781abd196",
       "style": "IPY_MODEL_4626bed121f842c8a71d8ff7143b158d",
       "value": " 5905/8760 [00:21&lt;00:09, 287.66steps/s]"
      }
     },
     "8a4704305ca84397a6df8c37a1d7a206": {
      "model_module": "@jupyter-widgets/base",
      "model_module_version": "1.2.0",
      "model_name": "LayoutModel",
      "state": {}
     },
     "8a6008f57bfa4ec4ad5b74847a1f4cf8": {
      "model_module": "@jupyter-widgets/controls",
      "model_module_version": "1.5.0",
      "model_name": "HTMLModel",
      "state": {
       "layout": "IPY_MODEL_49f1131808dc45859ba0036369455a97",
       "style": "IPY_MODEL_5cf5d31c08f44f1e946619c683809ffc",
       "value": " 8760/8760 [00:31&lt;00:00, 281.50steps/s]"
      }
     },
     "8a656ec678254589b094cb6cd2d20d62": {
      "model_module": "@jupyter-widgets/controls",
      "model_module_version": "1.5.0",
      "model_name": "HBoxModel",
      "state": {
       "children": [
        "IPY_MODEL_4cbacaab6c3045c58566b1127c192ea4",
        "IPY_MODEL_3fac0f4a881b40edbf436ee426d6856c"
       ],
       "layout": "IPY_MODEL_d739fac6153e40d2ba769eade3d92e08"
      }
     },
     "8a81caf436c84332a8d7b9e59c1852e2": {
      "model_module": "@jupyter-widgets/base",
      "model_module_version": "1.2.0",
      "model_name": "LayoutModel",
      "state": {}
     },
     "8a836b6f2d5c47e8878966445bfe968b": {
      "model_module": "@jupyter-widgets/base",
      "model_module_version": "1.2.0",
      "model_name": "LayoutModel",
      "state": {}
     },
     "8a9d9dca75244436bdd9c53045a4d08e": {
      "model_module": "@jupyter-widgets/base",
      "model_module_version": "1.2.0",
      "model_name": "LayoutModel",
      "state": {}
     },
     "8aa02370b56f415cb85e414466425f2c": {
      "model_module": "@jupyter-widgets/controls",
      "model_module_version": "1.5.0",
      "model_name": "DescriptionStyleModel",
      "state": {
       "description_width": ""
      }
     },
     "8aa611516e3348e8830d0e54036f34a3": {
      "model_module": "@jupyter-widgets/base",
      "model_module_version": "1.2.0",
      "model_name": "LayoutModel",
      "state": {}
     },
     "8aabc16b6bb541c9b114a4ea01e18f6c": {
      "model_module": "@jupyter-widgets/controls",
      "model_module_version": "1.5.0",
      "model_name": "HBoxModel",
      "state": {
       "children": [
        "IPY_MODEL_61a818f2ebe549ac8493edb1a19e32ed",
        "IPY_MODEL_36bd339c19fe4d34816da9196fc7ec72"
       ],
       "layout": "IPY_MODEL_68b7a6dea8714b8a97e4bc0049384c15"
      }
     },
     "8ab0dbd2d387437db829a9db7acabf7a": {
      "model_module": "@jupyter-widgets/base",
      "model_module_version": "1.2.0",
      "model_name": "LayoutModel",
      "state": {}
     },
     "8ab9300e4507455c9ea28617cfc2eabf": {
      "model_module": "@jupyter-widgets/base",
      "model_module_version": "1.2.0",
      "model_name": "LayoutModel",
      "state": {}
     },
     "8abbe50c608345f584aaceecd350664d": {
      "model_module": "@jupyter-widgets/base",
      "model_module_version": "1.2.0",
      "model_name": "LayoutModel",
      "state": {}
     },
     "8aefca30a1b1404f80b72e21489db76f": {
      "model_module": "@jupyter-widgets/base",
      "model_module_version": "1.2.0",
      "model_name": "LayoutModel",
      "state": {}
     },
     "8b11d0ae0fa743f9a69d873a8448e9e1": {
      "model_module": "@jupyter-widgets/controls",
      "model_module_version": "1.5.0",
      "model_name": "FloatProgressModel",
      "state": {
       "bar_style": "success",
       "description": "Run 56 of 156 [PID: 21986]: 100%",
       "layout": "IPY_MODEL_1ef5ee4795d640948fa6fefb2a6583e1",
       "max": 8760,
       "style": "IPY_MODEL_434bcf6c9ace48d6849d9314dc3bb6ea",
       "value": 8760
      }
     },
     "8b2583f74ad64688928e28cd5d401f8c": {
      "model_module": "@jupyter-widgets/base",
      "model_module_version": "1.2.0",
      "model_name": "LayoutModel",
      "state": {}
     },
     "8b3d11073a8c4fe9a431296e90b01181": {
      "model_module": "@jupyter-widgets/controls",
      "model_module_version": "1.5.0",
      "model_name": "DescriptionStyleModel",
      "state": {
       "description_width": ""
      }
     },
     "8b5d9d74bd3b425e84d88214a3b31cd4": {
      "model_module": "@jupyter-widgets/controls",
      "model_module_version": "1.5.0",
      "model_name": "FloatProgressModel",
      "state": {
       "description": "Run 110 of 156 [PID: 72859]:  47%",
       "layout": "IPY_MODEL_950f195ae79045bfa3870c6ffd99b47d",
       "max": 175320,
       "style": "IPY_MODEL_4243ae860b3043268c9d1f44dc490f3f",
       "value": 82344
      }
     },
     "8b82a90e8b31403ba9c13667885c947a": {
      "model_module": "@jupyter-widgets/controls",
      "model_module_version": "1.5.0",
      "model_name": "HBoxModel",
      "state": {
       "children": [
        "IPY_MODEL_1bbeae5f07184510935a11062d444f99",
        "IPY_MODEL_ce53a5ab85be45c1a8f1f48903b7f016"
       ],
       "layout": "IPY_MODEL_91c5fccee97e4a68bb69c8689eaba967"
      }
     },
     "8ba2aa40919947e2805ab504b3e177b6": {
      "model_module": "@jupyter-widgets/controls",
      "model_module_version": "1.5.0",
      "model_name": "DescriptionStyleModel",
      "state": {
       "description_width": ""
      }
     },
     "8ba6795df4444b568e2eef91d056427b": {
      "model_module": "@jupyter-widgets/controls",
      "model_module_version": "1.5.0",
      "model_name": "DescriptionStyleModel",
      "state": {
       "description_width": ""
      }
     },
     "8bed12b281964ba19507778c24b9944c": {
      "model_module": "@jupyter-widgets/base",
      "model_module_version": "1.2.0",
      "model_name": "LayoutModel",
      "state": {}
     },
     "8bf834081aa6477ca9d3326d40162d72": {
      "model_module": "@jupyter-widgets/base",
      "model_module_version": "1.2.0",
      "model_name": "LayoutModel",
      "state": {}
     },
     "8c2d1743d0764d52879ac41958a70328": {
      "model_module": "@jupyter-widgets/controls",
      "model_module_version": "1.5.0",
      "model_name": "FloatProgressModel",
      "state": {
       "bar_style": "success",
       "description": "Run 29 of 156 [PID: 21995]: 100%",
       "layout": "IPY_MODEL_17011919589642dc9ad2dac203e1ca30",
       "max": 8760,
       "style": "IPY_MODEL_66d6ed2033414cadac3644caffbdfe2b",
       "value": 8760
      }
     },
     "8c472f9f9968441699c36288ecbb8c6d": {
      "model_module": "@jupyter-widgets/controls",
      "model_module_version": "1.5.0",
      "model_name": "DescriptionStyleModel",
      "state": {
       "description_width": ""
      }
     },
     "8c5f23af74b54807ac77f52a061295ce": {
      "model_module": "@jupyter-widgets/base",
      "model_module_version": "1.2.0",
      "model_name": "LayoutModel",
      "state": {}
     },
     "8caea9b942324818b25e41adb4514756": {
      "model_module": "@jupyter-widgets/controls",
      "model_module_version": "1.5.0",
      "model_name": "ProgressStyleModel",
      "state": {
       "description_width": "initial"
      }
     },
     "8cbc22dc03b34460bf6d7dfa725ee16c": {
      "model_module": "@jupyter-widgets/controls",
      "model_module_version": "1.5.0",
      "model_name": "HTMLModel",
      "state": {
       "layout": "IPY_MODEL_c58d996394494be19981ffa9b9de90b2",
       "style": "IPY_MODEL_b0c7f98504444dbb8fba219e80ccf048",
       "value": " 78622/175320 [3:18:04&lt;4:12:18,  6.39steps/s]"
      }
     },
     "8cbd6f24b31d49119588ba8780d74eb3": {
      "model_module": "@jupyter-widgets/controls",
      "model_module_version": "1.5.0",
      "model_name": "HTMLModel",
      "state": {
       "layout": "IPY_MODEL_2ca1427b7b5e40b7b423a7d9f6efa4d7",
       "style": "IPY_MODEL_75143588e56f4d998ef57c18692c4908",
       "value": " 1101/8760 [00:04&lt;00:28, 272.14steps/s]"
      }
     },
     "8cc282c582d94d718e8c0db255e4cf5f": {
      "model_module": "@jupyter-widgets/controls",
      "model_module_version": "1.5.0",
      "model_name": "DescriptionStyleModel",
      "state": {
       "description_width": ""
      }
     },
     "8ce993477dff4adcb3d6b80eb2c41f65": {
      "model_module": "@jupyter-widgets/controls",
      "model_module_version": "1.5.0",
      "model_name": "DescriptionStyleModel",
      "state": {
       "description_width": ""
      }
     },
     "8d15beff447d46feb2acb9120e550dad": {
      "model_module": "@jupyter-widgets/controls",
      "model_module_version": "1.5.0",
      "model_name": "FloatProgressModel",
      "state": {
       "bar_style": "success",
       "description": "poop: 100%",
       "layout": "IPY_MODEL_8a9d9dca75244436bdd9c53045a4d08e",
       "max": 8760,
       "style": "IPY_MODEL_1ea84ee2d9ec4ba5b455bd3e50d63333",
       "value": 8760
      }
     },
     "8d23e741c8c3482b8a54c2a55225629d": {
      "model_module": "@jupyter-widgets/controls",
      "model_module_version": "1.5.0",
      "model_name": "DescriptionStyleModel",
      "state": {
       "description_width": ""
      }
     },
     "8d2ae4955f1648e7a7187aab28c54f75": {
      "model_module": "@jupyter-widgets/controls",
      "model_module_version": "1.5.0",
      "model_name": "ProgressStyleModel",
      "state": {
       "description_width": "initial"
      }
     },
     "8d38979eaaae49f49023cb45d15c4ad2": {
      "model_module": "@jupyter-widgets/controls",
      "model_module_version": "1.5.0",
      "model_name": "FloatProgressModel",
      "state": {
       "bar_style": "danger",
       "description": "Run 28 of 156 [PID: 45691]:  24%",
       "layout": "IPY_MODEL_4c7c2cb3ff2b413b91b2c618925f6e8b",
       "max": 8760,
       "style": "IPY_MODEL_fe56dbe5ae734bf8b949b838bb77e709",
       "value": 2123
      }
     },
     "8d5310ac03354e7ba6fba8424d0e0e45": {
      "model_module": "@jupyter-widgets/controls",
      "model_module_version": "1.5.0",
      "model_name": "DescriptionStyleModel",
      "state": {
       "description_width": ""
      }
     },
     "8d54d7ebb60044a9a6545ae890f85c04": {
      "model_module": "@jupyter-widgets/base",
      "model_module_version": "1.2.0",
      "model_name": "LayoutModel",
      "state": {}
     },
     "8d880df39ae5426b91da812e99680862": {
      "model_module": "@jupyter-widgets/controls",
      "model_module_version": "1.5.0",
      "model_name": "FloatProgressModel",
      "state": {
       "bar_style": "success",
       "description": "Run 18 of 390 [PID: 2309]: 100%",
       "layout": "IPY_MODEL_e1e63747fabf4866bb1898fb3b5797e3",
       "max": 8760,
       "style": "IPY_MODEL_0075626aefee4e5f88db65093790205b",
       "value": 8760
      }
     },
     "8dda8fb668f9495ebad6b4ddc8b32393": {
      "model_module": "@jupyter-widgets/controls",
      "model_module_version": "1.5.0",
      "model_name": "DescriptionStyleModel",
      "state": {
       "description_width": ""
      }
     },
     "8df1d30a861e4ddfa5db108603be6741": {
      "model_module": "@jupyter-widgets/controls",
      "model_module_version": "1.5.0",
      "model_name": "HBoxModel",
      "state": {
       "children": [
        "IPY_MODEL_59f8fd6d4f00425bbf2fabe0f5ab8f71",
        "IPY_MODEL_110a057a60f5429ca2e17e9d9373c6c7"
       ],
       "layout": "IPY_MODEL_6608a3e4c4a343cbba819c092db78960"
      }
     },
     "8df754afbfca415f88a381569bc7b53e": {
      "model_module": "@jupyter-widgets/base",
      "model_module_version": "1.2.0",
      "model_name": "LayoutModel",
      "state": {}
     },
     "8e09570fde6649b6a266314b9d15ce5b": {
      "model_module": "@jupyter-widgets/controls",
      "model_module_version": "1.5.0",
      "model_name": "DescriptionStyleModel",
      "state": {
       "description_width": ""
      }
     },
     "8e2554d2fb9f40648df262a6e3b82479": {
      "model_module": "@jupyter-widgets/controls",
      "model_module_version": "1.5.0",
      "model_name": "HTMLModel",
      "state": {
       "layout": "IPY_MODEL_2bc7e836a76f4ddb8e0f9490887331e2",
       "style": "IPY_MODEL_512f7592496b4be9a56fc2f48e40ecfe",
       "value": " 8760/8760 [00:30&lt;00:00, 286.01steps/s]"
      }
     },
     "8e2bbfbac03a4d61b8d06851a56b6064": {
      "model_module": "@jupyter-widgets/controls",
      "model_module_version": "1.5.0",
      "model_name": "FloatProgressModel",
      "state": {
       "description": "Run 125 of 156 [PID: 72820]:  46%",
       "layout": "IPY_MODEL_f53d42fffb3d42d2b8699a4951d0faf1",
       "max": 175320,
       "style": "IPY_MODEL_88e0cf0435ec43a68f4dbfa7889cfdc1",
       "value": 80445
      }
     },
     "8e2f285d522b4cb187750f83adaa0007": {
      "model_module": "@jupyter-widgets/controls",
      "model_module_version": "1.5.0",
      "model_name": "FloatProgressModel",
      "state": {
       "description": "Run 117 of 156 [PID: 72858]:  49%",
       "layout": "IPY_MODEL_89cff4244f0242b082946a096eb5900b",
       "max": 175320,
       "style": "IPY_MODEL_dbedb2f209f2498c9cffa939735cd500",
       "value": 86454
      }
     },
     "8e486b33db0143b89b56e4b0d5c52690": {
      "model_module": "@jupyter-widgets/base",
      "model_module_version": "1.2.0",
      "model_name": "LayoutModel",
      "state": {}
     },
     "8e54852812704784a24be9eec29af946": {
      "model_module": "@jupyter-widgets/base",
      "model_module_version": "1.2.0",
      "model_name": "LayoutModel",
      "state": {}
     },
     "8e8dcbb1fd8d407ea3725e2fbb6e78a3": {
      "model_module": "@jupyter-widgets/controls",
      "model_module_version": "1.5.0",
      "model_name": "HBoxModel",
      "state": {
       "children": [
        "IPY_MODEL_ae901ea89c294d06bb6d56a0e3f5adf4",
        "IPY_MODEL_1f316a49d8f448888461d6125cd1bd0e"
       ],
       "layout": "IPY_MODEL_971a64391065454bb5db2f9d3e234863"
      }
     },
     "8e8f3e601355452598134e12a3f0dc62": {
      "model_module": "@jupyter-widgets/base",
      "model_module_version": "1.2.0",
      "model_name": "LayoutModel",
      "state": {}
     },
     "8ea07406a60d40758370bc03d2529fc5": {
      "model_module": "@jupyter-widgets/base",
      "model_module_version": "1.2.0",
      "model_name": "LayoutModel",
      "state": {}
     },
     "8ec3f4b2d50140ee826b656117d764cb": {
      "model_module": "@jupyter-widgets/controls",
      "model_module_version": "1.5.0",
      "model_name": "HBoxModel",
      "state": {
       "children": [
        "IPY_MODEL_098d515c6822490ba35b57d657eece3a",
        "IPY_MODEL_12faa5d322be4c99b6353b2e26ff745a"
       ],
       "layout": "IPY_MODEL_90d6f8fcceb74196ab6d7f8489bce6e7"
      }
     },
     "8ecca06e59e24dae97e5f54df9fc77d7": {
      "model_module": "@jupyter-widgets/base",
      "model_module_version": "1.2.0",
      "model_name": "LayoutModel",
      "state": {}
     },
     "8eea7406228e4395901b0d0895f1c603": {
      "model_module": "@jupyter-widgets/controls",
      "model_module_version": "1.5.0",
      "model_name": "ProgressStyleModel",
      "state": {
       "description_width": "initial"
      }
     },
     "8f97912f125d4d0eb53887101fdc3f5c": {
      "model_module": "@jupyter-widgets/controls",
      "model_module_version": "1.5.0",
      "model_name": "FloatProgressModel",
      "state": {
       "description": "Run 100 of 156 [PID: 72826]:  48%",
       "layout": "IPY_MODEL_234475597c8c43258f1260868fd27908",
       "max": 175320,
       "style": "IPY_MODEL_5ebcaa200cb04ae6aac09672f52d534e",
       "value": 84301
      }
     },
     "8f9eeb54af3b4fbabdd1cb8c8363d23a": {
      "model_module": "@jupyter-widgets/controls",
      "model_module_version": "1.5.0",
      "model_name": "DescriptionStyleModel",
      "state": {
       "description_width": ""
      }
     },
     "8fa844c3d8a946178280cb93c1bcca0d": {
      "model_module": "@jupyter-widgets/controls",
      "model_module_version": "1.5.0",
      "model_name": "DescriptionStyleModel",
      "state": {
       "description_width": ""
      }
     },
     "8fc8e0dbc878428fa480d67aa552d285": {
      "model_module": "@jupyter-widgets/base",
      "model_module_version": "1.2.0",
      "model_name": "LayoutModel",
      "state": {}
     },
     "8fdd13ec065942a48f67362dc079c882": {
      "model_module": "@jupyter-widgets/controls",
      "model_module_version": "1.5.0",
      "model_name": "ProgressStyleModel",
      "state": {
       "description_width": "initial"
      }
     },
     "8fe09fd69a7f4e02913fd1ee8c8f985e": {
      "model_module": "@jupyter-widgets/base",
      "model_module_version": "1.2.0",
      "model_name": "LayoutModel",
      "state": {}
     },
     "8fe11c0b119a4768ae07da7585d8ec68": {
      "model_module": "@jupyter-widgets/controls",
      "model_module_version": "1.5.0",
      "model_name": "HTMLModel",
      "state": {
       "layout": "IPY_MODEL_a4426678f3d148a3870d7c120fe23e56",
       "style": "IPY_MODEL_39b89eba9511494eab6b706d72b38cb8",
       "value": " 8760/8760 [00:29&lt;00:00, 293.08steps/s]"
      }
     },
     "8fe20fdbbb7744f5b6888c864f51c98d": {
      "model_module": "@jupyter-widgets/controls",
      "model_module_version": "1.5.0",
      "model_name": "HTMLModel",
      "state": {
       "layout": "IPY_MODEL_8ea07406a60d40758370bc03d2529fc5",
       "style": "IPY_MODEL_745e34720cb24a33b90c4049a05f231a",
       "value": " 91352/175320 [3:42:49&lt;4:41:09,  4.98steps/s]"
      }
     },
     "906f6d44262f4476a22b617802781b11": {
      "model_module": "@jupyter-widgets/controls",
      "model_module_version": "1.5.0",
      "model_name": "FloatProgressModel",
      "state": {
       "bar_style": "success",
       "description": "poop: 100%",
       "layout": "IPY_MODEL_c8e5b8416cc74eb29476a95b41eaae39",
       "max": 8760,
       "style": "IPY_MODEL_129dccf650a3420a9bd0709acbb4274c",
       "value": 8760
      }
     },
     "90d3948f227b4edbaac185bc13f89aa6": {
      "model_module": "@jupyter-widgets/controls",
      "model_module_version": "1.5.0",
      "model_name": "FloatProgressModel",
      "state": {
       "bar_style": "success",
       "description": "Run 64 of 156 [PID: 21987]: 100%",
       "layout": "IPY_MODEL_9fd00e0a9a654837aa37f83d080664e9",
       "max": 8760,
       "style": "IPY_MODEL_b562b273c0e0474aa9c9aaeb5e1ffe54",
       "value": 8760
      }
     },
     "90d6f8fcceb74196ab6d7f8489bce6e7": {
      "model_module": "@jupyter-widgets/base",
      "model_module_version": "1.2.0",
      "model_name": "LayoutModel",
      "state": {}
     },
     "90db41b103f74b7081595b83ea8b8f30": {
      "model_module": "@jupyter-widgets/controls",
      "model_module_version": "1.5.0",
      "model_name": "DescriptionStyleModel",
      "state": {
       "description_width": ""
      }
     },
     "90f68c38191945099c59edcc4eb844e4": {
      "model_module": "@jupyter-widgets/controls",
      "model_module_version": "1.5.0",
      "model_name": "HTMLModel",
      "state": {
       "layout": "IPY_MODEL_f2bba439d6eb454c9958724ff2ab1e5a",
       "style": "IPY_MODEL_295d15075f944174a8fd3ecaab09a8e6",
       "value": " 8760/8760 [00:30&lt;00:00, 286.35steps/s]"
      }
     },
     "91253451a74349ee9f05dec1e7317930": {
      "model_module": "@jupyter-widgets/controls",
      "model_module_version": "1.5.0",
      "model_name": "FloatProgressModel",
      "state": {
       "description": "Run 83 of 156 [PID: 72841]:  52%",
       "layout": "IPY_MODEL_4be48a06af8743f7a006c6fb4247ef42",
       "max": 175320,
       "style": "IPY_MODEL_abba25642e9a4267b0dbf90b60082894",
       "value": 91629
      }
     },
     "91a2f68d5d5c4aeb8354791f8375ba87": {
      "model_module": "@jupyter-widgets/controls",
      "model_module_version": "1.5.0",
      "model_name": "HTMLModel",
      "state": {
       "layout": "IPY_MODEL_f5ec2063bcaf4cbaa5207dbd667bfda2",
       "style": "IPY_MODEL_fecfa165a3a24e05a531ad7e69244405",
       "value": " 8760/8760 [00:30&lt;00:00, 284.93steps/s]"
      }
     },
     "91b36ab1564f490185737d64167c8bb0": {
      "model_module": "@jupyter-widgets/controls",
      "model_module_version": "1.5.0",
      "model_name": "HTMLModel",
      "state": {
       "layout": "IPY_MODEL_1fdb5c1699c04dfc9e510b505335e5d2",
       "style": "IPY_MODEL_5845d42eefa549429d3dc45ae66c3e16",
       "value": " 8760/8760 [00:30&lt;00:00, 291.00steps/s]"
      }
     },
     "91b83fd0a3d14a2a84fdc06f6f021b3b": {
      "model_module": "@jupyter-widgets/controls",
      "model_module_version": "1.5.0",
      "model_name": "FloatProgressModel",
      "state": {
       "bar_style": "danger",
       "description": "Run 22 of 390 [PID: 2311]:  99%",
       "layout": "IPY_MODEL_e6a6e269306a402791c578482c715c86",
       "max": 8760,
       "style": "IPY_MODEL_5231f7f420e1439d802116bf58137dc9",
       "value": 8694
      }
     },
     "91bc246555f14884965db361317ceaac": {
      "model_module": "@jupyter-widgets/controls",
      "model_module_version": "1.5.0",
      "model_name": "HBoxModel",
      "state": {
       "children": [
        "IPY_MODEL_d117f095c62d4699b9469a73327c1443",
        "IPY_MODEL_1dbe43826f8a45f890fa17bbb6bdae68"
       ],
       "layout": "IPY_MODEL_2d0e7479da2f447b8a5bcbb7af0ba13e"
      }
     },
     "91c5fccee97e4a68bb69c8689eaba967": {
      "model_module": "@jupyter-widgets/base",
      "model_module_version": "1.2.0",
      "model_name": "LayoutModel",
      "state": {}
     },
     "91d9c3c417c649aaa0e0901d93b92ebd": {
      "model_module": "@jupyter-widgets/controls",
      "model_module_version": "1.5.0",
      "model_name": "HTMLModel",
      "state": {
       "layout": "IPY_MODEL_c058362e6d9342cdb717647250528f4a",
       "style": "IPY_MODEL_ed3de069bcb340259cc348ec13f770bf",
       "value": " 8760/8760 [00:30&lt;00:00, 290.16steps/s]"
      }
     },
     "91e907f0754642cd8c39899aa42cf82f": {
      "model_module": "@jupyter-widgets/controls",
      "model_module_version": "1.5.0",
      "model_name": "DescriptionStyleModel",
      "state": {
       "description_width": ""
      }
     },
     "92025f1107e848a591dc45d714446d6d": {
      "model_module": "@jupyter-widgets/base",
      "model_module_version": "1.2.0",
      "model_name": "LayoutModel",
      "state": {}
     },
     "920f702fb2ed4d6aa926044669abd276": {
      "model_module": "@jupyter-widgets/base",
      "model_module_version": "1.2.0",
      "model_name": "LayoutModel",
      "state": {}
     },
     "924496ddcb6f4205873512c522125103": {
      "model_module": "@jupyter-widgets/base",
      "model_module_version": "1.2.0",
      "model_name": "LayoutModel",
      "state": {}
     },
     "926de36c625349c09393c23134a99f18": {
      "model_module": "@jupyter-widgets/controls",
      "model_module_version": "1.5.0",
      "model_name": "ProgressStyleModel",
      "state": {
       "description_width": "initial"
      }
     },
     "926e1c6460e94d7dbad0a28861c38ae8": {
      "model_module": "@jupyter-widgets/base",
      "model_module_version": "1.2.0",
      "model_name": "LayoutModel",
      "state": {}
     },
     "9272af21fb6a4e93bee9ae99dbc0cca4": {
      "model_module": "@jupyter-widgets/controls",
      "model_module_version": "1.5.0",
      "model_name": "HTMLModel",
      "state": {
       "layout": "IPY_MODEL_c6f98f26d793431bb5f604e148a43f12",
       "style": "IPY_MODEL_0058755ec4314dd68ac064c71bea6912",
       "value": " 2046/8760 [00:07&lt;00:24, 276.50steps/s]"
      }
     },
     "92a7edb5e1e64f29a0efbc3640fa073d": {
      "model_module": "@jupyter-widgets/base",
      "model_module_version": "1.2.0",
      "model_name": "LayoutModel",
      "state": {}
     },
     "92f0d92d43124be0b1f4fbdee80d0c5b": {
      "model_module": "@jupyter-widgets/controls",
      "model_module_version": "1.5.0",
      "model_name": "DescriptionStyleModel",
      "state": {
       "description_width": ""
      }
     },
     "92f3cc59f01f45fcbee7dfb7f6324e69": {
      "model_module": "@jupyter-widgets/controls",
      "model_module_version": "1.5.0",
      "model_name": "DescriptionStyleModel",
      "state": {
       "description_width": ""
      }
     },
     "9328c91e725842bdac9000ba8e081101": {
      "model_module": "@jupyter-widgets/controls",
      "model_module_version": "1.5.0",
      "model_name": "FloatProgressModel",
      "state": {
       "bar_style": "success",
       "description": "poop: 100%",
       "layout": "IPY_MODEL_8aa611516e3348e8830d0e54036f34a3",
       "max": 8760,
       "style": "IPY_MODEL_ca034557dbfe49df9b6360b57b0abdd5",
       "value": 8760
      }
     },
     "9352912f383443a49462c0bc1f56948c": {
      "model_module": "@jupyter-widgets/controls",
      "model_module_version": "1.5.0",
      "model_name": "DescriptionStyleModel",
      "state": {
       "description_width": ""
      }
     },
     "937a0cccb33241738fc91204533cd5ee": {
      "model_module": "@jupyter-widgets/controls",
      "model_module_version": "1.5.0",
      "model_name": "HTMLModel",
      "state": {
       "layout": "IPY_MODEL_9ed95cab8a14461da2c736f1b5e75b9b",
       "style": "IPY_MODEL_7c70c5c744ed4cab96917814d57b5aaf",
       "value": " 1675/8760 [00:06&lt;00:25, 280.92steps/s]"
      }
     },
     "937cf79dee364482ac7c77cc2d358b5f": {
      "model_module": "@jupyter-widgets/base",
      "model_module_version": "1.2.0",
      "model_name": "LayoutModel",
      "state": {}
     },
     "937e7655511542f898fbd0b116d2f1ed": {
      "model_module": "@jupyter-widgets/controls",
      "model_module_version": "1.5.0",
      "model_name": "HBoxModel",
      "state": {
       "children": [
        "IPY_MODEL_3035538331124280aed3637cefb6998f",
        "IPY_MODEL_c12b970debd84a498a3c961c82b1587d"
       ],
       "layout": "IPY_MODEL_47903cb50485402ea4de87b513517d21"
      }
     },
     "9391ec9bf9d948a9af231cf3d7ae7a1e": {
      "model_module": "@jupyter-widgets/base",
      "model_module_version": "1.2.0",
      "model_name": "LayoutModel",
      "state": {}
     },
     "939b91a4bb1749eb98852a63aec4139f": {
      "model_module": "@jupyter-widgets/base",
      "model_module_version": "1.2.0",
      "model_name": "LayoutModel",
      "state": {}
     },
     "93d60a1193e5405b991949ccf5c63fdf": {
      "model_module": "@jupyter-widgets/base",
      "model_module_version": "1.2.0",
      "model_name": "LayoutModel",
      "state": {}
     },
     "941e762684fe403795710de147001c65": {
      "model_module": "@jupyter-widgets/controls",
      "model_module_version": "1.5.0",
      "model_name": "DescriptionStyleModel",
      "state": {
       "description_width": ""
      }
     },
     "9432f1a2138c403496c1ab52672e8fc4": {
      "model_module": "@jupyter-widgets/controls",
      "model_module_version": "1.5.0",
      "model_name": "ProgressStyleModel",
      "state": {
       "description_width": "initial"
      }
     },
     "9468359fe37b41229d105949e76e2fed": {
      "model_module": "@jupyter-widgets/controls",
      "model_module_version": "1.5.0",
      "model_name": "HBoxModel",
      "state": {
       "children": [
        "IPY_MODEL_3ca24bb8348d443cb15e64f337708e93",
        "IPY_MODEL_12e6b906db3f441ca41e9fc1a4f4f1ac"
       ],
       "layout": "IPY_MODEL_067c6f9147e54d1c83ef3b933974f43e"
      }
     },
     "946eabd8851145f4833cd9f7db843b1c": {
      "model_module": "@jupyter-widgets/base",
      "model_module_version": "1.2.0",
      "model_name": "LayoutModel",
      "state": {}
     },
     "948161e5f31c42dbb2a014482307b959": {
      "model_module": "@jupyter-widgets/base",
      "model_module_version": "1.2.0",
      "model_name": "LayoutModel",
      "state": {}
     },
     "9484e409ee3f460593e842f6e7bda27b": {
      "model_module": "@jupyter-widgets/base",
      "model_module_version": "1.2.0",
      "model_name": "LayoutModel",
      "state": {}
     },
     "9492d655df9a4fe88fa22b3b0f750bb3": {
      "model_module": "@jupyter-widgets/base",
      "model_module_version": "1.2.0",
      "model_name": "LayoutModel",
      "state": {}
     },
     "94bfa8e804d34e54b6807dfbbfe9275c": {
      "model_module": "@jupyter-widgets/controls",
      "model_module_version": "1.5.0",
      "model_name": "HTMLModel",
      "state": {
       "layout": "IPY_MODEL_d5029a21874e4122bf1b7f078fb88423",
       "style": "IPY_MODEL_85996d9fbabd4ba9b39ec121e8ad2869",
       "value": " 6696/8760 [00:23&lt;00:07, 271.65steps/s]"
      }
     },
     "950f195ae79045bfa3870c6ffd99b47d": {
      "model_module": "@jupyter-widgets/base",
      "model_module_version": "1.2.0",
      "model_name": "LayoutModel",
      "state": {}
     },
     "9559dca24624497e88f47a9672e01ce3": {
      "model_module": "@jupyter-widgets/base",
      "model_module_version": "1.2.0",
      "model_name": "LayoutModel",
      "state": {}
     },
     "956e739ce93447f5972d1fca895a1ed8": {
      "model_module": "@jupyter-widgets/controls",
      "model_module_version": "1.5.0",
      "model_name": "FloatProgressModel",
      "state": {
       "bar_style": "danger",
       "description": " 13%",
       "layout": "IPY_MODEL_8a4704305ca84397a6df8c37a1d7a206",
       "max": 8760,
       "style": "IPY_MODEL_9aaab997538a459e944bbfc0d60e585a",
       "value": 1129
      }
     },
     "957d021d75484066b9d6cf8e23c221b1": {
      "model_module": "@jupyter-widgets/base",
      "model_module_version": "1.2.0",
      "model_name": "LayoutModel",
      "state": {}
     },
     "957d5258d5534d79a980d6c4dc75d5c7": {
      "model_module": "@jupyter-widgets/controls",
      "model_module_version": "1.5.0",
      "model_name": "HBoxModel",
      "state": {
       "children": [
        "IPY_MODEL_84b63aac655f4bc9a643172b1b553b7a",
        "IPY_MODEL_293f7ed80a094f4a841b965d24419138"
       ],
       "layout": "IPY_MODEL_17f8e715f43b4be7a5d15236a4ee9394"
      }
     },
     "958c498877944af496a3dfc1a6fea85a": {
      "model_module": "@jupyter-widgets/controls",
      "model_module_version": "1.5.0",
      "model_name": "HTMLModel",
      "state": {
       "layout": "IPY_MODEL_6070e7fc355c4049833603d3410161e9",
       "style": "IPY_MODEL_29579e3947c74723af514e1d1651c9d5",
       "value": " 80445/175320 [3:17:09&lt;5:46:57,  4.56steps/s]"
      }
     },
     "959a379799ae42bebea58214b019e08e": {
      "model_module": "@jupyter-widgets/base",
      "model_module_version": "1.2.0",
      "model_name": "LayoutModel",
      "state": {}
     },
     "9647debb78304ad5829d752040063f17": {
      "model_module": "@jupyter-widgets/controls",
      "model_module_version": "1.5.0",
      "model_name": "DescriptionStyleModel",
      "state": {
       "description_width": ""
      }
     },
     "968f5ec5b2db45c7aaba77e736e01784": {
      "model_module": "@jupyter-widgets/controls",
      "model_module_version": "1.5.0",
      "model_name": "FloatProgressModel",
      "state": {
       "bar_style": "danger",
       "description": "poop:  63%",
       "layout": "IPY_MODEL_1143b7c158bd4582beb6b92d74a96ea8",
       "max": 8760,
       "style": "IPY_MODEL_d47d6793c8aa43f69a37053377291a3d",
       "value": 5541
      }
     },
     "968fd919959e40c4b0a28b0f91a88f66": {
      "model_module": "@jupyter-widgets/controls",
      "model_module_version": "1.5.0",
      "model_name": "FloatProgressModel",
      "state": {
       "bar_style": "danger",
       "description": " 93%",
       "layout": "IPY_MODEL_9492d655df9a4fe88fa22b3b0f750bb3",
       "max": 8760,
       "style": "IPY_MODEL_d058997c071646a3906f51b2ef2b70ea",
       "value": 8177
      }
     },
     "96904915a7414e22a36b54861d256286": {
      "model_module": "@jupyter-widgets/controls",
      "model_module_version": "1.5.0",
      "model_name": "FloatProgressModel",
      "state": {
       "bar_style": "success",
       "description": "Run 57 of 156 [PID: 21987]: 100%",
       "layout": "IPY_MODEL_d78091540111410897ea742443311161",
       "max": 8760,
       "style": "IPY_MODEL_5ac5973bab4f434990cd375e1d534b2a",
       "value": 8760
      }
     },
     "9698725c1edb4a3db348b9aeb1b00dcf": {
      "model_module": "@jupyter-widgets/controls",
      "model_module_version": "1.5.0",
      "model_name": "FloatProgressModel",
      "state": {
       "bar_style": "danger",
       "description": "poop:  80%",
       "layout": "IPY_MODEL_28b9c4675ee54222bac9cb80f287b693",
       "max": 8760,
       "style": "IPY_MODEL_35fcdcf2ef8d4971a61e1617300cd970",
       "value": 7023
      }
     },
     "96aa4de4a0e94d668ae7c142261574e5": {
      "model_module": "@jupyter-widgets/controls",
      "model_module_version": "1.5.0",
      "model_name": "HBoxModel",
      "state": {
       "children": [
        "IPY_MODEL_27804b621e9748bd9137760a3535a4e3",
        "IPY_MODEL_6fde9a6539754929a092536e7699fadb"
       ],
       "layout": "IPY_MODEL_97c6460a730e44d7a8f43649edab4a59"
      }
     },
     "96c58e1ce3d24de8924d7817952b8ee0": {
      "model_module": "@jupyter-widgets/controls",
      "model_module_version": "1.5.0",
      "model_name": "FloatProgressModel",
      "state": {
       "bar_style": "success",
       "description": "Run 17 of 156 [PID: 21995]: 100%",
       "layout": "IPY_MODEL_6a993e0ffba44c3e96e6a4d38a157c85",
       "max": 8760,
       "style": "IPY_MODEL_76730bcb55e0461e85e7de5a0cae015f",
       "value": 8760
      }
     },
     "971a64391065454bb5db2f9d3e234863": {
      "model_module": "@jupyter-widgets/base",
      "model_module_version": "1.2.0",
      "model_name": "LayoutModel",
      "state": {}
     },
     "971bab2f078245e5aef933fdcb3ad0b9": {
      "model_module": "@jupyter-widgets/controls",
      "model_module_version": "1.5.0",
      "model_name": "HTMLModel",
      "state": {
       "layout": "IPY_MODEL_adbd4a7269e5419299dba1705f634e73",
       "style": "IPY_MODEL_6827ed01da3c40238f65770d0a5efef7",
       "value": " 8760/8760 [00:29&lt;00:00, 293.62steps/s]"
      }
     },
     "972aef2347c24242a507c15cbed0a87a": {
      "model_module": "@jupyter-widgets/controls",
      "model_module_version": "1.5.0",
      "model_name": "ProgressStyleModel",
      "state": {
       "description_width": "initial"
      }
     },
     "974670e48b25467888aded079be72f28": {
      "model_module": "@jupyter-widgets/controls",
      "model_module_version": "1.5.0",
      "model_name": "ProgressStyleModel",
      "state": {
       "description_width": "initial"
      }
     },
     "9755c773eb2b4c29bb4befa6a3bf0d2b": {
      "model_module": "@jupyter-widgets/controls",
      "model_module_version": "1.5.0",
      "model_name": "HBoxModel",
      "state": {
       "children": [
        "IPY_MODEL_b82a2408e25e414c8d1c2f5b4d87e19d",
        "IPY_MODEL_78350401213a40b4a31cefdd5a314ee2"
       ],
       "layout": "IPY_MODEL_77683539bd494c5bb0a12e3b9580a1da"
      }
     },
     "975778ce95884a91a659a95114053672": {
      "model_module": "@jupyter-widgets/base",
      "model_module_version": "1.2.0",
      "model_name": "LayoutModel",
      "state": {}
     },
     "975924443dec41e4915369096ba3921e": {
      "model_module": "@jupyter-widgets/controls",
      "model_module_version": "1.5.0",
      "model_name": "ProgressStyleModel",
      "state": {
       "description_width": "initial"
      }
     },
     "977048bc262c4b5dacb3d65144774372": {
      "model_module": "@jupyter-widgets/controls",
      "model_module_version": "1.5.0",
      "model_name": "HBoxModel",
      "state": {
       "children": [
        "IPY_MODEL_b6000b94d64446f1bad1ca25b9ba3b51",
        "IPY_MODEL_c191d402c5c04ff68cdbcca52a323a6f"
       ],
       "layout": "IPY_MODEL_859d6b51a29e4f36b4954e645d0a8669"
      }
     },
     "979117a0d67149d0a544f2615c301316": {
      "model_module": "@jupyter-widgets/controls",
      "model_module_version": "1.5.0",
      "model_name": "FloatProgressModel",
      "state": {
       "description": "Run 129 of 156 [PID: 72844]:  47%",
       "layout": "IPY_MODEL_f8c4fe66624e4c1db1c775f81673a201",
       "max": 175320,
       "style": "IPY_MODEL_a01ab849fabb4072b0321043f6ca5949",
       "value": 82561
      }
     },
     "97967a0cd5a34ad7806786f915ca163c": {
      "model_module": "@jupyter-widgets/base",
      "model_module_version": "1.2.0",
      "model_name": "LayoutModel",
      "state": {}
     },
     "97bf24b1efb44abdb6e58af57ce43897": {
      "model_module": "@jupyter-widgets/base",
      "model_module_version": "1.2.0",
      "model_name": "LayoutModel",
      "state": {}
     },
     "97c6460a730e44d7a8f43649edab4a59": {
      "model_module": "@jupyter-widgets/base",
      "model_module_version": "1.2.0",
      "model_name": "LayoutModel",
      "state": {}
     },
     "9804f154e0044562bb20ce258cd12cb7": {
      "model_module": "@jupyter-widgets/controls",
      "model_module_version": "1.5.0",
      "model_name": "FloatProgressModel",
      "state": {
       "bar_style": "success",
       "description": "poop: 100%",
       "layout": "IPY_MODEL_d0eefb141e82445590e3cb3949e1e772",
       "max": 8760,
       "style": "IPY_MODEL_3fd5f1c68ae2450e8818c7a8f84ac5ed",
       "value": 8760
      }
     },
     "980b0e7db2c94c08914733c26700ddf8": {
      "model_module": "@jupyter-widgets/controls",
      "model_module_version": "1.5.0",
      "model_name": "HBoxModel",
      "state": {
       "children": [
        "IPY_MODEL_c66ce1b979194cce9a3b3df6700919a4",
        "IPY_MODEL_4e616c9363684303ada65aab0b7a12c6"
       ],
       "layout": "IPY_MODEL_d5adbbe4085d420b9e15a589449851ec"
      }
     },
     "981a06ee57ce40008767f368ecfac705": {
      "model_module": "@jupyter-widgets/base",
      "model_module_version": "1.2.0",
      "model_name": "LayoutModel",
      "state": {}
     },
     "982d4de72ae74e0eb69cbae8aaddb3c3": {
      "model_module": "@jupyter-widgets/controls",
      "model_module_version": "1.5.0",
      "model_name": "HTMLModel",
      "state": {
       "layout": "IPY_MODEL_572d0fc4bd674f729d424e2e0d890888",
       "style": "IPY_MODEL_eee2fbb701414819bad63e942acd2ff7",
       "value": " 85681/175320 [3:31:26&lt;7:38:17,  3.26steps/s]"
      }
     },
     "982fe62cce594560b633d6fc1efb48d3": {
      "model_module": "@jupyter-widgets/base",
      "model_module_version": "1.2.0",
      "model_name": "LayoutModel",
      "state": {}
     },
     "983358b3ad58443b941884d3bfbefbe5": {
      "model_module": "@jupyter-widgets/base",
      "model_module_version": "1.2.0",
      "model_name": "LayoutModel",
      "state": {}
     },
     "986794e4e809464a85cc49e0aa2e3d1e": {
      "model_module": "@jupyter-widgets/controls",
      "model_module_version": "1.5.0",
      "model_name": "HBoxModel",
      "state": {
       "children": [
        "IPY_MODEL_6c6aaee208cf42a289bf28c3d21da55e",
        "IPY_MODEL_73673eea8f264d2294cd5e8a3c950e1e"
       ],
       "layout": "IPY_MODEL_3ebb1b30f5e24af89ba9291837b0323d"
      }
     },
     "988f0ff91d22418a99ccdeddcdff7bd0": {
      "model_module": "@jupyter-widgets/controls",
      "model_module_version": "1.5.0",
      "model_name": "DescriptionStyleModel",
      "state": {
       "description_width": ""
      }
     },
     "988f54e4bc944957b7b62093292166c8": {
      "model_module": "@jupyter-widgets/base",
      "model_module_version": "1.2.0",
      "model_name": "LayoutModel",
      "state": {}
     },
     "988fd88fc7de40378d02ee368600000f": {
      "model_module": "@jupyter-widgets/base",
      "model_module_version": "1.2.0",
      "model_name": "LayoutModel",
      "state": {}
     },
     "9896eaa5209b4ca8b8c05b6f32b0da83": {
      "model_module": "@jupyter-widgets/controls",
      "model_module_version": "1.5.0",
      "model_name": "DescriptionStyleModel",
      "state": {
       "description_width": ""
      }
     },
     "989b14a605434742bdae13f8df77e120": {
      "model_module": "@jupyter-widgets/controls",
      "model_module_version": "1.5.0",
      "model_name": "FloatProgressModel",
      "state": {
       "bar_style": "success",
       "description": "poop: 100%",
       "layout": "IPY_MODEL_34a14d873d524f7e8cf624ad8eec214e",
       "max": 8760,
       "style": "IPY_MODEL_b8e26a44048e41ebbec413eeeffb0aae",
       "value": 8760
      }
     },
     "98a883baf2804e70ba38e4793042aea5": {
      "model_module": "@jupyter-widgets/controls",
      "model_module_version": "1.5.0",
      "model_name": "ProgressStyleModel",
      "state": {
       "description_width": "initial"
      }
     },
     "98d22a2a7da9470dae958e973e20c61d": {
      "model_module": "@jupyter-widgets/base",
      "model_module_version": "1.2.0",
      "model_name": "LayoutModel",
      "state": {}
     },
     "98d40ac916254860aae647b1619b8465": {
      "model_module": "@jupyter-widgets/controls",
      "model_module_version": "1.5.0",
      "model_name": "DescriptionStyleModel",
      "state": {
       "description_width": ""
      }
     },
     "98e38041991f46cfa827a930d3284229": {
      "model_module": "@jupyter-widgets/controls",
      "model_module_version": "1.5.0",
      "model_name": "FloatProgressModel",
      "state": {
       "bar_style": "success",
       "description": "poop: 100%",
       "layout": "IPY_MODEL_254c1a117fa04bc7bcd7e94842a3ceae",
       "max": 8760,
       "style": "IPY_MODEL_8eea7406228e4395901b0d0895f1c603",
       "value": 8760
      }
     },
     "9903e90f1474445d90cf0239efa3d18e": {
      "model_module": "@jupyter-widgets/base",
      "model_module_version": "1.2.0",
      "model_name": "LayoutModel",
      "state": {}
     },
     "990515b95c9d45589387c286b9065a4e": {
      "model_module": "@jupyter-widgets/controls",
      "model_module_version": "1.5.0",
      "model_name": "HBoxModel",
      "state": {
       "children": [
        "IPY_MODEL_7de723ffd9584bf4be086c3ad768fa31",
        "IPY_MODEL_f9f9ff2f34e442b2b724fb74f520cb73"
       ],
       "layout": "IPY_MODEL_d22223c4c4d947aebbdc627cc4714479"
      }
     },
     "9908b620c2ee43628bc32f029e328f80": {
      "model_module": "@jupyter-widgets/base",
      "model_module_version": "1.2.0",
      "model_name": "LayoutModel",
      "state": {}
     },
     "990bcde3773f46399d5ca2266b501639": {
      "model_module": "@jupyter-widgets/controls",
      "model_module_version": "1.5.0",
      "model_name": "DescriptionStyleModel",
      "state": {
       "description_width": ""
      }
     },
     "99402332f7544edc846cf6d34f2efa58": {
      "model_module": "@jupyter-widgets/controls",
      "model_module_version": "1.5.0",
      "model_name": "ProgressStyleModel",
      "state": {
       "description_width": "initial"
      }
     },
     "99432880680647b5a8a04b04c2a69a0a": {
      "model_module": "@jupyter-widgets/controls",
      "model_module_version": "1.5.0",
      "model_name": "HBoxModel",
      "state": {
       "children": [
        "IPY_MODEL_8842da6bcd9a4b02b78f9b52002f626f",
        "IPY_MODEL_deb04bbb4e5f495180ad6cbfdc60dabd"
       ],
       "layout": "IPY_MODEL_f4cbdcfb3ce94973bd8c2e18d2b02785"
      }
     },
     "994f7c07e9b645aaa36f312ce5548d8e": {
      "model_module": "@jupyter-widgets/base",
      "model_module_version": "1.2.0",
      "model_name": "LayoutModel",
      "state": {}
     },
     "995690dffe414175a2c818dabac6881b": {
      "model_module": "@jupyter-widgets/base",
      "model_module_version": "1.2.0",
      "model_name": "LayoutModel",
      "state": {}
     },
     "998088a36a16485b9893ac9032f96f74": {
      "model_module": "@jupyter-widgets/base",
      "model_module_version": "1.2.0",
      "model_name": "LayoutModel",
      "state": {}
     },
     "9992178f39d8457ebdef05fc39bf6c69": {
      "model_module": "@jupyter-widgets/controls",
      "model_module_version": "1.5.0",
      "model_name": "HBoxModel",
      "state": {
       "children": [
        "IPY_MODEL_445bf00418be4a02b48588b68fa21925",
        "IPY_MODEL_267c635503d147319d581e4a4c5cdb36"
       ],
       "layout": "IPY_MODEL_d4d674ebeff249828f207aa023d23718"
      }
     },
     "999dc846e1a74693919b7bf00c617e26": {
      "model_module": "@jupyter-widgets/base",
      "model_module_version": "1.2.0",
      "model_name": "LayoutModel",
      "state": {}
     },
     "9a07cbcce92c453f997542da6e14f6f9": {
      "model_module": "@jupyter-widgets/controls",
      "model_module_version": "1.5.0",
      "model_name": "DescriptionStyleModel",
      "state": {
       "description_width": ""
      }
     },
     "9a1290a6642849c5852df407597683a6": {
      "model_module": "@jupyter-widgets/controls",
      "model_module_version": "1.5.0",
      "model_name": "HBoxModel",
      "state": {
       "children": [
        "IPY_MODEL_9f75332d5d5e4814af03cc94c259d1bf",
        "IPY_MODEL_9272af21fb6a4e93bee9ae99dbc0cca4"
       ],
       "layout": "IPY_MODEL_ec73664c3fbb4af9beb39e803a36f143"
      }
     },
     "9a5279f1fcd94c5ba33e8efb41a5c867": {
      "model_module": "@jupyter-widgets/base",
      "model_module_version": "1.2.0",
      "model_name": "LayoutModel",
      "state": {}
     },
     "9aa653d6a87b4cddb65cd72f528bcac9": {
      "model_module": "@jupyter-widgets/base",
      "model_module_version": "1.2.0",
      "model_name": "LayoutModel",
      "state": {}
     },
     "9aaab997538a459e944bbfc0d60e585a": {
      "model_module": "@jupyter-widgets/controls",
      "model_module_version": "1.5.0",
      "model_name": "ProgressStyleModel",
      "state": {
       "description_width": "initial"
      }
     },
     "9ad5c48b4ad14404a859bc61b35b8b31": {
      "model_module": "@jupyter-widgets/base",
      "model_module_version": "1.2.0",
      "model_name": "LayoutModel",
      "state": {}
     },
     "9ae78d6f1c25465faac56a805bdbd3d8": {
      "model_module": "@jupyter-widgets/base",
      "model_module_version": "1.2.0",
      "model_name": "LayoutModel",
      "state": {}
     },
     "9ae7be6ce57044aab6b1a3b145c94eb6": {
      "model_module": "@jupyter-widgets/controls",
      "model_module_version": "1.5.0",
      "model_name": "DescriptionStyleModel",
      "state": {
       "description_width": ""
      }
     },
     "9af6b92f29904ecab1d8e6b06134641d": {
      "model_module": "@jupyter-widgets/controls",
      "model_module_version": "1.5.0",
      "model_name": "HTMLModel",
      "state": {
       "layout": "IPY_MODEL_7b2a8b0a536640a79615761490a38b2d",
       "style": "IPY_MODEL_2d2feb65b5f24956ab6cac3b3524168e",
       "value": " 8760/8760 [00:30&lt;00:00, 282.64steps/s]"
      }
     },
     "9b03339c5b0f4e27a2a5ec68a6747881": {
      "model_module": "@jupyter-widgets/controls",
      "model_module_version": "1.5.0",
      "model_name": "ProgressStyleModel",
      "state": {
       "description_width": "initial"
      }
     },
     "9b10e34ab1ed4cbe8b0d60115eb1b6ab": {
      "model_module": "@jupyter-widgets/controls",
      "model_module_version": "1.5.0",
      "model_name": "ProgressStyleModel",
      "state": {
       "description_width": "initial"
      }
     },
     "9b1255a65cce4a3bae9ff51405b1cf02": {
      "model_module": "@jupyter-widgets/base",
      "model_module_version": "1.2.0",
      "model_name": "LayoutModel",
      "state": {}
     },
     "9b191523b98c474e8cfe8c8990a6334f": {
      "model_module": "@jupyter-widgets/controls",
      "model_module_version": "1.5.0",
      "model_name": "ProgressStyleModel",
      "state": {
       "description_width": "initial"
      }
     },
     "9b1a567d685444f9b9f4efb72ef5a7e6": {
      "model_module": "@jupyter-widgets/controls",
      "model_module_version": "1.5.0",
      "model_name": "ProgressStyleModel",
      "state": {
       "description_width": "initial"
      }
     },
     "9b2784006b6f47828f8e1347d2945f08": {
      "model_module": "@jupyter-widgets/base",
      "model_module_version": "1.2.0",
      "model_name": "LayoutModel",
      "state": {}
     },
     "9b53496120014245b194313135e78571": {
      "model_module": "@jupyter-widgets/base",
      "model_module_version": "1.2.0",
      "model_name": "LayoutModel",
      "state": {}
     },
     "9b5ee73744664b1da61876e56d8214b8": {
      "model_module": "@jupyter-widgets/base",
      "model_module_version": "1.2.0",
      "model_name": "LayoutModel",
      "state": {}
     },
     "9b8f17238d4c43818787f589ebd3cdea": {
      "model_module": "@jupyter-widgets/controls",
      "model_module_version": "1.5.0",
      "model_name": "HBoxModel",
      "state": {
       "children": [
        "IPY_MODEL_de56e5743e804dd8864a62ed90afa933",
        "IPY_MODEL_e60c4fe330b944a9b6c4059380b59805"
       ],
       "layout": "IPY_MODEL_ae9d9e28fda04c9b9744da98826e2bf5"
      }
     },
     "9b984dfa08d346c18288463c7eaebc68": {
      "model_module": "@jupyter-widgets/controls",
      "model_module_version": "1.5.0",
      "model_name": "HBoxModel",
      "state": {
       "children": [
        "IPY_MODEL_da18a6b1882f4b54a6fc45c6766f508c",
        "IPY_MODEL_7f9705cb0f8b4ed7b169959e60e5e9f2"
       ],
       "layout": "IPY_MODEL_738ffb1d1ab24c0ea8ba9fef16ba79f4"
      }
     },
     "9bb53f28c73144e8b1f34b9834f9ff1b": {
      "model_module": "@jupyter-widgets/base",
      "model_module_version": "1.2.0",
      "model_name": "LayoutModel",
      "state": {}
     },
     "9bc109b635574a0199164a45a1074b8e": {
      "model_module": "@jupyter-widgets/controls",
      "model_module_version": "1.5.0",
      "model_name": "HBoxModel",
      "state": {
       "children": [
        "IPY_MODEL_8d880df39ae5426b91da812e99680862",
        "IPY_MODEL_ba3bfea5b24d459ba5abe60da9feda2e"
       ],
       "layout": "IPY_MODEL_a8679093ac2f4e879c6720d09a40afb7"
      }
     },
     "9be7dcc869e944beac82d363b62abe1b": {
      "model_module": "@jupyter-widgets/controls",
      "model_module_version": "1.5.0",
      "model_name": "FloatProgressModel",
      "state": {
       "bar_style": "success",
       "description": "100%",
       "layout": "IPY_MODEL_30880a546b4b474e8029492e611c9a16",
       "max": 8760,
       "style": "IPY_MODEL_6a5de93b8adc4b97a577f3505e57dd4f",
       "value": 8760
      }
     },
     "9bfafb03fb0e4e84809d971da18c68c2": {
      "model_module": "@jupyter-widgets/controls",
      "model_module_version": "1.5.0",
      "model_name": "HTMLModel",
      "state": {
       "layout": "IPY_MODEL_8fc8e0dbc878428fa480d67aa552d285",
       "style": "IPY_MODEL_1ef678597789407686588d60d920463f",
       "value": " 8760/8760 [00:30&lt;00:00, 285.49steps/s]"
      }
     },
     "9c12967784d14f8daa99f37618648654": {
      "model_module": "@jupyter-widgets/controls",
      "model_module_version": "1.5.0",
      "model_name": "HBoxModel",
      "state": {
       "children": [
        "IPY_MODEL_3a2e317a5ab64aa1917871a451fcd997",
        "IPY_MODEL_90f68c38191945099c59edcc4eb844e4"
       ],
       "layout": "IPY_MODEL_1f2784b74d5f4390ab1dc70a0dbb4286"
      }
     },
     "9c7510d4718a4c438befd9f7863acc79": {
      "model_module": "@jupyter-widgets/controls",
      "model_module_version": "1.5.0",
      "model_name": "HTMLModel",
      "state": {
       "layout": "IPY_MODEL_ff596ea7f69b4a56be58e51ada0bff77",
       "style": "IPY_MODEL_f14563edae8d4fac99dc5c61d7d9b128",
       "value": " 1608/8760 [00:06&lt;00:26, 273.82steps/s]"
      }
     },
     "9c7bc5e47fbf473184dccf085670a01f": {
      "model_module": "@jupyter-widgets/controls",
      "model_module_version": "1.5.0",
      "model_name": "ProgressStyleModel",
      "state": {
       "description_width": "initial"
      }
     },
     "9c8fa0c1bb9e4b37a2448b277603edc8": {
      "model_module": "@jupyter-widgets/base",
      "model_module_version": "1.2.0",
      "model_name": "LayoutModel",
      "state": {}
     },
     "9ccc5d32ce884d59841eb36f94a2c525": {
      "model_module": "@jupyter-widgets/controls",
      "model_module_version": "1.5.0",
      "model_name": "ProgressStyleModel",
      "state": {
       "description_width": "initial"
      }
     },
     "9d11cf3c9b1341fb820ffb8d3e551c78": {
      "model_module": "@jupyter-widgets/controls",
      "model_module_version": "1.5.0",
      "model_name": "FloatProgressModel",
      "state": {
       "bar_style": "success",
       "description": "poop: 100%",
       "layout": "IPY_MODEL_926e1c6460e94d7dbad0a28861c38ae8",
       "max": 8760,
       "style": "IPY_MODEL_202ba59e6b334db88882ebd3a938588b",
       "value": 8760
      }
     },
     "9d158ff37bf1460ba78340a446c18ccc": {
      "model_module": "@jupyter-widgets/controls",
      "model_module_version": "1.5.0",
      "model_name": "HTMLModel",
      "state": {
       "layout": "IPY_MODEL_1be447b5fe8947e1a92b2a2dc26c9db3",
       "style": "IPY_MODEL_04df5345aa3c465faba0d35e61850c67",
       "value": " 8760/8760 [00:32&lt;00:00, 269.24steps/s]"
      }
     },
     "9d2249ca08cf4516a986131a726e5c88": {
      "model_module": "@jupyter-widgets/controls",
      "model_module_version": "1.5.0",
      "model_name": "HBoxModel",
      "state": {
       "children": [
        "IPY_MODEL_1ce4b02215274638944f1eb385492799",
        "IPY_MODEL_55bdd25ae5cd46bda9b799e742d51668"
       ],
       "layout": "IPY_MODEL_77aa73560d23486f8387de515387d8f0"
      }
     },
     "9d2439e895a84d16b416ab8c86917da4": {
      "model_module": "@jupyter-widgets/controls",
      "model_module_version": "1.5.0",
      "model_name": "DescriptionStyleModel",
      "state": {
       "description_width": ""
      }
     },
     "9d31ccafafd24f2fb0c1826e99d2c1d0": {
      "model_module": "@jupyter-widgets/base",
      "model_module_version": "1.2.0",
      "model_name": "LayoutModel",
      "state": {}
     },
     "9d32ea2b30c84913b62753b41885836b": {
      "model_module": "@jupyter-widgets/controls",
      "model_module_version": "1.5.0",
      "model_name": "FloatProgressModel",
      "state": {
       "bar_style": "success",
       "description": "Run 23 of 156 [PID: 21996]: 100%",
       "layout": "IPY_MODEL_735886fba27b42b4b5a5ac7fb654703c",
       "max": 8760,
       "style": "IPY_MODEL_21396ddb87af48e392a531750f994f4b",
       "value": 8760
      }
     },
     "9d37fe201a284c8f93a5fc50f69bc01b": {
      "model_module": "@jupyter-widgets/base",
      "model_module_version": "1.2.0",
      "model_name": "LayoutModel",
      "state": {}
     },
     "9d41fa6ff4e44192b1f4ed3433e851ca": {
      "model_module": "@jupyter-widgets/base",
      "model_module_version": "1.2.0",
      "model_name": "LayoutModel",
      "state": {}
     },
     "9d550c41a0f84ee8819546f977aeb8d8": {
      "model_module": "@jupyter-widgets/controls",
      "model_module_version": "1.5.0",
      "model_name": "FloatProgressModel",
      "state": {
       "bar_style": "success",
       "description": "Run 31 of 156 [PID: 21989]: 100%",
       "layout": "IPY_MODEL_723d873ea8e748fa81b3aeb9949fe20e",
       "max": 8760,
       "style": "IPY_MODEL_2662d8335dff4c56b62c80da7acfad9f",
       "value": 8760
      }
     },
     "9d5df88b5ab14d70b7c4604c41a012b1": {
      "model_module": "@jupyter-widgets/controls",
      "model_module_version": "1.5.0",
      "model_name": "DescriptionStyleModel",
      "state": {
       "description_width": ""
      }
     },
     "9db0d573d30d46c9aa76518814d1013e": {
      "model_module": "@jupyter-widgets/controls",
      "model_module_version": "1.5.0",
      "model_name": "HBoxModel",
      "state": {
       "children": [
        "IPY_MODEL_62951eea8f6740d39c0cb60ba9e80709",
        "IPY_MODEL_150ca8da62634dd4be503c7a5c615c74"
       ],
       "layout": "IPY_MODEL_fc0e0863876d4141a2e4020f300dc049"
      }
     },
     "9db1c10f74f84e8e853ef7a8c1dfb0c1": {
      "model_module": "@jupyter-widgets/controls",
      "model_module_version": "1.5.0",
      "model_name": "DescriptionStyleModel",
      "state": {
       "description_width": ""
      }
     },
     "9dfec783e6f84634beb2cca15df80ec5": {
      "model_module": "@jupyter-widgets/controls",
      "model_module_version": "1.5.0",
      "model_name": "DescriptionStyleModel",
      "state": {
       "description_width": ""
      }
     },
     "9e1f9e26d687491c84f7f583d487934d": {
      "model_module": "@jupyter-widgets/controls",
      "model_module_version": "1.5.0",
      "model_name": "FloatProgressModel",
      "state": {
       "bar_style": "danger",
       "description": "poop:  66%",
       "layout": "IPY_MODEL_fcb3aa30a28041319b2cdc73cf53e63a",
       "max": 8760,
       "style": "IPY_MODEL_d2b8c0b5ccfc4aa79995f5068cf06ba2",
       "value": 5783
      }
     },
     "9e39f4acd2a942ecb8413ca58c95d3a1": {
      "model_module": "@jupyter-widgets/controls",
      "model_module_version": "1.5.0",
      "model_name": "HTMLModel",
      "state": {
       "layout": "IPY_MODEL_4bce54ad1d86455eb18d5b608fac232d",
       "style": "IPY_MODEL_61c49b372b9e4c299374ff944bf4fe10",
       "value": " 8760/8760 [00:30&lt;00:00, 290.34steps/s]"
      }
     },
     "9e3b3c66aa214630b0569f7fe7a456c6": {
      "model_module": "@jupyter-widgets/base",
      "model_module_version": "1.2.0",
      "model_name": "LayoutModel",
      "state": {}
     },
     "9e3f44591d85496ab1c95b9d60ba6d54": {
      "model_module": "@jupyter-widgets/base",
      "model_module_version": "1.2.0",
      "model_name": "LayoutModel",
      "state": {}
     },
     "9e6ffe77d0654816895adc85ece69008": {
      "model_module": "@jupyter-widgets/controls",
      "model_module_version": "1.5.0",
      "model_name": "HTMLModel",
      "state": {
       "layout": "IPY_MODEL_dd5d44e3fd2d44c989e464fa6782c155",
       "style": "IPY_MODEL_52060e55c2f64283847d612d2e061640",
       "value": " 930/8760 [00:03&lt;00:28, 271.51steps/s]"
      }
     },
     "9e737b11fa994d9bac8837a7a3346115": {
      "model_module": "@jupyter-widgets/controls",
      "model_module_version": "1.5.0",
      "model_name": "HTMLModel",
      "state": {
       "layout": "IPY_MODEL_4a48ad7196cd428da6539ed70ce0dd32",
       "style": "IPY_MODEL_db2c6881e10f4d5680dc8de668a5670c",
       "value": " 8760/8760 [02:01&lt;00:00, 72.23steps/s]"
      }
     },
     "9e9922e32d5e43f4bfe7f53372ed8c95": {
      "model_module": "@jupyter-widgets/controls",
      "model_module_version": "1.5.0",
      "model_name": "DescriptionStyleModel",
      "state": {
       "description_width": ""
      }
     },
     "9e9f2eace7014f96abe57f9af615c689": {
      "model_module": "@jupyter-widgets/controls",
      "model_module_version": "1.5.0",
      "model_name": "ProgressStyleModel",
      "state": {
       "description_width": "initial"
      }
     },
     "9eb05dd7104e479b8119deace5c3c796": {
      "model_module": "@jupyter-widgets/controls",
      "model_module_version": "1.5.0",
      "model_name": "DescriptionStyleModel",
      "state": {
       "description_width": ""
      }
     },
     "9ec982f652e540f28e51c0250b2a6e97": {
      "model_module": "@jupyter-widgets/controls",
      "model_module_version": "1.5.0",
      "model_name": "ProgressStyleModel",
      "state": {
       "description_width": "initial"
      }
     },
     "9ed95cab8a14461da2c736f1b5e75b9b": {
      "model_module": "@jupyter-widgets/base",
      "model_module_version": "1.2.0",
      "model_name": "LayoutModel",
      "state": {}
     },
     "9f18de6823344c48a85ef4509eb4ee55": {
      "model_module": "@jupyter-widgets/base",
      "model_module_version": "1.2.0",
      "model_name": "LayoutModel",
      "state": {}
     },
     "9f1dd8d16a934096ac5dc44dbe30d5b3": {
      "model_module": "@jupyter-widgets/controls",
      "model_module_version": "1.5.0",
      "model_name": "FloatProgressModel",
      "state": {
       "description": "Run 72 of 156 [PID: 72819]:  48%",
       "layout": "IPY_MODEL_55d6a406c814479c9011ce9a6a421365",
       "max": 175320,
       "style": "IPY_MODEL_5f652989a6084e74baf6858d0168ec4c",
       "value": 83706
      }
     },
     "9f24903088264b7aa68895b73fbc957e": {
      "model_module": "@jupyter-widgets/base",
      "model_module_version": "1.2.0",
      "model_name": "LayoutModel",
      "state": {}
     },
     "9f3175c713074d999e586755be7faabe": {
      "model_module": "@jupyter-widgets/controls",
      "model_module_version": "1.5.0",
      "model_name": "HTMLModel",
      "state": {
       "layout": "IPY_MODEL_3b583885b06d4b4ebec2a0ba0bec4e43",
       "style": "IPY_MODEL_13025cdbdf94406f88fcb3a115422ac2",
       "value": " 8760/8760 [00:31&lt;00:00, 282.50steps/s]"
      }
     },
     "9f52964adfa74229a790d0775e253afe": {
      "model_module": "@jupyter-widgets/controls",
      "model_module_version": "1.5.0",
      "model_name": "HTMLModel",
      "state": {
       "layout": "IPY_MODEL_56a459806f814682a5959f83f313455b",
       "style": "IPY_MODEL_9e9922e32d5e43f4bfe7f53372ed8c95",
       "value": " 8760/8760 [00:30&lt;00:00, 284.77steps/s]"
      }
     },
     "9f75332d5d5e4814af03cc94c259d1bf": {
      "model_module": "@jupyter-widgets/controls",
      "model_module_version": "1.5.0",
      "model_name": "FloatProgressModel",
      "state": {
       "bar_style": "danger",
       "description": "Run 31 of 156 [PID: 45692]:  23%",
       "layout": "IPY_MODEL_b690dd516ef143e9a8e8112634b02e35",
       "max": 8760,
       "style": "IPY_MODEL_b526c7fd6e31468a8aebb00d868ba253",
       "value": 2046
      }
     },
     "9f9975684f21405690efcc571782b853": {
      "model_module": "@jupyter-widgets/controls",
      "model_module_version": "1.5.0",
      "model_name": "DescriptionStyleModel",
      "state": {
       "description_width": ""
      }
     },
     "9fb0cb42f0ee4f45a127d6fa2f0444fb": {
      "model_module": "@jupyter-widgets/base",
      "model_module_version": "1.2.0",
      "model_name": "LayoutModel",
      "state": {}
     },
     "9fccf03150b94a9f89dec958580c97c8": {
      "model_module": "@jupyter-widgets/controls",
      "model_module_version": "1.5.0",
      "model_name": "ProgressStyleModel",
      "state": {
       "description_width": "initial"
      }
     },
     "9fd00e0a9a654837aa37f83d080664e9": {
      "model_module": "@jupyter-widgets/base",
      "model_module_version": "1.2.0",
      "model_name": "LayoutModel",
      "state": {}
     },
     "9fd111c614ca4008acfa55e03fdc3e50": {
      "model_module": "@jupyter-widgets/controls",
      "model_module_version": "1.5.0",
      "model_name": "DescriptionStyleModel",
      "state": {
       "description_width": ""
      }
     },
     "9ff37d8d1e6347b6b095e3d8b8ae73ff": {
      "model_module": "@jupyter-widgets/controls",
      "model_module_version": "1.5.0",
      "model_name": "HBoxModel",
      "state": {
       "children": [
        "IPY_MODEL_f402dd3e581d4435828f2b4f40f2daca",
        "IPY_MODEL_36f206ba12cd4168a73eb75a5baca6ba"
       ],
       "layout": "IPY_MODEL_383ef23fbf47467c9b8b7ec476da05de"
      }
     },
     "9ffa9472518243bca065ea5632e18668": {
      "model_module": "@jupyter-widgets/controls",
      "model_module_version": "1.5.0",
      "model_name": "FloatProgressModel",
      "state": {
       "bar_style": "success",
       "description": "poop: 100%",
       "layout": "IPY_MODEL_b9eb9f3c4e5a4c5dae8c2bd7e029ea62",
       "max": 8760,
       "style": "IPY_MODEL_0edbd4b099ed43f49a2c16f2d5717267",
       "value": 8760
      }
     },
     "9ffb21bdba4a416fb2abb199522c86f7": {
      "model_module": "@jupyter-widgets/controls",
      "model_module_version": "1.5.0",
      "model_name": "DescriptionStyleModel",
      "state": {
       "description_width": ""
      }
     },
     "a01a89084f1748e4bd66378c0d8e33b8": {
      "model_module": "@jupyter-widgets/controls",
      "model_module_version": "1.5.0",
      "model_name": "ProgressStyleModel",
      "state": {
       "description_width": "initial"
      }
     },
     "a01ab849fabb4072b0321043f6ca5949": {
      "model_module": "@jupyter-widgets/controls",
      "model_module_version": "1.5.0",
      "model_name": "ProgressStyleModel",
      "state": {
       "description_width": "initial"
      }
     },
     "a0277d4cc2544f51b6956d80226499d1": {
      "model_module": "@jupyter-widgets/controls",
      "model_module_version": "1.5.0",
      "model_name": "DescriptionStyleModel",
      "state": {
       "description_width": ""
      }
     },
     "a0362d0a783f4ccfb6f9ea0ed729dafe": {
      "model_module": "@jupyter-widgets/controls",
      "model_module_version": "1.5.0",
      "model_name": "HBoxModel",
      "state": {
       "children": [
        "IPY_MODEL_8f97912f125d4d0eb53887101fdc3f5c",
        "IPY_MODEL_ecdd99151ec9471d8f61eddabfb569a3"
       ],
       "layout": "IPY_MODEL_bf13173afedc42d1a58415d065e021ea"
      }
     },
     "a04658df956c4cfd86e2283f5e62555d": {
      "model_module": "@jupyter-widgets/controls",
      "model_module_version": "1.5.0",
      "model_name": "FloatProgressModel",
      "state": {
       "bar_style": "danger",
       "description": "PID: 67932:  35%",
       "layout": "IPY_MODEL_7989786bd2914674acbe1948ba715ffa",
       "max": 8760,
       "style": "IPY_MODEL_133a2f128687451bb7a79eaf1a7cbe9d",
       "value": 3101
      }
     },
     "a04874f129bd43efb92454cb4c7a675e": {
      "model_module": "@jupyter-widgets/controls",
      "model_module_version": "1.5.0",
      "model_name": "FloatProgressModel",
      "state": {
       "description": "Run 111 of 156 [PID: 72824]:  46%",
       "layout": "IPY_MODEL_cbacd40687244b10902a46f07dc2c3bc",
       "max": 175320,
       "style": "IPY_MODEL_160c0bc113934c758374f504d085a575",
       "value": 81309
      }
     },
     "a0a2138f035e4a69a42303109e1cf963": {
      "model_module": "@jupyter-widgets/controls",
      "model_module_version": "1.5.0",
      "model_name": "DescriptionStyleModel",
      "state": {
       "description_width": ""
      }
     },
     "a0a37b4152b44f66a7f54fe69d39718a": {
      "model_module": "@jupyter-widgets/controls",
      "model_module_version": "1.5.0",
      "model_name": "HBoxModel",
      "state": {
       "children": [
        "IPY_MODEL_584c00e1b75544e79fa29a2baff091ea",
        "IPY_MODEL_d02bfa846bfa429c990c511ca33ada2e"
       ],
       "layout": "IPY_MODEL_1d454d1809c74bc6855feac7a4e90382"
      }
     },
     "a0b52a9fa9024deea3b458e66c317303": {
      "model_module": "@jupyter-widgets/base",
      "model_module_version": "1.2.0",
      "model_name": "LayoutModel",
      "state": {}
     },
     "a0d7c4cc10ab4b89a5352308a06c4eb5": {
      "model_module": "@jupyter-widgets/controls",
      "model_module_version": "1.5.0",
      "model_name": "ProgressStyleModel",
      "state": {
       "description_width": "initial"
      }
     },
     "a0fa0f410b2e410c9d3a16944b9c9cf4": {
      "model_module": "@jupyter-widgets/controls",
      "model_module_version": "1.5.0",
      "model_name": "HBoxModel",
      "state": {
       "children": [
        "IPY_MODEL_9804f154e0044562bb20ce258cd12cb7",
        "IPY_MODEL_61f36175013c4f238446803ee1adb462"
       ],
       "layout": "IPY_MODEL_3dee1ee18b5245a5a5df413f9e8449fa"
      }
     },
     "a10e4a8399bc46e5b8cfcac652cba5ed": {
      "model_module": "@jupyter-widgets/base",
      "model_module_version": "1.2.0",
      "model_name": "LayoutModel",
      "state": {}
     },
     "a11c24ed79f542bf8e77d52c59dcf558": {
      "model_module": "@jupyter-widgets/controls",
      "model_module_version": "1.5.0",
      "model_name": "FloatProgressModel",
      "state": {
       "bar_style": "success",
       "description": "Run 67 of 156 [PID: 21996]: 100%",
       "layout": "IPY_MODEL_ffe34a3c0d3e4bd2bd5c515d51ec43e5",
       "max": 8760,
       "style": "IPY_MODEL_76fb495cf1884165b6c7f027759aecdc",
       "value": 8760
      }
     },
     "a13399d164fc466f983e2a0011b4dc4d": {
      "model_module": "@jupyter-widgets/base",
      "model_module_version": "1.2.0",
      "model_name": "LayoutModel",
      "state": {}
     },
     "a17f1057c01c43aba56f3f67991a7a1d": {
      "model_module": "@jupyter-widgets/base",
      "model_module_version": "1.2.0",
      "model_name": "LayoutModel",
      "state": {}
     },
     "a1a484b7b6ac4a599df6952fc5f21dff": {
      "model_module": "@jupyter-widgets/base",
      "model_module_version": "1.2.0",
      "model_name": "LayoutModel",
      "state": {}
     },
     "a1dc0aa697d74c0186f474d7b865360b": {
      "model_module": "@jupyter-widgets/controls",
      "model_module_version": "1.5.0",
      "model_name": "HBoxModel",
      "state": {
       "children": [
        "IPY_MODEL_90d3948f227b4edbaac185bc13f89aa6",
        "IPY_MODEL_145603de49f9400fbce1117976608586"
       ],
       "layout": "IPY_MODEL_3ca3e22fbdf34996b3b335765fc8be0a"
      }
     },
     "a217c57fc0684a92bcce88e653bac718": {
      "model_module": "@jupyter-widgets/base",
      "model_module_version": "1.2.0",
      "model_name": "LayoutModel",
      "state": {}
     },
     "a22d941e75134eaaa0177a142f8e331d": {
      "model_module": "@jupyter-widgets/base",
      "model_module_version": "1.2.0",
      "model_name": "LayoutModel",
      "state": {}
     },
     "a267126e561841c3a2bc3428c425709b": {
      "model_module": "@jupyter-widgets/controls",
      "model_module_version": "1.5.0",
      "model_name": "HTMLModel",
      "state": {
       "layout": "IPY_MODEL_f47b8614b46e409795c0ecf219bc1beb",
       "style": "IPY_MODEL_c4ac38ab4ac84abc9cfd6c8e17d2ea8a",
       "value": " 8760/8760 [00:31&lt;00:00, 274.18steps/s]"
      }
     },
     "a270cd0b6a9d4b89b6f90d90c42cabb8": {
      "model_module": "@jupyter-widgets/controls",
      "model_module_version": "1.5.0",
      "model_name": "HBoxModel",
      "state": {
       "children": [
        "IPY_MODEL_6ea19926ead64b24b31d3175405e1931",
        "IPY_MODEL_376f0ab9bd7348fbaa9b9e8912e3cef8"
       ],
       "layout": "IPY_MODEL_fda46ea271874b48ae295fde3b2ca5ae"
      }
     },
     "a282e90c54ee431591522e43c5de51df": {
      "model_module": "@jupyter-widgets/controls",
      "model_module_version": "1.5.0",
      "model_name": "DescriptionStyleModel",
      "state": {
       "description_width": ""
      }
     },
     "a28fa4c7e2cf40ca9bcbd3e80d815c61": {
      "model_module": "@jupyter-widgets/base",
      "model_module_version": "1.2.0",
      "model_name": "LayoutModel",
      "state": {}
     },
     "a291f7e9fcc346588a9eac9104263639": {
      "model_module": "@jupyter-widgets/controls",
      "model_module_version": "1.5.0",
      "model_name": "HBoxModel",
      "state": {
       "children": [
        "IPY_MODEL_26209824aebb41938eb2f46881e98017",
        "IPY_MODEL_567c95bf96c44da09819a273a30d7668"
       ],
       "layout": "IPY_MODEL_c4af85403be94ce2882584e4fb283f54"
      }
     },
     "a30d7257ac954f3192512fe889d4dfa5": {
      "model_module": "@jupyter-widgets/controls",
      "model_module_version": "1.5.0",
      "model_name": "DescriptionStyleModel",
      "state": {
       "description_width": ""
      }
     },
     "a3168cef05b24cefa446511774e3c293": {
      "model_module": "@jupyter-widgets/controls",
      "model_module_version": "1.5.0",
      "model_name": "DescriptionStyleModel",
      "state": {
       "description_width": ""
      }
     },
     "a3224d43787645deb86cbacef10c2545": {
      "model_module": "@jupyter-widgets/base",
      "model_module_version": "1.2.0",
      "model_name": "LayoutModel",
      "state": {}
     },
     "a32ab513706346549649a661e49717d2": {
      "model_module": "@jupyter-widgets/controls",
      "model_module_version": "1.5.0",
      "model_name": "HTMLModel",
      "state": {
       "layout": "IPY_MODEL_83c26ec7cb4f4a1f954038703a2b8853",
       "style": "IPY_MODEL_70c3f2bf0a9547aca998f7bb6ce05c18",
       "value": " 8760/8760 [00:31&lt;00:00, 278.43steps/s]"
      }
     },
     "a3365b82a3af4ba2ad9e455fb99de656": {
      "model_module": "@jupyter-widgets/base",
      "model_module_version": "1.2.0",
      "model_name": "LayoutModel",
      "state": {}
     },
     "a33973b174264e6dba7dc709e9b6b95d": {
      "model_module": "@jupyter-widgets/base",
      "model_module_version": "1.2.0",
      "model_name": "LayoutModel",
      "state": {}
     },
     "a34fb5ff652a4928a87bd4f721c677f2": {
      "model_module": "@jupyter-widgets/controls",
      "model_module_version": "1.5.0",
      "model_name": "HBoxModel",
      "state": {
       "children": [
        "IPY_MODEL_cb07675e930c4f6f851dba3f2d860aaf",
        "IPY_MODEL_7f1a4fad4f2d4a83ad2f3fef959a40b8"
       ],
       "layout": "IPY_MODEL_af7b9803f2824690906a9fe75301b1ac"
      }
     },
     "a358159d4db44ed0bcef8ee646472896": {
      "model_module": "@jupyter-widgets/base",
      "model_module_version": "1.2.0",
      "model_name": "LayoutModel",
      "state": {}
     },
     "a36d96df4e664088a4f022132bc015c5": {
      "model_module": "@jupyter-widgets/base",
      "model_module_version": "1.2.0",
      "model_name": "LayoutModel",
      "state": {}
     },
     "a3a5abf36c3f49668f56877389f5004f": {
      "model_module": "@jupyter-widgets/controls",
      "model_module_version": "1.5.0",
      "model_name": "HBoxModel",
      "state": {
       "children": [
        "IPY_MODEL_c46491acd0d74186ab1f0db6447b9ab7",
        "IPY_MODEL_971bab2f078245e5aef933fdcb3ad0b9"
       ],
       "layout": "IPY_MODEL_73eb520d12a3402aa2f64786945a405e"
      }
     },
     "a3b8380e4b3d4199a8553022bcc47127": {
      "model_module": "@jupyter-widgets/base",
      "model_module_version": "1.2.0",
      "model_name": "LayoutModel",
      "state": {}
     },
     "a3c71285b5044b39bf6f29890c8428dc": {
      "model_module": "@jupyter-widgets/controls",
      "model_module_version": "1.5.0",
      "model_name": "FloatProgressModel",
      "state": {
       "description": "Run 76 of 156 [PID: 72816]:  52%",
       "layout": "IPY_MODEL_71b99735445a469d904c0f3319f0dbd9",
       "max": 175320,
       "style": "IPY_MODEL_af0f525c685e4e0497b21891eb3651b0",
       "value": 91352
      }
     },
     "a3e0deccb3de4b08aee462bb3b746328": {
      "model_module": "@jupyter-widgets/controls",
      "model_module_version": "1.5.0",
      "model_name": "ProgressStyleModel",
      "state": {
       "description_width": "initial"
      }
     },
     "a3f25a0b6aaa40ec9add9aab7b548029": {
      "model_module": "@jupyter-widgets/controls",
      "model_module_version": "1.5.0",
      "model_name": "ProgressStyleModel",
      "state": {
       "description_width": "initial"
      }
     },
     "a4296a4ed265419faf389cdedfb689be": {
      "model_module": "@jupyter-widgets/controls",
      "model_module_version": "1.5.0",
      "model_name": "HBoxModel",
      "state": {
       "children": [
        "IPY_MODEL_713d6c5391df4111929b0636a1967efb",
        "IPY_MODEL_3c25abb32fd247298a7cfd6eb9055d2f"
       ],
       "layout": "IPY_MODEL_9903e90f1474445d90cf0239efa3d18e"
      }
     },
     "a4426678f3d148a3870d7c120fe23e56": {
      "model_module": "@jupyter-widgets/base",
      "model_module_version": "1.2.0",
      "model_name": "LayoutModel",
      "state": {}
     },
     "a469bec2c46b43eca0a981670e1619e3": {
      "model_module": "@jupyter-widgets/base",
      "model_module_version": "1.2.0",
      "model_name": "LayoutModel",
      "state": {}
     },
     "a4761f1dfb6e4eb0ab86e856034a87a7": {
      "model_module": "@jupyter-widgets/base",
      "model_module_version": "1.2.0",
      "model_name": "LayoutModel",
      "state": {}
     },
     "a47f734850a34be187be6e86533a95d5": {
      "model_module": "@jupyter-widgets/base",
      "model_module_version": "1.2.0",
      "model_name": "LayoutModel",
      "state": {}
     },
     "a4847ce902f24d5497dfcc3a6d124cc5": {
      "model_module": "@jupyter-widgets/controls",
      "model_module_version": "1.5.0",
      "model_name": "HBoxModel",
      "state": {
       "children": [
        "IPY_MODEL_0877e30c2aa7420db16f629d24383a73",
        "IPY_MODEL_9f52964adfa74229a790d0775e253afe"
       ],
       "layout": "IPY_MODEL_2ec2dabe8eb844478be0e9c6dbcaadf2"
      }
     },
     "a4a604279d3c4d12ad141ce7dc7ab086": {
      "model_module": "@jupyter-widgets/controls",
      "model_module_version": "1.5.0",
      "model_name": "ProgressStyleModel",
      "state": {
       "description_width": "initial"
      }
     },
     "a50dd9d5e0d644cfabbeb84678b4c2ee": {
      "model_module": "@jupyter-widgets/controls",
      "model_module_version": "1.5.0",
      "model_name": "HTMLModel",
      "state": {
       "layout": "IPY_MODEL_02f7d7a039634c6db7e9d196fdd76d2e",
       "style": "IPY_MODEL_f0e8cb3290cc4eb7a3e103ee50685526",
       "value": " 8760/8760 [01:31&lt;00:00, 95.85steps/s]"
      }
     },
     "a5132beb06e843b3b5926a506fc555c9": {
      "model_module": "@jupyter-widgets/base",
      "model_module_version": "1.2.0",
      "model_name": "LayoutModel",
      "state": {}
     },
     "a523b0cb1bb84096b5dec89b9a23b0ad": {
      "model_module": "@jupyter-widgets/base",
      "model_module_version": "1.2.0",
      "model_name": "LayoutModel",
      "state": {}
     },
     "a549debcb0734ff9bda6f3aff223b5d7": {
      "model_module": "@jupyter-widgets/base",
      "model_module_version": "1.2.0",
      "model_name": "LayoutModel",
      "state": {}
     },
     "a57cc14a16fb4d0f9d573bef0fc40677": {
      "model_module": "@jupyter-widgets/base",
      "model_module_version": "1.2.0",
      "model_name": "LayoutModel",
      "state": {}
     },
     "a5a75aaa430a4f66925e7d29fdddcdba": {
      "model_module": "@jupyter-widgets/base",
      "model_module_version": "1.2.0",
      "model_name": "LayoutModel",
      "state": {}
     },
     "a5c189dd276b4587bc54ac3e2e4e801e": {
      "model_module": "@jupyter-widgets/base",
      "model_module_version": "1.2.0",
      "model_name": "LayoutModel",
      "state": {}
     },
     "a60e1b9beb404b30977bc98067fdfb09": {
      "model_module": "@jupyter-widgets/controls",
      "model_module_version": "1.5.0",
      "model_name": "DescriptionStyleModel",
      "state": {
       "description_width": ""
      }
     },
     "a6234624c63e4be6a257da7dd98e01f0": {
      "model_module": "@jupyter-widgets/controls",
      "model_module_version": "1.5.0",
      "model_name": "DescriptionStyleModel",
      "state": {
       "description_width": ""
      }
     },
     "a64107d71c734963bad72761ab75a1d3": {
      "model_module": "@jupyter-widgets/controls",
      "model_module_version": "1.5.0",
      "model_name": "DescriptionStyleModel",
      "state": {
       "description_width": ""
      }
     },
     "a6ea20b94b9f420bb6bdd769cdbc1b08": {
      "model_module": "@jupyter-widgets/controls",
      "model_module_version": "1.5.0",
      "model_name": "DescriptionStyleModel",
      "state": {
       "description_width": ""
      }
     },
     "a7053def70234c6f8ec8c5e058aefe7d": {
      "model_module": "@jupyter-widgets/controls",
      "model_module_version": "1.5.0",
      "model_name": "HTMLModel",
      "state": {
       "layout": "IPY_MODEL_4fefdbdee1da44478de5e2093a1a597d",
       "style": "IPY_MODEL_a282e90c54ee431591522e43c5de51df",
       "value": " 91629/175320 [3:34:44&lt;4:10:48,  5.56steps/s]"
      }
     },
     "a7148a6e73c742dbbba30c83dff10f22": {
      "model_module": "@jupyter-widgets/base",
      "model_module_version": "1.2.0",
      "model_name": "LayoutModel",
      "state": {}
     },
     "a7384059532b44af98bf794a697f81cf": {
      "model_module": "@jupyter-widgets/controls",
      "model_module_version": "1.5.0",
      "model_name": "HBoxModel",
      "state": {
       "children": [
        "IPY_MODEL_7db6f911d057453c8eeb42fe13ffacd6",
        "IPY_MODEL_12bb4508da47478fb5721c3d9c1ef7d1"
       ],
       "layout": "IPY_MODEL_0ab6a069a0bd4dd4907cdd0444c217fa"
      }
     },
     "a73c8dbcfab24d88a358a385981d59a4": {
      "model_module": "@jupyter-widgets/base",
      "model_module_version": "1.2.0",
      "model_name": "LayoutModel",
      "state": {}
     },
     "a75f5ba31c2d47ea9fbcb3ba5073d1e0": {
      "model_module": "@jupyter-widgets/base",
      "model_module_version": "1.2.0",
      "model_name": "LayoutModel",
      "state": {}
     },
     "a762c15f39a74b109f7b7c011e8e0b6b": {
      "model_module": "@jupyter-widgets/controls",
      "model_module_version": "1.5.0",
      "model_name": "ProgressStyleModel",
      "state": {
       "description_width": "initial"
      }
     },
     "a775ce1ef0d44775997a27f04746367e": {
      "model_module": "@jupyter-widgets/controls",
      "model_module_version": "1.5.0",
      "model_name": "FloatProgressModel",
      "state": {
       "description": "Run 93 of 156 [PID: 72807]:  49%",
       "layout": "IPY_MODEL_5f958946e80f403e9a5b0b4b1d4abcd2",
       "max": 175320,
       "style": "IPY_MODEL_41866b9c4c0840de9c1982d90a17b032",
       "value": 86478
      }
     },
     "a78700a3d0064b8f9553239de720dd16": {
      "model_module": "@jupyter-widgets/controls",
      "model_module_version": "1.5.0",
      "model_name": "HTMLModel",
      "state": {
       "layout": "IPY_MODEL_c3c6a799dd854ba48a01563b8a8beb93",
       "style": "IPY_MODEL_d6acf991eebb43f18bdb480be83b3234",
       "value": " 8760/8760 [00:31&lt;00:00, 282.14steps/s]"
      }
     },
     "a79dba69ce6e4a22ba0e2bf2c51c4464": {
      "model_module": "@jupyter-widgets/controls",
      "model_module_version": "1.5.0",
      "model_name": "FloatProgressModel",
      "state": {
       "bar_style": "success",
       "description": "Run 70 of 156 [PID: 21992]: 100%",
       "layout": "IPY_MODEL_594c906bae774f3ba32e937cf7ab552f",
       "max": 8760,
       "style": "IPY_MODEL_1326e43672554a72b4254c4e1e101fcd",
       "value": 8760
      }
     },
     "a7a2f230fcfe4a33a56588a5367aaf7b": {
      "model_module": "@jupyter-widgets/controls",
      "model_module_version": "1.5.0",
      "model_name": "DescriptionStyleModel",
      "state": {
       "description_width": ""
      }
     },
     "a7a7075eb8b9438fb9c41e723118acaf": {
      "model_module": "@jupyter-widgets/base",
      "model_module_version": "1.2.0",
      "model_name": "LayoutModel",
      "state": {}
     },
     "a7ac9e61a5774437b47f705c5b5eb951": {
      "model_module": "@jupyter-widgets/base",
      "model_module_version": "1.2.0",
      "model_name": "LayoutModel",
      "state": {}
     },
     "a804d7c0c4bd41e680d45d307e4c1598": {
      "model_module": "@jupyter-widgets/controls",
      "model_module_version": "1.5.0",
      "model_name": "FloatProgressModel",
      "state": {
       "bar_style": "danger",
       "description": "poop:  18%",
       "layout": "IPY_MODEL_25ebfc2981ea4503bbc1208ae824ec4e",
       "max": 8760,
       "style": "IPY_MODEL_f5b20e7524e74cbca3fae5b50809b189",
       "value": 1540
      }
     },
     "a83848028272428e8f3fc3d031a6b2c0": {
      "model_module": "@jupyter-widgets/base",
      "model_module_version": "1.2.0",
      "model_name": "LayoutModel",
      "state": {}
     },
     "a8530c01ea54480b9e28a1280bec0c76": {
      "model_module": "@jupyter-widgets/controls",
      "model_module_version": "1.5.0",
      "model_name": "HBoxModel",
      "state": {
       "children": [
        "IPY_MODEL_5cce75c0b9ce44de8ce87332f3e15756",
        "IPY_MODEL_257144d88786451787199ae9ebff9395"
       ],
       "layout": "IPY_MODEL_41b174aa6f3945da863150ff6e3d5421"
      }
     },
     "a8679093ac2f4e879c6720d09a40afb7": {
      "model_module": "@jupyter-widgets/base",
      "model_module_version": "1.2.0",
      "model_name": "LayoutModel",
      "state": {}
     },
     "a86ab8b7fc7245769f6fc2d11232134e": {
      "model_module": "@jupyter-widgets/base",
      "model_module_version": "1.2.0",
      "model_name": "LayoutModel",
      "state": {}
     },
     "a875ebd114b94d34969eb4a7899c636b": {
      "model_module": "@jupyter-widgets/base",
      "model_module_version": "1.2.0",
      "model_name": "LayoutModel",
      "state": {}
     },
     "a876811635614bbc86e613e57cc0d28f": {
      "model_module": "@jupyter-widgets/controls",
      "model_module_version": "1.5.0",
      "model_name": "HTMLModel",
      "state": {
       "layout": "IPY_MODEL_58f7752e42ff47a58dd2120abc8a673d",
       "style": "IPY_MODEL_b36bc559795046f8ac4623a45bc4f582",
       "value": " 81487/175320 [3:33:29&lt;6:31:26,  4.00steps/s]"
      }
     },
     "a876dbc10dfd4fa48c3483f2bce4fcb2": {
      "model_module": "@jupyter-widgets/base",
      "model_module_version": "1.2.0",
      "model_name": "LayoutModel",
      "state": {}
     },
     "a8792ef71342489499ffac9a7c56b82e": {
      "model_module": "@jupyter-widgets/controls",
      "model_module_version": "1.5.0",
      "model_name": "HTMLModel",
      "state": {
       "layout": "IPY_MODEL_a47f734850a34be187be6e86533a95d5",
       "style": "IPY_MODEL_545be0149e8b494b8d2473db22d21590",
       "value": " 8760/8760 [00:31&lt;00:00, 280.36steps/s]"
      }
     },
     "a89f3ca1a66f4bdb9c84f86f29c46c6e": {
      "model_module": "@jupyter-widgets/controls",
      "model_module_version": "1.5.0",
      "model_name": "HTMLModel",
      "state": {
       "layout": "IPY_MODEL_c76269b4b9894d869637a0b2d1ca192e",
       "style": "IPY_MODEL_a0277d4cc2544f51b6956d80226499d1",
       "value": " 8760/8760 [00:30&lt;00:00, 289.87steps/s]"
      }
     },
     "a8fc66dbce5b4839a98e36f6b795d419": {
      "model_module": "@jupyter-widgets/controls",
      "model_module_version": "1.5.0",
      "model_name": "DescriptionStyleModel",
      "state": {
       "description_width": ""
      }
     },
     "a8ff37b0393641c3926ca1cff4f82917": {
      "model_module": "@jupyter-widgets/controls",
      "model_module_version": "1.5.0",
      "model_name": "DescriptionStyleModel",
      "state": {
       "description_width": ""
      }
     },
     "a90e763d52644a148cf40f67c04db4bb": {
      "model_module": "@jupyter-widgets/base",
      "model_module_version": "1.2.0",
      "model_name": "LayoutModel",
      "state": {}
     },
     "a91fff81137e40f79027be0b831f32f1": {
      "model_module": "@jupyter-widgets/controls",
      "model_module_version": "1.5.0",
      "model_name": "ProgressStyleModel",
      "state": {
       "description_width": "initial"
      }
     },
     "a929fdbbfbbb4e3fad7f8095524c7063": {
      "model_module": "@jupyter-widgets/controls",
      "model_module_version": "1.5.0",
      "model_name": "HTMLModel",
      "state": {
       "layout": "IPY_MODEL_9fb0cb42f0ee4f45a127d6fa2f0444fb",
       "style": "IPY_MODEL_01d6812bfe7345bd90e1aa5b4485ae41",
       "value": " 472/8760 [00:01&lt;00:29, 281.61steps/s]"
      }
     },
     "a92b89dc15b74115b72bd1b8ba1b0d32": {
      "model_module": "@jupyter-widgets/controls",
      "model_module_version": "1.5.0",
      "model_name": "FloatProgressModel",
      "state": {
       "bar_style": "success",
       "description": "Run 28 of 156 [PID: 21986]: 100%",
       "layout": "IPY_MODEL_3ae8335091104e07a6c5640c0244c9d9",
       "max": 8760,
       "style": "IPY_MODEL_8fdd13ec065942a48f67362dc079c882",
       "value": 8760
      }
     },
     "a943be83283844c3956b931055f39d14": {
      "model_module": "@jupyter-widgets/controls",
      "model_module_version": "1.5.0",
      "model_name": "HBoxModel",
      "state": {
       "children": [
        "IPY_MODEL_f6efc2c8c1af4efcbb89ab354b031ee6",
        "IPY_MODEL_94bfa8e804d34e54b6807dfbbfe9275c"
       ],
       "layout": "IPY_MODEL_d12e816a492a4dbbaa82da70a9518604"
      }
     },
     "a980abed4a034867bbb674c42a443ccd": {
      "model_module": "@jupyter-widgets/controls",
      "model_module_version": "1.5.0",
      "model_name": "HBoxModel",
      "state": {
       "children": [
        "IPY_MODEL_1f1668d33b644fc09b99f6c3f732b90f",
        "IPY_MODEL_ed82a7ff50944964a9d2a0a311a2bc40"
       ],
       "layout": "IPY_MODEL_e500b71088d84c43a2e81b5e59c784c7"
      }
     },
     "a99629f2dad94c57a0e4eb5bc7092ac1": {
      "model_module": "@jupyter-widgets/base",
      "model_module_version": "1.2.0",
      "model_name": "LayoutModel",
      "state": {}
     },
     "a9969493c8214e2ca29b753bf51192c1": {
      "model_module": "@jupyter-widgets/controls",
      "model_module_version": "1.5.0",
      "model_name": "HTMLModel",
      "state": {
       "layout": "IPY_MODEL_1a4bd92119a54f91826908cf53367a68",
       "style": "IPY_MODEL_794e3ca612144e35ab779f00380ab6b0",
       "value": " 98806/175320 [3:46:47&lt;4:42:14,  4.52steps/s]"
      }
     },
     "a9a4a65e1edc4342bcd54f2dc19fe405": {
      "model_module": "@jupyter-widgets/controls",
      "model_module_version": "1.5.0",
      "model_name": "FloatProgressModel",
      "state": {
       "bar_style": "success",
       "description": "poop: 100%",
       "layout": "IPY_MODEL_2c698c66b8ec4286bad0e05bb1b8ef65",
       "max": 8760,
       "style": "IPY_MODEL_174b83fa103c44229c6f847ec641a2f6",
       "value": 8760
      }
     },
     "a9bad631f575438a972f70e11800766a": {
      "model_module": "@jupyter-widgets/base",
      "model_module_version": "1.2.0",
      "model_name": "LayoutModel",
      "state": {}
     },
     "a9bc72f3f1d0474db64448a73aab49b2": {
      "model_module": "@jupyter-widgets/base",
      "model_module_version": "1.2.0",
      "model_name": "LayoutModel",
      "state": {}
     },
     "a9e0abfeec7a4807a44659705ed419d3": {
      "model_module": "@jupyter-widgets/controls",
      "model_module_version": "1.5.0",
      "model_name": "ProgressStyleModel",
      "state": {
       "description_width": "initial"
      }
     },
     "aa087ccdc1524ee3bc48477547385766": {
      "model_module": "@jupyter-widgets/controls",
      "model_module_version": "1.5.0",
      "model_name": "DescriptionStyleModel",
      "state": {
       "description_width": ""
      }
     },
     "aa33e53e20a74d929b5832fb81b02a89": {
      "model_module": "@jupyter-widgets/controls",
      "model_module_version": "1.5.0",
      "model_name": "ProgressStyleModel",
      "state": {
       "description_width": "initial"
      }
     },
     "aa3a9fbcd330407d932cc8af650c5472": {
      "model_module": "@jupyter-widgets/controls",
      "model_module_version": "1.5.0",
      "model_name": "HBoxModel",
      "state": {
       "children": [
        "IPY_MODEL_87f8c68e78204651a90ce4402e86e949",
        "IPY_MODEL_f36e655bb32f43029041369860dd9689"
       ],
       "layout": "IPY_MODEL_d96ce9074f454613abe073e560c0313b"
      }
     },
     "aa43d103e3ee4d1981ebb9ad3095cd6d": {
      "model_module": "@jupyter-widgets/controls",
      "model_module_version": "1.5.0",
      "model_name": "FloatProgressModel",
      "state": {
       "description": "Run 75 of 156 [PID: 72806]:  51%",
       "layout": "IPY_MODEL_160d3db148a6401993b0d66291723a54",
       "max": 175320,
       "style": "IPY_MODEL_4337de264dbf450a9a909f03d57e0859",
       "value": 89058
      }
     },
     "aa60a0de1dab473ca55cf7f11d520239": {
      "model_module": "@jupyter-widgets/base",
      "model_module_version": "1.2.0",
      "model_name": "LayoutModel",
      "state": {}
     },
     "aa6ae90a29254ab8a096931f1dd2775a": {
      "model_module": "@jupyter-widgets/controls",
      "model_module_version": "1.5.0",
      "model_name": "DescriptionStyleModel",
      "state": {
       "description_width": ""
      }
     },
     "aaa0855d35e64dab91a5b9103f78f3f5": {
      "model_module": "@jupyter-widgets/controls",
      "model_module_version": "1.5.0",
      "model_name": "ProgressStyleModel",
      "state": {
       "description_width": "initial"
      }
     },
     "aaa95dae9b4b468b8af77f49c5a4304d": {
      "model_module": "@jupyter-widgets/controls",
      "model_module_version": "1.5.0",
      "model_name": "ProgressStyleModel",
      "state": {
       "description_width": "initial"
      }
     },
     "aaab00ea8d8b42698d5aae727c8cedb1": {
      "model_module": "@jupyter-widgets/base",
      "model_module_version": "1.2.0",
      "model_name": "LayoutModel",
      "state": {}
     },
     "aaac7847bb0f471394af76a8b3fbe0c0": {
      "model_module": "@jupyter-widgets/base",
      "model_module_version": "1.2.0",
      "model_name": "LayoutModel",
      "state": {}
     },
     "aac0c0ce5b9444dcaf2fc51924509ea1": {
      "model_module": "@jupyter-widgets/controls",
      "model_module_version": "1.5.0",
      "model_name": "HBoxModel",
      "state": {
       "children": [
        "IPY_MODEL_301217f659d540e7b18d5995804ffbd8",
        "IPY_MODEL_5b5a4befa39a46588d7b45f294d0510d"
       ],
       "layout": "IPY_MODEL_c840a100f5a64ffdb8a0e3ee688cbf40"
      }
     },
     "aac825c11abb482c9503bc1fac6d3eb0": {
      "model_module": "@jupyter-widgets/controls",
      "model_module_version": "1.5.0",
      "model_name": "ProgressStyleModel",
      "state": {
       "description_width": "initial"
      }
     },
     "aae222a0f884456589425d37593b61b2": {
      "model_module": "@jupyter-widgets/controls",
      "model_module_version": "1.5.0",
      "model_name": "HTMLModel",
      "state": {
       "layout": "IPY_MODEL_70aadda4c68d45c780c8541318af0b50",
       "style": "IPY_MODEL_3e60dff2977c4dcc9ac80b2986be2821",
       "value": " 8760/8760 [00:31&lt;00:00, 281.03steps/s]"
      }
     },
     "aaea56d862e34771b8e3f0d5c29df8e5": {
      "model_module": "@jupyter-widgets/controls",
      "model_module_version": "1.5.0",
      "model_name": "ProgressStyleModel",
      "state": {
       "description_width": "initial"
      }
     },
     "ab50bbdaa90a4b72ae7a610f03310e27": {
      "model_module": "@jupyter-widgets/controls",
      "model_module_version": "1.5.0",
      "model_name": "ProgressStyleModel",
      "state": {
       "description_width": "initial"
      }
     },
     "ab655826bdec4836873ed8cd953e2c4c": {
      "model_module": "@jupyter-widgets/controls",
      "model_module_version": "1.5.0",
      "model_name": "HTMLModel",
      "state": {
       "layout": "IPY_MODEL_ce0722dab54c4a6490ef3d0ba9c4a4e0",
       "style": "IPY_MODEL_f917e02306a44dbfba8d106ee5b3c02a",
       "value": " 8760/8760 [00:31&lt;00:00, 280.65steps/s]"
      }
     },
     "ab6fa72468a84e579eeea48fbb5fbdfb": {
      "model_module": "@jupyter-widgets/controls",
      "model_module_version": "1.5.0",
      "model_name": "FloatProgressModel",
      "state": {
       "bar_style": "danger",
       "description": "poop:  67%",
       "layout": "IPY_MODEL_fbf31ea3ccce4f1fad3025d222cd809e",
       "max": 8760,
       "style": "IPY_MODEL_b3faef22932e493f98f6641102bdb908",
       "value": 5905
      }
     },
     "ab875263cfaf4e65b1be3931a3f482e1": {
      "model_module": "@jupyter-widgets/controls",
      "model_module_version": "1.5.0",
      "model_name": "DescriptionStyleModel",
      "state": {
       "description_width": ""
      }
     },
     "abba25642e9a4267b0dbf90b60082894": {
      "model_module": "@jupyter-widgets/controls",
      "model_module_version": "1.5.0",
      "model_name": "ProgressStyleModel",
      "state": {
       "description_width": "initial"
      }
     },
     "abf4cd8d135f4cabb817dcef5091bba6": {
      "model_module": "@jupyter-widgets/controls",
      "model_module_version": "1.5.0",
      "model_name": "HBoxModel",
      "state": {
       "children": [
        "IPY_MODEL_e8b091f76b87489e8f9712a8cc9f75cd",
        "IPY_MODEL_ecb3375eff9a49d597229463c98872a5"
       ],
       "layout": "IPY_MODEL_590df27cd71a4ad4bb11e6a6f38f846c"
      }
     },
     "ac14cbb302354db2b77ce04fc2304cb1": {
      "model_module": "@jupyter-widgets/controls",
      "model_module_version": "1.5.0",
      "model_name": "HTMLModel",
      "state": {
       "layout": "IPY_MODEL_878ff03005cc484781e6a5e60c6f5a01",
       "style": "IPY_MODEL_df3db5640bcf4e11a44f6657775f4667",
       "value": " 5312/8760 [00:19&lt;00:12, 276.84steps/s]"
      }
     },
     "ac786f1d50cd46468e95a7b4d0a81a77": {
      "model_module": "@jupyter-widgets/base",
      "model_module_version": "1.2.0",
      "model_name": "LayoutModel",
      "state": {}
     },
     "ac8d95d296084a5a893b96848493a059": {
      "model_module": "@jupyter-widgets/controls",
      "model_module_version": "1.5.0",
      "model_name": "FloatProgressModel",
      "state": {
       "bar_style": "danger",
       "description": "PID: 67931:  36%",
       "layout": "IPY_MODEL_afe86cc91da94ace8e18df76a45d087f",
       "max": 8760,
       "style": "IPY_MODEL_f947855f48344a5598acad227227c6c3",
       "value": 3154
      }
     },
     "aca29597c86a484fbb9764cf69c804c9": {
      "model_module": "@jupyter-widgets/base",
      "model_module_version": "1.2.0",
      "model_name": "LayoutModel",
      "state": {}
     },
     "aca56a6c90fc41eeb055c6ce402af141": {
      "model_module": "@jupyter-widgets/base",
      "model_module_version": "1.2.0",
      "model_name": "LayoutModel",
      "state": {}
     },
     "acb36de515594c61a470e35e598d404e": {
      "model_module": "@jupyter-widgets/base",
      "model_module_version": "1.2.0",
      "model_name": "LayoutModel",
      "state": {}
     },
     "acc9de062bdc42a298a1db0d613ff903": {
      "model_module": "@jupyter-widgets/controls",
      "model_module_version": "1.5.0",
      "model_name": "HBoxModel",
      "state": {
       "children": [
        "IPY_MODEL_15ceebc4504f4eb2a4a4448be6b62a1f",
        "IPY_MODEL_1b81d8a5e0d94565a8fd214af5a390f9"
       ],
       "layout": "IPY_MODEL_2e9eb5be55834d3fb5d7bf4b637ecb0b"
      }
     },
     "ace27304984647dea887afeffc669284": {
      "model_module": "@jupyter-widgets/base",
      "model_module_version": "1.2.0",
      "model_name": "LayoutModel",
      "state": {}
     },
     "acf848d57341404b8bc9c7c63ee14df1": {
      "model_module": "@jupyter-widgets/base",
      "model_module_version": "1.2.0",
      "model_name": "LayoutModel",
      "state": {}
     },
     "acfde449865d458b85ab908a68ee9657": {
      "model_module": "@jupyter-widgets/base",
      "model_module_version": "1.2.0",
      "model_name": "LayoutModel",
      "state": {}
     },
     "ad0a0e501d97456d971ebdfa4703269d": {
      "model_module": "@jupyter-widgets/controls",
      "model_module_version": "1.5.0",
      "model_name": "FloatProgressModel",
      "state": {
       "bar_style": "success",
       "description": "100%",
       "layout": "IPY_MODEL_9908b620c2ee43628bc32f029e328f80",
       "max": 8760,
       "style": "IPY_MODEL_e0ccbafb4d7c4f27b258de4d45abf558",
       "value": 8760
      }
     },
     "ad33eeb5293c439aa49e0e678bd42767": {
      "model_module": "@jupyter-widgets/base",
      "model_module_version": "1.2.0",
      "model_name": "LayoutModel",
      "state": {}
     },
     "ad3aee548b69484b83b6ce4be9c79335": {
      "model_module": "@jupyter-widgets/controls",
      "model_module_version": "1.5.0",
      "model_name": "FloatProgressModel",
      "state": {
       "bar_style": "success",
       "description": "poop: 100%",
       "layout": "IPY_MODEL_3e6429522d8a4a349d44a8a205146acb",
       "max": 8760,
       "style": "IPY_MODEL_6dd84ff411ff452dafd4f41337484f48",
       "value": 8760
      }
     },
     "ad479962dd6d4dcf9c2e40ac82b204fd": {
      "model_module": "@jupyter-widgets/controls",
      "model_module_version": "1.5.0",
      "model_name": "HBoxModel",
      "state": {
       "children": [
        "IPY_MODEL_adc6d88e80114fc9af4874f6cf2b31be",
        "IPY_MODEL_e25020ef1b954d21a28260fd75110463"
       ],
       "layout": "IPY_MODEL_3c729b6233d142ccbf5f447e1ad6dbd0"
      }
     },
     "ad6cb7c61f514e16be70400f929003ab": {
      "model_module": "@jupyter-widgets/controls",
      "model_module_version": "1.5.0",
      "model_name": "HTMLModel",
      "state": {
       "layout": "IPY_MODEL_983358b3ad58443b941884d3bfbefbe5",
       "style": "IPY_MODEL_5ebb0e5f61194229965dd3a0f2c80747",
       "value": " 89057/175320 [3:43:41&lt;6:39:01,  3.60steps/s]"
      }
     },
     "ad99594ef01046f8b015d5256df60b0c": {
      "model_module": "@jupyter-widgets/controls",
      "model_module_version": "1.5.0",
      "model_name": "ProgressStyleModel",
      "state": {
       "description_width": "initial"
      }
     },
     "ada7c304bea04fa98083f2992beaed37": {
      "model_module": "@jupyter-widgets/base",
      "model_module_version": "1.2.0",
      "model_name": "LayoutModel",
      "state": {}
     },
     "ada94805d62f47eb87859c11058c9f1c": {
      "model_module": "@jupyter-widgets/base",
      "model_module_version": "1.2.0",
      "model_name": "LayoutModel",
      "state": {}
     },
     "adbd4a7269e5419299dba1705f634e73": {
      "model_module": "@jupyter-widgets/base",
      "model_module_version": "1.2.0",
      "model_name": "LayoutModel",
      "state": {}
     },
     "adc6d88e80114fc9af4874f6cf2b31be": {
      "model_module": "@jupyter-widgets/controls",
      "model_module_version": "1.5.0",
      "model_name": "FloatProgressModel",
      "state": {
       "bar_style": "success",
       "description": "Run 37 of 156 [PID: 21994]: 100%",
       "layout": "IPY_MODEL_143e69726d164234b9f31caea300d737",
       "max": 8760,
       "style": "IPY_MODEL_52ca4bce9bcc43029b898ba9770e5d56",
       "value": 8760
      }
     },
     "ae2f0ec486d148b49e57ca421b3f49db": {
      "model_module": "@jupyter-widgets/base",
      "model_module_version": "1.2.0",
      "model_name": "LayoutModel",
      "state": {}
     },
     "ae45d7a2b30f4963b4e8ba95de06c535": {
      "model_module": "@jupyter-widgets/controls",
      "model_module_version": "1.5.0",
      "model_name": "ProgressStyleModel",
      "state": {
       "description_width": "initial"
      }
     },
     "ae474b3d90384264ad96c27abd043254": {
      "model_module": "@jupyter-widgets/controls",
      "model_module_version": "1.5.0",
      "model_name": "HBoxModel",
      "state": {
       "children": [
        "IPY_MODEL_e5f5b30b06f84cdcb3ef2bc04d811bf2",
        "IPY_MODEL_6aad24b1bdf94b159a7a24f9b673257d"
       ],
       "layout": "IPY_MODEL_f518b8d2a6234be7ae5ed700c2f55f0e"
      }
     },
     "ae52922beb79416ca7deb3e78cbfd8ee": {
      "model_module": "@jupyter-widgets/controls",
      "model_module_version": "1.5.0",
      "model_name": "HTMLModel",
      "state": {
       "layout": "IPY_MODEL_c649b42a1b774ef4bbf26e46a6b83d66",
       "style": "IPY_MODEL_dfa5581e851a435ebed089a2d5b15efe",
       "value": " 8760/8760 [00:30&lt;00:00, 288.79steps/s]"
      }
     },
     "ae5620a76e11481e9c04e448339d646d": {
      "model_module": "@jupyter-widgets/controls",
      "model_module_version": "1.5.0",
      "model_name": "HBoxModel",
      "state": {
       "children": [
        "IPY_MODEL_65e89034913e4b078a25dd6f6f4d39b3",
        "IPY_MODEL_409110530db24e7081d6e84398db1d16"
       ],
       "layout": "IPY_MODEL_239bd51371254572a85997e6d963f107"
      }
     },
     "ae5713f96c3b401f93656a980482bab5": {
      "model_module": "@jupyter-widgets/base",
      "model_module_version": "1.2.0",
      "model_name": "LayoutModel",
      "state": {}
     },
     "ae680c584e5e4c17bc8a14e09e184381": {
      "model_module": "@jupyter-widgets/controls",
      "model_module_version": "1.5.0",
      "model_name": "FloatProgressModel",
      "state": {
       "bar_style": "success",
       "description": "100%",
       "layout": "IPY_MODEL_f921f28f1900421cb1e80464cbada16e",
       "max": 8760,
       "style": "IPY_MODEL_6aa530c446424bd68229bcc5dd770cd5",
       "value": 8760
      }
     },
     "ae901ea89c294d06bb6d56a0e3f5adf4": {
      "model_module": "@jupyter-widgets/controls",
      "model_module_version": "1.5.0",
      "model_name": "FloatProgressModel",
      "state": {
       "description": "Run 103 of 156 [PID: 72837]:  49%",
       "layout": "IPY_MODEL_1c8f47684c8f422786df46d39c03441a",
       "max": 175320,
       "style": "IPY_MODEL_4cc769f0f4bf4e77bcd7a8f9c33e2fcf",
       "value": 85797
      }
     },
     "ae98c5fdc273406abefe0cfdf29b36f3": {
      "model_module": "@jupyter-widgets/controls",
      "model_module_version": "1.5.0",
      "model_name": "HTMLModel",
      "state": {
       "layout": "IPY_MODEL_01cdf13599b54811b46788ac95dc4ddc",
       "style": "IPY_MODEL_e37a659157274042bc7b50cde93f7af6",
       "value": " 2692/8760 [00:09&lt;00:21, 284.78steps/s]"
      }
     },
     "ae9d9e28fda04c9b9744da98826e2bf5": {
      "model_module": "@jupyter-widgets/base",
      "model_module_version": "1.2.0",
      "model_name": "LayoutModel",
      "state": {}
     },
     "aea74d660b354fb8aac42580af24c493": {
      "model_module": "@jupyter-widgets/controls",
      "model_module_version": "1.5.0",
      "model_name": "DescriptionStyleModel",
      "state": {
       "description_width": ""
      }
     },
     "aec408ab9a1b453f8902e8f466aeea76": {
      "model_module": "@jupyter-widgets/controls",
      "model_module_version": "1.5.0",
      "model_name": "FloatProgressModel",
      "state": {
       "bar_style": "danger",
       "description": " 95%",
       "layout": "IPY_MODEL_eebe8727c72c41f8b8b1892eb92161ad",
       "max": 8760,
       "style": "IPY_MODEL_9ccc5d32ce884d59841eb36f94a2c525",
       "value": 8317
      }
     },
     "aed54433515946218492be8745204d7b": {
      "model_module": "@jupyter-widgets/controls",
      "model_module_version": "1.5.0",
      "model_name": "FloatProgressModel",
      "state": {
       "bar_style": "danger",
       "description": "poop:  66%",
       "layout": "IPY_MODEL_bd3b47a94773494f8a9d5f8f1322ca21",
       "max": 8760,
       "style": "IPY_MODEL_dd3aa81266c44c2289cc8bca70009227",
       "value": 5773
      }
     },
     "aee0686844954f6985579db882493f9a": {
      "model_module": "@jupyter-widgets/controls",
      "model_module_version": "1.5.0",
      "model_name": "DescriptionStyleModel",
      "state": {
       "description_width": ""
      }
     },
     "aefcaa6561ea4b378d7259babddaf78d": {
      "model_module": "@jupyter-widgets/controls",
      "model_module_version": "1.5.0",
      "model_name": "ProgressStyleModel",
      "state": {
       "description_width": "initial"
      }
     },
     "af0f525c685e4e0497b21891eb3651b0": {
      "model_module": "@jupyter-widgets/controls",
      "model_module_version": "1.5.0",
      "model_name": "ProgressStyleModel",
      "state": {
       "description_width": "initial"
      }
     },
     "af143e3712e24cad905668468345305a": {
      "model_module": "@jupyter-widgets/base",
      "model_module_version": "1.2.0",
      "model_name": "LayoutModel",
      "state": {}
     },
     "af2ee42b50f24de1851cdbb6cbff0b74": {
      "model_module": "@jupyter-widgets/controls",
      "model_module_version": "1.5.0",
      "model_name": "HTMLModel",
      "state": {
       "layout": "IPY_MODEL_b9d468ddf03640c1b6bda5679a07c768",
       "style": "IPY_MODEL_4ef2eddf11a3437c80646c85a2ef5708",
       "value": " 8760/8760 [00:29&lt;00:00, 294.81steps/s]"
      }
     },
     "af527b53ec6a454b80f815f063fdfba7": {
      "model_module": "@jupyter-widgets/controls",
      "model_module_version": "1.5.0",
      "model_name": "HBoxModel",
      "state": {
       "children": [
        "IPY_MODEL_dfdccc31e22343f5b4cc2897136cc372",
        "IPY_MODEL_0242cd78453d4625a1109f5ed7398120"
       ],
       "layout": "IPY_MODEL_d348378979044b5aa7b9fea501f16ee3"
      }
     },
     "af5dbc2d7623462f8eea21117504900a": {
      "model_module": "@jupyter-widgets/base",
      "model_module_version": "1.2.0",
      "model_name": "LayoutModel",
      "state": {}
     },
     "af7b9803f2824690906a9fe75301b1ac": {
      "model_module": "@jupyter-widgets/base",
      "model_module_version": "1.2.0",
      "model_name": "LayoutModel",
      "state": {}
     },
     "af8046f41a8c4bf4bf6b68ebac217f91": {
      "model_module": "@jupyter-widgets/controls",
      "model_module_version": "1.5.0",
      "model_name": "ProgressStyleModel",
      "state": {
       "description_width": "initial"
      }
     },
     "af873bca735349c5a1adcd1ef5d4b72a": {
      "model_module": "@jupyter-widgets/base",
      "model_module_version": "1.2.0",
      "model_name": "LayoutModel",
      "state": {}
     },
     "af99dd6b75004d5ab2f44174c69421c9": {
      "model_module": "@jupyter-widgets/base",
      "model_module_version": "1.2.0",
      "model_name": "LayoutModel",
      "state": {}
     },
     "afc8720587054eab92a873b26fd3d50f": {
      "model_module": "@jupyter-widgets/controls",
      "model_module_version": "1.5.0",
      "model_name": "FloatProgressModel",
      "state": {
       "bar_style": "danger",
       "description": "Run 30 of 156 [PID: 45697]:  23%",
       "layout": "IPY_MODEL_088d7255b72c4f928e33e73491611b68",
       "max": 8760,
       "style": "IPY_MODEL_ae45d7a2b30f4963b4e8ba95de06c535",
       "value": 2027
      }
     },
     "afdd68dd837740aab1a8fb8ae10b2fb0": {
      "model_module": "@jupyter-widgets/base",
      "model_module_version": "1.2.0",
      "model_name": "LayoutModel",
      "state": {}
     },
     "afe09c1d61ce4f8d888bb70df564601c": {
      "model_module": "@jupyter-widgets/controls",
      "model_module_version": "1.5.0",
      "model_name": "ProgressStyleModel",
      "state": {
       "description_width": "initial"
      }
     },
     "afe86cc91da94ace8e18df76a45d087f": {
      "model_module": "@jupyter-widgets/base",
      "model_module_version": "1.2.0",
      "model_name": "LayoutModel",
      "state": {}
     },
     "b00c6e450bae4194a3d97e4c5f07bd22": {
      "model_module": "@jupyter-widgets/base",
      "model_module_version": "1.2.0",
      "model_name": "LayoutModel",
      "state": {}
     },
     "b0120ce052e04f8f9792138ad9eef8fe": {
      "model_module": "@jupyter-widgets/base",
      "model_module_version": "1.2.0",
      "model_name": "LayoutModel",
      "state": {}
     },
     "b01d3d913ecc4755844db871a05b653a": {
      "model_module": "@jupyter-widgets/controls",
      "model_module_version": "1.5.0",
      "model_name": "DescriptionStyleModel",
      "state": {
       "description_width": ""
      }
     },
     "b05f2fd93dc5488cbaa5f1735b306e5b": {
      "model_module": "@jupyter-widgets/base",
      "model_module_version": "1.2.0",
      "model_name": "LayoutModel",
      "state": {}
     },
     "b0638b4ace204633843011486e070d8f": {
      "model_module": "@jupyter-widgets/controls",
      "model_module_version": "1.5.0",
      "model_name": "ProgressStyleModel",
      "state": {
       "description_width": "initial"
      }
     },
     "b064823a5c404723b25f6ce667374f79": {
      "model_module": "@jupyter-widgets/controls",
      "model_module_version": "1.5.0",
      "model_name": "DescriptionStyleModel",
      "state": {
       "description_width": ""
      }
     },
     "b07270fa844946a6bdcbf142201eed0d": {
      "model_module": "@jupyter-widgets/controls",
      "model_module_version": "1.5.0",
      "model_name": "DescriptionStyleModel",
      "state": {
       "description_width": ""
      }
     },
     "b0b6c7fad79d4974a60b3d19164ba667": {
      "model_module": "@jupyter-widgets/base",
      "model_module_version": "1.2.0",
      "model_name": "LayoutModel",
      "state": {}
     },
     "b0bc7afc95f14e29ae3f46a2cfb9e895": {
      "model_module": "@jupyter-widgets/base",
      "model_module_version": "1.2.0",
      "model_name": "LayoutModel",
      "state": {}
     },
     "b0bcbfbb830442828892fd36d31ae86f": {
      "model_module": "@jupyter-widgets/base",
      "model_module_version": "1.2.0",
      "model_name": "LayoutModel",
      "state": {}
     },
     "b0c16f3b9645406d8ef35be3ec890e69": {
      "model_module": "@jupyter-widgets/base",
      "model_module_version": "1.2.0",
      "model_name": "LayoutModel",
      "state": {}
     },
     "b0c7f98504444dbb8fba219e80ccf048": {
      "model_module": "@jupyter-widgets/controls",
      "model_module_version": "1.5.0",
      "model_name": "DescriptionStyleModel",
      "state": {
       "description_width": ""
      }
     },
     "b0e21c9326dd4263b65b371ca8507c37": {
      "model_module": "@jupyter-widgets/controls",
      "model_module_version": "1.5.0",
      "model_name": "DescriptionStyleModel",
      "state": {
       "description_width": ""
      }
     },
     "b0fd7d02693e46b0903889cbd17fec9c": {
      "model_module": "@jupyter-widgets/base",
      "model_module_version": "1.2.0",
      "model_name": "LayoutModel",
      "state": {}
     },
     "b0fe2fa1ea394a6caefcae39a95caade": {
      "model_module": "@jupyter-widgets/controls",
      "model_module_version": "1.5.0",
      "model_name": "HBoxModel",
      "state": {
       "children": [
        "IPY_MODEL_956e739ce93447f5972d1fca895a1ed8",
        "IPY_MODEL_d9926749e3d744b2b106345d2d503864"
       ],
       "layout": "IPY_MODEL_603904f1c83449c89e5f4d18765fc334"
      }
     },
     "b1048169e2a4450f8ec2b776c92fc970": {
      "model_module": "@jupyter-widgets/base",
      "model_module_version": "1.2.0",
      "model_name": "LayoutModel",
      "state": {}
     },
     "b10c2ff80abe44a6ab789da7e34baf67": {
      "model_module": "@jupyter-widgets/controls",
      "model_module_version": "1.5.0",
      "model_name": "ProgressStyleModel",
      "state": {
       "description_width": "initial"
      }
     },
     "b11fbdbc0f384d03ab5d10fcc327e69d": {
      "model_module": "@jupyter-widgets/base",
      "model_module_version": "1.2.0",
      "model_name": "LayoutModel",
      "state": {}
     },
     "b15cee743ade4db98f0629ee9dc1a485": {
      "model_module": "@jupyter-widgets/controls",
      "model_module_version": "1.5.0",
      "model_name": "HBoxModel",
      "state": {
       "children": [
        "IPY_MODEL_4ce401b516944a4e9a4aa14c37cb7936",
        "IPY_MODEL_cad94ed98e4e4a3d9d43ce88e5b671dd"
       ],
       "layout": "IPY_MODEL_8b2583f74ad64688928e28cd5d401f8c"
      }
     },
     "b181554ae8474fbcb45459112f747473": {
      "model_module": "@jupyter-widgets/controls",
      "model_module_version": "1.5.0",
      "model_name": "ProgressStyleModel",
      "state": {
       "description_width": "initial"
      }
     },
     "b18f7cd6988b44e5ad3eb35a30750ff3": {
      "model_module": "@jupyter-widgets/controls",
      "model_module_version": "1.5.0",
      "model_name": "DescriptionStyleModel",
      "state": {
       "description_width": ""
      }
     },
     "b1f61df53f44440d8439b588376c5639": {
      "model_module": "@jupyter-widgets/controls",
      "model_module_version": "1.5.0",
      "model_name": "HTMLModel",
      "state": {
       "layout": "IPY_MODEL_4bda5481feeb4cd19de88eaf570f4799",
       "style": "IPY_MODEL_aee0686844954f6985579db882493f9a",
       "value": " 8760/8760 [00:29&lt;00:00, 300.67steps/s]"
      }
     },
     "b1fb177a7701496ba6fab4b965751575": {
      "model_module": "@jupyter-widgets/controls",
      "model_module_version": "1.5.0",
      "model_name": "FloatProgressModel",
      "state": {
       "description": "Run 118 of 156 [PID: 72797]:  45%",
       "layout": "IPY_MODEL_796b6180c729457ab7379705e840b73c",
       "max": 175320,
       "style": "IPY_MODEL_5ec71e146d254b64ae03bfac604eb055",
       "value": 79649
      }
     },
     "b243d35aa381415cbad9ea956f049c75": {
      "model_module": "@jupyter-widgets/base",
      "model_module_version": "1.2.0",
      "model_name": "LayoutModel",
      "state": {}
     },
     "b26183898b834930826b08d9cd69292a": {
      "model_module": "@jupyter-widgets/base",
      "model_module_version": "1.2.0",
      "model_name": "LayoutModel",
      "state": {}
     },
     "b26c5e53da2244b19c37ec60f5876453": {
      "model_module": "@jupyter-widgets/controls",
      "model_module_version": "1.5.0",
      "model_name": "HBoxModel",
      "state": {
       "children": [
        "IPY_MODEL_0615175bb8944493b60f44f0b1edf203",
        "IPY_MODEL_2876ec67ecb742aebb77a4f58aa4548d"
       ],
       "layout": "IPY_MODEL_2573a536c5114abbb566ddedf0edc92f"
      }
     },
     "b29040db17ef4739b31ae8fea8f44877": {
      "model_module": "@jupyter-widgets/controls",
      "model_module_version": "1.5.0",
      "model_name": "ProgressStyleModel",
      "state": {
       "description_width": "initial"
      }
     },
     "b29d5775466c4ef09e9259b8af4097b3": {
      "model_module": "@jupyter-widgets/base",
      "model_module_version": "1.2.0",
      "model_name": "LayoutModel",
      "state": {}
     },
     "b29eb3aa02664b7390250049bfef6a47": {
      "model_module": "@jupyter-widgets/controls",
      "model_module_version": "1.5.0",
      "model_name": "HBoxModel",
      "state": {
       "children": [
        "IPY_MODEL_5a1859b50b754d708773a7e52259e26a",
        "IPY_MODEL_46ab8dc1f15640f387d5be07ab080fc5"
       ],
       "layout": "IPY_MODEL_5378e40d05b64fc2bb93edcd69c32945"
      }
     },
     "b2b387368bbe46a08782e6fc28d52546": {
      "model_module": "@jupyter-widgets/controls",
      "model_module_version": "1.5.0",
      "model_name": "FloatProgressModel",
      "state": {
       "bar_style": "success",
       "description": "poop: 100%",
       "layout": "IPY_MODEL_702be2a75fd74bb78edcf6cfac94f10c",
       "max": 8760,
       "style": "IPY_MODEL_4fce826ec86f4251a8b792b5a816d2a5",
       "value": 8760
      }
     },
     "b2b87b3e038b437c9fc79448b6b6a6b6": {
      "model_module": "@jupyter-widgets/controls",
      "model_module_version": "1.5.0",
      "model_name": "ProgressStyleModel",
      "state": {
       "description_width": "initial"
      }
     },
     "b300437f24f84dfda7afa84232aa2c90": {
      "model_module": "@jupyter-widgets/controls",
      "model_module_version": "1.5.0",
      "model_name": "HTMLModel",
      "state": {
       "layout": "IPY_MODEL_30a104e4bafb4e09921ddb63c09fba8a",
       "style": "IPY_MODEL_71719755eee6408b99863bdfbe03734d",
       "value": " 8760/8760 [00:30&lt;00:00, 288.94steps/s]"
      }
     },
     "b3287568b72f4774b1ab36a2c784dcbc": {
      "model_module": "@jupyter-widgets/controls",
      "model_module_version": "1.5.0",
      "model_name": "DescriptionStyleModel",
      "state": {
       "description_width": ""
      }
     },
     "b34551806f5e4544a5b3ea0ad78893a1": {
      "model_module": "@jupyter-widgets/controls",
      "model_module_version": "1.5.0",
      "model_name": "FloatProgressModel",
      "state": {
       "description": "Run 114 of 156 [PID: 72802]:  46%",
       "layout": "IPY_MODEL_b601893eaf844624a241ed1ff1134c2d",
       "max": 175320,
       "style": "IPY_MODEL_5de1937c20404205acc4af24d2be10cd",
       "value": 81462
      }
     },
     "b366ca5164ad47de954bfae4228f02e1": {
      "model_module": "@jupyter-widgets/controls",
      "model_module_version": "1.5.0",
      "model_name": "ProgressStyleModel",
      "state": {
       "description_width": "initial"
      }
     },
     "b36bc559795046f8ac4623a45bc4f582": {
      "model_module": "@jupyter-widgets/controls",
      "model_module_version": "1.5.0",
      "model_name": "DescriptionStyleModel",
      "state": {
       "description_width": ""
      }
     },
     "b370b3fab61e4a8eab82c5cfacba5e97": {
      "model_module": "@jupyter-widgets/base",
      "model_module_version": "1.2.0",
      "model_name": "LayoutModel",
      "state": {}
     },
     "b37ad6a42344410b815384d19f02d107": {
      "model_module": "@jupyter-widgets/controls",
      "model_module_version": "1.5.0",
      "model_name": "HTMLModel",
      "state": {
       "layout": "IPY_MODEL_982fe62cce594560b633d6fc1efb48d3",
       "style": "IPY_MODEL_b01d3d913ecc4755844db871a05b653a",
       "value": " 982/8760 [00:03&lt;00:27, 278.51steps/s]"
      }
     },
     "b395f7ebe5fe4bbebd614cd98074069d": {
      "model_module": "@jupyter-widgets/controls",
      "model_module_version": "1.5.0",
      "model_name": "HBoxModel",
      "state": {
       "children": [
        "IPY_MODEL_d572c4683b8549699b65da00e7a02644",
        "IPY_MODEL_d89d0edc700d45d3b30c0efde45564fc"
       ],
       "layout": "IPY_MODEL_5d8cfd12a03745b094fb550030c8df18"
      }
     },
     "b39803b295fa47a39d0827717cca188b": {
      "model_module": "@jupyter-widgets/controls",
      "model_module_version": "1.5.0",
      "model_name": "FloatProgressModel",
      "state": {
       "bar_style": "success",
       "description": "poop: 100%",
       "layout": "IPY_MODEL_64c1a8d242804991988a421168e8c826",
       "max": 8760,
       "style": "IPY_MODEL_dcb1423fce594cbf8873e8b41973c0e2",
       "value": 8760
      }
     },
     "b3a03446cb234b24b2781f9e1cec1845": {
      "model_module": "@jupyter-widgets/controls",
      "model_module_version": "1.5.0",
      "model_name": "DescriptionStyleModel",
      "state": {
       "description_width": ""
      }
     },
     "b3a181056ea648f5936d8f541406b63a": {
      "model_module": "@jupyter-widgets/base",
      "model_module_version": "1.2.0",
      "model_name": "LayoutModel",
      "state": {}
     },
     "b3bcf167897e45f3897aef8b204b5275": {
      "model_module": "@jupyter-widgets/base",
      "model_module_version": "1.2.0",
      "model_name": "LayoutModel",
      "state": {}
     },
     "b3bd334d7842489982de29ff61fe7243": {
      "model_module": "@jupyter-widgets/base",
      "model_module_version": "1.2.0",
      "model_name": "LayoutModel",
      "state": {}
     },
     "b3cbdaae61914d818de64f3d1ce6967e": {
      "model_module": "@jupyter-widgets/base",
      "model_module_version": "1.2.0",
      "model_name": "LayoutModel",
      "state": {}
     },
     "b3faef22932e493f98f6641102bdb908": {
      "model_module": "@jupyter-widgets/controls",
      "model_module_version": "1.5.0",
      "model_name": "ProgressStyleModel",
      "state": {
       "description_width": "initial"
      }
     },
     "b41bca3a4a5749789617811cdc787b4d": {
      "model_module": "@jupyter-widgets/base",
      "model_module_version": "1.2.0",
      "model_name": "LayoutModel",
      "state": {}
     },
     "b43a5089595b4dabad79243d461cbeb9": {
      "model_module": "@jupyter-widgets/base",
      "model_module_version": "1.2.0",
      "model_name": "LayoutModel",
      "state": {}
     },
     "b4453451797a486d84b6fbc2b4ef27c2": {
      "model_module": "@jupyter-widgets/controls",
      "model_module_version": "1.5.0",
      "model_name": "ProgressStyleModel",
      "state": {
       "description_width": "initial"
      }
     },
     "b456208c930b427d8ba1e58b117626b5": {
      "model_module": "@jupyter-widgets/base",
      "model_module_version": "1.2.0",
      "model_name": "LayoutModel",
      "state": {}
     },
     "b463ab2c69054b2f91cb489d903a458a": {
      "model_module": "@jupyter-widgets/controls",
      "model_module_version": "1.5.0",
      "model_name": "HTMLModel",
      "state": {
       "layout": "IPY_MODEL_a9bad631f575438a972f70e11800766a",
       "style": "IPY_MODEL_876955b7a4a4427a9414b8bd0bcecc64",
       "value": " 101374/175320 [3:53:56&lt;4:40:25,  4.39steps/s]"
      }
     },
     "b4abc644586e49e7956390a326f0dad9": {
      "model_module": "@jupyter-widgets/controls",
      "model_module_version": "1.5.0",
      "model_name": "HBoxModel",
      "state": {
       "children": [
        "IPY_MODEL_c58b9852d86e4f18bbd16f87c0016853",
        "IPY_MODEL_05df2231dc1747b1a799c45780495f8e"
       ],
       "layout": "IPY_MODEL_a57cc14a16fb4d0f9d573bef0fc40677"
      }
     },
     "b4c42c6b71674ec188a556062c8f5110": {
      "model_module": "@jupyter-widgets/base",
      "model_module_version": "1.2.0",
      "model_name": "LayoutModel",
      "state": {}
     },
     "b4f97923924c4e2ebbdf82f71ca796d2": {
      "model_module": "@jupyter-widgets/controls",
      "model_module_version": "1.5.0",
      "model_name": "FloatProgressModel",
      "state": {
       "bar_style": "success",
       "description": "poop: 100%",
       "layout": "IPY_MODEL_6eceb24708a2457bbe8da7546da4cceb",
       "max": 8760,
       "style": "IPY_MODEL_5785540f79ea476f840247291733c1c3",
       "value": 8760
      }
     },
     "b511361b49914048a2137bcc1c4a165e": {
      "model_module": "@jupyter-widgets/controls",
      "model_module_version": "1.5.0",
      "model_name": "ProgressStyleModel",
      "state": {
       "description_width": "initial"
      }
     },
     "b5132f5361204472bbd5a5f4cda3211e": {
      "model_module": "@jupyter-widgets/controls",
      "model_module_version": "1.5.0",
      "model_name": "DescriptionStyleModel",
      "state": {
       "description_width": ""
      }
     },
     "b513fd82226942ec98476970abb97ef6": {
      "model_module": "@jupyter-widgets/base",
      "model_module_version": "1.2.0",
      "model_name": "LayoutModel",
      "state": {}
     },
     "b51842ce23574a178ca2ed7f10310ff1": {
      "model_module": "@jupyter-widgets/base",
      "model_module_version": "1.2.0",
      "model_name": "LayoutModel",
      "state": {}
     },
     "b519d53967894dd49d3fadb7d1522626": {
      "model_module": "@jupyter-widgets/controls",
      "model_module_version": "1.5.0",
      "model_name": "FloatProgressModel",
      "state": {
       "bar_style": "danger",
       "description": " 20%",
       "layout": "IPY_MODEL_35acf7daa87c415e91f16034c65c2c44",
       "max": 8760,
       "style": "IPY_MODEL_cd70efcd8d5c4b45a791cbecdb5f1f92",
       "value": 1787
      }
     },
     "b526c7fd6e31468a8aebb00d868ba253": {
      "model_module": "@jupyter-widgets/controls",
      "model_module_version": "1.5.0",
      "model_name": "ProgressStyleModel",
      "state": {
       "description_width": "initial"
      }
     },
     "b562b273c0e0474aa9c9aaeb5e1ffe54": {
      "model_module": "@jupyter-widgets/controls",
      "model_module_version": "1.5.0",
      "model_name": "ProgressStyleModel",
      "state": {
       "description_width": "initial"
      }
     },
     "b56e728594854baa8ce925ec83d594a9": {
      "model_module": "@jupyter-widgets/controls",
      "model_module_version": "1.5.0",
      "model_name": "ProgressStyleModel",
      "state": {
       "description_width": "initial"
      }
     },
     "b57a9a5f32e243fb86e446fcc2ce6973": {
      "model_module": "@jupyter-widgets/base",
      "model_module_version": "1.2.0",
      "model_name": "LayoutModel",
      "state": {}
     },
     "b5a2f2a2c3994624b77572941ac1340c": {
      "model_module": "@jupyter-widgets/controls",
      "model_module_version": "1.5.0",
      "model_name": "HTMLModel",
      "state": {
       "layout": "IPY_MODEL_211295140fe64742b9000e01df207cec",
       "style": "IPY_MODEL_7b47b23c713c4db4a186e45766af5273",
       "value": " 8429/8760 [00:29&lt;00:01, 296.73steps/s]"
      }
     },
     "b5a882e68e7a419fba866b25d4331d24": {
      "model_module": "@jupyter-widgets/controls",
      "model_module_version": "1.5.0",
      "model_name": "DescriptionStyleModel",
      "state": {
       "description_width": ""
      }
     },
     "b5bc0b526d68498c822f5daddbfdeb83": {
      "model_module": "@jupyter-widgets/base",
      "model_module_version": "1.2.0",
      "model_name": "LayoutModel",
      "state": {}
     },
     "b5e07bb0b9db4598adac97f1632e2dd6": {
      "model_module": "@jupyter-widgets/controls",
      "model_module_version": "1.5.0",
      "model_name": "HTMLModel",
      "state": {
       "layout": "IPY_MODEL_bb62e5ac8959434c9cc51d0457909eaf",
       "style": "IPY_MODEL_e2dc6f4bbae0456793f73d166f7d6463",
       "value": " 1520/8760 [00:05&lt;00:25, 278.81steps/s]"
      }
     },
     "b6000b94d64446f1bad1ca25b9ba3b51": {
      "model_module": "@jupyter-widgets/controls",
      "model_module_version": "1.5.0",
      "model_name": "FloatProgressModel",
      "state": {
       "bar_style": "success",
       "description": "Run 14 of 390 [PID: 2312]: 100%",
       "layout": "IPY_MODEL_488425f4e25a40539a0be319dbb2e9c5",
       "max": 8760,
       "style": "IPY_MODEL_0a72eb0af87e45669e69cbb3bf2951c3",
       "value": 8760
      }
     },
     "b601893eaf844624a241ed1ff1134c2d": {
      "model_module": "@jupyter-widgets/base",
      "model_module_version": "1.2.0",
      "model_name": "LayoutModel",
      "state": {}
     },
     "b60f34be015b4bc38db8d0af8b5c1d7b": {
      "model_module": "@jupyter-widgets/controls",
      "model_module_version": "1.5.0",
      "model_name": "DescriptionStyleModel",
      "state": {
       "description_width": ""
      }
     },
     "b60f5b55f6554f61a5dc7041a7170dfe": {
      "model_module": "@jupyter-widgets/controls",
      "model_module_version": "1.5.0",
      "model_name": "HBoxModel",
      "state": {
       "children": [
        "IPY_MODEL_83164121f0ce4f518fb1b859116febda",
        "IPY_MODEL_17e8b994382f4aa4bcf32c8f2be11ab5"
       ],
       "layout": "IPY_MODEL_5cf5076e2a6d479f9ba31be0ca68bb89"
      }
     },
     "b61f0f48b2414fc2beac4c5e34757355": {
      "model_module": "@jupyter-widgets/controls",
      "model_module_version": "1.5.0",
      "model_name": "FloatProgressModel",
      "state": {
       "bar_style": "success",
       "description": "100%",
       "layout": "IPY_MODEL_bdaab84cb82f4d10912eff94580413d7",
       "max": 8760,
       "style": "IPY_MODEL_6c65cd18e66c4eee82795dc233a8b3a4",
       "value": 8760
      }
     },
     "b657ec3bbe194faca4882e7d01c84a20": {
      "model_module": "@jupyter-widgets/controls",
      "model_module_version": "1.5.0",
      "model_name": "HTMLModel",
      "state": {
       "layout": "IPY_MODEL_cc5685ae7fb24cdbaec7ba2f5b0ce6fc",
       "style": "IPY_MODEL_189a03c4c5ae4c25aeb272c31cff5edf",
       "value": " 7023/8760 [00:23&lt;00:05, 291.40steps/s]"
      }
     },
     "b65b9dcd9ea546ad8c8e76d5ef09dc58": {
      "model_module": "@jupyter-widgets/controls",
      "model_module_version": "1.5.0",
      "model_name": "HTMLModel",
      "state": {
       "layout": "IPY_MODEL_613f11cefa4b49d49f2dfb3df3dbc15e",
       "style": "IPY_MODEL_f5bcf8dfad954acea7b760bd022041d3",
       "value": " 8760/8760 [00:59&lt;00:00, 146.99steps/s]"
      }
     },
     "b6657552ba4847e0ad45f36ba8761399": {
      "model_module": "@jupyter-widgets/controls",
      "model_module_version": "1.5.0",
      "model_name": "DescriptionStyleModel",
      "state": {
       "description_width": ""
      }
     },
     "b690dd516ef143e9a8e8112634b02e35": {
      "model_module": "@jupyter-widgets/base",
      "model_module_version": "1.2.0",
      "model_name": "LayoutModel",
      "state": {}
     },
     "b696798e5853425bb1fd0fb1b32bb0b2": {
      "model_module": "@jupyter-widgets/controls",
      "model_module_version": "1.5.0",
      "model_name": "HBoxModel",
      "state": {
       "children": [
        "IPY_MODEL_ed3d40abdda248f6b6f7bd6a07d51fcb",
        "IPY_MODEL_533f2b4067b548f7a43c4ec13c5668bd"
       ],
       "layout": "IPY_MODEL_fe2e02d2c9a942db8144e3beb1f03f8f"
      }
     },
     "b69e4ed3665a4393975a3e22a082b1fd": {
      "model_module": "@jupyter-widgets/base",
      "model_module_version": "1.2.0",
      "model_name": "LayoutModel",
      "state": {}
     },
     "b6c4f32b1da9481fabf5f5f95d62869c": {
      "model_module": "@jupyter-widgets/base",
      "model_module_version": "1.2.0",
      "model_name": "LayoutModel",
      "state": {}
     },
     "b6d25b9c0df6483f86764dc19f966a66": {
      "model_module": "@jupyter-widgets/controls",
      "model_module_version": "1.5.0",
      "model_name": "HTMLModel",
      "state": {
       "layout": "IPY_MODEL_959a379799ae42bebea58214b019e08e",
       "style": "IPY_MODEL_0fbbf3786c0b484f96d31cfcce4d4890",
       "value": " 83599/175320 [3:14:37&lt;4:51:32,  5.24steps/s]"
      }
     },
     "b6d3af80a582405ebf73ed4ed20eedcd": {
      "model_module": "@jupyter-widgets/base",
      "model_module_version": "1.2.0",
      "model_name": "LayoutModel",
      "state": {}
     },
     "b6fdd563552346348306bd49e0475330": {
      "model_module": "@jupyter-widgets/controls",
      "model_module_version": "1.5.0",
      "model_name": "DescriptionStyleModel",
      "state": {
       "description_width": ""
      }
     },
     "b715c7db52464baaa9fbe61bd50640b6": {
      "model_module": "@jupyter-widgets/base",
      "model_module_version": "1.2.0",
      "model_name": "LayoutModel",
      "state": {}
     },
     "b72d098c3a30401c897919aa0430782d": {
      "model_module": "@jupyter-widgets/controls",
      "model_module_version": "1.5.0",
      "model_name": "DescriptionStyleModel",
      "state": {
       "description_width": ""
      }
     },
     "b7301733ad514d24a69d46074659f6db": {
      "model_module": "@jupyter-widgets/controls",
      "model_module_version": "1.5.0",
      "model_name": "FloatProgressModel",
      "state": {
       "bar_style": "success",
       "description": "poop: 100%",
       "layout": "IPY_MODEL_4713ca891d254f1e9b4da9fced6fb09e",
       "max": 8760,
       "style": "IPY_MODEL_fa255e70418441d3893a44c066d3e119",
       "value": 8760
      }
     },
     "b7375565bd6d418d8dbdabb65a4d7f0d": {
      "model_module": "@jupyter-widgets/base",
      "model_module_version": "1.2.0",
      "model_name": "LayoutModel",
      "state": {}
     },
     "b75115fef8dc422ea7f640be947caeeb": {
      "model_module": "@jupyter-widgets/base",
      "model_module_version": "1.2.0",
      "model_name": "LayoutModel",
      "state": {}
     },
     "b77e67c348ee4b8090ed562b6a988e4c": {
      "model_module": "@jupyter-widgets/base",
      "model_module_version": "1.2.0",
      "model_name": "LayoutModel",
      "state": {}
     },
     "b785a243fd8e42f5a70615a24476d2c1": {
      "model_module": "@jupyter-widgets/controls",
      "model_module_version": "1.5.0",
      "model_name": "FloatProgressModel",
      "state": {
       "bar_style": "success",
       "description": "100%",
       "layout": "IPY_MODEL_aca29597c86a484fbb9764cf69c804c9",
       "max": 8760,
       "style": "IPY_MODEL_43bb1422220941ccab12682fd4022c0e",
       "value": 8760
      }
     },
     "b7a6c4f0a95d4ebd8ecaad24fda58386": {
      "model_module": "@jupyter-widgets/base",
      "model_module_version": "1.2.0",
      "model_name": "LayoutModel",
      "state": {}
     },
     "b7b807b3fedd4d65ab9f2d4959ed907a": {
      "model_module": "@jupyter-widgets/controls",
      "model_module_version": "1.5.0",
      "model_name": "DescriptionStyleModel",
      "state": {
       "description_width": ""
      }
     },
     "b7bab4a7932841f4bdb88721c3927d1d": {
      "model_module": "@jupyter-widgets/base",
      "model_module_version": "1.2.0",
      "model_name": "LayoutModel",
      "state": {}
     },
     "b7e5abad04314396a989d20ae01d3ea0": {
      "model_module": "@jupyter-widgets/base",
      "model_module_version": "1.2.0",
      "model_name": "LayoutModel",
      "state": {}
     },
     "b82a2408e25e414c8d1c2f5b4d87e19d": {
      "model_module": "@jupyter-widgets/controls",
      "model_module_version": "1.5.0",
      "model_name": "FloatProgressModel",
      "state": {
       "bar_style": "danger",
       "description": "PID: 67941:  36%",
       "layout": "IPY_MODEL_1f1079626b8247409e2a00fc4aa4eb26",
       "max": 8760,
       "style": "IPY_MODEL_69219d80299f4c1ba8b67596a83a9da0",
       "value": 3112
      }
     },
     "b840e05522304563abaf7d732f063f65": {
      "model_module": "@jupyter-widgets/controls",
      "model_module_version": "1.5.0",
      "model_name": "HTMLModel",
      "state": {
       "layout": "IPY_MODEL_00cdb0862ed642458673b0831ab856fa",
       "style": "IPY_MODEL_e609c3f5135e4f498f307627531c18fa",
       "value": " 88613/175320 [3:32:02&lt;6:20:49,  3.79steps/s]"
      }
     },
     "b849e884c844441b9e74dc3a825241de": {
      "model_module": "@jupyter-widgets/base",
      "model_module_version": "1.2.0",
      "model_name": "LayoutModel",
      "state": {}
     },
     "b85c6af6196e4854bc1357ea48079fab": {
      "model_module": "@jupyter-widgets/controls",
      "model_module_version": "1.5.0",
      "model_name": "ProgressStyleModel",
      "state": {
       "description_width": "initial"
      }
     },
     "b85eb70383b84344852562b6f7a25cf0": {
      "model_module": "@jupyter-widgets/controls",
      "model_module_version": "1.5.0",
      "model_name": "HBoxModel",
      "state": {
       "children": [
        "IPY_MODEL_b967ab515ef048b3a9140b01301d4a7e",
        "IPY_MODEL_9d158ff37bf1460ba78340a446c18ccc"
       ],
       "layout": "IPY_MODEL_f340284c19eb494d9c1284d1cdfc4f8c"
      }
     },
     "b8674b8e9dc3435eb2e5f7fdc6150bee": {
      "model_module": "@jupyter-widgets/base",
      "model_module_version": "1.2.0",
      "model_name": "LayoutModel",
      "state": {}
     },
     "b876b458f62d4197babbeb7641428ad0": {
      "model_module": "@jupyter-widgets/base",
      "model_module_version": "1.2.0",
      "model_name": "LayoutModel",
      "state": {}
     },
     "b886f825daa1405ba3e2040b9867a05d": {
      "model_module": "@jupyter-widgets/controls",
      "model_module_version": "1.5.0",
      "model_name": "HTMLModel",
      "state": {
       "layout": "IPY_MODEL_e402a06ef57848be9732e6dc934eee09",
       "style": "IPY_MODEL_91e907f0754642cd8c39899aa42cf82f",
       "value": " 8760/8760 [00:30&lt;00:00, 283.09steps/s]"
      }
     },
     "b89e90d1eba94010b50b2c13309b6995": {
      "model_module": "@jupyter-widgets/controls",
      "model_module_version": "1.5.0",
      "model_name": "ProgressStyleModel",
      "state": {
       "description_width": "initial"
      }
     },
     "b89f4db774054045815cb17330d0ef3c": {
      "model_module": "@jupyter-widgets/controls",
      "model_module_version": "1.5.0",
      "model_name": "FloatProgressModel",
      "state": {
       "bar_style": "danger",
       "description": " 96%",
       "layout": "IPY_MODEL_89f406533cc3415fac30b62697f6c275",
       "max": 8760,
       "style": "IPY_MODEL_ceb6f0070f854c5b9fbf92fc996eab85",
       "value": 8429
      }
     },
     "b8e26a44048e41ebbec413eeeffb0aae": {
      "model_module": "@jupyter-widgets/controls",
      "model_module_version": "1.5.0",
      "model_name": "ProgressStyleModel",
      "state": {
       "description_width": "initial"
      }
     },
     "b9055a7b29b34bb4a5784161bad4b33b": {
      "model_module": "@jupyter-widgets/controls",
      "model_module_version": "1.5.0",
      "model_name": "HTMLModel",
      "state": {
       "layout": "IPY_MODEL_ddbb2a0f9a6d41368af3343340efe996",
       "style": "IPY_MODEL_d4584abf2a0c419e835ac9114e3ac80a",
       "value": " 8760/8760 [00:29&lt;00:00, 296.11steps/s]"
      }
     },
     "b90b9c1276244498881828771b0798bf": {
      "model_module": "@jupyter-widgets/controls",
      "model_module_version": "1.5.0",
      "model_name": "ProgressStyleModel",
      "state": {
       "description_width": "initial"
      }
     },
     "b90cf179c4724b6083a8793b1d141c46": {
      "model_module": "@jupyter-widgets/base",
      "model_module_version": "1.2.0",
      "model_name": "LayoutModel",
      "state": {}
     },
     "b93a48cfcd3e494ba11c8ddc1c48e74a": {
      "model_module": "@jupyter-widgets/controls",
      "model_module_version": "1.5.0",
      "model_name": "FloatProgressModel",
      "state": {
       "description": "Run 73 of 156 [PID: 72817]:  50%",
       "layout": "IPY_MODEL_839488b4d8bf4c62a6d2e84d49a46975",
       "max": 175320,
       "style": "IPY_MODEL_dfc7724fb2bf450b95e72bddceeb7809",
       "value": 87127
      }
     },
     "b95c1b280f6f4be28d23bc873c7faf7f": {
      "model_module": "@jupyter-widgets/controls",
      "model_module_version": "1.5.0",
      "model_name": "HBoxModel",
      "state": {
       "children": [
        "IPY_MODEL_fb5c0d42dbe3419885d4eb122e1edbe6",
        "IPY_MODEL_112359a1f81f4b889dc003f2fc02ffc0"
       ],
       "layout": "IPY_MODEL_64b06a1456a8403ba3a430b3b3b2ce1b"
      }
     },
     "b967ab515ef048b3a9140b01301d4a7e": {
      "model_module": "@jupyter-widgets/controls",
      "model_module_version": "1.5.0",
      "model_name": "FloatProgressModel",
      "state": {
       "bar_style": "success",
       "description": "100%",
       "layout": "IPY_MODEL_6d9e4e574eeb44c0a96da306fb5547b7",
       "max": 8760,
       "style": "IPY_MODEL_060bf68235aa46ee8d8eb344908d77f7",
       "value": 8760
      }
     },
     "b9a3f85b0915469996c012e873ddabdf": {
      "model_module": "@jupyter-widgets/base",
      "model_module_version": "1.2.0",
      "model_name": "LayoutModel",
      "state": {}
     },
     "b9d468ddf03640c1b6bda5679a07c768": {
      "model_module": "@jupyter-widgets/base",
      "model_module_version": "1.2.0",
      "model_name": "LayoutModel",
      "state": {}
     },
     "b9d659738b77487d84971e282cb7b88b": {
      "model_module": "@jupyter-widgets/controls",
      "model_module_version": "1.5.0",
      "model_name": "HBoxModel",
      "state": {
       "children": [
        "IPY_MODEL_072e68f80c7e4c6583861560d6c28f7c",
        "IPY_MODEL_c86e1e6f139b418699100c45a1455586"
       ],
       "layout": "IPY_MODEL_cec33cc3651f45e2b7e36745846d639f"
      }
     },
     "b9eb9f3c4e5a4c5dae8c2bd7e029ea62": {
      "model_module": "@jupyter-widgets/base",
      "model_module_version": "1.2.0",
      "model_name": "LayoutModel",
      "state": {}
     },
     "b9fb3d94f9ed49d5966775ac485f64a3": {
      "model_module": "@jupyter-widgets/controls",
      "model_module_version": "1.5.0",
      "model_name": "HTMLModel",
      "state": {
       "layout": "IPY_MODEL_d99d292bf51e434db8c1ad71fc1ccfa4",
       "style": "IPY_MODEL_9d5df88b5ab14d70b7c4604c41a012b1",
       "value": " 8760/8760 [00:29&lt;00:00, 292.44steps/s]"
      }
     },
     "ba345707c9fd41338e087d2b6f732288": {
      "model_module": "@jupyter-widgets/controls",
      "model_module_version": "1.5.0",
      "model_name": "DescriptionStyleModel",
      "state": {
       "description_width": ""
      }
     },
     "ba3842b7b9c84c849de785dcffaf171a": {
      "model_module": "@jupyter-widgets/base",
      "model_module_version": "1.2.0",
      "model_name": "LayoutModel",
      "state": {}
     },
     "ba3bfea5b24d459ba5abe60da9feda2e": {
      "model_module": "@jupyter-widgets/controls",
      "model_module_version": "1.5.0",
      "model_name": "HTMLModel",
      "state": {
       "layout": "IPY_MODEL_1f31f022085c42818ae671f8f957779e",
       "style": "IPY_MODEL_1b3bff6aec7a4918b1ac5166076d843b",
       "value": " 8760/8760 [00:30&lt;00:00, 284.47steps/s]"
      }
     },
     "ba53b8e5d4ed46dd824fa18d9e7c5560": {
      "model_module": "@jupyter-widgets/controls",
      "model_module_version": "1.5.0",
      "model_name": "HBoxModel",
      "state": {
       "children": [
        "IPY_MODEL_c998ffdae2164d9ab31fa7fa976005f8",
        "IPY_MODEL_6c6268b1f5d94ea7a61db35c2c25b8a5"
       ],
       "layout": "IPY_MODEL_2ffde8d2bb994be28f4af8c87accbb32"
      }
     },
     "ba6f9b8fb5ba4698b4486e550208e372": {
      "model_module": "@jupyter-widgets/base",
      "model_module_version": "1.2.0",
      "model_name": "LayoutModel",
      "state": {}
     },
     "bab3e86c04a84f9c990b653b11269240": {
      "model_module": "@jupyter-widgets/base",
      "model_module_version": "1.2.0",
      "model_name": "LayoutModel",
      "state": {}
     },
     "baba3628afb64fdfbd764a3f60453cea": {
      "model_module": "@jupyter-widgets/controls",
      "model_module_version": "1.5.0",
      "model_name": "ProgressStyleModel",
      "state": {
       "description_width": "initial"
      }
     },
     "bad3e244df9f4d3794d123bb28e8354e": {
      "model_module": "@jupyter-widgets/controls",
      "model_module_version": "1.5.0",
      "model_name": "HBoxModel",
      "state": {
       "children": [
        "IPY_MODEL_40201c855b2d41758378f54938b6a0e6",
        "IPY_MODEL_1741060db4c74e2eb4ba5ee1b74bf6e5"
       ],
       "layout": "IPY_MODEL_232ab578537643229e313bd2231afdaa"
      }
     },
     "bad53728d3f3407e9a7e0a696b1a2640": {
      "model_module": "@jupyter-widgets/controls",
      "model_module_version": "1.5.0",
      "model_name": "ProgressStyleModel",
      "state": {
       "description_width": "initial"
      }
     },
     "bad71db250fd46a0966f4e8626ea12a4": {
      "model_module": "@jupyter-widgets/base",
      "model_module_version": "1.2.0",
      "model_name": "LayoutModel",
      "state": {}
     },
     "bae303858811469496550a298d3c3a63": {
      "model_module": "@jupyter-widgets/controls",
      "model_module_version": "1.5.0",
      "model_name": "ProgressStyleModel",
      "state": {
       "description_width": "initial"
      }
     },
     "bb0648c0bfdb436b9d1996215f5d5b7e": {
      "model_module": "@jupyter-widgets/base",
      "model_module_version": "1.2.0",
      "model_name": "LayoutModel",
      "state": {}
     },
     "bb07cbbe69c444ae8112c054efc48a68": {
      "model_module": "@jupyter-widgets/controls",
      "model_module_version": "1.5.0",
      "model_name": "ProgressStyleModel",
      "state": {
       "description_width": "initial"
      }
     },
     "bb3ea3a2426144e6a2512c9a1160b277": {
      "model_module": "@jupyter-widgets/controls",
      "model_module_version": "1.5.0",
      "model_name": "FloatProgressModel",
      "state": {
       "bar_style": "success",
       "description": "Run 59 of 156 [PID: 21993]: 100%",
       "layout": "IPY_MODEL_a523b0cb1bb84096b5dec89b9a23b0ad",
       "max": 8760,
       "style": "IPY_MODEL_58898e13e4b64930a66f0e12c5151593",
       "value": 8760
      }
     },
     "bb62e5ac8959434c9cc51d0457909eaf": {
      "model_module": "@jupyter-widgets/base",
      "model_module_version": "1.2.0",
      "model_name": "LayoutModel",
      "state": {}
     },
     "bb7504233764458292f7d01e447947f8": {
      "model_module": "@jupyter-widgets/base",
      "model_module_version": "1.2.0",
      "model_name": "LayoutModel",
      "state": {}
     },
     "bb76a43a9e8f4c53954eaa72c96f5415": {
      "model_module": "@jupyter-widgets/base",
      "model_module_version": "1.2.0",
      "model_name": "LayoutModel",
      "state": {}
     },
     "bb7a7edf86bc4d03b80245457a719910": {
      "model_module": "@jupyter-widgets/base",
      "model_module_version": "1.2.0",
      "model_name": "LayoutModel",
      "state": {}
     },
     "bba13decf019429f8720fd105662f5c9": {
      "model_module": "@jupyter-widgets/base",
      "model_module_version": "1.2.0",
      "model_name": "LayoutModel",
      "state": {}
     },
     "bbc90a73e33446cfade712657f3f84c9": {
      "model_module": "@jupyter-widgets/base",
      "model_module_version": "1.2.0",
      "model_name": "LayoutModel",
      "state": {}
     },
     "bbd4c9095ffe4a6c92ffff8958f3293a": {
      "model_module": "@jupyter-widgets/controls",
      "model_module_version": "1.5.0",
      "model_name": "HBoxModel",
      "state": {
       "children": [
        "IPY_MODEL_216d35c5f4f242ce9a8fe65611e6877b",
        "IPY_MODEL_2e7f5ca77afe470aa092c295ed4e6df3"
       ],
       "layout": "IPY_MODEL_1899fadd77d344fdb9a10e3de5bfe92e"
      }
     },
     "bbec716e2b964abdbbba6ad304bce85f": {
      "model_module": "@jupyter-widgets/controls",
      "model_module_version": "1.5.0",
      "model_name": "FloatProgressModel",
      "state": {
       "description": "Run 116 of 156 [PID: 72823]:  48%",
       "layout": "IPY_MODEL_52d43cf3c7674bedb55695aeca23ecc9",
       "max": 175320,
       "style": "IPY_MODEL_a3e0deccb3de4b08aee462bb3b746328",
       "value": 83397
      }
     },
     "bc44959dfd1d47f986b0213578fbd5b4": {
      "model_module": "@jupyter-widgets/controls",
      "model_module_version": "1.5.0",
      "model_name": "HBoxModel",
      "state": {
       "children": [
        "IPY_MODEL_44f9c4b0c7e34be58af84bbf06c43e40",
        "IPY_MODEL_050e7e95b6b74bcd91d5c5f430d1963b"
       ],
       "layout": "IPY_MODEL_a469bec2c46b43eca0a981670e1619e3"
      }
     },
     "bc5ee5fa40c34c9a8cc816f191a8f5fb": {
      "model_module": "@jupyter-widgets/controls",
      "model_module_version": "1.5.0",
      "model_name": "HBoxModel",
      "state": {
       "children": [
        "IPY_MODEL_4339d986876d46b48545020506b6f157",
        "IPY_MODEL_a9969493c8214e2ca29b753bf51192c1"
       ],
       "layout": "IPY_MODEL_4a80d84574db47e9a734d74488d637c5"
      }
     },
     "bc61d812759643e7aadb5b471b6894c6": {
      "model_module": "@jupyter-widgets/base",
      "model_module_version": "1.2.0",
      "model_name": "LayoutModel",
      "state": {}
     },
     "bc7d5ee7a1164bbcabb9443f20e73d50": {
      "model_module": "@jupyter-widgets/controls",
      "model_module_version": "1.5.0",
      "model_name": "DescriptionStyleModel",
      "state": {
       "description_width": ""
      }
     },
     "bc9098caed414ccb84da46abbe87389c": {
      "model_module": "@jupyter-widgets/base",
      "model_module_version": "1.2.0",
      "model_name": "LayoutModel",
      "state": {}
     },
     "bcab1095f9da4e6ab1bb7aee5872f9e5": {
      "model_module": "@jupyter-widgets/controls",
      "model_module_version": "1.5.0",
      "model_name": "HBoxModel",
      "state": {
       "children": [
        "IPY_MODEL_3a978ca212624d1caf3e279555b99f11",
        "IPY_MODEL_eb8ab313295743258cbf763abc502ee4"
       ],
       "layout": "IPY_MODEL_345bdfdc5bce4ea09bc3f348655c2471"
      }
     },
     "bcbc51018eb44e00bf178abb9e4f26df": {
      "model_module": "@jupyter-widgets/controls",
      "model_module_version": "1.5.0",
      "model_name": "HBoxModel",
      "state": {
       "children": [
        "IPY_MODEL_38a7d674199345df877e9fbc1b4021a9",
        "IPY_MODEL_185b5899870145afb03f664edce4cfec"
       ],
       "layout": "IPY_MODEL_ae2f0ec486d148b49e57ca421b3f49db"
      }
     },
     "bd005a16dc714de0809710cad8662aa8": {
      "model_module": "@jupyter-widgets/controls",
      "model_module_version": "1.5.0",
      "model_name": "HBoxModel",
      "state": {
       "children": [
        "IPY_MODEL_1375dea0b838430bab3786a6a6d74e4c",
        "IPY_MODEL_189e20151d9e4aed97629f311d697e85"
       ],
       "layout": "IPY_MODEL_367b66553d4e47d7b333086afc28aeed"
      }
     },
     "bd0186d5d7a7422ab7f1c2f413bf88fc": {
      "model_module": "@jupyter-widgets/controls",
      "model_module_version": "1.5.0",
      "model_name": "FloatProgressModel",
      "state": {
       "bar_style": "success",
       "description": "100%",
       "layout": "IPY_MODEL_83dafcbaeac246dca012a618e1d188fa",
       "max": 8760,
       "style": "IPY_MODEL_aa33e53e20a74d929b5832fb81b02a89",
       "value": 8760
      }
     },
     "bd12b89cdd3b48289342db9226a029eb": {
      "model_module": "@jupyter-widgets/controls",
      "model_module_version": "1.5.0",
      "model_name": "ProgressStyleModel",
      "state": {
       "description_width": "initial"
      }
     },
     "bd1a2d7bd85343a9ae6fc2dc7fc36e19": {
      "model_module": "@jupyter-widgets/base",
      "model_module_version": "1.2.0",
      "model_name": "LayoutModel",
      "state": {}
     },
     "bd3b47a94773494f8a9d5f8f1322ca21": {
      "model_module": "@jupyter-widgets/base",
      "model_module_version": "1.2.0",
      "model_name": "LayoutModel",
      "state": {}
     },
     "bd564f1146404a5e89c4e2e969e906a0": {
      "model_module": "@jupyter-widgets/controls",
      "model_module_version": "1.5.0",
      "model_name": "HBoxModel",
      "state": {
       "children": [
        "IPY_MODEL_39300ab96185427a8478118ae28b6757",
        "IPY_MODEL_c20ddffb1a044e578e021dd88cb5567c"
       ],
       "layout": "IPY_MODEL_be29821b6a7a4ef09440e349df10b571"
      }
     },
     "bdaab84cb82f4d10912eff94580413d7": {
      "model_module": "@jupyter-widgets/base",
      "model_module_version": "1.2.0",
      "model_name": "LayoutModel",
      "state": {}
     },
     "bdba47210fae4fea8b74f348af5fcd91": {
      "model_module": "@jupyter-widgets/controls",
      "model_module_version": "1.5.0",
      "model_name": "DescriptionStyleModel",
      "state": {
       "description_width": ""
      }
     },
     "bdc011fd710b4b09937ba7260c424598": {
      "model_module": "@jupyter-widgets/controls",
      "model_module_version": "1.5.0",
      "model_name": "HTMLModel",
      "state": {
       "layout": "IPY_MODEL_8bf834081aa6477ca9d3326d40162d72",
       "style": "IPY_MODEL_eed7d37bd84f4d3ebb6545e734285bec",
       "value": " 8760/8760 [00:30&lt;00:00, 286.58steps/s]"
      }
     },
     "be20a8faf3d240c9b4b49d44ccc5d525": {
      "model_module": "@jupyter-widgets/controls",
      "model_module_version": "1.5.0",
      "model_name": "HBoxModel",
      "state": {
       "children": [
        "IPY_MODEL_d1ac1407439e4f0aa190d15e91b278c2",
        "IPY_MODEL_9af6b92f29904ecab1d8e6b06134641d"
       ],
       "layout": "IPY_MODEL_e94d68dcb115431cbd5e921d99f4a8ad"
      }
     },
     "be28761a2cc9452b82b6db9132ccaa32": {
      "model_module": "@jupyter-widgets/controls",
      "model_module_version": "1.5.0",
      "model_name": "FloatProgressModel",
      "state": {
       "bar_style": "danger",
       "description": "poop:  17%",
       "layout": "IPY_MODEL_6475c8d0107e4c33b8ced0710e28b79e",
       "max": 8760,
       "style": "IPY_MODEL_d19f80fef3cf4cb08b200ed3aa102a3b",
       "value": 1520
      }
     },
     "be29821b6a7a4ef09440e349df10b571": {
      "model_module": "@jupyter-widgets/base",
      "model_module_version": "1.2.0",
      "model_name": "LayoutModel",
      "state": {}
     },
     "be42e2282bfd46548c0b7595032065d3": {
      "model_module": "@jupyter-widgets/base",
      "model_module_version": "1.2.0",
      "model_name": "LayoutModel",
      "state": {}
     },
     "be67832b1447482f8b336b2a86cf7962": {
      "model_module": "@jupyter-widgets/controls",
      "model_module_version": "1.5.0",
      "model_name": "HBoxModel",
      "state": {
       "children": [
        "IPY_MODEL_d3001701c44749e9b47e9aee923566cf",
        "IPY_MODEL_54f7e93c5b824b1dae1c60cefb05fc5b"
       ],
       "layout": "IPY_MODEL_e291f993f6ea444eab6b5c53614b54c5"
      }
     },
     "bea9889fa79b41daa75a9fe2e70f689a": {
      "model_module": "@jupyter-widgets/controls",
      "model_module_version": "1.5.0",
      "model_name": "DescriptionStyleModel",
      "state": {
       "description_width": ""
      }
     },
     "beb19e723774441698b8ac67340005ac": {
      "model_module": "@jupyter-widgets/controls",
      "model_module_version": "1.5.0",
      "model_name": "ProgressStyleModel",
      "state": {
       "description_width": "initial"
      }
     },
     "bec15f40de23406680a4365f40422cc2": {
      "model_module": "@jupyter-widgets/controls",
      "model_module_version": "1.5.0",
      "model_name": "HTMLModel",
      "state": {
       "layout": "IPY_MODEL_67a38db0d7f04fdf85b29919cc7979fd",
       "style": "IPY_MODEL_0729d0e80d204e8ba47a3106fb49002c",
       "value": " 8760/8760 [00:31&lt;00:00, 280.42steps/s]"
      }
     },
     "beed571fdc0c48a4bb3478f7655ee022": {
      "model_module": "@jupyter-widgets/base",
      "model_module_version": "1.2.0",
      "model_name": "LayoutModel",
      "state": {}
     },
     "bef03d3a7c6144fea11af38b6caa428b": {
      "model_module": "@jupyter-widgets/controls",
      "model_module_version": "1.5.0",
      "model_name": "HBoxModel",
      "state": {
       "children": [
        "IPY_MODEL_e79911c60a944f82bd4225d91f86fb43",
        "IPY_MODEL_d1c92bfddd6a4600832fa272169718f0"
       ],
       "layout": "IPY_MODEL_cf5081eb3f8340a7ad5b3247fc5d2c8b"
      }
     },
     "bef6eac04ec349c6a2340fd779c5ac82": {
      "model_module": "@jupyter-widgets/base",
      "model_module_version": "1.2.0",
      "model_name": "LayoutModel",
      "state": {}
     },
     "bf02a414cb87498db4e42f4fa9201b85": {
      "model_module": "@jupyter-widgets/controls",
      "model_module_version": "1.5.0",
      "model_name": "ProgressStyleModel",
      "state": {
       "description_width": "initial"
      }
     },
     "bf0a2619747a4b98988ad6c87b9bf41e": {
      "model_module": "@jupyter-widgets/controls",
      "model_module_version": "1.5.0",
      "model_name": "ProgressStyleModel",
      "state": {
       "description_width": "initial"
      }
     },
     "bf0f40db620c4f5e98d909623a2de8cf": {
      "model_module": "@jupyter-widgets/base",
      "model_module_version": "1.2.0",
      "model_name": "LayoutModel",
      "state": {}
     },
     "bf13173afedc42d1a58415d065e021ea": {
      "model_module": "@jupyter-widgets/base",
      "model_module_version": "1.2.0",
      "model_name": "LayoutModel",
      "state": {}
     },
     "bf35d5ffae03426d8fdb1784f6137682": {
      "model_module": "@jupyter-widgets/controls",
      "model_module_version": "1.5.0",
      "model_name": "HTMLModel",
      "state": {
       "layout": "IPY_MODEL_f74d8a03028847319056b8d12b2e76af",
       "style": "IPY_MODEL_7b08dfb2cb6442e2a87bbe7acb06a0d5",
       "value": " 8760/8760 [00:30&lt;00:00, 285.01steps/s]"
      }
     },
     "bf4409af493748768bc59a28af40e8c0": {
      "model_module": "@jupyter-widgets/controls",
      "model_module_version": "1.5.0",
      "model_name": "HBoxModel",
      "state": {
       "children": [
        "IPY_MODEL_dd87f03428af4b25b776ab40f4f7f18a",
        "IPY_MODEL_1946b46b9b064352988dbbf16b852904"
       ],
       "layout": "IPY_MODEL_24bbea2d793849b784bec7aadbc37d95"
      }
     },
     "bf69353559684a7c86c9418fda6f5bec": {
      "model_module": "@jupyter-widgets/base",
      "model_module_version": "1.2.0",
      "model_name": "LayoutModel",
      "state": {}
     },
     "bf7f58216e864840a8cbb940948dd0dc": {
      "model_module": "@jupyter-widgets/base",
      "model_module_version": "1.2.0",
      "model_name": "LayoutModel",
      "state": {}
     },
     "bfe633b7104c4a77bf830ffeb5f31922": {
      "model_module": "@jupyter-widgets/controls",
      "model_module_version": "1.5.0",
      "model_name": "HBoxModel",
      "state": {
       "children": [
        "IPY_MODEL_1141d059ce2f4733bfbc4ff24256886b",
        "IPY_MODEL_b300437f24f84dfda7afa84232aa2c90"
       ],
       "layout": "IPY_MODEL_3c931177135142119b62fea27ecc9d7a"
      }
     },
     "c00c44bf399b4981bac4fad278cd4ddc": {
      "model_module": "@jupyter-widgets/controls",
      "model_module_version": "1.5.0",
      "model_name": "HBoxModel",
      "state": {
       "children": [
        "IPY_MODEL_5cabf3d054e54956b3db5f8a87444b91",
        "IPY_MODEL_d95c2b7979164b64864e9f9ef2b2e386"
       ],
       "layout": "IPY_MODEL_06df9a2486ba4125bb89dc941746a3b5"
      }
     },
     "c018da06461f4aedaaca30c43867bd73": {
      "model_module": "@jupyter-widgets/controls",
      "model_module_version": "1.5.0",
      "model_name": "HBoxModel",
      "state": {
       "children": [
        "IPY_MODEL_cabad20f2ae646bdbbce0227a4daf7c1",
        "IPY_MODEL_403e85ffa2fa4dfe9ead4a02632054de"
       ],
       "layout": "IPY_MODEL_fa9aad6398ad49cdb4a468dd37a264f9"
      }
     },
     "c01e57eade4443379ebf770369914a60": {
      "model_module": "@jupyter-widgets/controls",
      "model_module_version": "1.5.0",
      "model_name": "ProgressStyleModel",
      "state": {
       "description_width": "initial"
      }
     },
     "c036d8adf7054a6f8981e3b10b3e4a8a": {
      "model_module": "@jupyter-widgets/controls",
      "model_module_version": "1.5.0",
      "model_name": "DescriptionStyleModel",
      "state": {
       "description_width": ""
      }
     },
     "c058362e6d9342cdb717647250528f4a": {
      "model_module": "@jupyter-widgets/base",
      "model_module_version": "1.2.0",
      "model_name": "LayoutModel",
      "state": {}
     },
     "c0583c46f38a4ec0aa60292b64d2670e": {
      "model_module": "@jupyter-widgets/base",
      "model_module_version": "1.2.0",
      "model_name": "LayoutModel",
      "state": {}
     },
     "c11da1a6a5bf4099927230089e599f7e": {
      "model_module": "@jupyter-widgets/base",
      "model_module_version": "1.2.0",
      "model_name": "LayoutModel",
      "state": {}
     },
     "c125b3688ebf4d0f862b3772578ffdcc": {
      "model_module": "@jupyter-widgets/controls",
      "model_module_version": "1.5.0",
      "model_name": "ProgressStyleModel",
      "state": {
       "description_width": "initial"
      }
     },
     "c12b970debd84a498a3c961c82b1587d": {
      "model_module": "@jupyter-widgets/controls",
      "model_module_version": "1.5.0",
      "model_name": "HTMLModel",
      "state": {
       "layout": "IPY_MODEL_38b5e0d92e8d473db7722cc1cf4a3e2d",
       "style": "IPY_MODEL_6264cea9e8df4733a4eaf0471e2cda60",
       "value": " 873/8760 [00:03&lt;00:27, 288.28steps/s]"
      }
     },
     "c14ced93454a448786da8369ae1cfb49": {
      "model_module": "@jupyter-widgets/base",
      "model_module_version": "1.2.0",
      "model_name": "LayoutModel",
      "state": {}
     },
     "c15216bafd2a4cada5b67735efb346b5": {
      "model_module": "@jupyter-widgets/controls",
      "model_module_version": "1.5.0",
      "model_name": "ProgressStyleModel",
      "state": {
       "description_width": "initial"
      }
     },
     "c15784af2050425e8574bdc66d69eb2b": {
      "model_module": "@jupyter-widgets/controls",
      "model_module_version": "1.5.0",
      "model_name": "FloatProgressModel",
      "state": {
       "description": "Run 94 of 156 [PID: 72800]:  49%",
       "layout": "IPY_MODEL_47222dd7914644328f56e8ffcd1ba971",
       "max": 175320,
       "style": "IPY_MODEL_1611beeca84648d7a7b9cfa9cdd6552a",
       "value": 85681
      }
     },
     "c1907e1f804e48378273fc4e77c0bbc6": {
      "model_module": "@jupyter-widgets/controls",
      "model_module_version": "1.5.0",
      "model_name": "FloatProgressModel",
      "state": {
       "bar_style": "success",
       "description": "poop: 100%",
       "layout": "IPY_MODEL_fafebeae2b1d4552905b5236944c15da",
       "max": 8760,
       "style": "IPY_MODEL_6c52527e961348bea02a75717b6e1f9b",
       "value": 8760
      }
     },
     "c191d402c5c04ff68cdbcca52a323a6f": {
      "model_module": "@jupyter-widgets/controls",
      "model_module_version": "1.5.0",
      "model_name": "HTMLModel",
      "state": {
       "layout": "IPY_MODEL_74c8cb58d91a4e3eae667ddd0f97ec70",
       "style": "IPY_MODEL_3508dcaac01541fead273064370ff37a",
       "value": " 8760/8760 [00:30&lt;00:00, 287.83steps/s]"
      }
     },
     "c19b4469932047c9ab975f4b9692b8e4": {
      "model_module": "@jupyter-widgets/controls",
      "model_module_version": "1.5.0",
      "model_name": "HTMLModel",
      "state": {
       "layout": "IPY_MODEL_8a097070dbfc485bbf2ff3376e3b2a70",
       "style": "IPY_MODEL_70e68040a3e14fc3bf09683fd25a8db4",
       "value": " 8760/8760 [00:29&lt;00:00, 300.71steps/s]"
      }
     },
     "c1af6cddbb8d4bbb89da0eb10ab72f47": {
      "model_module": "@jupyter-widgets/controls",
      "model_module_version": "1.5.0",
      "model_name": "ProgressStyleModel",
      "state": {
       "description_width": "initial"
      }
     },
     "c1ed82251fcd44249c77159bb2d8d201": {
      "model_module": "@jupyter-widgets/base",
      "model_module_version": "1.2.0",
      "model_name": "LayoutModel",
      "state": {}
     },
     "c1f5aba4800e45ed945519a3df94d5e2": {
      "model_module": "@jupyter-widgets/controls",
      "model_module_version": "1.5.0",
      "model_name": "ProgressStyleModel",
      "state": {
       "description_width": "initial"
      }
     },
     "c1fe2171a1f6425bbe3027550666b54b": {
      "model_module": "@jupyter-widgets/base",
      "model_module_version": "1.2.0",
      "model_name": "LayoutModel",
      "state": {}
     },
     "c20ddffb1a044e578e021dd88cb5567c": {
      "model_module": "@jupyter-widgets/controls",
      "model_module_version": "1.5.0",
      "model_name": "HTMLModel",
      "state": {
       "layout": "IPY_MODEL_999dc846e1a74693919b7bf00c617e26",
       "style": "IPY_MODEL_7aa3660a158344859bae7dd73610390f",
       "value": " 8760/8760 [00:31&lt;00:00, 282.01steps/s]"
      }
     },
     "c222155149f948879666d49d5358da28": {
      "model_module": "@jupyter-widgets/controls",
      "model_module_version": "1.5.0",
      "model_name": "DescriptionStyleModel",
      "state": {
       "description_width": ""
      }
     },
     "c229f58883484b11b4ffcca4a8ef7a25": {
      "model_module": "@jupyter-widgets/controls",
      "model_module_version": "1.5.0",
      "model_name": "FloatProgressModel",
      "state": {
       "bar_style": "success",
       "description": "Run 40 of 156 [PID: 21989]: 100%",
       "layout": "IPY_MODEL_edd1971aa4674705acc68b63dadf184f",
       "max": 8760,
       "style": "IPY_MODEL_d512904eade34f9b872ca409ffaf4d1c",
       "value": 8760
      }
     },
     "c22c682c0c224d4c8a53897092065827": {
      "model_module": "@jupyter-widgets/base",
      "model_module_version": "1.2.0",
      "model_name": "LayoutModel",
      "state": {}
     },
     "c253455bd2684568a4a585e21f621d10": {
      "model_module": "@jupyter-widgets/controls",
      "model_module_version": "1.5.0",
      "model_name": "HBoxModel",
      "state": {
       "children": [
        "IPY_MODEL_77b7434a37114551bec891a22ad3d966",
        "IPY_MODEL_8447f3a0d4174314bca953a804f8f7d6"
       ],
       "layout": "IPY_MODEL_3cc99339499846dc87cbe52db5399bc0"
      }
     },
     "c25942daad2648c3b9fd44b4702dfdd3": {
      "model_module": "@jupyter-widgets/base",
      "model_module_version": "1.2.0",
      "model_name": "LayoutModel",
      "state": {}
     },
     "c266aee33932454081efc455c7591dea": {
      "model_module": "@jupyter-widgets/controls",
      "model_module_version": "1.5.0",
      "model_name": "FloatProgressModel",
      "state": {
       "bar_style": "danger",
       "description": "Run 29 of 390 [PID: 2317]:   4%",
       "layout": "IPY_MODEL_270b3a428435429f87a60d747b730857",
       "max": 8760,
       "style": "IPY_MODEL_f7e8b5e280c349eea2f413d8e9c17a1e",
       "value": 351
      }
     },
     "c2776751dff3417fb578e454234301f0": {
      "model_module": "@jupyter-widgets/base",
      "model_module_version": "1.2.0",
      "model_name": "LayoutModel",
      "state": {}
     },
     "c2aa0e98287c4ce7a91fae2c900ffde5": {
      "model_module": "@jupyter-widgets/controls",
      "model_module_version": "1.5.0",
      "model_name": "ProgressStyleModel",
      "state": {
       "description_width": "initial"
      }
     },
     "c2c60466fc344ee594f4935d2cd7f402": {
      "model_module": "@jupyter-widgets/controls",
      "model_module_version": "1.5.0",
      "model_name": "HBoxModel",
      "state": {
       "children": [
        "IPY_MODEL_84f34d9409e041849c7d523f7a2b59da",
        "IPY_MODEL_246b61bd22f24479ae7795dbabf4cdfe"
       ],
       "layout": "IPY_MODEL_bb76a43a9e8f4c53954eaa72c96f5415"
      }
     },
     "c2d9243427bd4ee89b38afb7a26321f0": {
      "model_module": "@jupyter-widgets/base",
      "model_module_version": "1.2.0",
      "model_name": "LayoutModel",
      "state": {}
     },
     "c30d09affd904f5f816fd81da06dadfd": {
      "model_module": "@jupyter-widgets/base",
      "model_module_version": "1.2.0",
      "model_name": "LayoutModel",
      "state": {}
     },
     "c320a852dc4343d8b50a88b8fcdc8103": {
      "model_module": "@jupyter-widgets/controls",
      "model_module_version": "1.5.0",
      "model_name": "FloatProgressModel",
      "state": {
       "bar_style": "success",
       "description": "Run 43 of 156 [PID: 21987]: 100%",
       "layout": "IPY_MODEL_86cc507047c44b2cb625a4ac9c79a407",
       "max": 8760,
       "style": "IPY_MODEL_445d25f48e014d5db389bb9080125992",
       "value": 8760
      }
     },
     "c323d377e6354c508cfd60f37e79205e": {
      "model_module": "@jupyter-widgets/controls",
      "model_module_version": "1.5.0",
      "model_name": "HBoxModel",
      "state": {
       "children": [
        "IPY_MODEL_f79a454ecccc4347820c70dac7983ec7",
        "IPY_MODEL_8a6008f57bfa4ec4ad5b74847a1f4cf8"
       ],
       "layout": "IPY_MODEL_57e61637f16c4781a707656ec57b3139"
      }
     },
     "c32b82e009814c76b8d5254ed998e163": {
      "model_module": "@jupyter-widgets/controls",
      "model_module_version": "1.5.0",
      "model_name": "ProgressStyleModel",
      "state": {
       "description_width": "initial"
      }
     },
     "c34a6f4d3b3a4702a51ddf848a8d1303": {
      "model_module": "@jupyter-widgets/base",
      "model_module_version": "1.2.0",
      "model_name": "LayoutModel",
      "state": {}
     },
     "c388e8f4315c42749a61d90b76857e06": {
      "model_module": "@jupyter-widgets/controls",
      "model_module_version": "1.5.0",
      "model_name": "ProgressStyleModel",
      "state": {
       "description_width": "initial"
      }
     },
     "c39e26ec527b4b25b9e8b8d6a8540ecd": {
      "model_module": "@jupyter-widgets/controls",
      "model_module_version": "1.5.0",
      "model_name": "HTMLModel",
      "state": {
       "layout": "IPY_MODEL_845d2a1851b94cb686c35058c98ba7b9",
       "style": "IPY_MODEL_b18f7cd6988b44e5ad3eb35a30750ff3",
       "value": " 8760/8760 [00:30&lt;00:00, 289.41steps/s]"
      }
     },
     "c3c6a799dd854ba48a01563b8a8beb93": {
      "model_module": "@jupyter-widgets/base",
      "model_module_version": "1.2.0",
      "model_name": "LayoutModel",
      "state": {}
     },
     "c3ca3ff56fd440d78a0e3f71b9e206ab": {
      "model_module": "@jupyter-widgets/base",
      "model_module_version": "1.2.0",
      "model_name": "LayoutModel",
      "state": {}
     },
     "c3f291b612dc4849afc2bf15114541ac": {
      "model_module": "@jupyter-widgets/base",
      "model_module_version": "1.2.0",
      "model_name": "LayoutModel",
      "state": {}
     },
     "c4629720078e4aa79b43fe657c527563": {
      "model_module": "@jupyter-widgets/controls",
      "model_module_version": "1.5.0",
      "model_name": "HTMLModel",
      "state": {
       "layout": "IPY_MODEL_c22c682c0c224d4c8a53897092065827",
       "style": "IPY_MODEL_427504929eec4f6b9467905a4f79672e",
       "value": " 8760/8760 [00:30&lt;00:00, 285.81steps/s]"
      }
     },
     "c46491acd0d74186ab1f0db6447b9ab7": {
      "model_module": "@jupyter-widgets/controls",
      "model_module_version": "1.5.0",
      "model_name": "FloatProgressModel",
      "state": {
       "bar_style": "success",
       "description": "poop: 100%",
       "layout": "IPY_MODEL_c1fe2171a1f6425bbe3027550666b54b",
       "max": 8760,
       "style": "IPY_MODEL_79f65022ae264006ae121e76cf3c3f5e",
       "value": 8760
      }
     },
     "c466c2dd89df4200b0888f81b2fbc194": {
      "model_module": "@jupyter-widgets/controls",
      "model_module_version": "1.5.0",
      "model_name": "HTMLModel",
      "state": {
       "layout": "IPY_MODEL_acfde449865d458b85ab908a68ee9657",
       "style": "IPY_MODEL_850939bac1694536900009515b7a89f7",
       "value": " 83800/175320 [3:23:19&lt;4:22:40,  5.81steps/s]"
      }
     },
     "c46e86f8e16d409a9b8d4bc3a00e2c1c": {
      "model_module": "@jupyter-widgets/controls",
      "model_module_version": "1.5.0",
      "model_name": "HBoxModel",
      "state": {
       "children": [
        "IPY_MODEL_4a2928c491c6425182052109ab2ca5f2",
        "IPY_MODEL_5e6d5ff4341d4d41b3ad6983c093a7a6"
       ],
       "layout": "IPY_MODEL_ba6f9b8fb5ba4698b4486e550208e372"
      }
     },
     "c4ac1c2e25b043f78f2ad1c073839266": {
      "model_module": "@jupyter-widgets/controls",
      "model_module_version": "1.5.0",
      "model_name": "HTMLModel",
      "state": {
       "layout": "IPY_MODEL_1a4efc18090d4ad3a44e8cfc4c8ef053",
       "style": "IPY_MODEL_2a18a52edc06479cac4d2572a9c90f17",
       "value": " 8760/8760 [00:30&lt;00:00, 286.10steps/s]"
      }
     },
     "c4ac38ab4ac84abc9cfd6c8e17d2ea8a": {
      "model_module": "@jupyter-widgets/controls",
      "model_module_version": "1.5.0",
      "model_name": "DescriptionStyleModel",
      "state": {
       "description_width": ""
      }
     },
     "c4af85403be94ce2882584e4fb283f54": {
      "model_module": "@jupyter-widgets/base",
      "model_module_version": "1.2.0",
      "model_name": "LayoutModel",
      "state": {}
     },
     "c4c143fb5d624442b6aa4167a1d5411c": {
      "model_module": "@jupyter-widgets/base",
      "model_module_version": "1.2.0",
      "model_name": "LayoutModel",
      "state": {}
     },
     "c4d56d842de3479eb61365d81a95d5eb": {
      "model_module": "@jupyter-widgets/base",
      "model_module_version": "1.2.0",
      "model_name": "LayoutModel",
      "state": {}
     },
     "c4e910c062434dad8dd27c2cef533fde": {
      "model_module": "@jupyter-widgets/controls",
      "model_module_version": "1.5.0",
      "model_name": "FloatProgressModel",
      "state": {
       "bar_style": "success",
       "description": "poop: 100%",
       "layout": "IPY_MODEL_9d37fe201a284c8f93a5fc50f69bc01b",
       "max": 8760,
       "style": "IPY_MODEL_6289f0e14a304898b551bab57e70c60f",
       "value": 8760
      }
     },
     "c5423a98940d4408a7a74e405af99bd8": {
      "model_module": "@jupyter-widgets/base",
      "model_module_version": "1.2.0",
      "model_name": "LayoutModel",
      "state": {}
     },
     "c578ee6e8f9b4ff1a3926b7ab75bf291": {
      "model_module": "@jupyter-widgets/controls",
      "model_module_version": "1.5.0",
      "model_name": "HTMLModel",
      "state": {
       "layout": "IPY_MODEL_a876dbc10dfd4fa48c3483f2bce4fcb2",
       "style": "IPY_MODEL_b5132f5361204472bbd5a5f4cda3211e",
       "value": " 8177/8760 [00:28&lt;00:01, 298.03steps/s]"
      }
     },
     "c58b9852d86e4f18bbd16f87c0016853": {
      "model_module": "@jupyter-widgets/controls",
      "model_module_version": "1.5.0",
      "model_name": "FloatProgressModel",
      "state": {
       "bar_style": "success",
       "description": "poop: 100%",
       "layout": "IPY_MODEL_89dc597deb144cb8b4cf8195a6f4a989",
       "max": 8760,
       "style": "IPY_MODEL_7ec8a5a3f50b497f8248a809211583a3",
       "value": 8760
      }
     },
     "c58d996394494be19981ffa9b9de90b2": {
      "model_module": "@jupyter-widgets/base",
      "model_module_version": "1.2.0",
      "model_name": "LayoutModel",
      "state": {}
     },
     "c59c2b231cee4641b1b5c2be92abd46f": {
      "model_module": "@jupyter-widgets/controls",
      "model_module_version": "1.5.0",
      "model_name": "ProgressStyleModel",
      "state": {
       "description_width": "initial"
      }
     },
     "c5c55a0dc6754ebf83db4c0acd85ee8c": {
      "model_module": "@jupyter-widgets/controls",
      "model_module_version": "1.5.0",
      "model_name": "DescriptionStyleModel",
      "state": {
       "description_width": ""
      }
     },
     "c5d48883818b49d196a519320dae0dd0": {
      "model_module": "@jupyter-widgets/base",
      "model_module_version": "1.2.0",
      "model_name": "LayoutModel",
      "state": {}
     },
     "c5e2cfaf56654b6c9bca8bd1abdd6f29": {
      "model_module": "@jupyter-widgets/base",
      "model_module_version": "1.2.0",
      "model_name": "LayoutModel",
      "state": {}
     },
     "c6007a06f73f48b08dc64c10e8ddb5a0": {
      "model_module": "@jupyter-widgets/controls",
      "model_module_version": "1.5.0",
      "model_name": "HBoxModel",
      "state": {
       "children": [
        "IPY_MODEL_2f58d20c92624ed79ed66b0709cf1d32",
        "IPY_MODEL_45e092022bc445bcb1a7982bc2a7da8b"
       ],
       "layout": "IPY_MODEL_451f18849cf74ef7a449f477e6798e18"
      }
     },
     "c606073ba99f40119c0fc53cbdace2c5": {
      "model_module": "@jupyter-widgets/base",
      "model_module_version": "1.2.0",
      "model_name": "LayoutModel",
      "state": {}
     },
     "c619a27bbb974ceb90bd698bd19bc8e4": {
      "model_module": "@jupyter-widgets/base",
      "model_module_version": "1.2.0",
      "model_name": "LayoutModel",
      "state": {}
     },
     "c6323959901a43c9a626983c07cfa15b": {
      "model_module": "@jupyter-widgets/controls",
      "model_module_version": "1.5.0",
      "model_name": "HBoxModel",
      "state": {
       "children": [
        "IPY_MODEL_46984f2f10f84e2bb43987a65c9ff372",
        "IPY_MODEL_8e2554d2fb9f40648df262a6e3b82479"
       ],
       "layout": "IPY_MODEL_b6c4f32b1da9481fabf5f5f95d62869c"
      }
     },
     "c63bcb79833d4c26afc3351bc14e435b": {
      "model_module": "@jupyter-widgets/base",
      "model_module_version": "1.2.0",
      "model_name": "LayoutModel",
      "state": {}
     },
     "c649b42a1b774ef4bbf26e46a6b83d66": {
      "model_module": "@jupyter-widgets/base",
      "model_module_version": "1.2.0",
      "model_name": "LayoutModel",
      "state": {}
     },
     "c65a4916b58249afb6ec1c50284959bc": {
      "model_module": "@jupyter-widgets/controls",
      "model_module_version": "1.5.0",
      "model_name": "FloatProgressModel",
      "state": {
       "bar_style": "danger",
       "description": "poop:  66%",
       "layout": "IPY_MODEL_5d7138ee981c462ea6cb95456311ad38",
       "max": 8760,
       "style": "IPY_MODEL_ff1dc6e0a66849d7acea488e66168744",
       "value": 5761
      }
     },
     "c6635bc675f74e0e908aaad644a981f3": {
      "model_module": "@jupyter-widgets/controls",
      "model_module_version": "1.5.0",
      "model_name": "DescriptionStyleModel",
      "state": {
       "description_width": ""
      }
     },
     "c66ce1b979194cce9a3b3df6700919a4": {
      "model_module": "@jupyter-widgets/controls",
      "model_module_version": "1.5.0",
      "model_name": "FloatProgressModel",
      "state": {
       "bar_style": "success",
       "description": "poop: 100%",
       "layout": "IPY_MODEL_8604243fd8624e058183fb2a9bb9a7b2",
       "max": 8760,
       "style": "IPY_MODEL_9b1a567d685444f9b9f4efb72ef5a7e6",
       "value": 8760
      }
     },
     "c68a7a65cbe5437db845b69c08f02951": {
      "model_module": "@jupyter-widgets/base",
      "model_module_version": "1.2.0",
      "model_name": "LayoutModel",
      "state": {}
     },
     "c68b0211752c441aa05e9f842b6855ae": {
      "model_module": "@jupyter-widgets/controls",
      "model_module_version": "1.5.0",
      "model_name": "ProgressStyleModel",
      "state": {
       "description_width": "initial"
      }
     },
     "c68b95659ff84b9fa131b4496ca14a98": {
      "model_module": "@jupyter-widgets/controls",
      "model_module_version": "1.5.0",
      "model_name": "HBoxModel",
      "state": {
       "children": [
        "IPY_MODEL_87bcc0e98b8f42b1b1266d057b4e6afa",
        "IPY_MODEL_0ae08a59bd53406898db15e46f76b098"
       ],
       "layout": "IPY_MODEL_9484e409ee3f460593e842f6e7bda27b"
      }
     },
     "c698fa56f376474393adc10d3dd68407": {
      "model_module": "@jupyter-widgets/controls",
      "model_module_version": "1.5.0",
      "model_name": "DescriptionStyleModel",
      "state": {
       "description_width": ""
      }
     },
     "c6cbb74d8adc45479b971cab065ea1bf": {
      "model_module": "@jupyter-widgets/controls",
      "model_module_version": "1.5.0",
      "model_name": "HBoxModel",
      "state": {
       "children": [
        "IPY_MODEL_1782375cebcc4168931cd378358c9dad",
        "IPY_MODEL_839773eaf54d49b99dd27bcc6bdc3778"
       ],
       "layout": "IPY_MODEL_12bc5c1f7a3a4b779cbe7d65642d8e1f"
      }
     },
     "c6e7cd4c9f054c9393557295999f51fd": {
      "model_module": "@jupyter-widgets/controls",
      "model_module_version": "1.5.0",
      "model_name": "HTMLModel",
      "state": {
       "layout": "IPY_MODEL_f8b7eb28b6b4455b95afd5718c9d6f3c",
       "style": "IPY_MODEL_2c43bb007c2e4c909d4a771164975ad1",
       "value": " 8760/8760 [00:30&lt;00:00, 282.71steps/s]"
      }
     },
     "c6e800e4d6b94508bdc7f3ca589f9bcd": {
      "model_module": "@jupyter-widgets/controls",
      "model_module_version": "1.5.0",
      "model_name": "FloatProgressModel",
      "state": {
       "bar_style": "danger",
       "description": "PID: 67935:  31%",
       "layout": "IPY_MODEL_d00abfc703f5402b840268a05dc81e48",
       "max": 8760,
       "style": "IPY_MODEL_c15216bafd2a4cada5b67735efb346b5",
       "value": 2759
      }
     },
     "c6f98f26d793431bb5f604e148a43f12": {
      "model_module": "@jupyter-widgets/base",
      "model_module_version": "1.2.0",
      "model_name": "LayoutModel",
      "state": {}
     },
     "c6fad28b707642b08a89513b753e9ecf": {
      "model_module": "@jupyter-widgets/controls",
      "model_module_version": "1.5.0",
      "model_name": "FloatProgressModel",
      "state": {
       "bar_style": "success",
       "description": "100%",
       "layout": "IPY_MODEL_df61580bc3be45b686641a7377ca72ef",
       "max": 8760,
       "style": "IPY_MODEL_bf02a414cb87498db4e42f4fa9201b85",
       "value": 8760
      }
     },
     "c7326c80350547efaae997c463c79f3c": {
      "model_module": "@jupyter-widgets/base",
      "model_module_version": "1.2.0",
      "model_name": "LayoutModel",
      "state": {}
     },
     "c73edbad25634c84b78cd9e9f4b77d0a": {
      "model_module": "@jupyter-widgets/controls",
      "model_module_version": "1.5.0",
      "model_name": "HBoxModel",
      "state": {
       "children": [
        "IPY_MODEL_b519d53967894dd49d3fadb7d1522626",
        "IPY_MODEL_d7d52fb8c0014cc6a36c56b8fb1e17c2"
       ],
       "layout": "IPY_MODEL_1052d070732e412b9231feaa0803433a"
      }
     },
     "c744cc90984d4e18bb5399933389b6e8": {
      "model_module": "@jupyter-widgets/controls",
      "model_module_version": "1.5.0",
      "model_name": "FloatProgressModel",
      "state": {
       "bar_style": "success",
       "description": "poop: 100%",
       "layout": "IPY_MODEL_42bef2a0da254a45a5d913e0a7f15c5e",
       "max": 8760,
       "style": "IPY_MODEL_64b1c6e58b3b458c8d2921c753a3d393",
       "value": 8760
      }
     },
     "c76269b4b9894d869637a0b2d1ca192e": {
      "model_module": "@jupyter-widgets/base",
      "model_module_version": "1.2.0",
      "model_name": "LayoutModel",
      "state": {}
     },
     "c7643120b1c24957bab3c8925a47bd8b": {
      "model_module": "@jupyter-widgets/controls",
      "model_module_version": "1.5.0",
      "model_name": "HTMLModel",
      "state": {
       "layout": "IPY_MODEL_ada94805d62f47eb87859c11058c9f1c",
       "style": "IPY_MODEL_8f9eeb54af3b4fbabdd1cb8c8363d23a",
       "value": " 8760/8760 [03:31&lt;00:00, 41.36steps/s]"
      }
     },
     "c7846a8e10a640c69f7f58ae4b72cb5d": {
      "model_module": "@jupyter-widgets/controls",
      "model_module_version": "1.5.0",
      "model_name": "HTMLModel",
      "state": {
       "layout": "IPY_MODEL_f79f4efaabaa49cd845a7132f47e8492",
       "style": "IPY_MODEL_448f6fc95e8541ad95fc1db590baf551",
       "value": " 8760/8760 [03:01&lt;00:00, 48.24steps/s]"
      }
     },
     "c7907ee3096b49df86a10e5d5c5c2eb7": {
      "model_module": "@jupyter-widgets/controls",
      "model_module_version": "1.5.0",
      "model_name": "HBoxModel",
      "state": {
       "children": [
        "IPY_MODEL_f3da4c7df72f4633b9bf3991f37c22d3",
        "IPY_MODEL_1f3063afd56346a9aa1819317a7b198b"
       ],
       "layout": "IPY_MODEL_0f622ed82e1843759412c6921e4d14b2"
      }
     },
     "c7a1dc6ddbdd433696991beacc0a950d": {
      "model_module": "@jupyter-widgets/base",
      "model_module_version": "1.2.0",
      "model_name": "LayoutModel",
      "state": {}
     },
     "c7a9c0b8c5a1498fb686d840899cdd56": {
      "model_module": "@jupyter-widgets/controls",
      "model_module_version": "1.5.0",
      "model_name": "ProgressStyleModel",
      "state": {
       "description_width": "initial"
      }
     },
     "c7b7cbaac2d74b28a78d025baa5a7327": {
      "model_module": "@jupyter-widgets/controls",
      "model_module_version": "1.5.0",
      "model_name": "HTMLModel",
      "state": {
       "layout": "IPY_MODEL_ea60ebfa2302432fa863a520c2d0524d",
       "style": "IPY_MODEL_dcaca05fd13a4c95887740361643c991",
       "value": " 8760/8760 [00:30&lt;00:00, 285.89steps/s]"
      }
     },
     "c7c47897d9e642fa9f29c9e3ab41b904": {
      "model_module": "@jupyter-widgets/base",
      "model_module_version": "1.2.0",
      "model_name": "LayoutModel",
      "state": {}
     },
     "c840a100f5a64ffdb8a0e3ee688cbf40": {
      "model_module": "@jupyter-widgets/base",
      "model_module_version": "1.2.0",
      "model_name": "LayoutModel",
      "state": {}
     },
     "c844299e0dec4fb790d36a58fe253a79": {
      "model_module": "@jupyter-widgets/controls",
      "model_module_version": "1.5.0",
      "model_name": "HBoxModel",
      "state": {
       "children": [
        "IPY_MODEL_f63e78e592114bbb81404e45d9d65212",
        "IPY_MODEL_68dfeb67cdf543c8925b1032ff068012"
       ],
       "layout": "IPY_MODEL_2480223dde63434481e455ca6729ae01"
      }
     },
     "c86db017b9a34968a025359470a984e2": {
      "model_module": "@jupyter-widgets/controls",
      "model_module_version": "1.5.0",
      "model_name": "DescriptionStyleModel",
      "state": {
       "description_width": ""
      }
     },
     "c86e1e6f139b418699100c45a1455586": {
      "model_module": "@jupyter-widgets/controls",
      "model_module_version": "1.5.0",
      "model_name": "HTMLModel",
      "state": {
       "layout": "IPY_MODEL_5ea2423e292d4c8d8f1543f896d03771",
       "style": "IPY_MODEL_839853f5e2ab4882aa8d9f801b03a618",
       "value": " 8760/8760 [00:30&lt;00:00, 285.73steps/s]"
      }
     },
     "c88c2e3f540a464e80527e122bd0ba92": {
      "model_module": "@jupyter-widgets/base",
      "model_module_version": "1.2.0",
      "model_name": "LayoutModel",
      "state": {}
     },
     "c8c44a94364a4ba0a2324ca54cd3b1fa": {
      "model_module": "@jupyter-widgets/controls",
      "model_module_version": "1.5.0",
      "model_name": "DescriptionStyleModel",
      "state": {
       "description_width": ""
      }
     },
     "c8c9ecf8b5614ae38436133d76952031": {
      "model_module": "@jupyter-widgets/controls",
      "model_module_version": "1.5.0",
      "model_name": "ProgressStyleModel",
      "state": {
       "description_width": "initial"
      }
     },
     "c8e5b8416cc74eb29476a95b41eaae39": {
      "model_module": "@jupyter-widgets/base",
      "model_module_version": "1.2.0",
      "model_name": "LayoutModel",
      "state": {}
     },
     "c8e94ab1d2ea478a855f64e0b58ee7da": {
      "model_module": "@jupyter-widgets/base",
      "model_module_version": "1.2.0",
      "model_name": "LayoutModel",
      "state": {}
     },
     "c90d48b91958468486ac0ce5e1c7ed1e": {
      "model_module": "@jupyter-widgets/controls",
      "model_module_version": "1.5.0",
      "model_name": "ProgressStyleModel",
      "state": {
       "description_width": "initial"
      }
     },
     "c935f023c54240088c18dc011a9067cd": {
      "model_module": "@jupyter-widgets/base",
      "model_module_version": "1.2.0",
      "model_name": "LayoutModel",
      "state": {}
     },
     "c93b2274caed4e40971bce31ca0bc38a": {
      "model_module": "@jupyter-widgets/controls",
      "model_module_version": "1.5.0",
      "model_name": "HBoxModel",
      "state": {
       "children": [
        "IPY_MODEL_63f236d751ab4beab8c0155f7d53dab9",
        "IPY_MODEL_7ca224a9af11445c80bda2559150cc7b"
       ],
       "layout": "IPY_MODEL_37645d872d3c4bd1addbe7e3d08e97c4"
      }
     },
     "c959357eeebd40fba824e9f396dcfa4f": {
      "model_module": "@jupyter-widgets/base",
      "model_module_version": "1.2.0",
      "model_name": "LayoutModel",
      "state": {}
     },
     "c962a22b0755453fbd03a0f9eb786b11": {
      "model_module": "@jupyter-widgets/controls",
      "model_module_version": "1.5.0",
      "model_name": "HTMLModel",
      "state": {
       "layout": "IPY_MODEL_11efd29bf1ed4643b093ed309f4457ee",
       "style": "IPY_MODEL_d17a3d6adcf64b52bf7973b4b07e3119",
       "value": " 8760/8760 [00:31&lt;00:00, 279.29steps/s]"
      }
     },
     "c96c165042cb4ab7b0d370bded8100f5": {
      "model_module": "@jupyter-widgets/controls",
      "model_module_version": "1.5.0",
      "model_name": "HBoxModel",
      "state": {
       "children": [
        "IPY_MODEL_906f6d44262f4476a22b617802781b11",
        "IPY_MODEL_04fdbc9393714e8bbb38c820277b5247"
       ],
       "layout": "IPY_MODEL_eaa26df494704533bca148a5b5c615d5"
      }
     },
     "c998ffdae2164d9ab31fa7fa976005f8": {
      "model_module": "@jupyter-widgets/controls",
      "model_module_version": "1.5.0",
      "model_name": "FloatProgressModel",
      "state": {
       "bar_style": "success",
       "description": "poop: 100%",
       "layout": "IPY_MODEL_dbe943e681fa43c88c25595ef62f9f2f",
       "max": 8760,
       "style": "IPY_MODEL_d1a86ebc46254d59915b5b188f226108",
       "value": 8760
      }
     },
     "c9c8d795f4094982848b708dd95562ed": {
      "model_module": "@jupyter-widgets/base",
      "model_module_version": "1.2.0",
      "model_name": "LayoutModel",
      "state": {}
     },
     "c9d020e6785d4b01b5681c03fc1de569": {
      "model_module": "@jupyter-widgets/base",
      "model_module_version": "1.2.0",
      "model_name": "LayoutModel",
      "state": {}
     },
     "c9d3d1cb00a8423a9f1c94c1dbc5e8c6": {
      "model_module": "@jupyter-widgets/base",
      "model_module_version": "1.2.0",
      "model_name": "LayoutModel",
      "state": {}
     },
     "c9d7f67ebb224aeabed2e9c521cf4202": {
      "model_module": "@jupyter-widgets/base",
      "model_module_version": "1.2.0",
      "model_name": "LayoutModel",
      "state": {}
     },
     "c9df808fe837486c8d3d30928c95412b": {
      "model_module": "@jupyter-widgets/controls",
      "model_module_version": "1.5.0",
      "model_name": "HBoxModel",
      "state": {
       "children": [
        "IPY_MODEL_82d784b19898456a86dee8c564ca8b81",
        "IPY_MODEL_7b65ff84a26241fd8b1d5a75af0467d2"
       ],
       "layout": "IPY_MODEL_e8c9ec5571f04327a3990c622e82d604"
      }
     },
     "c9e09dbe2e8142a199128cab182c5cbf": {
      "model_module": "@jupyter-widgets/base",
      "model_module_version": "1.2.0",
      "model_name": "LayoutModel",
      "state": {}
     },
     "c9f7f95fcb124697a520c2eb76be740e": {
      "model_module": "@jupyter-widgets/controls",
      "model_module_version": "1.5.0",
      "model_name": "HBoxModel",
      "state": {
       "children": [
        "IPY_MODEL_5c48fad8a6e54450b242a68533bd2e8d",
        "IPY_MODEL_cae77420584f4652a84fb4265f6c5cb6"
       ],
       "layout": "IPY_MODEL_b7375565bd6d418d8dbdabb65a4d7f0d"
      }
     },
     "ca034557dbfe49df9b6360b57b0abdd5": {
      "model_module": "@jupyter-widgets/controls",
      "model_module_version": "1.5.0",
      "model_name": "ProgressStyleModel",
      "state": {
       "description_width": "initial"
      }
     },
     "ca2aba4c21b34356a8e9780077fd45cb": {
      "model_module": "@jupyter-widgets/controls",
      "model_module_version": "1.5.0",
      "model_name": "HTMLModel",
      "state": {
       "layout": "IPY_MODEL_1bd7110ce7264721a1cf571d8efbe46c",
       "style": "IPY_MODEL_fc665e361ad44b4a8ba11237709a76a6",
       "value": " 0/8760 [12:25&lt;?, ?steps/s]"
      }
     },
     "ca482adf2550475e9f54a29a20bf0b52": {
      "model_module": "@jupyter-widgets/controls",
      "model_module_version": "1.5.0",
      "model_name": "FloatProgressModel",
      "state": {
       "bar_style": "danger",
       "description": "Run 1 of 156 [PID: 40982]:   0%",
       "layout": "IPY_MODEL_2fe6572a96ff4217b67f52188cff7c85",
       "max": 8760,
       "style": "IPY_MODEL_da2abcde61c544eb99b7d97752690f25"
      }
     },
     "ca894de5ec954627805e9f0942347a37": {
      "model_module": "@jupyter-widgets/controls",
      "model_module_version": "1.5.0",
      "model_name": "ProgressStyleModel",
      "state": {
       "description_width": "initial"
      }
     },
     "caba8ba26a734ca8ac64d6aa2645ba24": {
      "model_module": "@jupyter-widgets/base",
      "model_module_version": "1.2.0",
      "model_name": "LayoutModel",
      "state": {}
     },
     "cabad20f2ae646bdbbce0227a4daf7c1": {
      "model_module": "@jupyter-widgets/controls",
      "model_module_version": "1.5.0",
      "model_name": "FloatProgressModel",
      "state": {
       "bar_style": "success",
       "description": "100%",
       "layout": "IPY_MODEL_47cfdc4723864a8880e97f1d9c37aace",
       "max": 8760,
       "style": "IPY_MODEL_04db9af1ab0c4654afd8b38e93581196",
       "value": 8760
      }
     },
     "cac7152bb07f430d8a3855113b9118a4": {
      "model_module": "@jupyter-widgets/base",
      "model_module_version": "1.2.0",
      "model_name": "LayoutModel",
      "state": {}
     },
     "cac9ccdc97dd46a5aad4dd89957e3d98": {
      "model_module": "@jupyter-widgets/base",
      "model_module_version": "1.2.0",
      "model_name": "LayoutModel",
      "state": {}
     },
     "cad94ed98e4e4a3d9d43ce88e5b671dd": {
      "model_module": "@jupyter-widgets/controls",
      "model_module_version": "1.5.0",
      "model_name": "HTMLModel",
      "state": {
       "layout": "IPY_MODEL_0df4f9a58ea4482fa567b570bb07ed52",
       "style": "IPY_MODEL_92f0d92d43124be0b1f4fbdee80d0c5b",
       "value": " 2149/8760 [00:07&lt;00:23, 277.25steps/s]"
      }
     },
     "cae0b75cf78342688cb298b3868e4219": {
      "model_module": "@jupyter-widgets/controls",
      "model_module_version": "1.5.0",
      "model_name": "HTMLModel",
      "state": {
       "layout": "IPY_MODEL_f27341c815e04b6e95e0bba27476a1c3",
       "style": "IPY_MODEL_3fcfaefa9fc64b6fb1dd29fe61c04a94",
       "value": " 1819/8760 [00:06&lt;00:25, 268.97steps/s]"
      }
     },
     "cae77420584f4652a84fb4265f6c5cb6": {
      "model_module": "@jupyter-widgets/controls",
      "model_module_version": "1.5.0",
      "model_name": "HTMLModel",
      "state": {
       "layout": "IPY_MODEL_4d10922a444e4a1c8f6b97e70da5f1c5",
       "style": "IPY_MODEL_5627d9994dd34768b41c6ef74b3ae535",
       "value": " 93203/175320 [3:39:05&lt;4:43:10,  4.83steps/s]"
      }
     },
     "caf514f34dc4493da96584868a02a62e": {
      "model_module": "@jupyter-widgets/controls",
      "model_module_version": "1.5.0",
      "model_name": "FloatProgressModel",
      "state": {
       "bar_style": "danger",
       "description": "PID: 67937:  36%",
       "layout": "IPY_MODEL_8ecca06e59e24dae97e5f54df9fc77d7",
       "max": 8760,
       "style": "IPY_MODEL_d4da4fc374314530a3ad36a14857c0be",
       "value": 3173
      }
     },
     "cb07675e930c4f6f851dba3f2d860aaf": {
      "model_module": "@jupyter-widgets/controls",
      "model_module_version": "1.5.0",
      "model_name": "FloatProgressModel",
      "state": {
       "bar_style": "danger",
       "description": "poop:  21%",
       "layout": "IPY_MODEL_0f723bec78844bf8844aa784e61695c4",
       "max": 8760,
       "style": "IPY_MODEL_6fdc85b843cf4fe7a0226b4a01100e9d",
       "value": 1849
      }
     },
     "cb138bf01a294408b91a5e4cb5afc162": {
      "model_module": "@jupyter-widgets/controls",
      "model_module_version": "1.5.0",
      "model_name": "FloatProgressModel",
      "state": {
       "bar_style": "success",
       "description": "Run 35 of 156 [PID: 21996]: 100%",
       "layout": "IPY_MODEL_3daac709f38e4dfca6c3fee2ad02dc6c",
       "max": 8760,
       "style": "IPY_MODEL_8765c174c8ae408684c74265329d6181",
       "value": 8760
      }
     },
     "cb186d44071f49cf9b5e29e4f5782d53": {
      "model_module": "@jupyter-widgets/controls",
      "model_module_version": "1.5.0",
      "model_name": "HBoxModel",
      "state": {
       "children": [
        "IPY_MODEL_c4e910c062434dad8dd27c2cef533fde",
        "IPY_MODEL_79cd7926aeee41e9b728405cd43c4469"
       ],
       "layout": "IPY_MODEL_3bfae08c2f7c458b920c7747a30b6d1b"
      }
     },
     "cb40f30bdc834a5fac5537d3ac9c2438": {
      "model_module": "@jupyter-widgets/controls",
      "model_module_version": "1.5.0",
      "model_name": "DescriptionStyleModel",
      "state": {
       "description_width": ""
      }
     },
     "cbacd40687244b10902a46f07dc2c3bc": {
      "model_module": "@jupyter-widgets/base",
      "model_module_version": "1.2.0",
      "model_name": "LayoutModel",
      "state": {}
     },
     "cbc8fdb8b63b48b4ac76ef0ac18be5e0": {
      "model_module": "@jupyter-widgets/controls",
      "model_module_version": "1.5.0",
      "model_name": "HBoxModel",
      "state": {
       "children": [
        "IPY_MODEL_d128ea9199194e03acafea527410a89d",
        "IPY_MODEL_78d193d7669648638d9b140dc08650eb"
       ],
       "layout": "IPY_MODEL_8ab0dbd2d387437db829a9db7acabf7a"
      }
     },
     "cbca5b952b7f4812965547ca4c7629c6": {
      "model_module": "@jupyter-widgets/base",
      "model_module_version": "1.2.0",
      "model_name": "LayoutModel",
      "state": {}
     },
     "cbe9eb496c754ed59a3ce86fd4ab9ff2": {
      "model_module": "@jupyter-widgets/controls",
      "model_module_version": "1.5.0",
      "model_name": "ProgressStyleModel",
      "state": {
       "description_width": "initial"
      }
     },
     "cbf3cff8c2af43998fa1dede6f68c081": {
      "model_module": "@jupyter-widgets/controls",
      "model_module_version": "1.5.0",
      "model_name": "FloatProgressModel",
      "state": {
       "bar_style": "success",
       "description": "Run 49 of 156 [PID: 21985]: 100%",
       "layout": "IPY_MODEL_3945618f750848fc87199c8677cde94d",
       "max": 8760,
       "style": "IPY_MODEL_bd12b89cdd3b48289342db9226a029eb",
       "value": 8760
      }
     },
     "cc5685ae7fb24cdbaec7ba2f5b0ce6fc": {
      "model_module": "@jupyter-widgets/base",
      "model_module_version": "1.2.0",
      "model_name": "LayoutModel",
      "state": {}
     },
     "cc637a6c8cbb4812ad4b23fd4d9f6a56": {
      "model_module": "@jupyter-widgets/controls",
      "model_module_version": "1.5.0",
      "model_name": "DescriptionStyleModel",
      "state": {
       "description_width": ""
      }
     },
     "cc784fd0d33143088403ea67bbb0ddf3": {
      "model_module": "@jupyter-widgets/controls",
      "model_module_version": "1.5.0",
      "model_name": "HTMLModel",
      "state": {
       "layout": "IPY_MODEL_fa75bad747404e218810b5499bd9156e",
       "style": "IPY_MODEL_3f6ae54674d14ede98a51be802f391c6",
       "value": " 8760/8760 [00:30&lt;00:00, 284.20steps/s]"
      }
     },
     "cc861b99fbc543e5a9a942a13616371a": {
      "model_module": "@jupyter-widgets/base",
      "model_module_version": "1.2.0",
      "model_name": "LayoutModel",
      "state": {}
     },
     "ccac101058b948d19dc4e37a022c852d": {
      "model_module": "@jupyter-widgets/controls",
      "model_module_version": "1.5.0",
      "model_name": "HTMLModel",
      "state": {
       "layout": "IPY_MODEL_63d082bf3dfb432dbb4523b538672df2",
       "style": "IPY_MODEL_7c6bbef7b6e44c339eee275281d435ed",
       "value": " 8760/8760 [00:29&lt;00:00, 292.67steps/s]"
      }
     },
     "cced60fc0b4849f495321cc50e8763b9": {
      "model_module": "@jupyter-widgets/controls",
      "model_module_version": "1.5.0",
      "model_name": "HBoxModel",
      "state": {
       "children": [
        "IPY_MODEL_f6ba3a3fd7bb4bea8066be0b996aeaed",
        "IPY_MODEL_321bb8de0ecc485e9cadfc8d37c22d8a"
       ],
       "layout": "IPY_MODEL_b7a6c4f0a95d4ebd8ecaad24fda58386"
      }
     },
     "ccf80ed95668460aa8a7662ca8002937": {
      "model_module": "@jupyter-widgets/controls",
      "model_module_version": "1.5.0",
      "model_name": "HBoxModel",
      "state": {
       "children": [
        "IPY_MODEL_48bb2485588a4d49b09b7c97f8ed2f65",
        "IPY_MODEL_2b28c4041fe4480bbf71d44d53e0abd2"
       ],
       "layout": "IPY_MODEL_06f50a6f292f4be19b8e70bceb499065"
      }
     },
     "cd06fe6d77f6491cb7a56ec8c7807281": {
      "model_module": "@jupyter-widgets/controls",
      "model_module_version": "1.5.0",
      "model_name": "ProgressStyleModel",
      "state": {
       "description_width": "initial"
      }
     },
     "cd2f5cee46144ac68dfc75b8c71a2beb": {
      "model_module": "@jupyter-widgets/controls",
      "model_module_version": "1.5.0",
      "model_name": "ProgressStyleModel",
      "state": {
       "description_width": "initial"
      }
     },
     "cd50b80dc1a64c1385df7d71eda666fd": {
      "model_module": "@jupyter-widgets/base",
      "model_module_version": "1.2.0",
      "model_name": "LayoutModel",
      "state": {}
     },
     "cd52866a8de24ffd9bf1c401a554a9a5": {
      "model_module": "@jupyter-widgets/base",
      "model_module_version": "1.2.0",
      "model_name": "LayoutModel",
      "state": {}
     },
     "cd567ebed3914c3c8cd96c11ea8d27b6": {
      "model_module": "@jupyter-widgets/controls",
      "model_module_version": "1.5.0",
      "model_name": "HBoxModel",
      "state": {
       "children": [
        "IPY_MODEL_b89f4db774054045815cb17330d0ef3c",
        "IPY_MODEL_b5a2f2a2c3994624b77572941ac1340c"
       ],
       "layout": "IPY_MODEL_36005121ff0d43968c9872f7292f4561"
      }
     },
     "cd70efcd8d5c4b45a791cbecdb5f1f92": {
      "model_module": "@jupyter-widgets/controls",
      "model_module_version": "1.5.0",
      "model_name": "ProgressStyleModel",
      "state": {
       "description_width": "initial"
      }
     },
     "cd73694948ca42a3b9d02f52ab9d30bb": {
      "model_module": "@jupyter-widgets/base",
      "model_module_version": "1.2.0",
      "model_name": "LayoutModel",
      "state": {}
     },
     "cd7aa344feb1462fb2baa885d82e0946": {
      "model_module": "@jupyter-widgets/base",
      "model_module_version": "1.2.0",
      "model_name": "LayoutModel",
      "state": {}
     },
     "cd9657165b954c359f2b114ccff36880": {
      "model_module": "@jupyter-widgets/controls",
      "model_module_version": "1.5.0",
      "model_name": "DescriptionStyleModel",
      "state": {
       "description_width": ""
      }
     },
     "cda954e406bf4597b581d560499ca629": {
      "model_module": "@jupyter-widgets/controls",
      "model_module_version": "1.5.0",
      "model_name": "DescriptionStyleModel",
      "state": {
       "description_width": ""
      }
     },
     "cdf0ac7c7f40497d8042b9edf7aab7d5": {
      "model_module": "@jupyter-widgets/base",
      "model_module_version": "1.2.0",
      "model_name": "LayoutModel",
      "state": {}
     },
     "cdf3b22367ad426ab6c314b6a271e837": {
      "model_module": "@jupyter-widgets/base",
      "model_module_version": "1.2.0",
      "model_name": "LayoutModel",
      "state": {}
     },
     "ce0722dab54c4a6490ef3d0ba9c4a4e0": {
      "model_module": "@jupyter-widgets/base",
      "model_module_version": "1.2.0",
      "model_name": "LayoutModel",
      "state": {}
     },
     "ce1e861bc12a43ee9ae7aaa3f37b2b62": {
      "model_module": "@jupyter-widgets/controls",
      "model_module_version": "1.5.0",
      "model_name": "HBoxModel",
      "state": {
       "children": [
        "IPY_MODEL_198b2a6c6308450e8b95e584ce1006eb",
        "IPY_MODEL_c7643120b1c24957bab3c8925a47bd8b"
       ],
       "layout": "IPY_MODEL_671f3b62ae734b10a4e1c58df01461a8"
      }
     },
     "ce4380f4520e408b8643ad4a9ab10dff": {
      "model_module": "@jupyter-widgets/controls",
      "model_module_version": "1.5.0",
      "model_name": "HTMLModel",
      "state": {
       "layout": "IPY_MODEL_1e599e8e7be14f099be5aafd3294b9a9",
       "style": "IPY_MODEL_4ea284b956124ffebde0b56367b22919",
       "value": " 3059/8760 [00:11&lt;00:19, 293.96steps/s]"
      }
     },
     "ce53a5ab85be45c1a8f1f48903b7f016": {
      "model_module": "@jupyter-widgets/controls",
      "model_module_version": "1.5.0",
      "model_name": "HTMLModel",
      "state": {
       "layout": "IPY_MODEL_1c457728de14467cb57d8f18ab0a7be2",
       "style": "IPY_MODEL_292008b147304eb59325d11f6dd53371",
       "value": " 8760/8760 [00:30&lt;00:00, 288.85steps/s]"
      }
     },
     "ce6997ab75d945aa8ff449484b662ee0": {
      "model_module": "@jupyter-widgets/base",
      "model_module_version": "1.2.0",
      "model_name": "LayoutModel",
      "state": {}
     },
     "ce706193b7634857bc2da303bed06b07": {
      "model_module": "@jupyter-widgets/base",
      "model_module_version": "1.2.0",
      "model_name": "LayoutModel",
      "state": {}
     },
     "ceae1b9469224422b3f6ecec7359ed34": {
      "model_module": "@jupyter-widgets/base",
      "model_module_version": "1.2.0",
      "model_name": "LayoutModel",
      "state": {}
     },
     "ceb01c9219884776a9350413233d3e6e": {
      "model_module": "@jupyter-widgets/controls",
      "model_module_version": "1.5.0",
      "model_name": "HTMLModel",
      "state": {
       "layout": "IPY_MODEL_83fba289842946339bdb8d8c8741bdf4",
       "style": "IPY_MODEL_9647debb78304ad5829d752040063f17",
       "value": " 8760/8760 [00:30&lt;00:00, 285.68steps/s]"
      }
     },
     "ceb6f0070f854c5b9fbf92fc996eab85": {
      "model_module": "@jupyter-widgets/controls",
      "model_module_version": "1.5.0",
      "model_name": "ProgressStyleModel",
      "state": {
       "description_width": "initial"
      }
     },
     "cec33cc3651f45e2b7e36745846d639f": {
      "model_module": "@jupyter-widgets/base",
      "model_module_version": "1.2.0",
      "model_name": "LayoutModel",
      "state": {}
     },
     "cec79dd6ad374afe81d0735c108739b1": {
      "model_module": "@jupyter-widgets/controls",
      "model_module_version": "1.5.0",
      "model_name": "DescriptionStyleModel",
      "state": {
       "description_width": ""
      }
     },
     "cece34264ce6452dbd8d1e068a0c7e1d": {
      "model_module": "@jupyter-widgets/base",
      "model_module_version": "1.2.0",
      "model_name": "LayoutModel",
      "state": {}
     },
     "cf023af2e87c45cc963dcd4102f79561": {
      "model_module": "@jupyter-widgets/base",
      "model_module_version": "1.2.0",
      "model_name": "LayoutModel",
      "state": {}
     },
     "cf28871d44ce4bb8a76793560fe3ec05": {
      "model_module": "@jupyter-widgets/base",
      "model_module_version": "1.2.0",
      "model_name": "LayoutModel",
      "state": {}
     },
     "cf319b1c18d04ec89e2332ad5886d71e": {
      "model_module": "@jupyter-widgets/controls",
      "model_module_version": "1.5.0",
      "model_name": "HBoxModel",
      "state": {
       "children": [
        "IPY_MODEL_ca482adf2550475e9f54a29a20bf0b52",
        "IPY_MODEL_ca2aba4c21b34356a8e9780077fd45cb"
       ],
       "layout": "IPY_MODEL_f5b9fc74911f42f0aa11762300d87501"
      }
     },
     "cf5081eb3f8340a7ad5b3247fc5d2c8b": {
      "model_module": "@jupyter-widgets/base",
      "model_module_version": "1.2.0",
      "model_name": "LayoutModel",
      "state": {}
     },
     "cf541d693c7a4cd39903e5476a5cc4af": {
      "model_module": "@jupyter-widgets/base",
      "model_module_version": "1.2.0",
      "model_name": "LayoutModel",
      "state": {}
     },
     "cf6d4acb562e4922848542b175d7431b": {
      "model_module": "@jupyter-widgets/controls",
      "model_module_version": "1.5.0",
      "model_name": "FloatProgressModel",
      "state": {
       "bar_style": "success",
       "description": "100%",
       "layout": "IPY_MODEL_3272c29b0a2c490899f859a63d3516af",
       "max": 8760,
       "style": "IPY_MODEL_0490a9f7930d44588e73891f6de9c950",
       "value": 8760
      }
     },
     "cf7238a5d6e4491890451f956b0a3cc0": {
      "model_module": "@jupyter-widgets/controls",
      "model_module_version": "1.5.0",
      "model_name": "HBoxModel",
      "state": {
       "children": [
        "IPY_MODEL_5d6a526e1e534182b99a5e0ff4a32892",
        "IPY_MODEL_ae98c5fdc273406abefe0cfdf29b36f3"
       ],
       "layout": "IPY_MODEL_f5bd2ef34dc34ce1b6c25bf5dadb5553"
      }
     },
     "cfb6bb4cee16480e822d4c1f57493c5f": {
      "model_module": "@jupyter-widgets/controls",
      "model_module_version": "1.5.0",
      "model_name": "HBoxModel",
      "state": {
       "children": [
        "IPY_MODEL_96c58e1ce3d24de8924d7817952b8ee0",
        "IPY_MODEL_edfc675da1b64f91885cb6b737de5c6c"
       ],
       "layout": "IPY_MODEL_72829bf368b3420cb740ba24037e2d34"
      }
     },
     "cfcd8dc0bc764b108ceb25d0376f69e1": {
      "model_module": "@jupyter-widgets/controls",
      "model_module_version": "1.5.0",
      "model_name": "HTMLModel",
      "state": {
       "layout": "IPY_MODEL_6a228ba277a941dab1bdf0e8ff765b4e",
       "style": "IPY_MODEL_3d3fa841d63544afbfd7aecf35f48846",
       "value": " 8760/8760 [00:31&lt;00:00, 282.54steps/s]"
      }
     },
     "cfce6cf7952f42cb8e92b7b258f962da": {
      "model_module": "@jupyter-widgets/base",
      "model_module_version": "1.2.0",
      "model_name": "LayoutModel",
      "state": {}
     },
     "cff138bfa01c4fa292a51bbaadb19e16": {
      "model_module": "@jupyter-widgets/base",
      "model_module_version": "1.2.0",
      "model_name": "LayoutModel",
      "state": {}
     },
     "d00abfc703f5402b840268a05dc81e48": {
      "model_module": "@jupyter-widgets/base",
      "model_module_version": "1.2.0",
      "model_name": "LayoutModel",
      "state": {}
     },
     "d010b8ddd61748e1bb672d13035aeb3d": {
      "model_module": "@jupyter-widgets/controls",
      "model_module_version": "1.5.0",
      "model_name": "ProgressStyleModel",
      "state": {
       "description_width": "initial"
      }
     },
     "d0138b47aef64c5b8ec2018202bc5d91": {
      "model_module": "@jupyter-widgets/controls",
      "model_module_version": "1.5.0",
      "model_name": "HTMLModel",
      "state": {
       "layout": "IPY_MODEL_3497e84e4bc24e13b2bd6c1b0dc56e24",
       "style": "IPY_MODEL_bdba47210fae4fea8b74f348af5fcd91",
       "value": " 93700/175320 [3:42:01&lt;4:25:31,  5.12steps/s]"
      }
     },
     "d0237cf996794604aeeb998f910da511": {
      "model_module": "@jupyter-widgets/controls",
      "model_module_version": "1.5.0",
      "model_name": "FloatProgressModel",
      "state": {
       "bar_style": "success",
       "description": "poop: 100%",
       "layout": "IPY_MODEL_cdf0ac7c7f40497d8042b9edf7aab7d5",
       "max": 8760,
       "style": "IPY_MODEL_15462bba5a5449e8840e172ac1b80ac0",
       "value": 8760
      }
     },
     "d02bfa846bfa429c990c511ca33ada2e": {
      "model_module": "@jupyter-widgets/controls",
      "model_module_version": "1.5.0",
      "model_name": "HTMLModel",
      "state": {
       "layout": "IPY_MODEL_5ae602806a1541f0a0e8922ba3565a13",
       "style": "IPY_MODEL_8cc282c582d94d718e8c0db255e4cf5f",
       "value": " 6384/8760 [00:22&lt;00:08, 282.51steps/s]"
      }
     },
     "d03989421f294a44aa3be3115eab12d6": {
      "model_module": "@jupyter-widgets/controls",
      "model_module_version": "1.5.0",
      "model_name": "HBoxModel",
      "state": {
       "children": [
        "IPY_MODEL_7c877753d9cb44f09d69a3a25cc6d0d9",
        "IPY_MODEL_0fe636c5057047b6b2da1a4f835194fe"
       ],
       "layout": "IPY_MODEL_89d6a9c07b5b4e0d96b66a63ebae0e1d"
      }
     },
     "d03e2ff848644dba9f5060014ef60b6e": {
      "model_module": "@jupyter-widgets/base",
      "model_module_version": "1.2.0",
      "model_name": "LayoutModel",
      "state": {}
     },
     "d04b9dad0209497987ef7d9e42eb0f6a": {
      "model_module": "@jupyter-widgets/base",
      "model_module_version": "1.2.0",
      "model_name": "LayoutModel",
      "state": {}
     },
     "d058997c071646a3906f51b2ef2b70ea": {
      "model_module": "@jupyter-widgets/controls",
      "model_module_version": "1.5.0",
      "model_name": "ProgressStyleModel",
      "state": {
       "description_width": "initial"
      }
     },
     "d09f9a1aef6e43feb577fac5724bfcff": {
      "model_module": "@jupyter-widgets/base",
      "model_module_version": "1.2.0",
      "model_name": "LayoutModel",
      "state": {}
     },
     "d0eefb141e82445590e3cb3949e1e772": {
      "model_module": "@jupyter-widgets/base",
      "model_module_version": "1.2.0",
      "model_name": "LayoutModel",
      "state": {}
     },
     "d1091da1b30b4adb81beca771829737d": {
      "model_module": "@jupyter-widgets/controls",
      "model_module_version": "1.5.0",
      "model_name": "FloatProgressModel",
      "state": {
       "bar_style": "danger",
       "description": "Run 27 of 390 [PID: 2319]:   5%",
       "layout": "IPY_MODEL_d03e2ff848644dba9f5060014ef60b6e",
       "max": 8760,
       "style": "IPY_MODEL_87a0ffec95334a91bcbc339ea2119aab",
       "value": 472
      }
     },
     "d117f095c62d4699b9469a73327c1443": {
      "model_module": "@jupyter-widgets/controls",
      "model_module_version": "1.5.0",
      "model_name": "FloatProgressModel",
      "state": {
       "bar_style": "success",
       "description": "Run 51 of 156 [PID: 21991]: 100%",
       "layout": "IPY_MODEL_f236e842fecb456d86fd8fea9385243a",
       "max": 8760,
       "style": "IPY_MODEL_37aad5af3a174e19a5f3977b1c531122",
       "value": 8760
      }
     },
     "d11eab1148ff43b380557351a706410f": {
      "model_module": "@jupyter-widgets/controls",
      "model_module_version": "1.5.0",
      "model_name": "FloatProgressModel",
      "state": {
       "bar_style": "success",
       "description": "poop: 100%",
       "layout": "IPY_MODEL_8815e5920ae947e9a15643bf991341af",
       "max": 8760,
       "style": "IPY_MODEL_428eb8bbe30f424bad63499e97d52ab8",
       "value": 8760
      }
     },
     "d128ea9199194e03acafea527410a89d": {
      "model_module": "@jupyter-widgets/controls",
      "model_module_version": "1.5.0",
      "model_name": "FloatProgressModel",
      "state": {
       "bar_style": "success",
       "description": "Run 17 of 156 [PID: 45696]: 100%",
       "layout": "IPY_MODEL_a7a7075eb8b9438fb9c41e723118acaf",
       "max": 8760,
       "style": "IPY_MODEL_f06e61e6711c4efdb08866f8dd17c1fb",
       "value": 8760
      }
     },
     "d12e816a492a4dbbaa82da70a9518604": {
      "model_module": "@jupyter-widgets/base",
      "model_module_version": "1.2.0",
      "model_name": "LayoutModel",
      "state": {}
     },
     "d156613223b34006a2bf981e8f455601": {
      "model_module": "@jupyter-widgets/controls",
      "model_module_version": "1.5.0",
      "model_name": "HBoxModel",
      "state": {
       "children": [
        "IPY_MODEL_09b9296d71be4236acc2eb9f1b331b6f",
        "IPY_MODEL_ea6ad013acfa4f8ba62397c4d66ca69d"
       ],
       "layout": "IPY_MODEL_b51842ce23574a178ca2ed7f10310ff1"
      }
     },
     "d15938d5cdaf45b380183ea01f5c7508": {
      "model_module": "@jupyter-widgets/controls",
      "model_module_version": "1.5.0",
      "model_name": "FloatProgressModel",
      "state": {
       "bar_style": "danger",
       "description": "Run 33 of 156 [PID: 45693]:  18%",
       "layout": "IPY_MODEL_59a6d7cc5de849a583fe3e6ff219323a",
       "max": 8760,
       "style": "IPY_MODEL_4bfd5ac01d1b4a37a0f3023d12580f37",
       "value": 1592
      }
     },
     "d17359d4b19a4dcdb579c59b13e2ca6a": {
      "model_module": "@jupyter-widgets/controls",
      "model_module_version": "1.5.0",
      "model_name": "FloatProgressModel",
      "state": {
       "description": "Run 97 of 156 [PID: 72815]:  45%",
       "layout": "IPY_MODEL_738774f3f50b45339f2c397b9dd29148",
       "max": 175320,
       "style": "IPY_MODEL_27740a191a17495e9994d5a4363e2d78",
       "value": 78897
      }
     },
     "d17681233e7f4c68bb723eb203533edc": {
      "model_module": "@jupyter-widgets/base",
      "model_module_version": "1.2.0",
      "model_name": "LayoutModel",
      "state": {}
     },
     "d178d29625c94e84b52d9dac3972a507": {
      "model_module": "@jupyter-widgets/controls",
      "model_module_version": "1.5.0",
      "model_name": "FloatProgressModel",
      "state": {
       "bar_style": "success",
       "description": "poop: 100%",
       "layout": "IPY_MODEL_e64d3c1e330447dc8655ed96795372d5",
       "max": 8760,
       "style": "IPY_MODEL_1da0f69eed0846e8a003a98b7f7d260f",
       "value": 8760
      }
     },
     "d17a3d6adcf64b52bf7973b4b07e3119": {
      "model_module": "@jupyter-widgets/controls",
      "model_module_version": "1.5.0",
      "model_name": "DescriptionStyleModel",
      "state": {
       "description_width": ""
      }
     },
     "d18584e6850546deb804d091385a8e12": {
      "model_module": "@jupyter-widgets/controls",
      "model_module_version": "1.5.0",
      "model_name": "HBoxModel",
      "state": {
       "children": [
        "IPY_MODEL_15df9590fbdd426595eeeef34ea38742",
        "IPY_MODEL_bec15f40de23406680a4365f40422cc2"
       ],
       "layout": "IPY_MODEL_2653a3eba2bb42499887973bed739a09"
      }
     },
     "d19f80fef3cf4cb08b200ed3aa102a3b": {
      "model_module": "@jupyter-widgets/controls",
      "model_module_version": "1.5.0",
      "model_name": "ProgressStyleModel",
      "state": {
       "description_width": "initial"
      }
     },
     "d1a86ebc46254d59915b5b188f226108": {
      "model_module": "@jupyter-widgets/controls",
      "model_module_version": "1.5.0",
      "model_name": "ProgressStyleModel",
      "state": {
       "description_width": "initial"
      }
     },
     "d1ac1407439e4f0aa190d15e91b278c2": {
      "model_module": "@jupyter-widgets/controls",
      "model_module_version": "1.5.0",
      "model_name": "FloatProgressModel",
      "state": {
       "bar_style": "success",
       "description": "poop: 100%",
       "layout": "IPY_MODEL_66e92ebceb274afbbe86d8b2949ba095",
       "max": 8760,
       "style": "IPY_MODEL_56af0afbfcce415c9eb3353e73d98346",
       "value": 8760
      }
     },
     "d1c5dc56fdfc45958d03615b8031073b": {
      "model_module": "@jupyter-widgets/controls",
      "model_module_version": "1.5.0",
      "model_name": "HBoxModel",
      "state": {
       "children": [
        "IPY_MODEL_8b11d0ae0fa743f9a69d873a8448e9e1",
        "IPY_MODEL_11a5d3ed4c8b4f4b8e81a6ff1f16757a"
       ],
       "layout": "IPY_MODEL_a99629f2dad94c57a0e4eb5bc7092ac1"
      }
     },
     "d1c92bfddd6a4600832fa272169718f0": {
      "model_module": "@jupyter-widgets/controls",
      "model_module_version": "1.5.0",
      "model_name": "HTMLModel",
      "state": {
       "layout": "IPY_MODEL_ebcf8ba236ba4472beb341c838357c8c",
       "style": "IPY_MODEL_3d22160dd02046b09b6886da73387978",
       "value": " 8760/8760 [00:31&lt;00:00, 278.47steps/s]"
      }
     },
     "d1d3c682e08e415f902b9f2ec9a121e4": {
      "model_module": "@jupyter-widgets/base",
      "model_module_version": "1.2.0",
      "model_name": "LayoutModel",
      "state": {}
     },
     "d2020ce4b83340c483fec5efaf62a8ac": {
      "model_module": "@jupyter-widgets/controls",
      "model_module_version": "1.5.0",
      "model_name": "HTMLModel",
      "state": {
       "layout": "IPY_MODEL_04f2147c94ce4fe9a4e9466d89e2fa11",
       "style": "IPY_MODEL_5b0cc5e5ae98419394016b599f4ff516",
       "value": " 242/8760 [00:00&lt;00:37, 224.36steps/s]"
      }
     },
     "d22223c4c4d947aebbdc627cc4714479": {
      "model_module": "@jupyter-widgets/base",
      "model_module_version": "1.2.0",
      "model_name": "LayoutModel",
      "state": {}
     },
     "d22db0c9b01140a1bc084d1612b19f68": {
      "model_module": "@jupyter-widgets/controls",
      "model_module_version": "1.5.0",
      "model_name": "ProgressStyleModel",
      "state": {
       "description_width": "initial"
      }
     },
     "d23a7dd3d4d84e43ab1ed460bc18731a": {
      "model_module": "@jupyter-widgets/base",
      "model_module_version": "1.2.0",
      "model_name": "LayoutModel",
      "state": {}
     },
     "d2b8c0b5ccfc4aa79995f5068cf06ba2": {
      "model_module": "@jupyter-widgets/controls",
      "model_module_version": "1.5.0",
      "model_name": "ProgressStyleModel",
      "state": {
       "description_width": "initial"
      }
     },
     "d2d4987556704b03b1389ea24d3f0340": {
      "model_module": "@jupyter-widgets/base",
      "model_module_version": "1.2.0",
      "model_name": "LayoutModel",
      "state": {}
     },
     "d2fc3a3e41524a35aeb58f4cde9cfe7b": {
      "model_module": "@jupyter-widgets/base",
      "model_module_version": "1.2.0",
      "model_name": "LayoutModel",
      "state": {}
     },
     "d3001701c44749e9b47e9aee923566cf": {
      "model_module": "@jupyter-widgets/controls",
      "model_module_version": "1.5.0",
      "model_name": "FloatProgressModel",
      "state": {
       "bar_style": "success",
       "description": "Run 19 of 156 [PID: 45693]: 100%",
       "layout": "IPY_MODEL_ed4fde4f55854b04b91cfb9bd5ecb1f6",
       "max": 8760,
       "style": "IPY_MODEL_52595ea1f18149e68c6ca8b8078de9d7",
       "value": 8760
      }
     },
     "d327af6e13e24b40ae6e6ba9686b225b": {
      "model_module": "@jupyter-widgets/controls",
      "model_module_version": "1.5.0",
      "model_name": "HBoxModel",
      "state": {
       "children": [
        "IPY_MODEL_34432b3f9e8a4204847eedfc7ee1b549",
        "IPY_MODEL_7d61c2e469674ad0ad95e80e375b1a2d"
       ],
       "layout": "IPY_MODEL_344c2d95efe44577999f347c0e9d8983"
      }
     },
     "d348378979044b5aa7b9fea501f16ee3": {
      "model_module": "@jupyter-widgets/base",
      "model_module_version": "1.2.0",
      "model_name": "LayoutModel",
      "state": {}
     },
     "d34f9fe1806241cf9af9c2acc35f979f": {
      "model_module": "@jupyter-widgets/controls",
      "model_module_version": "1.5.0",
      "model_name": "ProgressStyleModel",
      "state": {
       "description_width": "initial"
      }
     },
     "d356fbb2ea7c4e57a553710a1ab14279": {
      "model_module": "@jupyter-widgets/base",
      "model_module_version": "1.2.0",
      "model_name": "LayoutModel",
      "state": {}
     },
     "d39bd6109bf646e089a10a1bc5202fcc": {
      "model_module": "@jupyter-widgets/controls",
      "model_module_version": "1.5.0",
      "model_name": "HBoxModel",
      "state": {
       "children": [
        "IPY_MODEL_40d02963062f444cb940c3731cfad552",
        "IPY_MODEL_857cb46fc4c44141927817d52ee712c1"
       ],
       "layout": "IPY_MODEL_58b99d444f6d449290e2dc285bdf721f"
      }
     },
     "d39da8e287e146cb83959420a9b47019": {
      "model_module": "@jupyter-widgets/base",
      "model_module_version": "1.2.0",
      "model_name": "LayoutModel",
      "state": {}
     },
     "d3aacc14d5ab460c9cc0a687516f0928": {
      "model_module": "@jupyter-widgets/controls",
      "model_module_version": "1.5.0",
      "model_name": "ProgressStyleModel",
      "state": {
       "description_width": "initial"
      }
     },
     "d3ab8d3feaf04044b4c2b737b74e686c": {
      "model_module": "@jupyter-widgets/controls",
      "model_module_version": "1.5.0",
      "model_name": "HBoxModel",
      "state": {
       "children": [
        "IPY_MODEL_40e136e273c740099aee2c33d1f6a1a3",
        "IPY_MODEL_f5149d2f876a4ad6b6d16c85f881cd44"
       ],
       "layout": "IPY_MODEL_6ac33a6f9cb84919ac73249de7ec0180"
      }
     },
     "d3c0f0d4c7c44637922e1bc8e8a0824c": {
      "model_module": "@jupyter-widgets/base",
      "model_module_version": "1.2.0",
      "model_name": "LayoutModel",
      "state": {}
     },
     "d4355c8b4db74abd900c304ef05f13c4": {
      "model_module": "@jupyter-widgets/controls",
      "model_module_version": "1.5.0",
      "model_name": "HTMLModel",
      "state": {
       "layout": "IPY_MODEL_6d706f2fca4940369adc36e84f3ef84a",
       "style": "IPY_MODEL_709465340a6241dd8e3796854bbcf7ab",
       "value": " 8760/8760 [02:31&lt;00:00, 57.63steps/s]"
      }
     },
     "d43f3732e63949aa9f031c9fa86a2a4c": {
      "model_module": "@jupyter-widgets/controls",
      "model_module_version": "1.5.0",
      "model_name": "HBoxModel",
      "state": {
       "children": [
        "IPY_MODEL_3f22b1671efe44a19a7454b080a3efd1",
        "IPY_MODEL_50c8ff297b5d4ba3ac395de7323f8a32"
       ],
       "layout": "IPY_MODEL_0a1d52afa74f440f8871e82b1b04fb63"
      }
     },
     "d4584abf2a0c419e835ac9114e3ac80a": {
      "model_module": "@jupyter-widgets/controls",
      "model_module_version": "1.5.0",
      "model_name": "DescriptionStyleModel",
      "state": {
       "description_width": ""
      }
     },
     "d45ee00dd8be471282e297c8a62cdc4a": {
      "model_module": "@jupyter-widgets/controls",
      "model_module_version": "1.5.0",
      "model_name": "HBoxModel",
      "state": {
       "children": [
        "IPY_MODEL_e66e5db3043b4eb4ade2b2cfc73945d5",
        "IPY_MODEL_86866731ce1d4be8a403799f3829b98d"
       ],
       "layout": "IPY_MODEL_6c1bdbe672f940e88ab483a493bebc27"
      }
     },
     "d46150a80b26415e975305df176ee861": {
      "model_module": "@jupyter-widgets/base",
      "model_module_version": "1.2.0",
      "model_name": "LayoutModel",
      "state": {}
     },
     "d4672f73c5784c6fa3342b0076b61517": {
      "model_module": "@jupyter-widgets/controls",
      "model_module_version": "1.5.0",
      "model_name": "HTMLModel",
      "state": {
       "layout": "IPY_MODEL_eb6b08c94b0d47ecb77ee3d4332bb9eb",
       "style": "IPY_MODEL_623c62c99ffc45d589d08aeffd33162e",
       "value": " 8760/8760 [00:30&lt;00:00, 291.59steps/s]"
      }
     },
     "d46ec13659d64f1eb63a02e0d8215365": {
      "model_module": "@jupyter-widgets/controls",
      "model_module_version": "1.5.0",
      "model_name": "HBoxModel",
      "state": {
       "children": [
        "IPY_MODEL_f317db7488e24f1eab257313e8678372",
        "IPY_MODEL_4c371c8c86c14f048a12875a8d6c2c6c"
       ],
       "layout": "IPY_MODEL_0dfb2b8ab9b0442ab7c2946e1119a2f1"
      }
     },
     "d47d6793c8aa43f69a37053377291a3d": {
      "model_module": "@jupyter-widgets/controls",
      "model_module_version": "1.5.0",
      "model_name": "ProgressStyleModel",
      "state": {
       "description_width": "initial"
      }
     },
     "d47fade4c3ac4f3ab064499b06787200": {
      "model_module": "@jupyter-widgets/base",
      "model_module_version": "1.2.0",
      "model_name": "LayoutModel",
      "state": {}
     },
     "d4928a9a31a94a829889ff9a6692854b": {
      "model_module": "@jupyter-widgets/controls",
      "model_module_version": "1.5.0",
      "model_name": "HTMLModel",
      "state": {
       "layout": "IPY_MODEL_47a872a38dc7467f84a4cace0c916d3b",
       "style": "IPY_MODEL_fc794d6a3f774a80a09afdf4e4258700",
       "value": " 8760/8760 [00:31&lt;00:00, 280.14steps/s]"
      }
     },
     "d499e55510384bf88dcd008a08e441d7": {
      "model_module": "@jupyter-widgets/base",
      "model_module_version": "1.2.0",
      "model_name": "LayoutModel",
      "state": {}
     },
     "d4d674ebeff249828f207aa023d23718": {
      "model_module": "@jupyter-widgets/base",
      "model_module_version": "1.2.0",
      "model_name": "LayoutModel",
      "state": {}
     },
     "d4da4fc374314530a3ad36a14857c0be": {
      "model_module": "@jupyter-widgets/controls",
      "model_module_version": "1.5.0",
      "model_name": "ProgressStyleModel",
      "state": {
       "description_width": "initial"
      }
     },
     "d5029a21874e4122bf1b7f078fb88423": {
      "model_module": "@jupyter-widgets/base",
      "model_module_version": "1.2.0",
      "model_name": "LayoutModel",
      "state": {}
     },
     "d512904eade34f9b872ca409ffaf4d1c": {
      "model_module": "@jupyter-widgets/controls",
      "model_module_version": "1.5.0",
      "model_name": "ProgressStyleModel",
      "state": {
       "description_width": "initial"
      }
     },
     "d5146cb0efcc4a68aaead177eb4f9970": {
      "model_module": "@jupyter-widgets/controls",
      "model_module_version": "1.5.0",
      "model_name": "FloatProgressModel",
      "state": {
       "description": "Run 126 of 156 [PID: 72808]:  45%",
       "layout": "IPY_MODEL_7bb411ab5b8946ed8e29760b00231f4a",
       "max": 175320,
       "style": "IPY_MODEL_c2aa0e98287c4ce7a91fae2c900ffde5",
       "value": 78645
      }
     },
     "d51ebfa3e27547aea4717ae5a5cb57b6": {
      "model_module": "@jupyter-widgets/controls",
      "model_module_version": "1.5.0",
      "model_name": "ProgressStyleModel",
      "state": {
       "description_width": "initial"
      }
     },
     "d572c4683b8549699b65da00e7a02644": {
      "model_module": "@jupyter-widgets/controls",
      "model_module_version": "1.5.0",
      "model_name": "FloatProgressModel",
      "state": {
       "bar_style": "success",
       "description": "poop: 100%",
       "layout": "IPY_MODEL_9d41fa6ff4e44192b1f4ed3433e851ca",
       "max": 8760,
       "style": "IPY_MODEL_0fa00e3da8004b538ff970067a8726c6",
       "value": 8760
      }
     },
     "d5adbbe4085d420b9e15a589449851ec": {
      "model_module": "@jupyter-widgets/base",
      "model_module_version": "1.2.0",
      "model_name": "LayoutModel",
      "state": {}
     },
     "d5d8c2f2526d422087236f91146c7cb7": {
      "model_module": "@jupyter-widgets/base",
      "model_module_version": "1.2.0",
      "model_name": "LayoutModel",
      "state": {}
     },
     "d628ca83f442497fb629632f82bf3818": {
      "model_module": "@jupyter-widgets/controls",
      "model_module_version": "1.5.0",
      "model_name": "HTMLModel",
      "state": {
       "layout": "IPY_MODEL_c3ca3ff56fd440d78a0e3f71b9e206ab",
       "style": "IPY_MODEL_ec13413363aa42f09e072b25eb616e0e",
       "value": " 8760/8760 [01:00&lt;00:00, 144.62steps/s]"
      }
     },
     "d632eeffd9e747cb9ec7bc2556e4c8b5": {
      "model_module": "@jupyter-widgets/controls",
      "model_module_version": "1.5.0",
      "model_name": "HTMLModel",
      "state": {
       "layout": "IPY_MODEL_e2484f8ff054457aa50d133f264bd6ff",
       "style": "IPY_MODEL_ba345707c9fd41338e087d2b6f732288",
       "value": " 8760/8760 [00:30&lt;00:00, 290.12steps/s]"
      }
     },
     "d648d971a2f24cd0b7e16dd8ad28efbe": {
      "model_module": "@jupyter-widgets/controls",
      "model_module_version": "1.5.0",
      "model_name": "HTMLModel",
      "state": {
       "layout": "IPY_MODEL_97967a0cd5a34ad7806786f915ca163c",
       "style": "IPY_MODEL_a6234624c63e4be6a257da7dd98e01f0",
       "value": " 8760/8760 [00:32&lt;00:00, 267.67steps/s]"
      }
     },
     "d6a6a65678634e3a89d8512b49cad321": {
      "model_module": "@jupyter-widgets/controls",
      "model_module_version": "1.5.0",
      "model_name": "DescriptionStyleModel",
      "state": {
       "description_width": ""
      }
     },
     "d6acf991eebb43f18bdb480be83b3234": {
      "model_module": "@jupyter-widgets/controls",
      "model_module_version": "1.5.0",
      "model_name": "DescriptionStyleModel",
      "state": {
       "description_width": ""
      }
     },
     "d70e835f77f54d83a0d72b826a3dc41d": {
      "model_module": "@jupyter-widgets/controls",
      "model_module_version": "1.5.0",
      "model_name": "DescriptionStyleModel",
      "state": {
       "description_width": ""
      }
     },
     "d710fc9b8ab44ebe8190c1c317d3e26a": {
      "model_module": "@jupyter-widgets/base",
      "model_module_version": "1.2.0",
      "model_name": "LayoutModel",
      "state": {}
     },
     "d71b36b2595647d8943db75f9a30b580": {
      "model_module": "@jupyter-widgets/base",
      "model_module_version": "1.2.0",
      "model_name": "LayoutModel",
      "state": {}
     },
     "d71b50cc10914d4b87d1b3f9089d22de": {
      "model_module": "@jupyter-widgets/controls",
      "model_module_version": "1.5.0",
      "model_name": "DescriptionStyleModel",
      "state": {
       "description_width": ""
      }
     },
     "d7359933bb6f453c8a685553b44ae0dd": {
      "model_module": "@jupyter-widgets/controls",
      "model_module_version": "1.5.0",
      "model_name": "ProgressStyleModel",
      "state": {
       "description_width": "initial"
      }
     },
     "d739fac6153e40d2ba769eade3d92e08": {
      "model_module": "@jupyter-widgets/base",
      "model_module_version": "1.2.0",
      "model_name": "LayoutModel",
      "state": {}
     },
     "d76808648f1e4c5892e12744e284576b": {
      "model_module": "@jupyter-widgets/controls",
      "model_module_version": "1.5.0",
      "model_name": "ProgressStyleModel",
      "state": {
       "description_width": "initial"
      }
     },
     "d77383bbdb8e4d8daa9c58e055a91fb1": {
      "model_module": "@jupyter-widgets/controls",
      "model_module_version": "1.5.0",
      "model_name": "HTMLModel",
      "state": {
       "layout": "IPY_MODEL_f3e1330dbb064d2eb3c60e8d1be9e780",
       "style": "IPY_MODEL_62cc5238af8d4583ba54813efa2fe146",
       "value": " 2716/8760 [00:09&lt;00:21, 283.38steps/s]"
      }
     },
     "d78091540111410897ea742443311161": {
      "model_module": "@jupyter-widgets/base",
      "model_module_version": "1.2.0",
      "model_name": "LayoutModel",
      "state": {}
     },
     "d78c012efdc24127a00aacb4cd71f105": {
      "model_module": "@jupyter-widgets/base",
      "model_module_version": "1.2.0",
      "model_name": "LayoutModel",
      "state": {}
     },
     "d78e38b39c124d59aee83e60c0623077": {
      "model_module": "@jupyter-widgets/controls",
      "model_module_version": "1.5.0",
      "model_name": "DescriptionStyleModel",
      "state": {
       "description_width": ""
      }
     },
     "d78eaa3064044ac7898e896402130bd8": {
      "model_module": "@jupyter-widgets/controls",
      "model_module_version": "1.5.0",
      "model_name": "DescriptionStyleModel",
      "state": {
       "description_width": ""
      }
     },
     "d79a6ed6700a45a8ae38c30f7025801e": {
      "model_module": "@jupyter-widgets/controls",
      "model_module_version": "1.5.0",
      "model_name": "HBoxModel",
      "state": {
       "children": [
        "IPY_MODEL_0c1e8cc92f304ab790e1b87f1215e73e",
        "IPY_MODEL_c7b7cbaac2d74b28a78d025baa5a7327"
       ],
       "layout": "IPY_MODEL_68763acd59f1426c9f4779fe296eea54"
      }
     },
     "d7d52fb8c0014cc6a36c56b8fb1e17c2": {
      "model_module": "@jupyter-widgets/controls",
      "model_module_version": "1.5.0",
      "model_name": "HTMLModel",
      "state": {
       "layout": "IPY_MODEL_5659922a27854dd4968098848ae89b09",
       "style": "IPY_MODEL_f1eece8ee8b64347ae8f7e44faed3da5",
       "value": " 1787/8760 [00:06&lt;00:24, 290.09steps/s]"
      }
     },
     "d7dada78367a4c788fe5734fa4d7fc55": {
      "model_module": "@jupyter-widgets/base",
      "model_module_version": "1.2.0",
      "model_name": "LayoutModel",
      "state": {}
     },
     "d7e38e0842eb432fb56c1992feb63754": {
      "model_module": "@jupyter-widgets/controls",
      "model_module_version": "1.5.0",
      "model_name": "FloatProgressModel",
      "state": {
       "bar_style": "success",
       "description": "poop: 100%",
       "layout": "IPY_MODEL_7ff6f1cafc23439ca6a05cc722e3612a",
       "max": 8760,
       "style": "IPY_MODEL_4a351cdb51fd49899b4c5ed9eda6355d",
       "value": 8760
      }
     },
     "d7fadde704ea4277b5356c1e556eb65b": {
      "model_module": "@jupyter-widgets/controls",
      "model_module_version": "1.5.0",
      "model_name": "HBoxModel",
      "state": {
       "children": [
        "IPY_MODEL_f5edebd05628416ea53d75938985cae9",
        "IPY_MODEL_b463ab2c69054b2f91cb489d903a458a"
       ],
       "layout": "IPY_MODEL_22933f0dc5c44d90b3d08c05a6e98c16"
      }
     },
     "d825df38a4c747048e2476a1ce958781": {
      "model_module": "@jupyter-widgets/base",
      "model_module_version": "1.2.0",
      "model_name": "LayoutModel",
      "state": {}
     },
     "d848b671de204a53a165e11d69a3d33a": {
      "model_module": "@jupyter-widgets/controls",
      "model_module_version": "1.5.0",
      "model_name": "HTMLModel",
      "state": {
       "layout": "IPY_MODEL_64ee31750d4243d5a311a869abb0c131",
       "style": "IPY_MODEL_eb3534e5915e4b91bf829aacaaf2b8af",
       "value": " 2193/8760 [00:08&lt;00:24, 272.65steps/s]"
      }
     },
     "d87b4bdaf4e34ea69930ad87ecda920c": {
      "model_module": "@jupyter-widgets/controls",
      "model_module_version": "1.5.0",
      "model_name": "DescriptionStyleModel",
      "state": {
       "description_width": ""
      }
     },
     "d88b4bd230e04cd9b5d4e366a9de81df": {
      "model_module": "@jupyter-widgets/base",
      "model_module_version": "1.2.0",
      "model_name": "LayoutModel",
      "state": {}
     },
     "d89d0edc700d45d3b30c0efde45564fc": {
      "model_module": "@jupyter-widgets/controls",
      "model_module_version": "1.5.0",
      "model_name": "HTMLModel",
      "state": {
       "layout": "IPY_MODEL_5741d7a6c45a4ec08007eb54e0c5a187",
       "style": "IPY_MODEL_02af441380df47719b3081f939899e73",
       "value": " 8760/8760 [01:00&lt;00:00, 145.21steps/s]"
      }
     },
     "d89ed72531f34638b2b53027e5737025": {
      "model_module": "@jupyter-widgets/base",
      "model_module_version": "1.2.0",
      "model_name": "LayoutModel",
      "state": {}
     },
     "d8a5bb44353041daa1af4c59f669599b": {
      "model_module": "@jupyter-widgets/controls",
      "model_module_version": "1.5.0",
      "model_name": "HTMLModel",
      "state": {
       "layout": "IPY_MODEL_e38d0b6cf1cf46618bcb1e9208b9f18d",
       "style": "IPY_MODEL_b3a03446cb234b24b2781f9e1cec1845",
       "value": " 84289/175320 [3:26:06&lt;5:37:13,  4.50steps/s]"
      }
     },
     "d8c5d48db2e14b0d9c09de5170e191c0": {
      "model_module": "@jupyter-widgets/controls",
      "model_module_version": "1.5.0",
      "model_name": "ProgressStyleModel",
      "state": {
       "description_width": "initial"
      }
     },
     "d8c70dd24b9f43199b342d7368d47ebb": {
      "model_module": "@jupyter-widgets/controls",
      "model_module_version": "1.5.0",
      "model_name": "ProgressStyleModel",
      "state": {
       "description_width": "initial"
      }
     },
     "d8cf24e2616f41a2828d8f3d57b8f9fb": {
      "model_module": "@jupyter-widgets/controls",
      "model_module_version": "1.5.0",
      "model_name": "HTMLModel",
      "state": {
       "layout": "IPY_MODEL_381786ec43684c789312b52a31eb963e",
       "style": "IPY_MODEL_98d40ac916254860aae647b1619b8465",
       "value": " 8760/8760 [03:34&lt;00:00, 40.89steps/s]"
      }
     },
     "d8e6a8fdff7c49d093df0f9cd3d328f4": {
      "model_module": "@jupyter-widgets/controls",
      "model_module_version": "1.5.0",
      "model_name": "HBoxModel",
      "state": {
       "children": [
        "IPY_MODEL_59c391c98bc64493815af91b80d3989d",
        "IPY_MODEL_6b3ea33d339b4bb693869ab55231c250"
       ],
       "layout": "IPY_MODEL_c7326c80350547efaae997c463c79f3c"
      }
     },
     "d916897bdabd4e289a96af99ca28aa39": {
      "model_module": "@jupyter-widgets/controls",
      "model_module_version": "1.5.0",
      "model_name": "DescriptionStyleModel",
      "state": {
       "description_width": ""
      }
     },
     "d94202a5af9a437f95e432171c044575": {
      "model_module": "@jupyter-widgets/controls",
      "model_module_version": "1.5.0",
      "model_name": "DescriptionStyleModel",
      "state": {
       "description_width": ""
      }
     },
     "d95c2b7979164b64864e9f9ef2b2e386": {
      "model_module": "@jupyter-widgets/controls",
      "model_module_version": "1.5.0",
      "model_name": "HTMLModel",
      "state": {
       "layout": "IPY_MODEL_417dfdd9ae78468c83cdb97795f1a9b6",
       "style": "IPY_MODEL_9dfec783e6f84634beb2cca15df80ec5",
       "value": " 2034/8760 [00:07&lt;00:24, 274.68steps/s]"
      }
     },
     "d96ce9074f454613abe073e560c0313b": {
      "model_module": "@jupyter-widgets/base",
      "model_module_version": "1.2.0",
      "model_name": "LayoutModel",
      "state": {}
     },
     "d98b73f279af4f619ac702f7ab620e86": {
      "model_module": "@jupyter-widgets/controls",
      "model_module_version": "1.5.0",
      "model_name": "ProgressStyleModel",
      "state": {
       "description_width": "initial"
      }
     },
     "d9926749e3d744b2b106345d2d503864": {
      "model_module": "@jupyter-widgets/controls",
      "model_module_version": "1.5.0",
      "model_name": "HTMLModel",
      "state": {
       "layout": "IPY_MODEL_7d73c4e0c7494fcca011eb345c9d025b",
       "style": "IPY_MODEL_317a4ac850284a9cb58dba13220c39d9",
       "value": " 1129/8760 [00:04&lt;00:27, 281.77steps/s]"
      }
     },
     "d99d292bf51e434db8c1ad71fc1ccfa4": {
      "model_module": "@jupyter-widgets/base",
      "model_module_version": "1.2.0",
      "model_name": "LayoutModel",
      "state": {}
     },
     "d9a588a41ed14b7081caab3a6c2ee888": {
      "model_module": "@jupyter-widgets/controls",
      "model_module_version": "1.5.0",
      "model_name": "DescriptionStyleModel",
      "state": {
       "description_width": ""
      }
     },
     "d9ad493ff27443a7afa28a9d2e6d4141": {
      "model_module": "@jupyter-widgets/base",
      "model_module_version": "1.2.0",
      "model_name": "LayoutModel",
      "state": {}
     },
     "da06037e7fbe4bc99859c51d07d427f5": {
      "model_module": "@jupyter-widgets/base",
      "model_module_version": "1.2.0",
      "model_name": "LayoutModel",
      "state": {}
     },
     "da15adbb39a04526a1773ff4eee531da": {
      "model_module": "@jupyter-widgets/base",
      "model_module_version": "1.2.0",
      "model_name": "LayoutModel",
      "state": {}
     },
     "da18a6b1882f4b54a6fc45c6766f508c": {
      "model_module": "@jupyter-widgets/controls",
      "model_module_version": "1.5.0",
      "model_name": "FloatProgressModel",
      "state": {
       "bar_style": "success",
       "description": "Run 42 of 156 [PID: 21986]: 100%",
       "layout": "IPY_MODEL_0db3692f367e43ee91b3dfb59b493cca",
       "max": 8760,
       "style": "IPY_MODEL_f2e97335e5f14b969a6821148a27b8b7",
       "value": 8760
      }
     },
     "da2abcde61c544eb99b7d97752690f25": {
      "model_module": "@jupyter-widgets/controls",
      "model_module_version": "1.5.0",
      "model_name": "ProgressStyleModel",
      "state": {
       "description_width": "initial"
      }
     },
     "da355f30ddc84a7da08ffd453547cc8a": {
      "model_module": "@jupyter-widgets/base",
      "model_module_version": "1.2.0",
      "model_name": "LayoutModel",
      "state": {}
     },
     "da959617be874f2bb91d8b583466d453": {
      "model_module": "@jupyter-widgets/base",
      "model_module_version": "1.2.0",
      "model_name": "LayoutModel",
      "state": {}
     },
     "daaea4d8e1bb45c5a9fe63d186a66333": {
      "model_module": "@jupyter-widgets/controls",
      "model_module_version": "1.5.0",
      "model_name": "DescriptionStyleModel",
      "state": {
       "description_width": ""
      }
     },
     "dac8de9193fc430db3e4b409d5af073f": {
      "model_module": "@jupyter-widgets/controls",
      "model_module_version": "1.5.0",
      "model_name": "HBoxModel",
      "state": {
       "children": [
        "IPY_MODEL_633b4ac92f284f4ab98dda83d4956dfc",
        "IPY_MODEL_4aea1dac7d1842bcbbd58e1b1be895b6"
       ],
       "layout": "IPY_MODEL_4927060255e742deb8a56c3917986614"
      }
     },
     "dace1343d928456292fa88b123cdf96d": {
      "model_module": "@jupyter-widgets/base",
      "model_module_version": "1.2.0",
      "model_name": "LayoutModel",
      "state": {}
     },
     "dada5c729d0d480b9c5baa31ef6a9dae": {
      "model_module": "@jupyter-widgets/base",
      "model_module_version": "1.2.0",
      "model_name": "LayoutModel",
      "state": {}
     },
     "dae4c7650c1c458fb390de35e5818c9a": {
      "model_module": "@jupyter-widgets/base",
      "model_module_version": "1.2.0",
      "model_name": "LayoutModel",
      "state": {}
     },
     "db06fa53e3914f9c83c6b9bfcb86cd52": {
      "model_module": "@jupyter-widgets/base",
      "model_module_version": "1.2.0",
      "model_name": "LayoutModel",
      "state": {}
     },
     "db09cf54518e425eb6d2ff8af49a43f7": {
      "model_module": "@jupyter-widgets/controls",
      "model_module_version": "1.5.0",
      "model_name": "DescriptionStyleModel",
      "state": {
       "description_width": ""
      }
     },
     "db0a094338bb4e429687c42122cdb047": {
      "model_module": "@jupyter-widgets/base",
      "model_module_version": "1.2.0",
      "model_name": "LayoutModel",
      "state": {}
     },
     "db2c6881e10f4d5680dc8de668a5670c": {
      "model_module": "@jupyter-widgets/controls",
      "model_module_version": "1.5.0",
      "model_name": "DescriptionStyleModel",
      "state": {
       "description_width": ""
      }
     },
     "db7489fffbdc4876b6d3cfea5c4f01a5": {
      "model_module": "@jupyter-widgets/base",
      "model_module_version": "1.2.0",
      "model_name": "LayoutModel",
      "state": {}
     },
     "db8636a5e90a459aa1e290a40a77a362": {
      "model_module": "@jupyter-widgets/controls",
      "model_module_version": "1.5.0",
      "model_name": "ProgressStyleModel",
      "state": {
       "description_width": "initial"
      }
     },
     "db8a364027f84b0e8a81bd18e653f91f": {
      "model_module": "@jupyter-widgets/base",
      "model_module_version": "1.2.0",
      "model_name": "LayoutModel",
      "state": {}
     },
     "dbac23c2584d4b7ab94f7f028e9cbb07": {
      "model_module": "@jupyter-widgets/controls",
      "model_module_version": "1.5.0",
      "model_name": "FloatProgressModel",
      "state": {
       "bar_style": "success",
       "description": "poop: 100%",
       "layout": "IPY_MODEL_1bd02ddb40b040949bbf227adc3d7a41",
       "max": 8760,
       "style": "IPY_MODEL_c1af6cddbb8d4bbb89da0eb10ab72f47",
       "value": 8760
      }
     },
     "dbe943e681fa43c88c25595ef62f9f2f": {
      "model_module": "@jupyter-widgets/base",
      "model_module_version": "1.2.0",
      "model_name": "LayoutModel",
      "state": {}
     },
     "dbedb2f209f2498c9cffa939735cd500": {
      "model_module": "@jupyter-widgets/controls",
      "model_module_version": "1.5.0",
      "model_name": "ProgressStyleModel",
      "state": {
       "description_width": "initial"
      }
     },
     "dc14808e4d614468b958fff93c6d4c8d": {
      "model_module": "@jupyter-widgets/base",
      "model_module_version": "1.2.0",
      "model_name": "LayoutModel",
      "state": {}
     },
     "dcaca05fd13a4c95887740361643c991": {
      "model_module": "@jupyter-widgets/controls",
      "model_module_version": "1.5.0",
      "model_name": "DescriptionStyleModel",
      "state": {
       "description_width": ""
      }
     },
     "dcb1423fce594cbf8873e8b41973c0e2": {
      "model_module": "@jupyter-widgets/controls",
      "model_module_version": "1.5.0",
      "model_name": "ProgressStyleModel",
      "state": {
       "description_width": "initial"
      }
     },
     "dccb46799cd949548b9acc77c6fc75fb": {
      "model_module": "@jupyter-widgets/controls",
      "model_module_version": "1.5.0",
      "model_name": "DescriptionStyleModel",
      "state": {
       "description_width": ""
      }
     },
     "dd0394dd264d4466b471fffb1dce1986": {
      "model_module": "@jupyter-widgets/base",
      "model_module_version": "1.2.0",
      "model_name": "LayoutModel",
      "state": {}
     },
     "dd13bf9933fd41a8ac5bfdda01f8200b": {
      "model_module": "@jupyter-widgets/base",
      "model_module_version": "1.2.0",
      "model_name": "LayoutModel",
      "state": {}
     },
     "dd3aa81266c44c2289cc8bca70009227": {
      "model_module": "@jupyter-widgets/controls",
      "model_module_version": "1.5.0",
      "model_name": "ProgressStyleModel",
      "state": {
       "description_width": "initial"
      }
     },
     "dd5d44e3fd2d44c989e464fa6782c155": {
      "model_module": "@jupyter-widgets/base",
      "model_module_version": "1.2.0",
      "model_name": "LayoutModel",
      "state": {}
     },
     "dd80eeb3a9044b95bf0a3bb340df2da3": {
      "model_module": "@jupyter-widgets/controls",
      "model_module_version": "1.5.0",
      "model_name": "ProgressStyleModel",
      "state": {
       "description_width": "initial"
      }
     },
     "dd82db1516ee4594996b4ff23fcd10d0": {
      "model_module": "@jupyter-widgets/controls",
      "model_module_version": "1.5.0",
      "model_name": "ProgressStyleModel",
      "state": {
       "description_width": "initial"
      }
     },
     "dd87f03428af4b25b776ab40f4f7f18a": {
      "model_module": "@jupyter-widgets/controls",
      "model_module_version": "1.5.0",
      "model_name": "FloatProgressModel",
      "state": {
       "bar_style": "success",
       "description": "Run 39 of 156 [PID: 21992]: 100%",
       "layout": "IPY_MODEL_29e3f92c973c4b4daa3a59b561058ec3",
       "max": 8760,
       "style": "IPY_MODEL_7f05d63a70dd4d0b804137f1dc9bc09e",
       "value": 8760
      }
     },
     "ddbb2a0f9a6d41368af3343340efe996": {
      "model_module": "@jupyter-widgets/base",
      "model_module_version": "1.2.0",
      "model_name": "LayoutModel",
      "state": {}
     },
     "ddbb2b69743441138462a5552e4c2b36": {
      "model_module": "@jupyter-widgets/controls",
      "model_module_version": "1.5.0",
      "model_name": "HBoxModel",
      "state": {
       "children": [
        "IPY_MODEL_fe1be575162349e0a677e4e04c220b4e",
        "IPY_MODEL_fe703d9b7e2d4a1ebcf9f79214f35ba6"
       ],
       "layout": "IPY_MODEL_a83848028272428e8f3fc3d031a6b2c0"
      }
     },
     "dde43cc29f2c44b7b101c298f44eba91": {
      "model_module": "@jupyter-widgets/controls",
      "model_module_version": "1.5.0",
      "model_name": "DescriptionStyleModel",
      "state": {
       "description_width": ""
      }
     },
     "de05fc0f0bdb4661977fcb41a85fa334": {
      "model_module": "@jupyter-widgets/base",
      "model_module_version": "1.2.0",
      "model_name": "LayoutModel",
      "state": {}
     },
     "de0a756f527243ec9aa47d2b16d13375": {
      "model_module": "@jupyter-widgets/base",
      "model_module_version": "1.2.0",
      "model_name": "LayoutModel",
      "state": {}
     },
     "de17fe616a414e1086393e73a57097ef": {
      "model_module": "@jupyter-widgets/controls",
      "model_module_version": "1.5.0",
      "model_name": "FloatProgressModel",
      "state": {
       "bar_style": "success",
       "description": "Run 66 of 156 [PID: 21993]: 100%",
       "layout": "IPY_MODEL_67d7434c0d2d42f2bb1c81a118abf254",
       "max": 8760,
       "style": "IPY_MODEL_af8046f41a8c4bf4bf6b68ebac217f91",
       "value": 8760
      }
     },
     "de361ee889ee4022b1fa0b66ddc99e1f": {
      "model_module": "@jupyter-widgets/controls",
      "model_module_version": "1.5.0",
      "model_name": "FloatProgressModel",
      "state": {
       "bar_style": "success",
       "description": "poop: 100%",
       "layout": "IPY_MODEL_b0b6c7fad79d4974a60b3d19164ba667",
       "max": 8760,
       "style": "IPY_MODEL_27275f04e3f64b33a9dc916aff858b45",
       "value": 8760
      }
     },
     "de50dd8374b448a5bec696010035b184": {
      "model_module": "@jupyter-widgets/controls",
      "model_module_version": "1.5.0",
      "model_name": "HBoxModel",
      "state": {
       "children": [
        "IPY_MODEL_8c2d1743d0764d52879ac41958a70328",
        "IPY_MODEL_f0b50db0fd2c440093d25a541e2aa38a"
       ],
       "layout": "IPY_MODEL_3aaf6075a31f4f12a452c56e8fccac53"
      }
     },
     "de56e5743e804dd8864a62ed90afa933": {
      "model_module": "@jupyter-widgets/controls",
      "model_module_version": "1.5.0",
      "model_name": "FloatProgressModel",
      "state": {
       "bar_style": "danger",
       "description": "poop:  20%",
       "layout": "IPY_MODEL_8fe09fd69a7f4e02913fd1ee8c8f985e",
       "max": 8760,
       "style": "IPY_MODEL_60265cc6bb374ff9b909ef70140821d8",
       "value": 1758
      }
     },
     "de662dade3164aacb5257a89820f7b4e": {
      "model_module": "@jupyter-widgets/controls",
      "model_module_version": "1.5.0",
      "model_name": "DescriptionStyleModel",
      "state": {
       "description_width": ""
      }
     },
     "de7e3a5aff404b0985001d1830f56e5b": {
      "model_module": "@jupyter-widgets/controls",
      "model_module_version": "1.5.0",
      "model_name": "HBoxModel",
      "state": {
       "children": [
        "IPY_MODEL_b39803b295fa47a39d0827717cca188b",
        "IPY_MODEL_25e5d4aa2a4c494984a8f56fd85b9f68"
       ],
       "layout": "IPY_MODEL_bad71db250fd46a0966f4e8626ea12a4"
      }
     },
     "deb04bbb4e5f495180ad6cbfdc60dabd": {
      "model_module": "@jupyter-widgets/controls",
      "model_module_version": "1.5.0",
      "model_name": "HTMLModel",
      "state": {
       "layout": "IPY_MODEL_6513b8db354e4288a41d534cb695bb5d",
       "style": "IPY_MODEL_a8fc66dbce5b4839a98e36f6b795d419",
       "value": " 8760/8760 [00:32&lt;00:00, 272.57steps/s]"
      }
     },
     "df1e8e7cc37e4558b7c7abdada30520d": {
      "model_module": "@jupyter-widgets/controls",
      "model_module_version": "1.5.0",
      "model_name": "HBoxModel",
      "state": {
       "children": [
        "IPY_MODEL_54db4b6606b94903b69f264537fb1785",
        "IPY_MODEL_a32ab513706346549649a661e49717d2"
       ],
       "layout": "IPY_MODEL_6615c244c5284557a8d098512a40eeed"
      }
     },
     "df3db5640bcf4e11a44f6657775f4667": {
      "model_module": "@jupyter-widgets/controls",
      "model_module_version": "1.5.0",
      "model_name": "DescriptionStyleModel",
      "state": {
       "description_width": ""
      }
     },
     "df5c41721727419c9f0f4abf02da1559": {
      "model_module": "@jupyter-widgets/controls",
      "model_module_version": "1.5.0",
      "model_name": "HTMLModel",
      "state": {
       "layout": "IPY_MODEL_49f94bbaac6d48619413ddd95e6bf052",
       "style": "IPY_MODEL_69ad1e4f40834d6da8d926820ce18f51",
       "value": " 8760/8760 [00:31&lt;00:00, 279.52steps/s]"
      }
     },
     "df61580bc3be45b686641a7377ca72ef": {
      "model_module": "@jupyter-widgets/base",
      "model_module_version": "1.2.0",
      "model_name": "LayoutModel",
      "state": {}
     },
     "df6d4429e97a40baa9c3aa4420d21b76": {
      "model_module": "@jupyter-widgets/base",
      "model_module_version": "1.2.0",
      "model_name": "LayoutModel",
      "state": {}
     },
     "df73cd8902824256bc22ff699d5b2328": {
      "model_module": "@jupyter-widgets/controls",
      "model_module_version": "1.5.0",
      "model_name": "ProgressStyleModel",
      "state": {
       "description_width": "initial"
      }
     },
     "dfa5581e851a435ebed089a2d5b15efe": {
      "model_module": "@jupyter-widgets/controls",
      "model_module_version": "1.5.0",
      "model_name": "DescriptionStyleModel",
      "state": {
       "description_width": ""
      }
     },
     "dfc7724fb2bf450b95e72bddceeb7809": {
      "model_module": "@jupyter-widgets/controls",
      "model_module_version": "1.5.0",
      "model_name": "ProgressStyleModel",
      "state": {
       "description_width": "initial"
      }
     },
     "dfdccc31e22343f5b4cc2897136cc372": {
      "model_module": "@jupyter-widgets/controls",
      "model_module_version": "1.5.0",
      "model_name": "FloatProgressModel",
      "state": {
       "bar_style": "success",
       "description": "poop: 100%",
       "layout": "IPY_MODEL_4e313723bdbb4ccdb584d2ade882b4f9",
       "max": 8760,
       "style": "IPY_MODEL_810b43e6a50546a8b33b6b7206ebfa2e",
       "value": 8760
      }
     },
     "e0019f15fbaa40de88b8cf5ed3ea2676": {
      "model_module": "@jupyter-widgets/controls",
      "model_module_version": "1.5.0",
      "model_name": "DescriptionStyleModel",
      "state": {
       "description_width": ""
      }
     },
     "e02b955e4b90480cbddf61684bb2885c": {
      "model_module": "@jupyter-widgets/controls",
      "model_module_version": "1.5.0",
      "model_name": "FloatProgressModel",
      "state": {
       "bar_style": "success",
       "description": "poop: 100%",
       "layout": "IPY_MODEL_74fed0f9874e4ffbb7370441ea3e0f37",
       "max": 8760,
       "style": "IPY_MODEL_56dc9a804b5946648d3d1d9c5dbe17ea",
       "value": 8760
      }
     },
     "e03706d35a154f968aacb0473f9af1b5": {
      "model_module": "@jupyter-widgets/controls",
      "model_module_version": "1.5.0",
      "model_name": "FloatProgressModel",
      "state": {
       "bar_style": "success",
       "description": "poop: 100%",
       "layout": "IPY_MODEL_2a1881fa0d74437da43b46c574529639",
       "max": 8760,
       "style": "IPY_MODEL_86f20d3b407a4d52b22dc1258a96937d",
       "value": 8760
      }
     },
     "e064f273bab346e8aed45b3d6a431258": {
      "model_module": "@jupyter-widgets/base",
      "model_module_version": "1.2.0",
      "model_name": "LayoutModel",
      "state": {}
     },
     "e088a5adc3864570a68d05fbd160e96f": {
      "model_module": "@jupyter-widgets/base",
      "model_module_version": "1.2.0",
      "model_name": "LayoutModel",
      "state": {}
     },
     "e0a791162f5543578c851e1113f9740a": {
      "model_module": "@jupyter-widgets/base",
      "model_module_version": "1.2.0",
      "model_name": "LayoutModel",
      "state": {}
     },
     "e0ccbafb4d7c4f27b258de4d45abf558": {
      "model_module": "@jupyter-widgets/controls",
      "model_module_version": "1.5.0",
      "model_name": "ProgressStyleModel",
      "state": {
       "description_width": "initial"
      }
     },
     "e0ee5a2b866e45c7acb48152b4655a34": {
      "model_module": "@jupyter-widgets/controls",
      "model_module_version": "1.5.0",
      "model_name": "ProgressStyleModel",
      "state": {
       "description_width": "initial"
      }
     },
     "e11900bfa1dd46c18c29159c594e3abe": {
      "model_module": "@jupyter-widgets/base",
      "model_module_version": "1.2.0",
      "model_name": "LayoutModel",
      "state": {}
     },
     "e12f8efc03e84d878821a241ed690f35": {
      "model_module": "@jupyter-widgets/base",
      "model_module_version": "1.2.0",
      "model_name": "LayoutModel",
      "state": {}
     },
     "e13c7b8ac63d437ea942fac1d62805dc": {
      "model_module": "@jupyter-widgets/controls",
      "model_module_version": "1.5.0",
      "model_name": "HTMLModel",
      "state": {
       "layout": "IPY_MODEL_ceae1b9469224422b3f6ecec7359ed34",
       "style": "IPY_MODEL_2db1d42234074b54a343570c465ba84e",
       "value": " 8760/8760 [00:31&lt;00:00, 277.41steps/s]"
      }
     },
     "e145aa0ca407467bb9ffe6b8b871c003": {
      "model_module": "@jupyter-widgets/base",
      "model_module_version": "1.2.0",
      "model_name": "LayoutModel",
      "state": {}
     },
     "e14734e22854426eb76df0e64920945e": {
      "model_module": "@jupyter-widgets/controls",
      "model_module_version": "1.5.0",
      "model_name": "DescriptionStyleModel",
      "state": {
       "description_width": ""
      }
     },
     "e14fe3db5e984999a87b57fc32fab041": {
      "model_module": "@jupyter-widgets/base",
      "model_module_version": "1.2.0",
      "model_name": "LayoutModel",
      "state": {}
     },
     "e1e63747fabf4866bb1898fb3b5797e3": {
      "model_module": "@jupyter-widgets/base",
      "model_module_version": "1.2.0",
      "model_name": "LayoutModel",
      "state": {}
     },
     "e21a618c2f3f4829a97ad79d3b3192f7": {
      "model_module": "@jupyter-widgets/controls",
      "model_module_version": "1.5.0",
      "model_name": "FloatProgressModel",
      "state": {
       "bar_style": "success",
       "description": "Run 69 of 156 [PID: 21991]: 100%",
       "layout": "IPY_MODEL_043a8b7908254c2a9d42f0e82ba3982a",
       "max": 8760,
       "style": "IPY_MODEL_cd06fe6d77f6491cb7a56ec8c7807281",
       "value": 8760
      }
     },
     "e2484f8ff054457aa50d133f264bd6ff": {
      "model_module": "@jupyter-widgets/base",
      "model_module_version": "1.2.0",
      "model_name": "LayoutModel",
      "state": {}
     },
     "e248b660aa084621a7f79c139460af9e": {
      "model_module": "@jupyter-widgets/controls",
      "model_module_version": "1.5.0",
      "model_name": "HBoxModel",
      "state": {
       "children": [
        "IPY_MODEL_8889ebcb357146f68ae4d00a0025a833",
        "IPY_MODEL_5434309618a64da88504cb5c758ad959"
       ],
       "layout": "IPY_MODEL_cff138bfa01c4fa292a51bbaadb19e16"
      }
     },
     "e25020ef1b954d21a28260fd75110463": {
      "model_module": "@jupyter-widgets/controls",
      "model_module_version": "1.5.0",
      "model_name": "HTMLModel",
      "state": {
       "layout": "IPY_MODEL_0277d21610da4dee813f7924b19c9485",
       "style": "IPY_MODEL_159c511dced2461cb076d976bd0ca13b",
       "value": " 8760/8760 [00:31&lt;00:00, 282.20steps/s]"
      }
     },
     "e25b01b001304a0e936d725c372ec23a": {
      "model_module": "@jupyter-widgets/controls",
      "model_module_version": "1.5.0",
      "model_name": "HTMLModel",
      "state": {
       "layout": "IPY_MODEL_3de0ee3a860e400294f7945f22d37de1",
       "style": "IPY_MODEL_4663d41687d34776a67ce847adf97779",
       "value": " 8760/8760 [00:30&lt;00:00, 284.86steps/s]"
      }
     },
     "e25e436cca5d4e9ea14eab01016597a5": {
      "model_module": "@jupyter-widgets/controls",
      "model_module_version": "1.5.0",
      "model_name": "HBoxModel",
      "state": {
       "children": [
        "IPY_MODEL_fbd2c0ceca864c9ba9cc19fcb3e7e7b9",
        "IPY_MODEL_66965ebe6c7e4005b3769af9ee3bb6a6"
       ],
       "layout": "IPY_MODEL_a3365b82a3af4ba2ad9e455fb99de656"
      }
     },
     "e2614cb57cf646ef94304f5ad38ae638": {
      "model_module": "@jupyter-widgets/controls",
      "model_module_version": "1.5.0",
      "model_name": "ProgressStyleModel",
      "state": {
       "description_width": "initial"
      }
     },
     "e28b7835abc3414eb7569e28f9e141f1": {
      "model_module": "@jupyter-widgets/controls",
      "model_module_version": "1.5.0",
      "model_name": "DescriptionStyleModel",
      "state": {
       "description_width": ""
      }
     },
     "e291f993f6ea444eab6b5c53614b54c5": {
      "model_module": "@jupyter-widgets/base",
      "model_module_version": "1.2.0",
      "model_name": "LayoutModel",
      "state": {}
     },
     "e296d9b530f0461b9434e5aa217598d6": {
      "model_module": "@jupyter-widgets/controls",
      "model_module_version": "1.5.0",
      "model_name": "DescriptionStyleModel",
      "state": {
       "description_width": ""
      }
     },
     "e2ada72acd9546a8bf8bf4e10c8f17da": {
      "model_module": "@jupyter-widgets/base",
      "model_module_version": "1.2.0",
      "model_name": "LayoutModel",
      "state": {}
     },
     "e2b4235050c74918aa041244f4c70a09": {
      "model_module": "@jupyter-widgets/base",
      "model_module_version": "1.2.0",
      "model_name": "LayoutModel",
      "state": {}
     },
     "e2d935fe6d4a4a4a92f05d10bf9820b9": {
      "model_module": "@jupyter-widgets/controls",
      "model_module_version": "1.5.0",
      "model_name": "HTMLModel",
      "state": {
       "layout": "IPY_MODEL_d499e55510384bf88dcd008a08e441d7",
       "style": "IPY_MODEL_66dfcea7c3014988a19c9284b9703ef1",
       "value": " 88699/175320 [3:31:58&lt;5:25:10,  4.44steps/s]"
      }
     },
     "e2da2ee5973642928126d11b45f3ee93": {
      "model_module": "@jupyter-widgets/base",
      "model_module_version": "1.2.0",
      "model_name": "LayoutModel",
      "state": {}
     },
     "e2dac1adff5a48dd811f6c28e2081ece": {
      "model_module": "@jupyter-widgets/controls",
      "model_module_version": "1.5.0",
      "model_name": "HTMLModel",
      "state": {
       "layout": "IPY_MODEL_e8ef4f35678543958e8661241a9150ce",
       "style": "IPY_MODEL_73869079b088493eab3e274b61c94e9b",
       "value": " 8760/8760 [00:30&lt;00:00, 283.26steps/s]"
      }
     },
     "e2dc6f4bbae0456793f73d166f7d6463": {
      "model_module": "@jupyter-widgets/controls",
      "model_module_version": "1.5.0",
      "model_name": "DescriptionStyleModel",
      "state": {
       "description_width": ""
      }
     },
     "e2f81dd5b1f34defb0d76c64088460d8": {
      "model_module": "@jupyter-widgets/controls",
      "model_module_version": "1.5.0",
      "model_name": "ProgressStyleModel",
      "state": {
       "description_width": "initial"
      }
     },
     "e3245ccde9aa4655a2acb4e1986e72fe": {
      "model_module": "@jupyter-widgets/base",
      "model_module_version": "1.2.0",
      "model_name": "LayoutModel",
      "state": {}
     },
     "e370cddea6134be3944208bf66e5058c": {
      "model_module": "@jupyter-widgets/base",
      "model_module_version": "1.2.0",
      "model_name": "LayoutModel",
      "state": {}
     },
     "e371620e5d0347c9bba24efa0ca6e912": {
      "model_module": "@jupyter-widgets/controls",
      "model_module_version": "1.5.0",
      "model_name": "DescriptionStyleModel",
      "state": {
       "description_width": ""
      }
     },
     "e37a659157274042bc7b50cde93f7af6": {
      "model_module": "@jupyter-widgets/controls",
      "model_module_version": "1.5.0",
      "model_name": "DescriptionStyleModel",
      "state": {
       "description_width": ""
      }
     },
     "e388d85869bf407fa4ee70b5d6dc1b62": {
      "model_module": "@jupyter-widgets/controls",
      "model_module_version": "1.5.0",
      "model_name": "FloatProgressModel",
      "state": {
       "description": "Run 77 of 156 [PID: 72848]:  53%",
       "layout": "IPY_MODEL_6757653415d9465eb131e1aedf45be8f",
       "max": 175320,
       "style": "IPY_MODEL_637d2095afd344928f83db6457ec1fb8",
       "value": 93700
      }
     },
     "e38d0b6cf1cf46618bcb1e9208b9f18d": {
      "model_module": "@jupyter-widgets/base",
      "model_module_version": "1.2.0",
      "model_name": "LayoutModel",
      "state": {}
     },
     "e3a201907c254418b45b25f48aaafcd3": {
      "model_module": "@jupyter-widgets/base",
      "model_module_version": "1.2.0",
      "model_name": "LayoutModel",
      "state": {}
     },
     "e402a06ef57848be9732e6dc934eee09": {
      "model_module": "@jupyter-widgets/base",
      "model_module_version": "1.2.0",
      "model_name": "LayoutModel",
      "state": {}
     },
     "e424fdaa7a284b45bcc0ca07c47fa8a7": {
      "model_module": "@jupyter-widgets/base",
      "model_module_version": "1.2.0",
      "model_name": "LayoutModel",
      "state": {}
     },
     "e4497d24a17041bcad45bccc4d347ad0": {
      "model_module": "@jupyter-widgets/controls",
      "model_module_version": "1.5.0",
      "model_name": "ProgressStyleModel",
      "state": {
       "description_width": "initial"
      }
     },
     "e450d3dcdcc74317b3ada0317e7749e2": {
      "model_module": "@jupyter-widgets/base",
      "model_module_version": "1.2.0",
      "model_name": "LayoutModel",
      "state": {}
     },
     "e4793fe0b57f4d7b9525ec3e9e80d17a": {
      "model_module": "@jupyter-widgets/base",
      "model_module_version": "1.2.0",
      "model_name": "LayoutModel",
      "state": {}
     },
     "e4e39207b38047a0bcf6784f299b27f6": {
      "model_module": "@jupyter-widgets/controls",
      "model_module_version": "1.5.0",
      "model_name": "DescriptionStyleModel",
      "state": {
       "description_width": ""
      }
     },
     "e4e44464d506490f81c0b0b7d71223b7": {
      "model_module": "@jupyter-widgets/controls",
      "model_module_version": "1.5.0",
      "model_name": "DescriptionStyleModel",
      "state": {
       "description_width": ""
      }
     },
     "e500b71088d84c43a2e81b5e59c784c7": {
      "model_module": "@jupyter-widgets/base",
      "model_module_version": "1.2.0",
      "model_name": "LayoutModel",
      "state": {}
     },
     "e505964305b045c8b78cfe4bdef33598": {
      "model_module": "@jupyter-widgets/base",
      "model_module_version": "1.2.0",
      "model_name": "LayoutModel",
      "state": {}
     },
     "e51a34d6d3d04c66849cf3ceacc4908d": {
      "model_module": "@jupyter-widgets/controls",
      "model_module_version": "1.5.0",
      "model_name": "HBoxModel",
      "state": {
       "children": [
        "IPY_MODEL_9e1f9e26d687491c84f7f583d487934d",
        "IPY_MODEL_6a7b779f94e84e9ebb490f869cc54c1d"
       ],
       "layout": "IPY_MODEL_d356fbb2ea7c4e57a553710a1ab14279"
      }
     },
     "e52b6ec8753d45e1b73e26f53b1eaf68": {
      "model_module": "@jupyter-widgets/controls",
      "model_module_version": "1.5.0",
      "model_name": "HBoxModel",
      "state": {
       "children": [
        "IPY_MODEL_9be7dcc869e944beac82d363b62abe1b",
        "IPY_MODEL_2346fe47ed85481faa0353c17a48e904"
       ],
       "layout": "IPY_MODEL_eff67e10cd134d9f8a75a5ebb67e92d6"
      }
     },
     "e544176e65da41bd8a224863c5a7d49f": {
      "model_module": "@jupyter-widgets/controls",
      "model_module_version": "1.5.0",
      "model_name": "ProgressStyleModel",
      "state": {
       "description_width": "initial"
      }
     },
     "e56a0b4a92c44714b7b712c0f19802e9": {
      "model_module": "@jupyter-widgets/controls",
      "model_module_version": "1.5.0",
      "model_name": "FloatProgressModel",
      "state": {
       "bar_style": "success",
       "description": "poop: 100%",
       "layout": "IPY_MODEL_33c751fe3bab4e34bf372f11c1c3f6a8",
       "max": 8760,
       "style": "IPY_MODEL_a762c15f39a74b109f7b7c011e8e0b6b",
       "value": 8760
      }
     },
     "e581165f57914f1087bb24e243c4ef96": {
      "model_module": "@jupyter-widgets/controls",
      "model_module_version": "1.5.0",
      "model_name": "FloatProgressModel",
      "state": {
       "description": "Run 65 of 156 [PID: 72854]:  58%",
       "layout": "IPY_MODEL_5e71a4e463a14dee9b0905ea6ec0e7ac",
       "max": 175320,
       "style": "IPY_MODEL_6b5c725938c242019c5c8c436e269fba",
       "value": 101381
      }
     },
     "e58b858513f2484fbd7c6805b2156df6": {
      "model_module": "@jupyter-widgets/controls",
      "model_module_version": "1.5.0",
      "model_name": "HBoxModel",
      "state": {
       "children": [
        "IPY_MODEL_22e65472b75a4de5aeb498662669e0d8",
        "IPY_MODEL_b9fb3d94f9ed49d5966775ac485f64a3"
       ],
       "layout": "IPY_MODEL_b29d5775466c4ef09e9259b8af4097b3"
      }
     },
     "e59d0779be5b418b801873f78a1d26d6": {
      "model_module": "@jupyter-widgets/controls",
      "model_module_version": "1.5.0",
      "model_name": "HBoxModel",
      "state": {
       "children": [
        "IPY_MODEL_23469c2752194fbe8619c862c400fdab",
        "IPY_MODEL_eff5e7a947544705a2f3eb85960ad041"
       ],
       "layout": "IPY_MODEL_5d5ab96b10f4492f8e3d55cb1833aa7e"
      }
     },
     "e5b397d500b84777b8f64fd8e86077f9": {
      "model_module": "@jupyter-widgets/base",
      "model_module_version": "1.2.0",
      "model_name": "LayoutModel",
      "state": {}
     },
     "e5be245e9884461498f9a1f9d28dab08": {
      "model_module": "@jupyter-widgets/controls",
      "model_module_version": "1.5.0",
      "model_name": "ProgressStyleModel",
      "state": {
       "description_width": "initial"
      }
     },
     "e5f2193c4a0d4b6a969507a73d81ab4c": {
      "model_module": "@jupyter-widgets/controls",
      "model_module_version": "1.5.0",
      "model_name": "ProgressStyleModel",
      "state": {
       "description_width": "initial"
      }
     },
     "e5f5b30b06f84cdcb3ef2bc04d811bf2": {
      "model_module": "@jupyter-widgets/controls",
      "model_module_version": "1.5.0",
      "model_name": "FloatProgressModel",
      "state": {
       "bar_style": "success",
       "description": "poop: 100%",
       "layout": "IPY_MODEL_f577e11d995b4561b02336063e0ae96e",
       "max": 8760,
       "style": "IPY_MODEL_64309fc0aebb42039c9deebb3aeb3315",
       "value": 8760
      }
     },
     "e5fd5c2c223f407182c0f3c7390224b9": {
      "model_module": "@jupyter-widgets/base",
      "model_module_version": "1.2.0",
      "model_name": "LayoutModel",
      "state": {}
     },
     "e609c3f5135e4f498f307627531c18fa": {
      "model_module": "@jupyter-widgets/controls",
      "model_module_version": "1.5.0",
      "model_name": "DescriptionStyleModel",
      "state": {
       "description_width": ""
      }
     },
     "e60c4fe330b944a9b6c4059380b59805": {
      "model_module": "@jupyter-widgets/controls",
      "model_module_version": "1.5.0",
      "model_name": "HTMLModel",
      "state": {
       "layout": "IPY_MODEL_c9c8d795f4094982848b708dd95562ed",
       "style": "IPY_MODEL_b064823a5c404723b25f6ce667374f79",
       "value": " 1758/8760 [00:06&lt;00:25, 277.49steps/s]"
      }
     },
     "e612f5d60ab1458a9584cc1a13a54122": {
      "model_module": "@jupyter-widgets/controls",
      "model_module_version": "1.5.0",
      "model_name": "FloatProgressModel",
      "state": {
       "bar_style": "success",
       "description": "100%",
       "layout": "IPY_MODEL_19f7dfebc3364701af22fa2dcf15db75",
       "max": 8760,
       "style": "IPY_MODEL_7f5a81e4c9c046918180c77d2f3601e8",
       "value": 8760
      }
     },
     "e624092487044bd4818d6e42de2b53c8": {
      "model_module": "@jupyter-widgets/controls",
      "model_module_version": "1.5.0",
      "model_name": "FloatProgressModel",
      "state": {
       "description": "Run 1 of 156 [PID: 40982]:   0%",
       "layout": "IPY_MODEL_435705b2fb5e4e13bac3007ad5930439",
       "max": 8760,
       "style": "IPY_MODEL_afe09c1d61ce4f8d888bb70df564601c"
      }
     },
     "e6317fbff26240c592ac8bcba74484fe": {
      "model_module": "@jupyter-widgets/controls",
      "model_module_version": "1.5.0",
      "model_name": "HTMLModel",
      "state": {
       "layout": "IPY_MODEL_56f6990c42c3464a90fc5b621b2d9114",
       "style": "IPY_MODEL_2fdd99a0c0424fc292a8f38bdc717333",
       "value": " 82561/175320 [3:14:27&lt;4:30:15,  5.72steps/s]"
      }
     },
     "e636054dc0bf4c7ba460050740af1497": {
      "model_module": "@jupyter-widgets/base",
      "model_module_version": "1.2.0",
      "model_name": "LayoutModel",
      "state": {}
     },
     "e64d3c1e330447dc8655ed96795372d5": {
      "model_module": "@jupyter-widgets/base",
      "model_module_version": "1.2.0",
      "model_name": "LayoutModel",
      "state": {}
     },
     "e66e5db3043b4eb4ade2b2cfc73945d5": {
      "model_module": "@jupyter-widgets/controls",
      "model_module_version": "1.5.0",
      "model_name": "FloatProgressModel",
      "state": {
       "bar_style": "success",
       "description": "Run 52 of 156 [PID: 21990]: 100%",
       "layout": "IPY_MODEL_4a77ab402262469f8aed2c7a366b503b",
       "max": 8760,
       "style": "IPY_MODEL_35858106b4204598a74813dc7ec98820",
       "value": 8760
      }
     },
     "e6704424d4264345965a7b9b3fedcaa7": {
      "model_module": "@jupyter-widgets/controls",
      "model_module_version": "1.5.0",
      "model_name": "DescriptionStyleModel",
      "state": {
       "description_width": ""
      }
     },
     "e6877f18c0b64ca1bc036ffe8a71c293": {
      "model_module": "@jupyter-widgets/controls",
      "model_module_version": "1.5.0",
      "model_name": "HTMLModel",
      "state": {
       "layout": "IPY_MODEL_33d22f982b1d4c1ba45cab07deed4fb1",
       "style": "IPY_MODEL_31217d849f4f4da88228b3fa1c52bf00",
       "value": " 8760/8760 [02:02&lt;00:00, 71.35steps/s]"
      }
     },
     "e688de5184f9462e82559d4e0328cb3a": {
      "model_module": "@jupyter-widgets/controls",
      "model_module_version": "1.5.0",
      "model_name": "DescriptionStyleModel",
      "state": {
       "description_width": ""
      }
     },
     "e690a67d03d947f4b184482a641470e6": {
      "model_module": "@jupyter-widgets/controls",
      "model_module_version": "1.5.0",
      "model_name": "HBoxModel",
      "state": {
       "children": [
        "IPY_MODEL_6ba1bab897e844e1a46a53af44a2655b",
        "IPY_MODEL_645a2bd0d4b24dba972763a541ef497c"
       ],
       "layout": "IPY_MODEL_4279f1f0d7d7436db819b3a29b2b11f3"
      }
     },
     "e6976a2ebf274ee8a283c0985747fa04": {
      "model_module": "@jupyter-widgets/controls",
      "model_module_version": "1.5.0",
      "model_name": "ProgressStyleModel",
      "state": {
       "description_width": "initial"
      }
     },
     "e6a6e269306a402791c578482c715c86": {
      "model_module": "@jupyter-widgets/base",
      "model_module_version": "1.2.0",
      "model_name": "LayoutModel",
      "state": {}
     },
     "e6bb6b6783df44be85b299b4682fdfb0": {
      "model_module": "@jupyter-widgets/controls",
      "model_module_version": "1.5.0",
      "model_name": "ProgressStyleModel",
      "state": {
       "description_width": "initial"
      }
     },
     "e6c9340df8324b88b51c9c119792cc9e": {
      "model_module": "@jupyter-widgets/base",
      "model_module_version": "1.2.0",
      "model_name": "LayoutModel",
      "state": {}
     },
     "e6c95c7ca91146a7b680333794096b35": {
      "model_module": "@jupyter-widgets/controls",
      "model_module_version": "1.5.0",
      "model_name": "HTMLModel",
      "state": {
       "layout": "IPY_MODEL_cd50b80dc1a64c1385df7d71eda666fd",
       "style": "IPY_MODEL_efd8d6dbdcd248c390f8697275b97c25",
       "value": " 8760/8760 [00:30&lt;00:00, 283.89steps/s]"
      }
     },
     "e6cedee2f9064f11935affd3f0dd0ca8": {
      "model_module": "@jupyter-widgets/base",
      "model_module_version": "1.2.0",
      "model_name": "LayoutModel",
      "state": {}
     },
     "e6d22185a1184ce1b94a28bf4c5c253c": {
      "model_module": "@jupyter-widgets/controls",
      "model_module_version": "1.5.0",
      "model_name": "FloatProgressModel",
      "state": {
       "bar_style": "success",
       "description": "Run 15 of 156 [PID: 45697]: 100%",
       "layout": "IPY_MODEL_6bd2c179ba774cb69d2f0c30ef1f47c8",
       "max": 8760,
       "style": "IPY_MODEL_d51ebfa3e27547aea4717ae5a5cb57b6",
       "value": 8760
      }
     },
     "e6d804a729fd4459b0543f5c179925af": {
      "model_module": "@jupyter-widgets/controls",
      "model_module_version": "1.5.0",
      "model_name": "HBoxModel",
      "state": {
       "children": [
        "IPY_MODEL_4a6d1233cd444371bf03f3c94698fb55",
        "IPY_MODEL_80ca4134e0d0473a8258accf9f41c2c5"
       ],
       "layout": "IPY_MODEL_1461b0151ea84d2d847cdb929aa32503"
      }
     },
     "e6df8bcccffd42f3bcfa94df37e9b25a": {
      "model_module": "@jupyter-widgets/controls",
      "model_module_version": "1.5.0",
      "model_name": "HBoxModel",
      "state": {
       "children": [
        "IPY_MODEL_7e259b6a82b746da9f13fa50532119ce",
        "IPY_MODEL_9f3175c713074d999e586755be7faabe"
       ],
       "layout": "IPY_MODEL_d46150a80b26415e975305df176ee861"
      }
     },
     "e7055e6d6e5c4c7a8283e98c1b2c8e8c": {
      "model_module": "@jupyter-widgets/base",
      "model_module_version": "1.2.0",
      "model_name": "LayoutModel",
      "state": {}
     },
     "e70a0dad8a344b78b7af2b49af670587": {
      "model_module": "@jupyter-widgets/controls",
      "model_module_version": "1.5.0",
      "model_name": "HTMLModel",
      "state": {
       "layout": "IPY_MODEL_7b238e8330f74153a17c024b99329828",
       "style": "IPY_MODEL_7bc0ec85f3e64aa39443eefde7898d84",
       "value": " 8760/8760 [01:01&lt;00:00, 142.88steps/s]"
      }
     },
     "e7698c8cafe041de86d9441d22de381a": {
      "model_module": "@jupyter-widgets/base",
      "model_module_version": "1.2.0",
      "model_name": "LayoutModel",
      "state": {}
     },
     "e79911c60a944f82bd4225d91f86fb43": {
      "model_module": "@jupyter-widgets/controls",
      "model_module_version": "1.5.0",
      "model_name": "FloatProgressModel",
      "state": {
       "bar_style": "success",
       "description": "Run 38 of 156 [PID: 21990]: 100%",
       "layout": "IPY_MODEL_60a21fa0b7a5464b85e11680b4f43124",
       "max": 8760,
       "style": "IPY_MODEL_83b7372a87a84b4f8798d9789290fa8e",
       "value": 8760
      }
     },
     "e7be08603e4a40da8763db4050037415": {
      "model_module": "@jupyter-widgets/controls",
      "model_module_version": "1.5.0",
      "model_name": "ProgressStyleModel",
      "state": {
       "description_width": "initial"
      }
     },
     "e7e32c199dbc4a4681d4ea94b45d3bb8": {
      "model_module": "@jupyter-widgets/controls",
      "model_module_version": "1.5.0",
      "model_name": "FloatProgressModel",
      "state": {
       "bar_style": "success",
       "description": "Run 60 of 156 [PID: 21985]: 100%",
       "layout": "IPY_MODEL_cf541d693c7a4cd39903e5476a5cc4af",
       "max": 8760,
       "style": "IPY_MODEL_5a34e50fe9774095848185ea18a486cc",
       "value": 8760
      }
     },
     "e8553fafe6da4362af969218e0740d45": {
      "model_module": "@jupyter-widgets/base",
      "model_module_version": "1.2.0",
      "model_name": "LayoutModel",
      "state": {}
     },
     "e8adb8bc1fe24d21a6017cd3923c4c0a": {
      "model_module": "@jupyter-widgets/controls",
      "model_module_version": "1.5.0",
      "model_name": "HBoxModel",
      "state": {
       "children": [
        "IPY_MODEL_a79dba69ce6e4a22ba0e2bf2c51c4464",
        "IPY_MODEL_ea95e995f145493eb8ba9e3e31bf4dbb"
       ],
       "layout": "IPY_MODEL_1b349b0d89a241c0a69e43040e1c2065"
      }
     },
     "e8b091f76b87489e8f9712a8cc9f75cd": {
      "model_module": "@jupyter-widgets/controls",
      "model_module_version": "1.5.0",
      "model_name": "FloatProgressModel",
      "state": {
       "bar_style": "success",
       "description": "poop: 100%",
       "layout": "IPY_MODEL_7e2d2bede7e640479a940a6cccb3a05e",
       "max": 8760,
       "style": "IPY_MODEL_4cee74d1fc694141a05c9f1d751d76d9",
       "value": 8760
      }
     },
     "e8c9ec5571f04327a3990c622e82d604": {
      "model_module": "@jupyter-widgets/base",
      "model_module_version": "1.2.0",
      "model_name": "LayoutModel",
      "state": {}
     },
     "e8ef4f35678543958e8661241a9150ce": {
      "model_module": "@jupyter-widgets/base",
      "model_module_version": "1.2.0",
      "model_name": "LayoutModel",
      "state": {}
     },
     "e917509d66d6400fb2fa4fa348e8940b": {
      "model_module": "@jupyter-widgets/base",
      "model_module_version": "1.2.0",
      "model_name": "LayoutModel",
      "state": {}
     },
     "e94d68dcb115431cbd5e921d99f4a8ad": {
      "model_module": "@jupyter-widgets/base",
      "model_module_version": "1.2.0",
      "model_name": "LayoutModel",
      "state": {}
     },
     "e9a5cf9749e942b4804a72239c1eb00f": {
      "model_module": "@jupyter-widgets/controls",
      "model_module_version": "1.5.0",
      "model_name": "ProgressStyleModel",
      "state": {
       "description_width": "initial"
      }
     },
     "e9b1fad95b49423aa1bac0eee5ed3525": {
      "model_module": "@jupyter-widgets/base",
      "model_module_version": "1.2.0",
      "model_name": "LayoutModel",
      "state": {}
     },
     "e9c8cf80ee1b46c4956b723b437961b1": {
      "model_module": "@jupyter-widgets/base",
      "model_module_version": "1.2.0",
      "model_name": "LayoutModel",
      "state": {}
     },
     "e9dc639a510f4d418bd54447307e57d9": {
      "model_module": "@jupyter-widgets/controls",
      "model_module_version": "1.5.0",
      "model_name": "HBoxModel",
      "state": {
       "children": [
        "IPY_MODEL_175b53f7918048e5b1657a525efc998f",
        "IPY_MODEL_8cbc22dc03b34460bf6d7dfa725ee16c"
       ],
       "layout": "IPY_MODEL_2304bed4fd0c4041afa279dc4f2f926f"
      }
     },
     "e9e4d516486a4a6da892ceb4c8f3dd71": {
      "model_module": "@jupyter-widgets/controls",
      "model_module_version": "1.5.0",
      "model_name": "HBoxModel",
      "state": {
       "children": [
        "IPY_MODEL_e7e32c199dbc4a4681d4ea94b45d3bb8",
        "IPY_MODEL_0ed85cae4f844035b0fc3daffd9768da"
       ],
       "layout": "IPY_MODEL_c7c47897d9e642fa9f29c9e3ab41b904"
      }
     },
     "e9f6535cffb049ce9326e44819589d96": {
      "model_module": "@jupyter-widgets/base",
      "model_module_version": "1.2.0",
      "model_name": "LayoutModel",
      "state": {}
     },
     "ea21b6e2b95940f0a5c0af2c576246e8": {
      "model_module": "@jupyter-widgets/controls",
      "model_module_version": "1.5.0",
      "model_name": "DescriptionStyleModel",
      "state": {
       "description_width": ""
      }
     },
     "ea593ce096414cfb818a057e9e7584d0": {
      "model_module": "@jupyter-widgets/base",
      "model_module_version": "1.2.0",
      "model_name": "LayoutModel",
      "state": {}
     },
     "ea60ebfa2302432fa863a520c2d0524d": {
      "model_module": "@jupyter-widgets/base",
      "model_module_version": "1.2.0",
      "model_name": "LayoutModel",
      "state": {}
     },
     "ea6ad013acfa4f8ba62397c4d66ca69d": {
      "model_module": "@jupyter-widgets/controls",
      "model_module_version": "1.5.0",
      "model_name": "HTMLModel",
      "state": {
       "layout": "IPY_MODEL_e7055e6d6e5c4c7a8283e98c1b2c8e8c",
       "style": "IPY_MODEL_7cec19f61c814f4391779ebb7f99f54f",
       "value": " 8760/8760 [00:31&lt;00:00, 282.43steps/s]"
      }
     },
     "ea70293f2b9d40539451dedf62dec3c0": {
      "model_module": "@jupyter-widgets/controls",
      "model_module_version": "1.5.0",
      "model_name": "DescriptionStyleModel",
      "state": {
       "description_width": ""
      }
     },
     "ea95e995f145493eb8ba9e3e31bf4dbb": {
      "model_module": "@jupyter-widgets/controls",
      "model_module_version": "1.5.0",
      "model_name": "HTMLModel",
      "state": {
       "layout": "IPY_MODEL_32d9d3198ab545bc8a22d054b7d8b446",
       "style": "IPY_MODEL_34479e4d694346689c961e26bcacabe5",
       "value": " 8760/8760 [00:29&lt;00:00, 292.02steps/s]"
      }
     },
     "ea99b3818d344a64ab553e25b03da323": {
      "model_module": "@jupyter-widgets/controls",
      "model_module_version": "1.5.0",
      "model_name": "HBoxModel",
      "state": {
       "children": [
        "IPY_MODEL_1bd70d5864d34bd19e84d3d30bb6c86a",
        "IPY_MODEL_886ce1990641459f9ba20929d3a37aa4"
       ],
       "layout": "IPY_MODEL_d04b9dad0209497987ef7d9e42eb0f6a"
      }
     },
     "ea9ccfab6a814f07bdda5f1b9d353178": {
      "model_module": "@jupyter-widgets/base",
      "model_module_version": "1.2.0",
      "model_name": "LayoutModel",
      "state": {}
     },
     "eaa26df494704533bca148a5b5c615d5": {
      "model_module": "@jupyter-widgets/base",
      "model_module_version": "1.2.0",
      "model_name": "LayoutModel",
      "state": {}
     },
     "eb02634ded38478ea70a8579ec173d10": {
      "model_module": "@jupyter-widgets/base",
      "model_module_version": "1.2.0",
      "model_name": "LayoutModel",
      "state": {}
     },
     "eb093ba0fec8476b9480f306bd20d7fe": {
      "model_module": "@jupyter-widgets/base",
      "model_module_version": "1.2.0",
      "model_name": "LayoutModel",
      "state": {}
     },
     "eb3534e5915e4b91bf829aacaaf2b8af": {
      "model_module": "@jupyter-widgets/controls",
      "model_module_version": "1.5.0",
      "model_name": "DescriptionStyleModel",
      "state": {
       "description_width": ""
      }
     },
     "eb42ab8cc7d84c218ee7e4418b365d35": {
      "model_module": "@jupyter-widgets/base",
      "model_module_version": "1.2.0",
      "model_name": "LayoutModel",
      "state": {}
     },
     "eb54308be2d547719a256bb6bd1cb67b": {
      "model_module": "@jupyter-widgets/base",
      "model_module_version": "1.2.0",
      "model_name": "LayoutModel",
      "state": {}
     },
     "eb6b08c94b0d47ecb77ee3d4332bb9eb": {
      "model_module": "@jupyter-widgets/base",
      "model_module_version": "1.2.0",
      "model_name": "LayoutModel",
      "state": {}
     },
     "eb6b49af58fc4161b9086c2da9edeca0": {
      "model_module": "@jupyter-widgets/controls",
      "model_module_version": "1.5.0",
      "model_name": "FloatProgressModel",
      "state": {
       "bar_style": "success",
       "description": "poop: 100%",
       "layout": "IPY_MODEL_4bd4c2ccb1c641e182a1908f1ccd59f8",
       "max": 8760,
       "style": "IPY_MODEL_cbe9eb496c754ed59a3ce86fd4ab9ff2",
       "value": 8760
      }
     },
     "eb6ea55fc8574d7ea48120f791c586f0": {
      "model_module": "@jupyter-widgets/base",
      "model_module_version": "1.2.0",
      "model_name": "LayoutModel",
      "state": {}
     },
     "eb8ab313295743258cbf763abc502ee4": {
      "model_module": "@jupyter-widgets/controls",
      "model_module_version": "1.5.0",
      "model_name": "HTMLModel",
      "state": {
       "layout": "IPY_MODEL_243a3caef6ac46268548ed5fef432fc6",
       "style": "IPY_MODEL_65e0f1e7f9894f6eab57c2289abb1662",
       "value": " 8760/8760 [02:01&lt;00:00, 72.05steps/s]"
      }
     },
     "eb8df05d7b084c26b3ee00db64e13430": {
      "model_module": "@jupyter-widgets/base",
      "model_module_version": "1.2.0",
      "model_name": "LayoutModel",
      "state": {}
     },
     "eba663fb378e4b349571265325feeaff": {
      "model_module": "@jupyter-widgets/controls",
      "model_module_version": "1.5.0",
      "model_name": "ProgressStyleModel",
      "state": {
       "description_width": "initial"
      }
     },
     "ebcf8ba236ba4472beb341c838357c8c": {
      "model_module": "@jupyter-widgets/base",
      "model_module_version": "1.2.0",
      "model_name": "LayoutModel",
      "state": {}
     },
     "ec13413363aa42f09e072b25eb616e0e": {
      "model_module": "@jupyter-widgets/controls",
      "model_module_version": "1.5.0",
      "model_name": "DescriptionStyleModel",
      "state": {
       "description_width": ""
      }
     },
     "ec24686099ae498985c148c9725322d0": {
      "model_module": "@jupyter-widgets/controls",
      "model_module_version": "1.5.0",
      "model_name": "FloatProgressModel",
      "state": {
       "bar_style": "success",
       "description": "poop: 100%",
       "layout": "IPY_MODEL_f810ef32c83541f390f102df5e8d4dc1",
       "max": 8760,
       "style": "IPY_MODEL_74c74a594a6440b8922c1a51aee71e22",
       "value": 8760
      }
     },
     "ec2a4e2031e14fbd9e12e1a024b08ceb": {
      "model_module": "@jupyter-widgets/controls",
      "model_module_version": "1.5.0",
      "model_name": "HBoxModel",
      "state": {
       "children": [
        "IPY_MODEL_2a26c0395e684fbd816995fdad8ba4f3",
        "IPY_MODEL_d8cf24e2616f41a2828d8f3d57b8f9fb"
       ],
       "layout": "IPY_MODEL_e12f8efc03e84d878821a241ed690f35"
      }
     },
     "ec2be64f252f48869898b826bdc055b0": {
      "model_module": "@jupyter-widgets/controls",
      "model_module_version": "1.5.0",
      "model_name": "ProgressStyleModel",
      "state": {
       "description_width": "initial"
      }
     },
     "ec40814a66814a5a85d54de48109c39f": {
      "model_module": "@jupyter-widgets/controls",
      "model_module_version": "1.5.0",
      "model_name": "HBoxModel",
      "state": {
       "children": [
        "IPY_MODEL_1744a9bbee094a16a3b12203c37082e7",
        "IPY_MODEL_523a674aa3d447a486e06e58b46429d0"
       ],
       "layout": "IPY_MODEL_9b2784006b6f47828f8e1347d2945f08"
      }
     },
     "ec438ef6bc1348ff89e91031803a43f3": {
      "model_module": "@jupyter-widgets/controls",
      "model_module_version": "1.5.0",
      "model_name": "DescriptionStyleModel",
      "state": {
       "description_width": ""
      }
     },
     "ec49f0c47bec40229aece00e66895eb3": {
      "model_module": "@jupyter-widgets/base",
      "model_module_version": "1.2.0",
      "model_name": "LayoutModel",
      "state": {}
     },
     "ec541138029b42ab9a287ca879a50de1": {
      "model_module": "@jupyter-widgets/base",
      "model_module_version": "1.2.0",
      "model_name": "LayoutModel",
      "state": {}
     },
     "ec5b85de6111464a919646d020f22093": {
      "model_module": "@jupyter-widgets/controls",
      "model_module_version": "1.5.0",
      "model_name": "HBoxModel",
      "state": {
       "children": [
        "IPY_MODEL_18f4c80e0fe646039b687ef74e25fff9",
        "IPY_MODEL_91d9c3c417c649aaa0e0901d93b92ebd"
       ],
       "layout": "IPY_MODEL_b69e4ed3665a4393975a3e22a082b1fd"
      }
     },
     "ec73664c3fbb4af9beb39e803a36f143": {
      "model_module": "@jupyter-widgets/base",
      "model_module_version": "1.2.0",
      "model_name": "LayoutModel",
      "state": {}
     },
     "ec76aecd34504240a34ee8bdc28dc9ba": {
      "model_module": "@jupyter-widgets/controls",
      "model_module_version": "1.5.0",
      "model_name": "HBoxModel",
      "state": {
       "children": [
        "IPY_MODEL_4589ebe07511429ab4e3676f60d8f52a",
        "IPY_MODEL_5ffd1c544d81409baa744a281cff70d1"
       ],
       "layout": "IPY_MODEL_53596e53d29f41faa8cac0bdb04db5c9"
      }
     },
     "ecb3375eff9a49d597229463c98872a5": {
      "model_module": "@jupyter-widgets/controls",
      "model_module_version": "1.5.0",
      "model_name": "HTMLModel",
      "state": {
       "layout": "IPY_MODEL_e2ada72acd9546a8bf8bf4e10c8f17da",
       "style": "IPY_MODEL_aa087ccdc1524ee3bc48477547385766",
       "value": " 8760/8760 [03:03&lt;00:00, 47.71steps/s]"
      }
     },
     "eccc914d23ac4eb490a4bd9266ff8601": {
      "model_module": "@jupyter-widgets/base",
      "model_module_version": "1.2.0",
      "model_name": "LayoutModel",
      "state": {}
     },
     "ecdd99151ec9471d8f61eddabfb569a3": {
      "model_module": "@jupyter-widgets/controls",
      "model_module_version": "1.5.0",
      "model_name": "HTMLModel",
      "state": {
       "layout": "IPY_MODEL_2609a3a5d4de43ec9c78c8d9d011388e",
       "style": "IPY_MODEL_1ebe6f2bf27f4d4a92f6b3a965a90b89",
       "value": " 84301/175320 [3:28:51&lt;5:33:30,  4.55steps/s]"
      }
     },
     "ed03213e2fa8466298848a09ef7de7f0": {
      "model_module": "@jupyter-widgets/controls",
      "model_module_version": "1.5.0",
      "model_name": "HTMLModel",
      "state": {
       "layout": "IPY_MODEL_750e5909d631405f97f5636bb3d030d3",
       "style": "IPY_MODEL_5045b70c74794961a3287f932f59073d",
       "value": " 8760/8760 [00:29&lt;00:00, 295.88steps/s]"
      }
     },
     "ed06f3908e384be185e03d149f5f7e23": {
      "model_module": "@jupyter-widgets/base",
      "model_module_version": "1.2.0",
      "model_name": "LayoutModel",
      "state": {}
     },
     "ed1ce41cb5bb4ed2a842784fdfc89f68": {
      "model_module": "@jupyter-widgets/base",
      "model_module_version": "1.2.0",
      "model_name": "LayoutModel",
      "state": {}
     },
     "ed265f42d55e4efd961bf291e87e35f3": {
      "model_module": "@jupyter-widgets/controls",
      "model_module_version": "1.5.0",
      "model_name": "HBoxModel",
      "state": {
       "children": [
        "IPY_MODEL_16121c058e3f4e16ac14a509e91999a4",
        "IPY_MODEL_6dbccf254657478aa82523fe89b0ee8e"
       ],
       "layout": "IPY_MODEL_948161e5f31c42dbb2a014482307b959"
      }
     },
     "ed3d40abdda248f6b6f7bd6a07d51fcb": {
      "model_module": "@jupyter-widgets/controls",
      "model_module_version": "1.5.0",
      "model_name": "FloatProgressModel",
      "state": {
       "bar_style": "success",
       "description": "100%",
       "layout": "IPY_MODEL_ace27304984647dea887afeffc669284",
       "max": 8760,
       "style": "IPY_MODEL_9b03339c5b0f4e27a2a5ec68a6747881",
       "value": 8760
      }
     },
     "ed3de069bcb340259cc348ec13f770bf": {
      "model_module": "@jupyter-widgets/controls",
      "model_module_version": "1.5.0",
      "model_name": "DescriptionStyleModel",
      "state": {
       "description_width": ""
      }
     },
     "ed48469ca5cc4aa49a7aecc19c81f732": {
      "model_module": "@jupyter-widgets/controls",
      "model_module_version": "1.5.0",
      "model_name": "ProgressStyleModel",
      "state": {
       "description_width": "initial"
      }
     },
     "ed4fde4f55854b04b91cfb9bd5ecb1f6": {
      "model_module": "@jupyter-widgets/base",
      "model_module_version": "1.2.0",
      "model_name": "LayoutModel",
      "state": {}
     },
     "ed6de4cfa039451f91ab69af10dc2e02": {
      "model_module": "@jupyter-widgets/controls",
      "model_module_version": "1.5.0",
      "model_name": "FloatProgressModel",
      "state": {
       "bar_style": "danger",
       "description": "poop:  11%",
       "layout": "IPY_MODEL_18572dacef9c4686a396bba214506231",
       "max": 8760,
       "style": "IPY_MODEL_51a99f7db4c14c1d96455b049eb7b520",
       "value": 991
      }
     },
     "ed82a7ff50944964a9d2a0a311a2bc40": {
      "model_module": "@jupyter-widgets/controls",
      "model_module_version": "1.5.0",
      "model_name": "HTMLModel",
      "state": {
       "layout": "IPY_MODEL_85f2b351d4a44f23ac9cb4043748070f",
       "style": "IPY_MODEL_d71b50cc10914d4b87d1b3f9089d22de",
       "value": " 85284/175320 [3:32:51&lt;5:31:19,  4.53steps/s]"
      }
     },
     "ed8eb5efada849739caef8c41ce43e93": {
      "model_module": "@jupyter-widgets/base",
      "model_module_version": "1.2.0",
      "model_name": "LayoutModel",
      "state": {}
     },
     "ed8ec2eb5a5f4962b2bed20370c10f34": {
      "model_module": "@jupyter-widgets/base",
      "model_module_version": "1.2.0",
      "model_name": "LayoutModel",
      "state": {}
     },
     "ed9340d7b4a84b1581daa8f073161590": {
      "model_module": "@jupyter-widgets/controls",
      "model_module_version": "1.5.0",
      "model_name": "FloatProgressModel",
      "state": {
       "bar_style": "success",
       "description": "poop: 100%",
       "layout": "IPY_MODEL_287dec75479b4a189889d664fdb5fa86",
       "max": 8760,
       "style": "IPY_MODEL_62f65f4d4c5f42fca64c63d933b2aab7",
       "value": 8760
      }
     },
     "ed9665ebebe4483ba3748195468f3a43": {
      "model_module": "@jupyter-widgets/controls",
      "model_module_version": "1.5.0",
      "model_name": "ProgressStyleModel",
      "state": {
       "description_width": "initial"
      }
     },
     "edd1971aa4674705acc68b63dadf184f": {
      "model_module": "@jupyter-widgets/base",
      "model_module_version": "1.2.0",
      "model_name": "LayoutModel",
      "state": {}
     },
     "eddeb0c3fe884a008d341b465d19a8b6": {
      "model_module": "@jupyter-widgets/base",
      "model_module_version": "1.2.0",
      "model_name": "LayoutModel",
      "state": {}
     },
     "edf8940a5451455ba79e7d6892003e58": {
      "model_module": "@jupyter-widgets/controls",
      "model_module_version": "1.5.0",
      "model_name": "ProgressStyleModel",
      "state": {
       "description_width": "initial"
      }
     },
     "edfc675da1b64f91885cb6b737de5c6c": {
      "model_module": "@jupyter-widgets/controls",
      "model_module_version": "1.5.0",
      "model_name": "HTMLModel",
      "state": {
       "layout": "IPY_MODEL_3a3fbc546e0c4abfaa3d2408e9db5820",
       "style": "IPY_MODEL_899ae0d5178c474ba2699f24c1decd10",
       "value": " 8760/8760 [00:30&lt;00:00, 286.24steps/s]"
      }
     },
     "ee0a4858ad0d4535930ac9070b911b13": {
      "model_module": "@jupyter-widgets/controls",
      "model_module_version": "1.5.0",
      "model_name": "ProgressStyleModel",
      "state": {
       "description_width": "initial"
      }
     },
     "ee1dc1d2b2d341c4b08efd9fa2340633": {
      "model_module": "@jupyter-widgets/controls",
      "model_module_version": "1.5.0",
      "model_name": "FloatProgressModel",
      "state": {
       "bar_style": "success",
       "description": "100%",
       "layout": "IPY_MODEL_4e20c061a3054d72b08065f613bbadbb",
       "max": 8760,
       "style": "IPY_MODEL_200afef92f594b9484ab04a58f8c0b76",
       "value": 8760
      }
     },
     "ee23d5763b8642ad9e717ab983b7d90a": {
      "model_module": "@jupyter-widgets/base",
      "model_module_version": "1.2.0",
      "model_name": "LayoutModel",
      "state": {}
     },
     "ee346ce5de3d402db4047726daef7042": {
      "model_module": "@jupyter-widgets/controls",
      "model_module_version": "1.5.0",
      "model_name": "DescriptionStyleModel",
      "state": {
       "description_width": ""
      }
     },
     "ee6c19fcfedb4c949a5961878f5bb3ee": {
      "model_module": "@jupyter-widgets/controls",
      "model_module_version": "1.5.0",
      "model_name": "ProgressStyleModel",
      "state": {
       "description_width": "initial"
      }
     },
     "ee89e7f42ae245cf8d5c5e7981dc13df": {
      "model_module": "@jupyter-widgets/controls",
      "model_module_version": "1.5.0",
      "model_name": "HBoxModel",
      "state": {
       "children": [
        "IPY_MODEL_aa43d103e3ee4d1981ebb9ad3095cd6d",
        "IPY_MODEL_ad6cb7c61f514e16be70400f929003ab"
       ],
       "layout": "IPY_MODEL_24817c4c7d804c07abb0c79e27c3b506"
      }
     },
     "ee92eee7cd204f20a213cd5b127cb915": {
      "model_module": "@jupyter-widgets/base",
      "model_module_version": "1.2.0",
      "model_name": "LayoutModel",
      "state": {}
     },
     "eeb1aec19f944baaa1cafc232bdd7bfb": {
      "model_module": "@jupyter-widgets/base",
      "model_module_version": "1.2.0",
      "model_name": "LayoutModel",
      "state": {}
     },
     "eeb468575b4d454993edbf056b3be050": {
      "model_module": "@jupyter-widgets/controls",
      "model_module_version": "1.5.0",
      "model_name": "ProgressStyleModel",
      "state": {
       "description_width": "initial"
      }
     },
     "eeb6641863bb4fd2b45b99482f17838b": {
      "model_module": "@jupyter-widgets/controls",
      "model_module_version": "1.5.0",
      "model_name": "HTMLModel",
      "state": {
       "layout": "IPY_MODEL_74317a655eb74e3a82f9d62024d836f5",
       "style": "IPY_MODEL_30bea124e5ee41bcb4ffba550e571e0b",
       "value": " 8760/8760 [00:30&lt;00:00, 286.61steps/s]"
      }
     },
     "eebe8727c72c41f8b8b1892eb92161ad": {
      "model_module": "@jupyter-widgets/base",
      "model_module_version": "1.2.0",
      "model_name": "LayoutModel",
      "state": {}
     },
     "eec8c299d85f4c30aec65704fede3981": {
      "model_module": "@jupyter-widgets/controls",
      "model_module_version": "1.5.0",
      "model_name": "HTMLModel",
      "state": {
       "layout": "IPY_MODEL_0d0e6ee6540a47959ecc67fc3b2ac349",
       "style": "IPY_MODEL_c222155149f948879666d49d5358da28",
       "value": " 8760/8760 [00:29&lt;00:00, 294.46steps/s]"
      }
     },
     "eed7d37bd84f4d3ebb6545e734285bec": {
      "model_module": "@jupyter-widgets/controls",
      "model_module_version": "1.5.0",
      "model_name": "DescriptionStyleModel",
      "state": {
       "description_width": ""
      }
     },
     "eee2fbb701414819bad63e942acd2ff7": {
      "model_module": "@jupyter-widgets/controls",
      "model_module_version": "1.5.0",
      "model_name": "DescriptionStyleModel",
      "state": {
       "description_width": ""
      }
     },
     "ef07f70a0647433fa980450daa97c1f2": {
      "model_module": "@jupyter-widgets/base",
      "model_module_version": "1.2.0",
      "model_name": "LayoutModel",
      "state": {}
     },
     "ef0c106b5f1a4ee68fad10d6ee422eb4": {
      "model_module": "@jupyter-widgets/controls",
      "model_module_version": "1.5.0",
      "model_name": "HBoxModel",
      "state": {
       "children": [
        "IPY_MODEL_1d79c90e99504a6387540afd52504304",
        "IPY_MODEL_2ae47596f3a6455eb93d2acdd6167c49"
       ],
       "layout": "IPY_MODEL_1416bea21c984ae587dd99bbefa01563"
      }
     },
     "ef2081420e0647ffa76c36edae56260f": {
      "model_module": "@jupyter-widgets/controls",
      "model_module_version": "1.5.0",
      "model_name": "DescriptionStyleModel",
      "state": {
       "description_width": ""
      }
     },
     "ef511af2b8854d5cba80dad3ca7c7f81": {
      "model_module": "@jupyter-widgets/base",
      "model_module_version": "1.2.0",
      "model_name": "LayoutModel",
      "state": {}
     },
     "ef60e5e564f74cc29e44205a8bd1b8c0": {
      "model_module": "@jupyter-widgets/base",
      "model_module_version": "1.2.0",
      "model_name": "LayoutModel",
      "state": {}
     },
     "ef7b739603864a8f9006ea94b8a3eb83": {
      "model_module": "@jupyter-widgets/base",
      "model_module_version": "1.2.0",
      "model_name": "LayoutModel",
      "state": {}
     },
     "efab0dae8b244441a65774a820ba2308": {
      "model_module": "@jupyter-widgets/base",
      "model_module_version": "1.2.0",
      "model_name": "LayoutModel",
      "state": {}
     },
     "efd8d6dbdcd248c390f8697275b97c25": {
      "model_module": "@jupyter-widgets/controls",
      "model_module_version": "1.5.0",
      "model_name": "DescriptionStyleModel",
      "state": {
       "description_width": ""
      }
     },
     "efefa8794df04b8eb15ad47e2387ce87": {
      "model_module": "@jupyter-widgets/base",
      "model_module_version": "1.2.0",
      "model_name": "LayoutModel",
      "state": {}
     },
     "eff43ca1346047bc9405f6e39eafd17f": {
      "model_module": "@jupyter-widgets/controls",
      "model_module_version": "1.5.0",
      "model_name": "FloatProgressModel",
      "state": {
       "bar_style": "success",
       "description": "poop: 100%",
       "layout": "IPY_MODEL_61a07f32b2954bc2ade680ee88583225",
       "max": 8760,
       "style": "IPY_MODEL_fd33ffd435a54d1fa0cc619d8040e37a",
       "value": 8760
      }
     },
     "eff5e7a947544705a2f3eb85960ad041": {
      "model_module": "@jupyter-widgets/controls",
      "model_module_version": "1.5.0",
      "model_name": "HTMLModel",
      "state": {
       "layout": "IPY_MODEL_1b50f53176d84dad84e54bdbc2243e65",
       "style": "IPY_MODEL_3d11835310f044c88329d59a68d24308",
       "value": " 99511/175320 [3:50:55&lt;2:55:11,  7.21steps/s]"
      }
     },
     "eff67e10cd134d9f8a75a5ebb67e92d6": {
      "model_module": "@jupyter-widgets/base",
      "model_module_version": "1.2.0",
      "model_name": "LayoutModel",
      "state": {}
     },
     "f02e644035774efbbadda38994782bec": {
      "model_module": "@jupyter-widgets/controls",
      "model_module_version": "1.5.0",
      "model_name": "ProgressStyleModel",
      "state": {
       "description_width": "initial"
      }
     },
     "f0590954f3f74f53b78916b2ac8772f3": {
      "model_module": "@jupyter-widgets/controls",
      "model_module_version": "1.5.0",
      "model_name": "HTMLModel",
      "state": {
       "layout": "IPY_MODEL_3670feae7d8e4f0db869f1b2d1891fe8",
       "style": "IPY_MODEL_8b3d11073a8c4fe9a431296e90b01181",
       "value": " 8760/8760 [00:30&lt;00:00, 288.37steps/s]"
      }
     },
     "f06e61e6711c4efdb08866f8dd17c1fb": {
      "model_module": "@jupyter-widgets/controls",
      "model_module_version": "1.5.0",
      "model_name": "ProgressStyleModel",
      "state": {
       "description_width": "initial"
      }
     },
     "f0a7b4b8ee3d4ac0bfde2cda4028917f": {
      "model_module": "@jupyter-widgets/base",
      "model_module_version": "1.2.0",
      "model_name": "LayoutModel",
      "state": {}
     },
     "f0b50db0fd2c440093d25a541e2aa38a": {
      "model_module": "@jupyter-widgets/controls",
      "model_module_version": "1.5.0",
      "model_name": "HTMLModel",
      "state": {
       "layout": "IPY_MODEL_9ad5c48b4ad14404a859bc61b35b8b31",
       "style": "IPY_MODEL_b72d098c3a30401c897919aa0430782d",
       "value": " 8760/8760 [00:31&lt;00:00, 274.31steps/s]"
      }
     },
     "f0dcd70173c846b5a917a5c427035639": {
      "model_module": "@jupyter-widgets/controls",
      "model_module_version": "1.5.0",
      "model_name": "HBoxModel",
      "state": {
       "children": [
        "IPY_MODEL_8d38979eaaae49f49023cb45d15c4ad2",
        "IPY_MODEL_0cec3966956a4db4b79af4b1c9ad9c5d"
       ],
       "layout": "IPY_MODEL_c9e09dbe2e8142a199128cab182c5cbf"
      }
     },
     "f0dfa8e156ad4e889675354ff4320219": {
      "model_module": "@jupyter-widgets/controls",
      "model_module_version": "1.5.0",
      "model_name": "HBoxModel",
      "state": {
       "children": [
        "IPY_MODEL_379c759b8eee4d86b703aa31227a1a6f",
        "IPY_MODEL_611bf85b131e46daa3d79149bdff0c15"
       ],
       "layout": "IPY_MODEL_de0a756f527243ec9aa47d2b16d13375"
      }
     },
     "f0e17db9bd6b465cb78c5b0d113d152a": {
      "model_module": "@jupyter-widgets/controls",
      "model_module_version": "1.5.0",
      "model_name": "HBoxModel",
      "state": {
       "children": [
        "IPY_MODEL_f614b6a76bbb4ee8bf151094be6484ed",
        "IPY_MODEL_185d7255d576473180c6a578ff8a4803"
       ],
       "layout": "IPY_MODEL_5df848cf8e9341d8a956ee14223549c5"
      }
     },
     "f0e8cb3290cc4eb7a3e103ee50685526": {
      "model_module": "@jupyter-widgets/controls",
      "model_module_version": "1.5.0",
      "model_name": "DescriptionStyleModel",
      "state": {
       "description_width": ""
      }
     },
     "f1161ad6802c40b9acd76440628f22f7": {
      "model_module": "@jupyter-widgets/base",
      "model_module_version": "1.2.0",
      "model_name": "LayoutModel",
      "state": {}
     },
     "f13b34d6460a4093936602f59ae2befd": {
      "model_module": "@jupyter-widgets/controls",
      "model_module_version": "1.5.0",
      "model_name": "HTMLModel",
      "state": {
       "layout": "IPY_MODEL_1d45e0ea877348768acc55b3b5a5af7f",
       "style": "IPY_MODEL_8321822d434847ab964af6ddeab457e6",
       "value": " 8760/8760 [01:32&lt;00:00, 94.55steps/s]"
      }
     },
     "f14563edae8d4fac99dc5c61d7d9b128": {
      "model_module": "@jupyter-widgets/controls",
      "model_module_version": "1.5.0",
      "model_name": "DescriptionStyleModel",
      "state": {
       "description_width": ""
      }
     },
     "f19f65dc347f441495adb1b7c4dd06e4": {
      "model_module": "@jupyter-widgets/controls",
      "model_module_version": "1.5.0",
      "model_name": "HTMLModel",
      "state": {
       "layout": "IPY_MODEL_c959357eeebd40fba824e9f396dcfa4f",
       "style": "IPY_MODEL_8d23e741c8c3482b8a54c2a55225629d",
       "value": " 83397/175320 [3:22:00&lt;5:31:31,  4.62steps/s]"
      }
     },
     "f1be3a4851ea4cf3941a4dc1c85da285": {
      "model_module": "@jupyter-widgets/controls",
      "model_module_version": "1.5.0",
      "model_name": "HBoxModel",
      "state": {
       "children": [
        "IPY_MODEL_24327f74cf2b4549afc7a1907242f019",
        "IPY_MODEL_8cbd6f24b31d49119588ba8780d74eb3"
       ],
       "layout": "IPY_MODEL_7af0fc52e6ea4959b454c36d2c81be99"
      }
     },
     "f1ed1dc389d8400799a3e3959d4a9bdb": {
      "model_module": "@jupyter-widgets/controls",
      "model_module_version": "1.5.0",
      "model_name": "DescriptionStyleModel",
      "state": {
       "description_width": ""
      }
     },
     "f1eece8ee8b64347ae8f7e44faed3da5": {
      "model_module": "@jupyter-widgets/controls",
      "model_module_version": "1.5.0",
      "model_name": "DescriptionStyleModel",
      "state": {
       "description_width": ""
      }
     },
     "f1f1c867d843464f8ee5865c7b521a54": {
      "model_module": "@jupyter-widgets/base",
      "model_module_version": "1.2.0",
      "model_name": "LayoutModel",
      "state": {}
     },
     "f21cf51ce2e546efb614d7e347272347": {
      "model_module": "@jupyter-widgets/controls",
      "model_module_version": "1.5.0",
      "model_name": "FloatProgressModel",
      "state": {
       "bar_style": "success",
       "description": "100%",
       "layout": "IPY_MODEL_b0c16f3b9645406d8ef35be3ec890e69",
       "max": 8760,
       "style": "IPY_MODEL_9432f1a2138c403496c1ab52672e8fc4",
       "value": 8760
      }
     },
     "f236e842fecb456d86fd8fea9385243a": {
      "model_module": "@jupyter-widgets/base",
      "model_module_version": "1.2.0",
      "model_name": "LayoutModel",
      "state": {}
     },
     "f23c019411894842b7eef4306ccbdb0c": {
      "model_module": "@jupyter-widgets/controls",
      "model_module_version": "1.5.0",
      "model_name": "FloatProgressModel",
      "state": {
       "bar_style": "danger",
       "description": "poop:  80%",
       "layout": "IPY_MODEL_07c59dd70e3b4ae8a9a136271c808976",
       "max": 8760,
       "style": "IPY_MODEL_aefcaa6561ea4b378d7259babddaf78d",
       "value": 7031
      }
     },
     "f23e6394bfcd46f2b00f9567f459faef": {
      "model_module": "@jupyter-widgets/controls",
      "model_module_version": "1.5.0",
      "model_name": "HBoxModel",
      "state": {
       "children": [
        "IPY_MODEL_9d11cf3c9b1341fb820ffb8d3e551c78",
        "IPY_MODEL_505b4d1ed07c443ca0dff70a4dc4cfe9"
       ],
       "layout": "IPY_MODEL_1e4c77a0577c46a3aa9b4487dda6a983"
      }
     },
     "f27341c815e04b6e95e0bba27476a1c3": {
      "model_module": "@jupyter-widgets/base",
      "model_module_version": "1.2.0",
      "model_name": "LayoutModel",
      "state": {}
     },
     "f277be64a04043608f54983490531c4e": {
      "model_module": "@jupyter-widgets/controls",
      "model_module_version": "1.5.0",
      "model_name": "HTMLModel",
      "state": {
       "layout": "IPY_MODEL_17aa2e71d66e43319ef37279401c5be1",
       "style": "IPY_MODEL_cec79dd6ad374afe81d0735c108739b1",
       "value": " 8760/8760 [00:32&lt;00:00, 271.78steps/s]"
      }
     },
     "f27facf9ca3a4c63b72722ee9afea670": {
      "model_module": "@jupyter-widgets/controls",
      "model_module_version": "1.5.0",
      "model_name": "HTMLModel",
      "state": {
       "layout": "IPY_MODEL_ac786f1d50cd46468e95a7b4d0a81a77",
       "style": "IPY_MODEL_c5c55a0dc6754ebf83db4c0acd85ee8c",
       "value": " 8760/8760 [00:29&lt;00:00, 294.05steps/s]"
      }
     },
     "f28271f6e6db4027a0af0901f4fba053": {
      "model_module": "@jupyter-widgets/controls",
      "model_module_version": "1.5.0",
      "model_name": "DescriptionStyleModel",
      "state": {
       "description_width": ""
      }
     },
     "f2ae50d5513846aa8c903eae0c6cf774": {
      "model_module": "@jupyter-widgets/controls",
      "model_module_version": "1.5.0",
      "model_name": "ProgressStyleModel",
      "state": {
       "description_width": "initial"
      }
     },
     "f2bba439d6eb454c9958724ff2ab1e5a": {
      "model_module": "@jupyter-widgets/base",
      "model_module_version": "1.2.0",
      "model_name": "LayoutModel",
      "state": {}
     },
     "f2c7eee904064dff906591b4e67a9e5c": {
      "model_module": "@jupyter-widgets/controls",
      "model_module_version": "1.5.0",
      "model_name": "DescriptionStyleModel",
      "state": {
       "description_width": ""
      }
     },
     "f2d1da96bf6a4073b4dc36ddff3b5bb1": {
      "model_module": "@jupyter-widgets/base",
      "model_module_version": "1.2.0",
      "model_name": "LayoutModel",
      "state": {}
     },
     "f2e97335e5f14b969a6821148a27b8b7": {
      "model_module": "@jupyter-widgets/controls",
      "model_module_version": "1.5.0",
      "model_name": "ProgressStyleModel",
      "state": {
       "description_width": "initial"
      }
     },
     "f2f12bd0c99440b98b79388940cc4738": {
      "model_module": "@jupyter-widgets/controls",
      "model_module_version": "1.5.0",
      "model_name": "DescriptionStyleModel",
      "state": {
       "description_width": ""
      }
     },
     "f2f61e8debf54e30af1e1322047d01c2": {
      "model_module": "@jupyter-widgets/base",
      "model_module_version": "1.2.0",
      "model_name": "LayoutModel",
      "state": {}
     },
     "f305168c41a9417a80c242e9c6ded191": {
      "model_module": "@jupyter-widgets/base",
      "model_module_version": "1.2.0",
      "model_name": "LayoutModel",
      "state": {}
     },
     "f317db7488e24f1eab257313e8678372": {
      "model_module": "@jupyter-widgets/controls",
      "model_module_version": "1.5.0",
      "model_name": "FloatProgressModel",
      "state": {
       "bar_style": "danger",
       "description": " 93%",
       "layout": "IPY_MODEL_0ef603647320450d89238a0d627551e1",
       "max": 8760,
       "style": "IPY_MODEL_59f1da95ef71445787cbefbf578e6301",
       "value": 8138
      }
     },
     "f33f79a0e1a043f78900bf6a36f3d8b3": {
      "model_module": "@jupyter-widgets/controls",
      "model_module_version": "1.5.0",
      "model_name": "ProgressStyleModel",
      "state": {
       "description_width": "initial"
      }
     },
     "f340284c19eb494d9c1284d1cdfc4f8c": {
      "model_module": "@jupyter-widgets/base",
      "model_module_version": "1.2.0",
      "model_name": "LayoutModel",
      "state": {}
     },
     "f34e8284eec9452998634c2d249e348c": {
      "model_module": "@jupyter-widgets/controls",
      "model_module_version": "1.5.0",
      "model_name": "DescriptionStyleModel",
      "state": {
       "description_width": ""
      }
     },
     "f36e655bb32f43029041369860dd9689": {
      "model_module": "@jupyter-widgets/controls",
      "model_module_version": "1.5.0",
      "model_name": "HTMLModel",
      "state": {
       "layout": "IPY_MODEL_0c91411b8ccd459e86e8c3571571135e",
       "style": "IPY_MODEL_d916897bdabd4e289a96af99ca28aa39",
       "value": " 8760/8760 [00:30&lt;00:00, 290.72steps/s]"
      }
     },
     "f37c94727ac04c3686ff7552830b697d": {
      "model_module": "@jupyter-widgets/base",
      "model_module_version": "1.2.0",
      "model_name": "LayoutModel",
      "state": {}
     },
     "f37db0e89f58444a9ddc67d4e37dfac4": {
      "model_module": "@jupyter-widgets/base",
      "model_module_version": "1.2.0",
      "model_name": "LayoutModel",
      "state": {}
     },
     "f3bc48ffc1cc44559f7728fe9d7e5d2d": {
      "model_module": "@jupyter-widgets/controls",
      "model_module_version": "1.5.0",
      "model_name": "DescriptionStyleModel",
      "state": {
       "description_width": ""
      }
     },
     "f3d6cadc1ec94e339c5e7f2237a58479": {
      "model_module": "@jupyter-widgets/controls",
      "model_module_version": "1.5.0",
      "model_name": "HBoxModel",
      "state": {
       "children": [
        "IPY_MODEL_70ee958365b944d8928fc054b2b3d758",
        "IPY_MODEL_fe9fc6bf9e514e1781ffb60e560c78b6"
       ],
       "layout": "IPY_MODEL_7fcf4da1d46b4ba8aecd4be3edc5d48e"
      }
     },
     "f3da4c7df72f4633b9bf3991f37c22d3": {
      "model_module": "@jupyter-widgets/controls",
      "model_module_version": "1.5.0",
      "model_name": "FloatProgressModel",
      "state": {
       "bar_style": "success",
       "description": "Run 41 of 156 [PID: 21985]: 100%",
       "layout": "IPY_MODEL_b243d35aa381415cbad9ea956f049c75",
       "max": 8760,
       "style": "IPY_MODEL_d76808648f1e4c5892e12744e284576b",
       "value": 8760
      }
     },
     "f3e1330dbb064d2eb3c60e8d1be9e780": {
      "model_module": "@jupyter-widgets/base",
      "model_module_version": "1.2.0",
      "model_name": "LayoutModel",
      "state": {}
     },
     "f3f266c139ae4350a777ed1782d1b011": {
      "model_module": "@jupyter-widgets/controls",
      "model_module_version": "1.5.0",
      "model_name": "HBoxModel",
      "state": {
       "children": [
        "IPY_MODEL_87edbe1baeb34c8c85da11378de1ca3e",
        "IPY_MODEL_251ba3db6a154a65a97411297f47f587"
       ],
       "layout": "IPY_MODEL_30a528cef7604795a7f81ce3d6b486bc"
      }
     },
     "f3fe8a19ff884e6bb0eda722dbf58d63": {
      "model_module": "@jupyter-widgets/base",
      "model_module_version": "1.2.0",
      "model_name": "LayoutModel",
      "state": {}
     },
     "f402dd3e581d4435828f2b4f40f2daca": {
      "model_module": "@jupyter-widgets/controls",
      "model_module_version": "1.5.0",
      "model_name": "FloatProgressModel",
      "state": {
       "bar_style": "danger",
       "description": " 93%",
       "layout": "IPY_MODEL_457acf1cf7ae43e185309b71e567a65d",
       "max": 8760,
       "style": "IPY_MODEL_646fdefcf8de49d9b3ab417f2621fd73",
       "value": 8151
      }
     },
     "f40afd4e7a0b40828172428963bdc781": {
      "model_module": "@jupyter-widgets/controls",
      "model_module_version": "1.5.0",
      "model_name": "HTMLModel",
      "state": {
       "layout": "IPY_MODEL_da959617be874f2bb91d8b583466d453",
       "style": "IPY_MODEL_530ae6b323174051bc5303082baecc3e",
       "value": " 8760/8760 [00:30&lt;00:00, 287.44steps/s]"
      }
     },
     "f47b8614b46e409795c0ecf219bc1beb": {
      "model_module": "@jupyter-widgets/base",
      "model_module_version": "1.2.0",
      "model_name": "LayoutModel",
      "state": {}
     },
     "f47ee678b19e4c25bc51da049928bbf1": {
      "model_module": "@jupyter-widgets/controls",
      "model_module_version": "1.5.0",
      "model_name": "HBoxModel",
      "state": {
       "children": [
        "IPY_MODEL_55af48c0847841afbb2bcdfec40e3b10",
        "IPY_MODEL_523b6e0a2a7149bd8ce864933a97fd2d"
       ],
       "layout": "IPY_MODEL_975778ce95884a91a659a95114053672"
      }
     },
     "f4cbdcfb3ce94973bd8c2e18d2b02785": {
      "model_module": "@jupyter-widgets/base",
      "model_module_version": "1.2.0",
      "model_name": "LayoutModel",
      "state": {}
     },
     "f4d257cae47249258d185d6085f18950": {
      "model_module": "@jupyter-widgets/controls",
      "model_module_version": "1.5.0",
      "model_name": "FloatProgressModel",
      "state": {
       "bar_style": "danger",
       "description": "poop:  20%",
       "layout": "IPY_MODEL_5cfb667ca28348e4ba81334ce7479d8e",
       "max": 8760,
       "style": "IPY_MODEL_e4497d24a17041bcad45bccc4d347ad0",
       "value": 1790
      }
     },
     "f5149d2f876a4ad6b6d16c85f881cd44": {
      "model_module": "@jupyter-widgets/controls",
      "model_module_version": "1.5.0",
      "model_name": "HTMLModel",
      "state": {
       "layout": "IPY_MODEL_690a126d68774866b2e1eadbdbc1f08a",
       "style": "IPY_MODEL_9d2439e895a84d16b416ab8c86917da4",
       "value": " 87049/175320 [3:32:11&lt;5:36:26,  4.37steps/s]"
      }
     },
     "f518b8d2a6234be7ae5ed700c2f55f0e": {
      "model_module": "@jupyter-widgets/base",
      "model_module_version": "1.2.0",
      "model_name": "LayoutModel",
      "state": {}
     },
     "f51cb0242f16448a8c6739460ec856a0": {
      "model_module": "@jupyter-widgets/base",
      "model_module_version": "1.2.0",
      "model_name": "LayoutModel",
      "state": {}
     },
     "f52c05080a4546269920b23267afa30a": {
      "model_module": "@jupyter-widgets/base",
      "model_module_version": "1.2.0",
      "model_name": "LayoutModel",
      "state": {}
     },
     "f52e4b78f28542248fee85e80fdfc389": {
      "model_module": "@jupyter-widgets/controls",
      "model_module_version": "1.5.0",
      "model_name": "FloatProgressModel",
      "state": {
       "bar_style": "success",
       "description": "poop: 100%",
       "layout": "IPY_MODEL_ef7b739603864a8f9006ea94b8a3eb83",
       "max": 8760,
       "style": "IPY_MODEL_1c451459532541bf974fe527ed57816a",
       "value": 8760
      }
     },
     "f53d42fffb3d42d2b8699a4951d0faf1": {
      "model_module": "@jupyter-widgets/base",
      "model_module_version": "1.2.0",
      "model_name": "LayoutModel",
      "state": {}
     },
     "f55c34b6ec6c4c4b82d718da5a5cf05f": {
      "model_module": "@jupyter-widgets/controls",
      "model_module_version": "1.5.0",
      "model_name": "DescriptionStyleModel",
      "state": {
       "description_width": ""
      }
     },
     "f577e11d995b4561b02336063e0ae96e": {
      "model_module": "@jupyter-widgets/base",
      "model_module_version": "1.2.0",
      "model_name": "LayoutModel",
      "state": {}
     },
     "f58de474866e430289612895fa13d72d": {
      "model_module": "@jupyter-widgets/controls",
      "model_module_version": "1.5.0",
      "model_name": "HBoxModel",
      "state": {
       "children": [
        "IPY_MODEL_886c97824bcd4316856b7b82894f2fd8",
        "IPY_MODEL_2ca6a9789939442784f45ed0e022a3d5"
       ],
       "layout": "IPY_MODEL_50885b9ba6684886ba69895c32da8da2"
      }
     },
     "f5aef56d28da46b5bd40d21674e5818f": {
      "model_module": "@jupyter-widgets/controls",
      "model_module_version": "1.5.0",
      "model_name": "FloatProgressModel",
      "state": {
       "bar_style": "success",
       "description": "poop: 100%",
       "layout": "IPY_MODEL_dc14808e4d614468b958fff93c6d4c8d",
       "max": 8760,
       "style": "IPY_MODEL_573a0a20e7504a9d864c7f66a5820050",
       "value": 8760
      }
     },
     "f5b20e7524e74cbca3fae5b50809b189": {
      "model_module": "@jupyter-widgets/controls",
      "model_module_version": "1.5.0",
      "model_name": "ProgressStyleModel",
      "state": {
       "description_width": "initial"
      }
     },
     "f5b9fc74911f42f0aa11762300d87501": {
      "model_module": "@jupyter-widgets/base",
      "model_module_version": "1.2.0",
      "model_name": "LayoutModel",
      "state": {}
     },
     "f5bcf8dfad954acea7b760bd022041d3": {
      "model_module": "@jupyter-widgets/controls",
      "model_module_version": "1.5.0",
      "model_name": "DescriptionStyleModel",
      "state": {
       "description_width": ""
      }
     },
     "f5bd2ef34dc34ce1b6c25bf5dadb5553": {
      "model_module": "@jupyter-widgets/base",
      "model_module_version": "1.2.0",
      "model_name": "LayoutModel",
      "state": {}
     },
     "f5e3301d269144279b77a25cde03a7b1": {
      "model_module": "@jupyter-widgets/controls",
      "model_module_version": "1.5.0",
      "model_name": "HTMLModel",
      "state": {
       "layout": "IPY_MODEL_db0a094338bb4e429687c42122cdb047",
       "style": "IPY_MODEL_1dc027e56bec429490d2e2f412bd5350",
       "value": " 8760/8760 [00:30&lt;00:00, 285.00steps/s]"
      }
     },
     "f5ec2063bcaf4cbaa5207dbd667bfda2": {
      "model_module": "@jupyter-widgets/base",
      "model_module_version": "1.2.0",
      "model_name": "LayoutModel",
      "state": {}
     },
     "f5edebd05628416ea53d75938985cae9": {
      "model_module": "@jupyter-widgets/controls",
      "model_module_version": "1.5.0",
      "model_name": "FloatProgressModel",
      "state": {
       "description": "Run 67 of 156 [PID: 72853]:  58%",
       "layout": "IPY_MODEL_1d05e4eae6644edcb7d94fbaede33f83",
       "max": 175320,
       "style": "IPY_MODEL_6563aabed3d449efa1d42475bbbba8a8",
       "value": 101374
      }
     },
     "f614b6a76bbb4ee8bf151094be6484ed": {
      "model_module": "@jupyter-widgets/controls",
      "model_module_version": "1.5.0",
      "model_name": "FloatProgressModel",
      "state": {
       "bar_style": "success",
       "description": "Run 13 of 390 [PID: 2319]: 100%",
       "layout": "IPY_MODEL_f2f61e8debf54e30af1e1322047d01c2",
       "max": 8760,
       "style": "IPY_MODEL_c388e8f4315c42749a61d90b76857e06",
       "value": 8760
      }
     },
     "f61b7e7fbf44446fbffb4eb56016756b": {
      "model_module": "@jupyter-widgets/controls",
      "model_module_version": "1.5.0",
      "model_name": "HBoxModel",
      "state": {
       "children": [
        "IPY_MODEL_fe7c60df3988482788bee1c77d5e0bf4",
        "IPY_MODEL_ae52922beb79416ca7deb3e78cbfd8ee"
       ],
       "layout": "IPY_MODEL_444748e28344474daeee76283833db50"
      }
     },
     "f62b13ea996e4d808469c5909bb59743": {
      "model_module": "@jupyter-widgets/controls",
      "model_module_version": "1.5.0",
      "model_name": "FloatProgressModel",
      "state": {
       "bar_style": "success",
       "description": "Run 47 of 156 [PID: 21996]: 100%",
       "layout": "IPY_MODEL_86f82e446eaf4cadb5d4cd3237108300",
       "max": 8760,
       "style": "IPY_MODEL_2ecde0fb86eb468091c7778d1bb37693",
       "value": 8760
      }
     },
     "f63e78e592114bbb81404e45d9d65212": {
      "model_module": "@jupyter-widgets/controls",
      "model_module_version": "1.5.0",
      "model_name": "FloatProgressModel",
      "state": {
       "description": "Run 78 of 156 [PID: 72804]:  52%",
       "layout": "IPY_MODEL_bd1a2d7bd85343a9ae6fc2dc7fc36e19",
       "max": 175320,
       "style": "IPY_MODEL_366db34a979f45efae6fad94ade87398",
       "value": 90748
      }
     },
     "f655da6f621a4f5483e1ba4e6f02404d": {
      "model_module": "@jupyter-widgets/controls",
      "model_module_version": "1.5.0",
      "model_name": "HTMLModel",
      "state": {
       "layout": "IPY_MODEL_e0a791162f5543578c851e1113f9740a",
       "style": "IPY_MODEL_f67139ce414b42a4923d29aa2d30aba9",
       "value": " 8544/8760 [00:29&lt;00:00, 293.84steps/s]"
      }
     },
     "f67139ce414b42a4923d29aa2d30aba9": {
      "model_module": "@jupyter-widgets/controls",
      "model_module_version": "1.5.0",
      "model_name": "DescriptionStyleModel",
      "state": {
       "description_width": ""
      }
     },
     "f6a79be1d63647c780521e355d732c79": {
      "model_module": "@jupyter-widgets/controls",
      "model_module_version": "1.5.0",
      "model_name": "FloatProgressModel",
      "state": {
       "description": "Run 108 of 156 [PID: 72857]:  43%",
       "layout": "IPY_MODEL_56e399ca43864c48a906bc1deb16c011",
       "max": 175320,
       "style": "IPY_MODEL_4c6c5ba0d5a44386bc1d6a28d60e6ed9",
       "value": 75709
      }
     },
     "f6ba3a3fd7bb4bea8066be0b996aeaed": {
      "model_module": "@jupyter-widgets/controls",
      "model_module_version": "1.5.0",
      "model_name": "FloatProgressModel",
      "state": {
       "bar_style": "success",
       "description": "Run 68 of 156 [PID: 21989]: 100%",
       "layout": "IPY_MODEL_0e1925aaac924f419088b977a2e596f7",
       "max": 8760,
       "style": "IPY_MODEL_e7be08603e4a40da8763db4050037415",
       "value": 8760
      }
     },
     "f6bcaee17cfa4a5d875080f01e690d0c": {
      "model_module": "@jupyter-widgets/controls",
      "model_module_version": "1.5.0",
      "model_name": "HBoxModel",
      "state": {
       "children": [
        "IPY_MODEL_ad3aee548b69484b83b6ce4be9c79335",
        "IPY_MODEL_32c4eb8ecb80415a9ee1c46c85ce27d8"
       ],
       "layout": "IPY_MODEL_018c40a80f4b40eaa09cb2230d2c6f38"
      }
     },
     "f6e2083581e14c5baf326ea51a0ba1ae": {
      "model_module": "@jupyter-widgets/controls",
      "model_module_version": "1.5.0",
      "model_name": "HBoxModel",
      "state": {
       "children": [
        "IPY_MODEL_7181d922c2354d6d95de6b4327a02ce9",
        "IPY_MODEL_b840e05522304563abaf7d732f063f65"
       ],
       "layout": "IPY_MODEL_ea593ce096414cfb818a057e9e7584d0"
      }
     },
     "f6efc2c8c1af4efcbb89ab354b031ee6": {
      "model_module": "@jupyter-widgets/controls",
      "model_module_version": "1.5.0",
      "model_name": "FloatProgressModel",
      "state": {
       "bar_style": "danger",
       "description": "poop:  76%",
       "layout": "IPY_MODEL_77b7da93622f4671a8027a04b423dacc",
       "max": 8760,
       "style": "IPY_MODEL_3b433d526cb5475f8a1da7d0df905bfb",
       "value": 6696
      }
     },
     "f70479d34d3c439d9b88e6b761192a3b": {
      "model_module": "@jupyter-widgets/controls",
      "model_module_version": "1.5.0",
      "model_name": "HBoxModel",
      "state": {
       "children": [
        "IPY_MODEL_2af4ae0e013947b78a355d60a6e97e4e",
        "IPY_MODEL_6dfc0342a74e4bc58243765f11b7a714"
       ],
       "layout": "IPY_MODEL_5ae7397d9b7a49ef8cf8e7d5288620d5"
      }
     },
     "f74d8a03028847319056b8d12b2e76af": {
      "model_module": "@jupyter-widgets/base",
      "model_module_version": "1.2.0",
      "model_name": "LayoutModel",
      "state": {}
     },
     "f78e857de27d4cdfaaa6a630402ab4e8": {
      "model_module": "@jupyter-widgets/controls",
      "model_module_version": "1.5.0",
      "model_name": "DescriptionStyleModel",
      "state": {
       "description_width": ""
      }
     },
     "f79a454ecccc4347820c70dac7983ec7": {
      "model_module": "@jupyter-widgets/controls",
      "model_module_version": "1.5.0",
      "model_name": "FloatProgressModel",
      "state": {
       "bar_style": "success",
       "description": "Run 23 of 156 [PID: 45686]: 100%",
       "layout": "IPY_MODEL_08c4bc2289f344d88a4757e582c5dcd2",
       "max": 8760,
       "style": "IPY_MODEL_39f96861bbac4d1cad3f173be8821c00",
       "value": 8760
      }
     },
     "f79f4efaabaa49cd845a7132f47e8492": {
      "model_module": "@jupyter-widgets/base",
      "model_module_version": "1.2.0",
      "model_name": "LayoutModel",
      "state": {}
     },
     "f7b087f3bbe74696b85a888bfb23efa4": {
      "model_module": "@jupyter-widgets/base",
      "model_module_version": "1.2.0",
      "model_name": "LayoutModel",
      "state": {}
     },
     "f7bb1935471d4a529fadbbd43c288bb9": {
      "model_module": "@jupyter-widgets/base",
      "model_module_version": "1.2.0",
      "model_name": "LayoutModel",
      "state": {}
     },
     "f7bd880d31e248278e17e09942ad0ee5": {
      "model_module": "@jupyter-widgets/controls",
      "model_module_version": "1.5.0",
      "model_name": "ProgressStyleModel",
      "state": {
       "description_width": "initial"
      }
     },
     "f7e848e79895452fa4a3e6e3edcbfdbd": {
      "model_module": "@jupyter-widgets/controls",
      "model_module_version": "1.5.0",
      "model_name": "DescriptionStyleModel",
      "state": {
       "description_width": ""
      }
     },
     "f7e8b5e280c349eea2f413d8e9c17a1e": {
      "model_module": "@jupyter-widgets/controls",
      "model_module_version": "1.5.0",
      "model_name": "ProgressStyleModel",
      "state": {
       "description_width": "initial"
      }
     },
     "f7ef3a9130354c94945dae66f8e35b0e": {
      "model_module": "@jupyter-widgets/controls",
      "model_module_version": "1.5.0",
      "model_name": "HBoxModel",
      "state": {
       "children": [
        "IPY_MODEL_9698725c1edb4a3db348b9aeb1b00dcf",
        "IPY_MODEL_b657ec3bbe194faca4882e7d01c84a20"
       ],
       "layout": "IPY_MODEL_5b858f757ff847c8a6a47a3ecf3a05f2"
      }
     },
     "f80a74304df148acabafd08ad30cd1f9": {
      "model_module": "@jupyter-widgets/base",
      "model_module_version": "1.2.0",
      "model_name": "LayoutModel",
      "state": {}
     },
     "f810ef32c83541f390f102df5e8d4dc1": {
      "model_module": "@jupyter-widgets/base",
      "model_module_version": "1.2.0",
      "model_name": "LayoutModel",
      "state": {}
     },
     "f823234dfb964b6ca404d39eed0fc7f4": {
      "model_module": "@jupyter-widgets/base",
      "model_module_version": "1.2.0",
      "model_name": "LayoutModel",
      "state": {}
     },
     "f824f1999bce491c8559ce47c6e976b8": {
      "model_module": "@jupyter-widgets/base",
      "model_module_version": "1.2.0",
      "model_name": "LayoutModel",
      "state": {}
     },
     "f868879302a949aa9be33335629bbbb2": {
      "model_module": "@jupyter-widgets/base",
      "model_module_version": "1.2.0",
      "model_name": "LayoutModel",
      "state": {}
     },
     "f88846875dba4411b9ae4bef6022e106": {
      "model_module": "@jupyter-widgets/controls",
      "model_module_version": "1.5.0",
      "model_name": "FloatProgressModel",
      "state": {
       "description": "Run 66 of 156 [PID: 72852]:  58%",
       "layout": "IPY_MODEL_6e8aab2e4586461da3e17f43da902a5e",
       "max": 175320,
       "style": "IPY_MODEL_e6bb6b6783df44be85b299b4682fdfb0",
       "value": 101199
      }
     },
     "f8a0fcb8a64e43d28904184d321a8f40": {
      "model_module": "@jupyter-widgets/controls",
      "model_module_version": "1.5.0",
      "model_name": "HBoxModel",
      "state": {
       "children": [
        "IPY_MODEL_6e8f5ca9b81e454db89052c33e93ffad",
        "IPY_MODEL_85d95343c5d4419db83a4add48b2a771"
       ],
       "layout": "IPY_MODEL_c63bcb79833d4c26afc3351bc14e435b"
      }
     },
     "f8b7eb28b6b4455b95afd5718c9d6f3c": {
      "model_module": "@jupyter-widgets/base",
      "model_module_version": "1.2.0",
      "model_name": "LayoutModel",
      "state": {}
     },
     "f8c4fe66624e4c1db1c775f81673a201": {
      "model_module": "@jupyter-widgets/base",
      "model_module_version": "1.2.0",
      "model_name": "LayoutModel",
      "state": {}
     },
     "f90d62bdff884f8a94f60bc5b4ed48fe": {
      "model_module": "@jupyter-widgets/controls",
      "model_module_version": "1.5.0",
      "model_name": "HTMLModel",
      "state": {
       "layout": "IPY_MODEL_743fead54dd148d9a5d92f94ca81a84c",
       "style": "IPY_MODEL_63f583ee84fa4460917ebb996b50abdb",
       "value": " 85430/175320 [3:20:33&lt;6:56:36,  3.60steps/s]"
      }
     },
     "f917e02306a44dbfba8d106ee5b3c02a": {
      "model_module": "@jupyter-widgets/controls",
      "model_module_version": "1.5.0",
      "model_name": "DescriptionStyleModel",
      "state": {
       "description_width": ""
      }
     },
     "f921f28f1900421cb1e80464cbada16e": {
      "model_module": "@jupyter-widgets/base",
      "model_module_version": "1.2.0",
      "model_name": "LayoutModel",
      "state": {}
     },
     "f926a5829c1e4827b8c60f78c6417300": {
      "model_module": "@jupyter-widgets/controls",
      "model_module_version": "1.5.0",
      "model_name": "DescriptionStyleModel",
      "state": {
       "description_width": ""
      }
     },
     "f932b77bc2dc4754a5f58393f0e1e414": {
      "model_module": "@jupyter-widgets/base",
      "model_module_version": "1.2.0",
      "model_name": "LayoutModel",
      "state": {}
     },
     "f93c3a60359d455abedc1b390d26cb66": {
      "model_module": "@jupyter-widgets/controls",
      "model_module_version": "1.5.0",
      "model_name": "DescriptionStyleModel",
      "state": {
       "description_width": ""
      }
     },
     "f947855f48344a5598acad227227c6c3": {
      "model_module": "@jupyter-widgets/controls",
      "model_module_version": "1.5.0",
      "model_name": "ProgressStyleModel",
      "state": {
       "description_width": "initial"
      }
     },
     "f96ef5be49184ea69eea590403025a14": {
      "model_module": "@jupyter-widgets/controls",
      "model_module_version": "1.5.0",
      "model_name": "HBoxModel",
      "state": {
       "children": [
        "IPY_MODEL_9328c91e725842bdac9000ba8e081101",
        "IPY_MODEL_e6877f18c0b64ca1bc036ffe8a71c293"
       ],
       "layout": "IPY_MODEL_6290e4da9262402d837e7b387f8f7c71"
      }
     },
     "f96f6c00649e4981a4a098381351f38f": {
      "model_module": "@jupyter-widgets/base",
      "model_module_version": "1.2.0",
      "model_name": "LayoutModel",
      "state": {}
     },
     "f9818697d290467abb9ba67846981334": {
      "model_module": "@jupyter-widgets/controls",
      "model_module_version": "1.5.0",
      "model_name": "ProgressStyleModel",
      "state": {
       "description_width": "initial"
      }
     },
     "f9ae64c1e7f445499361b92688fb796a": {
      "model_module": "@jupyter-widgets/base",
      "model_module_version": "1.2.0",
      "model_name": "LayoutModel",
      "state": {}
     },
     "f9f9ff2f34e442b2b724fb74f520cb73": {
      "model_module": "@jupyter-widgets/controls",
      "model_module_version": "1.5.0",
      "model_name": "HTMLModel",
      "state": {
       "layout": "IPY_MODEL_27a2e205d2ff4ec590bcc0dc6443931b",
       "style": "IPY_MODEL_84ffb85d68014ca3af2e592d7c381b46",
       "value": " 8760/8760 [00:31&lt;00:00, 281.33steps/s]"
      }
     },
     "fa1d5763884a41529d00c834be60e8e1": {
      "model_module": "@jupyter-widgets/controls",
      "model_module_version": "1.5.0",
      "model_name": "FloatProgressModel",
      "state": {
       "bar_style": "danger",
       "description": "PID: 67942:  35%",
       "layout": "IPY_MODEL_09d4cdaafce34da184c2bff994f29d66",
       "max": 8760,
       "style": "IPY_MODEL_52dbefd9a4f34073aac3eaad29bda60f",
       "value": 3059
      }
     },
     "fa255e70418441d3893a44c066d3e119": {
      "model_module": "@jupyter-widgets/controls",
      "model_module_version": "1.5.0",
      "model_name": "ProgressStyleModel",
      "state": {
       "description_width": "initial"
      }
     },
     "fa75bad747404e218810b5499bd9156e": {
      "model_module": "@jupyter-widgets/base",
      "model_module_version": "1.2.0",
      "model_name": "LayoutModel",
      "state": {}
     },
     "fa791e2f6fcb4514bf4667b26d96cb7b": {
      "model_module": "@jupyter-widgets/controls",
      "model_module_version": "1.5.0",
      "model_name": "FloatProgressModel",
      "state": {
       "description": "Run 81 of 156 [PID: 72843]:  52%",
       "layout": "IPY_MODEL_b26183898b834930826b08d9cd69292a",
       "max": 175320,
       "style": "IPY_MODEL_edf8940a5451455ba79e7d6892003e58",
       "value": 91940
      }
     },
     "fa9aad6398ad49cdb4a468dd37a264f9": {
      "model_module": "@jupyter-widgets/base",
      "model_module_version": "1.2.0",
      "model_name": "LayoutModel",
      "state": {}
     },
     "fafebeae2b1d4552905b5236944c15da": {
      "model_module": "@jupyter-widgets/base",
      "model_module_version": "1.2.0",
      "model_name": "LayoutModel",
      "state": {}
     },
     "fb064c63a4ad4086912e930c17105875": {
      "model_module": "@jupyter-widgets/base",
      "model_module_version": "1.2.0",
      "model_name": "LayoutModel",
      "state": {}
     },
     "fb1611b32feb45359e311c92f652dfe4": {
      "model_module": "@jupyter-widgets/base",
      "model_module_version": "1.2.0",
      "model_name": "LayoutModel",
      "state": {}
     },
     "fb4319a3bef64e0ea56727db71517903": {
      "model_module": "@jupyter-widgets/base",
      "model_module_version": "1.2.0",
      "model_name": "LayoutModel",
      "state": {}
     },
     "fb5c0d42dbe3419885d4eb122e1edbe6": {
      "model_module": "@jupyter-widgets/controls",
      "model_module_version": "1.5.0",
      "model_name": "FloatProgressModel",
      "state": {
       "bar_style": "success",
       "description": "poop: 100%",
       "layout": "IPY_MODEL_afdd68dd837740aab1a8fb8ae10b2fb0",
       "max": 8760,
       "style": "IPY_MODEL_9b10e34ab1ed4cbe8b0d60115eb1b6ab",
       "value": 8760
      }
     },
     "fbb1c767c0ed41af829e7aa0a44c44be": {
      "model_module": "@jupyter-widgets/base",
      "model_module_version": "1.2.0",
      "model_name": "LayoutModel",
      "state": {}
     },
     "fbc93fdd93fe4d46bc68a98c106682d7": {
      "model_module": "@jupyter-widgets/controls",
      "model_module_version": "1.5.0",
      "model_name": "FloatProgressModel",
      "state": {
       "description": "Run 106 of 156 [PID: 72810]:  48%",
       "layout": "IPY_MODEL_0190a2edbb574fd3ae70ac9b9804ead4",
       "max": 175320,
       "style": "IPY_MODEL_df73cd8902824256bc22ff699d5b2328",
       "value": 84289
      }
     },
     "fbd2c0ceca864c9ba9cc19fcb3e7e7b9": {
      "model_module": "@jupyter-widgets/controls",
      "model_module_version": "1.5.0",
      "model_name": "FloatProgressModel",
      "state": {
       "bar_style": "success",
       "description": "Run 12 of 390 [PID: 2318]: 100%",
       "layout": "IPY_MODEL_69d3f9801b8d4f85bcf9f6a19ec1ed6a",
       "max": 8760,
       "style": "IPY_MODEL_1f35d13e09914e4bafe3f559f8654864",
       "value": 8760
      }
     },
     "fbd931b7214540b382daf8de3a7530f1": {
      "model_module": "@jupyter-widgets/base",
      "model_module_version": "1.2.0",
      "model_name": "LayoutModel",
      "state": {}
     },
     "fbe241e038be40e398ddedc7c2050de9": {
      "model_module": "@jupyter-widgets/controls",
      "model_module_version": "1.5.0",
      "model_name": "DescriptionStyleModel",
      "state": {
       "description_width": ""
      }
     },
     "fbea5feb77354859a694017936fd2fd9": {
      "model_module": "@jupyter-widgets/controls",
      "model_module_version": "1.5.0",
      "model_name": "HBoxModel",
      "state": {
       "children": [
        "IPY_MODEL_5d28d671582b48999ac35398bfb3edd0",
        "IPY_MODEL_30de587c27174637ba8afb64728f8ed6"
       ],
       "layout": "IPY_MODEL_763cfcb1f2244aa295e1dd3e1ae75e9b"
      }
     },
     "fbec9b9d7af24aaba28d1e21b3a7e424": {
      "model_module": "@jupyter-widgets/base",
      "model_module_version": "1.2.0",
      "model_name": "LayoutModel",
      "state": {}
     },
     "fbf31ea3ccce4f1fad3025d222cd809e": {
      "model_module": "@jupyter-widgets/base",
      "model_module_version": "1.2.0",
      "model_name": "LayoutModel",
      "state": {}
     },
     "fbfa2459871642d39eb2a168acd84421": {
      "model_module": "@jupyter-widgets/base",
      "model_module_version": "1.2.0",
      "model_name": "LayoutModel",
      "state": {}
     },
     "fbfd6c36bd1e42109fd76973cc87cf84": {
      "model_module": "@jupyter-widgets/controls",
      "model_module_version": "1.5.0",
      "model_name": "HTMLModel",
      "state": {
       "layout": "IPY_MODEL_01cf7c68f8da486b9c10b44f80042cac",
       "style": "IPY_MODEL_1f923a7b32ba4f6bb1db9c1a25247ecb",
       "value": " 8760/8760 [00:31&lt;00:00, 281.96steps/s]"
      }
     },
     "fc0e0863876d4141a2e4020f300dc049": {
      "model_module": "@jupyter-widgets/base",
      "model_module_version": "1.2.0",
      "model_name": "LayoutModel",
      "state": {}
     },
     "fc127e78c71d431681c78125f5a59b87": {
      "model_module": "@jupyter-widgets/base",
      "model_module_version": "1.2.0",
      "model_name": "LayoutModel",
      "state": {}
     },
     "fc172fce5d2d43228e7ed1edb6ec977e": {
      "model_module": "@jupyter-widgets/controls",
      "model_module_version": "1.5.0",
      "model_name": "HTMLModel",
      "state": {
       "layout": "IPY_MODEL_c11da1a6a5bf4099927230089e599f7e",
       "style": "IPY_MODEL_4e473d8fcf7a47a29191c0def923d504",
       "value": " 5768/8760 [00:21&lt;00:10, 272.21steps/s]"
      }
     },
     "fc308dc1555f417e8def414910c8d973": {
      "model_module": "@jupyter-widgets/base",
      "model_module_version": "1.2.0",
      "model_name": "LayoutModel",
      "state": {}
     },
     "fc489bfa05404e5faaa6c886c30f2b7f": {
      "model_module": "@jupyter-widgets/controls",
      "model_module_version": "1.5.0",
      "model_name": "DescriptionStyleModel",
      "state": {
       "description_width": ""
      }
     },
     "fc665e361ad44b4a8ba11237709a76a6": {
      "model_module": "@jupyter-widgets/controls",
      "model_module_version": "1.5.0",
      "model_name": "DescriptionStyleModel",
      "state": {
       "description_width": ""
      }
     },
     "fc6eb694fcb24003a71c1b751da2c05a": {
      "model_module": "@jupyter-widgets/base",
      "model_module_version": "1.2.0",
      "model_name": "LayoutModel",
      "state": {}
     },
     "fc794d6a3f774a80a09afdf4e4258700": {
      "model_module": "@jupyter-widgets/controls",
      "model_module_version": "1.5.0",
      "model_name": "DescriptionStyleModel",
      "state": {
       "description_width": ""
      }
     },
     "fc7ee6a2c4694c8e80e905533aa201d6": {
      "model_module": "@jupyter-widgets/controls",
      "model_module_version": "1.5.0",
      "model_name": "HTMLModel",
      "state": {
       "layout": "IPY_MODEL_40ad849930254e0da4d7aa385a6107e2",
       "style": "IPY_MODEL_0b1cb611287b412f9a0d4572e033350f",
       "value": " 8760/8760 [00:30&lt;00:00, 291.38steps/s]"
      }
     },
     "fc8a9fc84b8d426d916de446db408e6c": {
      "model_module": "@jupyter-widgets/controls",
      "model_module_version": "1.5.0",
      "model_name": "ProgressStyleModel",
      "state": {
       "description_width": "initial"
      }
     },
     "fc9011a31290433190e6b10c8945cc9d": {
      "model_module": "@jupyter-widgets/controls",
      "model_module_version": "1.5.0",
      "model_name": "ProgressStyleModel",
      "state": {
       "description_width": "initial"
      }
     },
     "fc99e847a8d14ca69466680512111dd9": {
      "model_module": "@jupyter-widgets/base",
      "model_module_version": "1.2.0",
      "model_name": "LayoutModel",
      "state": {}
     },
     "fcb3aa30a28041319b2cdc73cf53e63a": {
      "model_module": "@jupyter-widgets/base",
      "model_module_version": "1.2.0",
      "model_name": "LayoutModel",
      "state": {}
     },
     "fcb915571f5344ab9753f0de6f509899": {
      "model_module": "@jupyter-widgets/controls",
      "model_module_version": "1.5.0",
      "model_name": "HTMLModel",
      "state": {
       "layout": "IPY_MODEL_2b07a9346e1b4e2c8adbfc9932e599bc",
       "style": "IPY_MODEL_b0e21c9326dd4263b65b371ca8507c37",
       "value": " 8760/8760 [00:32&lt;00:00, 272.81steps/s]"
      }
     },
     "fcdbcdb0774049289230f2a562bc8094": {
      "model_module": "@jupyter-widgets/base",
      "model_module_version": "1.2.0",
      "model_name": "LayoutModel",
      "state": {}
     },
     "fcf0f7109bae4573bd2991c97f55e29e": {
      "model_module": "@jupyter-widgets/controls",
      "model_module_version": "1.5.0",
      "model_name": "DescriptionStyleModel",
      "state": {
       "description_width": ""
      }
     },
     "fd082a4360494f828b0d2fbe04cb5984": {
      "model_module": "@jupyter-widgets/base",
      "model_module_version": "1.2.0",
      "model_name": "LayoutModel",
      "state": {}
     },
     "fd33ffd435a54d1fa0cc619d8040e37a": {
      "model_module": "@jupyter-widgets/controls",
      "model_module_version": "1.5.0",
      "model_name": "ProgressStyleModel",
      "state": {
       "description_width": "initial"
      }
     },
     "fd60994f581c4a8b8df853d117e499b5": {
      "model_module": "@jupyter-widgets/controls",
      "model_module_version": "1.5.0",
      "model_name": "ProgressStyleModel",
      "state": {
       "description_width": "initial"
      }
     },
     "fda46ea271874b48ae295fde3b2ca5ae": {
      "model_module": "@jupyter-widgets/base",
      "model_module_version": "1.2.0",
      "model_name": "LayoutModel",
      "state": {}
     },
     "fdbd38e1400b485ca7ddcfd8f5a6c7b2": {
      "model_module": "@jupyter-widgets/controls",
      "model_module_version": "1.5.0",
      "model_name": "FloatProgressModel",
      "state": {
       "bar_style": "success",
       "description": "100%",
       "layout": "IPY_MODEL_ec541138029b42ab9a287ca879a50de1",
       "max": 8760,
       "style": "IPY_MODEL_60893335496c4c21aa7762473a031fd6",
       "value": 8760
      }
     },
     "fdbe3b84f67b4c99b1e951462f34a1f3": {
      "model_module": "@jupyter-widgets/base",
      "model_module_version": "1.2.0",
      "model_name": "LayoutModel",
      "state": {}
     },
     "fdcbaf47b8624c81bd20363ce7a02454": {
      "model_module": "@jupyter-widgets/base",
      "model_module_version": "1.2.0",
      "model_name": "LayoutModel",
      "state": {}
     },
     "fdd25fda342445f89d3621c8f2bdb636": {
      "model_module": "@jupyter-widgets/base",
      "model_module_version": "1.2.0",
      "model_name": "LayoutModel",
      "state": {}
     },
     "fe1be575162349e0a677e4e04c220b4e": {
      "model_module": "@jupyter-widgets/controls",
      "model_module_version": "1.5.0",
      "model_name": "FloatProgressModel",
      "state": {
       "description": "Run 105 of 156 [PID: 72814]:  48%",
       "layout": "IPY_MODEL_5a9044666a6f46dc9cdf24a8aa1ca62f",
       "max": 175320,
       "style": "IPY_MODEL_a3f25a0b6aaa40ec9add9aab7b548029",
       "value": 84992
      }
     },
     "fe26fe7a48194d9385fca1aa7445af0c": {
      "model_module": "@jupyter-widgets/controls",
      "model_module_version": "1.5.0",
      "model_name": "ProgressStyleModel",
      "state": {
       "description_width": "initial"
      }
     },
     "fe2c9cab43484b8eaa3a53d4e242c086": {
      "model_module": "@jupyter-widgets/controls",
      "model_module_version": "1.5.0",
      "model_name": "HBoxModel",
      "state": {
       "children": [
        "IPY_MODEL_311f4d2788a54c78bbb90f2295fbdd4d",
        "IPY_MODEL_19200a0f504b40e8b07c54cff5bf9969"
       ],
       "layout": "IPY_MODEL_61e19ec25ee54dd5944ca52d66109681"
      }
     },
     "fe2e02d2c9a942db8144e3beb1f03f8f": {
      "model_module": "@jupyter-widgets/base",
      "model_module_version": "1.2.0",
      "model_name": "LayoutModel",
      "state": {}
     },
     "fe5282aec0224241833bfddfff6fc025": {
      "model_module": "@jupyter-widgets/controls",
      "model_module_version": "1.5.0",
      "model_name": "ProgressStyleModel",
      "state": {
       "description_width": "initial"
      }
     },
     "fe56dbe5ae734bf8b949b838bb77e709": {
      "model_module": "@jupyter-widgets/controls",
      "model_module_version": "1.5.0",
      "model_name": "ProgressStyleModel",
      "state": {
       "description_width": "initial"
      }
     },
     "fe703d9b7e2d4a1ebcf9f79214f35ba6": {
      "model_module": "@jupyter-widgets/controls",
      "model_module_version": "1.5.0",
      "model_name": "HTMLModel",
      "state": {
       "layout": "IPY_MODEL_5c8a62aa2a0c4b29a4a9da9c72e82976",
       "style": "IPY_MODEL_4997de653e37432daae4fc475ee21334",
       "value": " 84992/175320 [3:26:29&lt;4:43:09,  5.32steps/s]"
      }
     },
     "fe708c7f4937427d898128738db654ef": {
      "model_module": "@jupyter-widgets/controls",
      "model_module_version": "1.5.0",
      "model_name": "HBoxModel",
      "state": {
       "children": [
        "IPY_MODEL_1b8c5c934873475980c08e30ee07639e",
        "IPY_MODEL_bf35d5ffae03426d8fdb1784f6137682"
       ],
       "layout": "IPY_MODEL_018a48e8dec348b697371e031fe8ad0b"
      }
     },
     "fe7c60df3988482788bee1c77d5e0bf4": {
      "model_module": "@jupyter-widgets/controls",
      "model_module_version": "1.5.0",
      "model_name": "FloatProgressModel",
      "state": {
       "bar_style": "success",
       "description": "poop: 100%",
       "layout": "IPY_MODEL_0c613d4d18ff443fa77b67efdf8f255c",
       "max": 8760,
       "style": "IPY_MODEL_33ca49b4224943b4b102869a4fcd4143",
       "value": 8760
      }
     },
     "fe8823502443452fb90c5b4e8565f828": {
      "model_module": "@jupyter-widgets/base",
      "model_module_version": "1.2.0",
      "model_name": "LayoutModel",
      "state": {}
     },
     "fe9c40c1701540f9888791ef962ebc76": {
      "model_module": "@jupyter-widgets/controls",
      "model_module_version": "1.5.0",
      "model_name": "HBoxModel",
      "state": {
       "children": [
        "IPY_MODEL_ec24686099ae498985c148c9725322d0",
        "IPY_MODEL_91a2f68d5d5c4aeb8354791f8375ba87"
       ],
       "layout": "IPY_MODEL_5526519c65904adcbec6a5baeddab6b6"
      }
     },
     "fe9fc6bf9e514e1781ffb60e560c78b6": {
      "model_module": "@jupyter-widgets/controls",
      "model_module_version": "1.5.0",
      "model_name": "HTMLModel",
      "state": {
       "layout": "IPY_MODEL_36fc7d0343644bb6811216b186df7144",
       "style": "IPY_MODEL_c86db017b9a34968a025359470a984e2",
       "value": " 8760/8760 [00:30&lt;00:00, 290.57steps/s]"
      }
     },
     "febbeb31ffa044b993dc0ce38dd3509a": {
      "model_module": "@jupyter-widgets/controls",
      "model_module_version": "1.5.0",
      "model_name": "HTMLModel",
      "state": {
       "layout": "IPY_MODEL_0670cfefc24940dcbcd6295b6dbfa8bc",
       "style": "IPY_MODEL_3da6e4cf1b2a4cf6ba17d36b05b8f8d4",
       "value": " 87127/175320 [3:44:44&lt;5:57:57,  4.11steps/s]"
      }
     },
     "fec68a2aa1be47789531b3306420126b": {
      "model_module": "@jupyter-widgets/base",
      "model_module_version": "1.2.0",
      "model_name": "LayoutModel",
      "state": {}
     },
     "fec6989f74aa4738a75da0674370e812": {
      "model_module": "@jupyter-widgets/base",
      "model_module_version": "1.2.0",
      "model_name": "LayoutModel",
      "state": {}
     },
     "fecfa165a3a24e05a531ad7e69244405": {
      "model_module": "@jupyter-widgets/controls",
      "model_module_version": "1.5.0",
      "model_name": "DescriptionStyleModel",
      "state": {
       "description_width": ""
      }
     },
     "fef857c41b154459ad10ba85b448f2fd": {
      "model_module": "@jupyter-widgets/controls",
      "model_module_version": "1.5.0",
      "model_name": "FloatProgressModel",
      "state": {
       "bar_style": "danger",
       "description": "poop:  61%",
       "layout": "IPY_MODEL_65f8cdec934c4581b959246949fbc96f",
       "max": 8760,
       "style": "IPY_MODEL_47ccf873468a4e36be183e160c2ead01",
       "value": 5325
      }
     },
     "ff057d0ae5994b6d807ac41e8142e106": {
      "model_module": "@jupyter-widgets/controls",
      "model_module_version": "1.5.0",
      "model_name": "ProgressStyleModel",
      "state": {
       "description_width": "initial"
      }
     },
     "ff1dc6e0a66849d7acea488e66168744": {
      "model_module": "@jupyter-widgets/controls",
      "model_module_version": "1.5.0",
      "model_name": "ProgressStyleModel",
      "state": {
       "description_width": "initial"
      }
     },
     "ff20f8d77c8d44bc97abf76fc7f288fc": {
      "model_module": "@jupyter-widgets/controls",
      "model_module_version": "1.5.0",
      "model_name": "ProgressStyleModel",
      "state": {
       "description_width": "initial"
      }
     },
     "ff483ae5ed3c4790b008fbe4256d4816": {
      "model_module": "@jupyter-widgets/controls",
      "model_module_version": "1.5.0",
      "model_name": "HTMLModel",
      "state": {
       "layout": "IPY_MODEL_c68a7a65cbe5437db845b69c08f02951",
       "style": "IPY_MODEL_ee346ce5de3d402db4047726daef7042",
       "value": " 3173/8760 [00:11&lt;00:20, 277.60steps/s]"
      }
     },
     "ff596ea7f69b4a56be58e51ada0bff77": {
      "model_module": "@jupyter-widgets/base",
      "model_module_version": "1.2.0",
      "model_name": "LayoutModel",
      "state": {}
     },
     "ff6af7ad7ca74130b4f93dc57919de6b": {
      "model_module": "@jupyter-widgets/controls",
      "model_module_version": "1.5.0",
      "model_name": "DescriptionStyleModel",
      "state": {
       "description_width": ""
      }
     },
     "ff9827c34a2442bbbb433279a871cb85": {
      "model_module": "@jupyter-widgets/controls",
      "model_module_version": "1.5.0",
      "model_name": "HBoxModel",
      "state": {
       "children": [
        "IPY_MODEL_bb3ea3a2426144e6a2512c9a1160b277",
        "IPY_MODEL_d4672f73c5784c6fa3342b0076b61517"
       ],
       "layout": "IPY_MODEL_3b1d71a1db3548e7a81986a05c3bf8df"
      }
     },
     "ffa040262f6c4af6a644971cf3734e3a": {
      "model_module": "@jupyter-widgets/controls",
      "model_module_version": "1.5.0",
      "model_name": "HBoxModel",
      "state": {
       "children": [
        "IPY_MODEL_6d0b2894223a4d5cafec78b6144ecd59",
        "IPY_MODEL_d648d971a2f24cd0b7e16dd8ad28efbe"
       ],
       "layout": "IPY_MODEL_768d0f3715f648caac1866f5d4fe823a"
      }
     },
     "ffb509345e234bc9be8fcd66a7068753": {
      "model_module": "@jupyter-widgets/base",
      "model_module_version": "1.2.0",
      "model_name": "LayoutModel",
      "state": {}
     },
     "ffe34a3c0d3e4bd2bd5c515d51ec43e5": {
      "model_module": "@jupyter-widgets/base",
      "model_module_version": "1.2.0",
      "model_name": "LayoutModel",
      "state": {}
     }
    },
    "version_major": 2,
    "version_minor": 0
   }
  }
 },
 "nbformat": 4,
 "nbformat_minor": 4
}
