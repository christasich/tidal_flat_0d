{
 "cells": [
  {
   "cell_type": "markdown",
   "metadata": {},
   "source": [
    "# Setup"
   ]
  },
  {
   "cell_type": "markdown",
   "metadata": {},
   "source": [
    " Import standard modules"
   ]
  },
  {
   "cell_type": "code",
   "execution_count": 1,
   "metadata": {
    "execution": {
     "iopub.execute_input": "2021-10-12T19:05:49.778875Z",
     "iopub.status.busy": "2021-10-12T19:05:49.778586Z",
     "iopub.status.idle": "2021-10-12T19:05:50.711999Z",
     "shell.execute_reply": "2021-10-12T19:05:50.710839Z",
     "shell.execute_reply.started": "2021-10-12T19:05:49.778800Z"
    }
   },
   "outputs": [],
   "source": [
    "%load_ext autoreload\n",
    "%autoreload 2\n",
    "import sys\n",
    "import numpy as np\n",
    "import pandas as pd\n",
    "from matplotlib import pyplot as plt\n",
    "sys.path.append(\"..\")\n",
    "from src import definitions as defs\n",
    "from src import features, models"
   ]
  },
  {
   "cell_type": "markdown",
   "metadata": {},
   "source": [
    "Find project root, append to path, and define wdir for data"
   ]
  },
  {
   "cell_type": "code",
   "execution_count": 2,
   "metadata": {
    "execution": {
     "iopub.execute_input": "2021-10-12T19:05:50.838762Z",
     "iopub.status.busy": "2021-10-12T19:05:50.838259Z",
     "iopub.status.idle": "2021-10-12T19:05:50.865985Z",
     "shell.execute_reply": "2021-10-12T19:05:50.864963Z",
     "shell.execute_reply.started": "2021-10-12T19:05:50.838695Z"
    }
   },
   "outputs": [],
   "source": [
    "sys.path.append(\"..\")\n",
    "from src import definitions as defs\n",
    "from src import features, models"
   ]
  },
  {
   "cell_type": "markdown",
   "metadata": {},
   "source": [
    "Import project modules from src folder"
   ]
  },
  {
   "cell_type": "code",
   "execution_count": 5,
   "metadata": {
    "execution": {
     "iopub.execute_input": "2021-10-12T19:06:06.067110Z",
     "iopub.status.busy": "2021-10-12T19:06:06.066537Z",
     "iopub.status.idle": "2021-10-12T19:06:06.097806Z",
     "shell.execute_reply": "2021-10-12T19:06:06.096761Z",
     "shell.execute_reply.started": "2021-10-12T19:06:06.067031Z"
    },
    "tags": []
   },
   "outputs": [],
   "source": [
    "wdir = defs.ROOT / \"data\" /\"interim\""
   ]
  },
  {
   "cell_type": "markdown",
   "metadata": {},
   "source": [
    "## Load tides\n",
    "\n",
    "Sutarkhali pressure data from 2019 collected by Rip Hale and Rachel Bain. Original data was sampled every 10 min. Data was cleaned, processed, and upscaled to 1 s using the OCE package (https://cran.r-project.org/web/packages/oce/) in R. Processed data is stored in `data/interim/` in the feather format.\n",
    "\n",
    "`tides.feather` is 1 yr of data sampled every 1 s\n",
    "\n",
    "`tides-debug.feather` is 1 inundation cycle sampled every 1 s"
   ]
  },
  {
   "cell_type": "code",
   "execution_count": 6,
   "metadata": {
    "execution": {
     "iopub.execute_input": "2021-10-12T19:06:07.038549Z",
     "iopub.status.busy": "2021-10-12T19:06:07.038337Z",
     "iopub.status.idle": "2021-10-12T19:06:07.070189Z",
     "shell.execute_reply": "2021-10-12T19:06:07.069195Z",
     "shell.execute_reply.started": "2021-10-12T19:06:07.038523Z"
    },
    "tags": []
   },
   "outputs": [
    {
     "ename": "FileNotFoundError",
     "evalue": "[Errno 2] No such file or directory: '/home/chris/projects/tidal_flat_0d/data/interim/tides.feather'",
     "output_type": "error",
     "traceback": [
      "\u001b[0;31m---------------------------------------------------------------------------\u001b[0m",
      "\u001b[0;31mFileNotFoundError\u001b[0m                         Traceback (most recent call last)",
      "\u001b[0;32m/tmp/ipykernel_205648/775834089.py\u001b[0m in \u001b[0;36m<module>\u001b[0;34m\u001b[0m\n\u001b[0;32m----> 1\u001b[0;31m \u001b[0mtides\u001b[0m \u001b[0;34m=\u001b[0m \u001b[0mfeatures\u001b[0m\u001b[0;34m.\u001b[0m\u001b[0mload_tide\u001b[0m\u001b[0;34m(\u001b[0m\u001b[0mwdir\u001b[0m\u001b[0;34m,\u001b[0m \u001b[0;34m\"tides.feather\"\u001b[0m\u001b[0;34m)\u001b[0m\u001b[0;34m\u001b[0m\u001b[0;34m\u001b[0m\u001b[0m\n\u001b[0m\u001b[1;32m      2\u001b[0m \u001b[0mtides\u001b[0m \u001b[0;34m=\u001b[0m \u001b[0mtides\u001b[0m \u001b[0;34m-\u001b[0m \u001b[0;34m(\u001b[0m\u001b[0mnp\u001b[0m\u001b[0;34m.\u001b[0m\u001b[0mmean\u001b[0m\u001b[0;34m(\u001b[0m\u001b[0mtides\u001b[0m\u001b[0;34m)\u001b[0m \u001b[0;34m+\u001b[0m \u001b[0;36m0.6\u001b[0m\u001b[0;34m)\u001b[0m\u001b[0;34m\u001b[0m\u001b[0;34m\u001b[0m\u001b[0m\n",
      "\u001b[0;32m~/projects/tidal_flat_0d/notebooks/../src/features.py\u001b[0m in \u001b[0;36mload_tide\u001b[0;34m(wdir, filename)\u001b[0m\n\u001b[1;32m    109\u001b[0m     \"\"\"\n\u001b[1;32m    110\u001b[0m     \u001b[0mfp\u001b[0m \u001b[0;34m=\u001b[0m \u001b[0mwdir\u001b[0m \u001b[0;34m/\u001b[0m \u001b[0mfilename\u001b[0m\u001b[0;34m\u001b[0m\u001b[0;34m\u001b[0m\u001b[0m\n\u001b[0;32m--> 111\u001b[0;31m     \u001b[0mdata\u001b[0m \u001b[0;34m=\u001b[0m \u001b[0mpd\u001b[0m\u001b[0;34m.\u001b[0m\u001b[0mread_feather\u001b[0m\u001b[0;34m(\u001b[0m\u001b[0mfp\u001b[0m\u001b[0;34m)\u001b[0m\u001b[0;34m\u001b[0m\u001b[0;34m\u001b[0m\u001b[0m\n\u001b[0m\u001b[1;32m    112\u001b[0m     \u001b[0mvals\u001b[0m \u001b[0;34m=\u001b[0m \u001b[0mdata\u001b[0m\u001b[0;34m.\u001b[0m\u001b[0melevation\u001b[0m\u001b[0;34m.\u001b[0m\u001b[0mvalues\u001b[0m\u001b[0;34m\u001b[0m\u001b[0;34m\u001b[0m\u001b[0m\n\u001b[1;32m    113\u001b[0m     \u001b[0mindex\u001b[0m \u001b[0;34m=\u001b[0m \u001b[0mpd\u001b[0m\u001b[0;34m.\u001b[0m\u001b[0mDatetimeIndex\u001b[0m\u001b[0;34m(\u001b[0m\u001b[0mdata\u001b[0m\u001b[0;34m.\u001b[0m\u001b[0mdatetime\u001b[0m\u001b[0;34m,\u001b[0m \u001b[0mfreq\u001b[0m\u001b[0;34m=\u001b[0m\u001b[0;34m\"infer\"\u001b[0m\u001b[0;34m)\u001b[0m\u001b[0;34m\u001b[0m\u001b[0;34m\u001b[0m\u001b[0m\n",
      "\u001b[0;32m/opt/conda/envs/python/lib/python3.9/site-packages/pandas/io/feather_format.py\u001b[0m in \u001b[0;36mread_feather\u001b[0;34m(path, columns, use_threads, storage_options)\u001b[0m\n\u001b[1;32m    124\u001b[0m     \u001b[0;32mfrom\u001b[0m \u001b[0mpyarrow\u001b[0m \u001b[0;32mimport\u001b[0m \u001b[0mfeather\u001b[0m\u001b[0;34m\u001b[0m\u001b[0;34m\u001b[0m\u001b[0m\n\u001b[1;32m    125\u001b[0m \u001b[0;34m\u001b[0m\u001b[0m\n\u001b[0;32m--> 126\u001b[0;31m     with get_handle(\n\u001b[0m\u001b[1;32m    127\u001b[0m         \u001b[0mpath\u001b[0m\u001b[0;34m,\u001b[0m \u001b[0;34m\"rb\"\u001b[0m\u001b[0;34m,\u001b[0m \u001b[0mstorage_options\u001b[0m\u001b[0;34m=\u001b[0m\u001b[0mstorage_options\u001b[0m\u001b[0;34m,\u001b[0m \u001b[0mis_text\u001b[0m\u001b[0;34m=\u001b[0m\u001b[0;32mFalse\u001b[0m\u001b[0;34m\u001b[0m\u001b[0;34m\u001b[0m\u001b[0m\n\u001b[1;32m    128\u001b[0m     ) as handles:\n",
      "\u001b[0;32m/opt/conda/envs/python/lib/python3.9/site-packages/pandas/io/common.py\u001b[0m in \u001b[0;36mget_handle\u001b[0;34m(path_or_buf, mode, encoding, compression, memory_map, is_text, errors, storage_options)\u001b[0m\n\u001b[1;32m    709\u001b[0m         \u001b[0;32melse\u001b[0m\u001b[0;34m:\u001b[0m\u001b[0;34m\u001b[0m\u001b[0;34m\u001b[0m\u001b[0m\n\u001b[1;32m    710\u001b[0m             \u001b[0;31m# Binary mode\u001b[0m\u001b[0;34m\u001b[0m\u001b[0;34m\u001b[0m\u001b[0m\n\u001b[0;32m--> 711\u001b[0;31m             \u001b[0mhandle\u001b[0m \u001b[0;34m=\u001b[0m \u001b[0mopen\u001b[0m\u001b[0;34m(\u001b[0m\u001b[0mhandle\u001b[0m\u001b[0;34m,\u001b[0m \u001b[0mioargs\u001b[0m\u001b[0;34m.\u001b[0m\u001b[0mmode\u001b[0m\u001b[0;34m)\u001b[0m\u001b[0;34m\u001b[0m\u001b[0;34m\u001b[0m\u001b[0m\n\u001b[0m\u001b[1;32m    712\u001b[0m         \u001b[0mhandles\u001b[0m\u001b[0;34m.\u001b[0m\u001b[0mappend\u001b[0m\u001b[0;34m(\u001b[0m\u001b[0mhandle\u001b[0m\u001b[0;34m)\u001b[0m\u001b[0;34m\u001b[0m\u001b[0;34m\u001b[0m\u001b[0m\n\u001b[1;32m    713\u001b[0m \u001b[0;34m\u001b[0m\u001b[0m\n",
      "\u001b[0;31mFileNotFoundError\u001b[0m: [Errno 2] No such file or directory: '/home/chris/projects/tidal_flat_0d/data/interim/tides.feather'"
     ]
    }
   ],
   "source": [
    "tides = features.load_tide(wdir, \"tides.feather\")\n",
    "tides = tides - (np.mean(tides) + 0.6)"
   ]
  },
  {
   "cell_type": "markdown",
   "metadata": {},
   "source": [
    "Downsample tide data"
   ]
  },
  {
   "cell_type": "code",
   "execution_count": null,
   "metadata": {},
   "outputs": [],
   "source": [
    "dt = 1  # seconds\n",
    "tides = tides.iloc[0::dt]"
   ]
  },
  {
   "cell_type": "markdown",
   "metadata": {},
   "source": [
    "## Set model parameters"
   ]
  },
  {
   "cell_type": "code",
   "execution_count": null,
   "metadata": {},
   "outputs": [],
   "source": [
    "# Set grain parameters and settling velocity\n",
    "grain_dia = 0.000035  # grain diameter (m)\n",
    "grain_den = 2650  # grain density (kg/m^3)\n",
    "settle_rate = models.stokes_settling(\n",
    "    grain_dia=grain_dia, grain_den=grain_den\n",
    ")  # settling rate determined by Stokes' Law\n",
    "\n",
    "# Set basic model parameters\n",
    "bound_conc = 1  # boundary concentration (g/L or kg/m^3)\n",
    "bulk_dens = 900  # dry bulk density of sediment (kg/m^3)\n",
    "min_depth = 0.001  # Minimum depth required before integrating. Used for stability at very shallow depths. (m)\n",
    "init_elev = 1.15  # initial elevation (m)\n",
    "years = 1  # total run length (yr)\n",
    "slr = 0.005  # yearly rate of sea level rise (m)"
   ]
  },
  {
   "cell_type": "markdown",
   "metadata": {
    "tags": []
   },
   "source": [
    "# Run model\n",
    "\n",
    "Run model for specified number of years and returns a `pandas.Series` for the tides and a `ResultClass` for the ODE solutions.\n",
    "\n",
    "`model_tides`: Tide series at the given timestep for the full length of the run with any sea level rise superimposed.\n",
    "\n",
    "`model_results`: Results modeled after `scipy.integrate.solve_ivp` results for conistency\n",
    "- `model_results.t`: numpy.ndarray of times (s)\n",
    "- `model_result.y`: list of ODE solutions for concentration and elevation\n",
    "  - `model_results.y[0]`: numpy.ndarray of concentrations (g/L)\n",
    "  - `model_results.y[1]`: numpy.ndarray of elevations (m)"
   ]
  },
  {
   "cell_type": "code",
   "execution_count": null,
   "metadata": {},
   "outputs": [],
   "source": [
    "model_tides, model_results = models.run_model(\n",
    "    tides=tides,\n",
    "    settle_rate=settle_rate,\n",
    "    bulk_dens=bulk_dens,\n",
    "    bound_conc=bound_conc,\n",
    "    org_rate=org_rate,\n",
    "    comp_rate=comp_rate,\n",
    "    sub_rate=sub_rate,\n",
    "    init_elev=init_elev,\n",
    "    years=years,\n",
    "    slr=slr,\n",
    "    min_depth=min_depth,\n",
    "    verbose=True,\n",
    ")"
   ]
  },
  {
   "cell_type": "markdown",
   "metadata": {
    "tags": []
   },
   "source": [
    "# Plot results"
   ]
  },
  {
   "cell_type": "markdown",
   "metadata": {},
   "source": [
    "Reformat data for plotting"
   ]
  },
  {
   "cell_type": "code",
   "execution_count": null,
   "metadata": {},
   "outputs": [],
   "source": [
    "scale_factor = 60 * 60 * 24 * 365  # factor to convert seconds to years for plotting\n",
    "\n",
    "# set vars from model results for plotting and adjust scale\n",
    "c = model_results.y[0]\n",
    "e = model_results.y[1]\n",
    "t = model_results.t / scale_factor\n",
    "\n",
    "# Convert tides to same scale for plotting\n",
    "plt_tides = pd.Series(data=model_tides.values, index=model_tides.index.total_seconds())\n",
    "h = plt_tides.values\n",
    "h_t = plt_tides.index.values / scale_factor"
   ]
  },
  {
   "cell_type": "markdown",
   "metadata": {},
   "source": [
    "Plot"
   ]
  },
  {
   "cell_type": "code",
   "execution_count": null,
   "metadata": {},
   "outputs": [],
   "source": [
    "# define figure and axes\n",
    "fig, axs = plt.subplots(3, 1)\n",
    "fig.set_figheight(10)\n",
    "fig.set_figwidth(15)\n",
    "\n",
    "# plot tides with elevation\n",
    "axs[0].plot(h_t, h, alpha=0.65)\n",
    "axs[0].plot(t, e, color=\"k\", ls=\"--\")\n",
    "axs[0].set_ylabel(\"Elevation (m)\")\n",
    "# axs[0].set_ylim(0)\n",
    "\n",
    "# plot concentration\n",
    "axs[1].plot(t, c, color=\"r\", alpha=0.65)\n",
    "axs[1].set_ylabel(\"Concentration (g/L)\")\n",
    "# axs[1].set_ylim(0)\n",
    "\n",
    "# plot elevation\n",
    "axs[2].plot(t, e, color=\"g\")\n",
    "axs[2].set_ylabel(\"Elevation (m)\")\n",
    "axs[2].set_xlabel(\"Years\")\n",
    "axs[2].set_ylim(np.min(e))\n",
    "\n",
    "# place text box of model results\n",
    "txt = \"$\\Delta\\eta$: {:.4f} m \\n $\\eta_{{T}}$: {:.4f} m\".format(\n",
    "    model_results.y[1][-1] - init_elev, model_results.y[1][-1]\n",
    ")\n",
    "axs[2].text(\n",
    "    0.85,\n",
    "    0.5,\n",
    "    txt,\n",
    "    transform=axs[2].transAxes,\n",
    "    fontsize=14,\n",
    "    verticalalignment=\"top\",\n",
    "    horizontalalignment=\"left\",\n",
    "    bbox=dict(boxstyle=\"square\", facecolor=\"white\"),\n",
    ")\n",
    "\n",
    "# configure axes and white space\n",
    "for ax in axs:\n",
    "    ax.set_xlim(0, np.ceil(np.max(h_t)))\n",
    "    ax.grid()\n",
    "plt.tight_layout()"
   ]
  }
 ],
 "metadata": {
  "kernelspec": {
   "display_name": "Python 3 (ipykernel)",
   "language": "python",
   "name": "python3"
  },
  "language_info": {
   "codemirror_mode": {
    "name": "ipython",
    "version": 3
   },
   "file_extension": ".py",
   "mimetype": "text/x-python",
   "name": "python",
   "nbconvert_exporter": "python",
   "pygments_lexer": "ipython3",
   "version": "3.9.7"
  },
  "widgets": {
   "application/vnd.jupyter.widget-state+json": {
    "state": {},
    "version_major": 2,
    "version_minor": 0
   }
  }
 },
 "nbformat": 4,
 "nbformat_minor": 4
}
