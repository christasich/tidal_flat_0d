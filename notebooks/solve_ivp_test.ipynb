{
 "cells": [
  {
   "cell_type": "code",
   "execution_count": 1,
   "id": "d16ae4bc-bf2b-4e4e-a28c-0ee91f40cd2b",
   "metadata": {},
   "outputs": [],
   "source": [
    "%load_ext autoreload\n",
    "%autoreload 2\n",
    "import os\n",
    "import sys\n",
    "import numpy as np\n",
    "import pandas as pd\n",
    "from matplotlib import pyplot as plt\n",
    "os.chdir('/home/chris/projects/tidal_flat_0d')"
   ]
  },
  {
   "cell_type": "code",
   "execution_count": 2,
   "id": "d10fae2f-5593-4837-b612-640bbe2ea668",
   "metadata": {},
   "outputs": [],
   "source": [
    "from src import features, models\n",
    "from pyprojroot import here\n",
    "root = here()\n",
    "sys.path.append(str(root))\n",
    "wdir = root / \"data\" / \"interim\""
   ]
  },
  {
   "cell_type": "code",
   "execution_count": 3,
   "id": "2c7219dc-b700-46cd-a437-e98937de1354",
   "metadata": {},
   "outputs": [],
   "source": [
    "tides = features.load_tide(wdir, \"tides-debug.feather\")"
   ]
  },
  {
   "cell_type": "code",
   "execution_count": 4,
   "id": "c7450d54-8f7e-4523-9f5e-f443a250d3da",
   "metadata": {},
   "outputs": [],
   "source": [
    "from src import models\n",
    "\n",
    "sim = models.Simulation(\n",
    "    tide_ts=tides,\n",
    "    land_elev_init=1.15,\n",
    "    conc_init=0.0,\n",
    "    conc_bound=1.0,\n",
    "    grain_diam=3.5e-5,\n",
    "    grain_dens=2.65e3,\n",
    "    bulk_dens=900,\n",
    "    org_rate=2e-4,\n",
    "    comp_rate=-3e-3,\n",
    "    sub_rate=-4e-3,\n",
    "    slr=0.0,\n",
    "    solver_method=\"DOP853\",\n",
    "    runs=1,\n",
    "    min_depth=0.0015,\n",
    "    dense_output=True,\n",
    "    save_inundations=True,\n",
    ")\n",
    "# I = sim.tides.find_inundation()"
   ]
  },
  {
   "cell_type": "code",
   "execution_count": 8,
   "id": "613e8a20-b631-4535-8cff-feb692b4bc89",
   "metadata": {},
   "outputs": [
    {
     "data": {
      "text/plain": [
       "Inundation @a6a5b0 \n",
       "index=array([ 5128,  5129,  5130, ..., 14392, 14393, 14394])\n",
       "tide_elev=array([1.15162168, 1.15174518, 1.15186865, ..., 1.15185932, 1.15173495,\n",
       "       1.15161055])\n",
       "land_elev_init=1.1499988292237442\n",
       "params=Params @5b80d0 \n",
       "timestep=1.0\n",
       "conc_init=0.0\n",
       "conc_bound=1.0\n",
       "grain_diam=3.5e-05\n",
       "grain_dens=2650.0\n",
       "bulk_dens=900\n",
       "org_rate=0.0002\n",
       "comp_rate=-0.003\n",
       "sub_rate=-0.004\n",
       "slr=0.0\n",
       "method='DOP853'\n",
       "min_depth=0.0015\n",
       "dense_output=True\n",
       "solver_method='DOP853'\n",
       "result=None"
      ]
     },
     "execution_count": 8,
     "metadata": {},
     "output_type": "execute_result"
    }
   ],
   "source": [
    "sim.tides.index[]"
   ]
  },
  {
   "cell_type": "code",
   "execution_count": null,
   "id": "37c8925d-433c-4457-9133-e19fb2676b3b",
   "metadata": {},
   "outputs": [],
   "source": [
    "I.aggrade()\n",
    "flood = I.result.attrs[\"flood\"]\n",
    "index = flood.t\n",
    "tide_elev = flood.y[0]\n",
    "conc = flood.y[1]\n",
    "land_elev = flood.y[2]\n",
    "depth = tide_elev - land_elev\n",
    "settle_rate = sim.params.settle_rate"
   ]
  },
  {
   "cell_type": "code",
   "execution_count": null,
   "id": "b4857981-cf49-4567-ad1e-f3279f9d649b",
   "metadata": {},
   "outputs": [],
   "source": [
    "class IC(pd.DataFrame):\n",
    "\n",
    "    # normal properties\n",
    "    _metadata = [\"flood\"]\n",
    "\n",
    "    @property\n",
    "    def _constructor(self):\n",
    "        return IC"
   ]
  },
  {
   "cell_type": "code",
   "execution_count": null,
   "id": "d9aced20-4438-4524-8af4-9547b693e5f6",
   "metadata": {},
   "outputs": [],
   "source": [
    "i = 2\n",
    "x = np.concatenate((I.result.attrs[\"flood\"].y, I.result.attrs[\"ebb\"].y), axis=1)[i]\n",
    "y = np.append(I.result.attrs[\"flood\"].y[i], I.result.attrs[\"ebb\"].y[i])\n",
    "(x == y).all()"
   ]
  },
  {
   "cell_type": "code",
   "execution_count": null,
   "id": "9d9fc728-b25d-4759-bb58-5845647d6d77",
   "metadata": {},
   "outputs": [],
   "source": []
  },
  {
   "cell_type": "code",
   "execution_count": null,
   "id": "e64e15ad-8ac5-4a57-b886-cb290431e6ff",
   "metadata": {
    "tags": []
   },
   "outputs": [],
   "source": [
    "y"
   ]
  },
  {
   "cell_type": "code",
   "execution_count": null,
   "id": "7cc7a9cf-3214-4c7f-bfe3-bb275bd2ee52",
   "metadata": {},
   "outputs": [],
   "source": [
    "import pandas as pd\n",
    "class SubDF(pd.DataFrame):\n",
    "\n",
    "    _metadata = [\"pos\"]\n",
    "\n",
    "    def __init__(self, pandas_obj=None, *args, **kwargs):\n",
    "        super().__init__(pandas_obj, *args, **kwargs)\n",
    "        self.pos = (1,2,3)\n",
    "\n",
    "    @property\n",
    "    def _constructor(*self):\n",
    "        return SubDF"
   ]
  },
  {
   "cell_type": "code",
   "execution_count": null,
   "id": "38d348f8-4dfb-4079-838e-49d9ea540d43",
   "metadata": {},
   "outputs": [],
   "source": [
    "x = SubDF(data=df)"
   ]
  },
  {
   "cell_type": "code",
   "execution_count": null,
   "id": "6600e01c-309b-4475-a71d-1b97891015c1",
   "metadata": {},
   "outputs": [],
   "source": [
    "iris."
   ]
  },
  {
   "cell_type": "code",
   "execution_count": null,
   "id": "df58a94d-a361-45a2-aa41-a13fe2fbf6f9",
   "metadata": {},
   "outputs": [],
   "source": [
    "z"
   ]
  },
  {
   "cell_type": "code",
   "execution_count": null,
   "id": "ba4f0e29-6756-454d-aadc-2459f916cada",
   "metadata": {},
   "outputs": [],
   "source": [
    "class TidalDataFrame(pd.DataFrame):\n",
    "    \n",
    "    _metadata = [\"params\", \"pos\", \"flood\", \"ebb\", \"aggradation\", \"degradation\", \"start_time\", \"end_time\"]\n",
    "\n",
    "    @property\n",
    "    def _constructor(self):\n",
    "        return TidalDataFrame\n",
    "\n",
    "class Tides(TidalDataFrame):\n",
    "\n",
    "    def __init__(self, tide_ts, land_elev_init, params):\n",
    "        land_elev = land_elev_init - tide_ts.index.values * params.linear_rate_sec\n",
    "        df = pd.DataFrame(data={\"tide_elev\": tide_ts.values, \"land_elev\": land_elev}, index=tide_ts.index.values)\n",
    "        super().__init__(df)\n",
    "        self.pos = 0\n",
    "        self.params = params"
   ]
  },
  {
   "cell_type": "code",
   "execution_count": null,
   "id": "7913e926-ed54-42ef-bfc3-a7eb01273b10",
   "metadata": {},
   "outputs": [],
   "source": [
    "x = Tides(tide_ts=sim.tides.tide_elev, land_elev_init=1.0, params=sim.params)"
   ]
  },
  {
   "cell_type": "code",
   "execution_count": null,
   "id": "66311265-eea5-44c3-afdc-44242b8649cf",
   "metadata": {},
   "outputs": [],
   "source": []
  },
  {
   "cell_type": "code",
   "execution_count": null,
   "id": "f5157a77-87c9-44e8-9669-e6b11122afdd",
   "metadata": {},
   "outputs": [],
   "source": [
    "1.0 - (tide_ts.index.values * sim.params.linear_rate_sec)"
   ]
  },
  {
   "cell_type": "code",
   "execution_count": null,
   "id": "e377c71b-c6ac-43f2-9445-a679f789e3fb",
   "metadata": {},
   "outputs": [],
   "source": [
    "df = pd.DataFrame(data={\"tide_elev\": tide_ts.tide_elev.values, \"land_elev\": tide_ts.land_elev.values}, index=tide_ts.index.values)"
   ]
  },
  {
   "cell_type": "code",
   "execution_count": null,
   "id": "4db1ea26-1578-4e59-afa0-5a32f941cbc7",
   "metadata": {},
   "outputs": [],
   "source": [
    "x = TideDataFrame(df)"
   ]
  },
  {
   "cell_type": "code",
   "execution_count": null,
   "id": "b2b4affa-1de7-4f7b-b6fc-56280ecb0679",
   "metadata": {},
   "outputs": [],
   "source": [
    "x"
   ]
  },
  {
   "cell_type": "code",
   "execution_count": null,
   "id": "443ce5cd-1991-4a8b-8d9c-8d9066a0d65f",
   "metadata": {},
   "outputs": [],
   "source": [
    "class TideDataFrame(pd.DataFrame):\n",
    "\n",
    "    def __init__(self, **kwargs):\n",
    "        if all(val is None for val in kwargs.values()):\n",
    "            columns = [kwarg for kwarg in kwargs.keys() if kwarg != \"index\"]\n",
    "            df = pd.DataFrame(columns=columns)\n",
    "        else:\n",
    "            data = {key:val for key, val in kwargs.items() if key != \"index\"}\n",
    "            df = pd.DataFrame(data=data, index=kwargs['index'])\n",
    "        super(TideDataFrame, self).__init__(df)\n",
    "class Tides(TideDataFrame):\n",
    "    _metadata = [\"params\", \"pos\"]\n",
    "\n",
    "#     @property\n",
    "#     def _constructor(self):\n",
    "#         return Tides\n",
    "\n",
    "    def __init__(self, tide_ts, land_elev_init, params):\n",
    "        land_elev = land_elev_init - tide_ts.index.values * params.linear_rate_sec\n",
    "        df = pd.DataFrame()\n",
    "        super(Tides, self).__init__(\n",
    "            \n",
    "        )\n",
    "\n",
    "    def __repr__(self):\n",
    "        return \"{name} @{id:x} {attrs}\".format(\n",
    "            name=self.__class__.__name__,\n",
    "            id=id(self) & 0xFFFFFF,\n",
    "            attrs=\"\".join(\"\\n{}={!r}\".format(k, v) for k, v in self.__dict__.items()),\n",
    "        )\n",
    "\n",
    "    @property\n",
    "    def zero_crossings(self):\n",
    "        crossings = self.loc[\n",
    "            np.where(\n",
    "                np.diff(\n",
    "                    np.signbit(\n",
    "                        self.tide_elev\n",
    "                        - (self.land_elev + self.attrs[\"params\"].min_depth)\n",
    "                    )\n",
    "                )\n",
    "            )[0]\n",
    "            + 1\n",
    "        ].index.values\n",
    "\n",
    "        return crossings\n",
    "\n",
    "    def find_inundation(self):\n",
    "        remaining_crossings = self.zero_crossings\n",
    "        while True:\n",
    "            if len(remaining_crossings) == 0:\n",
    "                return None\n",
    "            elif len(remaining_crossings) == 1:\n",
    "                print(\"Warning: Partial inundation cycle!\")\n",
    "                start = remaining_crossings[0]\n",
    "                end = self.index.values[-1]\n",
    "            elif len(remaining_crossings) > 1:\n",
    "                start, end = remaining_crossings[0:2]\n",
    "\n",
    "            if end - start < 4:\n",
    "                remaining_crossings = remaining_crossings[2:]\n",
    "                print(\"Small inundation at t={}->{}. Skipping.\")\n",
    "                continue\n",
    "\n",
    "            subset = self.loc[start:end]\n",
    "\n",
    "            assert (\n",
    "                subset.tide_elev\n",
    "                > subset.land_elev + self.attrs[\"params\"].linear_rate_sec\n",
    "            ).all()\n",
    "\n",
    "            inundation = Inundation(\n",
    "                index=subset.index.values,\n",
    "                tide_elev=subset.tide_elev.values,\n",
    "                land_elev_init=subset.land_elev.values[0],\n",
    "                params=self.attrs[\"params\"],\n",
    "            )\n",
    "\n",
    "            return inundation"
   ]
  },
  {
   "cell_type": "code",
   "execution_count": null,
   "id": "89684904-48bd-4ed2-b4a9-e6920588f83c",
   "metadata": {},
   "outputs": [],
   "source": [
    "sim.params"
   ]
  },
  {
   "cell_type": "code",
   "execution_count": null,
   "id": "9ef41f7d-e0fe-498b-bd8a-ebabcd120c3f",
   "metadata": {},
   "outputs": [],
   "source": [
    "x = Tides(tide_ts=tide_ts, land_elev_init=1.0, params=sim.params)"
   ]
  },
  {
   "cell_type": "code",
   "execution_count": null,
   "id": "30eeb281-c647-4025-a588-9c37c48c759d",
   "metadata": {},
   "outputs": [],
   "source": [
    "tide_ts = sim.tides"
   ]
  },
  {
   "cell_type": "code",
   "execution_count": null,
   "id": "44030bcb-2453-41e5-ae49-82bcbccaca0d",
   "metadata": {},
   "outputs": [],
   "source": [
    "[i==1 for i in kwargs.values()]"
   ]
  },
  {
   "cell_type": "code",
   "execution_count": null,
   "id": "01b257dd-acea-4761-95fb-3e294c8ffab4",
   "metadata": {},
   "outputs": [],
   "source": [
    "kwarg"
   ]
  },
  {
   "cell_type": "code",
   "execution_count": null,
   "id": "5dc64c69-7e11-47ad-b330-8abe82b23f3c",
   "metadata": {},
   "outputs": [],
   "source": [
    "[kwarg for kwarg in kwargs.items() if kwar"
   ]
  },
  {
   "cell_type": "code",
   "execution_count": null,
   "id": "12fc1b40-ac7f-4295-b835-b08ea3d02af3",
   "metadata": {},
   "outputs": [],
   "source": [
    "keys, vals = kwargs.keys()"
   ]
  },
  {
   "cell_type": "code",
   "execution_count": null,
   "id": "20605533-e71c-4ae3-93d5-755fbc9b0297",
   "metadata": {},
   "outputs": [],
   "source": [
    "[i for i in kwargs.keys() if i != \"cat\"]"
   ]
  },
  {
   "cell_type": "code",
   "execution_count": null,
   "id": "2b6a2c7e-a5c5-4050-8fce-137a9359447a",
   "metadata": {},
   "outputs": [],
   "source": [
    "[i for i in kwargs.items()]"
   ]
  },
  {
   "cell_type": "code",
   "execution_count": null,
   "id": "2eab8a57-ea81-4af1-b430-3f8da0e3c4fe",
   "metadata": {},
   "outputs": [],
   "source": [
    "{key:val for key, val in kwargs.items() if key != \"cat\"}"
   ]
  },
  {
   "cell_type": "code",
   "execution_count": null,
   "id": "f440a79d-69cc-49f8-ae99-fe959475cc01",
   "metadata": {},
   "outputs": [],
   "source": [
    "kwargs['dog']"
   ]
  },
  {
   "cell_type": "code",
   "execution_count": null,
   "id": "aab5d196-5b61-4820-b38b-d23d178ec144",
   "metadata": {},
   "outputs": [],
   "source": []
  }
 ],
 "metadata": {
  "kernelspec": {
   "display_name": "Python 3",
   "language": "python",
   "name": "python3"
  },
  "language_info": {
   "codemirror_mode": {
    "name": "ipython",
    "version": 3
   },
   "file_extension": ".py",
   "mimetype": "text/x-python",
   "name": "python",
   "nbconvert_exporter": "python",
   "pygments_lexer": "ipython3",
   "version": "3.8.8"
  },
  "widgets": {
   "application/vnd.jupyter.widget-state+json": {
    "state": {},
    "version_major": 2,
    "version_minor": 0
   }
  }
 },
 "nbformat": 4,
 "nbformat_minor": 5
}
