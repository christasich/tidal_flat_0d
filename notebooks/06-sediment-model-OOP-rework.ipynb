{
 "cells": [
  {
   "cell_type": "markdown",
   "metadata": {
    "tags": []
   },
   "source": [
    "# Setup"
   ]
  },
  {
   "cell_type": "markdown",
   "metadata": {},
   "source": [
    " Import standard modules"
   ]
  },
  {
   "cell_type": "code",
   "execution_count": 4,
   "metadata": {
    "execution": {
     "iopub.execute_input": "2021-10-12T19:08:27.895267Z",
     "iopub.status.busy": "2021-10-12T19:08:27.894544Z",
     "iopub.status.idle": "2021-10-12T19:08:27.940914Z",
     "shell.execute_reply": "2021-10-12T19:08:27.939712Z",
     "shell.execute_reply.started": "2021-10-12T19:08:27.895190Z"
    },
    "tags": []
   },
   "outputs": [
    {
     "name": "stdout",
     "output_type": "stream",
     "text": [
      "The autoreload extension is already loaded. To reload it, use:\n",
      "  %reload_ext autoreload\n"
     ]
    }
   ],
   "source": [
    "%load_ext autoreload\n",
    "%autoreload 2\n",
    "%matplotlib widget\n",
    "import os\n",
    "import numpy as np\n",
    "import pandas as pd\n",
    "import time\n",
    "import seaborn as sns\n",
    "sns.set()\n",
    "from matplotlib import pyplot as plt\n",
    "from matplotlib.widgets import MultiCursor\n",
    "from scipy.signal import argrelmin, argrelmax\n",
    "from scipy.interpolate import InterpolatedUnivariateSpline\n",
    "from sklearn.linear_model import LinearRegression\n",
    "import sys\n",
    "sys.path.append(\"..\")\n",
    "from src import definitions as defs\n",
    "from src import features, models"
   ]
  },
  {
   "cell_type": "code",
   "execution_count": 5,
   "metadata": {
    "execution": {
     "iopub.execute_input": "2021-10-12T19:08:28.057145Z",
     "iopub.status.busy": "2021-10-12T19:08:28.056109Z",
     "iopub.status.idle": "2021-10-12T19:08:28.078494Z",
     "shell.execute_reply": "2021-10-12T19:08:28.077215Z",
     "shell.execute_reply.started": "2021-10-12T19:08:28.057111Z"
    },
    "tags": []
   },
   "outputs": [],
   "source": [
    "wdir = defs.ROOT / \"data\" / \"interim\""
   ]
  },
  {
   "cell_type": "markdown",
   "metadata": {},
   "source": [
    "Import project modules from src folder"
   ]
  },
  {
   "cell_type": "code",
   "execution_count": 6,
   "metadata": {
    "execution": {
     "iopub.execute_input": "2021-10-12T19:08:38.776771Z",
     "iopub.status.busy": "2021-10-12T19:08:38.775435Z",
     "iopub.status.idle": "2021-10-12T19:09:08.728618Z",
     "shell.execute_reply": "2021-10-12T19:09:08.727620Z",
     "shell.execute_reply.started": "2021-10-12T19:08:38.776735Z"
    },
    "tags": []
   },
   "outputs": [],
   "source": [
    "MSL = 1.12\n",
    "beta_mean = 6.25e-3\n",
    "beta_mean_high = 14.5e-3\n",
    "beta_mean_low = -2e-3\n",
    "tides = features.load_tide(wdir, \"tides-50yr-30s.feather\")\n",
    "tides = tides.to_frame(name=\"elevation\")\n",
    "tides[\"elapsed_sec\"] = (tides.index - tides.index[0]).total_seconds().astype(int)\n",
    "tides = tides[[\"elapsed_sec\", \"elevation\"]]\n",
    "\n",
    "lm1 = LinearRegression()\n",
    "X1 = ((tides.index - tides.index[0]).total_seconds().values / pd.Timedelta(days=365).total_seconds()).reshape(-1, 1)\n",
    "Y1 = tides.elevation.values.reshape(-1, 1)\n",
    "lm1.fit(X1, Y1)\n",
    "beta_mean_high = beta_mean_high - lm1.coef_[0][0]\n",
    "beta_mean_low = beta_mean_low - lm1.coef_[0][0]\n",
    "\n",
    "highs = tides.loc[tides.index[argrelmax(tides.elevation.values)[0]]]\n",
    "lows = tides.loc[tides.index[argrelmin(tides.elevation.values)[0]]]\n",
    "\n",
    "tides_d2dt = np.gradient(tides.elevation.values, 30.0)\n",
    "inflect_iloc = np.concatenate((argrelmax(tides_d2dt)[0], argrelmin(tides_d2dt)[0]))\n",
    "inflect_iloc.sort(kind=\"mergesort\")\n",
    "inflects = tides.loc[tides.index[inflect_iloc]]"
   ]
  },
  {
   "cell_type": "code",
   "execution_count": 7,
   "metadata": {},
   "outputs": [],
   "source": [
    "start = tides.index[0]\n",
    "end = start + pd.DateOffset(years=1)\n",
    "subset = tides[start:end]\n",
    "\n",
    "subset_highs = subset.iloc[argrelmax(subset.elevation.values)[0]]\n",
    "subset_lows = subset.iloc[argrelmin(subset.elevation.values)[0]]\n",
    "subset_extrema = pd.concat([subset_highs, subset_lows]).sort_index()\n",
    "\n",
    "tides_d2dt = np.gradient(subset.elevation.values, 30.0)\n",
    "\n",
    "new_highs = highs.elevation + beta_mean_high * highs.elapsed_sec / pd.Timedelta(days=365).total_seconds()\n",
    "new_lows = lows.elevation + beta_mean_low * lows.elapsed_sec / pd.Timedelta(days=365).total_seconds()"
   ]
  },
  {
   "cell_type": "code",
   "execution_count": 8,
   "metadata": {},
   "outputs": [],
   "source": [
    "highs[\"elevation_new\"] = new_highs\n",
    "lows[\"elevation_new\"] = new_lows\n",
    "nodes = pd.concat([highs, lows, inflects], keys=[\"highs\", \"lows\", \"inflects\"], names=[\"type\"]).reset_index(level=[0]).sort_index()"
   ]
  },
  {
   "cell_type": "code",
   "execution_count": 9,
   "metadata": {},
   "outputs": [
    {
     "data": {
      "application/vnd.jupyter.widget-view+json": {
       "model_id": "b7ab25a7e53a4756a045cd559914b97c",
       "version_major": 2,
       "version_minor": 0
      },
      "text/plain": [
       "Canvas(toolbar=Toolbar(toolitems=[('Home', 'Reset original view', 'home', 'home'), ('Back', 'Back to previous …"
      ]
     },
     "metadata": {},
     "output_type": "display_data"
    },
    {
     "data": {
      "text/plain": [
       "<AxesSubplot:xlabel='datetime'>"
      ]
     },
     "execution_count": 9,
     "metadata": {},
     "output_type": "execute_result"
    }
   ],
   "source": [
    "lm2 = LinearRegression()\n",
    "X2 = ((new_highs.index - tides.index[0]).total_seconds().values / pd.Timedelta(days=365).total_seconds()).reshape(-1, 1)\n",
    "Y2 = new_highs.values.reshape(-1, 1)\n",
    "lm2.fit(X2, Y2)\n",
    "new_highs_pred = lm2.predict(X2).reshape(-1)\n",
    "new_highs_label = \"$\\zeta_{{HT}}={:.4f}t {:+.4f}$\".format(lm2.coef_[0][0], lm2.intercept_[0])\n",
    "\n",
    "lm3 = LinearRegression()\n",
    "X3 = ((new_lows.index - tides.index[0]).total_seconds().values / pd.Timedelta(days=365).total_seconds()).reshape(-1, 1)\n",
    "Y3 = new_lows.values.reshape(-1, 1)\n",
    "lm3.fit(X3, Y3)\n",
    "new_lows_pred = lm3.predict(X3).reshape(-1)\n",
    "new_lows_label = \"$\\zeta_{{LT}}={:.4f}t {:+.4f}$\".format(lm3.coef_[0][0], lm3.intercept_[0])\n",
    "\n",
    "fig = plt.figure(figsize=(10, 5))\n",
    "ax = sns.scatterplot(x=highs.index, y=new_highs, marker=\".\", color=\"forestgreen\", edgecolor=None)\n",
    "sns.lineplot(ax=ax, x=highs.index, y=new_highs_pred, color=\"forestgreen\", label=new_highs_label)\n",
    "sns.scatterplot(ax=ax, x=lows.index, y=new_lows, marker=\".\", color=\"tomato\", edgecolor=None)\n",
    "sns.lineplot(ax=ax, x=lows.index, y=new_lows_pred, color=\"tomato\", label=new_lows_label)"
   ]
  },
  {
   "cell_type": "code",
   "execution_count": 10,
   "metadata": {},
   "outputs": [
    {
     "data": {
      "application/vnd.jupyter.widget-view+json": {
       "model_id": "a0806543346e492da2d4a5674163e6b2",
       "version_major": 2,
       "version_minor": 0
      },
      "text/plain": [
       "Canvas(toolbar=Toolbar(toolitems=[('Home', 'Reset original view', 'home', 'home'), ('Back', 'Back to previous …"
      ]
     },
     "metadata": {},
     "output_type": "display_data"
    },
    {
     "data": {
      "text/plain": [
       "<matplotlib.legend.Legend at 0x7fcfb8c27be0>"
      ]
     },
     "execution_count": 10,
     "metadata": {},
     "output_type": "execute_result"
    }
   ],
   "source": [
    "start = subset.index[0]\n",
    "stop = start + pd.Timedelta(days=7)\n",
    "sample = tides.loc[start:stop].reset_index()\n",
    "sample_h = highs.loc[start:stop].reset_index()\n",
    "sample_l = lows.loc[start:stop].reset_index()\n",
    "sample_inf = inflects.loc[start:stop].reset_index()\n",
    "\n",
    "window = highs.reset_index().datetime.diff().mean()\n",
    "roll_mean = sample.rolling(window=window, on=\"datetime\").mean()\n",
    "\n",
    "fig = plt.figure(figsize=(10, 5))\n",
    "ax = plt.axes()\n",
    "\n",
    "sns.lineplot(data=sample, x=\"datetime\", y=\"elevation\", color=\"cornflowerblue\", alpha=0.5, label=\"Tides\", ax=ax,)\n",
    "sample_h.plot.scatter(x=\"datetime\", y=\"elevation\", color=\"green\", label=\"Highs\", ax=ax)\n",
    "sample_l.plot.scatter(x=\"datetime\", y=\"elevation\", color=\"red\", label=\"Lows\", ax=ax)\n",
    "sns.scatterplot(data=sample_inf, x=\"datetime\", y=\"elevation\", ax=ax, color=\"black\")\n",
    "ax.margins(x=0.0)\n",
    "ax.legend()"
   ]
  },
  {
   "cell_type": "code",
   "execution_count": 11,
   "metadata": {},
   "outputs": [],
   "source": [
    "starts = nodes.reset_index().datetime.to_frame(name=\"start\")\n",
    "stops = nodes.reset_index().datetime.shift(-1).to_frame(name=\"stop\")\n",
    "df = starts[:-1].join(stops[:-1])\n",
    "df[\"method\"] = np.tile([1,2,3,4], reps=int(len(nodes) / 4))"
   ]
  },
  {
   "cell_type": "code",
   "execution_count": 12,
   "metadata": {},
   "outputs": [],
   "source": [
    "df.loc[(df.method==1) | (df.method==3), \"inflect\"] = nodes.loc[df[(df.method==1) | (df.method==3)].start].elevation.values\n",
    "df.loc[(df.method==1) | (df.method==3), \"extrema\"] = nodes.loc[df[(df.method==1) | (df.method==3)].stop].elevation.values\n",
    "df.loc[(df.method==1) | (df.method==3), \"extrema_new\"] = nodes.loc[df[(df.method==1) | (df.method==3)].stop].elevation_new.values\n",
    "\n",
    "df.loc[(df.method==2) | (df.method==4), \"inflect\"] = nodes.loc[df[(df.method==2) | (df.method==4)].stop].elevation.values\n",
    "df.loc[(df.method==2) | (df.method==4), \"extrema\"] = nodes.loc[df[(df.method==2) | (df.method==4)].start].elevation.values\n",
    "df.loc[(df.method==2) | (df.method==4), \"extrema_new\"] = nodes.loc[df[(df.method==2) | (df.method==4)].start].elevation_new.values\n",
    "\n",
    "df[\"difference\"] = df.extrema_new - df.extrema"
   ]
  },
  {
   "cell_type": "code",
   "execution_count": null,
   "metadata": {},
   "outputs": [],
   "source": [
    "amplified_tides = []\n",
    "for row in df.itertuples():\n",
    "    if row.method == 1 or row.method == 2:\n",
    "        old = tides.loc[row.start:row.stop].elevation\n",
    "        weights = (old - old.min()) / (old.max() - old.min())\n",
    "        new = old + weights * row.difference\n",
    "    elif row.method == 3 or row.method == 4:\n",
    "        old = tides.loc[row.start:row.stop].elevation\n",
    "        weights = (old.max() - old) / (old.max() - old.min())\n",
    "        new = old + weights * row.difference\n",
    "    amplified_tides.append(new)\n",
    "    \n",
    "amplified_tides = pd.concat(amplified_tides).drop_duplicates().to_frame(name=\"elevation\")\n",
    "\n",
    "lm4 = LinearRegression()\n",
    "X4 = ((amplified_tides.index - amplified_tides.index[0]).total_seconds().values / pd.Timedelta(days=365).total_seconds()).reshape(-1, 1)\n",
    "Y4 = amplified_tides.elevation.values.reshape(-1, 1)\n",
    "lm4.fit(X4, Y4)\n",
    "amplified_tides[\"lm\"] = lm4.predict(X4).reshape(-1)\n",
    "amplified_tides_label = \"$\\zeta_{{MW}}={:.4f}t {:+.4f}$\".format(lm4.coef_[0][0], lm4.intercept_[0])"
   ]
  },
  {
   "cell_type": "code",
   "execution_count": null,
   "metadata": {},
   "outputs": [
    {
     "data": {
      "application/vnd.jupyter.widget-view+json": {
       "model_id": "ed417e56a73444a1a8b21eda1684c19c",
       "version_major": 2,
       "version_minor": 0
      },
      "text/plain": [
       "Canvas(toolbar=Toolbar(toolitems=[('Home', 'Reset original view', 'home', 'home'), ('Back', 'Back to previous …"
      ]
     },
     "metadata": {},
     "output_type": "display_data"
    }
   ],
   "source": [
    "plt.close(\"all\")\n",
    "i = amplified_tides.index[0]\n",
    "# ii = i + pd.Timedelta(days=365)\n",
    "ii = amplified_tides.index[-1]\n",
    "\n",
    "subset = amplified_tides.loc[i:ii]\n",
    "subset_highs = subset.loc[subset.index[argrelmax(subset.elevation.values)[0]]]\n",
    "subset_lows = subset.loc[subset.index[argrelmin(subset.elevation.values)[0]]]\n",
    "\n",
    "subset_lm = LinearRegression()\n",
    "subset_x = ((subset.index - subset.index[0]).total_seconds().values / pd.Timedelta(days=365).total_seconds()).reshape(-1, 1)\n",
    "subset_lm.fit(subset_x, subset.elevation.values.reshape(-1, 1))\n",
    "\n",
    "subset_highs_lm = LinearRegression()\n",
    "subset_highs_x = ((subset_highs.index - subset.index[0]).total_seconds().values / pd.Timedelta(days=365).total_seconds()).reshape(-1, 1)\n",
    "subset_highs_lm.fit(subset_highs_x, subset_highs.elevation.values.reshape(-1, 1))\n",
    "\n",
    "subset_lows_lm = LinearRegression()\n",
    "subset_lows_x = ((subset_lows.index - subset.index[0]).total_seconds().values / pd.Timedelta(days=365).total_seconds()).reshape(-1, 1)\n",
    "subset_lows_lm.fit(subset_lows_x, subset_lows.elevation.values.reshape(-1, 1))\n",
    "\n",
    "n = pd.Timedelta(minutes=60)\n",
    "subset = subset.resample(n).first()\n",
    "num_index = ((subset.index - subset.index[0]).total_seconds().values / pd.Timedelta(days=365).total_seconds()).reshape(-1, 1)\n",
    "\n",
    "fig = plt.figure(figsize=(10, 5))\n",
    "ax = plt.axes()\n",
    "\n",
    "sns.scatterplot(ax=ax, x=subset.index, y=subset.elevation, color=\"cornflowerblue\", edgecolor=None, alpha=0.3)\n",
    "sns.scatterplot(ax=ax, x=subset_highs.index, y=subset_highs.elevation, color=\"forestgreen\", edgecolor=None)\n",
    "sns.scatterplot(ax=ax, x=subset_lows.index, y=subset_lows.elevation, color=\"tomato\", edgecolor=None)\n",
    "\n",
    "sns.lineplot(ax=ax, x=subset.index, y=subset_lm.predict(num_index).reshape(-1), color=\"white\", linewidth=3.5)\n",
    "sns.lineplot(ax=ax, x=subset.index, y=subset_lm.predict(num_index).reshape(-1), color=\"cornflowerblue\", linewidth=3)\n",
    "\n",
    "\n",
    "sns.lineplot(ax=ax, x=subset.index, y=subset_highs_lm.predict(num_index).reshape(-1), color=\"white\", linewidth=3.5)\n",
    "sns.lineplot(ax=ax, x=subset.index, y=subset_highs_lm.predict(num_index).reshape(-1), color=\"forestgreen\", linewidth=3)\n",
    "\n",
    "sns.lineplot(ax=ax, x=subset.index, y=subset_lows_lm.predict(num_index).reshape(-1), color=\"white\", linewidth=3.5)\n",
    "sns.lineplot(ax=ax, x=subset.index, y=subset_lows_lm.predict(num_index).reshape(-1), color=\"tomato\", linewidth=3)"
   ]
  },
  {
   "cell_type": "code",
   "execution_count": 18,
   "metadata": {},
   "outputs": [
    {
     "data": {
      "application/vnd.jupyter.widget-view+json": {
       "model_id": "d66cc3f58bb445bbb75fa44c070672b9",
       "version_major": 2,
       "version_minor": 0
      },
      "text/plain": [
       "Progress:   0%|          | 0/3652 [00:00<?, ?day/s]"
      ]
     },
     "metadata": {},
     "output_type": "display_data"
    },
    {
     "name": "stdout",
     "output_type": "stream",
     "text": [
      "----------------------------------------\n",
      "Starting elevation:       2.600       m\n",
      "Final elevation:          2.780       m\n",
      "Elevation change:         18.042     cm\n",
      "----------------------------------------\n",
      "Aggradation:              24.695     cm\n",
      "Degradation:              6.801      cm\n",
      "----------------------------------------\n",
      "Runtime:                    03 min 36 s\n"
     ]
    }
   ],
   "source": [
    "from src import models\n",
    "ts = features.load_tide(wdir, \"tides-10yr-30s.feather\") + MSL\n",
    "tf = models.TidalFlat(\n",
    "    tides=ts,\n",
    "    land_elev_init=2.6,\n",
    "    conc_bound=0.3,\n",
    "    grain_diam=3.0e-5,\n",
    "    grain_dens=2.65e3,\n",
    "    bulk_dens=900,\n",
    "    org_rate_yr=2e-4,\n",
    "    comp_rate_yr=4e-3,\n",
    "    sub_rate_yr=3e-3,\n",
    ")\n",
    "tf.run()\n"
   ]
  },
  {
   "cell_type": "code",
   "execution_count": 22,
   "metadata": {},
   "outputs": [
    {
     "data": {
      "application/vnd.jupyter.widget-view+json": {
       "model_id": "5c34b84ea5b64a4281d2a41abadabdcd",
       "version_major": 2,
       "version_minor": 0
      },
      "text/plain": [
       "Canvas(toolbar=Toolbar(toolitems=[('Home', 'Reset original view', 'home', 'home'), ('Back', 'Back to previous …"
      ]
     },
     "metadata": {},
     "output_type": "display_data"
    }
   ],
   "source": [
    "plt.close(\"all\")\n",
    "tf.plot(frac=0.01)"
   ]
  },
  {
   "cell_type": "code",
   "execution_count": 23,
   "metadata": {},
   "outputs": [
    {
     "data": {
      "application/vnd.jupyter.widget-view+json": {
       "model_id": "6e90e3c8a2b94442b85f7d178eab3304",
       "version_major": 2,
       "version_minor": 0
      },
      "text/plain": [
       "Canvas(toolbar=Toolbar(toolitems=[('Home', 'Reset original view', 'home', 'home'), ('Back', 'Back to previous …"
      ]
     },
     "metadata": {},
     "output_type": "display_data"
    }
   ],
   "source": [
    "plt.close(\"all\")\n",
    "tf.inundations[1].plot()"
   ]
  },
  {
   "cell_type": "code",
   "execution_count": 44,
   "metadata": {},
   "outputs": [
    {
     "data": {
      "application/vnd.jupyter.widget-view+json": {
       "model_id": "9b98b6deb6354420b61f74687bd442ac",
       "version_major": 2,
       "version_minor": 0
      },
      "text/plain": [
       "Canvas(toolbar=Toolbar(toolitems=[('Home', 'Reset original view', 'home', 'home'), ('Back', 'Back to previous …"
      ]
     },
     "metadata": {},
     "output_type": "display_data"
    },
    {
     "data": {
      "text/plain": [
       "<AxesSubplot:xlabel='datetime'>"
      ]
     },
     "execution_count": 44,
     "metadata": {},
     "output_type": "execute_result"
    }
   ],
   "source": [
    "plt.close(\"all\")\n",
    "df = tf.results.set_index(\"datetime\")\n",
    "df[\"land_elev_delta\"] = df.land_elev.diff()\n",
    "df[\"land_elev_delta_yearly_avg\"] = df.land_elev_delta.rolling(window=pd.offsets.Day(365)).sum()\n",
    "df[\"land_elev_delta_yearly_avg\"].plot()"
   ]
  },
  {
   "cell_type": "code",
   "execution_count": null,
   "metadata": {},
   "outputs": [],
   "source": []
  }
 ],
 "metadata": {
  "kernelspec": {
   "display_name": "Python 3 (ipykernel)",
   "language": "python",
   "name": "python3"
  },
  "language_info": {
   "codemirror_mode": {
    "name": "ipython",
    "version": 3
   },
   "file_extension": ".py",
   "mimetype": "text/x-python",
   "name": "python",
   "nbconvert_exporter": "python",
   "pygments_lexer": "ipython3",
   "version": "3.9.7"
  },
  "widgets": {
   "application/vnd.jupyter.widget-state+json": {
    "state": {},
    "version_major": 2,
    "version_minor": 0
   }
  }
 },
 "nbformat": 4,
 "nbformat_minor": 4
}
