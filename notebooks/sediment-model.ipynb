{
 "cells": [
  {
   "cell_type": "markdown",
   "metadata": {},
   "source": [
    "# Zero-dimensional model of sediment accumulation on Polder 32 in Southwest Bangladesh"
   ]
  },
  {
   "cell_type": "markdown",
   "metadata": {},
   "source": [
    "Import packages"
   ]
  },
  {
   "cell_type": "code",
   "execution_count": 1,
   "metadata": {},
   "outputs": [],
   "source": [
    "import pandas as pd\n",
    "import numpy as np\n",
    "import os\n",
    "import sys\n",
    "import subprocess\n",
    "import feather\n",
    "from tqdm.notebook import tqdm\n",
    "import multiprocessing as mp\n",
    "import itertools\n",
    "import inspect\n",
    "import shutil"
   ]
  },
  {
   "cell_type": "markdown",
   "metadata": {},
   "source": [
    "Set project directory"
   ]
  },
  {
   "cell_type": "code",
   "execution_count": 2,
   "metadata": {},
   "outputs": [],
   "source": [
    "if sys.platform == 'linux':\n",
    "    os.chdir('/home/chris/projects/tidal_flat_0d/')\n",
    "elif sys.platform == 'win32':\n",
    "    os.chdir('..')"
   ]
  },
  {
   "cell_type": "markdown",
   "metadata": {},
   "source": [
    "Create subfunctions"
   ]
  },
  {
   "cell_type": "code",
   "execution_count": 3,
   "metadata": {},
   "outputs": [],
   "source": [
    "# Call Rscript and use OCE package to create idealized tide form to be used in model\n",
    "def make_tides(slr):\n",
    "    global run_length, dt\n",
    "\n",
    "    if sys.platform == 'win32':\n",
    "        Rscript = \"C:\\\\Program Files\\\\R\\\\R-3.6.3\\\\bin\\\\Rscript.exe\"\n",
    "    else:\n",
    "        Rscript = \"Rscript\"\n",
    "        \n",
    "    wdir = os.getcwd()\n",
    "    path = os.path.join(wdir,'scripts/make_tides.R')\n",
    "    subprocess.run([Rscript, path, str(run_length), str(dt), '%.4f' % slr, wdir])\n",
    "    \n",
    "    tides = feather.read_dataframe('./data/interim/tides/tides-yr_{0}-dt_{1}-slr_{2}.feather'.format(run_length, int(pd.to_timedelta(dt).total_seconds()/60/60), '%.4f' % slr))\n",
    "    tides = tides.set_index('Datetime')\n",
    "    \n",
    "    return tides\n",
    "\n",
    "# Return suspended sediment values from a csv of average weekly suspended sediment for P32. When tide is below the\n",
    "# the platform (no sedimentation) or the tide is falling (net export), \"0\" is returned.\n",
    "def calc_c0(h, dh, z, A, timestamp):\n",
    "    global ssc_by_week\n",
    "\n",
    "    if (h > z and dh > 0):\n",
    "        week = timestamp.week\n",
    "        ssc = ssc_by_week.loc[week].values[0]\n",
    "        return A * ssc\n",
    "    else:\n",
    "        return 0\n",
    "\n",
    "# Calculate the concentration within the water column for a given timestep\n",
    "def calc_c(c0, h, h_min_1, dh, c_min_1, z, ws, dt):\n",
    "    if (h > z and dh > 0):\n",
    "        return (c0 * (h-h_min_1) + c_min_1 * (h - z)) / (2 * h - h_min_1 - z + ws * dt)\n",
    "    elif (h > z and dh < 0):\n",
    "        return (c_min_1 * (h - z)) / (h - z + ws * dt)\n",
    "    else:\n",
    "        return 0\n",
    "\n",
    "# Calculate the change in elevation for a given timestep    \n",
    "def calc_dz(c, ws, rho, dt):\n",
    "    return (ws * c / rho) * dt\n",
    "\n",
    "# Add the change of elevation back to the original elevation\n",
    "def calc_z(z_min_1, dz_min_1, dO, dP):\n",
    "    return z_min_1 + dz_min_1 + dO - dP"
   ]
  },
  {
   "cell_type": "markdown",
   "metadata": {},
   "source": [
    "Create main functions"
   ]
  },
  {
   "cell_type": "code",
   "execution_count": 24,
   "metadata": {},
   "outputs": [],
   "source": [
    "# Creates a list of tides to be created. Useful when parallelizing and need to create tides in advance.\n",
    "def make_tide_list(slr_list):\n",
    "    \n",
    "    if isinstance(slr_list, list):\n",
    "        pass\n",
    "    elif isinstance(slr_list, float):\n",
    "        slr_list = [slr_list]\n",
    "        \n",
    "    tides_to_make = []\n",
    "    for rate in slr_list:\n",
    "        file = './data/interim/tides/tides-yr_{0}-dt_{1}-slr_{2}.feather'.format(run_length, int(pd.to_timedelta(dt).total_seconds()/60/60), '%.4f' % rate)\n",
    "        if not os.path.isfile(file):\n",
    "            tides_to_make.append(rate)\n",
    "            \n",
    "    return tides_to_make\n",
    "\n",
    "# Main function for running the model.\n",
    "def run_model(tides, grain_dia, grain_rho, bulk_rho, dP, dO, dM, A, z0, n=None):\n",
    "    global ssc_by_week, num_runs\n",
    "    \n",
    "    # Set Datetime as the index. Feather does not export non-integer indices.\n",
    "    tides = tides.set_index('Datetime')\n",
    "    index = tides.index\n",
    "    dt = index[1] - index[0]\n",
    "    dt_sec = dt.total_seconds()\n",
    "    \n",
    "    # Assume density and viscosity of water\n",
    "    fluid_rho = 1000\n",
    "    fluid_visc = 0.001\n",
    "    g = 9.8\n",
    "    \n",
    "    # Calculate settling velocity using Stokes settling. Considered an upper bound for possible settling velocity.\n",
    "    ws = (2/9 * (grain_rho - fluid_rho) / fluid_visc) * g * (grain_dia / 2) ** 2\n",
    "    \n",
    "    # Initialize numpy arrays for efficiency\n",
    "    z = np.zeros(len(tides.index))\n",
    "    h = tides.pressure.values\n",
    "    dh = np.insert(np.diff(h) / dt_sec,0,np.nan)\n",
    "    inundated = np.zeros(len(tides.index))\n",
    "    inundation_depth = np.zeros(len(tides.index))\n",
    "    C0 = np.zeros(len(tides.index))\n",
    "    C = np.zeros(len(tides.index))\n",
    "    dz = np.zeros(len(tides.index))\n",
    "    \n",
    "    # For loop to calculate backwards difference approximation.\n",
    "    # TQDM is a wrapper that shows a status bar while calculating.\n",
    "    counter = np.arange(1,len(index))\n",
    "    for t in tqdm(counter, \n",
    "                  desc='Run {0} of {1} [PID: {2}]'.format(n, num_runs, os.getpid()), \n",
    "                  total=len(index[1:]), \n",
    "                  unit='steps'):\n",
    "        z[t] = calc_z(z[t-1], dz[t-1], 0, 0)\n",
    "        C0[t] = calc_c0(h[t], dh[t], z[t], A, index[t])\n",
    "        C[t] = calc_c(C0[t], h[t], h[t-1], dh[t], C[t-1], z[t], ws, dt_sec)\n",
    "        dz[t] = calc_dz(C[t], ws, bulk_rho, dt_sec)\n",
    "        \n",
    "        # Flag if inundated and by how much\n",
    "        if h[t] - z[t] >= 0:\n",
    "            inundated[t] = 1\n",
    "            inundation_depth[t] = h[t] - z[t]\n",
    "    \n",
    "    # Calculate cumulative inundation time\n",
    "    hours_inundated = int(np.sum(inundated) * dt_sec / 60)\n",
    "\n",
    "    # Return final elevation\n",
    "    final_elevation = z[-1]\n",
    "    \n",
    "    # Create pandas dataframe from numpy arrays of finite difference results\n",
    "    d = {'h' : h, 'dh' : dh, 'C0' : C0, 'C' : C, 'dz' : dz, 'z' : z, \n",
    "         'inundated' : inundated, 'inundation_depth' : inundation_depth}\n",
    "    df = pd.DataFrame(data=d, index = tides.index)\n",
    "    \n",
    "        \n",
    "    return df, hours_inundated, final_elevation"
   ]
  },
  {
   "cell_type": "markdown",
   "metadata": {},
   "source": [
    "Create helper functions for parallel processing"
   ]
  },
  {
   "cell_type": "code",
   "execution_count": 25,
   "metadata": {},
   "outputs": [],
   "source": [
    "# Creates combination of parameter values for different scenarios\n",
    "def make_combos(run_length, dt, slr, ssc_factor, grain_diameter, grain_rho, bulk_rho, dP, dO, dM, A, z0):\n",
    "    \n",
    "    # Use inspect function to get all of the input arguments\n",
    "    args = inspect.getfullargspec(make_combos).args\n",
    "    \n",
    "    # Initialize arguments list and counter\n",
    "    multi_args = []\n",
    "    n = 0\n",
    "    \n",
    "    # Loop through all arguments and extract arguments with multiple values (i.e. arguments that will be varied)\n",
    "    for arg in args:\n",
    "        if isinstance(eval(arg), (list, tuple, np.ndarray)):\n",
    "            multi_args.append(arg)\n",
    "            \n",
    "    # Extract the arguments with one value (i.e. arguments that will remain constant)\n",
    "    single_args = list(set(args) - set(multi_args))\n",
    "    \n",
    "    # Create a dictionary of single value arguments\n",
    "    single_dict = [{'{0}'.format(j) : eval(j)} for j in single_args]\n",
    "    \n",
    "    # Initialize output with combination of all multi value arguments\n",
    "    combos = [dict(zip(multi_args, i)) for i in itertools.product(*[eval(x) for x in multi_args])]\n",
    "    \n",
    "    # Iterate through all combinations of dictionary key:value pairs and add single value arguments\n",
    "    for combo in combos:\n",
    "        for item in single_dict:\n",
    "            combo.update(item)\n",
    "        combo.update({'n' : n}) # combination number for tracking in TQDM\n",
    "        n = n + 1\n",
    "\n",
    "    return combos\n",
    "\n",
    "# Function to be called by parallel function (e.g. imap_unordered). This is necessary because imap only accepts\n",
    "# one function and one iterable. Using this parser allows the model to be run with multiple iterables package as \n",
    "# one tuple\n",
    "def parallel_parser(in_data):\n",
    "    global ssc_by_week\n",
    "\n",
    "    n = in_data['n'] # number to explicitly set print line for TQDM. Not working.\n",
    "    \n",
    "    # Load tides for a given run_length, dt, and slr from the tide library.\n",
    "    run_length = in_data['run_length']\n",
    "    dt = in_data['dt']\n",
    "    slr = in_data['slr']\n",
    "    tides = feather.read_dataframe(\n",
    "        './data/interim/tides/tides-yr_{0}-dt_{1}-slr_{2}.feather'.format(run_length, \n",
    "                                                                          int(pd.to_timedelta(dt).total_seconds()/60/60), \n",
    "                                                                          '%.4f' % slr))\n",
    "    # Set Datetime as the index. Feather does not export non-integer indices.\n",
    "    tides = tides.set_index('Datetime')\n",
    "    \n",
    "    # Load weekly ssc data. Original data from OBS sensor deployed at Sutarkhali. Data is in 1-min increments. Developed\n",
    "    # a model to predict SSC by week of the year (incoming_ssc.R). Output of this script is the weekly SSC loaded here.\n",
    "    ssc_factor = in_data['ssc_factor'] # scaling factor used to adjust SSC\n",
    "    ssc_file = './data/processed/ssc_by_week.csv'\n",
    "    ssc_by_week = pd.read_csv(ssc_file, index_col=0) * ssc_factor\n",
    "    \n",
    "    # set parameters for model run\n",
    "    grain_dia = in_data['grain_dia']\n",
    "    grain_rho = in_data['grain_rho']\n",
    "    bulk_rho = in_data['bulk_rho']\n",
    "    dP = in_data['dP']\n",
    "    dO = in_data['dO']\n",
    "    dM = in_data['dM']\n",
    "    A = in_data['A']\n",
    "    z0 = in_data['z0']\n",
    "    \n",
    "    # run model\n",
    "    run_model(tides, grain_dia, grain_rho, bulk_rho, dP, dO, dM, A, z0, n=n)\n",
    "    \n",
    "    # Write results to a feather file\n",
    "    out_name = 'yr_{0}-slr_{1}-grain_dia_{2}-grain_rho_{3}-bulk_rho_{4}-sscfactor_{5}-dP_{6}-dM_{7}-A_{8}-z0_{9}.feather'.format(run_length, slr, grain_dia, grain_rho, bulk_rho, ssc_factor, dP, dM, A, z0)\n",
    "    feather.write_dataframe(df.reset_index(), './data/interim/results/{0}'.format(out_name))\n",
    "\n",
    "    return"
   ]
  },
  {
   "cell_type": "markdown",
   "metadata": {},
   "source": [
    "Set parameters for the model run. Parameters must be single values (single core) or a list of values (parallel processing). If parallel flag is set to \"True\", the parallel method will be used."
   ]
  },
  {
   "cell_type": "code",
   "execution_count": 26,
   "metadata": {
    "scrolled": true
   },
   "outputs": [],
   "source": [
    "parallel = False\n",
    "\n",
    "# Additional parameters needed for parallelization\n",
    "if parallel == True:\n",
    "    poolsize = 30\n",
    "    chunksize = 1\n",
    "    \n",
    "    # Quickly define regular interval for varying parameters. Can also be explicitly set.\n",
    "    slr = np.round(np.arange(0, 0.0325, 0.0025), 4)\n",
    "    ssc_factor = np.round(np.arange(0.25, 3.25, 0.25), 2)\n",
    "\n",
    "# Set model parameters\n",
    "run_length = 50\n",
    "dt = '1 hour' # timestep must be given as a timedelta string\n",
    "slr = 0.002\n",
    "ssc_factor = 1\n",
    "grain_dia = 0.035\n",
    "grain_rho = 2650 # density of quartz\n",
    "bulk_rho = 1300\n",
    "dP = 0\n",
    "dO = 0\n",
    "dM = 0.003\n",
    "A = 0.75\n",
    "z0 = 0"
   ]
  },
  {
   "cell_type": "markdown",
   "metadata": {},
   "source": [
    "Make all tides before running the model."
   ]
  },
  {
   "cell_type": "code",
   "execution_count": 27,
   "metadata": {},
   "outputs": [
    {
     "name": "stdout",
     "output_type": "stream",
     "text": [
      "All tidal curves already constructed!\n"
     ]
    }
   ],
   "source": [
    "tides_to_make = make_tide_list(slr)\n",
    "\n",
    "if len(tides_to_make) == 0:\n",
    "    print('All tidal curves already constructed!')\n",
    "elif len(tides_to_make) == 1:\n",
    "    make_tides(slr)\n",
    "elif len(tides_to_make) >=2:\n",
    "    print('Making {0} tidal curves.'.format(len(tides_to_make)))\n",
    "    with mp.Pool(poolsize) as pool:\n",
    "        for new_tide in tqdm(pool.imap_unordered(make_tides, tides_to_make),\n",
    "                  total=len(tides_to_make),\n",
    "                  unit='tidal curves'):\n",
    "            pass"
   ]
  },
  {
   "cell_type": "code",
   "execution_count": 28,
   "metadata": {},
   "outputs": [
    {
     "data": {
      "application/vnd.jupyter.widget-view+json": {
       "model_id": "c29dee3d7b0f491998de11a8dea8d004",
       "version_major": 2,
       "version_minor": 0
      },
      "text/plain": [
       "HBox(children=(FloatProgress(value=0.0, description='Run 1 of 1 [PID: 32320]', max=438312.0, style=ProgressSty…"
      ]
     },
     "metadata": {},
     "output_type": "display_data"
    },
    {
     "name": "stdout",
     "output_type": "stream",
     "text": [
      "\n"
     ]
    }
   ],
   "source": [
    "# Parallel method\n",
    "if parallel == True:\n",
    "    \n",
    "    # Make combos of parameters\n",
    "    model_runs = make_combos(run_length, dt, slr, ssc_factor, grain_dia, grain_rho, bulk_rho, dP, dO, dM, A, z0)\n",
    "    \n",
    "    # Count number of models to be run\n",
    "    num_runs = len(model_runs)\n",
    "\n",
    "    # Initialize pool and run models\n",
    "    with mp.Pool(poolsize) as pool:\n",
    "        for result in pool.imap_unordered(parallel_parser, model_runs, chunksize=chunksize):\n",
    "            pass\n",
    "\n",
    "# Single core method\n",
    "elif parallel == False:\n",
    "    \n",
    "    # Load tides from tide library\n",
    "    tides = feather.read_dataframe('./data/interim/tides/tides-yr_{0}-dt_{1}-slr_{2}.feather'.format(\n",
    "        run_length, int(pd.to_timedelta(dt).total_seconds()/60/60), '%.4f' % slr))\n",
    "\n",
    "    # Load weekly ssc data. Original data from OBS sensor deployed at Sutarkhali. Data is in 1-min increments. Developed\n",
    "    # a model to predict SSC by week of the year (incoming_ssc.R). Output of this script is the weekly SSC loaded here.\n",
    "    ssc_file = './data/processed/ssc_by_week.csv'\n",
    "    ssc_by_week = pd.read_csv(ssc_file, index_col=0) * ssc_factor\n",
    "    \n",
    "    # Set number of models to be run\n",
    "    num_runs = 1\n",
    "\n",
    "    # run model\n",
    "    df, hours_inundated, final_elevation = run_model(tides, grain_dia, grain_rho, bulk_rho, dP, dO, dM, A, z0, n=1)\n",
    "    \n",
    "    # write results to feather file\n",
    "    out_name = 'yr_{0}-slr_{1}-grain_dia_{2}-grain_rho_{3}-bulk_rho_{4}-sscfactor_{5}-dP_{6}-dM_{7}-A_{8}-z0_{9}.feather'.format(run_length, slr, grain_dia, grain_rho, bulk_rho, ssc_factor, dP, dM, A, z0)\n",
    "    feather.write_dataframe(df.reset_index(), './data/interim/results/{0}'.format(out_name))"
   ]
  },
  {
   "cell_type": "code",
   "execution_count": 30,
   "metadata": {},
   "outputs": [
    {
     "data": {
      "text/plain": [
       "<matplotlib.axes._subplots.AxesSubplot at 0x7fb3c7194c90>"
      ]
     },
     "execution_count": 30,
     "metadata": {},
     "output_type": "execute_result"
    },
    {
     "data": {
      "image/png": "[encoded data removed]",
      "text/plain": [
       "<Figure size 432x288 with 1 Axes>"
      ]
     },
     "metadata": {},
     "output_type": "display_data"
    }
   ],
   "source": [
    "df.plot(y = ['z', 'dz', 'C0', 'C'])"
   ]
  }
 ],
 "metadata": {
  "kernelspec": {
   "display_name": "Python (default)",
   "language": "python",
   "name": "python3"
  },
  "language_info": {
   "codemirror_mode": {
    "name": "ipython",
    "version": 3
   },
   "file_extension": ".py",
   "mimetype": "text/x-python",
   "name": "python",
   "nbconvert_exporter": "python",
   "pygments_lexer": "ipython3",
   "version": "3.7.6"
  }
 },
 "nbformat": 4,
 "nbformat_minor": 4
}
