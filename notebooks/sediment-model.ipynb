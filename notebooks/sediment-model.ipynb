{
 "cells": [
  {
   "cell_type": "markdown",
   "metadata": {},
   "source": [
    "# Zero-dimensional model of sediment accumulation on Polder 32 in Southwest Bangladesh"
   ]
  },
  {
   "cell_type": "markdown",
   "metadata": {},
   "source": [
    "## Prepare notebook"
   ]
  },
  {
   "cell_type": "markdown",
   "metadata": {},
   "source": [
    "Import all packages"
   ]
  },
  {
   "cell_type": "code",
   "execution_count": 1,
   "metadata": {},
   "outputs": [],
   "source": [
    "import pandas as pd\n",
    "import numpy as np\n",
    "import os\n",
    "import sys\n",
    "from pathlib import Path\n",
    "import subprocess\n",
    "import feather\n",
    "from tqdm.notebook import tqdm\n",
    "import itertools as it\n",
    "import inspect\n",
    "import shutil\n",
    "import re\n",
    "from collections import namedtuple\n",
    "from pyprojroot import here\n",
    "from joblib import Parallel, delayed\n",
    "import matplotlib as mpl\n",
    "from matplotlib import pyplot as plt"
   ]
  },
  {
   "cell_type": "markdown",
   "metadata": {},
   "source": [
    "Set project root"
   ]
  },
  {
   "cell_type": "code",
   "execution_count": 2,
   "metadata": {},
   "outputs": [],
   "source": [
    "root = here()"
   ]
  },
  {
   "cell_type": "markdown",
   "metadata": {},
   "source": [
    "Set parameters for the model run."
   ]
  },
  {
   "cell_type": "code",
   "execution_count": 3,
   "metadata": {
    "scrolled": true
   },
   "outputs": [],
   "source": [
    "cpu_num = 1\n",
    "\n",
    "# Set model parameters\n",
    "run_len = 1  # years\n",
    "dt = \"1 sec\"  # timestep must be given as a timedelta string\n",
    "slr = 0.005  # yearly rate (m) (0.002 ESLR + 0.001 Tidal Amp)\n",
    "\n",
    "if cpu_num != 1:\n",
    "    slr = np.round(np.arange(0, 0.0325, 0.0025), 4)\n",
    "    ssc_factor = np.round(np.arange(0.25, 3.25, 0.25), 2)"
   ]
  },
  {
   "cell_type": "markdown",
   "metadata": {},
   "source": [
    "## Make tides"
   ]
  },
  {
   "cell_type": "markdown",
   "metadata": {},
   "source": [
    "Define functions that will be used to search for any missing tides and then create them."
   ]
  },
  {
   "cell_type": "code",
   "execution_count": 4,
   "metadata": {},
   "outputs": [],
   "source": [
    "def make_combos(**kwargs):\n",
    "    '''\n",
    "    Function that takes n-kwargs and returns a list of namedtuples\n",
    "    for each possible combination of kwargs.\n",
    "    '''\n",
    "    for key, value in kwargs.items():\n",
    "        if isinstance(value, (list, tuple, np.ndarray)) is False:\n",
    "            kwargs.update({key: [value]})\n",
    "    keys, value_tuples = zip(*kwargs.items())\n",
    "    combo_tuple = namedtuple(\"combos\", keys)\n",
    "    combos = [combo_tuple(*values) for values in it.product(*value_tuples)]\n",
    "    return combos\n",
    "\n",
    "\n",
    "def construct_filename(fn_format, **kwargs):\n",
    "    '''\n",
    "    Function that takes a string with n-number of format placeholders (e.g. {0]})\n",
    "    and uses the values from n-kwargs to populate the string.\n",
    "    '''\n",
    "    kwarg_num = len(kwargs)\n",
    "    fn_var_num = len(re.findall(r\"\\{.*?\\}\", fn_format))\n",
    "    if kwarg_num != fn_var_num:\n",
    "        raise Exception(\n",
    "            \"Format error: Given {0} kwargs, but \"\n",
    "            \"filename format has {1} sets of \"\n",
    "            \"braces.\".format(kwarg_num, fn_var_num)\n",
    "        )\n",
    "    fn = fn_format.format(*kwargs.values())\n",
    "    return fn\n",
    "\n",
    "\n",
    "def search_file(wdir, filename):\n",
    "    '''\n",
    "    Function that searches a directory for a filename and returns 0 the number\n",
    "    of exact matches (0 or 1). If more than one file is found, the function\n",
    "    will raise an exception.\n",
    "    '''\n",
    "    if len(list(Path(wdir).glob(filename))) == 0:\n",
    "        found = 0\n",
    "    elif len(list(Path(wdir).glob(filename))) == 1:\n",
    "        found = 1\n",
    "    elif len(list(Path(wdir).glob(filename))) > 1:\n",
    "        raise Exception(\"Found too many files that match.\")\n",
    "    return found\n",
    "\n",
    "\n",
    "def missing_combos(wdir, fn_format, combos):\n",
    "    '''\n",
    "    Function that creates filenames for a list of combinations and \n",
    "    then searches a directory for the filenames. The function returns\n",
    "    a list of combinations that were not found.\n",
    "    '''\n",
    "    to_make = []\n",
    "    for combo in combos:\n",
    "        fn = construct_filename(\n",
    "            fn_format=fn_format,\n",
    "            run_len=combo.run_len,\n",
    "            dt=int(pd.to_timedelta(combo.dt).total_seconds()),\n",
    "            slr=combo.slr,\n",
    "        )\n",
    "        if search_file(wdir, fn) == 0:\n",
    "            to_make.append(combo)\n",
    "    return to_make\n",
    "\n",
    "\n",
    "def make_tide(params):\n",
    "    '''\n",
    "    Function that accepts a namedtuple or dictionary object containing\n",
    "    the arguments: wdir, fn_format, run_length, dt, and slr. These values\n",
    "    are passed to the Rscript make_tides.R which creates a discretized tidal\n",
    "    curve with timesteps of dt and a total length of run_len. Sea level rise\n",
    "    is added to the curve using a yearly rate of SLR. The tidal data is stored in\n",
    "    wdir as a feather file for interopability between R and Python.\n",
    "    '''\n",
    "    fn = construct_filename(\n",
    "        fn_format=params.fn_format,\n",
    "        run_len=params.run_len,\n",
    "        dt=int(pd.to_timedelta(params.dt).total_seconds()),\n",
    "        slr=params.slr,\n",
    "    )\n",
    "    if params.wdir.is_dir() is False:\n",
    "        params.wdir.mkdir()\n",
    "\n",
    "    R_command = \"Rscript\"\n",
    "    script_path = (root / \"scripts\" / \"make_tides.R\").absolute().as_posix()\n",
    "    args = [\n",
    "        str(params.run_len),\n",
    "        str(params.dt),\n",
    "        \"{:.4f}\".format(params.slr),\n",
    "        params.wdir.absolute().as_posix(),\n",
    "    ]\n",
    "    cmd = [R_command, script_path] + args\n",
    "    subprocess.check_output(cmd, universal_newlines=True)\n",
    "    msg = \"Tide created: {0}\".format(fn)\n",
    "    return msg\n",
    "\n",
    "\n",
    "def load_tide(wdir, filename):\n",
    "    '''\n",
    "    Function that loads the tidal curve constructed by make_tides.R\n",
    "    and sets the index to the Datetime column.\n",
    "    '''\n",
    "    fp = wdir / filename\n",
    "    tides = feather.read_dataframe(fp)\n",
    "    tides = tides.set_index(\"Datetime\")\n",
    "\n",
    "    return tides\n",
    "\n",
    "\n",
    "def continuous_to_discrete_tides(fx, x=None, periods=None):\n",
    "    if x is None and period is None:\n",
    "        raise Exception(\"x or periods must be specified.\")\n",
    "    elif x is not None and periods is not none:\n",
    "        raise Exception(\"Only x or periods can be specified; not both.\")\n",
    "    elif isinstance(x, (list, tuple, np.ndarray, pd.RangeIndex, pd.DatetimeIndex)) is False:\n",
    "        raise Exception(\"x must be a list, tuple, numpy array, or pandas range index.\")\n",
    "    elif isinstance(periods, (int, float)) is False:\n",
    "        raise Exception('periods must be an int or a float.')\n",
    "    fun = lambda x: eval(fx)\n",
    "    data = [fun(i) for i in np.arange(len(x))]\n",
    "    df = pd.DataFrame(data = data, columns = ['pressure'], index=x)\n",
    "    return df"
   ]
  },
  {
   "cell_type": "markdown",
   "metadata": {},
   "source": [
    "Make all missing tides."
   ]
  },
  {
   "cell_type": "code",
   "execution_count": 5,
   "metadata": {},
   "outputs": [
    {
     "name": "stdout",
     "output_type": "stream",
     "text": [
      "All tides already in library.\n"
     ]
    }
   ],
   "source": [
    "wdir = root / \"data\" / \"interim\" / \"tides\"\n",
    "fn_format = \"tides-yr_{0}-dt_{1}-slr_{2:.4f}.feather\"\n",
    "tide_combos = make_combos(slr=slr, run_len=run_len, dt=dt)\n",
    "missing = missing_combos(wdir, fn_format, tide_combos)\n",
    "params_for_make_tide = namedtuple(\n",
    "    \"params_for_make_tide\", (\"wdir\", \"fn_format\") + tide_combos[0]._fields\n",
    ")\n",
    "tides_to_make = [\n",
    "    params_for_make_tide(\n",
    "        wdir=wdir, fn_format=fn_format, slr=item.slr, run_len=item.run_len, dt=item.dt\n",
    "    )\n",
    "    for item in missing\n",
    "]\n",
    "\n",
    "if len(tides_to_make) > 0:\n",
    "    Parallel(n_jobs=cpu_num)(delayed(make_tide)(i) for i in tides_to_make)\n",
    "else:\n",
    "    print('All tides already in library.')"
   ]
  },
  {
   "cell_type": "code",
   "execution_count": 6,
   "metadata": {},
   "outputs": [],
   "source": [
    "wdir = root / \"data\" / \"interim\" / \"tides\""
   ]
  },
  {
   "cell_type": "markdown",
   "metadata": {},
   "source": [
    "## Run the sediment model"
   ]
  },
  {
   "cell_type": "code",
   "execution_count": 61,
   "metadata": {},
   "outputs": [],
   "source": [
    "# CT METHOD\n",
    "# def calc_conc(\n",
    "#     bound_conc, tide_height, tide_height_min_1, conc_min_1, elev, elev_min_1, settle_rate, timestep\n",
    "# ):\n",
    "#     depth = tide_height - elev\n",
    "#     depth_min_1 = tide_height_min_1 - elev_min_1\n",
    "#     change_in_depth = depth - depth_min_1\n",
    "\n",
    "#     # Checks\n",
    "#     tide_above_platform = depth > 0\n",
    "#     depth_stable = depth_min_1 >= 0.0015\n",
    "#     tide_increasing = tide_height > tide_height_min_1\n",
    "#     settling_valid = settle_rate * conc_min_1 * timestep <= depth_min_1 * conc_min_1\n",
    "\n",
    "#     term1 = conc_min_1\n",
    "#     term2 = (settle_rate * conc_min_1) / depth_min_1 * timestep\n",
    "#     term3 = 1 / depth_min_1\n",
    "#     term4 = bound_conc * change_in_depth\n",
    "#     term5 = conc_min_1 * change_in_depth\n",
    "\n",
    "#     if not tide_increasing:\n",
    "#         term3 = 0\n",
    "#     if not settling_valid:\n",
    "#         term1 = 0\n",
    "#         term2 = 0\n",
    "#     if tide_above_platform and depth_stable:\n",
    "#         conc = term1 - term2 + term3 * (term4 - term5)\n",
    "#     else:\n",
    "#         conc = 0\n",
    "\n",
    "#     return conc\n",
    "\n",
    "#JG Method\n",
    "def calc_conc(\n",
    "    bound_conc, tide_height, tide_height_min_1, conc_min_1, elev, elev_min_1, settle_rate, timestep\n",
    "):\n",
    "    depth = tide_height - elev\n",
    "    depth_min_1 = tide_height_min_1 - elev_min_1\n",
    "    change_in_depth = depth - depth_min_1\n",
    "    \n",
    "    # Checks\n",
    "    tide_above_platform = np.bool(tide_height > elev)\n",
    "    prev_tide_above_platform = np.bool(tide_height_min_1 > elev)\n",
    "    tide_increasing = np.bool(tide_height > tide_height_min_1)\n",
    "    settling_valid = np.bool(settle_rate * timestep < depth_min_1)\n",
    "    checks = [tide_above_platform, tide_increasing, settling_valid]\n",
    "    if not prev_tide_above_platform:\n",
    "        depth_min_1 = 0\n",
    "        change_in_depth = depth\n",
    "        settling_valid = False\n",
    "    term1 = conc_min_1\n",
    "    term2 = depth_min_1 - settle_rate * timestep\n",
    "    term3 = 1\n",
    "    term4 = bound_conc * change_in_depth\n",
    "    term5 = depth\n",
    "    if not tide_increasing:\n",
    "        term3 = 0\n",
    "    if not prev_tide_above_platform:\n",
    "        term1 = 0\n",
    "        term2 = 0\n",
    "        term4 = term4 - bound_conc * settle_rate * timestep\n",
    "        if term4 < 0:\n",
    "            term4 = 0\n",
    "    if not settling_valid:\n",
    "        term2 = 0\n",
    "    if tide_above_platform:\n",
    "        conc = (term1 * term2 + term3 * term4) / term5\n",
    "    else:\n",
    "        conc = 0\n",
    "\n",
    "    return conc"
   ]
  },
  {
   "cell_type": "markdown",
   "metadata": {},
   "source": [
    "Define functions that will be used to run the sediment model"
   ]
  },
  {
   "cell_type": "code",
   "execution_count": 32,
   "metadata": {},
   "outputs": [],
   "source": [
    "def return_bound_conc(bound_conc, method, timestamp=None):\n",
    "    if method == \"constant\":\n",
    "        return bound_conc\n",
    "    elif method == \"weekly\":\n",
    "        week = timestamp.week\n",
    "        bound_conc = sed_conc.loc[week].values[0]\n",
    "        return bound_conc\n",
    "\n",
    "\n",
    "def calc_conc(\n",
    "    bound_conc, tide_height, prev_tide_height, prev_conc, elev, prev_elev, settle_rate, timestep\n",
    "):\n",
    "    depth = tide_height - elev\n",
    "    prev_depth = prev_tide_height - prev_elev\n",
    "    change_in_depth = depth - prev_depth\n",
    "\n",
    "    # Checks\n",
    "    tide_above_platform = depth > 0\n",
    "    depth_stable = prev_depth >= 0.0015\n",
    "    tide_increasing = tide_height > prev_tide_height\n",
    "    settling_valid = settle_rate * prev_conc * timestep <= prev_depth * prev_conc\n",
    "\n",
    "\n",
    "    term1 = prev_conc\n",
    "    term2 = (settle_rate * prev_conc) / prev_depth * timestep\n",
    "    term3 = 1 / prev_depth\n",
    "    term4 = bound_conc * change_in_depth\n",
    "    term5 = prev_conc * change_in_depth\n",
    "\n",
    "    if not tide_increasing:\n",
    "        term3 = 0\n",
    "    if not settling_valid:\n",
    "        term1 = 0\n",
    "        term2 = 0\n",
    "    if tide_above_platform and depth_stable:\n",
    "        conc = term1 - term2 + term3 * (term4 - term5)\n",
    "    else:\n",
    "        conc = 0\n",
    "\n",
    "    return conc\n",
    "\n",
    "\n",
    "def accumulate_sediment(conc, settle_rate, timestep):\n",
    "    deposited_sediment = settle_rate * conc * timestep\n",
    "    return deposited_sediment\n",
    "\n",
    "\n",
    "def aggrade(start_elev, sediment, organic, compaction, subsidence):\n",
    "    elev = start_elev + sediment + organic - compaction - subsidence\n",
    "    return elev\n",
    "\n",
    "\n",
    "def return_settle_rate(grain_den, grain_dia):\n",
    "    fluid_den = 1000\n",
    "    fluid_visc = 0.001\n",
    "    g = 9.8\n",
    "    settle_rate = (\n",
    "        (2 / 9 * (grain_den - fluid_den) / fluid_visc) * g * (grain_dia / 2) ** 2\n",
    "    )\n",
    "    return settle_rate"
   ]
  },
  {
   "cell_type": "code",
   "execution_count": 47,
   "metadata": {},
   "outputs": [],
   "source": [
    "def calc_conc(\n",
    "    bound_conc, tide_height, prev_tide_height, prev_conc, elev, prev_elev, settle_rate, timestep\n",
    "):\n",
    "    depth = tide_height - elev\n",
    "    prev_depth = prev_tide_height - prev_elev\n",
    "    change_in_depth = depth - prev_depth\n",
    "\n",
    "    # Checks\n",
    "    tide_above_platform = depth > 0\n",
    "    depth_stable = prev_depth >= 0.0015\n",
    "    tide_increasing = tide_height > prev_tide_height\n",
    "    settling_valid = settle_rate * prev_conc * timestep <= prev_depth * prev_conc\n",
    "\n",
    "    if tide_above_platform and depth_stable:\n",
    "        if tide_increasing:\n",
    "            conc = prev_conc - (settle_rate * prev_conc) / prev_depth * timestep + 1 / prev_depth * (bound_conc * change_in_depth - prev_conc * change_in_depth)\n",
    "            return conc\n",
    "        if not tide_increasing:\n",
    "            conc = prev_conc - (settle_rate * prev_conc) / prev_depth * timestep\n",
    "            return conc\n",
    "        else:\n",
    "            raise Exception('Tide not increasing or decreasing.')\n",
    "    if not tide_above_platform or not depth_stable:\n",
    "        conc = 0\n",
    "        return conc\n",
    "    else:\n",
    "        raise Exception('Error in tide_above_platform or depth_stable')"
   ]
  },
  {
   "cell_type": "markdown",
   "metadata": {},
   "source": [
    "Run the model. Work in progress. Normally, these parameters will be defined at the top of the document."
   ]
  },
  {
   "cell_type": "code",
   "execution_count": 63,
   "metadata": {},
   "outputs": [
    {
     "data": {
      "application/vnd.jupyter.widget-view+json": {
       "model_id": "f51a2bb2ead347b3acbd403c2cc2ad8c",
       "version_major": 2,
       "version_minor": 0
      },
      "text/plain": [
       "HBox(children=(FloatProgress(value=0.0, max=20452.0), HTML(value='')))"
      ]
     },
     "metadata": {},
     "output_type": "display_data"
    },
    {
     "name": "stdout",
     "output_type": "stream",
     "text": [
      "\n"
     ]
    }
   ],
   "source": [
    "bound_conc = 0.8 # g/L\n",
    "grain_dia = 0.000035  # grain diameter (m)\n",
    "grain_den = 2650  # density of quartz kg/m3\n",
    "bulk_den = 1100 # kg/m3\n",
    "compaction_rate = 0\n",
    "organic_rate = 0\n",
    "subsidence_rate = 0\n",
    "start_elev = 1.25 - 0.45\n",
    "tidal_amplification = 1\n",
    "timestep = '1s'\n",
    "#tide_name = \"tides-yr_1-dt_1-slr_0.0050.feather\"\n",
    "tide_name = \"tides-debug.feather\"\n",
    "\n",
    "tides = load_tide(wdir, tide_name).resample(timestep).asfreq() * tidal_amplification\n",
    "index = tides.index\n",
    "timestep = index[1] - index[0]\n",
    "timestep_sec = timestep.total_seconds()\n",
    "\n",
    "organic = organic_rate / 8760 / 60 / 60 * timestep_sec\n",
    "compaction = compaction_rate / 8760 / 60 / 60 * timestep_sec\n",
    "subsidence = subsidence_rate / 8760 / 60 / 60 * timestep_sec\n",
    "settle_rate = return_settle_rate(grain_den, grain_dia)\n",
    "\n",
    "elev = np.zeros(len(tides.index))\n",
    "elev[0] = start_elev\n",
    "elev_change = np.zeros(len(tides.index))\n",
    "tide_height = tides.pressure.values\n",
    "bound_conc = np.full(len(tides.index), bound_conc)\n",
    "conc = np.zeros(len(tides.index))\n",
    "deposited_sediment = np.zeros(len(tides.index))\n",
    "depth = np.full(len(tides.index), np.nan)\n",
    "\n",
    "counter = np.arange(1, len(index))\n",
    "\n",
    "for t in tqdm(\n",
    "    counter,\n",
    "    total=len(index[1:]),\n",
    "    unit=\"steps\",\n",
    "):\n",
    "    elev[t] = aggrade(elev[t - 1], elev_change[t - 1], organic, compaction, subsidence)\n",
    "    conc[t] = calc_conc(\n",
    "        bound_conc[t],\n",
    "        tide_height[t],\n",
    "        tide_height[t - 1],\n",
    "        conc[t - 1],\n",
    "        elev[t],\n",
    "        elev[t - 1],\n",
    "        settle_rate,\n",
    "        timestep_sec\n",
    "    )\n",
    "    deposited_sediment[t] = accumulate_sediment(\n",
    "        conc[t], settle_rate, timestep_sec\n",
    "    )\n",
    "    elev_change[t] = deposited_sediment[t] / bulk_den"
   ]
  },
  {
   "cell_type": "code",
   "execution_count": 64,
   "metadata": {},
   "outputs": [],
   "source": [
    "data = pd.DataFrame(data={'elev': elev, 'tide': tide_height, 'bound_conc': bound_conc, 'conc': conc,'deposited_sediment': deposited_sediment, 'elev_change': elev_change}, index=index)\n",
    "data['depth'] = data.tide - data.elev\n",
    "data.depth = np.where(data.depth < 0, 0, data.depth)\n",
    "data['suspended_sediment'] = data.conc * data.depth\n",
    "data['incoming_sediment'] = bound_conc * (data.depth - data.depth.shift(1))\n",
    "data.incoming_sediment = np.where(data.incoming_sediment < 0, 0, data.incoming_sediment)"
   ]
  },
  {
   "cell_type": "code",
   "execution_count": 72,
   "metadata": {},
   "outputs": [
    {
     "data": {
      "text/html": [
       "<div>\n",
       "<style scoped>\n",
       "    .dataframe tbody tr th:only-of-type {\n",
       "        vertical-align: middle;\n",
       "    }\n",
       "\n",
       "    .dataframe tbody tr th {\n",
       "        vertical-align: top;\n",
       "    }\n",
       "\n",
       "    .dataframe thead th {\n",
       "        text-align: right;\n",
       "    }\n",
       "</style>\n",
       "<table border=\"1\" class=\"dataframe\">\n",
       "  <thead>\n",
       "    <tr style=\"text-align: right;\">\n",
       "      <th></th>\n",
       "      <th>elev</th>\n",
       "      <th>tide</th>\n",
       "      <th>bound_conc</th>\n",
       "      <th>conc</th>\n",
       "      <th>deposited_sediment</th>\n",
       "      <th>elev_change</th>\n",
       "      <th>depth</th>\n",
       "      <th>suspended_sediment</th>\n",
       "      <th>incoming_sediment</th>\n",
       "    </tr>\n",
       "    <tr>\n",
       "      <th>Datetime</th>\n",
       "      <th></th>\n",
       "      <th></th>\n",
       "      <th></th>\n",
       "      <th></th>\n",
       "      <th></th>\n",
       "      <th></th>\n",
       "      <th></th>\n",
       "      <th></th>\n",
       "      <th></th>\n",
       "    </tr>\n",
       "  </thead>\n",
       "  <tbody>\n",
       "    <tr>\n",
       "      <th>2014-05-18 01:05:31+06:00</th>\n",
       "      <td>0.800000</td>\n",
       "      <td>0.800109</td>\n",
       "      <td>0.8</td>\n",
       "      <td>0.000000</td>\n",
       "      <td>0.000000</td>\n",
       "      <td>0.000000e+00</td>\n",
       "      <td>0.000109</td>\n",
       "      <td>0.000000</td>\n",
       "      <td>0.000087</td>\n",
       "    </tr>\n",
       "    <tr>\n",
       "      <th>2014-05-18 01:05:32+06:00</th>\n",
       "      <td>0.800000</td>\n",
       "      <td>0.800278</td>\n",
       "      <td>0.8</td>\n",
       "      <td>0.487061</td>\n",
       "      <td>0.000536</td>\n",
       "      <td>4.872638e-07</td>\n",
       "      <td>0.000278</td>\n",
       "      <td>0.000135</td>\n",
       "      <td>0.000135</td>\n",
       "    </tr>\n",
       "    <tr>\n",
       "      <th>2014-05-18 01:05:33+06:00</th>\n",
       "      <td>0.800000</td>\n",
       "      <td>0.800447</td>\n",
       "      <td>0.8</td>\n",
       "      <td>0.302159</td>\n",
       "      <td>0.000333</td>\n",
       "      <td>3.022853e-07</td>\n",
       "      <td>0.000447</td>\n",
       "      <td>0.000135</td>\n",
       "      <td>0.000135</td>\n",
       "    </tr>\n",
       "    <tr>\n",
       "      <th>2014-05-18 01:05:34+06:00</th>\n",
       "      <td>0.800001</td>\n",
       "      <td>0.800616</td>\n",
       "      <td>0.8</td>\n",
       "      <td>0.219461</td>\n",
       "      <td>0.000242</td>\n",
       "      <td>2.195528e-07</td>\n",
       "      <td>0.000616</td>\n",
       "      <td>0.000135</td>\n",
       "      <td>0.000135</td>\n",
       "    </tr>\n",
       "    <tr>\n",
       "      <th>2014-05-18 01:05:35+06:00</th>\n",
       "      <td>0.800001</td>\n",
       "      <td>0.800785</td>\n",
       "      <td>0.8</td>\n",
       "      <td>0.172254</td>\n",
       "      <td>0.000190</td>\n",
       "      <td>1.723259e-07</td>\n",
       "      <td>0.000784</td>\n",
       "      <td>0.000135</td>\n",
       "      <td>0.000135</td>\n",
       "    </tr>\n",
       "    <tr>\n",
       "      <th>...</th>\n",
       "      <td>...</td>\n",
       "      <td>...</td>\n",
       "      <td>...</td>\n",
       "      <td>...</td>\n",
       "      <td>...</td>\n",
       "      <td>...</td>\n",
       "      <td>...</td>\n",
       "      <td>...</td>\n",
       "      <td>...</td>\n",
       "    </tr>\n",
       "    <tr>\n",
       "      <th>2014-05-18 05:49:25+06:00</th>\n",
       "      <td>0.800369</td>\n",
       "      <td>0.001160</td>\n",
       "      <td>0.8</td>\n",
       "      <td>0.000000</td>\n",
       "      <td>0.000000</td>\n",
       "      <td>0.000000e+00</td>\n",
       "      <td>0.000000</td>\n",
       "      <td>0.000000</td>\n",
       "      <td>0.000000</td>\n",
       "    </tr>\n",
       "    <tr>\n",
       "      <th>2014-05-18 05:49:26+06:00</th>\n",
       "      <td>0.800369</td>\n",
       "      <td>0.000906</td>\n",
       "      <td>0.8</td>\n",
       "      <td>0.000000</td>\n",
       "      <td>0.000000</td>\n",
       "      <td>0.000000e+00</td>\n",
       "      <td>0.000000</td>\n",
       "      <td>0.000000</td>\n",
       "      <td>0.000000</td>\n",
       "    </tr>\n",
       "    <tr>\n",
       "      <th>2014-05-18 05:49:27+06:00</th>\n",
       "      <td>0.800369</td>\n",
       "      <td>0.000652</td>\n",
       "      <td>0.8</td>\n",
       "      <td>0.000000</td>\n",
       "      <td>0.000000</td>\n",
       "      <td>0.000000e+00</td>\n",
       "      <td>0.000000</td>\n",
       "      <td>0.000000</td>\n",
       "      <td>0.000000</td>\n",
       "    </tr>\n",
       "    <tr>\n",
       "      <th>2014-05-18 05:49:28+06:00</th>\n",
       "      <td>0.800369</td>\n",
       "      <td>0.000398</td>\n",
       "      <td>0.8</td>\n",
       "      <td>0.000000</td>\n",
       "      <td>0.000000</td>\n",
       "      <td>0.000000e+00</td>\n",
       "      <td>0.000000</td>\n",
       "      <td>0.000000</td>\n",
       "      <td>0.000000</td>\n",
       "    </tr>\n",
       "    <tr>\n",
       "      <th>2014-05-18 05:49:29+06:00</th>\n",
       "      <td>0.800369</td>\n",
       "      <td>0.000144</td>\n",
       "      <td>0.8</td>\n",
       "      <td>0.000000</td>\n",
       "      <td>0.000000</td>\n",
       "      <td>0.000000e+00</td>\n",
       "      <td>0.000000</td>\n",
       "      <td>0.000000</td>\n",
       "      <td>0.000000</td>\n",
       "    </tr>\n",
       "  </tbody>\n",
       "</table>\n",
       "<p>17039 rows × 9 columns</p>\n",
       "</div>"
      ],
      "text/plain": [
       "                               elev      tide  bound_conc      conc  \\\n",
       "Datetime                                                              \n",
       "2014-05-18 01:05:31+06:00  0.800000  0.800109         0.8  0.000000   \n",
       "2014-05-18 01:05:32+06:00  0.800000  0.800278         0.8  0.487061   \n",
       "2014-05-18 01:05:33+06:00  0.800000  0.800447         0.8  0.302159   \n",
       "2014-05-18 01:05:34+06:00  0.800001  0.800616         0.8  0.219461   \n",
       "2014-05-18 01:05:35+06:00  0.800001  0.800785         0.8  0.172254   \n",
       "...                             ...       ...         ...       ...   \n",
       "2014-05-18 05:49:25+06:00  0.800369  0.001160         0.8  0.000000   \n",
       "2014-05-18 05:49:26+06:00  0.800369  0.000906         0.8  0.000000   \n",
       "2014-05-18 05:49:27+06:00  0.800369  0.000652         0.8  0.000000   \n",
       "2014-05-18 05:49:28+06:00  0.800369  0.000398         0.8  0.000000   \n",
       "2014-05-18 05:49:29+06:00  0.800369  0.000144         0.8  0.000000   \n",
       "\n",
       "                           deposited_sediment   elev_change     depth  \\\n",
       "Datetime                                                                \n",
       "2014-05-18 01:05:31+06:00            0.000000  0.000000e+00  0.000109   \n",
       "2014-05-18 01:05:32+06:00            0.000536  4.872638e-07  0.000278   \n",
       "2014-05-18 01:05:33+06:00            0.000333  3.022853e-07  0.000447   \n",
       "2014-05-18 01:05:34+06:00            0.000242  2.195528e-07  0.000616   \n",
       "2014-05-18 01:05:35+06:00            0.000190  1.723259e-07  0.000784   \n",
       "...                                       ...           ...       ...   \n",
       "2014-05-18 05:49:25+06:00            0.000000  0.000000e+00  0.000000   \n",
       "2014-05-18 05:49:26+06:00            0.000000  0.000000e+00  0.000000   \n",
       "2014-05-18 05:49:27+06:00            0.000000  0.000000e+00  0.000000   \n",
       "2014-05-18 05:49:28+06:00            0.000000  0.000000e+00  0.000000   \n",
       "2014-05-18 05:49:29+06:00            0.000000  0.000000e+00  0.000000   \n",
       "\n",
       "                           suspended_sediment  incoming_sediment  \n",
       "Datetime                                                          \n",
       "2014-05-18 01:05:31+06:00            0.000000           0.000087  \n",
       "2014-05-18 01:05:32+06:00            0.000135           0.000135  \n",
       "2014-05-18 01:05:33+06:00            0.000135           0.000135  \n",
       "2014-05-18 01:05:34+06:00            0.000135           0.000135  \n",
       "2014-05-18 01:05:35+06:00            0.000135           0.000135  \n",
       "...                                       ...                ...  \n",
       "2014-05-18 05:49:25+06:00            0.000000           0.000000  \n",
       "2014-05-18 05:49:26+06:00            0.000000           0.000000  \n",
       "2014-05-18 05:49:27+06:00            0.000000           0.000000  \n",
       "2014-05-18 05:49:28+06:00            0.000000           0.000000  \n",
       "2014-05-18 05:49:29+06:00            0.000000           0.000000  \n",
       "\n",
       "[17039 rows x 9 columns]"
      ]
     },
     "execution_count": 72,
     "metadata": {},
     "output_type": "execute_result"
    }
   ],
   "source": [
    "data[data.index >= '2014-05-18 01:05:31+06:00']"
   ]
  },
  {
   "cell_type": "code",
   "execution_count": 65,
   "metadata": {},
   "outputs": [
    {
     "data": {
      "image/png": "[encoded data removed]",
      "text/plain": [
       "<Figure size 720x1080 with 6 Axes>"
      ]
     },
     "metadata": {
      "needs_background": "light"
     },
     "output_type": "display_data"
    }
   ],
   "source": [
    "plot_data = data.copy()\n",
    "plot_data = plot_data.sample(frac=1)\n",
    "start = 0\n",
    "end = -1\n",
    "ticks = mpl.dates.YearLocator()\n",
    "\n",
    "figure, axes = plt.subplots(nrows=6, ncols=1, figsize=(10,15))\n",
    "p1 = plot_data[start:end][['tide']].plot(ax=axes[0]).xaxis.set_visible(False)\n",
    "plot_data[start:end][['elev']].plot(ax=axes[0], color='black', ls='--')\n",
    "p2 = plot_data[start:end][['conc']].plot(ax=axes[1]).xaxis.set_visible(False)\n",
    "p3 = plot_data[start:end][['suspended_sediment']].plot(ax=axes[2]).xaxis.set_visible(False)\n",
    "p4 = plot_data[start:end][['incoming_sediment']].plot(ax=axes[3]).xaxis.set_visible(False)\n",
    "p5 = plot_data[start:end][['deposited_sediment']].plot(ax=axes[4]).xaxis.set_visible(False)\n",
    "p6 = plot_data[start:end][['elev']].plot(ax=axes[5])\n",
    "axes[5].xaxis.set_major_locator(ticks)\n",
    "axes[5].xaxis.set_major_formatter(mpl.dates.DateFormatter('%Y'))\n",
    "axes[5].set_xlabel('Year')\n",
    "ylabels = ['Height (m)', 'Concentration ($kg \\cdot m^{3}$)', 'Suspended ($kg \\cdot m^{-2}$)', 'Incoming ($kg \\cdot m^{-2}$)', 'Deposited ($kg \\cdot m^{-2}$)', 'Elevation (m)']\n",
    "count = 0\n",
    "for ax in axes:\n",
    "    ax.margins(x=0)\n",
    "    ax.set_ylabel(ylabels[count])\n",
    "    ax.yaxis.set_label_coords(-0.08, 0.5)\n",
    "    ax.get_legend().remove()\n",
    "    count = count + 1"
   ]
  },
  {
   "cell_type": "code",
   "execution_count": null,
   "metadata": {},
   "outputs": [],
   "source": [
    "np.mean(data.depth[data.depth>0])"
   ]
  },
  {
   "cell_type": "code",
   "execution_count": 66,
   "metadata": {},
   "outputs": [
    {
     "data": {
      "text/plain": [
       "0.18054092160055202"
      ]
     },
     "execution_count": 66,
     "metadata": {},
     "output_type": "execute_result"
    }
   ],
   "source": [
    "(data.elev[-1] - data.elev[0])"
   ]
  },
  {
   "cell_type": "code",
   "execution_count": null,
   "metadata": {},
   "outputs": [],
   "source": [
    "polder = pd.read_feather('for_jonathan/polder_20yr.feather').set_index('Datetime')\n",
    "natural = pd.read_feather('for_jonathan/natural_20yr.feather').set_index('Datetime')\n",
    "both = pd.concat([natural.elev, polder.elev], axis=1)"
   ]
  },
  {
   "cell_type": "code",
   "execution_count": null,
   "metadata": {},
   "outputs": [],
   "source": [
    "start = 0\n",
    "end = -1\n",
    "frac = 0.001\n",
    "p = both[start:end][['elev']].sample(frac=frac).plot(figsize=(8,5))\n",
    "p.margins(x=0)\n",
    "p.legend(['natural', 'polder'])\n",
    "p.set_xlabel('Year')\n",
    "p.set_ylabel('Aggradation (m)')\n",
    "p.savefig('../figures/model_figs/out.png')"
   ]
  },
  {
   "cell_type": "markdown",
   "metadata": {},
   "source": [
    "## OLD MODEL [DEPRICATED]"
   ]
  },
  {
   "cell_type": "code",
   "execution_count": null,
   "metadata": {},
   "outputs": [],
   "source": [
    "# Main function for running the model.\n",
    "# def run_model(tides, ssc, params, n = None)\n",
    "# Instead of grain_dia, you use params.grain_dia, params.grain_rho, etc.\n",
    "def run_model(\n",
    "    tides, ssc, grain_dia, grain_rho, bulk_rho, dP=0, dO=0, dM=0, A=1, z0=0, n=None\n",
    "):\n",
    "    global num_runs\n",
    "\n",
    "    # Function that sets the background SSC value given a method.\n",
    "    def find_ssc(ssc, method, timestamp=None):\n",
    "        if method == \"constant\":\n",
    "            return ssc\n",
    "        elif method == \"weekly\":\n",
    "            week = timestamp.week\n",
    "            ssc = ssc.loc[week].values[0]\n",
    "            return ssc\n",
    "\n",
    "    # Return suspended sediment values from a csv of average weekly suspended sediment for P32. When tide is below the\n",
    "    # the platform (no sedimentation) or the tide is falling (net export), \"0\" is returned.\n",
    "\n",
    "    # Calculate the concentration within the water column for a given timestep\n",
    "    # old method\n",
    "    #     def calc_c(c0, h, h_min_1, dh, c_min_1, z, ws, dt):\n",
    "    #         if (h > z and dh > 0):\n",
    "    #             return (-c_min_1 * ws * dt + (c0-c_min_1) * (h - h_min_1)) / (h_min_1-z) + c_min_1\n",
    "    #         elif (h > z and dh < 0):\n",
    "    #             return (-c_min_1 * ws * dt) / (h_min_1-z) + c_min_1\n",
    "    #         else:\n",
    "    #             return 0\n",
    "\n",
    "    # Method from work with David\n",
    "    def calc_c(c0, h, h_min_1, dh, c_min_1, z, ws, dt):\n",
    "        if h > z and dh > 0:\n",
    "            return (-c_min_1 * ws * dt + (c0 - c_min_1) * (h - h_min_1)) / (\n",
    "                h_min_1 - z\n",
    "            ) + c_min_1\n",
    "        elif h > z and dh < 0:\n",
    "            return (-c_min_1 * ws * dt) / (h_min_1 - z) + c_min_1\n",
    "        else:\n",
    "            return 0\n",
    "\n",
    "    #     added by JG\n",
    "    #     global g_calc_c\n",
    "    #     g_calc_c = calc_c\n",
    "\n",
    "    # Calculate the change in elevation for a given timestep\n",
    "    def calc_dz(c, ws, rho, dt):\n",
    "        return ws * c * dt / rho\n",
    "\n",
    "    # Add the change of elevation back to the original elevation\n",
    "    def calc_z(z_min_1, dz_min_1, dO, dP, dM):\n",
    "        return z_min_1 + dz_min_1 + dO - dP - dM\n",
    "\n",
    "    # Set method to be used for ssc based on ssc input type\n",
    "    if isinstance(ssc, float):\n",
    "        ssc_method = \"constant\"\n",
    "    elif isinstance(ssc, pd.DataFrame):\n",
    "        ssc_method = \"weekly\"\n",
    "\n",
    "    # Set Datetime as the index. Feather does not export non-integer indices.\n",
    "    tides = tides.set_index(\"Datetime\")\n",
    "    index = tides.index\n",
    "    dt = index[1] - index[0]\n",
    "    dt_sec = dt.total_seconds()\n",
    "\n",
    "    # Convert constant rates from yearly to dt\n",
    "    dO = dO / 8760 / 60 / 60 * dt_sec\n",
    "    dP = dP / 8760 / 60 / 60 * dt_sec\n",
    "    dM = dM / 8760 / 60 / 60 * dt_sec\n",
    "\n",
    "    # Assume density and viscosity of water\n",
    "    fluid_rho = 1000\n",
    "    fluid_visc = 0.001\n",
    "    g = 9.8\n",
    "\n",
    "    # Calculate settling velocity using Stokes settling. Considered an upper bound for possible settling velocity.\n",
    "    ws = (2 / 9 * (grain_rho - fluid_rho) / fluid_visc) * g * (grain_dia / 2) ** 2\n",
    "\n",
    "    # Initialize numpy arrays for efficiency\n",
    "    z = np.zeros(len(tides.index))\n",
    "    z[0] = z0\n",
    "    h = tides.pressure.values\n",
    "    dh = np.insert(np.diff(h) / dt_sec, 0, np.nan)\n",
    "    inundated = np.zeros(len(tides.index))\n",
    "    inundation_depth = np.zeros(len(tides.index))\n",
    "    C0 = np.zeros(len(tides.index))\n",
    "    C = np.zeros(len(tides.index))\n",
    "    dz = np.zeros(len(tides.index))\n",
    "    SSC = np.zeros(len(tides.index))\n",
    "\n",
    "    #     def update_elevation(z, SSC, C0, C, dz, h, dh, dO, dP, dM, A, ssc, bulk_rho, dt_sec, ws, ssc_method, timestamp):\n",
    "    #         z[t] = calc_z(z[t-1], dz[t-1], dO, dP, dM)\n",
    "    #         SSC[t] = find_ssc(ssc, method=ssc_method, timestamp=index[t])\n",
    "    #         C0[t] = calc_c0(h[t], dh[t], ssc, z[t], A)\n",
    "    #         C[t] = calc_c(C0[t], h[t], h[t-1], dh[t], C[t-1], z[t], ws, dt_sec)\n",
    "    #         dz[t] = calc_dz(C[t], ws, bulk_rho, dt_sec)\n",
    "\n",
    "    # For loop to calculate backwards difference approximation.\n",
    "    # TQDM is a wrapper that shows a status bar while calculating.\n",
    "    counter = np.arange(1, len(index))\n",
    "    for t in tqdm(\n",
    "        counter,\n",
    "        desc=\"Run {0} of {1} [PID: {2}]\".format(n, num_runs, os.getpid()),\n",
    "        total=len(index[1:]),\n",
    "        unit=\"steps\",\n",
    "    ):\n",
    "        # update_elevation(z = z, SSC = SSC, C0 = C0, C = C,\n",
    "        #                  dz = dz, h =  h, dh = dh, dO = dO, dP = dP, dM = dM,\n",
    "        #                  A = A, ssc = ssc, bulk_rho = bulk_rho, dt_sec = dt_sec,\n",
    "        #                  ws = ws, ssc_method = ssc_method, timestamp = timestamp)\n",
    "        z[t] = calc_z(z[t - 1], dz[t - 1], dO, dP, dM)\n",
    "        SSC[t] = find_ssc(ssc, method=ssc_method, timestamp=index[t])\n",
    "        C0[t] = SSC[t] * A\n",
    "        C[t] = calc_c(C0[t], h[t], h[t - 1], dh[t], C[t - 1], z[t], ws, dt_sec)\n",
    "        dz[t] = calc_dz(C[t], ws, bulk_rho, dt_sec)\n",
    "        # Flag if inundated and by how much\n",
    "        if h[t] - z[t] >= 0:\n",
    "            inundated[t] = 1\n",
    "            inundation_depth[t] = h[t] - z[t]\n",
    "\n",
    "    # Create pandas dataframe from numpy arrays of finite difference results\n",
    "    d = {\n",
    "        \"h\": h,\n",
    "        \"dh\": dh,\n",
    "        \"C0\": C0,\n",
    "        \"C\": C,\n",
    "        \"dz\": dz,\n",
    "        \"z\": z,\n",
    "        \"inundated\": inundated,\n",
    "        \"inundation_depth\": inundation_depth,\n",
    "    }\n",
    "    df = pd.DataFrame(data=d, index=tides.index)\n",
    "\n",
    "    return df"
   ]
  },
  {
   "cell_type": "markdown",
   "metadata": {},
   "source": [
    "Create helper functions for parallel processing"
   ]
  },
  {
   "cell_type": "code",
   "execution_count": null,
   "metadata": {},
   "outputs": [],
   "source": [
    "# Function to be called by parallel function (e.g. imap_unordered). This is necessary because imap only accepts\n",
    "# one function and one iterable. Using this parser allows the model to be run with multiple iterables package as\n",
    "# one tuple\n",
    "def parallel_parser(in_data):\n",
    "\n",
    "    n = in_data[\"n\"]  # number to explicitly set print line for TQDM. Not working.\n",
    "\n",
    "    # Load tides for a given run_length, dt, and slr from the tide library.\n",
    "    run_length = in_data[\"run_length\"]\n",
    "    dt = in_data[\"dt\"]\n",
    "    slr = in_data[\"slr\"]\n",
    "    tides = feather.read_dataframe(\n",
    "        \"./data/interim/tides/tides-yr_{0}-dt_{1}-slr_{2}.feather\".format(\n",
    "            run_length, int(pd.to_timedelta(dt).total_seconds() / 60 / 60), \"%.4f\" % slr\n",
    "        )\n",
    "    )\n",
    "    # Set Datetime as the index. Feather does not export non-integer indices.\n",
    "    tides = tides.set_index(\"Datetime\")\n",
    "\n",
    "    # Load weekly ssc data. Original data from OBS sensor deployed at Sutarkhali. Data is in 1-min increments. Developed\n",
    "    # a model to predict SSC by week of the year (incoming_ssc.R). Output of this script is the weekly SSC loaded here.\n",
    "    ssc_factor = in_data[\"ssc_factor\"]  # scaling factor used to adjust SSC\n",
    "    ssc_file = \"./data/processed/ssc_by_week.csv\"\n",
    "    ssc = pd.read_csv(ssc_file, index_col=0) * ssc_factor\n",
    "\n",
    "    # set parameters for model run\n",
    "    grain_dia = in_data[\"grain_dia\"]\n",
    "    grain_rho = in_data[\"grain_rho\"]\n",
    "    bulk_rho = in_data[\"bulk_rho\"]\n",
    "    dP = in_data[\"dP\"]\n",
    "    dO = in_data[\"dO\"]\n",
    "    dM = in_data[\"dM\"]\n",
    "    A = in_data[\"A\"]\n",
    "    z0 = in_data[\"z0\"]\n",
    "\n",
    "    # run model\n",
    "    # params = in_data[\"params\"]\n",
    "    # run_model(tides = tides, ssc = ssc, params = params, n = n)\n",
    "    run_model(tides, ssc, grain_dia, grain_rho, bulk_rho, dP, dO, dM, A, z0, n=n)\n",
    "\n",
    "    # Write results to a feather file\n",
    "    out_name = \"yr_{0}-slr_{1}-grain_dia_{2}-grain_rho_{3}-bulk_rho_{4}-sscfactor_{5}-dP_{6}-dM_{7}-A_{8}-z0_{9}.feather\".format(\n",
    "        run_length, slr, grain_dia, grain_rho, bulk_rho, ssc_factor, dP, dM, A, z0\n",
    "    )\n",
    "    feather.write_dataframe(\n",
    "        df.reset_index(), \"./data/interim/results/{0}\".format(out_name)\n",
    "    )\n",
    "\n",
    "    return"
   ]
  },
  {
   "cell_type": "code",
   "execution_count": null,
   "metadata": {
    "scrolled": true
   },
   "outputs": [],
   "source": [
    "# Parallel method\n",
    "if parallel == True:\n",
    "\n",
    "    # Make combos of parameters\n",
    "    model_runs = make_combos(\n",
    "        run_length,\n",
    "        dt,\n",
    "        slr,\n",
    "        ssc_factor,\n",
    "        grain_dia,\n",
    "        grain_rho,\n",
    "        bulk_rho,\n",
    "        dP,\n",
    "        dO,\n",
    "        dM,\n",
    "        A,\n",
    "        z0,\n",
    "    )\n",
    "\n",
    "    # Count number of models to be run\n",
    "    num_runs = len(model_runs)\n",
    "\n",
    "    # Initialize pool and run models\n",
    "    with mp.Pool(poolsize) as pool:\n",
    "        for result in pool.imap_unordered(\n",
    "            parallel_parser, model_runs, chunksize=chunksize\n",
    "        ):\n",
    "            pass\n",
    "\n",
    "# Single core method\n",
    "elif parallel == False:\n",
    "\n",
    "    # Load tides from tide library\n",
    "    tides = feather.read_dataframe(\n",
    "        \"./data/interim/tides/tides-yr_{0}-dt_{1}-slr_{2}.feather\".format(\n",
    "            run_length, int(pd.to_timedelta(dt).total_seconds() / 60), \"%.4f\" % slr\n",
    "        )\n",
    "    )\n",
    "\n",
    "    # Set number of models to be run\n",
    "    num_runs = 1\n",
    "\n",
    "    # run model\n",
    "    # df = run_model(tides = tides, ssc = ssc, params = params, n = 1)\n",
    "    df = run_model(tides, ssc, grain_dia, grain_rho, bulk_rho, dP, dO, dM, A, z0, n=1)\n",
    "\n",
    "    # write results to feather file\n",
    "    out_name = \"yr_{0}-slr_{1}-grain_dia_{2}-grain_rho_{3}-bulk_rho_{4}-sscfactor_{5}-dP_{6}-dM_{7}-A_{8}-z0_{9}.feather\".format(\n",
    "        run_length, slr, grain_dia, grain_rho, bulk_rho, ssc_factor, dP, dM, A, z0\n",
    "    )\n",
    "    feather.write_dataframe(\n",
    "        df.reset_index(), \"./data/interim/results/{0}\".format(out_name)\n",
    "    )"
   ]
  }
 ],
 "metadata": {
  "kernelspec": {
   "display_name": "Python 3",
   "language": "python",
   "name": "python3"
  },
  "language_info": {
   "codemirror_mode": {
    "name": "ipython",
    "version": 3
   },
   "file_extension": ".py",
   "mimetype": "text/x-python",
   "name": "python",
   "nbconvert_exporter": "python",
   "pygments_lexer": "ipython3",
   "version": "3.8.4"
  },
  "toc-autonumbering": true,
  "toc-showcode": true,
  "toc-showmarkdowntxt": true,
  "toc-showtags": false,
  "widgets": {
   "application/vnd.jupyter.widget-state+json": {
    "state": {
     "00ff4e8bc6f546d4917aa9746ad2aedb": {
      "model_module": "@jupyter-widgets/controls",
      "model_module_version": "1.5.0",
      "model_name": "DescriptionStyleModel",
      "state": {
       "description_width": ""
      }
     },
     "026a149386e8494e81dc5ecaa7ee2f36": {
      "model_module": "@jupyter-widgets/controls",
      "model_module_version": "1.5.0",
      "model_name": "ProgressStyleModel",
      "state": {
       "description_width": "initial"
      }
     },
     "081aac933772477f9b9b5f8b3f4080d3": {
      "model_module": "@jupyter-widgets/controls",
      "model_module_version": "1.5.0",
      "model_name": "FloatProgressModel",
      "state": {
       "bar_style": "success",
       "description": "100%",
       "layout": "IPY_MODEL_115e856f35b0426cbdc4c831bf51333b",
       "max": 20452,
       "style": "IPY_MODEL_026a149386e8494e81dc5ecaa7ee2f36",
       "value": 20452
      }
     },
     "0b1602e8676b48faaa6a3a12ae78ed79": {
      "model_module": "@jupyter-widgets/base",
      "model_module_version": "1.2.0",
      "model_name": "LayoutModel",
      "state": {}
     },
     "0baed122fd03414499252b8c8013a30b": {
      "model_module": "@jupyter-widgets/controls",
      "model_module_version": "1.5.0",
      "model_name": "HBoxModel",
      "state": {
       "children": [
        "IPY_MODEL_11a5b25177194922979445c876f0477a",
        "IPY_MODEL_8087e9a561284f3ca0e0f0399f0884d0"
       ],
       "layout": "IPY_MODEL_1e57e1b365ef4d25b5370c10502e6788"
      }
     },
     "0cce1e7e8b71461fbef6b770b4b881df": {
      "model_module": "@jupyter-widgets/controls",
      "model_module_version": "1.5.0",
      "model_name": "DescriptionStyleModel",
      "state": {
       "description_width": ""
      }
     },
     "0d66bb507652486db0555ebcbb880320": {
      "model_module": "@jupyter-widgets/controls",
      "model_module_version": "1.5.0",
      "model_name": "FloatProgressModel",
      "state": {
       "bar_style": "danger",
       "description": "  0%",
       "layout": "IPY_MODEL_c31fc49b494549dcb1ed6cc88cebd726",
       "max": 31536000,
       "style": "IPY_MODEL_5c9b853e346d44218f7325d9c5cbd87e",
       "value": 54646
      }
     },
     "0ea5d416abb5423eae98dadbe43f2241": {
      "model_module": "@jupyter-widgets/base",
      "model_module_version": "1.2.0",
      "model_name": "LayoutModel",
      "state": {}
     },
     "115e856f35b0426cbdc4c831bf51333b": {
      "model_module": "@jupyter-widgets/base",
      "model_module_version": "1.2.0",
      "model_name": "LayoutModel",
      "state": {}
     },
     "11a5b25177194922979445c876f0477a": {
      "model_module": "@jupyter-widgets/controls",
      "model_module_version": "1.5.0",
      "model_name": "FloatProgressModel",
      "state": {
       "bar_style": "success",
       "description": "100%",
       "layout": "IPY_MODEL_70362b85f3a54261a605e57c5f163a1f",
       "max": 4090,
       "style": "IPY_MODEL_16d0b16d348f420da95a02e3db5d5ddd",
       "value": 4090
      }
     },
     "1315bca52b66495696a97e744597a334": {
      "model_module": "@jupyter-widgets/base",
      "model_module_version": "1.2.0",
      "model_name": "LayoutModel",
      "state": {}
     },
     "14fc7046acb343bc8592c0f8f131619e": {
      "model_module": "@jupyter-widgets/controls",
      "model_module_version": "1.5.0",
      "model_name": "FloatProgressModel",
      "state": {
       "bar_style": "success",
       "description": "100%",
       "layout": "IPY_MODEL_e996bae4e86a4edaa53b928a1987f9b5",
       "max": 2045,
       "style": "IPY_MODEL_621816564af64b3a8f3c494cfefb90b1",
       "value": 2045
      }
     },
     "16d0b16d348f420da95a02e3db5d5ddd": {
      "model_module": "@jupyter-widgets/controls",
      "model_module_version": "1.5.0",
      "model_name": "ProgressStyleModel",
      "state": {
       "description_width": "initial"
      }
     },
     "1da1780788d7468da9d8ff02201d1900": {
      "model_module": "@jupyter-widgets/controls",
      "model_module_version": "1.5.0",
      "model_name": "ProgressStyleModel",
      "state": {
       "description_width": "initial"
      }
     },
     "1e57e1b365ef4d25b5370c10502e6788": {
      "model_module": "@jupyter-widgets/base",
      "model_module_version": "1.2.0",
      "model_name": "LayoutModel",
      "state": {}
     },
     "1f8837054d904cafb10d41c9e4404989": {
      "model_module": "@jupyter-widgets/controls",
      "model_module_version": "1.5.0",
      "model_name": "HBoxModel",
      "state": {
       "children": [
        "IPY_MODEL_f8b488d60aab4aff9b98ba407b192122",
        "IPY_MODEL_2bf5d2ee1c81479abb3c3214fd2526c2"
       ],
       "layout": "IPY_MODEL_fce090d40a8046a3ba43865087d22484"
      }
     },
     "22e91aa5331b462e820da12b854fe3be": {
      "model_module": "@jupyter-widgets/controls",
      "model_module_version": "1.5.0",
      "model_name": "HTMLModel",
      "state": {
       "layout": "IPY_MODEL_a0868e2aae2041a7a890227e30e169b9",
       "style": "IPY_MODEL_e3235c3479b446959afd714cf829a276",
       "value": " 20452/20452 [00:05&lt;00:00, 4043.45steps/s]"
      }
     },
     "25e8ad49545c462a9741ccbe4769af0f": {
      "model_module": "@jupyter-widgets/controls",
      "model_module_version": "1.5.0",
      "model_name": "HTMLModel",
      "state": {
       "layout": "IPY_MODEL_48bbe2831c6b4f1aa09c0e14d6877720",
       "style": "IPY_MODEL_da467ed00ca344d38793f5939ca2c4b9",
       "value": " 20452/20452 [00:03&lt;00:00, 6803.45steps/s]"
      }
     },
     "28c0b60ced4446dea050c27232c1fc24": {
      "model_module": "@jupyter-widgets/controls",
      "model_module_version": "1.5.0",
      "model_name": "FloatProgressModel",
      "state": {
       "bar_style": "danger",
       "description": " 18%",
       "layout": "IPY_MODEL_7388e554e771486b8510aa05d02e3ff6",
       "max": 31536000,
       "style": "IPY_MODEL_5527d0a5c3534d438a49136fa8c52ab9",
       "value": 5630724
      }
     },
     "28ed483ce61a43ab8b450d109528f6fd": {
      "model_module": "@jupyter-widgets/controls",
      "model_module_version": "1.5.0",
      "model_name": "DescriptionStyleModel",
      "state": {
       "description_width": ""
      }
     },
     "29f289d76e4a486db822e31990f2bcf5": {
      "model_module": "@jupyter-widgets/controls",
      "model_module_version": "1.5.0",
      "model_name": "FloatProgressModel",
      "state": {
       "bar_style": "success",
       "description": "100%",
       "layout": "IPY_MODEL_99efe8b5e3d542ae93612289f1e603d1",
       "max": 681,
       "style": "IPY_MODEL_1da1780788d7468da9d8ff02201d1900",
       "value": 681
      }
     },
     "2bf5d2ee1c81479abb3c3214fd2526c2": {
      "model_module": "@jupyter-widgets/controls",
      "model_module_version": "1.5.0",
      "model_name": "HTMLModel",
      "state": {
       "layout": "IPY_MODEL_dbc646a8beaa48f7b4019db23173afd2",
       "style": "IPY_MODEL_28ed483ce61a43ab8b450d109528f6fd",
       "value": " 20452/20452 [00:02&lt;00:00, 6883.83steps/s]"
      }
     },
     "3a89ff56e8494721b7d81c904ddf3e8f": {
      "model_module": "@jupyter-widgets/controls",
      "model_module_version": "1.5.0",
      "model_name": "FloatProgressModel",
      "state": {
       "bar_style": "success",
       "description": "100%",
       "layout": "IPY_MODEL_fbef2251ebec44bfa00c8682209fc6d7",
       "max": 20452,
       "style": "IPY_MODEL_c5aa5146142947c287ee0994e643bc72",
       "value": 20452
      }
     },
     "3df7360d7b8f4e4e9f7d8529a84e90eb": {
      "model_module": "@jupyter-widgets/base",
      "model_module_version": "1.2.0",
      "model_name": "LayoutModel",
      "state": {}
     },
     "3f46fa680062423e81272caecb93e40a": {
      "model_module": "@jupyter-widgets/base",
      "model_module_version": "1.2.0",
      "model_name": "LayoutModel",
      "state": {}
     },
     "3fb66ccacbbd43e89a9393f32fb4c645": {
      "model_module": "@jupyter-widgets/base",
      "model_module_version": "1.2.0",
      "model_name": "LayoutModel",
      "state": {}
     },
     "415d8b0f82404b99a63e68a535d25055": {
      "model_module": "@jupyter-widgets/controls",
      "model_module_version": "1.5.0",
      "model_name": "ProgressStyleModel",
      "state": {
       "description_width": "initial"
      }
     },
     "42fe42fcb5d1405c860c0c35a09d7004": {
      "model_module": "@jupyter-widgets/controls",
      "model_module_version": "1.5.0",
      "model_name": "FloatProgressModel",
      "state": {
       "bar_style": "success",
       "description": "100%",
       "layout": "IPY_MODEL_fee38f887fdf47b196cc704f97639730",
       "max": 20452,
       "style": "IPY_MODEL_7b1328a71b5c4371b5b1e1eeb032433c",
       "value": 20452
      }
     },
     "438ec21b50054a8687a22b39f5758640": {
      "model_module": "@jupyter-widgets/controls",
      "model_module_version": "1.5.0",
      "model_name": "DescriptionStyleModel",
      "state": {
       "description_width": ""
      }
     },
     "43cc22aa0965425984eeb205bdfcbb7b": {
      "model_module": "@jupyter-widgets/base",
      "model_module_version": "1.2.0",
      "model_name": "LayoutModel",
      "state": {}
     },
     "463cc823b103414fb49dc86bac200fa3": {
      "model_module": "@jupyter-widgets/controls",
      "model_module_version": "1.5.0",
      "model_name": "FloatProgressModel",
      "state": {
       "bar_style": "success",
       "description": "100%",
       "layout": "IPY_MODEL_46c9f35c4f6a43b09113b580622037f1",
       "max": 20452,
       "style": "IPY_MODEL_cbf6b6afe7184fa086dec89fa2426659",
       "value": 20452
      }
     },
     "46c9f35c4f6a43b09113b580622037f1": {
      "model_module": "@jupyter-widgets/base",
      "model_module_version": "1.2.0",
      "model_name": "LayoutModel",
      "state": {}
     },
     "48bbe2831c6b4f1aa09c0e14d6877720": {
      "model_module": "@jupyter-widgets/base",
      "model_module_version": "1.2.0",
      "model_name": "LayoutModel",
      "state": {}
     },
     "4bc5c0034a5145ac89ec578b518e1fc1": {
      "model_module": "@jupyter-widgets/base",
      "model_module_version": "1.2.0",
      "model_name": "LayoutModel",
      "state": {}
     },
     "5527d0a5c3534d438a49136fa8c52ab9": {
      "model_module": "@jupyter-widgets/controls",
      "model_module_version": "1.5.0",
      "model_name": "ProgressStyleModel",
      "state": {
       "description_width": "initial"
      }
     },
     "56d5b93586cc4df791b2f2d2f6d50907": {
      "model_module": "@jupyter-widgets/controls",
      "model_module_version": "1.5.0",
      "model_name": "HTMLModel",
      "state": {
       "layout": "IPY_MODEL_e95930dd3e104025bcd5aaba8b4f72d5",
       "style": "IPY_MODEL_0cce1e7e8b71461fbef6b770b4b881df",
       "value": " 20452/20452 [00:02&lt;00:00, 8172.12steps/s]"
      }
     },
     "5784b5982daa4e91981b604b39123c58": {
      "model_module": "@jupyter-widgets/controls",
      "model_module_version": "1.5.0",
      "model_name": "HTMLModel",
      "state": {
       "layout": "IPY_MODEL_d8642c5c9467432a82fd7d2076e7da09",
       "style": "IPY_MODEL_f0198a84aaef444f85a60378651b3e8c",
       "value": " 31536000/31536000 [23:43&lt;00:00, 22159.53steps/s]"
      }
     },
     "5c9b853e346d44218f7325d9c5cbd87e": {
      "model_module": "@jupyter-widgets/controls",
      "model_module_version": "1.5.0",
      "model_name": "ProgressStyleModel",
      "state": {
       "description_width": "initial"
      }
     },
     "60327fa7b1a54c44a1cd884d67e5bd33": {
      "model_module": "@jupyter-widgets/controls",
      "model_module_version": "1.5.0",
      "model_name": "DescriptionStyleModel",
      "state": {
       "description_width": ""
      }
     },
     "621816564af64b3a8f3c494cfefb90b1": {
      "model_module": "@jupyter-widgets/controls",
      "model_module_version": "1.5.0",
      "model_name": "ProgressStyleModel",
      "state": {
       "description_width": "initial"
      }
     },
     "626adfb86f5146afa0fec19448c2c877": {
      "model_module": "@jupyter-widgets/controls",
      "model_module_version": "1.5.0",
      "model_name": "DescriptionStyleModel",
      "state": {
       "description_width": ""
      }
     },
     "65f584d9bf41411796e774df10723ec0": {
      "model_module": "@jupyter-widgets/controls",
      "model_module_version": "1.5.0",
      "model_name": "DescriptionStyleModel",
      "state": {
       "description_width": ""
      }
     },
     "697a7a30ea1547a781c468c22ec39483": {
      "model_module": "@jupyter-widgets/base",
      "model_module_version": "1.2.0",
      "model_name": "LayoutModel",
      "state": {}
     },
     "6dfac768826048f0be8de6469b02d4fb": {
      "model_module": "@jupyter-widgets/controls",
      "model_module_version": "1.5.0",
      "model_name": "FloatProgressModel",
      "state": {
       "bar_style": "success",
       "description": "100%",
       "layout": "IPY_MODEL_80517aea4f544e7689e505d16595a9ad",
       "max": 20452,
       "style": "IPY_MODEL_d1724c3d65f2403c9d0ed3b1364148aa",
       "value": 20452
      }
     },
     "6ea07edb25cd45a4979c29aa96b360e5": {
      "model_module": "@jupyter-widgets/base",
      "model_module_version": "1.2.0",
      "model_name": "LayoutModel",
      "state": {}
     },
     "6f3598d44c344affb04bb2e8d2100c7f": {
      "model_module": "@jupyter-widgets/controls",
      "model_module_version": "1.5.0",
      "model_name": "DescriptionStyleModel",
      "state": {
       "description_width": ""
      }
     },
     "70362b85f3a54261a605e57c5f163a1f": {
      "model_module": "@jupyter-widgets/base",
      "model_module_version": "1.2.0",
      "model_name": "LayoutModel",
      "state": {}
     },
     "716077c1fbe144c4872cb6edb9e75b97": {
      "model_module": "@jupyter-widgets/controls",
      "model_module_version": "1.5.0",
      "model_name": "FloatProgressModel",
      "state": {
       "bar_style": "danger",
       "description": "  6%",
       "layout": "IPY_MODEL_eff9d80b748948478d478a92cb89a1fe",
       "max": 31536000,
       "style": "IPY_MODEL_cc7aa06f6cbe461da9dc195d40bee464",
       "value": 1826124
      }
     },
     "7388e554e771486b8510aa05d02e3ff6": {
      "model_module": "@jupyter-widgets/base",
      "model_module_version": "1.2.0",
      "model_name": "LayoutModel",
      "state": {}
     },
     "738a272eae7941489e364bd46253101b": {
      "model_module": "@jupyter-widgets/controls",
      "model_module_version": "1.5.0",
      "model_name": "FloatProgressModel",
      "state": {
       "bar_style": "success",
       "description": "100%",
       "layout": "IPY_MODEL_fd92789d926445e7bf81d2e99e1ae846",
       "max": 31536000,
       "style": "IPY_MODEL_415d8b0f82404b99a63e68a535d25055",
       "value": 31536000
      }
     },
     "7545e8b405724dbb84797a1918aadfdf": {
      "model_module": "@jupyter-widgets/controls",
      "model_module_version": "1.5.0",
      "model_name": "ProgressStyleModel",
      "state": {
       "description_width": "initial"
      }
     },
     "78f816b0092f49239c2de5b1162be533": {
      "model_module": "@jupyter-widgets/base",
      "model_module_version": "1.2.0",
      "model_name": "LayoutModel",
      "state": {}
     },
     "7b1328a71b5c4371b5b1e1eeb032433c": {
      "model_module": "@jupyter-widgets/controls",
      "model_module_version": "1.5.0",
      "model_name": "ProgressStyleModel",
      "state": {
       "description_width": "initial"
      }
     },
     "7cb4dbfc2815499f9d263703f7e33141": {
      "model_module": "@jupyter-widgets/controls",
      "model_module_version": "1.5.0",
      "model_name": "FloatProgressModel",
      "state": {
       "bar_style": "success",
       "description": "100%",
       "layout": "IPY_MODEL_ca7c586c06184341b973ca1689f386b6",
       "max": 6307200,
       "style": "IPY_MODEL_e04ed24ef9ff4be29f14c6330fc3fddd",
       "value": 6307200
      }
     },
     "7f86e723a5d642448861bea3f7939d08": {
      "model_module": "@jupyter-widgets/base",
      "model_module_version": "1.2.0",
      "model_name": "LayoutModel",
      "state": {}
     },
     "80517aea4f544e7689e505d16595a9ad": {
      "model_module": "@jupyter-widgets/base",
      "model_module_version": "1.2.0",
      "model_name": "LayoutModel",
      "state": {}
     },
     "8087e9a561284f3ca0e0f0399f0884d0": {
      "model_module": "@jupyter-widgets/controls",
      "model_module_version": "1.5.0",
      "model_name": "HTMLModel",
      "state": {
       "layout": "IPY_MODEL_43cc22aa0965425984eeb205bdfcbb7b",
       "style": "IPY_MODEL_6f3598d44c344affb04bb2e8d2100c7f",
       "value": " 4090/4090 [00:03&lt;00:00, 1073.83steps/s]"
      }
     },
     "80a95f6dc7024a8aae39ce93d99fdb42": {
      "model_module": "@jupyter-widgets/controls",
      "model_module_version": "1.5.0",
      "model_name": "HBoxModel",
      "state": {
       "children": [
        "IPY_MODEL_738a272eae7941489e364bd46253101b",
        "IPY_MODEL_dda18c9b537e4f5da0d595c0bdd89c1e"
       ],
       "layout": "IPY_MODEL_8dab2b5f020a42c48910897826639eb4"
      }
     },
     "8127e1bd311849f8aea5704c2fa9f9d2": {
      "model_module": "@jupyter-widgets/base",
      "model_module_version": "1.2.0",
      "model_name": "LayoutModel",
      "state": {}
     },
     "84d601295ea64f98bb8e004d0df6c906": {
      "model_module": "@jupyter-widgets/controls",
      "model_module_version": "1.5.0",
      "model_name": "DescriptionStyleModel",
      "state": {
       "description_width": ""
      }
     },
     "89f77046c17a4d62948d1548e38bb41f": {
      "model_module": "@jupyter-widgets/base",
      "model_module_version": "1.2.0",
      "model_name": "LayoutModel",
      "state": {}
     },
     "8a5ac3d99f45470d9b42260e529b32b1": {
      "model_module": "@jupyter-widgets/controls",
      "model_module_version": "1.5.0",
      "model_name": "HBoxModel",
      "state": {
       "children": [
        "IPY_MODEL_0d66bb507652486db0555ebcbb880320",
        "IPY_MODEL_9bffec5e3fbe4dd3ae5e7cc90a9865aa"
       ],
       "layout": "IPY_MODEL_d9716fe253a04765ac68bd8a5ff9c254"
      }
     },
     "8b07792c22b44d5cba8b8a6a2b978a96": {
      "model_module": "@jupyter-widgets/controls",
      "model_module_version": "1.5.0",
      "model_name": "HBoxModel",
      "state": {
       "children": [
        "IPY_MODEL_463cc823b103414fb49dc86bac200fa3",
        "IPY_MODEL_25e8ad49545c462a9741ccbe4769af0f"
       ],
       "layout": "IPY_MODEL_fb230cf000b541629e590e2072eae9cc"
      }
     },
     "8dab2b5f020a42c48910897826639eb4": {
      "model_module": "@jupyter-widgets/base",
      "model_module_version": "1.2.0",
      "model_name": "LayoutModel",
      "state": {}
     },
     "93b9662f06c64ffc94cf9e4fc0759410": {
      "model_module": "@jupyter-widgets/controls",
      "model_module_version": "1.5.0",
      "model_name": "HBoxModel",
      "state": {
       "children": [
        "IPY_MODEL_6dfac768826048f0be8de6469b02d4fb",
        "IPY_MODEL_b406a38deed5494d9d23498796a1084c"
       ],
       "layout": "IPY_MODEL_89f77046c17a4d62948d1548e38bb41f"
      }
     },
     "949d60fa626c4753a1b34ea8ec48a7c1": {
      "model_module": "@jupyter-widgets/base",
      "model_module_version": "1.2.0",
      "model_name": "LayoutModel",
      "state": {}
     },
     "96b2961f931041b1ac1f36f1a5aa5a48": {
      "model_module": "@jupyter-widgets/controls",
      "model_module_version": "1.5.0",
      "model_name": "HBoxModel",
      "state": {
       "children": [
        "IPY_MODEL_28c0b60ced4446dea050c27232c1fc24",
        "IPY_MODEL_97b5463a4e744d7099c5a1feb1300223"
       ],
       "layout": "IPY_MODEL_0b1602e8676b48faaa6a3a12ae78ed79"
      }
     },
     "97b5463a4e744d7099c5a1feb1300223": {
      "model_module": "@jupyter-widgets/controls",
      "model_module_version": "1.5.0",
      "model_name": "HTMLModel",
      "state": {
       "layout": "IPY_MODEL_0ea5d416abb5423eae98dadbe43f2241",
       "style": "IPY_MODEL_00ff4e8bc6f546d4917aa9746ad2aedb",
       "value": " 5630724/31536000 [02:51&lt;13:10, 32767.09steps/s]"
      }
     },
     "991f1d9ae4ab46979654b575f507f845": {
      "model_module": "@jupyter-widgets/controls",
      "model_module_version": "1.5.0",
      "model_name": "HTMLModel",
      "state": {
       "layout": "IPY_MODEL_6ea07edb25cd45a4979c29aa96b360e5",
       "style": "IPY_MODEL_65f584d9bf41411796e774df10723ec0",
       "value": " 20452/20452 [00:03&lt;00:00, 5782.31steps/s]"
      }
     },
     "99efe8b5e3d542ae93612289f1e603d1": {
      "model_module": "@jupyter-widgets/base",
      "model_module_version": "1.2.0",
      "model_name": "LayoutModel",
      "state": {}
     },
     "9b8067f733ff44fc9a1ac29babb655e4": {
      "model_module": "@jupyter-widgets/base",
      "model_module_version": "1.2.0",
      "model_name": "LayoutModel",
      "state": {}
     },
     "9bffec5e3fbe4dd3ae5e7cc90a9865aa": {
      "model_module": "@jupyter-widgets/controls",
      "model_module_version": "1.5.0",
      "model_name": "HTMLModel",
      "state": {
       "layout": "IPY_MODEL_e6982c1526a34b6ab2c3d50b2abc0b76",
       "style": "IPY_MODEL_c529627b116040a4a4059b55a0460aba",
       "value": " 54646/31536000 [00:05&lt;55:00, 9538.93steps/s]"
      }
     },
     "9e5d958258114560a662170591821621": {
      "model_module": "@jupyter-widgets/controls",
      "model_module_version": "1.5.0",
      "model_name": "HTMLModel",
      "state": {
       "layout": "IPY_MODEL_a5ff925b2b254d978519eb3c7d7e0209",
       "style": "IPY_MODEL_626adfb86f5146afa0fec19448c2c877",
       "value": " 1826124/31536000 [00:57&lt;15:39, 31633.12steps/s]"
      }
     },
     "a0868e2aae2041a7a890227e30e169b9": {
      "model_module": "@jupyter-widgets/base",
      "model_module_version": "1.2.0",
      "model_name": "LayoutModel",
      "state": {}
     },
     "a0882fd285eb4140a9fa6bec439afb59": {
      "model_module": "@jupyter-widgets/controls",
      "model_module_version": "1.5.0",
      "model_name": "HBoxModel",
      "state": {
       "children": [
        "IPY_MODEL_3a89ff56e8494721b7d81c904ddf3e8f",
        "IPY_MODEL_991f1d9ae4ab46979654b575f507f845"
       ],
       "layout": "IPY_MODEL_eca530a2397f4bc78eed3bc6bccf3464"
      }
     },
     "a5ff925b2b254d978519eb3c7d7e0209": {
      "model_module": "@jupyter-widgets/base",
      "model_module_version": "1.2.0",
      "model_name": "LayoutModel",
      "state": {}
     },
     "a6bc23834f064910b5f19e79511d02aa": {
      "model_module": "@jupyter-widgets/controls",
      "model_module_version": "1.5.0",
      "model_name": "FloatProgressModel",
      "state": {
       "bar_style": "success",
       "description": "100%",
       "layout": "IPY_MODEL_a98eddd3886843719a3c21d53af341d8",
       "max": 31536000,
       "style": "IPY_MODEL_c0409e1ef3d146ccad1fd1fd9c748b31",
       "value": 31536000
      }
     },
     "a841d19e73fc4617807484686db366e7": {
      "model_module": "@jupyter-widgets/base",
      "model_module_version": "1.2.0",
      "model_name": "LayoutModel",
      "state": {}
     },
     "a98eddd3886843719a3c21d53af341d8": {
      "model_module": "@jupyter-widgets/base",
      "model_module_version": "1.2.0",
      "model_name": "LayoutModel",
      "state": {}
     },
     "b0c5943499fa4bfebcf0a62e329afac2": {
      "model_module": "@jupyter-widgets/base",
      "model_module_version": "1.2.0",
      "model_name": "LayoutModel",
      "state": {}
     },
     "b16845ec885f4f598c04b9a96b16b9d5": {
      "model_module": "@jupyter-widgets/controls",
      "model_module_version": "1.5.0",
      "model_name": "HBoxModel",
      "state": {
       "children": [
        "IPY_MODEL_716077c1fbe144c4872cb6edb9e75b97",
        "IPY_MODEL_9e5d958258114560a662170591821621"
       ],
       "layout": "IPY_MODEL_a841d19e73fc4617807484686db366e7"
      }
     },
     "b406a38deed5494d9d23498796a1084c": {
      "model_module": "@jupyter-widgets/controls",
      "model_module_version": "1.5.0",
      "model_name": "HTMLModel",
      "state": {
       "layout": "IPY_MODEL_78f816b0092f49239c2de5b1162be533",
       "style": "IPY_MODEL_60327fa7b1a54c44a1cd884d67e5bd33",
       "value": " 20452/20452 [00:02&lt;00:00, 7775.73steps/s]"
      }
     },
     "b6090037a5db43caaf60725456b61985": {
      "model_module": "@jupyter-widgets/controls",
      "model_module_version": "1.5.0",
      "model_name": "DescriptionStyleModel",
      "state": {
       "description_width": ""
      }
     },
     "b815fff0313a49b281bb3c02e129cf17": {
      "model_module": "@jupyter-widgets/base",
      "model_module_version": "1.2.0",
      "model_name": "LayoutModel",
      "state": {}
     },
     "be486038746e4e5ea7d6a91dcef85db6": {
      "model_module": "@jupyter-widgets/controls",
      "model_module_version": "1.5.0",
      "model_name": "HBoxModel",
      "state": {
       "children": [
        "IPY_MODEL_14fc7046acb343bc8592c0f8f131619e",
        "IPY_MODEL_f37db96fb9fa4603a57940a8fbdfc8aa"
       ],
       "layout": "IPY_MODEL_1315bca52b66495696a97e744597a334"
      }
     },
     "c0409e1ef3d146ccad1fd1fd9c748b31": {
      "model_module": "@jupyter-widgets/controls",
      "model_module_version": "1.5.0",
      "model_name": "ProgressStyleModel",
      "state": {
       "description_width": "initial"
      }
     },
     "c31fc49b494549dcb1ed6cc88cebd726": {
      "model_module": "@jupyter-widgets/base",
      "model_module_version": "1.2.0",
      "model_name": "LayoutModel",
      "state": {}
     },
     "c346317bdb2546b2b42c572d21fa0dfe": {
      "model_module": "@jupyter-widgets/controls",
      "model_module_version": "1.5.0",
      "model_name": "HBoxModel",
      "state": {
       "children": [
        "IPY_MODEL_29f289d76e4a486db822e31990f2bcf5",
        "IPY_MODEL_c8ccc553ef41447d80c216c53dd4969f"
       ],
       "layout": "IPY_MODEL_9b8067f733ff44fc9a1ac29babb655e4"
      }
     },
     "c529627b116040a4a4059b55a0460aba": {
      "model_module": "@jupyter-widgets/controls",
      "model_module_version": "1.5.0",
      "model_name": "DescriptionStyleModel",
      "state": {
       "description_width": ""
      }
     },
     "c5aa5146142947c287ee0994e643bc72": {
      "model_module": "@jupyter-widgets/controls",
      "model_module_version": "1.5.0",
      "model_name": "ProgressStyleModel",
      "state": {
       "description_width": "initial"
      }
     },
     "c8ccc553ef41447d80c216c53dd4969f": {
      "model_module": "@jupyter-widgets/controls",
      "model_module_version": "1.5.0",
      "model_name": "HTMLModel",
      "state": {
       "layout": "IPY_MODEL_7f86e723a5d642448861bea3f7939d08",
       "style": "IPY_MODEL_84d601295ea64f98bb8e004d0df6c906",
       "value": " 681/681 [00:00&lt;00:00, 1832.05steps/s]"
      }
     },
     "ca7c586c06184341b973ca1689f386b6": {
      "model_module": "@jupyter-widgets/base",
      "model_module_version": "1.2.0",
      "model_name": "LayoutModel",
      "state": {}
     },
     "cbf6b6afe7184fa086dec89fa2426659": {
      "model_module": "@jupyter-widgets/controls",
      "model_module_version": "1.5.0",
      "model_name": "ProgressStyleModel",
      "state": {
       "description_width": "initial"
      }
     },
     "cc7aa06f6cbe461da9dc195d40bee464": {
      "model_module": "@jupyter-widgets/controls",
      "model_module_version": "1.5.0",
      "model_name": "ProgressStyleModel",
      "state": {
       "description_width": "initial"
      }
     },
     "ccf16773c403470ca5d77cb886056ce6": {
      "model_module": "@jupyter-widgets/controls",
      "model_module_version": "1.5.0",
      "model_name": "FloatProgressModel",
      "state": {
       "bar_style": "success",
       "description": "100%",
       "layout": "IPY_MODEL_e0637188523c47c0bc0a352a4952750f",
       "max": 20452,
       "style": "IPY_MODEL_7545e8b405724dbb84797a1918aadfdf",
       "value": 20452
      }
     },
     "d1724c3d65f2403c9d0ed3b1364148aa": {
      "model_module": "@jupyter-widgets/controls",
      "model_module_version": "1.5.0",
      "model_name": "ProgressStyleModel",
      "state": {
       "description_width": "initial"
      }
     },
     "d3cbf92dc2e2422a8126600b3d25eb0b": {
      "model_module": "@jupyter-widgets/controls",
      "model_module_version": "1.5.0",
      "model_name": "HBoxModel",
      "state": {
       "children": [
        "IPY_MODEL_42fe42fcb5d1405c860c0c35a09d7004",
        "IPY_MODEL_56d5b93586cc4df791b2f2d2f6d50907"
       ],
       "layout": "IPY_MODEL_b815fff0313a49b281bb3c02e129cf17"
      }
     },
     "d62d9c3807074a6289ba5e05f1c70c9c": {
      "model_module": "@jupyter-widgets/controls",
      "model_module_version": "1.5.0",
      "model_name": "HTMLModel",
      "state": {
       "layout": "IPY_MODEL_697a7a30ea1547a781c468c22ec39483",
       "style": "IPY_MODEL_438ec21b50054a8687a22b39f5758640",
       "value": " 6307200/6307200 [04:45&lt;00:00, 22066.32steps/s]"
      }
     },
     "d66778eafc164d1696f9c8163bc735f9": {
      "model_module": "@jupyter-widgets/controls",
      "model_module_version": "1.5.0",
      "model_name": "HBoxModel",
      "state": {
       "children": [
        "IPY_MODEL_ccf16773c403470ca5d77cb886056ce6",
        "IPY_MODEL_22e91aa5331b462e820da12b854fe3be"
       ],
       "layout": "IPY_MODEL_ed40964175c141608a241e5e0ae36960"
      }
     },
     "d8642c5c9467432a82fd7d2076e7da09": {
      "model_module": "@jupyter-widgets/base",
      "model_module_version": "1.2.0",
      "model_name": "LayoutModel",
      "state": {}
     },
     "d9716fe253a04765ac68bd8a5ff9c254": {
      "model_module": "@jupyter-widgets/base",
      "model_module_version": "1.2.0",
      "model_name": "LayoutModel",
      "state": {}
     },
     "da467ed00ca344d38793f5939ca2c4b9": {
      "model_module": "@jupyter-widgets/controls",
      "model_module_version": "1.5.0",
      "model_name": "DescriptionStyleModel",
      "state": {
       "description_width": ""
      }
     },
     "dae925e105784d94b4854945907e220c": {
      "model_module": "@jupyter-widgets/controls",
      "model_module_version": "1.5.0",
      "model_name": "HBoxModel",
      "state": {
       "children": [
        "IPY_MODEL_7cb4dbfc2815499f9d263703f7e33141",
        "IPY_MODEL_d62d9c3807074a6289ba5e05f1c70c9c"
       ],
       "layout": "IPY_MODEL_3f46fa680062423e81272caecb93e40a"
      }
     },
     "db16c6d33cc34504a22616620af530ce": {
      "model_module": "@jupyter-widgets/controls",
      "model_module_version": "1.5.0",
      "model_name": "DescriptionStyleModel",
      "state": {
       "description_width": ""
      }
     },
     "dbc646a8beaa48f7b4019db23173afd2": {
      "model_module": "@jupyter-widgets/base",
      "model_module_version": "1.2.0",
      "model_name": "LayoutModel",
      "state": {}
     },
     "dda18c9b537e4f5da0d595c0bdd89c1e": {
      "model_module": "@jupyter-widgets/controls",
      "model_module_version": "1.5.0",
      "model_name": "HTMLModel",
      "state": {
       "layout": "IPY_MODEL_949d60fa626c4753a1b34ea8ec48a7c1",
       "style": "IPY_MODEL_b6090037a5db43caaf60725456b61985",
       "value": " 31536000/31536000 [25:28&lt;00:00, 20629.71steps/s]"
      }
     },
     "e04ed24ef9ff4be29f14c6330fc3fddd": {
      "model_module": "@jupyter-widgets/controls",
      "model_module_version": "1.5.0",
      "model_name": "ProgressStyleModel",
      "state": {
       "description_width": "initial"
      }
     },
     "e0637188523c47c0bc0a352a4952750f": {
      "model_module": "@jupyter-widgets/base",
      "model_module_version": "1.2.0",
      "model_name": "LayoutModel",
      "state": {}
     },
     "e2a84111c4f94f698e89f679aef6084c": {
      "model_module": "@jupyter-widgets/controls",
      "model_module_version": "1.5.0",
      "model_name": "HTMLModel",
      "state": {
       "layout": "IPY_MODEL_3fb66ccacbbd43e89a9393f32fb4c645",
       "style": "IPY_MODEL_db16c6d33cc34504a22616620af530ce",
       "value": " 20452/20452 [00:04&lt;00:00, 4363.71steps/s]"
      }
     },
     "e3235c3479b446959afd714cf829a276": {
      "model_module": "@jupyter-widgets/controls",
      "model_module_version": "1.5.0",
      "model_name": "DescriptionStyleModel",
      "state": {
       "description_width": ""
      }
     },
     "e4447af06d4143c0b9116a3bbcbddf2a": {
      "model_module": "@jupyter-widgets/controls",
      "model_module_version": "1.5.0",
      "model_name": "HBoxModel",
      "state": {
       "children": [
        "IPY_MODEL_a6bc23834f064910b5f19e79511d02aa",
        "IPY_MODEL_5784b5982daa4e91981b604b39123c58"
       ],
       "layout": "IPY_MODEL_8127e1bd311849f8aea5704c2fa9f9d2"
      }
     },
     "e6982c1526a34b6ab2c3d50b2abc0b76": {
      "model_module": "@jupyter-widgets/base",
      "model_module_version": "1.2.0",
      "model_name": "LayoutModel",
      "state": {}
     },
     "e95930dd3e104025bcd5aaba8b4f72d5": {
      "model_module": "@jupyter-widgets/base",
      "model_module_version": "1.2.0",
      "model_name": "LayoutModel",
      "state": {}
     },
     "e9611520736a4a55b0ab0e347417a712": {
      "model_module": "@jupyter-widgets/controls",
      "model_module_version": "1.5.0",
      "model_name": "DescriptionStyleModel",
      "state": {
       "description_width": ""
      }
     },
     "e996bae4e86a4edaa53b928a1987f9b5": {
      "model_module": "@jupyter-widgets/base",
      "model_module_version": "1.2.0",
      "model_name": "LayoutModel",
      "state": {}
     },
     "eca530a2397f4bc78eed3bc6bccf3464": {
      "model_module": "@jupyter-widgets/base",
      "model_module_version": "1.2.0",
      "model_name": "LayoutModel",
      "state": {}
     },
     "ed40964175c141608a241e5e0ae36960": {
      "model_module": "@jupyter-widgets/base",
      "model_module_version": "1.2.0",
      "model_name": "LayoutModel",
      "state": {}
     },
     "eff9d80b748948478d478a92cb89a1fe": {
      "model_module": "@jupyter-widgets/base",
      "model_module_version": "1.2.0",
      "model_name": "LayoutModel",
      "state": {}
     },
     "f0198a84aaef444f85a60378651b3e8c": {
      "model_module": "@jupyter-widgets/controls",
      "model_module_version": "1.5.0",
      "model_name": "DescriptionStyleModel",
      "state": {
       "description_width": ""
      }
     },
     "f37db96fb9fa4603a57940a8fbdfc8aa": {
      "model_module": "@jupyter-widgets/controls",
      "model_module_version": "1.5.0",
      "model_name": "HTMLModel",
      "state": {
       "layout": "IPY_MODEL_b0c5943499fa4bfebcf0a62e329afac2",
       "style": "IPY_MODEL_e9611520736a4a55b0ab0e347417a712",
       "value": " 2045/2045 [00:01&lt;00:00, 1111.22steps/s]"
      }
     },
     "f51a2bb2ead347b3acbd403c2cc2ad8c": {
      "model_module": "@jupyter-widgets/controls",
      "model_module_version": "1.5.0",
      "model_name": "HBoxModel",
      "state": {
       "children": [
        "IPY_MODEL_081aac933772477f9b9b5f8b3f4080d3",
        "IPY_MODEL_e2a84111c4f94f698e89f679aef6084c"
       ],
       "layout": "IPY_MODEL_4bc5c0034a5145ac89ec578b518e1fc1"
      }
     },
     "f6ead4ee654044c4b75395effaaf8e36": {
      "model_module": "@jupyter-widgets/controls",
      "model_module_version": "1.5.0",
      "model_name": "ProgressStyleModel",
      "state": {
       "description_width": "initial"
      }
     },
     "f8b488d60aab4aff9b98ba407b192122": {
      "model_module": "@jupyter-widgets/controls",
      "model_module_version": "1.5.0",
      "model_name": "FloatProgressModel",
      "state": {
       "bar_style": "success",
       "description": "100%",
       "layout": "IPY_MODEL_3df7360d7b8f4e4e9f7d8529a84e90eb",
       "max": 20452,
       "style": "IPY_MODEL_f6ead4ee654044c4b75395effaaf8e36",
       "value": 20452
      }
     },
     "fb230cf000b541629e590e2072eae9cc": {
      "model_module": "@jupyter-widgets/base",
      "model_module_version": "1.2.0",
      "model_name": "LayoutModel",
      "state": {}
     },
     "fbef2251ebec44bfa00c8682209fc6d7": {
      "model_module": "@jupyter-widgets/base",
      "model_module_version": "1.2.0",
      "model_name": "LayoutModel",
      "state": {}
     },
     "fce090d40a8046a3ba43865087d22484": {
      "model_module": "@jupyter-widgets/base",
      "model_module_version": "1.2.0",
      "model_name": "LayoutModel",
      "state": {}
     },
     "fd92789d926445e7bf81d2e99e1ae846": {
      "model_module": "@jupyter-widgets/base",
      "model_module_version": "1.2.0",
      "model_name": "LayoutModel",
      "state": {}
     },
     "fee38f887fdf47b196cc704f97639730": {
      "model_module": "@jupyter-widgets/base",
      "model_module_version": "1.2.0",
      "model_name": "LayoutModel",
      "state": {}
     }
    },
    "version_major": 2,
    "version_minor": 0
   }
  }
 },
 "nbformat": 4,
 "nbformat_minor": 4
}
