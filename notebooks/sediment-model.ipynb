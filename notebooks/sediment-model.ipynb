{
 "cells": [
  {
   "cell_type": "markdown",
   "metadata": {},
   "source": [
    "# Zero-dimensional model of sediment accumulation on Polder 32 in Southwest Bangladesh"
   ]
  },
  {
   "cell_type": "markdown",
   "metadata": {},
   "source": [
    "## Prepare notebook"
   ]
  },
  {
   "cell_type": "markdown",
   "metadata": {},
   "source": [
    "Import all packages"
   ]
  },
  {
   "cell_type": "code",
   "execution_count": 1,
   "metadata": {},
   "outputs": [],
   "source": [
    "import pandas as pd\n",
    "import numpy as np\n",
    "import os\n",
    "import sys\n",
    "from pathlib import Path\n",
    "import subprocess\n",
    "import feather\n",
    "from tqdm.notebook import tqdm\n",
    "import itertools as it\n",
    "import inspect\n",
    "import shutil\n",
    "import re\n",
    "from collections import namedtuple\n",
    "from pyprojroot import here\n",
    "from joblib import Parallel, delayed\n",
    "import scipy\n",
    "import ipympl\n",
    "from matplotlib import pyplot as plt"
   ]
  },
  {
   "cell_type": "markdown",
   "metadata": {},
   "source": [
    "Set project root"
   ]
  },
  {
   "cell_type": "code",
   "execution_count": 2,
   "metadata": {},
   "outputs": [],
   "source": [
    "root = here()"
   ]
  },
  {
   "cell_type": "markdown",
   "metadata": {},
   "source": [
    "Set parameters for the model run."
   ]
  },
  {
   "cell_type": "code",
   "execution_count": 43,
   "metadata": {
    "scrolled": true
   },
   "outputs": [],
   "source": [
    "cpu_num = 1\n",
    "\n",
    "# Set model parameters\n",
    "run_len = 50  # years\n",
    "dt = \"1 sec\"  # timestep must be given as a timedelta string\n",
    "slr = 0.005  # yearly rate (m) (0.002 ESLR + 0.001 Tidal Amp)\n",
    "\n",
    "if cpu_num != 1:\n",
    "    slr = np.round(np.arange(0, 0.0325, 0.0025), 4)\n",
    "    ssc_factor = np.round(np.arange(0.25, 3.25, 0.25), 2)"
   ]
  },
  {
   "cell_type": "markdown",
   "metadata": {},
   "source": [
    "## Make tides"
   ]
  },
  {
   "cell_type": "markdown",
   "metadata": {},
   "source": [
    "Define functions that will be used to search for any missing tides and then create them."
   ]
  },
  {
   "cell_type": "code",
   "execution_count": 44,
   "metadata": {},
   "outputs": [],
   "source": [
    "def make_combos(**kwargs):\n",
    "    '''\n",
    "    Function that takes n-kwargs and returns a list of namedtuples\n",
    "    for each possible combination of kwargs.\n",
    "    '''\n",
    "    for key, value in kwargs.items():\n",
    "        if isinstance(value, (list, tuple, np.ndarray)) is False:\n",
    "            kwargs.update({key: [value]})\n",
    "    keys, value_tuples = zip(*kwargs.items())\n",
    "    combo_tuple = namedtuple(\"combos\", keys)\n",
    "    combos = [combo_tuple(*values) for values in it.product(*value_tuples)]\n",
    "    return combos\n",
    "\n",
    "\n",
    "def construct_filename(fn_format, **kwargs):\n",
    "    '''\n",
    "    Function that takes a string with n-number of format placeholders (e.g. {0]})\n",
    "    and uses the values from n-kwargs to populate the string.\n",
    "    '''\n",
    "    kwarg_num = len(kwargs)\n",
    "    fn_var_num = len(re.findall(r\"\\{.*?\\}\", fn_format))\n",
    "    if kwarg_num != fn_var_num:\n",
    "        raise Exception(\n",
    "            \"Format error: Given {0} kwargs, but \"\n",
    "            \"filename format has {1} sets of \"\n",
    "            \"braces.\".format(kwarg_num, fn_var_num)\n",
    "        )\n",
    "    fn = fn_format.format(*kwargs.values())\n",
    "    return fn\n",
    "\n",
    "\n",
    "def search_file(wdir, filename):\n",
    "    '''\n",
    "    Function that searches a directory for a filename and returns 0 the number\n",
    "    of exact matches (0 or 1). If more than one file is found, the function\n",
    "    will raise an exception.\n",
    "    '''\n",
    "    if len(list(Path(wdir).glob(filename))) == 0:\n",
    "        found = 0\n",
    "    elif len(list(Path(wdir).glob(filename))) == 1:\n",
    "        found = 1\n",
    "    elif len(list(Path(wdir).glob(filename))) > 1:\n",
    "        raise Exception(\"Found too many files that match.\")\n",
    "    return found\n",
    "\n",
    "\n",
    "def missing_combos(wdir, fn_format, combos):\n",
    "    '''\n",
    "    Function that creates filenames for a list of combinations and \n",
    "    then searches a directory for the filenames. The function returns\n",
    "    a list of combinations that were not found.\n",
    "    '''\n",
    "    to_make = []\n",
    "    for combo in combos:\n",
    "        fn = construct_filename(\n",
    "            fn_format=fn_format,\n",
    "            run_len=combo.run_len,\n",
    "            dt=int(pd.to_timedelta(combo.dt).total_seconds()),\n",
    "            slr=combo.slr,\n",
    "        )\n",
    "        if search_file(wdir, fn) == 0:\n",
    "            to_make.append(combo)\n",
    "    return to_make\n",
    "\n",
    "\n",
    "def make_tide(params):\n",
    "    '''\n",
    "    Function that accepts a namedtuple or dictionary object containing\n",
    "    the arguments: wdir, fn_format, run_length, dt, and slr. These values\n",
    "    are passed to the Rscript make_tides.R which creates a discretized tidal\n",
    "    curve with timesteps of dt and a total length of run_len. Sea level rise\n",
    "    is added to the curve using a yearly rate of SLR. The tidal data is stored in\n",
    "    wdir as a feather file for interopability between R and Python.\n",
    "    '''\n",
    "    fn = construct_filename(\n",
    "        fn_format=params.fn_format,\n",
    "        run_len=params.run_len,\n",
    "        dt=int(pd.to_timedelta(params.dt).total_seconds()),\n",
    "        slr=params.slr,\n",
    "    )\n",
    "    if params.wdir.is_dir() is False:\n",
    "        params.wdir.mkdir()\n",
    "\n",
    "    R_command = \"Rscript\"\n",
    "    script_path = (root / \"scripts\" / \"make_tides.R\").absolute().as_posix()\n",
    "    args = [\n",
    "        str(params.run_len),\n",
    "        str(params.dt),\n",
    "        \"{:.4f}\".format(params.slr),\n",
    "        params.wdir.absolute().as_posix(),\n",
    "    ]\n",
    "    cmd = [R_command, script_path] + args\n",
    "    subprocess.check_output(cmd, universal_newlines=True)\n",
    "    msg = \"Tide created: {0}\".format(fn)\n",
    "    return msg\n",
    "\n",
    "\n",
    "def load_tide(wdir, filename):\n",
    "    '''\n",
    "    Function that loads the tidal curve constructed by make_tides.R\n",
    "    and sets the index to the Datetime column.\n",
    "    '''\n",
    "    fp = wdir / filename\n",
    "    tides = feather.read_dataframe(fp)\n",
    "    tides = tides.set_index(\"Datetime\")\n",
    "\n",
    "    return tides\n",
    "\n",
    "\n",
    "def continuous_to_discrete_tides(fx, x=None, periods=None):\n",
    "    if x is None and period is None:\n",
    "        raise Exception(\"x or periods must be specified.\")\n",
    "    elif x is not None and periods is not none:\n",
    "        raise Exception(\"Only x or periods can be specified; not both.\")\n",
    "    elif isinstance(x, (list, tuple, np.ndarray, pd.RangeIndex, pd.DatetimeIndex)) is False:\n",
    "        raise Exception(\"x must be a list, tuple, numpy array, or pandas range index.\")\n",
    "    elif isinstance(periods, (int, float)) is False:\n",
    "        raise Exception('periods must be an int or a float.')\n",
    "    fun = lambda x: eval(fx)\n",
    "    data = [fun(i) for i in np.arange(len(x))]\n",
    "    df = pd.DataFrame(data = data, columns = ['pressure'], index=x)\n",
    "    return df"
   ]
  },
  {
   "cell_type": "markdown",
   "metadata": {},
   "source": [
    "Make all missing tides."
   ]
  },
  {
   "cell_type": "code",
   "execution_count": 45,
   "metadata": {},
   "outputs": [
    {
     "ename": "CalledProcessError",
     "evalue": "Command '['Rscript', '/home/chris/projects/tidal_flat_0d/scripts/make_tides.R', '50', '1 sec', '0.0050', '/home/chris/projects/tidal_flat_0d/data/interim/tides']' returned non-zero exit status 1.",
     "output_type": "error",
     "traceback": [
      "\u001b[0;31m---------------------------------------------------------------------------\u001b[0m",
      "\u001b[0;31mCalledProcessError\u001b[0m                        Traceback (most recent call last)",
      "\u001b[0;32m<ipython-input-45-a2db87bc84b4>\u001b[0m in \u001b[0;36m<module>\u001b[0;34m\u001b[0m\n\u001b[1;32m     14\u001b[0m \u001b[0;34m\u001b[0m\u001b[0m\n\u001b[1;32m     15\u001b[0m \u001b[0;32mif\u001b[0m \u001b[0mlen\u001b[0m\u001b[0;34m(\u001b[0m\u001b[0mtides_to_make\u001b[0m\u001b[0;34m)\u001b[0m \u001b[0;34m>\u001b[0m \u001b[0;36m0\u001b[0m\u001b[0;34m:\u001b[0m\u001b[0;34m\u001b[0m\u001b[0;34m\u001b[0m\u001b[0m\n\u001b[0;32m---> 16\u001b[0;31m     \u001b[0mParallel\u001b[0m\u001b[0;34m(\u001b[0m\u001b[0mn_jobs\u001b[0m\u001b[0;34m=\u001b[0m\u001b[0mcpu_num\u001b[0m\u001b[0;34m)\u001b[0m\u001b[0;34m(\u001b[0m\u001b[0mdelayed\u001b[0m\u001b[0;34m(\u001b[0m\u001b[0mmake_tide\u001b[0m\u001b[0;34m)\u001b[0m\u001b[0;34m(\u001b[0m\u001b[0mi\u001b[0m\u001b[0;34m)\u001b[0m \u001b[0;32mfor\u001b[0m \u001b[0mi\u001b[0m \u001b[0;32min\u001b[0m \u001b[0mtides_to_make\u001b[0m\u001b[0;34m)\u001b[0m\u001b[0;34m\u001b[0m\u001b[0;34m\u001b[0m\u001b[0m\n\u001b[0m\u001b[1;32m     17\u001b[0m \u001b[0;32melse\u001b[0m\u001b[0;34m:\u001b[0m\u001b[0;34m\u001b[0m\u001b[0;34m\u001b[0m\u001b[0m\n\u001b[1;32m     18\u001b[0m     \u001b[0mprint\u001b[0m\u001b[0;34m(\u001b[0m\u001b[0;34m'All tides already in library.'\u001b[0m\u001b[0;34m)\u001b[0m\u001b[0;34m\u001b[0m\u001b[0;34m\u001b[0m\u001b[0m\n",
      "\u001b[0;32m/opt/conda/lib/python3.7/site-packages/joblib/parallel.py\u001b[0m in \u001b[0;36m__call__\u001b[0;34m(self, iterable)\u001b[0m\n\u001b[1;32m   1027\u001b[0m             \u001b[0;31m# remaining jobs.\u001b[0m\u001b[0;34m\u001b[0m\u001b[0;34m\u001b[0m\u001b[0;34m\u001b[0m\u001b[0m\n\u001b[1;32m   1028\u001b[0m             \u001b[0mself\u001b[0m\u001b[0;34m.\u001b[0m\u001b[0m_iterating\u001b[0m \u001b[0;34m=\u001b[0m \u001b[0;32mFalse\u001b[0m\u001b[0;34m\u001b[0m\u001b[0;34m\u001b[0m\u001b[0m\n\u001b[0;32m-> 1029\u001b[0;31m             \u001b[0;32mif\u001b[0m \u001b[0mself\u001b[0m\u001b[0;34m.\u001b[0m\u001b[0mdispatch_one_batch\u001b[0m\u001b[0;34m(\u001b[0m\u001b[0miterator\u001b[0m\u001b[0;34m)\u001b[0m\u001b[0;34m:\u001b[0m\u001b[0;34m\u001b[0m\u001b[0;34m\u001b[0m\u001b[0m\n\u001b[0m\u001b[1;32m   1030\u001b[0m                 \u001b[0mself\u001b[0m\u001b[0;34m.\u001b[0m\u001b[0m_iterating\u001b[0m \u001b[0;34m=\u001b[0m \u001b[0mself\u001b[0m\u001b[0;34m.\u001b[0m\u001b[0m_original_iterator\u001b[0m \u001b[0;32mis\u001b[0m \u001b[0;32mnot\u001b[0m \u001b[0;32mNone\u001b[0m\u001b[0;34m\u001b[0m\u001b[0;34m\u001b[0m\u001b[0m\n\u001b[1;32m   1031\u001b[0m \u001b[0;34m\u001b[0m\u001b[0m\n",
      "\u001b[0;32m/opt/conda/lib/python3.7/site-packages/joblib/parallel.py\u001b[0m in \u001b[0;36mdispatch_one_batch\u001b[0;34m(self, iterator)\u001b[0m\n\u001b[1;32m    845\u001b[0m                 \u001b[0;32mreturn\u001b[0m \u001b[0;32mFalse\u001b[0m\u001b[0;34m\u001b[0m\u001b[0;34m\u001b[0m\u001b[0m\n\u001b[1;32m    846\u001b[0m             \u001b[0;32melse\u001b[0m\u001b[0;34m:\u001b[0m\u001b[0;34m\u001b[0m\u001b[0;34m\u001b[0m\u001b[0m\n\u001b[0;32m--> 847\u001b[0;31m                 \u001b[0mself\u001b[0m\u001b[0;34m.\u001b[0m\u001b[0m_dispatch\u001b[0m\u001b[0;34m(\u001b[0m\u001b[0mtasks\u001b[0m\u001b[0;34m)\u001b[0m\u001b[0;34m\u001b[0m\u001b[0;34m\u001b[0m\u001b[0m\n\u001b[0m\u001b[1;32m    848\u001b[0m                 \u001b[0;32mreturn\u001b[0m \u001b[0;32mTrue\u001b[0m\u001b[0;34m\u001b[0m\u001b[0;34m\u001b[0m\u001b[0m\n\u001b[1;32m    849\u001b[0m \u001b[0;34m\u001b[0m\u001b[0m\n",
      "\u001b[0;32m/opt/conda/lib/python3.7/site-packages/joblib/parallel.py\u001b[0m in \u001b[0;36m_dispatch\u001b[0;34m(self, batch)\u001b[0m\n\u001b[1;32m    763\u001b[0m         \u001b[0;32mwith\u001b[0m \u001b[0mself\u001b[0m\u001b[0;34m.\u001b[0m\u001b[0m_lock\u001b[0m\u001b[0;34m:\u001b[0m\u001b[0;34m\u001b[0m\u001b[0;34m\u001b[0m\u001b[0m\n\u001b[1;32m    764\u001b[0m             \u001b[0mjob_idx\u001b[0m \u001b[0;34m=\u001b[0m \u001b[0mlen\u001b[0m\u001b[0;34m(\u001b[0m\u001b[0mself\u001b[0m\u001b[0;34m.\u001b[0m\u001b[0m_jobs\u001b[0m\u001b[0;34m)\u001b[0m\u001b[0;34m\u001b[0m\u001b[0;34m\u001b[0m\u001b[0m\n\u001b[0;32m--> 765\u001b[0;31m             \u001b[0mjob\u001b[0m \u001b[0;34m=\u001b[0m \u001b[0mself\u001b[0m\u001b[0;34m.\u001b[0m\u001b[0m_backend\u001b[0m\u001b[0;34m.\u001b[0m\u001b[0mapply_async\u001b[0m\u001b[0;34m(\u001b[0m\u001b[0mbatch\u001b[0m\u001b[0;34m,\u001b[0m \u001b[0mcallback\u001b[0m\u001b[0;34m=\u001b[0m\u001b[0mcb\u001b[0m\u001b[0;34m)\u001b[0m\u001b[0;34m\u001b[0m\u001b[0;34m\u001b[0m\u001b[0m\n\u001b[0m\u001b[1;32m    766\u001b[0m             \u001b[0;31m# A job can complete so quickly than its callback is\u001b[0m\u001b[0;34m\u001b[0m\u001b[0;34m\u001b[0m\u001b[0;34m\u001b[0m\u001b[0m\n\u001b[1;32m    767\u001b[0m             \u001b[0;31m# called before we get here, causing self._jobs to\u001b[0m\u001b[0;34m\u001b[0m\u001b[0;34m\u001b[0m\u001b[0;34m\u001b[0m\u001b[0m\n",
      "\u001b[0;32m/opt/conda/lib/python3.7/site-packages/joblib/_parallel_backends.py\u001b[0m in \u001b[0;36mapply_async\u001b[0;34m(self, func, callback)\u001b[0m\n\u001b[1;32m    206\u001b[0m     \u001b[0;32mdef\u001b[0m \u001b[0mapply_async\u001b[0m\u001b[0;34m(\u001b[0m\u001b[0mself\u001b[0m\u001b[0;34m,\u001b[0m \u001b[0mfunc\u001b[0m\u001b[0;34m,\u001b[0m \u001b[0mcallback\u001b[0m\u001b[0;34m=\u001b[0m\u001b[0;32mNone\u001b[0m\u001b[0;34m)\u001b[0m\u001b[0;34m:\u001b[0m\u001b[0;34m\u001b[0m\u001b[0;34m\u001b[0m\u001b[0m\n\u001b[1;32m    207\u001b[0m         \u001b[0;34m\"\"\"Schedule a func to be run\"\"\"\u001b[0m\u001b[0;34m\u001b[0m\u001b[0;34m\u001b[0m\u001b[0m\n\u001b[0;32m--> 208\u001b[0;31m         \u001b[0mresult\u001b[0m \u001b[0;34m=\u001b[0m \u001b[0mImmediateResult\u001b[0m\u001b[0;34m(\u001b[0m\u001b[0mfunc\u001b[0m\u001b[0;34m)\u001b[0m\u001b[0;34m\u001b[0m\u001b[0;34m\u001b[0m\u001b[0m\n\u001b[0m\u001b[1;32m    209\u001b[0m         \u001b[0;32mif\u001b[0m \u001b[0mcallback\u001b[0m\u001b[0;34m:\u001b[0m\u001b[0;34m\u001b[0m\u001b[0;34m\u001b[0m\u001b[0m\n\u001b[1;32m    210\u001b[0m             \u001b[0mcallback\u001b[0m\u001b[0;34m(\u001b[0m\u001b[0mresult\u001b[0m\u001b[0;34m)\u001b[0m\u001b[0;34m\u001b[0m\u001b[0;34m\u001b[0m\u001b[0m\n",
      "\u001b[0;32m/opt/conda/lib/python3.7/site-packages/joblib/_parallel_backends.py\u001b[0m in \u001b[0;36m__init__\u001b[0;34m(self, batch)\u001b[0m\n\u001b[1;32m    570\u001b[0m         \u001b[0;31m# Don't delay the application, to avoid keeping the input\u001b[0m\u001b[0;34m\u001b[0m\u001b[0;34m\u001b[0m\u001b[0;34m\u001b[0m\u001b[0m\n\u001b[1;32m    571\u001b[0m         \u001b[0;31m# arguments in memory\u001b[0m\u001b[0;34m\u001b[0m\u001b[0;34m\u001b[0m\u001b[0;34m\u001b[0m\u001b[0m\n\u001b[0;32m--> 572\u001b[0;31m         \u001b[0mself\u001b[0m\u001b[0;34m.\u001b[0m\u001b[0mresults\u001b[0m \u001b[0;34m=\u001b[0m \u001b[0mbatch\u001b[0m\u001b[0;34m(\u001b[0m\u001b[0;34m)\u001b[0m\u001b[0;34m\u001b[0m\u001b[0;34m\u001b[0m\u001b[0m\n\u001b[0m\u001b[1;32m    573\u001b[0m \u001b[0;34m\u001b[0m\u001b[0m\n\u001b[1;32m    574\u001b[0m     \u001b[0;32mdef\u001b[0m \u001b[0mget\u001b[0m\u001b[0;34m(\u001b[0m\u001b[0mself\u001b[0m\u001b[0;34m)\u001b[0m\u001b[0;34m:\u001b[0m\u001b[0;34m\u001b[0m\u001b[0;34m\u001b[0m\u001b[0m\n",
      "\u001b[0;32m/opt/conda/lib/python3.7/site-packages/joblib/parallel.py\u001b[0m in \u001b[0;36m__call__\u001b[0;34m(self)\u001b[0m\n\u001b[1;32m    251\u001b[0m         \u001b[0;32mwith\u001b[0m \u001b[0mparallel_backend\u001b[0m\u001b[0;34m(\u001b[0m\u001b[0mself\u001b[0m\u001b[0;34m.\u001b[0m\u001b[0m_backend\u001b[0m\u001b[0;34m,\u001b[0m \u001b[0mn_jobs\u001b[0m\u001b[0;34m=\u001b[0m\u001b[0mself\u001b[0m\u001b[0;34m.\u001b[0m\u001b[0m_n_jobs\u001b[0m\u001b[0;34m)\u001b[0m\u001b[0;34m:\u001b[0m\u001b[0;34m\u001b[0m\u001b[0;34m\u001b[0m\u001b[0m\n\u001b[1;32m    252\u001b[0m             return [func(*args, **kwargs)\n\u001b[0;32m--> 253\u001b[0;31m                     for func, args, kwargs in self.items]\n\u001b[0m\u001b[1;32m    254\u001b[0m \u001b[0;34m\u001b[0m\u001b[0m\n\u001b[1;32m    255\u001b[0m     \u001b[0;32mdef\u001b[0m \u001b[0m__reduce__\u001b[0m\u001b[0;34m(\u001b[0m\u001b[0mself\u001b[0m\u001b[0;34m)\u001b[0m\u001b[0;34m:\u001b[0m\u001b[0;34m\u001b[0m\u001b[0;34m\u001b[0m\u001b[0m\n",
      "\u001b[0;32m/opt/conda/lib/python3.7/site-packages/joblib/parallel.py\u001b[0m in \u001b[0;36m<listcomp>\u001b[0;34m(.0)\u001b[0m\n\u001b[1;32m    251\u001b[0m         \u001b[0;32mwith\u001b[0m \u001b[0mparallel_backend\u001b[0m\u001b[0;34m(\u001b[0m\u001b[0mself\u001b[0m\u001b[0;34m.\u001b[0m\u001b[0m_backend\u001b[0m\u001b[0;34m,\u001b[0m \u001b[0mn_jobs\u001b[0m\u001b[0;34m=\u001b[0m\u001b[0mself\u001b[0m\u001b[0;34m.\u001b[0m\u001b[0m_n_jobs\u001b[0m\u001b[0;34m)\u001b[0m\u001b[0;34m:\u001b[0m\u001b[0;34m\u001b[0m\u001b[0;34m\u001b[0m\u001b[0m\n\u001b[1;32m    252\u001b[0m             return [func(*args, **kwargs)\n\u001b[0;32m--> 253\u001b[0;31m                     for func, args, kwargs in self.items]\n\u001b[0m\u001b[1;32m    254\u001b[0m \u001b[0;34m\u001b[0m\u001b[0m\n\u001b[1;32m    255\u001b[0m     \u001b[0;32mdef\u001b[0m \u001b[0m__reduce__\u001b[0m\u001b[0;34m(\u001b[0m\u001b[0mself\u001b[0m\u001b[0;34m)\u001b[0m\u001b[0;34m:\u001b[0m\u001b[0;34m\u001b[0m\u001b[0;34m\u001b[0m\u001b[0m\n",
      "\u001b[0;32m<ipython-input-44-0aae40e0880a>\u001b[0m in \u001b[0;36mmake_tide\u001b[0;34m(params)\u001b[0m\n\u001b[1;32m     91\u001b[0m     ]\n\u001b[1;32m     92\u001b[0m     \u001b[0mcmd\u001b[0m \u001b[0;34m=\u001b[0m \u001b[0;34m[\u001b[0m\u001b[0mR_command\u001b[0m\u001b[0;34m,\u001b[0m \u001b[0mscript_path\u001b[0m\u001b[0;34m]\u001b[0m \u001b[0;34m+\u001b[0m \u001b[0margs\u001b[0m\u001b[0;34m\u001b[0m\u001b[0;34m\u001b[0m\u001b[0m\n\u001b[0;32m---> 93\u001b[0;31m     \u001b[0msubprocess\u001b[0m\u001b[0;34m.\u001b[0m\u001b[0mcheck_output\u001b[0m\u001b[0;34m(\u001b[0m\u001b[0mcmd\u001b[0m\u001b[0;34m,\u001b[0m \u001b[0muniversal_newlines\u001b[0m\u001b[0;34m=\u001b[0m\u001b[0;32mTrue\u001b[0m\u001b[0;34m)\u001b[0m\u001b[0;34m\u001b[0m\u001b[0;34m\u001b[0m\u001b[0m\n\u001b[0m\u001b[1;32m     94\u001b[0m     \u001b[0mmsg\u001b[0m \u001b[0;34m=\u001b[0m \u001b[0;34m\"Tide created: {0}\"\u001b[0m\u001b[0;34m.\u001b[0m\u001b[0mformat\u001b[0m\u001b[0;34m(\u001b[0m\u001b[0mfn\u001b[0m\u001b[0;34m)\u001b[0m\u001b[0;34m\u001b[0m\u001b[0;34m\u001b[0m\u001b[0m\n\u001b[1;32m     95\u001b[0m     \u001b[0;32mreturn\u001b[0m \u001b[0mmsg\u001b[0m\u001b[0;34m\u001b[0m\u001b[0;34m\u001b[0m\u001b[0m\n",
      "\u001b[0;32m/opt/conda/lib/python3.7/subprocess.py\u001b[0m in \u001b[0;36mcheck_output\u001b[0;34m(timeout, *popenargs, **kwargs)\u001b[0m\n\u001b[1;32m    409\u001b[0m \u001b[0;34m\u001b[0m\u001b[0m\n\u001b[1;32m    410\u001b[0m     return run(*popenargs, stdout=PIPE, timeout=timeout, check=True,\n\u001b[0;32m--> 411\u001b[0;31m                **kwargs).stdout\n\u001b[0m\u001b[1;32m    412\u001b[0m \u001b[0;34m\u001b[0m\u001b[0m\n\u001b[1;32m    413\u001b[0m \u001b[0;34m\u001b[0m\u001b[0m\n",
      "\u001b[0;32m/opt/conda/lib/python3.7/subprocess.py\u001b[0m in \u001b[0;36mrun\u001b[0;34m(input, capture_output, timeout, check, *popenargs, **kwargs)\u001b[0m\n\u001b[1;32m    510\u001b[0m         \u001b[0;32mif\u001b[0m \u001b[0mcheck\u001b[0m \u001b[0;32mand\u001b[0m \u001b[0mretcode\u001b[0m\u001b[0;34m:\u001b[0m\u001b[0;34m\u001b[0m\u001b[0;34m\u001b[0m\u001b[0m\n\u001b[1;32m    511\u001b[0m             raise CalledProcessError(retcode, process.args,\n\u001b[0;32m--> 512\u001b[0;31m                                      output=stdout, stderr=stderr)\n\u001b[0m\u001b[1;32m    513\u001b[0m     \u001b[0;32mreturn\u001b[0m \u001b[0mCompletedProcess\u001b[0m\u001b[0;34m(\u001b[0m\u001b[0mprocess\u001b[0m\u001b[0;34m.\u001b[0m\u001b[0margs\u001b[0m\u001b[0;34m,\u001b[0m \u001b[0mretcode\u001b[0m\u001b[0;34m,\u001b[0m \u001b[0mstdout\u001b[0m\u001b[0;34m,\u001b[0m \u001b[0mstderr\u001b[0m\u001b[0;34m)\u001b[0m\u001b[0;34m\u001b[0m\u001b[0;34m\u001b[0m\u001b[0m\n\u001b[1;32m    514\u001b[0m \u001b[0;34m\u001b[0m\u001b[0m\n",
      "\u001b[0;31mCalledProcessError\u001b[0m: Command '['Rscript', '/home/chris/projects/tidal_flat_0d/scripts/make_tides.R', '50', '1 sec', '0.0050', '/home/chris/projects/tidal_flat_0d/data/interim/tides']' returned non-zero exit status 1."
     ]
    }
   ],
   "source": [
    "dir = root / \"data\" / \"interim\" / \"tides\"\n",
    "fn_format = \"tides-yr_{0}-dt_{1}-slr_{2:.4f}.feather\"\n",
    "tide_combos = make_combos(slr=slr, run_len=run_len, dt=dt)\n",
    "missing = missing_combos(dir, fn_format, tide_combos)\n",
    "params_for_make_tide = namedtuple(\n",
    "    \"params_for_make_tide\", (\"wdir\", \"fn_format\") + tide_combos[0]._fields\n",
    ")\n",
    "tides_to_make = [\n",
    "    params_for_make_tide(\n",
    "        wdir=dir, fn_format=fn_format, slr=item.slr, run_len=item.run_len, dt=item.dt\n",
    "    )\n",
    "    for item in missing\n",
    "]\n",
    "\n",
    "if len(tides_to_make) > 0:\n",
    "    Parallel(n_jobs=cpu_num)(delayed(make_tide)(i) for i in tides_to_make)\n",
    "else:\n",
    "    print('All tides already in library.')"
   ]
  },
  {
   "cell_type": "markdown",
   "metadata": {},
   "source": [
    "## Run the sediment model"
   ]
  },
  {
   "cell_type": "markdown",
   "metadata": {},
   "source": [
    "Define functions that will be used to run the sediment model"
   ]
  },
  {
   "cell_type": "code",
   "execution_count": 6,
   "metadata": {},
   "outputs": [],
   "source": [
    "def return_bound_conc(bound_conc, method, timestamp=None):\n",
    "    if method == \"constant\":\n",
    "        return bound_conc\n",
    "    elif method == \"weekly\":\n",
    "        week = timestamp.week\n",
    "        bound_conc = sed_conc.loc[week].values[0]\n",
    "        return bound_conc\n",
    "\n",
    "\n",
    "def calc_conc(\n",
    "    bound_conc, tide_height, tide_height_min_1, conc_min_1, elev, elev_min_1, settle_rate, timestep\n",
    "):\n",
    "    depth = tide_height - elev\n",
    "    depth_min_1 = tide_height_min_1 - elev_min_1\n",
    "    change_in_depth = depth - depth_min_1\n",
    "\n",
    "    # Checks\n",
    "    tide_above_platform = np.bool(tide_height > elev)\n",
    "    prev_tide_above_platform = np.bool(tide_height_min_1 > elev)\n",
    "    tide_increasing = np.bool(tide_height > tide_height_min_1)\n",
    "    settling_valid = np.bool(settle_rate * conc_min_1 * timestep <= depth_min_1 * conc_min_1)\n",
    "    checks = [tide_above_platform, tide_increasing, settling_valid]\n",
    "\n",
    "    term1 = conc_min_1\n",
    "    term2 = (settle_rate * conc_min_1) / depth_min_1 * timestep\n",
    "    term3 = 1\n",
    "    term4 = bound_conc * change_in_depth\n",
    "    term5 = conc_min_1 * change_in_depth\n",
    "\n",
    "    if tide_increasing is False:\n",
    "        term3 = 0\n",
    "    if settling_valid is False:\n",
    "        term1 = term2 = 0\n",
    "    if tide_above_platform is True:\n",
    "        conc = term1 - term2 + term3 * (term4 - term5)\n",
    "    elif tide_above_platform is False:\n",
    "        conc = 0\n",
    "\n",
    "    terms = [term1, term2, term3, term4, term5]\n",
    "\n",
    "    return conc, terms, checks\n",
    "\n",
    "\n",
    "def accumulate_sediment(conc, settle_rate, timestep):\n",
    "    deposited_sediment = settle_rate * conc * timestep\n",
    "    return deposited_sediment\n",
    "\n",
    "\n",
    "def aggrade(start_elev, sediment, organic, compaction, subsidence):\n",
    "    elev = start_elev + sediment + organic - compaction - subsidence\n",
    "    return elev\n",
    "\n",
    "\n",
    "def return_settle_rate(grain_den, grain_dia):\n",
    "    fluid_den = 1000\n",
    "    fluid_visc = 0.001\n",
    "    g = 9.8\n",
    "    settle_rate = (\n",
    "        (2 / 9 * (grain_den - fluid_den) / fluid_visc) * g * (grain_dia / 2) ** 2\n",
    "    )\n",
    "    return settle_rate"
   ]
  },
  {
   "cell_type": "markdown",
   "metadata": {},
   "source": [
    "Run the model. Work in progress. Normally, these parameters will be defined at the top of the document."
   ]
  },
  {
   "cell_type": "code",
   "execution_count": 133,
   "metadata": {},
   "outputs": [
    {
     "data": {
      "application/vnd.jupyter.widget-view+json": {
       "model_id": "4ab9b328691e4c1781a536d15af905c5",
       "version_major": 2,
       "version_minor": 0
      },
      "text/plain": [
       "HBox(children=(FloatProgress(value=0.0, max=126230400.0), HTML(value='')))"
      ]
     },
     "metadata": {},
     "output_type": "display_data"
    },
    {
     "name": "stdout",
     "output_type": "stream",
     "text": [
      "\n"
     ]
    }
   ],
   "source": [
    "bound_conc = 0.8 # g/L\n",
    "grain_dia = 0.000035  # grain diameter (m)\n",
    "grain_den = 2650  # density of quartz kg/m3\n",
    "bulk_den = 1100 # kg/m3\n",
    "compaction_rate = 0\n",
    "organic_rate = 0\n",
    "subsidence_rate = 0\n",
    "start_elev = 1.25\n",
    "\n",
    "\n",
    "tides = load_tide(dir, \"tides-yr_20-dt_5-slr_0.0050.feather\")\n",
    "#tides = load_tide(dir, \"tides-debug.feather\")*2\n",
    "index = tides.index\n",
    "timestep = index[1] - index[0]\n",
    "timestep_sec = timestep.total_seconds()\n",
    "\n",
    "organic = organic_rate / 8760 / 60 / 60 * timestep_sec\n",
    "compaction = compaction_rate / 8760 / 60 / 60 * timestep_sec\n",
    "subsidence = subsidence_rate / 8760 / 60 / 60 * timestep_sec\n",
    "settle_rate = return_settle_rate(grain_den, grain_dia)\n",
    "\n",
    "elev = np.zeros(len(tides.index))\n",
    "elev[0] = start_elev\n",
    "elev_change = np.zeros(len(tides.index))\n",
    "tide_height = tides.pressure.values\n",
    "bound_conc = np.full(len(tides.index), bound_conc)\n",
    "conc = np.zeros(len(tides.index))\n",
    "deposited_sediment = np.zeros(len(tides.index))\n",
    "depth = np.full(len(tides.index), np.nan)\n",
    "\n",
    "#debug terms\n",
    "term1 = np.full(len(tides.index), np.nan)\n",
    "term2 = np.full(len(tides.index), np.nan)\n",
    "term3 = np.full(len(tides.index), np.nan)\n",
    "term4 = np.full(len(tides.index), np.nan)\n",
    "term5 = np.full(len(tides.index), np.nan)\n",
    "\n",
    "counter = np.arange(1, len(index))\n",
    "\n",
    "for t in tqdm(\n",
    "    counter,\n",
    "    total=len(index[1:]),\n",
    "    unit=\"steps\",\n",
    "):\n",
    "    elev[t] = aggrade(elev[t - 1], elev_change[t - 1], organic, compaction, subsidence)\n",
    "    depth[t] = tide_height[t] - elev[t]\n",
    "    conc[t], terms, checks = calc_conc(\n",
    "        bound_conc[t],\n",
    "        tide_height[t],\n",
    "        tide_height[t - 1],\n",
    "        conc[t - 1],\n",
    "        elev[t],\n",
    "        elev[t-1],\n",
    "        settle_rate,\n",
    "        timestep_sec\n",
    "    )\n",
    "    term1[t] = terms[0]\n",
    "    term2[t] = terms[1]\n",
    "    term3[t] = terms[2]\n",
    "    term4[t] = terms[3]\n",
    "    term5[t] = terms[4]\n",
    "    deposited_sediment[t] = accumulate_sediment(\n",
    "        conc[t], settle_rate, timestep_sec\n",
    "    )\n",
    "    elev_change[t] = deposited_sediment[t] / bulk_den"
   ]
  },
  {
   "cell_type": "code",
   "execution_count": 134,
   "metadata": {},
   "outputs": [],
   "source": [
    "data = pd.DataFrame(data={'elev': elev, 'tide': tide_height,\n",
    "                          'depth': depth, 'bound_conc': bound_conc, 'conc': conc, 'term1' :term1,\n",
    "                          'term2': term2, 'term3': term3, 'term4': term4, 'term5': term5,'deposited_sediment': deposited_sediment, 'elev_change': elev_change}, index=index)\n",
    "data['suspended_sediment'] = (data.conc * depth)\n",
    "data['incoming_sediment'] = bound_conc * (data.depth - data.depth.shift(1))\n",
    "data.incoming_sediment = np.where(data.incoming_sediment < 0, 0, data.incoming_sediment)\n",
    "feather_df = data.reset_index()\n",
    "feather_df.to_feather('for_jonathan/natural_20yr.feather')"
   ]
  },
  {
   "cell_type": "code",
   "execution_count": 135,
   "metadata": {},
   "outputs": [
    {
     "data": {
      "image/png": "[encoded data removed]",
      "text/plain": [
       "<Figure size 720x1080 with 6 Axes>"
      ]
     },
     "metadata": {
      "needs_background": "light"
     },
     "output_type": "display_data"
    }
   ],
   "source": [
    "plot_data = data.copy()\n",
    "plot_data = plot_data.sample(frac=0.1)\n",
    "start = 0\n",
    "end = -1\n",
    "import matplotlib\n",
    "ticks = matplotlib.dates.YearLocator()\n",
    "\n",
    "figure, axes = plt.subplots(nrows=6, ncols=1, figsize=(10,15))\n",
    "p1 = plot_data[start:end][['tide']].plot(ax=axes[0]).xaxis.set_visible(False)\n",
    "plot_data[start:end][['elev']].plot(ax=axes[0], color='black', ls='--')\n",
    "p2 = plot_data[start:end][['conc']].plot(ax=axes[1]).xaxis.set_visible(False)\n",
    "p3 = plot_data[start:end][['suspended_sediment']].plot(ax=axes[2]).xaxis.set_visible(False)\n",
    "p4 = plot_data[start:end][['incoming_sediment']].plot(ax=axes[3]).xaxis.set_visible(False)\n",
    "p5 = plot_data[start:end][['deposited_sediment']].plot(ax=axes[4]).xaxis.set_visible(False)\n",
    "p6 = plot_data[start:end][['elev']].plot(ax=axes[5])\n",
    "axes[5].xaxis.set_major_locator(ticks)\n",
    "axes[5].xaxis.set_major_formatter(matplotlib.dates.DateFormatter('%Y'))\n",
    "axes[5].set_xlabel('Year')\n",
    "ylabels = ['Height (m)', 'Concentration ($kg \\cdot m^{3}$)', 'Suspended ($kg \\cdot m^{-2}$)', 'Incoming ($kg \\cdot m^{-2}$)', 'Deposited ($kg \\cdot m^{-2}$)', 'Elevation (m)']\n",
    "count = 0\n",
    "for ax in axes:\n",
    "    ax.margins(x=0)\n",
    "    ax.set_ylabel(ylabels[count])\n",
    "    ax.yaxis.set_label_coords(-0.08, 0.5)\n",
    "    ax.get_legend().remove()\n",
    "    count = count + 1\n",
    "figure.savefig('for_jonathan/natural_20yr.png')"
   ]
  },
  {
   "cell_type": "code",
   "execution_count": 161,
   "metadata": {},
   "outputs": [
    {
     "ename": "AttributeError",
     "evalue": "'Series' object has no attribute 'merge'",
     "output_type": "error",
     "traceback": [
      "\u001b[0;31m---------------------------------------------------------------------------\u001b[0m",
      "\u001b[0;31mAttributeError\u001b[0m                            Traceback (most recent call last)",
      "\u001b[0;32m<ipython-input-161-da5da7380885>\u001b[0m in \u001b[0;36m<module>\u001b[0;34m\u001b[0m\n\u001b[1;32m      1\u001b[0m \u001b[0mpolder\u001b[0m \u001b[0;34m=\u001b[0m \u001b[0mpd\u001b[0m\u001b[0;34m.\u001b[0m\u001b[0mread_feather\u001b[0m\u001b[0;34m(\u001b[0m\u001b[0;34m'for_jonathan/polder_20yr.feather'\u001b[0m\u001b[0;34m)\u001b[0m\u001b[0;34m.\u001b[0m\u001b[0mset_index\u001b[0m\u001b[0;34m(\u001b[0m\u001b[0;34m'Datetime'\u001b[0m\u001b[0;34m)\u001b[0m\u001b[0;34m\u001b[0m\u001b[0;34m\u001b[0m\u001b[0m\n\u001b[1;32m      2\u001b[0m \u001b[0mnatural\u001b[0m \u001b[0;34m=\u001b[0m \u001b[0mpd\u001b[0m\u001b[0;34m.\u001b[0m\u001b[0mread_feather\u001b[0m\u001b[0;34m(\u001b[0m\u001b[0;34m'for_jonathan/natural_20yr.feather'\u001b[0m\u001b[0;34m)\u001b[0m\u001b[0;34m.\u001b[0m\u001b[0mset_index\u001b[0m\u001b[0;34m(\u001b[0m\u001b[0;34m'Datetime'\u001b[0m\u001b[0;34m)\u001b[0m\u001b[0;34m\u001b[0m\u001b[0;34m\u001b[0m\u001b[0m\n\u001b[0;32m----> 3\u001b[0;31m \u001b[0mboth\u001b[0m \u001b[0;34m=\u001b[0m \u001b[0mpolder\u001b[0m\u001b[0;34m.\u001b[0m\u001b[0melev\u001b[0m\u001b[0;34m.\u001b[0m\u001b[0mmerge\u001b[0m\u001b[0;34m(\u001b[0m\u001b[0mnatural\u001b[0m\u001b[0;34m.\u001b[0m\u001b[0melev\u001b[0m\u001b[0;34m)\u001b[0m\u001b[0;34m\u001b[0m\u001b[0;34m\u001b[0m\u001b[0m\n\u001b[0m",
      "\u001b[0;32m/opt/conda/lib/python3.7/site-packages/pandas/core/generic.py\u001b[0m in \u001b[0;36m__getattr__\u001b[0;34m(self, name)\u001b[0m\n\u001b[1;32m   5272\u001b[0m             \u001b[0;32mif\u001b[0m \u001b[0mself\u001b[0m\u001b[0;34m.\u001b[0m\u001b[0m_info_axis\u001b[0m\u001b[0;34m.\u001b[0m\u001b[0m_can_hold_identifiers_and_holds_name\u001b[0m\u001b[0;34m(\u001b[0m\u001b[0mname\u001b[0m\u001b[0;34m)\u001b[0m\u001b[0;34m:\u001b[0m\u001b[0;34m\u001b[0m\u001b[0;34m\u001b[0m\u001b[0m\n\u001b[1;32m   5273\u001b[0m                 \u001b[0;32mreturn\u001b[0m \u001b[0mself\u001b[0m\u001b[0;34m[\u001b[0m\u001b[0mname\u001b[0m\u001b[0;34m]\u001b[0m\u001b[0;34m\u001b[0m\u001b[0;34m\u001b[0m\u001b[0m\n\u001b[0;32m-> 5274\u001b[0;31m             \u001b[0;32mreturn\u001b[0m \u001b[0mobject\u001b[0m\u001b[0;34m.\u001b[0m\u001b[0m__getattribute__\u001b[0m\u001b[0;34m(\u001b[0m\u001b[0mself\u001b[0m\u001b[0;34m,\u001b[0m \u001b[0mname\u001b[0m\u001b[0;34m)\u001b[0m\u001b[0;34m\u001b[0m\u001b[0;34m\u001b[0m\u001b[0m\n\u001b[0m\u001b[1;32m   5275\u001b[0m \u001b[0;34m\u001b[0m\u001b[0m\n\u001b[1;32m   5276\u001b[0m     \u001b[0;32mdef\u001b[0m \u001b[0m__setattr__\u001b[0m\u001b[0;34m(\u001b[0m\u001b[0mself\u001b[0m\u001b[0;34m,\u001b[0m \u001b[0mname\u001b[0m\u001b[0;34m:\u001b[0m \u001b[0mstr\u001b[0m\u001b[0;34m,\u001b[0m \u001b[0mvalue\u001b[0m\u001b[0;34m)\u001b[0m \u001b[0;34m->\u001b[0m \u001b[0;32mNone\u001b[0m\u001b[0;34m:\u001b[0m\u001b[0;34m\u001b[0m\u001b[0;34m\u001b[0m\u001b[0m\n",
      "\u001b[0;31mAttributeError\u001b[0m: 'Series' object has no attribute 'merge'"
     ]
    }
   ],
   "source": [
    "polder = pd.read_feather('for_jonathan/polder_20yr.feather').set_index('Datetime')\n",
    "natural = pd.read_feather('for_jonathan/natural_20yr.feather').set_index('Datetime')\n",
    "both = pd.concat([natural.elev, polder.elev], axis=1)"
   ]
  },
  {
   "cell_type": "code",
   "execution_count": 180,
   "metadata": {},
   "outputs": [
    {
     "ename": "AttributeError",
     "evalue": "'AxesSubplot' object has no attribute 'save_fig'",
     "output_type": "error",
     "traceback": [
      "\u001b[0;31m---------------------------------------------------------------------------\u001b[0m",
      "\u001b[0;31mAttributeError\u001b[0m                            Traceback (most recent call last)",
      "\u001b[0;32m<ipython-input-180-2c53ab9e7fe6>\u001b[0m in \u001b[0;36m<module>\u001b[0;34m\u001b[0m\n\u001b[1;32m      7\u001b[0m \u001b[0mp\u001b[0m\u001b[0;34m.\u001b[0m\u001b[0mset_xlabel\u001b[0m\u001b[0;34m(\u001b[0m\u001b[0;34m'Year'\u001b[0m\u001b[0;34m)\u001b[0m\u001b[0;34m\u001b[0m\u001b[0;34m\u001b[0m\u001b[0m\n\u001b[1;32m      8\u001b[0m \u001b[0mp\u001b[0m\u001b[0;34m.\u001b[0m\u001b[0mset_ylabel\u001b[0m\u001b[0;34m(\u001b[0m\u001b[0;34m'Aggradation (m)'\u001b[0m\u001b[0;34m)\u001b[0m\u001b[0;34m\u001b[0m\u001b[0;34m\u001b[0m\u001b[0m\n\u001b[0;32m----> 9\u001b[0;31m \u001b[0mp\u001b[0m\u001b[0;34m.\u001b[0m\u001b[0msave_fig\u001b[0m\u001b[0;34m(\u001b[0m\u001b[0;34m'./for_jonathan/polder_v_natural_20yr.png'\u001b[0m\u001b[0;34m)\u001b[0m\u001b[0;34m\u001b[0m\u001b[0;34m\u001b[0m\u001b[0m\n\u001b[0m",
      "\u001b[0;31mAttributeError\u001b[0m: 'AxesSubplot' object has no attribute 'save_fig'"
     ]
    },
    {
     "data": {
      "image/png": "[encoded data removed]",
      "text/plain": [
       "<Figure size 576x360 with 1 Axes>"
      ]
     },
     "metadata": {
      "needs_background": "light"
     },
     "output_type": "display_data"
    }
   ],
   "source": [
    "start = 0\n",
    "end = -1\n",
    "frac = 0.001\n",
    "p = both[start:end][['elev']].sample(frac=frac).plot(figsize=(8,5))\n",
    "p.margins(x=0)\n",
    "p.legend(['natural', 'polder'])\n",
    "p.set_xlabel('Year')\n",
    "p.set_ylabel('Aggradation (m)')\n",
    "p.savefig('./for_jonathan/polder_v_natural_20yr.png')"
   ]
  },
  {
   "cell_type": "markdown",
   "metadata": {},
   "source": [
    "## OLD MODEL [DEPRICATED]"
   ]
  },
  {
   "cell_type": "code",
   "execution_count": 6,
   "metadata": {},
   "outputs": [],
   "source": [
    "# Main function for running the model.\n",
    "# def run_model(tides, ssc, params, n = None)\n",
    "# Instead of grain_dia, you use params.grain_dia, params.grain_rho, etc.\n",
    "def run_model(\n",
    "    tides, ssc, grain_dia, grain_rho, bulk_rho, dP=0, dO=0, dM=0, A=1, z0=0, n=None\n",
    "):\n",
    "    global num_runs\n",
    "\n",
    "    # Function that sets the background SSC value given a method.\n",
    "    def find_ssc(ssc, method, timestamp=None):\n",
    "        if method == \"constant\":\n",
    "            return ssc\n",
    "        elif method == \"weekly\":\n",
    "            week = timestamp.week\n",
    "            ssc = ssc.loc[week].values[0]\n",
    "            return ssc\n",
    "\n",
    "    # Return suspended sediment values from a csv of average weekly suspended sediment for P32. When tide is below the\n",
    "    # the platform (no sedimentation) or the tide is falling (net export), \"0\" is returned.\n",
    "\n",
    "    # Calculate the concentration within the water column for a given timestep\n",
    "    # old method\n",
    "    #     def calc_c(c0, h, h_min_1, dh, c_min_1, z, ws, dt):\n",
    "    #         if (h > z and dh > 0):\n",
    "    #             return (-c_min_1 * ws * dt + (c0-c_min_1) * (h - h_min_1)) / (h_min_1-z) + c_min_1\n",
    "    #         elif (h > z and dh < 0):\n",
    "    #             return (-c_min_1 * ws * dt) / (h_min_1-z) + c_min_1\n",
    "    #         else:\n",
    "    #             return 0\n",
    "\n",
    "    # Method from work with David\n",
    "    def calc_c(c0, h, h_min_1, dh, c_min_1, z, ws, dt):\n",
    "        if h > z and dh > 0:\n",
    "            return (-c_min_1 * ws * dt + (c0 - c_min_1) * (h - h_min_1)) / (\n",
    "                h_min_1 - z\n",
    "            ) + c_min_1\n",
    "        elif h > z and dh < 0:\n",
    "            return (-c_min_1 * ws * dt) / (h_min_1 - z) + c_min_1\n",
    "        else:\n",
    "            return 0\n",
    "\n",
    "    #     added by JG\n",
    "    #     global g_calc_c\n",
    "    #     g_calc_c = calc_c\n",
    "\n",
    "    # Calculate the change in elevation for a given timestep\n",
    "    def calc_dz(c, ws, rho, dt):\n",
    "        return ws * c * dt / rho\n",
    "\n",
    "    # Add the change of elevation back to the original elevation\n",
    "    def calc_z(z_min_1, dz_min_1, dO, dP, dM):\n",
    "        return z_min_1 + dz_min_1 + dO - dP - dM\n",
    "\n",
    "    # Set method to be used for ssc based on ssc input type\n",
    "    if isinstance(ssc, float):\n",
    "        ssc_method = \"constant\"\n",
    "    elif isinstance(ssc, pd.DataFrame):\n",
    "        ssc_method = \"weekly\"\n",
    "\n",
    "    # Set Datetime as the index. Feather does not export non-integer indices.\n",
    "    tides = tides.set_index(\"Datetime\")\n",
    "    index = tides.index\n",
    "    dt = index[1] - index[0]\n",
    "    dt_sec = dt.total_seconds()\n",
    "\n",
    "    # Convert constant rates from yearly to dt\n",
    "    dO = dO / 8760 / 60 / 60 * dt_sec\n",
    "    dP = dP / 8760 / 60 / 60 * dt_sec\n",
    "    dM = dM / 8760 / 60 / 60 * dt_sec\n",
    "\n",
    "    # Assume density and viscosity of water\n",
    "    fluid_rho = 1000\n",
    "    fluid_visc = 0.001\n",
    "    g = 9.8\n",
    "\n",
    "    # Calculate settling velocity using Stokes settling. Considered an upper bound for possible settling velocity.\n",
    "    ws = (2 / 9 * (grain_rho - fluid_rho) / fluid_visc) * g * (grain_dia / 2) ** 2\n",
    "\n",
    "    # Initialize numpy arrays for efficiency\n",
    "    z = np.zeros(len(tides.index))\n",
    "    z[0] = z0\n",
    "    h = tides.pressure.values\n",
    "    dh = np.insert(np.diff(h) / dt_sec, 0, np.nan)\n",
    "    inundated = np.zeros(len(tides.index))\n",
    "    inundation_depth = np.zeros(len(tides.index))\n",
    "    C0 = np.zeros(len(tides.index))\n",
    "    C = np.zeros(len(tides.index))\n",
    "    dz = np.zeros(len(tides.index))\n",
    "    SSC = np.zeros(len(tides.index))\n",
    "\n",
    "    #     def update_elevation(z, SSC, C0, C, dz, h, dh, dO, dP, dM, A, ssc, bulk_rho, dt_sec, ws, ssc_method, timestamp):\n",
    "    #         z[t] = calc_z(z[t-1], dz[t-1], dO, dP, dM)\n",
    "    #         SSC[t] = find_ssc(ssc, method=ssc_method, timestamp=index[t])\n",
    "    #         C0[t] = calc_c0(h[t], dh[t], ssc, z[t], A)\n",
    "    #         C[t] = calc_c(C0[t], h[t], h[t-1], dh[t], C[t-1], z[t], ws, dt_sec)\n",
    "    #         dz[t] = calc_dz(C[t], ws, bulk_rho, dt_sec)\n",
    "\n",
    "    # For loop to calculate backwards difference approximation.\n",
    "    # TQDM is a wrapper that shows a status bar while calculating.\n",
    "    counter = np.arange(1, len(index))\n",
    "    for t in tqdm(\n",
    "        counter,\n",
    "        desc=\"Run {0} of {1} [PID: {2}]\".format(n, num_runs, os.getpid()),\n",
    "        total=len(index[1:]),\n",
    "        unit=\"steps\",\n",
    "    ):\n",
    "        # update_elevation(z = z, SSC = SSC, C0 = C0, C = C,\n",
    "        #                  dz = dz, h =  h, dh = dh, dO = dO, dP = dP, dM = dM,\n",
    "        #                  A = A, ssc = ssc, bulk_rho = bulk_rho, dt_sec = dt_sec,\n",
    "        #                  ws = ws, ssc_method = ssc_method, timestamp = timestamp)\n",
    "        z[t] = calc_z(z[t - 1], dz[t - 1], dO, dP, dM)\n",
    "        SSC[t] = find_ssc(ssc, method=ssc_method, timestamp=index[t])\n",
    "        C0[t] = SSC[t] * A\n",
    "        C[t] = calc_c(C0[t], h[t], h[t - 1], dh[t], C[t - 1], z[t], ws, dt_sec)\n",
    "        dz[t] = calc_dz(C[t], ws, bulk_rho, dt_sec)\n",
    "        # Flag if inundated and by how much\n",
    "        if h[t] - z[t] >= 0:\n",
    "            inundated[t] = 1\n",
    "            inundation_depth[t] = h[t] - z[t]\n",
    "\n",
    "    # Create pandas dataframe from numpy arrays of finite difference results\n",
    "    d = {\n",
    "        \"h\": h,\n",
    "        \"dh\": dh,\n",
    "        \"C0\": C0,\n",
    "        \"C\": C,\n",
    "        \"dz\": dz,\n",
    "        \"z\": z,\n",
    "        \"inundated\": inundated,\n",
    "        \"inundation_depth\": inundation_depth,\n",
    "    }\n",
    "    df = pd.DataFrame(data=d, index=tides.index)\n",
    "\n",
    "    return df"
   ]
  },
  {
   "cell_type": "markdown",
   "metadata": {},
   "source": [
    "Create helper functions for parallel processing"
   ]
  },
  {
   "cell_type": "code",
   "execution_count": 7,
   "metadata": {},
   "outputs": [],
   "source": [
    "# Function to be called by parallel function (e.g. imap_unordered). This is necessary because imap only accepts\n",
    "# one function and one iterable. Using this parser allows the model to be run with multiple iterables package as\n",
    "# one tuple\n",
    "def parallel_parser(in_data):\n",
    "\n",
    "    n = in_data[\"n\"]  # number to explicitly set print line for TQDM. Not working.\n",
    "\n",
    "    # Load tides for a given run_length, dt, and slr from the tide library.\n",
    "    run_length = in_data[\"run_length\"]\n",
    "    dt = in_data[\"dt\"]\n",
    "    slr = in_data[\"slr\"]\n",
    "    tides = feather.read_dataframe(\n",
    "        \"./data/interim/tides/tides-yr_{0}-dt_{1}-slr_{2}.feather\".format(\n",
    "            run_length, int(pd.to_timedelta(dt).total_seconds() / 60 / 60), \"%.4f\" % slr\n",
    "        )\n",
    "    )\n",
    "    # Set Datetime as the index. Feather does not export non-integer indices.\n",
    "    tides = tides.set_index(\"Datetime\")\n",
    "\n",
    "    # Load weekly ssc data. Original data from OBS sensor deployed at Sutarkhali. Data is in 1-min increments. Developed\n",
    "    # a model to predict SSC by week of the year (incoming_ssc.R). Output of this script is the weekly SSC loaded here.\n",
    "    ssc_factor = in_data[\"ssc_factor\"]  # scaling factor used to adjust SSC\n",
    "    ssc_file = \"./data/processed/ssc_by_week.csv\"\n",
    "    ssc = pd.read_csv(ssc_file, index_col=0) * ssc_factor\n",
    "\n",
    "    # set parameters for model run\n",
    "    grain_dia = in_data[\"grain_dia\"]\n",
    "    grain_rho = in_data[\"grain_rho\"]\n",
    "    bulk_rho = in_data[\"bulk_rho\"]\n",
    "    dP = in_data[\"dP\"]\n",
    "    dO = in_data[\"dO\"]\n",
    "    dM = in_data[\"dM\"]\n",
    "    A = in_data[\"A\"]\n",
    "    z0 = in_data[\"z0\"]\n",
    "\n",
    "    # run model\n",
    "    # params = in_data[\"params\"]\n",
    "    # run_model(tides = tides, ssc = ssc, params = params, n = n)\n",
    "    run_model(tides, ssc, grain_dia, grain_rho, bulk_rho, dP, dO, dM, A, z0, n=n)\n",
    "\n",
    "    # Write results to a feather file\n",
    "    out_name = \"yr_{0}-slr_{1}-grain_dia_{2}-grain_rho_{3}-bulk_rho_{4}-sscfactor_{5}-dP_{6}-dM_{7}-A_{8}-z0_{9}.feather\".format(\n",
    "        run_length, slr, grain_dia, grain_rho, bulk_rho, ssc_factor, dP, dM, A, z0\n",
    "    )\n",
    "    feather.write_dataframe(\n",
    "        df.reset_index(), \"./data/interim/results/{0}\".format(out_name)\n",
    "    )\n",
    "\n",
    "    return"
   ]
  },
  {
   "cell_type": "code",
   "execution_count": 8,
   "metadata": {
    "scrolled": true
   },
   "outputs": [
    {
     "data": {
      "application/vnd.jupyter.widget-view+json": {
       "model_id": "d228502c67e74d71939582429fc0b7f8",
       "version_major": 2,
       "version_minor": 0
      },
      "text/plain": [
       "HBox(children=(FloatProgress(value=0.0, description='Run 1 of 1 [PID: 1575]', max=1052064.0, style=ProgressSty…"
      ]
     },
     "metadata": {},
     "output_type": "display_data"
    },
    {
     "name": "stdout",
     "output_type": "stream",
     "text": [
      "\n"
     ]
    }
   ],
   "source": [
    "# Parallel method\n",
    "if parallel == True:\n",
    "\n",
    "    # Make combos of parameters\n",
    "    model_runs = make_combos(\n",
    "        run_length,\n",
    "        dt,\n",
    "        slr,\n",
    "        ssc_factor,\n",
    "        grain_dia,\n",
    "        grain_rho,\n",
    "        bulk_rho,\n",
    "        dP,\n",
    "        dO,\n",
    "        dM,\n",
    "        A,\n",
    "        z0,\n",
    "    )\n",
    "\n",
    "    # Count number of models to be run\n",
    "    num_runs = len(model_runs)\n",
    "\n",
    "    # Initialize pool and run models\n",
    "    with mp.Pool(poolsize) as pool:\n",
    "        for result in pool.imap_unordered(\n",
    "            parallel_parser, model_runs, chunksize=chunksize\n",
    "        ):\n",
    "            pass\n",
    "\n",
    "# Single core method\n",
    "elif parallel == False:\n",
    "\n",
    "    # Load tides from tide library\n",
    "    tides = feather.read_dataframe(\n",
    "        \"./data/interim/tides/tides-yr_{0}-dt_{1}-slr_{2}.feather\".format(\n",
    "            run_length, int(pd.to_timedelta(dt).total_seconds() / 60), \"%.4f\" % slr\n",
    "        )\n",
    "    )\n",
    "\n",
    "    # Set number of models to be run\n",
    "    num_runs = 1\n",
    "\n",
    "    # run model\n",
    "    # df = run_model(tides = tides, ssc = ssc, params = params, n = 1)\n",
    "    df = run_model(tides, ssc, grain_dia, grain_rho, bulk_rho, dP, dO, dM, A, z0, n=1)\n",
    "\n",
    "    # write results to feather file\n",
    "    out_name = \"yr_{0}-slr_{1}-grain_dia_{2}-grain_rho_{3}-bulk_rho_{4}-sscfactor_{5}-dP_{6}-dM_{7}-A_{8}-z0_{9}.feather\".format(\n",
    "        run_length, slr, grain_dia, grain_rho, bulk_rho, ssc_factor, dP, dM, A, z0\n",
    "    )\n",
    "    feather.write_dataframe(\n",
    "        df.reset_index(), \"./data/interim/results/{0}\".format(out_name)\n",
    "    )"
   ]
  }
 ],
 "metadata": {
  "kernelspec": {
   "display_name": "Python 3",
   "language": "python",
   "name": "python3"
  },
  "language_info": {
   "codemirror_mode": {
    "name": "ipython",
    "version": 3
   },
   "file_extension": ".py",
   "mimetype": "text/x-python",
   "name": "python",
   "nbconvert_exporter": "python",
   "pygments_lexer": "ipython3",
   "version": "3.7.6"
  },
  "toc-autonumbering": true,
  "toc-showcode": true,
  "toc-showmarkdowntxt": true,
  "toc-showtags": false,
  "widgets": {
   "application/vnd.jupyter.widget-state+json": {
    "state": {
     "0053d99253b8457b921f38efc765108e": {
      "model_module": "@jupyter-widgets/base",
      "model_module_version": "1.2.0",
      "model_name": "LayoutModel",
      "state": {}
     },
     "01837e27164e4a67ae63840ddf57acea": {
      "model_module": "@jupyter-widgets/controls",
      "model_module_version": "1.5.0",
      "model_name": "FloatProgressModel",
      "state": {
       "bar_style": "success",
       "description": "100%",
       "layout": "IPY_MODEL_34c3a65975a1469786738b775e775901",
       "max": 31536000,
       "style": "IPY_MODEL_4bdc0fc8e9f54203815ab7e2644d594e",
       "value": 31536000
      }
     },
     "0366822ee97d4231bc7c07d9f32a6de6": {
      "model_module": "@jupyter-widgets/controls",
      "model_module_version": "1.5.0",
      "model_name": "ProgressStyleModel",
      "state": {
       "description_width": "initial"
      }
     },
     "05a867422c904f8a83fb86ebab2ce598": {
      "model_module": "@jupyter-widgets/controls",
      "model_module_version": "1.5.0",
      "model_name": "ProgressStyleModel",
      "state": {
       "description_width": "initial"
      }
     },
     "0dbe40d4a95d4f8aac3f561a2738d05e": {
      "model_module": "@jupyter-widgets/controls",
      "model_module_version": "1.5.0",
      "model_name": "ProgressStyleModel",
      "state": {
       "description_width": "initial"
      }
     },
     "0e1b0eb8d5034071b8747fbae338c6ad": {
      "model_module": "@jupyter-widgets/controls",
      "model_module_version": "1.5.0",
      "model_name": "HBoxModel",
      "state": {
       "children": [
        "IPY_MODEL_a3686350d86f40d4b2b479308977737d",
        "IPY_MODEL_59b052ce19824ed6acc96fdaef26dc06"
       ],
       "layout": "IPY_MODEL_58d415b8a83b445d80bd081b4d7d2db3"
      }
     },
     "152a88a2f6d64a2d9b787f2c193e8053": {
      "model_module": "@jupyter-widgets/controls",
      "model_module_version": "1.5.0",
      "model_name": "ProgressStyleModel",
      "state": {
       "description_width": "initial"
      }
     },
     "173778102a4d44a4adb8f52bde93bdbe": {
      "model_module": "@jupyter-widgets/controls",
      "model_module_version": "1.5.0",
      "model_name": "DescriptionStyleModel",
      "state": {
       "description_width": ""
      }
     },
     "187ac5ecea7b4e308f81420ccd9dba31": {
      "model_module": "@jupyter-widgets/base",
      "model_module_version": "1.2.0",
      "model_name": "LayoutModel",
      "state": {}
     },
     "193f741faa3a490992d1c5b4f5beb2d1": {
      "model_module": "@jupyter-widgets/controls",
      "model_module_version": "1.5.0",
      "model_name": "HTMLModel",
      "state": {
       "layout": "IPY_MODEL_b5bbda97a1944f3ba204aeede18a5656",
       "style": "IPY_MODEL_dd806a3cd09f46109bf842af6f450d3e",
       "value": " 8760/8760 [00:04&lt;00:00, 1803.25steps/s]"
      }
     },
     "1fa0a01195e74a10891c645a2090c3ed": {
      "model_module": "@jupyter-widgets/controls",
      "model_module_version": "1.5.0",
      "model_name": "HBoxModel",
      "state": {
       "children": [
        "IPY_MODEL_6429c558b06d4c549169f4c3f9a6663a",
        "IPY_MODEL_193f741faa3a490992d1c5b4f5beb2d1"
       ],
       "layout": "IPY_MODEL_b771e0d8c89f4f008aa7dfd11a12dbab"
      }
     },
     "25a1370703e944d698dff537a84d576b": {
      "model_module": "@jupyter-widgets/controls",
      "model_module_version": "1.5.0",
      "model_name": "FloatProgressModel",
      "state": {
       "bar_style": "success",
       "description": "100%",
       "layout": "IPY_MODEL_92194575398a47f5a2ac99817e0157c9",
       "max": 31536000,
       "style": "IPY_MODEL_152a88a2f6d64a2d9b787f2c193e8053",
       "value": 31536000
      }
     },
     "280f4c42e2ac400abf8333d68d8a907f": {
      "model_module": "@jupyter-widgets/controls",
      "model_module_version": "1.5.0",
      "model_name": "ProgressStyleModel",
      "state": {
       "description_width": "initial"
      }
     },
     "2ee8f3c1137842b185fc12593b4fe316": {
      "model_module": "@jupyter-widgets/controls",
      "model_module_version": "1.5.0",
      "model_name": "FloatProgressModel",
      "state": {
       "bar_style": "success",
       "description": "100%",
       "layout": "IPY_MODEL_5279b8f9323f439093466c10eccff61c",
       "max": 126230400,
       "style": "IPY_MODEL_a5cbd7ba43714d7a9a8881af08c9ac94",
       "value": 126230400
      }
     },
     "32b365550358474ba3c05665cba3bf08": {
      "model_module": "@jupyter-widgets/controls",
      "model_module_version": "1.5.0",
      "model_name": "HTMLModel",
      "state": {
       "layout": "IPY_MODEL_187ac5ecea7b4e308f81420ccd9dba31",
       "style": "IPY_MODEL_173778102a4d44a4adb8f52bde93bdbe",
       "value": " 31536000/31536000 [08:52&lt;00:00, 59180.10steps/s]"
      }
     },
     "34c3a65975a1469786738b775e775901": {
      "model_module": "@jupyter-widgets/base",
      "model_module_version": "1.2.0",
      "model_name": "LayoutModel",
      "state": {}
     },
     "35fd789d08c447fabfe877995bfbb230": {
      "model_module": "@jupyter-widgets/base",
      "model_module_version": "1.2.0",
      "model_name": "LayoutModel",
      "state": {}
     },
     "3689856f71b54fa291f593d27d9bd2ae": {
      "model_module": "@jupyter-widgets/controls",
      "model_module_version": "1.5.0",
      "model_name": "ProgressStyleModel",
      "state": {
       "description_width": "initial"
      }
     },
     "3a87e2a9daaa476780d86e2354416f90": {
      "model_module": "@jupyter-widgets/base",
      "model_module_version": "1.2.0",
      "model_name": "LayoutModel",
      "state": {}
     },
     "3e14598e9c2c4ec2ba7db525dd538f2e": {
      "model_module": "@jupyter-widgets/base",
      "model_module_version": "1.2.0",
      "model_name": "LayoutModel",
      "state": {}
     },
     "3e3848fce7734af58ca6be89c8266773": {
      "model_module": "@jupyter-widgets/controls",
      "model_module_version": "1.5.0",
      "model_name": "DescriptionStyleModel",
      "state": {
       "description_width": ""
      }
     },
     "414fbd2ee95941f4948614d2205e624f": {
      "model_module": "@jupyter-widgets/controls",
      "model_module_version": "1.5.0",
      "model_name": "HBoxModel",
      "state": {
       "children": [
        "IPY_MODEL_db031fc028664bc697223d7f0b15149c",
        "IPY_MODEL_4fe00d64f423448791860c48ab83b2f5"
       ],
       "layout": "IPY_MODEL_d8876707e88e4771bfe4c3df47d7cd72"
      }
     },
     "41efd2bf9f0b4cbe9dc830b7cd2f53e1": {
      "model_module": "@jupyter-widgets/base",
      "model_module_version": "1.2.0",
      "model_name": "LayoutModel",
      "state": {}
     },
     "4ab9b328691e4c1781a536d15af905c5": {
      "model_module": "@jupyter-widgets/controls",
      "model_module_version": "1.5.0",
      "model_name": "HBoxModel",
      "state": {
       "children": [
        "IPY_MODEL_2ee8f3c1137842b185fc12593b4fe316",
        "IPY_MODEL_ef7b726df34e45f2908dea132a0c07a4"
       ],
       "layout": "IPY_MODEL_3a87e2a9daaa476780d86e2354416f90"
      }
     },
     "4bdc0fc8e9f54203815ab7e2644d594e": {
      "model_module": "@jupyter-widgets/controls",
      "model_module_version": "1.5.0",
      "model_name": "ProgressStyleModel",
      "state": {
       "description_width": "initial"
      }
     },
     "4fe00d64f423448791860c48ab83b2f5": {
      "model_module": "@jupyter-widgets/controls",
      "model_module_version": "1.5.0",
      "model_name": "HTMLModel",
      "state": {
       "layout": "IPY_MODEL_c5f43f32c4604632ba6bc2f92b918ae7",
       "style": "IPY_MODEL_f9a60952b66c403190dfbeb219a2eecc",
       "value": " 126230400/126230400 [34:48&lt;00:00, 60444.80steps/s]"
      }
     },
     "5279b8f9323f439093466c10eccff61c": {
      "model_module": "@jupyter-widgets/base",
      "model_module_version": "1.2.0",
      "model_name": "LayoutModel",
      "state": {}
     },
     "531fd59e9c5342698228f905fae518a8": {
      "model_module": "@jupyter-widgets/controls",
      "model_module_version": "1.5.0",
      "model_name": "FloatProgressModel",
      "state": {
       "bar_style": "success",
       "description": "100%",
       "layout": "IPY_MODEL_922dee75623b43a4a82904fae6416ecd",
       "max": 31536000,
       "style": "IPY_MODEL_0366822ee97d4231bc7c07d9f32a6de6",
       "value": 31536000
      }
     },
     "58d415b8a83b445d80bd081b4d7d2db3": {
      "model_module": "@jupyter-widgets/base",
      "model_module_version": "1.2.0",
      "model_name": "LayoutModel",
      "state": {}
     },
     "59b052ce19824ed6acc96fdaef26dc06": {
      "model_module": "@jupyter-widgets/controls",
      "model_module_version": "1.5.0",
      "model_name": "HTMLModel",
      "state": {
       "layout": "IPY_MODEL_c8f8e545bf5249d58d16bbbce38eda96",
       "style": "IPY_MODEL_ea73240f0b5c4522a07db0299c061e70",
       "value": " 31536000/31536000 [08:31&lt;00:00, 61653.49steps/s]"
      }
     },
     "63482ef034a4454b8e640c9f53d2ed26": {
      "model_module": "@jupyter-widgets/controls",
      "model_module_version": "1.5.0",
      "model_name": "DescriptionStyleModel",
      "state": {
       "description_width": ""
      }
     },
     "6429c558b06d4c549169f4c3f9a6663a": {
      "model_module": "@jupyter-widgets/controls",
      "model_module_version": "1.5.0",
      "model_name": "FloatProgressModel",
      "state": {
       "bar_style": "success",
       "description": "100%",
       "layout": "IPY_MODEL_e59becd65ce24f2293af49b3c90161f1",
       "max": 8760,
       "style": "IPY_MODEL_0dbe40d4a95d4f8aac3f561a2738d05e",
       "value": 8760
      }
     },
     "6520ac088ca4416597c8c3f1763d16b5": {
      "model_module": "@jupyter-widgets/base",
      "model_module_version": "1.2.0",
      "model_name": "LayoutModel",
      "state": {}
     },
     "66382ef00b7d43c498166f179ace879c": {
      "model_module": "@jupyter-widgets/controls",
      "model_module_version": "1.5.0",
      "model_name": "HTMLModel",
      "state": {
       "layout": "IPY_MODEL_0053d99253b8457b921f38efc765108e",
       "style": "IPY_MODEL_ac7c8c569a8349feaa05ee2d50031308",
       "value": " 31536000/31536000 [32:45&lt;00:00, 16046.49steps/s]"
      }
     },
     "667f643319bd4a9a8bc5cde9296d08d0": {
      "model_module": "@jupyter-widgets/controls",
      "model_module_version": "1.5.0",
      "model_name": "HBoxModel",
      "state": {
       "children": [
        "IPY_MODEL_531fd59e9c5342698228f905fae518a8",
        "IPY_MODEL_a2e5f29b83bc4abd947e45af6e5648c8"
       ],
       "layout": "IPY_MODEL_d6a2c05faadc43ae813a77e10ef0ed06"
      }
     },
     "6a9be163879846f59d3ae8eab6dd6064": {
      "model_module": "@jupyter-widgets/controls",
      "model_module_version": "1.5.0",
      "model_name": "HBoxModel",
      "state": {
       "children": [
        "IPY_MODEL_ebca8617c8c7476cb5b2002d9d5ce7a9",
        "IPY_MODEL_f0eb6bcd0610480dbdad9bc773bc6895"
       ],
       "layout": "IPY_MODEL_e19add5e94c4444198179b2d54dcba16"
      }
     },
     "6c01a927b37c4cc891dee270e1d22597": {
      "model_module": "@jupyter-widgets/base",
      "model_module_version": "1.2.0",
      "model_name": "LayoutModel",
      "state": {}
     },
     "6c3c70f9795f4832a1dfb07dd00d0a72": {
      "model_module": "@jupyter-widgets/base",
      "model_module_version": "1.2.0",
      "model_name": "LayoutModel",
      "state": {}
     },
     "6e0f61cce02b4377af641267f3f4bc20": {
      "model_module": "@jupyter-widgets/controls",
      "model_module_version": "1.5.0",
      "model_name": "DescriptionStyleModel",
      "state": {
       "description_width": ""
      }
     },
     "8081c26fbef0421cbfaa4952d137417e": {
      "model_module": "@jupyter-widgets/controls",
      "model_module_version": "1.5.0",
      "model_name": "HBoxModel",
      "state": {
       "children": [
        "IPY_MODEL_25a1370703e944d698dff537a84d576b",
        "IPY_MODEL_d1fa17794feb4dec89cc5bdf9a2cc3c7"
       ],
       "layout": "IPY_MODEL_e0ee3bb85d144bd9a5528e963c8057e1"
      }
     },
     "8bc8ec5a209d43c9836fdd8c5671b0e5": {
      "model_module": "@jupyter-widgets/controls",
      "model_module_version": "1.5.0",
      "model_name": "DescriptionStyleModel",
      "state": {
       "description_width": ""
      }
     },
     "92194575398a47f5a2ac99817e0157c9": {
      "model_module": "@jupyter-widgets/base",
      "model_module_version": "1.2.0",
      "model_name": "LayoutModel",
      "state": {}
     },
     "922dee75623b43a4a82904fae6416ecd": {
      "model_module": "@jupyter-widgets/base",
      "model_module_version": "1.2.0",
      "model_name": "LayoutModel",
      "state": {}
     },
     "a2e5f29b83bc4abd947e45af6e5648c8": {
      "model_module": "@jupyter-widgets/controls",
      "model_module_version": "1.5.0",
      "model_name": "HTMLModel",
      "state": {
       "layout": "IPY_MODEL_c5cfa124965d4e348b630a64d786fd41",
       "style": "IPY_MODEL_63482ef034a4454b8e640c9f53d2ed26",
       "value": " 31536000/31536000 [10:52&lt;00:00, 48339.32steps/s]"
      }
     },
     "a3686350d86f40d4b2b479308977737d": {
      "model_module": "@jupyter-widgets/controls",
      "model_module_version": "1.5.0",
      "model_name": "FloatProgressModel",
      "state": {
       "bar_style": "success",
       "description": "100%",
       "layout": "IPY_MODEL_e283e07135754b258c8b20d02ca2ad80",
       "max": 31536000,
       "style": "IPY_MODEL_05a867422c904f8a83fb86ebab2ce598",
       "value": 31536000
      }
     },
     "a54ab7190e1c47d0972782f3435f0ea8": {
      "model_module": "@jupyter-widgets/controls",
      "model_module_version": "1.5.0",
      "model_name": "ProgressStyleModel",
      "state": {
       "description_width": "initial"
      }
     },
     "a5cbd7ba43714d7a9a8881af08c9ac94": {
      "model_module": "@jupyter-widgets/controls",
      "model_module_version": "1.5.0",
      "model_name": "ProgressStyleModel",
      "state": {
       "description_width": "initial"
      }
     },
     "ac7c8c569a8349feaa05ee2d50031308": {
      "model_module": "@jupyter-widgets/controls",
      "model_module_version": "1.5.0",
      "model_name": "DescriptionStyleModel",
      "state": {
       "description_width": ""
      }
     },
     "b197d708784b421c8336ec5c731564ab": {
      "model_module": "@jupyter-widgets/base",
      "model_module_version": "1.2.0",
      "model_name": "LayoutModel",
      "state": {}
     },
     "b500940a732447adb363004e706f6998": {
      "model_module": "@jupyter-widgets/base",
      "model_module_version": "1.2.0",
      "model_name": "LayoutModel",
      "state": {}
     },
     "b5bbda97a1944f3ba204aeede18a5656": {
      "model_module": "@jupyter-widgets/base",
      "model_module_version": "1.2.0",
      "model_name": "LayoutModel",
      "state": {}
     },
     "b771e0d8c89f4f008aa7dfd11a12dbab": {
      "model_module": "@jupyter-widgets/base",
      "model_module_version": "1.2.0",
      "model_name": "LayoutModel",
      "state": {}
     },
     "b8b7468fc9bd4d65be423b021833a8d9": {
      "model_module": "@jupyter-widgets/controls",
      "model_module_version": "1.5.0",
      "model_name": "HBoxModel",
      "state": {
       "children": [
        "IPY_MODEL_dd52013424a34164a24594bf26dd07c8",
        "IPY_MODEL_32b365550358474ba3c05665cba3bf08"
       ],
       "layout": "IPY_MODEL_6c3c70f9795f4832a1dfb07dd00d0a72"
      }
     },
     "c5cfa124965d4e348b630a64d786fd41": {
      "model_module": "@jupyter-widgets/base",
      "model_module_version": "1.2.0",
      "model_name": "LayoutModel",
      "state": {}
     },
     "c5f43f32c4604632ba6bc2f92b918ae7": {
      "model_module": "@jupyter-widgets/base",
      "model_module_version": "1.2.0",
      "model_name": "LayoutModel",
      "state": {}
     },
     "c8f8e545bf5249d58d16bbbce38eda96": {
      "model_module": "@jupyter-widgets/base",
      "model_module_version": "1.2.0",
      "model_name": "LayoutModel",
      "state": {}
     },
     "d1fa17794feb4dec89cc5bdf9a2cc3c7": {
      "model_module": "@jupyter-widgets/controls",
      "model_module_version": "1.5.0",
      "model_name": "HTMLModel",
      "state": {
       "layout": "IPY_MODEL_b197d708784b421c8336ec5c731564ab",
       "style": "IPY_MODEL_6e0f61cce02b4377af641267f3f4bc20",
       "value": " 31536000/31536000 [13:30&lt;00:00, 38916.04steps/s]"
      }
     },
     "d6a2c05faadc43ae813a77e10ef0ed06": {
      "model_module": "@jupyter-widgets/base",
      "model_module_version": "1.2.0",
      "model_name": "LayoutModel",
      "state": {}
     },
     "d8876707e88e4771bfe4c3df47d7cd72": {
      "model_module": "@jupyter-widgets/base",
      "model_module_version": "1.2.0",
      "model_name": "LayoutModel",
      "state": {}
     },
     "db031fc028664bc697223d7f0b15149c": {
      "model_module": "@jupyter-widgets/controls",
      "model_module_version": "1.5.0",
      "model_name": "FloatProgressModel",
      "state": {
       "bar_style": "success",
       "description": "100%",
       "layout": "IPY_MODEL_35fd789d08c447fabfe877995bfbb230",
       "max": 126230400,
       "style": "IPY_MODEL_280f4c42e2ac400abf8333d68d8a907f",
       "value": 126230400
      }
     },
     "dd52013424a34164a24594bf26dd07c8": {
      "model_module": "@jupyter-widgets/controls",
      "model_module_version": "1.5.0",
      "model_name": "FloatProgressModel",
      "state": {
       "bar_style": "success",
       "description": "100%",
       "layout": "IPY_MODEL_b500940a732447adb363004e706f6998",
       "max": 31536000,
       "style": "IPY_MODEL_a54ab7190e1c47d0972782f3435f0ea8",
       "value": 31536000
      }
     },
     "dd806a3cd09f46109bf842af6f450d3e": {
      "model_module": "@jupyter-widgets/controls",
      "model_module_version": "1.5.0",
      "model_name": "DescriptionStyleModel",
      "state": {
       "description_width": ""
      }
     },
     "e0ee3bb85d144bd9a5528e963c8057e1": {
      "model_module": "@jupyter-widgets/base",
      "model_module_version": "1.2.0",
      "model_name": "LayoutModel",
      "state": {}
     },
     "e19add5e94c4444198179b2d54dcba16": {
      "model_module": "@jupyter-widgets/base",
      "model_module_version": "1.2.0",
      "model_name": "LayoutModel",
      "state": {}
     },
     "e283e07135754b258c8b20d02ca2ad80": {
      "model_module": "@jupyter-widgets/base",
      "model_module_version": "1.2.0",
      "model_name": "LayoutModel",
      "state": {}
     },
     "e59becd65ce24f2293af49b3c90161f1": {
      "model_module": "@jupyter-widgets/base",
      "model_module_version": "1.2.0",
      "model_name": "LayoutModel",
      "state": {}
     },
     "ea73240f0b5c4522a07db0299c061e70": {
      "model_module": "@jupyter-widgets/controls",
      "model_module_version": "1.5.0",
      "model_name": "DescriptionStyleModel",
      "state": {
       "description_width": ""
      }
     },
     "ebca8617c8c7476cb5b2002d9d5ce7a9": {
      "model_module": "@jupyter-widgets/controls",
      "model_module_version": "1.5.0",
      "model_name": "FloatProgressModel",
      "state": {
       "bar_style": "success",
       "description": "100%",
       "layout": "IPY_MODEL_6c01a927b37c4cc891dee270e1d22597",
       "max": 31536000,
       "style": "IPY_MODEL_3689856f71b54fa291f593d27d9bd2ae",
       "value": 31536000
      }
     },
     "ee0fa99eade44527bedc6fe4f191c699": {
      "model_module": "@jupyter-widgets/controls",
      "model_module_version": "1.5.0",
      "model_name": "HBoxModel",
      "state": {
       "children": [
        "IPY_MODEL_01837e27164e4a67ae63840ddf57acea",
        "IPY_MODEL_66382ef00b7d43c498166f179ace879c"
       ],
       "layout": "IPY_MODEL_41efd2bf9f0b4cbe9dc830b7cd2f53e1"
      }
     },
     "ef7b726df34e45f2908dea132a0c07a4": {
      "model_module": "@jupyter-widgets/controls",
      "model_module_version": "1.5.0",
      "model_name": "HTMLModel",
      "state": {
       "layout": "IPY_MODEL_3e14598e9c2c4ec2ba7db525dd538f2e",
       "style": "IPY_MODEL_8bc8ec5a209d43c9836fdd8c5671b0e5",
       "value": " 126230400/126230400 [34:54&lt;00:00, 60265.65steps/s]"
      }
     },
     "f0eb6bcd0610480dbdad9bc773bc6895": {
      "model_module": "@jupyter-widgets/controls",
      "model_module_version": "1.5.0",
      "model_name": "HTMLModel",
      "state": {
       "layout": "IPY_MODEL_6520ac088ca4416597c8c3f1763d16b5",
       "style": "IPY_MODEL_3e3848fce7734af58ca6be89c8266773",
       "value": " 31536000/31536000 [08:17&lt;00:00, 63346.50steps/s]"
      }
     },
     "f9a60952b66c403190dfbeb219a2eecc": {
      "model_module": "@jupyter-widgets/controls",
      "model_module_version": "1.5.0",
      "model_name": "DescriptionStyleModel",
      "state": {
       "description_width": ""
      }
     }
    },
    "version_major": 2,
    "version_minor": 0
   }
  }
 },
 "nbformat": 4,
 "nbformat_minor": 4
}
