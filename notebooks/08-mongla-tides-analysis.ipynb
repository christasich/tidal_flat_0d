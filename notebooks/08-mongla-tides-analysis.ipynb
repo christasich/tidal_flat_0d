{
 "cells": [
  {
   "cell_type": "code",
   "execution_count": 1,
   "id": "d797caa9-8ecf-4c3f-91cb-16bf66536c8b",
   "metadata": {
    "execution": {
     "iopub.execute_input": "2021-09-28T15:46:58.595134Z",
     "iopub.status.busy": "2021-09-28T15:46:58.594813Z",
     "iopub.status.idle": "2021-09-28T15:46:59.871223Z",
     "shell.execute_reply": "2021-09-28T15:46:59.870137Z",
     "shell.execute_reply.started": "2021-09-28T15:46:58.595055Z"
    },
    "tags": []
   },
   "outputs": [],
   "source": [
    "%load_ext autoreload\n",
    "%autoreload 2\n",
    "%matplotlib widget\n",
    "%config Completer.use_jedi = False\n",
    "import os\n",
    "import time\n",
    "\n",
    "import numpy as np\n",
    "import pandas as pd\n",
    "import seaborn as sns\n",
    "\n",
    "sns.set()\n",
    "import statsmodels.api as sm\n",
    "from joblib import Parallel, delayed\n",
    "from matplotlib import pyplot as plt\n",
    "from matplotlib.widgets import MultiCursor, Cursor\n",
    "import matplotlib.dates as mdates\n",
    "from matplotlib.dates import DateFormatter\n",
    "from scipy.interpolate import InterpolatedUnivariateSpline, interp1d\n",
    "from scipy.signal import argrelmax, argrelmin, find_peaks\n",
    "from sklearn.linear_model import LinearRegression\n",
    "from sidecar import Sidecar\n",
    "\n",
    "os.chdir(\"..\")\n",
    "from src import definitions as defs\n",
    "from src import features, models"
   ]
  },
  {
   "cell_type": "code",
   "execution_count": 2,
   "id": "fd8c697e-1270-45c0-a888-6ddac6a35029",
   "metadata": {
    "execution": {
     "iopub.execute_input": "2021-09-28T15:46:59.873147Z",
     "iopub.status.busy": "2021-09-28T15:46:59.872875Z",
     "iopub.status.idle": "2021-09-28T15:46:59.898884Z",
     "shell.execute_reply": "2021-09-28T15:46:59.898134Z",
     "shell.execute_reply.started": "2021-09-28T15:46:59.873103Z"
    },
    "tags": []
   },
   "outputs": [],
   "source": [
    "wdir = defs.ROOT / \"data\""
   ]
  },
  {
   "cell_type": "code",
   "execution_count": 3,
   "id": "b743166c-aeea-4f61-842a-6b12e4190ea1",
   "metadata": {
    "execution": {
     "iopub.execute_input": "2021-09-28T15:47:00.734817Z",
     "iopub.status.busy": "2021-09-28T15:47:00.734307Z",
     "iopub.status.idle": "2021-09-28T15:47:02.848227Z",
     "shell.execute_reply": "2021-09-28T15:47:02.846885Z",
     "shell.execute_reply.started": "2021-09-28T15:47:00.734755Z"
    },
    "tags": []
   },
   "outputs": [],
   "source": [
    "freqstr = \"30 min\"\n",
    "n_per_hour = pd.Timedelta(\"1 hour\") / pd.Timedelta(freqstr)\n",
    "data = pd.read_csv(wdir / \"raw\" / \"mongla_tides.csv\", index_col=\"datetime\", parse_dates=True, infer_datetime_format=True)\n",
    "data = data.reindex(pd.date_range(start=data.index[0], end=data.index[-1], freq=freqstr, name=\"datetime\"))\n",
    "data.elevation = data.elevation.interpolate(method=\"time\", limit=1, limit_direction=\"both\")\n",
    "data[\"elapsed\"] = data.index - data.index[0]\n",
    "data = data[[\"elapsed\", \"elevation\"]]"
   ]
  },
  {
   "cell_type": "code",
   "execution_count": 4,
   "id": "afd16b80-2db5-437c-888b-7f8b08ab4fe5",
   "metadata": {
    "execution": {
     "iopub.execute_input": "2021-09-28T15:47:02.850355Z",
     "iopub.status.busy": "2021-09-28T15:47:02.849833Z",
     "iopub.status.idle": "2021-09-28T15:47:02.940974Z",
     "shell.execute_reply": "2021-09-28T15:47:02.940283Z",
     "shell.execute_reply.started": "2021-09-28T15:47:02.850332Z"
    },
    "tags": []
   },
   "outputs": [],
   "source": [
    "data[[\"high\", \"low\"]] = False\n",
    "distance = n_per_hour * 8\n",
    "hi = find_peaks(x=data.elevation.values, distance=distance)[0]\n",
    "lo = find_peaks(x=data.elevation.values * -1, distance=distance)[0]\n",
    "data.loc[data.iloc[hi].index, \"high\"] = True\n",
    "data.loc[data.iloc[lo].index, \"low\"] = True"
   ]
  },
  {
   "cell_type": "code",
   "execution_count": 5,
   "id": "31dc9fc8-68f8-42ae-bea3-97cf65df1044",
   "metadata": {
    "execution": {
     "iopub.execute_input": "2021-09-28T15:47:02.941982Z",
     "iopub.status.busy": "2021-09-28T15:47:02.941822Z",
     "iopub.status.idle": "2021-09-28T15:47:03.309100Z",
     "shell.execute_reply": "2021-09-28T15:47:03.307953Z",
     "shell.execute_reply.started": "2021-09-28T15:47:02.941960Z"
    },
    "tags": []
   },
   "outputs": [],
   "source": [
    "window = pd.Timedelta(\"27h\")\n",
    "data[\"high_roll\"] = data.elevation[data.high == True].rolling(window=window, center=True).mean().reindex(index=data.index).interpolate(method=\"time\", limit_direction=\"both\")\n",
    "data[\"low_roll\"] = data.elevation[data.low == True].rolling(window=window, center=True).mean().reindex(index=data.index).interpolate(method=\"time\", limit_direction=\"both\")\n",
    "data[\"amp_roll\"] = data.high_roll - data.low_roll"
   ]
  },
  {
   "cell_type": "code",
   "execution_count": 6,
   "id": "1d453247-24f3-44b9-a497-83b2ecd008ed",
   "metadata": {
    "execution": {
     "iopub.execute_input": "2021-09-28T15:47:04.204322Z",
     "iopub.status.busy": "2021-09-28T15:47:04.203838Z",
     "iopub.status.idle": "2021-09-28T15:47:04.667008Z",
     "shell.execute_reply": "2021-09-28T15:47:04.666403Z",
     "shell.execute_reply.started": "2021-09-28T15:47:04.204263Z"
    },
    "tags": []
   },
   "outputs": [
    {
     "data": {
      "application/vnd.jupyter.widget-view+json": {
       "model_id": "2e6fb8ba95a04c31880b5d3192cb6c79",
       "version_major": 2,
       "version_minor": 0
      },
      "text/plain": [
       "Canvas(toolbar=Toolbar(toolitems=[('Home', 'Reset original view', 'home', 'home'), ('Back', 'Back to previous …"
      ]
     },
     "metadata": {},
     "output_type": "display_data"
    }
   ],
   "source": [
    "window = window\n",
    "start = pd.to_datetime(\"1977-07-26\")\n",
    "end = start + pd.Timedelta(\"30D\")\n",
    "\n",
    "pdata = data.loc[start:end].reset_index()\n",
    "\n",
    "fig = plt.figure(figsize=(10, 5))\n",
    "ax = fig.subplots()\n",
    "\n",
    "sns.lineplot(data=pdata, x=\"datetime\", y=\"elevation\", color=\"cornflowerblue\", alpha=0.3, ax=ax)\n",
    "sns.lineplot(data=pdata, x=\"datetime\", y=\"high_roll\", color=\"green\", alpha=0.3, ax=ax)\n",
    "sns.lineplot(data=pdata, x=\"datetime\", y=\"low_roll\", color=\"red\", alpha=0.3, ax=ax)\n",
    "sns.lineplot(data=pdata, x=\"datetime\", y=\"amp_roll\", color=\"black\", alpha=0.3, ax=ax)\n",
    "\n",
    "sns.scatterplot(data=pdata.loc[pdata.high == True], x=\"datetime\", y=\"elevation\", color=\"green\", s=15, ax=ax, zorder=15)\n",
    "sns.scatterplot(data=pdata.loc[pdata.low == True], x=\"datetime\", y=\"elevation\", color=\"red\", s=15, ax=ax, zorder=15)\n",
    "\n",
    "title = \"Mongla Tidal Data from {} to {}\".format(start.strftime(\"%b %Y\"), end.strftime(\"%b %Y\"))\n",
    "xlabel = \"\"\n",
    "ylabel = \"Elevation (m)\"\n",
    "rotation = 0\n",
    "\n",
    "locator = locator = mdates.AutoDateLocator(minticks=3, maxticks=7)\n",
    "formatter = mdates.ConciseDateFormatter(locator)\n",
    "\n",
    "cursor = Cursor(ax=ax, useblit=True, linestyle=\"dashed\")\n",
    "\n",
    "ax.xaxis.set(major_locator=locator, major_formatter=formatter)\n",
    "ax.tick_params(axis='x', labelrotation=rotation)\n",
    "ax.set(xlabel=xlabel, ylabel=ylabel)\n",
    "ax.set_title(label=title, pad=20)\n",
    "ax.set_xlim(start, end)\n",
    "fig.tight_layout()"
   ]
  },
  {
   "cell_type": "code",
   "execution_count": 7,
   "id": "e23f77a6-8335-4f69-b7f6-c758da02c037",
   "metadata": {
    "execution": {
     "iopub.execute_input": "2021-09-28T15:47:30.392272Z",
     "iopub.status.busy": "2021-09-28T15:47:30.392068Z",
     "iopub.status.idle": "2021-09-28T15:49:02.185772Z",
     "shell.execute_reply": "2021-09-28T15:49:02.184631Z",
     "shell.execute_reply.started": "2021-09-28T15:47:30.392239Z"
    },
    "tags": []
   },
   "outputs": [],
   "source": [
    "exog = (data.index - data.index[0]).total_seconds().astype(int)\n",
    "frac = window * 3 / pd.Timedelta(freqstr) / len(data)\n",
    "delta = window * 500 / pd.Timedelta(freqstr)\n",
    "endogs = (data.high_roll.values, data.low_roll.values)\n",
    "high_smooth, low_smooth = Parallel(n_jobs=2)(delayed(sm.nonparametric.lowess)(endog=endog, exog=exog, frac=frac, delta=delta, is_sorted=True) for endog in endogs)"
   ]
  },
  {
   "cell_type": "code",
   "execution_count": 8,
   "id": "a820ac34-f1e4-4adf-a601-89f57cb11a86",
   "metadata": {
    "execution": {
     "iopub.execute_input": "2021-09-28T15:49:02.338603Z",
     "iopub.status.busy": "2021-09-28T15:49:02.338424Z",
     "iopub.status.idle": "2021-09-28T15:49:05.509696Z",
     "shell.execute_reply": "2021-09-28T15:49:05.508643Z",
     "shell.execute_reply.started": "2021-09-28T15:49:02.338564Z"
    },
    "tags": []
   },
   "outputs": [],
   "source": [
    "data.loc[pd.TimedeltaIndex(list(zip(*high_smooth))[0], unit=\"s\") + data.index[0], \"high_smooth\"] = list(zip(*high_smooth))[1]\n",
    "data.loc[pd.TimedeltaIndex(list(zip(*low_smooth))[0], unit=\"s\") + data.index[0], \"low_smooth\"] = list(zip(*low_smooth))[1]\n",
    "data[\"amp_smooth\"] = data.high_smooth - data.low_smooth"
   ]
  },
  {
   "cell_type": "code",
   "execution_count": 9,
   "id": "5de35389-37d3-4e3e-b043-07aad37a6ec8",
   "metadata": {
    "execution": {
     "iopub.execute_input": "2021-09-28T15:49:05.510836Z",
     "iopub.status.busy": "2021-09-28T15:49:05.510667Z",
     "iopub.status.idle": "2021-09-28T15:49:05.568788Z",
     "shell.execute_reply": "2021-09-28T15:49:05.567865Z",
     "shell.execute_reply.started": "2021-09-28T15:49:05.510815Z"
    },
    "tags": []
   },
   "outputs": [],
   "source": [
    "data[[\"spring\", \"neap\"]] = False\n",
    "distance = n_per_hour * 24 * 11 # search distance in hours\n",
    "hi = find_peaks(x=data.amp_smooth.values, distance=distance)[0]\n",
    "lo = find_peaks(x=data.amp_smooth.values * -1, distance=distance)[0]\n",
    "data.loc[data.iloc[hi].index, \"spring\"] = True\n",
    "data.loc[data.iloc[lo].index, \"neap\"] = True"
   ]
  },
  {
   "cell_type": "code",
   "execution_count": 22,
   "id": "90d4b7ad-c8c3-491e-91bc-c27094fd1bb3",
   "metadata": {
    "execution": {
     "iopub.execute_input": "2021-09-28T16:14:50.617320Z",
     "iopub.status.busy": "2021-09-28T16:14:50.617050Z",
     "iopub.status.idle": "2021-09-28T16:14:51.104236Z",
     "shell.execute_reply": "2021-09-28T16:14:51.103556Z",
     "shell.execute_reply.started": "2021-09-28T16:14:50.617284Z"
    },
    "tags": []
   },
   "outputs": [
    {
     "data": {
      "application/vnd.jupyter.widget-view+json": {
       "model_id": "bcee2dd2024044048831273bde221148",
       "version_major": 2,
       "version_minor": 0
      },
      "text/plain": [
       "Canvas(toolbar=Toolbar(toolitems=[('Home', 'Reset original view', 'home', 'home'), ('Back', 'Back to previous …"
      ]
     },
     "metadata": {},
     "output_type": "display_data"
    }
   ],
   "source": [
    "window = window\n",
    "start = pd.to_datetime(\"1998-07-15\")\n",
    "end = start + pd.Timedelta(\"30D\")\n",
    "\n",
    "pdata = data.loc[start:end].reset_index()\n",
    "\n",
    "fig = plt.figure(figsize=(10, 5))\n",
    "ax = fig.subplots()\n",
    "\n",
    "sns.lineplot(data=pdata, x=\"datetime\", y=\"elevation\", color=\"cornflowerblue\", alpha=0.3, ax=ax)\n",
    "sns.lineplot(data=pdata, x=\"datetime\", y=\"high_smooth\", color=\"green\", alpha=0.3, ax=ax)\n",
    "sns.lineplot(data=pdata, x=\"datetime\", y=\"low_smooth\", color=\"red\", alpha=0.3, ax=ax)\n",
    "sns.lineplot(data=pdata, x=\"datetime\", y=\"amp_smooth\", color=\"black\", alpha=0.3, ax=ax)\n",
    "\n",
    "sns.scatterplot(data=pdata.loc[pdata.high == True], x=\"datetime\", y=\"elevation\", color=\"green\", s=15, ax=ax, zorder=15)\n",
    "sns.scatterplot(data=pdata.loc[pdata.low == True], x=\"datetime\", y=\"elevation\", color=\"red\", s=15, ax=ax, zorder=15)\n",
    "\n",
    "for loc in pdata.loc[pdata.spring == True].datetime:\n",
    "    ax.axvline(x=loc, color=\"black\", linestyle=\"dotted\", alpha=0.5)\n",
    "    ax.text(x=loc, y=ax.get_ylim()[1], s=\"S\", rotation=0, ha=\"center\", va=\"bottom\")\n",
    "\n",
    "for loc in pdata.loc[pdata.neap == True].datetime:\n",
    "    ax.axvline(x=loc, color=\"black\", linestyle=\"dotted\", alpha=0.5)\n",
    "    ax.text(x=loc, y=ax.get_ylim()[1], s=\"N\", rotation=0, ha=\"center\", va=\"bottom\")\n",
    "\n",
    "title = \"Mongla Tidal Data from {} to {}\".format(start.strftime(\"%b %Y\"), end.strftime(\"%b %Y\"))\n",
    "xlabel = \"\"\n",
    "ylabel = \"Elevation (m)\"\n",
    "rotation = 0\n",
    "\n",
    "locator = locator = mdates.AutoDateLocator(minticks=3, maxticks=7)\n",
    "formatter = mdates.ConciseDateFormatter(locator)\n",
    "\n",
    "# cursor = Cursor(ax=ax, useblit=True, linestyle=\"dashed\")\n",
    "\n",
    "ax.xaxis.set(major_locator=locator, major_formatter=formatter)\n",
    "ax.tick_params(axis='x', labelrotation=rotation)\n",
    "ax.set(xlabel=xlabel, ylabel=ylabel)\n",
    "ax.set_title(label=title, pad=20)\n",
    "ax.set_xlim(start, end)\n",
    "fig.tight_layout()"
   ]
  },
  {
   "cell_type": "code",
   "execution_count": 11,
   "id": "d51411b8-3987-4e68-8f63-319fc18b9855",
   "metadata": {
    "execution": {
     "iopub.execute_input": "2021-09-27T20:54:37.558740Z",
     "iopub.status.busy": "2021-09-27T20:54:37.558549Z",
     "iopub.status.idle": "2021-09-27T20:54:37.590491Z",
     "shell.execute_reply": "2021-09-27T20:54:37.590425Z",
     "shell.execute_reply.started": "2021-09-27T20:54:37.558655Z"
    },
    "scrolled": true,
    "tags": []
   },
   "outputs": [],
   "source": [
    "def lm_tides(data, ref_date, time_unit=\"Y\"):\n",
    "\n",
    "    x = ((data.index - ref_date) / np.timedelta64(1, time_unit)).values.reshape(-1, 1)\n",
    "    y = data.values.reshape(-1, 1)\n",
    "    lm = LinearRegression().fit(x, y)\n",
    "\n",
    "    y_pred = lm.predict(x)\n",
    "\n",
    "    x = np.array([data.index[0], data.index[-1]])\n",
    "    y = np.array([y_pred[0, 0], y_pred[-1, 0]])\n",
    "    s = pd.Series({\"coef\": lm.coef_[0, 0], \"intercept\": lm.intercept_[0], \"x\": x, \"y\": y})\n",
    "\n",
    "    return(s)"
   ]
  },
  {
   "cell_type": "code",
   "execution_count": 13,
   "id": "8abe4ca9-1fd8-460c-a2c1-76b8ac0ade43",
   "metadata": {
    "execution": {
     "iopub.execute_input": "2021-09-28T15:51:45.717931Z",
     "iopub.status.busy": "2021-09-28T15:51:45.717413Z",
     "iopub.status.idle": "2021-09-28T15:51:45.762381Z",
     "shell.execute_reply": "2021-09-28T15:51:45.761209Z",
     "shell.execute_reply.started": "2021-09-28T15:51:45.717851Z"
    },
    "tags": []
   },
   "outputs": [],
   "source": [
    "def lm_tides(data, ref_date, time_unit=\"365.25 days\"):\n",
    "\n",
    "    x = ((data.index - ref_date) /  pd.Timedelta(time_unit)).values.reshape(-1, 1)\n",
    "    y = data.values.reshape(-1, 1)\n",
    "    lm = LinearRegression().fit(x, y)\n",
    "\n",
    "    y_pred = lm.predict(x)\n",
    "\n",
    "    arr1 = [\"coef\", \"intercept\", \"TS\", \"TS\"]\n",
    "    arr2 = [pd.NaT, pd.NaT, data.index[0], data.index[-1]]\n",
    "\n",
    "    index = pd.MultiIndex.from_arrays([arr1, arr2])\n",
    "\n",
    "    s = pd.Series(data=(lm.coef_[0, 0], lm.intercept_[0], y_pred[0, 0], y_pred[-1, 0]), index=index)\n",
    "\n",
    "    return(s)"
   ]
  },
  {
   "cell_type": "code",
   "execution_count": 15,
   "id": "2d47b46a-d608-402a-9237-1de0594c4fdd",
   "metadata": {
    "execution": {
     "iopub.execute_input": "2021-09-28T15:53:45.615685Z",
     "iopub.status.busy": "2021-09-28T15:53:45.615468Z",
     "iopub.status.idle": "2021-09-28T15:53:45.686450Z",
     "shell.execute_reply": "2021-09-28T15:53:45.685536Z",
     "shell.execute_reply.started": "2021-09-28T15:53:45.615657Z"
    },
    "tags": []
   },
   "outputs": [],
   "source": [
    "daily = data.groupby(by=pd.Grouper(freq=\"D\")).agg({\"elevation\": [\"max\", \"min\"]})\n",
    "daily.columns = daily.columns.droplevel()\n",
    "monthly = daily.groupby(by=pd.Grouper(freq=\"MS\")).agg(\"mean\").rename(columns={\"max\": \"MHW\", \"min\": \"MLW\"})\n",
    "\n",
    "nodal_amp = 0.045\n",
    "nodal_freq = 18.61\n",
    "\n",
    "monthly[\"nodal\"] = nodal_amp * np.sin(2*np.pi*(monthly.index - pd.to_datetime(\"2015-10-01\")) / (pd.Timedelta(\"365.25 days\") * nodal_freq) + np.pi / 2)\n",
    "monthly[\"MHW_adj\"] = monthly.MHW - monthly.nodal\n",
    "monthly[\"MLW_adj\"] = monthly.MLW - monthly.nodal"
   ]
  },
  {
   "cell_type": "code",
   "execution_count": 14,
   "id": "29be522e-9416-430c-95c7-fe2064452166",
   "metadata": {
    "execution": {
     "iopub.execute_input": "2021-09-27T20:54:44.562307Z",
     "iopub.status.busy": "2021-09-27T20:54:44.562120Z",
     "iopub.status.idle": "2021-09-27T20:54:45.304100Z",
     "shell.execute_reply": "2021-09-27T20:54:45.303090Z",
     "shell.execute_reply.started": "2021-09-27T20:54:44.562233Z"
    },
    "tags": []
   },
   "outputs": [
    {
     "data": {
      "application/vnd.jupyter.widget-view+json": {
       "model_id": "fb4b585dea2942048f64048a10a1d36a",
       "version_major": 2,
       "version_minor": 0
      },
      "text/plain": [
       "Canvas(toolbar=Toolbar(toolitems=[('Home', 'Reset original view', 'home', 'home'), ('Back', 'Back to previous …"
      ]
     },
     "metadata": {},
     "output_type": "display_data"
    }
   ],
   "source": [
    "subset = monthly.loc[\"1998\":\"2009\"]\n",
    "subset_rates = subset.apply(lambda x: lm_tides(data=x, ref_date=subset.index[0], time_unit=\"365.25 days\"))\n",
    "\n",
    "fig = plt.figure(figsize=(10, 5))\n",
    "ax = fig.subplots()\n",
    "\n",
    "sns.scatterplot(data=subset.reset_index(), x=\"datetime\", y=\"MHW\", color=\"green\", s=15, ax=ax, zorder=15)\n",
    "sns.scatterplot(data=subset.reset_index(), x=\"datetime\", y=\"MLW\", color=\"red\", s=15, ax=ax, zorder=15)\n",
    "\n",
    "sns.lineplot(data=subset_rates.MHW.TS, color=\"black\", linestyle=\"dotted\", ax=ax, zorder=1)\n",
    "sns.lineplot(data=subset_rates.MLW.TS, color=\"black\", linestyle=\"dotted\", ax=ax, zorder=1)\n",
    "\n",
    "ax.text(x=subset_rates.MHW.TS.index.mean(), y=subset_rates.MHW.TS.max(), ha=\"center\", va=\"bottom\", zorder=30, s=\"${:+.1f} mm \\, a^{{-1}}$\".format(subset_rates.MHW[\"coef\"].values[0] * 1000), fontsize=\"medium\")\n",
    "ax.text(x=subset_rates.MLW.TS.index.mean(), y=subset_rates.MLW.TS.max(), ha=\"center\", va=\"bottom\", zorder=30, s=\"${:+.1f} mm \\, a^{{-1}}$\".format(subset_rates.MLW[\"coef\"].values[0] * 1000), fontsize=\"medium\")\n",
    "\n",
    "ax.set(xlabel=\"\", ylabel=\"Tide Elevation (m)\")\n",
    "\n",
    "title = \"Mongla Mean Monthly Tidal Elevations\\n({}-{})\".format(subset.index[0].year, subset.index[-1].year)\n",
    "fig.suptitle(t=title)\n",
    "\n",
    "fig.tight_layout()"
   ]
  },
  {
   "cell_type": "code",
   "execution_count": 15,
   "id": "c0b89929-56a1-49ff-baec-92374d20400e",
   "metadata": {
    "execution": {
     "iopub.execute_input": "2021-09-27T20:54:48.683181Z",
     "iopub.status.busy": "2021-09-27T20:54:48.682976Z",
     "iopub.status.idle": "2021-09-27T20:54:48.951663Z",
     "shell.execute_reply": "2021-09-27T20:54:48.951582Z",
     "shell.execute_reply.started": "2021-09-27T20:54:48.683093Z"
    },
    "tags": []
   },
   "outputs": [
    {
     "data": {
      "application/vnd.jupyter.widget-view+json": {
       "model_id": "0f59d8effa524d8fbca668a0e04f769c",
       "version_major": 2,
       "version_minor": 0
      },
      "text/plain": [
       "Canvas(toolbar=Toolbar(toolitems=[('Home', 'Reset original view', 'home', 'home'), ('Back', 'Back to previous …"
      ]
     },
     "metadata": {},
     "output_type": "display_data"
    }
   ],
   "source": [
    "subset = monthly.loc[\"1998\":\"2014\"]\n",
    "subset_rates = subset.apply(lambda x: lm_tides(data=x, ref_date=subset.index[0], time_unit=\"365.25 days\"))\n",
    "\n",
    "fig = plt.figure(figsize=(10, 5))\n",
    "ax = fig.subplots()\n",
    "\n",
    "sns.scatterplot(data=subset.reset_index(), x=\"datetime\", y=\"MHW_adj\", color=\"green\", s=15, ax=ax, zorder=15)\n",
    "sns.scatterplot(data=subset.reset_index(), x=\"datetime\", y=\"MLW_adj\", color=\"red\", s=15, ax=ax, zorder=15)\n",
    "\n",
    "sns.lineplot(data=subset_rates.MHW_adj.TS, color=\"black\", linestyle=\"dotted\", ax=ax, zorder=1)\n",
    "sns.lineplot(data=subset_rates.MLW_adj.TS, color=\"black\", linestyle=\"dotted\", ax=ax, zorder=1)\n",
    "\n",
    "ax.text(x=subset_rates.MHW_adj.TS.index.mean(), y=subset_rates.MHW_adj.TS.max(), ha=\"center\", va=\"bottom\", zorder=30, s=\"${:+.1f} mm \\, a^{{-1}}$\".format(subset_rates.MHW_adj[\"coef\"].values[0] * 1000), fontsize=\"medium\")\n",
    "ax.text(x=subset_rates.MLW_adj.TS.index.mean(), y=subset_rates.MLW_adj.TS.max(), ha=\"center\", va=\"bottom\", zorder=30, s=\"${:+.1f} mm \\, a^{{-1}}$\".format(subset_rates.MLW_adj[\"coef\"].values[0] * 1000), fontsize=\"medium\")\n",
    "\n",
    "ax.set(xlabel=\"\", ylabel=\"Tide Elevation (m)\")\n",
    "\n",
    "title = \"Mongla Mean Monthly Tidal Elevations\\n({}-{})\".format(subset.index[0].year, subset.index[-1].year)\n",
    "fig.suptitle(t=title)\n",
    "\n",
    "fig.tight_layout()"
   ]
  },
  {
   "cell_type": "code",
   "execution_count": 19,
   "id": "7a348ee3-600c-4165-9968-3614f8f36e56",
   "metadata": {
    "execution": {
     "iopub.execute_input": "2021-09-28T15:54:33.412197Z",
     "iopub.status.busy": "2021-09-28T15:54:33.411984Z",
     "iopub.status.idle": "2021-09-28T15:54:33.878236Z",
     "shell.execute_reply": "2021-09-28T15:54:33.877165Z",
     "shell.execute_reply.started": "2021-09-28T15:54:33.412171Z"
    },
    "tags": []
   },
   "outputs": [
    {
     "data": {
      "application/vnd.jupyter.widget-view+json": {
       "model_id": "efbf02b2cae84e6a9d8d69eafd54faf9",
       "version_major": 2,
       "version_minor": 0
      },
      "text/plain": [
       "Canvas(toolbar=Toolbar(toolitems=[('Home', 'Reset original view', 'home', 'home'), ('Back', 'Back to previous …"
      ]
     },
     "metadata": {},
     "output_type": "display_data"
    }
   ],
   "source": [
    "subset = monthly.loc[\"1998\":\"2009\"]\n",
    "subset_rates = subset.apply(lambda x: lm_tides(data=x, ref_date=subset.index[0], time_unit=\"365.25 days\"))\n",
    "\n",
    "fig = plt.figure(figsize=(13, 10))\n",
    "axs = fig.subplots(nrows=3, ncols=1, sharex=True)\n",
    "\n",
    "# subplot 1\n",
    "\n",
    "sns.scatterplot(data=subset.reset_index(), x=\"datetime\", y=\"MHW\", color=\"green\", s=15, ax=axs[0], zorder=15)\n",
    "sns.scatterplot(data=subset.reset_index(), x=\"datetime\", y=\"MLW\", color=\"red\", s=15, ax=axs[0], zorder=15)\n",
    "\n",
    "sns.lineplot(data=subset_rates.MHW.TS, color=\"black\", linestyle=\"dotted\", ax=axs[0], zorder=1)\n",
    "sns.lineplot(data=subset_rates.MLW.TS, color=\"black\", linestyle=\"dotted\", ax=axs[0], zorder=1)\n",
    "\n",
    "axs[0].text(x=subset_rates.MHW.TS.index.mean(), y=subset_rates.MHW.TS.max(), ha=\"center\", va=\"bottom\", zorder=30, s=\"${:+.1f} mm \\, a^{{-1}}$\".format(subset_rates.MHW[\"coef\"].values[0] * 1000), fontsize=\"medium\")\n",
    "axs[0].text(x=subset_rates.MLW.TS.index.mean(), y=subset_rates.MLW.TS.max(), ha=\"center\", va=\"bottom\", zorder=30, s=\"${:+.1f} mm \\, a^{{-1}}$\".format(subset_rates.MLW[\"coef\"].values[0] * 1000), fontsize=\"medium\")\n",
    "\n",
    "# subplot 2\n",
    "\n",
    "sns.lineplot(data=subset.nodal, ax=axs[1], zorder=1)\n",
    "\n",
    "# subplot 3 \n",
    "\n",
    "sns.scatterplot(data=subset.reset_index(), x=\"datetime\", y=\"MHW_adj\", color=\"green\", s=15, ax=axs[2], zorder=15)\n",
    "sns.scatterplot(data=subset.reset_index(), x=\"datetime\", y=\"MLW_adj\", color=\"red\", s=15, ax=axs[2], zorder=15)\n",
    "\n",
    "sns.lineplot(data=subset_rates.MHW_adj.TS, color=\"black\", linestyle=\"dotted\", ax=axs[2], zorder=1)\n",
    "sns.lineplot(data=subset_rates.MLW_adj.TS, color=\"black\", linestyle=\"dotted\", ax=axs[2], zorder=1)\n",
    "\n",
    "axs[2].text(x=subset_rates.MHW_adj.TS.index.mean(), y=subset_rates.MHW_adj.TS.max(), ha=\"center\", va=\"bottom\", zorder=30, s=\"${:+.1f} mm \\, a^{{-1}}$\".format(subset_rates.MHW_adj[\"coef\"].values[0] * 1000), fontsize=\"medium\")\n",
    "axs[2].text(x=subset_rates.MLW_adj.TS.index.mean(), y=subset_rates.MLW_adj.TS.max(), ha=\"center\", va=\"bottom\", zorder=30, s=\"${:+.1f} mm \\, a^{{-1}}$\".format(subset_rates.MLW_adj[\"coef\"].values[0] * 1000), fontsize=\"medium\")\n",
    "\n",
    "axs[0].set(ylabel=\"Tide Elevation (m)\")\n",
    "axs[1].set(ylabel=\"Nodal Amplitude (m)\")\n",
    "axs[2].set(xlabel=\"\", ylabel=\"Adjusted Tide Elevation (m)\")\n",
    "\n",
    "title = \"Mongla Mean Monthly Tidal Elevations\\n({}-{})\".format(subset.index[0].year, subset.index[-1].year)\n",
    "fig.suptitle(t=title)\n",
    "\n",
    "fig.tight_layout()"
   ]
  },
  {
   "cell_type": "code",
   "execution_count": 20,
   "id": "6a155102-28a4-4a6f-a731-81ce2eeabdad",
   "metadata": {
    "execution": {
     "iopub.execute_input": "2021-09-28T15:54:42.853479Z",
     "iopub.status.busy": "2021-09-28T15:54:42.853257Z",
     "iopub.status.idle": "2021-09-28T15:54:43.344158Z",
     "shell.execute_reply": "2021-09-28T15:54:43.343570Z",
     "shell.execute_reply.started": "2021-09-28T15:54:42.853445Z"
    },
    "tags": []
   },
   "outputs": [
    {
     "data": {
      "application/vnd.jupyter.widget-view+json": {
       "model_id": "d28366c7b956475184dba18aef1bb1a6",
       "version_major": 2,
       "version_minor": 0
      },
      "text/plain": [
       "Canvas(toolbar=Toolbar(toolitems=[('Home', 'Reset original view', 'home', 'home'), ('Back', 'Back to previous …"
      ]
     },
     "metadata": {},
     "output_type": "display_data"
    }
   ],
   "source": [
    "PO = monthly.loc[\"1998\":\"2009\"]\n",
    "PO_rates = PO.apply(lambda x: lm_tides(data=x, ref_date=PO.index[0], time_unit=\"365.25 days\"))\n",
    "\n",
    "new = monthly.loc[\"1998\":\"2014\"]\n",
    "new_rates = new.apply(lambda x: lm_tides(data=x, ref_date=new.index[0], time_unit=\"365.25 days\"))\n",
    "\n",
    "fig = plt.figure(figsize=(13, 10))\n",
    "axs = fig.subplots(nrows=3, ncols=1, sharex=True)\n",
    "\n",
    "# subplot 1\n",
    "\n",
    "# sns.scatterplot(data=PO.reset_index(), x=\"datetime\", y=\"MHW\", color=\"green\", alpha=0.3, s=15, ax=axs[0], zorder=15)\n",
    "# sns.scatterplot(data=PO.reset_index(), x=\"datetime\", y=\"MLW\", color=\"red\", alpha=0.3, s=15, ax=axs[0], zorder=15)\n",
    "\n",
    "# sns.lineplot(data=PO_rates.MHW.TS, color=\"black\", linestyle=\"dotted\", alpha=0.3, ax=axs[0], zorder=1)\n",
    "# sns.lineplot(data=PO_rates.MLW.TS, color=\"black\", linestyle=\"dotted\", alpha=0.3, ax=axs[0], zorder=1)\n",
    "\n",
    "# axs[0].text(x=subset_rates.MHW.TS.index.mean(), y=subset_rates.MHW.TS.max(), ha=\"center\", va=\"bottom\", zorder=30, s=\"${:+.1f} mm \\, a^{{-1}}$\".format(subset_rates.MHW[\"coef\"].values[0] * 1000), alpha=0.5, fontsize=\"medium\")\n",
    "# axs[0].text(x=subset_rates.MLW.TS.index.mean(), y=subset_rates.MLW.TS.max(), ha=\"center\", va=\"bottom\", zorder=30, s=\"${:+.1f} mm \\, a^{{-1}}$\".format(subset_rates.MLW[\"coef\"].values[0] * 1000), alpha=0.5, fontsize=\"medium\")\n",
    "\n",
    "\n",
    "sns.scatterplot(data=new.reset_index(), x=\"datetime\", y=\"MHW\", color=\"green\", alpha=0.5, s=15, ax=axs[0], zorder=15)\n",
    "sns.scatterplot(data=new.reset_index(), x=\"datetime\", y=\"MLW\", color=\"red\", alpha=0.5, s=15, ax=axs[0], zorder=15)\n",
    "\n",
    "sns.lineplot(data=new_rates.MHW.TS, color=\"black\", linestyle=\"dotted\", ax=axs[0], zorder=1)\n",
    "sns.lineplot(data=new_rates.MLW.TS, color=\"black\", linestyle=\"dotted\", ax=axs[0], zorder=1)\n",
    "\n",
    "axs[0].text(x=new_rates.MHW.TS.index.mean(), y=new_rates.MHW.TS.max(), ha=\"center\", va=\"bottom\", zorder=30, s=\"${:+.1f} mm \\, a^{{-1}}$\".format(new_rates.MHW[\"coef\"].values[0] * 1000), fontsize=\"medium\")\n",
    "axs[0].text(x=new_rates.MLW.TS.index.mean(), y=new_rates.MLW.TS.max(), ha=\"center\", va=\"bottom\", zorder=30, s=\"${:+.1f} mm \\, a^{{-1}}$\".format(new_rates.MLW[\"coef\"].values[0] * 1000), fontsize=\"medium\")\n",
    "\n",
    "# subplot 2\n",
    "\n",
    "sns.lineplot(data=monthly.loc[\"1998\":].nodal, ax=axs[1], zorder=1)\n",
    "\n",
    "# subplot 3 \n",
    "\n",
    "# sns.scatterplot(data=PO.reset_index(), x=\"datetime\", y=\"MHW_adj\", color=\"green\", alpha=0.3, s=15, ax=axs[2], zorder=15)\n",
    "# sns.scatterplot(data=PO.reset_index(), x=\"datetime\", y=\"MLW_adj\", color=\"red\", alpha=0.3, s=15, ax=axs[2], zorder=15)\n",
    "\n",
    "# sns.lineplot(data=PO_rates.MHW_adj.TS, color=\"black\", linestyle=\"dotted\", alpha=0.3, ax=axs[2], zorder=1)\n",
    "# sns.lineplot(data=PO_rates.MLW_adj.TS, color=\"black\", linestyle=\"dotted\", alpha=0.3, ax=axs[2], zorder=1)\n",
    "\n",
    "# axs[2].text(x=subset_rates.MHW_adj.TS.index.mean(), y=subset_rates.MHW_adj.TS.max(), ha=\"center\", va=\"bottom\", zorder=30, s=\"${:+.1f} mm \\, a^{{-1}}$\".format(subset_rates.MHW_adj[\"coef\"].values[0] * 1000),  alpha=0.5, fontsize=\"medium\")\n",
    "# axs[2].text(x=subset_rates.MLW_adj.TS.index.mean(), y=subset_rates.MLW_adj.TS.max(), ha=\"center\", va=\"bottom\", zorder=30, s=\"${:+.1f} mm \\, a^{{-1}}$\".format(subset_rates.MLW_adj[\"coef\"].values[0] * 1000),  alpha=0.5, fontsize=\"medium\")\n",
    "\n",
    "sns.scatterplot(data=new.reset_index(), x=\"datetime\", y=\"MHW_adj\", color=\"green\", alpha=0.5, s=15, ax=axs[2], zorder=15)\n",
    "sns.scatterplot(data=new.reset_index(), x=\"datetime\", y=\"MLW_adj\", color=\"red\", alpha=0.5, s=15, ax=axs[2], zorder=15)\n",
    "\n",
    "sns.lineplot(data=new_rates.MHW_adj.TS, color=\"black\", linestyle=\"dotted\", ax=axs[2], zorder=1)\n",
    "sns.lineplot(data=new_rates.MLW_adj.TS, color=\"black\", linestyle=\"dotted\", ax=axs[2], zorder=1)\n",
    "\n",
    "axs[2].text(x=new_rates.MHW_adj.TS.index.mean(), y=new_rates.MHW_adj.TS.max(), ha=\"center\", va=\"bottom\", zorder=30, s=\"${:+.1f} mm \\, a^{{-1}}$\".format(new_rates.MHW_adj[\"coef\"].values[0] * 1000), fontsize=\"medium\")\n",
    "axs[2].text(x=new_rates.MLW_adj.TS.index.mean(), y=new_rates.MLW_adj.TS.max(), ha=\"center\", va=\"bottom\", zorder=30, s=\"${:+.1f} mm \\, a^{{-1}}$\".format(new_rates.MLW_adj[\"coef\"].values[0] * 1000), fontsize=\"medium\")\n",
    "\n",
    "axs[0].set(ylabel=\"Tide Elevation (m)\")\n",
    "axs[1].set(ylabel=\"Nodal Amplitude (m)\")\n",
    "axs[2].set(xlabel=\"\", ylabel=\"Adjusted Tide Elevation (m)\")\n",
    "\n",
    "title = \"Mongla Mean Monthly Tidal Elevations\\n({}-{})\".format(subset.index[0].year, subset.index[-1].year)\n",
    "fig.suptitle(t=title)\n",
    "\n",
    "fig.tight_layout()"
   ]
  },
  {
   "cell_type": "code",
   "execution_count": 21,
   "id": "b69965dd-e173-4bd8-84d2-88c2fb9ace17",
   "metadata": {
    "execution": {
     "iopub.execute_input": "2021-09-28T15:58:42.437086Z",
     "iopub.status.busy": "2021-09-28T15:58:42.436802Z",
     "iopub.status.idle": "2021-09-28T15:58:42.786983Z",
     "shell.execute_reply": "2021-09-28T15:58:42.786327Z",
     "shell.execute_reply.started": "2021-09-28T15:58:42.437052Z"
    },
    "tags": []
   },
   "outputs": [
    {
     "data": {
      "application/vnd.jupyter.widget-view+json": {
       "model_id": "c7ae1e3bdc6c415f943224778df77a10",
       "version_major": 2,
       "version_minor": 0
      },
      "text/plain": [
       "Canvas(toolbar=Toolbar(toolitems=[('Home', 'Reset original view', 'home', 'home'), ('Back', 'Back to previous …"
      ]
     },
     "metadata": {},
     "output_type": "display_data"
    }
   ],
   "source": [
    "subset = data.loc[\"1998\":\"2009\"].copy()\n",
    "\n",
    "springs = subset.loc[(subset.spring == True)][[\"high_smooth\", \"low_smooth\"]]\n",
    "springs[\"high_smooth\"] = springs.high_smooth - nodal_amp * np.sin(2*np.pi*(springs.index - pd.to_datetime(\"2015-10-01\")) / (pd.Timedelta(\"365.25 days\") * nodal_freq) + np.pi / 2)\n",
    "springs[\"low_smooth\"] = springs.low_smooth - nodal_amp * np.sin(2*np.pi*(springs.index - pd.to_datetime(\"2015-10-01\")) / (pd.Timedelta(\"365.25 days\") * nodal_freq) + np.pi / 2)\n",
    "spring_rates = springs.apply(lambda x: lm_tides(data=x, ref_date=subset.index[0], time_unit=\"365.25 days\"))\n",
    "\n",
    "neaps = subset.loc[(subset.neap == True)][[\"high_smooth\", \"low_smooth\"]]\n",
    "neaps[\"high_smooth\"] = neaps.high_smooth - nodal_amp * np.sin(2*np.pi*(neaps.index - pd.to_datetime(\"2015-10-01\")) / (pd.Timedelta(\"365.25 days\") * nodal_freq) + np.pi / 2)\n",
    "neaps[\"low_smooth\"] = neaps.low_smooth - nodal_amp * np.sin(2*np.pi*(neaps.index - pd.to_datetime(\"2015-10-01\")) / (pd.Timedelta(\"365.25 days\") * nodal_freq) + np.pi / 2)\n",
    "neap_rates = neaps.apply(lambda x: lm_tides(data=x, ref_date=subset.index[0], time_unit=\"365.25 days\"))\n",
    "\n",
    "fig = plt.figure(figsize=(13, 5))\n",
    "ax = fig.subplots()\n",
    "\n",
    "sns.scatterplot(data=springs.reset_index(), x=\"datetime\", y=\"high_smooth\", color=\"green\", marker=\".\", s=30, ax=ax, zorder=15)\n",
    "sns.scatterplot(data=neaps.reset_index(), x=\"datetime\", y=\"high_smooth\", color=\"green\", marker=\"+\", s=20, ax=ax, zorder=15)\n",
    "\n",
    "sns.lineplot(data=spring_rates.high_smooth.TS, color=\"black\", linestyle=\"dotted\", ax=ax, zorder=1)\n",
    "sns.lineplot(data=neap_rates.high_smooth.TS, color=\"black\", linestyle=\"dotted\", ax=ax, zorder=1)\n",
    "\n",
    "ax.text(x=spring_rates.high_smooth.TS.index.mean(), y=spring_rates.high_smooth.TS.max(), ha=\"center\", va=\"bottom\", zorder=30, s=\"${:+.1f} mm \\, a^{{-1}}$\".format(spring_rates.high_smooth[\"coef\"].values[0] * 1000), fontsize=\"medium\")\n",
    "ax.text(x=neap_rates.high_smooth.TS.index.mean(), y=neap_rates.high_smooth.TS.max(), ha=\"center\", va=\"bottom\", zorder=20, s=\"${:+.1f} mm \\, a^{{-1}}$\".format(neap_rates.high_smooth[\"coef\"].values[0] * 1000), fontsize=\"medium\")\n",
    "\n",
    "sns.scatterplot(data=springs.reset_index(), x=\"datetime\", y=\"low_smooth\", color=\"red\", marker=\".\", s=30, ax=ax, zorder=15)\n",
    "sns.scatterplot(data=neaps.reset_index(), x=\"datetime\", y=\"low_smooth\", color=\"red\", marker=\"+\", s=20, ax=ax, zorder=15)\n",
    "\n",
    "sns.lineplot(data=spring_rates.low_smooth.TS, color=\"black\", linestyle=\"dotted\", ax=ax, zorder=1)\n",
    "sns.lineplot(data=neap_rates.low_smooth.TS, color=\"black\", linestyle=\"dotted\", ax=ax, zorder=1)\n",
    "\n",
    "ax.text(x=spring_rates.low_smooth.TS.index.mean(), y=spring_rates.low_smooth.TS.max(), ha=\"center\", va=\"bottom\", zorder=30, s=\"${:+.1f} mm \\, a^{{-1}}$\".format(spring_rates.low_smooth[\"coef\"].values[0] * 1000), fontsize=\"medium\")\n",
    "ax.text(x=neap_rates.low_smooth.TS.index.mean(), y=neap_rates.low_smooth.TS.max(), ha=\"center\", va=\"bottom\", zorder=20, s=\"${:+.1f} mm \\, a^{{-1}}$\".format(neap_rates.low_smooth[\"coef\"].values[0] * 1000), fontsize=\"medium\")\n",
    "\n",
    "ax.set(xlabel=\"\", ylabel=\"Adjusted Tide Elevation (m)\")\n",
    "ax.set_ylim(0.5, 4.25)\n",
    "\n",
    "title = \"Spring vs Neap\\n({}-{})\".format(subset.index[0].year, subset.index[-1].year)\n",
    "fig.suptitle(t=title)\n",
    "\n",
    "fig.tight_layout()"
   ]
  },
  {
   "cell_type": "code",
   "execution_count": 17,
   "id": "98ba11d7-e2db-41f1-a4fe-8756ff3a730f",
   "metadata": {
    "execution": {
     "iopub.execute_input": "2021-09-28T15:53:54.929718Z",
     "iopub.status.busy": "2021-09-28T15:53:54.929530Z",
     "iopub.status.idle": "2021-09-28T15:53:55.206253Z",
     "shell.execute_reply": "2021-09-28T15:53:55.205597Z",
     "shell.execute_reply.started": "2021-09-28T15:53:54.929691Z"
    },
    "tags": []
   },
   "outputs": [
    {
     "data": {
      "application/vnd.jupyter.widget-view+json": {
       "model_id": "87f04947a09e4e349a99ba828159c36b",
       "version_major": 2,
       "version_minor": 0
      },
      "text/plain": [
       "Canvas(toolbar=Toolbar(toolitems=[('Home', 'Reset original view', 'home', 'home'), ('Back', 'Back to previous …"
      ]
     },
     "metadata": {},
     "output_type": "display_data"
    }
   ],
   "source": [
    "subset = data.loc[\"1998\":\"2009\"].copy()\n",
    "\n",
    "springs = subset.loc[(subset.spring == True)].amp_smooth.to_frame()\n",
    "spring_rates = springs.apply(lambda x: lm_tides(data=x, ref_date=x.index[0], time_unit=\"365.25 days\"))\n",
    "\n",
    "neaps = subset.loc[(subset.neap == True)].amp_smooth.to_frame()\n",
    "neap_rates = neaps.apply(lambda x: lm_tides(data=x, ref_date=x.index[0], time_unit=\"365.25 days\"))\n",
    "\n",
    "fig = plt.figure(figsize=(13, 5))\n",
    "ax = fig.subplots()\n",
    "\n",
    "sns.lineplot(data=springs.reset_index(), x=\"datetime\", y=\"amp_smooth\", color=\"green\", alpha=0.3, ax=ax, zorder=15, label=\"Spring\")\n",
    "sns.lineplot(data=neaps.reset_index(), x=\"datetime\", y=\"amp_smooth\", color=\"red\", alpha=0.3, ax=ax, zorder=15, label=\"Neap\")\n",
    "\n",
    "sns.lineplot(data=spring_rates.amp_smooth.TS, color=\"black\", linestyle=\"dotted\", ax=ax, zorder=1)\n",
    "sns.lineplot(data=neap_rates.amp_smooth.TS, color=\"black\", linestyle=\"dotted\", ax=ax, zorder=1)\n",
    "\n",
    "ax.text(x=spring_rates.amp_smooth.TS.index.mean(), y=spring_rates.amp_smooth.TS.max(), ha=\"center\", va=\"bottom\", zorder=30, s=\"${:+.1f} mm \\, a^{{-1}}$\".format(spring_rates.amp_smooth[\"coef\"].values[0] * 1000), fontsize=\"medium\")\n",
    "ax.text(x=neap_rates.amp_smooth.TS.index.mean(), y=neap_rates.amp_smooth.TS.max(), ha=\"center\", va=\"bottom\", zorder=30, s=\"${:+.1f} mm \\, a^{{-1}}$\".format(neap_rates.amp_smooth[\"coef\"].values[0] * 1000), fontsize=\"medium\")\n",
    "\n",
    "ax.set(xlabel=\"\", ylabel=\"Adjusted Tide Elevation (m)\")\n",
    "ax.set_ylim(1, 4.5)\n",
    "\n",
    "title = \"Spring vs Neap Amplitude\\n({}-{})\".format(subset.index[0].year, subset.index[-1].year)\n",
    "fig.suptitle(t=title)\n",
    "\n",
    "fig.tight_layout()"
   ]
  },
  {
   "cell_type": "code",
   "execution_count": null,
   "id": "f79995ae-9b45-4fe5-ab46-ef85c6548a86",
   "metadata": {},
   "outputs": [],
   "source": []
  }
 ],
 "metadata": {
  "kernelspec": {
   "display_name": "Python 3 (ipykernel)",
   "language": "python",
   "name": "python3"
  },
  "language_info": {
   "codemirror_mode": {
    "name": "ipython",
    "version": 3
   },
   "file_extension": ".py",
   "mimetype": "text/x-python",
   "name": "python",
   "nbconvert_exporter": "python",
   "pygments_lexer": "ipython3",
   "version": "3.9.7"
  },
  "widgets": {
   "application/vnd.jupyter.widget-state+json": {
    "state": {},
    "version_major": 2,
    "version_minor": 0
   }
  }
 },
 "nbformat": 4,
 "nbformat_minor": 5
}
