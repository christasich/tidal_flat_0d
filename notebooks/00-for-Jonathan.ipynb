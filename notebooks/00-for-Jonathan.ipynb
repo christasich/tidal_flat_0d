{
 "cells": [
  {
   "cell_type": "code",
   "execution_count": 27,
   "id": "5d0c7852-25ce-4345-ad25-b13c8f23bb5f",
   "metadata": {
    "execution": {
     "iopub.execute_input": "2021-10-12T19:27:54.894821Z",
     "iopub.status.busy": "2021-10-12T19:27:54.894514Z",
     "iopub.status.idle": "2021-10-12T19:27:55.141138Z",
     "shell.execute_reply": "2021-10-12T19:27:55.140400Z",
     "shell.execute_reply.started": "2021-10-12T19:27:54.894795Z"
    },
    "tags": []
   },
   "outputs": [
    {
     "name": "stdout",
     "output_type": "stream",
     "text": [
      "The autoreload extension is already loaded. To reload it, use:\n",
      "  %reload_ext autoreload\n"
     ]
    }
   ],
   "source": [
    "import os\n",
    "import sys\n",
    "from collections import namedtuple\n",
    "\n",
    "import numpy as np\n",
    "import pandas as pd\n",
    "import seaborn as sns\n",
    "import statsmodels.api as sm\n",
    "import utide\n",
    "from joblib import Parallel, delayed\n",
    "from matplotlib import dates as mdates\n",
    "from matplotlib import pyplot as plt\n",
    "from scipy.signal import argrelmax, argrelmin, find_peaks\n",
    "from sklearn.linear_model import LinearRegression\n",
    "\n",
    "sys.path.append(\"..\")\n",
    "from src import definitions as defs\n",
    "from src import features, models\n",
    "\n",
    "%load_ext autoreload\n",
    "%autoreload 2\n",
    "%matplotlib widget\n",
    "%config Completer.use_jedi = False"
   ]
  },
  {
   "cell_type": "code",
   "execution_count": 2,
   "id": "4d72d689-12be-45b4-a857-a48a6c5c2936",
   "metadata": {
    "execution": {
     "iopub.execute_input": "2021-10-12T19:09:34.822739Z",
     "iopub.status.busy": "2021-10-12T19:09:34.822225Z",
     "iopub.status.idle": "2021-10-12T19:09:34.848372Z",
     "shell.execute_reply": "2021-10-12T19:09:34.847645Z",
     "shell.execute_reply.started": "2021-10-12T19:09:34.822672Z"
    }
   },
   "outputs": [],
   "source": [
    "wdir = defs.ROOT / \"data\" / \"interim\""
   ]
  },
  {
   "cell_type": "code",
   "execution_count": 145,
   "id": "f5fba6de-6d40-4254-87be-ba802e86b946",
   "metadata": {
    "execution": {
     "iopub.execute_input": "2021-10-12T21:23:00.923168Z",
     "iopub.status.busy": "2021-10-12T21:23:00.922604Z",
     "iopub.status.idle": "2021-10-12T21:23:06.233135Z",
     "shell.execute_reply": "2021-10-12T21:23:06.231971Z",
     "shell.execute_reply.started": "2021-10-12T21:23:00.923100Z"
    },
    "tags": []
   },
   "outputs": [],
   "source": [
    "ts = features.load_tide(wdir, \"tides-50yr-30s.feather\")\n",
    "\n",
    "slr = 0.005\n",
    "ts = ts + (ts.index - ts.index[0]) / pd.Timedelta(\"365.25 days\") * slr\n",
    "ts = ts.loc[\"2020\":\"2049\"]"
   ]
  },
  {
   "cell_type": "code",
   "execution_count": 146,
   "id": "6fe1415f-f768-491f-9950-9f976cf4d071",
   "metadata": {
    "execution": {
     "iopub.execute_input": "2021-10-12T21:23:07.922759Z",
     "iopub.status.busy": "2021-10-12T21:23:07.922240Z",
     "iopub.status.idle": "2021-10-12T21:30:30.655258Z",
     "shell.execute_reply": "2021-10-12T21:30:30.654164Z",
     "shell.execute_reply.started": "2021-10-12T21:23:07.922691Z"
    },
    "tags": []
   },
   "outputs": [
    {
     "data": {
      "application/vnd.jupyter.widget-view+json": {
       "model_id": "1dab99ce7ecf4414b2bbec4ddbaa4e48",
       "version_major": 2,
       "version_minor": 0
      },
      "text/plain": [
       "Progress:   0%|          | 0/10957 [00:00<?, ?day/s]"
      ]
     },
     "metadata": {},
     "output_type": "display_data"
    },
    {
     "name": "stdout",
     "output_type": "stream",
     "text": [
      "----------------------------------------\n",
      "Starting elevation:       2.600       m\n",
      "Final elevation:          2.924       m\n",
      "Elevation change:         32.435     cm\n",
      "----------------------------------------\n",
      "Aggradation:              52.553     cm\n",
      "Degradation:              20.404     cm\n",
      "----------------------------------------\n",
      "Runtime:                    07 min 21 s\n"
     ]
    }
   ],
   "source": [
    "sbans = models.TidalFlat(\n",
    "    tides=ts,\n",
    "    land_elev_init=2.6,\n",
    "    conc_bound=0.3,\n",
    "    grain_diam=3.0e-5,\n",
    "    grain_dens=2.65e3,\n",
    "    bulk_dens=900,\n",
    "    org_rate_yr=2e-4,\n",
    "    comp_rate_yr=4e-3,\n",
    "    sub_rate_yr=3e-3,\n",
    ")\n",
    "sbans.run()"
   ]
  },
  {
   "cell_type": "code",
   "execution_count": 147,
   "id": "dfb1c20b-555f-4344-84c2-1dd618cfcfbb",
   "metadata": {
    "execution": {
     "iopub.execute_input": "2021-10-12T21:30:30.657466Z",
     "iopub.status.busy": "2021-10-12T21:30:30.657253Z",
     "iopub.status.idle": "2021-10-12T21:42:11.226751Z",
     "shell.execute_reply": "2021-10-12T21:42:11.225891Z",
     "shell.execute_reply.started": "2021-10-12T21:30:30.657435Z"
    },
    "tags": []
   },
   "outputs": [
    {
     "data": {
      "application/vnd.jupyter.widget-view+json": {
       "model_id": "2dba1cad54704ad9ae7d35dc76a01806",
       "version_major": 2,
       "version_minor": 0
      },
      "text/plain": [
       "Progress:   0%|          | 0/10957 [00:00<?, ?day/s]"
      ]
     },
     "metadata": {},
     "output_type": "display_data"
    },
    {
     "name": "stdout",
     "output_type": "stream",
     "text": [
      "----------------------------------------\n",
      "Starting elevation:       1.500       m\n",
      "Final elevation:          2.871       m\n",
      "Elevation change:         137.136    cm\n",
      "----------------------------------------\n",
      "Aggradation:              157.045    cm\n",
      "Degradation:              20.397     cm\n",
      "----------------------------------------\n",
      "Runtime:                    11 min 39 s\n"
     ]
    }
   ],
   "source": [
    "polder = models.TidalFlat(\n",
    "    tides=ts,\n",
    "    land_elev_init=1.5,\n",
    "    conc_bound=0.3,\n",
    "    grain_diam=3.0e-5,\n",
    "    grain_dens=2.65e3,\n",
    "    bulk_dens=900,\n",
    "    org_rate_yr=2e-4,\n",
    "    comp_rate_yr=4e-3,\n",
    "    sub_rate_yr=3e-3,\n",
    ")\n",
    "polder.run()"
   ]
  },
  {
   "cell_type": "code",
   "execution_count": 154,
   "id": "6d8125c3-accf-4a76-99b7-cc29756aee6c",
   "metadata": {
    "execution": {
     "iopub.execute_input": "2021-10-12T21:51:25.025549Z",
     "iopub.status.busy": "2021-10-12T21:51:25.024992Z",
     "iopub.status.idle": "2021-10-12T21:51:25.063976Z",
     "shell.execute_reply": "2021-10-12T21:51:25.062499Z",
     "shell.execute_reply.started": "2021-10-12T21:51:25.025465Z"
    }
   },
   "outputs": [
    {
     "data": {
      "text/plain": [
       "0.0008085"
      ]
     },
     "execution_count": 154,
     "metadata": {},
     "output_type": "execute_result"
    }
   ],
   "source": [
    "polder.settle_rate"
   ]
  },
  {
   "cell_type": "code",
   "execution_count": 153,
   "id": "3aaba503-04f7-4e11-90d0-72b3864e6bb3",
   "metadata": {
    "execution": {
     "iopub.execute_input": "2021-10-12T21:46:15.029717Z",
     "iopub.status.busy": "2021-10-12T21:46:15.029214Z",
     "iopub.status.idle": "2021-10-12T21:46:27.695115Z",
     "shell.execute_reply": "2021-10-12T21:46:27.694069Z",
     "shell.execute_reply.started": "2021-10-12T21:46:15.029650Z"
    },
    "tags": []
   },
   "outputs": [
    {
     "data": {
      "application/vnd.jupyter.widget-view+json": {
       "model_id": "18dea3ad79564d6590c59e32606fe9cf",
       "version_major": 2,
       "version_minor": 0
      },
      "image/png": "[encoded data removed]",
      "text/plain": [
       "Canvas(toolbar=Toolbar(toolitems=[('Home', 'Reset original view', 'home', 'home'), ('Back', 'Back to previous …"
      ]
     },
     "metadata": {},
     "output_type": "display_data"
    }
   ],
   "source": [
    "sns.set_theme()\n",
    "fig = plt.figure(figsize=(13, 6))\n",
    "ax = fig.subplots()\n",
    "\n",
    "pdata1 = sbans.results.iloc[::2*60*3]\n",
    "pdata2 = polder.results.iloc[::2*60*3]\n",
    "\n",
    "sns.lineplot(data=pdata1, x=\"datetime\", y=\"tide_elev\", ax=ax, color=\"cornflowerblue\", alpha=0.6, label=\"Tide\", zorder=10)\n",
    "sns.lineplot(data=pdata1, x=\"datetime\", y=pdata1.land_elev, ax=ax, color=\"red\", ls=\"-\", alpha=0.6, label=\"Sundarbans\", zorder=10)\n",
    "sns.lineplot(data=pdata2, x=\"datetime\", y=pdata2.land_elev, ax=ax, color=\"red\", ls=\"--\", alpha=0.6, label=\"Polder\", zorder=10)\n",
    "\n",
    "ax.set_xlim(pdata1.datetime.iat[0], pdata1.datetime.iat[-1])\n",
    "ax.set_ylim(pdata2.land_elev.min())\n",
    "ax.set_xlabel(\"\")\n",
    "ax.set_ylabel(\"Elevation (m)\")\n",
    "\n",
    "loc = polder.results.loc[polder.results.land_elev>sbans.results.land_elev.iat[0]].datetime.iat[0]\n",
    "years = (loc - sbans.results.datetime.iat[0]) / pd.Timedelta(\"365.25 days\")\n",
    "s = \"Recovery Time: ~{:.0f} yr\".format(years)\n",
    "\n",
    "plt.axhline(y=sbans.results.land_elev.iat[0], ls=\":\", color=\"black\", zorder=1)\n",
    "plt.axvline(x=loc, ls=\":\", color=\"black\", zorder=1)\n",
    "ax.text(x=loc, y=ax.get_ylim()[1], s=s, rotation=0, ha=\"center\", va=\"bottom\")\n",
    "ax.tick_params(labelright=True)\n",
    "\n",
    "fig.suptitle(\"Simulated elevation change near Polder 32\\n(2020-2050)\")\n",
    "\n",
    "plt.tight_layout()"
   ]
  },
  {
   "cell_type": "code",
   "execution_count": null,
   "id": "8aed16e3-5712-438c-82c1-f3b989d611b8",
   "metadata": {},
   "outputs": [],
   "source": []
  }
 ],
 "metadata": {
  "kernelspec": {
   "display_name": "Python 3 (ipykernel)",
   "language": "python",
   "name": "python3"
  },
  "language_info": {
   "codemirror_mode": {
    "name": "ipython",
    "version": 3
   },
   "file_extension": ".py",
   "mimetype": "text/x-python",
   "name": "python",
   "nbconvert_exporter": "python",
   "pygments_lexer": "ipython3",
   "version": "3.9.7"
  },
  "widgets": {
   "application/vnd.jupyter.widget-state+json": {
    "state": {
     "01200692d7584e49bedbc390b4609cc2": {
      "model_module": "@jupyter-widgets/controls",
      "model_module_version": "1.5.0",
      "model_name": "FloatProgressModel",
      "state": {
       "bar_style": "success",
       "layout": "IPY_MODEL_51b960ae01754ba296a7d90210ab80ec",
       "max": 2191,
       "style": "IPY_MODEL_9a0bc62bc2934bf498b8d2552811f19a",
       "value": 2191
      }
     },
     "0183dfeedce540f691b9230cfb6eedf7": {
      "model_module": "jupyter-matplotlib",
      "model_module_version": "^0.10.0",
      "model_name": "MPLCanvasModel",
      "state": {
       "_cursor": "default",
       "_figure_label": "Figure 19",
       "_height": 500,
       "_image_mode": "diff",
       "_width": 1500,
       "layout": "IPY_MODEL_4b9d960701be48aa8613a0423601047a",
       "toolbar": "IPY_MODEL_c29c09a34996456f8c83b649a5b206d0",
       "toolbar_position": "left"
      }
     },
     "021b28d9bc5b42d9a63096c33cfc0d6e": {
      "model_module": "@jupyter-widgets/base",
      "model_module_version": "1.2.0",
      "model_name": "LayoutModel",
      "state": {}
     },
     "024c85053f284e348a8c49b2c685d8c8": {
      "model_module": "jupyter-matplotlib",
      "model_module_version": "^0.10.0",
      "model_name": "ToolbarModel",
      "state": {
       "layout": "IPY_MODEL_ff2a590216a5434d9137a1244cd32102",
       "toolitems": [
        [
         "Home",
         "Reset original view",
         "home",
         "home"
        ],
        [
         "Back",
         "Back to previous view",
         "arrow-left",
         "back"
        ],
        [
         "Forward",
         "Forward to next view",
         "arrow-right",
         "forward"
        ],
        [
         "Pan",
         "Left button pans, Right button zooms\nx/y fixes axis, CTRL fixes aspect",
         "arrows",
         "pan"
        ],
        [
         "Zoom",
         "Zoom to rectangle\nx/y fixes axis, CTRL fixes aspect",
         "square-o",
         "zoom"
        ],
        [
         "Download",
         "Download plot",
         "floppy-o",
         "save_figure"
        ]
       ]
      }
     },
     "02ef3003dd83452aab4c0f257d4cd20b": {
      "model_module": "@jupyter-widgets/base",
      "model_module_version": "1.2.0",
      "model_name": "LayoutModel",
      "state": {}
     },
     "0418a476aa8b4e968689896da2b39e2a": {
      "model_module": "@jupyter-widgets/controls",
      "model_module_version": "1.5.0",
      "model_name": "DescriptionStyleModel",
      "state": {
       "description_width": ""
      }
     },
     "045e435c21dc4802a4e37cdfcc6c6647": {
      "model_module": "@jupyter-widgets/base",
      "model_module_version": "1.2.0",
      "model_name": "LayoutModel",
      "state": {}
     },
     "053203a41d204675aaaf0f2b795e63a9": {
      "model_module": "@jupyter-widgets/base",
      "model_module_version": "1.2.0",
      "model_name": "LayoutModel",
      "state": {}
     },
     "055eebb6315e4188b42d2930a5226d72": {
      "model_module": "@jupyter-widgets/base",
      "model_module_version": "1.2.0",
      "model_name": "LayoutModel",
      "state": {}
     },
     "05d336e412ab4ca0bdf8186443adc255": {
      "model_module": "@jupyter-widgets/controls",
      "model_module_version": "1.5.0",
      "model_name": "ProgressStyleModel",
      "state": {
       "description_width": ""
      }
     },
     "068790baf40448369715ccdc883c12a5": {
      "model_module": "@jupyter-widgets/base",
      "model_module_version": "1.2.0",
      "model_name": "LayoutModel",
      "state": {}
     },
     "07665910780f4f8a9aca5fbd7d547aad": {
      "model_module": "@jupyter-widgets/base",
      "model_module_version": "1.2.0",
      "model_name": "LayoutModel",
      "state": {}
     },
     "08c41d45e9a348e091dd43f5dd2bf6ee": {
      "model_module": "jupyter-matplotlib",
      "model_module_version": "^0.10.0",
      "model_name": "ToolbarModel",
      "state": {
       "layout": "IPY_MODEL_cfb13c07cf1e43d8aae590fa7528ce58",
       "toolitems": [
        [
         "Home",
         "Reset original view",
         "home",
         "home"
        ],
        [
         "Back",
         "Back to previous view",
         "arrow-left",
         "back"
        ],
        [
         "Forward",
         "Forward to next view",
         "arrow-right",
         "forward"
        ],
        [
         "Pan",
         "Left button pans, Right button zooms\nx/y fixes axis, CTRL fixes aspect",
         "arrows",
         "pan"
        ],
        [
         "Zoom",
         "Zoom to rectangle\nx/y fixes axis, CTRL fixes aspect",
         "square-o",
         "zoom"
        ],
        [
         "Download",
         "Download plot",
         "floppy-o",
         "save_figure"
        ]
       ]
      }
     },
     "0987e2fd90bf4f5eaab4e3de24f60ce9": {
      "model_module": "@jupyter-widgets/controls",
      "model_module_version": "1.5.0",
      "model_name": "DescriptionStyleModel",
      "state": {
       "description_width": ""
      }
     },
     "09e7c4482daf406c8adfa9a931b44c46": {
      "model_module": "jupyter-matplotlib",
      "model_module_version": "^0.10.0",
      "model_name": "MPLCanvasModel",
      "state": {
       "_cursor": "default",
       "_figure_label": "Figure 76",
       "_height": 700,
       "_width": 1300,
       "layout": "IPY_MODEL_174526b9472b46698f3e229897913e9e",
       "toolbar": "IPY_MODEL_e6433dfaff964d9890bce9afce605c48",
       "toolbar_position": "left"
      }
     },
     "0b312a5f8c7e42d9acd2c5992a40006b": {
      "model_module": "@jupyter-widgets/controls",
      "model_module_version": "1.5.0",
      "model_name": "FloatProgressModel",
      "state": {
       "bar_style": "success",
       "layout": "IPY_MODEL_dec6d1230f2247beaba88541bea9cc2f",
       "max": 10957,
       "style": "IPY_MODEL_ca3008ccc1e945d68450839beb76e026",
       "value": 10957
      }
     },
     "0b4545f8afb44f8aa31d7f2f942f5482": {
      "model_module": "@jupyter-widgets/base",
      "model_module_version": "1.2.0",
      "model_name": "LayoutModel",
      "state": {}
     },
     "0b8067a8d6d8411fbcc268203b01520c": {
      "model_module": "jupyter-matplotlib",
      "model_module_version": "^0.10.0",
      "model_name": "MPLCanvasModel",
      "state": {
       "_cursor": "default",
       "_figure_label": "Figure 10",
       "_height": 500,
       "_width": 1000,
       "layout": "IPY_MODEL_bcaf62d2093449979697ab5ce5f2f172",
       "toolbar": "IPY_MODEL_aaf6f566180f4440a02d76370f3e42e6",
       "toolbar_position": "left"
      }
     },
     "0bdcca0b7c984e018c8697044b849cd5": {
      "model_module": "jupyter-matplotlib",
      "model_module_version": "^0.10.0",
      "model_name": "ToolbarModel",
      "state": {
       "layout": "IPY_MODEL_a746058e6b9d46aa9774dc125c1a07dc",
       "toolitems": [
        [
         "Home",
         "Reset original view",
         "home",
         "home"
        ],
        [
         "Back",
         "Back to previous view",
         "arrow-left",
         "back"
        ],
        [
         "Forward",
         "Forward to next view",
         "arrow-right",
         "forward"
        ],
        [
         "Pan",
         "Left button pans, Right button zooms\nx/y fixes axis, CTRL fixes aspect",
         "arrows",
         "pan"
        ],
        [
         "Zoom",
         "Zoom to rectangle\nx/y fixes axis, CTRL fixes aspect",
         "square-o",
         "zoom"
        ],
        [
         "Download",
         "Download plot",
         "floppy-o",
         "save_figure"
        ]
       ]
      }
     },
     "0bdf6d6130b6431691a3862bb8d7f89f": {
      "model_module": "@jupyter-widgets/controls",
      "model_module_version": "1.5.0",
      "model_name": "HTMLModel",
      "state": {
       "layout": "IPY_MODEL_3efc1e705f85472fb7f511d0d33eafc6",
       "style": "IPY_MODEL_93c1851c6d6a4735868a0becf4b0406a",
       "value": " 366/? [00:17&lt;00:00, 20.68day/s]"
      }
     },
     "0c11200812d64f8dbf9db466ee0ef8fa": {
      "model_module": "jupyter-matplotlib",
      "model_module_version": "^0.10.0",
      "model_name": "MPLCanvasModel",
      "state": {
       "_cursor": "default",
       "_figure_label": "Figure 49",
       "_height": 500,
       "_width": 1300,
       "layout": "IPY_MODEL_fcb1de82b1594e4b9724e63045f60626",
       "toolbar": "IPY_MODEL_45a378aeb32442fea0c89d89c4e9fead",
       "toolbar_position": "left"
      }
     },
     "0d6c8664b0504b9699926311526fd8f9": {
      "model_module": "@jupyter-widgets/base",
      "model_module_version": "1.2.0",
      "model_name": "LayoutModel",
      "state": {}
     },
     "0d8db981862c4ddc830cfccc0a430392": {
      "model_module": "@jupyter-widgets/base",
      "model_module_version": "1.2.0",
      "model_name": "LayoutModel",
      "state": {}
     },
     "0e34a378b5804182bd15cd51f82336a2": {
      "model_module": "@jupyter-widgets/base",
      "model_module_version": "1.2.0",
      "model_name": "LayoutModel",
      "state": {}
     },
     "0f36a3cdc2994267905047545d21b033": {
      "model_module": "jupyter-matplotlib",
      "model_module_version": "^0.10.0",
      "model_name": "MPLCanvasModel",
      "state": {
       "_cursor": "default",
       "_figure_label": "Figure 42",
       "_height": 500,
       "_width": 1500,
       "layout": "IPY_MODEL_e69785bb911b46bd9d7f55fecc49678e",
       "toolbar": "IPY_MODEL_30ac108dff524936868a0676bf98dc42",
       "toolbar_position": "left"
      }
     },
     "0f65935fe745496c9b0cab677ea2ff82": {
      "model_module": "jupyter-matplotlib",
      "model_module_version": "^0.10.0",
      "model_name": "ToolbarModel",
      "state": {
       "layout": "IPY_MODEL_19cf1a42bfc34f41b1b8088eaa54b2af",
       "toolitems": [
        [
         "Home",
         "Reset original view",
         "home",
         "home"
        ],
        [
         "Back",
         "Back to previous view",
         "arrow-left",
         "back"
        ],
        [
         "Forward",
         "Forward to next view",
         "arrow-right",
         "forward"
        ],
        [
         "Pan",
         "Left button pans, Right button zooms\nx/y fixes axis, CTRL fixes aspect",
         "arrows",
         "pan"
        ],
        [
         "Zoom",
         "Zoom to rectangle\nx/y fixes axis, CTRL fixes aspect",
         "square-o",
         "zoom"
        ],
        [
         "Download",
         "Download plot",
         "floppy-o",
         "save_figure"
        ]
       ]
      }
     },
     "10093ef5a514433f900ff7bf9ddd40df": {
      "model_module": "jupyter-matplotlib",
      "model_module_version": "^0.10.0",
      "model_name": "ToolbarModel",
      "state": {
       "layout": "IPY_MODEL_78584b7a48864d6687c0cc0acf29a985",
       "toolitems": [
        [
         "Home",
         "Reset original view",
         "home",
         "home"
        ],
        [
         "Back",
         "Back to previous view",
         "arrow-left",
         "back"
        ],
        [
         "Forward",
         "Forward to next view",
         "arrow-right",
         "forward"
        ],
        [
         "Pan",
         "Left button pans, Right button zooms\nx/y fixes axis, CTRL fixes aspect",
         "arrows",
         "pan"
        ],
        [
         "Zoom",
         "Zoom to rectangle\nx/y fixes axis, CTRL fixes aspect",
         "square-o",
         "zoom"
        ],
        [
         "Download",
         "Download plot",
         "floppy-o",
         "save_figure"
        ]
       ]
      }
     },
     "102a8ac6b1d641f8bc926fb0d0c87027": {
      "model_module": "@jupyter-widgets/base",
      "model_module_version": "1.2.0",
      "model_name": "LayoutModel",
      "state": {}
     },
     "103d9a09dc7e4ba883b8cdf444bbe8bd": {
      "model_module": "@jupyter-widgets/controls",
      "model_module_version": "1.5.0",
      "model_name": "DescriptionStyleModel",
      "state": {
       "description_width": ""
      }
     },
     "12272fa204c84e349fb89dd86cfc71ab": {
      "model_module": "@jupyter-widgets/base",
      "model_module_version": "1.2.0",
      "model_name": "LayoutModel",
      "state": {}
     },
     "12b0fb8ce7414bad86484b9b38d756e4": {
      "model_module": "@jupyter-widgets/controls",
      "model_module_version": "1.5.0",
      "model_name": "FloatProgressModel",
      "state": {
       "bar_style": "success",
       "layout": "IPY_MODEL_b5ffa1102ad7440eb163d6b15f059ae4",
       "max": 365,
       "style": "IPY_MODEL_73db02d7f466451f8371b4f11ca4dc3a",
       "value": 365
      }
     },
     "12d07ccc1ea54bf5adb552781e2ec781": {
      "model_module": "@jupyter-widgets/base",
      "model_module_version": "1.2.0",
      "model_name": "LayoutModel",
      "state": {}
     },
     "13582ef3b17e44559ade91c2ee9a43b9": {
      "model_module": "@jupyter-widgets/base",
      "model_module_version": "1.2.0",
      "model_name": "LayoutModel",
      "state": {}
     },
     "135c1e70f0024159bac8ff964fbc4a08": {
      "model_module": "@jupyter-widgets/base",
      "model_module_version": "1.2.0",
      "model_name": "LayoutModel",
      "state": {}
     },
     "13ad2c14db9041b694396756d4e4acf8": {
      "model_module": "@jupyter-widgets/base",
      "model_module_version": "1.2.0",
      "model_name": "LayoutModel",
      "state": {}
     },
     "13d5f14710614f9984a81c814db708b8": {
      "model_module": "@jupyter-widgets/base",
      "model_module_version": "1.2.0",
      "model_name": "LayoutModel",
      "state": {}
     },
     "13ddacf4c02340049dc406d5b0f72e84": {
      "model_module": "jupyter-matplotlib",
      "model_module_version": "^0.10.0",
      "model_name": "MPLCanvasModel",
      "state": {
       "_cursor": "default",
       "_figure_label": "Figure 7",
       "_height": 500,
       "_message": "x=2020 y=3.54",
       "_width": 1000,
       "layout": "IPY_MODEL_97933754198541baba1bb5c6e14a36d2",
       "toolbar": "IPY_MODEL_024c85053f284e348a8c49b2c685d8c8",
       "toolbar_position": "left"
      }
     },
     "13eef578b5f645d593f4f01c53715257": {
      "model_module": "jupyter-matplotlib",
      "model_module_version": "^0.10.0",
      "model_name": "ToolbarModel",
      "state": {
       "layout": "IPY_MODEL_1433d599c83443018b680d9e769b7b0e",
       "toolitems": [
        [
         "Home",
         "Reset original view",
         "home",
         "home"
        ],
        [
         "Back",
         "Back to previous view",
         "arrow-left",
         "back"
        ],
        [
         "Forward",
         "Forward to next view",
         "arrow-right",
         "forward"
        ],
        [
         "Pan",
         "Left button pans, Right button zooms\nx/y fixes axis, CTRL fixes aspect",
         "arrows",
         "pan"
        ],
        [
         "Zoom",
         "Zoom to rectangle\nx/y fixes axis, CTRL fixes aspect",
         "square-o",
         "zoom"
        ],
        [
         "Download",
         "Download plot",
         "floppy-o",
         "save_figure"
        ]
       ]
      }
     },
     "1433d599c83443018b680d9e769b7b0e": {
      "model_module": "@jupyter-widgets/base",
      "model_module_version": "1.2.0",
      "model_name": "LayoutModel",
      "state": {}
     },
     "15a39693525c4b40bb3b4a2c5461e2e5": {
      "model_module": "jupyter-matplotlib",
      "model_module_version": "^0.10.0",
      "model_name": "MPLCanvasModel",
      "state": {
       "_cursor": "default",
       "_figure_label": "Figure 45",
       "_height": 500,
       "_width": 1300,
       "layout": "IPY_MODEL_2161a130029b421b824eca70743c50f8",
       "toolbar": "IPY_MODEL_414a7a1b8495419d841ad1479e6a185e",
       "toolbar_position": "left"
      }
     },
     "15b0c5ba461d47188baac88bc0e1ed72": {
      "model_module": "jupyter-matplotlib",
      "model_module_version": "^0.10.0",
      "model_name": "MPLCanvasModel",
      "state": {
       "_cursor": "default",
       "_figure_label": "Figure 44",
       "_height": 500,
       "_message": "x=2025 y=3.278",
       "_width": 1500,
       "layout": "IPY_MODEL_c6c22917069e430d9d6eeaa26b69df1b",
       "toolbar": "IPY_MODEL_1c184e37534647138e2d7a0e31071ab5",
       "toolbar_position": "left"
      }
     },
     "1639e12945af4c739392788c2bc083c3": {
      "model_module": "jupyter-matplotlib",
      "model_module_version": "^0.10.0",
      "model_name": "MPLCanvasModel",
      "state": {
       "_cursor": "default",
       "_figure_label": "Figure 47",
       "_height": 500,
       "_width": 1300,
       "layout": "IPY_MODEL_bc010cd08f46489cb8b0e0745d20e510",
       "toolbar": "IPY_MODEL_b055e193a8494c58bc43227e467159ad",
       "toolbar_position": "left"
      }
     },
     "16d815eab4ec4303bda4c18336e8fd71": {
      "model_module": "jupyter-matplotlib",
      "model_module_version": "^0.10.0",
      "model_name": "MPLCanvasModel",
      "state": {
       "_cursor": "default",
       "_figure_label": "Figure 48",
       "_height": 500,
       "_width": 1300,
       "layout": "IPY_MODEL_8d409fa232c7457a89c8ef28fafceeae",
       "toolbar": "IPY_MODEL_b3e530f78be44402a744a7e5b340f02f",
       "toolbar_position": "left"
      }
     },
     "174526b9472b46698f3e229897913e9e": {
      "model_module": "@jupyter-widgets/base",
      "model_module_version": "1.2.0",
      "model_name": "LayoutModel",
      "state": {}
     },
     "17a0cb60c6db4ca6a13b5359487d4653": {
      "model_module": "@jupyter-widgets/base",
      "model_module_version": "1.2.0",
      "model_name": "LayoutModel",
      "state": {}
     },
     "17e98f758e34480e9a8107b55746f983": {
      "model_module": "@jupyter-widgets/base",
      "model_module_version": "1.2.0",
      "model_name": "LayoutModel",
      "state": {}
     },
     "182c74c4bba54525a6f17ea9062a3059": {
      "model_module": "jupyter-matplotlib",
      "model_module_version": "^0.10.0",
      "model_name": "ToolbarModel",
      "state": {
       "layout": "IPY_MODEL_faa579ceee2d47d9b93c2240dd1d7a58",
       "toolitems": [
        [
         "Home",
         "Reset original view",
         "home",
         "home"
        ],
        [
         "Back",
         "Back to previous view",
         "arrow-left",
         "back"
        ],
        [
         "Forward",
         "Forward to next view",
         "arrow-right",
         "forward"
        ],
        [
         "Pan",
         "Left button pans, Right button zooms\nx/y fixes axis, CTRL fixes aspect",
         "arrows",
         "pan"
        ],
        [
         "Zoom",
         "Zoom to rectangle\nx/y fixes axis, CTRL fixes aspect",
         "square-o",
         "zoom"
        ],
        [
         "Download",
         "Download plot",
         "floppy-o",
         "save_figure"
        ]
       ]
      }
     },
     "185aa1168e4048d9ab87b17d9918aa14": {
      "model_module": "jupyter-matplotlib",
      "model_module_version": "^0.10.0",
      "model_name": "MPLCanvasModel",
      "state": {
       "_cursor": "default",
       "_figure_label": "Figure 51",
       "_height": 500,
       "_width": 1300,
       "layout": "IPY_MODEL_890958e72a7648c9b5bb22d84e15f4b9",
       "toolbar": "IPY_MODEL_4e00e984c5df4ddfa08d7f8a155e7b2d",
       "toolbar_position": "left"
      }
     },
     "18d3c7a2fe11492f9f0e80bbfacac946": {
      "model_module": "@jupyter-widgets/controls",
      "model_module_version": "1.5.0",
      "model_name": "HTMLModel",
      "state": {
       "layout": "IPY_MODEL_44af9907aad14adb968b1be03d6e81c1",
       "style": "IPY_MODEL_74fd6c6bcd7746b287bbe66faf076aac",
       "value": " 10958/? [11:39&lt;00:00, 15.66day/s]"
      }
     },
     "18dea3ad79564d6590c59e32606fe9cf": {
      "model_module": "jupyter-matplotlib",
      "model_module_version": "^0.10.0",
      "model_name": "MPLCanvasModel",
      "state": {
       "_cursor": "default",
       "_figure_label": "Figure 77",
       "_height": 600,
       "_width": 1300,
       "layout": "IPY_MODEL_690e5cef470242f9bba99e96e6aa38e8",
       "toolbar": "IPY_MODEL_9bed0b0630434053b59466d72ea58e3b",
       "toolbar_position": "left"
      }
     },
     "19879a0d125c4971a84f6d3713334f45": {
      "model_module": "@jupyter-widgets/controls",
      "model_module_version": "1.5.0",
      "model_name": "ProgressStyleModel",
      "state": {
       "description_width": ""
      }
     },
     "19cf1a42bfc34f41b1b8088eaa54b2af": {
      "model_module": "@jupyter-widgets/base",
      "model_module_version": "1.2.0",
      "model_name": "LayoutModel",
      "state": {}
     },
     "1a783ea3c9cb473489f2e98d7fa6c9c4": {
      "model_module": "jupyter-matplotlib",
      "model_module_version": "^0.10.0",
      "model_name": "MPLCanvasModel",
      "state": {
       "_cursor": "default",
       "_figure_label": "Figure 71",
       "_height": 500,
       "_image_mode": "diff",
       "_message": "x=2049 y=2.848",
       "_width": 1300,
       "layout": "IPY_MODEL_f2a90b5c3fc0484ab2b057390143bfff",
       "toolbar": "IPY_MODEL_ef7c9eb119a74485a50a5a380581c7e2",
       "toolbar_position": "left"
      }
     },
     "1ac878b53a89442aab876a92ede18f34": {
      "model_module": "@jupyter-widgets/base",
      "model_module_version": "1.2.0",
      "model_name": "LayoutModel",
      "state": {}
     },
     "1c184e37534647138e2d7a0e31071ab5": {
      "model_module": "jupyter-matplotlib",
      "model_module_version": "^0.10.0",
      "model_name": "ToolbarModel",
      "state": {
       "layout": "IPY_MODEL_4dc85c7f09a04ab7bf65c85d134e2e8f",
       "toolitems": [
        [
         "Home",
         "Reset original view",
         "home",
         "home"
        ],
        [
         "Back",
         "Back to previous view",
         "arrow-left",
         "back"
        ],
        [
         "Forward",
         "Forward to next view",
         "arrow-right",
         "forward"
        ],
        [
         "Pan",
         "Left button pans, Right button zooms\nx/y fixes axis, CTRL fixes aspect",
         "arrows",
         "pan"
        ],
        [
         "Zoom",
         "Zoom to rectangle\nx/y fixes axis, CTRL fixes aspect",
         "square-o",
         "zoom"
        ],
        [
         "Download",
         "Download plot",
         "floppy-o",
         "save_figure"
        ]
       ]
      }
     },
     "1c9fefa765ad4b0ebb69b58253134d9d": {
      "model_module": "@jupyter-widgets/base",
      "model_module_version": "1.2.0",
      "model_name": "LayoutModel",
      "state": {}
     },
     "1cad8b08dd6e48839bc201e726795cfc": {
      "model_module": "@jupyter-widgets/base",
      "model_module_version": "1.2.0",
      "model_name": "LayoutModel",
      "state": {}
     },
     "1cd5bbc3ba3e4decb4e3e6a258668501": {
      "model_module": "@jupyter-widgets/base",
      "model_module_version": "1.2.0",
      "model_name": "LayoutModel",
      "state": {}
     },
     "1d668b1d99f94694ba63fd1fbd44b895": {
      "model_module": "@jupyter-widgets/base",
      "model_module_version": "1.2.0",
      "model_name": "LayoutModel",
      "state": {}
     },
     "1dab99ce7ecf4414b2bbec4ddbaa4e48": {
      "model_module": "@jupyter-widgets/controls",
      "model_module_version": "1.5.0",
      "model_name": "HBoxModel",
      "state": {
       "children": [
        "IPY_MODEL_5465b506b26d481a84fac5c725cdf53e",
        "IPY_MODEL_d3c870f766394ee98e645a344216e553",
        "IPY_MODEL_a5c883f186984f78b4ede3a5b3ffbab8"
       ],
       "layout": "IPY_MODEL_e5c90b603cfd4db7865e370ddc67e83a"
      }
     },
     "1deb0935455a45378b59f9f0a16efe43": {
      "model_module": "jupyter-matplotlib",
      "model_module_version": "^0.10.0",
      "model_name": "MPLCanvasModel",
      "state": {
       "_cursor": "default",
       "_figure_label": "Figure 11",
       "_height": 500,
       "_image_mode": "diff",
       "_width": 1000,
       "layout": "IPY_MODEL_fa3be8daf8f8431aa59449fc2e00347f",
       "toolbar": "IPY_MODEL_08c41d45e9a348e091dd43f5dd2bf6ee",
       "toolbar_position": "left"
      }
     },
     "1e0d02fec6784e3d8a51412c822b8a66": {
      "model_module": "jupyter-matplotlib",
      "model_module_version": "^0.10.0",
      "model_name": "MPLCanvasModel",
      "state": {
       "_cursor": "default",
       "_figure_label": "Figure 41",
       "_height": 500,
       "_image_mode": "diff",
       "_width": 1500,
       "layout": "IPY_MODEL_9ea71c0887464cea8bf499b208bfc2b4",
       "toolbar": "IPY_MODEL_a2f8d22458cb43f086222245f231d362",
       "toolbar_position": "left"
      }
     },
     "1e74575a189e4071a4ffd08b18a6f6f6": {
      "model_module": "jupyter-matplotlib",
      "model_module_version": "^0.10.0",
      "model_name": "ToolbarModel",
      "state": {
       "layout": "IPY_MODEL_ee8ab435319140fc9e54463122ad8b3e",
       "toolitems": [
        [
         "Home",
         "Reset original view",
         "home",
         "home"
        ],
        [
         "Back",
         "Back to previous view",
         "arrow-left",
         "back"
        ],
        [
         "Forward",
         "Forward to next view",
         "arrow-right",
         "forward"
        ],
        [
         "Pan",
         "Left button pans, Right button zooms\nx/y fixes axis, CTRL fixes aspect",
         "arrows",
         "pan"
        ],
        [
         "Zoom",
         "Zoom to rectangle\nx/y fixes axis, CTRL fixes aspect",
         "square-o",
         "zoom"
        ],
        [
         "Download",
         "Download plot",
         "floppy-o",
         "save_figure"
        ]
       ]
      }
     },
     "1f66445e055048b59dd5b0cc46352eec": {
      "model_module": "@jupyter-widgets/base",
      "model_module_version": "1.2.0",
      "model_name": "LayoutModel",
      "state": {}
     },
     "1f7d7f3f4ea14756a797045a307406c2": {
      "model_module": "@jupyter-widgets/base",
      "model_module_version": "1.2.0",
      "model_name": "LayoutModel",
      "state": {}
     },
     "1fd4ed0ae84d4f7c8e3c20dc3b43a360": {
      "model_module": "@jupyter-widgets/base",
      "model_module_version": "1.2.0",
      "model_name": "LayoutModel",
      "state": {}
     },
     "2006b5762af44be88e6b49d9fbb39f75": {
      "model_module": "jupyter-matplotlib",
      "model_module_version": "^0.10.0",
      "model_name": "MPLCanvasModel",
      "state": {
       "_figure_label": "Figure 23",
       "_height": 500,
       "_width": 1500,
       "layout": "IPY_MODEL_2323cc194c464aae9e3b1e6191f998f9",
       "toolbar": "IPY_MODEL_f55f2bf7c99c4cadad379256af5819fb",
       "toolbar_position": "left"
      }
     },
     "203b59c7039449a8b71a3d23712ad4d7": {
      "model_module": "jupyter-matplotlib",
      "model_module_version": "^0.10.0",
      "model_name": "MPLCanvasModel",
      "state": {
       "_cursor": "default",
       "_figure_label": "Figure 73",
       "_height": 500,
       "_width": 1300,
       "layout": "IPY_MODEL_2c9e30c138b44b7ea4a4bc78fd8d9f61",
       "toolbar": "IPY_MODEL_99de61216d1249519ee2c92a83dd7f30",
       "toolbar_position": "left"
      }
     },
     "209a2421f8464982b20f2f834737f631": {
      "model_module": "@jupyter-widgets/base",
      "model_module_version": "1.2.0",
      "model_name": "LayoutModel",
      "state": {}
     },
     "2161a130029b421b824eca70743c50f8": {
      "model_module": "@jupyter-widgets/base",
      "model_module_version": "1.2.0",
      "model_name": "LayoutModel",
      "state": {}
     },
     "227695f202554968805c156344f75e47": {
      "model_module": "jupyter-matplotlib",
      "model_module_version": "^0.10.0",
      "model_name": "MPLCanvasModel",
      "state": {
       "_cursor": "default",
       "_figure_label": "Figure 68",
       "_height": 500,
       "_width": 1300,
       "layout": "IPY_MODEL_fdb0d2605fe441a8aa284674eed27a58",
       "toolbar": "IPY_MODEL_bb04943f448c4fea83641ed6e9e43137",
       "toolbar_position": "left"
      }
     },
     "228f9dcb0a564010aca6c51a4929e0f9": {
      "model_module": "@jupyter-widgets/base",
      "model_module_version": "1.2.0",
      "model_name": "LayoutModel",
      "state": {}
     },
     "2323cc194c464aae9e3b1e6191f998f9": {
      "model_module": "@jupyter-widgets/base",
      "model_module_version": "1.2.0",
      "model_name": "LayoutModel",
      "state": {}
     },
     "23277bca1db54caf8116be3244df823f": {
      "model_module": "@jupyter-widgets/base",
      "model_module_version": "1.2.0",
      "model_name": "LayoutModel",
      "state": {}
     },
     "238eb834de2d414083467a1057148dc7": {
      "model_module": "jupyter-matplotlib",
      "model_module_version": "^0.10.0",
      "model_name": "MPLCanvasModel",
      "state": {
       "_cursor": "default",
       "_figure_label": "Figure 36",
       "_height": 500,
       "_image_mode": "diff",
       "_width": 1500,
       "layout": "IPY_MODEL_0e34a378b5804182bd15cd51f82336a2",
       "toolbar": "IPY_MODEL_cb899e5ea4c6406a8dafa099ad0b0404",
       "toolbar_position": "left"
      }
     },
     "245395bc64e1434f80340a5c6f881ed6": {
      "model_module": "jupyter-matplotlib",
      "model_module_version": "^0.10.0",
      "model_name": "MPLCanvasModel",
      "state": {
       "_cursor": "default",
       "_figure_label": "Figure 37",
       "_height": 500,
       "_image_mode": "diff",
       "_width": 1500,
       "layout": "IPY_MODEL_0b4545f8afb44f8aa31d7f2f942f5482",
       "toolbar": "IPY_MODEL_9d49b0f2e4254e6b84d16d329710cfa2",
       "toolbar_position": "left"
      }
     },
     "256904b7461241469230754b72ad9ee0": {
      "model_module": "@jupyter-widgets/base",
      "model_module_version": "1.2.0",
      "model_name": "LayoutModel",
      "state": {}
     },
     "268e34bbffb94494b617b458172eccd9": {
      "model_module": "jupyter-matplotlib",
      "model_module_version": "^0.10.0",
      "model_name": "ToolbarModel",
      "state": {
       "layout": "IPY_MODEL_dc908885950246e0acddd28d0991887f",
       "toolitems": [
        [
         "Home",
         "Reset original view",
         "home",
         "home"
        ],
        [
         "Back",
         "Back to previous view",
         "arrow-left",
         "back"
        ],
        [
         "Forward",
         "Forward to next view",
         "arrow-right",
         "forward"
        ],
        [
         "Pan",
         "Left button pans, Right button zooms\nx/y fixes axis, CTRL fixes aspect",
         "arrows",
         "pan"
        ],
        [
         "Zoom",
         "Zoom to rectangle\nx/y fixes axis, CTRL fixes aspect",
         "square-o",
         "zoom"
        ],
        [
         "Download",
         "Download plot",
         "floppy-o",
         "save_figure"
        ]
       ]
      }
     },
     "26bf08288b5249d5a915d7501f6845a7": {
      "model_module": "jupyter-matplotlib",
      "model_module_version": "^0.10.0",
      "model_name": "ToolbarModel",
      "state": {
       "layout": "IPY_MODEL_3c2563199eb64f378e47388db519dd39",
       "toolitems": [
        [
         "Home",
         "Reset original view",
         "home",
         "home"
        ],
        [
         "Back",
         "Back to previous view",
         "arrow-left",
         "back"
        ],
        [
         "Forward",
         "Forward to next view",
         "arrow-right",
         "forward"
        ],
        [
         "Pan",
         "Left button pans, Right button zooms\nx/y fixes axis, CTRL fixes aspect",
         "arrows",
         "pan"
        ],
        [
         "Zoom",
         "Zoom to rectangle\nx/y fixes axis, CTRL fixes aspect",
         "square-o",
         "zoom"
        ],
        [
         "Download",
         "Download plot",
         "floppy-o",
         "save_figure"
        ]
       ]
      }
     },
     "26eec744feaa4e88b140dd8013aa1d94": {
      "model_module": "@jupyter-widgets/base",
      "model_module_version": "1.2.0",
      "model_name": "LayoutModel",
      "state": {}
     },
     "271913ec7dc34675a4fda35b77c1e84a": {
      "model_module": "@jupyter-widgets/base",
      "model_module_version": "1.2.0",
      "model_name": "LayoutModel",
      "state": {}
     },
     "27cf9214ec114e5cbac6a72b9470437a": {
      "model_module": "@jupyter-widgets/controls",
      "model_module_version": "1.5.0",
      "model_name": "DescriptionStyleModel",
      "state": {
       "description_width": ""
      }
     },
     "28bcc6b09cd446d6847c2b1e16f27b01": {
      "model_module": "@jupyter-widgets/base",
      "model_module_version": "1.2.0",
      "model_name": "LayoutModel",
      "state": {}
     },
     "298afd332d524f66b3e9b0dd90a62e4d": {
      "model_module": "jupyter-matplotlib",
      "model_module_version": "^0.10.0",
      "model_name": "MPLCanvasModel",
      "state": {
       "_cursor": "default",
       "_figure_label": "Figure 50",
       "_height": 500,
       "_width": 1300,
       "layout": "IPY_MODEL_13582ef3b17e44559ade91c2ee9a43b9",
       "toolbar": "IPY_MODEL_182c74c4bba54525a6f17ea9062a3059",
       "toolbar_position": "left"
      }
     },
     "29c9c25d24a14691a6b4420963053c93": {
      "model_module": "@jupyter-widgets/base",
      "model_module_version": "1.2.0",
      "model_name": "LayoutModel",
      "state": {}
     },
     "2a0561ff2bf34b398843fd7f15dd3ad0": {
      "model_module": "@jupyter-widgets/base",
      "model_module_version": "1.2.0",
      "model_name": "LayoutModel",
      "state": {}
     },
     "2a3d37496c5f4e479a9f6bc99ca6e657": {
      "model_module": "jupyter-matplotlib",
      "model_module_version": "^0.10.0",
      "model_name": "MPLCanvasModel",
      "state": {
       "_cursor": "default",
       "_figure_label": "Figure 55",
       "_height": 500,
       "_message": "x=2049 y=3.282",
       "_width": 1300,
       "layout": "IPY_MODEL_a097e3b1688b4c4dbdaa9fef1f8165e7",
       "toolbar": "IPY_MODEL_83016d72887440b7b1a1dbc8e3a7268c",
       "toolbar_position": "left"
      }
     },
     "2a7520ecfdb7418fad57569c97229c6e": {
      "model_module": "jupyter-matplotlib",
      "model_module_version": "^0.10.0",
      "model_name": "MPLCanvasModel",
      "state": {
       "_cursor": "default",
       "_figure_label": "Figure 58",
       "_height": 500,
       "_message": "x=2048 y=2.710",
       "_width": 1300,
       "layout": "IPY_MODEL_f12ea36aeb5f4b11988b320b678293b2",
       "toolbar": "IPY_MODEL_5d4f5bc375a74d47b0f39517bd6b2807",
       "toolbar_position": "left"
      }
     },
     "2a92db0f52944d8c95cf89c0cd622469": {
      "model_module": "@jupyter-widgets/base",
      "model_module_version": "1.2.0",
      "model_name": "LayoutModel",
      "state": {}
     },
     "2bf16adf5d5e4ec9bbf5307b73cae9d2": {
      "model_module": "@jupyter-widgets/base",
      "model_module_version": "1.2.0",
      "model_name": "LayoutModel",
      "state": {}
     },
     "2c812e3d37a841fa9712719f79daf39d": {
      "model_module": "@jupyter-widgets/base",
      "model_module_version": "1.2.0",
      "model_name": "LayoutModel",
      "state": {}
     },
     "2c9e30c138b44b7ea4a4bc78fd8d9f61": {
      "model_module": "@jupyter-widgets/base",
      "model_module_version": "1.2.0",
      "model_name": "LayoutModel",
      "state": {}
     },
     "2ce9f2a936f645d7a9a2ddbfd196a686": {
      "model_module": "jupyter-matplotlib",
      "model_module_version": "^0.10.0",
      "model_name": "MPLCanvasModel",
      "state": {
       "_cursor": "default",
       "_figure_label": "Figure 1",
       "_height": 500,
       "_width": 1500,
       "layout": "IPY_MODEL_4723a8d229904af4ae8dd41ceb92b343",
       "toolbar": "IPY_MODEL_65ad46c99fd04f53a04efbd279ce1287",
       "toolbar_position": "left"
      }
     },
     "2dba1cad54704ad9ae7d35dc76a01806": {
      "model_module": "@jupyter-widgets/controls",
      "model_module_version": "1.5.0",
      "model_name": "HBoxModel",
      "state": {
       "children": [
        "IPY_MODEL_d1da6b45de0f4a13a7f72879974bfefd",
        "IPY_MODEL_0b312a5f8c7e42d9acd2c5992a40006b",
        "IPY_MODEL_18d3c7a2fe11492f9f0e80bbfacac946"
       ],
       "layout": "IPY_MODEL_135c1e70f0024159bac8ff964fbc4a08"
      }
     },
     "2e0d2cb3d10140af8ebf2e1f3528121e": {
      "model_module": "@jupyter-widgets/base",
      "model_module_version": "1.2.0",
      "model_name": "LayoutModel",
      "state": {}
     },
     "2f3076f8f43b47cdbd078e7aada5d1c4": {
      "model_module": "jupyter-matplotlib",
      "model_module_version": "^0.10.0",
      "model_name": "MPLCanvasModel",
      "state": {
       "_cursor": "default",
       "_figure_label": "Figure 24",
       "_height": 500,
       "_image_mode": "diff",
       "_width": 1500,
       "layout": "IPY_MODEL_5e60a86002cc46dab33787c8ddf52c77",
       "toolbar": "IPY_MODEL_dccc95c7cf02456c9e8a4311e7962b6a",
       "toolbar_position": "left"
      }
     },
     "2fa383141a6a4b84900f137e30476c4a": {
      "model_module": "@jupyter-widgets/base",
      "model_module_version": "1.2.0",
      "model_name": "LayoutModel",
      "state": {}
     },
     "30ac108dff524936868a0676bf98dc42": {
      "model_module": "jupyter-matplotlib",
      "model_module_version": "^0.10.0",
      "model_name": "ToolbarModel",
      "state": {
       "layout": "IPY_MODEL_5763407672ee4b16bdf3cb2448ffd4b4",
       "toolitems": [
        [
         "Home",
         "Reset original view",
         "home",
         "home"
        ],
        [
         "Back",
         "Back to previous view",
         "arrow-left",
         "back"
        ],
        [
         "Forward",
         "Forward to next view",
         "arrow-right",
         "forward"
        ],
        [
         "Pan",
         "Left button pans, Right button zooms\nx/y fixes axis, CTRL fixes aspect",
         "arrows",
         "pan"
        ],
        [
         "Zoom",
         "Zoom to rectangle\nx/y fixes axis, CTRL fixes aspect",
         "square-o",
         "zoom"
        ],
        [
         "Download",
         "Download plot",
         "floppy-o",
         "save_figure"
        ]
       ]
      }
     },
     "30d48c0fbca747c5a8547a9f2f5c414d": {
      "model_module": "@jupyter-widgets/base",
      "model_module_version": "1.2.0",
      "model_name": "LayoutModel",
      "state": {}
     },
     "31e7f245b8144ba08ff35c2c54f272bc": {
      "model_module": "@jupyter-widgets/base",
      "model_module_version": "1.2.0",
      "model_name": "LayoutModel",
      "state": {}
     },
     "327e06e681e24fdab9004669baae986f": {
      "model_module": "@jupyter-widgets/controls",
      "model_module_version": "1.5.0",
      "model_name": "DescriptionStyleModel",
      "state": {
       "description_width": ""
      }
     },
     "333e96ceac33472480569cc31ce3a51c": {
      "model_module": "@jupyter-widgets/base",
      "model_module_version": "1.2.0",
      "model_name": "LayoutModel",
      "state": {}
     },
     "33d56d685fcc4bdb998e9d949710cb8f": {
      "model_module": "jupyter-matplotlib",
      "model_module_version": "^0.10.0",
      "model_name": "ToolbarModel",
      "state": {
       "layout": "IPY_MODEL_979c68a27a8f4a01a7262b14c650aa1e",
       "toolitems": [
        [
         "Home",
         "Reset original view",
         "home",
         "home"
        ],
        [
         "Back",
         "Back to previous view",
         "arrow-left",
         "back"
        ],
        [
         "Forward",
         "Forward to next view",
         "arrow-right",
         "forward"
        ],
        [
         "Pan",
         "Left button pans, Right button zooms\nx/y fixes axis, CTRL fixes aspect",
         "arrows",
         "pan"
        ],
        [
         "Zoom",
         "Zoom to rectangle\nx/y fixes axis, CTRL fixes aspect",
         "square-o",
         "zoom"
        ],
        [
         "Download",
         "Download plot",
         "floppy-o",
         "save_figure"
        ]
       ]
      }
     },
     "34d4e25881b04ba088c33ca620b3235b": {
      "model_module": "@jupyter-widgets/base",
      "model_module_version": "1.2.0",
      "model_name": "LayoutModel",
      "state": {}
     },
     "3777aa50afc1408aac1ff2402ed924d5": {
      "model_module": "jupyter-matplotlib",
      "model_module_version": "^0.10.0",
      "model_name": "MPLCanvasModel",
      "state": {
       "_cursor": "default",
       "_figure_label": "Figure 6",
       "_height": 500,
       "_width": 1000,
       "layout": "IPY_MODEL_501922472e6a434cabd6102fddf67004",
       "toolbar": "IPY_MODEL_3feca65487d047e5b01684bcaaab4306",
       "toolbar_position": "left"
      }
     },
     "3c2563199eb64f378e47388db519dd39": {
      "model_module": "@jupyter-widgets/base",
      "model_module_version": "1.2.0",
      "model_name": "LayoutModel",
      "state": {}
     },
     "3cb1ce9667f241d798b16277752e90e8": {
      "model_module": "jupyter-matplotlib",
      "model_module_version": "^0.10.0",
      "model_name": "MPLCanvasModel",
      "state": {
       "_figure_label": "Figure 2",
       "_height": 500,
       "_width": 1000,
       "layout": "IPY_MODEL_a813e20e657a40b78271fe0ce0e3dd70",
       "toolbar": "IPY_MODEL_efc2ef43a35f4b3383639dd56c8d0890",
       "toolbar_position": "left"
      }
     },
     "3cfcde6ec6e7435fb78c53c00996e5bf": {
      "model_module": "@jupyter-widgets/base",
      "model_module_version": "1.2.0",
      "model_name": "LayoutModel",
      "state": {}
     },
     "3d05d049b27c445abeb701eea6aa3306": {
      "model_module": "jupyter-matplotlib",
      "model_module_version": "^0.10.0",
      "model_name": "ToolbarModel",
      "state": {
       "layout": "IPY_MODEL_e010123c77ef4830acba5dd1ace85927",
       "toolitems": [
        [
         "Home",
         "Reset original view",
         "home",
         "home"
        ],
        [
         "Back",
         "Back to previous view",
         "arrow-left",
         "back"
        ],
        [
         "Forward",
         "Forward to next view",
         "arrow-right",
         "forward"
        ],
        [
         "Pan",
         "Left button pans, Right button zooms\nx/y fixes axis, CTRL fixes aspect",
         "arrows",
         "pan"
        ],
        [
         "Zoom",
         "Zoom to rectangle\nx/y fixes axis, CTRL fixes aspect",
         "square-o",
         "zoom"
        ],
        [
         "Download",
         "Download plot",
         "floppy-o",
         "save_figure"
        ]
       ]
      }
     },
     "3dc428dbda5646d49519aec06b0649b4": {
      "model_module": "jupyter-matplotlib",
      "model_module_version": "^0.10.0",
      "model_name": "MPLCanvasModel",
      "state": {
       "_cursor": "default",
       "_figure_label": "Figure 53",
       "_height": 500,
       "_width": 1300,
       "layout": "IPY_MODEL_1cd5bbc3ba3e4decb4e3e6a258668501",
       "toolbar": "IPY_MODEL_bbf5c588e39a47d185fce6033610ff45",
       "toolbar_position": "left"
      }
     },
     "3efc1e705f85472fb7f511d0d33eafc6": {
      "model_module": "@jupyter-widgets/base",
      "model_module_version": "1.2.0",
      "model_name": "LayoutModel",
      "state": {}
     },
     "3feca65487d047e5b01684bcaaab4306": {
      "model_module": "jupyter-matplotlib",
      "model_module_version": "^0.10.0",
      "model_name": "ToolbarModel",
      "state": {
       "layout": "IPY_MODEL_02ef3003dd83452aab4c0f257d4cd20b",
       "toolitems": [
        [
         "Home",
         "Reset original view",
         "home",
         "home"
        ],
        [
         "Back",
         "Back to previous view",
         "arrow-left",
         "back"
        ],
        [
         "Forward",
         "Forward to next view",
         "arrow-right",
         "forward"
        ],
        [
         "Pan",
         "Left button pans, Right button zooms\nx/y fixes axis, CTRL fixes aspect",
         "arrows",
         "pan"
        ],
        [
         "Zoom",
         "Zoom to rectangle\nx/y fixes axis, CTRL fixes aspect",
         "square-o",
         "zoom"
        ],
        [
         "Download",
         "Download plot",
         "floppy-o",
         "save_figure"
        ]
       ]
      }
     },
     "4149646b10dc4052beb2ec120c5b95bc": {
      "model_module": "jupyter-matplotlib",
      "model_module_version": "^0.10.0",
      "model_name": "ToolbarModel",
      "state": {
       "layout": "IPY_MODEL_a1bfaa77a2cb4e2288b34ba9a988dce5",
       "toolitems": [
        [
         "Home",
         "Reset original view",
         "home",
         "home"
        ],
        [
         "Back",
         "Back to previous view",
         "arrow-left",
         "back"
        ],
        [
         "Forward",
         "Forward to next view",
         "arrow-right",
         "forward"
        ],
        [
         "Pan",
         "Left button pans, Right button zooms\nx/y fixes axis, CTRL fixes aspect",
         "arrows",
         "pan"
        ],
        [
         "Zoom",
         "Zoom to rectangle\nx/y fixes axis, CTRL fixes aspect",
         "square-o",
         "zoom"
        ],
        [
         "Download",
         "Download plot",
         "floppy-o",
         "save_figure"
        ]
       ]
      }
     },
     "414a7a1b8495419d841ad1479e6a185e": {
      "model_module": "jupyter-matplotlib",
      "model_module_version": "^0.10.0",
      "model_name": "ToolbarModel",
      "state": {
       "layout": "IPY_MODEL_fe371142cf3b4a0ba06672c555411895",
       "toolitems": [
        [
         "Home",
         "Reset original view",
         "home",
         "home"
        ],
        [
         "Back",
         "Back to previous view",
         "arrow-left",
         "back"
        ],
        [
         "Forward",
         "Forward to next view",
         "arrow-right",
         "forward"
        ],
        [
         "Pan",
         "Left button pans, Right button zooms\nx/y fixes axis, CTRL fixes aspect",
         "arrows",
         "pan"
        ],
        [
         "Zoom",
         "Zoom to rectangle\nx/y fixes axis, CTRL fixes aspect",
         "square-o",
         "zoom"
        ],
        [
         "Download",
         "Download plot",
         "floppy-o",
         "save_figure"
        ]
       ]
      }
     },
     "43228634185f4b3d8222de1955efbac2": {
      "model_module": "jupyter-matplotlib",
      "model_module_version": "^0.10.0",
      "model_name": "ToolbarModel",
      "state": {
       "layout": "IPY_MODEL_209a2421f8464982b20f2f834737f631",
       "toolitems": [
        [
         "Home",
         "Reset original view",
         "home",
         "home"
        ],
        [
         "Back",
         "Back to previous view",
         "arrow-left",
         "back"
        ],
        [
         "Forward",
         "Forward to next view",
         "arrow-right",
         "forward"
        ],
        [
         "Pan",
         "Left button pans, Right button zooms\nx/y fixes axis, CTRL fixes aspect",
         "arrows",
         "pan"
        ],
        [
         "Zoom",
         "Zoom to rectangle\nx/y fixes axis, CTRL fixes aspect",
         "square-o",
         "zoom"
        ],
        [
         "Download",
         "Download plot",
         "floppy-o",
         "save_figure"
        ]
       ]
      }
     },
     "4467c0273fc44e83984a188066fea773": {
      "model_module": "@jupyter-widgets/controls",
      "model_module_version": "1.5.0",
      "model_name": "HTMLModel",
      "state": {
       "layout": "IPY_MODEL_cf86b8bc7e8147e6bf4d95a446b84a58",
       "style": "IPY_MODEL_0418a476aa8b4e968689896da2b39e2a",
       "value": "Progress: "
      }
     },
     "449f5ae503da461ebbbd2db609ebb559": {
      "model_module": "@jupyter-widgets/controls",
      "model_module_version": "1.5.0",
      "model_name": "DescriptionStyleModel",
      "state": {
       "description_width": ""
      }
     },
     "44af9907aad14adb968b1be03d6e81c1": {
      "model_module": "@jupyter-widgets/base",
      "model_module_version": "1.2.0",
      "model_name": "LayoutModel",
      "state": {}
     },
     "44b333e78da9485b98cf4000cdb81195": {
      "model_module": "@jupyter-widgets/base",
      "model_module_version": "1.2.0",
      "model_name": "LayoutModel",
      "state": {}
     },
     "44cfc8c7fd6641eabe22245784019a46": {
      "model_module": "@jupyter-widgets/controls",
      "model_module_version": "1.5.0",
      "model_name": "HTMLModel",
      "state": {
       "layout": "IPY_MODEL_4947a6d6cb604ca6aecc723921ee8973",
       "style": "IPY_MODEL_f1842a1a2a1e47b99bbd4d3d0743cb3a",
       "value": "Progress: "
      }
     },
     "45a378aeb32442fea0c89d89c4e9fead": {
      "model_module": "jupyter-matplotlib",
      "model_module_version": "^0.10.0",
      "model_name": "ToolbarModel",
      "state": {
       "layout": "IPY_MODEL_ead3beb67105493c94c2444f7aa32ab3",
       "toolitems": [
        [
         "Home",
         "Reset original view",
         "home",
         "home"
        ],
        [
         "Back",
         "Back to previous view",
         "arrow-left",
         "back"
        ],
        [
         "Forward",
         "Forward to next view",
         "arrow-right",
         "forward"
        ],
        [
         "Pan",
         "Left button pans, Right button zooms\nx/y fixes axis, CTRL fixes aspect",
         "arrows",
         "pan"
        ],
        [
         "Zoom",
         "Zoom to rectangle\nx/y fixes axis, CTRL fixes aspect",
         "square-o",
         "zoom"
        ],
        [
         "Download",
         "Download plot",
         "floppy-o",
         "save_figure"
        ]
       ]
      }
     },
     "46f55ddeb3e44c49a87536220651c6c5": {
      "model_module": "jupyter-matplotlib",
      "model_module_version": "^0.10.0",
      "model_name": "MPLCanvasModel",
      "state": {
       "_cursor": "default",
       "_figure_label": "Figure 21",
       "_height": 500,
       "_image_mode": "diff",
       "_width": 1500,
       "layout": "IPY_MODEL_1f66445e055048b59dd5b0cc46352eec",
       "toolbar": "IPY_MODEL_b2ad653017f64d3cb063c66293d2c139",
       "toolbar_position": "left"
      }
     },
     "4723a8d229904af4ae8dd41ceb92b343": {
      "model_module": "@jupyter-widgets/base",
      "model_module_version": "1.2.0",
      "model_name": "LayoutModel",
      "state": {}
     },
     "47873137ff9749ae861402da5f288c57": {
      "model_module": "@jupyter-widgets/controls",
      "model_module_version": "1.5.0",
      "model_name": "HTMLModel",
      "state": {
       "layout": "IPY_MODEL_3cfcde6ec6e7435fb78c53c00996e5bf",
       "style": "IPY_MODEL_5bbf4fa37bc54093b5a1a767503920f8",
       "value": " 2192/? [04:03&lt;00:00,  8.99day/s]"
      }
     },
     "493954c892e2427aadce61bfb416b6b6": {
      "model_module": "@jupyter-widgets/base",
      "model_module_version": "1.2.0",
      "model_name": "LayoutModel",
      "state": {}
     },
     "4947a6d6cb604ca6aecc723921ee8973": {
      "model_module": "@jupyter-widgets/base",
      "model_module_version": "1.2.0",
      "model_name": "LayoutModel",
      "state": {}
     },
     "494e134835a846359a1a6a2a818cec9c": {
      "model_module": "jupyter-matplotlib",
      "model_module_version": "^0.10.0",
      "model_name": "MPLCanvasModel",
      "state": {
       "_cursor": "default",
       "_figure_label": "Figure 66",
       "_height": 500,
       "_width": 1300,
       "layout": "IPY_MODEL_be22bdab594142308c8adf12f4c610dd",
       "toolbar": "IPY_MODEL_fabedead8b9d40caa402f0aab4e7c02b",
       "toolbar_position": "left"
      }
     },
     "4983bededa1643aea46aeea706a92bbb": {
      "model_module": "@jupyter-widgets/base",
      "model_module_version": "1.2.0",
      "model_name": "LayoutModel",
      "state": {}
     },
     "4a6084888bb14926a5989ed877df5d32": {
      "model_module": "jupyter-matplotlib",
      "model_module_version": "^0.10.0",
      "model_name": "MPLCanvasModel",
      "state": {
       "_figure_label": "Figure 4",
       "_height": 500,
       "_width": 1000,
       "layout": "IPY_MODEL_9bc64b1a1d2143d691af49a4a815e466",
       "toolbar": "IPY_MODEL_5f98632e518f49aa9e8e969e2761d65e",
       "toolbar_position": "left"
      }
     },
     "4b9d960701be48aa8613a0423601047a": {
      "model_module": "@jupyter-widgets/base",
      "model_module_version": "1.2.0",
      "model_name": "LayoutModel",
      "state": {}
     },
     "4c3d4b4510274ff3ad4c8854adb0bbde": {
      "model_module": "jupyter-matplotlib",
      "model_module_version": "^0.10.0",
      "model_name": "ToolbarModel",
      "state": {
       "layout": "IPY_MODEL_cf5fa92fe6f54c6e9a8f1927e3909280",
       "toolitems": [
        [
         "Home",
         "Reset original view",
         "home",
         "home"
        ],
        [
         "Back",
         "Back to previous view",
         "arrow-left",
         "back"
        ],
        [
         "Forward",
         "Forward to next view",
         "arrow-right",
         "forward"
        ],
        [
         "Pan",
         "Left button pans, Right button zooms\nx/y fixes axis, CTRL fixes aspect",
         "arrows",
         "pan"
        ],
        [
         "Zoom",
         "Zoom to rectangle\nx/y fixes axis, CTRL fixes aspect",
         "square-o",
         "zoom"
        ],
        [
         "Download",
         "Download plot",
         "floppy-o",
         "save_figure"
        ]
       ]
      }
     },
     "4c85629e14214fe6a4e91d927727803d": {
      "model_module": "@jupyter-widgets/base",
      "model_module_version": "1.2.0",
      "model_name": "LayoutModel",
      "state": {}
     },
     "4d4c087dddf2432d906ea570f3de7d05": {
      "model_module": "jupyter-matplotlib",
      "model_module_version": "^0.10.0",
      "model_name": "ToolbarModel",
      "state": {
       "layout": "IPY_MODEL_d1dfe8b36a394f0482b9579399118004",
       "toolitems": [
        [
         "Home",
         "Reset original view",
         "home",
         "home"
        ],
        [
         "Back",
         "Back to previous view",
         "arrow-left",
         "back"
        ],
        [
         "Forward",
         "Forward to next view",
         "arrow-right",
         "forward"
        ],
        [
         "Pan",
         "Left button pans, Right button zooms\nx/y fixes axis, CTRL fixes aspect",
         "arrows",
         "pan"
        ],
        [
         "Zoom",
         "Zoom to rectangle\nx/y fixes axis, CTRL fixes aspect",
         "square-o",
         "zoom"
        ],
        [
         "Download",
         "Download plot",
         "floppy-o",
         "save_figure"
        ]
       ]
      }
     },
     "4d5626a8e13d4de3bca990ffbd87c1e0": {
      "model_module": "@jupyter-widgets/base",
      "model_module_version": "1.2.0",
      "model_name": "LayoutModel",
      "state": {}
     },
     "4d80bc3e127b4b94b1fcdb394f8678c8": {
      "model_module": "@jupyter-widgets/base",
      "model_module_version": "1.2.0",
      "model_name": "LayoutModel",
      "state": {}
     },
     "4d926238f6b2404db93852ab62992656": {
      "model_module": "@jupyter-widgets/controls",
      "model_module_version": "1.5.0",
      "model_name": "DescriptionStyleModel",
      "state": {
       "description_width": ""
      }
     },
     "4dc85c7f09a04ab7bf65c85d134e2e8f": {
      "model_module": "@jupyter-widgets/base",
      "model_module_version": "1.2.0",
      "model_name": "LayoutModel",
      "state": {}
     },
     "4e00e984c5df4ddfa08d7f8a155e7b2d": {
      "model_module": "jupyter-matplotlib",
      "model_module_version": "^0.10.0",
      "model_name": "ToolbarModel",
      "state": {
       "layout": "IPY_MODEL_7f8ce6979e984c7aa2648b975d6b1998",
       "toolitems": [
        [
         "Home",
         "Reset original view",
         "home",
         "home"
        ],
        [
         "Back",
         "Back to previous view",
         "arrow-left",
         "back"
        ],
        [
         "Forward",
         "Forward to next view",
         "arrow-right",
         "forward"
        ],
        [
         "Pan",
         "Left button pans, Right button zooms\nx/y fixes axis, CTRL fixes aspect",
         "arrows",
         "pan"
        ],
        [
         "Zoom",
         "Zoom to rectangle\nx/y fixes axis, CTRL fixes aspect",
         "square-o",
         "zoom"
        ],
        [
         "Download",
         "Download plot",
         "floppy-o",
         "save_figure"
        ]
       ]
      }
     },
     "4f01697a3cd44fa39705234d97bcb365": {
      "model_module": "jupyter-matplotlib",
      "model_module_version": "^0.10.0",
      "model_name": "MPLCanvasModel",
      "state": {
       "_cursor": "default",
       "_figure_label": "Figure 57",
       "_height": 500,
       "_width": 1300,
       "layout": "IPY_MODEL_5464c66c62c3430aa0784459e7f106a8",
       "toolbar": "IPY_MODEL_4149646b10dc4052beb2ec120c5b95bc",
       "toolbar_position": "left"
      }
     },
     "501922472e6a434cabd6102fddf67004": {
      "model_module": "@jupyter-widgets/base",
      "model_module_version": "1.2.0",
      "model_name": "LayoutModel",
      "state": {}
     },
     "51825bb8798c4f1980929ac2128e17cb": {
      "model_module": "@jupyter-widgets/base",
      "model_module_version": "1.2.0",
      "model_name": "LayoutModel",
      "state": {}
     },
     "51b960ae01754ba296a7d90210ab80ec": {
      "model_module": "@jupyter-widgets/base",
      "model_module_version": "1.2.0",
      "model_name": "LayoutModel",
      "state": {}
     },
     "5286d965d23e4fcdb4418e16c0307354": {
      "model_module": "@jupyter-widgets/controls",
      "model_module_version": "1.5.0",
      "model_name": "HTMLModel",
      "state": {
       "layout": "IPY_MODEL_bb676c51f9da4a609c79902ba31fa4fa",
       "style": "IPY_MODEL_27cf9214ec114e5cbac6a72b9470437a",
       "value": " 174/10957 [16:31&lt;17:04:25,  5.70s/day]"
      }
     },
     "529fa205986a451c8108f57a3db727ec": {
      "model_module": "jupyter-matplotlib",
      "model_module_version": "^0.10.0",
      "model_name": "MPLCanvasModel",
      "state": {
       "_cursor": "default",
       "_figure_label": "Figure 22",
       "_height": 500,
       "_image_mode": "diff",
       "_width": 1500,
       "layout": "IPY_MODEL_dc98e41a6f3e449ab0cc8ac663f87d87",
       "toolbar": "IPY_MODEL_0bdcca0b7c984e018c8697044b849cd5",
       "toolbar_position": "left"
      }
     },
     "530214586a59404895c1f9e0d0efc086": {
      "model_module": "@jupyter-widgets/controls",
      "model_module_version": "1.5.0",
      "model_name": "DescriptionStyleModel",
      "state": {
       "description_width": ""
      }
     },
     "5320654cb80144b9b861c6cf99daad7e": {
      "model_module": "@jupyter-widgets/base",
      "model_module_version": "1.2.0",
      "model_name": "LayoutModel",
      "state": {}
     },
     "5464c66c62c3430aa0784459e7f106a8": {
      "model_module": "@jupyter-widgets/base",
      "model_module_version": "1.2.0",
      "model_name": "LayoutModel",
      "state": {}
     },
     "5465b506b26d481a84fac5c725cdf53e": {
      "model_module": "@jupyter-widgets/controls",
      "model_module_version": "1.5.0",
      "model_name": "HTMLModel",
      "state": {
       "layout": "IPY_MODEL_a8937f0088584850954936dfb71c7cc0",
       "style": "IPY_MODEL_7733c70847d546a9bb487688743db767",
       "value": "Progress: "
      }
     },
     "54eca7ec2baf4140bd6c138a68a21280": {
      "model_module": "@jupyter-widgets/base",
      "model_module_version": "1.2.0",
      "model_name": "LayoutModel",
      "state": {}
     },
     "55a7f2dde3e84a3a99218af3396e75f7": {
      "model_module": "@jupyter-widgets/base",
      "model_module_version": "1.2.0",
      "model_name": "LayoutModel",
      "state": {}
     },
     "56c8735526e249a483d73646b789d8e6": {
      "model_module": "jupyter-matplotlib",
      "model_module_version": "^0.10.0",
      "model_name": "MPLCanvasModel",
      "state": {
       "_cursor": "default",
       "_figure_label": "Figure 52",
       "_height": 500,
       "_width": 1300,
       "layout": "IPY_MODEL_b96a3e3a4a524924a7923bf81c53135f",
       "toolbar": "IPY_MODEL_c59e539b4a434b09a23341e462961565",
       "toolbar_position": "left"
      }
     },
     "5763407672ee4b16bdf3cb2448ffd4b4": {
      "model_module": "@jupyter-widgets/base",
      "model_module_version": "1.2.0",
      "model_name": "LayoutModel",
      "state": {}
     },
     "57f6aa37bebf4d42b38e0fee2540f250": {
      "model_module": "@jupyter-widgets/base",
      "model_module_version": "1.2.0",
      "model_name": "LayoutModel",
      "state": {}
     },
     "590cd1e45d9044d4b431f623c3d6cd47": {
      "model_module": "@jupyter-widgets/controls",
      "model_module_version": "1.5.0",
      "model_name": "HTMLModel",
      "state": {
       "layout": "IPY_MODEL_61f91c18c8974c60826da4abc2d95fb1",
       "style": "IPY_MODEL_737d9b214ebf4303b06483c426e6470b",
       "value": " 2192/? [03:35&lt;00:00, 10.19day/s]"
      }
     },
     "59a3204f3fa9418d9f6a50d6708d9172": {
      "model_module": "@jupyter-widgets/base",
      "model_module_version": "1.2.0",
      "model_name": "LayoutModel",
      "state": {}
     },
     "5a0097b92e694fe5bf3586106f03f441": {
      "model_module": "jupyter-matplotlib",
      "model_module_version": "^0.10.0",
      "model_name": "MPLCanvasModel",
      "state": {
       "_cursor": "default",
       "_figure_label": "Figure 17",
       "_height": 500,
       "_image_mode": "diff",
       "_width": 1500,
       "layout": "IPY_MODEL_dbd5ee85d2d145618b9369715ba484b1",
       "toolbar": "IPY_MODEL_0f65935fe745496c9b0cab677ea2ff82",
       "toolbar_position": "left"
      }
     },
     "5abd061caf314f219f48742fac55af7c": {
      "model_module": "jupyter-matplotlib",
      "model_module_version": "^0.10.0",
      "model_name": "MPLCanvasModel",
      "state": {
       "_cursor": "default",
       "_figure_label": "Figure 28",
       "_height": 500,
       "_width": 1500,
       "layout": "IPY_MODEL_44b333e78da9485b98cf4000cdb81195",
       "toolbar": "IPY_MODEL_26bf08288b5249d5a915d7501f6845a7",
       "toolbar_position": "left"
      }
     },
     "5b6cfc54d927461bb237ad75de77ecaa": {
      "model_module": "jupyter-matplotlib",
      "model_module_version": "^0.10.0",
      "model_name": "ToolbarModel",
      "state": {
       "layout": "IPY_MODEL_b2f631ca44d141738219f40c592b1a80",
       "toolitems": [
        [
         "Home",
         "Reset original view",
         "home",
         "home"
        ],
        [
         "Back",
         "Back to previous view",
         "arrow-left",
         "back"
        ],
        [
         "Forward",
         "Forward to next view",
         "arrow-right",
         "forward"
        ],
        [
         "Pan",
         "Left button pans, Right button zooms\nx/y fixes axis, CTRL fixes aspect",
         "arrows",
         "pan"
        ],
        [
         "Zoom",
         "Zoom to rectangle\nx/y fixes axis, CTRL fixes aspect",
         "square-o",
         "zoom"
        ],
        [
         "Download",
         "Download plot",
         "floppy-o",
         "save_figure"
        ]
       ]
      }
     },
     "5b96c9bfbe534cd19e4cd8295ac32bdd": {
      "model_module": "@jupyter-widgets/base",
      "model_module_version": "1.2.0",
      "model_name": "LayoutModel",
      "state": {}
     },
     "5bbf4fa37bc54093b5a1a767503920f8": {
      "model_module": "@jupyter-widgets/controls",
      "model_module_version": "1.5.0",
      "model_name": "DescriptionStyleModel",
      "state": {
       "description_width": ""
      }
     },
     "5bef7abb9ca944e787afb3a21fcfd6a0": {
      "model_module": "jupyter-matplotlib",
      "model_module_version": "^0.10.0",
      "model_name": "ToolbarModel",
      "state": {
       "layout": "IPY_MODEL_4c85629e14214fe6a4e91d927727803d",
       "toolitems": [
        [
         "Home",
         "Reset original view",
         "home",
         "home"
        ],
        [
         "Back",
         "Back to previous view",
         "arrow-left",
         "back"
        ],
        [
         "Forward",
         "Forward to next view",
         "arrow-right",
         "forward"
        ],
        [
         "Pan",
         "Left button pans, Right button zooms\nx/y fixes axis, CTRL fixes aspect",
         "arrows",
         "pan"
        ],
        [
         "Zoom",
         "Zoom to rectangle\nx/y fixes axis, CTRL fixes aspect",
         "square-o",
         "zoom"
        ],
        [
         "Download",
         "Download plot",
         "floppy-o",
         "save_figure"
        ]
       ]
      }
     },
     "5cd246ae61b24f02804f3093cf714cfc": {
      "model_module": "@jupyter-widgets/base",
      "model_module_version": "1.2.0",
      "model_name": "LayoutModel",
      "state": {}
     },
     "5d4f5bc375a74d47b0f39517bd6b2807": {
      "model_module": "jupyter-matplotlib",
      "model_module_version": "^0.10.0",
      "model_name": "ToolbarModel",
      "state": {
       "layout": "IPY_MODEL_1fd4ed0ae84d4f7c8e3c20dc3b43a360",
       "toolitems": [
        [
         "Home",
         "Reset original view",
         "home",
         "home"
        ],
        [
         "Back",
         "Back to previous view",
         "arrow-left",
         "back"
        ],
        [
         "Forward",
         "Forward to next view",
         "arrow-right",
         "forward"
        ],
        [
         "Pan",
         "Left button pans, Right button zooms\nx/y fixes axis, CTRL fixes aspect",
         "arrows",
         "pan"
        ],
        [
         "Zoom",
         "Zoom to rectangle\nx/y fixes axis, CTRL fixes aspect",
         "square-o",
         "zoom"
        ],
        [
         "Download",
         "Download plot",
         "floppy-o",
         "save_figure"
        ]
       ]
      }
     },
     "5e50b447a8f84913a015ebe2cc181c07": {
      "model_module": "@jupyter-widgets/controls",
      "model_module_version": "1.5.0",
      "model_name": "FloatProgressModel",
      "state": {
       "bar_style": "success",
       "layout": "IPY_MODEL_0d6c8664b0504b9699926311526fd8f9",
       "max": 10957,
       "style": "IPY_MODEL_d3b9f71bf4e24efd9a129b3c47b8d1c7",
       "value": 10957
      }
     },
     "5e60a86002cc46dab33787c8ddf52c77": {
      "model_module": "@jupyter-widgets/base",
      "model_module_version": "1.2.0",
      "model_name": "LayoutModel",
      "state": {}
     },
     "5e61587bbc454bd994a90ff1c23a1afe": {
      "model_module": "@jupyter-widgets/controls",
      "model_module_version": "1.5.0",
      "model_name": "ProgressStyleModel",
      "state": {
       "description_width": ""
      }
     },
     "5f23f0e515ed484ab7088cc302199bfe": {
      "model_module": "@jupyter-widgets/base",
      "model_module_version": "1.2.0",
      "model_name": "LayoutModel",
      "state": {}
     },
     "5f5108cc31dc495f8f0583652317b07b": {
      "model_module": "@jupyter-widgets/base",
      "model_module_version": "1.2.0",
      "model_name": "LayoutModel",
      "state": {}
     },
     "5f98632e518f49aa9e8e969e2761d65e": {
      "model_module": "jupyter-matplotlib",
      "model_module_version": "^0.10.0",
      "model_name": "ToolbarModel",
      "state": {
       "layout": "IPY_MODEL_d92d192d7fbb452bbd69de46e3dc0df3",
       "toolitems": [
        [
         "Home",
         "Reset original view",
         "home",
         "home"
        ],
        [
         "Back",
         "Back to previous view",
         "arrow-left",
         "back"
        ],
        [
         "Forward",
         "Forward to next view",
         "arrow-right",
         "forward"
        ],
        [
         "Pan",
         "Left button pans, Right button zooms\nx/y fixes axis, CTRL fixes aspect",
         "arrows",
         "pan"
        ],
        [
         "Zoom",
         "Zoom to rectangle\nx/y fixes axis, CTRL fixes aspect",
         "square-o",
         "zoom"
        ],
        [
         "Download",
         "Download plot",
         "floppy-o",
         "save_figure"
        ]
       ]
      }
     },
     "608016b8d4d240d6a41301bbafa12324": {
      "model_module": "@jupyter-widgets/base",
      "model_module_version": "1.2.0",
      "model_name": "LayoutModel",
      "state": {}
     },
     "614652e2369c41b79959800b901dd8d1": {
      "model_module": "jupyter-matplotlib",
      "model_module_version": "^0.10.0",
      "model_name": "ToolbarModel",
      "state": {
       "layout": "IPY_MODEL_b566662efd9e44538acb92e612d24fa7",
       "toolitems": [
        [
         "Home",
         "Reset original view",
         "home",
         "home"
        ],
        [
         "Back",
         "Back to previous view",
         "arrow-left",
         "back"
        ],
        [
         "Forward",
         "Forward to next view",
         "arrow-right",
         "forward"
        ],
        [
         "Pan",
         "Left button pans, Right button zooms\nx/y fixes axis, CTRL fixes aspect",
         "arrows",
         "pan"
        ],
        [
         "Zoom",
         "Zoom to rectangle\nx/y fixes axis, CTRL fixes aspect",
         "square-o",
         "zoom"
        ],
        [
         "Download",
         "Download plot",
         "floppy-o",
         "save_figure"
        ]
       ]
      }
     },
     "61976ebe97c244a99e2d1e2184b3d3fe": {
      "model_module": "@jupyter-widgets/controls",
      "model_module_version": "1.5.0",
      "model_name": "HTMLModel",
      "state": {
       "layout": "IPY_MODEL_271913ec7dc34675a4fda35b77c1e84a",
       "style": "IPY_MODEL_d1072b22cb2e4db9bffef94578cdb983",
       "value": "Progress:   2%"
      }
     },
     "61f91c18c8974c60826da4abc2d95fb1": {
      "model_module": "@jupyter-widgets/base",
      "model_module_version": "1.2.0",
      "model_name": "LayoutModel",
      "state": {}
     },
     "62965ee20ded400b8dfa0a6d44e693bd": {
      "model_module": "@jupyter-widgets/base",
      "model_module_version": "1.2.0",
      "model_name": "LayoutModel",
      "state": {}
     },
     "63272dc4b0f14b9586977f9c6ba01b1a": {
      "model_module": "@jupyter-widgets/base",
      "model_module_version": "1.2.0",
      "model_name": "LayoutModel",
      "state": {}
     },
     "63878550884047da8ba7cc9901ccd3a5": {
      "model_module": "@jupyter-widgets/base",
      "model_module_version": "1.2.0",
      "model_name": "LayoutModel",
      "state": {}
     },
     "64a49e0398b54e709d444247c6e7ee9e": {
      "model_module": "@jupyter-widgets/controls",
      "model_module_version": "1.5.0",
      "model_name": "ProgressStyleModel",
      "state": {
       "description_width": ""
      }
     },
     "657838d43b054b14803f9c3ee21d55a3": {
      "model_module": "@jupyter-widgets/base",
      "model_module_version": "1.2.0",
      "model_name": "LayoutModel",
      "state": {}
     },
     "6584d9702c5e4a709c9db03bb198c937": {
      "model_module": "jupyter-matplotlib",
      "model_module_version": "^0.10.0",
      "model_name": "MPLCanvasModel",
      "state": {
       "_figure_label": "Figure 5",
       "_height": 500,
       "_width": 1000,
       "layout": "IPY_MODEL_bb1b47ee7fe248719c14ed073c0487a7",
       "toolbar": "IPY_MODEL_cff40ac583814e6396dac9a3b8e37d72",
       "toolbar_position": "left"
      }
     },
     "65ad46c99fd04f53a04efbd279ce1287": {
      "model_module": "jupyter-matplotlib",
      "model_module_version": "^0.10.0",
      "model_name": "ToolbarModel",
      "state": {
       "layout": "IPY_MODEL_1ac878b53a89442aab876a92ede18f34",
       "toolitems": [
        [
         "Home",
         "Reset original view",
         "home",
         "home"
        ],
        [
         "Back",
         "Back to previous view",
         "arrow-left",
         "back"
        ],
        [
         "Forward",
         "Forward to next view",
         "arrow-right",
         "forward"
        ],
        [
         "Pan",
         "Left button pans, Right button zooms\nx/y fixes axis, CTRL fixes aspect",
         "arrows",
         "pan"
        ],
        [
         "Zoom",
         "Zoom to rectangle\nx/y fixes axis, CTRL fixes aspect",
         "square-o",
         "zoom"
        ],
        [
         "Download",
         "Download plot",
         "floppy-o",
         "save_figure"
        ]
       ]
      }
     },
     "663d9a6798af4798aa2b06d96c9842fd": {
      "model_module": "jupyter-matplotlib",
      "model_module_version": "^0.10.0",
      "model_name": "ToolbarModel",
      "state": {
       "layout": "IPY_MODEL_f1538fddabbd4c0d8fb303fae37db24b",
       "toolitems": [
        [
         "Home",
         "Reset original view",
         "home",
         "home"
        ],
        [
         "Back",
         "Back to previous view",
         "arrow-left",
         "back"
        ],
        [
         "Forward",
         "Forward to next view",
         "arrow-right",
         "forward"
        ],
        [
         "Pan",
         "Left button pans, Right button zooms\nx/y fixes axis, CTRL fixes aspect",
         "arrows",
         "pan"
        ],
        [
         "Zoom",
         "Zoom to rectangle\nx/y fixes axis, CTRL fixes aspect",
         "square-o",
         "zoom"
        ],
        [
         "Download",
         "Download plot",
         "floppy-o",
         "save_figure"
        ]
       ]
      }
     },
     "690e5cef470242f9bba99e96e6aa38e8": {
      "model_module": "@jupyter-widgets/base",
      "model_module_version": "1.2.0",
      "model_name": "LayoutModel",
      "state": {}
     },
     "696b590bfd0a4dbf8a20a27cfa695071": {
      "model_module": "@jupyter-widgets/base",
      "model_module_version": "1.2.0",
      "model_name": "LayoutModel",
      "state": {}
     },
     "6a6ff59d30894ab0aa2a7f0abf0490d7": {
      "model_module": "@jupyter-widgets/controls",
      "model_module_version": "1.5.0",
      "model_name": "DescriptionStyleModel",
      "state": {
       "description_width": ""
      }
     },
     "6ab4e7645db64b1cb5cbae9462dd2f85": {
      "model_module": "@jupyter-widgets/base",
      "model_module_version": "1.2.0",
      "model_name": "LayoutModel",
      "state": {}
     },
     "6ac4d56af92f48c09c5093c6f1399cb7": {
      "model_module": "@jupyter-widgets/base",
      "model_module_version": "1.2.0",
      "model_name": "LayoutModel",
      "state": {}
     },
     "6ae5397027864ab1872816657f139f6b": {
      "model_module": "@jupyter-widgets/base",
      "model_module_version": "1.2.0",
      "model_name": "LayoutModel",
      "state": {}
     },
     "6b16ab81bbd8450e84e3a44bf7081756": {
      "model_module": "@jupyter-widgets/base",
      "model_module_version": "1.2.0",
      "model_name": "LayoutModel",
      "state": {}
     },
     "6b7be2e7b48c44c08a97ace08c497e86": {
      "model_module": "@jupyter-widgets/base",
      "model_module_version": "1.2.0",
      "model_name": "LayoutModel",
      "state": {}
     },
     "6ccfc8aae0774452b612ca50cec345e5": {
      "model_module": "jupyter-matplotlib",
      "model_module_version": "^0.10.0",
      "model_name": "MPLCanvasModel",
      "state": {
       "_cursor": "default",
       "_figure_label": "Figure 35",
       "_height": 500,
       "_image_mode": "diff",
       "_width": 1500,
       "layout": "IPY_MODEL_5320654cb80144b9b861c6cf99daad7e",
       "toolbar": "IPY_MODEL_761f639f5a094313a3355d78d6aab995",
       "toolbar_position": "left"
      }
     },
     "6d591a5710d64f1ebd73b9c45c5dea2f": {
      "model_module": "@jupyter-widgets/controls",
      "model_module_version": "1.5.0",
      "model_name": "FloatProgressModel",
      "state": {
       "bar_style": "danger",
       "layout": "IPY_MODEL_021b28d9bc5b42d9a63096c33cfc0d6e",
       "max": 2191,
       "style": "IPY_MODEL_64a49e0398b54e709d444247c6e7ee9e",
       "value": 11
      }
     },
     "6dc7e443f92849a596f8e09bba4cb9a7": {
      "model_module": "@jupyter-widgets/base",
      "model_module_version": "1.2.0",
      "model_name": "LayoutModel",
      "state": {}
     },
     "6dfbad64f708456e804d38cb7d325a13": {
      "model_module": "jupyter-matplotlib",
      "model_module_version": "^0.10.0",
      "model_name": "MPLCanvasModel",
      "state": {
       "_cursor": "default",
       "_figure_label": "Figure 69",
       "_height": 500,
       "_width": 1300,
       "layout": "IPY_MODEL_2c812e3d37a841fa9712719f79daf39d",
       "toolbar": "IPY_MODEL_43228634185f4b3d8222de1955efbac2",
       "toolbar_position": "left"
      }
     },
     "6e28e1973df3480792b9bb9e973d5aef": {
      "model_module": "@jupyter-widgets/base",
      "model_module_version": "1.2.0",
      "model_name": "LayoutModel",
      "state": {}
     },
     "6fac330a9421438cb898ae0de99daa84": {
      "model_module": "@jupyter-widgets/base",
      "model_module_version": "1.2.0",
      "model_name": "LayoutModel",
      "state": {}
     },
     "70bb07655dcc48db945c442237f9336f": {
      "model_module": "@jupyter-widgets/base",
      "model_module_version": "1.2.0",
      "model_name": "LayoutModel",
      "state": {}
     },
     "7275a396a883440d8fe2ebe1effbaed9": {
      "model_module": "jupyter-matplotlib",
      "model_module_version": "^0.10.0",
      "model_name": "ToolbarModel",
      "state": {
       "layout": "IPY_MODEL_6b16ab81bbd8450e84e3a44bf7081756",
       "toolitems": [
        [
         "Home",
         "Reset original view",
         "home",
         "home"
        ],
        [
         "Back",
         "Back to previous view",
         "arrow-left",
         "back"
        ],
        [
         "Forward",
         "Forward to next view",
         "arrow-right",
         "forward"
        ],
        [
         "Pan",
         "Left button pans, Right button zooms\nx/y fixes axis, CTRL fixes aspect",
         "arrows",
         "pan"
        ],
        [
         "Zoom",
         "Zoom to rectangle\nx/y fixes axis, CTRL fixes aspect",
         "square-o",
         "zoom"
        ],
        [
         "Download",
         "Download plot",
         "floppy-o",
         "save_figure"
        ]
       ]
      }
     },
     "72edeb032fc34a22a3cab7af785ee653": {
      "model_module": "jupyter-matplotlib",
      "model_module_version": "^0.10.0",
      "model_name": "MPLCanvasModel",
      "state": {
       "_figure_label": "Figure 13",
       "_height": 500,
       "_width": 1000,
       "layout": "IPY_MODEL_1d668b1d99f94694ba63fd1fbd44b895",
       "toolbar": "IPY_MODEL_94bbbeddd7db460b9b7deadb9c01f8cf",
       "toolbar_position": "left"
      }
     },
     "737d9b214ebf4303b06483c426e6470b": {
      "model_module": "@jupyter-widgets/controls",
      "model_module_version": "1.5.0",
      "model_name": "DescriptionStyleModel",
      "state": {
       "description_width": ""
      }
     },
     "7398ba52254b4686ac6281eb50a30efd": {
      "model_module": "jupyter-matplotlib",
      "model_module_version": "^0.10.0",
      "model_name": "MPLCanvasModel",
      "state": {
       "_cursor": "default",
       "_figure_label": "Figure 43",
       "_height": 500,
       "_image_mode": "diff",
       "_message": "x=2024 y=3.037",
       "_width": 1500,
       "layout": "IPY_MODEL_4d80bc3e127b4b94b1fcdb394f8678c8",
       "toolbar": "IPY_MODEL_663d9a6798af4798aa2b06d96c9842fd",
       "toolbar_position": "left"
      }
     },
     "73db02d7f466451f8371b4f11ca4dc3a": {
      "model_module": "@jupyter-widgets/controls",
      "model_module_version": "1.5.0",
      "model_name": "ProgressStyleModel",
      "state": {
       "description_width": ""
      }
     },
     "74fd6c6bcd7746b287bbe66faf076aac": {
      "model_module": "@jupyter-widgets/controls",
      "model_module_version": "1.5.0",
      "model_name": "DescriptionStyleModel",
      "state": {
       "description_width": ""
      }
     },
     "75d60158df894e90a567a895da0f0ca5": {
      "model_module": "jupyter-matplotlib",
      "model_module_version": "^0.10.0",
      "model_name": "MPLCanvasModel",
      "state": {
       "_cursor": "default",
       "_figure_label": "Figure 32",
       "_height": 500,
       "_width": 1500,
       "layout": "IPY_MODEL_d317c624cf864b64984aa1d0a30326db",
       "toolbar": "IPY_MODEL_a40744844f024cca95cd094eb9c193b9",
       "toolbar_position": "left"
      }
     },
     "75d8ae177c18483fbcd32d0ac90f20f6": {
      "model_module": "@jupyter-widgets/controls",
      "model_module_version": "1.5.0",
      "model_name": "FloatProgressModel",
      "state": {
       "bar_style": "danger",
       "layout": "IPY_MODEL_d1c4505f220644a3aee0d0b0905b3da2",
       "max": 10957,
       "style": "IPY_MODEL_bb91828690e74dd2af53dcc0ed124f51",
       "value": 174
      }
     },
     "761f639f5a094313a3355d78d6aab995": {
      "model_module": "jupyter-matplotlib",
      "model_module_version": "^0.10.0",
      "model_name": "ToolbarModel",
      "state": {
       "layout": "IPY_MODEL_b9d156aaba834d35a842152640ca7230",
       "toolitems": [
        [
         "Home",
         "Reset original view",
         "home",
         "home"
        ],
        [
         "Back",
         "Back to previous view",
         "arrow-left",
         "back"
        ],
        [
         "Forward",
         "Forward to next view",
         "arrow-right",
         "forward"
        ],
        [
         "Pan",
         "Left button pans, Right button zooms\nx/y fixes axis, CTRL fixes aspect",
         "arrows",
         "pan"
        ],
        [
         "Zoom",
         "Zoom to rectangle\nx/y fixes axis, CTRL fixes aspect",
         "square-o",
         "zoom"
        ],
        [
         "Download",
         "Download plot",
         "floppy-o",
         "save_figure"
        ]
       ]
      }
     },
     "7684a2d4b3a44688925e0efe2ce9f306": {
      "model_module": "@jupyter-widgets/base",
      "model_module_version": "1.2.0",
      "model_name": "LayoutModel",
      "state": {}
     },
     "769bb62299ba49949a909cc3e679fe0b": {
      "model_module": "@jupyter-widgets/base",
      "model_module_version": "1.2.0",
      "model_name": "LayoutModel",
      "state": {}
     },
     "769e0df1007e4dd486863ba115969135": {
      "model_module": "jupyter-matplotlib",
      "model_module_version": "^0.10.0",
      "model_name": "MPLCanvasModel",
      "state": {
       "_cursor": "default",
       "_figure_label": "Figure 30",
       "_height": 500,
       "_width": 1500,
       "layout": "IPY_MODEL_30d48c0fbca747c5a8547a9f2f5c414d",
       "toolbar": "IPY_MODEL_acaae5c0d0974ea584034869e1be86ab",
       "toolbar_position": "left"
      }
     },
     "76e78c9a77bb46e092ac9279ea4ef8c4": {
      "model_module": "jupyter-matplotlib",
      "model_module_version": "^0.10.0",
      "model_name": "ToolbarModel",
      "state": {
       "layout": "IPY_MODEL_5cd246ae61b24f02804f3093cf714cfc",
       "toolitems": [
        [
         "Home",
         "Reset original view",
         "home",
         "home"
        ],
        [
         "Back",
         "Back to previous view",
         "arrow-left",
         "back"
        ],
        [
         "Forward",
         "Forward to next view",
         "arrow-right",
         "forward"
        ],
        [
         "Pan",
         "Left button pans, Right button zooms\nx/y fixes axis, CTRL fixes aspect",
         "arrows",
         "pan"
        ],
        [
         "Zoom",
         "Zoom to rectangle\nx/y fixes axis, CTRL fixes aspect",
         "square-o",
         "zoom"
        ],
        [
         "Download",
         "Download plot",
         "floppy-o",
         "save_figure"
        ]
       ]
      }
     },
     "76ec38be8ad74228b47e5b227d3e2f61": {
      "model_module": "@jupyter-widgets/controls",
      "model_module_version": "1.5.0",
      "model_name": "DescriptionStyleModel",
      "state": {
       "description_width": ""
      }
     },
     "7733c70847d546a9bb487688743db767": {
      "model_module": "@jupyter-widgets/controls",
      "model_module_version": "1.5.0",
      "model_name": "DescriptionStyleModel",
      "state": {
       "description_width": ""
      }
     },
     "77941c50c16548e38b7d9310b7428d70": {
      "model_module": "jupyter-matplotlib",
      "model_module_version": "^0.10.0",
      "model_name": "ToolbarModel",
      "state": {
       "layout": "IPY_MODEL_31e7f245b8144ba08ff35c2c54f272bc",
       "toolitems": [
        [
         "Home",
         "Reset original view",
         "home",
         "home"
        ],
        [
         "Back",
         "Back to previous view",
         "arrow-left",
         "back"
        ],
        [
         "Forward",
         "Forward to next view",
         "arrow-right",
         "forward"
        ],
        [
         "Pan",
         "Left button pans, Right button zooms\nx/y fixes axis, CTRL fixes aspect",
         "arrows",
         "pan"
        ],
        [
         "Zoom",
         "Zoom to rectangle\nx/y fixes axis, CTRL fixes aspect",
         "square-o",
         "zoom"
        ],
        [
         "Download",
         "Download plot",
         "floppy-o",
         "save_figure"
        ]
       ]
      }
     },
     "78584b7a48864d6687c0cc0acf29a985": {
      "model_module": "@jupyter-widgets/base",
      "model_module_version": "1.2.0",
      "model_name": "LayoutModel",
      "state": {}
     },
     "788971d080304c3f9f69e3f072c92060": {
      "model_module": "@jupyter-widgets/base",
      "model_module_version": "1.2.0",
      "model_name": "LayoutModel",
      "state": {}
     },
     "7892bfd9562c4bba9a32f393dddf43c2": {
      "model_module": "jupyter-matplotlib",
      "model_module_version": "^0.10.0",
      "model_name": "ToolbarModel",
      "state": {
       "layout": "IPY_MODEL_eb5752895c91494b85919827a02fa318",
       "toolitems": [
        [
         "Home",
         "Reset original view",
         "home",
         "home"
        ],
        [
         "Back",
         "Back to previous view",
         "arrow-left",
         "back"
        ],
        [
         "Forward",
         "Forward to next view",
         "arrow-right",
         "forward"
        ],
        [
         "Pan",
         "Left button pans, Right button zooms\nx/y fixes axis, CTRL fixes aspect",
         "arrows",
         "pan"
        ],
        [
         "Zoom",
         "Zoom to rectangle\nx/y fixes axis, CTRL fixes aspect",
         "square-o",
         "zoom"
        ],
        [
         "Download",
         "Download plot",
         "floppy-o",
         "save_figure"
        ]
       ]
      }
     },
     "792207ba826e4edfa7bc9a8b34c2295f": {
      "model_module": "jupyter-matplotlib",
      "model_module_version": "^0.10.0",
      "model_name": "MPLCanvasModel",
      "state": {
       "_figure_label": "Figure 16",
       "_height": 500,
       "_message": "x=2024 y=0.748",
       "_width": 1500,
       "layout": "IPY_MODEL_9d04a427f236439d82ad47ff52b2364b",
       "toolbar": "IPY_MODEL_cd29df0717e1412ab0a320e1f3527457",
       "toolbar_position": "left"
      }
     },
     "79af9677413c466b91c693d570977bfe": {
      "model_module": "@jupyter-widgets/controls",
      "model_module_version": "1.5.0",
      "model_name": "HTMLModel",
      "state": {
       "layout": "IPY_MODEL_b1c39f84c4c640b490b0fa2622cc35c8",
       "style": "IPY_MODEL_327e06e681e24fdab9004669baae986f",
       "value": " 2192/? [01:40&lt;00:00, 21.85day/s]"
      }
     },
     "7de92cf3baf544c181887b6cf612c8e7": {
      "model_module": "@jupyter-widgets/base",
      "model_module_version": "1.2.0",
      "model_name": "LayoutModel",
      "state": {}
     },
     "7dfc00488eb7472996ba5dd9437214ac": {
      "model_module": "@jupyter-widgets/base",
      "model_module_version": "1.2.0",
      "model_name": "LayoutModel",
      "state": {}
     },
     "7e85ec13d83b4c3a90d8a982950f46c9": {
      "model_module": "@jupyter-widgets/controls",
      "model_module_version": "1.5.0",
      "model_name": "DescriptionStyleModel",
      "state": {
       "description_width": ""
      }
     },
     "7f11432cf35849c29c1b4cb2b19ce433": {
      "model_module": "@jupyter-widgets/controls",
      "model_module_version": "1.5.0",
      "model_name": "HTMLModel",
      "state": {
       "layout": "IPY_MODEL_2e0d2cb3d10140af8ebf2e1f3528121e",
       "style": "IPY_MODEL_df89ebec5b9748c48a290e1643d4d066",
       "value": "Progress: "
      }
     },
     "7f8ce6979e984c7aa2648b975d6b1998": {
      "model_module": "@jupyter-widgets/base",
      "model_module_version": "1.2.0",
      "model_name": "LayoutModel",
      "state": {}
     },
     "7fe9b716533246bfbf4a215a46086776": {
      "model_module": "@jupyter-widgets/base",
      "model_module_version": "1.2.0",
      "model_name": "LayoutModel",
      "state": {}
     },
     "8252635e64e946e9a08b4400d717c1d1": {
      "model_module": "jupyter-matplotlib",
      "model_module_version": "^0.10.0",
      "model_name": "MPLCanvasModel",
      "state": {
       "_cursor": "default",
       "_figure_label": "Figure 3",
       "_height": 500,
       "_image_mode": "diff",
       "_width": 1000,
       "layout": "IPY_MODEL_2bf16adf5d5e4ec9bbf5307b73cae9d2",
       "toolbar": "IPY_MODEL_1e74575a189e4071a4ffd08b18a6f6f6",
       "toolbar_position": "left"
      }
     },
     "83016d72887440b7b1a1dbc8e3a7268c": {
      "model_module": "jupyter-matplotlib",
      "model_module_version": "^0.10.0",
      "model_name": "ToolbarModel",
      "state": {
       "layout": "IPY_MODEL_1c9fefa765ad4b0ebb69b58253134d9d",
       "toolitems": [
        [
         "Home",
         "Reset original view",
         "home",
         "home"
        ],
        [
         "Back",
         "Back to previous view",
         "arrow-left",
         "back"
        ],
        [
         "Forward",
         "Forward to next view",
         "arrow-right",
         "forward"
        ],
        [
         "Pan",
         "Left button pans, Right button zooms\nx/y fixes axis, CTRL fixes aspect",
         "arrows",
         "pan"
        ],
        [
         "Zoom",
         "Zoom to rectangle\nx/y fixes axis, CTRL fixes aspect",
         "square-o",
         "zoom"
        ],
        [
         "Download",
         "Download plot",
         "floppy-o",
         "save_figure"
        ]
       ]
      }
     },
     "83bba8d0d6db4f95b7cc05e438ed3e7e": {
      "model_module": "@jupyter-widgets/base",
      "model_module_version": "1.2.0",
      "model_name": "LayoutModel",
      "state": {}
     },
     "853fca2409c74e9baeeabfed2e919984": {
      "model_module": "jupyter-matplotlib",
      "model_module_version": "^0.10.0",
      "model_name": "ToolbarModel",
      "state": {
       "layout": "IPY_MODEL_fe02e2849a024518a18461f8534c5c78",
       "toolitems": [
        [
         "Home",
         "Reset original view",
         "home",
         "home"
        ],
        [
         "Back",
         "Back to previous view",
         "arrow-left",
         "back"
        ],
        [
         "Forward",
         "Forward to next view",
         "arrow-right",
         "forward"
        ],
        [
         "Pan",
         "Left button pans, Right button zooms\nx/y fixes axis, CTRL fixes aspect",
         "arrows",
         "pan"
        ],
        [
         "Zoom",
         "Zoom to rectangle\nx/y fixes axis, CTRL fixes aspect",
         "square-o",
         "zoom"
        ],
        [
         "Download",
         "Download plot",
         "floppy-o",
         "save_figure"
        ]
       ]
      }
     },
     "854ba010676e49a8a3007fb77395d4ea": {
      "model_module": "jupyter-matplotlib",
      "model_module_version": "^0.10.0",
      "model_name": "ToolbarModel",
      "state": {
       "layout": "IPY_MODEL_6b7be2e7b48c44c08a97ace08c497e86",
       "toolitems": [
        [
         "Home",
         "Reset original view",
         "home",
         "home"
        ],
        [
         "Back",
         "Back to previous view",
         "arrow-left",
         "back"
        ],
        [
         "Forward",
         "Forward to next view",
         "arrow-right",
         "forward"
        ],
        [
         "Pan",
         "Left button pans, Right button zooms\nx/y fixes axis, CTRL fixes aspect",
         "arrows",
         "pan"
        ],
        [
         "Zoom",
         "Zoom to rectangle\nx/y fixes axis, CTRL fixes aspect",
         "square-o",
         "zoom"
        ],
        [
         "Download",
         "Download plot",
         "floppy-o",
         "save_figure"
        ]
       ]
      }
     },
     "87dfda3f9a714e29a229f52f4ae0d8e3": {
      "model_module": "@jupyter-widgets/base",
      "model_module_version": "1.2.0",
      "model_name": "LayoutModel",
      "state": {}
     },
     "88104a5d5544489db7ffa2db45733e94": {
      "model_module": "jupyter-matplotlib",
      "model_module_version": "^0.10.0",
      "model_name": "ToolbarModel",
      "state": {
       "layout": "IPY_MODEL_51825bb8798c4f1980929ac2128e17cb",
       "toolitems": [
        [
         "Home",
         "Reset original view",
         "home",
         "home"
        ],
        [
         "Back",
         "Back to previous view",
         "arrow-left",
         "back"
        ],
        [
         "Forward",
         "Forward to next view",
         "arrow-right",
         "forward"
        ],
        [
         "Pan",
         "Left button pans, Right button zooms\nx/y fixes axis, CTRL fixes aspect",
         "arrows",
         "pan"
        ],
        [
         "Zoom",
         "Zoom to rectangle\nx/y fixes axis, CTRL fixes aspect",
         "square-o",
         "zoom"
        ],
        [
         "Download",
         "Download plot",
         "floppy-o",
         "save_figure"
        ]
       ]
      }
     },
     "890958e72a7648c9b5bb22d84e15f4b9": {
      "model_module": "@jupyter-widgets/base",
      "model_module_version": "1.2.0",
      "model_name": "LayoutModel",
      "state": {}
     },
     "89169b6da6b849a6b698ff8995b36664": {
      "model_module": "@jupyter-widgets/base",
      "model_module_version": "1.2.0",
      "model_name": "LayoutModel",
      "state": {}
     },
     "89e0ea5730c84cbc9149b266cc4e4a5c": {
      "model_module": "jupyter-matplotlib",
      "model_module_version": "^0.10.0",
      "model_name": "MPLCanvasModel",
      "state": {
       "_cursor": "default",
       "_figure_label": "Figure 72",
       "_height": 500,
       "_width": 1300,
       "layout": "IPY_MODEL_e73ab8f8005149659b4f7e1d1a0ddedb",
       "toolbar": "IPY_MODEL_c88839718a814aa0ac4a68c95f9868a0",
       "toolbar_position": "left"
      }
     },
     "8b806faa3b3c436786447e42eaf38b0f": {
      "model_module": "@jupyter-widgets/controls",
      "model_module_version": "1.5.0",
      "model_name": "HTMLModel",
      "state": {
       "layout": "IPY_MODEL_6e28e1973df3480792b9bb9e973d5aef",
       "style": "IPY_MODEL_9a9e0ef8c5b74c33971b5267820d2d76",
       "value": " 11/2191 [05:00&lt;16:31:04, 27.28s/day]"
      }
     },
     "8d409fa232c7457a89c8ef28fafceeae": {
      "model_module": "@jupyter-widgets/base",
      "model_module_version": "1.2.0",
      "model_name": "LayoutModel",
      "state": {}
     },
     "8dc9995b07eb4add9232f42bcc7e72f0": {
      "model_module": "jupyter-matplotlib",
      "model_module_version": "^0.10.0",
      "model_name": "MPLCanvasModel",
      "state": {
       "_cursor": "default",
       "_figure_label": "Figure 27",
       "_height": 500,
       "_width": 1500,
       "layout": "IPY_MODEL_db02b3e0af3f4c838f08f80ebd2b42a5",
       "toolbar": "IPY_MODEL_deb330ae78ac4d9d978a10595e4444d7",
       "toolbar_position": "left"
      }
     },
     "8ebf13abe5b4495a99d58c520e0c0e0a": {
      "model_module": "@jupyter-widgets/controls",
      "model_module_version": "1.5.0",
      "model_name": "FloatProgressModel",
      "state": {
       "bar_style": "success",
       "layout": "IPY_MODEL_17a0cb60c6db4ca6a13b5359487d4653",
       "max": 2191,
       "style": "IPY_MODEL_cd8e6918852e43d484cdd4a62bf421e5",
       "value": 2191
      }
     },
     "8fbb4d86e894405a8dcc612c4ced8ad7": {
      "model_module": "@jupyter-widgets/base",
      "model_module_version": "1.2.0",
      "model_name": "LayoutModel",
      "state": {}
     },
     "905308a8d272442ea499195c6de4cd2a": {
      "model_module": "@jupyter-widgets/base",
      "model_module_version": "1.2.0",
      "model_name": "LayoutModel",
      "state": {}
     },
     "913aa262fd0c478c8ce3e556e189623e": {
      "model_module": "jupyter-matplotlib",
      "model_module_version": "^0.10.0",
      "model_name": "MPLCanvasModel",
      "state": {
       "_cursor": "default",
       "_figure_label": "Figure 64",
       "_height": 500,
       "_width": 1300,
       "layout": "IPY_MODEL_07665910780f4f8a9aca5fbd7d547aad",
       "toolbar": "IPY_MODEL_dbea7079a18a4b98bce469f3ac72318c",
       "toolbar_position": "left"
      }
     },
     "92e7dd2631b249ef839481daead71c34": {
      "model_module": "@jupyter-widgets/base",
      "model_module_version": "1.2.0",
      "model_name": "LayoutModel",
      "state": {}
     },
     "93c1851c6d6a4735868a0becf4b0406a": {
      "model_module": "@jupyter-widgets/controls",
      "model_module_version": "1.5.0",
      "model_name": "DescriptionStyleModel",
      "state": {
       "description_width": ""
      }
     },
     "94bbbeddd7db460b9b7deadb9c01f8cf": {
      "model_module": "jupyter-matplotlib",
      "model_module_version": "^0.10.0",
      "model_name": "ToolbarModel",
      "state": {
       "layout": "IPY_MODEL_7dfc00488eb7472996ba5dd9437214ac",
       "toolitems": [
        [
         "Home",
         "Reset original view",
         "home",
         "home"
        ],
        [
         "Back",
         "Back to previous view",
         "arrow-left",
         "back"
        ],
        [
         "Forward",
         "Forward to next view",
         "arrow-right",
         "forward"
        ],
        [
         "Pan",
         "Left button pans, Right button zooms\nx/y fixes axis, CTRL fixes aspect",
         "arrows",
         "pan"
        ],
        [
         "Zoom",
         "Zoom to rectangle\nx/y fixes axis, CTRL fixes aspect",
         "square-o",
         "zoom"
        ],
        [
         "Download",
         "Download plot",
         "floppy-o",
         "save_figure"
        ]
       ]
      }
     },
     "9699f8fc02704a9eb0e10bcad6aca554": {
      "model_module": "jupyter-matplotlib",
      "model_module_version": "^0.10.0",
      "model_name": "MPLCanvasModel",
      "state": {
       "_cursor": "default",
       "_figure_label": "Figure 62",
       "_height": 500,
       "_image_mode": "diff",
       "_width": 1300,
       "layout": "IPY_MODEL_c468e7b8f3bf4c82b495412745668719",
       "toolbar": "IPY_MODEL_f23dbfe961bf478984f930abb3590f62",
       "toolbar_position": "left"
      }
     },
     "97933754198541baba1bb5c6e14a36d2": {
      "model_module": "@jupyter-widgets/base",
      "model_module_version": "1.2.0",
      "model_name": "LayoutModel",
      "state": {}
     },
     "979c68a27a8f4a01a7262b14c650aa1e": {
      "model_module": "@jupyter-widgets/base",
      "model_module_version": "1.2.0",
      "model_name": "LayoutModel",
      "state": {}
     },
     "99de61216d1249519ee2c92a83dd7f30": {
      "model_module": "jupyter-matplotlib",
      "model_module_version": "^0.10.0",
      "model_name": "ToolbarModel",
      "state": {
       "layout": "IPY_MODEL_333e96ceac33472480569cc31ce3a51c",
       "toolitems": [
        [
         "Home",
         "Reset original view",
         "home",
         "home"
        ],
        [
         "Back",
         "Back to previous view",
         "arrow-left",
         "back"
        ],
        [
         "Forward",
         "Forward to next view",
         "arrow-right",
         "forward"
        ],
        [
         "Pan",
         "Left button pans, Right button zooms\nx/y fixes axis, CTRL fixes aspect",
         "arrows",
         "pan"
        ],
        [
         "Zoom",
         "Zoom to rectangle\nx/y fixes axis, CTRL fixes aspect",
         "square-o",
         "zoom"
        ],
        [
         "Download",
         "Download plot",
         "floppy-o",
         "save_figure"
        ]
       ]
      }
     },
     "99ecca7eb53945998f896ca3ad72dca8": {
      "model_module": "jupyter-matplotlib",
      "model_module_version": "^0.10.0",
      "model_name": "ToolbarModel",
      "state": {
       "layout": "IPY_MODEL_89169b6da6b849a6b698ff8995b36664",
       "toolitems": [
        [
         "Home",
         "Reset original view",
         "home",
         "home"
        ],
        [
         "Back",
         "Back to previous view",
         "arrow-left",
         "back"
        ],
        [
         "Forward",
         "Forward to next view",
         "arrow-right",
         "forward"
        ],
        [
         "Pan",
         "Left button pans, Right button zooms\nx/y fixes axis, CTRL fixes aspect",
         "arrows",
         "pan"
        ],
        [
         "Zoom",
         "Zoom to rectangle\nx/y fixes axis, CTRL fixes aspect",
         "square-o",
         "zoom"
        ],
        [
         "Download",
         "Download plot",
         "floppy-o",
         "save_figure"
        ]
       ]
      }
     },
     "9a0bc62bc2934bf498b8d2552811f19a": {
      "model_module": "@jupyter-widgets/controls",
      "model_module_version": "1.5.0",
      "model_name": "ProgressStyleModel",
      "state": {
       "description_width": ""
      }
     },
     "9a9e0ef8c5b74c33971b5267820d2d76": {
      "model_module": "@jupyter-widgets/controls",
      "model_module_version": "1.5.0",
      "model_name": "DescriptionStyleModel",
      "state": {
       "description_width": ""
      }
     },
     "9ae836383926492c8de88f4f2e55dc33": {
      "model_module": "@jupyter-widgets/base",
      "model_module_version": "1.2.0",
      "model_name": "LayoutModel",
      "state": {}
     },
     "9b01c6a08fed41ae9e762b6d4edd2ce2": {
      "model_module": "jupyter-matplotlib",
      "model_module_version": "^0.10.0",
      "model_name": "MPLCanvasModel",
      "state": {
       "_cursor": "default",
       "_figure_label": "Figure 14",
       "_height": 500,
       "_width": 1500,
       "layout": "IPY_MODEL_23277bca1db54caf8116be3244df823f",
       "toolbar": "IPY_MODEL_268e34bbffb94494b617b458172eccd9",
       "toolbar_position": "left"
      }
     },
     "9bc64b1a1d2143d691af49a4a815e466": {
      "model_module": "@jupyter-widgets/base",
      "model_module_version": "1.2.0",
      "model_name": "LayoutModel",
      "state": {}
     },
     "9bed0b0630434053b59466d72ea58e3b": {
      "model_module": "jupyter-matplotlib",
      "model_module_version": "^0.10.0",
      "model_name": "ToolbarModel",
      "state": {
       "layout": "IPY_MODEL_905308a8d272442ea499195c6de4cd2a",
       "toolitems": [
        [
         "Home",
         "Reset original view",
         "home",
         "home"
        ],
        [
         "Back",
         "Back to previous view",
         "arrow-left",
         "back"
        ],
        [
         "Forward",
         "Forward to next view",
         "arrow-right",
         "forward"
        ],
        [
         "Pan",
         "Left button pans, Right button zooms\nx/y fixes axis, CTRL fixes aspect",
         "arrows",
         "pan"
        ],
        [
         "Zoom",
         "Zoom to rectangle\nx/y fixes axis, CTRL fixes aspect",
         "square-o",
         "zoom"
        ],
        [
         "Download",
         "Download plot",
         "floppy-o",
         "save_figure"
        ]
       ]
      }
     },
     "9c7a82f0f8c94f66837d368f80dc1168": {
      "model_module": "@jupyter-widgets/controls",
      "model_module_version": "1.5.0",
      "model_name": "HBoxModel",
      "state": {
       "children": [
        "IPY_MODEL_61976ebe97c244a99e2d1e2184b3d3fe",
        "IPY_MODEL_75d8ae177c18483fbcd32d0ac90f20f6",
        "IPY_MODEL_5286d965d23e4fcdb4418e16c0307354"
       ],
       "layout": "IPY_MODEL_f8963a64e7b742fdad21dd79a50c508d"
      }
     },
     "9d04a427f236439d82ad47ff52b2364b": {
      "model_module": "@jupyter-widgets/base",
      "model_module_version": "1.2.0",
      "model_name": "LayoutModel",
      "state": {}
     },
     "9d49b0f2e4254e6b84d16d329710cfa2": {
      "model_module": "jupyter-matplotlib",
      "model_module_version": "^0.10.0",
      "model_name": "ToolbarModel",
      "state": {
       "layout": "IPY_MODEL_6dc7e443f92849a596f8e09bba4cb9a7",
       "toolitems": [
        [
         "Home",
         "Reset original view",
         "home",
         "home"
        ],
        [
         "Back",
         "Back to previous view",
         "arrow-left",
         "back"
        ],
        [
         "Forward",
         "Forward to next view",
         "arrow-right",
         "forward"
        ],
        [
         "Pan",
         "Left button pans, Right button zooms\nx/y fixes axis, CTRL fixes aspect",
         "arrows",
         "pan"
        ],
        [
         "Zoom",
         "Zoom to rectangle\nx/y fixes axis, CTRL fixes aspect",
         "square-o",
         "zoom"
        ],
        [
         "Download",
         "Download plot",
         "floppy-o",
         "save_figure"
        ]
       ]
      }
     },
     "9d606dde1bfb458b8547bce50a52ef92": {
      "model_module": "jupyter-matplotlib",
      "model_module_version": "^0.10.0",
      "model_name": "ToolbarModel",
      "state": {
       "layout": "IPY_MODEL_57f6aa37bebf4d42b38e0fee2540f250",
       "toolitems": [
        [
         "Home",
         "Reset original view",
         "home",
         "home"
        ],
        [
         "Back",
         "Back to previous view",
         "arrow-left",
         "back"
        ],
        [
         "Forward",
         "Forward to next view",
         "arrow-right",
         "forward"
        ],
        [
         "Pan",
         "Left button pans, Right button zooms\nx/y fixes axis, CTRL fixes aspect",
         "arrows",
         "pan"
        ],
        [
         "Zoom",
         "Zoom to rectangle\nx/y fixes axis, CTRL fixes aspect",
         "square-o",
         "zoom"
        ],
        [
         "Download",
         "Download plot",
         "floppy-o",
         "save_figure"
        ]
       ]
      }
     },
     "9d6bfeb6007549ed98c8badf128234a6": {
      "model_module": "@jupyter-widgets/controls",
      "model_module_version": "1.5.0",
      "model_name": "HTMLModel",
      "state": {
       "layout": "IPY_MODEL_e708b7c3b01e45f5a6820b33c3081852",
       "style": "IPY_MODEL_0987e2fd90bf4f5eaab4e3de24f60ce9",
       "value": " 10958/? [10:55&lt;00:00, 16.73day/s]"
      }
     },
     "9ea71c0887464cea8bf499b208bfc2b4": {
      "model_module": "@jupyter-widgets/base",
      "model_module_version": "1.2.0",
      "model_name": "LayoutModel",
      "state": {}
     },
     "9ead7b687bfe4315b811ca4e736a619f": {
      "model_module": "@jupyter-widgets/base",
      "model_module_version": "1.2.0",
      "model_name": "LayoutModel",
      "state": {}
     },
     "9f64f3cf7b174f5999ba3e7f09a06d2a": {
      "model_module": "@jupyter-widgets/base",
      "model_module_version": "1.2.0",
      "model_name": "LayoutModel",
      "state": {}
     },
     "9fba5e533da64c2c9269f87687e75e93": {
      "model_module": "@jupyter-widgets/base",
      "model_module_version": "1.2.0",
      "model_name": "LayoutModel",
      "state": {}
     },
     "a0009e7fa12749f1aa7589c2def73066": {
      "model_module": "jupyter-matplotlib",
      "model_module_version": "^0.10.0",
      "model_name": "MPLCanvasModel",
      "state": {
       "_cursor": "default",
       "_figure_label": "Figure 40",
       "_height": 500,
       "_width": 1500,
       "layout": "IPY_MODEL_26eec744feaa4e88b140dd8013aa1d94",
       "toolbar": "IPY_MODEL_f2d90ad9497e4660a815a770bdb9ba9b",
       "toolbar_position": "left"
      }
     },
     "a06ae05e8a154414b395d13a2a64c5e4": {
      "model_module": "jupyter-matplotlib",
      "model_module_version": "^0.10.0",
      "model_name": "MPLCanvasModel",
      "state": {
       "_cursor": "default",
       "_figure_label": "Figure 31",
       "_height": 500,
       "_width": 1500,
       "layout": "IPY_MODEL_045e435c21dc4802a4e37cdfcc6c6647",
       "toolbar": "IPY_MODEL_3d05d049b27c445abeb701eea6aa3306",
       "toolbar_position": "left"
      }
     },
     "a097e3b1688b4c4dbdaa9fef1f8165e7": {
      "model_module": "@jupyter-widgets/base",
      "model_module_version": "1.2.0",
      "model_name": "LayoutModel",
      "state": {}
     },
     "a11b2933716149a8aa5fff83b296f932": {
      "model_module": "jupyter-matplotlib",
      "model_module_version": "^0.10.0",
      "model_name": "MPLCanvasModel",
      "state": {
       "_cursor": "default",
       "_figure_label": "Figure 34",
       "_height": 500,
       "_width": 1500,
       "layout": "IPY_MODEL_cfc8748adde14f5ab68328703aa3d019",
       "toolbar": "IPY_MODEL_5b6cfc54d927461bb237ad75de77ecaa",
       "toolbar_position": "left"
      }
     },
     "a130beca07b245c683e5fd9afc993a51": {
      "model_module": "jupyter-matplotlib",
      "model_module_version": "^0.10.0",
      "model_name": "MPLCanvasModel",
      "state": {
       "_cursor": "default",
       "_figure_label": "Figure 33",
       "_height": 500,
       "_width": 1500,
       "layout": "IPY_MODEL_9fba5e533da64c2c9269f87687e75e93",
       "toolbar": "IPY_MODEL_614652e2369c41b79959800b901dd8d1",
       "toolbar_position": "left"
      }
     },
     "a191d19bf70e447f8b9d03e842db37a6": {
      "model_module": "@jupyter-widgets/base",
      "model_module_version": "1.2.0",
      "model_name": "LayoutModel",
      "state": {}
     },
     "a1bfaa77a2cb4e2288b34ba9a988dce5": {
      "model_module": "@jupyter-widgets/base",
      "model_module_version": "1.2.0",
      "model_name": "LayoutModel",
      "state": {}
     },
     "a2f8d22458cb43f086222245f231d362": {
      "model_module": "jupyter-matplotlib",
      "model_module_version": "^0.10.0",
      "model_name": "ToolbarModel",
      "state": {
       "layout": "IPY_MODEL_83bba8d0d6db4f95b7cc05e438ed3e7e",
       "toolitems": [
        [
         "Home",
         "Reset original view",
         "home",
         "home"
        ],
        [
         "Back",
         "Back to previous view",
         "arrow-left",
         "back"
        ],
        [
         "Forward",
         "Forward to next view",
         "arrow-right",
         "forward"
        ],
        [
         "Pan",
         "Left button pans, Right button zooms\nx/y fixes axis, CTRL fixes aspect",
         "arrows",
         "pan"
        ],
        [
         "Zoom",
         "Zoom to rectangle\nx/y fixes axis, CTRL fixes aspect",
         "square-o",
         "zoom"
        ],
        [
         "Download",
         "Download plot",
         "floppy-o",
         "save_figure"
        ]
       ]
      }
     },
     "a40744844f024cca95cd094eb9c193b9": {
      "model_module": "jupyter-matplotlib",
      "model_module_version": "^0.10.0",
      "model_name": "ToolbarModel",
      "state": {
       "layout": "IPY_MODEL_cf1922dbd360409e808dfbc56d01df0a",
       "toolitems": [
        [
         "Home",
         "Reset original view",
         "home",
         "home"
        ],
        [
         "Back",
         "Back to previous view",
         "arrow-left",
         "back"
        ],
        [
         "Forward",
         "Forward to next view",
         "arrow-right",
         "forward"
        ],
        [
         "Pan",
         "Left button pans, Right button zooms\nx/y fixes axis, CTRL fixes aspect",
         "arrows",
         "pan"
        ],
        [
         "Zoom",
         "Zoom to rectangle\nx/y fixes axis, CTRL fixes aspect",
         "square-o",
         "zoom"
        ],
        [
         "Download",
         "Download plot",
         "floppy-o",
         "save_figure"
        ]
       ]
      }
     },
     "a45d3fa586364897bcd46b35479f0594": {
      "model_module": "@jupyter-widgets/base",
      "model_module_version": "1.2.0",
      "model_name": "LayoutModel",
      "state": {}
     },
     "a46e911d9a6a4712bf7e770b7edd89d5": {
      "model_module": "jupyter-matplotlib",
      "model_module_version": "^0.10.0",
      "model_name": "MPLCanvasModel",
      "state": {
       "_cursor": "default",
       "_figure_label": "Figure 38",
       "_height": 500,
       "_width": 1500,
       "layout": "IPY_MODEL_788971d080304c3f9f69e3f072c92060",
       "toolbar": "IPY_MODEL_bfc4d849d1af483d975b603368f8ba4b",
       "toolbar_position": "left"
      }
     },
     "a5c883f186984f78b4ede3a5b3ffbab8": {
      "model_module": "@jupyter-widgets/controls",
      "model_module_version": "1.5.0",
      "model_name": "HTMLModel",
      "state": {
       "layout": "IPY_MODEL_55a7f2dde3e84a3a99218af3396e75f7",
       "style": "IPY_MODEL_cd541d0e39c04e82ade81473e5789baf",
       "value": " 10958/? [07:21&lt;00:00, 24.80day/s]"
      }
     },
     "a72d469c3b494d7db720b6bcc07074a4": {
      "model_module": "jupyter-matplotlib",
      "model_module_version": "^0.10.0",
      "model_name": "MPLCanvasModel",
      "state": {
       "_cursor": "default",
       "_figure_label": "Figure 65",
       "_height": 500,
       "_width": 1300,
       "layout": "IPY_MODEL_fe6f6e33ffdb48faad112ad7399ffd59",
       "toolbar": "IPY_MODEL_7275a396a883440d8fe2ebe1effbaed9",
       "toolbar_position": "left"
      }
     },
     "a746058e6b9d46aa9774dc125c1a07dc": {
      "model_module": "@jupyter-widgets/base",
      "model_module_version": "1.2.0",
      "model_name": "LayoutModel",
      "state": {}
     },
     "a813e20e657a40b78271fe0ce0e3dd70": {
      "model_module": "@jupyter-widgets/base",
      "model_module_version": "1.2.0",
      "model_name": "LayoutModel",
      "state": {}
     },
     "a84e203023f5455fb337db97bb345cb8": {
      "model_module": "@jupyter-widgets/controls",
      "model_module_version": "1.5.0",
      "model_name": "FloatProgressModel",
      "state": {
       "bar_style": "success",
       "layout": "IPY_MODEL_34d4e25881b04ba088c33ca620b3235b",
       "max": 2191,
       "style": "IPY_MODEL_e368344710544c6aa9111277ea652f39",
       "value": 2191
      }
     },
     "a8937f0088584850954936dfb71c7cc0": {
      "model_module": "@jupyter-widgets/base",
      "model_module_version": "1.2.0",
      "model_name": "LayoutModel",
      "state": {}
     },
     "aaeafc234e854936a9e9c9fcc34284c3": {
      "model_module": "@jupyter-widgets/base",
      "model_module_version": "1.2.0",
      "model_name": "LayoutModel",
      "state": {}
     },
     "aaf6f566180f4440a02d76370f3e42e6": {
      "model_module": "jupyter-matplotlib",
      "model_module_version": "^0.10.0",
      "model_name": "ToolbarModel",
      "state": {
       "layout": "IPY_MODEL_f27e74a1a45e4271a6413e99acef5967",
       "toolitems": [
        [
         "Home",
         "Reset original view",
         "home",
         "home"
        ],
        [
         "Back",
         "Back to previous view",
         "arrow-left",
         "back"
        ],
        [
         "Forward",
         "Forward to next view",
         "arrow-right",
         "forward"
        ],
        [
         "Pan",
         "Left button pans, Right button zooms\nx/y fixes axis, CTRL fixes aspect",
         "arrows",
         "pan"
        ],
        [
         "Zoom",
         "Zoom to rectangle\nx/y fixes axis, CTRL fixes aspect",
         "square-o",
         "zoom"
        ],
        [
         "Download",
         "Download plot",
         "floppy-o",
         "save_figure"
        ]
       ]
      }
     },
     "acaae5c0d0974ea584034869e1be86ab": {
      "model_module": "jupyter-matplotlib",
      "model_module_version": "^0.10.0",
      "model_name": "ToolbarModel",
      "state": {
       "layout": "IPY_MODEL_5b96c9bfbe534cd19e4cd8295ac32bdd",
       "toolitems": [
        [
         "Home",
         "Reset original view",
         "home",
         "home"
        ],
        [
         "Back",
         "Back to previous view",
         "arrow-left",
         "back"
        ],
        [
         "Forward",
         "Forward to next view",
         "arrow-right",
         "forward"
        ],
        [
         "Pan",
         "Left button pans, Right button zooms\nx/y fixes axis, CTRL fixes aspect",
         "arrows",
         "pan"
        ],
        [
         "Zoom",
         "Zoom to rectangle\nx/y fixes axis, CTRL fixes aspect",
         "square-o",
         "zoom"
        ],
        [
         "Download",
         "Download plot",
         "floppy-o",
         "save_figure"
        ]
       ]
      }
     },
     "ad1fc921e2ef423b919343b79cb0b711": {
      "model_module": "@jupyter-widgets/controls",
      "model_module_version": "1.5.0",
      "model_name": "DescriptionStyleModel",
      "state": {
       "description_width": ""
      }
     },
     "ad65be5fea8642f2b41ce8a910800c13": {
      "model_module": "jupyter-matplotlib",
      "model_module_version": "^0.10.0",
      "model_name": "ToolbarModel",
      "state": {
       "layout": "IPY_MODEL_92e7dd2631b249ef839481daead71c34",
       "toolitems": [
        [
         "Home",
         "Reset original view",
         "home",
         "home"
        ],
        [
         "Back",
         "Back to previous view",
         "arrow-left",
         "back"
        ],
        [
         "Forward",
         "Forward to next view",
         "arrow-right",
         "forward"
        ],
        [
         "Pan",
         "Left button pans, Right button zooms\nx/y fixes axis, CTRL fixes aspect",
         "arrows",
         "pan"
        ],
        [
         "Zoom",
         "Zoom to rectangle\nx/y fixes axis, CTRL fixes aspect",
         "square-o",
         "zoom"
        ],
        [
         "Download",
         "Download plot",
         "floppy-o",
         "save_figure"
        ]
       ]
      }
     },
     "add59352db624427bf82b3bd138dbf30": {
      "model_module": "@jupyter-widgets/controls",
      "model_module_version": "1.5.0",
      "model_name": "HTMLModel",
      "state": {
       "layout": "IPY_MODEL_59a3204f3fa9418d9f6a50d6708d9172",
       "style": "IPY_MODEL_449f5ae503da461ebbbd2db609ebb559",
       "value": "Progress: "
      }
     },
     "ae19628797e4464e9f0b17f6d8470ff6": {
      "model_module": "jupyter-matplotlib",
      "model_module_version": "^0.10.0",
      "model_name": "MPLCanvasModel",
      "state": {
       "_cursor": "default",
       "_figure_label": "Figure 25",
       "_height": 500,
       "_width": 1500,
       "layout": "IPY_MODEL_9f64f3cf7b174f5999ba3e7f09a06d2a",
       "toolbar": "IPY_MODEL_88104a5d5544489db7ffa2db45733e94",
       "toolbar_position": "left"
      }
     },
     "aec4b00f8c26428491098017ede0f586": {
      "model_module": "jupyter-matplotlib",
      "model_module_version": "^0.10.0",
      "model_name": "MPLCanvasModel",
      "state": {
       "_cursor": "default",
       "_figure_label": "Figure 60",
       "_height": 500,
       "_image_mode": "diff",
       "_width": 1300,
       "layout": "IPY_MODEL_5f5108cc31dc495f8f0583652317b07b",
       "toolbar": "IPY_MODEL_5bef7abb9ca944e787afb3a21fcfd6a0",
       "toolbar_position": "left"
      }
     },
     "af7e538a8d114e5ea65a11d13e4277ed": {
      "model_module": "@jupyter-widgets/controls",
      "model_module_version": "1.5.0",
      "model_name": "FloatProgressModel",
      "state": {
       "bar_style": "success",
       "layout": "IPY_MODEL_d58f3c90c61d491089484876e417b9f1",
       "max": 10957,
       "style": "IPY_MODEL_05d336e412ab4ca0bdf8186443adc255",
       "value": 10957
      }
     },
     "b0433384509340aa8da7a0affd1a15aa": {
      "model_module": "@jupyter-widgets/controls",
      "model_module_version": "1.5.0",
      "model_name": "HBoxModel",
      "state": {
       "children": [
        "IPY_MODEL_b071e2ca592d4d7fad43ac32b80c2677",
        "IPY_MODEL_6d591a5710d64f1ebd73b9c45c5dea2f",
        "IPY_MODEL_8b806faa3b3c436786447e42eaf38b0f"
       ],
       "layout": "IPY_MODEL_6ac4d56af92f48c09c5093c6f1399cb7"
      }
     },
     "b055e193a8494c58bc43227e467159ad": {
      "model_module": "jupyter-matplotlib",
      "model_module_version": "^0.10.0",
      "model_name": "ToolbarModel",
      "state": {
       "layout": "IPY_MODEL_256904b7461241469230754b72ad9ee0",
       "toolitems": [
        [
         "Home",
         "Reset original view",
         "home",
         "home"
        ],
        [
         "Back",
         "Back to previous view",
         "arrow-left",
         "back"
        ],
        [
         "Forward",
         "Forward to next view",
         "arrow-right",
         "forward"
        ],
        [
         "Pan",
         "Left button pans, Right button zooms\nx/y fixes axis, CTRL fixes aspect",
         "arrows",
         "pan"
        ],
        [
         "Zoom",
         "Zoom to rectangle\nx/y fixes axis, CTRL fixes aspect",
         "square-o",
         "zoom"
        ],
        [
         "Download",
         "Download plot",
         "floppy-o",
         "save_figure"
        ]
       ]
      }
     },
     "b071e2ca592d4d7fad43ac32b80c2677": {
      "model_module": "@jupyter-widgets/controls",
      "model_module_version": "1.5.0",
      "model_name": "HTMLModel",
      "state": {
       "layout": "IPY_MODEL_bcf7e77184614a44bae56e2fca525946",
       "style": "IPY_MODEL_103d9a09dc7e4ba883b8cdf444bbe8bd",
       "value": "Progress:   1%"
      }
     },
     "b1391cc7009849508b9dca113e1d59e9": {
      "model_module": "jupyter-matplotlib",
      "model_module_version": "^0.10.0",
      "model_name": "MPLCanvasModel",
      "state": {
       "_cursor": "default",
       "_figure_label": "Figure 56",
       "_height": 500,
       "_width": 1300,
       "layout": "IPY_MODEL_17e98f758e34480e9a8107b55746f983",
       "toolbar": "IPY_MODEL_b988495f63bf4805a66813a7192dc66b",
       "toolbar_position": "left"
      }
     },
     "b1c39f84c4c640b490b0fa2622cc35c8": {
      "model_module": "@jupyter-widgets/base",
      "model_module_version": "1.2.0",
      "model_name": "LayoutModel",
      "state": {}
     },
     "b2ad653017f64d3cb063c66293d2c139": {
      "model_module": "jupyter-matplotlib",
      "model_module_version": "^0.10.0",
      "model_name": "ToolbarModel",
      "state": {
       "layout": "IPY_MODEL_12d07ccc1ea54bf5adb552781e2ec781",
       "toolitems": [
        [
         "Home",
         "Reset original view",
         "home",
         "home"
        ],
        [
         "Back",
         "Back to previous view",
         "arrow-left",
         "back"
        ],
        [
         "Forward",
         "Forward to next view",
         "arrow-right",
         "forward"
        ],
        [
         "Pan",
         "Left button pans, Right button zooms\nx/y fixes axis, CTRL fixes aspect",
         "arrows",
         "pan"
        ],
        [
         "Zoom",
         "Zoom to rectangle\nx/y fixes axis, CTRL fixes aspect",
         "square-o",
         "zoom"
        ],
        [
         "Download",
         "Download plot",
         "floppy-o",
         "save_figure"
        ]
       ]
      }
     },
     "b2f631ca44d141738219f40c592b1a80": {
      "model_module": "@jupyter-widgets/base",
      "model_module_version": "1.2.0",
      "model_name": "LayoutModel",
      "state": {}
     },
     "b3463a72ed5c4bae828853c2fca397fd": {
      "model_module": "@jupyter-widgets/base",
      "model_module_version": "1.2.0",
      "model_name": "LayoutModel",
      "state": {}
     },
     "b3e530f78be44402a744a7e5b340f02f": {
      "model_module": "jupyter-matplotlib",
      "model_module_version": "^0.10.0",
      "model_name": "ToolbarModel",
      "state": {
       "layout": "IPY_MODEL_87dfda3f9a714e29a229f52f4ae0d8e3",
       "toolitems": [
        [
         "Home",
         "Reset original view",
         "home",
         "home"
        ],
        [
         "Back",
         "Back to previous view",
         "arrow-left",
         "back"
        ],
        [
         "Forward",
         "Forward to next view",
         "arrow-right",
         "forward"
        ],
        [
         "Pan",
         "Left button pans, Right button zooms\nx/y fixes axis, CTRL fixes aspect",
         "arrows",
         "pan"
        ],
        [
         "Zoom",
         "Zoom to rectangle\nx/y fixes axis, CTRL fixes aspect",
         "square-o",
         "zoom"
        ],
        [
         "Download",
         "Download plot",
         "floppy-o",
         "save_figure"
        ]
       ]
      }
     },
     "b566662efd9e44538acb92e612d24fa7": {
      "model_module": "@jupyter-widgets/base",
      "model_module_version": "1.2.0",
      "model_name": "LayoutModel",
      "state": {}
     },
     "b57d7820df4c44a1ad7dd52136d1295e": {
      "model_module": "jupyter-matplotlib",
      "model_module_version": "^0.10.0",
      "model_name": "MPLCanvasModel",
      "state": {
       "_cursor": "default",
       "_figure_label": "Figure 54",
       "_height": 500,
       "_image_mode": "diff",
       "_width": 1300,
       "layout": "IPY_MODEL_e36352fa5dda4357a9275551374faf83",
       "toolbar": "IPY_MODEL_d18b22889d9b4ee1a53a1c558b641148",
       "toolbar_position": "left"
      }
     },
     "b5ffa1102ad7440eb163d6b15f059ae4": {
      "model_module": "@jupyter-widgets/base",
      "model_module_version": "1.2.0",
      "model_name": "LayoutModel",
      "state": {}
     },
     "b6f0e39964f1425faa04568b974025d6": {
      "model_module": "jupyter-matplotlib",
      "model_module_version": "^0.10.0",
      "model_name": "MPLCanvasModel",
      "state": {
       "_cursor": "default",
       "_figure_label": "Figure 18",
       "_height": 500,
       "_width": 1500,
       "layout": "IPY_MODEL_053203a41d204675aaaf0f2b795e63a9",
       "toolbar": "IPY_MODEL_99ecca7eb53945998f896ca3ad72dca8",
       "toolbar_position": "left"
      }
     },
     "b96a3e3a4a524924a7923bf81c53135f": {
      "model_module": "@jupyter-widgets/base",
      "model_module_version": "1.2.0",
      "model_name": "LayoutModel",
      "state": {}
     },
     "b988495f63bf4805a66813a7192dc66b": {
      "model_module": "jupyter-matplotlib",
      "model_module_version": "^0.10.0",
      "model_name": "ToolbarModel",
      "state": {
       "layout": "IPY_MODEL_0d8db981862c4ddc830cfccc0a430392",
       "toolitems": [
        [
         "Home",
         "Reset original view",
         "home",
         "home"
        ],
        [
         "Back",
         "Back to previous view",
         "arrow-left",
         "back"
        ],
        [
         "Forward",
         "Forward to next view",
         "arrow-right",
         "forward"
        ],
        [
         "Pan",
         "Left button pans, Right button zooms\nx/y fixes axis, CTRL fixes aspect",
         "arrows",
         "pan"
        ],
        [
         "Zoom",
         "Zoom to rectangle\nx/y fixes axis, CTRL fixes aspect",
         "square-o",
         "zoom"
        ],
        [
         "Download",
         "Download plot",
         "floppy-o",
         "save_figure"
        ]
       ]
      }
     },
     "b9d156aaba834d35a842152640ca7230": {
      "model_module": "@jupyter-widgets/base",
      "model_module_version": "1.2.0",
      "model_name": "LayoutModel",
      "state": {}
     },
     "bb04943f448c4fea83641ed6e9e43137": {
      "model_module": "jupyter-matplotlib",
      "model_module_version": "^0.10.0",
      "model_name": "ToolbarModel",
      "state": {
       "layout": "IPY_MODEL_2a92db0f52944d8c95cf89c0cd622469",
       "toolitems": [
        [
         "Home",
         "Reset original view",
         "home",
         "home"
        ],
        [
         "Back",
         "Back to previous view",
         "arrow-left",
         "back"
        ],
        [
         "Forward",
         "Forward to next view",
         "arrow-right",
         "forward"
        ],
        [
         "Pan",
         "Left button pans, Right button zooms\nx/y fixes axis, CTRL fixes aspect",
         "arrows",
         "pan"
        ],
        [
         "Zoom",
         "Zoom to rectangle\nx/y fixes axis, CTRL fixes aspect",
         "square-o",
         "zoom"
        ],
        [
         "Download",
         "Download plot",
         "floppy-o",
         "save_figure"
        ]
       ]
      }
     },
     "bb1b47ee7fe248719c14ed073c0487a7": {
      "model_module": "@jupyter-widgets/base",
      "model_module_version": "1.2.0",
      "model_name": "LayoutModel",
      "state": {}
     },
     "bb676c51f9da4a609c79902ba31fa4fa": {
      "model_module": "@jupyter-widgets/base",
      "model_module_version": "1.2.0",
      "model_name": "LayoutModel",
      "state": {}
     },
     "bb91828690e74dd2af53dcc0ed124f51": {
      "model_module": "@jupyter-widgets/controls",
      "model_module_version": "1.5.0",
      "model_name": "ProgressStyleModel",
      "state": {
       "description_width": ""
      }
     },
     "bbf5c588e39a47d185fce6033610ff45": {
      "model_module": "jupyter-matplotlib",
      "model_module_version": "^0.10.0",
      "model_name": "ToolbarModel",
      "state": {
       "layout": "IPY_MODEL_df30bf7bd8ff49b2b0aec591c26c37d4",
       "toolitems": [
        [
         "Home",
         "Reset original view",
         "home",
         "home"
        ],
        [
         "Back",
         "Back to previous view",
         "arrow-left",
         "back"
        ],
        [
         "Forward",
         "Forward to next view",
         "arrow-right",
         "forward"
        ],
        [
         "Pan",
         "Left button pans, Right button zooms\nx/y fixes axis, CTRL fixes aspect",
         "arrows",
         "pan"
        ],
        [
         "Zoom",
         "Zoom to rectangle\nx/y fixes axis, CTRL fixes aspect",
         "square-o",
         "zoom"
        ],
        [
         "Download",
         "Download plot",
         "floppy-o",
         "save_figure"
        ]
       ]
      }
     },
     "bc010cd08f46489cb8b0e0745d20e510": {
      "model_module": "@jupyter-widgets/base",
      "model_module_version": "1.2.0",
      "model_name": "LayoutModel",
      "state": {}
     },
     "bc35b66f666a4598a626b816384b84a5": {
      "model_module": "@jupyter-widgets/base",
      "model_module_version": "1.2.0",
      "model_name": "LayoutModel",
      "state": {}
     },
     "bcaf62d2093449979697ab5ce5f2f172": {
      "model_module": "@jupyter-widgets/base",
      "model_module_version": "1.2.0",
      "model_name": "LayoutModel",
      "state": {}
     },
     "bcf1b30f035346f4a1d56831cba81053": {
      "model_module": "@jupyter-widgets/base",
      "model_module_version": "1.2.0",
      "model_name": "LayoutModel",
      "state": {}
     },
     "bcf7e77184614a44bae56e2fca525946": {
      "model_module": "@jupyter-widgets/base",
      "model_module_version": "1.2.0",
      "model_name": "LayoutModel",
      "state": {}
     },
     "bd3424c01ed24a5eacc16d8623646345": {
      "model_module": "jupyter-matplotlib",
      "model_module_version": "^0.10.0",
      "model_name": "MPLCanvasModel",
      "state": {
       "_cursor": "default",
       "_figure_label": "Figure 70",
       "_height": 500,
       "_width": 1300,
       "layout": "IPY_MODEL_dd621643f905429881dd53950468b130",
       "toolbar": "IPY_MODEL_c63b03ba275d4e26b18860b0673b4fd2",
       "toolbar_position": "left"
      }
     },
     "be22bdab594142308c8adf12f4c610dd": {
      "model_module": "@jupyter-widgets/base",
      "model_module_version": "1.2.0",
      "model_name": "LayoutModel",
      "state": {}
     },
     "bfc4d849d1af483d975b603368f8ba4b": {
      "model_module": "jupyter-matplotlib",
      "model_module_version": "^0.10.0",
      "model_name": "ToolbarModel",
      "state": {
       "layout": "IPY_MODEL_f6fe352de9a84451908879767acd453c",
       "toolitems": [
        [
         "Home",
         "Reset original view",
         "home",
         "home"
        ],
        [
         "Back",
         "Back to previous view",
         "arrow-left",
         "back"
        ],
        [
         "Forward",
         "Forward to next view",
         "arrow-right",
         "forward"
        ],
        [
         "Pan",
         "Left button pans, Right button zooms\nx/y fixes axis, CTRL fixes aspect",
         "arrows",
         "pan"
        ],
        [
         "Zoom",
         "Zoom to rectangle\nx/y fixes axis, CTRL fixes aspect",
         "square-o",
         "zoom"
        ],
        [
         "Download",
         "Download plot",
         "floppy-o",
         "save_figure"
        ]
       ]
      }
     },
     "c29c09a34996456f8c83b649a5b206d0": {
      "model_module": "jupyter-matplotlib",
      "model_module_version": "^0.10.0",
      "model_name": "ToolbarModel",
      "state": {
       "layout": "IPY_MODEL_f960cef52f3b42cea126f683a83ddcbb",
       "toolitems": [
        [
         "Home",
         "Reset original view",
         "home",
         "home"
        ],
        [
         "Back",
         "Back to previous view",
         "arrow-left",
         "back"
        ],
        [
         "Forward",
         "Forward to next view",
         "arrow-right",
         "forward"
        ],
        [
         "Pan",
         "Left button pans, Right button zooms\nx/y fixes axis, CTRL fixes aspect",
         "arrows",
         "pan"
        ],
        [
         "Zoom",
         "Zoom to rectangle\nx/y fixes axis, CTRL fixes aspect",
         "square-o",
         "zoom"
        ],
        [
         "Download",
         "Download plot",
         "floppy-o",
         "save_figure"
        ]
       ]
      }
     },
     "c2abc30ab0f34ac0a5e69c9de83575d6": {
      "model_module": "jupyter-matplotlib",
      "model_module_version": "^0.10.0",
      "model_name": "MPLCanvasModel",
      "state": {
       "_cursor": "default",
       "_figure_label": "Figure 59",
       "_height": 500,
       "_image_mode": "diff",
       "_message": "x=2026 y=3.224",
       "_width": 1300,
       "layout": "IPY_MODEL_dfcc5b23e30247e8aa3d6e58de4dfb90",
       "toolbar": "IPY_MODEL_ad65be5fea8642f2b41ce8a910800c13",
       "toolbar_position": "left"
      }
     },
     "c37969bd40084f5c92550387a07635c0": {
      "model_module": "@jupyter-widgets/controls",
      "model_module_version": "1.5.0",
      "model_name": "HBoxModel",
      "state": {
       "children": [
        "IPY_MODEL_add59352db624427bf82b3bd138dbf30",
        "IPY_MODEL_12b0fb8ce7414bad86484b9b38d756e4",
        "IPY_MODEL_0bdf6d6130b6431691a3862bb8d7f89f"
       ],
       "layout": "IPY_MODEL_7fe9b716533246bfbf4a215a46086776"
      }
     },
     "c3b4bb7ec7604dd8a41dd8f87517dea5": {
      "model_module": "jupyter-matplotlib",
      "model_module_version": "^0.10.0",
      "model_name": "ToolbarModel",
      "state": {
       "layout": "IPY_MODEL_29c9c25d24a14691a6b4420963053c93",
       "toolitems": [
        [
         "Home",
         "Reset original view",
         "home",
         "home"
        ],
        [
         "Back",
         "Back to previous view",
         "arrow-left",
         "back"
        ],
        [
         "Forward",
         "Forward to next view",
         "arrow-right",
         "forward"
        ],
        [
         "Pan",
         "Left button pans, Right button zooms\nx/y fixes axis, CTRL fixes aspect",
         "arrows",
         "pan"
        ],
        [
         "Zoom",
         "Zoom to rectangle\nx/y fixes axis, CTRL fixes aspect",
         "square-o",
         "zoom"
        ],
        [
         "Download",
         "Download plot",
         "floppy-o",
         "save_figure"
        ]
       ]
      }
     },
     "c40e728412e84173874a290234ec9e5b": {
      "model_module": "@jupyter-widgets/controls",
      "model_module_version": "1.5.0",
      "model_name": "HTMLModel",
      "state": {
       "layout": "IPY_MODEL_d9f91da0d15d4a8b8b2845ba362724b6",
       "style": "IPY_MODEL_4d926238f6b2404db93852ab62992656",
       "value": "Progress: "
      }
     },
     "c468e7b8f3bf4c82b495412745668719": {
      "model_module": "@jupyter-widgets/base",
      "model_module_version": "1.2.0",
      "model_name": "LayoutModel",
      "state": {}
     },
     "c46f4d503d664fc79f127c2e1faefccb": {
      "model_module": "jupyter-matplotlib",
      "model_module_version": "^0.10.0",
      "model_name": "MPLCanvasModel",
      "state": {
       "_cursor": "default",
       "_figure_label": "Figure 15",
       "_height": 500,
       "_image_mode": "diff",
       "_width": 1500,
       "layout": "IPY_MODEL_54eca7ec2baf4140bd6c138a68a21280",
       "toolbar": "IPY_MODEL_4d4c087dddf2432d906ea570f3de7d05",
       "toolbar_position": "left"
      }
     },
     "c48b9a6a367340e18df7bf57e83bb4c6": {
      "model_module": "jupyter-matplotlib",
      "model_module_version": "^0.10.0",
      "model_name": "ToolbarModel",
      "state": {
       "layout": "IPY_MODEL_70bb07655dcc48db945c442237f9336f",
       "toolitems": [
        [
         "Home",
         "Reset original view",
         "home",
         "home"
        ],
        [
         "Back",
         "Back to previous view",
         "arrow-left",
         "back"
        ],
        [
         "Forward",
         "Forward to next view",
         "arrow-right",
         "forward"
        ],
        [
         "Pan",
         "Left button pans, Right button zooms\nx/y fixes axis, CTRL fixes aspect",
         "arrows",
         "pan"
        ],
        [
         "Zoom",
         "Zoom to rectangle\nx/y fixes axis, CTRL fixes aspect",
         "square-o",
         "zoom"
        ],
        [
         "Download",
         "Download plot",
         "floppy-o",
         "save_figure"
        ]
       ]
      }
     },
     "c52f4415996a4c74b1f5851f20cd22b9": {
      "model_module": "@jupyter-widgets/controls",
      "model_module_version": "1.5.0",
      "model_name": "HBoxModel",
      "state": {
       "children": [
        "IPY_MODEL_d4810f7d6f49416bafd894137bc400e7",
        "IPY_MODEL_5e50b447a8f84913a015ebe2cc181c07",
        "IPY_MODEL_e37259b0d4a94b6190163fc0df7c04af"
       ],
       "layout": "IPY_MODEL_f6eea4ea5c824bbcab2152c4dd5dc751"
      }
     },
     "c58614a12025483cbe0460a5e7125e7a": {
      "model_module": "@jupyter-widgets/base",
      "model_module_version": "1.2.0",
      "model_name": "LayoutModel",
      "state": {}
     },
     "c59e539b4a434b09a23341e462961565": {
      "model_module": "jupyter-matplotlib",
      "model_module_version": "^0.10.0",
      "model_name": "ToolbarModel",
      "state": {
       "layout": "IPY_MODEL_657838d43b054b14803f9c3ee21d55a3",
       "toolitems": [
        [
         "Home",
         "Reset original view",
         "home",
         "home"
        ],
        [
         "Back",
         "Back to previous view",
         "arrow-left",
         "back"
        ],
        [
         "Forward",
         "Forward to next view",
         "arrow-right",
         "forward"
        ],
        [
         "Pan",
         "Left button pans, Right button zooms\nx/y fixes axis, CTRL fixes aspect",
         "arrows",
         "pan"
        ],
        [
         "Zoom",
         "Zoom to rectangle\nx/y fixes axis, CTRL fixes aspect",
         "square-o",
         "zoom"
        ],
        [
         "Download",
         "Download plot",
         "floppy-o",
         "save_figure"
        ]
       ]
      }
     },
     "c63b03ba275d4e26b18860b0673b4fd2": {
      "model_module": "jupyter-matplotlib",
      "model_module_version": "^0.10.0",
      "model_name": "ToolbarModel",
      "state": {
       "layout": "IPY_MODEL_e19b7f05655340d9b563baca4b7efcac",
       "toolitems": [
        [
         "Home",
         "Reset original view",
         "home",
         "home"
        ],
        [
         "Back",
         "Back to previous view",
         "arrow-left",
         "back"
        ],
        [
         "Forward",
         "Forward to next view",
         "arrow-right",
         "forward"
        ],
        [
         "Pan",
         "Left button pans, Right button zooms\nx/y fixes axis, CTRL fixes aspect",
         "arrows",
         "pan"
        ],
        [
         "Zoom",
         "Zoom to rectangle\nx/y fixes axis, CTRL fixes aspect",
         "square-o",
         "zoom"
        ],
        [
         "Download",
         "Download plot",
         "floppy-o",
         "save_figure"
        ]
       ]
      }
     },
     "c6c22917069e430d9d6eeaa26b69df1b": {
      "model_module": "@jupyter-widgets/base",
      "model_module_version": "1.2.0",
      "model_name": "LayoutModel",
      "state": {}
     },
     "c88839718a814aa0ac4a68c95f9868a0": {
      "model_module": "jupyter-matplotlib",
      "model_module_version": "^0.10.0",
      "model_name": "ToolbarModel",
      "state": {
       "layout": "IPY_MODEL_6ab4e7645db64b1cb5cbae9462dd2f85",
       "toolitems": [
        [
         "Home",
         "Reset original view",
         "home",
         "home"
        ],
        [
         "Back",
         "Back to previous view",
         "arrow-left",
         "back"
        ],
        [
         "Forward",
         "Forward to next view",
         "arrow-right",
         "forward"
        ],
        [
         "Pan",
         "Left button pans, Right button zooms\nx/y fixes axis, CTRL fixes aspect",
         "arrows",
         "pan"
        ],
        [
         "Zoom",
         "Zoom to rectangle\nx/y fixes axis, CTRL fixes aspect",
         "square-o",
         "zoom"
        ],
        [
         "Download",
         "Download plot",
         "floppy-o",
         "save_figure"
        ]
       ]
      }
     },
     "c8f61b574709405497ad5d1b0b59f8c0": {
      "model_module": "@jupyter-widgets/base",
      "model_module_version": "1.2.0",
      "model_name": "LayoutModel",
      "state": {}
     },
     "c998ea44e42b438e8ac1139bc46b71c2": {
      "model_module": "@jupyter-widgets/controls",
      "model_module_version": "1.5.0",
      "model_name": "HBoxModel",
      "state": {
       "children": [
        "IPY_MODEL_7f11432cf35849c29c1b4cb2b19ce433",
        "IPY_MODEL_af7e538a8d114e5ea65a11d13e4277ed",
        "IPY_MODEL_9d6bfeb6007549ed98c8badf128234a6"
       ],
       "layout": "IPY_MODEL_228f9dcb0a564010aca6c51a4929e0f9"
      }
     },
     "ca3008ccc1e945d68450839beb76e026": {
      "model_module": "@jupyter-widgets/controls",
      "model_module_version": "1.5.0",
      "model_name": "ProgressStyleModel",
      "state": {
       "description_width": ""
      }
     },
     "cb899e5ea4c6406a8dafa099ad0b0404": {
      "model_module": "jupyter-matplotlib",
      "model_module_version": "^0.10.0",
      "model_name": "ToolbarModel",
      "state": {
       "layout": "IPY_MODEL_e8f44638e1ef4fbaa139567078e8b602",
       "toolitems": [
        [
         "Home",
         "Reset original view",
         "home",
         "home"
        ],
        [
         "Back",
         "Back to previous view",
         "arrow-left",
         "back"
        ],
        [
         "Forward",
         "Forward to next view",
         "arrow-right",
         "forward"
        ],
        [
         "Pan",
         "Left button pans, Right button zooms\nx/y fixes axis, CTRL fixes aspect",
         "arrows",
         "pan"
        ],
        [
         "Zoom",
         "Zoom to rectangle\nx/y fixes axis, CTRL fixes aspect",
         "square-o",
         "zoom"
        ],
        [
         "Download",
         "Download plot",
         "floppy-o",
         "save_figure"
        ]
       ]
      }
     },
     "cd16f4d10ab244929c8fa0f8bd508de9": {
      "model_module": "@jupyter-widgets/controls",
      "model_module_version": "1.5.0",
      "model_name": "FloatProgressModel",
      "state": {
       "bar_style": "success",
       "layout": "IPY_MODEL_c58614a12025483cbe0460a5e7125e7a",
       "max": 2191,
       "style": "IPY_MODEL_5e61587bbc454bd994a90ff1c23a1afe",
       "value": 2191
      }
     },
     "cd29df0717e1412ab0a320e1f3527457": {
      "model_module": "jupyter-matplotlib",
      "model_module_version": "^0.10.0",
      "model_name": "ToolbarModel",
      "state": {
       "layout": "IPY_MODEL_696b590bfd0a4dbf8a20a27cfa695071",
       "toolitems": [
        [
         "Home",
         "Reset original view",
         "home",
         "home"
        ],
        [
         "Back",
         "Back to previous view",
         "arrow-left",
         "back"
        ],
        [
         "Forward",
         "Forward to next view",
         "arrow-right",
         "forward"
        ],
        [
         "Pan",
         "Left button pans, Right button zooms\nx/y fixes axis, CTRL fixes aspect",
         "arrows",
         "pan"
        ],
        [
         "Zoom",
         "Zoom to rectangle\nx/y fixes axis, CTRL fixes aspect",
         "square-o",
         "zoom"
        ],
        [
         "Download",
         "Download plot",
         "floppy-o",
         "save_figure"
        ]
       ]
      }
     },
     "cd541d0e39c04e82ade81473e5789baf": {
      "model_module": "@jupyter-widgets/controls",
      "model_module_version": "1.5.0",
      "model_name": "DescriptionStyleModel",
      "state": {
       "description_width": ""
      }
     },
     "cd8e6918852e43d484cdd4a62bf421e5": {
      "model_module": "@jupyter-widgets/controls",
      "model_module_version": "1.5.0",
      "model_name": "ProgressStyleModel",
      "state": {
       "description_width": ""
      }
     },
     "ce2924d67d044841b1edebd637258c0a": {
      "model_module": "jupyter-matplotlib",
      "model_module_version": "^0.10.0",
      "model_name": "MPLCanvasModel",
      "state": {
       "_cursor": "default",
       "_figure_label": "Figure 9",
       "_height": 500,
       "_width": 1000,
       "layout": "IPY_MODEL_62965ee20ded400b8dfa0a6d44e693bd",
       "toolbar": "IPY_MODEL_77941c50c16548e38b7d9310b7428d70",
       "toolbar_position": "left"
      }
     },
     "cf1922dbd360409e808dfbc56d01df0a": {
      "model_module": "@jupyter-widgets/base",
      "model_module_version": "1.2.0",
      "model_name": "LayoutModel",
      "state": {}
     },
     "cf2ce4cd07df42f3930329ed28f9467e": {
      "model_module": "jupyter-matplotlib",
      "model_module_version": "^0.10.0",
      "model_name": "MPLCanvasModel",
      "state": {
       "_cursor": "default",
       "_figure_label": "Figure 63",
       "_height": 500,
       "_width": 1300,
       "layout": "IPY_MODEL_a45d3fa586364897bcd46b35479f0594",
       "toolbar": "IPY_MODEL_7892bfd9562c4bba9a32f393dddf43c2",
       "toolbar_position": "left"
      }
     },
     "cf5fa92fe6f54c6e9a8f1927e3909280": {
      "model_module": "@jupyter-widgets/base",
      "model_module_version": "1.2.0",
      "model_name": "LayoutModel",
      "state": {}
     },
     "cf86b8bc7e8147e6bf4d95a446b84a58": {
      "model_module": "@jupyter-widgets/base",
      "model_module_version": "1.2.0",
      "model_name": "LayoutModel",
      "state": {}
     },
     "cfb13c07cf1e43d8aae590fa7528ce58": {
      "model_module": "@jupyter-widgets/base",
      "model_module_version": "1.2.0",
      "model_name": "LayoutModel",
      "state": {}
     },
     "cfc8748adde14f5ab68328703aa3d019": {
      "model_module": "@jupyter-widgets/base",
      "model_module_version": "1.2.0",
      "model_name": "LayoutModel",
      "state": {}
     },
     "cff40ac583814e6396dac9a3b8e37d72": {
      "model_module": "jupyter-matplotlib",
      "model_module_version": "^0.10.0",
      "model_name": "ToolbarModel",
      "state": {
       "layout": "IPY_MODEL_7684a2d4b3a44688925e0efe2ce9f306",
       "toolitems": [
        [
         "Home",
         "Reset original view",
         "home",
         "home"
        ],
        [
         "Back",
         "Back to previous view",
         "arrow-left",
         "back"
        ],
        [
         "Forward",
         "Forward to next view",
         "arrow-right",
         "forward"
        ],
        [
         "Pan",
         "Left button pans, Right button zooms\nx/y fixes axis, CTRL fixes aspect",
         "arrows",
         "pan"
        ],
        [
         "Zoom",
         "Zoom to rectangle\nx/y fixes axis, CTRL fixes aspect",
         "square-o",
         "zoom"
        ],
        [
         "Download",
         "Download plot",
         "floppy-o",
         "save_figure"
        ]
       ]
      }
     },
     "cffdd630223145db8f1c9c0ef97aaf51": {
      "model_module": "@jupyter-widgets/base",
      "model_module_version": "1.2.0",
      "model_name": "LayoutModel",
      "state": {}
     },
     "d0864e62bbf045faa7e6d4e32aabcb25": {
      "model_module": "jupyter-matplotlib",
      "model_module_version": "^0.10.0",
      "model_name": "ToolbarModel",
      "state": {
       "layout": "IPY_MODEL_13d5f14710614f9984a81c814db708b8",
       "toolitems": [
        [
         "Home",
         "Reset original view",
         "home",
         "home"
        ],
        [
         "Back",
         "Back to previous view",
         "arrow-left",
         "back"
        ],
        [
         "Forward",
         "Forward to next view",
         "arrow-right",
         "forward"
        ],
        [
         "Pan",
         "Left button pans, Right button zooms\nx/y fixes axis, CTRL fixes aspect",
         "arrows",
         "pan"
        ],
        [
         "Zoom",
         "Zoom to rectangle\nx/y fixes axis, CTRL fixes aspect",
         "square-o",
         "zoom"
        ],
        [
         "Download",
         "Download plot",
         "floppy-o",
         "save_figure"
        ]
       ]
      }
     },
     "d1072b22cb2e4db9bffef94578cdb983": {
      "model_module": "@jupyter-widgets/controls",
      "model_module_version": "1.5.0",
      "model_name": "DescriptionStyleModel",
      "state": {
       "description_width": ""
      }
     },
     "d107be3c834848f18ebf5b9e3854455f": {
      "model_module": "@jupyter-widgets/controls",
      "model_module_version": "1.5.0",
      "model_name": "HBoxModel",
      "state": {
       "children": [
        "IPY_MODEL_d9ec237d9b4a444bac7012bbdaa2a4f8",
        "IPY_MODEL_8ebf13abe5b4495a99d58c520e0c0e0a",
        "IPY_MODEL_79af9677413c466b91c693d570977bfe"
       ],
       "layout": "IPY_MODEL_055eebb6315e4188b42d2930a5226d72"
      }
     },
     "d18b22889d9b4ee1a53a1c558b641148": {
      "model_module": "jupyter-matplotlib",
      "model_module_version": "^0.10.0",
      "model_name": "ToolbarModel",
      "state": {
       "layout": "IPY_MODEL_769bb62299ba49949a909cc3e679fe0b",
       "toolitems": [
        [
         "Home",
         "Reset original view",
         "home",
         "home"
        ],
        [
         "Back",
         "Back to previous view",
         "arrow-left",
         "back"
        ],
        [
         "Forward",
         "Forward to next view",
         "arrow-right",
         "forward"
        ],
        [
         "Pan",
         "Left button pans, Right button zooms\nx/y fixes axis, CTRL fixes aspect",
         "arrows",
         "pan"
        ],
        [
         "Zoom",
         "Zoom to rectangle\nx/y fixes axis, CTRL fixes aspect",
         "square-o",
         "zoom"
        ],
        [
         "Download",
         "Download plot",
         "floppy-o",
         "save_figure"
        ]
       ]
      }
     },
     "d1c4505f220644a3aee0d0b0905b3da2": {
      "model_module": "@jupyter-widgets/base",
      "model_module_version": "1.2.0",
      "model_name": "LayoutModel",
      "state": {}
     },
     "d1da6b45de0f4a13a7f72879974bfefd": {
      "model_module": "@jupyter-widgets/controls",
      "model_module_version": "1.5.0",
      "model_name": "HTMLModel",
      "state": {
       "layout": "IPY_MODEL_b3463a72ed5c4bae828853c2fca397fd",
       "style": "IPY_MODEL_76ec38be8ad74228b47e5b227d3e2f61",
       "value": "Progress: "
      }
     },
     "d1dfe8b36a394f0482b9579399118004": {
      "model_module": "@jupyter-widgets/base",
      "model_module_version": "1.2.0",
      "model_name": "LayoutModel",
      "state": {}
     },
     "d317c624cf864b64984aa1d0a30326db": {
      "model_module": "@jupyter-widgets/base",
      "model_module_version": "1.2.0",
      "model_name": "LayoutModel",
      "state": {}
     },
     "d3b9f71bf4e24efd9a129b3c47b8d1c7": {
      "model_module": "@jupyter-widgets/controls",
      "model_module_version": "1.5.0",
      "model_name": "ProgressStyleModel",
      "state": {
       "description_width": ""
      }
     },
     "d3c870f766394ee98e645a344216e553": {
      "model_module": "@jupyter-widgets/controls",
      "model_module_version": "1.5.0",
      "model_name": "FloatProgressModel",
      "state": {
       "bar_style": "success",
       "layout": "IPY_MODEL_cffdd630223145db8f1c9c0ef97aaf51",
       "max": 10957,
       "style": "IPY_MODEL_19879a0d125c4971a84f6d3713334f45",
       "value": 10957
      }
     },
     "d4810f7d6f49416bafd894137bc400e7": {
      "model_module": "@jupyter-widgets/controls",
      "model_module_version": "1.5.0",
      "model_name": "HTMLModel",
      "state": {
       "layout": "IPY_MODEL_e5b04a5a6c1d45508a836b0a2ccb8901",
       "style": "IPY_MODEL_6a6ff59d30894ab0aa2a7f0abf0490d7",
       "value": "Progress: "
      }
     },
     "d58f3c90c61d491089484876e417b9f1": {
      "model_module": "@jupyter-widgets/base",
      "model_module_version": "1.2.0",
      "model_name": "LayoutModel",
      "state": {}
     },
     "d60eb0724e354383be2d5a40c46ff4e0": {
      "model_module": "@jupyter-widgets/base",
      "model_module_version": "1.2.0",
      "model_name": "LayoutModel",
      "state": {}
     },
     "d6e6a3e85d364e3db8bf9293f8d27216": {
      "model_module": "@jupyter-widgets/controls",
      "model_module_version": "1.5.0",
      "model_name": "HBoxModel",
      "state": {
       "children": [
        "IPY_MODEL_4467c0273fc44e83984a188066fea773",
        "IPY_MODEL_cd16f4d10ab244929c8fa0f8bd508de9",
        "IPY_MODEL_47873137ff9749ae861402da5f288c57"
       ],
       "layout": "IPY_MODEL_2a0561ff2bf34b398843fd7f15dd3ad0"
      }
     },
     "d7bc5686f7314c11921f789d93803768": {
      "model_module": "jupyter-matplotlib",
      "model_module_version": "^0.10.0",
      "model_name": "MPLCanvasModel",
      "state": {
       "_cursor": "default",
       "_figure_label": "Figure 61",
       "_height": 500,
       "_width": 1300,
       "layout": "IPY_MODEL_7de92cf3baf544c181887b6cf612c8e7",
       "toolbar": "IPY_MODEL_854ba010676e49a8a3007fb77395d4ea",
       "toolbar_position": "left"
      }
     },
     "d7dddc4e357a4b489f6f6a32111565ae": {
      "model_module": "jupyter-matplotlib",
      "model_module_version": "^0.10.0",
      "model_name": "MPLCanvasModel",
      "state": {
       "_cursor": "default",
       "_figure_label": "Figure 29",
       "_height": 500,
       "_width": 1500,
       "layout": "IPY_MODEL_12272fa204c84e349fb89dd86cfc71ab",
       "toolbar": "IPY_MODEL_d0864e62bbf045faa7e6d4e32aabcb25",
       "toolbar_position": "left"
      }
     },
     "d92d192d7fbb452bbd69de46e3dc0df3": {
      "model_module": "@jupyter-widgets/base",
      "model_module_version": "1.2.0",
      "model_name": "LayoutModel",
      "state": {}
     },
     "d9ec237d9b4a444bac7012bbdaa2a4f8": {
      "model_module": "@jupyter-widgets/controls",
      "model_module_version": "1.5.0",
      "model_name": "HTMLModel",
      "state": {
       "layout": "IPY_MODEL_6fac330a9421438cb898ae0de99daa84",
       "style": "IPY_MODEL_ad1fc921e2ef423b919343b79cb0b711",
       "value": "Progress: "
      }
     },
     "d9f91da0d15d4a8b8b2845ba362724b6": {
      "model_module": "@jupyter-widgets/base",
      "model_module_version": "1.2.0",
      "model_name": "LayoutModel",
      "state": {}
     },
     "dafd44c55d704713acf2e309f044c760": {
      "model_module": "@jupyter-widgets/base",
      "model_module_version": "1.2.0",
      "model_name": "LayoutModel",
      "state": {}
     },
     "db02b3e0af3f4c838f08f80ebd2b42a5": {
      "model_module": "@jupyter-widgets/base",
      "model_module_version": "1.2.0",
      "model_name": "LayoutModel",
      "state": {}
     },
     "db0ee8fbbbfa413eb9df18e8a4706ae5": {
      "model_module": "@jupyter-widgets/base",
      "model_module_version": "1.2.0",
      "model_name": "LayoutModel",
      "state": {}
     },
     "dbd5ee85d2d145618b9369715ba484b1": {
      "model_module": "@jupyter-widgets/base",
      "model_module_version": "1.2.0",
      "model_name": "LayoutModel",
      "state": {}
     },
     "dbea7079a18a4b98bce469f3ac72318c": {
      "model_module": "jupyter-matplotlib",
      "model_module_version": "^0.10.0",
      "model_name": "ToolbarModel",
      "state": {
       "layout": "IPY_MODEL_f9d1dc22fd5c46e6a3d8c96970775a4f",
       "toolitems": [
        [
         "Home",
         "Reset original view",
         "home",
         "home"
        ],
        [
         "Back",
         "Back to previous view",
         "arrow-left",
         "back"
        ],
        [
         "Forward",
         "Forward to next view",
         "arrow-right",
         "forward"
        ],
        [
         "Pan",
         "Left button pans, Right button zooms\nx/y fixes axis, CTRL fixes aspect",
         "arrows",
         "pan"
        ],
        [
         "Zoom",
         "Zoom to rectangle\nx/y fixes axis, CTRL fixes aspect",
         "square-o",
         "zoom"
        ],
        [
         "Download",
         "Download plot",
         "floppy-o",
         "save_figure"
        ]
       ]
      }
     },
     "dc908885950246e0acddd28d0991887f": {
      "model_module": "@jupyter-widgets/base",
      "model_module_version": "1.2.0",
      "model_name": "LayoutModel",
      "state": {}
     },
     "dc98e41a6f3e449ab0cc8ac663f87d87": {
      "model_module": "@jupyter-widgets/base",
      "model_module_version": "1.2.0",
      "model_name": "LayoutModel",
      "state": {}
     },
     "dccc95c7cf02456c9e8a4311e7962b6a": {
      "model_module": "jupyter-matplotlib",
      "model_module_version": "^0.10.0",
      "model_name": "ToolbarModel",
      "state": {
       "layout": "IPY_MODEL_4983bededa1643aea46aeea706a92bbb",
       "toolitems": [
        [
         "Home",
         "Reset original view",
         "home",
         "home"
        ],
        [
         "Back",
         "Back to previous view",
         "arrow-left",
         "back"
        ],
        [
         "Forward",
         "Forward to next view",
         "arrow-right",
         "forward"
        ],
        [
         "Pan",
         "Left button pans, Right button zooms\nx/y fixes axis, CTRL fixes aspect",
         "arrows",
         "pan"
        ],
        [
         "Zoom",
         "Zoom to rectangle\nx/y fixes axis, CTRL fixes aspect",
         "square-o",
         "zoom"
        ],
        [
         "Download",
         "Download plot",
         "floppy-o",
         "save_figure"
        ]
       ]
      }
     },
     "dd621643f905429881dd53950468b130": {
      "model_module": "@jupyter-widgets/base",
      "model_module_version": "1.2.0",
      "model_name": "LayoutModel",
      "state": {}
     },
     "deb330ae78ac4d9d978a10595e4444d7": {
      "model_module": "jupyter-matplotlib",
      "model_module_version": "^0.10.0",
      "model_name": "ToolbarModel",
      "state": {
       "layout": "IPY_MODEL_28bcc6b09cd446d6847c2b1e16f27b01",
       "toolitems": [
        [
         "Home",
         "Reset original view",
         "home",
         "home"
        ],
        [
         "Back",
         "Back to previous view",
         "arrow-left",
         "back"
        ],
        [
         "Forward",
         "Forward to next view",
         "arrow-right",
         "forward"
        ],
        [
         "Pan",
         "Left button pans, Right button zooms\nx/y fixes axis, CTRL fixes aspect",
         "arrows",
         "pan"
        ],
        [
         "Zoom",
         "Zoom to rectangle\nx/y fixes axis, CTRL fixes aspect",
         "square-o",
         "zoom"
        ],
        [
         "Download",
         "Download plot",
         "floppy-o",
         "save_figure"
        ]
       ]
      }
     },
     "dec6d1230f2247beaba88541bea9cc2f": {
      "model_module": "@jupyter-widgets/base",
      "model_module_version": "1.2.0",
      "model_name": "LayoutModel",
      "state": {}
     },
     "df30bf7bd8ff49b2b0aec591c26c37d4": {
      "model_module": "@jupyter-widgets/base",
      "model_module_version": "1.2.0",
      "model_name": "LayoutModel",
      "state": {}
     },
     "df89ebec5b9748c48a290e1643d4d066": {
      "model_module": "@jupyter-widgets/controls",
      "model_module_version": "1.5.0",
      "model_name": "DescriptionStyleModel",
      "state": {
       "description_width": ""
      }
     },
     "dfcc5b23e30247e8aa3d6e58de4dfb90": {
      "model_module": "@jupyter-widgets/base",
      "model_module_version": "1.2.0",
      "model_name": "LayoutModel",
      "state": {}
     },
     "e010123c77ef4830acba5dd1ace85927": {
      "model_module": "@jupyter-widgets/base",
      "model_module_version": "1.2.0",
      "model_name": "LayoutModel",
      "state": {}
     },
     "e19b7f05655340d9b563baca4b7efcac": {
      "model_module": "@jupyter-widgets/base",
      "model_module_version": "1.2.0",
      "model_name": "LayoutModel",
      "state": {}
     },
     "e36352fa5dda4357a9275551374faf83": {
      "model_module": "@jupyter-widgets/base",
      "model_module_version": "1.2.0",
      "model_name": "LayoutModel",
      "state": {}
     },
     "e368344710544c6aa9111277ea652f39": {
      "model_module": "@jupyter-widgets/controls",
      "model_module_version": "1.5.0",
      "model_name": "ProgressStyleModel",
      "state": {
       "description_width": ""
      }
     },
     "e37259b0d4a94b6190163fc0df7c04af": {
      "model_module": "@jupyter-widgets/controls",
      "model_module_version": "1.5.0",
      "model_name": "HTMLModel",
      "state": {
       "layout": "IPY_MODEL_bc35b66f666a4598a626b816384b84a5",
       "style": "IPY_MODEL_7e85ec13d83b4c3a90d8a982950f46c9",
       "value": " 10958/? [06:34&lt;00:00, 27.80day/s]"
      }
     },
     "e391ab605906451b8f7a1749216ee427": {
      "model_module": "@jupyter-widgets/controls",
      "model_module_version": "1.5.0",
      "model_name": "HBoxModel",
      "state": {
       "children": [
        "IPY_MODEL_c40e728412e84173874a290234ec9e5b",
        "IPY_MODEL_01200692d7584e49bedbc390b4609cc2",
        "IPY_MODEL_590cd1e45d9044d4b431f623c3d6cd47"
       ],
       "layout": "IPY_MODEL_bcf1b30f035346f4a1d56831cba81053"
      }
     },
     "e4deb5c34d8b477a8544ce5503ba36f7": {
      "model_module": "jupyter-matplotlib",
      "model_module_version": "^0.10.0",
      "model_name": "MPLCanvasModel",
      "state": {
       "_cursor": "default",
       "_figure_label": "Figure 74",
       "_height": 500,
       "_width": 1300,
       "layout": "IPY_MODEL_63878550884047da8ba7cc9901ccd3a5",
       "toolbar": "IPY_MODEL_853fca2409c74e9baeeabfed2e919984",
       "toolbar_position": "left"
      }
     },
     "e4ed626d7f044903bc4efefdb022dbd4": {
      "model_module": "jupyter-matplotlib",
      "model_module_version": "^0.10.0",
      "model_name": "MPLCanvasModel",
      "state": {
       "_cursor": "default",
       "_figure_label": "Figure 75",
       "_height": 900,
       "_width": 1600,
       "layout": "IPY_MODEL_9ae836383926492c8de88f4f2e55dc33",
       "toolbar": "IPY_MODEL_76e78c9a77bb46e092ac9279ea4ef8c4",
       "toolbar_position": "left"
      }
     },
     "e5b04a5a6c1d45508a836b0a2ccb8901": {
      "model_module": "@jupyter-widgets/base",
      "model_module_version": "1.2.0",
      "model_name": "LayoutModel",
      "state": {}
     },
     "e5c90b603cfd4db7865e370ddc67e83a": {
      "model_module": "@jupyter-widgets/base",
      "model_module_version": "1.2.0",
      "model_name": "LayoutModel",
      "state": {}
     },
     "e6433dfaff964d9890bce9afce605c48": {
      "model_module": "jupyter-matplotlib",
      "model_module_version": "^0.10.0",
      "model_name": "ToolbarModel",
      "state": {
       "layout": "IPY_MODEL_db0ee8fbbbfa413eb9df18e8a4706ae5",
       "toolitems": [
        [
         "Home",
         "Reset original view",
         "home",
         "home"
        ],
        [
         "Back",
         "Back to previous view",
         "arrow-left",
         "back"
        ],
        [
         "Forward",
         "Forward to next view",
         "arrow-right",
         "forward"
        ],
        [
         "Pan",
         "Left button pans, Right button zooms\nx/y fixes axis, CTRL fixes aspect",
         "arrows",
         "pan"
        ],
        [
         "Zoom",
         "Zoom to rectangle\nx/y fixes axis, CTRL fixes aspect",
         "square-o",
         "zoom"
        ],
        [
         "Download",
         "Download plot",
         "floppy-o",
         "save_figure"
        ]
       ]
      }
     },
     "e69785bb911b46bd9d7f55fecc49678e": {
      "model_module": "@jupyter-widgets/base",
      "model_module_version": "1.2.0",
      "model_name": "LayoutModel",
      "state": {}
     },
     "e708b7c3b01e45f5a6820b33c3081852": {
      "model_module": "@jupyter-widgets/base",
      "model_module_version": "1.2.0",
      "model_name": "LayoutModel",
      "state": {}
     },
     "e73ab8f8005149659b4f7e1d1a0ddedb": {
      "model_module": "@jupyter-widgets/base",
      "model_module_version": "1.2.0",
      "model_name": "LayoutModel",
      "state": {}
     },
     "e87708501179431c97b332cea720a78b": {
      "model_module": "@jupyter-widgets/controls",
      "model_module_version": "1.5.0",
      "model_name": "HTMLModel",
      "state": {
       "layout": "IPY_MODEL_6ae5397027864ab1872816657f139f6b",
       "style": "IPY_MODEL_530214586a59404895c1f9e0d0efc086",
       "value": " 2192/? [03:39&lt;00:00,  9.98day/s]"
      }
     },
     "e8f44638e1ef4fbaa139567078e8b602": {
      "model_module": "@jupyter-widgets/base",
      "model_module_version": "1.2.0",
      "model_name": "LayoutModel",
      "state": {}
     },
     "ea2a7fd1619547e8ab4411366ce743b7": {
      "model_module": "@jupyter-widgets/controls",
      "model_module_version": "1.5.0",
      "model_name": "HBoxModel",
      "state": {
       "children": [
        "IPY_MODEL_44cfc8c7fd6641eabe22245784019a46",
        "IPY_MODEL_a84e203023f5455fb337db97bb345cb8",
        "IPY_MODEL_e87708501179431c97b332cea720a78b"
       ],
       "layout": "IPY_MODEL_d60eb0724e354383be2d5a40c46ff4e0"
      }
     },
     "ead3beb67105493c94c2444f7aa32ab3": {
      "model_module": "@jupyter-widgets/base",
      "model_module_version": "1.2.0",
      "model_name": "LayoutModel",
      "state": {}
     },
     "eb5752895c91494b85919827a02fa318": {
      "model_module": "@jupyter-widgets/base",
      "model_module_version": "1.2.0",
      "model_name": "LayoutModel",
      "state": {}
     },
     "ee8ab435319140fc9e54463122ad8b3e": {
      "model_module": "@jupyter-widgets/base",
      "model_module_version": "1.2.0",
      "model_name": "LayoutModel",
      "state": {}
     },
     "ef7c9eb119a74485a50a5a380581c7e2": {
      "model_module": "jupyter-matplotlib",
      "model_module_version": "^0.10.0",
      "model_name": "ToolbarModel",
      "state": {
       "layout": "IPY_MODEL_102a8ac6b1d641f8bc926fb0d0c87027",
       "toolitems": [
        [
         "Home",
         "Reset original view",
         "home",
         "home"
        ],
        [
         "Back",
         "Back to previous view",
         "arrow-left",
         "back"
        ],
        [
         "Forward",
         "Forward to next view",
         "arrow-right",
         "forward"
        ],
        [
         "Pan",
         "Left button pans, Right button zooms\nx/y fixes axis, CTRL fixes aspect",
         "arrows",
         "pan"
        ],
        [
         "Zoom",
         "Zoom to rectangle\nx/y fixes axis, CTRL fixes aspect",
         "square-o",
         "zoom"
        ],
        [
         "Download",
         "Download plot",
         "floppy-o",
         "save_figure"
        ]
       ]
      }
     },
     "efc2ef43a35f4b3383639dd56c8d0890": {
      "model_module": "jupyter-matplotlib",
      "model_module_version": "^0.10.0",
      "model_name": "ToolbarModel",
      "state": {
       "layout": "IPY_MODEL_5f23f0e515ed484ab7088cc302199bfe",
       "toolitems": [
        [
         "Home",
         "Reset original view",
         "home",
         "home"
        ],
        [
         "Back",
         "Back to previous view",
         "arrow-left",
         "back"
        ],
        [
         "Forward",
         "Forward to next view",
         "arrow-right",
         "forward"
        ],
        [
         "Pan",
         "Left button pans, Right button zooms\nx/y fixes axis, CTRL fixes aspect",
         "arrows",
         "pan"
        ],
        [
         "Zoom",
         "Zoom to rectangle\nx/y fixes axis, CTRL fixes aspect",
         "square-o",
         "zoom"
        ],
        [
         "Download",
         "Download plot",
         "floppy-o",
         "save_figure"
        ]
       ]
      }
     },
     "f12ea36aeb5f4b11988b320b678293b2": {
      "model_module": "@jupyter-widgets/base",
      "model_module_version": "1.2.0",
      "model_name": "LayoutModel",
      "state": {}
     },
     "f1538fddabbd4c0d8fb303fae37db24b": {
      "model_module": "@jupyter-widgets/base",
      "model_module_version": "1.2.0",
      "model_name": "LayoutModel",
      "state": {}
     },
     "f1842a1a2a1e47b99bbd4d3d0743cb3a": {
      "model_module": "@jupyter-widgets/controls",
      "model_module_version": "1.5.0",
      "model_name": "DescriptionStyleModel",
      "state": {
       "description_width": ""
      }
     },
     "f1dc75d6d45b405c9e8fcd416de71172": {
      "model_module": "jupyter-matplotlib",
      "model_module_version": "^0.10.0",
      "model_name": "MPLCanvasModel",
      "state": {
       "_cursor": "default",
       "_figure_label": "Figure 39",
       "_height": 500,
       "_image_mode": "diff",
       "_message": "x=2020 y=3.166",
       "_width": 1500,
       "layout": "IPY_MODEL_fe24a82d29014e46821915c6689ed886",
       "toolbar": "IPY_MODEL_f880182e6a8841eda7e56daab1fa73ef",
       "toolbar_position": "left"
      }
     },
     "f213bc78714e4e58b5e258807e78515e": {
      "model_module": "jupyter-matplotlib",
      "model_module_version": "^0.10.0",
      "model_name": "ToolbarModel",
      "state": {
       "layout": "IPY_MODEL_2fa383141a6a4b84900f137e30476c4a",
       "toolitems": [
        [
         "Home",
         "Reset original view",
         "home",
         "home"
        ],
        [
         "Back",
         "Back to previous view",
         "arrow-left",
         "back"
        ],
        [
         "Forward",
         "Forward to next view",
         "arrow-right",
         "forward"
        ],
        [
         "Pan",
         "Left button pans, Right button zooms\nx/y fixes axis, CTRL fixes aspect",
         "arrows",
         "pan"
        ],
        [
         "Zoom",
         "Zoom to rectangle\nx/y fixes axis, CTRL fixes aspect",
         "square-o",
         "zoom"
        ],
        [
         "Download",
         "Download plot",
         "floppy-o",
         "save_figure"
        ]
       ]
      }
     },
     "f23dbfe961bf478984f930abb3590f62": {
      "model_module": "jupyter-matplotlib",
      "model_module_version": "^0.10.0",
      "model_name": "ToolbarModel",
      "state": {
       "layout": "IPY_MODEL_fad89613aa6b49e2a6afbe03366d2735",
       "toolitems": [
        [
         "Home",
         "Reset original view",
         "home",
         "home"
        ],
        [
         "Back",
         "Back to previous view",
         "arrow-left",
         "back"
        ],
        [
         "Forward",
         "Forward to next view",
         "arrow-right",
         "forward"
        ],
        [
         "Pan",
         "Left button pans, Right button zooms\nx/y fixes axis, CTRL fixes aspect",
         "arrows",
         "pan"
        ],
        [
         "Zoom",
         "Zoom to rectangle\nx/y fixes axis, CTRL fixes aspect",
         "square-o",
         "zoom"
        ],
        [
         "Download",
         "Download plot",
         "floppy-o",
         "save_figure"
        ]
       ]
      }
     },
     "f27e74a1a45e4271a6413e99acef5967": {
      "model_module": "@jupyter-widgets/base",
      "model_module_version": "1.2.0",
      "model_name": "LayoutModel",
      "state": {}
     },
     "f2a90b5c3fc0484ab2b057390143bfff": {
      "model_module": "@jupyter-widgets/base",
      "model_module_version": "1.2.0",
      "model_name": "LayoutModel",
      "state": {}
     },
     "f2d90ad9497e4660a815a770bdb9ba9b": {
      "model_module": "jupyter-matplotlib",
      "model_module_version": "^0.10.0",
      "model_name": "ToolbarModel",
      "state": {
       "layout": "IPY_MODEL_c8f61b574709405497ad5d1b0b59f8c0",
       "toolitems": [
        [
         "Home",
         "Reset original view",
         "home",
         "home"
        ],
        [
         "Back",
         "Back to previous view",
         "arrow-left",
         "back"
        ],
        [
         "Forward",
         "Forward to next view",
         "arrow-right",
         "forward"
        ],
        [
         "Pan",
         "Left button pans, Right button zooms\nx/y fixes axis, CTRL fixes aspect",
         "arrows",
         "pan"
        ],
        [
         "Zoom",
         "Zoom to rectangle\nx/y fixes axis, CTRL fixes aspect",
         "square-o",
         "zoom"
        ],
        [
         "Download",
         "Download plot",
         "floppy-o",
         "save_figure"
        ]
       ]
      }
     },
     "f3b3ce97a0eb42a78af3f2d446ed1550": {
      "model_module": "jupyter-matplotlib",
      "model_module_version": "^0.10.0",
      "model_name": "MPLCanvasModel",
      "state": {
       "_cursor": "default",
       "_figure_label": "Figure 26",
       "_height": 500,
       "_width": 1500,
       "layout": "IPY_MODEL_068790baf40448369715ccdc883c12a5",
       "toolbar": "IPY_MODEL_f213bc78714e4e58b5e258807e78515e",
       "toolbar_position": "left"
      }
     },
     "f4d9e396145d44ddbdaecf9cc82738bd": {
      "model_module": "jupyter-matplotlib",
      "model_module_version": "^0.10.0",
      "model_name": "MPLCanvasModel",
      "state": {
       "_cursor": "default",
       "_figure_label": "Figure 20",
       "_height": 500,
       "_width": 1500,
       "layout": "IPY_MODEL_aaeafc234e854936a9e9c9fcc34284c3",
       "toolbar": "IPY_MODEL_33d56d685fcc4bdb998e9d949710cb8f",
       "toolbar_position": "left"
      }
     },
     "f55f2bf7c99c4cadad379256af5819fb": {
      "model_module": "jupyter-matplotlib",
      "model_module_version": "^0.10.0",
      "model_name": "ToolbarModel",
      "state": {
       "layout": "IPY_MODEL_493954c892e2427aadce61bfb416b6b6",
       "toolitems": [
        [
         "Home",
         "Reset original view",
         "home",
         "home"
        ],
        [
         "Back",
         "Back to previous view",
         "arrow-left",
         "back"
        ],
        [
         "Forward",
         "Forward to next view",
         "arrow-right",
         "forward"
        ],
        [
         "Pan",
         "Left button pans, Right button zooms\nx/y fixes axis, CTRL fixes aspect",
         "arrows",
         "pan"
        ],
        [
         "Zoom",
         "Zoom to rectangle\nx/y fixes axis, CTRL fixes aspect",
         "square-o",
         "zoom"
        ],
        [
         "Download",
         "Download plot",
         "floppy-o",
         "save_figure"
        ]
       ]
      }
     },
     "f56572e01b384d5982fc0ef76f36e53b": {
      "model_module": "jupyter-matplotlib",
      "model_module_version": "^0.10.0",
      "model_name": "ToolbarModel",
      "state": {
       "layout": "IPY_MODEL_13ad2c14db9041b694396756d4e4acf8",
       "toolitems": [
        [
         "Home",
         "Reset original view",
         "home",
         "home"
        ],
        [
         "Back",
         "Back to previous view",
         "arrow-left",
         "back"
        ],
        [
         "Forward",
         "Forward to next view",
         "arrow-right",
         "forward"
        ],
        [
         "Pan",
         "Left button pans, Right button zooms\nx/y fixes axis, CTRL fixes aspect",
         "arrows",
         "pan"
        ],
        [
         "Zoom",
         "Zoom to rectangle\nx/y fixes axis, CTRL fixes aspect",
         "square-o",
         "zoom"
        ],
        [
         "Download",
         "Download plot",
         "floppy-o",
         "save_figure"
        ]
       ]
      }
     },
     "f6eea4ea5c824bbcab2152c4dd5dc751": {
      "model_module": "@jupyter-widgets/base",
      "model_module_version": "1.2.0",
      "model_name": "LayoutModel",
      "state": {}
     },
     "f6fe352de9a84451908879767acd453c": {
      "model_module": "@jupyter-widgets/base",
      "model_module_version": "1.2.0",
      "model_name": "LayoutModel",
      "state": {}
     },
     "f7ff63b9a4694027bca32fb57c0d7762": {
      "model_module": "jupyter-matplotlib",
      "model_module_version": "^0.10.0",
      "model_name": "MPLCanvasModel",
      "state": {
       "_cursor": "default",
       "_figure_label": "Figure 8",
       "_height": 500,
       "_width": 1000,
       "layout": "IPY_MODEL_9ead7b687bfe4315b811ca4e736a619f",
       "toolbar": "IPY_MODEL_4c3d4b4510274ff3ad4c8854adb0bbde",
       "toolbar_position": "left"
      }
     },
     "f880182e6a8841eda7e56daab1fa73ef": {
      "model_module": "jupyter-matplotlib",
      "model_module_version": "^0.10.0",
      "model_name": "ToolbarModel",
      "state": {
       "layout": "IPY_MODEL_dafd44c55d704713acf2e309f044c760",
       "toolitems": [
        [
         "Home",
         "Reset original view",
         "home",
         "home"
        ],
        [
         "Back",
         "Back to previous view",
         "arrow-left",
         "back"
        ],
        [
         "Forward",
         "Forward to next view",
         "arrow-right",
         "forward"
        ],
        [
         "Pan",
         "Left button pans, Right button zooms\nx/y fixes axis, CTRL fixes aspect",
         "arrows",
         "pan"
        ],
        [
         "Zoom",
         "Zoom to rectangle\nx/y fixes axis, CTRL fixes aspect",
         "square-o",
         "zoom"
        ],
        [
         "Download",
         "Download plot",
         "floppy-o",
         "save_figure"
        ]
       ]
      }
     },
     "f8963a64e7b742fdad21dd79a50c508d": {
      "model_module": "@jupyter-widgets/base",
      "model_module_version": "1.2.0",
      "model_name": "LayoutModel",
      "state": {}
     },
     "f960cef52f3b42cea126f683a83ddcbb": {
      "model_module": "@jupyter-widgets/base",
      "model_module_version": "1.2.0",
      "model_name": "LayoutModel",
      "state": {}
     },
     "f981844e4a50495fa41c75ecdd9c3dc8": {
      "model_module": "jupyter-matplotlib",
      "model_module_version": "^0.10.0",
      "model_name": "MPLCanvasModel",
      "state": {
       "_cursor": "default",
       "_figure_label": "Figure 67",
       "_height": 500,
       "_width": 1300,
       "layout": "IPY_MODEL_1cad8b08dd6e48839bc201e726795cfc",
       "toolbar": "IPY_MODEL_13eef578b5f645d593f4f01c53715257",
       "toolbar_position": "left"
      }
     },
     "f9d1dc22fd5c46e6a3d8c96970775a4f": {
      "model_module": "@jupyter-widgets/base",
      "model_module_version": "1.2.0",
      "model_name": "LayoutModel",
      "state": {}
     },
     "fa3be8daf8f8431aa59449fc2e00347f": {
      "model_module": "@jupyter-widgets/base",
      "model_module_version": "1.2.0",
      "model_name": "LayoutModel",
      "state": {}
     },
     "faa579ceee2d47d9b93c2240dd1d7a58": {
      "model_module": "@jupyter-widgets/base",
      "model_module_version": "1.2.0",
      "model_name": "LayoutModel",
      "state": {}
     },
     "fabedead8b9d40caa402f0aab4e7c02b": {
      "model_module": "jupyter-matplotlib",
      "model_module_version": "^0.10.0",
      "model_name": "ToolbarModel",
      "state": {
       "layout": "IPY_MODEL_8fbb4d86e894405a8dcc612c4ced8ad7",
       "toolitems": [
        [
         "Home",
         "Reset original view",
         "home",
         "home"
        ],
        [
         "Back",
         "Back to previous view",
         "arrow-left",
         "back"
        ],
        [
         "Forward",
         "Forward to next view",
         "arrow-right",
         "forward"
        ],
        [
         "Pan",
         "Left button pans, Right button zooms\nx/y fixes axis, CTRL fixes aspect",
         "arrows",
         "pan"
        ],
        [
         "Zoom",
         "Zoom to rectangle\nx/y fixes axis, CTRL fixes aspect",
         "square-o",
         "zoom"
        ],
        [
         "Download",
         "Download plot",
         "floppy-o",
         "save_figure"
        ]
       ]
      }
     },
     "fad89613aa6b49e2a6afbe03366d2735": {
      "model_module": "@jupyter-widgets/base",
      "model_module_version": "1.2.0",
      "model_name": "LayoutModel",
      "state": {}
     },
     "fb775542a0bd47abbeac83e673935d02": {
      "model_module": "jupyter-matplotlib",
      "model_module_version": "^0.10.0",
      "model_name": "MPLCanvasModel",
      "state": {
       "_cursor": "default",
       "_figure_label": "Figure 46",
       "_height": 500,
       "_width": 1300,
       "layout": "IPY_MODEL_1f7d7f3f4ea14756a797045a307406c2",
       "toolbar": "IPY_MODEL_10093ef5a514433f900ff7bf9ddd40df",
       "toolbar_position": "left"
      }
     },
     "fcb1de82b1594e4b9724e63045f60626": {
      "model_module": "@jupyter-widgets/base",
      "model_module_version": "1.2.0",
      "model_name": "LayoutModel",
      "state": {}
     },
     "fdb0d2605fe441a8aa284674eed27a58": {
      "model_module": "@jupyter-widgets/base",
      "model_module_version": "1.2.0",
      "model_name": "LayoutModel",
      "state": {}
     },
     "fe02e2849a024518a18461f8534c5c78": {
      "model_module": "@jupyter-widgets/base",
      "model_module_version": "1.2.0",
      "model_name": "LayoutModel",
      "state": {}
     },
     "fe24a82d29014e46821915c6689ed886": {
      "model_module": "@jupyter-widgets/base",
      "model_module_version": "1.2.0",
      "model_name": "LayoutModel",
      "state": {}
     },
     "fe371142cf3b4a0ba06672c555411895": {
      "model_module": "@jupyter-widgets/base",
      "model_module_version": "1.2.0",
      "model_name": "LayoutModel",
      "state": {}
     },
     "fe6f6e33ffdb48faad112ad7399ffd59": {
      "model_module": "@jupyter-widgets/base",
      "model_module_version": "1.2.0",
      "model_name": "LayoutModel",
      "state": {}
     },
     "ff2a590216a5434d9137a1244cd32102": {
      "model_module": "@jupyter-widgets/base",
      "model_module_version": "1.2.0",
      "model_name": "LayoutModel",
      "state": {}
     },
     "ff3b9301c2c9484cad779e76ba0d1b71": {
      "model_module": "jupyter-matplotlib",
      "model_module_version": "^0.10.0",
      "model_name": "MPLCanvasModel",
      "state": {
       "_figure_label": "Figure 12",
       "_height": 500,
       "_width": 1000,
       "layout": "IPY_MODEL_608016b8d4d240d6a41301bbafa12324",
       "toolbar": "IPY_MODEL_c48b9a6a367340e18df7bf57e83bb4c6",
       "toolbar_position": "left"
      }
     }
    },
    "version_major": 2,
    "version_minor": 0
   }
  }
 },
 "nbformat": 4,
 "nbformat_minor": 5
}
