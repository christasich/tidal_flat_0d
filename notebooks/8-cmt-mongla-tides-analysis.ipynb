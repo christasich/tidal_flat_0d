{
 "cells": [
  {
   "cell_type": "code",
   "execution_count": 1,
   "id": "d797caa9-8ecf-4c3f-91cb-16bf66536c8b",
   "metadata": {
    "execution": {
     "iopub.execute_input": "2021-09-03T22:01:07.524089Z",
     "iopub.status.busy": "2021-09-03T22:01:07.523900Z",
     "iopub.status.idle": "2021-09-03T22:01:09.347300Z",
     "shell.execute_reply": "2021-09-03T22:01:09.346030Z",
     "shell.execute_reply.started": "2021-09-03T22:01:07.524009Z"
    },
    "tags": []
   },
   "outputs": [],
   "source": [
    "%load_ext autoreload\n",
    "%autoreload 2\n",
    "%matplotlib widget\n",
    "%config Completer.use_jedi = False\n",
    "import os\n",
    "import time\n",
    "\n",
    "import numpy as np\n",
    "import pandas as pd\n",
    "import seaborn as sns\n",
    "\n",
    "sns.set()\n",
    "import statsmodels.api as sm\n",
    "from joblib import Parallel, delayed\n",
    "from matplotlib import pyplot as plt\n",
    "from matplotlib.widgets import MultiCursor\n",
    "import matplotlib.dates as mdates\n",
    "from matplotlib.dates import DateFormatter\n",
    "from scipy.interpolate import InterpolatedUnivariateSpline, interp1d\n",
    "from scipy.signal import argrelmax, argrelmin, find_peaks\n",
    "from sklearn.linear_model import LinearRegression\n",
    "from sidecar import Sidecar\n",
    "\n",
    "os.chdir(\"..\")\n",
    "from src import definitions as defs\n",
    "from src import features, models"
   ]
  },
  {
   "cell_type": "code",
   "execution_count": 2,
   "id": "237c97a9-7ee1-46cc-888c-40c9b4ba19d4",
   "metadata": {
    "execution": {
     "iopub.execute_input": "2021-09-03T22:01:09.349490Z",
     "iopub.status.busy": "2021-09-03T22:01:09.348800Z",
     "iopub.status.idle": "2021-09-03T22:01:09.575670Z",
     "shell.execute_reply": "2021-09-03T22:01:09.574980Z",
     "shell.execute_reply.started": "2021-09-03T22:01:09.34922Z"
    },
    "tags": []
   },
   "outputs": [],
   "source": [
    "def lm_tides(data, label=None):\n",
    "    from collections import namedtuple\n",
    "    Result = namedtuple(\"Result\", [\"lm\", \"index\", \"preds\", \"coef\", \"intercept\", \"label\", \"eq\"])\n",
    "    lm = LinearRegression()\n",
    "    index = data.index\n",
    "    x = (data.index - data.index[0]).total_seconds().astype(int) / pd.Timedelta(days=365).total_seconds()\n",
    "    x = x.values.reshape(-1, 1)\n",
    "    y = data.values.reshape(-1, 1)\n",
    "    lm.fit(x, y)\n",
    "    preds = lm.predict(x).reshape(-1)\n",
    "    coef = lm.coef_[0][0] \n",
    "    intercept = lm.intercept_[0]\n",
    "\n",
    "    eq = \"$\\zeta_{{{}}}={:.4f}t {:+.4f}$\".format(label, coef, intercept)\n",
    "    return Result(lm, index, preds, coef, intercept, label, eq)"
   ]
  },
  {
   "cell_type": "code",
   "execution_count": 3,
   "id": "fd8c697e-1270-45c0-a888-6ddac6a35029",
   "metadata": {
    "execution": {
     "iopub.execute_input": "2021-09-03T22:01:10.193370Z",
     "iopub.status.busy": "2021-09-03T22:01:10.191320Z",
     "iopub.status.idle": "2021-09-03T22:01:10.512760Z",
     "shell.execute_reply": "2021-09-03T22:01:10.512010Z",
     "shell.execute_reply.started": "2021-09-03T22:01:10.19256Z"
    },
    "tags": []
   },
   "outputs": [],
   "source": [
    "wdir = defs.ROOT / \"data\""
   ]
  },
  {
   "cell_type": "code",
   "execution_count": 4,
   "id": "b743166c-aeea-4f61-842a-6b12e4190ea1",
   "metadata": {
    "execution": {
     "iopub.execute_input": "2021-09-03T22:01:11.336895Z",
     "iopub.status.busy": "2021-09-03T22:01:11.336708Z",
     "iopub.status.idle": "2021-09-03T22:01:58.442121Z",
     "shell.execute_reply": "2021-09-03T22:01:58.441925Z",
     "shell.execute_reply.started": "2021-09-03T22:01:11.336815Z"
    },
    "tags": []
   },
   "outputs": [],
   "source": [
    "data = pd.read_csv(wdir / \"raw\" / \"mongla_tides.csv\").drop_duplicates().set_index(\"datetime\")\n",
    "data = data.set_index(pd.to_datetime(data.index))\n",
    "data = data.reindex(pd.date_range(start=data.index[0], end=data.index[-1], freq=\"1H\"))\n",
    "data = data.rename(columns={\"height\": \"elevation\"})\n",
    "data.index.name = \"datetime\"\n",
    "data.elevation = data.elevation / 100.0"
   ]
  },
  {
   "cell_type": "code",
   "execution_count": 5,
   "id": "ca3599d5-52c6-4699-8e55-dc385261b752",
   "metadata": {
    "execution": {
     "iopub.execute_input": "2021-09-03T22:01:58.442379Z",
     "iopub.status.busy": "2021-09-03T22:01:58.442309Z",
     "iopub.status.idle": "2021-09-03T22:01:58.480257Z",
     "shell.execute_reply": "2021-09-03T22:01:58.480188Z",
     "shell.execute_reply.started": "2021-09-03T22:01:58.442352Z"
    }
   },
   "outputs": [
    {
     "data": {
      "text/html": [
       "<div>\n",
       "<style scoped>\n",
       "    .dataframe tbody tr th:only-of-type {\n",
       "        vertical-align: middle;\n",
       "    }\n",
       "\n",
       "    .dataframe tbody tr th {\n",
       "        vertical-align: top;\n",
       "    }\n",
       "\n",
       "    .dataframe thead th {\n",
       "        text-align: right;\n",
       "    }\n",
       "</style>\n",
       "<table border=\"1\" class=\"dataframe\">\n",
       "  <thead>\n",
       "    <tr style=\"text-align: right;\">\n",
       "      <th></th>\n",
       "      <th>elevation</th>\n",
       "    </tr>\n",
       "    <tr>\n",
       "      <th>datetime</th>\n",
       "      <th></th>\n",
       "    </tr>\n",
       "  </thead>\n",
       "  <tbody>\n",
       "    <tr>\n",
       "      <th>1977-01-01 01:00:00</th>\n",
       "      <td>2.50</td>\n",
       "    </tr>\n",
       "    <tr>\n",
       "      <th>1977-01-01 02:00:00</th>\n",
       "      <td>2.16</td>\n",
       "    </tr>\n",
       "    <tr>\n",
       "      <th>1977-01-01 03:00:00</th>\n",
       "      <td>1.80</td>\n",
       "    </tr>\n",
       "    <tr>\n",
       "      <th>1977-01-01 04:00:00</th>\n",
       "      <td>1.46</td>\n",
       "    </tr>\n",
       "    <tr>\n",
       "      <th>1977-01-01 05:00:00</th>\n",
       "      <td>1.19</td>\n",
       "    </tr>\n",
       "    <tr>\n",
       "      <th>...</th>\n",
       "      <td>...</td>\n",
       "    </tr>\n",
       "    <tr>\n",
       "      <th>2011-12-31 20:00:00</th>\n",
       "      <td>3.17</td>\n",
       "    </tr>\n",
       "    <tr>\n",
       "      <th>2011-12-31 21:00:00</th>\n",
       "      <td>2.57</td>\n",
       "    </tr>\n",
       "    <tr>\n",
       "      <th>2011-12-31 22:00:00</th>\n",
       "      <td>2.04</td>\n",
       "    </tr>\n",
       "    <tr>\n",
       "      <th>2011-12-31 23:00:00</th>\n",
       "      <td>1.60</td>\n",
       "    </tr>\n",
       "    <tr>\n",
       "      <th>2012-01-01 00:00:00</th>\n",
       "      <td>1.26</td>\n",
       "    </tr>\n",
       "  </tbody>\n",
       "</table>\n",
       "<p>306792 rows × 1 columns</p>\n",
       "</div>"
      ],
      "text/plain": [
       "                     elevation\n",
       "datetime                      \n",
       "1977-01-01 01:00:00       2.50\n",
       "1977-01-01 02:00:00       2.16\n",
       "1977-01-01 03:00:00       1.80\n",
       "1977-01-01 04:00:00       1.46\n",
       "1977-01-01 05:00:00       1.19\n",
       "...                        ...\n",
       "2011-12-31 20:00:00       3.17\n",
       "2011-12-31 21:00:00       2.57\n",
       "2011-12-31 22:00:00       2.04\n",
       "2011-12-31 23:00:00       1.60\n",
       "2012-01-01 00:00:00       1.26\n",
       "\n",
       "[306792 rows x 1 columns]"
      ]
     },
     "execution_count": 5,
     "metadata": {},
     "output_type": "execute_result"
    }
   ],
   "source": [
    "data"
   ]
  },
  {
   "cell_type": "code",
   "execution_count": null,
   "id": "afd16b80-2db5-437c-888b-7f8b08ab4fe5",
   "metadata": {
    "tags": []
   },
   "outputs": [],
   "source": [
    "data[[\"high\", \"low\"]] = False\n",
    "distance = 8\n",
    "hi = find_peaks(x=data.elevation.values, distance=distance)[0]\n",
    "lo = find_peaks(x=data.elevation.values * -1, distance=distance)[0]\n",
    "data.loc[data.iloc[hi].index, \"high\"] = True\n",
    "data.loc[data.iloc[lo].index, \"low\"] = True"
   ]
  },
  {
   "cell_type": "code",
   "execution_count": null,
   "id": "31dc9fc8-68f8-42ae-bea3-97cf65df1044",
   "metadata": {
    "tags": []
   },
   "outputs": [],
   "source": [
    "window = pd.Timedelta(\"24h 50min\") * 3 # three tidal cycles\n",
    "data[\"high_roll\"] = data.elevation[data.high == True].rolling(window=window, center=True).mean().reindex(index=data.index).interpolate(method=\"time\", limit_direction=\"both\")\n",
    "data[\"low_roll\"] = data.elevation[data.low == True].rolling(window=window, center=True).mean().reindex(index=data.index).interpolate(method=\"time\", limit_direction=\"both\")"
   ]
  },
  {
   "cell_type": "code",
   "execution_count": null,
   "id": "e23f77a6-8335-4f69-b7f6-c758da02c037",
   "metadata": {},
   "outputs": [],
   "source": [
    "dt = (data.index - data.index[0]).total_seconds().astype(int)\n",
    "frac = (24 * 60 + 50) / 60 / len(data)\n",
    "data[\"high_smooth\"] = list(zip(*sm.nonparametric.lowess(data.high_roll.values, dt, frac=frac, is_sorted=True)))[1]\n",
    "data[\"low_smooth\"] = list(zip(*sm.nonparametric.lowess(data.low_roll.values, dt, frac=frac, is_sorted=True)))[1]\n",
    "\n",
    "data[\"amp\"] = data.high_smooth - data.low_smooth"
   ]
  },
  {
   "cell_type": "code",
   "execution_count": null,
   "id": "5de35389-37d3-4e3e-b043-07aad37a6ec8",
   "metadata": {
    "tags": []
   },
   "outputs": [],
   "source": [
    "data[[\"spring\", \"neap\"]] = False\n",
    "distance = 12 * 24\n",
    "hi = find_peaks(x=data.amp.values, distance=distance)[0]\n",
    "lo = find_peaks(x=data.amp.values * -1, distance=distance)[0]\n",
    "data.loc[data.iloc[hi].index, \"spring\"] = True\n",
    "data.loc[data.iloc[lo].index, \"neap\"] = True"
   ]
  },
  {
   "cell_type": "code",
   "execution_count": null,
   "id": "90d4b7ad-c8c3-491e-91bc-c27094fd1bb3",
   "metadata": {
    "tags": []
   },
   "outputs": [],
   "source": [
    "span = \"90D\"\n",
    "start = pd.to_datetime(\"1977-01-15\")\n",
    "pdata = data.loc[pd.to_datetime(start) - pd.Timedelta(span):pd.to_datetime(start) + pd.Timedelta(span)].reset_index()\n",
    "\n",
    "fig = plt.figure(figsize=(10, 5))\n",
    "ax = fig.subplots()\n",
    "\n",
    "sns.lineplot(data=pdata, x=\"datetime\", y=\"elevation\", color=\"cornflowerblue\", alpha=0.3, ax=ax)\n",
    "sns.lineplot(data=pdata, x=\"datetime\", y=\"amp\", color=\"black\", alpha=0.3, ax=ax)\n",
    "sns.scatterplot(data=pdata.loc[pdata.high == True], x=\"datetime\", y=\"elevation\", color=\"green\", s=15, ax=ax)\n",
    "sns.scatterplot(data=pdata.loc[pdata.low == True], x=\"datetime\", y=\"elevation\", color=\"red\", s=15, ax=ax)\n",
    "\n",
    "sns.scatterplot(data=pdata.loc[pdata.spring_high == True], x=\"datetime\", y=\"elevation\", color=\"green\", marker=\"^\", s=50, ax=ax)\n",
    "sns.scatterplot(data=pdata.loc[pdata.neap_high == True], x=\"datetime\", y=\"elevation\", color=\"red\", marker=\"s\", s=50, ax=ax)\n",
    "\n",
    "sns.scatterplot(data=pdata.loc[pdata.spring_low == True], x=\"datetime\", y=\"elevation\", color=\"green\", marker=\"s\", s=50, ax=ax)\n",
    "sns.scatterplot(data=pdata.loc[pdata.neap_low == True], x=\"datetime\", y=\"elevation\", color=\"red\", marker=\"s\", s=50, ax=ax)\n",
    "\n",
    "for i in range(0, pdata.loc[pdata.spring == True].shape[0]):\n",
    "    xmin = pdata.loc[pdata.spring == True].datetime.iloc[i] - pd.Timedelta(\"6H\")\n",
    "    xmax = pdata.loc[pdata.spring == True].datetime.iloc[i] + pd.Timedelta(\"6H\")\n",
    "    plt.axvspan(xmin=xmin, xmax=xmax, color=\"green\", alpha=0.4)\n",
    "\n",
    "for i in range(0, pdata.loc[pdata.neap == True].shape[0]):\n",
    "    xmin = pdata.loc[pdata.neap == True].datetime.iloc[i] - pd.Timedelta(\"6H\")\n",
    "    xmax = pdata.loc[pdata.neap == True].datetime.iloc[i] + pd.Timedelta(\"6H\")\n",
    "    plt.axvspan(xmin=xmin, xmax=xmax, color=\"red\", alpha=0.4)\n",
    "\n",
    "title = \"Mongla Tidal Data\"\n",
    "xlabel = \"\"\n",
    "ylabel = \"Elevation (m)\"\n",
    "rotation = 0\n",
    "\n",
    "locator = locator = mdates.AutoDateLocator(minticks=3, maxticks=7)\n",
    "formatter = mdates.ConciseDateFormatter(locator)\n",
    "\n",
    "ax.xaxis.set(major_locator=locator, major_formatter=formatter)\n",
    "ax.tick_params(axis='x', labelrotation=rotation)\n",
    "ax.set(title=title, xlabel=xlabel, ylabel=ylabel)\n",
    "fig.tight_layout()"
   ]
  },
  {
   "cell_type": "code",
   "execution_count": null,
   "id": "6fef0542-346b-42bd-a2ec-81fbd44b5330",
   "metadata": {
    "tags": []
   },
   "outputs": [],
   "source": [
    "spring_locs = data[data.spring == True].index\n",
    "neap_locs = data[data.neap == True].index\n",
    "\n",
    "data[[\"spring_high\", \"spring_low\", \"neap_high\", \"neap_low\"]] = False\n",
    "window = pd.Timedelta(\"15H\")\n",
    "for loc in spring_locs:\n",
    "    hloc = data[data.high == True].elevation.loc[loc-window:loc+window].idxmax()\n",
    "    data.loc[hloc, \"spring_high\"] = True\n",
    "    lloc = data[data.low == True].elevation.loc[loc-window:loc+window].idxmin()\n",
    "    data.loc[lloc, \"spring_low\"] = True\n",
    "\n",
    "for loc in neap_locs:\n",
    "    hloc = data[data.high == True].elevation.loc[loc-window:loc+window].idxmin()\n",
    "    data.loc[hloc, \"neap_high\"] = True\n",
    "    lloc = data[data.low == True].elevation.loc[loc-window:loc+window].idxmax()\n",
    "    data.loc[lloc, \"neap_low\"] = True"
   ]
  },
  {
   "cell_type": "code",
   "execution_count": null,
   "id": "4194481c-f0fb-4b90-90fe-67054fcf55d9",
   "metadata": {},
   "outputs": [],
   "source": [
    "def lm_tides(data, label=None):\n",
    "    from collections import namedtuple\n",
    "    Result = namedtuple(\"Result\", [\"lm\", \"index\", \"preds\", \"coef\", \"intercept\", \"label\", \"eq\"])\n",
    "    lm = LinearRegression()\n",
    "    index = data.index\n",
    "    x = (data.index - data.index[0]).total_seconds().astype(int) / pd.Timedelta(days=365).total_seconds()\n",
    "    x = x.values.reshape(-1, 1)\n",
    "    y = data.values.reshape(-1, 1)\n",
    "    lm.fit(x, y)\n",
    "    preds = lm.predict(x).reshape(-1)\n",
    "    coef = lm.coef_[0][0] \n",
    "    intercept = lm.intercept_[0]\n",
    "\n",
    "    eq = \"$\\zeta_{{{}}}={:.4f}t {:+.4f}$\".format(label, coef, intercept)\n",
    "    return Result(lm, index, preds, coef, intercept, label, eq)"
   ]
  },
  {
   "cell_type": "code",
   "execution_count": null,
   "id": "18a5c011-c3b6-4e7a-843a-6967e2e049fc",
   "metadata": {
    "tags": []
   },
   "outputs": [],
   "source": [
    "subset = data.loc[\"2000\":]\n",
    "\n",
    "data_lm = lm_tides(data=subset.elevation.dropna(), label=\"MW\")\n",
    "highs_lm = lm_tides(data=subset[subset.high == True].elevation.dropna(), label=\"HW\")\n",
    "lows_lm = lm_tides(data=subset[subset.low == True].elevation.dropna(), label=\"LW\")\n",
    "\n",
    "spring_highs = lm_tides(data=subset[subset.spring_high == True].elevation, label=\"SHW\")\n",
    "spring_lows = lm_tides(data=subset[subset.spring_low == True].elevation, label=\"SLW\")\n",
    "\n",
    "neap_highs = lm_tides(data=subset[subset.neap_high == True].elevation, label=\"NHW\")\n",
    "neap_lows = lm_tides(data=subset[subset.neap_low == True].elevation, label=\"NLW\")\n",
    "\n",
    "fig = plt.figure(figsize=(10, 5))\n",
    "ax = plt.axes()\n",
    "\n",
    "sns.scatterplot(data=subset, x=\"datetime\", y=\"elevation\", color=\"cornflowerblue\", marker=\".\", edgecolor=None, alpha=0.3, s=5, ax=ax)\n",
    "sns.scatterplot(data=subset.loc[subset.high == True], x=\"datetime\", y=\"elevation\", marker=\".\", color=\"green\", edgecolor=None, s=10, alpha=0.3, ax=ax)\n",
    "sns.scatterplot(data=subset.loc[subset.low == True], x=\"datetime\", y=\"elevation\", marker=\".\", color=\"red\", edgecolor=None, s=10, alpha=0.3, ax=ax)\n",
    "\n",
    "sns.lineplot(ax=ax, x=highs_lm.index, y=highs_lm.preds, color=\"black\", linestyle=\"dashed\", zorder=100)\n",
    "sns.lineplot(ax=ax, x=lows_lm.index, y=lows_lm.preds, color=\"black\", linestyle=\"dashed\", zorder=100)\n",
    "\n",
    "sns.lineplot(ax=ax, x=spring_highs.index, y=spring_highs.preds, color=\"black\", linestyle=\"dashdot\", zorder=100)\n",
    "sns.lineplot(ax=ax, x=neap_highs.index, y=neap_highs.preds, color=\"black\", linestyle=\"dotted\", zorder=100)\n",
    "sns.lineplot(ax=ax, x=spring_lows.index, y=spring_lows.preds, color=\"black\", linestyle=\"dashdot\", zorder=102)\n",
    "sns.lineplot(ax=ax, x=neap_lows.index, y=neap_lows.preds, color=\"black\", linestyle=\"dotted\", zorder=102)\n",
    "\n",
    "lms = [\"highs_lm\", \"lows_lm\", \"spring_highs\", \"spring_lows\", \"neap_highs\", \"neap_lows\"]\n",
    "x = data.index[-1]\n",
    "for lm in lms:\n",
    "    lm = eval(lm)\n",
    "    ax.text(x=x, y=lm.preds[-1], s=\"$\\zeta_{{{}}}$ $({:+.2} cm \\cdot yr^{{-1}})$\".format(lm.label, lm.coef * 100), fontsize=\"medium\")\n",
    "    \n",
    "title = \"Mongla Tidal Data from {} to {}\".format(subset.index[0].strftime(\"%b %Y\"), subset.index[-1].strftime(\"%b %Y\"))\n",
    "xlabel = \"\"\n",
    "ylabel = \"Elevation (m)\"\n",
    "\n",
    "locator = locator = mdates.AutoDateLocator(minticks=3, maxticks=7)\n",
    "formatter = mdates.ConciseDateFormatter(locator)\n",
    "\n",
    "ax.xaxis.set(major_locator=locator, major_formatter=formatter)\n",
    "ax.set(title=title, xlabel=xlabel, ylabel=ylabel)\n",
    "\n",
    "fig.tight_layout()"
   ]
  },
  {
   "cell_type": "code",
   "execution_count": null,
   "id": "1810ad5b-4f72-4944-8889-aebb51ab566f",
   "metadata": {
    "tags": []
   },
   "outputs": [],
   "source": [
    "def lm_grouped(group):\n",
    "    (group_label, subset) = group\n",
    "    \n",
    "    subset = subset.set_index(\"datetime\")\n",
    "    if subset.index[0].year != subset.index[-1].year:\n",
    "        group_label = \"{}-{}\".format(subset.index[0].year, subset.index[-1].year)\n",
    "    \n",
    "    data_lm = lm_tides(data=subset.elevation.dropna(), label=\"MW\")\n",
    "    highs_lm = lm_tides(data=subset[subset.high == True].elevation.dropna(), label=\"HW\")\n",
    "    lows_lm = lm_tides(data=subset[subset.low == True].elevation.dropna(), label=\"LW\")\n",
    "\n",
    "    spring_highs = lm_tides(data=subset[subset.spring_high == True].elevation, label=\"SHW\")\n",
    "    spring_lows = lm_tides(data=subset[subset.spring_low == True].elevation, label=\"SLW\")\n",
    "\n",
    "    neap_highs = lm_tides(data=subset[subset.neap_high == True].elevation, label=\"NHW\")\n",
    "    neap_lows = lm_tides(data=subset[subset.neap_low == True].elevation, label=\"NLW\")\n",
    "    \n",
    "    out = {\"all\": data_lm.coef, \"highs\": highs_lm.coef, \"spring_highs\": spring_highs.coef, \"neap_highs\": neap_highs.coef, \"lows\": lows_lm.coef, \"spring_lows\": spring_lows.coef, \"neap_lows\": neap_lows.coef}\n",
    "    \n",
    "    return({group_label: out}, subset)"
   ]
  },
  {
   "cell_type": "code",
   "execution_count": null,
   "id": "3d21b978-3d00-4ae5-8677-945d2ccfb558",
   "metadata": {
    "tags": []
   },
   "outputs": [],
   "source": [
    "group_freq = \"5YS\"\n",
    "grouping = data.reset_index().groupby(by=pd.Grouper(key=\"datetime\", freq=group_freq))\n",
    "g = dict()\n",
    "gg = []\n",
    "for i in grouping:\n",
    "    if i[1].shape[0] > 14 * 24:\n",
    "        d, dd = lm_grouped(i)\n",
    "        g.update(d)\n",
    "        gg.append(dd)\n",
    "        \n",
    "trends = pd.DataFrame.from_dict(g).transpose()\n",
    "trends.index.name = \"years\""
   ]
  },
  {
   "cell_type": "code",
   "execution_count": null,
   "id": "ec678ab2-c860-4287-ba80-6470ea9de7e9",
   "metadata": {
    "tags": []
   },
   "outputs": [],
   "source": [
    "extrema = data[(data.high == True) | (data.low == True) | (data.spring_high == True) | (data.spring_low == True) | (data.neap_high == True) | (data.neap_low == True)].copy()\n",
    "extrema[\"type\"] = None\n",
    "\n",
    "for row in extrema.itertuples():\n",
    "    if row.high == True:\n",
    "        if extrema.loc[row.Index, \"type\"] is not None:\n",
    "            print(row.Index)\n",
    "        extrema.loc[row.Index, \"type\"] = \"H\"\n",
    "    if row.low == True:\n",
    "        if extrema.loc[row.Index, \"type\"] is not None:\n",
    "            print(row.Index)\n",
    "        extrema.loc[row.Index, \"type\"] = \"L\"\n",
    "    if row.spring_high == True:\n",
    "        if extrema.loc[row.Index, \"type\"] is not None and extrema.loc[row.Index, \"type\"] != \"H\":\n",
    "            print(row.Index)\n",
    "        extrema.loc[row.Index, \"type\"] = \"SH\"\n",
    "    if row.spring_low == True:\n",
    "        if extrema.loc[row.Index, \"type\"] is not None and extrema.loc[row.Index, \"type\"] != \"L\":\n",
    "            print(row.Index)\n",
    "        extrema.loc[row.Index, \"type\"] = \"SL\"\n",
    "    if row.neap_high == True:\n",
    "        if extrema.loc[row.Index, \"type\"] is not None and extrema.loc[row.Index, \"type\"] != \"H\":\n",
    "            print(row.Index)\n",
    "        extrema.loc[row.Index, \"type\"] = \"NH\"\n",
    "    if row.neap_low == True:\n",
    "        if extrema.loc[row.Index, \"type\"] is not None and extrema.loc[row.Index, \"type\"] != \"L\":\n",
    "            print(row.Index)\n",
    "        extrema.loc[row.Index, \"type\"] = \"NL\"\n",
    "\n",
    "extrema = extrema[[\"elevation\", \"type\"]]"
   ]
  },
  {
   "cell_type": "code",
   "execution_count": null,
   "id": "7df38c9e-a0ef-4281-ac81-e0c7e4b59fc2",
   "metadata": {
    "tags": []
   },
   "outputs": [],
   "source": [
    "yearly_ext = extrema.groupby(by=[pd.Grouper(freq=\"1YS\"), \"type\"]).agg({\"elevation\": [\"mean\", \"min\", \"max\"]})\n",
    "yearly_amp = data[:\"2011\"].amp.to_frame().groupby(by=[pd.Grouper(freq=\"1YS\")]).agg([\"mean\", \"min\", \"max\"]).set_index(yearly.index.get_level_values(level=0).unique())\n",
    "yearly.index = pd.MultiIndex.from_tuples([(i.strftime('%Y'), j) for (i, j) in yearly.index], names=[\"year\", \"type\"])\n",
    "monthly = extrema.groupby(by=[pd.Grouper(freq=\"1YS\"), pd.Grouper(freq=\"1MS\"), \"type\"]).agg({\"elevation\": [\"mean\", \"min\", \"max\"]})\n",
    "monthly.index = pd.MultiIndex.from_tuples([(i.strftime('%Y'), j.strftime('%b'), k) for (i, j, k) in monthly.index], names=[\"year\", \"month\", \"type\"])"
   ]
  },
  {
   "cell_type": "code",
   "execution_count": null,
   "id": "cd8391ae-0658-4d87-8f16-01256d8e8d85",
   "metadata": {
    "tags": []
   },
   "outputs": [],
   "source": [
    "yearly_ext = extrema.groupby(by=[pd.Grouper(freq=\"1YS\"), \"type\"]).agg(func=[\"mean\", \"min\", \"max\"]).elevation.reset_index().set_index(\"datetime\")\n",
    "yearly_amp = data[:\"2011\"].amp.to_frame().groupby(by=[pd.Grouper(freq=\"1YS\")]).agg([\"mean\", \"min\", \"max\"]).amp.reset_index().set_index(\"datetime\")\n",
    "yearly_amp[\"type\"] = \"amp\"\n",
    "yearly = yearly_ext.append(yearly_amp).sort_index().reset_index()\n",
    "# yearly.datetime = [i.strftime('%Y') for i in yearly.datetime]\n",
    "yearly = yearly.set_index(keys=[\"datetime\", \"type\"])"
   ]
  },
  {
   "cell_type": "code",
   "execution_count": null,
   "id": "8f747782-e573-48f7-91f1-3ad32a64ddcf",
   "metadata": {
    "tags": []
   },
   "outputs": [],
   "source": [
    "# fig = plt.figure(figsize=(13, 8))\n",
    "# ax = plt.axes()\n",
    "\n",
    "fig, ax = plt.subplots(nrows=3, ncols=1, figsize=(13, 8))\n",
    "\n",
    "highs = yearly[yearly.reset_index().type.str.contains(\"H\").values]\n",
    "lows = yearly[yearly.reset_index().type.str.contains(\"L\").values]\n",
    "amp = yearly[(yearly.reset_index().type == \"amp\").values]\n",
    "\n",
    "sns.lineplot(data=highs.reset_index(), x=\"datetime\", y=\"max\", hue=\"type\", hue_order=[\"H\", \"SH\", \"NH\"], style=\"type\", style_order=[\"H\", \"SH\", \"NH\"], ax=ax[0])\n",
    "sns.lineplot(data=lows.reset_index(), x=\"datetime\", y=\"max\", hue=\"type\", hue_order=[\"L\", \"SL\", \"NL\"], style=\"type\", style_order=[\"L\", \"SL\", \"NL\"], ax=ax[1])\n",
    "sns.lineplot(data=amp.reset_index(), x=\"datetime\", y=\"mean\", hue=\"type\", style=\"type\", ax=ax[2])\n",
    "# sns.lineplot(data=year_avg.reset_index(), x=\"year\", y=\"neap_high\", color=\"red\", linestyle=\"dotted\", label=\"Neap\", ax=ax[0])\n",
    "\n",
    "# sns.lineplot(data=averages.reset_index(), x=\"year\", y=\"neap_low\", color=\"red\", linestyle=\"dotted\", label=\"Neap\", ax=ax[1])\n",
    "# sns.lineplot(data=averages.reset_index(), x=\"year\", y=\"spring_low\", color=\"green\", linestyle=\"dotted\", label=\"Spring\", ax=ax[1])\n",
    "\n",
    "# sns.lineplot(data=averages.reset_index(), x=\"years\", y=\"amp\", color=\"black\", ax=ax[2])\n",
    "\n",
    "\n",
    "\n",
    "# lms = [\"highs_lm\", \"lows_lm\", \"spring_highs\", \"spring_lows\", \"neap_highs\", \"neap_lows\"]\n",
    "# x = data.index[-1]\n",
    "# for lm in lms:\n",
    "#     lm = eval(lm)\n",
    "#     ax.text(x=x, y=lm.preds[-1], s=\"$\\zeta_{{{}}}$ $({:+.2} cm \\cdot yr^{{-1}})$\".format(lm.label, lm.coef * 100), fontsize=\"medium\")\n",
    "# title = \"{} Year Trend in Mongla Tidal Data\".format(eval(trends.index[0]) * -1 + 1)\n",
    "# xlabel = \"\"\n",
    "# ylabel = \"$\\Delta$ Elevation (m)\"\n",
    "\n",
    "# locator = mdates.YearLocator(5)\n",
    "# formatter = mdates.DateFormatter('%Y')\n",
    "\n",
    "locator = mdates.AutoDateLocator(minticks=3, maxticks=7)\n",
    "formatter = mdates.ConciseDateFormatter(locator)\n",
    "\n",
    "for a in ax:\n",
    "    a.xaxis.set(major_locator=locator, major_formatter=formatter)\n",
    "    \n",
    "ax[0].set(title=\"Highs\", xlabel=xlabel, ylabel=ylabel)\n",
    "ax[1].set(title=\"Lows\", xlabel=xlabel, ylabel=ylabel)\n",
    "ax[2].set(title=\"Amplitude\", xlabel=xlabel, ylabel=ylabel)\n",
    "ax[0].set(xticklabels=[])\n",
    "ax[1].set(xticklabels=[])\n",
    "\n",
    "ax[1].get_legend().remove()\n",
    "\n",
    "fig.tight_layout()"
   ]
  },
  {
   "cell_type": "code",
   "execution_count": null,
   "id": "b480955b-79eb-406e-ae2f-e96905963e70",
   "metadata": {
    "tags": []
   },
   "outputs": [],
   "source": [
    "fig, ax = plt.subplots(nrows=3, ncols=1, figsize=(13, 8))\n",
    "\n",
    "\n",
    "\n",
    "sns.lineplot(data=trends.reset_index(), x=\"years\", y=\"spring_highs\", color=\"green\", linestyle=\"dotted\", label=\"SHW\", ax=ax[0])\n",
    "sns.lineplot(data=trends.reset_index(), x=\"years\", y=\"neap_highs\", color=\"red\", linestyle=\"dotted\", label=\"NHW\", ax=ax[0])\n",
    "\n",
    "sns.lineplot(data=trends.reset_index(), x=\"years\", y=\"neap_lows\", color=\"red\", linestyle=\"dotted\", label=\"NLW\", ax=ax[1])\n",
    "sns.lineplot(data=trends.reset_index(), x=\"years\", y=\"spring_lows\", color=\"green\", linestyle=\"dotted\", label=\"SLW\", ax=ax[1])\n",
    "\n",
    "sns.lineplot(data=trends.reset_index(), x=\"years\", y=\"all\", color=\"black\", linestyle=\"solid\", label=\"All\", ax=ax[2])\n",
    "sns.lineplot(data=trends.reset_index(), x=\"years\", y=\"highs\", color=\"green\", linestyle=\"dashed\", label=\"HW\", ax=ax[2])\n",
    "sns.lineplot(data=trends.reset_index(), x=\"years\", y=\"lows\", color=\"red\", linestyle=\"dashed\", label=\"LW\", ax=ax[2])\n",
    "\n",
    "ax[0].set(title=\"Highs\", xlabel=xlabel, ylabel=ylabel)\n",
    "ax[1].set(title=\"Lows\", xlabel=xlabel, ylabel=ylabel)\n",
    "ax[2].set(title=\"All\", xlabel=xlabel, ylabel=ylabel)\n",
    "ax[0].set(xticklabels=[])\n",
    "ax[1].set(xticklabels=[])\n",
    "\n",
    "ax[1].get_legend().remove()\n",
    "\n",
    "fig.tight_layout()"
   ]
  },
  {
   "cell_type": "code",
   "execution_count": null,
   "id": "2bc1ad14-35b3-4af2-891d-74777558fdb6",
   "metadata": {},
   "outputs": [],
   "source": []
  }
 ],
 "metadata": {
  "kernelspec": {
   "display_name": "Python 3.9 (XPython)",
   "language": "python",
   "name": "xpython"
  },
  "language_info": {
   "file_extension": ".py",
   "mimetype": "text/x-python",
   "name": "python",
   "version": "3.9.5"
  },
  "widgets": {
   "application/vnd.jupyter.widget-state+json": {
    "state": {},
    "version_major": 2,
    "version_minor": 0
   }
  }
 },
 "nbformat": 4,
 "nbformat_minor": 5
}
