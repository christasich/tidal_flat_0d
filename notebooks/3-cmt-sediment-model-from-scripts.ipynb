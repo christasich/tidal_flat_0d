{
 "cells": [
  {
   "cell_type": "markdown",
   "metadata": {},
   "source": [
    "# Setup"
   ]
  },
  {
   "cell_type": "markdown",
   "metadata": {},
   "source": [
    " Import standard modules"
   ]
  },
  {
   "cell_type": "code",
   "execution_count": 1,
   "metadata": {},
   "outputs": [],
   "source": [
    "import pandas as pd\n",
    "import numpy as np\n",
    "import sys\n",
    "from scipy.interpolate import InterpolatedUnivariateSpline\n",
    "from scipy.integrate import solve_ivp\n",
    "from matplotlib import pyplot as plt\n",
    "import time"
   ]
  },
  {
   "cell_type": "markdown",
   "metadata": {},
   "source": [
    "Set root directory"
   ]
  },
  {
   "cell_type": "code",
   "execution_count": 2,
   "metadata": {},
   "outputs": [],
   "source": [
    "from pyprojroot import here\n",
    "root = here()\n",
    "sys.path.append(str(root))\n",
    "wdir = root / \"data\" / \"interim\" / \"tides\""
   ]
  },
  {
   "cell_type": "markdown",
   "metadata": {},
   "source": [
    "Import project modules"
   ]
  },
  {
   "cell_type": "code",
   "execution_count": 3,
   "metadata": {},
   "outputs": [],
   "source": [
    "from tidal_flat_0d import models\n",
    "from tidal_flat_0d import features\n",
    "from tidal_flat_0d import visualization as viz"
   ]
  },
  {
   "cell_type": "markdown",
   "metadata": {},
   "source": [
    "# Run Model"
   ]
  },
  {
   "cell_type": "code",
   "execution_count": 85,
   "metadata": {},
   "outputs": [],
   "source": [
    "def aggrade(water_heights, timestep, settle_rate, bulk_dens, bound_conc, init_elev=0, init_conc=0, depth_cutoff=0.001, debug=False):\n",
    "\n",
    "    def below_platform(t, y, *args):\n",
    "        depth = tide_spl(t) - (y[1] + depth_cutoff)\n",
    "        return depth\n",
    "\n",
    "    below_platform.terminal = True\n",
    "    below_platform.direction = -1\n",
    "\n",
    "    def solve_ode(t, y, *args):\n",
    "        \n",
    "        # set initial values for concentration and elevation\n",
    "        init_conc = y[0]\n",
    "        init_elev = y[1]\n",
    "        \n",
    "        # use spline function for tide height to set current water_height\n",
    "        water_height = tide_spl(t)\n",
    "        depth = water_height - init_elev #calculate current depth\n",
    "\n",
    "        # use derivative of tide spline to get current gradient and set H\n",
    "        dhdt = dhdt_spl(t)\n",
    "\n",
    "        if dhdt > 0:\n",
    "            H = 1\n",
    "        else:\n",
    "            H = 0\n",
    "        \n",
    "        delta_conc = - (settle_rate * init_conc) / depth - H / depth * (init_conc - bound_conc) * dhdt\n",
    "        delta_elev = settle_rate * (init_conc + delta_conc) / bulk_dens\n",
    "\n",
    "        return [delta_conc, delta_elev]\n",
    "\n",
    "    elev = init_elev\n",
    "    conc = init_conc\n",
    "    data = pd.Series(water_heights)\n",
    "    pos = 0\n",
    "    elevs = np.empty(0)\n",
    "    concs = np.empty(0)\n",
    "    times = np.empty(0)\n",
    "    inundations = 0\n",
    "\n",
    "    while True:\n",
    "        remaining_data = data[pos:]\n",
    "        data_above_platform = remaining_data[remaining_data > (elev + depth_cutoff)]\n",
    "        \n",
    "        if len(data_above_platform) < 4:\n",
    "            break\n",
    "\n",
    "        if len(np.where(np.diff(data_above_platform.index) != 1)[0]) == 0:\n",
    "            end = len(data_above_platform)\n",
    "        else:\n",
    "            end = np.where(np.diff(data_above_platform.index) != 1)[0][0] + 1\n",
    "        \n",
    "        \n",
    "        subset = data_above_platform[:end]\n",
    "\n",
    "        if len(subset) < 4:\n",
    "            pos = end + 1\n",
    "            continue\n",
    "            \n",
    "        subset = pd.Series(data=subset.values, index=pd.timedelta_range(start=0, periods=len(subset), freq=timestep))\n",
    "        subset = subset.resample(rule='1s').interpolate(method='linear')\n",
    "        subset = pd.Series(data=subset.values, index=np.arange(0, len(subset)))\n",
    "\n",
    "        tide_spl = InterpolatedUnivariateSpline(subset.index, subset)\n",
    "        dhdt_spl = tide_spl.derivative()\n",
    "\n",
    "        t_span = [subset.index[0], subset.index[-1]]\n",
    "        result = solve_ivp(fun=solve_ode, t_span=t_span, y0=[conc, elev], events=below_platform,\n",
    "                               args=(bound_conc, settle_rate, bulk_dens, depth_cutoff, timestep), dense_output=True)\n",
    "        if result.status == -1:\n",
    "            print(result.message)\n",
    "            break\n",
    "        \n",
    "        times = np.concatenate((times, result.t / timestep.delta.total_seconds() + pos))\n",
    "        concs = np.concatenate((concs, result.y[0]))\n",
    "        elevs = np.concatenate((elevs, result.y[1]))\n",
    "\n",
    "        elev = result.y[1][-1]\n",
    "        inundations += 1\n",
    "        pos = end + 1\n",
    "\n",
    "    return [times, concs, elevs]"
   ]
  },
  {
   "cell_type": "code",
   "execution_count": 111,
   "metadata": {},
   "outputs": [],
   "source": [
    "# Load Tides\n",
    "tide_dt = 30\n",
    "tide_name = \"tides-debug-{}s.feather\".format(tide_dt)\n",
    "# tide_name = 'tides-1yr-{}s.feather'.format(tide_dt)\n",
    "tides = features.load_tide(wdir, tide_name)\n",
    "tides = pd.Series(data=tides.pressure.values, index=pd.DatetimeIndex(data=tides.index.values, freq=\"infer\"))\n",
    "timestep = tides.index.freq\n",
    "\n",
    "# turn data into series with numeric index\n",
    "data = pd.Series(tides.values)\n",
    "\n",
    "# Set grain parameters and settling velocity\n",
    "grain_dia = 0.000035  # grain diameter (m)\n",
    "grain_den = 2650\n",
    "settle_rate = models.stokes_settling(grain_dia=grain_dia, grain_den=grain_den)\n",
    "\n",
    "# Set basic model parameters\n",
    "bound_conc = 0.8\n",
    "bulk_dens = 1100\n",
    "depth_cutoff = 0.001\n",
    "init_elev = 0\n",
    "reps = 1\n",
    "slr = 0 # SLR increase per rep\n",
    "\n",
    "# Tide function for plotting tides\n",
    "tide_spl = InterpolatedUnivariateSpline(np.arange(0, len(data)), data)\n",
    "dhdt_spl = tide_spl.derivative()"
   ]
  },
  {
   "cell_type": "code",
   "execution_count": 112,
   "metadata": {},
   "outputs": [
    {
     "name": "stdout",
     "output_type": "stream",
     "text": [
      "Total accumulation: 0.102691 cm\n",
      "Final Elevation: 0.0010 m\n",
      "Simulation completed in 0 s\n"
     ]
    }
   ],
   "source": [
    "times = np.empty(0)\n",
    "concs = np.empty(0)\n",
    "elevs = np.empty(0)\n",
    "elev = init_elev\n",
    "water_heights = data.values\n",
    "start_time = time.perf_counter()\n",
    "for rep in range(0, reps):\n",
    "    water_heights = water_heights + (rep * slr)\n",
    "    t, c, z = aggrade(water_heights=water_heights, settle_rate=settle_rate, bulk_dens=bulk_dens, \n",
    "                               bound_conc=bound_conc, init_elev=elev, init_conc=0, timestep=timestep, depth_cutoff=depth_cutoff)\n",
    "    times = np.concatenate((times, t))\n",
    "    concs = np.concatenate((concs, c))\n",
    "    elevs = np.concatenate((elevs, z))\n",
    "    elev = elevs[-1]\n",
    "end_time = time.perf_counter()\n",
    "\n",
    "print('Total accumulation: {:f} cm'.format((elev - init_elev) * 100))\n",
    "print('Final Elevation: {:.4f} m'.format(elev))\n",
    "print('Simulation completed in {:.0f} s'.format(end_time - start_time))"
   ]
  },
  {
   "cell_type": "code",
   "execution_count": 113,
   "metadata": {},
   "outputs": [
    {
     "data": {
      "image/png": "[encoded data removed]",
      "text/plain": [
       "<Figure size 1080x720 with 3 Axes>"
      ]
     },
     "metadata": {
      "needs_background": "light"
     },
     "output_type": "display_data"
    }
   ],
   "source": [
    "plt_data = data\n",
    "t = times\n",
    "c = concs\n",
    "z = elevs\n",
    "\n",
    "slack = plt_data.index.values[np.where(dhdt_spl(plt_data.index) < 0)[0][0]]\n",
    "fig, axs = plt.subplots(3, 1)\n",
    "fig.set_figheight(10)\n",
    "fig.set_figwidth(15)\n",
    "axs[0].plot(plt_data)\n",
    "axs[0].axhline(elev + depth_cutoff, ls='--', color='black')\n",
    "axs[1].plot(t, c, color='r')\n",
    "axs[2].plot(t, z, color='g')\n",
    "for ax in axs:\n",
    "    ax.axvline(slack, ls='--', color='black')"
   ]
  },
  {
   "cell_type": "code",
   "execution_count": null,
   "metadata": {},
   "outputs": [],
   "source": []
  }
 ],
 "metadata": {
  "kernelspec": {
   "display_name": "Python 3",
   "language": "python",
   "name": "python3"
  },
  "language_info": {
   "codemirror_mode": {
    "name": "ipython",
    "version": 3
   },
   "file_extension": ".py",
   "mimetype": "text/x-python",
   "name": "python",
   "nbconvert_exporter": "python",
   "pygments_lexer": "ipython3",
   "version": "3.8.5"
  },
  "widgets": {
   "application/vnd.jupyter.widget-state+json": {
    "state": {},
    "version_major": 2,
    "version_minor": 0
   }
  }
 },
 "nbformat": 4,
 "nbformat_minor": 4
}
