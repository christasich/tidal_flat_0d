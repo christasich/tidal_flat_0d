{
 "cells": [
  {
   "cell_type": "markdown",
   "metadata": {},
   "source": [
    "# Import packages"
   ]
  },
  {
   "cell_type": "code",
   "execution_count": 1,
   "metadata": {},
   "outputs": [],
   "source": [
    "import pandas as pd\n",
    "import numpy as np\n",
    "from tqdm.notebook import tqdm\n",
    "import inspect\n",
    "from collections import namedtuple\n",
    "import sys\n",
    "from pyprojroot import here\n",
    "import feather\n",
    "root = here()\n",
    "sys.path.append(str(root))\n",
    "wdir = root / \"data\" / \"interim\" / \"tides\"\n",
    "from tidal_flat_0d import models, features, visualization\n",
    "from scipy.interpolate import interp1d\n",
    "from scipy.integrate import solve_ivp\n",
    "from matplotlib import pyplot as plt"
   ]
  },
  {
   "cell_type": "markdown",
   "metadata": {},
   "source": [
    "# Import data"
   ]
  },
  {
   "cell_type": "code",
   "execution_count": 161,
   "metadata": {},
   "outputs": [],
   "source": [
    "tide_name = \"tides-debug.feather\"\n",
    "tide_name = \"1yr_30s.feather\"\n",
    "tide_series = features.load_tide(wdir, tide_name)\n",
    "\n",
    "index = tide_series.pressure.index\n",
    "water_height = tide_series.pressure.values"
   ]
  },
  {
   "cell_type": "markdown",
   "metadata": {},
   "source": [
    "# Make functions"
   ]
  },
  {
   "cell_type": "markdown",
   "metadata": {},
   "source": [
    "## Turn tide data into functions for height and gradient"
   ]
  },
  {
   "cell_type": "code",
   "execution_count": 162,
   "metadata": {},
   "outputs": [],
   "source": [
    "tide_func = interp1d(np.arange(1,len(index)+1,1), water_height, bounds_error=False, fill_value=\"extrapolate\")\n",
    "dhdt = np.gradient(water_height)\n",
    "dhdt_func = interp1d(np.arange(0,len(index),1), dhdt, bounds_error=False, fill_value=\"extrapolate\")"
   ]
  },
  {
   "cell_type": "markdown",
   "metadata": {},
   "source": [
    "## Concentration function using Runge-Kutta Method"
   ]
  },
  {
   "cell_type": "code",
   "execution_count": 163,
   "metadata": {},
   "outputs": [],
   "source": [
    "def solve_conc(t, y, init_elev, bound_conc, settle_rate, bulk_dens):\n",
    "\n",
    "    init_conc = y[0]\n",
    "    water_height = tide_func(t)\n",
    "    dhdt = dhdt_func(t)\n",
    "    depth = water_height - init_elev\n",
    "\n",
    "    # Checks\n",
    "    tide_increasing = dhdt > 0\n",
    "\n",
    "    if tide_increasing:\n",
    "        delta_conc = - (settle_rate * init_conc) / depth - 1 / depth * (init_conc - bound_conc) * dhdt\n",
    "        if init_conc + delta_conc < 0:\n",
    "            delta_conc = - init_conc\n",
    "        print(init_conc, delta_conc, init_conc + delta_conc)\n",
    "        return delta_conc\n",
    "    if not tide_increasing:\n",
    "        delta_conc = - (settle_rate * init_conc) / depth\n",
    "        if init_conc + delta_conc < 0:\n",
    "            delta_conc = - init_conc\n",
    "        print(init_conc, delta_conc, init_conc + delta_conc)\n",
    "        return delta_conc"
   ]
  },
  {
   "cell_type": "code",
   "execution_count": 164,
   "metadata": {},
   "outputs": [],
   "source": [
    "def solve_conc(t, y, bound_conc, settle_rate, bulk_dens):\n",
    "\n",
    "    init_conc = y[0]\n",
    "    init_elev = y[1]\n",
    "    water_height = tide_func(t)\n",
    "    depth = water_height - init_elev\n",
    "    \n",
    "    if depth <= 0 and init_conc > 0:\n",
    "        delta_conc = - init_conc\n",
    "        delta_elev = 0\n",
    "        y = [delta_conc, delta_elev]\n",
    "        print('UP (t={}):: init_conc {:.2f}, delta_conc {:.2f}, new_conc {:.2f}, init_elev {:.8f}, delta_elev {:.8f}, new_elev {:.8f}'.format(init_conc, delta_conc, init_conc + delta_conc, init_elev, delta_elev, init_elev + delta_elev))\n",
    "        return y\n",
    "    elif depth <= 0 and init_conc <= 0:\n",
    "        delta_conc = 0\n",
    "        delta_elev = 0\n",
    "        y = [delta_conc, delta_elev]\n",
    "        print('UP (t={}):: init_conc {:.2f}, delta_conc {:.2f}, new_conc {:.2f}, init_elev {:.8f}, delta_elev {:.8f}, new_elev {:.8f}'.format(t, init_conc, delta_conc, init_conc + delta_conc, init_elev, delta_elev, init_elev + delta_elev))\n",
    "        return y\n",
    "\n",
    "    dhdt = dhdt_func(t)\n",
    "    tide_increasing = dhdt > 0\n",
    "\n",
    "    if tide_increasing:\n",
    "        delta_conc = - (settle_rate * init_conc) / depth - 1 / depth * (init_conc - bound_conc) * dhdt\n",
    "        if init_conc + delta_conc < 0:\n",
    "            print(depth, dhdt)\n",
    "            delta_conc = - init_conc\n",
    "        delta_elev = settle_rate * (init_conc + delta_conc) / bulk_dens\n",
    "        y = [delta_conc, delta_elev]\n",
    "        print('OP-I (t={}):: init_conc {:.2f}, delta_conc {:.2f}, new_conc {:.2f}, init_elev {:.8f}, delta_elev {:.8f}, new_elev {:.8f}'.format(t, init_conc, delta_conc, init_conc + delta_conc, init_elev, delta_elev, init_elev + delta_elev))\n",
    "        return y\n",
    "    if not tide_increasing:\n",
    "        delta_conc = - (settle_rate * init_conc) / depth\n",
    "        if init_conc + delta_conc < 0:\n",
    "            delta_conc = - init_conc\n",
    "            print(depth, dhdt)\n",
    "        delta_elev = settle_rate * (init_conc + delta_conc) / bulk_dens\n",
    "        y = [delta_conc, delta_elev]\n",
    "        print('OP-D (t={}):: init_conc {:.2f}, delta_conc {:.2f}, new_conc {:.2f}, init_elev {:.8f}, delta_elev {:.8f}, new_elev {:.8f}'.format(t, init_conc, delta_conc, init_conc + delta_conc, init_elev, delta_elev, init_elev + delta_elev))\n",
    "        return y"
   ]
  },
  {
   "cell_type": "code",
   "execution_count": 165,
   "metadata": {},
   "outputs": [],
   "source": [
    "def solve_conc(t, y, bound_conc, settle_rate, bulk_dens):\n",
    "    \n",
    "    init_conc = y[0]\n",
    "    init_elev = y[1]\n",
    "    water_height = tide_func(t)\n",
    "    dhdt = dhdt_func(t)\n",
    "    depth = water_height - init_elev\n",
    "    \n",
    "    if depth < 0:\n",
    "        delta_conc = 0\n",
    "        delta_elev = 0\n",
    "        return [delta_conc, delta_elev]\n",
    "\n",
    "    # Checks\n",
    "    tide_increasing = dhdt > 0\n",
    "    \n",
    "    H = 1\n",
    "    if not tide_increasing:\n",
    "        H = 0\n",
    "        \n",
    "    delta_elev = settle_rate * init_conc / bulk_dens\n",
    "    delta_conc = - (settle_rate * init_conc) / depth - H / depth * (init_conc - bound_conc) * dhdt\n",
    "    \n",
    "    \n",
    "    return [delta_conc, delta_elev]\n",
    "\n",
    "def flood_event(t, y, *args):\n",
    "    elev = y[1]\n",
    "    water_height = tide_func(t)\n",
    "    depth = water_height - elev\n",
    "    return depth\n",
    "flood_event.terminal = False\n",
    "flood_event.direction = 0"
   ]
  },
  {
   "cell_type": "markdown",
   "metadata": {},
   "source": [
    "# Set parameters and run model for one cycle"
   ]
  },
  {
   "cell_type": "code",
   "execution_count": 166,
   "metadata": {},
   "outputs": [
    {
     "name": "stdout",
     "output_type": "stream",
     "text": [
      "Required step size is less than spacing between numbers.\n"
     ]
    }
   ],
   "source": [
    "grain_dia = 0.000035  # grain diameter (m)\n",
    "grain_den = 2650\n",
    "settle_rate = models.stokes_settling(grain_dia=grain_dia, grain_den=grain_den)\n",
    "init_conc = 0\n",
    "bound_conc = 0.8\n",
    "init_elev = 0\n",
    "bulk_dens = 1100\n",
    "\n",
    "last_t = 1.000000000\n",
    "prev_delta = 0.0\n",
    "prev_conc = 0.0\n",
    "\n",
    "t_span = np.arange(1,len(index), 1)\n",
    "\n",
    "sol = solve_ivp(fun=solve_conc, t_span=[t_span[0], t_span[-1]], y0=[init_conc, init_elev], args=(bound_conc, settle_rate, bulk_dens), dense_output=True, events=flood_event)\n",
    "print(sol.message)"
   ]
  },
  {
   "cell_type": "code",
   "execution_count": 170,
   "metadata": {},
   "outputs": [
    {
     "data": {
      "text/plain": [
       "array([[0., 0., 0., 0., 0., 0., 0., 0., 0., 0., 0., 0., 0., 0., 0., 0.,\n",
       "        0., 0., 0., 0., 0., 0., 0., 0., 0., 0., 0., 0., 0., 0., 0., 0.,\n",
       "        0., 0., 0., 0., 0., 0., 0., 0., 0., 0.],\n",
       "       [0., 0., 0., 0., 0., 0., 0., 0., 0., 0., 0., 0., 0., 0., 0., 0.,\n",
       "        0., 0., 0., 0., 0., 0., 0., 0., 0., 0., 0., 0., 0., 0., 0., 0.,\n",
       "        0., 0., 0., 0., 0., 0., 0., 0., 0., 0.]])"
      ]
     },
     "execution_count": 170,
     "metadata": {},
     "output_type": "execute_result"
    }
   ],
   "source": [
    "sol.y"
   ]
  },
  {
   "cell_type": "markdown",
   "metadata": {},
   "source": [
    "# Plot results"
   ]
  },
  {
   "cell_type": "code",
   "execution_count": 167,
   "metadata": {},
   "outputs": [
    {
     "data": {
      "image/png": "[encoded data removed]",
      "text/plain": [
       "<Figure size 432x288 with 1 Axes>"
      ]
     },
     "metadata": {
      "needs_background": "light"
     },
     "output_type": "display_data"
    }
   ],
   "source": [
    "t = np.linspace(1, len(index), 1000)\n",
    "z = sol.sol(t)\n",
    "plt.plot(t, z.T)\n",
    "plt.xlabel('t')\n",
    "plt.legend(['conc'], shadow=True)\n",
    "plt.title('One Tidal Cycle')\n",
    "plt.show()"
   ]
  },
  {
   "cell_type": "code",
   "execution_count": null,
   "metadata": {},
   "outputs": [],
   "source": []
  }
 ],
 "metadata": {
  "kernelspec": {
   "display_name": "Python 3",
   "language": "python",
   "name": "python3"
  },
  "language_info": {
   "codemirror_mode": {
    "name": "ipython",
    "version": 3
   },
   "file_extension": ".py",
   "mimetype": "text/x-python",
   "name": "python",
   "nbconvert_exporter": "python",
   "pygments_lexer": "ipython3",
   "version": "3.8.5"
  },
  "widgets": {
   "application/vnd.jupyter.widget-state+json": {
    "state": {},
    "version_major": 2,
    "version_minor": 0
   }
  }
 },
 "nbformat": 4,
 "nbformat_minor": 4
}
