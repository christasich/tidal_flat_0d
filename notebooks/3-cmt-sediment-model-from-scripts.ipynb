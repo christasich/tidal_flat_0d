{
 "cells": [
  {
   "cell_type": "code",
   "execution_count": null,
   "metadata": {},
   "outputs": [],
   "source": [
    "import pandas as pd\n",
    "import numpy as np\n",
    "from tqdm.notebook import tqdm\n",
    "import inspect\n",
    "from collections import namedtuple\n",
    "import sys\n",
    "from pyprojroot import here\n",
    "import feather\n",
    "root = here()\n",
    "sys.path.append(str(root))\n",
    "wdir = root / \"data\" / \"interim\" / \"tides\"\n",
    "from tidal_flat_0d import models, features, visualization"
   ]
  },
  {
   "cell_type": "code",
   "execution_count": null,
   "metadata": {},
   "outputs": [],
   "source": [
    "grain_dia = 0.000035  # grain diameter (m)\n",
    "grain_den = 2650\n",
    "settle_rate = models.stokes_settling(grain_dia=grain_dia, grain_den=grain_den)\n",
    "\n",
    "tide_name = \"tides-debug.feather\"\n",
    "tide_series = features.load_tide(wdir, tide_name)\n",
    "\n",
    "index = tide_series.pressure.index\n",
    "water_height = tide_series.pressure.values\n",
    "\n",
    "params = features.make_param_tuple(water_height=water_height, index=index, bound_conc=0.8, settle_rate=settle_rate, bulk_den=1100, start_elev=1, tidal_amplifier=1, conc_method='JG', organic_rate=0, compaction_rate=0, subsidence_rate=0)"
   ]
  },
  {
   "cell_type": "code",
   "execution_count": null,
   "metadata": {},
   "outputs": [],
   "source": [
    "data = models.simulate_elevation(params)"
   ]
  },
  {
   "cell_type": "code",
   "execution_count": null,
   "metadata": {},
   "outputs": [],
   "source": [
    "visualization.plot_results(data)"
   ]
  },
  {
   "cell_type": "code",
   "execution_count": 642,
   "metadata": {},
   "outputs": [],
   "source": [
    "from scipy.interpolate import interp1d\n",
    "tide_func = interp1d(np.arange(1,len(index)+1,1), water_height, bounds_error=False, fill_value=\"extrapolate\")\n",
    "dhdt = np.gradient(water_height)\n",
    "dhdt_func = interp1d(np.arange(0,len(index),1), dhdt, bounds_error=False, fill_value=\"extrapolate\")\n",
    "\n",
    "def calc_conc(t, y):\n",
    "    global bound_conc, elev, settle_rate\n",
    "    \n",
    "    water_height = tide_func(t)\n",
    "    \n",
    "    dhdt = dhdt_func(t)\n",
    "    \n",
    "    depth = water_height - elev\n",
    "\n",
    "    # Checks\n",
    "    tide_above_platform = depth > 0\n",
    "    tide_increasing = dhdt > 0\n",
    "\n",
    "    if tide_above_platform:\n",
    "        if tide_increasing:\n",
    "            dy = - (settle_rate * y) / depth - 1 / depth * (y - bound_conc) * dhdt\n",
    "            if y + dy < 0:\n",
    "                dy = -y\n",
    "            return dy\n",
    "        if not tide_increasing:\n",
    "            dy = - (settle_rate * y) / depth\n",
    "            if y + dy < 0:\n",
    "                dy = -y\n",
    "            return dy\n",
    "        else:\n",
    "            raise Exception('Tide not increasing or decreasing.')\n",
    "    if not tide_above_platform:\n",
    "        dy = 0\n",
    "        return dy\n",
    "    else:\n",
    "        print(tide_above_platform, prev_tide_above_platform, tide_increasing)\n",
    "        raise Exception('Error in tide_above_platform or depth_stable')"
   ]
  },
  {
   "cell_type": "code",
   "execution_count": 639,
   "metadata": {},
   "outputs": [],
   "source": [
    "from scipy.integrate import RK45\n",
    "bound_conc=0.8\n",
    "tides=water_height\n",
    "elev=0\n",
    "settle_rate=settle_rate\n",
    "t_span = np.arange(1,len(index), 1)\n",
    "\n",
    "\n",
    "conc = np.zeros(len(t_span))\n",
    "time = np.zeros(len(t_span))\n",
    "mod=RK45(fun=calc_conc, t0=t_span[0], y0=[0.8], t_bound=t_span[-1])\n",
    "\n",
    "time = np.empty(0)\n",
    "conc = np.empty(0)\n",
    "while mod.status == 'running':\n",
    "    mod.step()\n",
    "    time = np.append(time, mod.t)\n",
    "    conc = np.append(conc, mod.y)"
   ]
  },
  {
   "cell_type": "code",
   "execution_count": 630,
   "metadata": {},
   "outputs": [
    {
     "data": {
      "text/plain": [
       "'finished'"
      ]
     },
     "execution_count": 630,
     "metadata": {},
     "output_type": "execute_result"
    }
   ],
   "source": [
    "mod.status"
   ]
  },
  {
   "cell_type": "code",
   "execution_count": null,
   "metadata": {},
   "outputs": [],
   "source": [
    "y = 0\n",
    "y_arr = np.empty(0)\n",
    "dy_arr = np.empty(0)\n",
    "for t in t_span:\n",
    "    dy = calc_conc(t,y)\n",
    "    dy_arr = np.append(dy_arr, dy)\n",
    "    y = y + dy\n",
    "    y_arr = np.append(y_arr, y)"
   ]
  },
  {
   "cell_type": "code",
   "execution_count": 658,
   "metadata": {},
   "outputs": [],
   "source": [
    "from scipy.integrate import solve_ivp\n",
    "elev = 0.1\n",
    "sol = solve_ivp(fun=calc_conc, t_span=[t_span[0], t_span[-1]], y0=[0], first_step=1, t_eval=t_span)"
   ]
  },
  {
   "cell_type": "code",
   "execution_count": 659,
   "metadata": {},
   "outputs": [
    {
     "data": {
      "text/plain": [
       "[<matplotlib.lines.Line2D at 0x7f5da0b7c940>]"
      ]
     },
     "execution_count": 659,
     "metadata": {},
     "output_type": "execute_result"
    },
    {
     "data": {
      "image/png": "[encoded data removed]",
      "text/plain": [
       "<Figure size 432x288 with 1 Axes>"
      ]
     },
     "metadata": {
      "needs_background": "light"
     },
     "output_type": "display_data"
    }
   ],
   "source": [
    "plt.plot(sol.t,sol.y[0])"
   ]
  },
  {
   "cell_type": "code",
   "execution_count": 650,
   "metadata": {},
   "outputs": [
    {
     "data": {
      "text/plain": [
       "array([[0.00000000e+00, 9.07533181e-02, 1.28829988e-01, 1.51762110e-01,\n",
       "        1.62642815e-01, 1.67298537e-01, 1.69010929e-01, 1.69534133e-01,\n",
       "        1.69650163e-01, 1.69644820e-01, 1.69584596e-01, 1.69434415e-01,\n",
       "        1.69034994e-01, 1.68143025e-01, 1.66511187e-01, 1.63525480e-01,\n",
       "        1.58144641e-01, 1.49261158e-01, 1.35539112e-01, 1.15466043e-01,\n",
       "        8.80627158e-02, 5.71257523e-02, 3.10473441e-02, 1.08341140e-02,\n",
       "        7.38318602e-03, 5.02081214e-03, 1.94145049e-03, 7.54950852e-04,\n",
       "        2.72173552e-04, 1.95895111e-04, 1.39249086e-04, 9.48161136e-05,\n",
       "        6.32724466e-05, 4.07435501e-05, 2.54370246e-05, 1.51095710e-05,\n",
       "        8.53665668e-06, 4.51175077e-06, 2.18796952e-06, 9.74258955e-07,\n",
       "        3.70446529e-07, 1.39908302e-07, 3.72445892e-07, 2.12441473e-07,\n",
       "        1.11926110e-07, 4.20579147e-08, 1.40812244e-07, 7.02902558e-08,\n",
       "        3.08084632e-08, 1.17255934e-08, 8.68610051e-09, 3.32708042e-09,\n",
       "        1.69504231e-09, 5.85717399e-10, 1.65321882e-09, 7.07860174e-09,\n",
       "        2.69655741e-07, 8.82477944e-08, 2.71635973e-08, 4.31888373e-08,\n",
       "        7.64952323e-07]])"
      ]
     },
     "execution_count": 650,
     "metadata": {},
     "output_type": "execute_result"
    }
   ],
   "source": [
    "sol.y"
   ]
  },
  {
   "cell_type": "code",
   "execution_count": null,
   "metadata": {},
   "outputs": [],
   "source": []
  }
 ],
 "metadata": {
  "kernelspec": {
   "display_name": "Python 3",
   "language": "python",
   "name": "python3"
  },
  "language_info": {
   "codemirror_mode": {
    "name": "ipython",
    "version": 3
   },
   "file_extension": ".py",
   "mimetype": "text/x-python",
   "name": "python",
   "nbconvert_exporter": "python",
   "pygments_lexer": "ipython3",
   "version": "3.8.4"
  },
  "widgets": {
   "application/vnd.jupyter.widget-state+json": {
    "state": {
     "02f11e536eb84211ba6890ab61df3ca5": {
      "model_module": "@jupyter-widgets/base",
      "model_module_version": "1.2.0",
      "model_name": "LayoutModel",
      "state": {}
     },
     "32d106b9c20e49fe985c2afe62638b32": {
      "model_module": "@jupyter-widgets/controls",
      "model_module_version": "1.5.0",
      "model_name": "HTMLModel",
      "state": {
       "layout": "IPY_MODEL_e2705d59eb8645f886434207d7686a3a",
       "style": "IPY_MODEL_fe7a49f29b7e4fb8a7dbd4c45b992d1c",
       "value": " 20452/20452 [00:02&lt;00:00, 9434.87steps/s]"
      }
     },
     "613d8cc1453b4bdca05c70a469335564": {
      "model_module": "@jupyter-widgets/base",
      "model_module_version": "1.2.0",
      "model_name": "LayoutModel",
      "state": {}
     },
     "77d8f15b9cb6409995e9bd4001acee2f": {
      "model_module": "@jupyter-widgets/controls",
      "model_module_version": "1.5.0",
      "model_name": "ProgressStyleModel",
      "state": {
       "description_width": "initial"
      }
     },
     "875d2a190af64388ba60e1b0cc2a3e5c": {
      "model_module": "@jupyter-widgets/controls",
      "model_module_version": "1.5.0",
      "model_name": "FloatProgressModel",
      "state": {
       "bar_style": "success",
       "description": "100%",
       "layout": "IPY_MODEL_02f11e536eb84211ba6890ab61df3ca5",
       "max": 20452,
       "style": "IPY_MODEL_77d8f15b9cb6409995e9bd4001acee2f",
       "value": 20452
      }
     },
     "e2705d59eb8645f886434207d7686a3a": {
      "model_module": "@jupyter-widgets/base",
      "model_module_version": "1.2.0",
      "model_name": "LayoutModel",
      "state": {}
     },
     "ea1a0257d651461499de134f8bd021e4": {
      "model_module": "@jupyter-widgets/controls",
      "model_module_version": "1.5.0",
      "model_name": "HBoxModel",
      "state": {
       "children": [
        "IPY_MODEL_875d2a190af64388ba60e1b0cc2a3e5c",
        "IPY_MODEL_32d106b9c20e49fe985c2afe62638b32"
       ],
       "layout": "IPY_MODEL_613d8cc1453b4bdca05c70a469335564"
      }
     },
     "fe7a49f29b7e4fb8a7dbd4c45b992d1c": {
      "model_module": "@jupyter-widgets/controls",
      "model_module_version": "1.5.0",
      "model_name": "DescriptionStyleModel",
      "state": {
       "description_width": ""
      }
     }
    },
    "version_major": 2,
    "version_minor": 0
   }
  }
 },
 "nbformat": 4,
 "nbformat_minor": 4
}
