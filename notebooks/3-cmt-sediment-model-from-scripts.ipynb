{
 "cells": [
  {
   "cell_type": "markdown",
   "metadata": {},
   "source": [
    "# Setup"
   ]
  },
  {
   "cell_type": "markdown",
   "metadata": {},
   "source": [
    " Import standard modules"
   ]
  },
  {
   "cell_type": "code",
   "execution_count": 4,
   "metadata": {},
   "outputs": [],
   "source": [
    "import sys\n",
    "import numpy as np\n",
    "import pandas as pd\n",
    "from matplotlib import pyplot as plt"
   ]
  },
  {
   "cell_type": "markdown",
   "metadata": {},
   "source": [
    "Find project root, append to path, and define wdir for data"
   ]
  },
  {
   "cell_type": "code",
   "execution_count": 6,
   "metadata": {},
   "outputs": [],
   "source": [
    "from pyprojroot import here\n",
    "\n",
    "root = here()\n",
    "sys.path.append(str(root))\n",
    "wdir = root / \"data\" / \"interim\""
   ]
  },
  {
   "cell_type": "markdown",
   "metadata": {},
   "source": [
    "Import project modules from src folder"
   ]
  },
  {
   "cell_type": "code",
   "execution_count": 8,
   "metadata": {},
   "outputs": [],
   "source": [
    "from src import features, models\n",
    "from src import visualization as viz"
   ]
  },
  {
   "cell_type": "markdown",
   "metadata": {},
   "source": [
    "## Load tides\n",
    "\n",
    "Sutarkhali pressure data from 2019 collected by Rip Hale and Rachel Bain. Original data was sampled every 10 min. Data was cleaned, processed, and upscaled to 1 s using the OCE package (https://cran.r-project.org/web/packages/oce/) in R. Processed data is stored in `data/interim/` in the feather format.\n",
    "\n",
    "`tides.feather` is 1 yr of data sampled every 1 s\n",
    "\n",
    "`tides-debug.feather` is 1 inundation cycle sampled every 1 s"
   ]
  },
  {
   "cell_type": "code",
   "execution_count": 10,
   "metadata": {},
   "outputs": [],
   "source": [
    "tides = features.load_tide(wdir, \"tides.feather\")"
   ]
  },
  {
   "cell_type": "markdown",
   "metadata": {},
   "source": [
    "Downsample tide data"
   ]
  },
  {
   "cell_type": "code",
   "execution_count": 12,
   "metadata": {},
   "outputs": [],
   "source": [
    "dt = 1  # seconds\n",
    "tides = tides.iloc[0:-1:dt]"
   ]
  },
  {
   "cell_type": "markdown",
   "metadata": {},
   "source": [
    "## Set model parameters"
   ]
  },
  {
   "cell_type": "code",
   "execution_count": 14,
   "metadata": {},
   "outputs": [],
   "source": [
    "# Set grain parameters and settling velocity\n",
    "grain_dia = 0.000035  # grain diameter (m)\n",
    "grain_den = 2650  # grain density (kg/m^3)\n",
    "settle_rate = models.stokes_settling(\n",
    "    grain_dia=grain_dia, grain_den=grain_den\n",
    ")  # settling rate determined by Stokes' Law\n",
    "\n",
    "# Set basic model parameters\n",
    "bound_conc = 0.8  # boundary concentration (g/L or kg/m^3)\n",
    "bulk_dens = 1100  # dry bulk density of sediment (kg/m^3)\n",
    "min_depth = 0.001  # Minimum depth required before integrating. Used for stability at very shallow depths. (m)\n",
    "init_elev = 1.25  # initial elevation (m)\n",
    "years = 1  # total run length (yr)\n",
    "slr = 0.005  # yearly rate of sea level rise (m)\n",
    "\n",
    "organic_rate = 0.0002 / 365 / 24 / 60 / 60\n",
    "compaction_rate = 0.004 / 365 / 24 / 60 / 60\n",
    "subsidence_rate = 0.003 / 365 / 24 / 60 / 60"
   ]
  },
  {
   "cell_type": "markdown",
   "metadata": {},
   "source": [
    "# Run model\n",
    "\n",
    "Run model for specified number of years and returns a `pandas.Series` for the tides and a `ResultClass` for the ODE solutions.\n",
    "\n",
    "`model_tides`: Tide series at the given timestep for the full length of the run with any sea level rise superimposed.\n",
    "\n",
    "`model_results`: Results modeled after `scipy.integrate.solve_ivp` results for conistency\n",
    "- `model_results.t`: numpy.ndarray of times (s)\n",
    "- `model_result.y`: list of ODE solutions for concentration and elevation\n",
    "  - `model_results.y[0]`: numpy.ndarray of concentrations (g/L)\n",
    "  - `model_results.y[1]`: numpy.ndarray of elevations (m)"
   ]
  },
  {
   "cell_type": "code",
   "execution_count": 16,
   "metadata": {},
   "outputs": [
    {
     "name": "stdout",
     "output_type": "stream",
     "text": [
      "Simulation length:     1 yr\n",
      "Total accumulation:    0.0564 m\n",
      "Final elevation:       1.3064 m\n",
      "Runtime:               00:00:25\n"
     ]
    }
   ],
   "source": [
    "model_tides, model_results = models.run_model(\n",
    "    tides_ts=tides,\n",
    "    settle_rate=settle_rate,\n",
    "    bulk_dens=bulk_dens,\n",
    "    bound_conc=bound_conc,\n",
    "    organic_rate=organic_rate,\n",
    "    compaction_rate=compaction_rate,\n",
    "    subsidence_rate=subsidence_rate,\n",
    "    init_elev=init_elev,\n",
    "    years=years,\n",
    "    slr=slr,\n",
    "    verbose=True,\n",
    ")"
   ]
  },
  {
   "cell_type": "markdown",
   "metadata": {},
   "source": [
    "# Plot results"
   ]
  },
  {
   "cell_type": "markdown",
   "metadata": {},
   "source": [
    "Reformat data for plotting"
   ]
  },
  {
   "cell_type": "code",
   "execution_count": null,
   "metadata": {},
   "outputs": [],
   "source": [
    "scale_factor = 60 * 60 * 24 * 365  # factor to convert seconds to years for plotting\n",
    "\n",
    "# set vars from model results for plotting and adjust scale\n",
    "c = model_results.y[0]\n",
    "e = model_results.y[1]\n",
    "t = model_results.t / scale_factor\n",
    "\n",
    "# Convert tides to same scale for plotting\n",
    "plt_tides = pd.Series(data=model_tides.values, index=model_tides.index.total_seconds())\n",
    "h = plt_tides.values\n",
    "h_t = plt_tides.index.values / scale_factor"
   ]
  },
  {
   "cell_type": "markdown",
   "metadata": {},
   "source": [
    "Plot"
   ]
  },
  {
   "cell_type": "code",
   "execution_count": null,
   "metadata": {},
   "outputs": [],
   "source": [
    "# define figure and axes\n",
    "fig, axs = plt.subplots(3, 1)\n",
    "fig.set_figheight(10)\n",
    "fig.set_figwidth(15)\n",
    "\n",
    "# plot tides with elevation\n",
    "axs[0].plot(h_t, h, alpha=0.65)\n",
    "axs[0].plot(t, e, color=\"k\", ls=\"--\")\n",
    "axs[0].set_ylabel(\"Elevation (m)\")\n",
    "\n",
    "# plot concentration\n",
    "axs[1].plot(t, c, color=\"r\", alpha=0.65)\n",
    "axs[1].set_ylabel(\"Concentration (g/L)\")\n",
    "\n",
    "# plot elevation\n",
    "axs[2].plot(t, e, color=\"g\")\n",
    "axs[2].set_ylabel(\"Elevation (m)\")\n",
    "axs[2].set_xlabel(\"Years\")\n",
    "\n",
    "# place text box of model results\n",
    "txt = \"$\\Delta\\eta$: {:.4f} m \\n $\\eta_{{T}}$: {:.4f} m\".format(\n",
    "    model_results.y[1][-1] - init_elev, model_results.y[1][-1]\n",
    ")\n",
    "axs[2].text(\n",
    "    0.85,\n",
    "    0.5,\n",
    "    txt,\n",
    "    transform=axs[2].transAxes,\n",
    "    fontsize=14,\n",
    "    verticalalignment=\"top\",\n",
    "    horizontalalignment=\"left\",\n",
    "    bbox=dict(boxstyle=\"square\", facecolor=\"white\"),\n",
    ")\n",
    "\n",
    "# configure axes and white space\n",
    "for ax in axs:\n",
    "    ax.set_xlim(0, np.ceil(np.max(h_t)))\n",
    "    ax.set_ylim(0)\n",
    "    ax.grid()\n",
    "plt.tight_layout()"
   ]
  },
  {
   "cell_type": "code",
   "execution_count": null,
   "metadata": {},
   "outputs": [],
   "source": []
  }
 ],
 "metadata": {
  "kernelspec": {
   "display_name": "Python 3.8 (XPython)",
   "language": "python",
   "name": "xpython"
  },
  "language_info": {
   "file_extension": ".py",
   "mimetype": "text/x-python",
   "name": "python",
   "version": "3.8.8"
  },
  "widgets": {
   "application/vnd.jupyter.widget-state+json": {
    "state": {},
    "version_major": 2,
    "version_minor": 0
   }
  }
 },
 "nbformat": 4,
 "nbformat_minor": 4
}
