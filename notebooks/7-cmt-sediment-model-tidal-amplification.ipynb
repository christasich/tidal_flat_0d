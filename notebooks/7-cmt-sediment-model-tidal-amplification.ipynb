{
 "cells": [
  {
   "cell_type": "markdown",
   "metadata": {
    "tags": []
   },
   "source": [
    "# Setup"
   ]
  },
  {
   "cell_type": "markdown",
   "metadata": {},
   "source": [
    " Import standard modules"
   ]
  },
  {
   "cell_type": "code",
   "execution_count": 1,
   "metadata": {},
   "outputs": [],
   "source": [
    "%load_ext autoreload\n",
    "%autoreload 2\n",
    "%matplotlib widget\n",
    "import os\n",
    "import numpy as np\n",
    "import pandas as pd\n",
    "import time\n",
    "import seaborn as sns\n",
    "sns.set()\n",
    "from matplotlib import pyplot as plt\n",
    "from matplotlib.widgets import MultiCursor\n",
    "from scipy.signal import argrelmin, argrelmax\n",
    "from scipy.interpolate import InterpolatedUnivariateSpline, interp1d\n",
    "from sklearn.linear_model import LinearRegression\n",
    "from joblib import Parallel, delayed\n",
    "\n",
    "os.chdir(\"..\")\n",
    "from src import features, models\n",
    "from src import definitions as defs"
   ]
  },
  {
   "cell_type": "code",
   "execution_count": 2,
   "metadata": {},
   "outputs": [],
   "source": [
    "wdir = defs.ROOT / \"data\" / \"interim\""
   ]
  },
  {
   "cell_type": "markdown",
   "metadata": {},
   "source": [
    "Import project modules from src folder"
   ]
  },
  {
   "cell_type": "code",
   "execution_count": 3,
   "metadata": {},
   "outputs": [],
   "source": [
    "def lm_tides(data, x, y, label):\n",
    "    from collections import namedtuple\n",
    "    Result = namedtuple(\"Result\", [\"lm\", \"preds\", \"coef\", \"intercept\", \"eq\"])\n",
    "    lm = LinearRegression()\n",
    "    x = eval(\"data.{}\".format(x))\n",
    "    x = x.values.reshape(-1, 1)\n",
    "    y = data[y].values.reshape(-1, 1)\n",
    "    lm.fit(x, y)\n",
    "    preds = lm.predict(x).reshape(-1)\n",
    "    coef = lm.coef_[0][0] \n",
    "    intercept = lm.intercept_[0]\n",
    "\n",
    "    eq = \"$\\zeta_{{{}}}={:.4f}t {:+.4f}$\".format(label, coef, intercept)\n",
    "    return Result(lm, preds, coef, intercept, eq)\n",
    "\n",
    "def stretch_limb(limb, old_range: list(), new_range: list()):\n",
    "    tide = limb.copy()\n",
    "    tide[\"elevation\"] = new_range[0] + ((tide.elevation - old_range[0]) * (new_range[1] - new_range[0])) / (tide.elevation.max() - old_range[0])\n",
    "    return tide"
   ]
  },
  {
   "cell_type": "code",
   "execution_count": 4,
   "metadata": {},
   "outputs": [],
   "source": [
    "MSL = 1.12\n",
    "beta_mean_high = 14.5e-3\n",
    "beta_mean_low = -2e-3"
   ]
  },
  {
   "cell_type": "code",
   "execution_count": 5,
   "metadata": {},
   "outputs": [],
   "source": [
    "tides = features.load_tide(wdir, \"tides-50yr-30s.feather\")\n",
    "tides = tides.to_frame(name=\"elevation\")\n",
    "tides[\"elapsed_sec\"] = (tides.index - tides.index[0]).total_seconds().astype(int)\n",
    "tides[\"elapsed_yr\"] = tides.elapsed_sec / pd.Timedelta(days=365).total_seconds()\n",
    "tides = tides[[\"elapsed_sec\", \"elapsed_yr\", \"elevation\"]]\n",
    "lm = lm_tides(tides, x=\"elapsed_yr\", y=\"elevation\", label=\"MW\")\n",
    "tides[\"elevation\"] = tides.elevation - lm.coef * tides.elapsed_sec / pd.Timedelta(days=365).total_seconds()"
   ]
  },
  {
   "cell_type": "code",
   "execution_count": 6,
   "metadata": {},
   "outputs": [],
   "source": [
    "tides[[\"high\", \"low\"]] = False\n",
    "\n",
    "tides.loc[tides.index[argrelmax(tides.elevation.values)[0]], \"high\"] = True\n",
    "tides.loc[tides.index[argrelmin(tides.elevation.values)[0]], \"low\"] = True\n",
    "\n",
    "nodes = pd.concat([tides[tides.high==True], tides[tides.low==True]], keys=(\"high\", \"low\"), names=(\"type\", \"datetime\"))\n",
    "nodes = nodes.reset_index(level=[\"type\"]).sort_index()\n",
    "nodes = nodes[[\"elapsed_sec\", \"elapsed_yr\", \"type\", \"elevation\"]]\n",
    "\n",
    "mhw = nodes.groupby(by=\"type\").resample(\"M\").mean().loc[\"high\"]\n",
    "mlw = nodes.groupby(by=\"type\").resample(\"M\").mean().loc[\"low\"]\n",
    "\n",
    "mhw[\"elevation_new\"] = mhw.elevation + mhw.elapsed_yr * beta_mean_high\n",
    "mlw[\"elevation_new\"] = mlw.elevation + mlw.elapsed_yr * beta_mean_low"
   ]
  },
  {
   "cell_type": "code",
   "execution_count": 7,
   "metadata": {},
   "outputs": [],
   "source": [
    "highs = nodes.loc[nodes.type==\"high\"].reset_index()[[\"datetime\", \"elevation\"]]\n",
    "highs = highs.append([{\"datetime\": (highs.datetime.iat[-1] + highs.datetime.diff().mean()).round(\"30S\")}]).sort_values(\"datetime\").reset_index(drop=True)\n",
    "highs[\"elapsed_yr\"] = (highs.datetime - tides.index[0]).dt.total_seconds() / pd.Timedelta(days=365).total_seconds()\n",
    "lows = nodes.loc[nodes.type==\"low\"].reset_index()[[\"datetime\", \"elevation\"]]\n",
    "lows = lows.append([{\"datetime\": (lows.datetime.iat[0] - lows.datetime.diff().mean()).round(\"30S\")}]).sort_values(\"datetime\").reset_index(drop=True)\n",
    "lows[\"elapsed_yr\"] = (lows.datetime - tides.index[0]).dt.total_seconds() / pd.Timedelta(days=365).total_seconds()\n",
    "\n",
    "low_subset = lows.iloc[::2].iloc[1:]\n",
    "low_interp = interp1d(x=low_subset.elapsed_yr, y=low_subset.elevation, fill_value=\"extrapolate\", kind=\"linear\")\n",
    "lows.loc[0, \"elevation\"] = low_interp(lows.elapsed_yr.iat[0])\n",
    "\n",
    "high_subset = highs.iloc[1::2].iloc[:-1]\n",
    "high_interp = interp1d(x=high_subset.elapsed_yr, y=high_subset.elevation, fill_value=\"extrapolate\", kind=\"linear\")\n",
    "highs.loc[highs.index[-1], \"elevation\"] = high_interp(highs.elapsed_yr.iat[-1])\n",
    "\n",
    "highs[\"elevation_new\"] = highs.elevation + highs.elapsed_yr * beta_mean_high\n",
    "lows[\"elevation_new\"] = lows.elevation + lows.elapsed_yr * beta_mean_low\n",
    "\n",
    "df1 = lows.join(other=highs, lsuffix=\"_low\", rsuffix=\"_high\").drop(columns=[\"elapsed_yr_high\", \"elapsed_yr_low\"])\n",
    "df1[\"type\"] = \"low-high\"\n",
    "\n",
    "df2 = highs[:-1].join(other=lows.shift(-1)[:-1], lsuffix=\"_high\", rsuffix=\"_low\").drop(columns=[\"elapsed_yr_high\", \"elapsed_yr_low\"])\n",
    "df2[\"type\"] = \"high-low\"\n",
    "\n",
    "df1.columns = [\"start\", \"low_old\", \"low_new\", \"stop\", \"high_old\", \"high_new\", \"type\"]\n",
    "df2.columns = [\"start\", \"high_old\", \"high_new\", \"stop\", \"low_old\", \"low_new\", \"type\"]\n",
    "\n",
    "\n",
    "df = pd.concat(objs=[df1, df2]).set_index(\"start\").sort_index().reset_index()\n",
    "\n",
    "df = df[[\"start\", \"stop\", \"type\", \"high_old\", \"high_new\", \"low_old\", \"low_new\"]]\n",
    "df.index.name = \"tide\""
   ]
  },
  {
   "cell_type": "code",
   "execution_count": 9,
   "metadata": {},
   "outputs": [],
   "source": [
    "new = Parallel(n_jobs=30)(delayed(stretch_limb)(\n",
    "    limb=tides.loc[row.start:row.stop],\n",
    "    old_range=[row.low_old, row.high_old],\n",
    "    new_range=[row.low_new, row.high_new]\n",
    "    ) for row in df.itertuples())\n",
    "tides_new = pd.concat(new).reset_index().drop_duplicates(subset=[\"datetime\"]).set_index(\"datetime\").sort_index()"
   ]
  },
  {
   "cell_type": "code",
   "execution_count": 10,
   "metadata": {},
   "outputs": [
    {
     "data": {
      "application/vnd.jupyter.widget-view+json": {
       "model_id": "09fd55342a3e4e82a01bec0a9cd8f748",
       "version_major": 2,
       "version_minor": 0
      },
      "text/plain": [
       "Canvas(toolbar=Toolbar(toolitems=[('Home', 'Reset original view', 'home', 'home'), ('Back', 'Back to previous …"
      ]
     },
     "metadata": {},
     "output_type": "display_data"
    }
   ],
   "source": [
    "plt.close(\"all\")\n",
    "plot_data = df.iloc[0:75]\n",
    "\n",
    "for row in plot_data.itertuples():\n",
    "    sns.lineplot(data=tides.loc[row.start:row.stop], x=\"datetime\", y=\"elevation\")\n",
    "    sns.scatterplot(data=tides.loc[row.start:row.stop].loc[tides.high == True], x=\"datetime\", y=\"elevation\", color=\"green\", marker=\".\")\n",
    "    sns.scatterplot(data=tides.loc[row.start:row.stop].loc[tides.low == True], x=\"datetime\", y=\"elevation\", color=\"red\", marker=\".\")"
   ]
  },
  {
   "cell_type": "code",
   "execution_count": 11,
   "metadata": {},
   "outputs": [],
   "source": [
    "def idx_max(x):\n",
    "    return x.idxmax().to_datetime64()\n",
    "\n",
    "def idx_min(x):\n",
    "    return x.idxmin().to_datetime64()\n",
    "\n",
    "def find_extrema(df, window, method):\n",
    "    fun = \"idx_{}\".format(method)\n",
    "    extrema = df.elevation.rolling(window=window).agg([method, eval(fun)])\n",
    "    extrema[fun] = pd.to_datetime(extrema[fun])\n",
    "    extrema = extrema.set_index(fun).drop_duplicates()\n",
    "    extrema.index.name = \"datetime\"\n",
    "    extrema.columns = [\"elevation\"]\n",
    "    return extrema"
   ]
  },
  {
   "cell_type": "code",
   "execution_count": 12,
   "metadata": {},
   "outputs": [],
   "source": [
    "from scipy.signal import argrelmin, argrelmax"
   ]
  },
  {
   "cell_type": "code",
   "execution_count": 14,
   "metadata": {},
   "outputs": [
    {
     "data": {
      "application/vnd.jupyter.widget-view+json": {
       "model_id": "e7184ab9bf2745a19a23c00b3a8796f7",
       "version_major": 2,
       "version_minor": 0
      },
      "text/plain": [
       "Canvas(toolbar=Toolbar(toolitems=[('Home', 'Reset original view', 'home', 'home'), ('Back', 'Back to previous …"
      ]
     },
     "metadata": {},
     "output_type": "display_data"
    }
   ],
   "source": [
    "plt.close(\"all\")\n",
    "\n",
    "# high_highs = highs[::2]\n",
    "# low_highs = highs[1::2]\n",
    "\n",
    "# springs = highs[::2].iloc[argrelmax(data=highs[::2].elevation.values)]\n",
    "# neaps = highs[1::2].iloc[argrelmin(data=highs[1::2].elevation.values)]\n",
    "\n",
    "# springs = find_extrema(highs.set_index(\"datetime\"), window, \"max\").reset_index()\n",
    "# neaps = find_extrema(highs.set_index(\"datetime\"), window, \"min\").reset_index()\n",
    "\n",
    "window=10\n",
    "highs[\"rollmean\"] = highs.elevation.rolling(window=window, center=True).mean().values\n",
    "\n",
    "springs = highs.iloc[argrelmax(data=highs.rollmean.values)]\n",
    "neaps = highs.iloc[argrelmin(data=highs.rollmean.values)]\n",
    "\n",
    "fig = plt.figure(figsize=(12, 10))\n",
    "ax = fig.add_axes([0.1, 0.25, 0.75, 0.65])\n",
    "\n",
    "sns.lineplot(data=highs.loc[highs.datetime < \"2020-04-01\"], x=\"datetime\", y=\"elevation\", color=\"cornflowerblue\", ax=ax)\n",
    "sns.lineplot(data=highs.loc[highs.datetime < \"2020-04-01\"], x=\"datetime\", y=\"rollmean\", color=\"red\", ax=ax)\n",
    "sns.scatterplot(data=springs.loc[springs.datetime < \"2020-04-01\"], x=\"datetime\", y=\"elevation\", color=\"green\")\n",
    "sns.scatterplot(data=neaps.loc[neaps.datetime < \"2020-04-01\"], x=\"datetime\", y=\"elevation\", color=\"red\")\n",
    "fig.autofmt_xdate(rotation=45) "
   ]
  },
  {
   "cell_type": "code",
   "execution_count": 19,
   "metadata": {
    "tags": []
   },
   "outputs": [
    {
     "data": {
      "application/vnd.jupyter.widget-view+json": {
       "model_id": "14bda3a94a0b4745b4aea83c7c978858",
       "version_major": 2,
       "version_minor": 0
      },
      "text/plain": [
       "Canvas(toolbar=Toolbar(toolitems=[('Home', 'Reset original view', 'home', 'home'), ('Back', 'Back to previous …"
      ]
     },
     "metadata": {},
     "output_type": "display_data"
    },
    {
     "name": "stderr",
     "output_type": "stream",
     "text": [
      "No handles with labels found to put in legend.\n"
     ]
    },
    {
     "data": {
      "text/plain": [
       "<matplotlib.legend.Legend at 0x7fadd7151970>"
      ]
     },
     "execution_count": 19,
     "metadata": {},
     "output_type": "execute_result"
    }
   ],
   "source": [
    "plt.close(\"all\")\n",
    "fig = plt.figure(figsize=(12, 10))\n",
    "ax = fig.add_axes([0.1, 0.25, 0.75, 0.65])\n",
    "\n",
    "t = -10\n",
    "n = 9\n",
    "i = df.iloc[t].start\n",
    "ii = df.iloc[t+n].stop\n",
    "\n",
    "new = tides_new.loc[i:ii]\n",
    "old = tides.loc[i:ii]\n",
    "\n",
    "loc = tides.index.get_loc(old.index[0])\n",
    "\n",
    "sns.lineplot(ax=ax, x=new.index, y=new.elevation, ls=\":\", color=\"tomato\", zorder=100)\n",
    "sns.lineplot(x=old.index, y=old.elevation, color=\"cornflowerblue\", ax=ax, zorder=99)\n",
    "# sns.scatterplot(x=old.loc[old.high == True].index, y=old.loc[old.high == True].elevation, color=\"green\", label=\"Highs\", ax=ax, zorder=101)\n",
    "# sns.scatterplot(x=old.loc[old.low == True].index, y=old.loc[old.low == True].elevation, color=\"red\", label=\"Lows\", ax=ax, zorder=102)\n",
    "\n",
    "# sns.scatterplot(x=new.loc[new.high == True].index, y=new.loc[new.high == True].elevation, color=\"green\", ax=ax, zorder=101)\n",
    "# sns.scatterplot(x=new.loc[new.low == True].index, y=new.loc[new.low == True].elevation, color=\"red\", ax=ax, zorder=102)\n",
    "\n",
    "high_diff = new.loc[new.high == True].elevation - old.loc[old.high == True].elevation\n",
    "low_diff = new.loc[new.low == True].elevation - old.loc[old.low == True].elevation\n",
    "\n",
    "ax.errorbar(x=old.loc[old.high == True].index, y=old.loc[old.high == True].elevation, yerr=high_diff, marker='o', ls=\"none\", lolims=True, color=\"green\")\n",
    "ax.errorbar(x=old.loc[old.low == True].index, y=old.loc[old.low == True].elevation, yerr=-low_diff, marker='o', ls=\"none\", uplims=True, color=\"red\")\n",
    "\n",
    "plt.xticks(rotation=45)\n",
    "ax.legend(loc='center left', bbox_to_anchor=(1,0.5))"
   ]
  },
  {
   "cell_type": "code",
   "execution_count": 640,
   "metadata": {},
   "outputs": [
    {
     "data": {
      "text/html": [
       "<div>\n",
       "<style scoped>\n",
       "    .dataframe tbody tr th:only-of-type {\n",
       "        vertical-align: middle;\n",
       "    }\n",
       "\n",
       "    .dataframe tbody tr th {\n",
       "        vertical-align: top;\n",
       "    }\n",
       "\n",
       "    .dataframe thead th {\n",
       "        text-align: right;\n",
       "    }\n",
       "</style>\n",
       "<table border=\"1\" class=\"dataframe\">\n",
       "  <thead>\n",
       "    <tr style=\"text-align: right;\">\n",
       "      <th></th>\n",
       "      <th>elapsed_sec</th>\n",
       "      <th>elapsed_yr</th>\n",
       "      <th>elevation</th>\n",
       "      <th>high</th>\n",
       "      <th>low</th>\n",
       "    </tr>\n",
       "    <tr>\n",
       "      <th>datetime</th>\n",
       "      <th></th>\n",
       "      <th></th>\n",
       "      <th></th>\n",
       "      <th></th>\n",
       "      <th></th>\n",
       "    </tr>\n",
       "  </thead>\n",
       "  <tbody>\n",
       "    <tr>\n",
       "      <th>2020-01-01 00:00:00+06:00</th>\n",
       "      <td>0</td>\n",
       "      <td>0.000000e+00</td>\n",
       "      <td>-0.764954</td>\n",
       "      <td>False</td>\n",
       "      <td>False</td>\n",
       "    </tr>\n",
       "    <tr>\n",
       "      <th>2020-01-01 00:00:30+06:00</th>\n",
       "      <td>30</td>\n",
       "      <td>9.512938e-07</td>\n",
       "      <td>-0.757824</td>\n",
       "      <td>False</td>\n",
       "      <td>False</td>\n",
       "    </tr>\n",
       "    <tr>\n",
       "      <th>2020-01-01 00:01:00+06:00</th>\n",
       "      <td>60</td>\n",
       "      <td>1.902588e-06</td>\n",
       "      <td>-0.750682</td>\n",
       "      <td>False</td>\n",
       "      <td>False</td>\n",
       "    </tr>\n",
       "    <tr>\n",
       "      <th>2020-01-01 00:01:30+06:00</th>\n",
       "      <td>90</td>\n",
       "      <td>2.853881e-06</td>\n",
       "      <td>-0.743526</td>\n",
       "      <td>False</td>\n",
       "      <td>False</td>\n",
       "    </tr>\n",
       "    <tr>\n",
       "      <th>2020-01-01 00:02:00+06:00</th>\n",
       "      <td>120</td>\n",
       "      <td>3.805175e-06</td>\n",
       "      <td>-0.736357</td>\n",
       "      <td>False</td>\n",
       "      <td>False</td>\n",
       "    </tr>\n",
       "    <tr>\n",
       "      <th>...</th>\n",
       "      <td>...</td>\n",
       "      <td>...</td>\n",
       "      <td>...</td>\n",
       "      <td>...</td>\n",
       "      <td>...</td>\n",
       "    </tr>\n",
       "    <tr>\n",
       "      <th>2020-12-31 23:57:30+06:00</th>\n",
       "      <td>31622250</td>\n",
       "      <td>1.002735e+00</td>\n",
       "      <td>1.257118</td>\n",
       "      <td>False</td>\n",
       "      <td>False</td>\n",
       "    </tr>\n",
       "    <tr>\n",
       "      <th>2020-12-31 23:58:00+06:00</th>\n",
       "      <td>31622280</td>\n",
       "      <td>1.002736e+00</td>\n",
       "      <td>1.262054</td>\n",
       "      <td>False</td>\n",
       "      <td>False</td>\n",
       "    </tr>\n",
       "    <tr>\n",
       "      <th>2020-12-31 23:58:30+06:00</th>\n",
       "      <td>31622310</td>\n",
       "      <td>1.002737e+00</td>\n",
       "      <td>1.266952</td>\n",
       "      <td>False</td>\n",
       "      <td>False</td>\n",
       "    </tr>\n",
       "    <tr>\n",
       "      <th>2020-12-31 23:59:00+06:00</th>\n",
       "      <td>31622340</td>\n",
       "      <td>1.002738e+00</td>\n",
       "      <td>1.271811</td>\n",
       "      <td>False</td>\n",
       "      <td>False</td>\n",
       "    </tr>\n",
       "    <tr>\n",
       "      <th>2020-12-31 23:59:30+06:00</th>\n",
       "      <td>31622370</td>\n",
       "      <td>1.002739e+00</td>\n",
       "      <td>1.276632</td>\n",
       "      <td>False</td>\n",
       "      <td>False</td>\n",
       "    </tr>\n",
       "  </tbody>\n",
       "</table>\n",
       "<p>1054080 rows × 5 columns</p>\n",
       "</div>"
      ],
      "text/plain": [
       "                           elapsed_sec    elapsed_yr  elevation   high    low\n",
       "datetime                                                                     \n",
       "2020-01-01 00:00:00+06:00            0  0.000000e+00  -0.764954  False  False\n",
       "2020-01-01 00:00:30+06:00           30  9.512938e-07  -0.757824  False  False\n",
       "2020-01-01 00:01:00+06:00           60  1.902588e-06  -0.750682  False  False\n",
       "2020-01-01 00:01:30+06:00           90  2.853881e-06  -0.743526  False  False\n",
       "2020-01-01 00:02:00+06:00          120  3.805175e-06  -0.736357  False  False\n",
       "...                                ...           ...        ...    ...    ...\n",
       "2020-12-31 23:57:30+06:00     31622250  1.002735e+00   1.257118  False  False\n",
       "2020-12-31 23:58:00+06:00     31622280  1.002736e+00   1.262054  False  False\n",
       "2020-12-31 23:58:30+06:00     31622310  1.002737e+00   1.266952  False  False\n",
       "2020-12-31 23:59:00+06:00     31622340  1.002738e+00   1.271811  False  False\n",
       "2020-12-31 23:59:30+06:00     31622370  1.002739e+00   1.276632  False  False\n",
       "\n",
       "[1054080 rows x 5 columns]"
      ]
     },
     "execution_count": 640,
     "metadata": {},
     "output_type": "execute_result"
    }
   ],
   "source": [
    "tides_new.loc[tides_new.index < \"2021\"]"
   ]
  },
  {
   "cell_type": "code",
   "execution_count": 16,
   "metadata": {},
   "outputs": [
    {
     "data": {
      "application/vnd.jupyter.widget-view+json": {
       "model_id": "a00501a10cc64264a1451ffbbc2ed2fa",
       "version_major": 2,
       "version_minor": 0
      },
      "text/plain": [
       "Canvas(toolbar=Toolbar(toolitems=[('Home', 'Reset original view', 'home', 'home'), ('Back', 'Back to previous …"
      ]
     },
     "metadata": {},
     "output_type": "display_data"
    },
    {
     "data": {
      "text/plain": [
       "<AxesSubplot:xlabel='datetime', ylabel='elevation'>"
      ]
     },
     "execution_count": 16,
     "metadata": {},
     "output_type": "execute_result"
    }
   ],
   "source": [
    "plt.close(\"all\")\n",
    "data = tides_new\n",
    "n = pd.Timedelta(minutes=60)\n",
    "subset = data.resample(n).first()\n",
    "data_lm = lm_tides(data=data, x=\"elapsed_yr\", y=\"elevation\", label=\"MW\")\n",
    "subset_highs = data[data.high == True]\n",
    "subset_highs_lm = lm_tides(data=subset_highs, x=\"elapsed_yr\", y=\"elevation\", label=\"MHW\")\n",
    "subset_lows = data[data.low == True]\n",
    "subset_lows_lm = lm_tides(data=subset_lows, x=\"elapsed_yr\", y=\"elevation\", label=\"MLW\")\n",
    "\n",
    "fig = plt.figure(figsize=(10, 5))\n",
    "ax = plt.axes()\n",
    "\n",
    "sns.scatterplot(ax=ax, x=subset.index, y=subset.elevation, color=\"cornflowerblue\", marker=\".\", edgecolor=None, alpha=0.3, s=1)\n",
    "sns.scatterplot(ax=ax, x=subset_highs.index, y=subset_highs.elevation, marker=\".\", color=\"darkgreen\", edgecolor=None, s=1)\n",
    "sns.scatterplot(ax=ax, x=subset_lows.index, y=subset_lows.elevation, marker=\".\", color=\"darkred\", edgecolor=None, s=1)\n",
    "\n",
    "sns.lineplot(ax=ax, x=subset_highs.index, y=subset_highs_lm.preds, color=\"green\", linestyle=\"--\", zorder=101, label=subset_highs_lm.eq)\n",
    "sns.lineplot(ax=ax, x=[data.index[0], data.index[-1]], y=[data_lm.preds[0], data_lm.preds[-1]], color=\"blue\", linestyle=\"--\", zorder=100, label=data_lm.eq)\n",
    "sns.lineplot(ax=ax, x=subset_lows.index, y=subset_lows_lm.preds, color=\"red\", linestyle=\"--\", zorder=102, label=subset_lows_lm.eq)"
   ]
  },
  {
   "cell_type": "code",
   "execution_count": 17,
   "metadata": {},
   "outputs": [
    {
     "data": {
      "application/vnd.jupyter.widget-view+json": {
       "model_id": "8b7b97c910b5411e9b793f74eea70cfc",
       "version_major": 2,
       "version_minor": 0
      },
      "text/plain": [
       "Canvas(toolbar=Toolbar(toolitems=[('Home', 'Reset original view', 'home', 'home'), ('Back', 'Back to previous …"
      ]
     },
     "metadata": {},
     "output_type": "display_data"
    },
    {
     "data": {
      "text/plain": [
       "<AxesSubplot:xlabel='datetime', ylabel='elevation_new'>"
      ]
     },
     "execution_count": 17,
     "metadata": {},
     "output_type": "execute_result"
    }
   ],
   "source": [
    "plt.close(\"all\")\n",
    "mhw_lm = lm_tides(data=mhw, x=\"elapsed_yr\", y=\"elevation_new\", label=\"MHW\")\n",
    "mlw_lm = lm_tides(data=mlw, x=\"elapsed_yr\", y=\"elevation_new\", label=\"MLW\")\n",
    "\n",
    "fig = plt.figure(figsize=(10,7.5))\n",
    "sns.scatterplot(x=mhw.index, y=mhw.elevation_new, color=\"green\")\n",
    "sns.lineplot(x=mhw.index, y=mhw_lm.preds, color=\"black\", ls=\"--\", lw=3, label=mhw_lm.eq)\n",
    "\n",
    "sns.scatterplot(x=mlw.index, y=mlw.elevation_new, color=\"red\")\n",
    "sns.lineplot(x=mlw.index, y=mlw_lm.preds, color=\"black\", ls=\"--\", lw=3, label=mlw_lm.eq)"
   ]
  },
  {
   "cell_type": "code",
   "execution_count": 46,
   "metadata": {},
   "outputs": [
    {
     "data": {
      "text/plain": [
       "datetime\n",
       "2020-01-01 00:00:00+06:00    0.355044\n",
       "2020-01-01 00:00:30+06:00    0.362173\n",
       "2020-01-01 00:01:00+06:00    0.369316\n",
       "2020-01-01 00:01:30+06:00    0.376472\n",
       "2020-01-01 00:02:00+06:00    0.383640\n",
       "                               ...   \n",
       "2039-12-31 23:57:30+06:00    2.393360\n",
       "2039-12-31 23:58:00+06:00    2.396914\n",
       "2039-12-31 23:58:30+06:00    2.400437\n",
       "2039-12-31 23:59:00+06:00    2.403930\n",
       "2039-12-31 23:59:30+06:00    2.407393\n",
       "Freq: 30S, Name: elevation, Length: 21038400, dtype: float64"
      ]
     },
     "execution_count": 46,
     "metadata": {},
     "output_type": "execute_result"
    }
   ],
   "source": [
    "features.load_tide(wdir, \"tides-50yr-30s.feather\").loc[:\"2039-12-31\"] + MSL"
   ]
  },
  {
   "cell_type": "code",
   "execution_count": 29,
   "metadata": {},
   "outputs": [
    {
     "data": {
      "application/vnd.jupyter.widget-view+json": {
       "model_id": "3b52147179dc4fa085a0eb6f5faaf77f",
       "version_major": 2,
       "version_minor": 0
      },
      "text/plain": [
       "Progress:   0%|          | 0/7304 [00:00<?, ?day/s]"
      ]
     },
     "metadata": {},
     "output_type": "display_data"
    },
    {
     "name": "stdout",
     "output_type": "stream",
     "text": [
      "----------------------------------------\n",
      "Starting elevation:       2.600       m\n",
      "Final elevation:          2.856       m\n",
      "Elevation change:         25.583     cm\n",
      "----------------------------------------\n",
      "Aggradation:              38.934     cm\n",
      "Degradation:              13.601     cm\n",
      "----------------------------------------\n",
      "Runtime:                    05 min 50 s\n"
     ]
    }
   ],
   "source": [
    "from src import models\n",
    "ts = features.load_tide(wdir, \"tides-50yr-30s.feather\").loc[:\"2039-12-31\"] + MSL\n",
    "tf = models.TidalFlat(\n",
    "    tides=ts,\n",
    "    land_elev_init=2.6,\n",
    "    conc_bound=0.3,\n",
    "    grain_diam=3.0e-5,\n",
    "    grain_dens=2.65e3,\n",
    "    bulk_dens=900,\n",
    "    org_rate_yr=2e-4,\n",
    "    comp_rate_yr=4e-3,\n",
    "    sub_rate_yr=3e-3,\n",
    ")\n",
    "tf.run()\n"
   ]
  },
  {
   "cell_type": "code",
   "execution_count": 31,
   "metadata": {},
   "outputs": [
    {
     "data": {
      "application/vnd.jupyter.widget-view+json": {
       "model_id": "d11f2239897049d8946276042171ba71",
       "version_major": 2,
       "version_minor": 0
      },
      "text/plain": [
       "Canvas(toolbar=Toolbar(toolitems=[('Home', 'Reset original view', 'home', 'home'), ('Back', 'Back to previous …"
      ]
     },
     "metadata": {},
     "output_type": "display_data"
    }
   ],
   "source": [
    "tf.plot(frac=0.001)"
   ]
  },
  {
   "cell_type": "code",
   "execution_count": 42,
   "metadata": {},
   "outputs": [
    {
     "data": {
      "text/plain": [
       "datetime\n",
       "2020-01-01 00:00:00+06:00    0.355046\n",
       "2020-01-01 00:00:30+06:00    0.362176\n",
       "2020-01-01 00:01:00+06:00    0.369318\n",
       "2020-01-01 00:01:30+06:00    0.376474\n",
       "2020-01-01 00:02:00+06:00    0.383643\n",
       "                               ...   \n",
       "2069-12-31 23:57:30+06:00    3.357702\n",
       "2069-12-31 23:58:00+06:00    3.378441\n",
       "2069-12-31 23:58:30+06:00    3.399154\n",
       "2069-12-31 23:59:00+06:00    3.419838\n",
       "2069-12-31 23:59:30+06:00    3.440493\n",
       "Name: elevation, Length: 52597440, dtype: float64"
      ]
     },
     "execution_count": 42,
     "metadata": {},
     "output_type": "execute_result"
    }
   ],
   "source": [
    "data.elevation + MSL"
   ]
  },
  {
   "cell_type": "code",
   "execution_count": 39,
   "metadata": {},
   "outputs": [
    {
     "data": {
      "text/plain": [
       "datetime\n",
       "2020-01-01 00:00:00+06:00    0.355044\n",
       "2020-01-01 00:00:30+06:00    0.362173\n",
       "2020-01-01 00:01:00+06:00    0.369316\n",
       "2020-01-01 00:01:30+06:00    0.376472\n",
       "2020-01-01 00:02:00+06:00    0.383640\n",
       "                               ...   \n",
       "2039-12-31 23:57:30+06:00    2.393360\n",
       "2039-12-31 23:58:00+06:00    2.396914\n",
       "2039-12-31 23:58:30+06:00    2.400437\n",
       "2039-12-31 23:59:00+06:00    2.403930\n",
       "2039-12-31 23:59:30+06:00    2.407393\n",
       "Freq: 30S, Name: elevation, Length: 21038400, dtype: float64"
      ]
     },
     "execution_count": 39,
     "metadata": {},
     "output_type": "execute_result"
    }
   ],
   "source": [
    "ts"
   ]
  },
  {
   "cell_type": "code",
   "execution_count": 38,
   "metadata": {},
   "outputs": [
    {
     "data": {
      "application/vnd.jupyter.widget-view+json": {
       "model_id": "6dbc4d6927124858a254a8c456020a45",
       "version_major": 2,
       "version_minor": 0
      },
      "text/plain": [
       "Canvas(toolbar=Toolbar(toolitems=[('Home', 'Reset original view', 'home', 'home'), ('Back', 'Back to previous …"
      ]
     },
     "metadata": {},
     "output_type": "display_data"
    },
    {
     "data": {
      "text/plain": [
       "<AxesSubplot:xlabel='datetime'>"
      ]
     },
     "execution_count": 38,
     "metadata": {},
     "output_type": "execute_result"
    }
   ],
   "source": [
    "plt.close(\"all\")\n",
    "df = tf.results.set_index(\"datetime\")\n",
    "df[\"land_elev_delta\"] = df.land_elev.diff()\n",
    "df[\"land_elev_delta_yearly_avg\"] = df.land_elev_delta.rolling(window=pd.offsets.Day(365)).sum()\n",
    "df[\"land_elev_delta_yearly_avg\"].plot()"
   ]
  },
  {
   "cell_type": "code",
   "execution_count": 56,
   "metadata": {},
   "outputs": [
    {
     "data": {
      "application/vnd.jupyter.widget-view+json": {
       "model_id": "0829d8c2d8a44197a82343998ee74ac9",
       "version_major": 2,
       "version_minor": 0
      },
      "text/plain": [
       "Progress:   0%|          | 0/7304 [00:00<?, ?day/s]"
      ]
     },
     "metadata": {},
     "output_type": "display_data"
    },
    {
     "name": "stdout",
     "output_type": "stream",
     "text": [
      "----------------------------------------\n",
      "Starting elevation:       2.600       m\n",
      "Final elevation:          3.009       m\n",
      "Elevation change:         40.919     cm\n",
      "----------------------------------------\n",
      "Aggradation:              54.218     cm\n",
      "Degradation:              13.599     cm\n",
      "----------------------------------------\n",
      "Runtime:                    07 min 24 s\n"
     ]
    }
   ],
   "source": [
    "ts = data.elevation.loc[:\"2039-12-31\"] + MSL\n",
    "freq = pd.infer_freq(ts.index)\n",
    "index = pd.DatetimeIndex(df1.index, freq=freq)\n",
    "ts = pd.Series(data=ts.values, index=index)\n",
    "tf = models.TidalFlat(\n",
    "    tides=ts,\n",
    "    land_elev_init=2.6,\n",
    "    conc_bound=0.3,\n",
    "    grain_diam=3.0e-5,\n",
    "    grain_dens=2.65e3,\n",
    "    bulk_dens=900,\n",
    "    org_rate_yr=2e-4,\n",
    "    comp_rate_yr=4e-3,\n",
    "    sub_rate_yr=3e-3,\n",
    ")\n",
    "tf.run()\n"
   ]
  },
  {
   "cell_type": "code",
   "execution_count": 57,
   "metadata": {},
   "outputs": [
    {
     "data": {
      "application/vnd.jupyter.widget-view+json": {
       "model_id": "e06c7d8415ab4d63ae4cc5c642859b0f",
       "version_major": 2,
       "version_minor": 0
      },
      "text/plain": [
       "Canvas(toolbar=Toolbar(toolitems=[('Home', 'Reset original view', 'home', 'home'), ('Back', 'Back to previous …"
      ]
     },
     "metadata": {},
     "output_type": "display_data"
    },
    {
     "data": {
      "text/plain": [
       "<AxesSubplot:xlabel='datetime'>"
      ]
     },
     "execution_count": 57,
     "metadata": {},
     "output_type": "execute_result"
    }
   ],
   "source": [
    "plt.close(\"all\")\n",
    "df = tf.results.set_index(\"datetime\")\n",
    "df[\"land_elev_delta\"] = df.land_elev.diff()\n",
    "df[\"land_elev_delta_yearly_avg\"] = df.land_elev_delta.rolling(window=pd.offsets.Day(365)).sum()\n",
    "df[\"land_elev_delta_yearly_avg\"].plot()"
   ]
  },
  {
   "cell_type": "code",
   "execution_count": null,
   "metadata": {},
   "outputs": [],
   "source": []
  }
 ],
 "metadata": {
  "kernelspec": {
   "display_name": "Python 3 (ipykernel)",
   "language": "python",
   "name": "python3"
  },
  "language_info": {
   "codemirror_mode": {
    "name": "ipython",
    "version": 3
   },
   "file_extension": ".py",
   "mimetype": "text/x-python",
   "name": "python",
   "nbconvert_exporter": "python",
   "pygments_lexer": "ipython3",
   "version": "3.8.10"
  },
  "widgets": {
   "application/vnd.jupyter.widget-state+json": {
    "state": {},
    "version_major": 2,
    "version_minor": 0
   }
  }
 },
 "nbformat": 4,
 "nbformat_minor": 4
}
