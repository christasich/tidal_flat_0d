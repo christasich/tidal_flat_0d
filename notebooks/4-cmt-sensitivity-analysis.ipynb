{
 "cells": [
  {
   "cell_type": "markdown",
   "metadata": {},
   "source": [
    "# Setup"
   ]
  },
  {
   "cell_type": "markdown",
   "metadata": {},
   "source": [
    " Import standard modules"
   ]
  },
  {
   "cell_type": "code",
   "execution_count": 6,
   "metadata": {},
   "outputs": [],
   "source": [
    "import pandas as pd\n",
    "import numpy as np\n",
    "import sys\n",
    "from matplotlib import pyplot as plt\n",
    "\n",
    "from SALib.sample import saltelli\n",
    "from SALib.analyze import sobol\n",
    "from joblib import Parallel, delayed"
   ]
  },
  {
   "cell_type": "markdown",
   "metadata": {},
   "source": [
    "Find project root, append to path, and define wdir for data"
   ]
  },
  {
   "cell_type": "code",
   "execution_count": 7,
   "metadata": {},
   "outputs": [],
   "source": [
    "from pyprojroot import here\n",
    "root = here()\n",
    "sys.path.append(str(root))\n",
    "wdir = root / \"data\" / \"interim\""
   ]
  },
  {
   "cell_type": "markdown",
   "metadata": {},
   "source": [
    "Import project modules from src folder"
   ]
  },
  {
   "cell_type": "code",
   "execution_count": 8,
   "metadata": {},
   "outputs": [],
   "source": [
    "from src import models\n",
    "from src import features\n",
    "from src import visualization as viz"
   ]
  },
  {
   "cell_type": "markdown",
   "metadata": {},
   "source": [
    "## Load tides\n",
    "\n",
    "Sutarkhali pressure data from 2019 collected by Rip Hale and Rachel Bain. Original data was sampled every 10 min. Data was cleaned, processed, and upscaled to 1 s using the OCE package (https://cran.r-project.org/web/packages/oce/) in R. Processed data is stored in `data/interim/` in the feather format.\n",
    "\n",
    "`tides.feather` is 1 yr of data sampled every 1 s\n",
    "\n",
    "`tides-debug.feather` is 1 inundation cycle sampled every 1 s"
   ]
  },
  {
   "cell_type": "code",
   "execution_count": 9,
   "metadata": {},
   "outputs": [],
   "source": [
    "tides = features.load_tide(wdir, 'tides.feather')"
   ]
  },
  {
   "cell_type": "markdown",
   "metadata": {},
   "source": [
    "Downsample tide data"
   ]
  },
  {
   "cell_type": "code",
   "execution_count": 10,
   "metadata": {},
   "outputs": [],
   "source": [
    "dt = 30  # seconds\n",
    "tides = tides.iloc[0:-1:dt]"
   ]
  },
  {
   "cell_type": "markdown",
   "metadata": {},
   "source": [
    "## Set model parameters"
   ]
  },
  {
   "cell_type": "code",
   "execution_count": 11,
   "metadata": {},
   "outputs": [],
   "source": [
    "# Set grain parameters and settling velocity\n",
    "grain_dia = 0.000035  # grain diameter (m)\n",
    "grain_den = 2650 # grain density (kg/m^3)\n",
    "settle_rate = models.stokes_settling(grain_dia=grain_dia, grain_den=grain_den)  # settling rate determined by Stokes' Law\n",
    "\n",
    "# Set basic model parameters\n",
    "bound_conc = 0.8  # boundary concentration (g/L or kg/m^3)\n",
    "bulk_dens = 1100  # dry bulk density of sediment (kg/m^3)\n",
    "min_depth = 0.001  # Minimum depth required before integrating. Used for stability at very shallow depths. (m)\n",
    "init_elev = 0  # initial elevation (m)\n",
    "years = 1  # total run length (yr)\n",
    "slr = 0.005  # yearly rate of sea level rise (m)"
   ]
  },
  {
   "cell_type": "markdown",
   "metadata": {},
   "source": [
    "# Sensitivity Analysis"
   ]
  },
  {
   "cell_type": "code",
   "execution_count": null,
   "metadata": {},
   "outputs": [],
   "source": [
    "class ModelClass:\n",
    "    def __init__(self, tides_ts, settle_rate, bulk_dens, bound_conc, init_elev, years=1, slr=0, verbose=False):\n",
    "        self.tides_ts = tides_ts\n",
    "        self.settle_rate = settle_rate\n",
    "        self.bulk_dens = bulk_dens\n",
    "        self.bound_conc = bound_conc\n",
    "        self.init_elev = init_elev\n",
    "        self.years = years\n",
    "        self.slr = slr\n",
    "        self.verbose = verbose\n",
    "\n",
    "def parallel_parser(params):\n",
    "    model_tides, model_results = models.run_model(tides_ts=params.tides_ts, settle_rate=params.settle_rate, bulk_dens=params.bulk_dens,\n",
    "                     bound_conc=params.bound_conc, init_elev=params.init_elev, years=params.years, slr=params.slr,\n",
    "                     verbose=params.verbose)\n",
    "    return model_results.y[1][-1]\n",
    "\n",
    "from SALib.sample import saltelli\n",
    "problem = {\n",
    "    'num_vars': 3,\n",
    "    'names': ['bound_conc', 'settle_rate', 'bulk_dens'],\n",
    "    'bounds': [[0.01, 2.0],\n",
    "               [0.00001, 0.01],\n",
    "               [800, 1300]]\n",
    "}\n",
    "param_values = saltelli.sample(problem, 1000)\n",
    "\n",
    "mods = []\n",
    "for i, X in enumerate(param_values):\n",
    "    bound_conc = X[0]\n",
    "    settle_rate = X[1]\n",
    "    bulk_dens = X[2]\n",
    "    mod = ModelClass(tides_ts=tides, settle_rate=settle_rate,\n",
    "                                      bulk_dens=bulk_dens, bound_conc=bound_conc,\n",
    "                                      init_elev=init_elev, years=years, slr=slr, verbose=False)\n",
    "    mods.append(mod)\n",
    "\n",
    "from joblib import Parallel, delayed\n",
    "results = Parallel(n_jobs=50)(delayed(parallel_parser)(mod) for mod in mods)"
   ]
  },
  {
   "cell_type": "code",
   "execution_count": 12,
   "metadata": {},
   "outputs": [],
   "source": [
    "class ModelClass:\n",
    "    def __init__(self, tides_ts, settle_rate, bulk_dens, bound_conc, init_elev, years=1, slr=0, verbose=False):\n",
    "        self.tides_ts = tides_ts\n",
    "        self.settle_rate = settle_rate\n",
    "        self.bulk_dens = bulk_dens\n",
    "        self.bound_conc = bound_conc\n",
    "        self.init_elev = init_elev\n",
    "        self.years = years\n",
    "        self.slr = slr\n",
    "        self.verbose = verbose\n",
    "\n",
    "def parallel_parser(params):\n",
    "    model_tides, model_results = models.run_model(tides_ts=params.tides_ts, settle_rate=params.settle_rate, bulk_dens=params.bulk_dens,\n",
    "                     bound_conc=params.bound_conc, init_elev=params.init_elev, years=params.years, slr=params.slr,\n",
    "                     verbose=params.verbose)\n",
    "    return model_results.y[1][-1]"
   ]
  },
  {
   "cell_type": "code",
   "execution_count": 13,
   "metadata": {},
   "outputs": [],
   "source": [
    "problem = {\n",
    "    'num_vars': 3,\n",
    "    'names': ['bound_conc', 'settle_rate', 'bulk_dens'],\n",
    "    'bounds': [[0.01, 2.0],\n",
    "               [0.00001, 0.01],\n",
    "               [800, 1300]]\n",
    "}\n",
    "param_values = saltelli.sample(problem, 1000)\n",
    "\n",
    "mods = []\n",
    "for i, X in enumerate(param_values):\n",
    "    bound_conc = X[0]\n",
    "    settle_rate = X[1]\n",
    "    bulk_dens = X[2]\n",
    "    mod = ModelClass(tides_ts=tides, settle_rate=settle_rate,\n",
    "                                      bulk_dens=bulk_dens, bound_conc=bound_conc,\n",
    "                                      init_elev=init_elev, years=years, slr=slr, verbose=False)\n",
    "    mods.append(mod)"
   ]
  },
  {
   "cell_type": "code",
   "execution_count": null,
   "metadata": {},
   "outputs": [],
   "source": [
    "results = Parallel(n_jobs=50)(delayed(parallel_parser)(mod) for mod in mods)\n",
    "results = np.ravel(results)"
   ]
  },
  {
   "cell_type": "code",
   "execution_count": 151,
   "metadata": {},
   "outputs": [],
   "source": [
    "print('bound_conc: {:.4f} +- {:.4f}'.format(Si['ST'][0], Si['ST_conf'][0]))\n",
    "print('settle_rate: {:.4f} +- {:.4f}'.format(Si['ST'][1], Si['ST_conf'][1]))\n",
    "print('bulk_dens: {:.4f} +- {:.4f}'.format(Si['ST'][2], Si['ST_conf'][2]))"
   ]
  },
  {
   "cell_type": "code",
   "execution_count": 152,
   "metadata": {},
   "outputs": [],
   "source": [
    "print(\"x1-x2:\", Si['S2'][0,1])\n",
    "print(\"x1-x3:\", Si['S2'][0,2])\n",
    "print(\"x2-x3:\", Si['S2'][1,2])"
   ]
  },
  {
   "cell_type": "code",
   "execution_count": 153,
   "metadata": {},
   "outputs": [],
   "source": [
    "all_bound_conc = np.ravel([i[0] for i in param_values])\n",
    "all_settle_rate = np.ravel([i[1] for i in param_values])\n",
    "all_bulk_dens = np.ravel([i[2] for i in param_values])"
   ]
  },
  {
   "cell_type": "code",
   "execution_count": 181,
   "metadata": {},
   "outputs": [],
   "source": [
    "fig, axs = plt.subplots(1, 3)\n",
    "fig.set_figheight(5)\n",
    "fig.set_figwidth(15)\n",
    "\n",
    "axs[0].scatter(all_bound_conc, results, alpha=0.25)\n",
    "axs[1].scatter(all_settle_rate, results, alpha=0.25)\n",
    "axs[2].scatter(all_bulk_dens, results, alpha=0.25)\n",
    "plt.setp(axs[1].get_yticklabels(), visible=False);\n",
    "plt.setp(axs[2].get_yticklabels(), visible=False);\n",
    "plt.tight_layout()\n",
    "axs[0].set_ylabel('Elevation Gain (m)');\n",
    "axs[0].set_xlabel('Boundary Concentration (g L$^{-1}$)');\n",
    "axs[1].set_xlabel('Settling Velocity (m s$^{2}$)');\n",
    "axs[2].set_xlabel('Dry Bulk Density (kg m$^{3}$)');"
   ]
  },
  {
   "cell_type": "code",
   "execution_count": null,
   "metadata": {},
   "outputs": [],
   "source": []
  }
 ],
 "metadata": {
  "kernelspec": {
   "display_name": "Python 3",
   "language": "python",
   "name": "python3"
  },
  "widgets": {
   "application/vnd.jupyter.widget-state+json": {
    "state": {},
    "version_major": 2,
    "version_minor": 0
   }
  }
 },
 "nbformat": 4,
 "nbformat_minor": 4
}