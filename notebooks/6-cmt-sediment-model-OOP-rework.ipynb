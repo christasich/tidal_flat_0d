{
 "cells": [
  {
   "cell_type": "markdown",
   "metadata": {
    "tags": []
   },
   "source": [
    "# Setup"
   ]
  },
  {
   "cell_type": "markdown",
   "metadata": {},
   "source": [
    " Import standard modules"
   ]
  },
  {
   "cell_type": "code",
   "execution_count": 1,
   "metadata": {},
   "outputs": [],
   "source": [
    "%load_ext autoreload\n",
    "%autoreload 2\n",
    "import os\n",
    "import sys\n",
    "import numpy as np\n",
    "import pandas as pd\n",
    "os.chdir('/home/chris/projects/tidal_flat_0d')"
   ]
  },
  {
   "cell_type": "code",
   "execution_count": 4,
   "metadata": {},
   "outputs": [],
   "source": [
    "from src import features, models\n",
    "from pyprojroot import here\n",
    "root = here()\n",
    "sys.path.append(str(root))\n",
    "wdir = root / \"data\" / \"interim\""
   ]
  },
  {
   "cell_type": "markdown",
   "metadata": {},
   "source": [
    "Import project modules from src folder"
   ]
  },
  {
   "cell_type": "code",
   "execution_count": 5,
   "metadata": {},
   "outputs": [],
   "source": [
    "tides = features.load_tide(wdir, \"tides.feather\")\n",
    "tides = tides - (np.mean(tides) + 0.6)\n",
    "# tides = tides.iloc[:int(len(tides) * 0.35)]"
   ]
  },
  {
   "cell_type": "code",
   "execution_count": 186,
   "metadata": {},
   "outputs": [
    {
     "name": "stderr",
     "output_type": "stream",
     "text": [
      " 48%|████▊     | 186.0/388.0 [02:03<03:55,  1.17s/inundation]"
     ]
    },
    {
     "name": "stdout",
     "output_type": "stream",
     "text": [
      "----------------------------------------\n",
      "Starting elevation:        1.150      m\n",
      "Final elevation:           1.178      m\n",
      "Elevation change:          2.789     cm\n",
      "----------------------------------------\n",
      "Aggradation:               3.478     cm\n",
      "Degradation:              -1.338     cm\n",
      "----------------------------------------\n",
      "Runtime:                      00:02:03\n"
     ]
    }
   ],
   "source": [
    "from src import models\n",
    "\n",
    "sim = models.Simulation(\n",
    "    tide_elev=tides.values,\n",
    "    land_elev_init=1.15,\n",
    "    index=np.arange(0, len(tides)),\n",
    "    conc_init=0.0,\n",
    "    conc_bound=1.0,\n",
    "    grain_diam=3.5e-5,\n",
    "    grain_dens=2.65e3,\n",
    "    bulk_dens=900,\n",
    "    org_rate=2e-4,\n",
    "    comp_rate=4e-3,\n",
    "    sub_rate=3e-3,\n",
    "    slr=0.005,\n",
    "    method=\"DOP853\",\n",
    "    runs=2,\n",
    "    min_depth=0.0015,\n",
    "    dense_output=False,\n",
    "    save_inundations=True,\n",
    ")\n",
    "sim.simulate()"
   ]
  },
  {
   "cell_type": "code",
   "execution_count": 178,
   "metadata": {},
   "outputs": [
    {
     "name": "stderr",
     "output_type": "stream",
     "text": [
      " 48%|████▊     | 187.0/388.0 [18:13<14:43:07, 263.62s/inundation]"
     ]
    }
   ],
   "source": [
    "sim.one_run()"
   ]
  },
  {
   "cell_type": "code",
   "execution_count": 149,
   "metadata": {},
   "outputs": [
    {
     "data": {
      "text/plain": [
       "0"
      ]
     },
     "execution_count": 149,
     "metadata": {},
     "output_type": "execute_result"
    }
   ],
   "source": [
    "new_tides.index[0]"
   ]
  },
  {
   "cell_type": "code",
   "execution_count": 185,
   "metadata": {},
   "outputs": [
    {
     "data": {
      "text/plain": [
       "array([33354054, 33354055, 33354056, ..., 33356532, 33356533, 33356534])"
      ]
     },
     "execution_count": 185,
     "metadata": {},
     "output_type": "execute_result"
    }
   ],
   "source": [
    "sim.inundations[-1].index"
   ]
  },
  {
   "cell_type": "code",
   "execution_count": 180,
   "metadata": {},
   "outputs": [
    {
     "data": {
      "text/plain": [
       "33356535"
      ]
     },
     "execution_count": 180,
     "metadata": {},
     "output_type": "execute_result"
    }
   ],
   "source": [
    "sim.tides.pos"
   ]
  },
  {
   "cell_type": "code",
   "execution_count": 133,
   "metadata": {},
   "outputs": [],
   "source": [
    "new_tides = models.Tides(\n",
    "    index=sim.tides.index,\n",
    "    tide_elev=sim.tides.tide_elev + sim.params.slr,\n",
    "    land_elev=models.apply_rate(\n",
    "        init_val=sim.results.data.land_elev.iloc[-1],\n",
    "        index=sim.tides.index,\n",
    "        timestep_sec=sim.params.timestep,\n",
    "        rate_per_sec=sim.params.linear_rate_sec,\n",
    "    ),\n",
    "    min_depth=sim.params.min_depth,\n",
    ")"
   ]
  },
  {
   "cell_type": "code",
   "execution_count": null,
   "metadata": {},
   "outputs": [],
   "source": [
    "dense = sim.inundations[0].result.flood.sol(np.arange(sim.inundations[0].start_pos, sim.inundations[0].slack_pos, 1))"
   ]
  },
  {
   "cell_type": "code",
   "execution_count": null,
   "metadata": {},
   "outputs": [],
   "source": [
    "available = dense[0] * dense[1]\n",
    "extracted = dense[1] * settle_rate"
   ]
  },
  {
   "cell_type": "code",
   "execution_count": null,
   "metadata": {},
   "outputs": [],
   "source": [
    "plt.plot(available >= extracted)"
   ]
  },
  {
   "cell_type": "code",
   "execution_count": null,
   "metadata": {},
   "outputs": [],
   "source": [
    "sim.inundations[0].result.plot()"
   ]
  },
  {
   "cell_type": "code",
   "execution_count": null,
   "metadata": {},
   "outputs": [],
   "source": [
    "DT = 1\n",
    "fd_times = np.arange(0, len(tides), DT)\n",
    "tide_fun = scipy.interpolate.InterpolatedUnivariateSpline(x=np.arange(0, len(tides)), y=tides.values)\n",
    "\n",
    "slack, fd_result = aggrade_fd(\n",
    "    times=fd_times,\n",
    "    tide_fun=tide_fun,\n",
    "    init_land_elev=init_land_elev,\n",
    "    bound_conc=bound_conc,\n",
    "    settle_rate=models.stokes_settling(grain_dia, grain_dens),\n",
    "    bulk_dens=bulk_dens,\n",
    ")\n",
    "fd_aggradation = fd_result[3][-1] - fd_result[3][0]\n",
    "\"Percent Diff: {:.4f} %\".format(abs(fd_aggradation - sim.results.aggradation) / (fd_aggradation + sim.results.aggradation) / 2 * 100)"
   ]
  },
  {
   "cell_type": "code",
   "execution_count": null,
   "metadata": {},
   "outputs": [],
   "source": [
    "fig, axs = plt.subplots(3, 1)\n",
    "fig.set_figheight(10)\n",
    "fig.set_figwidth(15)\n",
    "loc = np.where(fd_result[0] > 0.0015)[0][0]\n",
    "i = fd_times[loc:] / 60\n",
    "c = fd_result[2][loc:]\n",
    "e = fd_result[3][loc:]\n",
    "\n",
    "\n",
    "axs[0].plot(i, tide_fun(fd_times[loc:]), color=\"b\")\n",
    "axs[0].set(ylabel=\"Tide Elevation (m)\")\n",
    "axs[0].set(xticklabels=[])\n",
    "axs[1].plot(i, c, color=\"r\")\n",
    "axs[1].set(ylabel=\"Concentration (g/L)\",)\n",
    "axs[1].set(xticklabels=[])\n",
    "axs[2].plot(i, (e - fd_result[3][0])  * 1000, color=\"g\")\n",
    "axs[2].set(ylabel=\"Land Elevation $\\Delta$ (mm)\",xlabel=\"Time (min)\")\n",
    "for ax in axs:\n",
    "    ax.axvline(slack / 60, color=\"k\", linestyle=\"--\")"
   ]
  },
  {
   "cell_type": "code",
   "execution_count": null,
   "metadata": {},
   "outputs": [],
   "source": [
    "extracted"
   ]
  },
  {
   "cell_type": "code",
   "execution_count": null,
   "metadata": {},
   "outputs": [],
   "source": [
    "integ = sim.inundations[0].result.flood\n",
    "dt = np.diff(integ.t)\n",
    "C = integ.y[1]\n",
    "E = integ.y[2]\n",
    "D = integ.y[0] - integ.y[2]\n",
    "available = D[:-1] * C[:-1]\n",
    "extracted = C[:-1] * dt * settle_rate\n",
    "check = available >= extracted\n",
    "available_per_step = (dt * available)\n",
    "extracted_per_step = (dt * extracted)"
   ]
  },
  {
   "cell_type": "code",
   "execution_count": null,
   "metadata": {},
   "outputs": [],
   "source": [
    "np.sum(extracted_per_step)"
   ]
  },
  {
   "cell_type": "code",
   "execution_count": null,
   "metadata": {},
   "outputs": [],
   "source": [
    "(integ.y[2][-1] - integ.y[2][0]) * bulk_dens"
   ]
  },
  {
   "cell_type": "code",
   "execution_count": null,
   "metadata": {},
   "outputs": [],
   "source": [
    "plt.plot(integ.t, C)"
   ]
  },
  {
   "cell_type": "code",
   "execution_count": null,
   "metadata": {},
   "outputs": [],
   "source": [
    "C"
   ]
  },
  {
   "cell_type": "code",
   "execution_count": null,
   "metadata": {},
   "outputs": [],
   "source": [
    "import time\n",
    "def aggrade_fd(times, tide_fun, init_land_elev, bound_conc, settle_rate, bulk_dens,):\n",
    "    start_time = time.perf_counter()\n",
    "    land_elev = np.array([init_land_elev, init_land_elev])\n",
    "    conc = np.array([0.0, 0.0])\n",
    "    depth = np.array([tide_fun(0) - init_land_elev])\n",
    "    status = 0\n",
    "    index = np.arange(0, len(times))\n",
    "    dt = times[1] - times[0]\n",
    "    for i in index[1:-1]:\n",
    "        t = times[i]\n",
    "        depth = np.append(depth, tide_fun(t) - land_elev[i])\n",
    "        if depth[i] < 0.0015:\n",
    "            conc = np.append(conc, 0.0)\n",
    "            land_elev = np.append(land_elev, land_elev[-1])\n",
    "            continue\n",
    "\n",
    "        if (depth[i] - depth[i-1]) > 0:\n",
    "            delta_conc = - settle_rate * conc[i] / depth[i] * dt - 1 / depth[i] * (conc[i] - bound_conc) * (depth[i] - depth[i-1])\n",
    "        elif (depth[i] - depth[i-1]) <= 0:\n",
    "            if status == 0:\n",
    "                slack = times[i]\n",
    "                status = 1\n",
    "            delta_conc = - settle_rate * conc[i] / depth[i] * dt\n",
    "            \n",
    "        if delta_conc < 0 and abs(delta_conc) > conc[i]:\n",
    "            print(\"Extracted too much\")\n",
    "            delta_conc = - conc[i]\n",
    "            \n",
    "        conc = np.append(conc, conc[i] + delta_conc)\n",
    "        delta_land_elev = settle_rate * conc[i] / bulk_dens * dt\n",
    "        land_elev = np.append(land_elev, land_elev[i] + delta_land_elev)\n",
    "        \n",
    "    depth = np.append(depth, tide_fun(i+1) - land_elev[i])\n",
    "    print(\"Aggradation:           {:.2e} m\".format(land_elev[-1] - land_elev[0]))\n",
    "    print(\"Degradation:           {:.2e} m\".format(0.0))\n",
    "    print(\"Elevation change:      {:.2e} m\".format(land_elev[-1] - land_elev[0]))\n",
    "    print(\"Final elevation:       {:.4f} m\".format(land_elev[-1]))\n",
    "    print(\"Runtime:               {}\".format(time.strftime(\"%H:%M:%S\", time.gmtime(time.perf_counter() - start_time))))\n",
    "\n",
    "    return slack, np.stack((times, depth, conc, land_elev))"
   ]
  },
  {
   "cell_type": "code",
   "execution_count": null,
   "metadata": {},
   "outputs": [],
   "source": []
  }
 ],
 "metadata": {
  "kernelspec": {
   "display_name": "Python 3",
   "language": "python",
   "name": "python3"
  },
  "language_info": {
   "codemirror_mode": {
    "name": "ipython",
    "version": 3
   },
   "file_extension": ".py",
   "mimetype": "text/x-python",
   "name": "python",
   "nbconvert_exporter": "python",
   "pygments_lexer": "ipython3",
   "version": "3.8.8"
  },
  "widgets": {
   "application/vnd.jupyter.widget-state+json": {
    "state": {},
    "version_major": 2,
    "version_minor": 0
   }
  }
 },
 "nbformat": 4,
 "nbformat_minor": 4
}
