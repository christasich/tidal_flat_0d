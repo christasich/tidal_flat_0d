{
 "cells": [
  {
   "cell_type": "markdown",
   "metadata": {
    "tags": []
   },
   "source": [
    "# Setup"
   ]
  },
  {
   "cell_type": "markdown",
   "metadata": {},
   "source": [
    " Import standard modules"
   ]
  },
  {
   "cell_type": "code",
   "execution_count": 370,
   "metadata": {},
   "outputs": [
    {
     "name": "stdout",
     "output_type": "stream",
     "text": [
      "The autoreload extension is already loaded. To reload it, use:\n",
      "  %reload_ext autoreload\n"
     ]
    }
   ],
   "source": [
    "%load_ext autoreload\n",
    "%autoreload 2\n",
    "import os\n",
    "import sys\n",
    "import numpy as np\n",
    "import pandas as pd\n",
    "import time\n",
    "from tqdm import tqdm\n",
    "os.chdir('/home/chris/projects/tidal_flat_0d')"
   ]
  },
  {
   "cell_type": "code",
   "execution_count": 2,
   "metadata": {},
   "outputs": [],
   "source": [
    "from src import features, models\n",
    "from pyprojroot import here\n",
    "root = here()\n",
    "sys.path.append(str(root))\n",
    "wdir = root / \"data\" / \"interim\""
   ]
  },
  {
   "cell_type": "markdown",
   "metadata": {},
   "source": [
    "Import project modules from src folder"
   ]
  },
  {
   "cell_type": "code",
   "execution_count": 3,
   "metadata": {},
   "outputs": [],
   "source": [
    "tides = features.load_tide(wdir, \"tides.feather\")\n",
    "tides = tides - (np.mean(tides) + 0.6)\n",
    "# tides = tides.iloc[:int(len(tides) * 0.35)]"
   ]
  },
  {
   "cell_type": "code",
   "execution_count": 750,
   "metadata": {},
   "outputs": [
    {
     "name": "stderr",
     "output_type": "stream",
     "text": [
      "Progress:   3%|▎         | 5/194.0 [00:03<01:52,  1.68inundation/s]"
     ]
    },
    {
     "ename": "KeyboardInterrupt",
     "evalue": "",
     "output_type": "error",
     "traceback": [
      "\u001b[0;31m---------------------------------------------------------------------------\u001b[0m",
      "\u001b[0;31mKeyboardInterrupt\u001b[0m                         Traceback (most recent call last)",
      "\u001b[0;32m<ipython-input-750-a71c532f2026>\u001b[0m in \u001b[0;36m<module>\u001b[0;34m\u001b[0m\n\u001b[1;32m     12\u001b[0m     \u001b[0mslr_yr\u001b[0m\u001b[0;34m=\u001b[0m\u001b[0;36m0.005\u001b[0m\u001b[0;34m,\u001b[0m\u001b[0;34m\u001b[0m\u001b[0;34m\u001b[0m\u001b[0m\n\u001b[1;32m     13\u001b[0m )\n\u001b[0;32m---> 14\u001b[0;31m \u001b[0mtf\u001b[0m\u001b[0;34m.\u001b[0m\u001b[0mrun\u001b[0m\u001b[0;34m(\u001b[0m\u001b[0;34m)\u001b[0m\u001b[0;34m\u001b[0m\u001b[0;34m\u001b[0m\u001b[0m\n\u001b[0m",
      "\u001b[0;32m~/projects/tidal_flat_0d/src/models2.py\u001b[0m in \u001b[0;36mrun\u001b[0;34m(self, steps)\u001b[0m\n\u001b[1;32m    161\u001b[0m             \u001b[0;32mif\u001b[0m \u001b[0mn\u001b[0m \u001b[0;34m==\u001b[0m \u001b[0msteps\u001b[0m\u001b[0;34m:\u001b[0m\u001b[0;34m\u001b[0m\u001b[0;34m\u001b[0m\u001b[0m\n\u001b[1;32m    162\u001b[0m                 \u001b[0;32mreturn\u001b[0m\u001b[0;34m\u001b[0m\u001b[0;34m\u001b[0m\u001b[0m\n\u001b[0;32m--> 163\u001b[0;31m             \u001b[0mself\u001b[0m\u001b[0;34m.\u001b[0m\u001b[0mstep\u001b[0m\u001b[0;34m(\u001b[0m\u001b[0;34m)\u001b[0m\u001b[0;34m\u001b[0m\u001b[0;34m\u001b[0m\u001b[0m\n\u001b[0m\u001b[1;32m    164\u001b[0m             \u001b[0mpbar\u001b[0m\u001b[0;34m.\u001b[0m\u001b[0mtotal\u001b[0m \u001b[0;34m=\u001b[0m \u001b[0mpbar\u001b[0m\u001b[0;34m.\u001b[0m\u001b[0mn\u001b[0m \u001b[0;34m+\u001b[0m \u001b[0mself\u001b[0m\u001b[0;34m.\u001b[0m\u001b[0mremaining_inundations\u001b[0m \u001b[0;34m-\u001b[0m \u001b[0;36m1\u001b[0m\u001b[0;34m\u001b[0m\u001b[0;34m\u001b[0m\u001b[0m\n\u001b[1;32m    165\u001b[0m             \u001b[0mpbar\u001b[0m\u001b[0;34m.\u001b[0m\u001b[0mupdate\u001b[0m\u001b[0;34m(\u001b[0m\u001b[0;34m)\u001b[0m\u001b[0;34m\u001b[0m\u001b[0;34m\u001b[0m\u001b[0m\n",
      "\u001b[0;32m~/projects/tidal_flat_0d/src/models2.py\u001b[0m in \u001b[0;36mstep\u001b[0;34m(self)\u001b[0m\n\u001b[1;32m    144\u001b[0m \u001b[0;34m\u001b[0m\u001b[0m\n\u001b[1;32m    145\u001b[0m     \u001b[0;32mdef\u001b[0m \u001b[0mstep\u001b[0m\u001b[0;34m(\u001b[0m\u001b[0mself\u001b[0m\u001b[0;34m)\u001b[0m\u001b[0;34m:\u001b[0m\u001b[0;34m\u001b[0m\u001b[0;34m\u001b[0m\u001b[0m\n\u001b[0;32m--> 146\u001b[0;31m         \u001b[0minundation\u001b[0m \u001b[0;34m=\u001b[0m \u001b[0mself\u001b[0m\u001b[0;34m.\u001b[0m\u001b[0mfind_inundation\u001b[0m\u001b[0;34m(\u001b[0m\u001b[0;34m)\u001b[0m\u001b[0;34m\u001b[0m\u001b[0;34m\u001b[0m\u001b[0m\n\u001b[0m\u001b[1;32m    147\u001b[0m         \u001b[0;32mif\u001b[0m \u001b[0minundation\u001b[0m\u001b[0;34m:\u001b[0m\u001b[0;34m\u001b[0m\u001b[0;34m\u001b[0m\u001b[0m\n\u001b[1;32m    148\u001b[0m             \u001b[0mself\u001b[0m\u001b[0;34m.\u001b[0m\u001b[0minundate\u001b[0m\u001b[0;34m(\u001b[0m\u001b[0minundation\u001b[0m\u001b[0;34m)\u001b[0m\u001b[0;34m\u001b[0m\u001b[0;34m\u001b[0m\u001b[0m\n",
      "\u001b[0;32m~/projects/tidal_flat_0d/src/models2.py\u001b[0m in \u001b[0;36mfind_inundation\u001b[0;34m(self)\u001b[0m\n\u001b[1;32m    109\u001b[0m \u001b[0;34m\u001b[0m\u001b[0m\n\u001b[1;32m    110\u001b[0m     \u001b[0;32mdef\u001b[0m \u001b[0mfind_inundation\u001b[0m\u001b[0;34m(\u001b[0m\u001b[0mself\u001b[0m\u001b[0;34m)\u001b[0m\u001b[0;34m:\u001b[0m\u001b[0;34m\u001b[0m\u001b[0;34m\u001b[0m\u001b[0m\n\u001b[0;32m--> 111\u001b[0;31m         \u001b[0mremaining_crossings\u001b[0m \u001b[0;34m=\u001b[0m \u001b[0mself\u001b[0m\u001b[0;34m.\u001b[0m\u001b[0mzero_crossings\u001b[0m\u001b[0;34m(\u001b[0m\u001b[0;34m)\u001b[0m\u001b[0;34m\u001b[0m\u001b[0;34m\u001b[0m\u001b[0m\n\u001b[0m\u001b[1;32m    112\u001b[0m         \u001b[0mself\u001b[0m\u001b[0;34m.\u001b[0m\u001b[0mremaining_inundations\u001b[0m \u001b[0;34m=\u001b[0m \u001b[0mlen\u001b[0m\u001b[0;34m(\u001b[0m\u001b[0mremaining_crossings\u001b[0m\u001b[0;34m)\u001b[0m \u001b[0;34m/\u001b[0m \u001b[0;36m2\u001b[0m\u001b[0;34m\u001b[0m\u001b[0;34m\u001b[0m\u001b[0m\n\u001b[1;32m    113\u001b[0m         \u001b[0;32mwhile\u001b[0m \u001b[0;32mTrue\u001b[0m\u001b[0;34m:\u001b[0m\u001b[0;34m\u001b[0m\u001b[0;34m\u001b[0m\u001b[0m\n",
      "\u001b[0;32m~/projects/tidal_flat_0d/src/models2.py\u001b[0m in \u001b[0;36mzero_crossings\u001b[0;34m(self)\u001b[0m\n\u001b[1;32m     96\u001b[0m     \u001b[0;32mdef\u001b[0m \u001b[0mzero_crossings\u001b[0m\u001b[0;34m(\u001b[0m\u001b[0mself\u001b[0m\u001b[0;34m)\u001b[0m\u001b[0;34m:\u001b[0m\u001b[0;34m\u001b[0m\u001b[0;34m\u001b[0m\u001b[0m\n\u001b[1;32m     97\u001b[0m         \u001b[0mtide_elev\u001b[0m \u001b[0;34m=\u001b[0m \u001b[0mself\u001b[0m\u001b[0;34m.\u001b[0m\u001b[0mtide_ts\u001b[0m\u001b[0;34m[\u001b[0m\u001b[0mself\u001b[0m\u001b[0;34m.\u001b[0m\u001b[0mpos\u001b[0m \u001b[0;34m:\u001b[0m\u001b[0;34m]\u001b[0m\u001b[0;34m.\u001b[0m\u001b[0mvalues\u001b[0m\u001b[0;34m\u001b[0m\u001b[0;34m\u001b[0m\u001b[0m\n\u001b[0;32m---> 98\u001b[0;31m         \u001b[0mland_elev\u001b[0m \u001b[0;34m=\u001b[0m \u001b[0mself\u001b[0m\u001b[0;34m.\u001b[0m\u001b[0mland_elev_degraded\u001b[0m\u001b[0;34m(\u001b[0m\u001b[0;34m)\u001b[0m\u001b[0;34m\u001b[0m\u001b[0;34m\u001b[0m\u001b[0m\n\u001b[0m\u001b[1;32m     99\u001b[0m         \u001b[0mdepth\u001b[0m \u001b[0;34m=\u001b[0m \u001b[0mtide_elev\u001b[0m \u001b[0;34m-\u001b[0m \u001b[0mland_elev\u001b[0m\u001b[0;34m\u001b[0m\u001b[0;34m\u001b[0m\u001b[0m\n\u001b[1;32m    100\u001b[0m         \u001b[0mindex\u001b[0m \u001b[0;34m=\u001b[0m \u001b[0mnp\u001b[0m\u001b[0;34m.\u001b[0m\u001b[0mwhere\u001b[0m\u001b[0;34m(\u001b[0m\u001b[0mnp\u001b[0m\u001b[0;34m.\u001b[0m\u001b[0mdiff\u001b[0m\u001b[0;34m(\u001b[0m\u001b[0mnp\u001b[0m\u001b[0;34m.\u001b[0m\u001b[0msignbit\u001b[0m\u001b[0;34m(\u001b[0m\u001b[0mdepth\u001b[0m\u001b[0;34m)\u001b[0m\u001b[0;34m)\u001b[0m\u001b[0;34m)\u001b[0m\u001b[0;34m[\u001b[0m\u001b[0;36m0\u001b[0m\u001b[0;34m]\u001b[0m\u001b[0;34m\u001b[0m\u001b[0;34m\u001b[0m\u001b[0m\n",
      "\u001b[0;32m~/projects/tidal_flat_0d/src/models2.py\u001b[0m in \u001b[0;36mland_elev_degraded\u001b[0;34m(self, pos_start, pos_end)\u001b[0m\n\u001b[1;32m     88\u001b[0m             \u001b[0mpos_end\u001b[0m \u001b[0;34m=\u001b[0m \u001b[0mself\u001b[0m\u001b[0;34m.\u001b[0m\u001b[0mtide_ts\u001b[0m\u001b[0;34m.\u001b[0m\u001b[0mindex\u001b[0m\u001b[0;34m[\u001b[0m\u001b[0;34m-\u001b[0m\u001b[0;36m1\u001b[0m\u001b[0;34m]\u001b[0m\u001b[0;34m\u001b[0m\u001b[0;34m\u001b[0m\u001b[0m\n\u001b[1;32m     89\u001b[0m         \u001b[0mindex\u001b[0m \u001b[0;34m=\u001b[0m \u001b[0mself\u001b[0m\u001b[0;34m.\u001b[0m\u001b[0mtide_ts\u001b[0m\u001b[0;34m.\u001b[0m\u001b[0mloc\u001b[0m\u001b[0;34m[\u001b[0m\u001b[0mpos_start\u001b[0m\u001b[0;34m:\u001b[0m\u001b[0mpos_end\u001b[0m\u001b[0;34m]\u001b[0m\u001b[0;34m.\u001b[0m\u001b[0mindex\u001b[0m\u001b[0;34m.\u001b[0m\u001b[0mvalues\u001b[0m\u001b[0;34m\u001b[0m\u001b[0;34m\u001b[0m\u001b[0m\n\u001b[0;32m---> 90\u001b[0;31m         \u001b[0;32mreturn\u001b[0m \u001b[0mself\u001b[0m\u001b[0;34m.\u001b[0m\u001b[0mland_elev\u001b[0m \u001b[0;34m+\u001b[0m \u001b[0;34m(\u001b[0m\u001b[0mindex\u001b[0m \u001b[0;34m-\u001b[0m \u001b[0mindex\u001b[0m\u001b[0;34m[\u001b[0m\u001b[0;36m0\u001b[0m\u001b[0;34m]\u001b[0m\u001b[0;34m)\u001b[0m \u001b[0;34m*\u001b[0m \u001b[0mself\u001b[0m\u001b[0;34m.\u001b[0m\u001b[0mlinear_rate_sec\u001b[0m\u001b[0;34m\u001b[0m\u001b[0;34m\u001b[0m\u001b[0m\n\u001b[0m\u001b[1;32m     91\u001b[0m \u001b[0;34m\u001b[0m\u001b[0m\n\u001b[1;32m     92\u001b[0m     \u001b[0;34m@\u001b[0m\u001b[0mproperty\u001b[0m\u001b[0;34m\u001b[0m\u001b[0;34m\u001b[0m\u001b[0m\n",
      "\u001b[0;31mKeyboardInterrupt\u001b[0m: "
     ]
    }
   ],
   "source": [
    "from src import models2\n",
    "tf = models2.TidalFlat(\n",
    "    tide_ts=tides,\n",
    "    land_elev_init=1.15,\n",
    "    conc_bound=0.9,\n",
    "    grain_diam=3.5e-5,\n",
    "    grain_dens=2.65e3,\n",
    "    bulk_dens=900,\n",
    "    org_rate_yr=2e-4,\n",
    "    comp_rate_yr=-4e-3,\n",
    "    sub_rate_yr=-3e-3,\n",
    "    slr_yr=0.005,\n",
    ")\n",
    "tf.run()"
   ]
  },
  {
   "cell_type": "code",
   "execution_count": 740,
   "metadata": {},
   "outputs": [
    {
     "data": {
      "text/plain": [
       "Inundation @22f130 \n",
       "tide_ts=1817130    1.149629\n",
       "1817131    1.149664\n",
       "1817132    1.149699\n",
       "1817133    1.149734\n",
       "1817134    1.149769\n",
       "             ...   \n",
       "1821454    1.149790\n",
       "1821455    1.149755\n",
       "1821456    1.149720\n",
       "1821457    1.149685\n",
       "1821458    1.149650\n",
       "Length: 4329, dtype: float64\n",
       "land_elev_init=1.1496081784627092\n",
       "pos_start=1817130\n",
       "pos_end=1821458\n",
       "pos_slack=1819295\n",
       "tide_elev_slack=1.1859252183651332\n",
       "period=4328\n",
       "params=params(tide_elev_func=<scipy.interpolate.fitpack2.InterpolatedUnivariateSpline object at 0x7f466d22f430>, conc_bound=0.9, settle_rate=0.001100458333333333, bulk_dens=900, linear_rate_sec=-2.156265854895992e-10)\n",
       "flood=  message: 'The solver successfully reached the end of the integration interval.'\n",
       "     nfev: 791\n",
       "     njev: 0\n",
       "      nlu: 0\n",
       "      sol: <scipy.integrate._ivp.common.OdeSolution object at 0x7f469972b160>\n",
       "   status: 0\n",
       "  success: True\n",
       "        t: array([1817130.        , 1817130.00092447, 1817130.01016913,\n",
       "       1817130.05050471, 1817130.09598784, 1817130.15966008,\n",
       "       1817130.25158893, 1817130.40654604, 1817130.78842836,\n",
       "       1817131.06538826, 1817131.34234816, 1817131.74259912,\n",
       "       1817132.39195178, 1817133.05128468, 1817133.71020426,\n",
       "       1817134.64692024, 1817135.71936082, 1817137.0533749 ,\n",
       "       1817138.62439876, 1817140.56721439, 1817142.86570325,\n",
       "       1817145.69192028, 1817149.05019935, 1817153.15987525,\n",
       "       1817158.05657538, 1817164.0311438 , 1817171.1592385 ,\n",
       "       1817179.80135195, 1817190.1688734 , 1817202.6162587 ,\n",
       "       1817217.586185  , 1817235.59360594, 1817257.09816748,\n",
       "       1817282.89846857, 1817313.97559948, 1817349.64342815,\n",
       "       1817394.80454071, 1817443.67019999, 1817507.14592482,\n",
       "       1817573.98825981, 1817659.94315095, 1817750.03889841,\n",
       "       1817863.20512889, 1817979.75251229, 1818125.78929048,\n",
       "       1818270.23995005, 1818446.8306602 , 1818617.89268879,\n",
       "       1818817.22541746, 1819008.11998675, 1819220.01911196,\n",
       "       1819295.        ])\n",
       " t_events: None\n",
       "        y: array([[1.14962889e+00, 1.14962892e+00, 1.14962925e+00, 1.14963067e+00,\n",
       "        1.14963227e+00, 1.14963451e+00, 1.14963774e+00, 1.14964319e+00,\n",
       "        1.14965662e+00, 1.14966635e+00, 1.14967609e+00, 1.14969016e+00,\n",
       "        1.14971297e+00, 1.14973613e+00, 1.14975926e+00, 1.14979214e+00,\n",
       "        1.14982975e+00, 1.14987651e+00, 1.14993154e+00, 1.14999951e+00,\n",
       "        1.15007984e+00, 1.15017848e+00, 1.15029548e+00, 1.15043837e+00,\n",
       "        1.15060819e+00, 1.15081478e+00, 1.15106035e+00, 1.15135679e+00,\n",
       "        1.15171052e+00, 1.15213252e+00, 1.15263613e+00, 1.15323631e+00,\n",
       "        1.15394502e+00, 1.15478385e+00, 1.15577774e+00, 1.15689635e+00,\n",
       "        1.15827909e+00, 1.15973332e+00, 1.16155796e+00, 1.16340167e+00,\n",
       "        1.16565703e+00, 1.16788363e+00, 1.17048458e+00, 1.17293954e+00,\n",
       "        1.17570172e+00, 1.17809729e+00, 1.18058049e+00, 1.18252755e+00,\n",
       "        1.18423701e+00, 1.18531712e+00, 1.18588361e+00, 1.18592522e+00],\n",
       "       [0.00000000e+00, 1.37668484e-03, 1.18352682e-02, 2.59002999e-02,\n",
       "        2.76377413e-02, 2.78364557e-02, 2.78468199e-02, 2.78448881e-02,\n",
       "        2.78153354e-02, 2.78516760e-02, 2.78297323e-02, 2.78271504e-02,\n",
       "        2.77895695e-02, 2.78545143e-02, 2.77862011e-02, 2.78011173e-02,\n",
       "        2.77542361e-02, 2.77657646e-02, 2.77125976e-02, 2.77149534e-02,\n",
       "        2.76516301e-02, 2.76411921e-02, 2.75628454e-02, 2.75340561e-02,\n",
       "        2.74338326e-02, 2.73785866e-02, 2.72463268e-02, 2.71531293e-02,\n",
       "        2.69750606e-02, 2.68281637e-02, 2.65861189e-02, 2.63615094e-02,\n",
       "        2.60279448e-02, 2.56951085e-02, 2.52283836e-02, 2.47626887e-02,\n",
       "        2.41028903e-02, 2.34681959e-02, 2.25651951e-02, 2.17045184e-02,\n",
       "        2.05186332e-02, 1.93726395e-02, 1.78611513e-02, 1.64092902e-02,\n",
       "        1.45229030e-02, 1.27714299e-02, 1.05625124e-02, 8.53214489e-03,\n",
       "        6.09901408e-03, 3.84938790e-03, 1.28393281e-03, 3.96391830e-04],\n",
       "       [1.14960818e+00, 1.14960818e+00, 1.14960818e+00, 1.14960818e+00,\n",
       "        1.14960818e+00, 1.14960818e+00, 1.14960819e+00, 1.14960819e+00,\n",
       "        1.14960820e+00, 1.14960821e+00, 1.14960822e+00, 1.14960824e+00,\n",
       "        1.14960826e+00, 1.14960828e+00, 1.14960830e+00, 1.14960833e+00,\n",
       "        1.14960837e+00, 1.14960842e+00, 1.14960847e+00, 1.14960853e+00,\n",
       "        1.14960861e+00, 1.14960871e+00, 1.14960882e+00, 1.14960896e+00,\n",
       "        1.14960912e+00, 1.14960932e+00, 1.14960956e+00, 1.14960984e+00,\n",
       "        1.14961018e+00, 1.14961059e+00, 1.14961107e+00, 1.14961165e+00,\n",
       "        1.14961234e+00, 1.14961315e+00, 1.14961411e+00, 1.14961519e+00,\n",
       "        1.14961653e+00, 1.14961794e+00, 1.14961972e+00, 1.14962151e+00,\n",
       "        1.14962371e+00, 1.14962589e+00, 1.14962844e+00, 1.14963086e+00,\n",
       "        1.14963359e+00, 1.14963597e+00, 1.14963845e+00, 1.14964041e+00,\n",
       "        1.14964215e+00, 1.14964327e+00, 1.14964390e+00, 1.14964396e+00],\n",
       "       [0.00000000e+00, 7.84862067e-13, 8.05407951e-11, 1.12819706e-09,\n",
       "        2.63400448e-09, 4.79684055e-09, 7.92670247e-09, 1.32026881e-08,\n",
       "        2.62045488e-08, 3.56292567e-08, 4.50561371e-08, 5.86751289e-08,\n",
       "        8.07677727e-08, 1.03179222e-07, 1.25587502e-07, 1.57412189e-07,\n",
       "        1.93842349e-07, 2.39112705e-07, 2.92405904e-07, 3.58226964e-07,\n",
       "        4.36041160e-07, 5.31559133e-07, 6.44919008e-07, 7.83322684e-07,\n",
       "        9.47906161e-07, 1.14807573e-06, 1.38616564e-06, 1.67352924e-06,\n",
       "        2.01667705e-06, 2.42603966e-06, 2.91498321e-06, 3.49777260e-06,\n",
       "        4.18667298e-06, 5.00236913e-06, 5.97014137e-06, 7.06011349e-06,\n",
       "        8.40985009e-06, 9.83089846e-06, 1.16182160e-05, 1.34271281e-05,\n",
       "        1.56470710e-05, 1.78440255e-05, 2.04215232e-05, 2.28629929e-05,\n",
       "        2.56267666e-05, 2.80367260e-05, 3.05581895e-05, 3.25546539e-05,\n",
       "        3.43397108e-05, 3.55005587e-05, 3.61673021e-05, 3.62445702e-05],\n",
       "       [0.00000000e+00, 3.25173595e-11, 3.57618140e-10, 1.77535283e-09,\n",
       "        3.37365429e-09, 5.61100842e-09, 8.84111595e-09, 1.42854800e-08,\n",
       "        2.77008046e-08, 3.74285037e-08, 4.71547198e-08, 6.12080321e-08,\n",
       "        8.40010417e-08, 1.07136064e-07, 1.30248193e-07, 1.63089866e-07,\n",
       "        2.00669328e-07, 2.47383698e-07, 3.02353683e-07, 3.70266936e-07,\n",
       "        4.50519299e-07, 5.49058176e-07, 6.65948255e-07, 8.08697139e-07,\n",
       "        9.78359920e-07, 1.18474658e-06, 1.43008669e-06, 1.72623489e-06,\n",
       "        2.07962909e-06, 2.50121601e-06, 3.00434376e-06, 3.60394075e-06,\n",
       "        4.31197401e-06, 5.14999341e-06, 6.14291738e-06, 7.26044807e-06,\n",
       "        8.64184183e-06, 1.00946647e-05, 1.19175370e-05, 1.37594523e-05,\n",
       "        1.60126062e-05, 1.82370261e-05, 2.08354280e-05, 2.32879693e-05,\n",
       "        2.60474158e-05, 2.84406053e-05, 3.09213282e-05, 3.28664287e-05,\n",
       "        3.45741479e-05, 3.56531383e-05, 3.62190000e-05, 3.62605484e-05],\n",
       "       [0.00000000e+00, 1.99339536e-13, 2.19273489e-12, 1.08901576e-11,\n",
       "        2.06975307e-11, 3.44269569e-11, 5.42492623e-11, 8.76621342e-11,\n",
       "        1.70006115e-10, 2.29726033e-10, 2.89445950e-10, 3.75750698e-10,\n",
       "        5.15768396e-10, 6.57938097e-10, 8.00018677e-10, 1.00199955e-09,\n",
       "        1.23324624e-09, 1.52089514e-09, 1.85964966e-09, 2.27857236e-09,\n",
       "        2.77418766e-09, 3.38359519e-09, 4.10772944e-09, 4.99388482e-09,\n",
       "        6.04974355e-09, 7.33801934e-09, 8.87502606e-09, 1.07384955e-08,\n",
       "        1.29740087e-08, 1.56579959e-08, 1.88859100e-08, 2.27687887e-08,\n",
       "        2.74057439e-08, 3.29689747e-08, 3.96700303e-08, 4.73609624e-08,\n",
       "        5.70988989e-08, 6.76356342e-08, 8.13226880e-08, 9.57356725e-08,\n",
       "        1.14269832e-07, 1.33696871e-07, 1.58098518e-07, 1.83229233e-07,\n",
       "        2.14718645e-07, 2.45866047e-07, 2.83943699e-07, 3.20829220e-07,\n",
       "        3.63810656e-07, 4.04972600e-07, 4.50663685e-07, 4.66831558e-07]])\n",
       " y_events: None\n",
       "ebb=  message: 'A termination event occurred.'\n",
       "     nfev: 107\n",
       "     njev: 0\n",
       "      nlu: 0\n",
       "      sol: <scipy.integrate._ivp.common.OdeSolution object at 0x7f466d282520>\n",
       "   status: 1\n",
       "  success: True\n",
       "        t: array([1819295.        , 1819295.4807313 , 1819297.12165783,\n",
       "       1819313.53092305, 1819413.48291454, 1819512.12905665,\n",
       "       1819652.56798566, 1819802.44567656])\n",
       " t_events: [array([], dtype=float64), array([1819802.44567656])]\n",
       "        y: array([[1.18592522e+00, 1.18592522e+00, 1.18592519e+00, 1.18592271e+00,\n",
       "        1.18582175e+00, 1.18557725e+00, 1.18498010e+00, 1.18401820e+00],\n",
       "       [3.96391830e-04, 3.90654711e-04, 3.71687186e-04, 2.25952582e-04,\n",
       "        1.08348052e-05, 5.33134139e-07, 7.93737167e-10, 1.21309759e-19],\n",
       "       [1.14964396e+00, 1.14964396e+00, 1.14964396e+00, 1.14964396e+00,\n",
       "        1.14964395e+00, 1.14964393e+00, 1.14964390e+00, 1.14964386e+00],\n",
       "       [3.62445702e-05, 3.62448016e-05, 3.62455662e-05, 3.62514410e-05,\n",
       "        3.62601082e-05, 3.62605216e-05, 3.62605428e-05, 3.62605428e-05],\n",
       "       [3.62605484e-05, 3.62605485e-05, 3.62605485e-05, 3.62605485e-05,\n",
       "        3.62605485e-05, 3.62605485e-05, 3.62605485e-05, 3.62605485e-05],\n",
       "       [4.66831558e-07, 4.66935216e-07, 4.67289043e-07, 4.70827317e-07,\n",
       "        4.92379624e-07, 5.13650355e-07, 5.43932721e-07, 5.76250336e-07]])\n",
       " y_events: [array([], dtype=float64), array([[1.18401820e+00, 1.21309759e-19, 1.14964386e+00, 3.62605428e-05,\n",
       "        3.62605485e-05, 5.76250336e-07]])]\n",
       "result=result(t=array([1817130.        , 1817130.00092447, 1817130.01016913,\n",
       "       1817130.05050471, 1817130.09598784, 1817130.15966008,\n",
       "       1817130.25158893, 1817130.40654604, 1817130.78842836,\n",
       "       1817131.06538826, 1817131.34234816, 1817131.74259912,\n",
       "       1817132.39195178, 1817133.05128468, 1817133.71020426,\n",
       "       1817134.64692024, 1817135.71936082, 1817137.0533749 ,\n",
       "       1817138.62439876, 1817140.56721439, 1817142.86570325,\n",
       "       1817145.69192028, 1817149.05019935, 1817153.15987525,\n",
       "       1817158.05657538, 1817164.0311438 , 1817171.1592385 ,\n",
       "       1817179.80135195, 1817190.1688734 , 1817202.6162587 ,\n",
       "       1817217.586185  , 1817235.59360594, 1817257.09816748,\n",
       "       1817282.89846857, 1817313.97559948, 1817349.64342815,\n",
       "       1817394.80454071, 1817443.67019999, 1817507.14592482,\n",
       "       1817573.98825981, 1817659.94315095, 1817750.03889841,\n",
       "       1817863.20512889, 1817979.75251229, 1818125.78929048,\n",
       "       1818270.23995005, 1818446.8306602 , 1818617.89268879,\n",
       "       1818817.22541746, 1819008.11998675, 1819220.01911196,\n",
       "       1819295.        , 1819295.4807313 , 1819297.12165783,\n",
       "       1819313.53092305, 1819413.48291454, 1819512.12905665,\n",
       "       1819652.56798566, 1819802.44567656]), y=array([[1.14962889e+00, 1.14962892e+00, 1.14962925e+00, 1.14963067e+00,\n",
       "        1.14963227e+00, 1.14963451e+00, 1.14963774e+00, 1.14964319e+00,\n",
       "        1.14965662e+00, 1.14966635e+00, 1.14967609e+00, 1.14969016e+00,\n",
       "        1.14971297e+00, 1.14973613e+00, 1.14975926e+00, 1.14979214e+00,\n",
       "        1.14982975e+00, 1.14987651e+00, 1.14993154e+00, 1.14999951e+00,\n",
       "        1.15007984e+00, 1.15017848e+00, 1.15029548e+00, 1.15043837e+00,\n",
       "        1.15060819e+00, 1.15081478e+00, 1.15106035e+00, 1.15135679e+00,\n",
       "        1.15171052e+00, 1.15213252e+00, 1.15263613e+00, 1.15323631e+00,\n",
       "        1.15394502e+00, 1.15478385e+00, 1.15577774e+00, 1.15689635e+00,\n",
       "        1.15827909e+00, 1.15973332e+00, 1.16155796e+00, 1.16340167e+00,\n",
       "        1.16565703e+00, 1.16788363e+00, 1.17048458e+00, 1.17293954e+00,\n",
       "        1.17570172e+00, 1.17809729e+00, 1.18058049e+00, 1.18252755e+00,\n",
       "        1.18423701e+00, 1.18531712e+00, 1.18588361e+00, 1.18592522e+00,\n",
       "        1.18592522e+00, 1.18592519e+00, 1.18592271e+00, 1.18582175e+00,\n",
       "        1.18557725e+00, 1.18498010e+00, 1.18401820e+00],\n",
       "       [0.00000000e+00, 1.37668484e-03, 1.18352682e-02, 2.59002999e-02,\n",
       "        2.76377413e-02, 2.78364557e-02, 2.78468199e-02, 2.78448881e-02,\n",
       "        2.78153354e-02, 2.78516760e-02, 2.78297323e-02, 2.78271504e-02,\n",
       "        2.77895695e-02, 2.78545143e-02, 2.77862011e-02, 2.78011173e-02,\n",
       "        2.77542361e-02, 2.77657646e-02, 2.77125976e-02, 2.77149534e-02,\n",
       "        2.76516301e-02, 2.76411921e-02, 2.75628454e-02, 2.75340561e-02,\n",
       "        2.74338326e-02, 2.73785866e-02, 2.72463268e-02, 2.71531293e-02,\n",
       "        2.69750606e-02, 2.68281637e-02, 2.65861189e-02, 2.63615094e-02,\n",
       "        2.60279448e-02, 2.56951085e-02, 2.52283836e-02, 2.47626887e-02,\n",
       "        2.41028903e-02, 2.34681959e-02, 2.25651951e-02, 2.17045184e-02,\n",
       "        2.05186332e-02, 1.93726395e-02, 1.78611513e-02, 1.64092902e-02,\n",
       "        1.45229030e-02, 1.27714299e-02, 1.05625124e-02, 8.53214489e-03,\n",
       "        6.09901408e-03, 3.84938790e-03, 1.28393281e-03, 3.96391830e-04,\n",
       "        3.90654711e-04, 3.71687186e-04, 2.25952582e-04, 1.08348052e-05,\n",
       "        5.33134139e-07, 7.93737167e-10, 1.21309759e-19],\n",
       "       [1.14960818e+00, 1.14960818e+00, 1.14960818e+00, 1.14960818e+00,\n",
       "        1.14960818e+00, 1.14960818e+00, 1.14960819e+00, 1.14960819e+00,\n",
       "        1.14960820e+00, 1.14960821e+00, 1.14960822e+00, 1.14960824e+00,\n",
       "        1.14960826e+00, 1.14960828e+00, 1.14960830e+00, 1.14960833e+00,\n",
       "        1.14960837e+00, 1.14960842e+00, 1.14960847e+00, 1.14960853e+00,\n",
       "        1.14960861e+00, 1.14960871e+00, 1.14960882e+00, 1.14960896e+00,\n",
       "        1.14960912e+00, 1.14960932e+00, 1.14960956e+00, 1.14960984e+00,\n",
       "        1.14961018e+00, 1.14961059e+00, 1.14961107e+00, 1.14961165e+00,\n",
       "        1.14961234e+00, 1.14961315e+00, 1.14961411e+00, 1.14961519e+00,\n",
       "        1.14961653e+00, 1.14961794e+00, 1.14961972e+00, 1.14962151e+00,\n",
       "        1.14962371e+00, 1.14962589e+00, 1.14962844e+00, 1.14963086e+00,\n",
       "        1.14963359e+00, 1.14963597e+00, 1.14963845e+00, 1.14964041e+00,\n",
       "        1.14964215e+00, 1.14964327e+00, 1.14964390e+00, 1.14964396e+00,\n",
       "        1.14964396e+00, 1.14964396e+00, 1.14964396e+00, 1.14964395e+00,\n",
       "        1.14964393e+00, 1.14964390e+00, 1.14964386e+00],\n",
       "       [0.00000000e+00, 7.84862067e-13, 8.05407951e-11, 1.12819706e-09,\n",
       "        2.63400448e-09, 4.79684055e-09, 7.92670247e-09, 1.32026881e-08,\n",
       "        2.62045488e-08, 3.56292567e-08, 4.50561371e-08, 5.86751289e-08,\n",
       "        8.07677727e-08, 1.03179222e-07, 1.25587502e-07, 1.57412189e-07,\n",
       "        1.93842349e-07, 2.39112705e-07, 2.92405904e-07, 3.58226964e-07,\n",
       "        4.36041160e-07, 5.31559133e-07, 6.44919008e-07, 7.83322684e-07,\n",
       "        9.47906161e-07, 1.14807573e-06, 1.38616564e-06, 1.67352924e-06,\n",
       "        2.01667705e-06, 2.42603966e-06, 2.91498321e-06, 3.49777260e-06,\n",
       "        4.18667298e-06, 5.00236913e-06, 5.97014137e-06, 7.06011349e-06,\n",
       "        8.40985009e-06, 9.83089846e-06, 1.16182160e-05, 1.34271281e-05,\n",
       "        1.56470710e-05, 1.78440255e-05, 2.04215232e-05, 2.28629929e-05,\n",
       "        2.56267666e-05, 2.80367260e-05, 3.05581895e-05, 3.25546539e-05,\n",
       "        3.43397108e-05, 3.55005587e-05, 3.61673021e-05, 3.62445702e-05,\n",
       "        3.62448016e-05, 3.62455662e-05, 3.62514410e-05, 3.62601082e-05,\n",
       "        3.62605216e-05, 3.62605428e-05, 3.62605428e-05],\n",
       "       [0.00000000e+00, 3.25173595e-11, 3.57618140e-10, 1.77535283e-09,\n",
       "        3.37365429e-09, 5.61100842e-09, 8.84111595e-09, 1.42854800e-08,\n",
       "        2.77008046e-08, 3.74285037e-08, 4.71547198e-08, 6.12080321e-08,\n",
       "        8.40010417e-08, 1.07136064e-07, 1.30248193e-07, 1.63089866e-07,\n",
       "        2.00669328e-07, 2.47383698e-07, 3.02353683e-07, 3.70266936e-07,\n",
       "        4.50519299e-07, 5.49058176e-07, 6.65948255e-07, 8.08697139e-07,\n",
       "        9.78359920e-07, 1.18474658e-06, 1.43008669e-06, 1.72623489e-06,\n",
       "        2.07962909e-06, 2.50121601e-06, 3.00434376e-06, 3.60394075e-06,\n",
       "        4.31197401e-06, 5.14999341e-06, 6.14291738e-06, 7.26044807e-06,\n",
       "        8.64184183e-06, 1.00946647e-05, 1.19175370e-05, 1.37594523e-05,\n",
       "        1.60126062e-05, 1.82370261e-05, 2.08354280e-05, 2.32879693e-05,\n",
       "        2.60474158e-05, 2.84406053e-05, 3.09213282e-05, 3.28664287e-05,\n",
       "        3.45741479e-05, 3.56531383e-05, 3.62190000e-05, 3.62605484e-05,\n",
       "        3.62605485e-05, 3.62605485e-05, 3.62605485e-05, 3.62605485e-05,\n",
       "        3.62605485e-05, 3.62605485e-05, 3.62605485e-05],\n",
       "       [0.00000000e+00, 1.99339536e-13, 2.19273489e-12, 1.08901576e-11,\n",
       "        2.06975307e-11, 3.44269569e-11, 5.42492623e-11, 8.76621342e-11,\n",
       "        1.70006115e-10, 2.29726033e-10, 2.89445950e-10, 3.75750698e-10,\n",
       "        5.15768396e-10, 6.57938097e-10, 8.00018677e-10, 1.00199955e-09,\n",
       "        1.23324624e-09, 1.52089514e-09, 1.85964966e-09, 2.27857236e-09,\n",
       "        2.77418766e-09, 3.38359519e-09, 4.10772944e-09, 4.99388482e-09,\n",
       "        6.04974355e-09, 7.33801934e-09, 8.87502606e-09, 1.07384955e-08,\n",
       "        1.29740087e-08, 1.56579959e-08, 1.88859100e-08, 2.27687887e-08,\n",
       "        2.74057439e-08, 3.29689747e-08, 3.96700303e-08, 4.73609624e-08,\n",
       "        5.70988989e-08, 6.76356342e-08, 8.13226880e-08, 9.57356725e-08,\n",
       "        1.14269832e-07, 1.33696871e-07, 1.58098518e-07, 1.83229233e-07,\n",
       "        2.14718645e-07, 2.45866047e-07, 2.83943699e-07, 3.20829220e-07,\n",
       "        3.63810656e-07, 4.04972600e-07, 4.50663685e-07, 4.66831558e-07,\n",
       "        4.66935216e-07, 4.67289043e-07, 4.70827317e-07, 4.92379624e-07,\n",
       "        5.13650355e-07, 5.43932721e-07, 5.76250336e-07]]))\n",
       "df=              tide_elev  land_elev      conc          aggr      aggr_max  \\\n",
       "1.817130e+06   1.149629   1.149608  0.000000  0.000000e+00  0.000000e+00   \n",
       "1.817130e+06   1.149629   1.149608  0.001377  7.848621e-13  3.251736e-11   \n",
       "1.817130e+06   1.149629   1.149608  0.011835  8.054080e-11  3.576181e-10   \n",
       "1.817130e+06   1.149631   1.149608  0.025900  1.128197e-09  1.775353e-09   \n",
       "1.817130e+06   1.149632   1.149608  0.027638  2.634004e-09  3.373654e-09   \n",
       "...                 ...        ...       ...           ...           ...   \n",
       "1.821454e+06   1.149790   1.149644  0.000000  3.626054e-05  3.626055e-05   \n",
       "1.821455e+06   1.149755   1.149644  0.000000  3.626054e-05  3.626055e-05   \n",
       "1.821456e+06   1.149720   1.149644  0.000000  3.626054e-05  3.626055e-05   \n",
       "1.821457e+06   1.149685   1.149644  0.000000  3.626054e-05  3.626055e-05   \n",
       "1.821458e+06   1.149650   1.149644  0.000000  3.626054e-05  3.626055e-05   \n",
       "\n",
       "                      degr  \n",
       "1.817130e+06  0.000000e+00  \n",
       "1.817130e+06  1.993395e-13  \n",
       "1.817130e+06  2.192735e-12  \n",
       "1.817130e+06  1.089016e-11  \n",
       "1.817130e+06  2.069753e-11  \n",
       "...                    ...  \n",
       "1.821454e+06  2.201313e-07  \n",
       "1.821455e+06  2.199157e-07  \n",
       "1.821456e+06  2.197001e-07  \n",
       "1.821457e+06  2.194844e-07  \n",
       "1.821458e+06  2.192688e-07  \n",
       "\n",
       "[1715 rows x 6 columns]\n",
       "_res_tup=<class 'src.models2.result'>"
      ]
     },
     "execution_count": 740,
     "metadata": {},
     "output_type": "execute_result"
    }
   ],
   "source": [
    "tf.inundations[0]"
   ]
  },
  {
   "cell_type": "code",
   "execution_count": 724,
   "metadata": {},
   "outputs": [
    {
     "data": {
      "text/plain": [
       "<AxesSubplot:>"
      ]
     },
     "execution_count": 724,
     "metadata": {},
     "output_type": "execute_result"
    },
    {
     "data": {
      "image/png": "[encoded data removed]",
      "text/plain": [
       "<Figure size 432x288 with 1 Axes>"
      ]
     },
     "metadata": {},
     "output_type": "display_data"
    }
   ],
   "source": [
    "start = 60*60*24*20\n",
    "day = 60 * 60 * 24\n",
    "tf.results.loc[start:start + 1 * day].plot()"
   ]
  },
  {
   "cell_type": "code",
   "execution_count": 789,
   "metadata": {},
   "outputs": [
    {
     "data": {
      "text/plain": [
       "<AxesSubplot:>"
      ]
     },
     "execution_count": 789,
     "metadata": {},
     "output_type": "execute_result"
    },
    {
     "data": {
      "image/png": "[encoded data removed]",
      "text/plain": [
       "<Figure size 432x288 with 1 Axes>"
      ]
     },
     "metadata": {},
     "output_type": "display_data"
    }
   ],
   "source": [
    "I = tf.inundations[3]\n",
    "i = I.pos_start\n",
    "tf.results.land_elev[i-day/6:i+day/4].plot()"
   ]
  },
  {
   "cell_type": "code",
   "execution_count": 793,
   "metadata": {},
   "outputs": [
    {
     "data": {
      "text/plain": [
       "[<matplotlib.lines.Line2D at 0x7f450f04ad60>]"
      ]
     },
     "execution_count": 793,
     "metadata": {},
     "output_type": "execute_result"
    },
    {
     "data": {
      "image/png": "[encoded data removed]",
      "text/plain": [
       "<Figure size 432x288 with 1 Axes>"
      ]
     },
     "metadata": {},
     "output_type": "display_data"
    }
   ],
   "source": [
    "plt.plot(I.ebb.t, I.ebb.y[2])"
   ]
  },
  {
   "cell_type": "code",
   "execution_count": 797,
   "metadata": {},
   "outputs": [
    {
     "data": {
      "text/plain": [
       "-0.001543023845763572"
      ]
     },
     "execution_count": 797,
     "metadata": {},
     "output_type": "execute_result"
    }
   ],
   "source": [
    "I.period * I.params.linear_rate_sec * 1000"
   ]
  },
  {
   "cell_type": "code",
   "execution_count": null,
   "metadata": {},
   "outputs": [],
   "source": []
  }
 ],
 "metadata": {
  "kernelspec": {
   "display_name": "Python 3",
   "language": "python",
   "name": "python3"
  },
  "language_info": {
   "codemirror_mode": {
    "name": "ipython",
    "version": 3
   },
   "file_extension": ".py",
   "mimetype": "text/x-python",
   "name": "python",
   "nbconvert_exporter": "python",
   "pygments_lexer": "ipython3",
   "version": "3.8.8"
  },
  "widgets": {
   "application/vnd.jupyter.widget-state+json": {
    "state": {},
    "version_major": 2,
    "version_minor": 0
   }
  }
 },
 "nbformat": 4,
 "nbformat_minor": 4
}
