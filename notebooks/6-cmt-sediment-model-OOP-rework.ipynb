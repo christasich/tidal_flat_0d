{
 "cells": [
  {
   "cell_type": "markdown",
   "metadata": {
    "tags": []
   },
   "source": [
    "# Setup"
   ]
  },
  {
   "cell_type": "markdown",
   "metadata": {},
   "source": [
    " Import standard modules"
   ]
  },
  {
   "cell_type": "code",
   "execution_count": 1,
   "metadata": {},
   "outputs": [],
   "source": [
    "%load_ext autoreload\n",
    "%autoreload 2\n",
    "import os\n",
    "import sys\n",
    "import numpy as np\n",
    "import pandas as pd\n",
    "os.chdir('/home/chris/projects/tidal_flat_0d')"
   ]
  },
  {
   "cell_type": "code",
   "execution_count": 2,
   "metadata": {},
   "outputs": [],
   "source": [
    "from src import features, models\n",
    "from pyprojroot import here\n",
    "root = here()\n",
    "sys.path.append(str(root))\n",
    "wdir = root / \"data\" / \"interim\""
   ]
  },
  {
   "cell_type": "markdown",
   "metadata": {},
   "source": [
    "Import project modules from src folder"
   ]
  },
  {
   "cell_type": "code",
   "execution_count": 196,
   "metadata": {},
   "outputs": [],
   "source": [
    "tides = features.load_tide(wdir, \"tides.feather\")\n",
    "tides = tides - (np.mean(tides) + 0.6)\n",
    "# tides = tides.iloc[:int(len(tides) * 0.35)]"
   ]
  },
  {
   "cell_type": "code",
   "execution_count": 261,
   "metadata": {},
   "outputs": [
    {
     "data": {
      "text/plain": [
       "15"
      ]
     },
     "execution_count": 261,
     "metadata": {},
     "output_type": "execute_result"
    }
   ],
   "source": [
    "sim.pbar.n"
   ]
  },
  {
   "cell_type": "code",
   "execution_count": 264,
   "metadata": {},
   "outputs": [
    {
     "name": "stderr",
     "output_type": "stream",
     "text": [
      "100%|██████████| 185/185.0 [04:28<00:00,  1.38s/it]"
     ]
    }
   ],
   "source": [
    "from src import models\n",
    "\n",
    "sim = models.Simulation(\n",
    "    tide_ts=tides,\n",
    "    land_elev_init=1.15,\n",
    "    conc_init=0.0,\n",
    "    conc_bound=1.0,\n",
    "    grain_diam=3.5e-5,\n",
    "    grain_dens=2.65e3,\n",
    "    bulk_dens=900,\n",
    "    org_rate=2e-4,\n",
    "    comp_rate=-4e-3,\n",
    "    sub_rate=-3e-3,\n",
    "    slr=0.005,\n",
    "    solver_method=\"DOP853\",\n",
    "    runs=1,\n",
    "    min_depth=0.0015,\n",
    "    dense_output=False,\n",
    ")\n",
    "sim.run_one()"
   ]
  },
  {
   "cell_type": "code",
   "execution_count": null,
   "metadata": {},
   "outputs": [],
   "source": [
    "import time\n",
    "def aggrade_fd(times, tide_fun, init_land_elev, bound_conc, settle_rate, bulk_dens,):\n",
    "    start_time = time.perf_counter()\n",
    "    land_elev = np.array([init_land_elev, init_land_elev])\n",
    "    conc = np.array([0.0, 0.0])\n",
    "    depth = np.array([tide_fun(0) - init_land_elev])\n",
    "    status = 0\n",
    "    index = np.arange(0, len(times))\n",
    "    dt = times[1] - times[0]\n",
    "    for i in index[1:-1]:\n",
    "        t = times[i]\n",
    "        depth = np.append(depth, tide_fun(t) - land_elev[i])\n",
    "        if depth[i] < 0.0015:\n",
    "            conc = np.append(conc, 0.0)\n",
    "            land_elev = np.append(land_elev, land_elev[-1])\n",
    "            continue\n",
    "\n",
    "        if (depth[i] - depth[i-1]) > 0:\n",
    "            delta_conc = - settle_rate * conc[i] / depth[i] * dt - 1 / depth[i] * (conc[i] - bound_conc) * (depth[i] - depth[i-1])\n",
    "        elif (depth[i] - depth[i-1]) <= 0:\n",
    "            if status == 0:\n",
    "                slack = times[i]\n",
    "                status = 1\n",
    "            delta_conc = - settle_rate * conc[i] / depth[i] * dt\n",
    "            \n",
    "        if delta_conc < 0 and abs(delta_conc) > conc[i]:\n",
    "            print(\"Extracted too much\")\n",
    "            delta_conc = - conc[i]\n",
    "            \n",
    "        conc = np.append(conc, conc[i] + delta_conc)\n",
    "        delta_land_elev = settle_rate * conc[i] / bulk_dens * dt\n",
    "        land_elev = np.append(land_elev, land_elev[i] + delta_land_elev)\n",
    "        \n",
    "    depth = np.append(depth, tide_fun(i+1) - land_elev[i])\n",
    "    print(\"Aggradation:           {:.2e} m\".format(land_elev[-1] - land_elev[0]))\n",
    "    print(\"Degradation:           {:.2e} m\".format(0.0))\n",
    "    print(\"Elevation change:      {:.2e} m\".format(land_elev[-1] - land_elev[0]))\n",
    "    print(\"Final elevation:       {:.4f} m\".format(land_elev[-1]))\n",
    "    print(\"Runtime:               {}\".format(time.strftime(\"%H:%M:%S\", time.gmtime(time.perf_counter() - start_time))))\n",
    "\n",
    "    return slack, np.stack((times, depth, conc, land_elev))"
   ]
  },
  {
   "cell_type": "code",
   "execution_count": null,
   "metadata": {},
   "outputs": [],
   "source": []
  }
 ],
 "metadata": {
  "kernelspec": {
   "display_name": "Python 3",
   "language": "python",
   "name": "python3"
  },
  "language_info": {
   "codemirror_mode": {
    "name": "ipython",
    "version": 3
   },
   "file_extension": ".py",
   "mimetype": "text/x-python",
   "name": "python",
   "nbconvert_exporter": "python",
   "pygments_lexer": "ipython3",
   "version": "3.8.8"
  },
  "widgets": {
   "application/vnd.jupyter.widget-state+json": {
    "state": {},
    "version_major": 2,
    "version_minor": 0
   }
  }
 },
 "nbformat": 4,
 "nbformat_minor": 4
}
