{
 "cells": [
  {
   "cell_type": "markdown",
   "metadata": {
    "tags": []
   },
   "source": [
    "# Setup"
   ]
  },
  {
   "cell_type": "markdown",
   "metadata": {},
   "source": [
    " Import standard modules"
   ]
  },
  {
   "cell_type": "code",
   "execution_count": 1,
   "metadata": {},
   "outputs": [],
   "source": [
    "%load_ext autoreload\n",
    "%autoreload 2\n",
    "import os\n",
    "import sys\n",
    "import numpy as np\n",
    "import pandas as pd\n",
    "os.chdir('/home/chris/projects/tidal_flat_0d')"
   ]
  },
  {
   "cell_type": "code",
   "execution_count": 2,
   "metadata": {},
   "outputs": [],
   "source": [
    "from src import features, models\n",
    "from pyprojroot import here\n",
    "root = here()\n",
    "sys.path.append(str(root))\n",
    "wdir = root / \"data\" / \"interim\""
   ]
  },
  {
   "cell_type": "markdown",
   "metadata": {},
   "source": [
    "Import project modules from src folder"
   ]
  },
  {
   "cell_type": "code",
   "execution_count": 3,
   "metadata": {},
   "outputs": [],
   "source": [
    "tides = features.load_tide(wdir, \"tides.feather\")\n",
    "tides = tides - (np.mean(tides) + 0.6)\n",
    "# tides = tides.iloc[:int(len(tides) * 0.35)]"
   ]
  },
  {
   "cell_type": "code",
   "execution_count": 6,
   "metadata": {},
   "outputs": [],
   "source": [
    "tides.index = np.arange(0,len(tides))"
   ]
  },
  {
   "cell_type": "code",
   "execution_count": 8,
   "metadata": {},
   "outputs": [
    {
     "data": {
      "text/plain": [
       "0          -0.863023\n",
       "1          -0.863186\n",
       "2          -0.863348\n",
       "3          -0.863511\n",
       "4          -0.863674\n",
       "              ...   \n",
       "31535995   -1.359709\n",
       "31535996   -1.359471\n",
       "31535997   -1.359234\n",
       "31535998   -1.358997\n",
       "31535999   -1.358759\n",
       "Length: 31536000, dtype: float64"
      ]
     },
     "execution_count": 8,
     "metadata": {},
     "output_type": "execute_result"
    }
   ],
   "source": [
    "tides"
   ]
  },
  {
   "cell_type": "code",
   "execution_count": 11,
   "metadata": {},
   "outputs": [],
   "source": [
    "T = models.Tides(tides, 1.15, params=models.Params(org_rate=2e-4, comp_rate=-4e-3,\n",
    "    sub_rate=-3e-3,))"
   ]
  },
  {
   "cell_type": "code",
   "execution_count": 15,
   "metadata": {},
   "outputs": [
    {
     "data": {
      "text/html": [
       "<div>\n",
       "<style scoped>\n",
       "    .dataframe tbody tr th:only-of-type {\n",
       "        vertical-align: middle;\n",
       "    }\n",
       "\n",
       "    .dataframe tbody tr th {\n",
       "        vertical-align: top;\n",
       "    }\n",
       "\n",
       "    .dataframe thead th {\n",
       "        text-align: right;\n",
       "    }\n",
       "</style>\n",
       "<table border=\"1\" class=\"dataframe\">\n",
       "  <thead>\n",
       "    <tr style=\"text-align: right;\">\n",
       "      <th></th>\n",
       "      <th>tide_elev</th>\n",
       "      <th>land_elev</th>\n",
       "    </tr>\n",
       "  </thead>\n",
       "  <tbody>\n",
       "    <tr>\n",
       "      <th>0</th>\n",
       "      <td>-0.863023</td>\n",
       "      <td>1.1500</td>\n",
       "    </tr>\n",
       "    <tr>\n",
       "      <th>1</th>\n",
       "      <td>-0.863186</td>\n",
       "      <td>1.1500</td>\n",
       "    </tr>\n",
       "    <tr>\n",
       "      <th>2</th>\n",
       "      <td>-0.863348</td>\n",
       "      <td>1.1500</td>\n",
       "    </tr>\n",
       "    <tr>\n",
       "      <th>3</th>\n",
       "      <td>-0.863511</td>\n",
       "      <td>1.1500</td>\n",
       "    </tr>\n",
       "    <tr>\n",
       "      <th>4</th>\n",
       "      <td>-0.863674</td>\n",
       "      <td>1.1500</td>\n",
       "    </tr>\n",
       "    <tr>\n",
       "      <th>...</th>\n",
       "      <td>...</td>\n",
       "      <td>...</td>\n",
       "    </tr>\n",
       "    <tr>\n",
       "      <th>31535995</th>\n",
       "      <td>-1.359709</td>\n",
       "      <td>1.1428</td>\n",
       "    </tr>\n",
       "    <tr>\n",
       "      <th>31535996</th>\n",
       "      <td>-1.359471</td>\n",
       "      <td>1.1428</td>\n",
       "    </tr>\n",
       "    <tr>\n",
       "      <th>31535997</th>\n",
       "      <td>-1.359234</td>\n",
       "      <td>1.1428</td>\n",
       "    </tr>\n",
       "    <tr>\n",
       "      <th>31535998</th>\n",
       "      <td>-1.358997</td>\n",
       "      <td>1.1428</td>\n",
       "    </tr>\n",
       "    <tr>\n",
       "      <th>31535999</th>\n",
       "      <td>-1.358759</td>\n",
       "      <td>1.1428</td>\n",
       "    </tr>\n",
       "  </tbody>\n",
       "</table>\n",
       "<p>31536000 rows × 2 columns</p>\n",
       "</div>"
      ],
      "text/plain": [
       "          tide_elev  land_elev\n",
       "0         -0.863023     1.1500\n",
       "1         -0.863186     1.1500\n",
       "2         -0.863348     1.1500\n",
       "3         -0.863511     1.1500\n",
       "4         -0.863674     1.1500\n",
       "...             ...        ...\n",
       "31535995  -1.359709     1.1428\n",
       "31535996  -1.359471     1.1428\n",
       "31535997  -1.359234     1.1428\n",
       "31535998  -1.358997     1.1428\n",
       "31535999  -1.358759     1.1428\n",
       "\n",
       "[31536000 rows x 2 columns]"
      ]
     },
     "execution_count": 15,
     "metadata": {},
     "output_type": "execute_result"
    }
   ],
   "source": [
    "T.df."
   ]
  },
  {
   "cell_type": "code",
   "execution_count": 107,
   "metadata": {},
   "outputs": [
    {
     "name": "stdout",
     "output_type": "stream",
     "text": [
      "t1 is faster on average by 1.52e-04 s per inundation cycle.\n",
      "This amounts to ~0.03 s per year\n"
     ]
    }
   ],
   "source": [
    "import time\n",
    "from scipy.interpolate import InterpolatedUnivariateSpline\n",
    "i = 100000\n",
    "r = 1000\n",
    "rr = int(r / 2)\n",
    "arr = np.arange(i-rr,i+rr, 1)\n",
    "fun = InterpolatedUnivariateSpline(x=T.df.index.values, y=T.df.tide_elev.values)\n",
    "ts = np.empty(0)\n",
    "for t in range(0,10):\n",
    "    s = time.perf_counter()\n",
    "    fun(arr)\n",
    "    ts = np.append(ts, time.perf_counter() - s)\n",
    "t1 = np.mean(ts)\n",
    "ts = np.empty(0)\n",
    "for t in range(0,10):\n",
    "    s = time.perf_counter()\n",
    "    fun2 = InterpolatedUnivariateSpline(x=T.df.index.values[i-rr:i+rr], y=T.df.tide_elev.values[i-rr:i+rr])\n",
    "    fun2(arr)\n",
    "    ts = np.append(ts, time.perf_counter() - s)\n",
    "t2 = np.mean(ts)\n",
    "times = {'t1': t1, 't2': t2}\n",
    "diff = eval(max(times)) - eval(min(times))\n",
    "print(\"{} is faster on average by {:.2e} s per inundation cycle.\".format(min(times), diff))\n",
    "print(\"This amounts to ~{:.2f} s per year\".format(diff * 185))"
   ]
  },
  {
   "cell_type": "code",
   "execution_count": null,
   "metadata": {},
   "outputs": [],
   "source": [
    "from src import models\n",
    "\n",
    "sim = models.Simulation(\n",
    "    tide_ts=tides,\n",
    "    land_elev_init=1.15,\n",
    "    conc_init=0.0,\n",
    "    conc_bound=1.0,\n",
    "    grain_diam=3.5e-5,\n",
    "    grain_dens=2.65e3,\n",
    "    bulk_dens=900,\n",
    "    org_rate=2e-4,\n",
    "    comp_rate=-4e-3,\n",
    "    sub_rate=-3e-3,\n",
    "    slr=0.005,\n",
    "    solver_method=\"DOP853\",\n",
    "    runs=2,\n",
    "    min_depth=0.0015,\n",
    "    dense_output=False,\n",
    ")\n",
    "# sim.run_all()"
   ]
  },
  {
   "cell_type": "code",
   "execution_count": null,
   "metadata": {},
   "outputs": [],
   "source": [
    "sim.tides.df"
   ]
  },
  {
   "cell_type": "code",
   "execution_count": null,
   "metadata": {},
   "outputs": [],
   "source": [
    "sim.results.inundations[-1].pos_start"
   ]
  },
  {
   "cell_type": "code",
   "execution_count": null,
   "metadata": {},
   "outputs": [],
   "source": [
    "sim.tides.subset(start=0, end=10)"
   ]
  },
  {
   "cell_type": "code",
   "execution_count": null,
   "metadata": {},
   "outputs": [],
   "source": [
    "import time\n",
    "def aggrade_fd(times, tide_fun, init_land_elev, bound_conc, settle_rate, bulk_dens,):\n",
    "    start_time = time.perf_counter()\n",
    "    land_elev = np.array([init_land_elev, init_land_elev])\n",
    "    conc = np.array([0.0, 0.0])\n",
    "    depth = np.array([tide_fun(0) - init_land_elev])\n",
    "    status = 0\n",
    "    index = np.arange(0, len(times))\n",
    "    dt = times[1] - times[0]\n",
    "    for i in index[1:-1]:\n",
    "        t = times[i]\n",
    "        depth = np.append(depth, tide_fun(t) - land_elev[i])\n",
    "        if depth[i] < 0.0015:\n",
    "            conc = np.append(conc, 0.0)\n",
    "            land_elev = np.append(land_elev, land_elev[-1])\n",
    "            continue\n",
    "\n",
    "        if (depth[i] - depth[i-1]) > 0:\n",
    "            delta_conc = - settle_rate * conc[i] / depth[i] * dt - 1 / depth[i] * (conc[i] - bound_conc) * (depth[i] - depth[i-1])\n",
    "        elif (depth[i] - depth[i-1]) <= 0:\n",
    "            if status == 0:\n",
    "                slack = times[i]\n",
    "                status = 1\n",
    "            delta_conc = - settle_rate * conc[i] / depth[i] * dt\n",
    "            \n",
    "        if delta_conc < 0 and abs(delta_conc) > conc[i]:\n",
    "            print(\"Extracted too much\")\n",
    "            delta_conc = - conc[i]\n",
    "            \n",
    "        conc = np.append(conc, conc[i] + delta_conc)\n",
    "        delta_land_elev = settle_rate * conc[i] / bulk_dens * dt\n",
    "        land_elev = np.append(land_elev, land_elev[i] + delta_land_elev)\n",
    "        \n",
    "    depth = np.append(depth, tide_fun(i+1) - land_elev[i])\n",
    "    print(\"Aggradation:           {:.2e} m\".format(land_elev[-1] - land_elev[0]))\n",
    "    print(\"Degradation:           {:.2e} m\".format(0.0))\n",
    "    print(\"Elevation change:      {:.2e} m\".format(land_elev[-1] - land_elev[0]))\n",
    "    print(\"Final elevation:       {:.4f} m\".format(land_elev[-1]))\n",
    "    print(\"Runtime:               {}\".format(time.strftime(\"%H:%M:%S\", time.gmtime(time.perf_counter() - start_time))))\n",
    "\n",
    "    return slack, np.stack((times, depth, conc, land_elev))"
   ]
  },
  {
   "cell_type": "code",
   "execution_count": null,
   "metadata": {},
   "outputs": [],
   "source": []
  }
 ],
 "metadata": {
  "kernelspec": {
   "display_name": "Python 3",
   "language": "python",
   "name": "python3"
  },
  "language_info": {
   "codemirror_mode": {
    "name": "ipython",
    "version": 3
   },
   "file_extension": ".py",
   "mimetype": "text/x-python",
   "name": "python",
   "nbconvert_exporter": "python",
   "pygments_lexer": "ipython3",
   "version": "3.8.8"
  },
  "widgets": {
   "application/vnd.jupyter.widget-state+json": {
    "state": {},
    "version_major": 2,
    "version_minor": 0
   }
  }
 },
 "nbformat": 4,
 "nbformat_minor": 4
}
