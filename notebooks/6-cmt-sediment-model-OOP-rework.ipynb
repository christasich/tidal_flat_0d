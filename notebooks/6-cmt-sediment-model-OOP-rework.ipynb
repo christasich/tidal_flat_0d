{
 "cells": [
  {
   "cell_type": "markdown",
   "metadata": {
    "tags": []
   },
   "source": [
    "# Setup"
   ]
  },
  {
   "cell_type": "markdown",
   "metadata": {},
   "source": [
    " Import standard modules"
   ]
  },
  {
   "cell_type": "code",
   "execution_count": 1,
   "metadata": {},
   "outputs": [],
   "source": [
    "%load_ext autoreload\n",
    "%autoreload 2\n",
    "import os\n",
    "import sys\n",
    "import numpy as np\n",
    "import pandas as pd\n",
    "import time\n",
    "os.chdir('/home/chris/projects/tidal_flat_0d')"
   ]
  },
  {
   "cell_type": "code",
   "execution_count": 2,
   "metadata": {},
   "outputs": [],
   "source": [
    "from src import features, models\n",
    "from pyprojroot import here\n",
    "root = here()\n",
    "sys.path.append(str(root))\n",
    "wdir = root / \"data\" / \"interim\""
   ]
  },
  {
   "cell_type": "markdown",
   "metadata": {},
   "source": [
    "Import project modules from src folder"
   ]
  },
  {
   "cell_type": "code",
   "execution_count": 3,
   "metadata": {},
   "outputs": [],
   "source": [
    "tides = features.load_tide(wdir, \"tides.feather\")\n",
    "tides = tides - (np.mean(tides) + 0.6)\n",
    "# tides = tides.iloc[:int(len(tides) * 0.35)]"
   ]
  },
  {
   "cell_type": "code",
   "execution_count": 4,
   "metadata": {},
   "outputs": [
    {
     "name": "stderr",
     "output_type": "stream",
     "text": [
      "Progress: 185.0inundation [02:52,  1.07inundation/s]                   "
     ]
    },
    {
     "name": "stdout",
     "output_type": "stream",
     "text": [
      "----------------------------------------\n",
      "Starting elevation:        1.150      m\n",
      "Final elevation:           1.179      m\n",
      "Elevation change:          2.852     cm\n",
      "----------------------------------------\n",
      "Aggradation:               3.502     cm\n",
      "Degradation:              0.620      cm\n",
      "----------------------------------------\n",
      "Runtime:                      00:02:52\n"
     ]
    },
    {
     "name": "stderr",
     "output_type": "stream",
     "text": [
      "\n"
     ]
    }
   ],
   "source": [
    "from src import models\n",
    "import cProfile\n",
    "\n",
    "flat = models.TidalFlat(\n",
    "    tide_ts=tides,\n",
    "    land_elev_init=1.15,\n",
    "    conc_init=0.0,\n",
    "    conc_bound=1.0,\n",
    "    grain_diam=3.5e-5,\n",
    "    grain_dens=2.65e3,\n",
    "    bulk_dens=900,\n",
    "    org_rate=2e-4,\n",
    "    comp_rate=-4e-3,\n",
    "    sub_rate=-3e-3,\n",
    "    slr=0.005,\n",
    "    solver_method=\"DOP853\",\n",
    "    years=1,\n",
    "    dense_output=True,\n",
    ")\n",
    "cProfile.run(\"flat.simulate()\", \"flat_stats\")"
   ]
  },
  {
   "cell_type": "code",
   "execution_count": 17,
   "metadata": {},
   "outputs": [
    {
     "name": "stdout",
     "output_type": "stream",
     "text": [
      "Mon May 17 17:43:18 2021    flat_stats\n",
      "\n",
      "         16745060 function calls (16702327 primitive calls) in 172.773 seconds\n",
      "\n",
      "   Ordered by: cumulative time\n",
      "   List reduced from 1025 to 20 due to restriction <20>\n",
      "\n",
      "   ncalls  tottime  percall  cumtime  percall filename:lineno(function)\n",
      "    377/1    0.031    0.000  172.774  172.774 {built-in method builtins.exec}\n",
      "        1    0.000    0.000  172.774  172.774 <string>:1(<module>)\n",
      "        1    0.000    0.000  172.774  172.774 /home/chris/projects/tidal_flat_0d/src/models.py:656(simulate)\n",
      "        1    0.010    0.010  172.766  172.766 /home/chris/projects/tidal_flat_0d/src/models.py:615(run)\n",
      "      186    0.192    0.001  172.756    0.929 /home/chris/projects/tidal_flat_0d/src/models.py:601(step)\n",
      "740081/712261   93.375    0.000   96.928    0.000 {built-in method numpy.core._multiarray_umath.implement_array_function}\n",
      "   134302    0.172    0.000   92.374    0.001 <__array_function__ internals>:2(concatenate)\n",
      "      186    0.522    0.003   76.242    0.410 /home/chris/projects/tidal_flat_0d/src/models.py:524(update)\n",
      "      371    0.004    0.000   75.488    0.203 /opt/conda/lib/python3.8/site-packages/pandas/core/frame.py:7849(append)\n",
      "      371    0.003    0.000   75.480    0.203 /opt/conda/lib/python3.8/site-packages/pandas/core/reshape/concat.py:82(concat)\n",
      "      742    0.010    0.000   74.034    0.100 /opt/conda/lib/python3.8/site-packages/pandas/core/dtypes/concat.py:101(concat_compat)\n",
      "      371    0.012    0.000   56.570    0.152 /opt/conda/lib/python3.8/site-packages/pandas/core/reshape/concat.py:469(get_result)\n",
      "      186   17.019    0.092   56.536    0.304 /home/chris/projects/tidal_flat_0d/src/models.py:476(update)\n",
      "      371    0.010    0.000   56.478    0.152 /opt/conda/lib/python3.8/site-packages/pandas/core/internals/concat.py:35(concatenate_block_managers)\n",
      "      186    0.002    0.000   28.239    0.152 /opt/conda/lib/python3.8/site-packages/pandas/core/internals/concat.py:303(_concatenate_join_units)\n",
      "      185    0.007    0.000   25.287    0.137 /home/chris/projects/tidal_flat_0d/src/models.py:302(aggrade)\n",
      "      370    0.044    0.000   24.464    0.066 /opt/conda/lib/python3.8/site-packages/scipy/integrate/_ivp/ivp.py:156(solve_ivp)\n",
      "      371    0.127    0.000   22.575    0.061 /opt/conda/lib/python3.8/site-packages/pandas/core/frame.py:3147(__setitem__)\n",
      "      371    0.004    0.000   22.446    0.061 /opt/conda/lib/python3.8/site-packages/pandas/core/frame.py:3231(_set_item)\n",
      "     4449    0.013    0.000   22.435    0.005 /opt/conda/lib/python3.8/site-packages/pandas/core/generic.py:5467(__setattr__)\n",
      "\n",
      "\n"
     ]
    },
    {
     "data": {
      "text/plain": [
       "<pstats.Stats at 0x7f03d1d062b0>"
      ]
     },
     "execution_count": 17,
     "metadata": {},
     "output_type": "execute_result"
    }
   ],
   "source": [
    "import pstats\n",
    "from pstats import SortKey\n",
    "p = pstats.Stats('flat_stats')\n",
    "p.sort_stats(SortKey.CUMULATIVE).print_stats(20)"
   ]
  },
  {
   "cell_type": "code",
   "execution_count": null,
   "metadata": {},
   "outputs": [],
   "source": []
  }
 ],
 "metadata": {
  "kernelspec": {
   "display_name": "Python 3",
   "language": "python",
   "name": "python3"
  },
  "language_info": {
   "codemirror_mode": {
    "name": "ipython",
    "version": 3
   },
   "file_extension": ".py",
   "mimetype": "text/x-python",
   "name": "python",
   "nbconvert_exporter": "python",
   "pygments_lexer": "ipython3",
   "version": "3.8.8"
  },
  "widgets": {
   "application/vnd.jupyter.widget-state+json": {
    "state": {},
    "version_major": 2,
    "version_minor": 0
   }
  }
 },
 "nbformat": 4,
 "nbformat_minor": 4
}
