{
 "cells": [
  {
   "cell_type": "markdown",
   "metadata": {
    "tags": []
   },
   "source": [
    "# Setup"
   ]
  },
  {
   "cell_type": "markdown",
   "metadata": {},
   "source": [
    " Import standard modules"
   ]
  },
  {
   "cell_type": "code",
   "execution_count": 1,
   "metadata": {},
   "outputs": [],
   "source": [
    "%load_ext autoreload\n",
    "%autoreload 2\n",
    "import sys\n",
    "import numpy as np\n",
    "import pandas as pd\n",
    "from matplotlib import pyplot as plt\n",
    "from scipy.interpolate import InterpolatedUnivariateSpline\n",
    "import scipy\n",
    "from time import perf_counter"
   ]
  },
  {
   "cell_type": "markdown",
   "metadata": {},
   "source": [
    "Find project root, append to path, and define wdir for data"
   ]
  },
  {
   "cell_type": "code",
   "execution_count": 2,
   "metadata": {},
   "outputs": [],
   "source": [
    "import os\n",
    "os.chdir('/home/chris/projects/tidal_flat_0d')"
   ]
  },
  {
   "cell_type": "code",
   "execution_count": 3,
   "metadata": {},
   "outputs": [],
   "source": [
    "from pyprojroot import here\n",
    "root = here()\n",
    "sys.path.append(str(root))\n",
    "wdir = root / \"data\" / \"interim\""
   ]
  },
  {
   "cell_type": "markdown",
   "metadata": {},
   "source": [
    "Import project modules from src folder"
   ]
  },
  {
   "cell_type": "code",
   "execution_count": 4,
   "metadata": {},
   "outputs": [],
   "source": [
    "from src import features"
   ]
  },
  {
   "cell_type": "code",
   "execution_count": 149,
   "metadata": {},
   "outputs": [],
   "source": [
    "tides = features.load_tide(wdir, \"tides.feather\")\n",
    "tides = tides - (np.mean(tides) + 0.6)\n",
    "# tides = tides[0:86400*28]"
   ]
  },
  {
   "cell_type": "code",
   "execution_count": 150,
   "metadata": {},
   "outputs": [],
   "source": [
    "tide_elev = tides.values\n",
    "init_land_elev = 1.0\n",
    "index = np.arange(0, len(tides))\n",
    "init_conc = 0.0\n",
    "bound_conc = 1.0\n",
    "grain_dia = 3.5e-5\n",
    "grain_dens = 2.65e3\n",
    "bulk_dens = 900\n",
    "org_rate = 2e-4\n",
    "comp_rate = 4e-3\n",
    "sub_rate = 3e-3\n",
    "slr = 0.0\n",
    "method = \"RK45\"\n",
    "runs = 1"
   ]
  },
  {
   "cell_type": "code",
   "execution_count": 151,
   "metadata": {},
   "outputs": [
    {
     "name": "stdout",
     "output_type": "stream",
     "text": [
      "Aggradation:           6.85e-02 m\n",
      "Degradation:           -6.69e-03 m\n",
      "Elevation change:      6.23e-02 m\n",
      "Final elevation:       1.0623 m\n",
      "Runtime:               00:04:54\n"
     ]
    }
   ],
   "source": [
    "from src import models\n",
    "runs = 1\n",
    "slr = 0\n",
    "\n",
    "sim = models.Simulation(\n",
    "    tide_elev=tide_elev,\n",
    "    init_land_elev=init_land_elev,\n",
    "    index=index,\n",
    "    init_conc=init_conc,\n",
    "    bound_conc=bound_conc,\n",
    "    grain_dia=grain_dia,\n",
    "    grain_dens=grain_dens,\n",
    "    bulk_dens=bulk_dens,\n",
    "    org_rate=org_rate,\n",
    "    comp_rate=comp_rate,\n",
    "    sub_rate=sub_rate,\n",
    "    slr=slr,\n",
    "    runs=runs,\n",
    ")\n",
    "sim.simulate()"
   ]
  },
  {
   "cell_type": "code",
   "execution_count": 172,
   "metadata": {},
   "outputs": [
    {
     "data": {
      "image/png": "[encoded data removed]",
      "text/plain": [
       "<Figure size 432x288 with 1 Axes>"
      ]
     },
     "metadata": {},
     "output_type": "display_data"
    }
   ],
   "source": [
    "sim.results.plot(frac=0.01)"
   ]
  },
  {
   "cell_type": "code",
   "execution_count": null,
   "metadata": {},
   "outputs": [],
   "source": [
    "def aggrade_rk(t, y, limb, dZdt_func, bound_conc, settle_rate, bulk_dens):\n",
    "\n",
    "    # set values for concentration and elevation\n",
    "    tide_elev = y[0]\n",
    "    conc = y[1]\n",
    "    land_elev = y[2]\n",
    "\n",
    "    # use spline function for tide height to set current water_height\n",
    "    depth = tide_elev - land_elev  # calculate current depth\n",
    "\n",
    "    # use derivative of tide spline to get current gradient and set H\n",
    "    dZdt = dZdt_func(t)\n",
    "\n",
    "    if limb=='flood':\n",
    "        dCdt = - (settle_rate * conc) / depth - 1 / depth * (conc - bound_conc) * dZdt\n",
    "    elif limb=='ebb':\n",
    "        dCdt = - (settle_rate * conc) / depth\n",
    "\n",
    "    dEdt = settle_rate * conc / bulk_dens\n",
    "\n",
    "    return [dZdt, dCdt, dEdt]\n",
    "\n",
    "def aggrade_fd(index, tide_elev, init_land_elev, bound_conc, settle_rate, bulk_dens,):\n",
    "    land_elev = np.array([init_land_elev])\n",
    "    conc = np.array([0])\n",
    "    depth = np.array([0.0001])\n",
    "    for i in index:\n",
    "        depth = np.append(depth, tide_elev[i] - land_elev[i])\n",
    "        delta_conc = - settle_rate * conc[i] / depth[i] - 1 / depth[i] * (conc[i] - bound_conc) * (depth[i] - depth[i-1])\n",
    "        conc = np.append(conc, conc[i-1] + delta_conc)\n",
    "        delta_land_elev = settle_rate * conc[i] / bulk_dens\n",
    "        land_elev = np.append(land_elev, land_elev[i-1] + delta_land_elev)\n",
    "        \n",
    "    return np.stack((depth, conc, land_elev))\n",
    "\n",
    "inundation = sim.inundations[0]\n",
    "limb = 'flood'\n",
    "dZdt_func = inundation.tide_spline_deriv\n",
    "bound_conc = inundation.bound_conc\n",
    "settle_rate = inundation.settle_rate\n",
    "bulk_dens = inundation.bulk_dens\n",
    "start = inundation.start\n",
    "slack = inundation.slack_time\n",
    "end = inundation.end\n",
    "tide_elev_start = inundation.tide_elev[0]\n",
    "tide_elev = inundation.tide_elev\n",
    "init_land_elev = inundation.init_land_elev"
   ]
  },
  {
   "cell_type": "code",
   "execution_count": null,
   "metadata": {},
   "outputs": [],
   "source": []
  }
 ],
 "metadata": {
  "kernelspec": {
   "display_name": "Python 3",
   "language": "python",
   "name": "python3"
  },
  "language_info": {
   "codemirror_mode": {
    "name": "ipython",
    "version": 3
   },
   "file_extension": ".py",
   "mimetype": "text/x-python",
   "name": "python",
   "nbconvert_exporter": "python",
   "pygments_lexer": "ipython3",
   "version": "3.8.8"
  },
  "widgets": {
   "application/vnd.jupyter.widget-state+json": {
    "state": {},
    "version_major": 2,
    "version_minor": 0
   }
  }
 },
 "nbformat": 4,
 "nbformat_minor": 4
}
