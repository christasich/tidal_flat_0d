{
 "cells": [
  {
   "cell_type": "markdown",
   "metadata": {
    "tags": []
   },
   "source": [
    "# Setup"
   ]
  },
  {
   "cell_type": "markdown",
   "metadata": {},
   "source": [
    " Import standard modules"
   ]
  },
  {
   "cell_type": "code",
   "execution_count": 1,
   "metadata": {},
   "outputs": [],
   "source": [
    "%load_ext autoreload\n",
    "%autoreload 2\n",
    "import os\n",
    "import sys\n",
    "import numpy as np\n",
    "import pandas as pd\n",
    "import time\n",
    "from tqdm import tqdm\n",
    "from matplotlib import pyplot as plt\n",
    "from scipy.interpolate import InterpolatedUnivariateSpline\n",
    "from scipy.optimize import brentq\n",
    "os.chdir('/home/chris/projects/tidal_flat_0d')"
   ]
  },
  {
   "cell_type": "code",
   "execution_count": 2,
   "metadata": {},
   "outputs": [],
   "source": [
    "from src import features, models\n",
    "from pyprojroot import here\n",
    "root = here()\n",
    "sys.path.append(str(root))\n",
    "wdir = root / \"data\" / \"interim\"\n",
    "minute = 60\n",
    "hour = minute * 60\n",
    "day = hour * 24\n",
    "week = day * 7\n",
    "month = day * 30\n",
    "year = day * 365"
   ]
  },
  {
   "cell_type": "markdown",
   "metadata": {},
   "source": [
    "Import project modules from src folder"
   ]
  },
  {
   "cell_type": "code",
   "execution_count": 5,
   "metadata": {},
   "outputs": [],
   "source": [
    "tides = features.load_tide(wdir, \"tides.feather\")\n",
    "tides = tides - (np.mean(tides) + 0.6)\n",
    "vals = np.empty(0)\n",
    "for i in range(0,2):\n",
    "    vals = np.append(vals, tides.values + 0.005 * i)\n",
    "ts = pd.Series(vals)\n",
    "sub = pd.Series(tides.values)"
   ]
  },
  {
   "cell_type": "code",
   "execution_count": 41,
   "metadata": {},
   "outputs": [
    {
     "name": "stderr",
     "output_type": "stream",
     "text": [
      "Progress:  96%|█████████▌| 698/730 [16:43<00:46,  1.44s/day]\n",
      "Progress: 100%|██████████| 730/730 [00:50<00:00, 14.33day/s]\n"
     ]
    }
   ],
   "source": [
    "from src import models2\n",
    "tf = models2.TidalFlat(\n",
    "    tide_ts=ts,\n",
    "    land_elev_init=1.15,\n",
    "    conc_bound=0.9,\n",
    "    grain_diam=3.5e-5,\n",
    "    grain_dens=2.65e3,\n",
    "    bulk_dens=900,\n",
    "    org_rate_yr=2e-4,\n",
    "    comp_rate_yr=4e-3,\n",
    "    sub_rate_yr=3e-3,\n",
    "    slr_yr=0.005,\n",
    ")\n",
    "tf.run()"
   ]
  },
  {
   "cell_type": "code",
   "execution_count": 37,
   "metadata": {},
   "outputs": [
    {
     "data": {
      "text/plain": [
       "array([1.19746857, 1.19746857, 1.19746857, 1.19746857, 1.19746857,\n",
       "       1.19746857, 1.19746857, 1.19746857, 1.19746857, 1.19746857,\n",
       "       1.19746857, 1.19746857, 1.19746857, 1.19746857, 1.19746857,\n",
       "       1.19746857, 1.19746857, 1.19746857, 1.19746857, 1.19746857,\n",
       "       1.19746857, 1.19746857, 1.19746857, 1.19746857, 1.19746857,\n",
       "       1.19746857, 1.19746857, 1.19746857, 1.19746858, 1.19746858,\n",
       "       1.19746858, 1.19746858, 1.19746858, 1.19746858, 1.19746858,\n",
       "       1.19746858, 1.19746858, 1.19746858, 1.19746858, 1.19746859,\n",
       "       1.19746859, 1.19746859, 1.19746859, 1.19746859, 1.19746859,\n",
       "       1.19746859, 1.1974686 , 1.1974686 , 1.1974686 , 1.1974686 ,\n",
       "       1.1974686 , 1.19746861, 1.19746861, 1.19746861, 1.19746861,\n",
       "       1.19746862, 1.19746862, 1.19746862, 1.19746863, 1.19746863,\n",
       "       1.19746864, 1.19746864, 1.19746864, 1.19746865, 1.19746865,\n",
       "       1.19746866, 1.19746866, 1.19746867, 1.19746868, 1.19746868,\n",
       "       1.19746869, 1.1974687 , 1.1974687 , 1.19746871, 1.19746872,\n",
       "       1.19746873, 1.19746874, 1.19746875, 1.19746876, 1.19746877,\n",
       "       1.19746878, 1.19746879, 1.1974688 , 1.19746882, 1.19746883,\n",
       "       1.19746885, 1.19746886, 1.19746888, 1.1974689 , 1.19746891,\n",
       "       1.19746893, 1.19746895, 1.19746898, 1.197469  , 1.19746902,\n",
       "       1.19746905, 1.19746907, 1.1974691 , 1.19746913, 1.19746916,\n",
       "       1.19746919, 1.19746922, 1.19746925, 1.19746929, 1.19746932,\n",
       "       1.19746936, 1.1974694 , 1.19746944, 1.19746949, 1.19746953,\n",
       "       1.19746958, 1.19746963, 1.19746968, 1.19746973, 1.19746978,\n",
       "       1.19746984, 1.1974699 , 1.19746996, 1.19747002, 1.19747008,\n",
       "       1.19747014, 1.19747021, 1.19747028, 1.19747034, 1.19747041,\n",
       "       1.19747048, 1.19747055, 1.19747062, 1.1974707 , 1.19747077,\n",
       "       1.19747084, 1.19747091, 1.19747099, 1.19747106, 1.19747112,\n",
       "       1.19747119, 1.19747126, 1.19747132, 1.19747139, 1.19747145,\n",
       "       1.19747151, 1.19747156, 1.19747161, 1.19747166, 1.1974717 ,\n",
       "       1.19747174, 1.19747177, 1.1974718 , 1.19747182, 1.19747184,\n",
       "       1.19747185, 1.19747186, 1.19747186, 1.19747186, 1.19747186,\n",
       "       1.19747186, 1.19747186, 1.19747185, 1.19747185, 1.19747185])"
      ]
     },
     "execution_count": 37,
     "metadata": {},
     "output_type": "execute_result"
    }
   ],
   "source": [
    "tf"
   ]
  },
  {
   "cell_type": "code",
   "execution_count": 42,
   "metadata": {},
   "outputs": [],
   "source": [
    "z = np.empty(0)\n",
    "t = np.empty(0)\n",
    "for i in tf.inundations:\n",
    "    t = np.append(t, i.pos_start)\n",
    "    z = np.append(z, i.land_elev_init)\n",
    "    t = np.append(t, i.pos_end)\n",
    "    z = np.append(z, i.result.y[2][-1])"
   ]
  },
  {
   "cell_type": "code",
   "execution_count": 43,
   "metadata": {},
   "outputs": [
    {
     "data": {
      "text/plain": [
       "[<matplotlib.lines.Line2D at 0x7f9cbab9a490>]"
      ]
     },
     "execution_count": 43,
     "metadata": {},
     "output_type": "execute_result"
    },
    {
     "data": {
      "image/png": "[encoded data removed]",
      "text/plain": [
       "<Figure size 432x288 with 1 Axes>"
      ]
     },
     "metadata": {},
     "output_type": "display_data"
    }
   ],
   "source": [
    "plt.plot(t, z)"
   ]
  },
  {
   "cell_type": "code",
   "execution_count": null,
   "metadata": {},
   "outputs": [],
   "source": []
  }
 ],
 "metadata": {
  "kernelspec": {
   "display_name": "Python 3",
   "language": "python",
   "name": "python3"
  },
  "language_info": {
   "codemirror_mode": {
    "name": "ipython",
    "version": 3
   },
   "file_extension": ".py",
   "mimetype": "text/x-python",
   "name": "python",
   "nbconvert_exporter": "python",
   "pygments_lexer": "ipython3",
   "version": "3.8.8"
  },
  "widgets": {
   "application/vnd.jupyter.widget-state+json": {
    "state": {},
    "version_major": 2,
    "version_minor": 0
   }
  }
 },
 "nbformat": 4,
 "nbformat_minor": 4
}
